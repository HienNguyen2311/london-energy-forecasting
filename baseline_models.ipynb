{
 "cells": [
  {
   "cell_type": "code",
   "execution_count": null,
   "id": "3146c980",
   "metadata": {},
   "outputs": [],
   "source": [
    "from src.utils import compact_to_expanded, imputation, format_plot\n",
    "from src.model_utils import plot_forecast, evaluate_performance, forecast_bias\n",
    "import os\n",
    "import numpy as np\n",
    "import pandas as pd\n",
    "from pathlib import Path\n",
    "from tqdm.auto import tqdm\n",
    "import plotly.express as px\n",
    "import plotly.io as pio\n",
    "pio.templates.default = \"plotly_white\"\n",
    "from sklearn.metrics import mean_absolute_error as mae\n",
    "from sklearn.metrics import root_mean_squared_error as rmse\n",
    "from sklearn.metrics import mean_squared_error as mse\n",
    "from pmdarima import model_selection\n",
    "from pmdarima import ARIMA as pm_ARIMA\n",
    "from sklearn.model_selection import ParameterGrid\n",
    "from statsforecast.models import (\n",
    "    HoltWinters,\n",
    "    AutoETS,\n",
    "    ARIMA\n",
    ")\n",
    "import random\n",
    "np.random.seed(42)\n",
    "random.seed(42)\n",
    "tqdm.pandas()"
   ]
  },
  {
   "cell_type": "code",
   "execution_count": null,
   "id": "860fbf5d",
   "metadata": {},
   "outputs": [
    {
     "name": "stdout",
     "output_type": "stream",
     "text": [
      "/home/hien/Work\n"
     ]
    }
   ],
   "source": [
    "%cd ../..\n",
    "project_folder = Path(\"AI/london_smart_meters\")\n",
    "source_data = project_folder/\"data\"\n",
    "preprocessed_data = project_folder/\"output\"/\"preprocessed_data\"\n",
    "dst_img = project_folder/\"output\"/\"img\"\n",
    "dst_result = project_folder/\"output\"/\"result\""
   ]
  },
  {
   "cell_type": "code",
   "execution_count": null,
   "id": "d5c5b15a",
   "metadata": {},
   "outputs": [],
   "source": [
    "lclid_acorn_map = pd.read_pickle(preprocessed_data/\"london_smart_meters_lclid_acorn_map.pkl\")"
   ]
  },
  {
   "cell_type": "code",
   "execution_count": 4,
   "id": "62147536",
   "metadata": {},
   "outputs": [
    {
     "name": "stdout",
     "output_type": "stream",
     "text": [
      "Index(['LCLid', 'file', 'Acorn_grouped'], dtype='object')\n"
     ]
    }
   ],
   "source": [
    "print(lclid_acorn_map.columns)"
   ]
  },
  {
   "cell_type": "code",
   "execution_count": 5,
   "id": "392e75fb",
   "metadata": {},
   "outputs": [
    {
     "name": "stdout",
     "output_type": "stream",
     "text": [
      "['Affluent' 'ACORN-' 'Adversity' 'ACORN-U' 'Comfortable']\n"
     ]
    }
   ],
   "source": [
    "print(lclid_acorn_map['Acorn_grouped'].unique())"
   ]
  },
  {
   "cell_type": "code",
   "execution_count": 6,
   "id": "3c649d18",
   "metadata": {},
   "outputs": [],
   "source": [
    "affluent_households = lclid_acorn_map.loc[lclid_acorn_map.Acorn_grouped==\"Affluent\", [\"LCLid\",'file']]\n",
    "acorn_households = lclid_acorn_map.loc[lclid_acorn_map.Acorn_grouped==\"ACORN-\", [\"LCLid\",'file']]\n",
    "adversity_households = lclid_acorn_map.loc[lclid_acorn_map.Acorn_grouped==\"Adversity\", [\"LCLid\",'file']]\n",
    "acornu_households = lclid_acorn_map.loc[lclid_acorn_map.Acorn_grouped==\"ACORN-U\", [\"LCLid\",'file']]\n",
    "comfortable_households = lclid_acorn_map.loc[lclid_acorn_map.Acorn_grouped==\"Comfortable\", [\"LCLid\",'file']]"
   ]
  },
  {
   "cell_type": "code",
   "execution_count": 7,
   "id": "f2080e54",
   "metadata": {},
   "outputs": [
    {
     "name": "stdout",
     "output_type": "stream",
     "text": [
      "2\n",
      "49\n"
     ]
    }
   ],
   "source": [
    "print(len(acorn_households))\n",
    "print(len(acornu_households))"
   ]
  },
  {
   "cell_type": "code",
   "execution_count": 8,
   "id": "c217ce2f",
   "metadata": {},
   "outputs": [],
   "source": [
    "selected_households = pd.concat(\n",
    "    [\n",
    "        affluent_households.sample(50, random_state=76),\n",
    "        comfortable_households.sample(50, random_state=76),\n",
    "        adversity_households.sample(50, random_state=76),\n",
    "        acorn_households.sample(len(acorn_households), random_state=76),\n",
    "        acornu_households.sample(len(acornu_households), random_state=76),\n",
    "    ]\n",
    ")\n",
    "selected_households['block']=selected_households.file.str.split(\"_\", expand=True).iloc[:,1].astype(int)\n"
   ]
  },
  {
   "cell_type": "code",
   "execution_count": 9,
   "id": "83110d75",
   "metadata": {},
   "outputs": [
    {
     "data": {
      "text/html": [
       "<div>\n",
       "<style scoped>\n",
       "    .dataframe tbody tr th:only-of-type {\n",
       "        vertical-align: middle;\n",
       "    }\n",
       "\n",
       "    .dataframe tbody tr th {\n",
       "        vertical-align: top;\n",
       "    }\n",
       "\n",
       "    .dataframe thead th {\n",
       "        text-align: right;\n",
       "    }\n",
       "</style>\n",
       "<table border=\"1\" class=\"dataframe\">\n",
       "  <thead>\n",
       "    <tr style=\"text-align: right;\">\n",
       "      <th></th>\n",
       "      <th>LCLid</th>\n",
       "      <th>file</th>\n",
       "      <th>block</th>\n",
       "    </tr>\n",
       "  </thead>\n",
       "  <tbody>\n",
       "    <tr>\n",
       "      <th>897</th>\n",
       "      <td>MAC005300</td>\n",
       "      <td>block_14</td>\n",
       "      <td>14</td>\n",
       "    </tr>\n",
       "    <tr>\n",
       "      <th>1108</th>\n",
       "      <td>MAC005521</td>\n",
       "      <td>block_18</td>\n",
       "      <td>18</td>\n",
       "    </tr>\n",
       "    <tr>\n",
       "      <th>1049</th>\n",
       "      <td>MAC001979</td>\n",
       "      <td>block_17</td>\n",
       "      <td>17</td>\n",
       "    </tr>\n",
       "    <tr>\n",
       "      <th>1596</th>\n",
       "      <td>MAC005220</td>\n",
       "      <td>block_27</td>\n",
       "      <td>27</td>\n",
       "    </tr>\n",
       "    <tr>\n",
       "      <th>1313</th>\n",
       "      <td>MAC004650</td>\n",
       "      <td>block_21</td>\n",
       "      <td>21</td>\n",
       "    </tr>\n",
       "    <tr>\n",
       "      <th>...</th>\n",
       "      <td>...</td>\n",
       "      <td>...</td>\n",
       "      <td>...</td>\n",
       "    </tr>\n",
       "    <tr>\n",
       "      <th>757</th>\n",
       "      <td>MAC003652</td>\n",
       "      <td>block_111</td>\n",
       "      <td>111</td>\n",
       "    </tr>\n",
       "    <tr>\n",
       "      <th>740</th>\n",
       "      <td>MAC004515</td>\n",
       "      <td>block_110</td>\n",
       "      <td>110</td>\n",
       "    </tr>\n",
       "    <tr>\n",
       "      <th>700</th>\n",
       "      <td>MAC000099</td>\n",
       "      <td>block_110</td>\n",
       "      <td>110</td>\n",
       "    </tr>\n",
       "    <tr>\n",
       "      <th>708</th>\n",
       "      <td>MAC002152</td>\n",
       "      <td>block_110</td>\n",
       "      <td>110</td>\n",
       "    </tr>\n",
       "    <tr>\n",
       "      <th>748</th>\n",
       "      <td>MAC000023</td>\n",
       "      <td>block_111</td>\n",
       "      <td>111</td>\n",
       "    </tr>\n",
       "  </tbody>\n",
       "</table>\n",
       "<p>201 rows × 3 columns</p>\n",
       "</div>"
      ],
      "text/plain": [
       "          LCLid       file  block\n",
       "897   MAC005300   block_14     14\n",
       "1108  MAC005521   block_18     18\n",
       "1049  MAC001979   block_17     17\n",
       "1596  MAC005220   block_27     27\n",
       "1313  MAC004650   block_21     21\n",
       "...         ...        ...    ...\n",
       "757   MAC003652  block_111    111\n",
       "740   MAC004515  block_110    110\n",
       "700   MAC000099  block_110    110\n",
       "708   MAC002152  block_110    110\n",
       "748   MAC000023  block_111    111\n",
       "\n",
       "[201 rows x 3 columns]"
      ]
     },
     "execution_count": 9,
     "metadata": {},
     "output_type": "execute_result"
    }
   ],
   "source": [
    "selected_households"
   ]
  },
  {
   "cell_type": "code",
   "execution_count": null,
   "id": "72d29124",
   "metadata": {},
   "outputs": [],
   "source": [
    "# extracting the paths to the different blocks and extracting the starting and ending blocks\n",
    "path_blocks = [\n",
    "    (p, *list(map(int, p.name.split(\"_\")[5].split(\".\")[0].split(\"-\"))))\n",
    "    for p in preprocessed_data.glob(\n",
    "        \"london_smart_meters_merged_block*\"\n",
    "    )\n",
    "]"
   ]
  },
  {
   "cell_type": "code",
   "execution_count": 11,
   "id": "9a0a9977",
   "metadata": {},
   "outputs": [
    {
     "name": "stderr",
     "output_type": "stream",
     "text": [
      "100%|██████████| 14/14 [00:11<00:00,  1.22it/s]\n"
     ]
    }
   ],
   "source": [
    "household_df_l = []\n",
    "for path, start_b, end_b in tqdm(path_blocks):\n",
    "    block_df = pd.read_parquet(path)\n",
    "    selected_households['block'].between\n",
    "    mask = selected_households['block'].between(start_b, end_b)\n",
    "    lclids = selected_households.loc[mask, \"LCLid\"]\n",
    "    household_df_l.append(block_df.loc[block_df.LCLid.isin(lclids)])\n"
   ]
  },
  {
   "cell_type": "code",
   "execution_count": 12,
   "id": "3eeb2f77",
   "metadata": {},
   "outputs": [
    {
     "data": {
      "text/html": [
       "<div>\n",
       "<style scoped>\n",
       "    .dataframe tbody tr th:only-of-type {\n",
       "        vertical-align: middle;\n",
       "    }\n",
       "\n",
       "    .dataframe tbody tr th {\n",
       "        vertical-align: top;\n",
       "    }\n",
       "\n",
       "    .dataframe thead th {\n",
       "        text-align: right;\n",
       "    }\n",
       "</style>\n",
       "<table border=\"1\" class=\"dataframe\">\n",
       "  <thead>\n",
       "    <tr style=\"text-align: right;\">\n",
       "      <th></th>\n",
       "      <th>LCLid</th>\n",
       "      <th>start_timestamp</th>\n",
       "      <th>frequency</th>\n",
       "      <th>energy_consumption</th>\n",
       "      <th>series_length</th>\n",
       "      <th>stdorToU</th>\n",
       "      <th>Acorn</th>\n",
       "      <th>Acorn_grouped</th>\n",
       "      <th>file</th>\n",
       "      <th>holidays</th>\n",
       "      <th>...</th>\n",
       "      <th>windBearing</th>\n",
       "      <th>temperature</th>\n",
       "      <th>dewPoint</th>\n",
       "      <th>pressure</th>\n",
       "      <th>apparentTemperature</th>\n",
       "      <th>windSpeed</th>\n",
       "      <th>precipType</th>\n",
       "      <th>icon</th>\n",
       "      <th>humidity</th>\n",
       "      <th>summary</th>\n",
       "    </tr>\n",
       "  </thead>\n",
       "  <tbody>\n",
       "    <tr>\n",
       "      <th>3199</th>\n",
       "      <td>MAC003069</td>\n",
       "      <td>2012-05-16</td>\n",
       "      <td>30min</td>\n",
       "      <td>[0.069, 0.0819999999999999, 0.093, 0.074, 0.07...</td>\n",
       "      <td>31344</td>\n",
       "      <td>ToU</td>\n",
       "      <td>ACORN-F</td>\n",
       "      <td>Comfortable</td>\n",
       "      <td>block_56</td>\n",
       "      <td>[NO_HOLIDAY, NO_HOLIDAY, NO_HOLIDAY, NO_HOLIDA...</td>\n",
       "      <td>...</td>\n",
       "      <td>[284, 284, 285, 285, 277, 277, 277, 277, 277, ...</td>\n",
       "      <td>[6.33, 6.33, 5.19, 5.19, 4.7, 4.7, 3.89, 3.89,...</td>\n",
       "      <td>[3.08, 3.08, 2.64, 2.64, 2.93, 2.93, 2.93, 2.9...</td>\n",
       "      <td>[1023.94, 1023.94, 1024.23, 1024.23, 1024.33, ...</td>\n",
       "      <td>[4.23, 4.23, 2.84, 2.84, 2.27, 2.27, 1.41, 1.4...</td>\n",
       "      <td>[2.83, 2.83, 2.85, 2.85, 2.83, 2.83, 2.7, 2.7,...</td>\n",
       "      <td>[rain, rain, rain, rain, rain, rain, rain, rai...</td>\n",
       "      <td>[clear-night, clear-night, clear-night, clear-...</td>\n",
       "      <td>[0.8, 0.8, 0.84, 0.84, 0.88, 0.88, 0.93, 0.93,...</td>\n",
       "      <td>[Clear, Clear, Clear, Clear, Clear, Clear, Cle...</td>\n",
       "    </tr>\n",
       "    <tr>\n",
       "      <th>3246</th>\n",
       "      <td>MAC002220</td>\n",
       "      <td>2012-06-30</td>\n",
       "      <td>30min</td>\n",
       "      <td>[0.093, 0.077, 0.1009999999999999, 0.084, 0.03...</td>\n",
       "      <td>29184</td>\n",
       "      <td>Std</td>\n",
       "      <td>ACORN-G</td>\n",
       "      <td>Comfortable</td>\n",
       "      <td>block_57</td>\n",
       "      <td>[NO_HOLIDAY, NO_HOLIDAY, NO_HOLIDAY, NO_HOLIDA...</td>\n",
       "      <td>...</td>\n",
       "      <td>[205, 205, 202, 202, 204, 204, 199, 199, 198, ...</td>\n",
       "      <td>[16.19, 16.19, 16.13, 16.13, 15.68, 15.68, 15....</td>\n",
       "      <td>[13.18, 13.18, 13.28, 13.28, 13.36, 13.36, 13....</td>\n",
       "      <td>[1006.92, 1006.92, 1006.65, 1006.65, 1006.57, ...</td>\n",
       "      <td>[16.19, 16.19, 16.13, 16.13, 15.68, 15.68, 15....</td>\n",
       "      <td>[4.24, 4.24, 4.18, 4.18, 3.88, 3.88, 4.09, 4.0...</td>\n",
       "      <td>[rain, rain, rain, rain, rain, rain, rain, rai...</td>\n",
       "      <td>[partly-cloudy-night, partly-cloudy-night, par...</td>\n",
       "      <td>[0.82, 0.82, 0.83, 0.83, 0.86, 0.86, 0.9, 0.9,...</td>\n",
       "      <td>[Partly Cloudy, Partly Cloudy, Mostly Cloudy, ...</td>\n",
       "    </tr>\n",
       "    <tr>\n",
       "      <th>3262</th>\n",
       "      <td>MAC004338</td>\n",
       "      <td>2012-03-16</td>\n",
       "      <td>30min</td>\n",
       "      <td>[0.043, 0.034, 0.031, 0.038, 0.042, 0.04, 0.02...</td>\n",
       "      <td>34272</td>\n",
       "      <td>Std</td>\n",
       "      <td>ACORN-G</td>\n",
       "      <td>Comfortable</td>\n",
       "      <td>block_57</td>\n",
       "      <td>[NO_HOLIDAY, NO_HOLIDAY, NO_HOLIDAY, NO_HOLIDA...</td>\n",
       "      <td>...</td>\n",
       "      <td>[257, 257, 255, 255, 254, 254, 253, 253, 252, ...</td>\n",
       "      <td>[9.19, 9.19, 8.71, 8.71, 8.64, 8.64, 8.59, 8.5...</td>\n",
       "      <td>[5.71, 5.71, 5.08, 5.08, 5.33, 5.33, 5.01, 5.0...</td>\n",
       "      <td>[1022.39, 1022.39, 1022.22, 1022.22, 1021.82, ...</td>\n",
       "      <td>[7.16, 7.16, 6.39, 6.39, 6.33, 6.33, 6.48, 6.4...</td>\n",
       "      <td>[3.7, 3.7, 4.07, 4.07, 4.02, 4.02, 3.6, 3.6, 3...</td>\n",
       "      <td>[rain, rain, rain, rain, rain, rain, rain, rai...</td>\n",
       "      <td>[partly-cloudy-night, partly-cloudy-night, clo...</td>\n",
       "      <td>[0.79, 0.79, 0.78, 0.78, 0.8, 0.8, 0.78, 0.78,...</td>\n",
       "      <td>[Mostly Cloudy, Mostly Cloudy, Overcast, Overc...</td>\n",
       "    </tr>\n",
       "    <tr>\n",
       "      <th>3280</th>\n",
       "      <td>MAC001807</td>\n",
       "      <td>2012-06-07</td>\n",
       "      <td>30min</td>\n",
       "      <td>[0.047, 0.133, 0.032, 0.156, 0.034, 0.126, 0.0...</td>\n",
       "      <td>30288</td>\n",
       "      <td>Std</td>\n",
       "      <td>ACORN-G</td>\n",
       "      <td>Comfortable</td>\n",
       "      <td>block_58</td>\n",
       "      <td>[NO_HOLIDAY, NO_HOLIDAY, NO_HOLIDAY, NO_HOLIDA...</td>\n",
       "      <td>...</td>\n",
       "      <td>[213, 213, 195, 195, 182, 182, 167, 167, 164, ...</td>\n",
       "      <td>[12.61, 12.61, 12.6, 12.6, 12.98, 12.98, 12.99...</td>\n",
       "      <td>[11.1, 11.1, 11.14, 11.14, 11.65, 11.65, 12.09...</td>\n",
       "      <td>[1003.35, 1003.35, 1002.78, 1002.78, 1002.47, ...</td>\n",
       "      <td>[12.61, 12.61, 12.6, 12.6, 12.98, 12.98, 12.99...</td>\n",
       "      <td>[3.19, 3.19, 2.34, 2.34, 2.34, 2.34, 2.66, 2.6...</td>\n",
       "      <td>[rain, rain, rain, rain, rain, rain, rain, rai...</td>\n",
       "      <td>[partly-cloudy-night, partly-cloudy-night, cle...</td>\n",
       "      <td>[0.91, 0.91, 0.91, 0.91, 0.92, 0.92, 0.94, 0.9...</td>\n",
       "      <td>[Partly Cloudy, Partly Cloudy, Clear, Clear, P...</td>\n",
       "    </tr>\n",
       "    <tr>\n",
       "      <th>3285</th>\n",
       "      <td>MAC001985</td>\n",
       "      <td>2012-06-13</td>\n",
       "      <td>30min</td>\n",
       "      <td>[0.055, 0.048, 0.021, 0.015, 0.026, 0.00699999...</td>\n",
       "      <td>30000</td>\n",
       "      <td>Std</td>\n",
       "      <td>ACORN-G</td>\n",
       "      <td>Comfortable</td>\n",
       "      <td>block_58</td>\n",
       "      <td>[NO_HOLIDAY, NO_HOLIDAY, NO_HOLIDAY, NO_HOLIDA...</td>\n",
       "      <td>...</td>\n",
       "      <td>[349, 349, 9, 9, 2, 2, 25, 25, 20, 20, 31, 31,...</td>\n",
       "      <td>[10.07, 10.07, 9.13, 9.13, 8.4, 8.4, 7.75, 7.7...</td>\n",
       "      <td>[6.76, 6.76, 6.72, 6.72, 6.79, 6.79, 6.34, 6.3...</td>\n",
       "      <td>[1014.57, 1014.57, 1014.56, 1014.56, 1014.74, ...</td>\n",
       "      <td>[10.07, 10.07, 9.13, 9.13, 8.4, 8.4, 7.75, 7.7...</td>\n",
       "      <td>[0.84, 0.84, 1.15, 1.15, 0.59, 0.59, 0.79, 0.7...</td>\n",
       "      <td>[rain, rain, rain, rain, rain, rain, rain, rai...</td>\n",
       "      <td>[partly-cloudy-night, partly-cloudy-night, cle...</td>\n",
       "      <td>[0.8, 0.8, 0.85, 0.85, 0.9, 0.9, 0.91, 0.91, 0...</td>\n",
       "      <td>[Partly Cloudy, Partly Cloudy, Clear, Clear, C...</td>\n",
       "    </tr>\n",
       "  </tbody>\n",
       "</table>\n",
       "<p>5 rows × 21 columns</p>\n",
       "</div>"
      ],
      "text/plain": [
       "          LCLid start_timestamp frequency  \\\n",
       "3199  MAC003069      2012-05-16     30min   \n",
       "3246  MAC002220      2012-06-30     30min   \n",
       "3262  MAC004338      2012-03-16     30min   \n",
       "3280  MAC001807      2012-06-07     30min   \n",
       "3285  MAC001985      2012-06-13     30min   \n",
       "\n",
       "                                     energy_consumption  series_length  \\\n",
       "3199  [0.069, 0.0819999999999999, 0.093, 0.074, 0.07...          31344   \n",
       "3246  [0.093, 0.077, 0.1009999999999999, 0.084, 0.03...          29184   \n",
       "3262  [0.043, 0.034, 0.031, 0.038, 0.042, 0.04, 0.02...          34272   \n",
       "3280  [0.047, 0.133, 0.032, 0.156, 0.034, 0.126, 0.0...          30288   \n",
       "3285  [0.055, 0.048, 0.021, 0.015, 0.026, 0.00699999...          30000   \n",
       "\n",
       "     stdorToU    Acorn Acorn_grouped      file  \\\n",
       "3199      ToU  ACORN-F   Comfortable  block_56   \n",
       "3246      Std  ACORN-G   Comfortable  block_57   \n",
       "3262      Std  ACORN-G   Comfortable  block_57   \n",
       "3280      Std  ACORN-G   Comfortable  block_58   \n",
       "3285      Std  ACORN-G   Comfortable  block_58   \n",
       "\n",
       "                                               holidays  ...  \\\n",
       "3199  [NO_HOLIDAY, NO_HOLIDAY, NO_HOLIDAY, NO_HOLIDA...  ...   \n",
       "3246  [NO_HOLIDAY, NO_HOLIDAY, NO_HOLIDAY, NO_HOLIDA...  ...   \n",
       "3262  [NO_HOLIDAY, NO_HOLIDAY, NO_HOLIDAY, NO_HOLIDA...  ...   \n",
       "3280  [NO_HOLIDAY, NO_HOLIDAY, NO_HOLIDAY, NO_HOLIDA...  ...   \n",
       "3285  [NO_HOLIDAY, NO_HOLIDAY, NO_HOLIDAY, NO_HOLIDA...  ...   \n",
       "\n",
       "                                            windBearing  \\\n",
       "3199  [284, 284, 285, 285, 277, 277, 277, 277, 277, ...   \n",
       "3246  [205, 205, 202, 202, 204, 204, 199, 199, 198, ...   \n",
       "3262  [257, 257, 255, 255, 254, 254, 253, 253, 252, ...   \n",
       "3280  [213, 213, 195, 195, 182, 182, 167, 167, 164, ...   \n",
       "3285  [349, 349, 9, 9, 2, 2, 25, 25, 20, 20, 31, 31,...   \n",
       "\n",
       "                                            temperature  \\\n",
       "3199  [6.33, 6.33, 5.19, 5.19, 4.7, 4.7, 3.89, 3.89,...   \n",
       "3246  [16.19, 16.19, 16.13, 16.13, 15.68, 15.68, 15....   \n",
       "3262  [9.19, 9.19, 8.71, 8.71, 8.64, 8.64, 8.59, 8.5...   \n",
       "3280  [12.61, 12.61, 12.6, 12.6, 12.98, 12.98, 12.99...   \n",
       "3285  [10.07, 10.07, 9.13, 9.13, 8.4, 8.4, 7.75, 7.7...   \n",
       "\n",
       "                                               dewPoint  \\\n",
       "3199  [3.08, 3.08, 2.64, 2.64, 2.93, 2.93, 2.93, 2.9...   \n",
       "3246  [13.18, 13.18, 13.28, 13.28, 13.36, 13.36, 13....   \n",
       "3262  [5.71, 5.71, 5.08, 5.08, 5.33, 5.33, 5.01, 5.0...   \n",
       "3280  [11.1, 11.1, 11.14, 11.14, 11.65, 11.65, 12.09...   \n",
       "3285  [6.76, 6.76, 6.72, 6.72, 6.79, 6.79, 6.34, 6.3...   \n",
       "\n",
       "                                               pressure  \\\n",
       "3199  [1023.94, 1023.94, 1024.23, 1024.23, 1024.33, ...   \n",
       "3246  [1006.92, 1006.92, 1006.65, 1006.65, 1006.57, ...   \n",
       "3262  [1022.39, 1022.39, 1022.22, 1022.22, 1021.82, ...   \n",
       "3280  [1003.35, 1003.35, 1002.78, 1002.78, 1002.47, ...   \n",
       "3285  [1014.57, 1014.57, 1014.56, 1014.56, 1014.74, ...   \n",
       "\n",
       "                                    apparentTemperature  \\\n",
       "3199  [4.23, 4.23, 2.84, 2.84, 2.27, 2.27, 1.41, 1.4...   \n",
       "3246  [16.19, 16.19, 16.13, 16.13, 15.68, 15.68, 15....   \n",
       "3262  [7.16, 7.16, 6.39, 6.39, 6.33, 6.33, 6.48, 6.4...   \n",
       "3280  [12.61, 12.61, 12.6, 12.6, 12.98, 12.98, 12.99...   \n",
       "3285  [10.07, 10.07, 9.13, 9.13, 8.4, 8.4, 7.75, 7.7...   \n",
       "\n",
       "                                              windSpeed  \\\n",
       "3199  [2.83, 2.83, 2.85, 2.85, 2.83, 2.83, 2.7, 2.7,...   \n",
       "3246  [4.24, 4.24, 4.18, 4.18, 3.88, 3.88, 4.09, 4.0...   \n",
       "3262  [3.7, 3.7, 4.07, 4.07, 4.02, 4.02, 3.6, 3.6, 3...   \n",
       "3280  [3.19, 3.19, 2.34, 2.34, 2.34, 2.34, 2.66, 2.6...   \n",
       "3285  [0.84, 0.84, 1.15, 1.15, 0.59, 0.59, 0.79, 0.7...   \n",
       "\n",
       "                                             precipType  \\\n",
       "3199  [rain, rain, rain, rain, rain, rain, rain, rai...   \n",
       "3246  [rain, rain, rain, rain, rain, rain, rain, rai...   \n",
       "3262  [rain, rain, rain, rain, rain, rain, rain, rai...   \n",
       "3280  [rain, rain, rain, rain, rain, rain, rain, rai...   \n",
       "3285  [rain, rain, rain, rain, rain, rain, rain, rai...   \n",
       "\n",
       "                                                   icon  \\\n",
       "3199  [clear-night, clear-night, clear-night, clear-...   \n",
       "3246  [partly-cloudy-night, partly-cloudy-night, par...   \n",
       "3262  [partly-cloudy-night, partly-cloudy-night, clo...   \n",
       "3280  [partly-cloudy-night, partly-cloudy-night, cle...   \n",
       "3285  [partly-cloudy-night, partly-cloudy-night, cle...   \n",
       "\n",
       "                                               humidity  \\\n",
       "3199  [0.8, 0.8, 0.84, 0.84, 0.88, 0.88, 0.93, 0.93,...   \n",
       "3246  [0.82, 0.82, 0.83, 0.83, 0.86, 0.86, 0.9, 0.9,...   \n",
       "3262  [0.79, 0.79, 0.78, 0.78, 0.8, 0.8, 0.78, 0.78,...   \n",
       "3280  [0.91, 0.91, 0.91, 0.91, 0.92, 0.92, 0.94, 0.9...   \n",
       "3285  [0.8, 0.8, 0.85, 0.85, 0.9, 0.9, 0.91, 0.91, 0...   \n",
       "\n",
       "                                                summary  \n",
       "3199  [Clear, Clear, Clear, Clear, Clear, Clear, Cle...  \n",
       "3246  [Partly Cloudy, Partly Cloudy, Mostly Cloudy, ...  \n",
       "3262  [Mostly Cloudy, Mostly Cloudy, Overcast, Overc...  \n",
       "3280  [Partly Cloudy, Partly Cloudy, Clear, Clear, P...  \n",
       "3285  [Partly Cloudy, Partly Cloudy, Clear, Clear, C...  \n",
       "\n",
       "[5 rows x 21 columns]"
      ]
     },
     "execution_count": 12,
     "metadata": {},
     "output_type": "execute_result"
    }
   ],
   "source": [
    "block_df = pd.concat(household_df_l)\n",
    "del household_df_l\n",
    "block_df.head()"
   ]
  },
  {
   "cell_type": "code",
   "execution_count": 13,
   "id": "8c44ec20",
   "metadata": {},
   "outputs": [
    {
     "name": "stderr",
     "output_type": "stream",
     "text": [
      "100%|██████████| 185/185 [00:00<00:00, 352.77it/s]\n"
     ]
    },
    {
     "data": {
      "text/html": [
       "<div>\n",
       "<style scoped>\n",
       "    .dataframe tbody tr th:only-of-type {\n",
       "        vertical-align: middle;\n",
       "    }\n",
       "\n",
       "    .dataframe tbody tr th {\n",
       "        vertical-align: top;\n",
       "    }\n",
       "\n",
       "    .dataframe thead th {\n",
       "        text-align: right;\n",
       "    }\n",
       "</style>\n",
       "<table border=\"1\" class=\"dataframe\">\n",
       "  <thead>\n",
       "    <tr style=\"text-align: right;\">\n",
       "      <th></th>\n",
       "      <th>timestamp</th>\n",
       "      <th>LCLid</th>\n",
       "      <th>energy_consumption</th>\n",
       "      <th>frequency</th>\n",
       "      <th>series_length</th>\n",
       "      <th>stdorToU</th>\n",
       "      <th>Acorn</th>\n",
       "      <th>Acorn_grouped</th>\n",
       "      <th>file</th>\n",
       "      <th>holidays</th>\n",
       "      <th>...</th>\n",
       "      <th>windBearing</th>\n",
       "      <th>temperature</th>\n",
       "      <th>dewPoint</th>\n",
       "      <th>pressure</th>\n",
       "      <th>apparentTemperature</th>\n",
       "      <th>windSpeed</th>\n",
       "      <th>precipType</th>\n",
       "      <th>icon</th>\n",
       "      <th>humidity</th>\n",
       "      <th>summary</th>\n",
       "    </tr>\n",
       "  </thead>\n",
       "  <tbody>\n",
       "    <tr>\n",
       "      <th>0</th>\n",
       "      <td>2012-05-16 00:00:00</td>\n",
       "      <td>MAC003069</td>\n",
       "      <td>0.069</td>\n",
       "      <td>30min</td>\n",
       "      <td>31344</td>\n",
       "      <td>ToU</td>\n",
       "      <td>ACORN-F</td>\n",
       "      <td>Comfortable</td>\n",
       "      <td>block_56</td>\n",
       "      <td>NO_HOLIDAY</td>\n",
       "      <td>...</td>\n",
       "      <td>284</td>\n",
       "      <td>6.33</td>\n",
       "      <td>3.08</td>\n",
       "      <td>1023.94</td>\n",
       "      <td>4.23</td>\n",
       "      <td>2.83</td>\n",
       "      <td>rain</td>\n",
       "      <td>clear-night</td>\n",
       "      <td>0.80</td>\n",
       "      <td>Clear</td>\n",
       "    </tr>\n",
       "    <tr>\n",
       "      <th>1</th>\n",
       "      <td>2012-05-16 00:30:00</td>\n",
       "      <td>MAC003069</td>\n",
       "      <td>0.082</td>\n",
       "      <td>30min</td>\n",
       "      <td>31344</td>\n",
       "      <td>ToU</td>\n",
       "      <td>ACORN-F</td>\n",
       "      <td>Comfortable</td>\n",
       "      <td>block_56</td>\n",
       "      <td>NO_HOLIDAY</td>\n",
       "      <td>...</td>\n",
       "      <td>284</td>\n",
       "      <td>6.33</td>\n",
       "      <td>3.08</td>\n",
       "      <td>1023.94</td>\n",
       "      <td>4.23</td>\n",
       "      <td>2.83</td>\n",
       "      <td>rain</td>\n",
       "      <td>clear-night</td>\n",
       "      <td>0.80</td>\n",
       "      <td>Clear</td>\n",
       "    </tr>\n",
       "    <tr>\n",
       "      <th>2</th>\n",
       "      <td>2012-05-16 01:00:00</td>\n",
       "      <td>MAC003069</td>\n",
       "      <td>0.093</td>\n",
       "      <td>30min</td>\n",
       "      <td>31344</td>\n",
       "      <td>ToU</td>\n",
       "      <td>ACORN-F</td>\n",
       "      <td>Comfortable</td>\n",
       "      <td>block_56</td>\n",
       "      <td>NO_HOLIDAY</td>\n",
       "      <td>...</td>\n",
       "      <td>285</td>\n",
       "      <td>5.19</td>\n",
       "      <td>2.64</td>\n",
       "      <td>1024.23</td>\n",
       "      <td>2.84</td>\n",
       "      <td>2.85</td>\n",
       "      <td>rain</td>\n",
       "      <td>clear-night</td>\n",
       "      <td>0.84</td>\n",
       "      <td>Clear</td>\n",
       "    </tr>\n",
       "    <tr>\n",
       "      <th>3</th>\n",
       "      <td>2012-05-16 01:30:00</td>\n",
       "      <td>MAC003069</td>\n",
       "      <td>0.074</td>\n",
       "      <td>30min</td>\n",
       "      <td>31344</td>\n",
       "      <td>ToU</td>\n",
       "      <td>ACORN-F</td>\n",
       "      <td>Comfortable</td>\n",
       "      <td>block_56</td>\n",
       "      <td>NO_HOLIDAY</td>\n",
       "      <td>...</td>\n",
       "      <td>285</td>\n",
       "      <td>5.19</td>\n",
       "      <td>2.64</td>\n",
       "      <td>1024.23</td>\n",
       "      <td>2.84</td>\n",
       "      <td>2.85</td>\n",
       "      <td>rain</td>\n",
       "      <td>clear-night</td>\n",
       "      <td>0.84</td>\n",
       "      <td>Clear</td>\n",
       "    </tr>\n",
       "    <tr>\n",
       "      <th>4</th>\n",
       "      <td>2012-05-16 02:00:00</td>\n",
       "      <td>MAC003069</td>\n",
       "      <td>0.078</td>\n",
       "      <td>30min</td>\n",
       "      <td>31344</td>\n",
       "      <td>ToU</td>\n",
       "      <td>ACORN-F</td>\n",
       "      <td>Comfortable</td>\n",
       "      <td>block_56</td>\n",
       "      <td>NO_HOLIDAY</td>\n",
       "      <td>...</td>\n",
       "      <td>277</td>\n",
       "      <td>4.70</td>\n",
       "      <td>2.93</td>\n",
       "      <td>1024.33</td>\n",
       "      <td>2.27</td>\n",
       "      <td>2.83</td>\n",
       "      <td>rain</td>\n",
       "      <td>clear-night</td>\n",
       "      <td>0.88</td>\n",
       "      <td>Clear</td>\n",
       "    </tr>\n",
       "  </tbody>\n",
       "</table>\n",
       "<p>5 rows × 21 columns</p>\n",
       "</div>"
      ],
      "text/plain": [
       "            timestamp      LCLid  energy_consumption frequency  series_length  \\\n",
       "0 2012-05-16 00:00:00  MAC003069               0.069     30min          31344   \n",
       "1 2012-05-16 00:30:00  MAC003069               0.082     30min          31344   \n",
       "2 2012-05-16 01:00:00  MAC003069               0.093     30min          31344   \n",
       "3 2012-05-16 01:30:00  MAC003069               0.074     30min          31344   \n",
       "4 2012-05-16 02:00:00  MAC003069               0.078     30min          31344   \n",
       "\n",
       "  stdorToU    Acorn Acorn_grouped      file    holidays  ...  windBearing  \\\n",
       "0      ToU  ACORN-F   Comfortable  block_56  NO_HOLIDAY  ...          284   \n",
       "1      ToU  ACORN-F   Comfortable  block_56  NO_HOLIDAY  ...          284   \n",
       "2      ToU  ACORN-F   Comfortable  block_56  NO_HOLIDAY  ...          285   \n",
       "3      ToU  ACORN-F   Comfortable  block_56  NO_HOLIDAY  ...          285   \n",
       "4      ToU  ACORN-F   Comfortable  block_56  NO_HOLIDAY  ...          277   \n",
       "\n",
       "   temperature  dewPoint  pressure  apparentTemperature  windSpeed  \\\n",
       "0         6.33      3.08   1023.94                 4.23       2.83   \n",
       "1         6.33      3.08   1023.94                 4.23       2.83   \n",
       "2         5.19      2.64   1024.23                 2.84       2.85   \n",
       "3         5.19      2.64   1024.23                 2.84       2.85   \n",
       "4         4.70      2.93   1024.33                 2.27       2.83   \n",
       "\n",
       "   precipType         icon humidity  summary  \n",
       "0        rain  clear-night     0.80    Clear  \n",
       "1        rain  clear-night     0.80    Clear  \n",
       "2        rain  clear-night     0.84    Clear  \n",
       "3        rain  clear-night     0.84    Clear  \n",
       "4        rain  clear-night     0.88    Clear  \n",
       "\n",
       "[5 rows x 21 columns]"
      ]
     },
     "execution_count": 13,
     "metadata": {},
     "output_type": "execute_result"
    }
   ],
   "source": [
    "#Converting to expanded form\n",
    "exp_block_df = compact_to_expanded(block_df, timeseries_col = 'energy_consumption',\n",
    "static_cols = [\"frequency\", \"series_length\", \"stdorToU\", \"Acorn\", \"Acorn_grouped\", \"file\"],\n",
    "time_varying_cols = ['holidays', 'visibility', 'windBearing', 'temperature', 'dewPoint',\n",
    "       'pressure', 'apparentTemperature', 'windSpeed', 'precipType', 'icon',\n",
    "       'humidity', 'summary'],\n",
    "ts_identifier = \"LCLid\")\n",
    "\n",
    "exp_block_df.head()\n"
   ]
  },
  {
   "cell_type": "markdown",
   "id": "e356d3f8",
   "metadata": {},
   "source": [
    "# Train Test Valildation Split"
   ]
  },
  {
   "cell_type": "code",
   "execution_count": 14,
   "id": "f0e98b20",
   "metadata": {},
   "outputs": [
    {
     "name": "stdout",
     "output_type": "stream",
     "text": [
      "# of Training samples: 5243376 | # of Validation samples: 275280 | # of Test samples: 239760\n",
      "Max Date in Train: 2013-12-31 23:30:00 | Min Date in Validation: 2014-01-01 00:00:00 | Min Date in Test: 2014-02-01 00:00:00\n"
     ]
    }
   ],
   "source": [
    "test_mask = (exp_block_df.timestamp.dt.year==2014) & (exp_block_df.timestamp.dt.month==2)\n",
    "val_mask = (exp_block_df.timestamp.dt.year==2014) & (exp_block_df.timestamp.dt.month==1)\n",
    "\n",
    "train = exp_block_df[~(val_mask|test_mask)]\n",
    "val = exp_block_df[val_mask]\n",
    "test = exp_block_df[test_mask]\n",
    "print(f\"# of Training samples: {len(train)} | # of Validation samples: {len(val)} | # of Test samples: {len(test)}\")\n",
    "print(f\"Max Date in Train: {train.timestamp.max()} | Min Date in Validation: {val.timestamp.min()} | Min Date in Test: {test.timestamp.min()}\")\n"
   ]
  },
  {
   "cell_type": "code",
   "execution_count": 15,
   "id": "acedd3f1",
   "metadata": {},
   "outputs": [
    {
     "data": {
      "text/html": [
       "<div>\n",
       "<style scoped>\n",
       "    .dataframe tbody tr th:only-of-type {\n",
       "        vertical-align: middle;\n",
       "    }\n",
       "\n",
       "    .dataframe tbody tr th {\n",
       "        vertical-align: top;\n",
       "    }\n",
       "\n",
       "    .dataframe thead th {\n",
       "        text-align: right;\n",
       "    }\n",
       "</style>\n",
       "<table border=\"1\" class=\"dataframe\">\n",
       "  <thead>\n",
       "    <tr style=\"text-align: right;\">\n",
       "      <th></th>\n",
       "      <th>timestamp</th>\n",
       "      <th>LCLid</th>\n",
       "      <th>energy_consumption</th>\n",
       "      <th>frequency</th>\n",
       "      <th>series_length</th>\n",
       "      <th>stdorToU</th>\n",
       "      <th>Acorn</th>\n",
       "      <th>Acorn_grouped</th>\n",
       "      <th>file</th>\n",
       "      <th>holidays</th>\n",
       "      <th>...</th>\n",
       "      <th>windBearing</th>\n",
       "      <th>temperature</th>\n",
       "      <th>dewPoint</th>\n",
       "      <th>pressure</th>\n",
       "      <th>apparentTemperature</th>\n",
       "      <th>windSpeed</th>\n",
       "      <th>precipType</th>\n",
       "      <th>icon</th>\n",
       "      <th>humidity</th>\n",
       "      <th>summary</th>\n",
       "    </tr>\n",
       "  </thead>\n",
       "  <tbody>\n",
       "    <tr>\n",
       "      <th>0</th>\n",
       "      <td>2012-05-16 00:00:00</td>\n",
       "      <td>MAC003069</td>\n",
       "      <td>0.069</td>\n",
       "      <td>30min</td>\n",
       "      <td>31344</td>\n",
       "      <td>ToU</td>\n",
       "      <td>ACORN-F</td>\n",
       "      <td>Comfortable</td>\n",
       "      <td>block_56</td>\n",
       "      <td>NO_HOLIDAY</td>\n",
       "      <td>...</td>\n",
       "      <td>284</td>\n",
       "      <td>6.33</td>\n",
       "      <td>3.08</td>\n",
       "      <td>1023.94</td>\n",
       "      <td>4.23</td>\n",
       "      <td>2.83</td>\n",
       "      <td>rain</td>\n",
       "      <td>clear-night</td>\n",
       "      <td>0.80</td>\n",
       "      <td>Clear</td>\n",
       "    </tr>\n",
       "    <tr>\n",
       "      <th>1</th>\n",
       "      <td>2012-05-16 00:30:00</td>\n",
       "      <td>MAC003069</td>\n",
       "      <td>0.082</td>\n",
       "      <td>30min</td>\n",
       "      <td>31344</td>\n",
       "      <td>ToU</td>\n",
       "      <td>ACORN-F</td>\n",
       "      <td>Comfortable</td>\n",
       "      <td>block_56</td>\n",
       "      <td>NO_HOLIDAY</td>\n",
       "      <td>...</td>\n",
       "      <td>284</td>\n",
       "      <td>6.33</td>\n",
       "      <td>3.08</td>\n",
       "      <td>1023.94</td>\n",
       "      <td>4.23</td>\n",
       "      <td>2.83</td>\n",
       "      <td>rain</td>\n",
       "      <td>clear-night</td>\n",
       "      <td>0.80</td>\n",
       "      <td>Clear</td>\n",
       "    </tr>\n",
       "    <tr>\n",
       "      <th>2</th>\n",
       "      <td>2012-05-16 01:00:00</td>\n",
       "      <td>MAC003069</td>\n",
       "      <td>0.093</td>\n",
       "      <td>30min</td>\n",
       "      <td>31344</td>\n",
       "      <td>ToU</td>\n",
       "      <td>ACORN-F</td>\n",
       "      <td>Comfortable</td>\n",
       "      <td>block_56</td>\n",
       "      <td>NO_HOLIDAY</td>\n",
       "      <td>...</td>\n",
       "      <td>285</td>\n",
       "      <td>5.19</td>\n",
       "      <td>2.64</td>\n",
       "      <td>1024.23</td>\n",
       "      <td>2.84</td>\n",
       "      <td>2.85</td>\n",
       "      <td>rain</td>\n",
       "      <td>clear-night</td>\n",
       "      <td>0.84</td>\n",
       "      <td>Clear</td>\n",
       "    </tr>\n",
       "    <tr>\n",
       "      <th>3</th>\n",
       "      <td>2012-05-16 01:30:00</td>\n",
       "      <td>MAC003069</td>\n",
       "      <td>0.074</td>\n",
       "      <td>30min</td>\n",
       "      <td>31344</td>\n",
       "      <td>ToU</td>\n",
       "      <td>ACORN-F</td>\n",
       "      <td>Comfortable</td>\n",
       "      <td>block_56</td>\n",
       "      <td>NO_HOLIDAY</td>\n",
       "      <td>...</td>\n",
       "      <td>285</td>\n",
       "      <td>5.19</td>\n",
       "      <td>2.64</td>\n",
       "      <td>1024.23</td>\n",
       "      <td>2.84</td>\n",
       "      <td>2.85</td>\n",
       "      <td>rain</td>\n",
       "      <td>clear-night</td>\n",
       "      <td>0.84</td>\n",
       "      <td>Clear</td>\n",
       "    </tr>\n",
       "    <tr>\n",
       "      <th>4</th>\n",
       "      <td>2012-05-16 02:00:00</td>\n",
       "      <td>MAC003069</td>\n",
       "      <td>0.078</td>\n",
       "      <td>30min</td>\n",
       "      <td>31344</td>\n",
       "      <td>ToU</td>\n",
       "      <td>ACORN-F</td>\n",
       "      <td>Comfortable</td>\n",
       "      <td>block_56</td>\n",
       "      <td>NO_HOLIDAY</td>\n",
       "      <td>...</td>\n",
       "      <td>277</td>\n",
       "      <td>4.70</td>\n",
       "      <td>2.93</td>\n",
       "      <td>1024.33</td>\n",
       "      <td>2.27</td>\n",
       "      <td>2.83</td>\n",
       "      <td>rain</td>\n",
       "      <td>clear-night</td>\n",
       "      <td>0.88</td>\n",
       "      <td>Clear</td>\n",
       "    </tr>\n",
       "  </tbody>\n",
       "</table>\n",
       "<p>5 rows × 21 columns</p>\n",
       "</div>"
      ],
      "text/plain": [
       "            timestamp      LCLid  energy_consumption frequency  series_length  \\\n",
       "0 2012-05-16 00:00:00  MAC003069               0.069     30min          31344   \n",
       "1 2012-05-16 00:30:00  MAC003069               0.082     30min          31344   \n",
       "2 2012-05-16 01:00:00  MAC003069               0.093     30min          31344   \n",
       "3 2012-05-16 01:30:00  MAC003069               0.074     30min          31344   \n",
       "4 2012-05-16 02:00:00  MAC003069               0.078     30min          31344   \n",
       "\n",
       "  stdorToU    Acorn Acorn_grouped      file    holidays  ...  windBearing  \\\n",
       "0      ToU  ACORN-F   Comfortable  block_56  NO_HOLIDAY  ...          284   \n",
       "1      ToU  ACORN-F   Comfortable  block_56  NO_HOLIDAY  ...          284   \n",
       "2      ToU  ACORN-F   Comfortable  block_56  NO_HOLIDAY  ...          285   \n",
       "3      ToU  ACORN-F   Comfortable  block_56  NO_HOLIDAY  ...          285   \n",
       "4      ToU  ACORN-F   Comfortable  block_56  NO_HOLIDAY  ...          277   \n",
       "\n",
       "   temperature  dewPoint  pressure  apparentTemperature  windSpeed  \\\n",
       "0         6.33      3.08   1023.94                 4.23       2.83   \n",
       "1         6.33      3.08   1023.94                 4.23       2.83   \n",
       "2         5.19      2.64   1024.23                 2.84       2.85   \n",
       "3         5.19      2.64   1024.23                 2.84       2.85   \n",
       "4         4.70      2.93   1024.33                 2.27       2.83   \n",
       "\n",
       "   precipType         icon humidity  summary  \n",
       "0        rain  clear-night     0.80    Clear  \n",
       "1        rain  clear-night     0.80    Clear  \n",
       "2        rain  clear-night     0.84    Clear  \n",
       "3        rain  clear-night     0.84    Clear  \n",
       "4        rain  clear-night     0.88    Clear  \n",
       "\n",
       "[5 rows x 21 columns]"
      ]
     },
     "execution_count": 15,
     "metadata": {},
     "output_type": "execute_result"
    }
   ],
   "source": [
    "train.head()"
   ]
  },
  {
   "cell_type": "code",
   "execution_count": null,
   "id": "856ac379",
   "metadata": {},
   "outputs": [],
   "source": [
    "train.to_parquet(preprocessed_data/\"selected_blocks_train.parquet\")\n",
    "val.to_parquet(preprocessed_data/\"selected_blocks_val.parquet\")\n",
    "test.to_parquet(preprocessed_data/\"selected_blocks_test.parquet\")"
   ]
  },
  {
   "cell_type": "markdown",
   "id": "df3eaeb7",
   "metadata": {},
   "source": [
    "# Filling in missing values"
   ]
  },
  {
   "cell_type": "code",
   "execution_count": 17,
   "id": "a7590e7c",
   "metadata": {},
   "outputs": [
    {
     "data": {
      "text/plain": [
       "timestamp                   0\n",
       "LCLid                       0\n",
       "energy_consumption     168038\n",
       "frequency                   0\n",
       "series_length               0\n",
       "stdorToU                    0\n",
       "Acorn                       0\n",
       "Acorn_grouped               0\n",
       "file                        0\n",
       "holidays                    0\n",
       "visibility                  0\n",
       "windBearing                 0\n",
       "temperature                 0\n",
       "dewPoint                    0\n",
       "pressure                 3844\n",
       "apparentTemperature         0\n",
       "windSpeed                   0\n",
       "precipType                  0\n",
       "icon                        0\n",
       "humidity                    0\n",
       "summary                     0\n",
       "dtype: int64"
      ]
     },
     "execution_count": 17,
     "metadata": {},
     "output_type": "execute_result"
    }
   ],
   "source": [
    "train.isnull().sum()"
   ]
  },
  {
   "cell_type": "code",
   "execution_count": 18,
   "id": "524a7900",
   "metadata": {},
   "outputs": [
    {
     "data": {
      "text/plain": [
       "timestamp                  0\n",
       "LCLid                      0\n",
       "energy_consumption     14928\n",
       "frequency                  0\n",
       "series_length              0\n",
       "stdorToU                   0\n",
       "Acorn                      0\n",
       "Acorn_grouped              0\n",
       "file                       0\n",
       "holidays                   0\n",
       "visibility                 0\n",
       "windBearing                0\n",
       "temperature                0\n",
       "dewPoint                   0\n",
       "pressure                   0\n",
       "apparentTemperature        0\n",
       "windSpeed                  0\n",
       "precipType                 0\n",
       "icon                       0\n",
       "humidity                   0\n",
       "summary                    0\n",
       "dtype: int64"
      ]
     },
     "execution_count": 18,
     "metadata": {},
     "output_type": "execute_result"
    }
   ],
   "source": [
    "test.isnull().sum()"
   ]
  },
  {
   "cell_type": "code",
   "execution_count": 19,
   "id": "06b46518",
   "metadata": {},
   "outputs": [
    {
     "data": {
      "text/plain": [
       "timestamp                  0\n",
       "LCLid                      0\n",
       "energy_consumption     19152\n",
       "frequency                  0\n",
       "series_length              0\n",
       "stdorToU                   0\n",
       "Acorn                      0\n",
       "Acorn_grouped              0\n",
       "file                       0\n",
       "holidays                   0\n",
       "visibility                 0\n",
       "windBearing                0\n",
       "temperature                0\n",
       "dewPoint                   0\n",
       "pressure                   0\n",
       "apparentTemperature        0\n",
       "windSpeed                  0\n",
       "precipType                 0\n",
       "icon                       0\n",
       "humidity                   0\n",
       "summary                    0\n",
       "dtype: int64"
      ]
     },
     "execution_count": 19,
     "metadata": {},
     "output_type": "execute_result"
    }
   ],
   "source": [
    "val.isnull().sum()"
   ]
  },
  {
   "cell_type": "code",
   "execution_count": 20,
   "id": "91669b74",
   "metadata": {},
   "outputs": [],
   "source": [
    "ts_train = train.set_index(\"timestamp\")\n",
    "train_imputed = imputation(ts_train)\n",
    "train_imputed = train_imputed.drop('energy_consumption', axis=1)\n",
    "\n",
    "ts_val = val.set_index(\"timestamp\")\n",
    "val_imputed = imputation(ts_val)\n",
    "val_imputed = val_imputed.drop('energy_consumption', axis=1)\n",
    "\n",
    "ts_test = test.set_index(\"timestamp\")\n",
    "test_imputed = imputation(ts_test)\n",
    "test_imputed = test_imputed.drop('energy_consumption', axis=1)"
   ]
  },
  {
   "cell_type": "code",
   "execution_count": 21,
   "id": "5c35ab55",
   "metadata": {},
   "outputs": [],
   "source": [
    "train_imputed = train_imputed.reset_index()\n",
    "val_imputed = val_imputed.reset_index()\n",
    "test_imputed = test_imputed.reset_index()"
   ]
  },
  {
   "cell_type": "code",
   "execution_count": null,
   "id": "cf57b49d",
   "metadata": {},
   "outputs": [],
   "source": [
    "train_imputed.to_parquet(preprocessed_data/\"selected_blocks_train_missing_imputed.parquet\")\n",
    "val_imputed.to_parquet(preprocessed_data/\"selected_blocks_val_missing_imputed.parquet\")\n",
    "test_imputed.to_parquet(preprocessed_data/\"selected_blocks_test_missing_imputed.parquet\")"
   ]
  },
  {
   "cell_type": "markdown",
   "id": "9c190011",
   "metadata": {},
   "source": [
    "# Baseline Forecast"
   ]
  },
  {
   "cell_type": "code",
   "execution_count": 23,
   "id": "1060022e",
   "metadata": {},
   "outputs": [],
   "source": [
    "# this makes it so that the outputs of the predict methods have the id as a column \n",
    "# instead of as the index\n",
    "os.environ['NIXTLA_ID_AS_COL'] = '1'"
   ]
  },
  {
   "cell_type": "code",
   "execution_count": null,
   "id": "2af3242b",
   "metadata": {},
   "outputs": [],
   "source": [
    "train_df = pd.read_parquet(preprocessed_data/\"selected_blocks_train_missing_imputed.parquet\")\n",
    "train_df = train_df[['LCLid',\"timestamp\",\"energy_consumption_imputed\",\"frequency\"]]\n",
    "val_df = pd.read_parquet(preprocessed_data/\"selected_blocks_val_missing_imputed.parquet\")\n",
    "val_df = val_df[['LCLid',\"timestamp\",\"energy_consumption_imputed\",\"frequency\"]]\n",
    "test_df = pd.read_parquet(preprocessed_data/\"selected_blocks_test_missing_imputed.parquet\")\n",
    "test_df = test_df[['LCLid',\"timestamp\",\"energy_consumption_imputed\",\"frequency\"]]"
   ]
  },
  {
   "cell_type": "code",
   "execution_count": 25,
   "id": "4b4f2348",
   "metadata": {},
   "outputs": [
    {
     "data": {
      "text/html": [
       "<div>\n",
       "<style scoped>\n",
       "    .dataframe tbody tr th:only-of-type {\n",
       "        vertical-align: middle;\n",
       "    }\n",
       "\n",
       "    .dataframe tbody tr th {\n",
       "        vertical-align: top;\n",
       "    }\n",
       "\n",
       "    .dataframe thead th {\n",
       "        text-align: right;\n",
       "    }\n",
       "</style>\n",
       "<table border=\"1\" class=\"dataframe\">\n",
       "  <thead>\n",
       "    <tr style=\"text-align: right;\">\n",
       "      <th></th>\n",
       "      <th>LCLid</th>\n",
       "      <th>timestamp</th>\n",
       "      <th>energy_consumption_imputed</th>\n",
       "      <th>frequency</th>\n",
       "    </tr>\n",
       "  </thead>\n",
       "  <tbody>\n",
       "    <tr>\n",
       "      <th>0</th>\n",
       "      <td>MAC003069</td>\n",
       "      <td>2012-05-16 00:00:00</td>\n",
       "      <td>0.069</td>\n",
       "      <td>30min</td>\n",
       "    </tr>\n",
       "    <tr>\n",
       "      <th>1</th>\n",
       "      <td>MAC003069</td>\n",
       "      <td>2012-05-16 00:30:00</td>\n",
       "      <td>0.082</td>\n",
       "      <td>30min</td>\n",
       "    </tr>\n",
       "    <tr>\n",
       "      <th>2</th>\n",
       "      <td>MAC003069</td>\n",
       "      <td>2012-05-16 01:00:00</td>\n",
       "      <td>0.093</td>\n",
       "      <td>30min</td>\n",
       "    </tr>\n",
       "    <tr>\n",
       "      <th>3</th>\n",
       "      <td>MAC003069</td>\n",
       "      <td>2012-05-16 01:30:00</td>\n",
       "      <td>0.074</td>\n",
       "      <td>30min</td>\n",
       "    </tr>\n",
       "    <tr>\n",
       "      <th>4</th>\n",
       "      <td>MAC003069</td>\n",
       "      <td>2012-05-16 02:00:00</td>\n",
       "      <td>0.078</td>\n",
       "      <td>30min</td>\n",
       "    </tr>\n",
       "    <tr>\n",
       "      <th>...</th>\n",
       "      <td>...</td>\n",
       "      <td>...</td>\n",
       "      <td>...</td>\n",
       "      <td>...</td>\n",
       "    </tr>\n",
       "    <tr>\n",
       "      <th>5243371</th>\n",
       "      <td>MAC002745</td>\n",
       "      <td>2013-12-31 21:30:00</td>\n",
       "      <td>0.506</td>\n",
       "      <td>30min</td>\n",
       "    </tr>\n",
       "    <tr>\n",
       "      <th>5243372</th>\n",
       "      <td>MAC002745</td>\n",
       "      <td>2013-12-31 22:00:00</td>\n",
       "      <td>0.437</td>\n",
       "      <td>30min</td>\n",
       "    </tr>\n",
       "    <tr>\n",
       "      <th>5243373</th>\n",
       "      <td>MAC002745</td>\n",
       "      <td>2013-12-31 22:30:00</td>\n",
       "      <td>0.503</td>\n",
       "      <td>30min</td>\n",
       "    </tr>\n",
       "    <tr>\n",
       "      <th>5243374</th>\n",
       "      <td>MAC002745</td>\n",
       "      <td>2013-12-31 23:00:00</td>\n",
       "      <td>0.434</td>\n",
       "      <td>30min</td>\n",
       "    </tr>\n",
       "    <tr>\n",
       "      <th>5243375</th>\n",
       "      <td>MAC002745</td>\n",
       "      <td>2013-12-31 23:30:00</td>\n",
       "      <td>0.510</td>\n",
       "      <td>30min</td>\n",
       "    </tr>\n",
       "  </tbody>\n",
       "</table>\n",
       "<p>5243376 rows × 4 columns</p>\n",
       "</div>"
      ],
      "text/plain": [
       "             LCLid           timestamp  energy_consumption_imputed frequency\n",
       "0        MAC003069 2012-05-16 00:00:00                       0.069     30min\n",
       "1        MAC003069 2012-05-16 00:30:00                       0.082     30min\n",
       "2        MAC003069 2012-05-16 01:00:00                       0.093     30min\n",
       "3        MAC003069 2012-05-16 01:30:00                       0.074     30min\n",
       "4        MAC003069 2012-05-16 02:00:00                       0.078     30min\n",
       "...            ...                 ...                         ...       ...\n",
       "5243371  MAC002745 2013-12-31 21:30:00                       0.506     30min\n",
       "5243372  MAC002745 2013-12-31 22:00:00                       0.437     30min\n",
       "5243373  MAC002745 2013-12-31 22:30:00                       0.503     30min\n",
       "5243374  MAC002745 2013-12-31 23:00:00                       0.434     30min\n",
       "5243375  MAC002745 2013-12-31 23:30:00                       0.510     30min\n",
       "\n",
       "[5243376 rows x 4 columns]"
      ]
     },
     "execution_count": 25,
     "metadata": {},
     "output_type": "execute_result"
    }
   ],
   "source": [
    "train_df"
   ]
  },
  {
   "cell_type": "code",
   "execution_count": 26,
   "id": "d9cf9f0d",
   "metadata": {},
   "outputs": [
    {
     "name": "stdout",
     "output_type": "stream",
     "text": [
      "Min train_df Date:  2012-01-01 00:00:00\n",
      "Max train_df Date:  2013-12-31 23:30:00\n",
      "Min val_df Date:  2014-01-01 00:00:00\n",
      "Max val_df Date:  2014-01-31 23:30:00\n",
      "Min test_df Date:  2014-02-01 00:00:00\n",
      "Max test_df Date:  2014-02-27 23:30:00\n"
     ]
    }
   ],
   "source": [
    "print(\"Min train_df Date: \" , train_df.timestamp.min())\n",
    "print(\"Max train_df Date: \" , train_df.timestamp.max())\n",
    "print(\"Min val_df Date: \" , val_df.timestamp.min())\n",
    "print(\"Max val_df Date: \" , val_df.timestamp.max())\n",
    "print(\"Min test_df Date: \" , test_df.timestamp.min())\n",
    "print(\"Max test_df Date: \" , test_df.timestamp.max())"
   ]
  },
  {
   "cell_type": "code",
   "execution_count": 27,
   "id": "ad93cb89",
   "metadata": {},
   "outputs": [
    {
     "name": "stdout",
     "output_type": "stream",
     "text": [
      "Min train_df Date:  2012-01-01 00:30:00\n"
     ]
    }
   ],
   "source": [
    "train_df = train_df[train_df.timestamp >'2012-01-01']\n",
    "print(\"Min train_df Date: \" , train_df.timestamp.min())\n"
   ]
  },
  {
   "cell_type": "code",
   "execution_count": 28,
   "id": "1b0a797b",
   "metadata": {},
   "outputs": [],
   "source": [
    "#picking a single time series from the dataset for illustration\n",
    "freq = train_df.iloc[0]['frequency']\n",
    "ts_train = train_df.loc[train_df.LCLid==\"MAC000193\", ['LCLid',\"timestamp\",\"energy_consumption_imputed\"]]\n",
    "ts_val = val_df.loc[val_df.LCLid==\"MAC000193\", ['LCLid',\"timestamp\",\"energy_consumption_imputed\"]]\n",
    "ts_test = test_df.loc[test_df.LCLid==\"MAC000193\", ['LCLid',\"timestamp\",\"energy_consumption_imputed\"]]\n"
   ]
  },
  {
   "cell_type": "code",
   "execution_count": 29,
   "id": "621fed19",
   "metadata": {},
   "outputs": [],
   "source": [
    "pred_df = pd.concat([ts_train, ts_val])"
   ]
  },
  {
   "cell_type": "code",
   "execution_count": 30,
   "id": "8c67ff8b",
   "metadata": {},
   "outputs": [],
   "source": [
    "metrics = pd.DataFrame()"
   ]
  },
  {
   "cell_type": "markdown",
   "id": "6108e896",
   "metadata": {},
   "source": [
    "## Holt-Winters"
   ]
  },
  {
   "cell_type": "code",
   "execution_count": 31,
   "id": "8b1b9987",
   "metadata": {},
   "outputs": [],
   "source": [
    "results, metrics = (\n",
    "    evaluate_performance(\n",
    "        ts_train,\n",
    "        ts_val,\n",
    "        models = [ HoltWinters(error_type = 'A', season_length = 48)],\n",
    "        metrics = [mae, mse, rmse, forecast_bias],\n",
    "        freq = freq,\n",
    "        level = [] ,\n",
    "        id_col = 'LCLid',\n",
    "        time_col = 'timestamp',\n",
    "        target_col = 'energy_consumption_imputed',\n",
    "        h = len(ts_val),\n",
    "        metric_df=metrics  # Pass None or an existing DataFrame if you want to append results\n",
    "        )\n",
    ")"
   ]
  },
  {
   "cell_type": "code",
   "execution_count": 32,
   "id": "bcd024cf",
   "metadata": {},
   "outputs": [
    {
     "data": {
      "text/html": [
       "<div>\n",
       "<style scoped>\n",
       "    .dataframe tbody tr th:only-of-type {\n",
       "        vertical-align: middle;\n",
       "    }\n",
       "\n",
       "    .dataframe tbody tr th {\n",
       "        vertical-align: top;\n",
       "    }\n",
       "\n",
       "    .dataframe thead th {\n",
       "        text-align: right;\n",
       "    }\n",
       "</style>\n",
       "<table border=\"1\" class=\"dataframe\">\n",
       "  <thead>\n",
       "    <tr style=\"text-align: right;\">\n",
       "      <th></th>\n",
       "      <th>mean_absolute_error</th>\n",
       "      <th>mean_squared_error</th>\n",
       "      <th>root_mean_squared_error</th>\n",
       "      <th>forecast_bias</th>\n",
       "      <th>LCLid</th>\n",
       "      <th>Time Elapsed</th>\n",
       "      <th>Model</th>\n",
       "    </tr>\n",
       "  </thead>\n",
       "  <tbody>\n",
       "    <tr>\n",
       "      <th>0</th>\n",
       "      <td>0.191257</td>\n",
       "      <td>0.100946</td>\n",
       "      <td>0.31772</td>\n",
       "      <td>10.48171</td>\n",
       "      <td>MAC000193</td>\n",
       "      <td>4.029585</td>\n",
       "      <td>HoltWinters</td>\n",
       "    </tr>\n",
       "  </tbody>\n",
       "</table>\n",
       "</div>"
      ],
      "text/plain": [
       "   mean_absolute_error  mean_squared_error  root_mean_squared_error  \\\n",
       "0             0.191257            0.100946                  0.31772   \n",
       "\n",
       "   forecast_bias      LCLid  Time Elapsed        Model  \n",
       "0       10.48171  MAC000193      4.029585  HoltWinters  "
      ]
     },
     "execution_count": 32,
     "metadata": {},
     "output_type": "execute_result"
    }
   ],
   "source": [
    "metrics"
   ]
  },
  {
   "cell_type": "code",
   "execution_count": null,
   "id": "829ededb",
   "metadata": {},
   "outputs": [
    {
     "data": {
      "application/vnd.plotly.v1+json": {
       "config": {
        "plotlyServerURL": "https://plot.ly"
       },
       "data": [
        {
         "line": {
          "color": "rgba(27,158,119, 0.3)"
         },
         "mode": "lines",
         "name": "Actual Consumption",
         "type": "scatter",
         "x": [
          "2014-01-01T00:00:00.000000000",
          "2014-01-01T00:30:00.000000000",
          "2014-01-01T01:00:00.000000000",
          "2014-01-01T01:30:00.000000000",
          "2014-01-01T02:00:00.000000000",
          "2014-01-01T02:30:00.000000000",
          "2014-01-01T03:00:00.000000000",
          "2014-01-01T03:30:00.000000000",
          "2014-01-01T04:00:00.000000000",
          "2014-01-01T04:30:00.000000000",
          "2014-01-01T05:00:00.000000000",
          "2014-01-01T05:30:00.000000000",
          "2014-01-01T06:00:00.000000000",
          "2014-01-01T06:30:00.000000000",
          "2014-01-01T07:00:00.000000000",
          "2014-01-01T07:30:00.000000000",
          "2014-01-01T08:00:00.000000000",
          "2014-01-01T08:30:00.000000000",
          "2014-01-01T09:00:00.000000000",
          "2014-01-01T09:30:00.000000000",
          "2014-01-01T10:00:00.000000000",
          "2014-01-01T10:30:00.000000000",
          "2014-01-01T11:00:00.000000000",
          "2014-01-01T11:30:00.000000000",
          "2014-01-01T12:00:00.000000000",
          "2014-01-01T12:30:00.000000000",
          "2014-01-01T13:00:00.000000000",
          "2014-01-01T13:30:00.000000000",
          "2014-01-01T14:00:00.000000000",
          "2014-01-01T14:30:00.000000000",
          "2014-01-01T15:00:00.000000000",
          "2014-01-01T15:30:00.000000000",
          "2014-01-01T16:00:00.000000000",
          "2014-01-01T16:30:00.000000000",
          "2014-01-01T17:00:00.000000000",
          "2014-01-01T17:30:00.000000000",
          "2014-01-01T18:00:00.000000000",
          "2014-01-01T18:30:00.000000000",
          "2014-01-01T19:00:00.000000000",
          "2014-01-01T19:30:00.000000000",
          "2014-01-01T20:00:00.000000000",
          "2014-01-01T20:30:00.000000000",
          "2014-01-01T21:00:00.000000000",
          "2014-01-01T21:30:00.000000000",
          "2014-01-01T22:00:00.000000000",
          "2014-01-01T22:30:00.000000000",
          "2014-01-01T23:00:00.000000000",
          "2014-01-01T23:30:00.000000000",
          "2014-01-02T00:00:00.000000000",
          "2014-01-02T00:30:00.000000000",
          "2014-01-02T01:00:00.000000000",
          "2014-01-02T01:30:00.000000000",
          "2014-01-02T02:00:00.000000000",
          "2014-01-02T02:30:00.000000000",
          "2014-01-02T03:00:00.000000000",
          "2014-01-02T03:30:00.000000000",
          "2014-01-02T04:00:00.000000000",
          "2014-01-02T04:30:00.000000000",
          "2014-01-02T05:00:00.000000000",
          "2014-01-02T05:30:00.000000000",
          "2014-01-02T06:00:00.000000000",
          "2014-01-02T06:30:00.000000000",
          "2014-01-02T07:00:00.000000000",
          "2014-01-02T07:30:00.000000000",
          "2014-01-02T08:00:00.000000000",
          "2014-01-02T08:30:00.000000000",
          "2014-01-02T09:00:00.000000000",
          "2014-01-02T09:30:00.000000000",
          "2014-01-02T10:00:00.000000000",
          "2014-01-02T10:30:00.000000000",
          "2014-01-02T11:00:00.000000000",
          "2014-01-02T11:30:00.000000000",
          "2014-01-02T12:00:00.000000000",
          "2014-01-02T12:30:00.000000000",
          "2014-01-02T13:00:00.000000000",
          "2014-01-02T13:30:00.000000000",
          "2014-01-02T14:00:00.000000000",
          "2014-01-02T14:30:00.000000000",
          "2014-01-02T15:00:00.000000000",
          "2014-01-02T15:30:00.000000000",
          "2014-01-02T16:00:00.000000000",
          "2014-01-02T16:30:00.000000000",
          "2014-01-02T17:00:00.000000000",
          "2014-01-02T17:30:00.000000000",
          "2014-01-02T18:00:00.000000000",
          "2014-01-02T18:30:00.000000000",
          "2014-01-02T19:00:00.000000000",
          "2014-01-02T19:30:00.000000000",
          "2014-01-02T20:00:00.000000000",
          "2014-01-02T20:30:00.000000000",
          "2014-01-02T21:00:00.000000000",
          "2014-01-02T21:30:00.000000000",
          "2014-01-02T22:00:00.000000000",
          "2014-01-02T22:30:00.000000000",
          "2014-01-02T23:00:00.000000000",
          "2014-01-02T23:30:00.000000000",
          "2014-01-03T00:00:00.000000000",
          "2014-01-03T00:30:00.000000000",
          "2014-01-03T01:00:00.000000000",
          "2014-01-03T01:30:00.000000000",
          "2014-01-03T02:00:00.000000000",
          "2014-01-03T02:30:00.000000000",
          "2014-01-03T03:00:00.000000000",
          "2014-01-03T03:30:00.000000000",
          "2014-01-03T04:00:00.000000000",
          "2014-01-03T04:30:00.000000000",
          "2014-01-03T05:00:00.000000000",
          "2014-01-03T05:30:00.000000000",
          "2014-01-03T06:00:00.000000000",
          "2014-01-03T06:30:00.000000000",
          "2014-01-03T07:00:00.000000000",
          "2014-01-03T07:30:00.000000000",
          "2014-01-03T08:00:00.000000000",
          "2014-01-03T08:30:00.000000000",
          "2014-01-03T09:00:00.000000000",
          "2014-01-03T09:30:00.000000000",
          "2014-01-03T10:00:00.000000000",
          "2014-01-03T10:30:00.000000000",
          "2014-01-03T11:00:00.000000000",
          "2014-01-03T11:30:00.000000000",
          "2014-01-03T12:00:00.000000000",
          "2014-01-03T12:30:00.000000000",
          "2014-01-03T13:00:00.000000000",
          "2014-01-03T13:30:00.000000000",
          "2014-01-03T14:00:00.000000000",
          "2014-01-03T14:30:00.000000000",
          "2014-01-03T15:00:00.000000000",
          "2014-01-03T15:30:00.000000000",
          "2014-01-03T16:00:00.000000000",
          "2014-01-03T16:30:00.000000000",
          "2014-01-03T17:00:00.000000000",
          "2014-01-03T17:30:00.000000000",
          "2014-01-03T18:00:00.000000000",
          "2014-01-03T18:30:00.000000000",
          "2014-01-03T19:00:00.000000000",
          "2014-01-03T19:30:00.000000000",
          "2014-01-03T20:00:00.000000000",
          "2014-01-03T20:30:00.000000000",
          "2014-01-03T21:00:00.000000000",
          "2014-01-03T21:30:00.000000000",
          "2014-01-03T22:00:00.000000000",
          "2014-01-03T22:30:00.000000000",
          "2014-01-03T23:00:00.000000000",
          "2014-01-03T23:30:00.000000000",
          "2014-01-04T00:00:00.000000000",
          "2014-01-04T00:30:00.000000000",
          "2014-01-04T01:00:00.000000000",
          "2014-01-04T01:30:00.000000000",
          "2014-01-04T02:00:00.000000000",
          "2014-01-04T02:30:00.000000000",
          "2014-01-04T03:00:00.000000000",
          "2014-01-04T03:30:00.000000000",
          "2014-01-04T04:00:00.000000000",
          "2014-01-04T04:30:00.000000000",
          "2014-01-04T05:00:00.000000000",
          "2014-01-04T05:30:00.000000000",
          "2014-01-04T06:00:00.000000000",
          "2014-01-04T06:30:00.000000000",
          "2014-01-04T07:00:00.000000000",
          "2014-01-04T07:30:00.000000000",
          "2014-01-04T08:00:00.000000000",
          "2014-01-04T08:30:00.000000000",
          "2014-01-04T09:00:00.000000000",
          "2014-01-04T09:30:00.000000000",
          "2014-01-04T10:00:00.000000000",
          "2014-01-04T10:30:00.000000000",
          "2014-01-04T11:00:00.000000000",
          "2014-01-04T11:30:00.000000000",
          "2014-01-04T12:00:00.000000000",
          "2014-01-04T12:30:00.000000000",
          "2014-01-04T13:00:00.000000000",
          "2014-01-04T13:30:00.000000000",
          "2014-01-04T14:00:00.000000000",
          "2014-01-04T14:30:00.000000000",
          "2014-01-04T15:00:00.000000000",
          "2014-01-04T15:30:00.000000000",
          "2014-01-04T16:00:00.000000000",
          "2014-01-04T16:30:00.000000000",
          "2014-01-04T17:00:00.000000000",
          "2014-01-04T17:30:00.000000000",
          "2014-01-04T18:00:00.000000000",
          "2014-01-04T18:30:00.000000000",
          "2014-01-04T19:00:00.000000000",
          "2014-01-04T19:30:00.000000000",
          "2014-01-04T20:00:00.000000000",
          "2014-01-04T20:30:00.000000000",
          "2014-01-04T21:00:00.000000000",
          "2014-01-04T21:30:00.000000000",
          "2014-01-04T22:00:00.000000000",
          "2014-01-04T22:30:00.000000000",
          "2014-01-04T23:00:00.000000000",
          "2014-01-04T23:30:00.000000000",
          "2014-01-05T00:00:00.000000000",
          "2014-01-05T00:30:00.000000000",
          "2014-01-05T01:00:00.000000000",
          "2014-01-05T01:30:00.000000000",
          "2014-01-05T02:00:00.000000000",
          "2014-01-05T02:30:00.000000000",
          "2014-01-05T03:00:00.000000000",
          "2014-01-05T03:30:00.000000000",
          "2014-01-05T04:00:00.000000000",
          "2014-01-05T04:30:00.000000000",
          "2014-01-05T05:00:00.000000000",
          "2014-01-05T05:30:00.000000000",
          "2014-01-05T06:00:00.000000000",
          "2014-01-05T06:30:00.000000000",
          "2014-01-05T07:00:00.000000000",
          "2014-01-05T07:30:00.000000000",
          "2014-01-05T08:00:00.000000000",
          "2014-01-05T08:30:00.000000000",
          "2014-01-05T09:00:00.000000000",
          "2014-01-05T09:30:00.000000000",
          "2014-01-05T10:00:00.000000000",
          "2014-01-05T10:30:00.000000000",
          "2014-01-05T11:00:00.000000000",
          "2014-01-05T11:30:00.000000000",
          "2014-01-05T12:00:00.000000000",
          "2014-01-05T12:30:00.000000000",
          "2014-01-05T13:00:00.000000000",
          "2014-01-05T13:30:00.000000000",
          "2014-01-05T14:00:00.000000000",
          "2014-01-05T14:30:00.000000000",
          "2014-01-05T15:00:00.000000000",
          "2014-01-05T15:30:00.000000000",
          "2014-01-05T16:00:00.000000000",
          "2014-01-05T16:30:00.000000000",
          "2014-01-05T17:00:00.000000000",
          "2014-01-05T17:30:00.000000000",
          "2014-01-05T18:00:00.000000000",
          "2014-01-05T18:30:00.000000000",
          "2014-01-05T19:00:00.000000000",
          "2014-01-05T19:30:00.000000000",
          "2014-01-05T20:00:00.000000000",
          "2014-01-05T20:30:00.000000000",
          "2014-01-05T21:00:00.000000000",
          "2014-01-05T21:30:00.000000000",
          "2014-01-05T22:00:00.000000000",
          "2014-01-05T22:30:00.000000000",
          "2014-01-05T23:00:00.000000000",
          "2014-01-05T23:30:00.000000000",
          "2014-01-06T00:00:00.000000000",
          "2014-01-06T00:30:00.000000000",
          "2014-01-06T01:00:00.000000000",
          "2014-01-06T01:30:00.000000000",
          "2014-01-06T02:00:00.000000000",
          "2014-01-06T02:30:00.000000000",
          "2014-01-06T03:00:00.000000000",
          "2014-01-06T03:30:00.000000000",
          "2014-01-06T04:00:00.000000000",
          "2014-01-06T04:30:00.000000000",
          "2014-01-06T05:00:00.000000000",
          "2014-01-06T05:30:00.000000000",
          "2014-01-06T06:00:00.000000000",
          "2014-01-06T06:30:00.000000000",
          "2014-01-06T07:00:00.000000000",
          "2014-01-06T07:30:00.000000000",
          "2014-01-06T08:00:00.000000000",
          "2014-01-06T08:30:00.000000000",
          "2014-01-06T09:00:00.000000000",
          "2014-01-06T09:30:00.000000000",
          "2014-01-06T10:00:00.000000000",
          "2014-01-06T10:30:00.000000000",
          "2014-01-06T11:00:00.000000000",
          "2014-01-06T11:30:00.000000000",
          "2014-01-06T12:00:00.000000000",
          "2014-01-06T12:30:00.000000000",
          "2014-01-06T13:00:00.000000000",
          "2014-01-06T13:30:00.000000000",
          "2014-01-06T14:00:00.000000000",
          "2014-01-06T14:30:00.000000000",
          "2014-01-06T15:00:00.000000000",
          "2014-01-06T15:30:00.000000000",
          "2014-01-06T16:00:00.000000000",
          "2014-01-06T16:30:00.000000000",
          "2014-01-06T17:00:00.000000000",
          "2014-01-06T17:30:00.000000000",
          "2014-01-06T18:00:00.000000000",
          "2014-01-06T18:30:00.000000000",
          "2014-01-06T19:00:00.000000000",
          "2014-01-06T19:30:00.000000000",
          "2014-01-06T20:00:00.000000000",
          "2014-01-06T20:30:00.000000000",
          "2014-01-06T21:00:00.000000000",
          "2014-01-06T21:30:00.000000000",
          "2014-01-06T22:00:00.000000000",
          "2014-01-06T22:30:00.000000000",
          "2014-01-06T23:00:00.000000000",
          "2014-01-06T23:30:00.000000000",
          "2014-01-07T00:00:00.000000000",
          "2014-01-07T00:30:00.000000000",
          "2014-01-07T01:00:00.000000000",
          "2014-01-07T01:30:00.000000000",
          "2014-01-07T02:00:00.000000000",
          "2014-01-07T02:30:00.000000000",
          "2014-01-07T03:00:00.000000000",
          "2014-01-07T03:30:00.000000000",
          "2014-01-07T04:00:00.000000000",
          "2014-01-07T04:30:00.000000000",
          "2014-01-07T05:00:00.000000000",
          "2014-01-07T05:30:00.000000000",
          "2014-01-07T06:00:00.000000000",
          "2014-01-07T06:30:00.000000000",
          "2014-01-07T07:00:00.000000000",
          "2014-01-07T07:30:00.000000000",
          "2014-01-07T08:00:00.000000000",
          "2014-01-07T08:30:00.000000000",
          "2014-01-07T09:00:00.000000000",
          "2014-01-07T09:30:00.000000000",
          "2014-01-07T10:00:00.000000000",
          "2014-01-07T10:30:00.000000000",
          "2014-01-07T11:00:00.000000000",
          "2014-01-07T11:30:00.000000000",
          "2014-01-07T12:00:00.000000000",
          "2014-01-07T12:30:00.000000000",
          "2014-01-07T13:00:00.000000000",
          "2014-01-07T13:30:00.000000000",
          "2014-01-07T14:00:00.000000000",
          "2014-01-07T14:30:00.000000000",
          "2014-01-07T15:00:00.000000000",
          "2014-01-07T15:30:00.000000000",
          "2014-01-07T16:00:00.000000000",
          "2014-01-07T16:30:00.000000000",
          "2014-01-07T17:00:00.000000000",
          "2014-01-07T17:30:00.000000000",
          "2014-01-07T18:00:00.000000000",
          "2014-01-07T18:30:00.000000000",
          "2014-01-07T19:00:00.000000000",
          "2014-01-07T19:30:00.000000000",
          "2014-01-07T20:00:00.000000000",
          "2014-01-07T20:30:00.000000000",
          "2014-01-07T21:00:00.000000000",
          "2014-01-07T21:30:00.000000000",
          "2014-01-07T22:00:00.000000000",
          "2014-01-07T22:30:00.000000000",
          "2014-01-07T23:00:00.000000000",
          "2014-01-07T23:30:00.000000000",
          "2014-01-08T00:00:00.000000000",
          "2014-01-08T00:30:00.000000000",
          "2014-01-08T01:00:00.000000000",
          "2014-01-08T01:30:00.000000000",
          "2014-01-08T02:00:00.000000000",
          "2014-01-08T02:30:00.000000000",
          "2014-01-08T03:00:00.000000000",
          "2014-01-08T03:30:00.000000000",
          "2014-01-08T04:00:00.000000000",
          "2014-01-08T04:30:00.000000000",
          "2014-01-08T05:00:00.000000000",
          "2014-01-08T05:30:00.000000000",
          "2014-01-08T06:00:00.000000000",
          "2014-01-08T06:30:00.000000000",
          "2014-01-08T07:00:00.000000000",
          "2014-01-08T07:30:00.000000000",
          "2014-01-08T08:00:00.000000000",
          "2014-01-08T08:30:00.000000000",
          "2014-01-08T09:00:00.000000000",
          "2014-01-08T09:30:00.000000000",
          "2014-01-08T10:00:00.000000000",
          "2014-01-08T10:30:00.000000000",
          "2014-01-08T11:00:00.000000000",
          "2014-01-08T11:30:00.000000000",
          "2014-01-08T12:00:00.000000000",
          "2014-01-08T12:30:00.000000000",
          "2014-01-08T13:00:00.000000000",
          "2014-01-08T13:30:00.000000000",
          "2014-01-08T14:00:00.000000000",
          "2014-01-08T14:30:00.000000000",
          "2014-01-08T15:00:00.000000000",
          "2014-01-08T15:30:00.000000000",
          "2014-01-08T16:00:00.000000000",
          "2014-01-08T16:30:00.000000000",
          "2014-01-08T17:00:00.000000000",
          "2014-01-08T17:30:00.000000000",
          "2014-01-08T18:00:00.000000000",
          "2014-01-08T18:30:00.000000000",
          "2014-01-08T19:00:00.000000000",
          "2014-01-08T19:30:00.000000000",
          "2014-01-08T20:00:00.000000000",
          "2014-01-08T20:30:00.000000000",
          "2014-01-08T21:00:00.000000000",
          "2014-01-08T21:30:00.000000000",
          "2014-01-08T22:00:00.000000000",
          "2014-01-08T22:30:00.000000000",
          "2014-01-08T23:00:00.000000000",
          "2014-01-08T23:30:00.000000000",
          "2014-01-09T00:00:00.000000000",
          "2014-01-09T00:30:00.000000000",
          "2014-01-09T01:00:00.000000000",
          "2014-01-09T01:30:00.000000000",
          "2014-01-09T02:00:00.000000000",
          "2014-01-09T02:30:00.000000000",
          "2014-01-09T03:00:00.000000000",
          "2014-01-09T03:30:00.000000000",
          "2014-01-09T04:00:00.000000000",
          "2014-01-09T04:30:00.000000000",
          "2014-01-09T05:00:00.000000000",
          "2014-01-09T05:30:00.000000000",
          "2014-01-09T06:00:00.000000000",
          "2014-01-09T06:30:00.000000000",
          "2014-01-09T07:00:00.000000000",
          "2014-01-09T07:30:00.000000000",
          "2014-01-09T08:00:00.000000000",
          "2014-01-09T08:30:00.000000000",
          "2014-01-09T09:00:00.000000000",
          "2014-01-09T09:30:00.000000000",
          "2014-01-09T10:00:00.000000000",
          "2014-01-09T10:30:00.000000000",
          "2014-01-09T11:00:00.000000000",
          "2014-01-09T11:30:00.000000000",
          "2014-01-09T12:00:00.000000000",
          "2014-01-09T12:30:00.000000000",
          "2014-01-09T13:00:00.000000000",
          "2014-01-09T13:30:00.000000000",
          "2014-01-09T14:00:00.000000000",
          "2014-01-09T14:30:00.000000000",
          "2014-01-09T15:00:00.000000000",
          "2014-01-09T15:30:00.000000000",
          "2014-01-09T16:00:00.000000000",
          "2014-01-09T16:30:00.000000000",
          "2014-01-09T17:00:00.000000000",
          "2014-01-09T17:30:00.000000000",
          "2014-01-09T18:00:00.000000000",
          "2014-01-09T18:30:00.000000000",
          "2014-01-09T19:00:00.000000000",
          "2014-01-09T19:30:00.000000000",
          "2014-01-09T20:00:00.000000000",
          "2014-01-09T20:30:00.000000000",
          "2014-01-09T21:00:00.000000000",
          "2014-01-09T21:30:00.000000000",
          "2014-01-09T22:00:00.000000000",
          "2014-01-09T22:30:00.000000000",
          "2014-01-09T23:00:00.000000000",
          "2014-01-09T23:30:00.000000000",
          "2014-01-10T00:00:00.000000000",
          "2014-01-10T00:30:00.000000000",
          "2014-01-10T01:00:00.000000000",
          "2014-01-10T01:30:00.000000000",
          "2014-01-10T02:00:00.000000000",
          "2014-01-10T02:30:00.000000000",
          "2014-01-10T03:00:00.000000000",
          "2014-01-10T03:30:00.000000000",
          "2014-01-10T04:00:00.000000000",
          "2014-01-10T04:30:00.000000000",
          "2014-01-10T05:00:00.000000000",
          "2014-01-10T05:30:00.000000000",
          "2014-01-10T06:00:00.000000000",
          "2014-01-10T06:30:00.000000000",
          "2014-01-10T07:00:00.000000000",
          "2014-01-10T07:30:00.000000000",
          "2014-01-10T08:00:00.000000000",
          "2014-01-10T08:30:00.000000000",
          "2014-01-10T09:00:00.000000000",
          "2014-01-10T09:30:00.000000000",
          "2014-01-10T10:00:00.000000000",
          "2014-01-10T10:30:00.000000000",
          "2014-01-10T11:00:00.000000000",
          "2014-01-10T11:30:00.000000000",
          "2014-01-10T12:00:00.000000000",
          "2014-01-10T12:30:00.000000000",
          "2014-01-10T13:00:00.000000000",
          "2014-01-10T13:30:00.000000000",
          "2014-01-10T14:00:00.000000000",
          "2014-01-10T14:30:00.000000000",
          "2014-01-10T15:00:00.000000000",
          "2014-01-10T15:30:00.000000000",
          "2014-01-10T16:00:00.000000000",
          "2014-01-10T16:30:00.000000000",
          "2014-01-10T17:00:00.000000000",
          "2014-01-10T17:30:00.000000000",
          "2014-01-10T18:00:00.000000000",
          "2014-01-10T18:30:00.000000000",
          "2014-01-10T19:00:00.000000000",
          "2014-01-10T19:30:00.000000000",
          "2014-01-10T20:00:00.000000000",
          "2014-01-10T20:30:00.000000000",
          "2014-01-10T21:00:00.000000000",
          "2014-01-10T21:30:00.000000000",
          "2014-01-10T22:00:00.000000000",
          "2014-01-10T22:30:00.000000000",
          "2014-01-10T23:00:00.000000000",
          "2014-01-10T23:30:00.000000000",
          "2014-01-11T00:00:00.000000000",
          "2014-01-11T00:30:00.000000000",
          "2014-01-11T01:00:00.000000000",
          "2014-01-11T01:30:00.000000000",
          "2014-01-11T02:00:00.000000000",
          "2014-01-11T02:30:00.000000000",
          "2014-01-11T03:00:00.000000000",
          "2014-01-11T03:30:00.000000000",
          "2014-01-11T04:00:00.000000000",
          "2014-01-11T04:30:00.000000000",
          "2014-01-11T05:00:00.000000000",
          "2014-01-11T05:30:00.000000000",
          "2014-01-11T06:00:00.000000000",
          "2014-01-11T06:30:00.000000000",
          "2014-01-11T07:00:00.000000000",
          "2014-01-11T07:30:00.000000000",
          "2014-01-11T08:00:00.000000000",
          "2014-01-11T08:30:00.000000000",
          "2014-01-11T09:00:00.000000000",
          "2014-01-11T09:30:00.000000000",
          "2014-01-11T10:00:00.000000000",
          "2014-01-11T10:30:00.000000000",
          "2014-01-11T11:00:00.000000000",
          "2014-01-11T11:30:00.000000000",
          "2014-01-11T12:00:00.000000000",
          "2014-01-11T12:30:00.000000000",
          "2014-01-11T13:00:00.000000000",
          "2014-01-11T13:30:00.000000000",
          "2014-01-11T14:00:00.000000000",
          "2014-01-11T14:30:00.000000000",
          "2014-01-11T15:00:00.000000000",
          "2014-01-11T15:30:00.000000000",
          "2014-01-11T16:00:00.000000000",
          "2014-01-11T16:30:00.000000000",
          "2014-01-11T17:00:00.000000000",
          "2014-01-11T17:30:00.000000000",
          "2014-01-11T18:00:00.000000000",
          "2014-01-11T18:30:00.000000000",
          "2014-01-11T19:00:00.000000000",
          "2014-01-11T19:30:00.000000000",
          "2014-01-11T20:00:00.000000000",
          "2014-01-11T20:30:00.000000000",
          "2014-01-11T21:00:00.000000000",
          "2014-01-11T21:30:00.000000000",
          "2014-01-11T22:00:00.000000000",
          "2014-01-11T22:30:00.000000000",
          "2014-01-11T23:00:00.000000000",
          "2014-01-11T23:30:00.000000000",
          "2014-01-12T00:00:00.000000000",
          "2014-01-12T00:30:00.000000000",
          "2014-01-12T01:00:00.000000000",
          "2014-01-12T01:30:00.000000000",
          "2014-01-12T02:00:00.000000000",
          "2014-01-12T02:30:00.000000000",
          "2014-01-12T03:00:00.000000000",
          "2014-01-12T03:30:00.000000000",
          "2014-01-12T04:00:00.000000000",
          "2014-01-12T04:30:00.000000000",
          "2014-01-12T05:00:00.000000000",
          "2014-01-12T05:30:00.000000000",
          "2014-01-12T06:00:00.000000000",
          "2014-01-12T06:30:00.000000000",
          "2014-01-12T07:00:00.000000000",
          "2014-01-12T07:30:00.000000000",
          "2014-01-12T08:00:00.000000000",
          "2014-01-12T08:30:00.000000000",
          "2014-01-12T09:00:00.000000000",
          "2014-01-12T09:30:00.000000000",
          "2014-01-12T10:00:00.000000000",
          "2014-01-12T10:30:00.000000000",
          "2014-01-12T11:00:00.000000000",
          "2014-01-12T11:30:00.000000000",
          "2014-01-12T12:00:00.000000000",
          "2014-01-12T12:30:00.000000000",
          "2014-01-12T13:00:00.000000000",
          "2014-01-12T13:30:00.000000000",
          "2014-01-12T14:00:00.000000000",
          "2014-01-12T14:30:00.000000000",
          "2014-01-12T15:00:00.000000000",
          "2014-01-12T15:30:00.000000000",
          "2014-01-12T16:00:00.000000000",
          "2014-01-12T16:30:00.000000000",
          "2014-01-12T17:00:00.000000000",
          "2014-01-12T17:30:00.000000000",
          "2014-01-12T18:00:00.000000000",
          "2014-01-12T18:30:00.000000000",
          "2014-01-12T19:00:00.000000000",
          "2014-01-12T19:30:00.000000000",
          "2014-01-12T20:00:00.000000000",
          "2014-01-12T20:30:00.000000000",
          "2014-01-12T21:00:00.000000000",
          "2014-01-12T21:30:00.000000000",
          "2014-01-12T22:00:00.000000000",
          "2014-01-12T22:30:00.000000000",
          "2014-01-12T23:00:00.000000000",
          "2014-01-12T23:30:00.000000000",
          "2014-01-13T00:00:00.000000000",
          "2014-01-13T00:30:00.000000000",
          "2014-01-13T01:00:00.000000000",
          "2014-01-13T01:30:00.000000000",
          "2014-01-13T02:00:00.000000000",
          "2014-01-13T02:30:00.000000000",
          "2014-01-13T03:00:00.000000000",
          "2014-01-13T03:30:00.000000000",
          "2014-01-13T04:00:00.000000000",
          "2014-01-13T04:30:00.000000000",
          "2014-01-13T05:00:00.000000000",
          "2014-01-13T05:30:00.000000000",
          "2014-01-13T06:00:00.000000000",
          "2014-01-13T06:30:00.000000000",
          "2014-01-13T07:00:00.000000000",
          "2014-01-13T07:30:00.000000000",
          "2014-01-13T08:00:00.000000000",
          "2014-01-13T08:30:00.000000000",
          "2014-01-13T09:00:00.000000000",
          "2014-01-13T09:30:00.000000000",
          "2014-01-13T10:00:00.000000000",
          "2014-01-13T10:30:00.000000000",
          "2014-01-13T11:00:00.000000000",
          "2014-01-13T11:30:00.000000000",
          "2014-01-13T12:00:00.000000000",
          "2014-01-13T12:30:00.000000000",
          "2014-01-13T13:00:00.000000000",
          "2014-01-13T13:30:00.000000000",
          "2014-01-13T14:00:00.000000000",
          "2014-01-13T14:30:00.000000000",
          "2014-01-13T15:00:00.000000000",
          "2014-01-13T15:30:00.000000000",
          "2014-01-13T16:00:00.000000000",
          "2014-01-13T16:30:00.000000000",
          "2014-01-13T17:00:00.000000000",
          "2014-01-13T17:30:00.000000000",
          "2014-01-13T18:00:00.000000000",
          "2014-01-13T18:30:00.000000000",
          "2014-01-13T19:00:00.000000000",
          "2014-01-13T19:30:00.000000000",
          "2014-01-13T20:00:00.000000000",
          "2014-01-13T20:30:00.000000000",
          "2014-01-13T21:00:00.000000000",
          "2014-01-13T21:30:00.000000000",
          "2014-01-13T22:00:00.000000000",
          "2014-01-13T22:30:00.000000000",
          "2014-01-13T23:00:00.000000000",
          "2014-01-13T23:30:00.000000000",
          "2014-01-14T00:00:00.000000000",
          "2014-01-14T00:30:00.000000000",
          "2014-01-14T01:00:00.000000000",
          "2014-01-14T01:30:00.000000000",
          "2014-01-14T02:00:00.000000000",
          "2014-01-14T02:30:00.000000000",
          "2014-01-14T03:00:00.000000000",
          "2014-01-14T03:30:00.000000000",
          "2014-01-14T04:00:00.000000000",
          "2014-01-14T04:30:00.000000000",
          "2014-01-14T05:00:00.000000000",
          "2014-01-14T05:30:00.000000000",
          "2014-01-14T06:00:00.000000000",
          "2014-01-14T06:30:00.000000000",
          "2014-01-14T07:00:00.000000000",
          "2014-01-14T07:30:00.000000000",
          "2014-01-14T08:00:00.000000000",
          "2014-01-14T08:30:00.000000000",
          "2014-01-14T09:00:00.000000000",
          "2014-01-14T09:30:00.000000000",
          "2014-01-14T10:00:00.000000000",
          "2014-01-14T10:30:00.000000000",
          "2014-01-14T11:00:00.000000000",
          "2014-01-14T11:30:00.000000000",
          "2014-01-14T12:00:00.000000000",
          "2014-01-14T12:30:00.000000000",
          "2014-01-14T13:00:00.000000000",
          "2014-01-14T13:30:00.000000000",
          "2014-01-14T14:00:00.000000000",
          "2014-01-14T14:30:00.000000000",
          "2014-01-14T15:00:00.000000000",
          "2014-01-14T15:30:00.000000000",
          "2014-01-14T16:00:00.000000000",
          "2014-01-14T16:30:00.000000000",
          "2014-01-14T17:00:00.000000000",
          "2014-01-14T17:30:00.000000000",
          "2014-01-14T18:00:00.000000000",
          "2014-01-14T18:30:00.000000000",
          "2014-01-14T19:00:00.000000000",
          "2014-01-14T19:30:00.000000000",
          "2014-01-14T20:00:00.000000000",
          "2014-01-14T20:30:00.000000000",
          "2014-01-14T21:00:00.000000000",
          "2014-01-14T21:30:00.000000000",
          "2014-01-14T22:00:00.000000000",
          "2014-01-14T22:30:00.000000000",
          "2014-01-14T23:00:00.000000000",
          "2014-01-14T23:30:00.000000000",
          "2014-01-15T00:00:00.000000000",
          "2014-01-15T00:30:00.000000000",
          "2014-01-15T01:00:00.000000000",
          "2014-01-15T01:30:00.000000000",
          "2014-01-15T02:00:00.000000000",
          "2014-01-15T02:30:00.000000000",
          "2014-01-15T03:00:00.000000000",
          "2014-01-15T03:30:00.000000000",
          "2014-01-15T04:00:00.000000000",
          "2014-01-15T04:30:00.000000000",
          "2014-01-15T05:00:00.000000000",
          "2014-01-15T05:30:00.000000000",
          "2014-01-15T06:00:00.000000000",
          "2014-01-15T06:30:00.000000000",
          "2014-01-15T07:00:00.000000000",
          "2014-01-15T07:30:00.000000000",
          "2014-01-15T08:00:00.000000000",
          "2014-01-15T08:30:00.000000000",
          "2014-01-15T09:00:00.000000000",
          "2014-01-15T09:30:00.000000000",
          "2014-01-15T10:00:00.000000000",
          "2014-01-15T10:30:00.000000000",
          "2014-01-15T11:00:00.000000000",
          "2014-01-15T11:30:00.000000000",
          "2014-01-15T12:00:00.000000000",
          "2014-01-15T12:30:00.000000000",
          "2014-01-15T13:00:00.000000000",
          "2014-01-15T13:30:00.000000000",
          "2014-01-15T14:00:00.000000000",
          "2014-01-15T14:30:00.000000000",
          "2014-01-15T15:00:00.000000000",
          "2014-01-15T15:30:00.000000000",
          "2014-01-15T16:00:00.000000000",
          "2014-01-15T16:30:00.000000000",
          "2014-01-15T17:00:00.000000000",
          "2014-01-15T17:30:00.000000000",
          "2014-01-15T18:00:00.000000000",
          "2014-01-15T18:30:00.000000000",
          "2014-01-15T19:00:00.000000000",
          "2014-01-15T19:30:00.000000000",
          "2014-01-15T20:00:00.000000000",
          "2014-01-15T20:30:00.000000000",
          "2014-01-15T21:00:00.000000000",
          "2014-01-15T21:30:00.000000000",
          "2014-01-15T22:00:00.000000000",
          "2014-01-15T22:30:00.000000000",
          "2014-01-15T23:00:00.000000000",
          "2014-01-15T23:30:00.000000000",
          "2014-01-16T00:00:00.000000000",
          "2014-01-16T00:30:00.000000000",
          "2014-01-16T01:00:00.000000000",
          "2014-01-16T01:30:00.000000000",
          "2014-01-16T02:00:00.000000000",
          "2014-01-16T02:30:00.000000000",
          "2014-01-16T03:00:00.000000000",
          "2014-01-16T03:30:00.000000000",
          "2014-01-16T04:00:00.000000000",
          "2014-01-16T04:30:00.000000000",
          "2014-01-16T05:00:00.000000000",
          "2014-01-16T05:30:00.000000000",
          "2014-01-16T06:00:00.000000000",
          "2014-01-16T06:30:00.000000000",
          "2014-01-16T07:00:00.000000000",
          "2014-01-16T07:30:00.000000000",
          "2014-01-16T08:00:00.000000000",
          "2014-01-16T08:30:00.000000000",
          "2014-01-16T09:00:00.000000000",
          "2014-01-16T09:30:00.000000000",
          "2014-01-16T10:00:00.000000000",
          "2014-01-16T10:30:00.000000000",
          "2014-01-16T11:00:00.000000000",
          "2014-01-16T11:30:00.000000000",
          "2014-01-16T12:00:00.000000000",
          "2014-01-16T12:30:00.000000000",
          "2014-01-16T13:00:00.000000000",
          "2014-01-16T13:30:00.000000000",
          "2014-01-16T14:00:00.000000000",
          "2014-01-16T14:30:00.000000000",
          "2014-01-16T15:00:00.000000000",
          "2014-01-16T15:30:00.000000000",
          "2014-01-16T16:00:00.000000000",
          "2014-01-16T16:30:00.000000000",
          "2014-01-16T17:00:00.000000000",
          "2014-01-16T17:30:00.000000000",
          "2014-01-16T18:00:00.000000000",
          "2014-01-16T18:30:00.000000000",
          "2014-01-16T19:00:00.000000000",
          "2014-01-16T19:30:00.000000000",
          "2014-01-16T20:00:00.000000000",
          "2014-01-16T20:30:00.000000000",
          "2014-01-16T21:00:00.000000000",
          "2014-01-16T21:30:00.000000000",
          "2014-01-16T22:00:00.000000000",
          "2014-01-16T22:30:00.000000000",
          "2014-01-16T23:00:00.000000000",
          "2014-01-16T23:30:00.000000000",
          "2014-01-17T00:00:00.000000000",
          "2014-01-17T00:30:00.000000000",
          "2014-01-17T01:00:00.000000000",
          "2014-01-17T01:30:00.000000000",
          "2014-01-17T02:00:00.000000000",
          "2014-01-17T02:30:00.000000000",
          "2014-01-17T03:00:00.000000000",
          "2014-01-17T03:30:00.000000000",
          "2014-01-17T04:00:00.000000000",
          "2014-01-17T04:30:00.000000000",
          "2014-01-17T05:00:00.000000000",
          "2014-01-17T05:30:00.000000000",
          "2014-01-17T06:00:00.000000000",
          "2014-01-17T06:30:00.000000000",
          "2014-01-17T07:00:00.000000000",
          "2014-01-17T07:30:00.000000000",
          "2014-01-17T08:00:00.000000000",
          "2014-01-17T08:30:00.000000000",
          "2014-01-17T09:00:00.000000000",
          "2014-01-17T09:30:00.000000000",
          "2014-01-17T10:00:00.000000000",
          "2014-01-17T10:30:00.000000000",
          "2014-01-17T11:00:00.000000000",
          "2014-01-17T11:30:00.000000000",
          "2014-01-17T12:00:00.000000000",
          "2014-01-17T12:30:00.000000000",
          "2014-01-17T13:00:00.000000000",
          "2014-01-17T13:30:00.000000000",
          "2014-01-17T14:00:00.000000000",
          "2014-01-17T14:30:00.000000000",
          "2014-01-17T15:00:00.000000000",
          "2014-01-17T15:30:00.000000000",
          "2014-01-17T16:00:00.000000000",
          "2014-01-17T16:30:00.000000000",
          "2014-01-17T17:00:00.000000000",
          "2014-01-17T17:30:00.000000000",
          "2014-01-17T18:00:00.000000000",
          "2014-01-17T18:30:00.000000000",
          "2014-01-17T19:00:00.000000000",
          "2014-01-17T19:30:00.000000000",
          "2014-01-17T20:00:00.000000000",
          "2014-01-17T20:30:00.000000000",
          "2014-01-17T21:00:00.000000000",
          "2014-01-17T21:30:00.000000000",
          "2014-01-17T22:00:00.000000000",
          "2014-01-17T22:30:00.000000000",
          "2014-01-17T23:00:00.000000000",
          "2014-01-17T23:30:00.000000000",
          "2014-01-18T00:00:00.000000000",
          "2014-01-18T00:30:00.000000000",
          "2014-01-18T01:00:00.000000000",
          "2014-01-18T01:30:00.000000000",
          "2014-01-18T02:00:00.000000000",
          "2014-01-18T02:30:00.000000000",
          "2014-01-18T03:00:00.000000000",
          "2014-01-18T03:30:00.000000000",
          "2014-01-18T04:00:00.000000000",
          "2014-01-18T04:30:00.000000000",
          "2014-01-18T05:00:00.000000000",
          "2014-01-18T05:30:00.000000000",
          "2014-01-18T06:00:00.000000000",
          "2014-01-18T06:30:00.000000000",
          "2014-01-18T07:00:00.000000000",
          "2014-01-18T07:30:00.000000000",
          "2014-01-18T08:00:00.000000000",
          "2014-01-18T08:30:00.000000000",
          "2014-01-18T09:00:00.000000000",
          "2014-01-18T09:30:00.000000000",
          "2014-01-18T10:00:00.000000000",
          "2014-01-18T10:30:00.000000000",
          "2014-01-18T11:00:00.000000000",
          "2014-01-18T11:30:00.000000000",
          "2014-01-18T12:00:00.000000000",
          "2014-01-18T12:30:00.000000000",
          "2014-01-18T13:00:00.000000000",
          "2014-01-18T13:30:00.000000000",
          "2014-01-18T14:00:00.000000000",
          "2014-01-18T14:30:00.000000000",
          "2014-01-18T15:00:00.000000000",
          "2014-01-18T15:30:00.000000000",
          "2014-01-18T16:00:00.000000000",
          "2014-01-18T16:30:00.000000000",
          "2014-01-18T17:00:00.000000000",
          "2014-01-18T17:30:00.000000000",
          "2014-01-18T18:00:00.000000000",
          "2014-01-18T18:30:00.000000000",
          "2014-01-18T19:00:00.000000000",
          "2014-01-18T19:30:00.000000000",
          "2014-01-18T20:00:00.000000000",
          "2014-01-18T20:30:00.000000000",
          "2014-01-18T21:00:00.000000000",
          "2014-01-18T21:30:00.000000000",
          "2014-01-18T22:00:00.000000000",
          "2014-01-18T22:30:00.000000000",
          "2014-01-18T23:00:00.000000000",
          "2014-01-18T23:30:00.000000000",
          "2014-01-19T00:00:00.000000000",
          "2014-01-19T00:30:00.000000000",
          "2014-01-19T01:00:00.000000000",
          "2014-01-19T01:30:00.000000000",
          "2014-01-19T02:00:00.000000000",
          "2014-01-19T02:30:00.000000000",
          "2014-01-19T03:00:00.000000000",
          "2014-01-19T03:30:00.000000000",
          "2014-01-19T04:00:00.000000000",
          "2014-01-19T04:30:00.000000000",
          "2014-01-19T05:00:00.000000000",
          "2014-01-19T05:30:00.000000000",
          "2014-01-19T06:00:00.000000000",
          "2014-01-19T06:30:00.000000000",
          "2014-01-19T07:00:00.000000000",
          "2014-01-19T07:30:00.000000000",
          "2014-01-19T08:00:00.000000000",
          "2014-01-19T08:30:00.000000000",
          "2014-01-19T09:00:00.000000000",
          "2014-01-19T09:30:00.000000000",
          "2014-01-19T10:00:00.000000000",
          "2014-01-19T10:30:00.000000000",
          "2014-01-19T11:00:00.000000000",
          "2014-01-19T11:30:00.000000000",
          "2014-01-19T12:00:00.000000000",
          "2014-01-19T12:30:00.000000000",
          "2014-01-19T13:00:00.000000000",
          "2014-01-19T13:30:00.000000000",
          "2014-01-19T14:00:00.000000000",
          "2014-01-19T14:30:00.000000000",
          "2014-01-19T15:00:00.000000000",
          "2014-01-19T15:30:00.000000000",
          "2014-01-19T16:00:00.000000000",
          "2014-01-19T16:30:00.000000000",
          "2014-01-19T17:00:00.000000000",
          "2014-01-19T17:30:00.000000000",
          "2014-01-19T18:00:00.000000000",
          "2014-01-19T18:30:00.000000000",
          "2014-01-19T19:00:00.000000000",
          "2014-01-19T19:30:00.000000000",
          "2014-01-19T20:00:00.000000000",
          "2014-01-19T20:30:00.000000000",
          "2014-01-19T21:00:00.000000000",
          "2014-01-19T21:30:00.000000000",
          "2014-01-19T22:00:00.000000000",
          "2014-01-19T22:30:00.000000000",
          "2014-01-19T23:00:00.000000000",
          "2014-01-19T23:30:00.000000000",
          "2014-01-20T00:00:00.000000000",
          "2014-01-20T00:30:00.000000000",
          "2014-01-20T01:00:00.000000000",
          "2014-01-20T01:30:00.000000000",
          "2014-01-20T02:00:00.000000000",
          "2014-01-20T02:30:00.000000000",
          "2014-01-20T03:00:00.000000000",
          "2014-01-20T03:30:00.000000000",
          "2014-01-20T04:00:00.000000000",
          "2014-01-20T04:30:00.000000000",
          "2014-01-20T05:00:00.000000000",
          "2014-01-20T05:30:00.000000000",
          "2014-01-20T06:00:00.000000000",
          "2014-01-20T06:30:00.000000000",
          "2014-01-20T07:00:00.000000000",
          "2014-01-20T07:30:00.000000000",
          "2014-01-20T08:00:00.000000000",
          "2014-01-20T08:30:00.000000000",
          "2014-01-20T09:00:00.000000000",
          "2014-01-20T09:30:00.000000000",
          "2014-01-20T10:00:00.000000000",
          "2014-01-20T10:30:00.000000000",
          "2014-01-20T11:00:00.000000000",
          "2014-01-20T11:30:00.000000000",
          "2014-01-20T12:00:00.000000000",
          "2014-01-20T12:30:00.000000000",
          "2014-01-20T13:00:00.000000000",
          "2014-01-20T13:30:00.000000000",
          "2014-01-20T14:00:00.000000000",
          "2014-01-20T14:30:00.000000000",
          "2014-01-20T15:00:00.000000000",
          "2014-01-20T15:30:00.000000000",
          "2014-01-20T16:00:00.000000000",
          "2014-01-20T16:30:00.000000000",
          "2014-01-20T17:00:00.000000000",
          "2014-01-20T17:30:00.000000000",
          "2014-01-20T18:00:00.000000000",
          "2014-01-20T18:30:00.000000000",
          "2014-01-20T19:00:00.000000000",
          "2014-01-20T19:30:00.000000000",
          "2014-01-20T20:00:00.000000000",
          "2014-01-20T20:30:00.000000000",
          "2014-01-20T21:00:00.000000000",
          "2014-01-20T21:30:00.000000000",
          "2014-01-20T22:00:00.000000000",
          "2014-01-20T22:30:00.000000000",
          "2014-01-20T23:00:00.000000000",
          "2014-01-20T23:30:00.000000000",
          "2014-01-21T00:00:00.000000000",
          "2014-01-21T00:30:00.000000000",
          "2014-01-21T01:00:00.000000000",
          "2014-01-21T01:30:00.000000000",
          "2014-01-21T02:00:00.000000000",
          "2014-01-21T02:30:00.000000000",
          "2014-01-21T03:00:00.000000000",
          "2014-01-21T03:30:00.000000000",
          "2014-01-21T04:00:00.000000000",
          "2014-01-21T04:30:00.000000000",
          "2014-01-21T05:00:00.000000000",
          "2014-01-21T05:30:00.000000000",
          "2014-01-21T06:00:00.000000000",
          "2014-01-21T06:30:00.000000000",
          "2014-01-21T07:00:00.000000000",
          "2014-01-21T07:30:00.000000000",
          "2014-01-21T08:00:00.000000000",
          "2014-01-21T08:30:00.000000000",
          "2014-01-21T09:00:00.000000000",
          "2014-01-21T09:30:00.000000000",
          "2014-01-21T10:00:00.000000000",
          "2014-01-21T10:30:00.000000000",
          "2014-01-21T11:00:00.000000000",
          "2014-01-21T11:30:00.000000000",
          "2014-01-21T12:00:00.000000000",
          "2014-01-21T12:30:00.000000000",
          "2014-01-21T13:00:00.000000000",
          "2014-01-21T13:30:00.000000000",
          "2014-01-21T14:00:00.000000000",
          "2014-01-21T14:30:00.000000000",
          "2014-01-21T15:00:00.000000000",
          "2014-01-21T15:30:00.000000000",
          "2014-01-21T16:00:00.000000000",
          "2014-01-21T16:30:00.000000000",
          "2014-01-21T17:00:00.000000000",
          "2014-01-21T17:30:00.000000000",
          "2014-01-21T18:00:00.000000000",
          "2014-01-21T18:30:00.000000000",
          "2014-01-21T19:00:00.000000000",
          "2014-01-21T19:30:00.000000000",
          "2014-01-21T20:00:00.000000000",
          "2014-01-21T20:30:00.000000000",
          "2014-01-21T21:00:00.000000000",
          "2014-01-21T21:30:00.000000000",
          "2014-01-21T22:00:00.000000000",
          "2014-01-21T22:30:00.000000000",
          "2014-01-21T23:00:00.000000000",
          "2014-01-21T23:30:00.000000000",
          "2014-01-22T00:00:00.000000000",
          "2014-01-22T00:30:00.000000000",
          "2014-01-22T01:00:00.000000000",
          "2014-01-22T01:30:00.000000000",
          "2014-01-22T02:00:00.000000000",
          "2014-01-22T02:30:00.000000000",
          "2014-01-22T03:00:00.000000000",
          "2014-01-22T03:30:00.000000000",
          "2014-01-22T04:00:00.000000000",
          "2014-01-22T04:30:00.000000000",
          "2014-01-22T05:00:00.000000000",
          "2014-01-22T05:30:00.000000000",
          "2014-01-22T06:00:00.000000000",
          "2014-01-22T06:30:00.000000000",
          "2014-01-22T07:00:00.000000000",
          "2014-01-22T07:30:00.000000000",
          "2014-01-22T08:00:00.000000000",
          "2014-01-22T08:30:00.000000000",
          "2014-01-22T09:00:00.000000000",
          "2014-01-22T09:30:00.000000000",
          "2014-01-22T10:00:00.000000000",
          "2014-01-22T10:30:00.000000000",
          "2014-01-22T11:00:00.000000000",
          "2014-01-22T11:30:00.000000000",
          "2014-01-22T12:00:00.000000000",
          "2014-01-22T12:30:00.000000000",
          "2014-01-22T13:00:00.000000000",
          "2014-01-22T13:30:00.000000000",
          "2014-01-22T14:00:00.000000000",
          "2014-01-22T14:30:00.000000000",
          "2014-01-22T15:00:00.000000000",
          "2014-01-22T15:30:00.000000000",
          "2014-01-22T16:00:00.000000000",
          "2014-01-22T16:30:00.000000000",
          "2014-01-22T17:00:00.000000000",
          "2014-01-22T17:30:00.000000000",
          "2014-01-22T18:00:00.000000000",
          "2014-01-22T18:30:00.000000000",
          "2014-01-22T19:00:00.000000000",
          "2014-01-22T19:30:00.000000000",
          "2014-01-22T20:00:00.000000000",
          "2014-01-22T20:30:00.000000000",
          "2014-01-22T21:00:00.000000000",
          "2014-01-22T21:30:00.000000000",
          "2014-01-22T22:00:00.000000000",
          "2014-01-22T22:30:00.000000000",
          "2014-01-22T23:00:00.000000000",
          "2014-01-22T23:30:00.000000000",
          "2014-01-23T00:00:00.000000000",
          "2014-01-23T00:30:00.000000000",
          "2014-01-23T01:00:00.000000000",
          "2014-01-23T01:30:00.000000000",
          "2014-01-23T02:00:00.000000000",
          "2014-01-23T02:30:00.000000000",
          "2014-01-23T03:00:00.000000000",
          "2014-01-23T03:30:00.000000000",
          "2014-01-23T04:00:00.000000000",
          "2014-01-23T04:30:00.000000000",
          "2014-01-23T05:00:00.000000000",
          "2014-01-23T05:30:00.000000000",
          "2014-01-23T06:00:00.000000000",
          "2014-01-23T06:30:00.000000000",
          "2014-01-23T07:00:00.000000000",
          "2014-01-23T07:30:00.000000000",
          "2014-01-23T08:00:00.000000000",
          "2014-01-23T08:30:00.000000000",
          "2014-01-23T09:00:00.000000000",
          "2014-01-23T09:30:00.000000000",
          "2014-01-23T10:00:00.000000000",
          "2014-01-23T10:30:00.000000000",
          "2014-01-23T11:00:00.000000000",
          "2014-01-23T11:30:00.000000000",
          "2014-01-23T12:00:00.000000000",
          "2014-01-23T12:30:00.000000000",
          "2014-01-23T13:00:00.000000000",
          "2014-01-23T13:30:00.000000000",
          "2014-01-23T14:00:00.000000000",
          "2014-01-23T14:30:00.000000000",
          "2014-01-23T15:00:00.000000000",
          "2014-01-23T15:30:00.000000000",
          "2014-01-23T16:00:00.000000000",
          "2014-01-23T16:30:00.000000000",
          "2014-01-23T17:00:00.000000000",
          "2014-01-23T17:30:00.000000000",
          "2014-01-23T18:00:00.000000000",
          "2014-01-23T18:30:00.000000000",
          "2014-01-23T19:00:00.000000000",
          "2014-01-23T19:30:00.000000000",
          "2014-01-23T20:00:00.000000000",
          "2014-01-23T20:30:00.000000000",
          "2014-01-23T21:00:00.000000000",
          "2014-01-23T21:30:00.000000000",
          "2014-01-23T22:00:00.000000000",
          "2014-01-23T22:30:00.000000000",
          "2014-01-23T23:00:00.000000000",
          "2014-01-23T23:30:00.000000000",
          "2014-01-24T00:00:00.000000000",
          "2014-01-24T00:30:00.000000000",
          "2014-01-24T01:00:00.000000000",
          "2014-01-24T01:30:00.000000000",
          "2014-01-24T02:00:00.000000000",
          "2014-01-24T02:30:00.000000000",
          "2014-01-24T03:00:00.000000000",
          "2014-01-24T03:30:00.000000000",
          "2014-01-24T04:00:00.000000000",
          "2014-01-24T04:30:00.000000000",
          "2014-01-24T05:00:00.000000000",
          "2014-01-24T05:30:00.000000000",
          "2014-01-24T06:00:00.000000000",
          "2014-01-24T06:30:00.000000000",
          "2014-01-24T07:00:00.000000000",
          "2014-01-24T07:30:00.000000000",
          "2014-01-24T08:00:00.000000000",
          "2014-01-24T08:30:00.000000000",
          "2014-01-24T09:00:00.000000000",
          "2014-01-24T09:30:00.000000000",
          "2014-01-24T10:00:00.000000000",
          "2014-01-24T10:30:00.000000000",
          "2014-01-24T11:00:00.000000000",
          "2014-01-24T11:30:00.000000000",
          "2014-01-24T12:00:00.000000000",
          "2014-01-24T12:30:00.000000000",
          "2014-01-24T13:00:00.000000000",
          "2014-01-24T13:30:00.000000000",
          "2014-01-24T14:00:00.000000000",
          "2014-01-24T14:30:00.000000000",
          "2014-01-24T15:00:00.000000000",
          "2014-01-24T15:30:00.000000000",
          "2014-01-24T16:00:00.000000000",
          "2014-01-24T16:30:00.000000000",
          "2014-01-24T17:00:00.000000000",
          "2014-01-24T17:30:00.000000000",
          "2014-01-24T18:00:00.000000000",
          "2014-01-24T18:30:00.000000000",
          "2014-01-24T19:00:00.000000000",
          "2014-01-24T19:30:00.000000000",
          "2014-01-24T20:00:00.000000000",
          "2014-01-24T20:30:00.000000000",
          "2014-01-24T21:00:00.000000000",
          "2014-01-24T21:30:00.000000000",
          "2014-01-24T22:00:00.000000000",
          "2014-01-24T22:30:00.000000000",
          "2014-01-24T23:00:00.000000000",
          "2014-01-24T23:30:00.000000000",
          "2014-01-25T00:00:00.000000000",
          "2014-01-25T00:30:00.000000000",
          "2014-01-25T01:00:00.000000000",
          "2014-01-25T01:30:00.000000000",
          "2014-01-25T02:00:00.000000000",
          "2014-01-25T02:30:00.000000000",
          "2014-01-25T03:00:00.000000000",
          "2014-01-25T03:30:00.000000000",
          "2014-01-25T04:00:00.000000000",
          "2014-01-25T04:30:00.000000000",
          "2014-01-25T05:00:00.000000000",
          "2014-01-25T05:30:00.000000000",
          "2014-01-25T06:00:00.000000000",
          "2014-01-25T06:30:00.000000000",
          "2014-01-25T07:00:00.000000000",
          "2014-01-25T07:30:00.000000000",
          "2014-01-25T08:00:00.000000000",
          "2014-01-25T08:30:00.000000000",
          "2014-01-25T09:00:00.000000000",
          "2014-01-25T09:30:00.000000000",
          "2014-01-25T10:00:00.000000000",
          "2014-01-25T10:30:00.000000000",
          "2014-01-25T11:00:00.000000000",
          "2014-01-25T11:30:00.000000000",
          "2014-01-25T12:00:00.000000000",
          "2014-01-25T12:30:00.000000000",
          "2014-01-25T13:00:00.000000000",
          "2014-01-25T13:30:00.000000000",
          "2014-01-25T14:00:00.000000000",
          "2014-01-25T14:30:00.000000000",
          "2014-01-25T15:00:00.000000000",
          "2014-01-25T15:30:00.000000000",
          "2014-01-25T16:00:00.000000000",
          "2014-01-25T16:30:00.000000000",
          "2014-01-25T17:00:00.000000000",
          "2014-01-25T17:30:00.000000000",
          "2014-01-25T18:00:00.000000000",
          "2014-01-25T18:30:00.000000000",
          "2014-01-25T19:00:00.000000000",
          "2014-01-25T19:30:00.000000000",
          "2014-01-25T20:00:00.000000000",
          "2014-01-25T20:30:00.000000000",
          "2014-01-25T21:00:00.000000000",
          "2014-01-25T21:30:00.000000000",
          "2014-01-25T22:00:00.000000000",
          "2014-01-25T22:30:00.000000000",
          "2014-01-25T23:00:00.000000000",
          "2014-01-25T23:30:00.000000000",
          "2014-01-26T00:00:00.000000000",
          "2014-01-26T00:30:00.000000000",
          "2014-01-26T01:00:00.000000000",
          "2014-01-26T01:30:00.000000000",
          "2014-01-26T02:00:00.000000000",
          "2014-01-26T02:30:00.000000000",
          "2014-01-26T03:00:00.000000000",
          "2014-01-26T03:30:00.000000000",
          "2014-01-26T04:00:00.000000000",
          "2014-01-26T04:30:00.000000000",
          "2014-01-26T05:00:00.000000000",
          "2014-01-26T05:30:00.000000000",
          "2014-01-26T06:00:00.000000000",
          "2014-01-26T06:30:00.000000000",
          "2014-01-26T07:00:00.000000000",
          "2014-01-26T07:30:00.000000000",
          "2014-01-26T08:00:00.000000000",
          "2014-01-26T08:30:00.000000000",
          "2014-01-26T09:00:00.000000000",
          "2014-01-26T09:30:00.000000000",
          "2014-01-26T10:00:00.000000000",
          "2014-01-26T10:30:00.000000000",
          "2014-01-26T11:00:00.000000000",
          "2014-01-26T11:30:00.000000000",
          "2014-01-26T12:00:00.000000000",
          "2014-01-26T12:30:00.000000000",
          "2014-01-26T13:00:00.000000000",
          "2014-01-26T13:30:00.000000000",
          "2014-01-26T14:00:00.000000000",
          "2014-01-26T14:30:00.000000000",
          "2014-01-26T15:00:00.000000000",
          "2014-01-26T15:30:00.000000000",
          "2014-01-26T16:00:00.000000000",
          "2014-01-26T16:30:00.000000000",
          "2014-01-26T17:00:00.000000000",
          "2014-01-26T17:30:00.000000000",
          "2014-01-26T18:00:00.000000000",
          "2014-01-26T18:30:00.000000000",
          "2014-01-26T19:00:00.000000000",
          "2014-01-26T19:30:00.000000000",
          "2014-01-26T20:00:00.000000000",
          "2014-01-26T20:30:00.000000000",
          "2014-01-26T21:00:00.000000000",
          "2014-01-26T21:30:00.000000000",
          "2014-01-26T22:00:00.000000000",
          "2014-01-26T22:30:00.000000000",
          "2014-01-26T23:00:00.000000000",
          "2014-01-26T23:30:00.000000000",
          "2014-01-27T00:00:00.000000000",
          "2014-01-27T00:30:00.000000000",
          "2014-01-27T01:00:00.000000000",
          "2014-01-27T01:30:00.000000000",
          "2014-01-27T02:00:00.000000000",
          "2014-01-27T02:30:00.000000000",
          "2014-01-27T03:00:00.000000000",
          "2014-01-27T03:30:00.000000000",
          "2014-01-27T04:00:00.000000000",
          "2014-01-27T04:30:00.000000000",
          "2014-01-27T05:00:00.000000000",
          "2014-01-27T05:30:00.000000000",
          "2014-01-27T06:00:00.000000000",
          "2014-01-27T06:30:00.000000000",
          "2014-01-27T07:00:00.000000000",
          "2014-01-27T07:30:00.000000000",
          "2014-01-27T08:00:00.000000000",
          "2014-01-27T08:30:00.000000000",
          "2014-01-27T09:00:00.000000000",
          "2014-01-27T09:30:00.000000000",
          "2014-01-27T10:00:00.000000000",
          "2014-01-27T10:30:00.000000000",
          "2014-01-27T11:00:00.000000000",
          "2014-01-27T11:30:00.000000000",
          "2014-01-27T12:00:00.000000000",
          "2014-01-27T12:30:00.000000000",
          "2014-01-27T13:00:00.000000000",
          "2014-01-27T13:30:00.000000000",
          "2014-01-27T14:00:00.000000000",
          "2014-01-27T14:30:00.000000000",
          "2014-01-27T15:00:00.000000000",
          "2014-01-27T15:30:00.000000000",
          "2014-01-27T16:00:00.000000000",
          "2014-01-27T16:30:00.000000000",
          "2014-01-27T17:00:00.000000000",
          "2014-01-27T17:30:00.000000000",
          "2014-01-27T18:00:00.000000000",
          "2014-01-27T18:30:00.000000000",
          "2014-01-27T19:00:00.000000000",
          "2014-01-27T19:30:00.000000000",
          "2014-01-27T20:00:00.000000000",
          "2014-01-27T20:30:00.000000000",
          "2014-01-27T21:00:00.000000000",
          "2014-01-27T21:30:00.000000000",
          "2014-01-27T22:00:00.000000000",
          "2014-01-27T22:30:00.000000000",
          "2014-01-27T23:00:00.000000000",
          "2014-01-27T23:30:00.000000000",
          "2014-01-28T00:00:00.000000000",
          "2014-01-28T00:30:00.000000000",
          "2014-01-28T01:00:00.000000000",
          "2014-01-28T01:30:00.000000000",
          "2014-01-28T02:00:00.000000000",
          "2014-01-28T02:30:00.000000000",
          "2014-01-28T03:00:00.000000000",
          "2014-01-28T03:30:00.000000000",
          "2014-01-28T04:00:00.000000000",
          "2014-01-28T04:30:00.000000000",
          "2014-01-28T05:00:00.000000000",
          "2014-01-28T05:30:00.000000000",
          "2014-01-28T06:00:00.000000000",
          "2014-01-28T06:30:00.000000000",
          "2014-01-28T07:00:00.000000000",
          "2014-01-28T07:30:00.000000000",
          "2014-01-28T08:00:00.000000000",
          "2014-01-28T08:30:00.000000000",
          "2014-01-28T09:00:00.000000000",
          "2014-01-28T09:30:00.000000000",
          "2014-01-28T10:00:00.000000000",
          "2014-01-28T10:30:00.000000000",
          "2014-01-28T11:00:00.000000000",
          "2014-01-28T11:30:00.000000000",
          "2014-01-28T12:00:00.000000000",
          "2014-01-28T12:30:00.000000000",
          "2014-01-28T13:00:00.000000000",
          "2014-01-28T13:30:00.000000000",
          "2014-01-28T14:00:00.000000000",
          "2014-01-28T14:30:00.000000000",
          "2014-01-28T15:00:00.000000000",
          "2014-01-28T15:30:00.000000000",
          "2014-01-28T16:00:00.000000000",
          "2014-01-28T16:30:00.000000000",
          "2014-01-28T17:00:00.000000000",
          "2014-01-28T17:30:00.000000000",
          "2014-01-28T18:00:00.000000000",
          "2014-01-28T18:30:00.000000000",
          "2014-01-28T19:00:00.000000000",
          "2014-01-28T19:30:00.000000000",
          "2014-01-28T20:00:00.000000000",
          "2014-01-28T20:30:00.000000000",
          "2014-01-28T21:00:00.000000000",
          "2014-01-28T21:30:00.000000000",
          "2014-01-28T22:00:00.000000000",
          "2014-01-28T22:30:00.000000000",
          "2014-01-28T23:00:00.000000000",
          "2014-01-28T23:30:00.000000000",
          "2014-01-29T00:00:00.000000000",
          "2014-01-29T00:30:00.000000000",
          "2014-01-29T01:00:00.000000000",
          "2014-01-29T01:30:00.000000000",
          "2014-01-29T02:00:00.000000000",
          "2014-01-29T02:30:00.000000000",
          "2014-01-29T03:00:00.000000000",
          "2014-01-29T03:30:00.000000000",
          "2014-01-29T04:00:00.000000000",
          "2014-01-29T04:30:00.000000000",
          "2014-01-29T05:00:00.000000000",
          "2014-01-29T05:30:00.000000000",
          "2014-01-29T06:00:00.000000000",
          "2014-01-29T06:30:00.000000000",
          "2014-01-29T07:00:00.000000000",
          "2014-01-29T07:30:00.000000000",
          "2014-01-29T08:00:00.000000000",
          "2014-01-29T08:30:00.000000000",
          "2014-01-29T09:00:00.000000000",
          "2014-01-29T09:30:00.000000000",
          "2014-01-29T10:00:00.000000000",
          "2014-01-29T10:30:00.000000000",
          "2014-01-29T11:00:00.000000000",
          "2014-01-29T11:30:00.000000000",
          "2014-01-29T12:00:00.000000000",
          "2014-01-29T12:30:00.000000000",
          "2014-01-29T13:00:00.000000000",
          "2014-01-29T13:30:00.000000000",
          "2014-01-29T14:00:00.000000000",
          "2014-01-29T14:30:00.000000000",
          "2014-01-29T15:00:00.000000000",
          "2014-01-29T15:30:00.000000000",
          "2014-01-29T16:00:00.000000000",
          "2014-01-29T16:30:00.000000000",
          "2014-01-29T17:00:00.000000000",
          "2014-01-29T17:30:00.000000000",
          "2014-01-29T18:00:00.000000000",
          "2014-01-29T18:30:00.000000000",
          "2014-01-29T19:00:00.000000000",
          "2014-01-29T19:30:00.000000000",
          "2014-01-29T20:00:00.000000000",
          "2014-01-29T20:30:00.000000000",
          "2014-01-29T21:00:00.000000000",
          "2014-01-29T21:30:00.000000000",
          "2014-01-29T22:00:00.000000000",
          "2014-01-29T22:30:00.000000000",
          "2014-01-29T23:00:00.000000000",
          "2014-01-29T23:30:00.000000000",
          "2014-01-30T00:00:00.000000000",
          "2014-01-30T00:30:00.000000000",
          "2014-01-30T01:00:00.000000000",
          "2014-01-30T01:30:00.000000000",
          "2014-01-30T02:00:00.000000000",
          "2014-01-30T02:30:00.000000000",
          "2014-01-30T03:00:00.000000000",
          "2014-01-30T03:30:00.000000000",
          "2014-01-30T04:00:00.000000000",
          "2014-01-30T04:30:00.000000000",
          "2014-01-30T05:00:00.000000000",
          "2014-01-30T05:30:00.000000000",
          "2014-01-30T06:00:00.000000000",
          "2014-01-30T06:30:00.000000000",
          "2014-01-30T07:00:00.000000000",
          "2014-01-30T07:30:00.000000000",
          "2014-01-30T08:00:00.000000000",
          "2014-01-30T08:30:00.000000000",
          "2014-01-30T09:00:00.000000000",
          "2014-01-30T09:30:00.000000000",
          "2014-01-30T10:00:00.000000000",
          "2014-01-30T10:30:00.000000000",
          "2014-01-30T11:00:00.000000000",
          "2014-01-30T11:30:00.000000000",
          "2014-01-30T12:00:00.000000000",
          "2014-01-30T12:30:00.000000000",
          "2014-01-30T13:00:00.000000000",
          "2014-01-30T13:30:00.000000000",
          "2014-01-30T14:00:00.000000000",
          "2014-01-30T14:30:00.000000000",
          "2014-01-30T15:00:00.000000000",
          "2014-01-30T15:30:00.000000000",
          "2014-01-30T16:00:00.000000000",
          "2014-01-30T16:30:00.000000000",
          "2014-01-30T17:00:00.000000000",
          "2014-01-30T17:30:00.000000000",
          "2014-01-30T18:00:00.000000000",
          "2014-01-30T18:30:00.000000000",
          "2014-01-30T19:00:00.000000000",
          "2014-01-30T19:30:00.000000000",
          "2014-01-30T20:00:00.000000000",
          "2014-01-30T20:30:00.000000000",
          "2014-01-30T21:00:00.000000000",
          "2014-01-30T21:30:00.000000000",
          "2014-01-30T22:00:00.000000000",
          "2014-01-30T22:30:00.000000000",
          "2014-01-30T23:00:00.000000000",
          "2014-01-30T23:30:00.000000000",
          "2014-01-31T00:00:00.000000000",
          "2014-01-31T00:30:00.000000000",
          "2014-01-31T01:00:00.000000000",
          "2014-01-31T01:30:00.000000000",
          "2014-01-31T02:00:00.000000000",
          "2014-01-31T02:30:00.000000000",
          "2014-01-31T03:00:00.000000000",
          "2014-01-31T03:30:00.000000000",
          "2014-01-31T04:00:00.000000000",
          "2014-01-31T04:30:00.000000000",
          "2014-01-31T05:00:00.000000000",
          "2014-01-31T05:30:00.000000000",
          "2014-01-31T06:00:00.000000000",
          "2014-01-31T06:30:00.000000000",
          "2014-01-31T07:00:00.000000000",
          "2014-01-31T07:30:00.000000000",
          "2014-01-31T08:00:00.000000000",
          "2014-01-31T08:30:00.000000000",
          "2014-01-31T09:00:00.000000000",
          "2014-01-31T09:30:00.000000000",
          "2014-01-31T10:00:00.000000000",
          "2014-01-31T10:30:00.000000000",
          "2014-01-31T11:00:00.000000000",
          "2014-01-31T11:30:00.000000000",
          "2014-01-31T12:00:00.000000000",
          "2014-01-31T12:30:00.000000000",
          "2014-01-31T13:00:00.000000000",
          "2014-01-31T13:30:00.000000000",
          "2014-01-31T14:00:00.000000000",
          "2014-01-31T14:30:00.000000000",
          "2014-01-31T15:00:00.000000000",
          "2014-01-31T15:30:00.000000000",
          "2014-01-31T16:00:00.000000000",
          "2014-01-31T16:30:00.000000000",
          "2014-01-31T17:00:00.000000000",
          "2014-01-31T17:30:00.000000000",
          "2014-01-31T18:00:00.000000000",
          "2014-01-31T18:30:00.000000000",
          "2014-01-31T19:00:00.000000000",
          "2014-01-31T19:30:00.000000000",
          "2014-01-31T20:00:00.000000000",
          "2014-01-31T20:30:00.000000000",
          "2014-01-31T21:00:00.000000000",
          "2014-01-31T21:30:00.000000000",
          "2014-01-31T22:00:00.000000000",
          "2014-01-31T22:30:00.000000000",
          "2014-01-31T23:00:00.000000000",
          "2014-01-31T23:30:00.000000000"
         ],
         "y": {
          "bdata": "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",
          "dtype": "f8"
         }
        },
        {
         "line": {
          "color": "rgba(217,95,2, 1)",
          "dash": "dash"
         },
         "mode": "lines",
         "name": "HoltWinters",
         "type": "scatter",
         "x": [
          "2014-01-01T00:00:00.000000000",
          "2014-01-01T00:30:00.000000000",
          "2014-01-01T01:00:00.000000000",
          "2014-01-01T01:30:00.000000000",
          "2014-01-01T02:00:00.000000000",
          "2014-01-01T02:30:00.000000000",
          "2014-01-01T03:00:00.000000000",
          "2014-01-01T03:30:00.000000000",
          "2014-01-01T04:00:00.000000000",
          "2014-01-01T04:30:00.000000000",
          "2014-01-01T05:00:00.000000000",
          "2014-01-01T05:30:00.000000000",
          "2014-01-01T06:00:00.000000000",
          "2014-01-01T06:30:00.000000000",
          "2014-01-01T07:00:00.000000000",
          "2014-01-01T07:30:00.000000000",
          "2014-01-01T08:00:00.000000000",
          "2014-01-01T08:30:00.000000000",
          "2014-01-01T09:00:00.000000000",
          "2014-01-01T09:30:00.000000000",
          "2014-01-01T10:00:00.000000000",
          "2014-01-01T10:30:00.000000000",
          "2014-01-01T11:00:00.000000000",
          "2014-01-01T11:30:00.000000000",
          "2014-01-01T12:00:00.000000000",
          "2014-01-01T12:30:00.000000000",
          "2014-01-01T13:00:00.000000000",
          "2014-01-01T13:30:00.000000000",
          "2014-01-01T14:00:00.000000000",
          "2014-01-01T14:30:00.000000000",
          "2014-01-01T15:00:00.000000000",
          "2014-01-01T15:30:00.000000000",
          "2014-01-01T16:00:00.000000000",
          "2014-01-01T16:30:00.000000000",
          "2014-01-01T17:00:00.000000000",
          "2014-01-01T17:30:00.000000000",
          "2014-01-01T18:00:00.000000000",
          "2014-01-01T18:30:00.000000000",
          "2014-01-01T19:00:00.000000000",
          "2014-01-01T19:30:00.000000000",
          "2014-01-01T20:00:00.000000000",
          "2014-01-01T20:30:00.000000000",
          "2014-01-01T21:00:00.000000000",
          "2014-01-01T21:30:00.000000000",
          "2014-01-01T22:00:00.000000000",
          "2014-01-01T22:30:00.000000000",
          "2014-01-01T23:00:00.000000000",
          "2014-01-01T23:30:00.000000000",
          "2014-01-02T00:00:00.000000000",
          "2014-01-02T00:30:00.000000000",
          "2014-01-02T01:00:00.000000000",
          "2014-01-02T01:30:00.000000000",
          "2014-01-02T02:00:00.000000000",
          "2014-01-02T02:30:00.000000000",
          "2014-01-02T03:00:00.000000000",
          "2014-01-02T03:30:00.000000000",
          "2014-01-02T04:00:00.000000000",
          "2014-01-02T04:30:00.000000000",
          "2014-01-02T05:00:00.000000000",
          "2014-01-02T05:30:00.000000000",
          "2014-01-02T06:00:00.000000000",
          "2014-01-02T06:30:00.000000000",
          "2014-01-02T07:00:00.000000000",
          "2014-01-02T07:30:00.000000000",
          "2014-01-02T08:00:00.000000000",
          "2014-01-02T08:30:00.000000000",
          "2014-01-02T09:00:00.000000000",
          "2014-01-02T09:30:00.000000000",
          "2014-01-02T10:00:00.000000000",
          "2014-01-02T10:30:00.000000000",
          "2014-01-02T11:00:00.000000000",
          "2014-01-02T11:30:00.000000000",
          "2014-01-02T12:00:00.000000000",
          "2014-01-02T12:30:00.000000000",
          "2014-01-02T13:00:00.000000000",
          "2014-01-02T13:30:00.000000000",
          "2014-01-02T14:00:00.000000000",
          "2014-01-02T14:30:00.000000000",
          "2014-01-02T15:00:00.000000000",
          "2014-01-02T15:30:00.000000000",
          "2014-01-02T16:00:00.000000000",
          "2014-01-02T16:30:00.000000000",
          "2014-01-02T17:00:00.000000000",
          "2014-01-02T17:30:00.000000000",
          "2014-01-02T18:00:00.000000000",
          "2014-01-02T18:30:00.000000000",
          "2014-01-02T19:00:00.000000000",
          "2014-01-02T19:30:00.000000000",
          "2014-01-02T20:00:00.000000000",
          "2014-01-02T20:30:00.000000000",
          "2014-01-02T21:00:00.000000000",
          "2014-01-02T21:30:00.000000000",
          "2014-01-02T22:00:00.000000000",
          "2014-01-02T22:30:00.000000000",
          "2014-01-02T23:00:00.000000000",
          "2014-01-02T23:30:00.000000000",
          "2014-01-03T00:00:00.000000000",
          "2014-01-03T00:30:00.000000000",
          "2014-01-03T01:00:00.000000000",
          "2014-01-03T01:30:00.000000000",
          "2014-01-03T02:00:00.000000000",
          "2014-01-03T02:30:00.000000000",
          "2014-01-03T03:00:00.000000000",
          "2014-01-03T03:30:00.000000000",
          "2014-01-03T04:00:00.000000000",
          "2014-01-03T04:30:00.000000000",
          "2014-01-03T05:00:00.000000000",
          "2014-01-03T05:30:00.000000000",
          "2014-01-03T06:00:00.000000000",
          "2014-01-03T06:30:00.000000000",
          "2014-01-03T07:00:00.000000000",
          "2014-01-03T07:30:00.000000000",
          "2014-01-03T08:00:00.000000000",
          "2014-01-03T08:30:00.000000000",
          "2014-01-03T09:00:00.000000000",
          "2014-01-03T09:30:00.000000000",
          "2014-01-03T10:00:00.000000000",
          "2014-01-03T10:30:00.000000000",
          "2014-01-03T11:00:00.000000000",
          "2014-01-03T11:30:00.000000000",
          "2014-01-03T12:00:00.000000000",
          "2014-01-03T12:30:00.000000000",
          "2014-01-03T13:00:00.000000000",
          "2014-01-03T13:30:00.000000000",
          "2014-01-03T14:00:00.000000000",
          "2014-01-03T14:30:00.000000000",
          "2014-01-03T15:00:00.000000000",
          "2014-01-03T15:30:00.000000000",
          "2014-01-03T16:00:00.000000000",
          "2014-01-03T16:30:00.000000000",
          "2014-01-03T17:00:00.000000000",
          "2014-01-03T17:30:00.000000000",
          "2014-01-03T18:00:00.000000000",
          "2014-01-03T18:30:00.000000000",
          "2014-01-03T19:00:00.000000000",
          "2014-01-03T19:30:00.000000000",
          "2014-01-03T20:00:00.000000000",
          "2014-01-03T20:30:00.000000000",
          "2014-01-03T21:00:00.000000000",
          "2014-01-03T21:30:00.000000000",
          "2014-01-03T22:00:00.000000000",
          "2014-01-03T22:30:00.000000000",
          "2014-01-03T23:00:00.000000000",
          "2014-01-03T23:30:00.000000000",
          "2014-01-04T00:00:00.000000000",
          "2014-01-04T00:30:00.000000000",
          "2014-01-04T01:00:00.000000000",
          "2014-01-04T01:30:00.000000000",
          "2014-01-04T02:00:00.000000000",
          "2014-01-04T02:30:00.000000000",
          "2014-01-04T03:00:00.000000000",
          "2014-01-04T03:30:00.000000000",
          "2014-01-04T04:00:00.000000000",
          "2014-01-04T04:30:00.000000000",
          "2014-01-04T05:00:00.000000000",
          "2014-01-04T05:30:00.000000000",
          "2014-01-04T06:00:00.000000000",
          "2014-01-04T06:30:00.000000000",
          "2014-01-04T07:00:00.000000000",
          "2014-01-04T07:30:00.000000000",
          "2014-01-04T08:00:00.000000000",
          "2014-01-04T08:30:00.000000000",
          "2014-01-04T09:00:00.000000000",
          "2014-01-04T09:30:00.000000000",
          "2014-01-04T10:00:00.000000000",
          "2014-01-04T10:30:00.000000000",
          "2014-01-04T11:00:00.000000000",
          "2014-01-04T11:30:00.000000000",
          "2014-01-04T12:00:00.000000000",
          "2014-01-04T12:30:00.000000000",
          "2014-01-04T13:00:00.000000000",
          "2014-01-04T13:30:00.000000000",
          "2014-01-04T14:00:00.000000000",
          "2014-01-04T14:30:00.000000000",
          "2014-01-04T15:00:00.000000000",
          "2014-01-04T15:30:00.000000000",
          "2014-01-04T16:00:00.000000000",
          "2014-01-04T16:30:00.000000000",
          "2014-01-04T17:00:00.000000000",
          "2014-01-04T17:30:00.000000000",
          "2014-01-04T18:00:00.000000000",
          "2014-01-04T18:30:00.000000000",
          "2014-01-04T19:00:00.000000000",
          "2014-01-04T19:30:00.000000000",
          "2014-01-04T20:00:00.000000000",
          "2014-01-04T20:30:00.000000000",
          "2014-01-04T21:00:00.000000000",
          "2014-01-04T21:30:00.000000000",
          "2014-01-04T22:00:00.000000000",
          "2014-01-04T22:30:00.000000000",
          "2014-01-04T23:00:00.000000000",
          "2014-01-04T23:30:00.000000000",
          "2014-01-05T00:00:00.000000000",
          "2014-01-05T00:30:00.000000000",
          "2014-01-05T01:00:00.000000000",
          "2014-01-05T01:30:00.000000000",
          "2014-01-05T02:00:00.000000000",
          "2014-01-05T02:30:00.000000000",
          "2014-01-05T03:00:00.000000000",
          "2014-01-05T03:30:00.000000000",
          "2014-01-05T04:00:00.000000000",
          "2014-01-05T04:30:00.000000000",
          "2014-01-05T05:00:00.000000000",
          "2014-01-05T05:30:00.000000000",
          "2014-01-05T06:00:00.000000000",
          "2014-01-05T06:30:00.000000000",
          "2014-01-05T07:00:00.000000000",
          "2014-01-05T07:30:00.000000000",
          "2014-01-05T08:00:00.000000000",
          "2014-01-05T08:30:00.000000000",
          "2014-01-05T09:00:00.000000000",
          "2014-01-05T09:30:00.000000000",
          "2014-01-05T10:00:00.000000000",
          "2014-01-05T10:30:00.000000000",
          "2014-01-05T11:00:00.000000000",
          "2014-01-05T11:30:00.000000000",
          "2014-01-05T12:00:00.000000000",
          "2014-01-05T12:30:00.000000000",
          "2014-01-05T13:00:00.000000000",
          "2014-01-05T13:30:00.000000000",
          "2014-01-05T14:00:00.000000000",
          "2014-01-05T14:30:00.000000000",
          "2014-01-05T15:00:00.000000000",
          "2014-01-05T15:30:00.000000000",
          "2014-01-05T16:00:00.000000000",
          "2014-01-05T16:30:00.000000000",
          "2014-01-05T17:00:00.000000000",
          "2014-01-05T17:30:00.000000000",
          "2014-01-05T18:00:00.000000000",
          "2014-01-05T18:30:00.000000000",
          "2014-01-05T19:00:00.000000000",
          "2014-01-05T19:30:00.000000000",
          "2014-01-05T20:00:00.000000000",
          "2014-01-05T20:30:00.000000000",
          "2014-01-05T21:00:00.000000000",
          "2014-01-05T21:30:00.000000000",
          "2014-01-05T22:00:00.000000000",
          "2014-01-05T22:30:00.000000000",
          "2014-01-05T23:00:00.000000000",
          "2014-01-05T23:30:00.000000000",
          "2014-01-06T00:00:00.000000000",
          "2014-01-06T00:30:00.000000000",
          "2014-01-06T01:00:00.000000000",
          "2014-01-06T01:30:00.000000000",
          "2014-01-06T02:00:00.000000000",
          "2014-01-06T02:30:00.000000000",
          "2014-01-06T03:00:00.000000000",
          "2014-01-06T03:30:00.000000000",
          "2014-01-06T04:00:00.000000000",
          "2014-01-06T04:30:00.000000000",
          "2014-01-06T05:00:00.000000000",
          "2014-01-06T05:30:00.000000000",
          "2014-01-06T06:00:00.000000000",
          "2014-01-06T06:30:00.000000000",
          "2014-01-06T07:00:00.000000000",
          "2014-01-06T07:30:00.000000000",
          "2014-01-06T08:00:00.000000000",
          "2014-01-06T08:30:00.000000000",
          "2014-01-06T09:00:00.000000000",
          "2014-01-06T09:30:00.000000000",
          "2014-01-06T10:00:00.000000000",
          "2014-01-06T10:30:00.000000000",
          "2014-01-06T11:00:00.000000000",
          "2014-01-06T11:30:00.000000000",
          "2014-01-06T12:00:00.000000000",
          "2014-01-06T12:30:00.000000000",
          "2014-01-06T13:00:00.000000000",
          "2014-01-06T13:30:00.000000000",
          "2014-01-06T14:00:00.000000000",
          "2014-01-06T14:30:00.000000000",
          "2014-01-06T15:00:00.000000000",
          "2014-01-06T15:30:00.000000000",
          "2014-01-06T16:00:00.000000000",
          "2014-01-06T16:30:00.000000000",
          "2014-01-06T17:00:00.000000000",
          "2014-01-06T17:30:00.000000000",
          "2014-01-06T18:00:00.000000000",
          "2014-01-06T18:30:00.000000000",
          "2014-01-06T19:00:00.000000000",
          "2014-01-06T19:30:00.000000000",
          "2014-01-06T20:00:00.000000000",
          "2014-01-06T20:30:00.000000000",
          "2014-01-06T21:00:00.000000000",
          "2014-01-06T21:30:00.000000000",
          "2014-01-06T22:00:00.000000000",
          "2014-01-06T22:30:00.000000000",
          "2014-01-06T23:00:00.000000000",
          "2014-01-06T23:30:00.000000000",
          "2014-01-07T00:00:00.000000000",
          "2014-01-07T00:30:00.000000000",
          "2014-01-07T01:00:00.000000000",
          "2014-01-07T01:30:00.000000000",
          "2014-01-07T02:00:00.000000000",
          "2014-01-07T02:30:00.000000000",
          "2014-01-07T03:00:00.000000000",
          "2014-01-07T03:30:00.000000000",
          "2014-01-07T04:00:00.000000000",
          "2014-01-07T04:30:00.000000000",
          "2014-01-07T05:00:00.000000000",
          "2014-01-07T05:30:00.000000000",
          "2014-01-07T06:00:00.000000000",
          "2014-01-07T06:30:00.000000000",
          "2014-01-07T07:00:00.000000000",
          "2014-01-07T07:30:00.000000000",
          "2014-01-07T08:00:00.000000000",
          "2014-01-07T08:30:00.000000000",
          "2014-01-07T09:00:00.000000000",
          "2014-01-07T09:30:00.000000000",
          "2014-01-07T10:00:00.000000000",
          "2014-01-07T10:30:00.000000000",
          "2014-01-07T11:00:00.000000000",
          "2014-01-07T11:30:00.000000000",
          "2014-01-07T12:00:00.000000000",
          "2014-01-07T12:30:00.000000000",
          "2014-01-07T13:00:00.000000000",
          "2014-01-07T13:30:00.000000000",
          "2014-01-07T14:00:00.000000000",
          "2014-01-07T14:30:00.000000000",
          "2014-01-07T15:00:00.000000000",
          "2014-01-07T15:30:00.000000000",
          "2014-01-07T16:00:00.000000000",
          "2014-01-07T16:30:00.000000000",
          "2014-01-07T17:00:00.000000000",
          "2014-01-07T17:30:00.000000000",
          "2014-01-07T18:00:00.000000000",
          "2014-01-07T18:30:00.000000000",
          "2014-01-07T19:00:00.000000000",
          "2014-01-07T19:30:00.000000000",
          "2014-01-07T20:00:00.000000000",
          "2014-01-07T20:30:00.000000000",
          "2014-01-07T21:00:00.000000000",
          "2014-01-07T21:30:00.000000000",
          "2014-01-07T22:00:00.000000000",
          "2014-01-07T22:30:00.000000000",
          "2014-01-07T23:00:00.000000000",
          "2014-01-07T23:30:00.000000000",
          "2014-01-08T00:00:00.000000000",
          "2014-01-08T00:30:00.000000000",
          "2014-01-08T01:00:00.000000000",
          "2014-01-08T01:30:00.000000000",
          "2014-01-08T02:00:00.000000000",
          "2014-01-08T02:30:00.000000000",
          "2014-01-08T03:00:00.000000000",
          "2014-01-08T03:30:00.000000000",
          "2014-01-08T04:00:00.000000000",
          "2014-01-08T04:30:00.000000000",
          "2014-01-08T05:00:00.000000000",
          "2014-01-08T05:30:00.000000000",
          "2014-01-08T06:00:00.000000000",
          "2014-01-08T06:30:00.000000000",
          "2014-01-08T07:00:00.000000000",
          "2014-01-08T07:30:00.000000000",
          "2014-01-08T08:00:00.000000000",
          "2014-01-08T08:30:00.000000000",
          "2014-01-08T09:00:00.000000000",
          "2014-01-08T09:30:00.000000000",
          "2014-01-08T10:00:00.000000000",
          "2014-01-08T10:30:00.000000000",
          "2014-01-08T11:00:00.000000000",
          "2014-01-08T11:30:00.000000000",
          "2014-01-08T12:00:00.000000000",
          "2014-01-08T12:30:00.000000000",
          "2014-01-08T13:00:00.000000000",
          "2014-01-08T13:30:00.000000000",
          "2014-01-08T14:00:00.000000000",
          "2014-01-08T14:30:00.000000000",
          "2014-01-08T15:00:00.000000000",
          "2014-01-08T15:30:00.000000000",
          "2014-01-08T16:00:00.000000000",
          "2014-01-08T16:30:00.000000000",
          "2014-01-08T17:00:00.000000000",
          "2014-01-08T17:30:00.000000000",
          "2014-01-08T18:00:00.000000000",
          "2014-01-08T18:30:00.000000000",
          "2014-01-08T19:00:00.000000000",
          "2014-01-08T19:30:00.000000000",
          "2014-01-08T20:00:00.000000000",
          "2014-01-08T20:30:00.000000000",
          "2014-01-08T21:00:00.000000000",
          "2014-01-08T21:30:00.000000000",
          "2014-01-08T22:00:00.000000000",
          "2014-01-08T22:30:00.000000000",
          "2014-01-08T23:00:00.000000000",
          "2014-01-08T23:30:00.000000000",
          "2014-01-09T00:00:00.000000000",
          "2014-01-09T00:30:00.000000000",
          "2014-01-09T01:00:00.000000000",
          "2014-01-09T01:30:00.000000000",
          "2014-01-09T02:00:00.000000000",
          "2014-01-09T02:30:00.000000000",
          "2014-01-09T03:00:00.000000000",
          "2014-01-09T03:30:00.000000000",
          "2014-01-09T04:00:00.000000000",
          "2014-01-09T04:30:00.000000000",
          "2014-01-09T05:00:00.000000000",
          "2014-01-09T05:30:00.000000000",
          "2014-01-09T06:00:00.000000000",
          "2014-01-09T06:30:00.000000000",
          "2014-01-09T07:00:00.000000000",
          "2014-01-09T07:30:00.000000000",
          "2014-01-09T08:00:00.000000000",
          "2014-01-09T08:30:00.000000000",
          "2014-01-09T09:00:00.000000000",
          "2014-01-09T09:30:00.000000000",
          "2014-01-09T10:00:00.000000000",
          "2014-01-09T10:30:00.000000000",
          "2014-01-09T11:00:00.000000000",
          "2014-01-09T11:30:00.000000000",
          "2014-01-09T12:00:00.000000000",
          "2014-01-09T12:30:00.000000000",
          "2014-01-09T13:00:00.000000000",
          "2014-01-09T13:30:00.000000000",
          "2014-01-09T14:00:00.000000000",
          "2014-01-09T14:30:00.000000000",
          "2014-01-09T15:00:00.000000000",
          "2014-01-09T15:30:00.000000000",
          "2014-01-09T16:00:00.000000000",
          "2014-01-09T16:30:00.000000000",
          "2014-01-09T17:00:00.000000000",
          "2014-01-09T17:30:00.000000000",
          "2014-01-09T18:00:00.000000000",
          "2014-01-09T18:30:00.000000000",
          "2014-01-09T19:00:00.000000000",
          "2014-01-09T19:30:00.000000000",
          "2014-01-09T20:00:00.000000000",
          "2014-01-09T20:30:00.000000000",
          "2014-01-09T21:00:00.000000000",
          "2014-01-09T21:30:00.000000000",
          "2014-01-09T22:00:00.000000000",
          "2014-01-09T22:30:00.000000000",
          "2014-01-09T23:00:00.000000000",
          "2014-01-09T23:30:00.000000000",
          "2014-01-10T00:00:00.000000000",
          "2014-01-10T00:30:00.000000000",
          "2014-01-10T01:00:00.000000000",
          "2014-01-10T01:30:00.000000000",
          "2014-01-10T02:00:00.000000000",
          "2014-01-10T02:30:00.000000000",
          "2014-01-10T03:00:00.000000000",
          "2014-01-10T03:30:00.000000000",
          "2014-01-10T04:00:00.000000000",
          "2014-01-10T04:30:00.000000000",
          "2014-01-10T05:00:00.000000000",
          "2014-01-10T05:30:00.000000000",
          "2014-01-10T06:00:00.000000000",
          "2014-01-10T06:30:00.000000000",
          "2014-01-10T07:00:00.000000000",
          "2014-01-10T07:30:00.000000000",
          "2014-01-10T08:00:00.000000000",
          "2014-01-10T08:30:00.000000000",
          "2014-01-10T09:00:00.000000000",
          "2014-01-10T09:30:00.000000000",
          "2014-01-10T10:00:00.000000000",
          "2014-01-10T10:30:00.000000000",
          "2014-01-10T11:00:00.000000000",
          "2014-01-10T11:30:00.000000000",
          "2014-01-10T12:00:00.000000000",
          "2014-01-10T12:30:00.000000000",
          "2014-01-10T13:00:00.000000000",
          "2014-01-10T13:30:00.000000000",
          "2014-01-10T14:00:00.000000000",
          "2014-01-10T14:30:00.000000000",
          "2014-01-10T15:00:00.000000000",
          "2014-01-10T15:30:00.000000000",
          "2014-01-10T16:00:00.000000000",
          "2014-01-10T16:30:00.000000000",
          "2014-01-10T17:00:00.000000000",
          "2014-01-10T17:30:00.000000000",
          "2014-01-10T18:00:00.000000000",
          "2014-01-10T18:30:00.000000000",
          "2014-01-10T19:00:00.000000000",
          "2014-01-10T19:30:00.000000000",
          "2014-01-10T20:00:00.000000000",
          "2014-01-10T20:30:00.000000000",
          "2014-01-10T21:00:00.000000000",
          "2014-01-10T21:30:00.000000000",
          "2014-01-10T22:00:00.000000000",
          "2014-01-10T22:30:00.000000000",
          "2014-01-10T23:00:00.000000000",
          "2014-01-10T23:30:00.000000000",
          "2014-01-11T00:00:00.000000000",
          "2014-01-11T00:30:00.000000000",
          "2014-01-11T01:00:00.000000000",
          "2014-01-11T01:30:00.000000000",
          "2014-01-11T02:00:00.000000000",
          "2014-01-11T02:30:00.000000000",
          "2014-01-11T03:00:00.000000000",
          "2014-01-11T03:30:00.000000000",
          "2014-01-11T04:00:00.000000000",
          "2014-01-11T04:30:00.000000000",
          "2014-01-11T05:00:00.000000000",
          "2014-01-11T05:30:00.000000000",
          "2014-01-11T06:00:00.000000000",
          "2014-01-11T06:30:00.000000000",
          "2014-01-11T07:00:00.000000000",
          "2014-01-11T07:30:00.000000000",
          "2014-01-11T08:00:00.000000000",
          "2014-01-11T08:30:00.000000000",
          "2014-01-11T09:00:00.000000000",
          "2014-01-11T09:30:00.000000000",
          "2014-01-11T10:00:00.000000000",
          "2014-01-11T10:30:00.000000000",
          "2014-01-11T11:00:00.000000000",
          "2014-01-11T11:30:00.000000000",
          "2014-01-11T12:00:00.000000000",
          "2014-01-11T12:30:00.000000000",
          "2014-01-11T13:00:00.000000000",
          "2014-01-11T13:30:00.000000000",
          "2014-01-11T14:00:00.000000000",
          "2014-01-11T14:30:00.000000000",
          "2014-01-11T15:00:00.000000000",
          "2014-01-11T15:30:00.000000000",
          "2014-01-11T16:00:00.000000000",
          "2014-01-11T16:30:00.000000000",
          "2014-01-11T17:00:00.000000000",
          "2014-01-11T17:30:00.000000000",
          "2014-01-11T18:00:00.000000000",
          "2014-01-11T18:30:00.000000000",
          "2014-01-11T19:00:00.000000000",
          "2014-01-11T19:30:00.000000000",
          "2014-01-11T20:00:00.000000000",
          "2014-01-11T20:30:00.000000000",
          "2014-01-11T21:00:00.000000000",
          "2014-01-11T21:30:00.000000000",
          "2014-01-11T22:00:00.000000000",
          "2014-01-11T22:30:00.000000000",
          "2014-01-11T23:00:00.000000000",
          "2014-01-11T23:30:00.000000000",
          "2014-01-12T00:00:00.000000000",
          "2014-01-12T00:30:00.000000000",
          "2014-01-12T01:00:00.000000000",
          "2014-01-12T01:30:00.000000000",
          "2014-01-12T02:00:00.000000000",
          "2014-01-12T02:30:00.000000000",
          "2014-01-12T03:00:00.000000000",
          "2014-01-12T03:30:00.000000000",
          "2014-01-12T04:00:00.000000000",
          "2014-01-12T04:30:00.000000000",
          "2014-01-12T05:00:00.000000000",
          "2014-01-12T05:30:00.000000000",
          "2014-01-12T06:00:00.000000000",
          "2014-01-12T06:30:00.000000000",
          "2014-01-12T07:00:00.000000000",
          "2014-01-12T07:30:00.000000000",
          "2014-01-12T08:00:00.000000000",
          "2014-01-12T08:30:00.000000000",
          "2014-01-12T09:00:00.000000000",
          "2014-01-12T09:30:00.000000000",
          "2014-01-12T10:00:00.000000000",
          "2014-01-12T10:30:00.000000000",
          "2014-01-12T11:00:00.000000000",
          "2014-01-12T11:30:00.000000000",
          "2014-01-12T12:00:00.000000000",
          "2014-01-12T12:30:00.000000000",
          "2014-01-12T13:00:00.000000000",
          "2014-01-12T13:30:00.000000000",
          "2014-01-12T14:00:00.000000000",
          "2014-01-12T14:30:00.000000000",
          "2014-01-12T15:00:00.000000000",
          "2014-01-12T15:30:00.000000000",
          "2014-01-12T16:00:00.000000000",
          "2014-01-12T16:30:00.000000000",
          "2014-01-12T17:00:00.000000000",
          "2014-01-12T17:30:00.000000000",
          "2014-01-12T18:00:00.000000000",
          "2014-01-12T18:30:00.000000000",
          "2014-01-12T19:00:00.000000000",
          "2014-01-12T19:30:00.000000000",
          "2014-01-12T20:00:00.000000000",
          "2014-01-12T20:30:00.000000000",
          "2014-01-12T21:00:00.000000000",
          "2014-01-12T21:30:00.000000000",
          "2014-01-12T22:00:00.000000000",
          "2014-01-12T22:30:00.000000000",
          "2014-01-12T23:00:00.000000000",
          "2014-01-12T23:30:00.000000000",
          "2014-01-13T00:00:00.000000000",
          "2014-01-13T00:30:00.000000000",
          "2014-01-13T01:00:00.000000000",
          "2014-01-13T01:30:00.000000000",
          "2014-01-13T02:00:00.000000000",
          "2014-01-13T02:30:00.000000000",
          "2014-01-13T03:00:00.000000000",
          "2014-01-13T03:30:00.000000000",
          "2014-01-13T04:00:00.000000000",
          "2014-01-13T04:30:00.000000000",
          "2014-01-13T05:00:00.000000000",
          "2014-01-13T05:30:00.000000000",
          "2014-01-13T06:00:00.000000000",
          "2014-01-13T06:30:00.000000000",
          "2014-01-13T07:00:00.000000000",
          "2014-01-13T07:30:00.000000000",
          "2014-01-13T08:00:00.000000000",
          "2014-01-13T08:30:00.000000000",
          "2014-01-13T09:00:00.000000000",
          "2014-01-13T09:30:00.000000000",
          "2014-01-13T10:00:00.000000000",
          "2014-01-13T10:30:00.000000000",
          "2014-01-13T11:00:00.000000000",
          "2014-01-13T11:30:00.000000000",
          "2014-01-13T12:00:00.000000000",
          "2014-01-13T12:30:00.000000000",
          "2014-01-13T13:00:00.000000000",
          "2014-01-13T13:30:00.000000000",
          "2014-01-13T14:00:00.000000000",
          "2014-01-13T14:30:00.000000000",
          "2014-01-13T15:00:00.000000000",
          "2014-01-13T15:30:00.000000000",
          "2014-01-13T16:00:00.000000000",
          "2014-01-13T16:30:00.000000000",
          "2014-01-13T17:00:00.000000000",
          "2014-01-13T17:30:00.000000000",
          "2014-01-13T18:00:00.000000000",
          "2014-01-13T18:30:00.000000000",
          "2014-01-13T19:00:00.000000000",
          "2014-01-13T19:30:00.000000000",
          "2014-01-13T20:00:00.000000000",
          "2014-01-13T20:30:00.000000000",
          "2014-01-13T21:00:00.000000000",
          "2014-01-13T21:30:00.000000000",
          "2014-01-13T22:00:00.000000000",
          "2014-01-13T22:30:00.000000000",
          "2014-01-13T23:00:00.000000000",
          "2014-01-13T23:30:00.000000000",
          "2014-01-14T00:00:00.000000000",
          "2014-01-14T00:30:00.000000000",
          "2014-01-14T01:00:00.000000000",
          "2014-01-14T01:30:00.000000000",
          "2014-01-14T02:00:00.000000000",
          "2014-01-14T02:30:00.000000000",
          "2014-01-14T03:00:00.000000000",
          "2014-01-14T03:30:00.000000000",
          "2014-01-14T04:00:00.000000000",
          "2014-01-14T04:30:00.000000000",
          "2014-01-14T05:00:00.000000000",
          "2014-01-14T05:30:00.000000000",
          "2014-01-14T06:00:00.000000000",
          "2014-01-14T06:30:00.000000000",
          "2014-01-14T07:00:00.000000000",
          "2014-01-14T07:30:00.000000000",
          "2014-01-14T08:00:00.000000000",
          "2014-01-14T08:30:00.000000000",
          "2014-01-14T09:00:00.000000000",
          "2014-01-14T09:30:00.000000000",
          "2014-01-14T10:00:00.000000000",
          "2014-01-14T10:30:00.000000000",
          "2014-01-14T11:00:00.000000000",
          "2014-01-14T11:30:00.000000000",
          "2014-01-14T12:00:00.000000000",
          "2014-01-14T12:30:00.000000000",
          "2014-01-14T13:00:00.000000000",
          "2014-01-14T13:30:00.000000000",
          "2014-01-14T14:00:00.000000000",
          "2014-01-14T14:30:00.000000000",
          "2014-01-14T15:00:00.000000000",
          "2014-01-14T15:30:00.000000000",
          "2014-01-14T16:00:00.000000000",
          "2014-01-14T16:30:00.000000000",
          "2014-01-14T17:00:00.000000000",
          "2014-01-14T17:30:00.000000000",
          "2014-01-14T18:00:00.000000000",
          "2014-01-14T18:30:00.000000000",
          "2014-01-14T19:00:00.000000000",
          "2014-01-14T19:30:00.000000000",
          "2014-01-14T20:00:00.000000000",
          "2014-01-14T20:30:00.000000000",
          "2014-01-14T21:00:00.000000000",
          "2014-01-14T21:30:00.000000000",
          "2014-01-14T22:00:00.000000000",
          "2014-01-14T22:30:00.000000000",
          "2014-01-14T23:00:00.000000000",
          "2014-01-14T23:30:00.000000000",
          "2014-01-15T00:00:00.000000000",
          "2014-01-15T00:30:00.000000000",
          "2014-01-15T01:00:00.000000000",
          "2014-01-15T01:30:00.000000000",
          "2014-01-15T02:00:00.000000000",
          "2014-01-15T02:30:00.000000000",
          "2014-01-15T03:00:00.000000000",
          "2014-01-15T03:30:00.000000000",
          "2014-01-15T04:00:00.000000000",
          "2014-01-15T04:30:00.000000000",
          "2014-01-15T05:00:00.000000000",
          "2014-01-15T05:30:00.000000000",
          "2014-01-15T06:00:00.000000000",
          "2014-01-15T06:30:00.000000000",
          "2014-01-15T07:00:00.000000000",
          "2014-01-15T07:30:00.000000000",
          "2014-01-15T08:00:00.000000000",
          "2014-01-15T08:30:00.000000000",
          "2014-01-15T09:00:00.000000000",
          "2014-01-15T09:30:00.000000000",
          "2014-01-15T10:00:00.000000000",
          "2014-01-15T10:30:00.000000000",
          "2014-01-15T11:00:00.000000000",
          "2014-01-15T11:30:00.000000000",
          "2014-01-15T12:00:00.000000000",
          "2014-01-15T12:30:00.000000000",
          "2014-01-15T13:00:00.000000000",
          "2014-01-15T13:30:00.000000000",
          "2014-01-15T14:00:00.000000000",
          "2014-01-15T14:30:00.000000000",
          "2014-01-15T15:00:00.000000000",
          "2014-01-15T15:30:00.000000000",
          "2014-01-15T16:00:00.000000000",
          "2014-01-15T16:30:00.000000000",
          "2014-01-15T17:00:00.000000000",
          "2014-01-15T17:30:00.000000000",
          "2014-01-15T18:00:00.000000000",
          "2014-01-15T18:30:00.000000000",
          "2014-01-15T19:00:00.000000000",
          "2014-01-15T19:30:00.000000000",
          "2014-01-15T20:00:00.000000000",
          "2014-01-15T20:30:00.000000000",
          "2014-01-15T21:00:00.000000000",
          "2014-01-15T21:30:00.000000000",
          "2014-01-15T22:00:00.000000000",
          "2014-01-15T22:30:00.000000000",
          "2014-01-15T23:00:00.000000000",
          "2014-01-15T23:30:00.000000000",
          "2014-01-16T00:00:00.000000000",
          "2014-01-16T00:30:00.000000000",
          "2014-01-16T01:00:00.000000000",
          "2014-01-16T01:30:00.000000000",
          "2014-01-16T02:00:00.000000000",
          "2014-01-16T02:30:00.000000000",
          "2014-01-16T03:00:00.000000000",
          "2014-01-16T03:30:00.000000000",
          "2014-01-16T04:00:00.000000000",
          "2014-01-16T04:30:00.000000000",
          "2014-01-16T05:00:00.000000000",
          "2014-01-16T05:30:00.000000000",
          "2014-01-16T06:00:00.000000000",
          "2014-01-16T06:30:00.000000000",
          "2014-01-16T07:00:00.000000000",
          "2014-01-16T07:30:00.000000000",
          "2014-01-16T08:00:00.000000000",
          "2014-01-16T08:30:00.000000000",
          "2014-01-16T09:00:00.000000000",
          "2014-01-16T09:30:00.000000000",
          "2014-01-16T10:00:00.000000000",
          "2014-01-16T10:30:00.000000000",
          "2014-01-16T11:00:00.000000000",
          "2014-01-16T11:30:00.000000000",
          "2014-01-16T12:00:00.000000000",
          "2014-01-16T12:30:00.000000000",
          "2014-01-16T13:00:00.000000000",
          "2014-01-16T13:30:00.000000000",
          "2014-01-16T14:00:00.000000000",
          "2014-01-16T14:30:00.000000000",
          "2014-01-16T15:00:00.000000000",
          "2014-01-16T15:30:00.000000000",
          "2014-01-16T16:00:00.000000000",
          "2014-01-16T16:30:00.000000000",
          "2014-01-16T17:00:00.000000000",
          "2014-01-16T17:30:00.000000000",
          "2014-01-16T18:00:00.000000000",
          "2014-01-16T18:30:00.000000000",
          "2014-01-16T19:00:00.000000000",
          "2014-01-16T19:30:00.000000000",
          "2014-01-16T20:00:00.000000000",
          "2014-01-16T20:30:00.000000000",
          "2014-01-16T21:00:00.000000000",
          "2014-01-16T21:30:00.000000000",
          "2014-01-16T22:00:00.000000000",
          "2014-01-16T22:30:00.000000000",
          "2014-01-16T23:00:00.000000000",
          "2014-01-16T23:30:00.000000000",
          "2014-01-17T00:00:00.000000000",
          "2014-01-17T00:30:00.000000000",
          "2014-01-17T01:00:00.000000000",
          "2014-01-17T01:30:00.000000000",
          "2014-01-17T02:00:00.000000000",
          "2014-01-17T02:30:00.000000000",
          "2014-01-17T03:00:00.000000000",
          "2014-01-17T03:30:00.000000000",
          "2014-01-17T04:00:00.000000000",
          "2014-01-17T04:30:00.000000000",
          "2014-01-17T05:00:00.000000000",
          "2014-01-17T05:30:00.000000000",
          "2014-01-17T06:00:00.000000000",
          "2014-01-17T06:30:00.000000000",
          "2014-01-17T07:00:00.000000000",
          "2014-01-17T07:30:00.000000000",
          "2014-01-17T08:00:00.000000000",
          "2014-01-17T08:30:00.000000000",
          "2014-01-17T09:00:00.000000000",
          "2014-01-17T09:30:00.000000000",
          "2014-01-17T10:00:00.000000000",
          "2014-01-17T10:30:00.000000000",
          "2014-01-17T11:00:00.000000000",
          "2014-01-17T11:30:00.000000000",
          "2014-01-17T12:00:00.000000000",
          "2014-01-17T12:30:00.000000000",
          "2014-01-17T13:00:00.000000000",
          "2014-01-17T13:30:00.000000000",
          "2014-01-17T14:00:00.000000000",
          "2014-01-17T14:30:00.000000000",
          "2014-01-17T15:00:00.000000000",
          "2014-01-17T15:30:00.000000000",
          "2014-01-17T16:00:00.000000000",
          "2014-01-17T16:30:00.000000000",
          "2014-01-17T17:00:00.000000000",
          "2014-01-17T17:30:00.000000000",
          "2014-01-17T18:00:00.000000000",
          "2014-01-17T18:30:00.000000000",
          "2014-01-17T19:00:00.000000000",
          "2014-01-17T19:30:00.000000000",
          "2014-01-17T20:00:00.000000000",
          "2014-01-17T20:30:00.000000000",
          "2014-01-17T21:00:00.000000000",
          "2014-01-17T21:30:00.000000000",
          "2014-01-17T22:00:00.000000000",
          "2014-01-17T22:30:00.000000000",
          "2014-01-17T23:00:00.000000000",
          "2014-01-17T23:30:00.000000000",
          "2014-01-18T00:00:00.000000000",
          "2014-01-18T00:30:00.000000000",
          "2014-01-18T01:00:00.000000000",
          "2014-01-18T01:30:00.000000000",
          "2014-01-18T02:00:00.000000000",
          "2014-01-18T02:30:00.000000000",
          "2014-01-18T03:00:00.000000000",
          "2014-01-18T03:30:00.000000000",
          "2014-01-18T04:00:00.000000000",
          "2014-01-18T04:30:00.000000000",
          "2014-01-18T05:00:00.000000000",
          "2014-01-18T05:30:00.000000000",
          "2014-01-18T06:00:00.000000000",
          "2014-01-18T06:30:00.000000000",
          "2014-01-18T07:00:00.000000000",
          "2014-01-18T07:30:00.000000000",
          "2014-01-18T08:00:00.000000000",
          "2014-01-18T08:30:00.000000000",
          "2014-01-18T09:00:00.000000000",
          "2014-01-18T09:30:00.000000000",
          "2014-01-18T10:00:00.000000000",
          "2014-01-18T10:30:00.000000000",
          "2014-01-18T11:00:00.000000000",
          "2014-01-18T11:30:00.000000000",
          "2014-01-18T12:00:00.000000000",
          "2014-01-18T12:30:00.000000000",
          "2014-01-18T13:00:00.000000000",
          "2014-01-18T13:30:00.000000000",
          "2014-01-18T14:00:00.000000000",
          "2014-01-18T14:30:00.000000000",
          "2014-01-18T15:00:00.000000000",
          "2014-01-18T15:30:00.000000000",
          "2014-01-18T16:00:00.000000000",
          "2014-01-18T16:30:00.000000000",
          "2014-01-18T17:00:00.000000000",
          "2014-01-18T17:30:00.000000000",
          "2014-01-18T18:00:00.000000000",
          "2014-01-18T18:30:00.000000000",
          "2014-01-18T19:00:00.000000000",
          "2014-01-18T19:30:00.000000000",
          "2014-01-18T20:00:00.000000000",
          "2014-01-18T20:30:00.000000000",
          "2014-01-18T21:00:00.000000000",
          "2014-01-18T21:30:00.000000000",
          "2014-01-18T22:00:00.000000000",
          "2014-01-18T22:30:00.000000000",
          "2014-01-18T23:00:00.000000000",
          "2014-01-18T23:30:00.000000000",
          "2014-01-19T00:00:00.000000000",
          "2014-01-19T00:30:00.000000000",
          "2014-01-19T01:00:00.000000000",
          "2014-01-19T01:30:00.000000000",
          "2014-01-19T02:00:00.000000000",
          "2014-01-19T02:30:00.000000000",
          "2014-01-19T03:00:00.000000000",
          "2014-01-19T03:30:00.000000000",
          "2014-01-19T04:00:00.000000000",
          "2014-01-19T04:30:00.000000000",
          "2014-01-19T05:00:00.000000000",
          "2014-01-19T05:30:00.000000000",
          "2014-01-19T06:00:00.000000000",
          "2014-01-19T06:30:00.000000000",
          "2014-01-19T07:00:00.000000000",
          "2014-01-19T07:30:00.000000000",
          "2014-01-19T08:00:00.000000000",
          "2014-01-19T08:30:00.000000000",
          "2014-01-19T09:00:00.000000000",
          "2014-01-19T09:30:00.000000000",
          "2014-01-19T10:00:00.000000000",
          "2014-01-19T10:30:00.000000000",
          "2014-01-19T11:00:00.000000000",
          "2014-01-19T11:30:00.000000000",
          "2014-01-19T12:00:00.000000000",
          "2014-01-19T12:30:00.000000000",
          "2014-01-19T13:00:00.000000000",
          "2014-01-19T13:30:00.000000000",
          "2014-01-19T14:00:00.000000000",
          "2014-01-19T14:30:00.000000000",
          "2014-01-19T15:00:00.000000000",
          "2014-01-19T15:30:00.000000000",
          "2014-01-19T16:00:00.000000000",
          "2014-01-19T16:30:00.000000000",
          "2014-01-19T17:00:00.000000000",
          "2014-01-19T17:30:00.000000000",
          "2014-01-19T18:00:00.000000000",
          "2014-01-19T18:30:00.000000000",
          "2014-01-19T19:00:00.000000000",
          "2014-01-19T19:30:00.000000000",
          "2014-01-19T20:00:00.000000000",
          "2014-01-19T20:30:00.000000000",
          "2014-01-19T21:00:00.000000000",
          "2014-01-19T21:30:00.000000000",
          "2014-01-19T22:00:00.000000000",
          "2014-01-19T22:30:00.000000000",
          "2014-01-19T23:00:00.000000000",
          "2014-01-19T23:30:00.000000000",
          "2014-01-20T00:00:00.000000000",
          "2014-01-20T00:30:00.000000000",
          "2014-01-20T01:00:00.000000000",
          "2014-01-20T01:30:00.000000000",
          "2014-01-20T02:00:00.000000000",
          "2014-01-20T02:30:00.000000000",
          "2014-01-20T03:00:00.000000000",
          "2014-01-20T03:30:00.000000000",
          "2014-01-20T04:00:00.000000000",
          "2014-01-20T04:30:00.000000000",
          "2014-01-20T05:00:00.000000000",
          "2014-01-20T05:30:00.000000000",
          "2014-01-20T06:00:00.000000000",
          "2014-01-20T06:30:00.000000000",
          "2014-01-20T07:00:00.000000000",
          "2014-01-20T07:30:00.000000000",
          "2014-01-20T08:00:00.000000000",
          "2014-01-20T08:30:00.000000000",
          "2014-01-20T09:00:00.000000000",
          "2014-01-20T09:30:00.000000000",
          "2014-01-20T10:00:00.000000000",
          "2014-01-20T10:30:00.000000000",
          "2014-01-20T11:00:00.000000000",
          "2014-01-20T11:30:00.000000000",
          "2014-01-20T12:00:00.000000000",
          "2014-01-20T12:30:00.000000000",
          "2014-01-20T13:00:00.000000000",
          "2014-01-20T13:30:00.000000000",
          "2014-01-20T14:00:00.000000000",
          "2014-01-20T14:30:00.000000000",
          "2014-01-20T15:00:00.000000000",
          "2014-01-20T15:30:00.000000000",
          "2014-01-20T16:00:00.000000000",
          "2014-01-20T16:30:00.000000000",
          "2014-01-20T17:00:00.000000000",
          "2014-01-20T17:30:00.000000000",
          "2014-01-20T18:00:00.000000000",
          "2014-01-20T18:30:00.000000000",
          "2014-01-20T19:00:00.000000000",
          "2014-01-20T19:30:00.000000000",
          "2014-01-20T20:00:00.000000000",
          "2014-01-20T20:30:00.000000000",
          "2014-01-20T21:00:00.000000000",
          "2014-01-20T21:30:00.000000000",
          "2014-01-20T22:00:00.000000000",
          "2014-01-20T22:30:00.000000000",
          "2014-01-20T23:00:00.000000000",
          "2014-01-20T23:30:00.000000000",
          "2014-01-21T00:00:00.000000000",
          "2014-01-21T00:30:00.000000000",
          "2014-01-21T01:00:00.000000000",
          "2014-01-21T01:30:00.000000000",
          "2014-01-21T02:00:00.000000000",
          "2014-01-21T02:30:00.000000000",
          "2014-01-21T03:00:00.000000000",
          "2014-01-21T03:30:00.000000000",
          "2014-01-21T04:00:00.000000000",
          "2014-01-21T04:30:00.000000000",
          "2014-01-21T05:00:00.000000000",
          "2014-01-21T05:30:00.000000000",
          "2014-01-21T06:00:00.000000000",
          "2014-01-21T06:30:00.000000000",
          "2014-01-21T07:00:00.000000000",
          "2014-01-21T07:30:00.000000000",
          "2014-01-21T08:00:00.000000000",
          "2014-01-21T08:30:00.000000000",
          "2014-01-21T09:00:00.000000000",
          "2014-01-21T09:30:00.000000000",
          "2014-01-21T10:00:00.000000000",
          "2014-01-21T10:30:00.000000000",
          "2014-01-21T11:00:00.000000000",
          "2014-01-21T11:30:00.000000000",
          "2014-01-21T12:00:00.000000000",
          "2014-01-21T12:30:00.000000000",
          "2014-01-21T13:00:00.000000000",
          "2014-01-21T13:30:00.000000000",
          "2014-01-21T14:00:00.000000000",
          "2014-01-21T14:30:00.000000000",
          "2014-01-21T15:00:00.000000000",
          "2014-01-21T15:30:00.000000000",
          "2014-01-21T16:00:00.000000000",
          "2014-01-21T16:30:00.000000000",
          "2014-01-21T17:00:00.000000000",
          "2014-01-21T17:30:00.000000000",
          "2014-01-21T18:00:00.000000000",
          "2014-01-21T18:30:00.000000000",
          "2014-01-21T19:00:00.000000000",
          "2014-01-21T19:30:00.000000000",
          "2014-01-21T20:00:00.000000000",
          "2014-01-21T20:30:00.000000000",
          "2014-01-21T21:00:00.000000000",
          "2014-01-21T21:30:00.000000000",
          "2014-01-21T22:00:00.000000000",
          "2014-01-21T22:30:00.000000000",
          "2014-01-21T23:00:00.000000000",
          "2014-01-21T23:30:00.000000000",
          "2014-01-22T00:00:00.000000000",
          "2014-01-22T00:30:00.000000000",
          "2014-01-22T01:00:00.000000000",
          "2014-01-22T01:30:00.000000000",
          "2014-01-22T02:00:00.000000000",
          "2014-01-22T02:30:00.000000000",
          "2014-01-22T03:00:00.000000000",
          "2014-01-22T03:30:00.000000000",
          "2014-01-22T04:00:00.000000000",
          "2014-01-22T04:30:00.000000000",
          "2014-01-22T05:00:00.000000000",
          "2014-01-22T05:30:00.000000000",
          "2014-01-22T06:00:00.000000000",
          "2014-01-22T06:30:00.000000000",
          "2014-01-22T07:00:00.000000000",
          "2014-01-22T07:30:00.000000000",
          "2014-01-22T08:00:00.000000000",
          "2014-01-22T08:30:00.000000000",
          "2014-01-22T09:00:00.000000000",
          "2014-01-22T09:30:00.000000000",
          "2014-01-22T10:00:00.000000000",
          "2014-01-22T10:30:00.000000000",
          "2014-01-22T11:00:00.000000000",
          "2014-01-22T11:30:00.000000000",
          "2014-01-22T12:00:00.000000000",
          "2014-01-22T12:30:00.000000000",
          "2014-01-22T13:00:00.000000000",
          "2014-01-22T13:30:00.000000000",
          "2014-01-22T14:00:00.000000000",
          "2014-01-22T14:30:00.000000000",
          "2014-01-22T15:00:00.000000000",
          "2014-01-22T15:30:00.000000000",
          "2014-01-22T16:00:00.000000000",
          "2014-01-22T16:30:00.000000000",
          "2014-01-22T17:00:00.000000000",
          "2014-01-22T17:30:00.000000000",
          "2014-01-22T18:00:00.000000000",
          "2014-01-22T18:30:00.000000000",
          "2014-01-22T19:00:00.000000000",
          "2014-01-22T19:30:00.000000000",
          "2014-01-22T20:00:00.000000000",
          "2014-01-22T20:30:00.000000000",
          "2014-01-22T21:00:00.000000000",
          "2014-01-22T21:30:00.000000000",
          "2014-01-22T22:00:00.000000000",
          "2014-01-22T22:30:00.000000000",
          "2014-01-22T23:00:00.000000000",
          "2014-01-22T23:30:00.000000000",
          "2014-01-23T00:00:00.000000000",
          "2014-01-23T00:30:00.000000000",
          "2014-01-23T01:00:00.000000000",
          "2014-01-23T01:30:00.000000000",
          "2014-01-23T02:00:00.000000000",
          "2014-01-23T02:30:00.000000000",
          "2014-01-23T03:00:00.000000000",
          "2014-01-23T03:30:00.000000000",
          "2014-01-23T04:00:00.000000000",
          "2014-01-23T04:30:00.000000000",
          "2014-01-23T05:00:00.000000000",
          "2014-01-23T05:30:00.000000000",
          "2014-01-23T06:00:00.000000000",
          "2014-01-23T06:30:00.000000000",
          "2014-01-23T07:00:00.000000000",
          "2014-01-23T07:30:00.000000000",
          "2014-01-23T08:00:00.000000000",
          "2014-01-23T08:30:00.000000000",
          "2014-01-23T09:00:00.000000000",
          "2014-01-23T09:30:00.000000000",
          "2014-01-23T10:00:00.000000000",
          "2014-01-23T10:30:00.000000000",
          "2014-01-23T11:00:00.000000000",
          "2014-01-23T11:30:00.000000000",
          "2014-01-23T12:00:00.000000000",
          "2014-01-23T12:30:00.000000000",
          "2014-01-23T13:00:00.000000000",
          "2014-01-23T13:30:00.000000000",
          "2014-01-23T14:00:00.000000000",
          "2014-01-23T14:30:00.000000000",
          "2014-01-23T15:00:00.000000000",
          "2014-01-23T15:30:00.000000000",
          "2014-01-23T16:00:00.000000000",
          "2014-01-23T16:30:00.000000000",
          "2014-01-23T17:00:00.000000000",
          "2014-01-23T17:30:00.000000000",
          "2014-01-23T18:00:00.000000000",
          "2014-01-23T18:30:00.000000000",
          "2014-01-23T19:00:00.000000000",
          "2014-01-23T19:30:00.000000000",
          "2014-01-23T20:00:00.000000000",
          "2014-01-23T20:30:00.000000000",
          "2014-01-23T21:00:00.000000000",
          "2014-01-23T21:30:00.000000000",
          "2014-01-23T22:00:00.000000000",
          "2014-01-23T22:30:00.000000000",
          "2014-01-23T23:00:00.000000000",
          "2014-01-23T23:30:00.000000000",
          "2014-01-24T00:00:00.000000000",
          "2014-01-24T00:30:00.000000000",
          "2014-01-24T01:00:00.000000000",
          "2014-01-24T01:30:00.000000000",
          "2014-01-24T02:00:00.000000000",
          "2014-01-24T02:30:00.000000000",
          "2014-01-24T03:00:00.000000000",
          "2014-01-24T03:30:00.000000000",
          "2014-01-24T04:00:00.000000000",
          "2014-01-24T04:30:00.000000000",
          "2014-01-24T05:00:00.000000000",
          "2014-01-24T05:30:00.000000000",
          "2014-01-24T06:00:00.000000000",
          "2014-01-24T06:30:00.000000000",
          "2014-01-24T07:00:00.000000000",
          "2014-01-24T07:30:00.000000000",
          "2014-01-24T08:00:00.000000000",
          "2014-01-24T08:30:00.000000000",
          "2014-01-24T09:00:00.000000000",
          "2014-01-24T09:30:00.000000000",
          "2014-01-24T10:00:00.000000000",
          "2014-01-24T10:30:00.000000000",
          "2014-01-24T11:00:00.000000000",
          "2014-01-24T11:30:00.000000000",
          "2014-01-24T12:00:00.000000000",
          "2014-01-24T12:30:00.000000000",
          "2014-01-24T13:00:00.000000000",
          "2014-01-24T13:30:00.000000000",
          "2014-01-24T14:00:00.000000000",
          "2014-01-24T14:30:00.000000000",
          "2014-01-24T15:00:00.000000000",
          "2014-01-24T15:30:00.000000000",
          "2014-01-24T16:00:00.000000000",
          "2014-01-24T16:30:00.000000000",
          "2014-01-24T17:00:00.000000000",
          "2014-01-24T17:30:00.000000000",
          "2014-01-24T18:00:00.000000000",
          "2014-01-24T18:30:00.000000000",
          "2014-01-24T19:00:00.000000000",
          "2014-01-24T19:30:00.000000000",
          "2014-01-24T20:00:00.000000000",
          "2014-01-24T20:30:00.000000000",
          "2014-01-24T21:00:00.000000000",
          "2014-01-24T21:30:00.000000000",
          "2014-01-24T22:00:00.000000000",
          "2014-01-24T22:30:00.000000000",
          "2014-01-24T23:00:00.000000000",
          "2014-01-24T23:30:00.000000000",
          "2014-01-25T00:00:00.000000000",
          "2014-01-25T00:30:00.000000000",
          "2014-01-25T01:00:00.000000000",
          "2014-01-25T01:30:00.000000000",
          "2014-01-25T02:00:00.000000000",
          "2014-01-25T02:30:00.000000000",
          "2014-01-25T03:00:00.000000000",
          "2014-01-25T03:30:00.000000000",
          "2014-01-25T04:00:00.000000000",
          "2014-01-25T04:30:00.000000000",
          "2014-01-25T05:00:00.000000000",
          "2014-01-25T05:30:00.000000000",
          "2014-01-25T06:00:00.000000000",
          "2014-01-25T06:30:00.000000000",
          "2014-01-25T07:00:00.000000000",
          "2014-01-25T07:30:00.000000000",
          "2014-01-25T08:00:00.000000000",
          "2014-01-25T08:30:00.000000000",
          "2014-01-25T09:00:00.000000000",
          "2014-01-25T09:30:00.000000000",
          "2014-01-25T10:00:00.000000000",
          "2014-01-25T10:30:00.000000000",
          "2014-01-25T11:00:00.000000000",
          "2014-01-25T11:30:00.000000000",
          "2014-01-25T12:00:00.000000000",
          "2014-01-25T12:30:00.000000000",
          "2014-01-25T13:00:00.000000000",
          "2014-01-25T13:30:00.000000000",
          "2014-01-25T14:00:00.000000000",
          "2014-01-25T14:30:00.000000000",
          "2014-01-25T15:00:00.000000000",
          "2014-01-25T15:30:00.000000000",
          "2014-01-25T16:00:00.000000000",
          "2014-01-25T16:30:00.000000000",
          "2014-01-25T17:00:00.000000000",
          "2014-01-25T17:30:00.000000000",
          "2014-01-25T18:00:00.000000000",
          "2014-01-25T18:30:00.000000000",
          "2014-01-25T19:00:00.000000000",
          "2014-01-25T19:30:00.000000000",
          "2014-01-25T20:00:00.000000000",
          "2014-01-25T20:30:00.000000000",
          "2014-01-25T21:00:00.000000000",
          "2014-01-25T21:30:00.000000000",
          "2014-01-25T22:00:00.000000000",
          "2014-01-25T22:30:00.000000000",
          "2014-01-25T23:00:00.000000000",
          "2014-01-25T23:30:00.000000000",
          "2014-01-26T00:00:00.000000000",
          "2014-01-26T00:30:00.000000000",
          "2014-01-26T01:00:00.000000000",
          "2014-01-26T01:30:00.000000000",
          "2014-01-26T02:00:00.000000000",
          "2014-01-26T02:30:00.000000000",
          "2014-01-26T03:00:00.000000000",
          "2014-01-26T03:30:00.000000000",
          "2014-01-26T04:00:00.000000000",
          "2014-01-26T04:30:00.000000000",
          "2014-01-26T05:00:00.000000000",
          "2014-01-26T05:30:00.000000000",
          "2014-01-26T06:00:00.000000000",
          "2014-01-26T06:30:00.000000000",
          "2014-01-26T07:00:00.000000000",
          "2014-01-26T07:30:00.000000000",
          "2014-01-26T08:00:00.000000000",
          "2014-01-26T08:30:00.000000000",
          "2014-01-26T09:00:00.000000000",
          "2014-01-26T09:30:00.000000000",
          "2014-01-26T10:00:00.000000000",
          "2014-01-26T10:30:00.000000000",
          "2014-01-26T11:00:00.000000000",
          "2014-01-26T11:30:00.000000000",
          "2014-01-26T12:00:00.000000000",
          "2014-01-26T12:30:00.000000000",
          "2014-01-26T13:00:00.000000000",
          "2014-01-26T13:30:00.000000000",
          "2014-01-26T14:00:00.000000000",
          "2014-01-26T14:30:00.000000000",
          "2014-01-26T15:00:00.000000000",
          "2014-01-26T15:30:00.000000000",
          "2014-01-26T16:00:00.000000000",
          "2014-01-26T16:30:00.000000000",
          "2014-01-26T17:00:00.000000000",
          "2014-01-26T17:30:00.000000000",
          "2014-01-26T18:00:00.000000000",
          "2014-01-26T18:30:00.000000000",
          "2014-01-26T19:00:00.000000000",
          "2014-01-26T19:30:00.000000000",
          "2014-01-26T20:00:00.000000000",
          "2014-01-26T20:30:00.000000000",
          "2014-01-26T21:00:00.000000000",
          "2014-01-26T21:30:00.000000000",
          "2014-01-26T22:00:00.000000000",
          "2014-01-26T22:30:00.000000000",
          "2014-01-26T23:00:00.000000000",
          "2014-01-26T23:30:00.000000000",
          "2014-01-27T00:00:00.000000000",
          "2014-01-27T00:30:00.000000000",
          "2014-01-27T01:00:00.000000000",
          "2014-01-27T01:30:00.000000000",
          "2014-01-27T02:00:00.000000000",
          "2014-01-27T02:30:00.000000000",
          "2014-01-27T03:00:00.000000000",
          "2014-01-27T03:30:00.000000000",
          "2014-01-27T04:00:00.000000000",
          "2014-01-27T04:30:00.000000000",
          "2014-01-27T05:00:00.000000000",
          "2014-01-27T05:30:00.000000000",
          "2014-01-27T06:00:00.000000000",
          "2014-01-27T06:30:00.000000000",
          "2014-01-27T07:00:00.000000000",
          "2014-01-27T07:30:00.000000000",
          "2014-01-27T08:00:00.000000000",
          "2014-01-27T08:30:00.000000000",
          "2014-01-27T09:00:00.000000000",
          "2014-01-27T09:30:00.000000000",
          "2014-01-27T10:00:00.000000000",
          "2014-01-27T10:30:00.000000000",
          "2014-01-27T11:00:00.000000000",
          "2014-01-27T11:30:00.000000000",
          "2014-01-27T12:00:00.000000000",
          "2014-01-27T12:30:00.000000000",
          "2014-01-27T13:00:00.000000000",
          "2014-01-27T13:30:00.000000000",
          "2014-01-27T14:00:00.000000000",
          "2014-01-27T14:30:00.000000000",
          "2014-01-27T15:00:00.000000000",
          "2014-01-27T15:30:00.000000000",
          "2014-01-27T16:00:00.000000000",
          "2014-01-27T16:30:00.000000000",
          "2014-01-27T17:00:00.000000000",
          "2014-01-27T17:30:00.000000000",
          "2014-01-27T18:00:00.000000000",
          "2014-01-27T18:30:00.000000000",
          "2014-01-27T19:00:00.000000000",
          "2014-01-27T19:30:00.000000000",
          "2014-01-27T20:00:00.000000000",
          "2014-01-27T20:30:00.000000000",
          "2014-01-27T21:00:00.000000000",
          "2014-01-27T21:30:00.000000000",
          "2014-01-27T22:00:00.000000000",
          "2014-01-27T22:30:00.000000000",
          "2014-01-27T23:00:00.000000000",
          "2014-01-27T23:30:00.000000000",
          "2014-01-28T00:00:00.000000000",
          "2014-01-28T00:30:00.000000000",
          "2014-01-28T01:00:00.000000000",
          "2014-01-28T01:30:00.000000000",
          "2014-01-28T02:00:00.000000000",
          "2014-01-28T02:30:00.000000000",
          "2014-01-28T03:00:00.000000000",
          "2014-01-28T03:30:00.000000000",
          "2014-01-28T04:00:00.000000000",
          "2014-01-28T04:30:00.000000000",
          "2014-01-28T05:00:00.000000000",
          "2014-01-28T05:30:00.000000000",
          "2014-01-28T06:00:00.000000000",
          "2014-01-28T06:30:00.000000000",
          "2014-01-28T07:00:00.000000000",
          "2014-01-28T07:30:00.000000000",
          "2014-01-28T08:00:00.000000000",
          "2014-01-28T08:30:00.000000000",
          "2014-01-28T09:00:00.000000000",
          "2014-01-28T09:30:00.000000000",
          "2014-01-28T10:00:00.000000000",
          "2014-01-28T10:30:00.000000000",
          "2014-01-28T11:00:00.000000000",
          "2014-01-28T11:30:00.000000000",
          "2014-01-28T12:00:00.000000000",
          "2014-01-28T12:30:00.000000000",
          "2014-01-28T13:00:00.000000000",
          "2014-01-28T13:30:00.000000000",
          "2014-01-28T14:00:00.000000000",
          "2014-01-28T14:30:00.000000000",
          "2014-01-28T15:00:00.000000000",
          "2014-01-28T15:30:00.000000000",
          "2014-01-28T16:00:00.000000000",
          "2014-01-28T16:30:00.000000000",
          "2014-01-28T17:00:00.000000000",
          "2014-01-28T17:30:00.000000000",
          "2014-01-28T18:00:00.000000000",
          "2014-01-28T18:30:00.000000000",
          "2014-01-28T19:00:00.000000000",
          "2014-01-28T19:30:00.000000000",
          "2014-01-28T20:00:00.000000000",
          "2014-01-28T20:30:00.000000000",
          "2014-01-28T21:00:00.000000000",
          "2014-01-28T21:30:00.000000000",
          "2014-01-28T22:00:00.000000000",
          "2014-01-28T22:30:00.000000000",
          "2014-01-28T23:00:00.000000000",
          "2014-01-28T23:30:00.000000000",
          "2014-01-29T00:00:00.000000000",
          "2014-01-29T00:30:00.000000000",
          "2014-01-29T01:00:00.000000000",
          "2014-01-29T01:30:00.000000000",
          "2014-01-29T02:00:00.000000000",
          "2014-01-29T02:30:00.000000000",
          "2014-01-29T03:00:00.000000000",
          "2014-01-29T03:30:00.000000000",
          "2014-01-29T04:00:00.000000000",
          "2014-01-29T04:30:00.000000000",
          "2014-01-29T05:00:00.000000000",
          "2014-01-29T05:30:00.000000000",
          "2014-01-29T06:00:00.000000000",
          "2014-01-29T06:30:00.000000000",
          "2014-01-29T07:00:00.000000000",
          "2014-01-29T07:30:00.000000000",
          "2014-01-29T08:00:00.000000000",
          "2014-01-29T08:30:00.000000000",
          "2014-01-29T09:00:00.000000000",
          "2014-01-29T09:30:00.000000000",
          "2014-01-29T10:00:00.000000000",
          "2014-01-29T10:30:00.000000000",
          "2014-01-29T11:00:00.000000000",
          "2014-01-29T11:30:00.000000000",
          "2014-01-29T12:00:00.000000000",
          "2014-01-29T12:30:00.000000000",
          "2014-01-29T13:00:00.000000000",
          "2014-01-29T13:30:00.000000000",
          "2014-01-29T14:00:00.000000000",
          "2014-01-29T14:30:00.000000000",
          "2014-01-29T15:00:00.000000000",
          "2014-01-29T15:30:00.000000000",
          "2014-01-29T16:00:00.000000000",
          "2014-01-29T16:30:00.000000000",
          "2014-01-29T17:00:00.000000000",
          "2014-01-29T17:30:00.000000000",
          "2014-01-29T18:00:00.000000000",
          "2014-01-29T18:30:00.000000000",
          "2014-01-29T19:00:00.000000000",
          "2014-01-29T19:30:00.000000000",
          "2014-01-29T20:00:00.000000000",
          "2014-01-29T20:30:00.000000000",
          "2014-01-29T21:00:00.000000000",
          "2014-01-29T21:30:00.000000000",
          "2014-01-29T22:00:00.000000000",
          "2014-01-29T22:30:00.000000000",
          "2014-01-29T23:00:00.000000000",
          "2014-01-29T23:30:00.000000000",
          "2014-01-30T00:00:00.000000000",
          "2014-01-30T00:30:00.000000000",
          "2014-01-30T01:00:00.000000000",
          "2014-01-30T01:30:00.000000000",
          "2014-01-30T02:00:00.000000000",
          "2014-01-30T02:30:00.000000000",
          "2014-01-30T03:00:00.000000000",
          "2014-01-30T03:30:00.000000000",
          "2014-01-30T04:00:00.000000000",
          "2014-01-30T04:30:00.000000000",
          "2014-01-30T05:00:00.000000000",
          "2014-01-30T05:30:00.000000000",
          "2014-01-30T06:00:00.000000000",
          "2014-01-30T06:30:00.000000000",
          "2014-01-30T07:00:00.000000000",
          "2014-01-30T07:30:00.000000000",
          "2014-01-30T08:00:00.000000000",
          "2014-01-30T08:30:00.000000000",
          "2014-01-30T09:00:00.000000000",
          "2014-01-30T09:30:00.000000000",
          "2014-01-30T10:00:00.000000000",
          "2014-01-30T10:30:00.000000000",
          "2014-01-30T11:00:00.000000000",
          "2014-01-30T11:30:00.000000000",
          "2014-01-30T12:00:00.000000000",
          "2014-01-30T12:30:00.000000000",
          "2014-01-30T13:00:00.000000000",
          "2014-01-30T13:30:00.000000000",
          "2014-01-30T14:00:00.000000000",
          "2014-01-30T14:30:00.000000000",
          "2014-01-30T15:00:00.000000000",
          "2014-01-30T15:30:00.000000000",
          "2014-01-30T16:00:00.000000000",
          "2014-01-30T16:30:00.000000000",
          "2014-01-30T17:00:00.000000000",
          "2014-01-30T17:30:00.000000000",
          "2014-01-30T18:00:00.000000000",
          "2014-01-30T18:30:00.000000000",
          "2014-01-30T19:00:00.000000000",
          "2014-01-30T19:30:00.000000000",
          "2014-01-30T20:00:00.000000000",
          "2014-01-30T20:30:00.000000000",
          "2014-01-30T21:00:00.000000000",
          "2014-01-30T21:30:00.000000000",
          "2014-01-30T22:00:00.000000000",
          "2014-01-30T22:30:00.000000000",
          "2014-01-30T23:00:00.000000000",
          "2014-01-30T23:30:00.000000000",
          "2014-01-31T00:00:00.000000000",
          "2014-01-31T00:30:00.000000000",
          "2014-01-31T01:00:00.000000000",
          "2014-01-31T01:30:00.000000000",
          "2014-01-31T02:00:00.000000000",
          "2014-01-31T02:30:00.000000000",
          "2014-01-31T03:00:00.000000000",
          "2014-01-31T03:30:00.000000000",
          "2014-01-31T04:00:00.000000000",
          "2014-01-31T04:30:00.000000000",
          "2014-01-31T05:00:00.000000000",
          "2014-01-31T05:30:00.000000000",
          "2014-01-31T06:00:00.000000000",
          "2014-01-31T06:30:00.000000000",
          "2014-01-31T07:00:00.000000000",
          "2014-01-31T07:30:00.000000000",
          "2014-01-31T08:00:00.000000000",
          "2014-01-31T08:30:00.000000000",
          "2014-01-31T09:00:00.000000000",
          "2014-01-31T09:30:00.000000000",
          "2014-01-31T10:00:00.000000000",
          "2014-01-31T10:30:00.000000000",
          "2014-01-31T11:00:00.000000000",
          "2014-01-31T11:30:00.000000000",
          "2014-01-31T12:00:00.000000000",
          "2014-01-31T12:30:00.000000000",
          "2014-01-31T13:00:00.000000000",
          "2014-01-31T13:30:00.000000000",
          "2014-01-31T14:00:00.000000000",
          "2014-01-31T14:30:00.000000000",
          "2014-01-31T15:00:00.000000000",
          "2014-01-31T15:30:00.000000000",
          "2014-01-31T16:00:00.000000000",
          "2014-01-31T16:30:00.000000000",
          "2014-01-31T17:00:00.000000000",
          "2014-01-31T17:30:00.000000000",
          "2014-01-31T18:00:00.000000000",
          "2014-01-31T18:30:00.000000000",
          "2014-01-31T19:00:00.000000000",
          "2014-01-31T19:30:00.000000000",
          "2014-01-31T20:00:00.000000000",
          "2014-01-31T20:30:00.000000000",
          "2014-01-31T21:00:00.000000000",
          "2014-01-31T21:30:00.000000000",
          "2014-01-31T22:00:00.000000000",
          "2014-01-31T22:30:00.000000000",
          "2014-01-31T23:00:00.000000000",
          "2014-01-31T23:30:00.000000000"
         ],
         "y": {
          "bdata": "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",
          "dtype": "f8"
         }
        }
       ],
       "layout": {
        "autosize": false,
        "height": 500,
        "legend": {
         "font": {
          "size": 15
         },
         "orientation": "h",
         "title": {},
         "x": 1,
         "xanchor": "right",
         "y": 0.98,
         "yanchor": "bottom"
        },
        "template": {
         "data": {
          "bar": [
           {
            "error_x": {
             "color": "#2a3f5f"
            },
            "error_y": {
             "color": "#2a3f5f"
            },
            "marker": {
             "line": {
              "color": "white",
              "width": 0.5
             },
             "pattern": {
              "fillmode": "overlay",
              "size": 10,
              "solidity": 0.2
             }
            },
            "type": "bar"
           }
          ],
          "barpolar": [
           {
            "marker": {
             "line": {
              "color": "white",
              "width": 0.5
             },
             "pattern": {
              "fillmode": "overlay",
              "size": 10,
              "solidity": 0.2
             }
            },
            "type": "barpolar"
           }
          ],
          "carpet": [
           {
            "aaxis": {
             "endlinecolor": "#2a3f5f",
             "gridcolor": "#C8D4E3",
             "linecolor": "#C8D4E3",
             "minorgridcolor": "#C8D4E3",
             "startlinecolor": "#2a3f5f"
            },
            "baxis": {
             "endlinecolor": "#2a3f5f",
             "gridcolor": "#C8D4E3",
             "linecolor": "#C8D4E3",
             "minorgridcolor": "#C8D4E3",
             "startlinecolor": "#2a3f5f"
            },
            "type": "carpet"
           }
          ],
          "choropleth": [
           {
            "colorbar": {
             "outlinewidth": 0,
             "ticks": ""
            },
            "type": "choropleth"
           }
          ],
          "contour": [
           {
            "colorbar": {
             "outlinewidth": 0,
             "ticks": ""
            },
            "colorscale": [
             [
              0,
              "#0d0887"
             ],
             [
              0.1111111111111111,
              "#46039f"
             ],
             [
              0.2222222222222222,
              "#7201a8"
             ],
             [
              0.3333333333333333,
              "#9c179e"
             ],
             [
              0.4444444444444444,
              "#bd3786"
             ],
             [
              0.5555555555555556,
              "#d8576b"
             ],
             [
              0.6666666666666666,
              "#ed7953"
             ],
             [
              0.7777777777777778,
              "#fb9f3a"
             ],
             [
              0.8888888888888888,
              "#fdca26"
             ],
             [
              1,
              "#f0f921"
             ]
            ],
            "type": "contour"
           }
          ],
          "contourcarpet": [
           {
            "colorbar": {
             "outlinewidth": 0,
             "ticks": ""
            },
            "type": "contourcarpet"
           }
          ],
          "heatmap": [
           {
            "colorbar": {
             "outlinewidth": 0,
             "ticks": ""
            },
            "colorscale": [
             [
              0,
              "#0d0887"
             ],
             [
              0.1111111111111111,
              "#46039f"
             ],
             [
              0.2222222222222222,
              "#7201a8"
             ],
             [
              0.3333333333333333,
              "#9c179e"
             ],
             [
              0.4444444444444444,
              "#bd3786"
             ],
             [
              0.5555555555555556,
              "#d8576b"
             ],
             [
              0.6666666666666666,
              "#ed7953"
             ],
             [
              0.7777777777777778,
              "#fb9f3a"
             ],
             [
              0.8888888888888888,
              "#fdca26"
             ],
             [
              1,
              "#f0f921"
             ]
            ],
            "type": "heatmap"
           }
          ],
          "histogram": [
           {
            "marker": {
             "pattern": {
              "fillmode": "overlay",
              "size": 10,
              "solidity": 0.2
             }
            },
            "type": "histogram"
           }
          ],
          "histogram2d": [
           {
            "colorbar": {
             "outlinewidth": 0,
             "ticks": ""
            },
            "colorscale": [
             [
              0,
              "#0d0887"
             ],
             [
              0.1111111111111111,
              "#46039f"
             ],
             [
              0.2222222222222222,
              "#7201a8"
             ],
             [
              0.3333333333333333,
              "#9c179e"
             ],
             [
              0.4444444444444444,
              "#bd3786"
             ],
             [
              0.5555555555555556,
              "#d8576b"
             ],
             [
              0.6666666666666666,
              "#ed7953"
             ],
             [
              0.7777777777777778,
              "#fb9f3a"
             ],
             [
              0.8888888888888888,
              "#fdca26"
             ],
             [
              1,
              "#f0f921"
             ]
            ],
            "type": "histogram2d"
           }
          ],
          "histogram2dcontour": [
           {
            "colorbar": {
             "outlinewidth": 0,
             "ticks": ""
            },
            "colorscale": [
             [
              0,
              "#0d0887"
             ],
             [
              0.1111111111111111,
              "#46039f"
             ],
             [
              0.2222222222222222,
              "#7201a8"
             ],
             [
              0.3333333333333333,
              "#9c179e"
             ],
             [
              0.4444444444444444,
              "#bd3786"
             ],
             [
              0.5555555555555556,
              "#d8576b"
             ],
             [
              0.6666666666666666,
              "#ed7953"
             ],
             [
              0.7777777777777778,
              "#fb9f3a"
             ],
             [
              0.8888888888888888,
              "#fdca26"
             ],
             [
              1,
              "#f0f921"
             ]
            ],
            "type": "histogram2dcontour"
           }
          ],
          "mesh3d": [
           {
            "colorbar": {
             "outlinewidth": 0,
             "ticks": ""
            },
            "type": "mesh3d"
           }
          ],
          "parcoords": [
           {
            "line": {
             "colorbar": {
              "outlinewidth": 0,
              "ticks": ""
             }
            },
            "type": "parcoords"
           }
          ],
          "pie": [
           {
            "automargin": true,
            "type": "pie"
           }
          ],
          "scatter": [
           {
            "fillpattern": {
             "fillmode": "overlay",
             "size": 10,
             "solidity": 0.2
            },
            "type": "scatter"
           }
          ],
          "scatter3d": [
           {
            "line": {
             "colorbar": {
              "outlinewidth": 0,
              "ticks": ""
             }
            },
            "marker": {
             "colorbar": {
              "outlinewidth": 0,
              "ticks": ""
             }
            },
            "type": "scatter3d"
           }
          ],
          "scattercarpet": [
           {
            "marker": {
             "colorbar": {
              "outlinewidth": 0,
              "ticks": ""
             }
            },
            "type": "scattercarpet"
           }
          ],
          "scattergeo": [
           {
            "marker": {
             "colorbar": {
              "outlinewidth": 0,
              "ticks": ""
             }
            },
            "type": "scattergeo"
           }
          ],
          "scattergl": [
           {
            "marker": {
             "colorbar": {
              "outlinewidth": 0,
              "ticks": ""
             }
            },
            "type": "scattergl"
           }
          ],
          "scattermap": [
           {
            "marker": {
             "colorbar": {
              "outlinewidth": 0,
              "ticks": ""
             }
            },
            "type": "scattermap"
           }
          ],
          "scattermapbox": [
           {
            "marker": {
             "colorbar": {
              "outlinewidth": 0,
              "ticks": ""
             }
            },
            "type": "scattermapbox"
           }
          ],
          "scatterpolar": [
           {
            "marker": {
             "colorbar": {
              "outlinewidth": 0,
              "ticks": ""
             }
            },
            "type": "scatterpolar"
           }
          ],
          "scatterpolargl": [
           {
            "marker": {
             "colorbar": {
              "outlinewidth": 0,
              "ticks": ""
             }
            },
            "type": "scatterpolargl"
           }
          ],
          "scatterternary": [
           {
            "marker": {
             "colorbar": {
              "outlinewidth": 0,
              "ticks": ""
             }
            },
            "type": "scatterternary"
           }
          ],
          "surface": [
           {
            "colorbar": {
             "outlinewidth": 0,
             "ticks": ""
            },
            "colorscale": [
             [
              0,
              "#0d0887"
             ],
             [
              0.1111111111111111,
              "#46039f"
             ],
             [
              0.2222222222222222,
              "#7201a8"
             ],
             [
              0.3333333333333333,
              "#9c179e"
             ],
             [
              0.4444444444444444,
              "#bd3786"
             ],
             [
              0.5555555555555556,
              "#d8576b"
             ],
             [
              0.6666666666666666,
              "#ed7953"
             ],
             [
              0.7777777777777778,
              "#fb9f3a"
             ],
             [
              0.8888888888888888,
              "#fdca26"
             ],
             [
              1,
              "#f0f921"
             ]
            ],
            "type": "surface"
           }
          ],
          "table": [
           {
            "cells": {
             "fill": {
              "color": "#EBF0F8"
             },
             "line": {
              "color": "white"
             }
            },
            "header": {
             "fill": {
              "color": "#C8D4E3"
             },
             "line": {
              "color": "white"
             }
            },
            "type": "table"
           }
          ]
         },
         "layout": {
          "annotationdefaults": {
           "arrowcolor": "#2a3f5f",
           "arrowhead": 0,
           "arrowwidth": 1
          },
          "autotypenumbers": "strict",
          "coloraxis": {
           "colorbar": {
            "outlinewidth": 0,
            "ticks": ""
           }
          },
          "colorscale": {
           "diverging": [
            [
             0,
             "#8e0152"
            ],
            [
             0.1,
             "#c51b7d"
            ],
            [
             0.2,
             "#de77ae"
            ],
            [
             0.3,
             "#f1b6da"
            ],
            [
             0.4,
             "#fde0ef"
            ],
            [
             0.5,
             "#f7f7f7"
            ],
            [
             0.6,
             "#e6f5d0"
            ],
            [
             0.7,
             "#b8e186"
            ],
            [
             0.8,
             "#7fbc41"
            ],
            [
             0.9,
             "#4d9221"
            ],
            [
             1,
             "#276419"
            ]
           ],
           "sequential": [
            [
             0,
             "#0d0887"
            ],
            [
             0.1111111111111111,
             "#46039f"
            ],
            [
             0.2222222222222222,
             "#7201a8"
            ],
            [
             0.3333333333333333,
             "#9c179e"
            ],
            [
             0.4444444444444444,
             "#bd3786"
            ],
            [
             0.5555555555555556,
             "#d8576b"
            ],
            [
             0.6666666666666666,
             "#ed7953"
            ],
            [
             0.7777777777777778,
             "#fb9f3a"
            ],
            [
             0.8888888888888888,
             "#fdca26"
            ],
            [
             1,
             "#f0f921"
            ]
           ],
           "sequentialminus": [
            [
             0,
             "#0d0887"
            ],
            [
             0.1111111111111111,
             "#46039f"
            ],
            [
             0.2222222222222222,
             "#7201a8"
            ],
            [
             0.3333333333333333,
             "#9c179e"
            ],
            [
             0.4444444444444444,
             "#bd3786"
            ],
            [
             0.5555555555555556,
             "#d8576b"
            ],
            [
             0.6666666666666666,
             "#ed7953"
            ],
            [
             0.7777777777777778,
             "#fb9f3a"
            ],
            [
             0.8888888888888888,
             "#fdca26"
            ],
            [
             1,
             "#f0f921"
            ]
           ]
          },
          "colorway": [
           "#636efa",
           "#EF553B",
           "#00cc96",
           "#ab63fa",
           "#FFA15A",
           "#19d3f3",
           "#FF6692",
           "#B6E880",
           "#FF97FF",
           "#FECB52"
          ],
          "font": {
           "color": "#2a3f5f"
          },
          "geo": {
           "bgcolor": "white",
           "lakecolor": "white",
           "landcolor": "white",
           "showlakes": true,
           "showland": true,
           "subunitcolor": "#C8D4E3"
          },
          "hoverlabel": {
           "align": "left"
          },
          "hovermode": "closest",
          "mapbox": {
           "style": "light"
          },
          "paper_bgcolor": "white",
          "plot_bgcolor": "white",
          "polar": {
           "angularaxis": {
            "gridcolor": "#EBF0F8",
            "linecolor": "#EBF0F8",
            "ticks": ""
           },
           "bgcolor": "white",
           "radialaxis": {
            "gridcolor": "#EBF0F8",
            "linecolor": "#EBF0F8",
            "ticks": ""
           }
          },
          "scene": {
           "xaxis": {
            "backgroundcolor": "white",
            "gridcolor": "#DFE8F3",
            "gridwidth": 2,
            "linecolor": "#EBF0F8",
            "showbackground": true,
            "ticks": "",
            "zerolinecolor": "#EBF0F8"
           },
           "yaxis": {
            "backgroundcolor": "white",
            "gridcolor": "#DFE8F3",
            "gridwidth": 2,
            "linecolor": "#EBF0F8",
            "showbackground": true,
            "ticks": "",
            "zerolinecolor": "#EBF0F8"
           },
           "zaxis": {
            "backgroundcolor": "white",
            "gridcolor": "#DFE8F3",
            "gridwidth": 2,
            "linecolor": "#EBF0F8",
            "showbackground": true,
            "ticks": "",
            "zerolinecolor": "#EBF0F8"
           }
          },
          "shapedefaults": {
           "line": {
            "color": "#2a3f5f"
           }
          },
          "ternary": {
           "aaxis": {
            "gridcolor": "#DFE8F3",
            "linecolor": "#A2B1C6",
            "ticks": ""
           },
           "baxis": {
            "gridcolor": "#DFE8F3",
            "linecolor": "#A2B1C6",
            "ticks": ""
           },
           "bgcolor": "white",
           "caxis": {
            "gridcolor": "#DFE8F3",
            "linecolor": "#A2B1C6",
            "ticks": ""
           }
          },
          "title": {
           "x": 0.05
          },
          "xaxis": {
           "automargin": true,
           "gridcolor": "#EBF0F8",
           "linecolor": "#EBF0F8",
           "ticks": "",
           "title": {
            "standoff": 15
           },
           "zerolinecolor": "#EBF0F8",
           "zerolinewidth": 2
          },
          "yaxis": {
           "automargin": true,
           "gridcolor": "#EBF0F8",
           "linecolor": "#EBF0F8",
           "ticks": "",
           "title": {
            "standoff": 15
           },
           "zerolinecolor": "#EBF0F8",
           "zerolinewidth": 2
          }
         }
        },
        "title": {
         "text": "HoltWinters: MAE: 0.1913 | MSE: 0.1009 | BIAS: 10.4817"
        },
        "width": 900,
        "xaxis": {
         "range": [
          "2014-01-01",
          "2014-01-08"
         ],
         "tickfont": {
          "size": 15
         },
         "title": {
          "font": {
           "size": 15
          },
          "text": "Day"
         },
         "type": "date"
        },
        "yaxis": {
         "tickfont": {
          "size": 15
         },
         "title": {
          "font": {
           "size": 15
          },
          "text": "Value"
         }
        }
       }
      }
     },
     "metadata": {},
     "output_type": "display_data"
    }
   ],
   "source": [
    "model_name = ['HoltWinters']\n",
    "model_display_name = ['HoltWinters']\n",
    "\n",
    "fig = plot_forecast(results, forecast_columns=model_name, forecast_display_names=model_display_name, timestamp_col ='timestamp')\n",
    "fig = format_plot(fig)\n",
    "fig.update_layout(\n",
    "    title=f\"{model_name[0]}: \"\\\n",
    "          f\"MAE: {metrics.loc[metrics.Model==model_name[0]][['mean_absolute_error']].iloc[0].item():.4f} | \"\\\n",
    "          f\"MSE: {metrics.loc[metrics.Model==model_name[0]][['mean_squared_error']].iloc[0].item():.4f} | \"\\\n",
    "          f\"BIAS: {metrics.loc[metrics.Model==model_name[0]][['forecast_bias']].iloc[0].item():.4f}\"\n",
    ")\n",
    "fig.update_xaxes(type=\"date\", range=[\"2014-01-01\", \"2014-01-08\"])\n",
    "fig.write_image(dst_img/\"holt-winter.png\")\n",
    "fig.show()"
   ]
  },
  {
   "cell_type": "markdown",
   "id": "c9ab9007",
   "metadata": {},
   "source": [
    "## ARIMA"
   ]
  },
  {
   "cell_type": "code",
   "execution_count": 34,
   "id": "554be1d3",
   "metadata": {},
   "outputs": [],
   "source": [
    "results, metrics = (\n",
    "    evaluate_performance(\n",
    "        ts_train,\n",
    "        ts_val,\n",
    "        models = [ARIMA(order = (2,1,1), seasonal_order = (1,1,1), season_length = 48)],\n",
    "        metrics = [mae, mse, rmse, forecast_bias],\n",
    "        freq = freq,\n",
    "        level = [] ,\n",
    "        id_col = 'LCLid',\n",
    "        time_col = 'timestamp',\n",
    "        target_col = 'energy_consumption_imputed',\n",
    "        h = len(ts_val),\n",
    "        metric_df=metrics  # Pass None or an existing DataFrame if you want to append results\n",
    "        )\n",
    ")"
   ]
  },
  {
   "cell_type": "code",
   "execution_count": 35,
   "id": "337a3b65",
   "metadata": {},
   "outputs": [
    {
     "data": {
      "text/html": [
       "<div>\n",
       "<style scoped>\n",
       "    .dataframe tbody tr th:only-of-type {\n",
       "        vertical-align: middle;\n",
       "    }\n",
       "\n",
       "    .dataframe tbody tr th {\n",
       "        vertical-align: top;\n",
       "    }\n",
       "\n",
       "    .dataframe thead th {\n",
       "        text-align: right;\n",
       "    }\n",
       "</style>\n",
       "<table border=\"1\" class=\"dataframe\">\n",
       "  <thead>\n",
       "    <tr style=\"text-align: right;\">\n",
       "      <th></th>\n",
       "      <th>mean_absolute_error</th>\n",
       "      <th>mean_squared_error</th>\n",
       "      <th>root_mean_squared_error</th>\n",
       "      <th>forecast_bias</th>\n",
       "      <th>LCLid</th>\n",
       "      <th>Time Elapsed</th>\n",
       "      <th>Model</th>\n",
       "    </tr>\n",
       "  </thead>\n",
       "  <tbody>\n",
       "    <tr>\n",
       "      <th>0</th>\n",
       "      <td>0.191257</td>\n",
       "      <td>0.100946</td>\n",
       "      <td>0.317720</td>\n",
       "      <td>10.481710</td>\n",
       "      <td>MAC000193</td>\n",
       "      <td>4.029585</td>\n",
       "      <td>HoltWinters</td>\n",
       "    </tr>\n",
       "    <tr>\n",
       "      <th>1</th>\n",
       "      <td>0.203665</td>\n",
       "      <td>0.106539</td>\n",
       "      <td>0.326402</td>\n",
       "      <td>25.416513</td>\n",
       "      <td>MAC000193</td>\n",
       "      <td>20.193931</td>\n",
       "      <td>ARIMA</td>\n",
       "    </tr>\n",
       "  </tbody>\n",
       "</table>\n",
       "</div>"
      ],
      "text/plain": [
       "   mean_absolute_error  mean_squared_error  root_mean_squared_error  \\\n",
       "0             0.191257            0.100946                 0.317720   \n",
       "1             0.203665            0.106539                 0.326402   \n",
       "\n",
       "   forecast_bias      LCLid  Time Elapsed        Model  \n",
       "0      10.481710  MAC000193      4.029585  HoltWinters  \n",
       "1      25.416513  MAC000193     20.193931        ARIMA  "
      ]
     },
     "execution_count": 35,
     "metadata": {},
     "output_type": "execute_result"
    }
   ],
   "source": [
    "metrics"
   ]
  },
  {
   "cell_type": "code",
   "execution_count": null,
   "id": "b9d8ad0c",
   "metadata": {},
   "outputs": [
    {
     "data": {
      "application/vnd.plotly.v1+json": {
       "config": {
        "plotlyServerURL": "https://plot.ly"
       },
       "data": [
        {
         "line": {
          "color": "rgba(27,158,119, 0.3)"
         },
         "mode": "lines",
         "name": "Actual Consumption",
         "type": "scatter",
         "x": [
          "2014-01-01T00:00:00.000000000",
          "2014-01-01T00:30:00.000000000",
          "2014-01-01T01:00:00.000000000",
          "2014-01-01T01:30:00.000000000",
          "2014-01-01T02:00:00.000000000",
          "2014-01-01T02:30:00.000000000",
          "2014-01-01T03:00:00.000000000",
          "2014-01-01T03:30:00.000000000",
          "2014-01-01T04:00:00.000000000",
          "2014-01-01T04:30:00.000000000",
          "2014-01-01T05:00:00.000000000",
          "2014-01-01T05:30:00.000000000",
          "2014-01-01T06:00:00.000000000",
          "2014-01-01T06:30:00.000000000",
          "2014-01-01T07:00:00.000000000",
          "2014-01-01T07:30:00.000000000",
          "2014-01-01T08:00:00.000000000",
          "2014-01-01T08:30:00.000000000",
          "2014-01-01T09:00:00.000000000",
          "2014-01-01T09:30:00.000000000",
          "2014-01-01T10:00:00.000000000",
          "2014-01-01T10:30:00.000000000",
          "2014-01-01T11:00:00.000000000",
          "2014-01-01T11:30:00.000000000",
          "2014-01-01T12:00:00.000000000",
          "2014-01-01T12:30:00.000000000",
          "2014-01-01T13:00:00.000000000",
          "2014-01-01T13:30:00.000000000",
          "2014-01-01T14:00:00.000000000",
          "2014-01-01T14:30:00.000000000",
          "2014-01-01T15:00:00.000000000",
          "2014-01-01T15:30:00.000000000",
          "2014-01-01T16:00:00.000000000",
          "2014-01-01T16:30:00.000000000",
          "2014-01-01T17:00:00.000000000",
          "2014-01-01T17:30:00.000000000",
          "2014-01-01T18:00:00.000000000",
          "2014-01-01T18:30:00.000000000",
          "2014-01-01T19:00:00.000000000",
          "2014-01-01T19:30:00.000000000",
          "2014-01-01T20:00:00.000000000",
          "2014-01-01T20:30:00.000000000",
          "2014-01-01T21:00:00.000000000",
          "2014-01-01T21:30:00.000000000",
          "2014-01-01T22:00:00.000000000",
          "2014-01-01T22:30:00.000000000",
          "2014-01-01T23:00:00.000000000",
          "2014-01-01T23:30:00.000000000",
          "2014-01-02T00:00:00.000000000",
          "2014-01-02T00:30:00.000000000",
          "2014-01-02T01:00:00.000000000",
          "2014-01-02T01:30:00.000000000",
          "2014-01-02T02:00:00.000000000",
          "2014-01-02T02:30:00.000000000",
          "2014-01-02T03:00:00.000000000",
          "2014-01-02T03:30:00.000000000",
          "2014-01-02T04:00:00.000000000",
          "2014-01-02T04:30:00.000000000",
          "2014-01-02T05:00:00.000000000",
          "2014-01-02T05:30:00.000000000",
          "2014-01-02T06:00:00.000000000",
          "2014-01-02T06:30:00.000000000",
          "2014-01-02T07:00:00.000000000",
          "2014-01-02T07:30:00.000000000",
          "2014-01-02T08:00:00.000000000",
          "2014-01-02T08:30:00.000000000",
          "2014-01-02T09:00:00.000000000",
          "2014-01-02T09:30:00.000000000",
          "2014-01-02T10:00:00.000000000",
          "2014-01-02T10:30:00.000000000",
          "2014-01-02T11:00:00.000000000",
          "2014-01-02T11:30:00.000000000",
          "2014-01-02T12:00:00.000000000",
          "2014-01-02T12:30:00.000000000",
          "2014-01-02T13:00:00.000000000",
          "2014-01-02T13:30:00.000000000",
          "2014-01-02T14:00:00.000000000",
          "2014-01-02T14:30:00.000000000",
          "2014-01-02T15:00:00.000000000",
          "2014-01-02T15:30:00.000000000",
          "2014-01-02T16:00:00.000000000",
          "2014-01-02T16:30:00.000000000",
          "2014-01-02T17:00:00.000000000",
          "2014-01-02T17:30:00.000000000",
          "2014-01-02T18:00:00.000000000",
          "2014-01-02T18:30:00.000000000",
          "2014-01-02T19:00:00.000000000",
          "2014-01-02T19:30:00.000000000",
          "2014-01-02T20:00:00.000000000",
          "2014-01-02T20:30:00.000000000",
          "2014-01-02T21:00:00.000000000",
          "2014-01-02T21:30:00.000000000",
          "2014-01-02T22:00:00.000000000",
          "2014-01-02T22:30:00.000000000",
          "2014-01-02T23:00:00.000000000",
          "2014-01-02T23:30:00.000000000",
          "2014-01-03T00:00:00.000000000",
          "2014-01-03T00:30:00.000000000",
          "2014-01-03T01:00:00.000000000",
          "2014-01-03T01:30:00.000000000",
          "2014-01-03T02:00:00.000000000",
          "2014-01-03T02:30:00.000000000",
          "2014-01-03T03:00:00.000000000",
          "2014-01-03T03:30:00.000000000",
          "2014-01-03T04:00:00.000000000",
          "2014-01-03T04:30:00.000000000",
          "2014-01-03T05:00:00.000000000",
          "2014-01-03T05:30:00.000000000",
          "2014-01-03T06:00:00.000000000",
          "2014-01-03T06:30:00.000000000",
          "2014-01-03T07:00:00.000000000",
          "2014-01-03T07:30:00.000000000",
          "2014-01-03T08:00:00.000000000",
          "2014-01-03T08:30:00.000000000",
          "2014-01-03T09:00:00.000000000",
          "2014-01-03T09:30:00.000000000",
          "2014-01-03T10:00:00.000000000",
          "2014-01-03T10:30:00.000000000",
          "2014-01-03T11:00:00.000000000",
          "2014-01-03T11:30:00.000000000",
          "2014-01-03T12:00:00.000000000",
          "2014-01-03T12:30:00.000000000",
          "2014-01-03T13:00:00.000000000",
          "2014-01-03T13:30:00.000000000",
          "2014-01-03T14:00:00.000000000",
          "2014-01-03T14:30:00.000000000",
          "2014-01-03T15:00:00.000000000",
          "2014-01-03T15:30:00.000000000",
          "2014-01-03T16:00:00.000000000",
          "2014-01-03T16:30:00.000000000",
          "2014-01-03T17:00:00.000000000",
          "2014-01-03T17:30:00.000000000",
          "2014-01-03T18:00:00.000000000",
          "2014-01-03T18:30:00.000000000",
          "2014-01-03T19:00:00.000000000",
          "2014-01-03T19:30:00.000000000",
          "2014-01-03T20:00:00.000000000",
          "2014-01-03T20:30:00.000000000",
          "2014-01-03T21:00:00.000000000",
          "2014-01-03T21:30:00.000000000",
          "2014-01-03T22:00:00.000000000",
          "2014-01-03T22:30:00.000000000",
          "2014-01-03T23:00:00.000000000",
          "2014-01-03T23:30:00.000000000",
          "2014-01-04T00:00:00.000000000",
          "2014-01-04T00:30:00.000000000",
          "2014-01-04T01:00:00.000000000",
          "2014-01-04T01:30:00.000000000",
          "2014-01-04T02:00:00.000000000",
          "2014-01-04T02:30:00.000000000",
          "2014-01-04T03:00:00.000000000",
          "2014-01-04T03:30:00.000000000",
          "2014-01-04T04:00:00.000000000",
          "2014-01-04T04:30:00.000000000",
          "2014-01-04T05:00:00.000000000",
          "2014-01-04T05:30:00.000000000",
          "2014-01-04T06:00:00.000000000",
          "2014-01-04T06:30:00.000000000",
          "2014-01-04T07:00:00.000000000",
          "2014-01-04T07:30:00.000000000",
          "2014-01-04T08:00:00.000000000",
          "2014-01-04T08:30:00.000000000",
          "2014-01-04T09:00:00.000000000",
          "2014-01-04T09:30:00.000000000",
          "2014-01-04T10:00:00.000000000",
          "2014-01-04T10:30:00.000000000",
          "2014-01-04T11:00:00.000000000",
          "2014-01-04T11:30:00.000000000",
          "2014-01-04T12:00:00.000000000",
          "2014-01-04T12:30:00.000000000",
          "2014-01-04T13:00:00.000000000",
          "2014-01-04T13:30:00.000000000",
          "2014-01-04T14:00:00.000000000",
          "2014-01-04T14:30:00.000000000",
          "2014-01-04T15:00:00.000000000",
          "2014-01-04T15:30:00.000000000",
          "2014-01-04T16:00:00.000000000",
          "2014-01-04T16:30:00.000000000",
          "2014-01-04T17:00:00.000000000",
          "2014-01-04T17:30:00.000000000",
          "2014-01-04T18:00:00.000000000",
          "2014-01-04T18:30:00.000000000",
          "2014-01-04T19:00:00.000000000",
          "2014-01-04T19:30:00.000000000",
          "2014-01-04T20:00:00.000000000",
          "2014-01-04T20:30:00.000000000",
          "2014-01-04T21:00:00.000000000",
          "2014-01-04T21:30:00.000000000",
          "2014-01-04T22:00:00.000000000",
          "2014-01-04T22:30:00.000000000",
          "2014-01-04T23:00:00.000000000",
          "2014-01-04T23:30:00.000000000",
          "2014-01-05T00:00:00.000000000",
          "2014-01-05T00:30:00.000000000",
          "2014-01-05T01:00:00.000000000",
          "2014-01-05T01:30:00.000000000",
          "2014-01-05T02:00:00.000000000",
          "2014-01-05T02:30:00.000000000",
          "2014-01-05T03:00:00.000000000",
          "2014-01-05T03:30:00.000000000",
          "2014-01-05T04:00:00.000000000",
          "2014-01-05T04:30:00.000000000",
          "2014-01-05T05:00:00.000000000",
          "2014-01-05T05:30:00.000000000",
          "2014-01-05T06:00:00.000000000",
          "2014-01-05T06:30:00.000000000",
          "2014-01-05T07:00:00.000000000",
          "2014-01-05T07:30:00.000000000",
          "2014-01-05T08:00:00.000000000",
          "2014-01-05T08:30:00.000000000",
          "2014-01-05T09:00:00.000000000",
          "2014-01-05T09:30:00.000000000",
          "2014-01-05T10:00:00.000000000",
          "2014-01-05T10:30:00.000000000",
          "2014-01-05T11:00:00.000000000",
          "2014-01-05T11:30:00.000000000",
          "2014-01-05T12:00:00.000000000",
          "2014-01-05T12:30:00.000000000",
          "2014-01-05T13:00:00.000000000",
          "2014-01-05T13:30:00.000000000",
          "2014-01-05T14:00:00.000000000",
          "2014-01-05T14:30:00.000000000",
          "2014-01-05T15:00:00.000000000",
          "2014-01-05T15:30:00.000000000",
          "2014-01-05T16:00:00.000000000",
          "2014-01-05T16:30:00.000000000",
          "2014-01-05T17:00:00.000000000",
          "2014-01-05T17:30:00.000000000",
          "2014-01-05T18:00:00.000000000",
          "2014-01-05T18:30:00.000000000",
          "2014-01-05T19:00:00.000000000",
          "2014-01-05T19:30:00.000000000",
          "2014-01-05T20:00:00.000000000",
          "2014-01-05T20:30:00.000000000",
          "2014-01-05T21:00:00.000000000",
          "2014-01-05T21:30:00.000000000",
          "2014-01-05T22:00:00.000000000",
          "2014-01-05T22:30:00.000000000",
          "2014-01-05T23:00:00.000000000",
          "2014-01-05T23:30:00.000000000",
          "2014-01-06T00:00:00.000000000",
          "2014-01-06T00:30:00.000000000",
          "2014-01-06T01:00:00.000000000",
          "2014-01-06T01:30:00.000000000",
          "2014-01-06T02:00:00.000000000",
          "2014-01-06T02:30:00.000000000",
          "2014-01-06T03:00:00.000000000",
          "2014-01-06T03:30:00.000000000",
          "2014-01-06T04:00:00.000000000",
          "2014-01-06T04:30:00.000000000",
          "2014-01-06T05:00:00.000000000",
          "2014-01-06T05:30:00.000000000",
          "2014-01-06T06:00:00.000000000",
          "2014-01-06T06:30:00.000000000",
          "2014-01-06T07:00:00.000000000",
          "2014-01-06T07:30:00.000000000",
          "2014-01-06T08:00:00.000000000",
          "2014-01-06T08:30:00.000000000",
          "2014-01-06T09:00:00.000000000",
          "2014-01-06T09:30:00.000000000",
          "2014-01-06T10:00:00.000000000",
          "2014-01-06T10:30:00.000000000",
          "2014-01-06T11:00:00.000000000",
          "2014-01-06T11:30:00.000000000",
          "2014-01-06T12:00:00.000000000",
          "2014-01-06T12:30:00.000000000",
          "2014-01-06T13:00:00.000000000",
          "2014-01-06T13:30:00.000000000",
          "2014-01-06T14:00:00.000000000",
          "2014-01-06T14:30:00.000000000",
          "2014-01-06T15:00:00.000000000",
          "2014-01-06T15:30:00.000000000",
          "2014-01-06T16:00:00.000000000",
          "2014-01-06T16:30:00.000000000",
          "2014-01-06T17:00:00.000000000",
          "2014-01-06T17:30:00.000000000",
          "2014-01-06T18:00:00.000000000",
          "2014-01-06T18:30:00.000000000",
          "2014-01-06T19:00:00.000000000",
          "2014-01-06T19:30:00.000000000",
          "2014-01-06T20:00:00.000000000",
          "2014-01-06T20:30:00.000000000",
          "2014-01-06T21:00:00.000000000",
          "2014-01-06T21:30:00.000000000",
          "2014-01-06T22:00:00.000000000",
          "2014-01-06T22:30:00.000000000",
          "2014-01-06T23:00:00.000000000",
          "2014-01-06T23:30:00.000000000",
          "2014-01-07T00:00:00.000000000",
          "2014-01-07T00:30:00.000000000",
          "2014-01-07T01:00:00.000000000",
          "2014-01-07T01:30:00.000000000",
          "2014-01-07T02:00:00.000000000",
          "2014-01-07T02:30:00.000000000",
          "2014-01-07T03:00:00.000000000",
          "2014-01-07T03:30:00.000000000",
          "2014-01-07T04:00:00.000000000",
          "2014-01-07T04:30:00.000000000",
          "2014-01-07T05:00:00.000000000",
          "2014-01-07T05:30:00.000000000",
          "2014-01-07T06:00:00.000000000",
          "2014-01-07T06:30:00.000000000",
          "2014-01-07T07:00:00.000000000",
          "2014-01-07T07:30:00.000000000",
          "2014-01-07T08:00:00.000000000",
          "2014-01-07T08:30:00.000000000",
          "2014-01-07T09:00:00.000000000",
          "2014-01-07T09:30:00.000000000",
          "2014-01-07T10:00:00.000000000",
          "2014-01-07T10:30:00.000000000",
          "2014-01-07T11:00:00.000000000",
          "2014-01-07T11:30:00.000000000",
          "2014-01-07T12:00:00.000000000",
          "2014-01-07T12:30:00.000000000",
          "2014-01-07T13:00:00.000000000",
          "2014-01-07T13:30:00.000000000",
          "2014-01-07T14:00:00.000000000",
          "2014-01-07T14:30:00.000000000",
          "2014-01-07T15:00:00.000000000",
          "2014-01-07T15:30:00.000000000",
          "2014-01-07T16:00:00.000000000",
          "2014-01-07T16:30:00.000000000",
          "2014-01-07T17:00:00.000000000",
          "2014-01-07T17:30:00.000000000",
          "2014-01-07T18:00:00.000000000",
          "2014-01-07T18:30:00.000000000",
          "2014-01-07T19:00:00.000000000",
          "2014-01-07T19:30:00.000000000",
          "2014-01-07T20:00:00.000000000",
          "2014-01-07T20:30:00.000000000",
          "2014-01-07T21:00:00.000000000",
          "2014-01-07T21:30:00.000000000",
          "2014-01-07T22:00:00.000000000",
          "2014-01-07T22:30:00.000000000",
          "2014-01-07T23:00:00.000000000",
          "2014-01-07T23:30:00.000000000",
          "2014-01-08T00:00:00.000000000",
          "2014-01-08T00:30:00.000000000",
          "2014-01-08T01:00:00.000000000",
          "2014-01-08T01:30:00.000000000",
          "2014-01-08T02:00:00.000000000",
          "2014-01-08T02:30:00.000000000",
          "2014-01-08T03:00:00.000000000",
          "2014-01-08T03:30:00.000000000",
          "2014-01-08T04:00:00.000000000",
          "2014-01-08T04:30:00.000000000",
          "2014-01-08T05:00:00.000000000",
          "2014-01-08T05:30:00.000000000",
          "2014-01-08T06:00:00.000000000",
          "2014-01-08T06:30:00.000000000",
          "2014-01-08T07:00:00.000000000",
          "2014-01-08T07:30:00.000000000",
          "2014-01-08T08:00:00.000000000",
          "2014-01-08T08:30:00.000000000",
          "2014-01-08T09:00:00.000000000",
          "2014-01-08T09:30:00.000000000",
          "2014-01-08T10:00:00.000000000",
          "2014-01-08T10:30:00.000000000",
          "2014-01-08T11:00:00.000000000",
          "2014-01-08T11:30:00.000000000",
          "2014-01-08T12:00:00.000000000",
          "2014-01-08T12:30:00.000000000",
          "2014-01-08T13:00:00.000000000",
          "2014-01-08T13:30:00.000000000",
          "2014-01-08T14:00:00.000000000",
          "2014-01-08T14:30:00.000000000",
          "2014-01-08T15:00:00.000000000",
          "2014-01-08T15:30:00.000000000",
          "2014-01-08T16:00:00.000000000",
          "2014-01-08T16:30:00.000000000",
          "2014-01-08T17:00:00.000000000",
          "2014-01-08T17:30:00.000000000",
          "2014-01-08T18:00:00.000000000",
          "2014-01-08T18:30:00.000000000",
          "2014-01-08T19:00:00.000000000",
          "2014-01-08T19:30:00.000000000",
          "2014-01-08T20:00:00.000000000",
          "2014-01-08T20:30:00.000000000",
          "2014-01-08T21:00:00.000000000",
          "2014-01-08T21:30:00.000000000",
          "2014-01-08T22:00:00.000000000",
          "2014-01-08T22:30:00.000000000",
          "2014-01-08T23:00:00.000000000",
          "2014-01-08T23:30:00.000000000",
          "2014-01-09T00:00:00.000000000",
          "2014-01-09T00:30:00.000000000",
          "2014-01-09T01:00:00.000000000",
          "2014-01-09T01:30:00.000000000",
          "2014-01-09T02:00:00.000000000",
          "2014-01-09T02:30:00.000000000",
          "2014-01-09T03:00:00.000000000",
          "2014-01-09T03:30:00.000000000",
          "2014-01-09T04:00:00.000000000",
          "2014-01-09T04:30:00.000000000",
          "2014-01-09T05:00:00.000000000",
          "2014-01-09T05:30:00.000000000",
          "2014-01-09T06:00:00.000000000",
          "2014-01-09T06:30:00.000000000",
          "2014-01-09T07:00:00.000000000",
          "2014-01-09T07:30:00.000000000",
          "2014-01-09T08:00:00.000000000",
          "2014-01-09T08:30:00.000000000",
          "2014-01-09T09:00:00.000000000",
          "2014-01-09T09:30:00.000000000",
          "2014-01-09T10:00:00.000000000",
          "2014-01-09T10:30:00.000000000",
          "2014-01-09T11:00:00.000000000",
          "2014-01-09T11:30:00.000000000",
          "2014-01-09T12:00:00.000000000",
          "2014-01-09T12:30:00.000000000",
          "2014-01-09T13:00:00.000000000",
          "2014-01-09T13:30:00.000000000",
          "2014-01-09T14:00:00.000000000",
          "2014-01-09T14:30:00.000000000",
          "2014-01-09T15:00:00.000000000",
          "2014-01-09T15:30:00.000000000",
          "2014-01-09T16:00:00.000000000",
          "2014-01-09T16:30:00.000000000",
          "2014-01-09T17:00:00.000000000",
          "2014-01-09T17:30:00.000000000",
          "2014-01-09T18:00:00.000000000",
          "2014-01-09T18:30:00.000000000",
          "2014-01-09T19:00:00.000000000",
          "2014-01-09T19:30:00.000000000",
          "2014-01-09T20:00:00.000000000",
          "2014-01-09T20:30:00.000000000",
          "2014-01-09T21:00:00.000000000",
          "2014-01-09T21:30:00.000000000",
          "2014-01-09T22:00:00.000000000",
          "2014-01-09T22:30:00.000000000",
          "2014-01-09T23:00:00.000000000",
          "2014-01-09T23:30:00.000000000",
          "2014-01-10T00:00:00.000000000",
          "2014-01-10T00:30:00.000000000",
          "2014-01-10T01:00:00.000000000",
          "2014-01-10T01:30:00.000000000",
          "2014-01-10T02:00:00.000000000",
          "2014-01-10T02:30:00.000000000",
          "2014-01-10T03:00:00.000000000",
          "2014-01-10T03:30:00.000000000",
          "2014-01-10T04:00:00.000000000",
          "2014-01-10T04:30:00.000000000",
          "2014-01-10T05:00:00.000000000",
          "2014-01-10T05:30:00.000000000",
          "2014-01-10T06:00:00.000000000",
          "2014-01-10T06:30:00.000000000",
          "2014-01-10T07:00:00.000000000",
          "2014-01-10T07:30:00.000000000",
          "2014-01-10T08:00:00.000000000",
          "2014-01-10T08:30:00.000000000",
          "2014-01-10T09:00:00.000000000",
          "2014-01-10T09:30:00.000000000",
          "2014-01-10T10:00:00.000000000",
          "2014-01-10T10:30:00.000000000",
          "2014-01-10T11:00:00.000000000",
          "2014-01-10T11:30:00.000000000",
          "2014-01-10T12:00:00.000000000",
          "2014-01-10T12:30:00.000000000",
          "2014-01-10T13:00:00.000000000",
          "2014-01-10T13:30:00.000000000",
          "2014-01-10T14:00:00.000000000",
          "2014-01-10T14:30:00.000000000",
          "2014-01-10T15:00:00.000000000",
          "2014-01-10T15:30:00.000000000",
          "2014-01-10T16:00:00.000000000",
          "2014-01-10T16:30:00.000000000",
          "2014-01-10T17:00:00.000000000",
          "2014-01-10T17:30:00.000000000",
          "2014-01-10T18:00:00.000000000",
          "2014-01-10T18:30:00.000000000",
          "2014-01-10T19:00:00.000000000",
          "2014-01-10T19:30:00.000000000",
          "2014-01-10T20:00:00.000000000",
          "2014-01-10T20:30:00.000000000",
          "2014-01-10T21:00:00.000000000",
          "2014-01-10T21:30:00.000000000",
          "2014-01-10T22:00:00.000000000",
          "2014-01-10T22:30:00.000000000",
          "2014-01-10T23:00:00.000000000",
          "2014-01-10T23:30:00.000000000",
          "2014-01-11T00:00:00.000000000",
          "2014-01-11T00:30:00.000000000",
          "2014-01-11T01:00:00.000000000",
          "2014-01-11T01:30:00.000000000",
          "2014-01-11T02:00:00.000000000",
          "2014-01-11T02:30:00.000000000",
          "2014-01-11T03:00:00.000000000",
          "2014-01-11T03:30:00.000000000",
          "2014-01-11T04:00:00.000000000",
          "2014-01-11T04:30:00.000000000",
          "2014-01-11T05:00:00.000000000",
          "2014-01-11T05:30:00.000000000",
          "2014-01-11T06:00:00.000000000",
          "2014-01-11T06:30:00.000000000",
          "2014-01-11T07:00:00.000000000",
          "2014-01-11T07:30:00.000000000",
          "2014-01-11T08:00:00.000000000",
          "2014-01-11T08:30:00.000000000",
          "2014-01-11T09:00:00.000000000",
          "2014-01-11T09:30:00.000000000",
          "2014-01-11T10:00:00.000000000",
          "2014-01-11T10:30:00.000000000",
          "2014-01-11T11:00:00.000000000",
          "2014-01-11T11:30:00.000000000",
          "2014-01-11T12:00:00.000000000",
          "2014-01-11T12:30:00.000000000",
          "2014-01-11T13:00:00.000000000",
          "2014-01-11T13:30:00.000000000",
          "2014-01-11T14:00:00.000000000",
          "2014-01-11T14:30:00.000000000",
          "2014-01-11T15:00:00.000000000",
          "2014-01-11T15:30:00.000000000",
          "2014-01-11T16:00:00.000000000",
          "2014-01-11T16:30:00.000000000",
          "2014-01-11T17:00:00.000000000",
          "2014-01-11T17:30:00.000000000",
          "2014-01-11T18:00:00.000000000",
          "2014-01-11T18:30:00.000000000",
          "2014-01-11T19:00:00.000000000",
          "2014-01-11T19:30:00.000000000",
          "2014-01-11T20:00:00.000000000",
          "2014-01-11T20:30:00.000000000",
          "2014-01-11T21:00:00.000000000",
          "2014-01-11T21:30:00.000000000",
          "2014-01-11T22:00:00.000000000",
          "2014-01-11T22:30:00.000000000",
          "2014-01-11T23:00:00.000000000",
          "2014-01-11T23:30:00.000000000",
          "2014-01-12T00:00:00.000000000",
          "2014-01-12T00:30:00.000000000",
          "2014-01-12T01:00:00.000000000",
          "2014-01-12T01:30:00.000000000",
          "2014-01-12T02:00:00.000000000",
          "2014-01-12T02:30:00.000000000",
          "2014-01-12T03:00:00.000000000",
          "2014-01-12T03:30:00.000000000",
          "2014-01-12T04:00:00.000000000",
          "2014-01-12T04:30:00.000000000",
          "2014-01-12T05:00:00.000000000",
          "2014-01-12T05:30:00.000000000",
          "2014-01-12T06:00:00.000000000",
          "2014-01-12T06:30:00.000000000",
          "2014-01-12T07:00:00.000000000",
          "2014-01-12T07:30:00.000000000",
          "2014-01-12T08:00:00.000000000",
          "2014-01-12T08:30:00.000000000",
          "2014-01-12T09:00:00.000000000",
          "2014-01-12T09:30:00.000000000",
          "2014-01-12T10:00:00.000000000",
          "2014-01-12T10:30:00.000000000",
          "2014-01-12T11:00:00.000000000",
          "2014-01-12T11:30:00.000000000",
          "2014-01-12T12:00:00.000000000",
          "2014-01-12T12:30:00.000000000",
          "2014-01-12T13:00:00.000000000",
          "2014-01-12T13:30:00.000000000",
          "2014-01-12T14:00:00.000000000",
          "2014-01-12T14:30:00.000000000",
          "2014-01-12T15:00:00.000000000",
          "2014-01-12T15:30:00.000000000",
          "2014-01-12T16:00:00.000000000",
          "2014-01-12T16:30:00.000000000",
          "2014-01-12T17:00:00.000000000",
          "2014-01-12T17:30:00.000000000",
          "2014-01-12T18:00:00.000000000",
          "2014-01-12T18:30:00.000000000",
          "2014-01-12T19:00:00.000000000",
          "2014-01-12T19:30:00.000000000",
          "2014-01-12T20:00:00.000000000",
          "2014-01-12T20:30:00.000000000",
          "2014-01-12T21:00:00.000000000",
          "2014-01-12T21:30:00.000000000",
          "2014-01-12T22:00:00.000000000",
          "2014-01-12T22:30:00.000000000",
          "2014-01-12T23:00:00.000000000",
          "2014-01-12T23:30:00.000000000",
          "2014-01-13T00:00:00.000000000",
          "2014-01-13T00:30:00.000000000",
          "2014-01-13T01:00:00.000000000",
          "2014-01-13T01:30:00.000000000",
          "2014-01-13T02:00:00.000000000",
          "2014-01-13T02:30:00.000000000",
          "2014-01-13T03:00:00.000000000",
          "2014-01-13T03:30:00.000000000",
          "2014-01-13T04:00:00.000000000",
          "2014-01-13T04:30:00.000000000",
          "2014-01-13T05:00:00.000000000",
          "2014-01-13T05:30:00.000000000",
          "2014-01-13T06:00:00.000000000",
          "2014-01-13T06:30:00.000000000",
          "2014-01-13T07:00:00.000000000",
          "2014-01-13T07:30:00.000000000",
          "2014-01-13T08:00:00.000000000",
          "2014-01-13T08:30:00.000000000",
          "2014-01-13T09:00:00.000000000",
          "2014-01-13T09:30:00.000000000",
          "2014-01-13T10:00:00.000000000",
          "2014-01-13T10:30:00.000000000",
          "2014-01-13T11:00:00.000000000",
          "2014-01-13T11:30:00.000000000",
          "2014-01-13T12:00:00.000000000",
          "2014-01-13T12:30:00.000000000",
          "2014-01-13T13:00:00.000000000",
          "2014-01-13T13:30:00.000000000",
          "2014-01-13T14:00:00.000000000",
          "2014-01-13T14:30:00.000000000",
          "2014-01-13T15:00:00.000000000",
          "2014-01-13T15:30:00.000000000",
          "2014-01-13T16:00:00.000000000",
          "2014-01-13T16:30:00.000000000",
          "2014-01-13T17:00:00.000000000",
          "2014-01-13T17:30:00.000000000",
          "2014-01-13T18:00:00.000000000",
          "2014-01-13T18:30:00.000000000",
          "2014-01-13T19:00:00.000000000",
          "2014-01-13T19:30:00.000000000",
          "2014-01-13T20:00:00.000000000",
          "2014-01-13T20:30:00.000000000",
          "2014-01-13T21:00:00.000000000",
          "2014-01-13T21:30:00.000000000",
          "2014-01-13T22:00:00.000000000",
          "2014-01-13T22:30:00.000000000",
          "2014-01-13T23:00:00.000000000",
          "2014-01-13T23:30:00.000000000",
          "2014-01-14T00:00:00.000000000",
          "2014-01-14T00:30:00.000000000",
          "2014-01-14T01:00:00.000000000",
          "2014-01-14T01:30:00.000000000",
          "2014-01-14T02:00:00.000000000",
          "2014-01-14T02:30:00.000000000",
          "2014-01-14T03:00:00.000000000",
          "2014-01-14T03:30:00.000000000",
          "2014-01-14T04:00:00.000000000",
          "2014-01-14T04:30:00.000000000",
          "2014-01-14T05:00:00.000000000",
          "2014-01-14T05:30:00.000000000",
          "2014-01-14T06:00:00.000000000",
          "2014-01-14T06:30:00.000000000",
          "2014-01-14T07:00:00.000000000",
          "2014-01-14T07:30:00.000000000",
          "2014-01-14T08:00:00.000000000",
          "2014-01-14T08:30:00.000000000",
          "2014-01-14T09:00:00.000000000",
          "2014-01-14T09:30:00.000000000",
          "2014-01-14T10:00:00.000000000",
          "2014-01-14T10:30:00.000000000",
          "2014-01-14T11:00:00.000000000",
          "2014-01-14T11:30:00.000000000",
          "2014-01-14T12:00:00.000000000",
          "2014-01-14T12:30:00.000000000",
          "2014-01-14T13:00:00.000000000",
          "2014-01-14T13:30:00.000000000",
          "2014-01-14T14:00:00.000000000",
          "2014-01-14T14:30:00.000000000",
          "2014-01-14T15:00:00.000000000",
          "2014-01-14T15:30:00.000000000",
          "2014-01-14T16:00:00.000000000",
          "2014-01-14T16:30:00.000000000",
          "2014-01-14T17:00:00.000000000",
          "2014-01-14T17:30:00.000000000",
          "2014-01-14T18:00:00.000000000",
          "2014-01-14T18:30:00.000000000",
          "2014-01-14T19:00:00.000000000",
          "2014-01-14T19:30:00.000000000",
          "2014-01-14T20:00:00.000000000",
          "2014-01-14T20:30:00.000000000",
          "2014-01-14T21:00:00.000000000",
          "2014-01-14T21:30:00.000000000",
          "2014-01-14T22:00:00.000000000",
          "2014-01-14T22:30:00.000000000",
          "2014-01-14T23:00:00.000000000",
          "2014-01-14T23:30:00.000000000",
          "2014-01-15T00:00:00.000000000",
          "2014-01-15T00:30:00.000000000",
          "2014-01-15T01:00:00.000000000",
          "2014-01-15T01:30:00.000000000",
          "2014-01-15T02:00:00.000000000",
          "2014-01-15T02:30:00.000000000",
          "2014-01-15T03:00:00.000000000",
          "2014-01-15T03:30:00.000000000",
          "2014-01-15T04:00:00.000000000",
          "2014-01-15T04:30:00.000000000",
          "2014-01-15T05:00:00.000000000",
          "2014-01-15T05:30:00.000000000",
          "2014-01-15T06:00:00.000000000",
          "2014-01-15T06:30:00.000000000",
          "2014-01-15T07:00:00.000000000",
          "2014-01-15T07:30:00.000000000",
          "2014-01-15T08:00:00.000000000",
          "2014-01-15T08:30:00.000000000",
          "2014-01-15T09:00:00.000000000",
          "2014-01-15T09:30:00.000000000",
          "2014-01-15T10:00:00.000000000",
          "2014-01-15T10:30:00.000000000",
          "2014-01-15T11:00:00.000000000",
          "2014-01-15T11:30:00.000000000",
          "2014-01-15T12:00:00.000000000",
          "2014-01-15T12:30:00.000000000",
          "2014-01-15T13:00:00.000000000",
          "2014-01-15T13:30:00.000000000",
          "2014-01-15T14:00:00.000000000",
          "2014-01-15T14:30:00.000000000",
          "2014-01-15T15:00:00.000000000",
          "2014-01-15T15:30:00.000000000",
          "2014-01-15T16:00:00.000000000",
          "2014-01-15T16:30:00.000000000",
          "2014-01-15T17:00:00.000000000",
          "2014-01-15T17:30:00.000000000",
          "2014-01-15T18:00:00.000000000",
          "2014-01-15T18:30:00.000000000",
          "2014-01-15T19:00:00.000000000",
          "2014-01-15T19:30:00.000000000",
          "2014-01-15T20:00:00.000000000",
          "2014-01-15T20:30:00.000000000",
          "2014-01-15T21:00:00.000000000",
          "2014-01-15T21:30:00.000000000",
          "2014-01-15T22:00:00.000000000",
          "2014-01-15T22:30:00.000000000",
          "2014-01-15T23:00:00.000000000",
          "2014-01-15T23:30:00.000000000",
          "2014-01-16T00:00:00.000000000",
          "2014-01-16T00:30:00.000000000",
          "2014-01-16T01:00:00.000000000",
          "2014-01-16T01:30:00.000000000",
          "2014-01-16T02:00:00.000000000",
          "2014-01-16T02:30:00.000000000",
          "2014-01-16T03:00:00.000000000",
          "2014-01-16T03:30:00.000000000",
          "2014-01-16T04:00:00.000000000",
          "2014-01-16T04:30:00.000000000",
          "2014-01-16T05:00:00.000000000",
          "2014-01-16T05:30:00.000000000",
          "2014-01-16T06:00:00.000000000",
          "2014-01-16T06:30:00.000000000",
          "2014-01-16T07:00:00.000000000",
          "2014-01-16T07:30:00.000000000",
          "2014-01-16T08:00:00.000000000",
          "2014-01-16T08:30:00.000000000",
          "2014-01-16T09:00:00.000000000",
          "2014-01-16T09:30:00.000000000",
          "2014-01-16T10:00:00.000000000",
          "2014-01-16T10:30:00.000000000",
          "2014-01-16T11:00:00.000000000",
          "2014-01-16T11:30:00.000000000",
          "2014-01-16T12:00:00.000000000",
          "2014-01-16T12:30:00.000000000",
          "2014-01-16T13:00:00.000000000",
          "2014-01-16T13:30:00.000000000",
          "2014-01-16T14:00:00.000000000",
          "2014-01-16T14:30:00.000000000",
          "2014-01-16T15:00:00.000000000",
          "2014-01-16T15:30:00.000000000",
          "2014-01-16T16:00:00.000000000",
          "2014-01-16T16:30:00.000000000",
          "2014-01-16T17:00:00.000000000",
          "2014-01-16T17:30:00.000000000",
          "2014-01-16T18:00:00.000000000",
          "2014-01-16T18:30:00.000000000",
          "2014-01-16T19:00:00.000000000",
          "2014-01-16T19:30:00.000000000",
          "2014-01-16T20:00:00.000000000",
          "2014-01-16T20:30:00.000000000",
          "2014-01-16T21:00:00.000000000",
          "2014-01-16T21:30:00.000000000",
          "2014-01-16T22:00:00.000000000",
          "2014-01-16T22:30:00.000000000",
          "2014-01-16T23:00:00.000000000",
          "2014-01-16T23:30:00.000000000",
          "2014-01-17T00:00:00.000000000",
          "2014-01-17T00:30:00.000000000",
          "2014-01-17T01:00:00.000000000",
          "2014-01-17T01:30:00.000000000",
          "2014-01-17T02:00:00.000000000",
          "2014-01-17T02:30:00.000000000",
          "2014-01-17T03:00:00.000000000",
          "2014-01-17T03:30:00.000000000",
          "2014-01-17T04:00:00.000000000",
          "2014-01-17T04:30:00.000000000",
          "2014-01-17T05:00:00.000000000",
          "2014-01-17T05:30:00.000000000",
          "2014-01-17T06:00:00.000000000",
          "2014-01-17T06:30:00.000000000",
          "2014-01-17T07:00:00.000000000",
          "2014-01-17T07:30:00.000000000",
          "2014-01-17T08:00:00.000000000",
          "2014-01-17T08:30:00.000000000",
          "2014-01-17T09:00:00.000000000",
          "2014-01-17T09:30:00.000000000",
          "2014-01-17T10:00:00.000000000",
          "2014-01-17T10:30:00.000000000",
          "2014-01-17T11:00:00.000000000",
          "2014-01-17T11:30:00.000000000",
          "2014-01-17T12:00:00.000000000",
          "2014-01-17T12:30:00.000000000",
          "2014-01-17T13:00:00.000000000",
          "2014-01-17T13:30:00.000000000",
          "2014-01-17T14:00:00.000000000",
          "2014-01-17T14:30:00.000000000",
          "2014-01-17T15:00:00.000000000",
          "2014-01-17T15:30:00.000000000",
          "2014-01-17T16:00:00.000000000",
          "2014-01-17T16:30:00.000000000",
          "2014-01-17T17:00:00.000000000",
          "2014-01-17T17:30:00.000000000",
          "2014-01-17T18:00:00.000000000",
          "2014-01-17T18:30:00.000000000",
          "2014-01-17T19:00:00.000000000",
          "2014-01-17T19:30:00.000000000",
          "2014-01-17T20:00:00.000000000",
          "2014-01-17T20:30:00.000000000",
          "2014-01-17T21:00:00.000000000",
          "2014-01-17T21:30:00.000000000",
          "2014-01-17T22:00:00.000000000",
          "2014-01-17T22:30:00.000000000",
          "2014-01-17T23:00:00.000000000",
          "2014-01-17T23:30:00.000000000",
          "2014-01-18T00:00:00.000000000",
          "2014-01-18T00:30:00.000000000",
          "2014-01-18T01:00:00.000000000",
          "2014-01-18T01:30:00.000000000",
          "2014-01-18T02:00:00.000000000",
          "2014-01-18T02:30:00.000000000",
          "2014-01-18T03:00:00.000000000",
          "2014-01-18T03:30:00.000000000",
          "2014-01-18T04:00:00.000000000",
          "2014-01-18T04:30:00.000000000",
          "2014-01-18T05:00:00.000000000",
          "2014-01-18T05:30:00.000000000",
          "2014-01-18T06:00:00.000000000",
          "2014-01-18T06:30:00.000000000",
          "2014-01-18T07:00:00.000000000",
          "2014-01-18T07:30:00.000000000",
          "2014-01-18T08:00:00.000000000",
          "2014-01-18T08:30:00.000000000",
          "2014-01-18T09:00:00.000000000",
          "2014-01-18T09:30:00.000000000",
          "2014-01-18T10:00:00.000000000",
          "2014-01-18T10:30:00.000000000",
          "2014-01-18T11:00:00.000000000",
          "2014-01-18T11:30:00.000000000",
          "2014-01-18T12:00:00.000000000",
          "2014-01-18T12:30:00.000000000",
          "2014-01-18T13:00:00.000000000",
          "2014-01-18T13:30:00.000000000",
          "2014-01-18T14:00:00.000000000",
          "2014-01-18T14:30:00.000000000",
          "2014-01-18T15:00:00.000000000",
          "2014-01-18T15:30:00.000000000",
          "2014-01-18T16:00:00.000000000",
          "2014-01-18T16:30:00.000000000",
          "2014-01-18T17:00:00.000000000",
          "2014-01-18T17:30:00.000000000",
          "2014-01-18T18:00:00.000000000",
          "2014-01-18T18:30:00.000000000",
          "2014-01-18T19:00:00.000000000",
          "2014-01-18T19:30:00.000000000",
          "2014-01-18T20:00:00.000000000",
          "2014-01-18T20:30:00.000000000",
          "2014-01-18T21:00:00.000000000",
          "2014-01-18T21:30:00.000000000",
          "2014-01-18T22:00:00.000000000",
          "2014-01-18T22:30:00.000000000",
          "2014-01-18T23:00:00.000000000",
          "2014-01-18T23:30:00.000000000",
          "2014-01-19T00:00:00.000000000",
          "2014-01-19T00:30:00.000000000",
          "2014-01-19T01:00:00.000000000",
          "2014-01-19T01:30:00.000000000",
          "2014-01-19T02:00:00.000000000",
          "2014-01-19T02:30:00.000000000",
          "2014-01-19T03:00:00.000000000",
          "2014-01-19T03:30:00.000000000",
          "2014-01-19T04:00:00.000000000",
          "2014-01-19T04:30:00.000000000",
          "2014-01-19T05:00:00.000000000",
          "2014-01-19T05:30:00.000000000",
          "2014-01-19T06:00:00.000000000",
          "2014-01-19T06:30:00.000000000",
          "2014-01-19T07:00:00.000000000",
          "2014-01-19T07:30:00.000000000",
          "2014-01-19T08:00:00.000000000",
          "2014-01-19T08:30:00.000000000",
          "2014-01-19T09:00:00.000000000",
          "2014-01-19T09:30:00.000000000",
          "2014-01-19T10:00:00.000000000",
          "2014-01-19T10:30:00.000000000",
          "2014-01-19T11:00:00.000000000",
          "2014-01-19T11:30:00.000000000",
          "2014-01-19T12:00:00.000000000",
          "2014-01-19T12:30:00.000000000",
          "2014-01-19T13:00:00.000000000",
          "2014-01-19T13:30:00.000000000",
          "2014-01-19T14:00:00.000000000",
          "2014-01-19T14:30:00.000000000",
          "2014-01-19T15:00:00.000000000",
          "2014-01-19T15:30:00.000000000",
          "2014-01-19T16:00:00.000000000",
          "2014-01-19T16:30:00.000000000",
          "2014-01-19T17:00:00.000000000",
          "2014-01-19T17:30:00.000000000",
          "2014-01-19T18:00:00.000000000",
          "2014-01-19T18:30:00.000000000",
          "2014-01-19T19:00:00.000000000",
          "2014-01-19T19:30:00.000000000",
          "2014-01-19T20:00:00.000000000",
          "2014-01-19T20:30:00.000000000",
          "2014-01-19T21:00:00.000000000",
          "2014-01-19T21:30:00.000000000",
          "2014-01-19T22:00:00.000000000",
          "2014-01-19T22:30:00.000000000",
          "2014-01-19T23:00:00.000000000",
          "2014-01-19T23:30:00.000000000",
          "2014-01-20T00:00:00.000000000",
          "2014-01-20T00:30:00.000000000",
          "2014-01-20T01:00:00.000000000",
          "2014-01-20T01:30:00.000000000",
          "2014-01-20T02:00:00.000000000",
          "2014-01-20T02:30:00.000000000",
          "2014-01-20T03:00:00.000000000",
          "2014-01-20T03:30:00.000000000",
          "2014-01-20T04:00:00.000000000",
          "2014-01-20T04:30:00.000000000",
          "2014-01-20T05:00:00.000000000",
          "2014-01-20T05:30:00.000000000",
          "2014-01-20T06:00:00.000000000",
          "2014-01-20T06:30:00.000000000",
          "2014-01-20T07:00:00.000000000",
          "2014-01-20T07:30:00.000000000",
          "2014-01-20T08:00:00.000000000",
          "2014-01-20T08:30:00.000000000",
          "2014-01-20T09:00:00.000000000",
          "2014-01-20T09:30:00.000000000",
          "2014-01-20T10:00:00.000000000",
          "2014-01-20T10:30:00.000000000",
          "2014-01-20T11:00:00.000000000",
          "2014-01-20T11:30:00.000000000",
          "2014-01-20T12:00:00.000000000",
          "2014-01-20T12:30:00.000000000",
          "2014-01-20T13:00:00.000000000",
          "2014-01-20T13:30:00.000000000",
          "2014-01-20T14:00:00.000000000",
          "2014-01-20T14:30:00.000000000",
          "2014-01-20T15:00:00.000000000",
          "2014-01-20T15:30:00.000000000",
          "2014-01-20T16:00:00.000000000",
          "2014-01-20T16:30:00.000000000",
          "2014-01-20T17:00:00.000000000",
          "2014-01-20T17:30:00.000000000",
          "2014-01-20T18:00:00.000000000",
          "2014-01-20T18:30:00.000000000",
          "2014-01-20T19:00:00.000000000",
          "2014-01-20T19:30:00.000000000",
          "2014-01-20T20:00:00.000000000",
          "2014-01-20T20:30:00.000000000",
          "2014-01-20T21:00:00.000000000",
          "2014-01-20T21:30:00.000000000",
          "2014-01-20T22:00:00.000000000",
          "2014-01-20T22:30:00.000000000",
          "2014-01-20T23:00:00.000000000",
          "2014-01-20T23:30:00.000000000",
          "2014-01-21T00:00:00.000000000",
          "2014-01-21T00:30:00.000000000",
          "2014-01-21T01:00:00.000000000",
          "2014-01-21T01:30:00.000000000",
          "2014-01-21T02:00:00.000000000",
          "2014-01-21T02:30:00.000000000",
          "2014-01-21T03:00:00.000000000",
          "2014-01-21T03:30:00.000000000",
          "2014-01-21T04:00:00.000000000",
          "2014-01-21T04:30:00.000000000",
          "2014-01-21T05:00:00.000000000",
          "2014-01-21T05:30:00.000000000",
          "2014-01-21T06:00:00.000000000",
          "2014-01-21T06:30:00.000000000",
          "2014-01-21T07:00:00.000000000",
          "2014-01-21T07:30:00.000000000",
          "2014-01-21T08:00:00.000000000",
          "2014-01-21T08:30:00.000000000",
          "2014-01-21T09:00:00.000000000",
          "2014-01-21T09:30:00.000000000",
          "2014-01-21T10:00:00.000000000",
          "2014-01-21T10:30:00.000000000",
          "2014-01-21T11:00:00.000000000",
          "2014-01-21T11:30:00.000000000",
          "2014-01-21T12:00:00.000000000",
          "2014-01-21T12:30:00.000000000",
          "2014-01-21T13:00:00.000000000",
          "2014-01-21T13:30:00.000000000",
          "2014-01-21T14:00:00.000000000",
          "2014-01-21T14:30:00.000000000",
          "2014-01-21T15:00:00.000000000",
          "2014-01-21T15:30:00.000000000",
          "2014-01-21T16:00:00.000000000",
          "2014-01-21T16:30:00.000000000",
          "2014-01-21T17:00:00.000000000",
          "2014-01-21T17:30:00.000000000",
          "2014-01-21T18:00:00.000000000",
          "2014-01-21T18:30:00.000000000",
          "2014-01-21T19:00:00.000000000",
          "2014-01-21T19:30:00.000000000",
          "2014-01-21T20:00:00.000000000",
          "2014-01-21T20:30:00.000000000",
          "2014-01-21T21:00:00.000000000",
          "2014-01-21T21:30:00.000000000",
          "2014-01-21T22:00:00.000000000",
          "2014-01-21T22:30:00.000000000",
          "2014-01-21T23:00:00.000000000",
          "2014-01-21T23:30:00.000000000",
          "2014-01-22T00:00:00.000000000",
          "2014-01-22T00:30:00.000000000",
          "2014-01-22T01:00:00.000000000",
          "2014-01-22T01:30:00.000000000",
          "2014-01-22T02:00:00.000000000",
          "2014-01-22T02:30:00.000000000",
          "2014-01-22T03:00:00.000000000",
          "2014-01-22T03:30:00.000000000",
          "2014-01-22T04:00:00.000000000",
          "2014-01-22T04:30:00.000000000",
          "2014-01-22T05:00:00.000000000",
          "2014-01-22T05:30:00.000000000",
          "2014-01-22T06:00:00.000000000",
          "2014-01-22T06:30:00.000000000",
          "2014-01-22T07:00:00.000000000",
          "2014-01-22T07:30:00.000000000",
          "2014-01-22T08:00:00.000000000",
          "2014-01-22T08:30:00.000000000",
          "2014-01-22T09:00:00.000000000",
          "2014-01-22T09:30:00.000000000",
          "2014-01-22T10:00:00.000000000",
          "2014-01-22T10:30:00.000000000",
          "2014-01-22T11:00:00.000000000",
          "2014-01-22T11:30:00.000000000",
          "2014-01-22T12:00:00.000000000",
          "2014-01-22T12:30:00.000000000",
          "2014-01-22T13:00:00.000000000",
          "2014-01-22T13:30:00.000000000",
          "2014-01-22T14:00:00.000000000",
          "2014-01-22T14:30:00.000000000",
          "2014-01-22T15:00:00.000000000",
          "2014-01-22T15:30:00.000000000",
          "2014-01-22T16:00:00.000000000",
          "2014-01-22T16:30:00.000000000",
          "2014-01-22T17:00:00.000000000",
          "2014-01-22T17:30:00.000000000",
          "2014-01-22T18:00:00.000000000",
          "2014-01-22T18:30:00.000000000",
          "2014-01-22T19:00:00.000000000",
          "2014-01-22T19:30:00.000000000",
          "2014-01-22T20:00:00.000000000",
          "2014-01-22T20:30:00.000000000",
          "2014-01-22T21:00:00.000000000",
          "2014-01-22T21:30:00.000000000",
          "2014-01-22T22:00:00.000000000",
          "2014-01-22T22:30:00.000000000",
          "2014-01-22T23:00:00.000000000",
          "2014-01-22T23:30:00.000000000",
          "2014-01-23T00:00:00.000000000",
          "2014-01-23T00:30:00.000000000",
          "2014-01-23T01:00:00.000000000",
          "2014-01-23T01:30:00.000000000",
          "2014-01-23T02:00:00.000000000",
          "2014-01-23T02:30:00.000000000",
          "2014-01-23T03:00:00.000000000",
          "2014-01-23T03:30:00.000000000",
          "2014-01-23T04:00:00.000000000",
          "2014-01-23T04:30:00.000000000",
          "2014-01-23T05:00:00.000000000",
          "2014-01-23T05:30:00.000000000",
          "2014-01-23T06:00:00.000000000",
          "2014-01-23T06:30:00.000000000",
          "2014-01-23T07:00:00.000000000",
          "2014-01-23T07:30:00.000000000",
          "2014-01-23T08:00:00.000000000",
          "2014-01-23T08:30:00.000000000",
          "2014-01-23T09:00:00.000000000",
          "2014-01-23T09:30:00.000000000",
          "2014-01-23T10:00:00.000000000",
          "2014-01-23T10:30:00.000000000",
          "2014-01-23T11:00:00.000000000",
          "2014-01-23T11:30:00.000000000",
          "2014-01-23T12:00:00.000000000",
          "2014-01-23T12:30:00.000000000",
          "2014-01-23T13:00:00.000000000",
          "2014-01-23T13:30:00.000000000",
          "2014-01-23T14:00:00.000000000",
          "2014-01-23T14:30:00.000000000",
          "2014-01-23T15:00:00.000000000",
          "2014-01-23T15:30:00.000000000",
          "2014-01-23T16:00:00.000000000",
          "2014-01-23T16:30:00.000000000",
          "2014-01-23T17:00:00.000000000",
          "2014-01-23T17:30:00.000000000",
          "2014-01-23T18:00:00.000000000",
          "2014-01-23T18:30:00.000000000",
          "2014-01-23T19:00:00.000000000",
          "2014-01-23T19:30:00.000000000",
          "2014-01-23T20:00:00.000000000",
          "2014-01-23T20:30:00.000000000",
          "2014-01-23T21:00:00.000000000",
          "2014-01-23T21:30:00.000000000",
          "2014-01-23T22:00:00.000000000",
          "2014-01-23T22:30:00.000000000",
          "2014-01-23T23:00:00.000000000",
          "2014-01-23T23:30:00.000000000",
          "2014-01-24T00:00:00.000000000",
          "2014-01-24T00:30:00.000000000",
          "2014-01-24T01:00:00.000000000",
          "2014-01-24T01:30:00.000000000",
          "2014-01-24T02:00:00.000000000",
          "2014-01-24T02:30:00.000000000",
          "2014-01-24T03:00:00.000000000",
          "2014-01-24T03:30:00.000000000",
          "2014-01-24T04:00:00.000000000",
          "2014-01-24T04:30:00.000000000",
          "2014-01-24T05:00:00.000000000",
          "2014-01-24T05:30:00.000000000",
          "2014-01-24T06:00:00.000000000",
          "2014-01-24T06:30:00.000000000",
          "2014-01-24T07:00:00.000000000",
          "2014-01-24T07:30:00.000000000",
          "2014-01-24T08:00:00.000000000",
          "2014-01-24T08:30:00.000000000",
          "2014-01-24T09:00:00.000000000",
          "2014-01-24T09:30:00.000000000",
          "2014-01-24T10:00:00.000000000",
          "2014-01-24T10:30:00.000000000",
          "2014-01-24T11:00:00.000000000",
          "2014-01-24T11:30:00.000000000",
          "2014-01-24T12:00:00.000000000",
          "2014-01-24T12:30:00.000000000",
          "2014-01-24T13:00:00.000000000",
          "2014-01-24T13:30:00.000000000",
          "2014-01-24T14:00:00.000000000",
          "2014-01-24T14:30:00.000000000",
          "2014-01-24T15:00:00.000000000",
          "2014-01-24T15:30:00.000000000",
          "2014-01-24T16:00:00.000000000",
          "2014-01-24T16:30:00.000000000",
          "2014-01-24T17:00:00.000000000",
          "2014-01-24T17:30:00.000000000",
          "2014-01-24T18:00:00.000000000",
          "2014-01-24T18:30:00.000000000",
          "2014-01-24T19:00:00.000000000",
          "2014-01-24T19:30:00.000000000",
          "2014-01-24T20:00:00.000000000",
          "2014-01-24T20:30:00.000000000",
          "2014-01-24T21:00:00.000000000",
          "2014-01-24T21:30:00.000000000",
          "2014-01-24T22:00:00.000000000",
          "2014-01-24T22:30:00.000000000",
          "2014-01-24T23:00:00.000000000",
          "2014-01-24T23:30:00.000000000",
          "2014-01-25T00:00:00.000000000",
          "2014-01-25T00:30:00.000000000",
          "2014-01-25T01:00:00.000000000",
          "2014-01-25T01:30:00.000000000",
          "2014-01-25T02:00:00.000000000",
          "2014-01-25T02:30:00.000000000",
          "2014-01-25T03:00:00.000000000",
          "2014-01-25T03:30:00.000000000",
          "2014-01-25T04:00:00.000000000",
          "2014-01-25T04:30:00.000000000",
          "2014-01-25T05:00:00.000000000",
          "2014-01-25T05:30:00.000000000",
          "2014-01-25T06:00:00.000000000",
          "2014-01-25T06:30:00.000000000",
          "2014-01-25T07:00:00.000000000",
          "2014-01-25T07:30:00.000000000",
          "2014-01-25T08:00:00.000000000",
          "2014-01-25T08:30:00.000000000",
          "2014-01-25T09:00:00.000000000",
          "2014-01-25T09:30:00.000000000",
          "2014-01-25T10:00:00.000000000",
          "2014-01-25T10:30:00.000000000",
          "2014-01-25T11:00:00.000000000",
          "2014-01-25T11:30:00.000000000",
          "2014-01-25T12:00:00.000000000",
          "2014-01-25T12:30:00.000000000",
          "2014-01-25T13:00:00.000000000",
          "2014-01-25T13:30:00.000000000",
          "2014-01-25T14:00:00.000000000",
          "2014-01-25T14:30:00.000000000",
          "2014-01-25T15:00:00.000000000",
          "2014-01-25T15:30:00.000000000",
          "2014-01-25T16:00:00.000000000",
          "2014-01-25T16:30:00.000000000",
          "2014-01-25T17:00:00.000000000",
          "2014-01-25T17:30:00.000000000",
          "2014-01-25T18:00:00.000000000",
          "2014-01-25T18:30:00.000000000",
          "2014-01-25T19:00:00.000000000",
          "2014-01-25T19:30:00.000000000",
          "2014-01-25T20:00:00.000000000",
          "2014-01-25T20:30:00.000000000",
          "2014-01-25T21:00:00.000000000",
          "2014-01-25T21:30:00.000000000",
          "2014-01-25T22:00:00.000000000",
          "2014-01-25T22:30:00.000000000",
          "2014-01-25T23:00:00.000000000",
          "2014-01-25T23:30:00.000000000",
          "2014-01-26T00:00:00.000000000",
          "2014-01-26T00:30:00.000000000",
          "2014-01-26T01:00:00.000000000",
          "2014-01-26T01:30:00.000000000",
          "2014-01-26T02:00:00.000000000",
          "2014-01-26T02:30:00.000000000",
          "2014-01-26T03:00:00.000000000",
          "2014-01-26T03:30:00.000000000",
          "2014-01-26T04:00:00.000000000",
          "2014-01-26T04:30:00.000000000",
          "2014-01-26T05:00:00.000000000",
          "2014-01-26T05:30:00.000000000",
          "2014-01-26T06:00:00.000000000",
          "2014-01-26T06:30:00.000000000",
          "2014-01-26T07:00:00.000000000",
          "2014-01-26T07:30:00.000000000",
          "2014-01-26T08:00:00.000000000",
          "2014-01-26T08:30:00.000000000",
          "2014-01-26T09:00:00.000000000",
          "2014-01-26T09:30:00.000000000",
          "2014-01-26T10:00:00.000000000",
          "2014-01-26T10:30:00.000000000",
          "2014-01-26T11:00:00.000000000",
          "2014-01-26T11:30:00.000000000",
          "2014-01-26T12:00:00.000000000",
          "2014-01-26T12:30:00.000000000",
          "2014-01-26T13:00:00.000000000",
          "2014-01-26T13:30:00.000000000",
          "2014-01-26T14:00:00.000000000",
          "2014-01-26T14:30:00.000000000",
          "2014-01-26T15:00:00.000000000",
          "2014-01-26T15:30:00.000000000",
          "2014-01-26T16:00:00.000000000",
          "2014-01-26T16:30:00.000000000",
          "2014-01-26T17:00:00.000000000",
          "2014-01-26T17:30:00.000000000",
          "2014-01-26T18:00:00.000000000",
          "2014-01-26T18:30:00.000000000",
          "2014-01-26T19:00:00.000000000",
          "2014-01-26T19:30:00.000000000",
          "2014-01-26T20:00:00.000000000",
          "2014-01-26T20:30:00.000000000",
          "2014-01-26T21:00:00.000000000",
          "2014-01-26T21:30:00.000000000",
          "2014-01-26T22:00:00.000000000",
          "2014-01-26T22:30:00.000000000",
          "2014-01-26T23:00:00.000000000",
          "2014-01-26T23:30:00.000000000",
          "2014-01-27T00:00:00.000000000",
          "2014-01-27T00:30:00.000000000",
          "2014-01-27T01:00:00.000000000",
          "2014-01-27T01:30:00.000000000",
          "2014-01-27T02:00:00.000000000",
          "2014-01-27T02:30:00.000000000",
          "2014-01-27T03:00:00.000000000",
          "2014-01-27T03:30:00.000000000",
          "2014-01-27T04:00:00.000000000",
          "2014-01-27T04:30:00.000000000",
          "2014-01-27T05:00:00.000000000",
          "2014-01-27T05:30:00.000000000",
          "2014-01-27T06:00:00.000000000",
          "2014-01-27T06:30:00.000000000",
          "2014-01-27T07:00:00.000000000",
          "2014-01-27T07:30:00.000000000",
          "2014-01-27T08:00:00.000000000",
          "2014-01-27T08:30:00.000000000",
          "2014-01-27T09:00:00.000000000",
          "2014-01-27T09:30:00.000000000",
          "2014-01-27T10:00:00.000000000",
          "2014-01-27T10:30:00.000000000",
          "2014-01-27T11:00:00.000000000",
          "2014-01-27T11:30:00.000000000",
          "2014-01-27T12:00:00.000000000",
          "2014-01-27T12:30:00.000000000",
          "2014-01-27T13:00:00.000000000",
          "2014-01-27T13:30:00.000000000",
          "2014-01-27T14:00:00.000000000",
          "2014-01-27T14:30:00.000000000",
          "2014-01-27T15:00:00.000000000",
          "2014-01-27T15:30:00.000000000",
          "2014-01-27T16:00:00.000000000",
          "2014-01-27T16:30:00.000000000",
          "2014-01-27T17:00:00.000000000",
          "2014-01-27T17:30:00.000000000",
          "2014-01-27T18:00:00.000000000",
          "2014-01-27T18:30:00.000000000",
          "2014-01-27T19:00:00.000000000",
          "2014-01-27T19:30:00.000000000",
          "2014-01-27T20:00:00.000000000",
          "2014-01-27T20:30:00.000000000",
          "2014-01-27T21:00:00.000000000",
          "2014-01-27T21:30:00.000000000",
          "2014-01-27T22:00:00.000000000",
          "2014-01-27T22:30:00.000000000",
          "2014-01-27T23:00:00.000000000",
          "2014-01-27T23:30:00.000000000",
          "2014-01-28T00:00:00.000000000",
          "2014-01-28T00:30:00.000000000",
          "2014-01-28T01:00:00.000000000",
          "2014-01-28T01:30:00.000000000",
          "2014-01-28T02:00:00.000000000",
          "2014-01-28T02:30:00.000000000",
          "2014-01-28T03:00:00.000000000",
          "2014-01-28T03:30:00.000000000",
          "2014-01-28T04:00:00.000000000",
          "2014-01-28T04:30:00.000000000",
          "2014-01-28T05:00:00.000000000",
          "2014-01-28T05:30:00.000000000",
          "2014-01-28T06:00:00.000000000",
          "2014-01-28T06:30:00.000000000",
          "2014-01-28T07:00:00.000000000",
          "2014-01-28T07:30:00.000000000",
          "2014-01-28T08:00:00.000000000",
          "2014-01-28T08:30:00.000000000",
          "2014-01-28T09:00:00.000000000",
          "2014-01-28T09:30:00.000000000",
          "2014-01-28T10:00:00.000000000",
          "2014-01-28T10:30:00.000000000",
          "2014-01-28T11:00:00.000000000",
          "2014-01-28T11:30:00.000000000",
          "2014-01-28T12:00:00.000000000",
          "2014-01-28T12:30:00.000000000",
          "2014-01-28T13:00:00.000000000",
          "2014-01-28T13:30:00.000000000",
          "2014-01-28T14:00:00.000000000",
          "2014-01-28T14:30:00.000000000",
          "2014-01-28T15:00:00.000000000",
          "2014-01-28T15:30:00.000000000",
          "2014-01-28T16:00:00.000000000",
          "2014-01-28T16:30:00.000000000",
          "2014-01-28T17:00:00.000000000",
          "2014-01-28T17:30:00.000000000",
          "2014-01-28T18:00:00.000000000",
          "2014-01-28T18:30:00.000000000",
          "2014-01-28T19:00:00.000000000",
          "2014-01-28T19:30:00.000000000",
          "2014-01-28T20:00:00.000000000",
          "2014-01-28T20:30:00.000000000",
          "2014-01-28T21:00:00.000000000",
          "2014-01-28T21:30:00.000000000",
          "2014-01-28T22:00:00.000000000",
          "2014-01-28T22:30:00.000000000",
          "2014-01-28T23:00:00.000000000",
          "2014-01-28T23:30:00.000000000",
          "2014-01-29T00:00:00.000000000",
          "2014-01-29T00:30:00.000000000",
          "2014-01-29T01:00:00.000000000",
          "2014-01-29T01:30:00.000000000",
          "2014-01-29T02:00:00.000000000",
          "2014-01-29T02:30:00.000000000",
          "2014-01-29T03:00:00.000000000",
          "2014-01-29T03:30:00.000000000",
          "2014-01-29T04:00:00.000000000",
          "2014-01-29T04:30:00.000000000",
          "2014-01-29T05:00:00.000000000",
          "2014-01-29T05:30:00.000000000",
          "2014-01-29T06:00:00.000000000",
          "2014-01-29T06:30:00.000000000",
          "2014-01-29T07:00:00.000000000",
          "2014-01-29T07:30:00.000000000",
          "2014-01-29T08:00:00.000000000",
          "2014-01-29T08:30:00.000000000",
          "2014-01-29T09:00:00.000000000",
          "2014-01-29T09:30:00.000000000",
          "2014-01-29T10:00:00.000000000",
          "2014-01-29T10:30:00.000000000",
          "2014-01-29T11:00:00.000000000",
          "2014-01-29T11:30:00.000000000",
          "2014-01-29T12:00:00.000000000",
          "2014-01-29T12:30:00.000000000",
          "2014-01-29T13:00:00.000000000",
          "2014-01-29T13:30:00.000000000",
          "2014-01-29T14:00:00.000000000",
          "2014-01-29T14:30:00.000000000",
          "2014-01-29T15:00:00.000000000",
          "2014-01-29T15:30:00.000000000",
          "2014-01-29T16:00:00.000000000",
          "2014-01-29T16:30:00.000000000",
          "2014-01-29T17:00:00.000000000",
          "2014-01-29T17:30:00.000000000",
          "2014-01-29T18:00:00.000000000",
          "2014-01-29T18:30:00.000000000",
          "2014-01-29T19:00:00.000000000",
          "2014-01-29T19:30:00.000000000",
          "2014-01-29T20:00:00.000000000",
          "2014-01-29T20:30:00.000000000",
          "2014-01-29T21:00:00.000000000",
          "2014-01-29T21:30:00.000000000",
          "2014-01-29T22:00:00.000000000",
          "2014-01-29T22:30:00.000000000",
          "2014-01-29T23:00:00.000000000",
          "2014-01-29T23:30:00.000000000",
          "2014-01-30T00:00:00.000000000",
          "2014-01-30T00:30:00.000000000",
          "2014-01-30T01:00:00.000000000",
          "2014-01-30T01:30:00.000000000",
          "2014-01-30T02:00:00.000000000",
          "2014-01-30T02:30:00.000000000",
          "2014-01-30T03:00:00.000000000",
          "2014-01-30T03:30:00.000000000",
          "2014-01-30T04:00:00.000000000",
          "2014-01-30T04:30:00.000000000",
          "2014-01-30T05:00:00.000000000",
          "2014-01-30T05:30:00.000000000",
          "2014-01-30T06:00:00.000000000",
          "2014-01-30T06:30:00.000000000",
          "2014-01-30T07:00:00.000000000",
          "2014-01-30T07:30:00.000000000",
          "2014-01-30T08:00:00.000000000",
          "2014-01-30T08:30:00.000000000",
          "2014-01-30T09:00:00.000000000",
          "2014-01-30T09:30:00.000000000",
          "2014-01-30T10:00:00.000000000",
          "2014-01-30T10:30:00.000000000",
          "2014-01-30T11:00:00.000000000",
          "2014-01-30T11:30:00.000000000",
          "2014-01-30T12:00:00.000000000",
          "2014-01-30T12:30:00.000000000",
          "2014-01-30T13:00:00.000000000",
          "2014-01-30T13:30:00.000000000",
          "2014-01-30T14:00:00.000000000",
          "2014-01-30T14:30:00.000000000",
          "2014-01-30T15:00:00.000000000",
          "2014-01-30T15:30:00.000000000",
          "2014-01-30T16:00:00.000000000",
          "2014-01-30T16:30:00.000000000",
          "2014-01-30T17:00:00.000000000",
          "2014-01-30T17:30:00.000000000",
          "2014-01-30T18:00:00.000000000",
          "2014-01-30T18:30:00.000000000",
          "2014-01-30T19:00:00.000000000",
          "2014-01-30T19:30:00.000000000",
          "2014-01-30T20:00:00.000000000",
          "2014-01-30T20:30:00.000000000",
          "2014-01-30T21:00:00.000000000",
          "2014-01-30T21:30:00.000000000",
          "2014-01-30T22:00:00.000000000",
          "2014-01-30T22:30:00.000000000",
          "2014-01-30T23:00:00.000000000",
          "2014-01-30T23:30:00.000000000",
          "2014-01-31T00:00:00.000000000",
          "2014-01-31T00:30:00.000000000",
          "2014-01-31T01:00:00.000000000",
          "2014-01-31T01:30:00.000000000",
          "2014-01-31T02:00:00.000000000",
          "2014-01-31T02:30:00.000000000",
          "2014-01-31T03:00:00.000000000",
          "2014-01-31T03:30:00.000000000",
          "2014-01-31T04:00:00.000000000",
          "2014-01-31T04:30:00.000000000",
          "2014-01-31T05:00:00.000000000",
          "2014-01-31T05:30:00.000000000",
          "2014-01-31T06:00:00.000000000",
          "2014-01-31T06:30:00.000000000",
          "2014-01-31T07:00:00.000000000",
          "2014-01-31T07:30:00.000000000",
          "2014-01-31T08:00:00.000000000",
          "2014-01-31T08:30:00.000000000",
          "2014-01-31T09:00:00.000000000",
          "2014-01-31T09:30:00.000000000",
          "2014-01-31T10:00:00.000000000",
          "2014-01-31T10:30:00.000000000",
          "2014-01-31T11:00:00.000000000",
          "2014-01-31T11:30:00.000000000",
          "2014-01-31T12:00:00.000000000",
          "2014-01-31T12:30:00.000000000",
          "2014-01-31T13:00:00.000000000",
          "2014-01-31T13:30:00.000000000",
          "2014-01-31T14:00:00.000000000",
          "2014-01-31T14:30:00.000000000",
          "2014-01-31T15:00:00.000000000",
          "2014-01-31T15:30:00.000000000",
          "2014-01-31T16:00:00.000000000",
          "2014-01-31T16:30:00.000000000",
          "2014-01-31T17:00:00.000000000",
          "2014-01-31T17:30:00.000000000",
          "2014-01-31T18:00:00.000000000",
          "2014-01-31T18:30:00.000000000",
          "2014-01-31T19:00:00.000000000",
          "2014-01-31T19:30:00.000000000",
          "2014-01-31T20:00:00.000000000",
          "2014-01-31T20:30:00.000000000",
          "2014-01-31T21:00:00.000000000",
          "2014-01-31T21:30:00.000000000",
          "2014-01-31T22:00:00.000000000",
          "2014-01-31T22:30:00.000000000",
          "2014-01-31T23:00:00.000000000",
          "2014-01-31T23:30:00.000000000"
         ],
         "y": {
          "bdata": "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",
          "dtype": "f8"
         }
        },
        {
         "line": {
          "color": "rgba(217,95,2, 1)",
          "dash": "dash"
         },
         "mode": "lines",
         "name": "ARIMA",
         "type": "scatter",
         "x": [
          "2014-01-01T00:00:00.000000000",
          "2014-01-01T00:30:00.000000000",
          "2014-01-01T01:00:00.000000000",
          "2014-01-01T01:30:00.000000000",
          "2014-01-01T02:00:00.000000000",
          "2014-01-01T02:30:00.000000000",
          "2014-01-01T03:00:00.000000000",
          "2014-01-01T03:30:00.000000000",
          "2014-01-01T04:00:00.000000000",
          "2014-01-01T04:30:00.000000000",
          "2014-01-01T05:00:00.000000000",
          "2014-01-01T05:30:00.000000000",
          "2014-01-01T06:00:00.000000000",
          "2014-01-01T06:30:00.000000000",
          "2014-01-01T07:00:00.000000000",
          "2014-01-01T07:30:00.000000000",
          "2014-01-01T08:00:00.000000000",
          "2014-01-01T08:30:00.000000000",
          "2014-01-01T09:00:00.000000000",
          "2014-01-01T09:30:00.000000000",
          "2014-01-01T10:00:00.000000000",
          "2014-01-01T10:30:00.000000000",
          "2014-01-01T11:00:00.000000000",
          "2014-01-01T11:30:00.000000000",
          "2014-01-01T12:00:00.000000000",
          "2014-01-01T12:30:00.000000000",
          "2014-01-01T13:00:00.000000000",
          "2014-01-01T13:30:00.000000000",
          "2014-01-01T14:00:00.000000000",
          "2014-01-01T14:30:00.000000000",
          "2014-01-01T15:00:00.000000000",
          "2014-01-01T15:30:00.000000000",
          "2014-01-01T16:00:00.000000000",
          "2014-01-01T16:30:00.000000000",
          "2014-01-01T17:00:00.000000000",
          "2014-01-01T17:30:00.000000000",
          "2014-01-01T18:00:00.000000000",
          "2014-01-01T18:30:00.000000000",
          "2014-01-01T19:00:00.000000000",
          "2014-01-01T19:30:00.000000000",
          "2014-01-01T20:00:00.000000000",
          "2014-01-01T20:30:00.000000000",
          "2014-01-01T21:00:00.000000000",
          "2014-01-01T21:30:00.000000000",
          "2014-01-01T22:00:00.000000000",
          "2014-01-01T22:30:00.000000000",
          "2014-01-01T23:00:00.000000000",
          "2014-01-01T23:30:00.000000000",
          "2014-01-02T00:00:00.000000000",
          "2014-01-02T00:30:00.000000000",
          "2014-01-02T01:00:00.000000000",
          "2014-01-02T01:30:00.000000000",
          "2014-01-02T02:00:00.000000000",
          "2014-01-02T02:30:00.000000000",
          "2014-01-02T03:00:00.000000000",
          "2014-01-02T03:30:00.000000000",
          "2014-01-02T04:00:00.000000000",
          "2014-01-02T04:30:00.000000000",
          "2014-01-02T05:00:00.000000000",
          "2014-01-02T05:30:00.000000000",
          "2014-01-02T06:00:00.000000000",
          "2014-01-02T06:30:00.000000000",
          "2014-01-02T07:00:00.000000000",
          "2014-01-02T07:30:00.000000000",
          "2014-01-02T08:00:00.000000000",
          "2014-01-02T08:30:00.000000000",
          "2014-01-02T09:00:00.000000000",
          "2014-01-02T09:30:00.000000000",
          "2014-01-02T10:00:00.000000000",
          "2014-01-02T10:30:00.000000000",
          "2014-01-02T11:00:00.000000000",
          "2014-01-02T11:30:00.000000000",
          "2014-01-02T12:00:00.000000000",
          "2014-01-02T12:30:00.000000000",
          "2014-01-02T13:00:00.000000000",
          "2014-01-02T13:30:00.000000000",
          "2014-01-02T14:00:00.000000000",
          "2014-01-02T14:30:00.000000000",
          "2014-01-02T15:00:00.000000000",
          "2014-01-02T15:30:00.000000000",
          "2014-01-02T16:00:00.000000000",
          "2014-01-02T16:30:00.000000000",
          "2014-01-02T17:00:00.000000000",
          "2014-01-02T17:30:00.000000000",
          "2014-01-02T18:00:00.000000000",
          "2014-01-02T18:30:00.000000000",
          "2014-01-02T19:00:00.000000000",
          "2014-01-02T19:30:00.000000000",
          "2014-01-02T20:00:00.000000000",
          "2014-01-02T20:30:00.000000000",
          "2014-01-02T21:00:00.000000000",
          "2014-01-02T21:30:00.000000000",
          "2014-01-02T22:00:00.000000000",
          "2014-01-02T22:30:00.000000000",
          "2014-01-02T23:00:00.000000000",
          "2014-01-02T23:30:00.000000000",
          "2014-01-03T00:00:00.000000000",
          "2014-01-03T00:30:00.000000000",
          "2014-01-03T01:00:00.000000000",
          "2014-01-03T01:30:00.000000000",
          "2014-01-03T02:00:00.000000000",
          "2014-01-03T02:30:00.000000000",
          "2014-01-03T03:00:00.000000000",
          "2014-01-03T03:30:00.000000000",
          "2014-01-03T04:00:00.000000000",
          "2014-01-03T04:30:00.000000000",
          "2014-01-03T05:00:00.000000000",
          "2014-01-03T05:30:00.000000000",
          "2014-01-03T06:00:00.000000000",
          "2014-01-03T06:30:00.000000000",
          "2014-01-03T07:00:00.000000000",
          "2014-01-03T07:30:00.000000000",
          "2014-01-03T08:00:00.000000000",
          "2014-01-03T08:30:00.000000000",
          "2014-01-03T09:00:00.000000000",
          "2014-01-03T09:30:00.000000000",
          "2014-01-03T10:00:00.000000000",
          "2014-01-03T10:30:00.000000000",
          "2014-01-03T11:00:00.000000000",
          "2014-01-03T11:30:00.000000000",
          "2014-01-03T12:00:00.000000000",
          "2014-01-03T12:30:00.000000000",
          "2014-01-03T13:00:00.000000000",
          "2014-01-03T13:30:00.000000000",
          "2014-01-03T14:00:00.000000000",
          "2014-01-03T14:30:00.000000000",
          "2014-01-03T15:00:00.000000000",
          "2014-01-03T15:30:00.000000000",
          "2014-01-03T16:00:00.000000000",
          "2014-01-03T16:30:00.000000000",
          "2014-01-03T17:00:00.000000000",
          "2014-01-03T17:30:00.000000000",
          "2014-01-03T18:00:00.000000000",
          "2014-01-03T18:30:00.000000000",
          "2014-01-03T19:00:00.000000000",
          "2014-01-03T19:30:00.000000000",
          "2014-01-03T20:00:00.000000000",
          "2014-01-03T20:30:00.000000000",
          "2014-01-03T21:00:00.000000000",
          "2014-01-03T21:30:00.000000000",
          "2014-01-03T22:00:00.000000000",
          "2014-01-03T22:30:00.000000000",
          "2014-01-03T23:00:00.000000000",
          "2014-01-03T23:30:00.000000000",
          "2014-01-04T00:00:00.000000000",
          "2014-01-04T00:30:00.000000000",
          "2014-01-04T01:00:00.000000000",
          "2014-01-04T01:30:00.000000000",
          "2014-01-04T02:00:00.000000000",
          "2014-01-04T02:30:00.000000000",
          "2014-01-04T03:00:00.000000000",
          "2014-01-04T03:30:00.000000000",
          "2014-01-04T04:00:00.000000000",
          "2014-01-04T04:30:00.000000000",
          "2014-01-04T05:00:00.000000000",
          "2014-01-04T05:30:00.000000000",
          "2014-01-04T06:00:00.000000000",
          "2014-01-04T06:30:00.000000000",
          "2014-01-04T07:00:00.000000000",
          "2014-01-04T07:30:00.000000000",
          "2014-01-04T08:00:00.000000000",
          "2014-01-04T08:30:00.000000000",
          "2014-01-04T09:00:00.000000000",
          "2014-01-04T09:30:00.000000000",
          "2014-01-04T10:00:00.000000000",
          "2014-01-04T10:30:00.000000000",
          "2014-01-04T11:00:00.000000000",
          "2014-01-04T11:30:00.000000000",
          "2014-01-04T12:00:00.000000000",
          "2014-01-04T12:30:00.000000000",
          "2014-01-04T13:00:00.000000000",
          "2014-01-04T13:30:00.000000000",
          "2014-01-04T14:00:00.000000000",
          "2014-01-04T14:30:00.000000000",
          "2014-01-04T15:00:00.000000000",
          "2014-01-04T15:30:00.000000000",
          "2014-01-04T16:00:00.000000000",
          "2014-01-04T16:30:00.000000000",
          "2014-01-04T17:00:00.000000000",
          "2014-01-04T17:30:00.000000000",
          "2014-01-04T18:00:00.000000000",
          "2014-01-04T18:30:00.000000000",
          "2014-01-04T19:00:00.000000000",
          "2014-01-04T19:30:00.000000000",
          "2014-01-04T20:00:00.000000000",
          "2014-01-04T20:30:00.000000000",
          "2014-01-04T21:00:00.000000000",
          "2014-01-04T21:30:00.000000000",
          "2014-01-04T22:00:00.000000000",
          "2014-01-04T22:30:00.000000000",
          "2014-01-04T23:00:00.000000000",
          "2014-01-04T23:30:00.000000000",
          "2014-01-05T00:00:00.000000000",
          "2014-01-05T00:30:00.000000000",
          "2014-01-05T01:00:00.000000000",
          "2014-01-05T01:30:00.000000000",
          "2014-01-05T02:00:00.000000000",
          "2014-01-05T02:30:00.000000000",
          "2014-01-05T03:00:00.000000000",
          "2014-01-05T03:30:00.000000000",
          "2014-01-05T04:00:00.000000000",
          "2014-01-05T04:30:00.000000000",
          "2014-01-05T05:00:00.000000000",
          "2014-01-05T05:30:00.000000000",
          "2014-01-05T06:00:00.000000000",
          "2014-01-05T06:30:00.000000000",
          "2014-01-05T07:00:00.000000000",
          "2014-01-05T07:30:00.000000000",
          "2014-01-05T08:00:00.000000000",
          "2014-01-05T08:30:00.000000000",
          "2014-01-05T09:00:00.000000000",
          "2014-01-05T09:30:00.000000000",
          "2014-01-05T10:00:00.000000000",
          "2014-01-05T10:30:00.000000000",
          "2014-01-05T11:00:00.000000000",
          "2014-01-05T11:30:00.000000000",
          "2014-01-05T12:00:00.000000000",
          "2014-01-05T12:30:00.000000000",
          "2014-01-05T13:00:00.000000000",
          "2014-01-05T13:30:00.000000000",
          "2014-01-05T14:00:00.000000000",
          "2014-01-05T14:30:00.000000000",
          "2014-01-05T15:00:00.000000000",
          "2014-01-05T15:30:00.000000000",
          "2014-01-05T16:00:00.000000000",
          "2014-01-05T16:30:00.000000000",
          "2014-01-05T17:00:00.000000000",
          "2014-01-05T17:30:00.000000000",
          "2014-01-05T18:00:00.000000000",
          "2014-01-05T18:30:00.000000000",
          "2014-01-05T19:00:00.000000000",
          "2014-01-05T19:30:00.000000000",
          "2014-01-05T20:00:00.000000000",
          "2014-01-05T20:30:00.000000000",
          "2014-01-05T21:00:00.000000000",
          "2014-01-05T21:30:00.000000000",
          "2014-01-05T22:00:00.000000000",
          "2014-01-05T22:30:00.000000000",
          "2014-01-05T23:00:00.000000000",
          "2014-01-05T23:30:00.000000000",
          "2014-01-06T00:00:00.000000000",
          "2014-01-06T00:30:00.000000000",
          "2014-01-06T01:00:00.000000000",
          "2014-01-06T01:30:00.000000000",
          "2014-01-06T02:00:00.000000000",
          "2014-01-06T02:30:00.000000000",
          "2014-01-06T03:00:00.000000000",
          "2014-01-06T03:30:00.000000000",
          "2014-01-06T04:00:00.000000000",
          "2014-01-06T04:30:00.000000000",
          "2014-01-06T05:00:00.000000000",
          "2014-01-06T05:30:00.000000000",
          "2014-01-06T06:00:00.000000000",
          "2014-01-06T06:30:00.000000000",
          "2014-01-06T07:00:00.000000000",
          "2014-01-06T07:30:00.000000000",
          "2014-01-06T08:00:00.000000000",
          "2014-01-06T08:30:00.000000000",
          "2014-01-06T09:00:00.000000000",
          "2014-01-06T09:30:00.000000000",
          "2014-01-06T10:00:00.000000000",
          "2014-01-06T10:30:00.000000000",
          "2014-01-06T11:00:00.000000000",
          "2014-01-06T11:30:00.000000000",
          "2014-01-06T12:00:00.000000000",
          "2014-01-06T12:30:00.000000000",
          "2014-01-06T13:00:00.000000000",
          "2014-01-06T13:30:00.000000000",
          "2014-01-06T14:00:00.000000000",
          "2014-01-06T14:30:00.000000000",
          "2014-01-06T15:00:00.000000000",
          "2014-01-06T15:30:00.000000000",
          "2014-01-06T16:00:00.000000000",
          "2014-01-06T16:30:00.000000000",
          "2014-01-06T17:00:00.000000000",
          "2014-01-06T17:30:00.000000000",
          "2014-01-06T18:00:00.000000000",
          "2014-01-06T18:30:00.000000000",
          "2014-01-06T19:00:00.000000000",
          "2014-01-06T19:30:00.000000000",
          "2014-01-06T20:00:00.000000000",
          "2014-01-06T20:30:00.000000000",
          "2014-01-06T21:00:00.000000000",
          "2014-01-06T21:30:00.000000000",
          "2014-01-06T22:00:00.000000000",
          "2014-01-06T22:30:00.000000000",
          "2014-01-06T23:00:00.000000000",
          "2014-01-06T23:30:00.000000000",
          "2014-01-07T00:00:00.000000000",
          "2014-01-07T00:30:00.000000000",
          "2014-01-07T01:00:00.000000000",
          "2014-01-07T01:30:00.000000000",
          "2014-01-07T02:00:00.000000000",
          "2014-01-07T02:30:00.000000000",
          "2014-01-07T03:00:00.000000000",
          "2014-01-07T03:30:00.000000000",
          "2014-01-07T04:00:00.000000000",
          "2014-01-07T04:30:00.000000000",
          "2014-01-07T05:00:00.000000000",
          "2014-01-07T05:30:00.000000000",
          "2014-01-07T06:00:00.000000000",
          "2014-01-07T06:30:00.000000000",
          "2014-01-07T07:00:00.000000000",
          "2014-01-07T07:30:00.000000000",
          "2014-01-07T08:00:00.000000000",
          "2014-01-07T08:30:00.000000000",
          "2014-01-07T09:00:00.000000000",
          "2014-01-07T09:30:00.000000000",
          "2014-01-07T10:00:00.000000000",
          "2014-01-07T10:30:00.000000000",
          "2014-01-07T11:00:00.000000000",
          "2014-01-07T11:30:00.000000000",
          "2014-01-07T12:00:00.000000000",
          "2014-01-07T12:30:00.000000000",
          "2014-01-07T13:00:00.000000000",
          "2014-01-07T13:30:00.000000000",
          "2014-01-07T14:00:00.000000000",
          "2014-01-07T14:30:00.000000000",
          "2014-01-07T15:00:00.000000000",
          "2014-01-07T15:30:00.000000000",
          "2014-01-07T16:00:00.000000000",
          "2014-01-07T16:30:00.000000000",
          "2014-01-07T17:00:00.000000000",
          "2014-01-07T17:30:00.000000000",
          "2014-01-07T18:00:00.000000000",
          "2014-01-07T18:30:00.000000000",
          "2014-01-07T19:00:00.000000000",
          "2014-01-07T19:30:00.000000000",
          "2014-01-07T20:00:00.000000000",
          "2014-01-07T20:30:00.000000000",
          "2014-01-07T21:00:00.000000000",
          "2014-01-07T21:30:00.000000000",
          "2014-01-07T22:00:00.000000000",
          "2014-01-07T22:30:00.000000000",
          "2014-01-07T23:00:00.000000000",
          "2014-01-07T23:30:00.000000000",
          "2014-01-08T00:00:00.000000000",
          "2014-01-08T00:30:00.000000000",
          "2014-01-08T01:00:00.000000000",
          "2014-01-08T01:30:00.000000000",
          "2014-01-08T02:00:00.000000000",
          "2014-01-08T02:30:00.000000000",
          "2014-01-08T03:00:00.000000000",
          "2014-01-08T03:30:00.000000000",
          "2014-01-08T04:00:00.000000000",
          "2014-01-08T04:30:00.000000000",
          "2014-01-08T05:00:00.000000000",
          "2014-01-08T05:30:00.000000000",
          "2014-01-08T06:00:00.000000000",
          "2014-01-08T06:30:00.000000000",
          "2014-01-08T07:00:00.000000000",
          "2014-01-08T07:30:00.000000000",
          "2014-01-08T08:00:00.000000000",
          "2014-01-08T08:30:00.000000000",
          "2014-01-08T09:00:00.000000000",
          "2014-01-08T09:30:00.000000000",
          "2014-01-08T10:00:00.000000000",
          "2014-01-08T10:30:00.000000000",
          "2014-01-08T11:00:00.000000000",
          "2014-01-08T11:30:00.000000000",
          "2014-01-08T12:00:00.000000000",
          "2014-01-08T12:30:00.000000000",
          "2014-01-08T13:00:00.000000000",
          "2014-01-08T13:30:00.000000000",
          "2014-01-08T14:00:00.000000000",
          "2014-01-08T14:30:00.000000000",
          "2014-01-08T15:00:00.000000000",
          "2014-01-08T15:30:00.000000000",
          "2014-01-08T16:00:00.000000000",
          "2014-01-08T16:30:00.000000000",
          "2014-01-08T17:00:00.000000000",
          "2014-01-08T17:30:00.000000000",
          "2014-01-08T18:00:00.000000000",
          "2014-01-08T18:30:00.000000000",
          "2014-01-08T19:00:00.000000000",
          "2014-01-08T19:30:00.000000000",
          "2014-01-08T20:00:00.000000000",
          "2014-01-08T20:30:00.000000000",
          "2014-01-08T21:00:00.000000000",
          "2014-01-08T21:30:00.000000000",
          "2014-01-08T22:00:00.000000000",
          "2014-01-08T22:30:00.000000000",
          "2014-01-08T23:00:00.000000000",
          "2014-01-08T23:30:00.000000000",
          "2014-01-09T00:00:00.000000000",
          "2014-01-09T00:30:00.000000000",
          "2014-01-09T01:00:00.000000000",
          "2014-01-09T01:30:00.000000000",
          "2014-01-09T02:00:00.000000000",
          "2014-01-09T02:30:00.000000000",
          "2014-01-09T03:00:00.000000000",
          "2014-01-09T03:30:00.000000000",
          "2014-01-09T04:00:00.000000000",
          "2014-01-09T04:30:00.000000000",
          "2014-01-09T05:00:00.000000000",
          "2014-01-09T05:30:00.000000000",
          "2014-01-09T06:00:00.000000000",
          "2014-01-09T06:30:00.000000000",
          "2014-01-09T07:00:00.000000000",
          "2014-01-09T07:30:00.000000000",
          "2014-01-09T08:00:00.000000000",
          "2014-01-09T08:30:00.000000000",
          "2014-01-09T09:00:00.000000000",
          "2014-01-09T09:30:00.000000000",
          "2014-01-09T10:00:00.000000000",
          "2014-01-09T10:30:00.000000000",
          "2014-01-09T11:00:00.000000000",
          "2014-01-09T11:30:00.000000000",
          "2014-01-09T12:00:00.000000000",
          "2014-01-09T12:30:00.000000000",
          "2014-01-09T13:00:00.000000000",
          "2014-01-09T13:30:00.000000000",
          "2014-01-09T14:00:00.000000000",
          "2014-01-09T14:30:00.000000000",
          "2014-01-09T15:00:00.000000000",
          "2014-01-09T15:30:00.000000000",
          "2014-01-09T16:00:00.000000000",
          "2014-01-09T16:30:00.000000000",
          "2014-01-09T17:00:00.000000000",
          "2014-01-09T17:30:00.000000000",
          "2014-01-09T18:00:00.000000000",
          "2014-01-09T18:30:00.000000000",
          "2014-01-09T19:00:00.000000000",
          "2014-01-09T19:30:00.000000000",
          "2014-01-09T20:00:00.000000000",
          "2014-01-09T20:30:00.000000000",
          "2014-01-09T21:00:00.000000000",
          "2014-01-09T21:30:00.000000000",
          "2014-01-09T22:00:00.000000000",
          "2014-01-09T22:30:00.000000000",
          "2014-01-09T23:00:00.000000000",
          "2014-01-09T23:30:00.000000000",
          "2014-01-10T00:00:00.000000000",
          "2014-01-10T00:30:00.000000000",
          "2014-01-10T01:00:00.000000000",
          "2014-01-10T01:30:00.000000000",
          "2014-01-10T02:00:00.000000000",
          "2014-01-10T02:30:00.000000000",
          "2014-01-10T03:00:00.000000000",
          "2014-01-10T03:30:00.000000000",
          "2014-01-10T04:00:00.000000000",
          "2014-01-10T04:30:00.000000000",
          "2014-01-10T05:00:00.000000000",
          "2014-01-10T05:30:00.000000000",
          "2014-01-10T06:00:00.000000000",
          "2014-01-10T06:30:00.000000000",
          "2014-01-10T07:00:00.000000000",
          "2014-01-10T07:30:00.000000000",
          "2014-01-10T08:00:00.000000000",
          "2014-01-10T08:30:00.000000000",
          "2014-01-10T09:00:00.000000000",
          "2014-01-10T09:30:00.000000000",
          "2014-01-10T10:00:00.000000000",
          "2014-01-10T10:30:00.000000000",
          "2014-01-10T11:00:00.000000000",
          "2014-01-10T11:30:00.000000000",
          "2014-01-10T12:00:00.000000000",
          "2014-01-10T12:30:00.000000000",
          "2014-01-10T13:00:00.000000000",
          "2014-01-10T13:30:00.000000000",
          "2014-01-10T14:00:00.000000000",
          "2014-01-10T14:30:00.000000000",
          "2014-01-10T15:00:00.000000000",
          "2014-01-10T15:30:00.000000000",
          "2014-01-10T16:00:00.000000000",
          "2014-01-10T16:30:00.000000000",
          "2014-01-10T17:00:00.000000000",
          "2014-01-10T17:30:00.000000000",
          "2014-01-10T18:00:00.000000000",
          "2014-01-10T18:30:00.000000000",
          "2014-01-10T19:00:00.000000000",
          "2014-01-10T19:30:00.000000000",
          "2014-01-10T20:00:00.000000000",
          "2014-01-10T20:30:00.000000000",
          "2014-01-10T21:00:00.000000000",
          "2014-01-10T21:30:00.000000000",
          "2014-01-10T22:00:00.000000000",
          "2014-01-10T22:30:00.000000000",
          "2014-01-10T23:00:00.000000000",
          "2014-01-10T23:30:00.000000000",
          "2014-01-11T00:00:00.000000000",
          "2014-01-11T00:30:00.000000000",
          "2014-01-11T01:00:00.000000000",
          "2014-01-11T01:30:00.000000000",
          "2014-01-11T02:00:00.000000000",
          "2014-01-11T02:30:00.000000000",
          "2014-01-11T03:00:00.000000000",
          "2014-01-11T03:30:00.000000000",
          "2014-01-11T04:00:00.000000000",
          "2014-01-11T04:30:00.000000000",
          "2014-01-11T05:00:00.000000000",
          "2014-01-11T05:30:00.000000000",
          "2014-01-11T06:00:00.000000000",
          "2014-01-11T06:30:00.000000000",
          "2014-01-11T07:00:00.000000000",
          "2014-01-11T07:30:00.000000000",
          "2014-01-11T08:00:00.000000000",
          "2014-01-11T08:30:00.000000000",
          "2014-01-11T09:00:00.000000000",
          "2014-01-11T09:30:00.000000000",
          "2014-01-11T10:00:00.000000000",
          "2014-01-11T10:30:00.000000000",
          "2014-01-11T11:00:00.000000000",
          "2014-01-11T11:30:00.000000000",
          "2014-01-11T12:00:00.000000000",
          "2014-01-11T12:30:00.000000000",
          "2014-01-11T13:00:00.000000000",
          "2014-01-11T13:30:00.000000000",
          "2014-01-11T14:00:00.000000000",
          "2014-01-11T14:30:00.000000000",
          "2014-01-11T15:00:00.000000000",
          "2014-01-11T15:30:00.000000000",
          "2014-01-11T16:00:00.000000000",
          "2014-01-11T16:30:00.000000000",
          "2014-01-11T17:00:00.000000000",
          "2014-01-11T17:30:00.000000000",
          "2014-01-11T18:00:00.000000000",
          "2014-01-11T18:30:00.000000000",
          "2014-01-11T19:00:00.000000000",
          "2014-01-11T19:30:00.000000000",
          "2014-01-11T20:00:00.000000000",
          "2014-01-11T20:30:00.000000000",
          "2014-01-11T21:00:00.000000000",
          "2014-01-11T21:30:00.000000000",
          "2014-01-11T22:00:00.000000000",
          "2014-01-11T22:30:00.000000000",
          "2014-01-11T23:00:00.000000000",
          "2014-01-11T23:30:00.000000000",
          "2014-01-12T00:00:00.000000000",
          "2014-01-12T00:30:00.000000000",
          "2014-01-12T01:00:00.000000000",
          "2014-01-12T01:30:00.000000000",
          "2014-01-12T02:00:00.000000000",
          "2014-01-12T02:30:00.000000000",
          "2014-01-12T03:00:00.000000000",
          "2014-01-12T03:30:00.000000000",
          "2014-01-12T04:00:00.000000000",
          "2014-01-12T04:30:00.000000000",
          "2014-01-12T05:00:00.000000000",
          "2014-01-12T05:30:00.000000000",
          "2014-01-12T06:00:00.000000000",
          "2014-01-12T06:30:00.000000000",
          "2014-01-12T07:00:00.000000000",
          "2014-01-12T07:30:00.000000000",
          "2014-01-12T08:00:00.000000000",
          "2014-01-12T08:30:00.000000000",
          "2014-01-12T09:00:00.000000000",
          "2014-01-12T09:30:00.000000000",
          "2014-01-12T10:00:00.000000000",
          "2014-01-12T10:30:00.000000000",
          "2014-01-12T11:00:00.000000000",
          "2014-01-12T11:30:00.000000000",
          "2014-01-12T12:00:00.000000000",
          "2014-01-12T12:30:00.000000000",
          "2014-01-12T13:00:00.000000000",
          "2014-01-12T13:30:00.000000000",
          "2014-01-12T14:00:00.000000000",
          "2014-01-12T14:30:00.000000000",
          "2014-01-12T15:00:00.000000000",
          "2014-01-12T15:30:00.000000000",
          "2014-01-12T16:00:00.000000000",
          "2014-01-12T16:30:00.000000000",
          "2014-01-12T17:00:00.000000000",
          "2014-01-12T17:30:00.000000000",
          "2014-01-12T18:00:00.000000000",
          "2014-01-12T18:30:00.000000000",
          "2014-01-12T19:00:00.000000000",
          "2014-01-12T19:30:00.000000000",
          "2014-01-12T20:00:00.000000000",
          "2014-01-12T20:30:00.000000000",
          "2014-01-12T21:00:00.000000000",
          "2014-01-12T21:30:00.000000000",
          "2014-01-12T22:00:00.000000000",
          "2014-01-12T22:30:00.000000000",
          "2014-01-12T23:00:00.000000000",
          "2014-01-12T23:30:00.000000000",
          "2014-01-13T00:00:00.000000000",
          "2014-01-13T00:30:00.000000000",
          "2014-01-13T01:00:00.000000000",
          "2014-01-13T01:30:00.000000000",
          "2014-01-13T02:00:00.000000000",
          "2014-01-13T02:30:00.000000000",
          "2014-01-13T03:00:00.000000000",
          "2014-01-13T03:30:00.000000000",
          "2014-01-13T04:00:00.000000000",
          "2014-01-13T04:30:00.000000000",
          "2014-01-13T05:00:00.000000000",
          "2014-01-13T05:30:00.000000000",
          "2014-01-13T06:00:00.000000000",
          "2014-01-13T06:30:00.000000000",
          "2014-01-13T07:00:00.000000000",
          "2014-01-13T07:30:00.000000000",
          "2014-01-13T08:00:00.000000000",
          "2014-01-13T08:30:00.000000000",
          "2014-01-13T09:00:00.000000000",
          "2014-01-13T09:30:00.000000000",
          "2014-01-13T10:00:00.000000000",
          "2014-01-13T10:30:00.000000000",
          "2014-01-13T11:00:00.000000000",
          "2014-01-13T11:30:00.000000000",
          "2014-01-13T12:00:00.000000000",
          "2014-01-13T12:30:00.000000000",
          "2014-01-13T13:00:00.000000000",
          "2014-01-13T13:30:00.000000000",
          "2014-01-13T14:00:00.000000000",
          "2014-01-13T14:30:00.000000000",
          "2014-01-13T15:00:00.000000000",
          "2014-01-13T15:30:00.000000000",
          "2014-01-13T16:00:00.000000000",
          "2014-01-13T16:30:00.000000000",
          "2014-01-13T17:00:00.000000000",
          "2014-01-13T17:30:00.000000000",
          "2014-01-13T18:00:00.000000000",
          "2014-01-13T18:30:00.000000000",
          "2014-01-13T19:00:00.000000000",
          "2014-01-13T19:30:00.000000000",
          "2014-01-13T20:00:00.000000000",
          "2014-01-13T20:30:00.000000000",
          "2014-01-13T21:00:00.000000000",
          "2014-01-13T21:30:00.000000000",
          "2014-01-13T22:00:00.000000000",
          "2014-01-13T22:30:00.000000000",
          "2014-01-13T23:00:00.000000000",
          "2014-01-13T23:30:00.000000000",
          "2014-01-14T00:00:00.000000000",
          "2014-01-14T00:30:00.000000000",
          "2014-01-14T01:00:00.000000000",
          "2014-01-14T01:30:00.000000000",
          "2014-01-14T02:00:00.000000000",
          "2014-01-14T02:30:00.000000000",
          "2014-01-14T03:00:00.000000000",
          "2014-01-14T03:30:00.000000000",
          "2014-01-14T04:00:00.000000000",
          "2014-01-14T04:30:00.000000000",
          "2014-01-14T05:00:00.000000000",
          "2014-01-14T05:30:00.000000000",
          "2014-01-14T06:00:00.000000000",
          "2014-01-14T06:30:00.000000000",
          "2014-01-14T07:00:00.000000000",
          "2014-01-14T07:30:00.000000000",
          "2014-01-14T08:00:00.000000000",
          "2014-01-14T08:30:00.000000000",
          "2014-01-14T09:00:00.000000000",
          "2014-01-14T09:30:00.000000000",
          "2014-01-14T10:00:00.000000000",
          "2014-01-14T10:30:00.000000000",
          "2014-01-14T11:00:00.000000000",
          "2014-01-14T11:30:00.000000000",
          "2014-01-14T12:00:00.000000000",
          "2014-01-14T12:30:00.000000000",
          "2014-01-14T13:00:00.000000000",
          "2014-01-14T13:30:00.000000000",
          "2014-01-14T14:00:00.000000000",
          "2014-01-14T14:30:00.000000000",
          "2014-01-14T15:00:00.000000000",
          "2014-01-14T15:30:00.000000000",
          "2014-01-14T16:00:00.000000000",
          "2014-01-14T16:30:00.000000000",
          "2014-01-14T17:00:00.000000000",
          "2014-01-14T17:30:00.000000000",
          "2014-01-14T18:00:00.000000000",
          "2014-01-14T18:30:00.000000000",
          "2014-01-14T19:00:00.000000000",
          "2014-01-14T19:30:00.000000000",
          "2014-01-14T20:00:00.000000000",
          "2014-01-14T20:30:00.000000000",
          "2014-01-14T21:00:00.000000000",
          "2014-01-14T21:30:00.000000000",
          "2014-01-14T22:00:00.000000000",
          "2014-01-14T22:30:00.000000000",
          "2014-01-14T23:00:00.000000000",
          "2014-01-14T23:30:00.000000000",
          "2014-01-15T00:00:00.000000000",
          "2014-01-15T00:30:00.000000000",
          "2014-01-15T01:00:00.000000000",
          "2014-01-15T01:30:00.000000000",
          "2014-01-15T02:00:00.000000000",
          "2014-01-15T02:30:00.000000000",
          "2014-01-15T03:00:00.000000000",
          "2014-01-15T03:30:00.000000000",
          "2014-01-15T04:00:00.000000000",
          "2014-01-15T04:30:00.000000000",
          "2014-01-15T05:00:00.000000000",
          "2014-01-15T05:30:00.000000000",
          "2014-01-15T06:00:00.000000000",
          "2014-01-15T06:30:00.000000000",
          "2014-01-15T07:00:00.000000000",
          "2014-01-15T07:30:00.000000000",
          "2014-01-15T08:00:00.000000000",
          "2014-01-15T08:30:00.000000000",
          "2014-01-15T09:00:00.000000000",
          "2014-01-15T09:30:00.000000000",
          "2014-01-15T10:00:00.000000000",
          "2014-01-15T10:30:00.000000000",
          "2014-01-15T11:00:00.000000000",
          "2014-01-15T11:30:00.000000000",
          "2014-01-15T12:00:00.000000000",
          "2014-01-15T12:30:00.000000000",
          "2014-01-15T13:00:00.000000000",
          "2014-01-15T13:30:00.000000000",
          "2014-01-15T14:00:00.000000000",
          "2014-01-15T14:30:00.000000000",
          "2014-01-15T15:00:00.000000000",
          "2014-01-15T15:30:00.000000000",
          "2014-01-15T16:00:00.000000000",
          "2014-01-15T16:30:00.000000000",
          "2014-01-15T17:00:00.000000000",
          "2014-01-15T17:30:00.000000000",
          "2014-01-15T18:00:00.000000000",
          "2014-01-15T18:30:00.000000000",
          "2014-01-15T19:00:00.000000000",
          "2014-01-15T19:30:00.000000000",
          "2014-01-15T20:00:00.000000000",
          "2014-01-15T20:30:00.000000000",
          "2014-01-15T21:00:00.000000000",
          "2014-01-15T21:30:00.000000000",
          "2014-01-15T22:00:00.000000000",
          "2014-01-15T22:30:00.000000000",
          "2014-01-15T23:00:00.000000000",
          "2014-01-15T23:30:00.000000000",
          "2014-01-16T00:00:00.000000000",
          "2014-01-16T00:30:00.000000000",
          "2014-01-16T01:00:00.000000000",
          "2014-01-16T01:30:00.000000000",
          "2014-01-16T02:00:00.000000000",
          "2014-01-16T02:30:00.000000000",
          "2014-01-16T03:00:00.000000000",
          "2014-01-16T03:30:00.000000000",
          "2014-01-16T04:00:00.000000000",
          "2014-01-16T04:30:00.000000000",
          "2014-01-16T05:00:00.000000000",
          "2014-01-16T05:30:00.000000000",
          "2014-01-16T06:00:00.000000000",
          "2014-01-16T06:30:00.000000000",
          "2014-01-16T07:00:00.000000000",
          "2014-01-16T07:30:00.000000000",
          "2014-01-16T08:00:00.000000000",
          "2014-01-16T08:30:00.000000000",
          "2014-01-16T09:00:00.000000000",
          "2014-01-16T09:30:00.000000000",
          "2014-01-16T10:00:00.000000000",
          "2014-01-16T10:30:00.000000000",
          "2014-01-16T11:00:00.000000000",
          "2014-01-16T11:30:00.000000000",
          "2014-01-16T12:00:00.000000000",
          "2014-01-16T12:30:00.000000000",
          "2014-01-16T13:00:00.000000000",
          "2014-01-16T13:30:00.000000000",
          "2014-01-16T14:00:00.000000000",
          "2014-01-16T14:30:00.000000000",
          "2014-01-16T15:00:00.000000000",
          "2014-01-16T15:30:00.000000000",
          "2014-01-16T16:00:00.000000000",
          "2014-01-16T16:30:00.000000000",
          "2014-01-16T17:00:00.000000000",
          "2014-01-16T17:30:00.000000000",
          "2014-01-16T18:00:00.000000000",
          "2014-01-16T18:30:00.000000000",
          "2014-01-16T19:00:00.000000000",
          "2014-01-16T19:30:00.000000000",
          "2014-01-16T20:00:00.000000000",
          "2014-01-16T20:30:00.000000000",
          "2014-01-16T21:00:00.000000000",
          "2014-01-16T21:30:00.000000000",
          "2014-01-16T22:00:00.000000000",
          "2014-01-16T22:30:00.000000000",
          "2014-01-16T23:00:00.000000000",
          "2014-01-16T23:30:00.000000000",
          "2014-01-17T00:00:00.000000000",
          "2014-01-17T00:30:00.000000000",
          "2014-01-17T01:00:00.000000000",
          "2014-01-17T01:30:00.000000000",
          "2014-01-17T02:00:00.000000000",
          "2014-01-17T02:30:00.000000000",
          "2014-01-17T03:00:00.000000000",
          "2014-01-17T03:30:00.000000000",
          "2014-01-17T04:00:00.000000000",
          "2014-01-17T04:30:00.000000000",
          "2014-01-17T05:00:00.000000000",
          "2014-01-17T05:30:00.000000000",
          "2014-01-17T06:00:00.000000000",
          "2014-01-17T06:30:00.000000000",
          "2014-01-17T07:00:00.000000000",
          "2014-01-17T07:30:00.000000000",
          "2014-01-17T08:00:00.000000000",
          "2014-01-17T08:30:00.000000000",
          "2014-01-17T09:00:00.000000000",
          "2014-01-17T09:30:00.000000000",
          "2014-01-17T10:00:00.000000000",
          "2014-01-17T10:30:00.000000000",
          "2014-01-17T11:00:00.000000000",
          "2014-01-17T11:30:00.000000000",
          "2014-01-17T12:00:00.000000000",
          "2014-01-17T12:30:00.000000000",
          "2014-01-17T13:00:00.000000000",
          "2014-01-17T13:30:00.000000000",
          "2014-01-17T14:00:00.000000000",
          "2014-01-17T14:30:00.000000000",
          "2014-01-17T15:00:00.000000000",
          "2014-01-17T15:30:00.000000000",
          "2014-01-17T16:00:00.000000000",
          "2014-01-17T16:30:00.000000000",
          "2014-01-17T17:00:00.000000000",
          "2014-01-17T17:30:00.000000000",
          "2014-01-17T18:00:00.000000000",
          "2014-01-17T18:30:00.000000000",
          "2014-01-17T19:00:00.000000000",
          "2014-01-17T19:30:00.000000000",
          "2014-01-17T20:00:00.000000000",
          "2014-01-17T20:30:00.000000000",
          "2014-01-17T21:00:00.000000000",
          "2014-01-17T21:30:00.000000000",
          "2014-01-17T22:00:00.000000000",
          "2014-01-17T22:30:00.000000000",
          "2014-01-17T23:00:00.000000000",
          "2014-01-17T23:30:00.000000000",
          "2014-01-18T00:00:00.000000000",
          "2014-01-18T00:30:00.000000000",
          "2014-01-18T01:00:00.000000000",
          "2014-01-18T01:30:00.000000000",
          "2014-01-18T02:00:00.000000000",
          "2014-01-18T02:30:00.000000000",
          "2014-01-18T03:00:00.000000000",
          "2014-01-18T03:30:00.000000000",
          "2014-01-18T04:00:00.000000000",
          "2014-01-18T04:30:00.000000000",
          "2014-01-18T05:00:00.000000000",
          "2014-01-18T05:30:00.000000000",
          "2014-01-18T06:00:00.000000000",
          "2014-01-18T06:30:00.000000000",
          "2014-01-18T07:00:00.000000000",
          "2014-01-18T07:30:00.000000000",
          "2014-01-18T08:00:00.000000000",
          "2014-01-18T08:30:00.000000000",
          "2014-01-18T09:00:00.000000000",
          "2014-01-18T09:30:00.000000000",
          "2014-01-18T10:00:00.000000000",
          "2014-01-18T10:30:00.000000000",
          "2014-01-18T11:00:00.000000000",
          "2014-01-18T11:30:00.000000000",
          "2014-01-18T12:00:00.000000000",
          "2014-01-18T12:30:00.000000000",
          "2014-01-18T13:00:00.000000000",
          "2014-01-18T13:30:00.000000000",
          "2014-01-18T14:00:00.000000000",
          "2014-01-18T14:30:00.000000000",
          "2014-01-18T15:00:00.000000000",
          "2014-01-18T15:30:00.000000000",
          "2014-01-18T16:00:00.000000000",
          "2014-01-18T16:30:00.000000000",
          "2014-01-18T17:00:00.000000000",
          "2014-01-18T17:30:00.000000000",
          "2014-01-18T18:00:00.000000000",
          "2014-01-18T18:30:00.000000000",
          "2014-01-18T19:00:00.000000000",
          "2014-01-18T19:30:00.000000000",
          "2014-01-18T20:00:00.000000000",
          "2014-01-18T20:30:00.000000000",
          "2014-01-18T21:00:00.000000000",
          "2014-01-18T21:30:00.000000000",
          "2014-01-18T22:00:00.000000000",
          "2014-01-18T22:30:00.000000000",
          "2014-01-18T23:00:00.000000000",
          "2014-01-18T23:30:00.000000000",
          "2014-01-19T00:00:00.000000000",
          "2014-01-19T00:30:00.000000000",
          "2014-01-19T01:00:00.000000000",
          "2014-01-19T01:30:00.000000000",
          "2014-01-19T02:00:00.000000000",
          "2014-01-19T02:30:00.000000000",
          "2014-01-19T03:00:00.000000000",
          "2014-01-19T03:30:00.000000000",
          "2014-01-19T04:00:00.000000000",
          "2014-01-19T04:30:00.000000000",
          "2014-01-19T05:00:00.000000000",
          "2014-01-19T05:30:00.000000000",
          "2014-01-19T06:00:00.000000000",
          "2014-01-19T06:30:00.000000000",
          "2014-01-19T07:00:00.000000000",
          "2014-01-19T07:30:00.000000000",
          "2014-01-19T08:00:00.000000000",
          "2014-01-19T08:30:00.000000000",
          "2014-01-19T09:00:00.000000000",
          "2014-01-19T09:30:00.000000000",
          "2014-01-19T10:00:00.000000000",
          "2014-01-19T10:30:00.000000000",
          "2014-01-19T11:00:00.000000000",
          "2014-01-19T11:30:00.000000000",
          "2014-01-19T12:00:00.000000000",
          "2014-01-19T12:30:00.000000000",
          "2014-01-19T13:00:00.000000000",
          "2014-01-19T13:30:00.000000000",
          "2014-01-19T14:00:00.000000000",
          "2014-01-19T14:30:00.000000000",
          "2014-01-19T15:00:00.000000000",
          "2014-01-19T15:30:00.000000000",
          "2014-01-19T16:00:00.000000000",
          "2014-01-19T16:30:00.000000000",
          "2014-01-19T17:00:00.000000000",
          "2014-01-19T17:30:00.000000000",
          "2014-01-19T18:00:00.000000000",
          "2014-01-19T18:30:00.000000000",
          "2014-01-19T19:00:00.000000000",
          "2014-01-19T19:30:00.000000000",
          "2014-01-19T20:00:00.000000000",
          "2014-01-19T20:30:00.000000000",
          "2014-01-19T21:00:00.000000000",
          "2014-01-19T21:30:00.000000000",
          "2014-01-19T22:00:00.000000000",
          "2014-01-19T22:30:00.000000000",
          "2014-01-19T23:00:00.000000000",
          "2014-01-19T23:30:00.000000000",
          "2014-01-20T00:00:00.000000000",
          "2014-01-20T00:30:00.000000000",
          "2014-01-20T01:00:00.000000000",
          "2014-01-20T01:30:00.000000000",
          "2014-01-20T02:00:00.000000000",
          "2014-01-20T02:30:00.000000000",
          "2014-01-20T03:00:00.000000000",
          "2014-01-20T03:30:00.000000000",
          "2014-01-20T04:00:00.000000000",
          "2014-01-20T04:30:00.000000000",
          "2014-01-20T05:00:00.000000000",
          "2014-01-20T05:30:00.000000000",
          "2014-01-20T06:00:00.000000000",
          "2014-01-20T06:30:00.000000000",
          "2014-01-20T07:00:00.000000000",
          "2014-01-20T07:30:00.000000000",
          "2014-01-20T08:00:00.000000000",
          "2014-01-20T08:30:00.000000000",
          "2014-01-20T09:00:00.000000000",
          "2014-01-20T09:30:00.000000000",
          "2014-01-20T10:00:00.000000000",
          "2014-01-20T10:30:00.000000000",
          "2014-01-20T11:00:00.000000000",
          "2014-01-20T11:30:00.000000000",
          "2014-01-20T12:00:00.000000000",
          "2014-01-20T12:30:00.000000000",
          "2014-01-20T13:00:00.000000000",
          "2014-01-20T13:30:00.000000000",
          "2014-01-20T14:00:00.000000000",
          "2014-01-20T14:30:00.000000000",
          "2014-01-20T15:00:00.000000000",
          "2014-01-20T15:30:00.000000000",
          "2014-01-20T16:00:00.000000000",
          "2014-01-20T16:30:00.000000000",
          "2014-01-20T17:00:00.000000000",
          "2014-01-20T17:30:00.000000000",
          "2014-01-20T18:00:00.000000000",
          "2014-01-20T18:30:00.000000000",
          "2014-01-20T19:00:00.000000000",
          "2014-01-20T19:30:00.000000000",
          "2014-01-20T20:00:00.000000000",
          "2014-01-20T20:30:00.000000000",
          "2014-01-20T21:00:00.000000000",
          "2014-01-20T21:30:00.000000000",
          "2014-01-20T22:00:00.000000000",
          "2014-01-20T22:30:00.000000000",
          "2014-01-20T23:00:00.000000000",
          "2014-01-20T23:30:00.000000000",
          "2014-01-21T00:00:00.000000000",
          "2014-01-21T00:30:00.000000000",
          "2014-01-21T01:00:00.000000000",
          "2014-01-21T01:30:00.000000000",
          "2014-01-21T02:00:00.000000000",
          "2014-01-21T02:30:00.000000000",
          "2014-01-21T03:00:00.000000000",
          "2014-01-21T03:30:00.000000000",
          "2014-01-21T04:00:00.000000000",
          "2014-01-21T04:30:00.000000000",
          "2014-01-21T05:00:00.000000000",
          "2014-01-21T05:30:00.000000000",
          "2014-01-21T06:00:00.000000000",
          "2014-01-21T06:30:00.000000000",
          "2014-01-21T07:00:00.000000000",
          "2014-01-21T07:30:00.000000000",
          "2014-01-21T08:00:00.000000000",
          "2014-01-21T08:30:00.000000000",
          "2014-01-21T09:00:00.000000000",
          "2014-01-21T09:30:00.000000000",
          "2014-01-21T10:00:00.000000000",
          "2014-01-21T10:30:00.000000000",
          "2014-01-21T11:00:00.000000000",
          "2014-01-21T11:30:00.000000000",
          "2014-01-21T12:00:00.000000000",
          "2014-01-21T12:30:00.000000000",
          "2014-01-21T13:00:00.000000000",
          "2014-01-21T13:30:00.000000000",
          "2014-01-21T14:00:00.000000000",
          "2014-01-21T14:30:00.000000000",
          "2014-01-21T15:00:00.000000000",
          "2014-01-21T15:30:00.000000000",
          "2014-01-21T16:00:00.000000000",
          "2014-01-21T16:30:00.000000000",
          "2014-01-21T17:00:00.000000000",
          "2014-01-21T17:30:00.000000000",
          "2014-01-21T18:00:00.000000000",
          "2014-01-21T18:30:00.000000000",
          "2014-01-21T19:00:00.000000000",
          "2014-01-21T19:30:00.000000000",
          "2014-01-21T20:00:00.000000000",
          "2014-01-21T20:30:00.000000000",
          "2014-01-21T21:00:00.000000000",
          "2014-01-21T21:30:00.000000000",
          "2014-01-21T22:00:00.000000000",
          "2014-01-21T22:30:00.000000000",
          "2014-01-21T23:00:00.000000000",
          "2014-01-21T23:30:00.000000000",
          "2014-01-22T00:00:00.000000000",
          "2014-01-22T00:30:00.000000000",
          "2014-01-22T01:00:00.000000000",
          "2014-01-22T01:30:00.000000000",
          "2014-01-22T02:00:00.000000000",
          "2014-01-22T02:30:00.000000000",
          "2014-01-22T03:00:00.000000000",
          "2014-01-22T03:30:00.000000000",
          "2014-01-22T04:00:00.000000000",
          "2014-01-22T04:30:00.000000000",
          "2014-01-22T05:00:00.000000000",
          "2014-01-22T05:30:00.000000000",
          "2014-01-22T06:00:00.000000000",
          "2014-01-22T06:30:00.000000000",
          "2014-01-22T07:00:00.000000000",
          "2014-01-22T07:30:00.000000000",
          "2014-01-22T08:00:00.000000000",
          "2014-01-22T08:30:00.000000000",
          "2014-01-22T09:00:00.000000000",
          "2014-01-22T09:30:00.000000000",
          "2014-01-22T10:00:00.000000000",
          "2014-01-22T10:30:00.000000000",
          "2014-01-22T11:00:00.000000000",
          "2014-01-22T11:30:00.000000000",
          "2014-01-22T12:00:00.000000000",
          "2014-01-22T12:30:00.000000000",
          "2014-01-22T13:00:00.000000000",
          "2014-01-22T13:30:00.000000000",
          "2014-01-22T14:00:00.000000000",
          "2014-01-22T14:30:00.000000000",
          "2014-01-22T15:00:00.000000000",
          "2014-01-22T15:30:00.000000000",
          "2014-01-22T16:00:00.000000000",
          "2014-01-22T16:30:00.000000000",
          "2014-01-22T17:00:00.000000000",
          "2014-01-22T17:30:00.000000000",
          "2014-01-22T18:00:00.000000000",
          "2014-01-22T18:30:00.000000000",
          "2014-01-22T19:00:00.000000000",
          "2014-01-22T19:30:00.000000000",
          "2014-01-22T20:00:00.000000000",
          "2014-01-22T20:30:00.000000000",
          "2014-01-22T21:00:00.000000000",
          "2014-01-22T21:30:00.000000000",
          "2014-01-22T22:00:00.000000000",
          "2014-01-22T22:30:00.000000000",
          "2014-01-22T23:00:00.000000000",
          "2014-01-22T23:30:00.000000000",
          "2014-01-23T00:00:00.000000000",
          "2014-01-23T00:30:00.000000000",
          "2014-01-23T01:00:00.000000000",
          "2014-01-23T01:30:00.000000000",
          "2014-01-23T02:00:00.000000000",
          "2014-01-23T02:30:00.000000000",
          "2014-01-23T03:00:00.000000000",
          "2014-01-23T03:30:00.000000000",
          "2014-01-23T04:00:00.000000000",
          "2014-01-23T04:30:00.000000000",
          "2014-01-23T05:00:00.000000000",
          "2014-01-23T05:30:00.000000000",
          "2014-01-23T06:00:00.000000000",
          "2014-01-23T06:30:00.000000000",
          "2014-01-23T07:00:00.000000000",
          "2014-01-23T07:30:00.000000000",
          "2014-01-23T08:00:00.000000000",
          "2014-01-23T08:30:00.000000000",
          "2014-01-23T09:00:00.000000000",
          "2014-01-23T09:30:00.000000000",
          "2014-01-23T10:00:00.000000000",
          "2014-01-23T10:30:00.000000000",
          "2014-01-23T11:00:00.000000000",
          "2014-01-23T11:30:00.000000000",
          "2014-01-23T12:00:00.000000000",
          "2014-01-23T12:30:00.000000000",
          "2014-01-23T13:00:00.000000000",
          "2014-01-23T13:30:00.000000000",
          "2014-01-23T14:00:00.000000000",
          "2014-01-23T14:30:00.000000000",
          "2014-01-23T15:00:00.000000000",
          "2014-01-23T15:30:00.000000000",
          "2014-01-23T16:00:00.000000000",
          "2014-01-23T16:30:00.000000000",
          "2014-01-23T17:00:00.000000000",
          "2014-01-23T17:30:00.000000000",
          "2014-01-23T18:00:00.000000000",
          "2014-01-23T18:30:00.000000000",
          "2014-01-23T19:00:00.000000000",
          "2014-01-23T19:30:00.000000000",
          "2014-01-23T20:00:00.000000000",
          "2014-01-23T20:30:00.000000000",
          "2014-01-23T21:00:00.000000000",
          "2014-01-23T21:30:00.000000000",
          "2014-01-23T22:00:00.000000000",
          "2014-01-23T22:30:00.000000000",
          "2014-01-23T23:00:00.000000000",
          "2014-01-23T23:30:00.000000000",
          "2014-01-24T00:00:00.000000000",
          "2014-01-24T00:30:00.000000000",
          "2014-01-24T01:00:00.000000000",
          "2014-01-24T01:30:00.000000000",
          "2014-01-24T02:00:00.000000000",
          "2014-01-24T02:30:00.000000000",
          "2014-01-24T03:00:00.000000000",
          "2014-01-24T03:30:00.000000000",
          "2014-01-24T04:00:00.000000000",
          "2014-01-24T04:30:00.000000000",
          "2014-01-24T05:00:00.000000000",
          "2014-01-24T05:30:00.000000000",
          "2014-01-24T06:00:00.000000000",
          "2014-01-24T06:30:00.000000000",
          "2014-01-24T07:00:00.000000000",
          "2014-01-24T07:30:00.000000000",
          "2014-01-24T08:00:00.000000000",
          "2014-01-24T08:30:00.000000000",
          "2014-01-24T09:00:00.000000000",
          "2014-01-24T09:30:00.000000000",
          "2014-01-24T10:00:00.000000000",
          "2014-01-24T10:30:00.000000000",
          "2014-01-24T11:00:00.000000000",
          "2014-01-24T11:30:00.000000000",
          "2014-01-24T12:00:00.000000000",
          "2014-01-24T12:30:00.000000000",
          "2014-01-24T13:00:00.000000000",
          "2014-01-24T13:30:00.000000000",
          "2014-01-24T14:00:00.000000000",
          "2014-01-24T14:30:00.000000000",
          "2014-01-24T15:00:00.000000000",
          "2014-01-24T15:30:00.000000000",
          "2014-01-24T16:00:00.000000000",
          "2014-01-24T16:30:00.000000000",
          "2014-01-24T17:00:00.000000000",
          "2014-01-24T17:30:00.000000000",
          "2014-01-24T18:00:00.000000000",
          "2014-01-24T18:30:00.000000000",
          "2014-01-24T19:00:00.000000000",
          "2014-01-24T19:30:00.000000000",
          "2014-01-24T20:00:00.000000000",
          "2014-01-24T20:30:00.000000000",
          "2014-01-24T21:00:00.000000000",
          "2014-01-24T21:30:00.000000000",
          "2014-01-24T22:00:00.000000000",
          "2014-01-24T22:30:00.000000000",
          "2014-01-24T23:00:00.000000000",
          "2014-01-24T23:30:00.000000000",
          "2014-01-25T00:00:00.000000000",
          "2014-01-25T00:30:00.000000000",
          "2014-01-25T01:00:00.000000000",
          "2014-01-25T01:30:00.000000000",
          "2014-01-25T02:00:00.000000000",
          "2014-01-25T02:30:00.000000000",
          "2014-01-25T03:00:00.000000000",
          "2014-01-25T03:30:00.000000000",
          "2014-01-25T04:00:00.000000000",
          "2014-01-25T04:30:00.000000000",
          "2014-01-25T05:00:00.000000000",
          "2014-01-25T05:30:00.000000000",
          "2014-01-25T06:00:00.000000000",
          "2014-01-25T06:30:00.000000000",
          "2014-01-25T07:00:00.000000000",
          "2014-01-25T07:30:00.000000000",
          "2014-01-25T08:00:00.000000000",
          "2014-01-25T08:30:00.000000000",
          "2014-01-25T09:00:00.000000000",
          "2014-01-25T09:30:00.000000000",
          "2014-01-25T10:00:00.000000000",
          "2014-01-25T10:30:00.000000000",
          "2014-01-25T11:00:00.000000000",
          "2014-01-25T11:30:00.000000000",
          "2014-01-25T12:00:00.000000000",
          "2014-01-25T12:30:00.000000000",
          "2014-01-25T13:00:00.000000000",
          "2014-01-25T13:30:00.000000000",
          "2014-01-25T14:00:00.000000000",
          "2014-01-25T14:30:00.000000000",
          "2014-01-25T15:00:00.000000000",
          "2014-01-25T15:30:00.000000000",
          "2014-01-25T16:00:00.000000000",
          "2014-01-25T16:30:00.000000000",
          "2014-01-25T17:00:00.000000000",
          "2014-01-25T17:30:00.000000000",
          "2014-01-25T18:00:00.000000000",
          "2014-01-25T18:30:00.000000000",
          "2014-01-25T19:00:00.000000000",
          "2014-01-25T19:30:00.000000000",
          "2014-01-25T20:00:00.000000000",
          "2014-01-25T20:30:00.000000000",
          "2014-01-25T21:00:00.000000000",
          "2014-01-25T21:30:00.000000000",
          "2014-01-25T22:00:00.000000000",
          "2014-01-25T22:30:00.000000000",
          "2014-01-25T23:00:00.000000000",
          "2014-01-25T23:30:00.000000000",
          "2014-01-26T00:00:00.000000000",
          "2014-01-26T00:30:00.000000000",
          "2014-01-26T01:00:00.000000000",
          "2014-01-26T01:30:00.000000000",
          "2014-01-26T02:00:00.000000000",
          "2014-01-26T02:30:00.000000000",
          "2014-01-26T03:00:00.000000000",
          "2014-01-26T03:30:00.000000000",
          "2014-01-26T04:00:00.000000000",
          "2014-01-26T04:30:00.000000000",
          "2014-01-26T05:00:00.000000000",
          "2014-01-26T05:30:00.000000000",
          "2014-01-26T06:00:00.000000000",
          "2014-01-26T06:30:00.000000000",
          "2014-01-26T07:00:00.000000000",
          "2014-01-26T07:30:00.000000000",
          "2014-01-26T08:00:00.000000000",
          "2014-01-26T08:30:00.000000000",
          "2014-01-26T09:00:00.000000000",
          "2014-01-26T09:30:00.000000000",
          "2014-01-26T10:00:00.000000000",
          "2014-01-26T10:30:00.000000000",
          "2014-01-26T11:00:00.000000000",
          "2014-01-26T11:30:00.000000000",
          "2014-01-26T12:00:00.000000000",
          "2014-01-26T12:30:00.000000000",
          "2014-01-26T13:00:00.000000000",
          "2014-01-26T13:30:00.000000000",
          "2014-01-26T14:00:00.000000000",
          "2014-01-26T14:30:00.000000000",
          "2014-01-26T15:00:00.000000000",
          "2014-01-26T15:30:00.000000000",
          "2014-01-26T16:00:00.000000000",
          "2014-01-26T16:30:00.000000000",
          "2014-01-26T17:00:00.000000000",
          "2014-01-26T17:30:00.000000000",
          "2014-01-26T18:00:00.000000000",
          "2014-01-26T18:30:00.000000000",
          "2014-01-26T19:00:00.000000000",
          "2014-01-26T19:30:00.000000000",
          "2014-01-26T20:00:00.000000000",
          "2014-01-26T20:30:00.000000000",
          "2014-01-26T21:00:00.000000000",
          "2014-01-26T21:30:00.000000000",
          "2014-01-26T22:00:00.000000000",
          "2014-01-26T22:30:00.000000000",
          "2014-01-26T23:00:00.000000000",
          "2014-01-26T23:30:00.000000000",
          "2014-01-27T00:00:00.000000000",
          "2014-01-27T00:30:00.000000000",
          "2014-01-27T01:00:00.000000000",
          "2014-01-27T01:30:00.000000000",
          "2014-01-27T02:00:00.000000000",
          "2014-01-27T02:30:00.000000000",
          "2014-01-27T03:00:00.000000000",
          "2014-01-27T03:30:00.000000000",
          "2014-01-27T04:00:00.000000000",
          "2014-01-27T04:30:00.000000000",
          "2014-01-27T05:00:00.000000000",
          "2014-01-27T05:30:00.000000000",
          "2014-01-27T06:00:00.000000000",
          "2014-01-27T06:30:00.000000000",
          "2014-01-27T07:00:00.000000000",
          "2014-01-27T07:30:00.000000000",
          "2014-01-27T08:00:00.000000000",
          "2014-01-27T08:30:00.000000000",
          "2014-01-27T09:00:00.000000000",
          "2014-01-27T09:30:00.000000000",
          "2014-01-27T10:00:00.000000000",
          "2014-01-27T10:30:00.000000000",
          "2014-01-27T11:00:00.000000000",
          "2014-01-27T11:30:00.000000000",
          "2014-01-27T12:00:00.000000000",
          "2014-01-27T12:30:00.000000000",
          "2014-01-27T13:00:00.000000000",
          "2014-01-27T13:30:00.000000000",
          "2014-01-27T14:00:00.000000000",
          "2014-01-27T14:30:00.000000000",
          "2014-01-27T15:00:00.000000000",
          "2014-01-27T15:30:00.000000000",
          "2014-01-27T16:00:00.000000000",
          "2014-01-27T16:30:00.000000000",
          "2014-01-27T17:00:00.000000000",
          "2014-01-27T17:30:00.000000000",
          "2014-01-27T18:00:00.000000000",
          "2014-01-27T18:30:00.000000000",
          "2014-01-27T19:00:00.000000000",
          "2014-01-27T19:30:00.000000000",
          "2014-01-27T20:00:00.000000000",
          "2014-01-27T20:30:00.000000000",
          "2014-01-27T21:00:00.000000000",
          "2014-01-27T21:30:00.000000000",
          "2014-01-27T22:00:00.000000000",
          "2014-01-27T22:30:00.000000000",
          "2014-01-27T23:00:00.000000000",
          "2014-01-27T23:30:00.000000000",
          "2014-01-28T00:00:00.000000000",
          "2014-01-28T00:30:00.000000000",
          "2014-01-28T01:00:00.000000000",
          "2014-01-28T01:30:00.000000000",
          "2014-01-28T02:00:00.000000000",
          "2014-01-28T02:30:00.000000000",
          "2014-01-28T03:00:00.000000000",
          "2014-01-28T03:30:00.000000000",
          "2014-01-28T04:00:00.000000000",
          "2014-01-28T04:30:00.000000000",
          "2014-01-28T05:00:00.000000000",
          "2014-01-28T05:30:00.000000000",
          "2014-01-28T06:00:00.000000000",
          "2014-01-28T06:30:00.000000000",
          "2014-01-28T07:00:00.000000000",
          "2014-01-28T07:30:00.000000000",
          "2014-01-28T08:00:00.000000000",
          "2014-01-28T08:30:00.000000000",
          "2014-01-28T09:00:00.000000000",
          "2014-01-28T09:30:00.000000000",
          "2014-01-28T10:00:00.000000000",
          "2014-01-28T10:30:00.000000000",
          "2014-01-28T11:00:00.000000000",
          "2014-01-28T11:30:00.000000000",
          "2014-01-28T12:00:00.000000000",
          "2014-01-28T12:30:00.000000000",
          "2014-01-28T13:00:00.000000000",
          "2014-01-28T13:30:00.000000000",
          "2014-01-28T14:00:00.000000000",
          "2014-01-28T14:30:00.000000000",
          "2014-01-28T15:00:00.000000000",
          "2014-01-28T15:30:00.000000000",
          "2014-01-28T16:00:00.000000000",
          "2014-01-28T16:30:00.000000000",
          "2014-01-28T17:00:00.000000000",
          "2014-01-28T17:30:00.000000000",
          "2014-01-28T18:00:00.000000000",
          "2014-01-28T18:30:00.000000000",
          "2014-01-28T19:00:00.000000000",
          "2014-01-28T19:30:00.000000000",
          "2014-01-28T20:00:00.000000000",
          "2014-01-28T20:30:00.000000000",
          "2014-01-28T21:00:00.000000000",
          "2014-01-28T21:30:00.000000000",
          "2014-01-28T22:00:00.000000000",
          "2014-01-28T22:30:00.000000000",
          "2014-01-28T23:00:00.000000000",
          "2014-01-28T23:30:00.000000000",
          "2014-01-29T00:00:00.000000000",
          "2014-01-29T00:30:00.000000000",
          "2014-01-29T01:00:00.000000000",
          "2014-01-29T01:30:00.000000000",
          "2014-01-29T02:00:00.000000000",
          "2014-01-29T02:30:00.000000000",
          "2014-01-29T03:00:00.000000000",
          "2014-01-29T03:30:00.000000000",
          "2014-01-29T04:00:00.000000000",
          "2014-01-29T04:30:00.000000000",
          "2014-01-29T05:00:00.000000000",
          "2014-01-29T05:30:00.000000000",
          "2014-01-29T06:00:00.000000000",
          "2014-01-29T06:30:00.000000000",
          "2014-01-29T07:00:00.000000000",
          "2014-01-29T07:30:00.000000000",
          "2014-01-29T08:00:00.000000000",
          "2014-01-29T08:30:00.000000000",
          "2014-01-29T09:00:00.000000000",
          "2014-01-29T09:30:00.000000000",
          "2014-01-29T10:00:00.000000000",
          "2014-01-29T10:30:00.000000000",
          "2014-01-29T11:00:00.000000000",
          "2014-01-29T11:30:00.000000000",
          "2014-01-29T12:00:00.000000000",
          "2014-01-29T12:30:00.000000000",
          "2014-01-29T13:00:00.000000000",
          "2014-01-29T13:30:00.000000000",
          "2014-01-29T14:00:00.000000000",
          "2014-01-29T14:30:00.000000000",
          "2014-01-29T15:00:00.000000000",
          "2014-01-29T15:30:00.000000000",
          "2014-01-29T16:00:00.000000000",
          "2014-01-29T16:30:00.000000000",
          "2014-01-29T17:00:00.000000000",
          "2014-01-29T17:30:00.000000000",
          "2014-01-29T18:00:00.000000000",
          "2014-01-29T18:30:00.000000000",
          "2014-01-29T19:00:00.000000000",
          "2014-01-29T19:30:00.000000000",
          "2014-01-29T20:00:00.000000000",
          "2014-01-29T20:30:00.000000000",
          "2014-01-29T21:00:00.000000000",
          "2014-01-29T21:30:00.000000000",
          "2014-01-29T22:00:00.000000000",
          "2014-01-29T22:30:00.000000000",
          "2014-01-29T23:00:00.000000000",
          "2014-01-29T23:30:00.000000000",
          "2014-01-30T00:00:00.000000000",
          "2014-01-30T00:30:00.000000000",
          "2014-01-30T01:00:00.000000000",
          "2014-01-30T01:30:00.000000000",
          "2014-01-30T02:00:00.000000000",
          "2014-01-30T02:30:00.000000000",
          "2014-01-30T03:00:00.000000000",
          "2014-01-30T03:30:00.000000000",
          "2014-01-30T04:00:00.000000000",
          "2014-01-30T04:30:00.000000000",
          "2014-01-30T05:00:00.000000000",
          "2014-01-30T05:30:00.000000000",
          "2014-01-30T06:00:00.000000000",
          "2014-01-30T06:30:00.000000000",
          "2014-01-30T07:00:00.000000000",
          "2014-01-30T07:30:00.000000000",
          "2014-01-30T08:00:00.000000000",
          "2014-01-30T08:30:00.000000000",
          "2014-01-30T09:00:00.000000000",
          "2014-01-30T09:30:00.000000000",
          "2014-01-30T10:00:00.000000000",
          "2014-01-30T10:30:00.000000000",
          "2014-01-30T11:00:00.000000000",
          "2014-01-30T11:30:00.000000000",
          "2014-01-30T12:00:00.000000000",
          "2014-01-30T12:30:00.000000000",
          "2014-01-30T13:00:00.000000000",
          "2014-01-30T13:30:00.000000000",
          "2014-01-30T14:00:00.000000000",
          "2014-01-30T14:30:00.000000000",
          "2014-01-30T15:00:00.000000000",
          "2014-01-30T15:30:00.000000000",
          "2014-01-30T16:00:00.000000000",
          "2014-01-30T16:30:00.000000000",
          "2014-01-30T17:00:00.000000000",
          "2014-01-30T17:30:00.000000000",
          "2014-01-30T18:00:00.000000000",
          "2014-01-30T18:30:00.000000000",
          "2014-01-30T19:00:00.000000000",
          "2014-01-30T19:30:00.000000000",
          "2014-01-30T20:00:00.000000000",
          "2014-01-30T20:30:00.000000000",
          "2014-01-30T21:00:00.000000000",
          "2014-01-30T21:30:00.000000000",
          "2014-01-30T22:00:00.000000000",
          "2014-01-30T22:30:00.000000000",
          "2014-01-30T23:00:00.000000000",
          "2014-01-30T23:30:00.000000000",
          "2014-01-31T00:00:00.000000000",
          "2014-01-31T00:30:00.000000000",
          "2014-01-31T01:00:00.000000000",
          "2014-01-31T01:30:00.000000000",
          "2014-01-31T02:00:00.000000000",
          "2014-01-31T02:30:00.000000000",
          "2014-01-31T03:00:00.000000000",
          "2014-01-31T03:30:00.000000000",
          "2014-01-31T04:00:00.000000000",
          "2014-01-31T04:30:00.000000000",
          "2014-01-31T05:00:00.000000000",
          "2014-01-31T05:30:00.000000000",
          "2014-01-31T06:00:00.000000000",
          "2014-01-31T06:30:00.000000000",
          "2014-01-31T07:00:00.000000000",
          "2014-01-31T07:30:00.000000000",
          "2014-01-31T08:00:00.000000000",
          "2014-01-31T08:30:00.000000000",
          "2014-01-31T09:00:00.000000000",
          "2014-01-31T09:30:00.000000000",
          "2014-01-31T10:00:00.000000000",
          "2014-01-31T10:30:00.000000000",
          "2014-01-31T11:00:00.000000000",
          "2014-01-31T11:30:00.000000000",
          "2014-01-31T12:00:00.000000000",
          "2014-01-31T12:30:00.000000000",
          "2014-01-31T13:00:00.000000000",
          "2014-01-31T13:30:00.000000000",
          "2014-01-31T14:00:00.000000000",
          "2014-01-31T14:30:00.000000000",
          "2014-01-31T15:00:00.000000000",
          "2014-01-31T15:30:00.000000000",
          "2014-01-31T16:00:00.000000000",
          "2014-01-31T16:30:00.000000000",
          "2014-01-31T17:00:00.000000000",
          "2014-01-31T17:30:00.000000000",
          "2014-01-31T18:00:00.000000000",
          "2014-01-31T18:30:00.000000000",
          "2014-01-31T19:00:00.000000000",
          "2014-01-31T19:30:00.000000000",
          "2014-01-31T20:00:00.000000000",
          "2014-01-31T20:30:00.000000000",
          "2014-01-31T21:00:00.000000000",
          "2014-01-31T21:30:00.000000000",
          "2014-01-31T22:00:00.000000000",
          "2014-01-31T22:30:00.000000000",
          "2014-01-31T23:00:00.000000000",
          "2014-01-31T23:30:00.000000000"
         ],
         "y": {
          "bdata": "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",
          "dtype": "f8"
         }
        }
       ],
       "layout": {
        "autosize": false,
        "height": 500,
        "legend": {
         "font": {
          "size": 15
         },
         "orientation": "h",
         "title": {},
         "x": 1,
         "xanchor": "right",
         "y": 0.98,
         "yanchor": "bottom"
        },
        "template": {
         "data": {
          "bar": [
           {
            "error_x": {
             "color": "#2a3f5f"
            },
            "error_y": {
             "color": "#2a3f5f"
            },
            "marker": {
             "line": {
              "color": "white",
              "width": 0.5
             },
             "pattern": {
              "fillmode": "overlay",
              "size": 10,
              "solidity": 0.2
             }
            },
            "type": "bar"
           }
          ],
          "barpolar": [
           {
            "marker": {
             "line": {
              "color": "white",
              "width": 0.5
             },
             "pattern": {
              "fillmode": "overlay",
              "size": 10,
              "solidity": 0.2
             }
            },
            "type": "barpolar"
           }
          ],
          "carpet": [
           {
            "aaxis": {
             "endlinecolor": "#2a3f5f",
             "gridcolor": "#C8D4E3",
             "linecolor": "#C8D4E3",
             "minorgridcolor": "#C8D4E3",
             "startlinecolor": "#2a3f5f"
            },
            "baxis": {
             "endlinecolor": "#2a3f5f",
             "gridcolor": "#C8D4E3",
             "linecolor": "#C8D4E3",
             "minorgridcolor": "#C8D4E3",
             "startlinecolor": "#2a3f5f"
            },
            "type": "carpet"
           }
          ],
          "choropleth": [
           {
            "colorbar": {
             "outlinewidth": 0,
             "ticks": ""
            },
            "type": "choropleth"
           }
          ],
          "contour": [
           {
            "colorbar": {
             "outlinewidth": 0,
             "ticks": ""
            },
            "colorscale": [
             [
              0,
              "#0d0887"
             ],
             [
              0.1111111111111111,
              "#46039f"
             ],
             [
              0.2222222222222222,
              "#7201a8"
             ],
             [
              0.3333333333333333,
              "#9c179e"
             ],
             [
              0.4444444444444444,
              "#bd3786"
             ],
             [
              0.5555555555555556,
              "#d8576b"
             ],
             [
              0.6666666666666666,
              "#ed7953"
             ],
             [
              0.7777777777777778,
              "#fb9f3a"
             ],
             [
              0.8888888888888888,
              "#fdca26"
             ],
             [
              1,
              "#f0f921"
             ]
            ],
            "type": "contour"
           }
          ],
          "contourcarpet": [
           {
            "colorbar": {
             "outlinewidth": 0,
             "ticks": ""
            },
            "type": "contourcarpet"
           }
          ],
          "heatmap": [
           {
            "colorbar": {
             "outlinewidth": 0,
             "ticks": ""
            },
            "colorscale": [
             [
              0,
              "#0d0887"
             ],
             [
              0.1111111111111111,
              "#46039f"
             ],
             [
              0.2222222222222222,
              "#7201a8"
             ],
             [
              0.3333333333333333,
              "#9c179e"
             ],
             [
              0.4444444444444444,
              "#bd3786"
             ],
             [
              0.5555555555555556,
              "#d8576b"
             ],
             [
              0.6666666666666666,
              "#ed7953"
             ],
             [
              0.7777777777777778,
              "#fb9f3a"
             ],
             [
              0.8888888888888888,
              "#fdca26"
             ],
             [
              1,
              "#f0f921"
             ]
            ],
            "type": "heatmap"
           }
          ],
          "histogram": [
           {
            "marker": {
             "pattern": {
              "fillmode": "overlay",
              "size": 10,
              "solidity": 0.2
             }
            },
            "type": "histogram"
           }
          ],
          "histogram2d": [
           {
            "colorbar": {
             "outlinewidth": 0,
             "ticks": ""
            },
            "colorscale": [
             [
              0,
              "#0d0887"
             ],
             [
              0.1111111111111111,
              "#46039f"
             ],
             [
              0.2222222222222222,
              "#7201a8"
             ],
             [
              0.3333333333333333,
              "#9c179e"
             ],
             [
              0.4444444444444444,
              "#bd3786"
             ],
             [
              0.5555555555555556,
              "#d8576b"
             ],
             [
              0.6666666666666666,
              "#ed7953"
             ],
             [
              0.7777777777777778,
              "#fb9f3a"
             ],
             [
              0.8888888888888888,
              "#fdca26"
             ],
             [
              1,
              "#f0f921"
             ]
            ],
            "type": "histogram2d"
           }
          ],
          "histogram2dcontour": [
           {
            "colorbar": {
             "outlinewidth": 0,
             "ticks": ""
            },
            "colorscale": [
             [
              0,
              "#0d0887"
             ],
             [
              0.1111111111111111,
              "#46039f"
             ],
             [
              0.2222222222222222,
              "#7201a8"
             ],
             [
              0.3333333333333333,
              "#9c179e"
             ],
             [
              0.4444444444444444,
              "#bd3786"
             ],
             [
              0.5555555555555556,
              "#d8576b"
             ],
             [
              0.6666666666666666,
              "#ed7953"
             ],
             [
              0.7777777777777778,
              "#fb9f3a"
             ],
             [
              0.8888888888888888,
              "#fdca26"
             ],
             [
              1,
              "#f0f921"
             ]
            ],
            "type": "histogram2dcontour"
           }
          ],
          "mesh3d": [
           {
            "colorbar": {
             "outlinewidth": 0,
             "ticks": ""
            },
            "type": "mesh3d"
           }
          ],
          "parcoords": [
           {
            "line": {
             "colorbar": {
              "outlinewidth": 0,
              "ticks": ""
             }
            },
            "type": "parcoords"
           }
          ],
          "pie": [
           {
            "automargin": true,
            "type": "pie"
           }
          ],
          "scatter": [
           {
            "fillpattern": {
             "fillmode": "overlay",
             "size": 10,
             "solidity": 0.2
            },
            "type": "scatter"
           }
          ],
          "scatter3d": [
           {
            "line": {
             "colorbar": {
              "outlinewidth": 0,
              "ticks": ""
             }
            },
            "marker": {
             "colorbar": {
              "outlinewidth": 0,
              "ticks": ""
             }
            },
            "type": "scatter3d"
           }
          ],
          "scattercarpet": [
           {
            "marker": {
             "colorbar": {
              "outlinewidth": 0,
              "ticks": ""
             }
            },
            "type": "scattercarpet"
           }
          ],
          "scattergeo": [
           {
            "marker": {
             "colorbar": {
              "outlinewidth": 0,
              "ticks": ""
             }
            },
            "type": "scattergeo"
           }
          ],
          "scattergl": [
           {
            "marker": {
             "colorbar": {
              "outlinewidth": 0,
              "ticks": ""
             }
            },
            "type": "scattergl"
           }
          ],
          "scattermap": [
           {
            "marker": {
             "colorbar": {
              "outlinewidth": 0,
              "ticks": ""
             }
            },
            "type": "scattermap"
           }
          ],
          "scattermapbox": [
           {
            "marker": {
             "colorbar": {
              "outlinewidth": 0,
              "ticks": ""
             }
            },
            "type": "scattermapbox"
           }
          ],
          "scatterpolar": [
           {
            "marker": {
             "colorbar": {
              "outlinewidth": 0,
              "ticks": ""
             }
            },
            "type": "scatterpolar"
           }
          ],
          "scatterpolargl": [
           {
            "marker": {
             "colorbar": {
              "outlinewidth": 0,
              "ticks": ""
             }
            },
            "type": "scatterpolargl"
           }
          ],
          "scatterternary": [
           {
            "marker": {
             "colorbar": {
              "outlinewidth": 0,
              "ticks": ""
             }
            },
            "type": "scatterternary"
           }
          ],
          "surface": [
           {
            "colorbar": {
             "outlinewidth": 0,
             "ticks": ""
            },
            "colorscale": [
             [
              0,
              "#0d0887"
             ],
             [
              0.1111111111111111,
              "#46039f"
             ],
             [
              0.2222222222222222,
              "#7201a8"
             ],
             [
              0.3333333333333333,
              "#9c179e"
             ],
             [
              0.4444444444444444,
              "#bd3786"
             ],
             [
              0.5555555555555556,
              "#d8576b"
             ],
             [
              0.6666666666666666,
              "#ed7953"
             ],
             [
              0.7777777777777778,
              "#fb9f3a"
             ],
             [
              0.8888888888888888,
              "#fdca26"
             ],
             [
              1,
              "#f0f921"
             ]
            ],
            "type": "surface"
           }
          ],
          "table": [
           {
            "cells": {
             "fill": {
              "color": "#EBF0F8"
             },
             "line": {
              "color": "white"
             }
            },
            "header": {
             "fill": {
              "color": "#C8D4E3"
             },
             "line": {
              "color": "white"
             }
            },
            "type": "table"
           }
          ]
         },
         "layout": {
          "annotationdefaults": {
           "arrowcolor": "#2a3f5f",
           "arrowhead": 0,
           "arrowwidth": 1
          },
          "autotypenumbers": "strict",
          "coloraxis": {
           "colorbar": {
            "outlinewidth": 0,
            "ticks": ""
           }
          },
          "colorscale": {
           "diverging": [
            [
             0,
             "#8e0152"
            ],
            [
             0.1,
             "#c51b7d"
            ],
            [
             0.2,
             "#de77ae"
            ],
            [
             0.3,
             "#f1b6da"
            ],
            [
             0.4,
             "#fde0ef"
            ],
            [
             0.5,
             "#f7f7f7"
            ],
            [
             0.6,
             "#e6f5d0"
            ],
            [
             0.7,
             "#b8e186"
            ],
            [
             0.8,
             "#7fbc41"
            ],
            [
             0.9,
             "#4d9221"
            ],
            [
             1,
             "#276419"
            ]
           ],
           "sequential": [
            [
             0,
             "#0d0887"
            ],
            [
             0.1111111111111111,
             "#46039f"
            ],
            [
             0.2222222222222222,
             "#7201a8"
            ],
            [
             0.3333333333333333,
             "#9c179e"
            ],
            [
             0.4444444444444444,
             "#bd3786"
            ],
            [
             0.5555555555555556,
             "#d8576b"
            ],
            [
             0.6666666666666666,
             "#ed7953"
            ],
            [
             0.7777777777777778,
             "#fb9f3a"
            ],
            [
             0.8888888888888888,
             "#fdca26"
            ],
            [
             1,
             "#f0f921"
            ]
           ],
           "sequentialminus": [
            [
             0,
             "#0d0887"
            ],
            [
             0.1111111111111111,
             "#46039f"
            ],
            [
             0.2222222222222222,
             "#7201a8"
            ],
            [
             0.3333333333333333,
             "#9c179e"
            ],
            [
             0.4444444444444444,
             "#bd3786"
            ],
            [
             0.5555555555555556,
             "#d8576b"
            ],
            [
             0.6666666666666666,
             "#ed7953"
            ],
            [
             0.7777777777777778,
             "#fb9f3a"
            ],
            [
             0.8888888888888888,
             "#fdca26"
            ],
            [
             1,
             "#f0f921"
            ]
           ]
          },
          "colorway": [
           "#636efa",
           "#EF553B",
           "#00cc96",
           "#ab63fa",
           "#FFA15A",
           "#19d3f3",
           "#FF6692",
           "#B6E880",
           "#FF97FF",
           "#FECB52"
          ],
          "font": {
           "color": "#2a3f5f"
          },
          "geo": {
           "bgcolor": "white",
           "lakecolor": "white",
           "landcolor": "white",
           "showlakes": true,
           "showland": true,
           "subunitcolor": "#C8D4E3"
          },
          "hoverlabel": {
           "align": "left"
          },
          "hovermode": "closest",
          "mapbox": {
           "style": "light"
          },
          "paper_bgcolor": "white",
          "plot_bgcolor": "white",
          "polar": {
           "angularaxis": {
            "gridcolor": "#EBF0F8",
            "linecolor": "#EBF0F8",
            "ticks": ""
           },
           "bgcolor": "white",
           "radialaxis": {
            "gridcolor": "#EBF0F8",
            "linecolor": "#EBF0F8",
            "ticks": ""
           }
          },
          "scene": {
           "xaxis": {
            "backgroundcolor": "white",
            "gridcolor": "#DFE8F3",
            "gridwidth": 2,
            "linecolor": "#EBF0F8",
            "showbackground": true,
            "ticks": "",
            "zerolinecolor": "#EBF0F8"
           },
           "yaxis": {
            "backgroundcolor": "white",
            "gridcolor": "#DFE8F3",
            "gridwidth": 2,
            "linecolor": "#EBF0F8",
            "showbackground": true,
            "ticks": "",
            "zerolinecolor": "#EBF0F8"
           },
           "zaxis": {
            "backgroundcolor": "white",
            "gridcolor": "#DFE8F3",
            "gridwidth": 2,
            "linecolor": "#EBF0F8",
            "showbackground": true,
            "ticks": "",
            "zerolinecolor": "#EBF0F8"
           }
          },
          "shapedefaults": {
           "line": {
            "color": "#2a3f5f"
           }
          },
          "ternary": {
           "aaxis": {
            "gridcolor": "#DFE8F3",
            "linecolor": "#A2B1C6",
            "ticks": ""
           },
           "baxis": {
            "gridcolor": "#DFE8F3",
            "linecolor": "#A2B1C6",
            "ticks": ""
           },
           "bgcolor": "white",
           "caxis": {
            "gridcolor": "#DFE8F3",
            "linecolor": "#A2B1C6",
            "ticks": ""
           }
          },
          "title": {
           "x": 0.05
          },
          "xaxis": {
           "automargin": true,
           "gridcolor": "#EBF0F8",
           "linecolor": "#EBF0F8",
           "ticks": "",
           "title": {
            "standoff": 15
           },
           "zerolinecolor": "#EBF0F8",
           "zerolinewidth": 2
          },
          "yaxis": {
           "automargin": true,
           "gridcolor": "#EBF0F8",
           "linecolor": "#EBF0F8",
           "ticks": "",
           "title": {
            "standoff": 15
           },
           "zerolinecolor": "#EBF0F8",
           "zerolinewidth": 2
          }
         }
        },
        "title": {
         "text": "ARIMA: MAE: 0.2037 | MSE: 0.1065 | BIAS: 25.4165"
        },
        "width": 900,
        "xaxis": {
         "range": [
          "2014-01-01",
          "2014-01-08"
         ],
         "tickfont": {
          "size": 15
         },
         "title": {
          "font": {
           "size": 15
          },
          "text": "Day"
         },
         "type": "date"
        },
        "yaxis": {
         "tickfont": {
          "size": 15
         },
         "title": {
          "font": {
           "size": 15
          },
          "text": "Value"
         }
        }
       }
      }
     },
     "metadata": {},
     "output_type": "display_data"
    }
   ],
   "source": [
    "## ARIMA\n",
    "model_name = ['ARIMA']\n",
    "model_display_name = ['ARIMA']\n",
    "\n",
    "fig = plot_forecast(results, forecast_columns=model_name, forecast_display_names=model_display_name, timestamp_col ='timestamp')\n",
    "fig = format_plot(fig)\n",
    "fig.update_layout(\n",
    "    title=f\"{model_name[0]}: \"\\\n",
    "          f\"MAE: {metrics.loc[metrics.Model==model_name[0]][['mean_absolute_error']].iloc[0].item():.4f} | \"\\\n",
    "          f\"MSE: {metrics.loc[metrics.Model==model_name[0]][['mean_squared_error']].iloc[0].item():.4f} | \"\\\n",
    "          f\"BIAS: {metrics.loc[metrics.Model==model_name[0]][['forecast_bias']].iloc[0].item():.4f}\"\n",
    ")\n",
    "fig.update_xaxes(type=\"date\", range=[\"2014-01-01\", \"2014-01-08\"])\n",
    "fig.write_image(dst_img/\"arima.png\")\n",
    "fig.show()"
   ]
  },
  {
   "cell_type": "markdown",
   "id": "54339847",
   "metadata": {},
   "source": [
    "# Parameter Tuning"
   ]
  },
  {
   "cell_type": "code",
   "execution_count": 37,
   "id": "9df4ce18",
   "metadata": {},
   "outputs": [],
   "source": [
    "# # Defining the parameters\n",
    "# param_grid = {'p': [1,2],\n",
    "#               'd': [0,1],\n",
    "#               'q': [1,2],\n",
    "#               'P': [1,2],\n",
    "#               'D': [0],\n",
    "#               'Q': [1]}\n",
    "# grid = ParameterGrid(param_grid)\n",
    "# len(list(grid))"
   ]
  },
  {
   "cell_type": "code",
   "execution_count": 38,
   "id": "1c2108a6",
   "metadata": {},
   "outputs": [],
   "source": [
    "# # Initialize an empty list to store RMSE values for each parameter set\n",
    "# rmse_list = []\n",
    "# pred_df = pd.concat([ts_train, ts_val])\n",
    "# # First, convert the timestamp column to datetime format\n",
    "# pred_df['timestamp'] = pd.to_datetime(pred_df['timestamp'])\n",
    "# # Set the timestamp column as the index\n",
    "# pred_df = pred_df.set_index('timestamp')\n",
    "# pred_df = pred_df.drop(['LCLid'], axis=1)\n",
    "\n",
    "# # Iterate over each set of parameters in the grid\n",
    "# for params in grid:\n",
    "\n",
    "#   # Build an ARIMA model with the current set of parameters\n",
    "#   model = pm_ARIMA(order=(params['p'], params['d'], params['q']),\n",
    "#                 seasonal_order=(params['P'], params['D'], params['Q'], 48))\n",
    "\n",
    "#   # Define the Rolling Forecast Cross-Validation strategy\n",
    "#   cv = model_selection.RollingForecastCV(h=60,\n",
    "#                                          step=30,\n",
    "#                                          initial=pred_df.shape[0] - 360)\n",
    "\n",
    "#   # Perform cross-validation scoring with the ARIMA model\n",
    "#   cv_score = model_selection.cross_val_score(model,\n",
    "#                                              y=pred_df['energy_consumption_imputed'],  # Target variable 'y'\n",
    "#                                              scoring='mean_squared_error',  # Evaluation metric: Mean Squared Error\n",
    "#                                              cv=cv,  # Cross-validation strategy\n",
    "#                                              verbose=1,  # Verbosity level\n",
    "#                                              error_score=10000000000000000000000  # Value to assign if fitting error occurs\n",
    "#                                              )\n",
    "\n",
    "#   # Calculate RMSE and store the error\n",
    "#   rmse = np.sqrt(np.average(cv_score))\n",
    "#   rmse_list.append(rmse)"
   ]
  },
  {
   "cell_type": "code",
   "execution_count": 39,
   "id": "86f2bb22",
   "metadata": {},
   "outputs": [],
   "source": [
    "# # Create a DataFrame to store the tuning results with parameters and corresponding RMSE values\n",
    "# tuning_results = pd.DataFrame(grid)\n",
    "\n",
    "# # Add the RMSE values calculated during parameter tuning to the DataFrame\n",
    "# tuning_results['rmse'] = rmse_list\n",
    "\n",
    "# tuning_results"
   ]
  },
  {
   "cell_type": "code",
   "execution_count": 40,
   "id": "df6fc866",
   "metadata": {},
   "outputs": [],
   "source": [
    "# # Save the best parameters\n",
    "# best_params = tuning_results[tuning_results['rmse'] == tuning_results['rmse'].min()].transpose()\n",
    "# best_params"
   ]
  },
  {
   "cell_type": "code",
   "execution_count": 41,
   "id": "71efc514",
   "metadata": {},
   "outputs": [],
   "source": [
    "# # Fetch the best parameters\n",
    "# p = int(best_params.loc['p'].iloc[0])\n",
    "# d = int(best_params.loc['d'].iloc[0])\n",
    "# q = int(best_params.loc['q'].iloc[0])\n",
    "# P = int(best_params.loc['P'].iloc[0])\n",
    "# D = int(best_params.loc['D'].iloc[0])\n",
    "# Q = int(best_params.loc['Q'].iloc[0])"
   ]
  },
  {
   "cell_type": "markdown",
   "id": "508ff493",
   "metadata": {},
   "source": [
    "## AutoETS"
   ]
  },
  {
   "cell_type": "code",
   "execution_count": 42,
   "id": "d35a6ea7",
   "metadata": {},
   "outputs": [],
   "source": [
    "results, metrics = (\n",
    "    evaluate_performance(\n",
    "        ts_train,\n",
    "        ts_val,\n",
    "        models = [ AutoETS(model = 'AAA',season_length = 48)],\n",
    "        metrics = [mae, mse, rmse, forecast_bias],\n",
    "        freq = freq,\n",
    "        level = [] ,\n",
    "        id_col = 'LCLid',\n",
    "        time_col = 'timestamp',\n",
    "        target_col = 'energy_consumption_imputed',\n",
    "        h = len(ts_val),\n",
    "        metric_df=metrics  # Pass None or an existing DataFrame if you want to append results\n",
    "        )\n",
    ")"
   ]
  },
  {
   "cell_type": "code",
   "execution_count": null,
   "id": "45f9b725",
   "metadata": {},
   "outputs": [
    {
     "data": {
      "application/vnd.plotly.v1+json": {
       "config": {
        "plotlyServerURL": "https://plot.ly"
       },
       "data": [
        {
         "line": {
          "color": "rgba(27,158,119, 0.3)"
         },
         "mode": "lines",
         "name": "Actual Consumption",
         "type": "scatter",
         "x": [
          "2014-01-01T00:00:00.000000000",
          "2014-01-01T00:30:00.000000000",
          "2014-01-01T01:00:00.000000000",
          "2014-01-01T01:30:00.000000000",
          "2014-01-01T02:00:00.000000000",
          "2014-01-01T02:30:00.000000000",
          "2014-01-01T03:00:00.000000000",
          "2014-01-01T03:30:00.000000000",
          "2014-01-01T04:00:00.000000000",
          "2014-01-01T04:30:00.000000000",
          "2014-01-01T05:00:00.000000000",
          "2014-01-01T05:30:00.000000000",
          "2014-01-01T06:00:00.000000000",
          "2014-01-01T06:30:00.000000000",
          "2014-01-01T07:00:00.000000000",
          "2014-01-01T07:30:00.000000000",
          "2014-01-01T08:00:00.000000000",
          "2014-01-01T08:30:00.000000000",
          "2014-01-01T09:00:00.000000000",
          "2014-01-01T09:30:00.000000000",
          "2014-01-01T10:00:00.000000000",
          "2014-01-01T10:30:00.000000000",
          "2014-01-01T11:00:00.000000000",
          "2014-01-01T11:30:00.000000000",
          "2014-01-01T12:00:00.000000000",
          "2014-01-01T12:30:00.000000000",
          "2014-01-01T13:00:00.000000000",
          "2014-01-01T13:30:00.000000000",
          "2014-01-01T14:00:00.000000000",
          "2014-01-01T14:30:00.000000000",
          "2014-01-01T15:00:00.000000000",
          "2014-01-01T15:30:00.000000000",
          "2014-01-01T16:00:00.000000000",
          "2014-01-01T16:30:00.000000000",
          "2014-01-01T17:00:00.000000000",
          "2014-01-01T17:30:00.000000000",
          "2014-01-01T18:00:00.000000000",
          "2014-01-01T18:30:00.000000000",
          "2014-01-01T19:00:00.000000000",
          "2014-01-01T19:30:00.000000000",
          "2014-01-01T20:00:00.000000000",
          "2014-01-01T20:30:00.000000000",
          "2014-01-01T21:00:00.000000000",
          "2014-01-01T21:30:00.000000000",
          "2014-01-01T22:00:00.000000000",
          "2014-01-01T22:30:00.000000000",
          "2014-01-01T23:00:00.000000000",
          "2014-01-01T23:30:00.000000000",
          "2014-01-02T00:00:00.000000000",
          "2014-01-02T00:30:00.000000000",
          "2014-01-02T01:00:00.000000000",
          "2014-01-02T01:30:00.000000000",
          "2014-01-02T02:00:00.000000000",
          "2014-01-02T02:30:00.000000000",
          "2014-01-02T03:00:00.000000000",
          "2014-01-02T03:30:00.000000000",
          "2014-01-02T04:00:00.000000000",
          "2014-01-02T04:30:00.000000000",
          "2014-01-02T05:00:00.000000000",
          "2014-01-02T05:30:00.000000000",
          "2014-01-02T06:00:00.000000000",
          "2014-01-02T06:30:00.000000000",
          "2014-01-02T07:00:00.000000000",
          "2014-01-02T07:30:00.000000000",
          "2014-01-02T08:00:00.000000000",
          "2014-01-02T08:30:00.000000000",
          "2014-01-02T09:00:00.000000000",
          "2014-01-02T09:30:00.000000000",
          "2014-01-02T10:00:00.000000000",
          "2014-01-02T10:30:00.000000000",
          "2014-01-02T11:00:00.000000000",
          "2014-01-02T11:30:00.000000000",
          "2014-01-02T12:00:00.000000000",
          "2014-01-02T12:30:00.000000000",
          "2014-01-02T13:00:00.000000000",
          "2014-01-02T13:30:00.000000000",
          "2014-01-02T14:00:00.000000000",
          "2014-01-02T14:30:00.000000000",
          "2014-01-02T15:00:00.000000000",
          "2014-01-02T15:30:00.000000000",
          "2014-01-02T16:00:00.000000000",
          "2014-01-02T16:30:00.000000000",
          "2014-01-02T17:00:00.000000000",
          "2014-01-02T17:30:00.000000000",
          "2014-01-02T18:00:00.000000000",
          "2014-01-02T18:30:00.000000000",
          "2014-01-02T19:00:00.000000000",
          "2014-01-02T19:30:00.000000000",
          "2014-01-02T20:00:00.000000000",
          "2014-01-02T20:30:00.000000000",
          "2014-01-02T21:00:00.000000000",
          "2014-01-02T21:30:00.000000000",
          "2014-01-02T22:00:00.000000000",
          "2014-01-02T22:30:00.000000000",
          "2014-01-02T23:00:00.000000000",
          "2014-01-02T23:30:00.000000000",
          "2014-01-03T00:00:00.000000000",
          "2014-01-03T00:30:00.000000000",
          "2014-01-03T01:00:00.000000000",
          "2014-01-03T01:30:00.000000000",
          "2014-01-03T02:00:00.000000000",
          "2014-01-03T02:30:00.000000000",
          "2014-01-03T03:00:00.000000000",
          "2014-01-03T03:30:00.000000000",
          "2014-01-03T04:00:00.000000000",
          "2014-01-03T04:30:00.000000000",
          "2014-01-03T05:00:00.000000000",
          "2014-01-03T05:30:00.000000000",
          "2014-01-03T06:00:00.000000000",
          "2014-01-03T06:30:00.000000000",
          "2014-01-03T07:00:00.000000000",
          "2014-01-03T07:30:00.000000000",
          "2014-01-03T08:00:00.000000000",
          "2014-01-03T08:30:00.000000000",
          "2014-01-03T09:00:00.000000000",
          "2014-01-03T09:30:00.000000000",
          "2014-01-03T10:00:00.000000000",
          "2014-01-03T10:30:00.000000000",
          "2014-01-03T11:00:00.000000000",
          "2014-01-03T11:30:00.000000000",
          "2014-01-03T12:00:00.000000000",
          "2014-01-03T12:30:00.000000000",
          "2014-01-03T13:00:00.000000000",
          "2014-01-03T13:30:00.000000000",
          "2014-01-03T14:00:00.000000000",
          "2014-01-03T14:30:00.000000000",
          "2014-01-03T15:00:00.000000000",
          "2014-01-03T15:30:00.000000000",
          "2014-01-03T16:00:00.000000000",
          "2014-01-03T16:30:00.000000000",
          "2014-01-03T17:00:00.000000000",
          "2014-01-03T17:30:00.000000000",
          "2014-01-03T18:00:00.000000000",
          "2014-01-03T18:30:00.000000000",
          "2014-01-03T19:00:00.000000000",
          "2014-01-03T19:30:00.000000000",
          "2014-01-03T20:00:00.000000000",
          "2014-01-03T20:30:00.000000000",
          "2014-01-03T21:00:00.000000000",
          "2014-01-03T21:30:00.000000000",
          "2014-01-03T22:00:00.000000000",
          "2014-01-03T22:30:00.000000000",
          "2014-01-03T23:00:00.000000000",
          "2014-01-03T23:30:00.000000000",
          "2014-01-04T00:00:00.000000000",
          "2014-01-04T00:30:00.000000000",
          "2014-01-04T01:00:00.000000000",
          "2014-01-04T01:30:00.000000000",
          "2014-01-04T02:00:00.000000000",
          "2014-01-04T02:30:00.000000000",
          "2014-01-04T03:00:00.000000000",
          "2014-01-04T03:30:00.000000000",
          "2014-01-04T04:00:00.000000000",
          "2014-01-04T04:30:00.000000000",
          "2014-01-04T05:00:00.000000000",
          "2014-01-04T05:30:00.000000000",
          "2014-01-04T06:00:00.000000000",
          "2014-01-04T06:30:00.000000000",
          "2014-01-04T07:00:00.000000000",
          "2014-01-04T07:30:00.000000000",
          "2014-01-04T08:00:00.000000000",
          "2014-01-04T08:30:00.000000000",
          "2014-01-04T09:00:00.000000000",
          "2014-01-04T09:30:00.000000000",
          "2014-01-04T10:00:00.000000000",
          "2014-01-04T10:30:00.000000000",
          "2014-01-04T11:00:00.000000000",
          "2014-01-04T11:30:00.000000000",
          "2014-01-04T12:00:00.000000000",
          "2014-01-04T12:30:00.000000000",
          "2014-01-04T13:00:00.000000000",
          "2014-01-04T13:30:00.000000000",
          "2014-01-04T14:00:00.000000000",
          "2014-01-04T14:30:00.000000000",
          "2014-01-04T15:00:00.000000000",
          "2014-01-04T15:30:00.000000000",
          "2014-01-04T16:00:00.000000000",
          "2014-01-04T16:30:00.000000000",
          "2014-01-04T17:00:00.000000000",
          "2014-01-04T17:30:00.000000000",
          "2014-01-04T18:00:00.000000000",
          "2014-01-04T18:30:00.000000000",
          "2014-01-04T19:00:00.000000000",
          "2014-01-04T19:30:00.000000000",
          "2014-01-04T20:00:00.000000000",
          "2014-01-04T20:30:00.000000000",
          "2014-01-04T21:00:00.000000000",
          "2014-01-04T21:30:00.000000000",
          "2014-01-04T22:00:00.000000000",
          "2014-01-04T22:30:00.000000000",
          "2014-01-04T23:00:00.000000000",
          "2014-01-04T23:30:00.000000000",
          "2014-01-05T00:00:00.000000000",
          "2014-01-05T00:30:00.000000000",
          "2014-01-05T01:00:00.000000000",
          "2014-01-05T01:30:00.000000000",
          "2014-01-05T02:00:00.000000000",
          "2014-01-05T02:30:00.000000000",
          "2014-01-05T03:00:00.000000000",
          "2014-01-05T03:30:00.000000000",
          "2014-01-05T04:00:00.000000000",
          "2014-01-05T04:30:00.000000000",
          "2014-01-05T05:00:00.000000000",
          "2014-01-05T05:30:00.000000000",
          "2014-01-05T06:00:00.000000000",
          "2014-01-05T06:30:00.000000000",
          "2014-01-05T07:00:00.000000000",
          "2014-01-05T07:30:00.000000000",
          "2014-01-05T08:00:00.000000000",
          "2014-01-05T08:30:00.000000000",
          "2014-01-05T09:00:00.000000000",
          "2014-01-05T09:30:00.000000000",
          "2014-01-05T10:00:00.000000000",
          "2014-01-05T10:30:00.000000000",
          "2014-01-05T11:00:00.000000000",
          "2014-01-05T11:30:00.000000000",
          "2014-01-05T12:00:00.000000000",
          "2014-01-05T12:30:00.000000000",
          "2014-01-05T13:00:00.000000000",
          "2014-01-05T13:30:00.000000000",
          "2014-01-05T14:00:00.000000000",
          "2014-01-05T14:30:00.000000000",
          "2014-01-05T15:00:00.000000000",
          "2014-01-05T15:30:00.000000000",
          "2014-01-05T16:00:00.000000000",
          "2014-01-05T16:30:00.000000000",
          "2014-01-05T17:00:00.000000000",
          "2014-01-05T17:30:00.000000000",
          "2014-01-05T18:00:00.000000000",
          "2014-01-05T18:30:00.000000000",
          "2014-01-05T19:00:00.000000000",
          "2014-01-05T19:30:00.000000000",
          "2014-01-05T20:00:00.000000000",
          "2014-01-05T20:30:00.000000000",
          "2014-01-05T21:00:00.000000000",
          "2014-01-05T21:30:00.000000000",
          "2014-01-05T22:00:00.000000000",
          "2014-01-05T22:30:00.000000000",
          "2014-01-05T23:00:00.000000000",
          "2014-01-05T23:30:00.000000000",
          "2014-01-06T00:00:00.000000000",
          "2014-01-06T00:30:00.000000000",
          "2014-01-06T01:00:00.000000000",
          "2014-01-06T01:30:00.000000000",
          "2014-01-06T02:00:00.000000000",
          "2014-01-06T02:30:00.000000000",
          "2014-01-06T03:00:00.000000000",
          "2014-01-06T03:30:00.000000000",
          "2014-01-06T04:00:00.000000000",
          "2014-01-06T04:30:00.000000000",
          "2014-01-06T05:00:00.000000000",
          "2014-01-06T05:30:00.000000000",
          "2014-01-06T06:00:00.000000000",
          "2014-01-06T06:30:00.000000000",
          "2014-01-06T07:00:00.000000000",
          "2014-01-06T07:30:00.000000000",
          "2014-01-06T08:00:00.000000000",
          "2014-01-06T08:30:00.000000000",
          "2014-01-06T09:00:00.000000000",
          "2014-01-06T09:30:00.000000000",
          "2014-01-06T10:00:00.000000000",
          "2014-01-06T10:30:00.000000000",
          "2014-01-06T11:00:00.000000000",
          "2014-01-06T11:30:00.000000000",
          "2014-01-06T12:00:00.000000000",
          "2014-01-06T12:30:00.000000000",
          "2014-01-06T13:00:00.000000000",
          "2014-01-06T13:30:00.000000000",
          "2014-01-06T14:00:00.000000000",
          "2014-01-06T14:30:00.000000000",
          "2014-01-06T15:00:00.000000000",
          "2014-01-06T15:30:00.000000000",
          "2014-01-06T16:00:00.000000000",
          "2014-01-06T16:30:00.000000000",
          "2014-01-06T17:00:00.000000000",
          "2014-01-06T17:30:00.000000000",
          "2014-01-06T18:00:00.000000000",
          "2014-01-06T18:30:00.000000000",
          "2014-01-06T19:00:00.000000000",
          "2014-01-06T19:30:00.000000000",
          "2014-01-06T20:00:00.000000000",
          "2014-01-06T20:30:00.000000000",
          "2014-01-06T21:00:00.000000000",
          "2014-01-06T21:30:00.000000000",
          "2014-01-06T22:00:00.000000000",
          "2014-01-06T22:30:00.000000000",
          "2014-01-06T23:00:00.000000000",
          "2014-01-06T23:30:00.000000000",
          "2014-01-07T00:00:00.000000000",
          "2014-01-07T00:30:00.000000000",
          "2014-01-07T01:00:00.000000000",
          "2014-01-07T01:30:00.000000000",
          "2014-01-07T02:00:00.000000000",
          "2014-01-07T02:30:00.000000000",
          "2014-01-07T03:00:00.000000000",
          "2014-01-07T03:30:00.000000000",
          "2014-01-07T04:00:00.000000000",
          "2014-01-07T04:30:00.000000000",
          "2014-01-07T05:00:00.000000000",
          "2014-01-07T05:30:00.000000000",
          "2014-01-07T06:00:00.000000000",
          "2014-01-07T06:30:00.000000000",
          "2014-01-07T07:00:00.000000000",
          "2014-01-07T07:30:00.000000000",
          "2014-01-07T08:00:00.000000000",
          "2014-01-07T08:30:00.000000000",
          "2014-01-07T09:00:00.000000000",
          "2014-01-07T09:30:00.000000000",
          "2014-01-07T10:00:00.000000000",
          "2014-01-07T10:30:00.000000000",
          "2014-01-07T11:00:00.000000000",
          "2014-01-07T11:30:00.000000000",
          "2014-01-07T12:00:00.000000000",
          "2014-01-07T12:30:00.000000000",
          "2014-01-07T13:00:00.000000000",
          "2014-01-07T13:30:00.000000000",
          "2014-01-07T14:00:00.000000000",
          "2014-01-07T14:30:00.000000000",
          "2014-01-07T15:00:00.000000000",
          "2014-01-07T15:30:00.000000000",
          "2014-01-07T16:00:00.000000000",
          "2014-01-07T16:30:00.000000000",
          "2014-01-07T17:00:00.000000000",
          "2014-01-07T17:30:00.000000000",
          "2014-01-07T18:00:00.000000000",
          "2014-01-07T18:30:00.000000000",
          "2014-01-07T19:00:00.000000000",
          "2014-01-07T19:30:00.000000000",
          "2014-01-07T20:00:00.000000000",
          "2014-01-07T20:30:00.000000000",
          "2014-01-07T21:00:00.000000000",
          "2014-01-07T21:30:00.000000000",
          "2014-01-07T22:00:00.000000000",
          "2014-01-07T22:30:00.000000000",
          "2014-01-07T23:00:00.000000000",
          "2014-01-07T23:30:00.000000000",
          "2014-01-08T00:00:00.000000000",
          "2014-01-08T00:30:00.000000000",
          "2014-01-08T01:00:00.000000000",
          "2014-01-08T01:30:00.000000000",
          "2014-01-08T02:00:00.000000000",
          "2014-01-08T02:30:00.000000000",
          "2014-01-08T03:00:00.000000000",
          "2014-01-08T03:30:00.000000000",
          "2014-01-08T04:00:00.000000000",
          "2014-01-08T04:30:00.000000000",
          "2014-01-08T05:00:00.000000000",
          "2014-01-08T05:30:00.000000000",
          "2014-01-08T06:00:00.000000000",
          "2014-01-08T06:30:00.000000000",
          "2014-01-08T07:00:00.000000000",
          "2014-01-08T07:30:00.000000000",
          "2014-01-08T08:00:00.000000000",
          "2014-01-08T08:30:00.000000000",
          "2014-01-08T09:00:00.000000000",
          "2014-01-08T09:30:00.000000000",
          "2014-01-08T10:00:00.000000000",
          "2014-01-08T10:30:00.000000000",
          "2014-01-08T11:00:00.000000000",
          "2014-01-08T11:30:00.000000000",
          "2014-01-08T12:00:00.000000000",
          "2014-01-08T12:30:00.000000000",
          "2014-01-08T13:00:00.000000000",
          "2014-01-08T13:30:00.000000000",
          "2014-01-08T14:00:00.000000000",
          "2014-01-08T14:30:00.000000000",
          "2014-01-08T15:00:00.000000000",
          "2014-01-08T15:30:00.000000000",
          "2014-01-08T16:00:00.000000000",
          "2014-01-08T16:30:00.000000000",
          "2014-01-08T17:00:00.000000000",
          "2014-01-08T17:30:00.000000000",
          "2014-01-08T18:00:00.000000000",
          "2014-01-08T18:30:00.000000000",
          "2014-01-08T19:00:00.000000000",
          "2014-01-08T19:30:00.000000000",
          "2014-01-08T20:00:00.000000000",
          "2014-01-08T20:30:00.000000000",
          "2014-01-08T21:00:00.000000000",
          "2014-01-08T21:30:00.000000000",
          "2014-01-08T22:00:00.000000000",
          "2014-01-08T22:30:00.000000000",
          "2014-01-08T23:00:00.000000000",
          "2014-01-08T23:30:00.000000000",
          "2014-01-09T00:00:00.000000000",
          "2014-01-09T00:30:00.000000000",
          "2014-01-09T01:00:00.000000000",
          "2014-01-09T01:30:00.000000000",
          "2014-01-09T02:00:00.000000000",
          "2014-01-09T02:30:00.000000000",
          "2014-01-09T03:00:00.000000000",
          "2014-01-09T03:30:00.000000000",
          "2014-01-09T04:00:00.000000000",
          "2014-01-09T04:30:00.000000000",
          "2014-01-09T05:00:00.000000000",
          "2014-01-09T05:30:00.000000000",
          "2014-01-09T06:00:00.000000000",
          "2014-01-09T06:30:00.000000000",
          "2014-01-09T07:00:00.000000000",
          "2014-01-09T07:30:00.000000000",
          "2014-01-09T08:00:00.000000000",
          "2014-01-09T08:30:00.000000000",
          "2014-01-09T09:00:00.000000000",
          "2014-01-09T09:30:00.000000000",
          "2014-01-09T10:00:00.000000000",
          "2014-01-09T10:30:00.000000000",
          "2014-01-09T11:00:00.000000000",
          "2014-01-09T11:30:00.000000000",
          "2014-01-09T12:00:00.000000000",
          "2014-01-09T12:30:00.000000000",
          "2014-01-09T13:00:00.000000000",
          "2014-01-09T13:30:00.000000000",
          "2014-01-09T14:00:00.000000000",
          "2014-01-09T14:30:00.000000000",
          "2014-01-09T15:00:00.000000000",
          "2014-01-09T15:30:00.000000000",
          "2014-01-09T16:00:00.000000000",
          "2014-01-09T16:30:00.000000000",
          "2014-01-09T17:00:00.000000000",
          "2014-01-09T17:30:00.000000000",
          "2014-01-09T18:00:00.000000000",
          "2014-01-09T18:30:00.000000000",
          "2014-01-09T19:00:00.000000000",
          "2014-01-09T19:30:00.000000000",
          "2014-01-09T20:00:00.000000000",
          "2014-01-09T20:30:00.000000000",
          "2014-01-09T21:00:00.000000000",
          "2014-01-09T21:30:00.000000000",
          "2014-01-09T22:00:00.000000000",
          "2014-01-09T22:30:00.000000000",
          "2014-01-09T23:00:00.000000000",
          "2014-01-09T23:30:00.000000000",
          "2014-01-10T00:00:00.000000000",
          "2014-01-10T00:30:00.000000000",
          "2014-01-10T01:00:00.000000000",
          "2014-01-10T01:30:00.000000000",
          "2014-01-10T02:00:00.000000000",
          "2014-01-10T02:30:00.000000000",
          "2014-01-10T03:00:00.000000000",
          "2014-01-10T03:30:00.000000000",
          "2014-01-10T04:00:00.000000000",
          "2014-01-10T04:30:00.000000000",
          "2014-01-10T05:00:00.000000000",
          "2014-01-10T05:30:00.000000000",
          "2014-01-10T06:00:00.000000000",
          "2014-01-10T06:30:00.000000000",
          "2014-01-10T07:00:00.000000000",
          "2014-01-10T07:30:00.000000000",
          "2014-01-10T08:00:00.000000000",
          "2014-01-10T08:30:00.000000000",
          "2014-01-10T09:00:00.000000000",
          "2014-01-10T09:30:00.000000000",
          "2014-01-10T10:00:00.000000000",
          "2014-01-10T10:30:00.000000000",
          "2014-01-10T11:00:00.000000000",
          "2014-01-10T11:30:00.000000000",
          "2014-01-10T12:00:00.000000000",
          "2014-01-10T12:30:00.000000000",
          "2014-01-10T13:00:00.000000000",
          "2014-01-10T13:30:00.000000000",
          "2014-01-10T14:00:00.000000000",
          "2014-01-10T14:30:00.000000000",
          "2014-01-10T15:00:00.000000000",
          "2014-01-10T15:30:00.000000000",
          "2014-01-10T16:00:00.000000000",
          "2014-01-10T16:30:00.000000000",
          "2014-01-10T17:00:00.000000000",
          "2014-01-10T17:30:00.000000000",
          "2014-01-10T18:00:00.000000000",
          "2014-01-10T18:30:00.000000000",
          "2014-01-10T19:00:00.000000000",
          "2014-01-10T19:30:00.000000000",
          "2014-01-10T20:00:00.000000000",
          "2014-01-10T20:30:00.000000000",
          "2014-01-10T21:00:00.000000000",
          "2014-01-10T21:30:00.000000000",
          "2014-01-10T22:00:00.000000000",
          "2014-01-10T22:30:00.000000000",
          "2014-01-10T23:00:00.000000000",
          "2014-01-10T23:30:00.000000000",
          "2014-01-11T00:00:00.000000000",
          "2014-01-11T00:30:00.000000000",
          "2014-01-11T01:00:00.000000000",
          "2014-01-11T01:30:00.000000000",
          "2014-01-11T02:00:00.000000000",
          "2014-01-11T02:30:00.000000000",
          "2014-01-11T03:00:00.000000000",
          "2014-01-11T03:30:00.000000000",
          "2014-01-11T04:00:00.000000000",
          "2014-01-11T04:30:00.000000000",
          "2014-01-11T05:00:00.000000000",
          "2014-01-11T05:30:00.000000000",
          "2014-01-11T06:00:00.000000000",
          "2014-01-11T06:30:00.000000000",
          "2014-01-11T07:00:00.000000000",
          "2014-01-11T07:30:00.000000000",
          "2014-01-11T08:00:00.000000000",
          "2014-01-11T08:30:00.000000000",
          "2014-01-11T09:00:00.000000000",
          "2014-01-11T09:30:00.000000000",
          "2014-01-11T10:00:00.000000000",
          "2014-01-11T10:30:00.000000000",
          "2014-01-11T11:00:00.000000000",
          "2014-01-11T11:30:00.000000000",
          "2014-01-11T12:00:00.000000000",
          "2014-01-11T12:30:00.000000000",
          "2014-01-11T13:00:00.000000000",
          "2014-01-11T13:30:00.000000000",
          "2014-01-11T14:00:00.000000000",
          "2014-01-11T14:30:00.000000000",
          "2014-01-11T15:00:00.000000000",
          "2014-01-11T15:30:00.000000000",
          "2014-01-11T16:00:00.000000000",
          "2014-01-11T16:30:00.000000000",
          "2014-01-11T17:00:00.000000000",
          "2014-01-11T17:30:00.000000000",
          "2014-01-11T18:00:00.000000000",
          "2014-01-11T18:30:00.000000000",
          "2014-01-11T19:00:00.000000000",
          "2014-01-11T19:30:00.000000000",
          "2014-01-11T20:00:00.000000000",
          "2014-01-11T20:30:00.000000000",
          "2014-01-11T21:00:00.000000000",
          "2014-01-11T21:30:00.000000000",
          "2014-01-11T22:00:00.000000000",
          "2014-01-11T22:30:00.000000000",
          "2014-01-11T23:00:00.000000000",
          "2014-01-11T23:30:00.000000000",
          "2014-01-12T00:00:00.000000000",
          "2014-01-12T00:30:00.000000000",
          "2014-01-12T01:00:00.000000000",
          "2014-01-12T01:30:00.000000000",
          "2014-01-12T02:00:00.000000000",
          "2014-01-12T02:30:00.000000000",
          "2014-01-12T03:00:00.000000000",
          "2014-01-12T03:30:00.000000000",
          "2014-01-12T04:00:00.000000000",
          "2014-01-12T04:30:00.000000000",
          "2014-01-12T05:00:00.000000000",
          "2014-01-12T05:30:00.000000000",
          "2014-01-12T06:00:00.000000000",
          "2014-01-12T06:30:00.000000000",
          "2014-01-12T07:00:00.000000000",
          "2014-01-12T07:30:00.000000000",
          "2014-01-12T08:00:00.000000000",
          "2014-01-12T08:30:00.000000000",
          "2014-01-12T09:00:00.000000000",
          "2014-01-12T09:30:00.000000000",
          "2014-01-12T10:00:00.000000000",
          "2014-01-12T10:30:00.000000000",
          "2014-01-12T11:00:00.000000000",
          "2014-01-12T11:30:00.000000000",
          "2014-01-12T12:00:00.000000000",
          "2014-01-12T12:30:00.000000000",
          "2014-01-12T13:00:00.000000000",
          "2014-01-12T13:30:00.000000000",
          "2014-01-12T14:00:00.000000000",
          "2014-01-12T14:30:00.000000000",
          "2014-01-12T15:00:00.000000000",
          "2014-01-12T15:30:00.000000000",
          "2014-01-12T16:00:00.000000000",
          "2014-01-12T16:30:00.000000000",
          "2014-01-12T17:00:00.000000000",
          "2014-01-12T17:30:00.000000000",
          "2014-01-12T18:00:00.000000000",
          "2014-01-12T18:30:00.000000000",
          "2014-01-12T19:00:00.000000000",
          "2014-01-12T19:30:00.000000000",
          "2014-01-12T20:00:00.000000000",
          "2014-01-12T20:30:00.000000000",
          "2014-01-12T21:00:00.000000000",
          "2014-01-12T21:30:00.000000000",
          "2014-01-12T22:00:00.000000000",
          "2014-01-12T22:30:00.000000000",
          "2014-01-12T23:00:00.000000000",
          "2014-01-12T23:30:00.000000000",
          "2014-01-13T00:00:00.000000000",
          "2014-01-13T00:30:00.000000000",
          "2014-01-13T01:00:00.000000000",
          "2014-01-13T01:30:00.000000000",
          "2014-01-13T02:00:00.000000000",
          "2014-01-13T02:30:00.000000000",
          "2014-01-13T03:00:00.000000000",
          "2014-01-13T03:30:00.000000000",
          "2014-01-13T04:00:00.000000000",
          "2014-01-13T04:30:00.000000000",
          "2014-01-13T05:00:00.000000000",
          "2014-01-13T05:30:00.000000000",
          "2014-01-13T06:00:00.000000000",
          "2014-01-13T06:30:00.000000000",
          "2014-01-13T07:00:00.000000000",
          "2014-01-13T07:30:00.000000000",
          "2014-01-13T08:00:00.000000000",
          "2014-01-13T08:30:00.000000000",
          "2014-01-13T09:00:00.000000000",
          "2014-01-13T09:30:00.000000000",
          "2014-01-13T10:00:00.000000000",
          "2014-01-13T10:30:00.000000000",
          "2014-01-13T11:00:00.000000000",
          "2014-01-13T11:30:00.000000000",
          "2014-01-13T12:00:00.000000000",
          "2014-01-13T12:30:00.000000000",
          "2014-01-13T13:00:00.000000000",
          "2014-01-13T13:30:00.000000000",
          "2014-01-13T14:00:00.000000000",
          "2014-01-13T14:30:00.000000000",
          "2014-01-13T15:00:00.000000000",
          "2014-01-13T15:30:00.000000000",
          "2014-01-13T16:00:00.000000000",
          "2014-01-13T16:30:00.000000000",
          "2014-01-13T17:00:00.000000000",
          "2014-01-13T17:30:00.000000000",
          "2014-01-13T18:00:00.000000000",
          "2014-01-13T18:30:00.000000000",
          "2014-01-13T19:00:00.000000000",
          "2014-01-13T19:30:00.000000000",
          "2014-01-13T20:00:00.000000000",
          "2014-01-13T20:30:00.000000000",
          "2014-01-13T21:00:00.000000000",
          "2014-01-13T21:30:00.000000000",
          "2014-01-13T22:00:00.000000000",
          "2014-01-13T22:30:00.000000000",
          "2014-01-13T23:00:00.000000000",
          "2014-01-13T23:30:00.000000000",
          "2014-01-14T00:00:00.000000000",
          "2014-01-14T00:30:00.000000000",
          "2014-01-14T01:00:00.000000000",
          "2014-01-14T01:30:00.000000000",
          "2014-01-14T02:00:00.000000000",
          "2014-01-14T02:30:00.000000000",
          "2014-01-14T03:00:00.000000000",
          "2014-01-14T03:30:00.000000000",
          "2014-01-14T04:00:00.000000000",
          "2014-01-14T04:30:00.000000000",
          "2014-01-14T05:00:00.000000000",
          "2014-01-14T05:30:00.000000000",
          "2014-01-14T06:00:00.000000000",
          "2014-01-14T06:30:00.000000000",
          "2014-01-14T07:00:00.000000000",
          "2014-01-14T07:30:00.000000000",
          "2014-01-14T08:00:00.000000000",
          "2014-01-14T08:30:00.000000000",
          "2014-01-14T09:00:00.000000000",
          "2014-01-14T09:30:00.000000000",
          "2014-01-14T10:00:00.000000000",
          "2014-01-14T10:30:00.000000000",
          "2014-01-14T11:00:00.000000000",
          "2014-01-14T11:30:00.000000000",
          "2014-01-14T12:00:00.000000000",
          "2014-01-14T12:30:00.000000000",
          "2014-01-14T13:00:00.000000000",
          "2014-01-14T13:30:00.000000000",
          "2014-01-14T14:00:00.000000000",
          "2014-01-14T14:30:00.000000000",
          "2014-01-14T15:00:00.000000000",
          "2014-01-14T15:30:00.000000000",
          "2014-01-14T16:00:00.000000000",
          "2014-01-14T16:30:00.000000000",
          "2014-01-14T17:00:00.000000000",
          "2014-01-14T17:30:00.000000000",
          "2014-01-14T18:00:00.000000000",
          "2014-01-14T18:30:00.000000000",
          "2014-01-14T19:00:00.000000000",
          "2014-01-14T19:30:00.000000000",
          "2014-01-14T20:00:00.000000000",
          "2014-01-14T20:30:00.000000000",
          "2014-01-14T21:00:00.000000000",
          "2014-01-14T21:30:00.000000000",
          "2014-01-14T22:00:00.000000000",
          "2014-01-14T22:30:00.000000000",
          "2014-01-14T23:00:00.000000000",
          "2014-01-14T23:30:00.000000000",
          "2014-01-15T00:00:00.000000000",
          "2014-01-15T00:30:00.000000000",
          "2014-01-15T01:00:00.000000000",
          "2014-01-15T01:30:00.000000000",
          "2014-01-15T02:00:00.000000000",
          "2014-01-15T02:30:00.000000000",
          "2014-01-15T03:00:00.000000000",
          "2014-01-15T03:30:00.000000000",
          "2014-01-15T04:00:00.000000000",
          "2014-01-15T04:30:00.000000000",
          "2014-01-15T05:00:00.000000000",
          "2014-01-15T05:30:00.000000000",
          "2014-01-15T06:00:00.000000000",
          "2014-01-15T06:30:00.000000000",
          "2014-01-15T07:00:00.000000000",
          "2014-01-15T07:30:00.000000000",
          "2014-01-15T08:00:00.000000000",
          "2014-01-15T08:30:00.000000000",
          "2014-01-15T09:00:00.000000000",
          "2014-01-15T09:30:00.000000000",
          "2014-01-15T10:00:00.000000000",
          "2014-01-15T10:30:00.000000000",
          "2014-01-15T11:00:00.000000000",
          "2014-01-15T11:30:00.000000000",
          "2014-01-15T12:00:00.000000000",
          "2014-01-15T12:30:00.000000000",
          "2014-01-15T13:00:00.000000000",
          "2014-01-15T13:30:00.000000000",
          "2014-01-15T14:00:00.000000000",
          "2014-01-15T14:30:00.000000000",
          "2014-01-15T15:00:00.000000000",
          "2014-01-15T15:30:00.000000000",
          "2014-01-15T16:00:00.000000000",
          "2014-01-15T16:30:00.000000000",
          "2014-01-15T17:00:00.000000000",
          "2014-01-15T17:30:00.000000000",
          "2014-01-15T18:00:00.000000000",
          "2014-01-15T18:30:00.000000000",
          "2014-01-15T19:00:00.000000000",
          "2014-01-15T19:30:00.000000000",
          "2014-01-15T20:00:00.000000000",
          "2014-01-15T20:30:00.000000000",
          "2014-01-15T21:00:00.000000000",
          "2014-01-15T21:30:00.000000000",
          "2014-01-15T22:00:00.000000000",
          "2014-01-15T22:30:00.000000000",
          "2014-01-15T23:00:00.000000000",
          "2014-01-15T23:30:00.000000000",
          "2014-01-16T00:00:00.000000000",
          "2014-01-16T00:30:00.000000000",
          "2014-01-16T01:00:00.000000000",
          "2014-01-16T01:30:00.000000000",
          "2014-01-16T02:00:00.000000000",
          "2014-01-16T02:30:00.000000000",
          "2014-01-16T03:00:00.000000000",
          "2014-01-16T03:30:00.000000000",
          "2014-01-16T04:00:00.000000000",
          "2014-01-16T04:30:00.000000000",
          "2014-01-16T05:00:00.000000000",
          "2014-01-16T05:30:00.000000000",
          "2014-01-16T06:00:00.000000000",
          "2014-01-16T06:30:00.000000000",
          "2014-01-16T07:00:00.000000000",
          "2014-01-16T07:30:00.000000000",
          "2014-01-16T08:00:00.000000000",
          "2014-01-16T08:30:00.000000000",
          "2014-01-16T09:00:00.000000000",
          "2014-01-16T09:30:00.000000000",
          "2014-01-16T10:00:00.000000000",
          "2014-01-16T10:30:00.000000000",
          "2014-01-16T11:00:00.000000000",
          "2014-01-16T11:30:00.000000000",
          "2014-01-16T12:00:00.000000000",
          "2014-01-16T12:30:00.000000000",
          "2014-01-16T13:00:00.000000000",
          "2014-01-16T13:30:00.000000000",
          "2014-01-16T14:00:00.000000000",
          "2014-01-16T14:30:00.000000000",
          "2014-01-16T15:00:00.000000000",
          "2014-01-16T15:30:00.000000000",
          "2014-01-16T16:00:00.000000000",
          "2014-01-16T16:30:00.000000000",
          "2014-01-16T17:00:00.000000000",
          "2014-01-16T17:30:00.000000000",
          "2014-01-16T18:00:00.000000000",
          "2014-01-16T18:30:00.000000000",
          "2014-01-16T19:00:00.000000000",
          "2014-01-16T19:30:00.000000000",
          "2014-01-16T20:00:00.000000000",
          "2014-01-16T20:30:00.000000000",
          "2014-01-16T21:00:00.000000000",
          "2014-01-16T21:30:00.000000000",
          "2014-01-16T22:00:00.000000000",
          "2014-01-16T22:30:00.000000000",
          "2014-01-16T23:00:00.000000000",
          "2014-01-16T23:30:00.000000000",
          "2014-01-17T00:00:00.000000000",
          "2014-01-17T00:30:00.000000000",
          "2014-01-17T01:00:00.000000000",
          "2014-01-17T01:30:00.000000000",
          "2014-01-17T02:00:00.000000000",
          "2014-01-17T02:30:00.000000000",
          "2014-01-17T03:00:00.000000000",
          "2014-01-17T03:30:00.000000000",
          "2014-01-17T04:00:00.000000000",
          "2014-01-17T04:30:00.000000000",
          "2014-01-17T05:00:00.000000000",
          "2014-01-17T05:30:00.000000000",
          "2014-01-17T06:00:00.000000000",
          "2014-01-17T06:30:00.000000000",
          "2014-01-17T07:00:00.000000000",
          "2014-01-17T07:30:00.000000000",
          "2014-01-17T08:00:00.000000000",
          "2014-01-17T08:30:00.000000000",
          "2014-01-17T09:00:00.000000000",
          "2014-01-17T09:30:00.000000000",
          "2014-01-17T10:00:00.000000000",
          "2014-01-17T10:30:00.000000000",
          "2014-01-17T11:00:00.000000000",
          "2014-01-17T11:30:00.000000000",
          "2014-01-17T12:00:00.000000000",
          "2014-01-17T12:30:00.000000000",
          "2014-01-17T13:00:00.000000000",
          "2014-01-17T13:30:00.000000000",
          "2014-01-17T14:00:00.000000000",
          "2014-01-17T14:30:00.000000000",
          "2014-01-17T15:00:00.000000000",
          "2014-01-17T15:30:00.000000000",
          "2014-01-17T16:00:00.000000000",
          "2014-01-17T16:30:00.000000000",
          "2014-01-17T17:00:00.000000000",
          "2014-01-17T17:30:00.000000000",
          "2014-01-17T18:00:00.000000000",
          "2014-01-17T18:30:00.000000000",
          "2014-01-17T19:00:00.000000000",
          "2014-01-17T19:30:00.000000000",
          "2014-01-17T20:00:00.000000000",
          "2014-01-17T20:30:00.000000000",
          "2014-01-17T21:00:00.000000000",
          "2014-01-17T21:30:00.000000000",
          "2014-01-17T22:00:00.000000000",
          "2014-01-17T22:30:00.000000000",
          "2014-01-17T23:00:00.000000000",
          "2014-01-17T23:30:00.000000000",
          "2014-01-18T00:00:00.000000000",
          "2014-01-18T00:30:00.000000000",
          "2014-01-18T01:00:00.000000000",
          "2014-01-18T01:30:00.000000000",
          "2014-01-18T02:00:00.000000000",
          "2014-01-18T02:30:00.000000000",
          "2014-01-18T03:00:00.000000000",
          "2014-01-18T03:30:00.000000000",
          "2014-01-18T04:00:00.000000000",
          "2014-01-18T04:30:00.000000000",
          "2014-01-18T05:00:00.000000000",
          "2014-01-18T05:30:00.000000000",
          "2014-01-18T06:00:00.000000000",
          "2014-01-18T06:30:00.000000000",
          "2014-01-18T07:00:00.000000000",
          "2014-01-18T07:30:00.000000000",
          "2014-01-18T08:00:00.000000000",
          "2014-01-18T08:30:00.000000000",
          "2014-01-18T09:00:00.000000000",
          "2014-01-18T09:30:00.000000000",
          "2014-01-18T10:00:00.000000000",
          "2014-01-18T10:30:00.000000000",
          "2014-01-18T11:00:00.000000000",
          "2014-01-18T11:30:00.000000000",
          "2014-01-18T12:00:00.000000000",
          "2014-01-18T12:30:00.000000000",
          "2014-01-18T13:00:00.000000000",
          "2014-01-18T13:30:00.000000000",
          "2014-01-18T14:00:00.000000000",
          "2014-01-18T14:30:00.000000000",
          "2014-01-18T15:00:00.000000000",
          "2014-01-18T15:30:00.000000000",
          "2014-01-18T16:00:00.000000000",
          "2014-01-18T16:30:00.000000000",
          "2014-01-18T17:00:00.000000000",
          "2014-01-18T17:30:00.000000000",
          "2014-01-18T18:00:00.000000000",
          "2014-01-18T18:30:00.000000000",
          "2014-01-18T19:00:00.000000000",
          "2014-01-18T19:30:00.000000000",
          "2014-01-18T20:00:00.000000000",
          "2014-01-18T20:30:00.000000000",
          "2014-01-18T21:00:00.000000000",
          "2014-01-18T21:30:00.000000000",
          "2014-01-18T22:00:00.000000000",
          "2014-01-18T22:30:00.000000000",
          "2014-01-18T23:00:00.000000000",
          "2014-01-18T23:30:00.000000000",
          "2014-01-19T00:00:00.000000000",
          "2014-01-19T00:30:00.000000000",
          "2014-01-19T01:00:00.000000000",
          "2014-01-19T01:30:00.000000000",
          "2014-01-19T02:00:00.000000000",
          "2014-01-19T02:30:00.000000000",
          "2014-01-19T03:00:00.000000000",
          "2014-01-19T03:30:00.000000000",
          "2014-01-19T04:00:00.000000000",
          "2014-01-19T04:30:00.000000000",
          "2014-01-19T05:00:00.000000000",
          "2014-01-19T05:30:00.000000000",
          "2014-01-19T06:00:00.000000000",
          "2014-01-19T06:30:00.000000000",
          "2014-01-19T07:00:00.000000000",
          "2014-01-19T07:30:00.000000000",
          "2014-01-19T08:00:00.000000000",
          "2014-01-19T08:30:00.000000000",
          "2014-01-19T09:00:00.000000000",
          "2014-01-19T09:30:00.000000000",
          "2014-01-19T10:00:00.000000000",
          "2014-01-19T10:30:00.000000000",
          "2014-01-19T11:00:00.000000000",
          "2014-01-19T11:30:00.000000000",
          "2014-01-19T12:00:00.000000000",
          "2014-01-19T12:30:00.000000000",
          "2014-01-19T13:00:00.000000000",
          "2014-01-19T13:30:00.000000000",
          "2014-01-19T14:00:00.000000000",
          "2014-01-19T14:30:00.000000000",
          "2014-01-19T15:00:00.000000000",
          "2014-01-19T15:30:00.000000000",
          "2014-01-19T16:00:00.000000000",
          "2014-01-19T16:30:00.000000000",
          "2014-01-19T17:00:00.000000000",
          "2014-01-19T17:30:00.000000000",
          "2014-01-19T18:00:00.000000000",
          "2014-01-19T18:30:00.000000000",
          "2014-01-19T19:00:00.000000000",
          "2014-01-19T19:30:00.000000000",
          "2014-01-19T20:00:00.000000000",
          "2014-01-19T20:30:00.000000000",
          "2014-01-19T21:00:00.000000000",
          "2014-01-19T21:30:00.000000000",
          "2014-01-19T22:00:00.000000000",
          "2014-01-19T22:30:00.000000000",
          "2014-01-19T23:00:00.000000000",
          "2014-01-19T23:30:00.000000000",
          "2014-01-20T00:00:00.000000000",
          "2014-01-20T00:30:00.000000000",
          "2014-01-20T01:00:00.000000000",
          "2014-01-20T01:30:00.000000000",
          "2014-01-20T02:00:00.000000000",
          "2014-01-20T02:30:00.000000000",
          "2014-01-20T03:00:00.000000000",
          "2014-01-20T03:30:00.000000000",
          "2014-01-20T04:00:00.000000000",
          "2014-01-20T04:30:00.000000000",
          "2014-01-20T05:00:00.000000000",
          "2014-01-20T05:30:00.000000000",
          "2014-01-20T06:00:00.000000000",
          "2014-01-20T06:30:00.000000000",
          "2014-01-20T07:00:00.000000000",
          "2014-01-20T07:30:00.000000000",
          "2014-01-20T08:00:00.000000000",
          "2014-01-20T08:30:00.000000000",
          "2014-01-20T09:00:00.000000000",
          "2014-01-20T09:30:00.000000000",
          "2014-01-20T10:00:00.000000000",
          "2014-01-20T10:30:00.000000000",
          "2014-01-20T11:00:00.000000000",
          "2014-01-20T11:30:00.000000000",
          "2014-01-20T12:00:00.000000000",
          "2014-01-20T12:30:00.000000000",
          "2014-01-20T13:00:00.000000000",
          "2014-01-20T13:30:00.000000000",
          "2014-01-20T14:00:00.000000000",
          "2014-01-20T14:30:00.000000000",
          "2014-01-20T15:00:00.000000000",
          "2014-01-20T15:30:00.000000000",
          "2014-01-20T16:00:00.000000000",
          "2014-01-20T16:30:00.000000000",
          "2014-01-20T17:00:00.000000000",
          "2014-01-20T17:30:00.000000000",
          "2014-01-20T18:00:00.000000000",
          "2014-01-20T18:30:00.000000000",
          "2014-01-20T19:00:00.000000000",
          "2014-01-20T19:30:00.000000000",
          "2014-01-20T20:00:00.000000000",
          "2014-01-20T20:30:00.000000000",
          "2014-01-20T21:00:00.000000000",
          "2014-01-20T21:30:00.000000000",
          "2014-01-20T22:00:00.000000000",
          "2014-01-20T22:30:00.000000000",
          "2014-01-20T23:00:00.000000000",
          "2014-01-20T23:30:00.000000000",
          "2014-01-21T00:00:00.000000000",
          "2014-01-21T00:30:00.000000000",
          "2014-01-21T01:00:00.000000000",
          "2014-01-21T01:30:00.000000000",
          "2014-01-21T02:00:00.000000000",
          "2014-01-21T02:30:00.000000000",
          "2014-01-21T03:00:00.000000000",
          "2014-01-21T03:30:00.000000000",
          "2014-01-21T04:00:00.000000000",
          "2014-01-21T04:30:00.000000000",
          "2014-01-21T05:00:00.000000000",
          "2014-01-21T05:30:00.000000000",
          "2014-01-21T06:00:00.000000000",
          "2014-01-21T06:30:00.000000000",
          "2014-01-21T07:00:00.000000000",
          "2014-01-21T07:30:00.000000000",
          "2014-01-21T08:00:00.000000000",
          "2014-01-21T08:30:00.000000000",
          "2014-01-21T09:00:00.000000000",
          "2014-01-21T09:30:00.000000000",
          "2014-01-21T10:00:00.000000000",
          "2014-01-21T10:30:00.000000000",
          "2014-01-21T11:00:00.000000000",
          "2014-01-21T11:30:00.000000000",
          "2014-01-21T12:00:00.000000000",
          "2014-01-21T12:30:00.000000000",
          "2014-01-21T13:00:00.000000000",
          "2014-01-21T13:30:00.000000000",
          "2014-01-21T14:00:00.000000000",
          "2014-01-21T14:30:00.000000000",
          "2014-01-21T15:00:00.000000000",
          "2014-01-21T15:30:00.000000000",
          "2014-01-21T16:00:00.000000000",
          "2014-01-21T16:30:00.000000000",
          "2014-01-21T17:00:00.000000000",
          "2014-01-21T17:30:00.000000000",
          "2014-01-21T18:00:00.000000000",
          "2014-01-21T18:30:00.000000000",
          "2014-01-21T19:00:00.000000000",
          "2014-01-21T19:30:00.000000000",
          "2014-01-21T20:00:00.000000000",
          "2014-01-21T20:30:00.000000000",
          "2014-01-21T21:00:00.000000000",
          "2014-01-21T21:30:00.000000000",
          "2014-01-21T22:00:00.000000000",
          "2014-01-21T22:30:00.000000000",
          "2014-01-21T23:00:00.000000000",
          "2014-01-21T23:30:00.000000000",
          "2014-01-22T00:00:00.000000000",
          "2014-01-22T00:30:00.000000000",
          "2014-01-22T01:00:00.000000000",
          "2014-01-22T01:30:00.000000000",
          "2014-01-22T02:00:00.000000000",
          "2014-01-22T02:30:00.000000000",
          "2014-01-22T03:00:00.000000000",
          "2014-01-22T03:30:00.000000000",
          "2014-01-22T04:00:00.000000000",
          "2014-01-22T04:30:00.000000000",
          "2014-01-22T05:00:00.000000000",
          "2014-01-22T05:30:00.000000000",
          "2014-01-22T06:00:00.000000000",
          "2014-01-22T06:30:00.000000000",
          "2014-01-22T07:00:00.000000000",
          "2014-01-22T07:30:00.000000000",
          "2014-01-22T08:00:00.000000000",
          "2014-01-22T08:30:00.000000000",
          "2014-01-22T09:00:00.000000000",
          "2014-01-22T09:30:00.000000000",
          "2014-01-22T10:00:00.000000000",
          "2014-01-22T10:30:00.000000000",
          "2014-01-22T11:00:00.000000000",
          "2014-01-22T11:30:00.000000000",
          "2014-01-22T12:00:00.000000000",
          "2014-01-22T12:30:00.000000000",
          "2014-01-22T13:00:00.000000000",
          "2014-01-22T13:30:00.000000000",
          "2014-01-22T14:00:00.000000000",
          "2014-01-22T14:30:00.000000000",
          "2014-01-22T15:00:00.000000000",
          "2014-01-22T15:30:00.000000000",
          "2014-01-22T16:00:00.000000000",
          "2014-01-22T16:30:00.000000000",
          "2014-01-22T17:00:00.000000000",
          "2014-01-22T17:30:00.000000000",
          "2014-01-22T18:00:00.000000000",
          "2014-01-22T18:30:00.000000000",
          "2014-01-22T19:00:00.000000000",
          "2014-01-22T19:30:00.000000000",
          "2014-01-22T20:00:00.000000000",
          "2014-01-22T20:30:00.000000000",
          "2014-01-22T21:00:00.000000000",
          "2014-01-22T21:30:00.000000000",
          "2014-01-22T22:00:00.000000000",
          "2014-01-22T22:30:00.000000000",
          "2014-01-22T23:00:00.000000000",
          "2014-01-22T23:30:00.000000000",
          "2014-01-23T00:00:00.000000000",
          "2014-01-23T00:30:00.000000000",
          "2014-01-23T01:00:00.000000000",
          "2014-01-23T01:30:00.000000000",
          "2014-01-23T02:00:00.000000000",
          "2014-01-23T02:30:00.000000000",
          "2014-01-23T03:00:00.000000000",
          "2014-01-23T03:30:00.000000000",
          "2014-01-23T04:00:00.000000000",
          "2014-01-23T04:30:00.000000000",
          "2014-01-23T05:00:00.000000000",
          "2014-01-23T05:30:00.000000000",
          "2014-01-23T06:00:00.000000000",
          "2014-01-23T06:30:00.000000000",
          "2014-01-23T07:00:00.000000000",
          "2014-01-23T07:30:00.000000000",
          "2014-01-23T08:00:00.000000000",
          "2014-01-23T08:30:00.000000000",
          "2014-01-23T09:00:00.000000000",
          "2014-01-23T09:30:00.000000000",
          "2014-01-23T10:00:00.000000000",
          "2014-01-23T10:30:00.000000000",
          "2014-01-23T11:00:00.000000000",
          "2014-01-23T11:30:00.000000000",
          "2014-01-23T12:00:00.000000000",
          "2014-01-23T12:30:00.000000000",
          "2014-01-23T13:00:00.000000000",
          "2014-01-23T13:30:00.000000000",
          "2014-01-23T14:00:00.000000000",
          "2014-01-23T14:30:00.000000000",
          "2014-01-23T15:00:00.000000000",
          "2014-01-23T15:30:00.000000000",
          "2014-01-23T16:00:00.000000000",
          "2014-01-23T16:30:00.000000000",
          "2014-01-23T17:00:00.000000000",
          "2014-01-23T17:30:00.000000000",
          "2014-01-23T18:00:00.000000000",
          "2014-01-23T18:30:00.000000000",
          "2014-01-23T19:00:00.000000000",
          "2014-01-23T19:30:00.000000000",
          "2014-01-23T20:00:00.000000000",
          "2014-01-23T20:30:00.000000000",
          "2014-01-23T21:00:00.000000000",
          "2014-01-23T21:30:00.000000000",
          "2014-01-23T22:00:00.000000000",
          "2014-01-23T22:30:00.000000000",
          "2014-01-23T23:00:00.000000000",
          "2014-01-23T23:30:00.000000000",
          "2014-01-24T00:00:00.000000000",
          "2014-01-24T00:30:00.000000000",
          "2014-01-24T01:00:00.000000000",
          "2014-01-24T01:30:00.000000000",
          "2014-01-24T02:00:00.000000000",
          "2014-01-24T02:30:00.000000000",
          "2014-01-24T03:00:00.000000000",
          "2014-01-24T03:30:00.000000000",
          "2014-01-24T04:00:00.000000000",
          "2014-01-24T04:30:00.000000000",
          "2014-01-24T05:00:00.000000000",
          "2014-01-24T05:30:00.000000000",
          "2014-01-24T06:00:00.000000000",
          "2014-01-24T06:30:00.000000000",
          "2014-01-24T07:00:00.000000000",
          "2014-01-24T07:30:00.000000000",
          "2014-01-24T08:00:00.000000000",
          "2014-01-24T08:30:00.000000000",
          "2014-01-24T09:00:00.000000000",
          "2014-01-24T09:30:00.000000000",
          "2014-01-24T10:00:00.000000000",
          "2014-01-24T10:30:00.000000000",
          "2014-01-24T11:00:00.000000000",
          "2014-01-24T11:30:00.000000000",
          "2014-01-24T12:00:00.000000000",
          "2014-01-24T12:30:00.000000000",
          "2014-01-24T13:00:00.000000000",
          "2014-01-24T13:30:00.000000000",
          "2014-01-24T14:00:00.000000000",
          "2014-01-24T14:30:00.000000000",
          "2014-01-24T15:00:00.000000000",
          "2014-01-24T15:30:00.000000000",
          "2014-01-24T16:00:00.000000000",
          "2014-01-24T16:30:00.000000000",
          "2014-01-24T17:00:00.000000000",
          "2014-01-24T17:30:00.000000000",
          "2014-01-24T18:00:00.000000000",
          "2014-01-24T18:30:00.000000000",
          "2014-01-24T19:00:00.000000000",
          "2014-01-24T19:30:00.000000000",
          "2014-01-24T20:00:00.000000000",
          "2014-01-24T20:30:00.000000000",
          "2014-01-24T21:00:00.000000000",
          "2014-01-24T21:30:00.000000000",
          "2014-01-24T22:00:00.000000000",
          "2014-01-24T22:30:00.000000000",
          "2014-01-24T23:00:00.000000000",
          "2014-01-24T23:30:00.000000000",
          "2014-01-25T00:00:00.000000000",
          "2014-01-25T00:30:00.000000000",
          "2014-01-25T01:00:00.000000000",
          "2014-01-25T01:30:00.000000000",
          "2014-01-25T02:00:00.000000000",
          "2014-01-25T02:30:00.000000000",
          "2014-01-25T03:00:00.000000000",
          "2014-01-25T03:30:00.000000000",
          "2014-01-25T04:00:00.000000000",
          "2014-01-25T04:30:00.000000000",
          "2014-01-25T05:00:00.000000000",
          "2014-01-25T05:30:00.000000000",
          "2014-01-25T06:00:00.000000000",
          "2014-01-25T06:30:00.000000000",
          "2014-01-25T07:00:00.000000000",
          "2014-01-25T07:30:00.000000000",
          "2014-01-25T08:00:00.000000000",
          "2014-01-25T08:30:00.000000000",
          "2014-01-25T09:00:00.000000000",
          "2014-01-25T09:30:00.000000000",
          "2014-01-25T10:00:00.000000000",
          "2014-01-25T10:30:00.000000000",
          "2014-01-25T11:00:00.000000000",
          "2014-01-25T11:30:00.000000000",
          "2014-01-25T12:00:00.000000000",
          "2014-01-25T12:30:00.000000000",
          "2014-01-25T13:00:00.000000000",
          "2014-01-25T13:30:00.000000000",
          "2014-01-25T14:00:00.000000000",
          "2014-01-25T14:30:00.000000000",
          "2014-01-25T15:00:00.000000000",
          "2014-01-25T15:30:00.000000000",
          "2014-01-25T16:00:00.000000000",
          "2014-01-25T16:30:00.000000000",
          "2014-01-25T17:00:00.000000000",
          "2014-01-25T17:30:00.000000000",
          "2014-01-25T18:00:00.000000000",
          "2014-01-25T18:30:00.000000000",
          "2014-01-25T19:00:00.000000000",
          "2014-01-25T19:30:00.000000000",
          "2014-01-25T20:00:00.000000000",
          "2014-01-25T20:30:00.000000000",
          "2014-01-25T21:00:00.000000000",
          "2014-01-25T21:30:00.000000000",
          "2014-01-25T22:00:00.000000000",
          "2014-01-25T22:30:00.000000000",
          "2014-01-25T23:00:00.000000000",
          "2014-01-25T23:30:00.000000000",
          "2014-01-26T00:00:00.000000000",
          "2014-01-26T00:30:00.000000000",
          "2014-01-26T01:00:00.000000000",
          "2014-01-26T01:30:00.000000000",
          "2014-01-26T02:00:00.000000000",
          "2014-01-26T02:30:00.000000000",
          "2014-01-26T03:00:00.000000000",
          "2014-01-26T03:30:00.000000000",
          "2014-01-26T04:00:00.000000000",
          "2014-01-26T04:30:00.000000000",
          "2014-01-26T05:00:00.000000000",
          "2014-01-26T05:30:00.000000000",
          "2014-01-26T06:00:00.000000000",
          "2014-01-26T06:30:00.000000000",
          "2014-01-26T07:00:00.000000000",
          "2014-01-26T07:30:00.000000000",
          "2014-01-26T08:00:00.000000000",
          "2014-01-26T08:30:00.000000000",
          "2014-01-26T09:00:00.000000000",
          "2014-01-26T09:30:00.000000000",
          "2014-01-26T10:00:00.000000000",
          "2014-01-26T10:30:00.000000000",
          "2014-01-26T11:00:00.000000000",
          "2014-01-26T11:30:00.000000000",
          "2014-01-26T12:00:00.000000000",
          "2014-01-26T12:30:00.000000000",
          "2014-01-26T13:00:00.000000000",
          "2014-01-26T13:30:00.000000000",
          "2014-01-26T14:00:00.000000000",
          "2014-01-26T14:30:00.000000000",
          "2014-01-26T15:00:00.000000000",
          "2014-01-26T15:30:00.000000000",
          "2014-01-26T16:00:00.000000000",
          "2014-01-26T16:30:00.000000000",
          "2014-01-26T17:00:00.000000000",
          "2014-01-26T17:30:00.000000000",
          "2014-01-26T18:00:00.000000000",
          "2014-01-26T18:30:00.000000000",
          "2014-01-26T19:00:00.000000000",
          "2014-01-26T19:30:00.000000000",
          "2014-01-26T20:00:00.000000000",
          "2014-01-26T20:30:00.000000000",
          "2014-01-26T21:00:00.000000000",
          "2014-01-26T21:30:00.000000000",
          "2014-01-26T22:00:00.000000000",
          "2014-01-26T22:30:00.000000000",
          "2014-01-26T23:00:00.000000000",
          "2014-01-26T23:30:00.000000000",
          "2014-01-27T00:00:00.000000000",
          "2014-01-27T00:30:00.000000000",
          "2014-01-27T01:00:00.000000000",
          "2014-01-27T01:30:00.000000000",
          "2014-01-27T02:00:00.000000000",
          "2014-01-27T02:30:00.000000000",
          "2014-01-27T03:00:00.000000000",
          "2014-01-27T03:30:00.000000000",
          "2014-01-27T04:00:00.000000000",
          "2014-01-27T04:30:00.000000000",
          "2014-01-27T05:00:00.000000000",
          "2014-01-27T05:30:00.000000000",
          "2014-01-27T06:00:00.000000000",
          "2014-01-27T06:30:00.000000000",
          "2014-01-27T07:00:00.000000000",
          "2014-01-27T07:30:00.000000000",
          "2014-01-27T08:00:00.000000000",
          "2014-01-27T08:30:00.000000000",
          "2014-01-27T09:00:00.000000000",
          "2014-01-27T09:30:00.000000000",
          "2014-01-27T10:00:00.000000000",
          "2014-01-27T10:30:00.000000000",
          "2014-01-27T11:00:00.000000000",
          "2014-01-27T11:30:00.000000000",
          "2014-01-27T12:00:00.000000000",
          "2014-01-27T12:30:00.000000000",
          "2014-01-27T13:00:00.000000000",
          "2014-01-27T13:30:00.000000000",
          "2014-01-27T14:00:00.000000000",
          "2014-01-27T14:30:00.000000000",
          "2014-01-27T15:00:00.000000000",
          "2014-01-27T15:30:00.000000000",
          "2014-01-27T16:00:00.000000000",
          "2014-01-27T16:30:00.000000000",
          "2014-01-27T17:00:00.000000000",
          "2014-01-27T17:30:00.000000000",
          "2014-01-27T18:00:00.000000000",
          "2014-01-27T18:30:00.000000000",
          "2014-01-27T19:00:00.000000000",
          "2014-01-27T19:30:00.000000000",
          "2014-01-27T20:00:00.000000000",
          "2014-01-27T20:30:00.000000000",
          "2014-01-27T21:00:00.000000000",
          "2014-01-27T21:30:00.000000000",
          "2014-01-27T22:00:00.000000000",
          "2014-01-27T22:30:00.000000000",
          "2014-01-27T23:00:00.000000000",
          "2014-01-27T23:30:00.000000000",
          "2014-01-28T00:00:00.000000000",
          "2014-01-28T00:30:00.000000000",
          "2014-01-28T01:00:00.000000000",
          "2014-01-28T01:30:00.000000000",
          "2014-01-28T02:00:00.000000000",
          "2014-01-28T02:30:00.000000000",
          "2014-01-28T03:00:00.000000000",
          "2014-01-28T03:30:00.000000000",
          "2014-01-28T04:00:00.000000000",
          "2014-01-28T04:30:00.000000000",
          "2014-01-28T05:00:00.000000000",
          "2014-01-28T05:30:00.000000000",
          "2014-01-28T06:00:00.000000000",
          "2014-01-28T06:30:00.000000000",
          "2014-01-28T07:00:00.000000000",
          "2014-01-28T07:30:00.000000000",
          "2014-01-28T08:00:00.000000000",
          "2014-01-28T08:30:00.000000000",
          "2014-01-28T09:00:00.000000000",
          "2014-01-28T09:30:00.000000000",
          "2014-01-28T10:00:00.000000000",
          "2014-01-28T10:30:00.000000000",
          "2014-01-28T11:00:00.000000000",
          "2014-01-28T11:30:00.000000000",
          "2014-01-28T12:00:00.000000000",
          "2014-01-28T12:30:00.000000000",
          "2014-01-28T13:00:00.000000000",
          "2014-01-28T13:30:00.000000000",
          "2014-01-28T14:00:00.000000000",
          "2014-01-28T14:30:00.000000000",
          "2014-01-28T15:00:00.000000000",
          "2014-01-28T15:30:00.000000000",
          "2014-01-28T16:00:00.000000000",
          "2014-01-28T16:30:00.000000000",
          "2014-01-28T17:00:00.000000000",
          "2014-01-28T17:30:00.000000000",
          "2014-01-28T18:00:00.000000000",
          "2014-01-28T18:30:00.000000000",
          "2014-01-28T19:00:00.000000000",
          "2014-01-28T19:30:00.000000000",
          "2014-01-28T20:00:00.000000000",
          "2014-01-28T20:30:00.000000000",
          "2014-01-28T21:00:00.000000000",
          "2014-01-28T21:30:00.000000000",
          "2014-01-28T22:00:00.000000000",
          "2014-01-28T22:30:00.000000000",
          "2014-01-28T23:00:00.000000000",
          "2014-01-28T23:30:00.000000000",
          "2014-01-29T00:00:00.000000000",
          "2014-01-29T00:30:00.000000000",
          "2014-01-29T01:00:00.000000000",
          "2014-01-29T01:30:00.000000000",
          "2014-01-29T02:00:00.000000000",
          "2014-01-29T02:30:00.000000000",
          "2014-01-29T03:00:00.000000000",
          "2014-01-29T03:30:00.000000000",
          "2014-01-29T04:00:00.000000000",
          "2014-01-29T04:30:00.000000000",
          "2014-01-29T05:00:00.000000000",
          "2014-01-29T05:30:00.000000000",
          "2014-01-29T06:00:00.000000000",
          "2014-01-29T06:30:00.000000000",
          "2014-01-29T07:00:00.000000000",
          "2014-01-29T07:30:00.000000000",
          "2014-01-29T08:00:00.000000000",
          "2014-01-29T08:30:00.000000000",
          "2014-01-29T09:00:00.000000000",
          "2014-01-29T09:30:00.000000000",
          "2014-01-29T10:00:00.000000000",
          "2014-01-29T10:30:00.000000000",
          "2014-01-29T11:00:00.000000000",
          "2014-01-29T11:30:00.000000000",
          "2014-01-29T12:00:00.000000000",
          "2014-01-29T12:30:00.000000000",
          "2014-01-29T13:00:00.000000000",
          "2014-01-29T13:30:00.000000000",
          "2014-01-29T14:00:00.000000000",
          "2014-01-29T14:30:00.000000000",
          "2014-01-29T15:00:00.000000000",
          "2014-01-29T15:30:00.000000000",
          "2014-01-29T16:00:00.000000000",
          "2014-01-29T16:30:00.000000000",
          "2014-01-29T17:00:00.000000000",
          "2014-01-29T17:30:00.000000000",
          "2014-01-29T18:00:00.000000000",
          "2014-01-29T18:30:00.000000000",
          "2014-01-29T19:00:00.000000000",
          "2014-01-29T19:30:00.000000000",
          "2014-01-29T20:00:00.000000000",
          "2014-01-29T20:30:00.000000000",
          "2014-01-29T21:00:00.000000000",
          "2014-01-29T21:30:00.000000000",
          "2014-01-29T22:00:00.000000000",
          "2014-01-29T22:30:00.000000000",
          "2014-01-29T23:00:00.000000000",
          "2014-01-29T23:30:00.000000000",
          "2014-01-30T00:00:00.000000000",
          "2014-01-30T00:30:00.000000000",
          "2014-01-30T01:00:00.000000000",
          "2014-01-30T01:30:00.000000000",
          "2014-01-30T02:00:00.000000000",
          "2014-01-30T02:30:00.000000000",
          "2014-01-30T03:00:00.000000000",
          "2014-01-30T03:30:00.000000000",
          "2014-01-30T04:00:00.000000000",
          "2014-01-30T04:30:00.000000000",
          "2014-01-30T05:00:00.000000000",
          "2014-01-30T05:30:00.000000000",
          "2014-01-30T06:00:00.000000000",
          "2014-01-30T06:30:00.000000000",
          "2014-01-30T07:00:00.000000000",
          "2014-01-30T07:30:00.000000000",
          "2014-01-30T08:00:00.000000000",
          "2014-01-30T08:30:00.000000000",
          "2014-01-30T09:00:00.000000000",
          "2014-01-30T09:30:00.000000000",
          "2014-01-30T10:00:00.000000000",
          "2014-01-30T10:30:00.000000000",
          "2014-01-30T11:00:00.000000000",
          "2014-01-30T11:30:00.000000000",
          "2014-01-30T12:00:00.000000000",
          "2014-01-30T12:30:00.000000000",
          "2014-01-30T13:00:00.000000000",
          "2014-01-30T13:30:00.000000000",
          "2014-01-30T14:00:00.000000000",
          "2014-01-30T14:30:00.000000000",
          "2014-01-30T15:00:00.000000000",
          "2014-01-30T15:30:00.000000000",
          "2014-01-30T16:00:00.000000000",
          "2014-01-30T16:30:00.000000000",
          "2014-01-30T17:00:00.000000000",
          "2014-01-30T17:30:00.000000000",
          "2014-01-30T18:00:00.000000000",
          "2014-01-30T18:30:00.000000000",
          "2014-01-30T19:00:00.000000000",
          "2014-01-30T19:30:00.000000000",
          "2014-01-30T20:00:00.000000000",
          "2014-01-30T20:30:00.000000000",
          "2014-01-30T21:00:00.000000000",
          "2014-01-30T21:30:00.000000000",
          "2014-01-30T22:00:00.000000000",
          "2014-01-30T22:30:00.000000000",
          "2014-01-30T23:00:00.000000000",
          "2014-01-30T23:30:00.000000000",
          "2014-01-31T00:00:00.000000000",
          "2014-01-31T00:30:00.000000000",
          "2014-01-31T01:00:00.000000000",
          "2014-01-31T01:30:00.000000000",
          "2014-01-31T02:00:00.000000000",
          "2014-01-31T02:30:00.000000000",
          "2014-01-31T03:00:00.000000000",
          "2014-01-31T03:30:00.000000000",
          "2014-01-31T04:00:00.000000000",
          "2014-01-31T04:30:00.000000000",
          "2014-01-31T05:00:00.000000000",
          "2014-01-31T05:30:00.000000000",
          "2014-01-31T06:00:00.000000000",
          "2014-01-31T06:30:00.000000000",
          "2014-01-31T07:00:00.000000000",
          "2014-01-31T07:30:00.000000000",
          "2014-01-31T08:00:00.000000000",
          "2014-01-31T08:30:00.000000000",
          "2014-01-31T09:00:00.000000000",
          "2014-01-31T09:30:00.000000000",
          "2014-01-31T10:00:00.000000000",
          "2014-01-31T10:30:00.000000000",
          "2014-01-31T11:00:00.000000000",
          "2014-01-31T11:30:00.000000000",
          "2014-01-31T12:00:00.000000000",
          "2014-01-31T12:30:00.000000000",
          "2014-01-31T13:00:00.000000000",
          "2014-01-31T13:30:00.000000000",
          "2014-01-31T14:00:00.000000000",
          "2014-01-31T14:30:00.000000000",
          "2014-01-31T15:00:00.000000000",
          "2014-01-31T15:30:00.000000000",
          "2014-01-31T16:00:00.000000000",
          "2014-01-31T16:30:00.000000000",
          "2014-01-31T17:00:00.000000000",
          "2014-01-31T17:30:00.000000000",
          "2014-01-31T18:00:00.000000000",
          "2014-01-31T18:30:00.000000000",
          "2014-01-31T19:00:00.000000000",
          "2014-01-31T19:30:00.000000000",
          "2014-01-31T20:00:00.000000000",
          "2014-01-31T20:30:00.000000000",
          "2014-01-31T21:00:00.000000000",
          "2014-01-31T21:30:00.000000000",
          "2014-01-31T22:00:00.000000000",
          "2014-01-31T22:30:00.000000000",
          "2014-01-31T23:00:00.000000000",
          "2014-01-31T23:30:00.000000000"
         ],
         "y": {
          "bdata": "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",
          "dtype": "f8"
         }
        },
        {
         "line": {
          "color": "rgba(217,95,2, 1)",
          "dash": "dash"
         },
         "mode": "lines",
         "name": "AutoETS",
         "type": "scatter",
         "x": [
          "2014-01-01T00:00:00.000000000",
          "2014-01-01T00:30:00.000000000",
          "2014-01-01T01:00:00.000000000",
          "2014-01-01T01:30:00.000000000",
          "2014-01-01T02:00:00.000000000",
          "2014-01-01T02:30:00.000000000",
          "2014-01-01T03:00:00.000000000",
          "2014-01-01T03:30:00.000000000",
          "2014-01-01T04:00:00.000000000",
          "2014-01-01T04:30:00.000000000",
          "2014-01-01T05:00:00.000000000",
          "2014-01-01T05:30:00.000000000",
          "2014-01-01T06:00:00.000000000",
          "2014-01-01T06:30:00.000000000",
          "2014-01-01T07:00:00.000000000",
          "2014-01-01T07:30:00.000000000",
          "2014-01-01T08:00:00.000000000",
          "2014-01-01T08:30:00.000000000",
          "2014-01-01T09:00:00.000000000",
          "2014-01-01T09:30:00.000000000",
          "2014-01-01T10:00:00.000000000",
          "2014-01-01T10:30:00.000000000",
          "2014-01-01T11:00:00.000000000",
          "2014-01-01T11:30:00.000000000",
          "2014-01-01T12:00:00.000000000",
          "2014-01-01T12:30:00.000000000",
          "2014-01-01T13:00:00.000000000",
          "2014-01-01T13:30:00.000000000",
          "2014-01-01T14:00:00.000000000",
          "2014-01-01T14:30:00.000000000",
          "2014-01-01T15:00:00.000000000",
          "2014-01-01T15:30:00.000000000",
          "2014-01-01T16:00:00.000000000",
          "2014-01-01T16:30:00.000000000",
          "2014-01-01T17:00:00.000000000",
          "2014-01-01T17:30:00.000000000",
          "2014-01-01T18:00:00.000000000",
          "2014-01-01T18:30:00.000000000",
          "2014-01-01T19:00:00.000000000",
          "2014-01-01T19:30:00.000000000",
          "2014-01-01T20:00:00.000000000",
          "2014-01-01T20:30:00.000000000",
          "2014-01-01T21:00:00.000000000",
          "2014-01-01T21:30:00.000000000",
          "2014-01-01T22:00:00.000000000",
          "2014-01-01T22:30:00.000000000",
          "2014-01-01T23:00:00.000000000",
          "2014-01-01T23:30:00.000000000",
          "2014-01-02T00:00:00.000000000",
          "2014-01-02T00:30:00.000000000",
          "2014-01-02T01:00:00.000000000",
          "2014-01-02T01:30:00.000000000",
          "2014-01-02T02:00:00.000000000",
          "2014-01-02T02:30:00.000000000",
          "2014-01-02T03:00:00.000000000",
          "2014-01-02T03:30:00.000000000",
          "2014-01-02T04:00:00.000000000",
          "2014-01-02T04:30:00.000000000",
          "2014-01-02T05:00:00.000000000",
          "2014-01-02T05:30:00.000000000",
          "2014-01-02T06:00:00.000000000",
          "2014-01-02T06:30:00.000000000",
          "2014-01-02T07:00:00.000000000",
          "2014-01-02T07:30:00.000000000",
          "2014-01-02T08:00:00.000000000",
          "2014-01-02T08:30:00.000000000",
          "2014-01-02T09:00:00.000000000",
          "2014-01-02T09:30:00.000000000",
          "2014-01-02T10:00:00.000000000",
          "2014-01-02T10:30:00.000000000",
          "2014-01-02T11:00:00.000000000",
          "2014-01-02T11:30:00.000000000",
          "2014-01-02T12:00:00.000000000",
          "2014-01-02T12:30:00.000000000",
          "2014-01-02T13:00:00.000000000",
          "2014-01-02T13:30:00.000000000",
          "2014-01-02T14:00:00.000000000",
          "2014-01-02T14:30:00.000000000",
          "2014-01-02T15:00:00.000000000",
          "2014-01-02T15:30:00.000000000",
          "2014-01-02T16:00:00.000000000",
          "2014-01-02T16:30:00.000000000",
          "2014-01-02T17:00:00.000000000",
          "2014-01-02T17:30:00.000000000",
          "2014-01-02T18:00:00.000000000",
          "2014-01-02T18:30:00.000000000",
          "2014-01-02T19:00:00.000000000",
          "2014-01-02T19:30:00.000000000",
          "2014-01-02T20:00:00.000000000",
          "2014-01-02T20:30:00.000000000",
          "2014-01-02T21:00:00.000000000",
          "2014-01-02T21:30:00.000000000",
          "2014-01-02T22:00:00.000000000",
          "2014-01-02T22:30:00.000000000",
          "2014-01-02T23:00:00.000000000",
          "2014-01-02T23:30:00.000000000",
          "2014-01-03T00:00:00.000000000",
          "2014-01-03T00:30:00.000000000",
          "2014-01-03T01:00:00.000000000",
          "2014-01-03T01:30:00.000000000",
          "2014-01-03T02:00:00.000000000",
          "2014-01-03T02:30:00.000000000",
          "2014-01-03T03:00:00.000000000",
          "2014-01-03T03:30:00.000000000",
          "2014-01-03T04:00:00.000000000",
          "2014-01-03T04:30:00.000000000",
          "2014-01-03T05:00:00.000000000",
          "2014-01-03T05:30:00.000000000",
          "2014-01-03T06:00:00.000000000",
          "2014-01-03T06:30:00.000000000",
          "2014-01-03T07:00:00.000000000",
          "2014-01-03T07:30:00.000000000",
          "2014-01-03T08:00:00.000000000",
          "2014-01-03T08:30:00.000000000",
          "2014-01-03T09:00:00.000000000",
          "2014-01-03T09:30:00.000000000",
          "2014-01-03T10:00:00.000000000",
          "2014-01-03T10:30:00.000000000",
          "2014-01-03T11:00:00.000000000",
          "2014-01-03T11:30:00.000000000",
          "2014-01-03T12:00:00.000000000",
          "2014-01-03T12:30:00.000000000",
          "2014-01-03T13:00:00.000000000",
          "2014-01-03T13:30:00.000000000",
          "2014-01-03T14:00:00.000000000",
          "2014-01-03T14:30:00.000000000",
          "2014-01-03T15:00:00.000000000",
          "2014-01-03T15:30:00.000000000",
          "2014-01-03T16:00:00.000000000",
          "2014-01-03T16:30:00.000000000",
          "2014-01-03T17:00:00.000000000",
          "2014-01-03T17:30:00.000000000",
          "2014-01-03T18:00:00.000000000",
          "2014-01-03T18:30:00.000000000",
          "2014-01-03T19:00:00.000000000",
          "2014-01-03T19:30:00.000000000",
          "2014-01-03T20:00:00.000000000",
          "2014-01-03T20:30:00.000000000",
          "2014-01-03T21:00:00.000000000",
          "2014-01-03T21:30:00.000000000",
          "2014-01-03T22:00:00.000000000",
          "2014-01-03T22:30:00.000000000",
          "2014-01-03T23:00:00.000000000",
          "2014-01-03T23:30:00.000000000",
          "2014-01-04T00:00:00.000000000",
          "2014-01-04T00:30:00.000000000",
          "2014-01-04T01:00:00.000000000",
          "2014-01-04T01:30:00.000000000",
          "2014-01-04T02:00:00.000000000",
          "2014-01-04T02:30:00.000000000",
          "2014-01-04T03:00:00.000000000",
          "2014-01-04T03:30:00.000000000",
          "2014-01-04T04:00:00.000000000",
          "2014-01-04T04:30:00.000000000",
          "2014-01-04T05:00:00.000000000",
          "2014-01-04T05:30:00.000000000",
          "2014-01-04T06:00:00.000000000",
          "2014-01-04T06:30:00.000000000",
          "2014-01-04T07:00:00.000000000",
          "2014-01-04T07:30:00.000000000",
          "2014-01-04T08:00:00.000000000",
          "2014-01-04T08:30:00.000000000",
          "2014-01-04T09:00:00.000000000",
          "2014-01-04T09:30:00.000000000",
          "2014-01-04T10:00:00.000000000",
          "2014-01-04T10:30:00.000000000",
          "2014-01-04T11:00:00.000000000",
          "2014-01-04T11:30:00.000000000",
          "2014-01-04T12:00:00.000000000",
          "2014-01-04T12:30:00.000000000",
          "2014-01-04T13:00:00.000000000",
          "2014-01-04T13:30:00.000000000",
          "2014-01-04T14:00:00.000000000",
          "2014-01-04T14:30:00.000000000",
          "2014-01-04T15:00:00.000000000",
          "2014-01-04T15:30:00.000000000",
          "2014-01-04T16:00:00.000000000",
          "2014-01-04T16:30:00.000000000",
          "2014-01-04T17:00:00.000000000",
          "2014-01-04T17:30:00.000000000",
          "2014-01-04T18:00:00.000000000",
          "2014-01-04T18:30:00.000000000",
          "2014-01-04T19:00:00.000000000",
          "2014-01-04T19:30:00.000000000",
          "2014-01-04T20:00:00.000000000",
          "2014-01-04T20:30:00.000000000",
          "2014-01-04T21:00:00.000000000",
          "2014-01-04T21:30:00.000000000",
          "2014-01-04T22:00:00.000000000",
          "2014-01-04T22:30:00.000000000",
          "2014-01-04T23:00:00.000000000",
          "2014-01-04T23:30:00.000000000",
          "2014-01-05T00:00:00.000000000",
          "2014-01-05T00:30:00.000000000",
          "2014-01-05T01:00:00.000000000",
          "2014-01-05T01:30:00.000000000",
          "2014-01-05T02:00:00.000000000",
          "2014-01-05T02:30:00.000000000",
          "2014-01-05T03:00:00.000000000",
          "2014-01-05T03:30:00.000000000",
          "2014-01-05T04:00:00.000000000",
          "2014-01-05T04:30:00.000000000",
          "2014-01-05T05:00:00.000000000",
          "2014-01-05T05:30:00.000000000",
          "2014-01-05T06:00:00.000000000",
          "2014-01-05T06:30:00.000000000",
          "2014-01-05T07:00:00.000000000",
          "2014-01-05T07:30:00.000000000",
          "2014-01-05T08:00:00.000000000",
          "2014-01-05T08:30:00.000000000",
          "2014-01-05T09:00:00.000000000",
          "2014-01-05T09:30:00.000000000",
          "2014-01-05T10:00:00.000000000",
          "2014-01-05T10:30:00.000000000",
          "2014-01-05T11:00:00.000000000",
          "2014-01-05T11:30:00.000000000",
          "2014-01-05T12:00:00.000000000",
          "2014-01-05T12:30:00.000000000",
          "2014-01-05T13:00:00.000000000",
          "2014-01-05T13:30:00.000000000",
          "2014-01-05T14:00:00.000000000",
          "2014-01-05T14:30:00.000000000",
          "2014-01-05T15:00:00.000000000",
          "2014-01-05T15:30:00.000000000",
          "2014-01-05T16:00:00.000000000",
          "2014-01-05T16:30:00.000000000",
          "2014-01-05T17:00:00.000000000",
          "2014-01-05T17:30:00.000000000",
          "2014-01-05T18:00:00.000000000",
          "2014-01-05T18:30:00.000000000",
          "2014-01-05T19:00:00.000000000",
          "2014-01-05T19:30:00.000000000",
          "2014-01-05T20:00:00.000000000",
          "2014-01-05T20:30:00.000000000",
          "2014-01-05T21:00:00.000000000",
          "2014-01-05T21:30:00.000000000",
          "2014-01-05T22:00:00.000000000",
          "2014-01-05T22:30:00.000000000",
          "2014-01-05T23:00:00.000000000",
          "2014-01-05T23:30:00.000000000",
          "2014-01-06T00:00:00.000000000",
          "2014-01-06T00:30:00.000000000",
          "2014-01-06T01:00:00.000000000",
          "2014-01-06T01:30:00.000000000",
          "2014-01-06T02:00:00.000000000",
          "2014-01-06T02:30:00.000000000",
          "2014-01-06T03:00:00.000000000",
          "2014-01-06T03:30:00.000000000",
          "2014-01-06T04:00:00.000000000",
          "2014-01-06T04:30:00.000000000",
          "2014-01-06T05:00:00.000000000",
          "2014-01-06T05:30:00.000000000",
          "2014-01-06T06:00:00.000000000",
          "2014-01-06T06:30:00.000000000",
          "2014-01-06T07:00:00.000000000",
          "2014-01-06T07:30:00.000000000",
          "2014-01-06T08:00:00.000000000",
          "2014-01-06T08:30:00.000000000",
          "2014-01-06T09:00:00.000000000",
          "2014-01-06T09:30:00.000000000",
          "2014-01-06T10:00:00.000000000",
          "2014-01-06T10:30:00.000000000",
          "2014-01-06T11:00:00.000000000",
          "2014-01-06T11:30:00.000000000",
          "2014-01-06T12:00:00.000000000",
          "2014-01-06T12:30:00.000000000",
          "2014-01-06T13:00:00.000000000",
          "2014-01-06T13:30:00.000000000",
          "2014-01-06T14:00:00.000000000",
          "2014-01-06T14:30:00.000000000",
          "2014-01-06T15:00:00.000000000",
          "2014-01-06T15:30:00.000000000",
          "2014-01-06T16:00:00.000000000",
          "2014-01-06T16:30:00.000000000",
          "2014-01-06T17:00:00.000000000",
          "2014-01-06T17:30:00.000000000",
          "2014-01-06T18:00:00.000000000",
          "2014-01-06T18:30:00.000000000",
          "2014-01-06T19:00:00.000000000",
          "2014-01-06T19:30:00.000000000",
          "2014-01-06T20:00:00.000000000",
          "2014-01-06T20:30:00.000000000",
          "2014-01-06T21:00:00.000000000",
          "2014-01-06T21:30:00.000000000",
          "2014-01-06T22:00:00.000000000",
          "2014-01-06T22:30:00.000000000",
          "2014-01-06T23:00:00.000000000",
          "2014-01-06T23:30:00.000000000",
          "2014-01-07T00:00:00.000000000",
          "2014-01-07T00:30:00.000000000",
          "2014-01-07T01:00:00.000000000",
          "2014-01-07T01:30:00.000000000",
          "2014-01-07T02:00:00.000000000",
          "2014-01-07T02:30:00.000000000",
          "2014-01-07T03:00:00.000000000",
          "2014-01-07T03:30:00.000000000",
          "2014-01-07T04:00:00.000000000",
          "2014-01-07T04:30:00.000000000",
          "2014-01-07T05:00:00.000000000",
          "2014-01-07T05:30:00.000000000",
          "2014-01-07T06:00:00.000000000",
          "2014-01-07T06:30:00.000000000",
          "2014-01-07T07:00:00.000000000",
          "2014-01-07T07:30:00.000000000",
          "2014-01-07T08:00:00.000000000",
          "2014-01-07T08:30:00.000000000",
          "2014-01-07T09:00:00.000000000",
          "2014-01-07T09:30:00.000000000",
          "2014-01-07T10:00:00.000000000",
          "2014-01-07T10:30:00.000000000",
          "2014-01-07T11:00:00.000000000",
          "2014-01-07T11:30:00.000000000",
          "2014-01-07T12:00:00.000000000",
          "2014-01-07T12:30:00.000000000",
          "2014-01-07T13:00:00.000000000",
          "2014-01-07T13:30:00.000000000",
          "2014-01-07T14:00:00.000000000",
          "2014-01-07T14:30:00.000000000",
          "2014-01-07T15:00:00.000000000",
          "2014-01-07T15:30:00.000000000",
          "2014-01-07T16:00:00.000000000",
          "2014-01-07T16:30:00.000000000",
          "2014-01-07T17:00:00.000000000",
          "2014-01-07T17:30:00.000000000",
          "2014-01-07T18:00:00.000000000",
          "2014-01-07T18:30:00.000000000",
          "2014-01-07T19:00:00.000000000",
          "2014-01-07T19:30:00.000000000",
          "2014-01-07T20:00:00.000000000",
          "2014-01-07T20:30:00.000000000",
          "2014-01-07T21:00:00.000000000",
          "2014-01-07T21:30:00.000000000",
          "2014-01-07T22:00:00.000000000",
          "2014-01-07T22:30:00.000000000",
          "2014-01-07T23:00:00.000000000",
          "2014-01-07T23:30:00.000000000",
          "2014-01-08T00:00:00.000000000",
          "2014-01-08T00:30:00.000000000",
          "2014-01-08T01:00:00.000000000",
          "2014-01-08T01:30:00.000000000",
          "2014-01-08T02:00:00.000000000",
          "2014-01-08T02:30:00.000000000",
          "2014-01-08T03:00:00.000000000",
          "2014-01-08T03:30:00.000000000",
          "2014-01-08T04:00:00.000000000",
          "2014-01-08T04:30:00.000000000",
          "2014-01-08T05:00:00.000000000",
          "2014-01-08T05:30:00.000000000",
          "2014-01-08T06:00:00.000000000",
          "2014-01-08T06:30:00.000000000",
          "2014-01-08T07:00:00.000000000",
          "2014-01-08T07:30:00.000000000",
          "2014-01-08T08:00:00.000000000",
          "2014-01-08T08:30:00.000000000",
          "2014-01-08T09:00:00.000000000",
          "2014-01-08T09:30:00.000000000",
          "2014-01-08T10:00:00.000000000",
          "2014-01-08T10:30:00.000000000",
          "2014-01-08T11:00:00.000000000",
          "2014-01-08T11:30:00.000000000",
          "2014-01-08T12:00:00.000000000",
          "2014-01-08T12:30:00.000000000",
          "2014-01-08T13:00:00.000000000",
          "2014-01-08T13:30:00.000000000",
          "2014-01-08T14:00:00.000000000",
          "2014-01-08T14:30:00.000000000",
          "2014-01-08T15:00:00.000000000",
          "2014-01-08T15:30:00.000000000",
          "2014-01-08T16:00:00.000000000",
          "2014-01-08T16:30:00.000000000",
          "2014-01-08T17:00:00.000000000",
          "2014-01-08T17:30:00.000000000",
          "2014-01-08T18:00:00.000000000",
          "2014-01-08T18:30:00.000000000",
          "2014-01-08T19:00:00.000000000",
          "2014-01-08T19:30:00.000000000",
          "2014-01-08T20:00:00.000000000",
          "2014-01-08T20:30:00.000000000",
          "2014-01-08T21:00:00.000000000",
          "2014-01-08T21:30:00.000000000",
          "2014-01-08T22:00:00.000000000",
          "2014-01-08T22:30:00.000000000",
          "2014-01-08T23:00:00.000000000",
          "2014-01-08T23:30:00.000000000",
          "2014-01-09T00:00:00.000000000",
          "2014-01-09T00:30:00.000000000",
          "2014-01-09T01:00:00.000000000",
          "2014-01-09T01:30:00.000000000",
          "2014-01-09T02:00:00.000000000",
          "2014-01-09T02:30:00.000000000",
          "2014-01-09T03:00:00.000000000",
          "2014-01-09T03:30:00.000000000",
          "2014-01-09T04:00:00.000000000",
          "2014-01-09T04:30:00.000000000",
          "2014-01-09T05:00:00.000000000",
          "2014-01-09T05:30:00.000000000",
          "2014-01-09T06:00:00.000000000",
          "2014-01-09T06:30:00.000000000",
          "2014-01-09T07:00:00.000000000",
          "2014-01-09T07:30:00.000000000",
          "2014-01-09T08:00:00.000000000",
          "2014-01-09T08:30:00.000000000",
          "2014-01-09T09:00:00.000000000",
          "2014-01-09T09:30:00.000000000",
          "2014-01-09T10:00:00.000000000",
          "2014-01-09T10:30:00.000000000",
          "2014-01-09T11:00:00.000000000",
          "2014-01-09T11:30:00.000000000",
          "2014-01-09T12:00:00.000000000",
          "2014-01-09T12:30:00.000000000",
          "2014-01-09T13:00:00.000000000",
          "2014-01-09T13:30:00.000000000",
          "2014-01-09T14:00:00.000000000",
          "2014-01-09T14:30:00.000000000",
          "2014-01-09T15:00:00.000000000",
          "2014-01-09T15:30:00.000000000",
          "2014-01-09T16:00:00.000000000",
          "2014-01-09T16:30:00.000000000",
          "2014-01-09T17:00:00.000000000",
          "2014-01-09T17:30:00.000000000",
          "2014-01-09T18:00:00.000000000",
          "2014-01-09T18:30:00.000000000",
          "2014-01-09T19:00:00.000000000",
          "2014-01-09T19:30:00.000000000",
          "2014-01-09T20:00:00.000000000",
          "2014-01-09T20:30:00.000000000",
          "2014-01-09T21:00:00.000000000",
          "2014-01-09T21:30:00.000000000",
          "2014-01-09T22:00:00.000000000",
          "2014-01-09T22:30:00.000000000",
          "2014-01-09T23:00:00.000000000",
          "2014-01-09T23:30:00.000000000",
          "2014-01-10T00:00:00.000000000",
          "2014-01-10T00:30:00.000000000",
          "2014-01-10T01:00:00.000000000",
          "2014-01-10T01:30:00.000000000",
          "2014-01-10T02:00:00.000000000",
          "2014-01-10T02:30:00.000000000",
          "2014-01-10T03:00:00.000000000",
          "2014-01-10T03:30:00.000000000",
          "2014-01-10T04:00:00.000000000",
          "2014-01-10T04:30:00.000000000",
          "2014-01-10T05:00:00.000000000",
          "2014-01-10T05:30:00.000000000",
          "2014-01-10T06:00:00.000000000",
          "2014-01-10T06:30:00.000000000",
          "2014-01-10T07:00:00.000000000",
          "2014-01-10T07:30:00.000000000",
          "2014-01-10T08:00:00.000000000",
          "2014-01-10T08:30:00.000000000",
          "2014-01-10T09:00:00.000000000",
          "2014-01-10T09:30:00.000000000",
          "2014-01-10T10:00:00.000000000",
          "2014-01-10T10:30:00.000000000",
          "2014-01-10T11:00:00.000000000",
          "2014-01-10T11:30:00.000000000",
          "2014-01-10T12:00:00.000000000",
          "2014-01-10T12:30:00.000000000",
          "2014-01-10T13:00:00.000000000",
          "2014-01-10T13:30:00.000000000",
          "2014-01-10T14:00:00.000000000",
          "2014-01-10T14:30:00.000000000",
          "2014-01-10T15:00:00.000000000",
          "2014-01-10T15:30:00.000000000",
          "2014-01-10T16:00:00.000000000",
          "2014-01-10T16:30:00.000000000",
          "2014-01-10T17:00:00.000000000",
          "2014-01-10T17:30:00.000000000",
          "2014-01-10T18:00:00.000000000",
          "2014-01-10T18:30:00.000000000",
          "2014-01-10T19:00:00.000000000",
          "2014-01-10T19:30:00.000000000",
          "2014-01-10T20:00:00.000000000",
          "2014-01-10T20:30:00.000000000",
          "2014-01-10T21:00:00.000000000",
          "2014-01-10T21:30:00.000000000",
          "2014-01-10T22:00:00.000000000",
          "2014-01-10T22:30:00.000000000",
          "2014-01-10T23:00:00.000000000",
          "2014-01-10T23:30:00.000000000",
          "2014-01-11T00:00:00.000000000",
          "2014-01-11T00:30:00.000000000",
          "2014-01-11T01:00:00.000000000",
          "2014-01-11T01:30:00.000000000",
          "2014-01-11T02:00:00.000000000",
          "2014-01-11T02:30:00.000000000",
          "2014-01-11T03:00:00.000000000",
          "2014-01-11T03:30:00.000000000",
          "2014-01-11T04:00:00.000000000",
          "2014-01-11T04:30:00.000000000",
          "2014-01-11T05:00:00.000000000",
          "2014-01-11T05:30:00.000000000",
          "2014-01-11T06:00:00.000000000",
          "2014-01-11T06:30:00.000000000",
          "2014-01-11T07:00:00.000000000",
          "2014-01-11T07:30:00.000000000",
          "2014-01-11T08:00:00.000000000",
          "2014-01-11T08:30:00.000000000",
          "2014-01-11T09:00:00.000000000",
          "2014-01-11T09:30:00.000000000",
          "2014-01-11T10:00:00.000000000",
          "2014-01-11T10:30:00.000000000",
          "2014-01-11T11:00:00.000000000",
          "2014-01-11T11:30:00.000000000",
          "2014-01-11T12:00:00.000000000",
          "2014-01-11T12:30:00.000000000",
          "2014-01-11T13:00:00.000000000",
          "2014-01-11T13:30:00.000000000",
          "2014-01-11T14:00:00.000000000",
          "2014-01-11T14:30:00.000000000",
          "2014-01-11T15:00:00.000000000",
          "2014-01-11T15:30:00.000000000",
          "2014-01-11T16:00:00.000000000",
          "2014-01-11T16:30:00.000000000",
          "2014-01-11T17:00:00.000000000",
          "2014-01-11T17:30:00.000000000",
          "2014-01-11T18:00:00.000000000",
          "2014-01-11T18:30:00.000000000",
          "2014-01-11T19:00:00.000000000",
          "2014-01-11T19:30:00.000000000",
          "2014-01-11T20:00:00.000000000",
          "2014-01-11T20:30:00.000000000",
          "2014-01-11T21:00:00.000000000",
          "2014-01-11T21:30:00.000000000",
          "2014-01-11T22:00:00.000000000",
          "2014-01-11T22:30:00.000000000",
          "2014-01-11T23:00:00.000000000",
          "2014-01-11T23:30:00.000000000",
          "2014-01-12T00:00:00.000000000",
          "2014-01-12T00:30:00.000000000",
          "2014-01-12T01:00:00.000000000",
          "2014-01-12T01:30:00.000000000",
          "2014-01-12T02:00:00.000000000",
          "2014-01-12T02:30:00.000000000",
          "2014-01-12T03:00:00.000000000",
          "2014-01-12T03:30:00.000000000",
          "2014-01-12T04:00:00.000000000",
          "2014-01-12T04:30:00.000000000",
          "2014-01-12T05:00:00.000000000",
          "2014-01-12T05:30:00.000000000",
          "2014-01-12T06:00:00.000000000",
          "2014-01-12T06:30:00.000000000",
          "2014-01-12T07:00:00.000000000",
          "2014-01-12T07:30:00.000000000",
          "2014-01-12T08:00:00.000000000",
          "2014-01-12T08:30:00.000000000",
          "2014-01-12T09:00:00.000000000",
          "2014-01-12T09:30:00.000000000",
          "2014-01-12T10:00:00.000000000",
          "2014-01-12T10:30:00.000000000",
          "2014-01-12T11:00:00.000000000",
          "2014-01-12T11:30:00.000000000",
          "2014-01-12T12:00:00.000000000",
          "2014-01-12T12:30:00.000000000",
          "2014-01-12T13:00:00.000000000",
          "2014-01-12T13:30:00.000000000",
          "2014-01-12T14:00:00.000000000",
          "2014-01-12T14:30:00.000000000",
          "2014-01-12T15:00:00.000000000",
          "2014-01-12T15:30:00.000000000",
          "2014-01-12T16:00:00.000000000",
          "2014-01-12T16:30:00.000000000",
          "2014-01-12T17:00:00.000000000",
          "2014-01-12T17:30:00.000000000",
          "2014-01-12T18:00:00.000000000",
          "2014-01-12T18:30:00.000000000",
          "2014-01-12T19:00:00.000000000",
          "2014-01-12T19:30:00.000000000",
          "2014-01-12T20:00:00.000000000",
          "2014-01-12T20:30:00.000000000",
          "2014-01-12T21:00:00.000000000",
          "2014-01-12T21:30:00.000000000",
          "2014-01-12T22:00:00.000000000",
          "2014-01-12T22:30:00.000000000",
          "2014-01-12T23:00:00.000000000",
          "2014-01-12T23:30:00.000000000",
          "2014-01-13T00:00:00.000000000",
          "2014-01-13T00:30:00.000000000",
          "2014-01-13T01:00:00.000000000",
          "2014-01-13T01:30:00.000000000",
          "2014-01-13T02:00:00.000000000",
          "2014-01-13T02:30:00.000000000",
          "2014-01-13T03:00:00.000000000",
          "2014-01-13T03:30:00.000000000",
          "2014-01-13T04:00:00.000000000",
          "2014-01-13T04:30:00.000000000",
          "2014-01-13T05:00:00.000000000",
          "2014-01-13T05:30:00.000000000",
          "2014-01-13T06:00:00.000000000",
          "2014-01-13T06:30:00.000000000",
          "2014-01-13T07:00:00.000000000",
          "2014-01-13T07:30:00.000000000",
          "2014-01-13T08:00:00.000000000",
          "2014-01-13T08:30:00.000000000",
          "2014-01-13T09:00:00.000000000",
          "2014-01-13T09:30:00.000000000",
          "2014-01-13T10:00:00.000000000",
          "2014-01-13T10:30:00.000000000",
          "2014-01-13T11:00:00.000000000",
          "2014-01-13T11:30:00.000000000",
          "2014-01-13T12:00:00.000000000",
          "2014-01-13T12:30:00.000000000",
          "2014-01-13T13:00:00.000000000",
          "2014-01-13T13:30:00.000000000",
          "2014-01-13T14:00:00.000000000",
          "2014-01-13T14:30:00.000000000",
          "2014-01-13T15:00:00.000000000",
          "2014-01-13T15:30:00.000000000",
          "2014-01-13T16:00:00.000000000",
          "2014-01-13T16:30:00.000000000",
          "2014-01-13T17:00:00.000000000",
          "2014-01-13T17:30:00.000000000",
          "2014-01-13T18:00:00.000000000",
          "2014-01-13T18:30:00.000000000",
          "2014-01-13T19:00:00.000000000",
          "2014-01-13T19:30:00.000000000",
          "2014-01-13T20:00:00.000000000",
          "2014-01-13T20:30:00.000000000",
          "2014-01-13T21:00:00.000000000",
          "2014-01-13T21:30:00.000000000",
          "2014-01-13T22:00:00.000000000",
          "2014-01-13T22:30:00.000000000",
          "2014-01-13T23:00:00.000000000",
          "2014-01-13T23:30:00.000000000",
          "2014-01-14T00:00:00.000000000",
          "2014-01-14T00:30:00.000000000",
          "2014-01-14T01:00:00.000000000",
          "2014-01-14T01:30:00.000000000",
          "2014-01-14T02:00:00.000000000",
          "2014-01-14T02:30:00.000000000",
          "2014-01-14T03:00:00.000000000",
          "2014-01-14T03:30:00.000000000",
          "2014-01-14T04:00:00.000000000",
          "2014-01-14T04:30:00.000000000",
          "2014-01-14T05:00:00.000000000",
          "2014-01-14T05:30:00.000000000",
          "2014-01-14T06:00:00.000000000",
          "2014-01-14T06:30:00.000000000",
          "2014-01-14T07:00:00.000000000",
          "2014-01-14T07:30:00.000000000",
          "2014-01-14T08:00:00.000000000",
          "2014-01-14T08:30:00.000000000",
          "2014-01-14T09:00:00.000000000",
          "2014-01-14T09:30:00.000000000",
          "2014-01-14T10:00:00.000000000",
          "2014-01-14T10:30:00.000000000",
          "2014-01-14T11:00:00.000000000",
          "2014-01-14T11:30:00.000000000",
          "2014-01-14T12:00:00.000000000",
          "2014-01-14T12:30:00.000000000",
          "2014-01-14T13:00:00.000000000",
          "2014-01-14T13:30:00.000000000",
          "2014-01-14T14:00:00.000000000",
          "2014-01-14T14:30:00.000000000",
          "2014-01-14T15:00:00.000000000",
          "2014-01-14T15:30:00.000000000",
          "2014-01-14T16:00:00.000000000",
          "2014-01-14T16:30:00.000000000",
          "2014-01-14T17:00:00.000000000",
          "2014-01-14T17:30:00.000000000",
          "2014-01-14T18:00:00.000000000",
          "2014-01-14T18:30:00.000000000",
          "2014-01-14T19:00:00.000000000",
          "2014-01-14T19:30:00.000000000",
          "2014-01-14T20:00:00.000000000",
          "2014-01-14T20:30:00.000000000",
          "2014-01-14T21:00:00.000000000",
          "2014-01-14T21:30:00.000000000",
          "2014-01-14T22:00:00.000000000",
          "2014-01-14T22:30:00.000000000",
          "2014-01-14T23:00:00.000000000",
          "2014-01-14T23:30:00.000000000",
          "2014-01-15T00:00:00.000000000",
          "2014-01-15T00:30:00.000000000",
          "2014-01-15T01:00:00.000000000",
          "2014-01-15T01:30:00.000000000",
          "2014-01-15T02:00:00.000000000",
          "2014-01-15T02:30:00.000000000",
          "2014-01-15T03:00:00.000000000",
          "2014-01-15T03:30:00.000000000",
          "2014-01-15T04:00:00.000000000",
          "2014-01-15T04:30:00.000000000",
          "2014-01-15T05:00:00.000000000",
          "2014-01-15T05:30:00.000000000",
          "2014-01-15T06:00:00.000000000",
          "2014-01-15T06:30:00.000000000",
          "2014-01-15T07:00:00.000000000",
          "2014-01-15T07:30:00.000000000",
          "2014-01-15T08:00:00.000000000",
          "2014-01-15T08:30:00.000000000",
          "2014-01-15T09:00:00.000000000",
          "2014-01-15T09:30:00.000000000",
          "2014-01-15T10:00:00.000000000",
          "2014-01-15T10:30:00.000000000",
          "2014-01-15T11:00:00.000000000",
          "2014-01-15T11:30:00.000000000",
          "2014-01-15T12:00:00.000000000",
          "2014-01-15T12:30:00.000000000",
          "2014-01-15T13:00:00.000000000",
          "2014-01-15T13:30:00.000000000",
          "2014-01-15T14:00:00.000000000",
          "2014-01-15T14:30:00.000000000",
          "2014-01-15T15:00:00.000000000",
          "2014-01-15T15:30:00.000000000",
          "2014-01-15T16:00:00.000000000",
          "2014-01-15T16:30:00.000000000",
          "2014-01-15T17:00:00.000000000",
          "2014-01-15T17:30:00.000000000",
          "2014-01-15T18:00:00.000000000",
          "2014-01-15T18:30:00.000000000",
          "2014-01-15T19:00:00.000000000",
          "2014-01-15T19:30:00.000000000",
          "2014-01-15T20:00:00.000000000",
          "2014-01-15T20:30:00.000000000",
          "2014-01-15T21:00:00.000000000",
          "2014-01-15T21:30:00.000000000",
          "2014-01-15T22:00:00.000000000",
          "2014-01-15T22:30:00.000000000",
          "2014-01-15T23:00:00.000000000",
          "2014-01-15T23:30:00.000000000",
          "2014-01-16T00:00:00.000000000",
          "2014-01-16T00:30:00.000000000",
          "2014-01-16T01:00:00.000000000",
          "2014-01-16T01:30:00.000000000",
          "2014-01-16T02:00:00.000000000",
          "2014-01-16T02:30:00.000000000",
          "2014-01-16T03:00:00.000000000",
          "2014-01-16T03:30:00.000000000",
          "2014-01-16T04:00:00.000000000",
          "2014-01-16T04:30:00.000000000",
          "2014-01-16T05:00:00.000000000",
          "2014-01-16T05:30:00.000000000",
          "2014-01-16T06:00:00.000000000",
          "2014-01-16T06:30:00.000000000",
          "2014-01-16T07:00:00.000000000",
          "2014-01-16T07:30:00.000000000",
          "2014-01-16T08:00:00.000000000",
          "2014-01-16T08:30:00.000000000",
          "2014-01-16T09:00:00.000000000",
          "2014-01-16T09:30:00.000000000",
          "2014-01-16T10:00:00.000000000",
          "2014-01-16T10:30:00.000000000",
          "2014-01-16T11:00:00.000000000",
          "2014-01-16T11:30:00.000000000",
          "2014-01-16T12:00:00.000000000",
          "2014-01-16T12:30:00.000000000",
          "2014-01-16T13:00:00.000000000",
          "2014-01-16T13:30:00.000000000",
          "2014-01-16T14:00:00.000000000",
          "2014-01-16T14:30:00.000000000",
          "2014-01-16T15:00:00.000000000",
          "2014-01-16T15:30:00.000000000",
          "2014-01-16T16:00:00.000000000",
          "2014-01-16T16:30:00.000000000",
          "2014-01-16T17:00:00.000000000",
          "2014-01-16T17:30:00.000000000",
          "2014-01-16T18:00:00.000000000",
          "2014-01-16T18:30:00.000000000",
          "2014-01-16T19:00:00.000000000",
          "2014-01-16T19:30:00.000000000",
          "2014-01-16T20:00:00.000000000",
          "2014-01-16T20:30:00.000000000",
          "2014-01-16T21:00:00.000000000",
          "2014-01-16T21:30:00.000000000",
          "2014-01-16T22:00:00.000000000",
          "2014-01-16T22:30:00.000000000",
          "2014-01-16T23:00:00.000000000",
          "2014-01-16T23:30:00.000000000",
          "2014-01-17T00:00:00.000000000",
          "2014-01-17T00:30:00.000000000",
          "2014-01-17T01:00:00.000000000",
          "2014-01-17T01:30:00.000000000",
          "2014-01-17T02:00:00.000000000",
          "2014-01-17T02:30:00.000000000",
          "2014-01-17T03:00:00.000000000",
          "2014-01-17T03:30:00.000000000",
          "2014-01-17T04:00:00.000000000",
          "2014-01-17T04:30:00.000000000",
          "2014-01-17T05:00:00.000000000",
          "2014-01-17T05:30:00.000000000",
          "2014-01-17T06:00:00.000000000",
          "2014-01-17T06:30:00.000000000",
          "2014-01-17T07:00:00.000000000",
          "2014-01-17T07:30:00.000000000",
          "2014-01-17T08:00:00.000000000",
          "2014-01-17T08:30:00.000000000",
          "2014-01-17T09:00:00.000000000",
          "2014-01-17T09:30:00.000000000",
          "2014-01-17T10:00:00.000000000",
          "2014-01-17T10:30:00.000000000",
          "2014-01-17T11:00:00.000000000",
          "2014-01-17T11:30:00.000000000",
          "2014-01-17T12:00:00.000000000",
          "2014-01-17T12:30:00.000000000",
          "2014-01-17T13:00:00.000000000",
          "2014-01-17T13:30:00.000000000",
          "2014-01-17T14:00:00.000000000",
          "2014-01-17T14:30:00.000000000",
          "2014-01-17T15:00:00.000000000",
          "2014-01-17T15:30:00.000000000",
          "2014-01-17T16:00:00.000000000",
          "2014-01-17T16:30:00.000000000",
          "2014-01-17T17:00:00.000000000",
          "2014-01-17T17:30:00.000000000",
          "2014-01-17T18:00:00.000000000",
          "2014-01-17T18:30:00.000000000",
          "2014-01-17T19:00:00.000000000",
          "2014-01-17T19:30:00.000000000",
          "2014-01-17T20:00:00.000000000",
          "2014-01-17T20:30:00.000000000",
          "2014-01-17T21:00:00.000000000",
          "2014-01-17T21:30:00.000000000",
          "2014-01-17T22:00:00.000000000",
          "2014-01-17T22:30:00.000000000",
          "2014-01-17T23:00:00.000000000",
          "2014-01-17T23:30:00.000000000",
          "2014-01-18T00:00:00.000000000",
          "2014-01-18T00:30:00.000000000",
          "2014-01-18T01:00:00.000000000",
          "2014-01-18T01:30:00.000000000",
          "2014-01-18T02:00:00.000000000",
          "2014-01-18T02:30:00.000000000",
          "2014-01-18T03:00:00.000000000",
          "2014-01-18T03:30:00.000000000",
          "2014-01-18T04:00:00.000000000",
          "2014-01-18T04:30:00.000000000",
          "2014-01-18T05:00:00.000000000",
          "2014-01-18T05:30:00.000000000",
          "2014-01-18T06:00:00.000000000",
          "2014-01-18T06:30:00.000000000",
          "2014-01-18T07:00:00.000000000",
          "2014-01-18T07:30:00.000000000",
          "2014-01-18T08:00:00.000000000",
          "2014-01-18T08:30:00.000000000",
          "2014-01-18T09:00:00.000000000",
          "2014-01-18T09:30:00.000000000",
          "2014-01-18T10:00:00.000000000",
          "2014-01-18T10:30:00.000000000",
          "2014-01-18T11:00:00.000000000",
          "2014-01-18T11:30:00.000000000",
          "2014-01-18T12:00:00.000000000",
          "2014-01-18T12:30:00.000000000",
          "2014-01-18T13:00:00.000000000",
          "2014-01-18T13:30:00.000000000",
          "2014-01-18T14:00:00.000000000",
          "2014-01-18T14:30:00.000000000",
          "2014-01-18T15:00:00.000000000",
          "2014-01-18T15:30:00.000000000",
          "2014-01-18T16:00:00.000000000",
          "2014-01-18T16:30:00.000000000",
          "2014-01-18T17:00:00.000000000",
          "2014-01-18T17:30:00.000000000",
          "2014-01-18T18:00:00.000000000",
          "2014-01-18T18:30:00.000000000",
          "2014-01-18T19:00:00.000000000",
          "2014-01-18T19:30:00.000000000",
          "2014-01-18T20:00:00.000000000",
          "2014-01-18T20:30:00.000000000",
          "2014-01-18T21:00:00.000000000",
          "2014-01-18T21:30:00.000000000",
          "2014-01-18T22:00:00.000000000",
          "2014-01-18T22:30:00.000000000",
          "2014-01-18T23:00:00.000000000",
          "2014-01-18T23:30:00.000000000",
          "2014-01-19T00:00:00.000000000",
          "2014-01-19T00:30:00.000000000",
          "2014-01-19T01:00:00.000000000",
          "2014-01-19T01:30:00.000000000",
          "2014-01-19T02:00:00.000000000",
          "2014-01-19T02:30:00.000000000",
          "2014-01-19T03:00:00.000000000",
          "2014-01-19T03:30:00.000000000",
          "2014-01-19T04:00:00.000000000",
          "2014-01-19T04:30:00.000000000",
          "2014-01-19T05:00:00.000000000",
          "2014-01-19T05:30:00.000000000",
          "2014-01-19T06:00:00.000000000",
          "2014-01-19T06:30:00.000000000",
          "2014-01-19T07:00:00.000000000",
          "2014-01-19T07:30:00.000000000",
          "2014-01-19T08:00:00.000000000",
          "2014-01-19T08:30:00.000000000",
          "2014-01-19T09:00:00.000000000",
          "2014-01-19T09:30:00.000000000",
          "2014-01-19T10:00:00.000000000",
          "2014-01-19T10:30:00.000000000",
          "2014-01-19T11:00:00.000000000",
          "2014-01-19T11:30:00.000000000",
          "2014-01-19T12:00:00.000000000",
          "2014-01-19T12:30:00.000000000",
          "2014-01-19T13:00:00.000000000",
          "2014-01-19T13:30:00.000000000",
          "2014-01-19T14:00:00.000000000",
          "2014-01-19T14:30:00.000000000",
          "2014-01-19T15:00:00.000000000",
          "2014-01-19T15:30:00.000000000",
          "2014-01-19T16:00:00.000000000",
          "2014-01-19T16:30:00.000000000",
          "2014-01-19T17:00:00.000000000",
          "2014-01-19T17:30:00.000000000",
          "2014-01-19T18:00:00.000000000",
          "2014-01-19T18:30:00.000000000",
          "2014-01-19T19:00:00.000000000",
          "2014-01-19T19:30:00.000000000",
          "2014-01-19T20:00:00.000000000",
          "2014-01-19T20:30:00.000000000",
          "2014-01-19T21:00:00.000000000",
          "2014-01-19T21:30:00.000000000",
          "2014-01-19T22:00:00.000000000",
          "2014-01-19T22:30:00.000000000",
          "2014-01-19T23:00:00.000000000",
          "2014-01-19T23:30:00.000000000",
          "2014-01-20T00:00:00.000000000",
          "2014-01-20T00:30:00.000000000",
          "2014-01-20T01:00:00.000000000",
          "2014-01-20T01:30:00.000000000",
          "2014-01-20T02:00:00.000000000",
          "2014-01-20T02:30:00.000000000",
          "2014-01-20T03:00:00.000000000",
          "2014-01-20T03:30:00.000000000",
          "2014-01-20T04:00:00.000000000",
          "2014-01-20T04:30:00.000000000",
          "2014-01-20T05:00:00.000000000",
          "2014-01-20T05:30:00.000000000",
          "2014-01-20T06:00:00.000000000",
          "2014-01-20T06:30:00.000000000",
          "2014-01-20T07:00:00.000000000",
          "2014-01-20T07:30:00.000000000",
          "2014-01-20T08:00:00.000000000",
          "2014-01-20T08:30:00.000000000",
          "2014-01-20T09:00:00.000000000",
          "2014-01-20T09:30:00.000000000",
          "2014-01-20T10:00:00.000000000",
          "2014-01-20T10:30:00.000000000",
          "2014-01-20T11:00:00.000000000",
          "2014-01-20T11:30:00.000000000",
          "2014-01-20T12:00:00.000000000",
          "2014-01-20T12:30:00.000000000",
          "2014-01-20T13:00:00.000000000",
          "2014-01-20T13:30:00.000000000",
          "2014-01-20T14:00:00.000000000",
          "2014-01-20T14:30:00.000000000",
          "2014-01-20T15:00:00.000000000",
          "2014-01-20T15:30:00.000000000",
          "2014-01-20T16:00:00.000000000",
          "2014-01-20T16:30:00.000000000",
          "2014-01-20T17:00:00.000000000",
          "2014-01-20T17:30:00.000000000",
          "2014-01-20T18:00:00.000000000",
          "2014-01-20T18:30:00.000000000",
          "2014-01-20T19:00:00.000000000",
          "2014-01-20T19:30:00.000000000",
          "2014-01-20T20:00:00.000000000",
          "2014-01-20T20:30:00.000000000",
          "2014-01-20T21:00:00.000000000",
          "2014-01-20T21:30:00.000000000",
          "2014-01-20T22:00:00.000000000",
          "2014-01-20T22:30:00.000000000",
          "2014-01-20T23:00:00.000000000",
          "2014-01-20T23:30:00.000000000",
          "2014-01-21T00:00:00.000000000",
          "2014-01-21T00:30:00.000000000",
          "2014-01-21T01:00:00.000000000",
          "2014-01-21T01:30:00.000000000",
          "2014-01-21T02:00:00.000000000",
          "2014-01-21T02:30:00.000000000",
          "2014-01-21T03:00:00.000000000",
          "2014-01-21T03:30:00.000000000",
          "2014-01-21T04:00:00.000000000",
          "2014-01-21T04:30:00.000000000",
          "2014-01-21T05:00:00.000000000",
          "2014-01-21T05:30:00.000000000",
          "2014-01-21T06:00:00.000000000",
          "2014-01-21T06:30:00.000000000",
          "2014-01-21T07:00:00.000000000",
          "2014-01-21T07:30:00.000000000",
          "2014-01-21T08:00:00.000000000",
          "2014-01-21T08:30:00.000000000",
          "2014-01-21T09:00:00.000000000",
          "2014-01-21T09:30:00.000000000",
          "2014-01-21T10:00:00.000000000",
          "2014-01-21T10:30:00.000000000",
          "2014-01-21T11:00:00.000000000",
          "2014-01-21T11:30:00.000000000",
          "2014-01-21T12:00:00.000000000",
          "2014-01-21T12:30:00.000000000",
          "2014-01-21T13:00:00.000000000",
          "2014-01-21T13:30:00.000000000",
          "2014-01-21T14:00:00.000000000",
          "2014-01-21T14:30:00.000000000",
          "2014-01-21T15:00:00.000000000",
          "2014-01-21T15:30:00.000000000",
          "2014-01-21T16:00:00.000000000",
          "2014-01-21T16:30:00.000000000",
          "2014-01-21T17:00:00.000000000",
          "2014-01-21T17:30:00.000000000",
          "2014-01-21T18:00:00.000000000",
          "2014-01-21T18:30:00.000000000",
          "2014-01-21T19:00:00.000000000",
          "2014-01-21T19:30:00.000000000",
          "2014-01-21T20:00:00.000000000",
          "2014-01-21T20:30:00.000000000",
          "2014-01-21T21:00:00.000000000",
          "2014-01-21T21:30:00.000000000",
          "2014-01-21T22:00:00.000000000",
          "2014-01-21T22:30:00.000000000",
          "2014-01-21T23:00:00.000000000",
          "2014-01-21T23:30:00.000000000",
          "2014-01-22T00:00:00.000000000",
          "2014-01-22T00:30:00.000000000",
          "2014-01-22T01:00:00.000000000",
          "2014-01-22T01:30:00.000000000",
          "2014-01-22T02:00:00.000000000",
          "2014-01-22T02:30:00.000000000",
          "2014-01-22T03:00:00.000000000",
          "2014-01-22T03:30:00.000000000",
          "2014-01-22T04:00:00.000000000",
          "2014-01-22T04:30:00.000000000",
          "2014-01-22T05:00:00.000000000",
          "2014-01-22T05:30:00.000000000",
          "2014-01-22T06:00:00.000000000",
          "2014-01-22T06:30:00.000000000",
          "2014-01-22T07:00:00.000000000",
          "2014-01-22T07:30:00.000000000",
          "2014-01-22T08:00:00.000000000",
          "2014-01-22T08:30:00.000000000",
          "2014-01-22T09:00:00.000000000",
          "2014-01-22T09:30:00.000000000",
          "2014-01-22T10:00:00.000000000",
          "2014-01-22T10:30:00.000000000",
          "2014-01-22T11:00:00.000000000",
          "2014-01-22T11:30:00.000000000",
          "2014-01-22T12:00:00.000000000",
          "2014-01-22T12:30:00.000000000",
          "2014-01-22T13:00:00.000000000",
          "2014-01-22T13:30:00.000000000",
          "2014-01-22T14:00:00.000000000",
          "2014-01-22T14:30:00.000000000",
          "2014-01-22T15:00:00.000000000",
          "2014-01-22T15:30:00.000000000",
          "2014-01-22T16:00:00.000000000",
          "2014-01-22T16:30:00.000000000",
          "2014-01-22T17:00:00.000000000",
          "2014-01-22T17:30:00.000000000",
          "2014-01-22T18:00:00.000000000",
          "2014-01-22T18:30:00.000000000",
          "2014-01-22T19:00:00.000000000",
          "2014-01-22T19:30:00.000000000",
          "2014-01-22T20:00:00.000000000",
          "2014-01-22T20:30:00.000000000",
          "2014-01-22T21:00:00.000000000",
          "2014-01-22T21:30:00.000000000",
          "2014-01-22T22:00:00.000000000",
          "2014-01-22T22:30:00.000000000",
          "2014-01-22T23:00:00.000000000",
          "2014-01-22T23:30:00.000000000",
          "2014-01-23T00:00:00.000000000",
          "2014-01-23T00:30:00.000000000",
          "2014-01-23T01:00:00.000000000",
          "2014-01-23T01:30:00.000000000",
          "2014-01-23T02:00:00.000000000",
          "2014-01-23T02:30:00.000000000",
          "2014-01-23T03:00:00.000000000",
          "2014-01-23T03:30:00.000000000",
          "2014-01-23T04:00:00.000000000",
          "2014-01-23T04:30:00.000000000",
          "2014-01-23T05:00:00.000000000",
          "2014-01-23T05:30:00.000000000",
          "2014-01-23T06:00:00.000000000",
          "2014-01-23T06:30:00.000000000",
          "2014-01-23T07:00:00.000000000",
          "2014-01-23T07:30:00.000000000",
          "2014-01-23T08:00:00.000000000",
          "2014-01-23T08:30:00.000000000",
          "2014-01-23T09:00:00.000000000",
          "2014-01-23T09:30:00.000000000",
          "2014-01-23T10:00:00.000000000",
          "2014-01-23T10:30:00.000000000",
          "2014-01-23T11:00:00.000000000",
          "2014-01-23T11:30:00.000000000",
          "2014-01-23T12:00:00.000000000",
          "2014-01-23T12:30:00.000000000",
          "2014-01-23T13:00:00.000000000",
          "2014-01-23T13:30:00.000000000",
          "2014-01-23T14:00:00.000000000",
          "2014-01-23T14:30:00.000000000",
          "2014-01-23T15:00:00.000000000",
          "2014-01-23T15:30:00.000000000",
          "2014-01-23T16:00:00.000000000",
          "2014-01-23T16:30:00.000000000",
          "2014-01-23T17:00:00.000000000",
          "2014-01-23T17:30:00.000000000",
          "2014-01-23T18:00:00.000000000",
          "2014-01-23T18:30:00.000000000",
          "2014-01-23T19:00:00.000000000",
          "2014-01-23T19:30:00.000000000",
          "2014-01-23T20:00:00.000000000",
          "2014-01-23T20:30:00.000000000",
          "2014-01-23T21:00:00.000000000",
          "2014-01-23T21:30:00.000000000",
          "2014-01-23T22:00:00.000000000",
          "2014-01-23T22:30:00.000000000",
          "2014-01-23T23:00:00.000000000",
          "2014-01-23T23:30:00.000000000",
          "2014-01-24T00:00:00.000000000",
          "2014-01-24T00:30:00.000000000",
          "2014-01-24T01:00:00.000000000",
          "2014-01-24T01:30:00.000000000",
          "2014-01-24T02:00:00.000000000",
          "2014-01-24T02:30:00.000000000",
          "2014-01-24T03:00:00.000000000",
          "2014-01-24T03:30:00.000000000",
          "2014-01-24T04:00:00.000000000",
          "2014-01-24T04:30:00.000000000",
          "2014-01-24T05:00:00.000000000",
          "2014-01-24T05:30:00.000000000",
          "2014-01-24T06:00:00.000000000",
          "2014-01-24T06:30:00.000000000",
          "2014-01-24T07:00:00.000000000",
          "2014-01-24T07:30:00.000000000",
          "2014-01-24T08:00:00.000000000",
          "2014-01-24T08:30:00.000000000",
          "2014-01-24T09:00:00.000000000",
          "2014-01-24T09:30:00.000000000",
          "2014-01-24T10:00:00.000000000",
          "2014-01-24T10:30:00.000000000",
          "2014-01-24T11:00:00.000000000",
          "2014-01-24T11:30:00.000000000",
          "2014-01-24T12:00:00.000000000",
          "2014-01-24T12:30:00.000000000",
          "2014-01-24T13:00:00.000000000",
          "2014-01-24T13:30:00.000000000",
          "2014-01-24T14:00:00.000000000",
          "2014-01-24T14:30:00.000000000",
          "2014-01-24T15:00:00.000000000",
          "2014-01-24T15:30:00.000000000",
          "2014-01-24T16:00:00.000000000",
          "2014-01-24T16:30:00.000000000",
          "2014-01-24T17:00:00.000000000",
          "2014-01-24T17:30:00.000000000",
          "2014-01-24T18:00:00.000000000",
          "2014-01-24T18:30:00.000000000",
          "2014-01-24T19:00:00.000000000",
          "2014-01-24T19:30:00.000000000",
          "2014-01-24T20:00:00.000000000",
          "2014-01-24T20:30:00.000000000",
          "2014-01-24T21:00:00.000000000",
          "2014-01-24T21:30:00.000000000",
          "2014-01-24T22:00:00.000000000",
          "2014-01-24T22:30:00.000000000",
          "2014-01-24T23:00:00.000000000",
          "2014-01-24T23:30:00.000000000",
          "2014-01-25T00:00:00.000000000",
          "2014-01-25T00:30:00.000000000",
          "2014-01-25T01:00:00.000000000",
          "2014-01-25T01:30:00.000000000",
          "2014-01-25T02:00:00.000000000",
          "2014-01-25T02:30:00.000000000",
          "2014-01-25T03:00:00.000000000",
          "2014-01-25T03:30:00.000000000",
          "2014-01-25T04:00:00.000000000",
          "2014-01-25T04:30:00.000000000",
          "2014-01-25T05:00:00.000000000",
          "2014-01-25T05:30:00.000000000",
          "2014-01-25T06:00:00.000000000",
          "2014-01-25T06:30:00.000000000",
          "2014-01-25T07:00:00.000000000",
          "2014-01-25T07:30:00.000000000",
          "2014-01-25T08:00:00.000000000",
          "2014-01-25T08:30:00.000000000",
          "2014-01-25T09:00:00.000000000",
          "2014-01-25T09:30:00.000000000",
          "2014-01-25T10:00:00.000000000",
          "2014-01-25T10:30:00.000000000",
          "2014-01-25T11:00:00.000000000",
          "2014-01-25T11:30:00.000000000",
          "2014-01-25T12:00:00.000000000",
          "2014-01-25T12:30:00.000000000",
          "2014-01-25T13:00:00.000000000",
          "2014-01-25T13:30:00.000000000",
          "2014-01-25T14:00:00.000000000",
          "2014-01-25T14:30:00.000000000",
          "2014-01-25T15:00:00.000000000",
          "2014-01-25T15:30:00.000000000",
          "2014-01-25T16:00:00.000000000",
          "2014-01-25T16:30:00.000000000",
          "2014-01-25T17:00:00.000000000",
          "2014-01-25T17:30:00.000000000",
          "2014-01-25T18:00:00.000000000",
          "2014-01-25T18:30:00.000000000",
          "2014-01-25T19:00:00.000000000",
          "2014-01-25T19:30:00.000000000",
          "2014-01-25T20:00:00.000000000",
          "2014-01-25T20:30:00.000000000",
          "2014-01-25T21:00:00.000000000",
          "2014-01-25T21:30:00.000000000",
          "2014-01-25T22:00:00.000000000",
          "2014-01-25T22:30:00.000000000",
          "2014-01-25T23:00:00.000000000",
          "2014-01-25T23:30:00.000000000",
          "2014-01-26T00:00:00.000000000",
          "2014-01-26T00:30:00.000000000",
          "2014-01-26T01:00:00.000000000",
          "2014-01-26T01:30:00.000000000",
          "2014-01-26T02:00:00.000000000",
          "2014-01-26T02:30:00.000000000",
          "2014-01-26T03:00:00.000000000",
          "2014-01-26T03:30:00.000000000",
          "2014-01-26T04:00:00.000000000",
          "2014-01-26T04:30:00.000000000",
          "2014-01-26T05:00:00.000000000",
          "2014-01-26T05:30:00.000000000",
          "2014-01-26T06:00:00.000000000",
          "2014-01-26T06:30:00.000000000",
          "2014-01-26T07:00:00.000000000",
          "2014-01-26T07:30:00.000000000",
          "2014-01-26T08:00:00.000000000",
          "2014-01-26T08:30:00.000000000",
          "2014-01-26T09:00:00.000000000",
          "2014-01-26T09:30:00.000000000",
          "2014-01-26T10:00:00.000000000",
          "2014-01-26T10:30:00.000000000",
          "2014-01-26T11:00:00.000000000",
          "2014-01-26T11:30:00.000000000",
          "2014-01-26T12:00:00.000000000",
          "2014-01-26T12:30:00.000000000",
          "2014-01-26T13:00:00.000000000",
          "2014-01-26T13:30:00.000000000",
          "2014-01-26T14:00:00.000000000",
          "2014-01-26T14:30:00.000000000",
          "2014-01-26T15:00:00.000000000",
          "2014-01-26T15:30:00.000000000",
          "2014-01-26T16:00:00.000000000",
          "2014-01-26T16:30:00.000000000",
          "2014-01-26T17:00:00.000000000",
          "2014-01-26T17:30:00.000000000",
          "2014-01-26T18:00:00.000000000",
          "2014-01-26T18:30:00.000000000",
          "2014-01-26T19:00:00.000000000",
          "2014-01-26T19:30:00.000000000",
          "2014-01-26T20:00:00.000000000",
          "2014-01-26T20:30:00.000000000",
          "2014-01-26T21:00:00.000000000",
          "2014-01-26T21:30:00.000000000",
          "2014-01-26T22:00:00.000000000",
          "2014-01-26T22:30:00.000000000",
          "2014-01-26T23:00:00.000000000",
          "2014-01-26T23:30:00.000000000",
          "2014-01-27T00:00:00.000000000",
          "2014-01-27T00:30:00.000000000",
          "2014-01-27T01:00:00.000000000",
          "2014-01-27T01:30:00.000000000",
          "2014-01-27T02:00:00.000000000",
          "2014-01-27T02:30:00.000000000",
          "2014-01-27T03:00:00.000000000",
          "2014-01-27T03:30:00.000000000",
          "2014-01-27T04:00:00.000000000",
          "2014-01-27T04:30:00.000000000",
          "2014-01-27T05:00:00.000000000",
          "2014-01-27T05:30:00.000000000",
          "2014-01-27T06:00:00.000000000",
          "2014-01-27T06:30:00.000000000",
          "2014-01-27T07:00:00.000000000",
          "2014-01-27T07:30:00.000000000",
          "2014-01-27T08:00:00.000000000",
          "2014-01-27T08:30:00.000000000",
          "2014-01-27T09:00:00.000000000",
          "2014-01-27T09:30:00.000000000",
          "2014-01-27T10:00:00.000000000",
          "2014-01-27T10:30:00.000000000",
          "2014-01-27T11:00:00.000000000",
          "2014-01-27T11:30:00.000000000",
          "2014-01-27T12:00:00.000000000",
          "2014-01-27T12:30:00.000000000",
          "2014-01-27T13:00:00.000000000",
          "2014-01-27T13:30:00.000000000",
          "2014-01-27T14:00:00.000000000",
          "2014-01-27T14:30:00.000000000",
          "2014-01-27T15:00:00.000000000",
          "2014-01-27T15:30:00.000000000",
          "2014-01-27T16:00:00.000000000",
          "2014-01-27T16:30:00.000000000",
          "2014-01-27T17:00:00.000000000",
          "2014-01-27T17:30:00.000000000",
          "2014-01-27T18:00:00.000000000",
          "2014-01-27T18:30:00.000000000",
          "2014-01-27T19:00:00.000000000",
          "2014-01-27T19:30:00.000000000",
          "2014-01-27T20:00:00.000000000",
          "2014-01-27T20:30:00.000000000",
          "2014-01-27T21:00:00.000000000",
          "2014-01-27T21:30:00.000000000",
          "2014-01-27T22:00:00.000000000",
          "2014-01-27T22:30:00.000000000",
          "2014-01-27T23:00:00.000000000",
          "2014-01-27T23:30:00.000000000",
          "2014-01-28T00:00:00.000000000",
          "2014-01-28T00:30:00.000000000",
          "2014-01-28T01:00:00.000000000",
          "2014-01-28T01:30:00.000000000",
          "2014-01-28T02:00:00.000000000",
          "2014-01-28T02:30:00.000000000",
          "2014-01-28T03:00:00.000000000",
          "2014-01-28T03:30:00.000000000",
          "2014-01-28T04:00:00.000000000",
          "2014-01-28T04:30:00.000000000",
          "2014-01-28T05:00:00.000000000",
          "2014-01-28T05:30:00.000000000",
          "2014-01-28T06:00:00.000000000",
          "2014-01-28T06:30:00.000000000",
          "2014-01-28T07:00:00.000000000",
          "2014-01-28T07:30:00.000000000",
          "2014-01-28T08:00:00.000000000",
          "2014-01-28T08:30:00.000000000",
          "2014-01-28T09:00:00.000000000",
          "2014-01-28T09:30:00.000000000",
          "2014-01-28T10:00:00.000000000",
          "2014-01-28T10:30:00.000000000",
          "2014-01-28T11:00:00.000000000",
          "2014-01-28T11:30:00.000000000",
          "2014-01-28T12:00:00.000000000",
          "2014-01-28T12:30:00.000000000",
          "2014-01-28T13:00:00.000000000",
          "2014-01-28T13:30:00.000000000",
          "2014-01-28T14:00:00.000000000",
          "2014-01-28T14:30:00.000000000",
          "2014-01-28T15:00:00.000000000",
          "2014-01-28T15:30:00.000000000",
          "2014-01-28T16:00:00.000000000",
          "2014-01-28T16:30:00.000000000",
          "2014-01-28T17:00:00.000000000",
          "2014-01-28T17:30:00.000000000",
          "2014-01-28T18:00:00.000000000",
          "2014-01-28T18:30:00.000000000",
          "2014-01-28T19:00:00.000000000",
          "2014-01-28T19:30:00.000000000",
          "2014-01-28T20:00:00.000000000",
          "2014-01-28T20:30:00.000000000",
          "2014-01-28T21:00:00.000000000",
          "2014-01-28T21:30:00.000000000",
          "2014-01-28T22:00:00.000000000",
          "2014-01-28T22:30:00.000000000",
          "2014-01-28T23:00:00.000000000",
          "2014-01-28T23:30:00.000000000",
          "2014-01-29T00:00:00.000000000",
          "2014-01-29T00:30:00.000000000",
          "2014-01-29T01:00:00.000000000",
          "2014-01-29T01:30:00.000000000",
          "2014-01-29T02:00:00.000000000",
          "2014-01-29T02:30:00.000000000",
          "2014-01-29T03:00:00.000000000",
          "2014-01-29T03:30:00.000000000",
          "2014-01-29T04:00:00.000000000",
          "2014-01-29T04:30:00.000000000",
          "2014-01-29T05:00:00.000000000",
          "2014-01-29T05:30:00.000000000",
          "2014-01-29T06:00:00.000000000",
          "2014-01-29T06:30:00.000000000",
          "2014-01-29T07:00:00.000000000",
          "2014-01-29T07:30:00.000000000",
          "2014-01-29T08:00:00.000000000",
          "2014-01-29T08:30:00.000000000",
          "2014-01-29T09:00:00.000000000",
          "2014-01-29T09:30:00.000000000",
          "2014-01-29T10:00:00.000000000",
          "2014-01-29T10:30:00.000000000",
          "2014-01-29T11:00:00.000000000",
          "2014-01-29T11:30:00.000000000",
          "2014-01-29T12:00:00.000000000",
          "2014-01-29T12:30:00.000000000",
          "2014-01-29T13:00:00.000000000",
          "2014-01-29T13:30:00.000000000",
          "2014-01-29T14:00:00.000000000",
          "2014-01-29T14:30:00.000000000",
          "2014-01-29T15:00:00.000000000",
          "2014-01-29T15:30:00.000000000",
          "2014-01-29T16:00:00.000000000",
          "2014-01-29T16:30:00.000000000",
          "2014-01-29T17:00:00.000000000",
          "2014-01-29T17:30:00.000000000",
          "2014-01-29T18:00:00.000000000",
          "2014-01-29T18:30:00.000000000",
          "2014-01-29T19:00:00.000000000",
          "2014-01-29T19:30:00.000000000",
          "2014-01-29T20:00:00.000000000",
          "2014-01-29T20:30:00.000000000",
          "2014-01-29T21:00:00.000000000",
          "2014-01-29T21:30:00.000000000",
          "2014-01-29T22:00:00.000000000",
          "2014-01-29T22:30:00.000000000",
          "2014-01-29T23:00:00.000000000",
          "2014-01-29T23:30:00.000000000",
          "2014-01-30T00:00:00.000000000",
          "2014-01-30T00:30:00.000000000",
          "2014-01-30T01:00:00.000000000",
          "2014-01-30T01:30:00.000000000",
          "2014-01-30T02:00:00.000000000",
          "2014-01-30T02:30:00.000000000",
          "2014-01-30T03:00:00.000000000",
          "2014-01-30T03:30:00.000000000",
          "2014-01-30T04:00:00.000000000",
          "2014-01-30T04:30:00.000000000",
          "2014-01-30T05:00:00.000000000",
          "2014-01-30T05:30:00.000000000",
          "2014-01-30T06:00:00.000000000",
          "2014-01-30T06:30:00.000000000",
          "2014-01-30T07:00:00.000000000",
          "2014-01-30T07:30:00.000000000",
          "2014-01-30T08:00:00.000000000",
          "2014-01-30T08:30:00.000000000",
          "2014-01-30T09:00:00.000000000",
          "2014-01-30T09:30:00.000000000",
          "2014-01-30T10:00:00.000000000",
          "2014-01-30T10:30:00.000000000",
          "2014-01-30T11:00:00.000000000",
          "2014-01-30T11:30:00.000000000",
          "2014-01-30T12:00:00.000000000",
          "2014-01-30T12:30:00.000000000",
          "2014-01-30T13:00:00.000000000",
          "2014-01-30T13:30:00.000000000",
          "2014-01-30T14:00:00.000000000",
          "2014-01-30T14:30:00.000000000",
          "2014-01-30T15:00:00.000000000",
          "2014-01-30T15:30:00.000000000",
          "2014-01-30T16:00:00.000000000",
          "2014-01-30T16:30:00.000000000",
          "2014-01-30T17:00:00.000000000",
          "2014-01-30T17:30:00.000000000",
          "2014-01-30T18:00:00.000000000",
          "2014-01-30T18:30:00.000000000",
          "2014-01-30T19:00:00.000000000",
          "2014-01-30T19:30:00.000000000",
          "2014-01-30T20:00:00.000000000",
          "2014-01-30T20:30:00.000000000",
          "2014-01-30T21:00:00.000000000",
          "2014-01-30T21:30:00.000000000",
          "2014-01-30T22:00:00.000000000",
          "2014-01-30T22:30:00.000000000",
          "2014-01-30T23:00:00.000000000",
          "2014-01-30T23:30:00.000000000",
          "2014-01-31T00:00:00.000000000",
          "2014-01-31T00:30:00.000000000",
          "2014-01-31T01:00:00.000000000",
          "2014-01-31T01:30:00.000000000",
          "2014-01-31T02:00:00.000000000",
          "2014-01-31T02:30:00.000000000",
          "2014-01-31T03:00:00.000000000",
          "2014-01-31T03:30:00.000000000",
          "2014-01-31T04:00:00.000000000",
          "2014-01-31T04:30:00.000000000",
          "2014-01-31T05:00:00.000000000",
          "2014-01-31T05:30:00.000000000",
          "2014-01-31T06:00:00.000000000",
          "2014-01-31T06:30:00.000000000",
          "2014-01-31T07:00:00.000000000",
          "2014-01-31T07:30:00.000000000",
          "2014-01-31T08:00:00.000000000",
          "2014-01-31T08:30:00.000000000",
          "2014-01-31T09:00:00.000000000",
          "2014-01-31T09:30:00.000000000",
          "2014-01-31T10:00:00.000000000",
          "2014-01-31T10:30:00.000000000",
          "2014-01-31T11:00:00.000000000",
          "2014-01-31T11:30:00.000000000",
          "2014-01-31T12:00:00.000000000",
          "2014-01-31T12:30:00.000000000",
          "2014-01-31T13:00:00.000000000",
          "2014-01-31T13:30:00.000000000",
          "2014-01-31T14:00:00.000000000",
          "2014-01-31T14:30:00.000000000",
          "2014-01-31T15:00:00.000000000",
          "2014-01-31T15:30:00.000000000",
          "2014-01-31T16:00:00.000000000",
          "2014-01-31T16:30:00.000000000",
          "2014-01-31T17:00:00.000000000",
          "2014-01-31T17:30:00.000000000",
          "2014-01-31T18:00:00.000000000",
          "2014-01-31T18:30:00.000000000",
          "2014-01-31T19:00:00.000000000",
          "2014-01-31T19:30:00.000000000",
          "2014-01-31T20:00:00.000000000",
          "2014-01-31T20:30:00.000000000",
          "2014-01-31T21:00:00.000000000",
          "2014-01-31T21:30:00.000000000",
          "2014-01-31T22:00:00.000000000",
          "2014-01-31T22:30:00.000000000",
          "2014-01-31T23:00:00.000000000",
          "2014-01-31T23:30:00.000000000"
         ],
         "y": {
          "bdata": "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",
          "dtype": "f8"
         }
        }
       ],
       "layout": {
        "autosize": false,
        "height": 500,
        "legend": {
         "font": {
          "size": 15
         },
         "orientation": "h",
         "title": {},
         "x": 1,
         "xanchor": "right",
         "y": 0.98,
         "yanchor": "bottom"
        },
        "template": {
         "data": {
          "bar": [
           {
            "error_x": {
             "color": "#2a3f5f"
            },
            "error_y": {
             "color": "#2a3f5f"
            },
            "marker": {
             "line": {
              "color": "white",
              "width": 0.5
             },
             "pattern": {
              "fillmode": "overlay",
              "size": 10,
              "solidity": 0.2
             }
            },
            "type": "bar"
           }
          ],
          "barpolar": [
           {
            "marker": {
             "line": {
              "color": "white",
              "width": 0.5
             },
             "pattern": {
              "fillmode": "overlay",
              "size": 10,
              "solidity": 0.2
             }
            },
            "type": "barpolar"
           }
          ],
          "carpet": [
           {
            "aaxis": {
             "endlinecolor": "#2a3f5f",
             "gridcolor": "#C8D4E3",
             "linecolor": "#C8D4E3",
             "minorgridcolor": "#C8D4E3",
             "startlinecolor": "#2a3f5f"
            },
            "baxis": {
             "endlinecolor": "#2a3f5f",
             "gridcolor": "#C8D4E3",
             "linecolor": "#C8D4E3",
             "minorgridcolor": "#C8D4E3",
             "startlinecolor": "#2a3f5f"
            },
            "type": "carpet"
           }
          ],
          "choropleth": [
           {
            "colorbar": {
             "outlinewidth": 0,
             "ticks": ""
            },
            "type": "choropleth"
           }
          ],
          "contour": [
           {
            "colorbar": {
             "outlinewidth": 0,
             "ticks": ""
            },
            "colorscale": [
             [
              0,
              "#0d0887"
             ],
             [
              0.1111111111111111,
              "#46039f"
             ],
             [
              0.2222222222222222,
              "#7201a8"
             ],
             [
              0.3333333333333333,
              "#9c179e"
             ],
             [
              0.4444444444444444,
              "#bd3786"
             ],
             [
              0.5555555555555556,
              "#d8576b"
             ],
             [
              0.6666666666666666,
              "#ed7953"
             ],
             [
              0.7777777777777778,
              "#fb9f3a"
             ],
             [
              0.8888888888888888,
              "#fdca26"
             ],
             [
              1,
              "#f0f921"
             ]
            ],
            "type": "contour"
           }
          ],
          "contourcarpet": [
           {
            "colorbar": {
             "outlinewidth": 0,
             "ticks": ""
            },
            "type": "contourcarpet"
           }
          ],
          "heatmap": [
           {
            "colorbar": {
             "outlinewidth": 0,
             "ticks": ""
            },
            "colorscale": [
             [
              0,
              "#0d0887"
             ],
             [
              0.1111111111111111,
              "#46039f"
             ],
             [
              0.2222222222222222,
              "#7201a8"
             ],
             [
              0.3333333333333333,
              "#9c179e"
             ],
             [
              0.4444444444444444,
              "#bd3786"
             ],
             [
              0.5555555555555556,
              "#d8576b"
             ],
             [
              0.6666666666666666,
              "#ed7953"
             ],
             [
              0.7777777777777778,
              "#fb9f3a"
             ],
             [
              0.8888888888888888,
              "#fdca26"
             ],
             [
              1,
              "#f0f921"
             ]
            ],
            "type": "heatmap"
           }
          ],
          "histogram": [
           {
            "marker": {
             "pattern": {
              "fillmode": "overlay",
              "size": 10,
              "solidity": 0.2
             }
            },
            "type": "histogram"
           }
          ],
          "histogram2d": [
           {
            "colorbar": {
             "outlinewidth": 0,
             "ticks": ""
            },
            "colorscale": [
             [
              0,
              "#0d0887"
             ],
             [
              0.1111111111111111,
              "#46039f"
             ],
             [
              0.2222222222222222,
              "#7201a8"
             ],
             [
              0.3333333333333333,
              "#9c179e"
             ],
             [
              0.4444444444444444,
              "#bd3786"
             ],
             [
              0.5555555555555556,
              "#d8576b"
             ],
             [
              0.6666666666666666,
              "#ed7953"
             ],
             [
              0.7777777777777778,
              "#fb9f3a"
             ],
             [
              0.8888888888888888,
              "#fdca26"
             ],
             [
              1,
              "#f0f921"
             ]
            ],
            "type": "histogram2d"
           }
          ],
          "histogram2dcontour": [
           {
            "colorbar": {
             "outlinewidth": 0,
             "ticks": ""
            },
            "colorscale": [
             [
              0,
              "#0d0887"
             ],
             [
              0.1111111111111111,
              "#46039f"
             ],
             [
              0.2222222222222222,
              "#7201a8"
             ],
             [
              0.3333333333333333,
              "#9c179e"
             ],
             [
              0.4444444444444444,
              "#bd3786"
             ],
             [
              0.5555555555555556,
              "#d8576b"
             ],
             [
              0.6666666666666666,
              "#ed7953"
             ],
             [
              0.7777777777777778,
              "#fb9f3a"
             ],
             [
              0.8888888888888888,
              "#fdca26"
             ],
             [
              1,
              "#f0f921"
             ]
            ],
            "type": "histogram2dcontour"
           }
          ],
          "mesh3d": [
           {
            "colorbar": {
             "outlinewidth": 0,
             "ticks": ""
            },
            "type": "mesh3d"
           }
          ],
          "parcoords": [
           {
            "line": {
             "colorbar": {
              "outlinewidth": 0,
              "ticks": ""
             }
            },
            "type": "parcoords"
           }
          ],
          "pie": [
           {
            "automargin": true,
            "type": "pie"
           }
          ],
          "scatter": [
           {
            "fillpattern": {
             "fillmode": "overlay",
             "size": 10,
             "solidity": 0.2
            },
            "type": "scatter"
           }
          ],
          "scatter3d": [
           {
            "line": {
             "colorbar": {
              "outlinewidth": 0,
              "ticks": ""
             }
            },
            "marker": {
             "colorbar": {
              "outlinewidth": 0,
              "ticks": ""
             }
            },
            "type": "scatter3d"
           }
          ],
          "scattercarpet": [
           {
            "marker": {
             "colorbar": {
              "outlinewidth": 0,
              "ticks": ""
             }
            },
            "type": "scattercarpet"
           }
          ],
          "scattergeo": [
           {
            "marker": {
             "colorbar": {
              "outlinewidth": 0,
              "ticks": ""
             }
            },
            "type": "scattergeo"
           }
          ],
          "scattergl": [
           {
            "marker": {
             "colorbar": {
              "outlinewidth": 0,
              "ticks": ""
             }
            },
            "type": "scattergl"
           }
          ],
          "scattermap": [
           {
            "marker": {
             "colorbar": {
              "outlinewidth": 0,
              "ticks": ""
             }
            },
            "type": "scattermap"
           }
          ],
          "scattermapbox": [
           {
            "marker": {
             "colorbar": {
              "outlinewidth": 0,
              "ticks": ""
             }
            },
            "type": "scattermapbox"
           }
          ],
          "scatterpolar": [
           {
            "marker": {
             "colorbar": {
              "outlinewidth": 0,
              "ticks": ""
             }
            },
            "type": "scatterpolar"
           }
          ],
          "scatterpolargl": [
           {
            "marker": {
             "colorbar": {
              "outlinewidth": 0,
              "ticks": ""
             }
            },
            "type": "scatterpolargl"
           }
          ],
          "scatterternary": [
           {
            "marker": {
             "colorbar": {
              "outlinewidth": 0,
              "ticks": ""
             }
            },
            "type": "scatterternary"
           }
          ],
          "surface": [
           {
            "colorbar": {
             "outlinewidth": 0,
             "ticks": ""
            },
            "colorscale": [
             [
              0,
              "#0d0887"
             ],
             [
              0.1111111111111111,
              "#46039f"
             ],
             [
              0.2222222222222222,
              "#7201a8"
             ],
             [
              0.3333333333333333,
              "#9c179e"
             ],
             [
              0.4444444444444444,
              "#bd3786"
             ],
             [
              0.5555555555555556,
              "#d8576b"
             ],
             [
              0.6666666666666666,
              "#ed7953"
             ],
             [
              0.7777777777777778,
              "#fb9f3a"
             ],
             [
              0.8888888888888888,
              "#fdca26"
             ],
             [
              1,
              "#f0f921"
             ]
            ],
            "type": "surface"
           }
          ],
          "table": [
           {
            "cells": {
             "fill": {
              "color": "#EBF0F8"
             },
             "line": {
              "color": "white"
             }
            },
            "header": {
             "fill": {
              "color": "#C8D4E3"
             },
             "line": {
              "color": "white"
             }
            },
            "type": "table"
           }
          ]
         },
         "layout": {
          "annotationdefaults": {
           "arrowcolor": "#2a3f5f",
           "arrowhead": 0,
           "arrowwidth": 1
          },
          "autotypenumbers": "strict",
          "coloraxis": {
           "colorbar": {
            "outlinewidth": 0,
            "ticks": ""
           }
          },
          "colorscale": {
           "diverging": [
            [
             0,
             "#8e0152"
            ],
            [
             0.1,
             "#c51b7d"
            ],
            [
             0.2,
             "#de77ae"
            ],
            [
             0.3,
             "#f1b6da"
            ],
            [
             0.4,
             "#fde0ef"
            ],
            [
             0.5,
             "#f7f7f7"
            ],
            [
             0.6,
             "#e6f5d0"
            ],
            [
             0.7,
             "#b8e186"
            ],
            [
             0.8,
             "#7fbc41"
            ],
            [
             0.9,
             "#4d9221"
            ],
            [
             1,
             "#276419"
            ]
           ],
           "sequential": [
            [
             0,
             "#0d0887"
            ],
            [
             0.1111111111111111,
             "#46039f"
            ],
            [
             0.2222222222222222,
             "#7201a8"
            ],
            [
             0.3333333333333333,
             "#9c179e"
            ],
            [
             0.4444444444444444,
             "#bd3786"
            ],
            [
             0.5555555555555556,
             "#d8576b"
            ],
            [
             0.6666666666666666,
             "#ed7953"
            ],
            [
             0.7777777777777778,
             "#fb9f3a"
            ],
            [
             0.8888888888888888,
             "#fdca26"
            ],
            [
             1,
             "#f0f921"
            ]
           ],
           "sequentialminus": [
            [
             0,
             "#0d0887"
            ],
            [
             0.1111111111111111,
             "#46039f"
            ],
            [
             0.2222222222222222,
             "#7201a8"
            ],
            [
             0.3333333333333333,
             "#9c179e"
            ],
            [
             0.4444444444444444,
             "#bd3786"
            ],
            [
             0.5555555555555556,
             "#d8576b"
            ],
            [
             0.6666666666666666,
             "#ed7953"
            ],
            [
             0.7777777777777778,
             "#fb9f3a"
            ],
            [
             0.8888888888888888,
             "#fdca26"
            ],
            [
             1,
             "#f0f921"
            ]
           ]
          },
          "colorway": [
           "#636efa",
           "#EF553B",
           "#00cc96",
           "#ab63fa",
           "#FFA15A",
           "#19d3f3",
           "#FF6692",
           "#B6E880",
           "#FF97FF",
           "#FECB52"
          ],
          "font": {
           "color": "#2a3f5f"
          },
          "geo": {
           "bgcolor": "white",
           "lakecolor": "white",
           "landcolor": "white",
           "showlakes": true,
           "showland": true,
           "subunitcolor": "#C8D4E3"
          },
          "hoverlabel": {
           "align": "left"
          },
          "hovermode": "closest",
          "mapbox": {
           "style": "light"
          },
          "paper_bgcolor": "white",
          "plot_bgcolor": "white",
          "polar": {
           "angularaxis": {
            "gridcolor": "#EBF0F8",
            "linecolor": "#EBF0F8",
            "ticks": ""
           },
           "bgcolor": "white",
           "radialaxis": {
            "gridcolor": "#EBF0F8",
            "linecolor": "#EBF0F8",
            "ticks": ""
           }
          },
          "scene": {
           "xaxis": {
            "backgroundcolor": "white",
            "gridcolor": "#DFE8F3",
            "gridwidth": 2,
            "linecolor": "#EBF0F8",
            "showbackground": true,
            "ticks": "",
            "zerolinecolor": "#EBF0F8"
           },
           "yaxis": {
            "backgroundcolor": "white",
            "gridcolor": "#DFE8F3",
            "gridwidth": 2,
            "linecolor": "#EBF0F8",
            "showbackground": true,
            "ticks": "",
            "zerolinecolor": "#EBF0F8"
           },
           "zaxis": {
            "backgroundcolor": "white",
            "gridcolor": "#DFE8F3",
            "gridwidth": 2,
            "linecolor": "#EBF0F8",
            "showbackground": true,
            "ticks": "",
            "zerolinecolor": "#EBF0F8"
           }
          },
          "shapedefaults": {
           "line": {
            "color": "#2a3f5f"
           }
          },
          "ternary": {
           "aaxis": {
            "gridcolor": "#DFE8F3",
            "linecolor": "#A2B1C6",
            "ticks": ""
           },
           "baxis": {
            "gridcolor": "#DFE8F3",
            "linecolor": "#A2B1C6",
            "ticks": ""
           },
           "bgcolor": "white",
           "caxis": {
            "gridcolor": "#DFE8F3",
            "linecolor": "#A2B1C6",
            "ticks": ""
           }
          },
          "title": {
           "x": 0.05
          },
          "xaxis": {
           "automargin": true,
           "gridcolor": "#EBF0F8",
           "linecolor": "#EBF0F8",
           "ticks": "",
           "title": {
            "standoff": 15
           },
           "zerolinecolor": "#EBF0F8",
           "zerolinewidth": 2
          },
          "yaxis": {
           "automargin": true,
           "gridcolor": "#EBF0F8",
           "linecolor": "#EBF0F8",
           "ticks": "",
           "title": {
            "standoff": 15
           },
           "zerolinecolor": "#EBF0F8",
           "zerolinewidth": 2
          }
         }
        },
        "title": {
         "text": "AutoETS: MAE: 0.1913 | MSE: 0.1009 | BIAS: 10.4817"
        },
        "width": 900,
        "xaxis": {
         "range": [
          "2014-01-01",
          "2014-01-08"
         ],
         "tickfont": {
          "size": 15
         },
         "title": {
          "font": {
           "size": 15
          },
          "text": "Day"
         },
         "type": "date"
        },
        "yaxis": {
         "tickfont": {
          "size": 15
         },
         "title": {
          "font": {
           "size": 15
          },
          "text": "Value"
         }
        }
       }
      }
     },
     "metadata": {},
     "output_type": "display_data"
    }
   ],
   "source": [
    "## AutoETS\n",
    "model_name = ['AutoETS']\n",
    "model_display_name = ['AutoETS']\n",
    "\n",
    "fig = plot_forecast(results, forecast_columns=model_name, forecast_display_names=model_display_name, timestamp_col ='timestamp')\n",
    "fig = format_plot(fig)\n",
    "fig.update_layout(\n",
    "    title=f\"{model_name[0]}: \"\\\n",
    "          f\"MAE: {metrics.loc[metrics.Model==model_name[0]][['mean_absolute_error']].iloc[0].item():.4f} | \"\\\n",
    "          f\"MSE: {metrics.loc[metrics.Model==model_name[0]][['mean_squared_error']].iloc[0].item():.4f} | \"\\\n",
    "          f\"BIAS: {metrics.loc[metrics.Model==model_name[0]][['forecast_bias']].iloc[0].item():.4f}\"\n",
    ")\n",
    "fig.update_xaxes(type=\"date\", range=[\"2014-01-01\", \"2014-01-08\"])\n",
    "fig.write_image(dst_img/\"autoets.png\")\n",
    "fig.show()"
   ]
  },
  {
   "cell_type": "code",
   "execution_count": 44,
   "id": "2c9a06f5",
   "metadata": {},
   "outputs": [
    {
     "data": {
      "text/html": [
       "<div>\n",
       "<style scoped>\n",
       "    .dataframe tbody tr th:only-of-type {\n",
       "        vertical-align: middle;\n",
       "    }\n",
       "\n",
       "    .dataframe tbody tr th {\n",
       "        vertical-align: top;\n",
       "    }\n",
       "\n",
       "    .dataframe thead th {\n",
       "        text-align: right;\n",
       "    }\n",
       "</style>\n",
       "<table border=\"1\" class=\"dataframe\">\n",
       "  <thead>\n",
       "    <tr style=\"text-align: right;\">\n",
       "      <th></th>\n",
       "      <th>mean_absolute_error</th>\n",
       "      <th>mean_squared_error</th>\n",
       "      <th>root_mean_squared_error</th>\n",
       "      <th>forecast_bias</th>\n",
       "      <th>LCLid</th>\n",
       "      <th>Time Elapsed</th>\n",
       "      <th>Model</th>\n",
       "    </tr>\n",
       "  </thead>\n",
       "  <tbody>\n",
       "    <tr>\n",
       "      <th>0</th>\n",
       "      <td>0.191257</td>\n",
       "      <td>0.100946</td>\n",
       "      <td>0.317720</td>\n",
       "      <td>10.481710</td>\n",
       "      <td>MAC000193</td>\n",
       "      <td>4.029585</td>\n",
       "      <td>HoltWinters</td>\n",
       "    </tr>\n",
       "    <tr>\n",
       "      <th>1</th>\n",
       "      <td>0.203665</td>\n",
       "      <td>0.106539</td>\n",
       "      <td>0.326402</td>\n",
       "      <td>25.416513</td>\n",
       "      <td>MAC000193</td>\n",
       "      <td>20.193931</td>\n",
       "      <td>ARIMA</td>\n",
       "    </tr>\n",
       "    <tr>\n",
       "      <th>2</th>\n",
       "      <td>0.191257</td>\n",
       "      <td>0.100946</td>\n",
       "      <td>0.317720</td>\n",
       "      <td>10.481710</td>\n",
       "      <td>MAC000193</td>\n",
       "      <td>3.856325</td>\n",
       "      <td>AutoETS</td>\n",
       "    </tr>\n",
       "  </tbody>\n",
       "</table>\n",
       "</div>"
      ],
      "text/plain": [
       "   mean_absolute_error  mean_squared_error  root_mean_squared_error  \\\n",
       "0             0.191257            0.100946                 0.317720   \n",
       "1             0.203665            0.106539                 0.326402   \n",
       "2             0.191257            0.100946                 0.317720   \n",
       "\n",
       "   forecast_bias      LCLid  Time Elapsed        Model  \n",
       "0      10.481710  MAC000193      4.029585  HoltWinters  \n",
       "1      25.416513  MAC000193     20.193931        ARIMA  \n",
       "2      10.481710  MAC000193      3.856325      AutoETS  "
      ]
     },
     "execution_count": 44,
     "metadata": {},
     "output_type": "execute_result"
    }
   ],
   "source": [
    "metrics"
   ]
  },
  {
   "cell_type": "markdown",
   "id": "0bcef02a",
   "metadata": {},
   "source": [
    "## Validation"
   ]
  },
  {
   "cell_type": "code",
   "execution_count": 45,
   "id": "d75008e2",
   "metadata": {},
   "outputs": [
    {
     "name": "stdout",
     "output_type": "stream",
     "text": [
      "Length of validation Data:  1488\n"
     ]
    }
   ],
   "source": [
    "ids = list(train_df.LCLid.unique()[:500]) # slicing dataframe for the sake of time.  May want to consider setting this low if working on a slower machine\n",
    "\n",
    "train_df = train_df[train_df.LCLid.isin(ids)]\n",
    "val_df = val_df[val_df.LCLid.isin(ids)]\n",
    "test_df = test_df[test_df.LCLid.isin(ids)]\n",
    "\n",
    "print(\"Length of validation Data: \", len(val_df[val_df.LCLid =='MAC000948'].LCLid))"
   ]
  },
  {
   "cell_type": "code",
   "execution_count": 46,
   "id": "03129a1d",
   "metadata": {},
   "outputs": [],
   "source": [
    "validation_models =  [AutoETS(model = 'AAA',season_length = 48),\n",
    "                      ARIMA(order = (2,1,1), seasonal_order = (1,1,1), season_length = 48)]\n",
    "\n",
    "validation_models_names = [model.__class__.__name__ for model in validation_models]\n",
    "metric_df = pd.DataFrame([])\n",
    "h_val = len(val_df[val_df.LCLid =='MAC000948'].LCLid)"
   ]
  },
  {
   "cell_type": "code",
   "execution_count": 47,
   "id": "e3962f35",
   "metadata": {},
   "outputs": [
    {
     "name": "stderr",
     "output_type": "stream",
     "text": [
      "/home/hien/Work/AI/london_smart_meters/src/model_utils.py:171: RuntimeWarning:\n",
      "\n",
      "divide by zero encountered in scalar divide\n",
      "\n",
      "/home/hien/Work/AI/london_smart_meters/.venv/lib/python3.12/site-packages/statsforecast/arima.py:701: RuntimeWarning:\n",
      "\n",
      "invalid value encountered in sqrt\n",
      "\n",
      "/home/hien/Work/AI/london_smart_meters/src/model_utils.py:171: RuntimeWarning:\n",
      "\n",
      "divide by zero encountered in scalar divide\n",
      "\n"
     ]
    }
   ],
   "source": [
    "aggval_metrics = pd.DataFrame()\n",
    "\n",
    "baseline_val_pred_df, aggval_metrics = (\n",
    "    evaluate_performance(\n",
    "        train_df[[\"LCLid\",\"timestamp\",\"energy_consumption_imputed\"]],\n",
    "        val_df[[\"LCLid\",\"timestamp\",\"energy_consumption_imputed\"]],\n",
    "        models =validation_models,\n",
    "        metrics = [mae, mse, rmse, forecast_bias],\n",
    "        freq = freq,\n",
    "        level = [] ,\n",
    "        id_col = 'LCLid',\n",
    "        time_col = 'timestamp',\n",
    "        target_col = 'energy_consumption_imputed',\n",
    "        h = h_val,\n",
    "        metric_df = aggval_metrics\n",
    "        )\n",
    ")"
   ]
  },
  {
   "cell_type": "code",
   "execution_count": 48,
   "id": "a1278b0e",
   "metadata": {},
   "outputs": [
    {
     "data": {
      "text/html": [
       "<div>\n",
       "<style scoped>\n",
       "    .dataframe tbody tr th:only-of-type {\n",
       "        vertical-align: middle;\n",
       "    }\n",
       "\n",
       "    .dataframe tbody tr th {\n",
       "        vertical-align: top;\n",
       "    }\n",
       "\n",
       "    .dataframe thead th {\n",
       "        text-align: right;\n",
       "    }\n",
       "</style>\n",
       "<table border=\"1\" class=\"dataframe\">\n",
       "  <thead>\n",
       "    <tr style=\"text-align: right;\">\n",
       "      <th></th>\n",
       "      <th>mean_absolute_error</th>\n",
       "      <th>mean_squared_error</th>\n",
       "      <th>root_mean_squared_error</th>\n",
       "      <th>forecast_bias</th>\n",
       "      <th>LCLid</th>\n",
       "      <th>Time Elapsed</th>\n",
       "      <th>Model</th>\n",
       "    </tr>\n",
       "  </thead>\n",
       "  <tbody>\n",
       "    <tr>\n",
       "      <th>0</th>\n",
       "      <td>0.115688</td>\n",
       "      <td>0.020533</td>\n",
       "      <td>0.143292</td>\n",
       "      <td>-61.554792</td>\n",
       "      <td>MAC003069</td>\n",
       "      <td>327.685274</td>\n",
       "      <td>AutoETS</td>\n",
       "    </tr>\n",
       "    <tr>\n",
       "      <th>1</th>\n",
       "      <td>0.043875</td>\n",
       "      <td>0.003487</td>\n",
       "      <td>0.059054</td>\n",
       "      <td>-16.991496</td>\n",
       "      <td>MAC002220</td>\n",
       "      <td>327.685274</td>\n",
       "      <td>AutoETS</td>\n",
       "    </tr>\n",
       "    <tr>\n",
       "      <th>2</th>\n",
       "      <td>0.115360</td>\n",
       "      <td>0.056887</td>\n",
       "      <td>0.238509</td>\n",
       "      <td>11.801314</td>\n",
       "      <td>MAC004338</td>\n",
       "      <td>327.685274</td>\n",
       "      <td>AutoETS</td>\n",
       "    </tr>\n",
       "    <tr>\n",
       "      <th>3</th>\n",
       "      <td>0.061357</td>\n",
       "      <td>0.010357</td>\n",
       "      <td>0.101768</td>\n",
       "      <td>-12.532731</td>\n",
       "      <td>MAC001807</td>\n",
       "      <td>327.685274</td>\n",
       "      <td>AutoETS</td>\n",
       "    </tr>\n",
       "    <tr>\n",
       "      <th>4</th>\n",
       "      <td>0.088098</td>\n",
       "      <td>0.027629</td>\n",
       "      <td>0.166221</td>\n",
       "      <td>20.875673</td>\n",
       "      <td>MAC001985</td>\n",
       "      <td>327.685274</td>\n",
       "      <td>AutoETS</td>\n",
       "    </tr>\n",
       "  </tbody>\n",
       "</table>\n",
       "</div>"
      ],
      "text/plain": [
       "   mean_absolute_error  mean_squared_error  root_mean_squared_error  \\\n",
       "0             0.115688            0.020533                 0.143292   \n",
       "1             0.043875            0.003487                 0.059054   \n",
       "2             0.115360            0.056887                 0.238509   \n",
       "3             0.061357            0.010357                 0.101768   \n",
       "4             0.088098            0.027629                 0.166221   \n",
       "\n",
       "   forecast_bias      LCLid  Time Elapsed    Model  \n",
       "0     -61.554792  MAC003069    327.685274  AutoETS  \n",
       "1     -16.991496  MAC002220    327.685274  AutoETS  \n",
       "2      11.801314  MAC004338    327.685274  AutoETS  \n",
       "3     -12.532731  MAC001807    327.685274  AutoETS  \n",
       "4      20.875673  MAC001985    327.685274  AutoETS  "
      ]
     },
     "execution_count": 48,
     "metadata": {},
     "output_type": "execute_result"
    }
   ],
   "source": [
    "aggval_metrics.head()"
   ]
  },
  {
   "cell_type": "code",
   "execution_count": 49,
   "id": "9256a4da",
   "metadata": {},
   "outputs": [
    {
     "data": {
      "text/html": [
       "<div>\n",
       "<style scoped>\n",
       "    .dataframe tbody tr th:only-of-type {\n",
       "        vertical-align: middle;\n",
       "    }\n",
       "\n",
       "    .dataframe tbody tr th {\n",
       "        vertical-align: top;\n",
       "    }\n",
       "\n",
       "    .dataframe thead th {\n",
       "        text-align: right;\n",
       "    }\n",
       "</style>\n",
       "<table border=\"1\" class=\"dataframe\">\n",
       "  <thead>\n",
       "    <tr style=\"text-align: right;\">\n",
       "      <th></th>\n",
       "      <th>LCLid</th>\n",
       "      <th>timestamp</th>\n",
       "      <th>energy_consumption_imputed</th>\n",
       "      <th>AutoETS</th>\n",
       "      <th>ARIMA</th>\n",
       "    </tr>\n",
       "  </thead>\n",
       "  <tbody>\n",
       "    <tr>\n",
       "      <th>92256</th>\n",
       "      <td>MAC000173</td>\n",
       "      <td>2014-01-01 00:00:00</td>\n",
       "      <td>0.137</td>\n",
       "      <td>0.100279</td>\n",
       "      <td>0.256487</td>\n",
       "    </tr>\n",
       "    <tr>\n",
       "      <th>92257</th>\n",
       "      <td>MAC000173</td>\n",
       "      <td>2014-01-01 00:30:00</td>\n",
       "      <td>0.092</td>\n",
       "      <td>0.087512</td>\n",
       "      <td>0.164007</td>\n",
       "    </tr>\n",
       "    <tr>\n",
       "      <th>92258</th>\n",
       "      <td>MAC000173</td>\n",
       "      <td>2014-01-01 01:00:00</td>\n",
       "      <td>0.106</td>\n",
       "      <td>0.079246</td>\n",
       "      <td>0.109702</td>\n",
       "    </tr>\n",
       "    <tr>\n",
       "      <th>92259</th>\n",
       "      <td>MAC000173</td>\n",
       "      <td>2014-01-01 01:30:00</td>\n",
       "      <td>0.138</td>\n",
       "      <td>0.076074</td>\n",
       "      <td>0.089604</td>\n",
       "    </tr>\n",
       "    <tr>\n",
       "      <th>92260</th>\n",
       "      <td>MAC000173</td>\n",
       "      <td>2014-01-01 02:00:00</td>\n",
       "      <td>0.045</td>\n",
       "      <td>0.075061</td>\n",
       "      <td>0.080950</td>\n",
       "    </tr>\n",
       "    <tr>\n",
       "      <th>...</th>\n",
       "      <td>...</td>\n",
       "      <td>...</td>\n",
       "      <td>...</td>\n",
       "      <td>...</td>\n",
       "      <td>...</td>\n",
       "    </tr>\n",
       "    <tr>\n",
       "      <th>93739</th>\n",
       "      <td>MAC000173</td>\n",
       "      <td>2014-01-31 21:30:00</td>\n",
       "      <td>0.255</td>\n",
       "      <td>0.265651</td>\n",
       "      <td>0.301897</td>\n",
       "    </tr>\n",
       "    <tr>\n",
       "      <th>93740</th>\n",
       "      <td>MAC000173</td>\n",
       "      <td>2014-01-31 22:00:00</td>\n",
       "      <td>0.271</td>\n",
       "      <td>0.255902</td>\n",
       "      <td>0.301395</td>\n",
       "    </tr>\n",
       "    <tr>\n",
       "      <th>93741</th>\n",
       "      <td>MAC000173</td>\n",
       "      <td>2014-01-31 22:30:00</td>\n",
       "      <td>0.597</td>\n",
       "      <td>0.215468</td>\n",
       "      <td>0.267211</td>\n",
       "    </tr>\n",
       "    <tr>\n",
       "      <th>93742</th>\n",
       "      <td>MAC000173</td>\n",
       "      <td>2014-01-31 23:00:00</td>\n",
       "      <td>0.202</td>\n",
       "      <td>0.143761</td>\n",
       "      <td>0.187872</td>\n",
       "    </tr>\n",
       "    <tr>\n",
       "      <th>93743</th>\n",
       "      <td>MAC000173</td>\n",
       "      <td>2014-01-31 23:30:00</td>\n",
       "      <td>0.121</td>\n",
       "      <td>0.154455</td>\n",
       "      <td>0.208393</td>\n",
       "    </tr>\n",
       "  </tbody>\n",
       "</table>\n",
       "<p>1488 rows × 5 columns</p>\n",
       "</div>"
      ],
      "text/plain": [
       "           LCLid           timestamp  energy_consumption_imputed   AutoETS  \\\n",
       "92256  MAC000173 2014-01-01 00:00:00                       0.137  0.100279   \n",
       "92257  MAC000173 2014-01-01 00:30:00                       0.092  0.087512   \n",
       "92258  MAC000173 2014-01-01 01:00:00                       0.106  0.079246   \n",
       "92259  MAC000173 2014-01-01 01:30:00                       0.138  0.076074   \n",
       "92260  MAC000173 2014-01-01 02:00:00                       0.045  0.075061   \n",
       "...          ...                 ...                         ...       ...   \n",
       "93739  MAC000173 2014-01-31 21:30:00                       0.255  0.265651   \n",
       "93740  MAC000173 2014-01-31 22:00:00                       0.271  0.255902   \n",
       "93741  MAC000173 2014-01-31 22:30:00                       0.597  0.215468   \n",
       "93742  MAC000173 2014-01-31 23:00:00                       0.202  0.143761   \n",
       "93743  MAC000173 2014-01-31 23:30:00                       0.121  0.154455   \n",
       "\n",
       "          ARIMA  \n",
       "92256  0.256487  \n",
       "92257  0.164007  \n",
       "92258  0.109702  \n",
       "92259  0.089604  \n",
       "92260  0.080950  \n",
       "...         ...  \n",
       "93739  0.301897  \n",
       "93740  0.301395  \n",
       "93741  0.267211  \n",
       "93742  0.187872  \n",
       "93743  0.208393  \n",
       "\n",
       "[1488 rows x 5 columns]"
      ]
     },
     "execution_count": 49,
     "metadata": {},
     "output_type": "execute_result"
    }
   ],
   "source": [
    "baseline_val_pred_df[baseline_val_pred_df.LCLid =='MAC000173']"
   ]
  },
  {
   "cell_type": "code",
   "execution_count": 50,
   "id": "ca0ea990",
   "metadata": {},
   "outputs": [
    {
     "data": {
      "text/html": [
       "<div>\n",
       "<style scoped>\n",
       "    .dataframe tbody tr th:only-of-type {\n",
       "        vertical-align: middle;\n",
       "    }\n",
       "\n",
       "    .dataframe tbody tr th {\n",
       "        vertical-align: top;\n",
       "    }\n",
       "\n",
       "    .dataframe thead th {\n",
       "        text-align: right;\n",
       "    }\n",
       "</style>\n",
       "<table border=\"1\" class=\"dataframe\">\n",
       "  <thead>\n",
       "    <tr style=\"text-align: right;\">\n",
       "      <th></th>\n",
       "      <th>mean_absolute_error</th>\n",
       "      <th>mean_squared_error</th>\n",
       "      <th>root_mean_squared_error</th>\n",
       "      <th>forecast_bias</th>\n",
       "      <th>LCLid</th>\n",
       "      <th>Time Elapsed</th>\n",
       "      <th>Model</th>\n",
       "    </tr>\n",
       "  </thead>\n",
       "  <tbody>\n",
       "    <tr>\n",
       "      <th>55</th>\n",
       "      <td>0.879341</td>\n",
       "      <td>1.114789e+00</td>\n",
       "      <td>1.055836</td>\n",
       "      <td>65.130260</td>\n",
       "      <td>MAC000321</td>\n",
       "      <td>327.685274</td>\n",
       "      <td>AutoETS</td>\n",
       "    </tr>\n",
       "    <tr>\n",
       "      <th>58</th>\n",
       "      <td>0.507991</td>\n",
       "      <td>6.361264e-01</td>\n",
       "      <td>0.797575</td>\n",
       "      <td>66.344194</td>\n",
       "      <td>MAC001979</td>\n",
       "      <td>327.685274</td>\n",
       "      <td>AutoETS</td>\n",
       "    </tr>\n",
       "    <tr>\n",
       "      <th>64</th>\n",
       "      <td>0.371269</td>\n",
       "      <td>5.036701e-01</td>\n",
       "      <td>0.709697</td>\n",
       "      <td>74.825606</td>\n",
       "      <td>MAC004428</td>\n",
       "      <td>327.685274</td>\n",
       "      <td>AutoETS</td>\n",
       "    </tr>\n",
       "    <tr>\n",
       "      <th>47</th>\n",
       "      <td>0.454546</td>\n",
       "      <td>3.490520e-01</td>\n",
       "      <td>0.590806</td>\n",
       "      <td>3.935768</td>\n",
       "      <td>MAC005220</td>\n",
       "      <td>327.685274</td>\n",
       "      <td>AutoETS</td>\n",
       "    </tr>\n",
       "    <tr>\n",
       "      <th>52</th>\n",
       "      <td>0.322427</td>\n",
       "      <td>3.370847e-01</td>\n",
       "      <td>0.580590</td>\n",
       "      <td>78.689882</td>\n",
       "      <td>MAC005008</td>\n",
       "      <td>327.685274</td>\n",
       "      <td>AutoETS</td>\n",
       "    </tr>\n",
       "    <tr>\n",
       "      <th>...</th>\n",
       "      <td>...</td>\n",
       "      <td>...</td>\n",
       "      <td>...</td>\n",
       "      <td>...</td>\n",
       "      <td>...</td>\n",
       "      <td>...</td>\n",
       "      <td>...</td>\n",
       "    </tr>\n",
       "    <tr>\n",
       "      <th>131</th>\n",
       "      <td>0.034418</td>\n",
       "      <td>1.989468e-03</td>\n",
       "      <td>0.044603</td>\n",
       "      <td>13.284201</td>\n",
       "      <td>MAC001074</td>\n",
       "      <td>327.685274</td>\n",
       "      <td>AutoETS</td>\n",
       "    </tr>\n",
       "    <tr>\n",
       "      <th>179</th>\n",
       "      <td>0.034732</td>\n",
       "      <td>1.907039e-03</td>\n",
       "      <td>0.043670</td>\n",
       "      <td>13.571226</td>\n",
       "      <td>MAC001288</td>\n",
       "      <td>327.685274</td>\n",
       "      <td>AutoETS</td>\n",
       "    </tr>\n",
       "    <tr>\n",
       "      <th>158</th>\n",
       "      <td>0.029000</td>\n",
       "      <td>1.579213e-03</td>\n",
       "      <td>0.039739</td>\n",
       "      <td>-1.751551</td>\n",
       "      <td>MAC000269</td>\n",
       "      <td>327.685274</td>\n",
       "      <td>AutoETS</td>\n",
       "    </tr>\n",
       "    <tr>\n",
       "      <th>108</th>\n",
       "      <td>0.025167</td>\n",
       "      <td>1.281279e-03</td>\n",
       "      <td>0.035795</td>\n",
       "      <td>-49.762293</td>\n",
       "      <td>MAC004142</td>\n",
       "      <td>327.685274</td>\n",
       "      <td>AutoETS</td>\n",
       "    </tr>\n",
       "    <tr>\n",
       "      <th>106</th>\n",
       "      <td>0.000726</td>\n",
       "      <td>7.321373e-07</td>\n",
       "      <td>0.000856</td>\n",
       "      <td>inf</td>\n",
       "      <td>MAC004067</td>\n",
       "      <td>327.685274</td>\n",
       "      <td>AutoETS</td>\n",
       "    </tr>\n",
       "  </tbody>\n",
       "</table>\n",
       "<p>185 rows × 7 columns</p>\n",
       "</div>"
      ],
      "text/plain": [
       "     mean_absolute_error  mean_squared_error  root_mean_squared_error  \\\n",
       "55              0.879341        1.114789e+00                 1.055836   \n",
       "58              0.507991        6.361264e-01                 0.797575   \n",
       "64              0.371269        5.036701e-01                 0.709697   \n",
       "47              0.454546        3.490520e-01                 0.590806   \n",
       "52              0.322427        3.370847e-01                 0.580590   \n",
       "..                   ...                 ...                      ...   \n",
       "131             0.034418        1.989468e-03                 0.044603   \n",
       "179             0.034732        1.907039e-03                 0.043670   \n",
       "158             0.029000        1.579213e-03                 0.039739   \n",
       "108             0.025167        1.281279e-03                 0.035795   \n",
       "106             0.000726        7.321373e-07                 0.000856   \n",
       "\n",
       "     forecast_bias      LCLid  Time Elapsed    Model  \n",
       "55       65.130260  MAC000321    327.685274  AutoETS  \n",
       "58       66.344194  MAC001979    327.685274  AutoETS  \n",
       "64       74.825606  MAC004428    327.685274  AutoETS  \n",
       "47        3.935768  MAC005220    327.685274  AutoETS  \n",
       "52       78.689882  MAC005008    327.685274  AutoETS  \n",
       "..             ...        ...           ...      ...  \n",
       "131      13.284201  MAC001074    327.685274  AutoETS  \n",
       "179      13.571226  MAC001288    327.685274  AutoETS  \n",
       "158      -1.751551  MAC000269    327.685274  AutoETS  \n",
       "108     -49.762293  MAC004142    327.685274  AutoETS  \n",
       "106            inf  MAC004067    327.685274  AutoETS  \n",
       "\n",
       "[185 rows x 7 columns]"
      ]
     },
     "execution_count": 50,
     "metadata": {},
     "output_type": "execute_result"
    }
   ],
   "source": [
    "aggval_metrics[aggval_metrics.Model =='AutoETS'].sort_values(by='mean_squared_error', ascending = False)"
   ]
  },
  {
   "cell_type": "code",
   "execution_count": 51,
   "id": "3ba8cd5e",
   "metadata": {},
   "outputs": [
    {
     "data": {
      "text/plain": [
       "{'Algorithm': 'AutoETS',\n",
       " 'MSE': 0.05760067669270902,\n",
       " 'RMSE': 0.24000140977233658,\n",
       " 'MAE': 0.12302987768895093,\n",
       " 'Forecast Bias': 3.14997289851879}"
      ]
     },
     "execution_count": 51,
     "metadata": {},
     "output_type": "execute_result"
    }
   ],
   "source": [
    "autoets_val_metric_df = aggval_metrics[aggval_metrics.Model =='AutoETS']\n",
    "overall_metrics_val_autoets = {\n",
    "    \"Algorithm\": \"AutoETS\",\n",
    "    \"MSE\": mse(baseline_val_pred_df.energy_consumption_imputed.values, baseline_val_pred_df.AutoETS.values),\n",
    "    \"RMSE\": rmse(baseline_val_pred_df.energy_consumption_imputed.values, baseline_val_pred_df.AutoETS.values),\n",
    "    \"MAE\": mae(baseline_val_pred_df.energy_consumption_imputed.values, baseline_val_pred_df.AutoETS.values),\n",
    "    \"Forecast Bias\": forecast_bias(baseline_val_pred_df.energy_consumption_imputed.values, baseline_val_pred_df.AutoETS.values)\n",
    "}\n",
    "overall_metrics_val_autoets"
   ]
  },
  {
   "cell_type": "code",
   "execution_count": 52,
   "id": "8696a2ed",
   "metadata": {},
   "outputs": [
    {
     "data": {
      "text/plain": [
       "{'Algorithm': 'ARIMA',\n",
       " 'MSE': 0.08410813308710255,\n",
       " 'RMSE': 0.2900140222249651,\n",
       " 'MAE': 0.1506598273968745,\n",
       " 'Forecast Bias': 5.198977467820843}"
      ]
     },
     "execution_count": 52,
     "metadata": {},
     "output_type": "execute_result"
    }
   ],
   "source": [
    "arima_val_metric_df = aggval_metrics[aggval_metrics.Model =='ARIMA']\n",
    "overall_metrics_val_arima = {\n",
    "    \"Algorithm\": \"ARIMA\",\n",
    "    \"MSE\": mse(baseline_val_pred_df.energy_consumption_imputed.values, baseline_val_pred_df.ARIMA.values),\n",
    "    \"RMSE\": rmse(baseline_val_pred_df.energy_consumption_imputed.values, baseline_val_pred_df.ARIMA.values),\n",
    "    \"MAE\": mae(baseline_val_pred_df.energy_consumption_imputed.values, baseline_val_pred_df.ARIMA.values),\n",
    "    \"Forecast Bias\": forecast_bias(baseline_val_pred_df.energy_consumption_imputed.values, baseline_val_pred_df.ARIMA.values)\n",
    "}\n",
    "overall_metrics_val_arima"
   ]
  },
  {
   "cell_type": "code",
   "execution_count": 53,
   "id": "d4e12058",
   "metadata": {},
   "outputs": [
    {
     "data": {
      "text/html": [
       "<div>\n",
       "<style scoped>\n",
       "    .dataframe tbody tr th:only-of-type {\n",
       "        vertical-align: middle;\n",
       "    }\n",
       "\n",
       "    .dataframe tbody tr th {\n",
       "        vertical-align: top;\n",
       "    }\n",
       "\n",
       "    .dataframe thead th {\n",
       "        text-align: right;\n",
       "    }\n",
       "</style>\n",
       "<table border=\"1\" class=\"dataframe\">\n",
       "  <thead>\n",
       "    <tr style=\"text-align: right;\">\n",
       "      <th></th>\n",
       "      <th>Algorithm</th>\n",
       "      <th>MSE</th>\n",
       "      <th>RMSE</th>\n",
       "      <th>MAE</th>\n",
       "      <th>Forecast Bias</th>\n",
       "    </tr>\n",
       "  </thead>\n",
       "  <tbody>\n",
       "    <tr>\n",
       "      <th>0</th>\n",
       "      <td>AutoETS</td>\n",
       "      <td>0.057601</td>\n",
       "      <td>0.240001</td>\n",
       "      <td>0.12303</td>\n",
       "      <td>3.149973</td>\n",
       "    </tr>\n",
       "    <tr>\n",
       "      <th>1</th>\n",
       "      <td>ARIMA</td>\n",
       "      <td>0.084108</td>\n",
       "      <td>0.290014</td>\n",
       "      <td>0.15066</td>\n",
       "      <td>5.198977</td>\n",
       "    </tr>\n",
       "  </tbody>\n",
       "</table>\n",
       "</div>"
      ],
      "text/plain": [
       "  Algorithm       MSE      RMSE      MAE  Forecast Bias\n",
       "0   AutoETS  0.057601  0.240001  0.12303       3.149973\n",
       "1     ARIMA  0.084108  0.290014  0.15066       5.198977"
      ]
     },
     "execution_count": 53,
     "metadata": {},
     "output_type": "execute_result"
    }
   ],
   "source": [
    "baseline_val_metrics_df = pd.DataFrame([overall_metrics_val_autoets, overall_metrics_val_arima])\n",
    "baseline_val_metrics_df"
   ]
  },
  {
   "cell_type": "code",
   "execution_count": null,
   "id": "d8a7745f",
   "metadata": {},
   "outputs": [],
   "source": [
    "baseline_val_pred_df.to_pickle(dst_result/\"baseline_val_prediction_df.pkl\")\n",
    "baseline_val_metrics_df.to_pickle(dst_result/\"baseline_val_metrics_df.pkl\")\n",
    "aggval_metrics.to_pickle(dst_result/\"baseline_val_aggregate_metrics.pkl\")"
   ]
  },
  {
   "cell_type": "markdown",
   "id": "729d9ce0",
   "metadata": {},
   "source": [
    "## Test"
   ]
  },
  {
   "cell_type": "code",
   "execution_count": 78,
   "id": "4ba42319",
   "metadata": {},
   "outputs": [
    {
     "name": "stderr",
     "output_type": "stream",
     "text": [
      "/home/hien/Work/AI/london_smart_meters/src/model_utils.py:171: RuntimeWarning:\n",
      "\n",
      "divide by zero encountered in scalar divide\n",
      "\n",
      "/home/hien/Work/AI/london_smart_meters/src/model_utils.py:171: RuntimeWarning:\n",
      "\n",
      "divide by zero encountered in scalar divide\n",
      "\n"
     ]
    }
   ],
   "source": [
    "# Calculate the forecast horizon for test data\n",
    "h_test = len(test_df[test_df.LCLid == 'MAC000948'].LCLid)\n",
    "\n",
    "# Create a combined dataset of train + validation data for final model training\n",
    "train_val_df = pd.concat([\n",
    "    train_df[[\"LCLid\", \"timestamp\", \"energy_consumption_imputed\"]],\n",
    "    val_df[[\"LCLid\", \"timestamp\", \"energy_consumption_imputed\"]]\n",
    "])\n",
    "\n",
    "# Initialize metrics DataFrame for test results\n",
    "aggtest_metrics = pd.DataFrame()\n",
    "\n",
    "# Apply models to test data\n",
    "baseline_test_pred_df, aggtest_metrics = (\n",
    "    evaluate_performance(\n",
    "        train_val_df,  # Use combined train+validation data for final model training\n",
    "        test_df[[\"LCLid\", \"timestamp\", \"energy_consumption_imputed\"]],  # Test on test data\n",
    "        models=validation_models,  # Use the same models\n",
    "        metrics=[mae, mse, rmse, forecast_bias],\n",
    "        freq=freq,\n",
    "        level=[],\n",
    "        id_col='LCLid',\n",
    "        time_col='timestamp',\n",
    "        target_col='energy_consumption_imputed',\n",
    "        h=h_test,\n",
    "        metric_df=aggtest_metrics\n",
    "    )\n",
    ")"
   ]
  },
  {
   "cell_type": "code",
   "execution_count": 79,
   "id": "670d1944",
   "metadata": {},
   "outputs": [
    {
     "data": {
      "text/html": [
       "<div>\n",
       "<style scoped>\n",
       "    .dataframe tbody tr th:only-of-type {\n",
       "        vertical-align: middle;\n",
       "    }\n",
       "\n",
       "    .dataframe tbody tr th {\n",
       "        vertical-align: top;\n",
       "    }\n",
       "\n",
       "    .dataframe thead th {\n",
       "        text-align: right;\n",
       "    }\n",
       "</style>\n",
       "<table border=\"1\" class=\"dataframe\">\n",
       "  <thead>\n",
       "    <tr style=\"text-align: right;\">\n",
       "      <th></th>\n",
       "      <th>mean_absolute_error</th>\n",
       "      <th>mean_squared_error</th>\n",
       "      <th>root_mean_squared_error</th>\n",
       "      <th>forecast_bias</th>\n",
       "      <th>LCLid</th>\n",
       "      <th>Time Elapsed</th>\n",
       "      <th>Model</th>\n",
       "    </tr>\n",
       "  </thead>\n",
       "  <tbody>\n",
       "    <tr>\n",
       "      <th>0</th>\n",
       "      <td>0.063103</td>\n",
       "      <td>0.014058</td>\n",
       "      <td>0.118568</td>\n",
       "      <td>13.096588</td>\n",
       "      <td>MAC003069</td>\n",
       "      <td>322.646377</td>\n",
       "      <td>AutoETS</td>\n",
       "    </tr>\n",
       "    <tr>\n",
       "      <th>1</th>\n",
       "      <td>0.031380</td>\n",
       "      <td>0.002216</td>\n",
       "      <td>0.047077</td>\n",
       "      <td>-17.411985</td>\n",
       "      <td>MAC002220</td>\n",
       "      <td>322.646377</td>\n",
       "      <td>AutoETS</td>\n",
       "    </tr>\n",
       "    <tr>\n",
       "      <th>2</th>\n",
       "      <td>0.118270</td>\n",
       "      <td>0.054404</td>\n",
       "      <td>0.233246</td>\n",
       "      <td>-11.551055</td>\n",
       "      <td>MAC004338</td>\n",
       "      <td>322.646377</td>\n",
       "      <td>AutoETS</td>\n",
       "    </tr>\n",
       "    <tr>\n",
       "      <th>3</th>\n",
       "      <td>0.049294</td>\n",
       "      <td>0.009882</td>\n",
       "      <td>0.099409</td>\n",
       "      <td>-1.060129</td>\n",
       "      <td>MAC001807</td>\n",
       "      <td>322.646377</td>\n",
       "      <td>AutoETS</td>\n",
       "    </tr>\n",
       "    <tr>\n",
       "      <th>4</th>\n",
       "      <td>0.088535</td>\n",
       "      <td>0.028487</td>\n",
       "      <td>0.168780</td>\n",
       "      <td>22.990714</td>\n",
       "      <td>MAC001985</td>\n",
       "      <td>322.646377</td>\n",
       "      <td>AutoETS</td>\n",
       "    </tr>\n",
       "  </tbody>\n",
       "</table>\n",
       "</div>"
      ],
      "text/plain": [
       "   mean_absolute_error  mean_squared_error  root_mean_squared_error  \\\n",
       "0             0.063103            0.014058                 0.118568   \n",
       "1             0.031380            0.002216                 0.047077   \n",
       "2             0.118270            0.054404                 0.233246   \n",
       "3             0.049294            0.009882                 0.099409   \n",
       "4             0.088535            0.028487                 0.168780   \n",
       "\n",
       "   forecast_bias      LCLid  Time Elapsed    Model  \n",
       "0      13.096588  MAC003069    322.646377  AutoETS  \n",
       "1     -17.411985  MAC002220    322.646377  AutoETS  \n",
       "2     -11.551055  MAC004338    322.646377  AutoETS  \n",
       "3      -1.060129  MAC001807    322.646377  AutoETS  \n",
       "4      22.990714  MAC001985    322.646377  AutoETS  "
      ]
     },
     "execution_count": 79,
     "metadata": {},
     "output_type": "execute_result"
    }
   ],
   "source": [
    "aggtest_metrics.head()"
   ]
  },
  {
   "cell_type": "code",
   "execution_count": 80,
   "id": "a667444d",
   "metadata": {},
   "outputs": [
    {
     "data": {
      "text/plain": [
       "{'Algorithm': 'AutoETS',\n",
       " 'MSE': 0.05867107622735972,\n",
       " 'RMSE': 0.24222113084402797,\n",
       " 'MAE': 0.11912738798844133,\n",
       " 'Forecast Bias': -10.707988370940951}"
      ]
     },
     "execution_count": 80,
     "metadata": {},
     "output_type": "execute_result"
    }
   ],
   "source": [
    "autoets_test_metric_df = aggtest_metrics[aggtest_metrics.Model =='AutoETS']\n",
    "overall_metrics_test_autoets = {\n",
    "    \"Algorithm\": \"AutoETS\",\n",
    "    \"MSE\": mse(baseline_test_pred_df.energy_consumption_imputed.values, baseline_test_pred_df.AutoETS.values),\n",
    "    \"RMSE\": rmse(baseline_test_pred_df.energy_consumption_imputed.values, baseline_test_pred_df.AutoETS.values),\n",
    "    \"MAE\": mae(baseline_test_pred_df.energy_consumption_imputed.values, baseline_test_pred_df.AutoETS.values),\n",
    "    \"Forecast Bias\": forecast_bias(baseline_test_pred_df.energy_consumption_imputed.values, baseline_test_pred_df.AutoETS.values)\n",
    "}\n",
    "overall_metrics_test_autoets"
   ]
  },
  {
   "cell_type": "code",
   "execution_count": 82,
   "id": "50a2a03f",
   "metadata": {},
   "outputs": [
    {
     "data": {
      "text/plain": [
       "{'Algorithm': 'ARIMA',\n",
       " 'MSE': 0.06942792983530538,\n",
       " 'RMSE': 0.2634918022165118,\n",
       " 'MAE': 0.13278325655313433,\n",
       " 'Forecast Bias': -13.314742507049132}"
      ]
     },
     "execution_count": 82,
     "metadata": {},
     "output_type": "execute_result"
    }
   ],
   "source": [
    "arima_test_metric_df = aggtest_metrics[aggtest_metrics.Model =='ARIMA']\n",
    "overall_metrics_test_arima = {\n",
    "    \"Algorithm\": \"ARIMA\",\n",
    "    \"MSE\": mse(baseline_test_pred_df.energy_consumption_imputed.values, baseline_test_pred_df.ARIMA.values),\n",
    "    \"RMSE\": rmse(baseline_test_pred_df.energy_consumption_imputed.values, baseline_test_pred_df.ARIMA.values),\n",
    "    \"MAE\": mae(baseline_test_pred_df.energy_consumption_imputed.values, baseline_test_pred_df.ARIMA.values),\n",
    "    \"Forecast Bias\": forecast_bias(baseline_test_pred_df.energy_consumption_imputed.values, baseline_test_pred_df.ARIMA.values)\n",
    "}\n",
    "overall_metrics_test_arima"
   ]
  },
  {
   "cell_type": "code",
   "execution_count": 83,
   "id": "d85cd7e6",
   "metadata": {},
   "outputs": [
    {
     "data": {
      "text/html": [
       "<div>\n",
       "<style scoped>\n",
       "    .dataframe tbody tr th:only-of-type {\n",
       "        vertical-align: middle;\n",
       "    }\n",
       "\n",
       "    .dataframe tbody tr th {\n",
       "        vertical-align: top;\n",
       "    }\n",
       "\n",
       "    .dataframe thead th {\n",
       "        text-align: right;\n",
       "    }\n",
       "</style>\n",
       "<table border=\"1\" class=\"dataframe\">\n",
       "  <thead>\n",
       "    <tr style=\"text-align: right;\">\n",
       "      <th></th>\n",
       "      <th>Algorithm</th>\n",
       "      <th>MSE</th>\n",
       "      <th>RMSE</th>\n",
       "      <th>MAE</th>\n",
       "      <th>Forecast Bias</th>\n",
       "    </tr>\n",
       "  </thead>\n",
       "  <tbody>\n",
       "    <tr>\n",
       "      <th>0</th>\n",
       "      <td>AutoETS</td>\n",
       "      <td>0.058671</td>\n",
       "      <td>0.242221</td>\n",
       "      <td>0.119127</td>\n",
       "      <td>-10.707988</td>\n",
       "    </tr>\n",
       "    <tr>\n",
       "      <th>1</th>\n",
       "      <td>ARIMA</td>\n",
       "      <td>0.069428</td>\n",
       "      <td>0.263492</td>\n",
       "      <td>0.132783</td>\n",
       "      <td>-13.314743</td>\n",
       "    </tr>\n",
       "  </tbody>\n",
       "</table>\n",
       "</div>"
      ],
      "text/plain": [
       "  Algorithm       MSE      RMSE       MAE  Forecast Bias\n",
       "0   AutoETS  0.058671  0.242221  0.119127     -10.707988\n",
       "1     ARIMA  0.069428  0.263492  0.132783     -13.314743"
      ]
     },
     "execution_count": 83,
     "metadata": {},
     "output_type": "execute_result"
    }
   ],
   "source": [
    "baseline_test_metrics_df = pd.DataFrame([overall_metrics_test_autoets, overall_metrics_test_arima])\n",
    "baseline_test_metrics_df"
   ]
  },
  {
   "cell_type": "markdown",
   "id": "55a3429a",
   "metadata": {},
   "source": [
    "## Visualization"
   ]
  },
  {
   "cell_type": "code",
   "execution_count": null,
   "id": "1476e033",
   "metadata": {},
   "outputs": [
    {
     "data": {
      "application/vnd.plotly.v1+json": {
       "config": {
        "plotlyServerURL": "https://plot.ly"
       },
       "data": [
        {
         "bingroup": "x",
         "histnorm": "probability density",
         "hovertemplate": "Model=AutoETS<br>mean_absolute_error=%{x}<br>probability density=%{y}<extra></extra>",
         "legendgroup": "AutoETS",
         "marker": {
          "color": "#636efa",
          "opacity": 0.5,
          "pattern": {
           "shape": ""
          }
         },
         "name": "AutoETS",
         "nbinsx": 500,
         "orientation": "v",
         "showlegend": true,
         "type": "histogram",
         "x": {
          "bdata": "aCai7oUnsD/EosuJ+hCgP8T6HCDsRr4/GQ5cDgo9qT9CCm4oNKq2P6uFA3lyz8I/b3/G63O0zD/a0QhRQ+m3PyBYTvzgG5Y/qz6cN89QxD+WFcLuJADGP6t7Pw50vro/DbRnlQWMvT8za770yCanP7T8cvDbdc8/4MjZ9x+Jsz99wC2b8Sq4P6ZR1WobWbw/fkK56PKtvT8PuzA90DSyP4VrORBiUao/scnzE06buj+L9LhqDHDAP/LvTOaovsY/DhvMSiq6uT9HFzfeKo3KPyZ1c0SN9r4/ldB4maCEmT9gG3T2jo+kP5EtbSBqLao/T2bIoq+Ppj/n4NXj/nmxP7EOdEURLq0/V4nYxT97uT/3wcZZnZu0P4We77v4x6w/lV42cOf2vD9Cs5L7b861P8FS6gcIv7E/fyJgwH/Foj/BalNQWYi6P/syBV64Bsw/fi/VhCiTxT8DsDBWngrFP92LEx94XaI/4BxSol7evj9grxIAnnO2P5z6LgEGpdw/s4ovuudBsj8ods7k4oDHPzTjlHJfgbA/OoT7OZ4KsD+uxcTomnPbP6u9qmjp0bo/7Qw3tQGwzj+FRRqZg0byP01wT8vP7bI/qLPXiFsElj+zh8CLbfToPyubGBpJRbc/VZY6HbHTwj+vPOTmOUu2P2gKfaKj0rA/J8cb/vRwsD9VZRdH53zaP5LxTXjUwKE/xLD8awUewz8uK7byiG3JP8KdlwA9XaY/6F8Pqy9gsz9vtOExYpeJPyHPP9HYe7g/6JLH3Egzsj+Le25/NbOiP+i6958/DKE/3D4qc3hjoz8rQTTNrBPAP6R2tg7Ig8w/vOCKeOo9pz++35tOV+GwPxGexND1J6Q/XCvFCbsgvD/9Aby+O4W1P1xJ/sGHOJc/4RDpghMuqD9cOYxMzdaVP6TI1syJiJw/4FasJu1Bnz9y8LhridCmP5j4yVleItI/+v/fHl8F0z8Rz7B/RQSkP1xybbgv0Kk/q2BaHJq91z9oSDP7WSCyP8g/JmLA4MA/k6nqPCOY0j+u/b2XTO6WPwD7dLL2ULw/R5f0j41gtD9M6KVPtP2sP99Zy4mfS68/+lwtITjitz/JmIlXbRTFP+jvQl7DkNI/r1oHkP1Q0T/g7ZNG94skP6CQN4BKN6Y/jyHMGWyYlz/mOdy8aeSVP68gwapAb7A/WCBr/3Q42T+HeYAY1ESWP0mzPUwOqaE/6hSYdqn6qz9oaXL4CdW4P/6YL5Ucksg/aftaWMwiyD+3LKqSule/P2CKxehyGJc/UgfK7ZXRuT/XHK2v/h7OP6vRSObdG8g/N35K0HiGsD/+H3rmFX+UPyWf6mHlj8E/IM2G8hfPtj+3izLtCsbKP5ybs+0Ne7E/7+dJHCBjrj+jjwLZ54+wP6mIYObVnpU/w71yr6JaqD8pq58ItdPDPzeJje9OGcA/xXrl7XXVwD9DNbG5zfvDP+IZ0htPaMo/wc5uP/mLrT8BfziLaEzgP3cjgM6QQKQ/JNSeIPjApj/nFUiULoiqPxFBvix03KU/BtGiot7w1j/Y/27F8EXDPwC4RpwBZrE/FQ3V/Wntrz+R3/xjY+jPP+DoalBPm48/GXjRJfzSuD+2Xte9WE+VPxOpnHu35MU/8LAZiioOjj8L6CC8SH6sP+c2P8g2w60/NkXXu+qMsj9yg27MZV60PwZsFOpTFZ8/uoVEfPHPvD/aO320A5yuP2+R9dKJ87o/qeg7lxd0tz+O6zYlE+umP2LfPzhAN7o/xGk/uK8fuD9rKWDufVO/P0qblmLMCME/+oeeBJYqtT80061ut3ORP8FBWuaRRdU/WNrrq3vLxT/lvSlxij/EP2vPSj0tl7I/VWmvYeuLtT+rvX5XzNPPP/3dZNicbqE/SaQVkqQisj+Y2049C5DFPxxmYQx+0JU/L52Hyszrvz/SzDw1Hg64P+qzHy1l0qw/cspyF0cRwz9kQYUuPjCxPw==",
          "dtype": "f8"
         },
         "xaxis": "x",
         "yaxis": "y"
        },
        {
         "hovertemplate": "Model=AutoETS<br>mean_absolute_error=%{x}<extra></extra>",
         "legendgroup": "AutoETS",
         "marker": {
          "color": "#636efa"
         },
         "name": "AutoETS",
         "notched": true,
         "showlegend": false,
         "type": "box",
         "x": {
          "bdata": "aCai7oUnsD/EosuJ+hCgP8T6HCDsRr4/GQ5cDgo9qT9CCm4oNKq2P6uFA3lyz8I/b3/G63O0zD/a0QhRQ+m3PyBYTvzgG5Y/qz6cN89QxD+WFcLuJADGP6t7Pw50vro/DbRnlQWMvT8za770yCanP7T8cvDbdc8/4MjZ9x+Jsz99wC2b8Sq4P6ZR1WobWbw/fkK56PKtvT8PuzA90DSyP4VrORBiUao/scnzE06buj+L9LhqDHDAP/LvTOaovsY/DhvMSiq6uT9HFzfeKo3KPyZ1c0SN9r4/ldB4maCEmT9gG3T2jo+kP5EtbSBqLao/T2bIoq+Ppj/n4NXj/nmxP7EOdEURLq0/V4nYxT97uT/3wcZZnZu0P4We77v4x6w/lV42cOf2vD9Cs5L7b861P8FS6gcIv7E/fyJgwH/Foj/BalNQWYi6P/syBV64Bsw/fi/VhCiTxT8DsDBWngrFP92LEx94XaI/4BxSol7evj9grxIAnnO2P5z6LgEGpdw/s4ovuudBsj8ods7k4oDHPzTjlHJfgbA/OoT7OZ4KsD+uxcTomnPbP6u9qmjp0bo/7Qw3tQGwzj+FRRqZg0byP01wT8vP7bI/qLPXiFsElj+zh8CLbfToPyubGBpJRbc/VZY6HbHTwj+vPOTmOUu2P2gKfaKj0rA/J8cb/vRwsD9VZRdH53zaP5LxTXjUwKE/xLD8awUewz8uK7byiG3JP8KdlwA9XaY/6F8Pqy9gsz9vtOExYpeJPyHPP9HYe7g/6JLH3Egzsj+Le25/NbOiP+i6958/DKE/3D4qc3hjoz8rQTTNrBPAP6R2tg7Ig8w/vOCKeOo9pz++35tOV+GwPxGexND1J6Q/XCvFCbsgvD/9Aby+O4W1P1xJ/sGHOJc/4RDpghMuqD9cOYxMzdaVP6TI1syJiJw/4FasJu1Bnz9y8LhridCmP5j4yVleItI/+v/fHl8F0z8Rz7B/RQSkP1xybbgv0Kk/q2BaHJq91z9oSDP7WSCyP8g/JmLA4MA/k6nqPCOY0j+u/b2XTO6WPwD7dLL2ULw/R5f0j41gtD9M6KVPtP2sP99Zy4mfS68/+lwtITjitz/JmIlXbRTFP+jvQl7DkNI/r1oHkP1Q0T/g7ZNG94skP6CQN4BKN6Y/jyHMGWyYlz/mOdy8aeSVP68gwapAb7A/WCBr/3Q42T+HeYAY1ESWP0mzPUwOqaE/6hSYdqn6qz9oaXL4CdW4P/6YL5Ucksg/aftaWMwiyD+3LKqSule/P2CKxehyGJc/UgfK7ZXRuT/XHK2v/h7OP6vRSObdG8g/N35K0HiGsD/+H3rmFX+UPyWf6mHlj8E/IM2G8hfPtj+3izLtCsbKP5ybs+0Ne7E/7+dJHCBjrj+jjwLZ54+wP6mIYObVnpU/w71yr6JaqD8pq58ItdPDPzeJje9OGcA/xXrl7XXVwD9DNbG5zfvDP+IZ0htPaMo/wc5uP/mLrT8BfziLaEzgP3cjgM6QQKQ/JNSeIPjApj/nFUiULoiqPxFBvix03KU/BtGiot7w1j/Y/27F8EXDPwC4RpwBZrE/FQ3V/Wntrz+R3/xjY+jPP+DoalBPm48/GXjRJfzSuD+2Xte9WE+VPxOpnHu35MU/8LAZiioOjj8L6CC8SH6sP+c2P8g2w60/NkXXu+qMsj9yg27MZV60PwZsFOpTFZ8/uoVEfPHPvD/aO320A5yuP2+R9dKJ87o/qeg7lxd0tz+O6zYlE+umP2LfPzhAN7o/xGk/uK8fuD9rKWDufVO/P0qblmLMCME/+oeeBJYqtT80061ut3ORP8FBWuaRRdU/WNrrq3vLxT/lvSlxij/EP2vPSj0tl7I/VWmvYeuLtT+rvX5XzNPPP/3dZNicbqE/SaQVkqQisj+Y2049C5DFPxxmYQx+0JU/L52Hyszrvz/SzDw1Hg64P+qzHy1l0qw/cspyF0cRwz9kQYUuPjCxPw==",
          "dtype": "f8"
         },
         "xaxis": "x2",
         "yaxis": "y2"
        },
        {
         "bingroup": "x",
         "histnorm": "probability density",
         "hovertemplate": "Model=ARIMA<br>mean_absolute_error=%{x}<br>probability density=%{y}<extra></extra>",
         "legendgroup": "ARIMA",
         "marker": {
          "color": "#EF553B",
          "opacity": 0.5,
          "pattern": {
           "shape": "/"
          }
         },
         "name": "ARIMA",
         "nbinsx": 500,
         "orientation": "v",
         "showlegend": true,
         "type": "histogram",
         "x": {
          "bdata": "0sA31+XYsD8Vw5OgDtCgP+tMAEP9aL4/Z5hXJ/Hvqj/zOzpIf766P5D1K60VXMU/QYItxVoCzT+8uWyKo/25P9HZxMQzSJk/4mWMFskbyT83sX0/e0bGPxUA8VhHgbo/FVsb8XGsvT9yl0tuHvWmPxz1oKu/4s4/WFwhCmG+sz+CZ2zfFMG6P2W/pW6ZTcA/hQDRpU6RvT/1fSCsPvfAPwD00ly4rKo/sTgMIingvz+NOYoNvmHBP6jdKeov2ck/xIg1GP7Cvz9RPt71+H7QP/7Z7ZnoRr8/zLnZbdr8pD9Wr5BbZrulP+C4q0aMLq0/4x3+YgJmpj+Azh0MarmxP/BeU4oaq6g/tNw16uSKuD8rpDqJZenAP6/+3SfrmLA/OTxecC7BvT+1Aj/tFhW2P89MxDRDqLE/QZfEULCMoj+YYiSNRFG5PxELFUBtxM0/JzOVdXZExj9JyyMCsEHEP+CCKHV/k6M/FKb8mloWxj94tTiKVRfCP+fYGyQ/+t4/8K6wZScTsj/6M9VCi0XOPxBMClsParE/ubC4C/RKsD+8fu3peuTgP/LAak06y7o/N2KrqF1+0D9vOLbkP+P0P1WJBhrwArQ/lsLzc1pVmz9QgbKYJFbwP5EET/JQzrQ/X8lUFNFtwj+rGaiiJeG1P8BbHwCwC7c/8Y19fO1CsD/dbfgNSdzbP+hvaWtF16o//BDSs+GT0z+uNMud7QrMPxw6Q8daVqU/mVXgBpVRtT9aFyuawuicP0xeALGUoLk/1J5H6IyHsj/NGxedc9WkP/3YJ13KzqE/xBf88cosrT9Kzt4/mhrAP/9JFJfP49U/LcdoTMOZpz9GKiEbXxuxP0pX9FQrLaY/R7FDV3DjyT/rv2p8WIu1P7G1tEhXOZc/riA2ISUqtz+ubb8nNiSYP/24B88xo6E/nMFTSQkanz8LkFfYTgSoP1qiqYr+zdI/ujiv/PzFyD+WPWYLhHWjP81fdEa9p6k/mWIczE1R3D+LMBhuuUSyP4bW6++jsMA/kHfHCYmR0j+fMZcaqXSVP6sfbPZtK8A/iTtX1QIstj9rYG+9zfOsP9EuX2ohn7A/n/HkdyiauD8W2SGP1XPFP4M54o1F3dI/rDdnYY9K1T+vrW2plFJBP5rjxvDuhqQ/XyvnYE22jT+sev0N0+aWPy9of1+8L7A/2ImvnVvY5D9fonPf3UCcP67w37WpKqI/0v9Q7yoLqz/M3CwGSWvJP5iV+T2Zq8c/EwCcIQUGyT/3Zpt/pYe/PwnU/T0AdZo/Vo8Ow4Mutz8zzFP5JknRP4AQ0NjO2cQ/+mBRuqZwsj+wfpkGd+OVP1sadkaF9ME/1LCFp/WItz8m+eZVOFzJPxWNM/91fLE/iywafwKfrj88uWYOk92uPyxuFfs2LJY/PndutYkkqT/vtn4ErIDDP+3yt65DDMA/Ndfa3NEzwz+F8raYGCzFP0zglY6ACMs/3Vl7bD2qrj+SCqCqrrziP8p9TaHMPKc/xsq94+50sD/wyzsLo5quP7iMA7bgnKc/NAjgqHJQ2D/kt4T46yPDP3ig0vLqM64/d1BxgPlMsD+26tcyqtTQPyaFln4yDqA/a4PHlzY7uz9pssutVkuWP6gCLkHtMMc/91h36Wo/nT+I27CoQiauP0R0nDw5IrE/0VYqeW7Wuz8uO6421E+1P2ioRNCLBqA/Nj/BbM8svD/wz4WNPFOzPxYDq2gHarw/tFjbwTLhuT+xw3qS5qGmP/r418f7msE/qMBRVN2atz/XwD0sB7i/PwN7yctvt8A/v3zi+aIHtz9NBWAJRf6QP1wwKrm3wNI/HoVPQFLkxT9koJXJ6RXFP/I5Fapgi7E/bZtvPs3AtT++hXUbD4vOP+ua+RxRsaM/tUwGwcoKsj+CRbVyhiDQP12C707S9pg/NyhUIR0kwT9ia+5PSVC4P7rEvt8YN6w/QE1tIyZSxj82J6l/TnuxPw==",
          "dtype": "f8"
         },
         "xaxis": "x",
         "yaxis": "y"
        },
        {
         "hovertemplate": "Model=ARIMA<br>mean_absolute_error=%{x}<extra></extra>",
         "legendgroup": "ARIMA",
         "marker": {
          "color": "#EF553B"
         },
         "name": "ARIMA",
         "notched": true,
         "showlegend": false,
         "type": "box",
         "x": {
          "bdata": "0sA31+XYsD8Vw5OgDtCgP+tMAEP9aL4/Z5hXJ/Hvqj/zOzpIf766P5D1K60VXMU/QYItxVoCzT+8uWyKo/25P9HZxMQzSJk/4mWMFskbyT83sX0/e0bGPxUA8VhHgbo/FVsb8XGsvT9yl0tuHvWmPxz1oKu/4s4/WFwhCmG+sz+CZ2zfFMG6P2W/pW6ZTcA/hQDRpU6RvT/1fSCsPvfAPwD00ly4rKo/sTgMIingvz+NOYoNvmHBP6jdKeov2ck/xIg1GP7Cvz9RPt71+H7QP/7Z7ZnoRr8/zLnZbdr8pD9Wr5BbZrulP+C4q0aMLq0/4x3+YgJmpj+Azh0MarmxP/BeU4oaq6g/tNw16uSKuD8rpDqJZenAP6/+3SfrmLA/OTxecC7BvT+1Aj/tFhW2P89MxDRDqLE/QZfEULCMoj+YYiSNRFG5PxELFUBtxM0/JzOVdXZExj9JyyMCsEHEP+CCKHV/k6M/FKb8mloWxj94tTiKVRfCP+fYGyQ/+t4/8K6wZScTsj/6M9VCi0XOPxBMClsParE/ubC4C/RKsD+8fu3peuTgP/LAak06y7o/N2KrqF1+0D9vOLbkP+P0P1WJBhrwArQ/lsLzc1pVmz9QgbKYJFbwP5EET/JQzrQ/X8lUFNFtwj+rGaiiJeG1P8BbHwCwC7c/8Y19fO1CsD/dbfgNSdzbP+hvaWtF16o//BDSs+GT0z+uNMud7QrMPxw6Q8daVqU/mVXgBpVRtT9aFyuawuicP0xeALGUoLk/1J5H6IyHsj/NGxedc9WkP/3YJ13KzqE/xBf88cosrT9Kzt4/mhrAP/9JFJfP49U/LcdoTMOZpz9GKiEbXxuxP0pX9FQrLaY/R7FDV3DjyT/rv2p8WIu1P7G1tEhXOZc/riA2ISUqtz+ubb8nNiSYP/24B88xo6E/nMFTSQkanz8LkFfYTgSoP1qiqYr+zdI/ujiv/PzFyD+WPWYLhHWjP81fdEa9p6k/mWIczE1R3D+LMBhuuUSyP4bW6++jsMA/kHfHCYmR0j+fMZcaqXSVP6sfbPZtK8A/iTtX1QIstj9rYG+9zfOsP9EuX2ohn7A/n/HkdyiauD8W2SGP1XPFP4M54o1F3dI/rDdnYY9K1T+vrW2plFJBP5rjxvDuhqQ/XyvnYE22jT+sev0N0+aWPy9of1+8L7A/2ImvnVvY5D9fonPf3UCcP67w37WpKqI/0v9Q7yoLqz/M3CwGSWvJP5iV+T2Zq8c/EwCcIQUGyT/3Zpt/pYe/PwnU/T0AdZo/Vo8Ow4Mutz8zzFP5JknRP4AQ0NjO2cQ/+mBRuqZwsj+wfpkGd+OVP1sadkaF9ME/1LCFp/WItz8m+eZVOFzJPxWNM/91fLE/iywafwKfrj88uWYOk92uPyxuFfs2LJY/PndutYkkqT/vtn4ErIDDP+3yt65DDMA/Ndfa3NEzwz+F8raYGCzFP0zglY6ACMs/3Vl7bD2qrj+SCqCqrrziP8p9TaHMPKc/xsq94+50sD/wyzsLo5quP7iMA7bgnKc/NAjgqHJQ2D/kt4T46yPDP3ig0vLqM64/d1BxgPlMsD+26tcyqtTQPyaFln4yDqA/a4PHlzY7uz9pssutVkuWP6gCLkHtMMc/91h36Wo/nT+I27CoQiauP0R0nDw5IrE/0VYqeW7Wuz8uO6421E+1P2ioRNCLBqA/Nj/BbM8svD/wz4WNPFOzPxYDq2gHarw/tFjbwTLhuT+xw3qS5qGmP/r418f7msE/qMBRVN2atz/XwD0sB7i/PwN7yctvt8A/v3zi+aIHtz9NBWAJRf6QP1wwKrm3wNI/HoVPQFLkxT9koJXJ6RXFP/I5Fapgi7E/bZtvPs3AtT++hXUbD4vOP+ua+RxRsaM/tUwGwcoKsj+CRbVyhiDQP12C707S9pg/NyhUIR0kwT9ia+5PSVC4P7rEvt8YN6w/QE1tIyZSxj82J6l/TnuxPw==",
          "dtype": "f8"
         },
         "xaxis": "x2",
         "yaxis": "y2"
        }
       ],
       "layout": {
        "autosize": false,
        "barmode": "overlay",
        "height": 500,
        "legend": {
         "font": {
          "size": 15
         },
         "orientation": "h",
         "title": {},
         "tracegroupgap": 0,
         "x": 1,
         "xanchor": "right",
         "y": 0.98,
         "yanchor": "bottom"
        },
        "margin": {
         "t": 60
        },
        "template": {
         "data": {
          "bar": [
           {
            "error_x": {
             "color": "#2a3f5f"
            },
            "error_y": {
             "color": "#2a3f5f"
            },
            "marker": {
             "line": {
              "color": "white",
              "width": 0.5
             },
             "pattern": {
              "fillmode": "overlay",
              "size": 10,
              "solidity": 0.2
             }
            },
            "type": "bar"
           }
          ],
          "barpolar": [
           {
            "marker": {
             "line": {
              "color": "white",
              "width": 0.5
             },
             "pattern": {
              "fillmode": "overlay",
              "size": 10,
              "solidity": 0.2
             }
            },
            "type": "barpolar"
           }
          ],
          "carpet": [
           {
            "aaxis": {
             "endlinecolor": "#2a3f5f",
             "gridcolor": "#C8D4E3",
             "linecolor": "#C8D4E3",
             "minorgridcolor": "#C8D4E3",
             "startlinecolor": "#2a3f5f"
            },
            "baxis": {
             "endlinecolor": "#2a3f5f",
             "gridcolor": "#C8D4E3",
             "linecolor": "#C8D4E3",
             "minorgridcolor": "#C8D4E3",
             "startlinecolor": "#2a3f5f"
            },
            "type": "carpet"
           }
          ],
          "choropleth": [
           {
            "colorbar": {
             "outlinewidth": 0,
             "ticks": ""
            },
            "type": "choropleth"
           }
          ],
          "contour": [
           {
            "colorbar": {
             "outlinewidth": 0,
             "ticks": ""
            },
            "colorscale": [
             [
              0,
              "#0d0887"
             ],
             [
              0.1111111111111111,
              "#46039f"
             ],
             [
              0.2222222222222222,
              "#7201a8"
             ],
             [
              0.3333333333333333,
              "#9c179e"
             ],
             [
              0.4444444444444444,
              "#bd3786"
             ],
             [
              0.5555555555555556,
              "#d8576b"
             ],
             [
              0.6666666666666666,
              "#ed7953"
             ],
             [
              0.7777777777777778,
              "#fb9f3a"
             ],
             [
              0.8888888888888888,
              "#fdca26"
             ],
             [
              1,
              "#f0f921"
             ]
            ],
            "type": "contour"
           }
          ],
          "contourcarpet": [
           {
            "colorbar": {
             "outlinewidth": 0,
             "ticks": ""
            },
            "type": "contourcarpet"
           }
          ],
          "heatmap": [
           {
            "colorbar": {
             "outlinewidth": 0,
             "ticks": ""
            },
            "colorscale": [
             [
              0,
              "#0d0887"
             ],
             [
              0.1111111111111111,
              "#46039f"
             ],
             [
              0.2222222222222222,
              "#7201a8"
             ],
             [
              0.3333333333333333,
              "#9c179e"
             ],
             [
              0.4444444444444444,
              "#bd3786"
             ],
             [
              0.5555555555555556,
              "#d8576b"
             ],
             [
              0.6666666666666666,
              "#ed7953"
             ],
             [
              0.7777777777777778,
              "#fb9f3a"
             ],
             [
              0.8888888888888888,
              "#fdca26"
             ],
             [
              1,
              "#f0f921"
             ]
            ],
            "type": "heatmap"
           }
          ],
          "histogram": [
           {
            "marker": {
             "pattern": {
              "fillmode": "overlay",
              "size": 10,
              "solidity": 0.2
             }
            },
            "type": "histogram"
           }
          ],
          "histogram2d": [
           {
            "colorbar": {
             "outlinewidth": 0,
             "ticks": ""
            },
            "colorscale": [
             [
              0,
              "#0d0887"
             ],
             [
              0.1111111111111111,
              "#46039f"
             ],
             [
              0.2222222222222222,
              "#7201a8"
             ],
             [
              0.3333333333333333,
              "#9c179e"
             ],
             [
              0.4444444444444444,
              "#bd3786"
             ],
             [
              0.5555555555555556,
              "#d8576b"
             ],
             [
              0.6666666666666666,
              "#ed7953"
             ],
             [
              0.7777777777777778,
              "#fb9f3a"
             ],
             [
              0.8888888888888888,
              "#fdca26"
             ],
             [
              1,
              "#f0f921"
             ]
            ],
            "type": "histogram2d"
           }
          ],
          "histogram2dcontour": [
           {
            "colorbar": {
             "outlinewidth": 0,
             "ticks": ""
            },
            "colorscale": [
             [
              0,
              "#0d0887"
             ],
             [
              0.1111111111111111,
              "#46039f"
             ],
             [
              0.2222222222222222,
              "#7201a8"
             ],
             [
              0.3333333333333333,
              "#9c179e"
             ],
             [
              0.4444444444444444,
              "#bd3786"
             ],
             [
              0.5555555555555556,
              "#d8576b"
             ],
             [
              0.6666666666666666,
              "#ed7953"
             ],
             [
              0.7777777777777778,
              "#fb9f3a"
             ],
             [
              0.8888888888888888,
              "#fdca26"
             ],
             [
              1,
              "#f0f921"
             ]
            ],
            "type": "histogram2dcontour"
           }
          ],
          "mesh3d": [
           {
            "colorbar": {
             "outlinewidth": 0,
             "ticks": ""
            },
            "type": "mesh3d"
           }
          ],
          "parcoords": [
           {
            "line": {
             "colorbar": {
              "outlinewidth": 0,
              "ticks": ""
             }
            },
            "type": "parcoords"
           }
          ],
          "pie": [
           {
            "automargin": true,
            "type": "pie"
           }
          ],
          "scatter": [
           {
            "fillpattern": {
             "fillmode": "overlay",
             "size": 10,
             "solidity": 0.2
            },
            "type": "scatter"
           }
          ],
          "scatter3d": [
           {
            "line": {
             "colorbar": {
              "outlinewidth": 0,
              "ticks": ""
             }
            },
            "marker": {
             "colorbar": {
              "outlinewidth": 0,
              "ticks": ""
             }
            },
            "type": "scatter3d"
           }
          ],
          "scattercarpet": [
           {
            "marker": {
             "colorbar": {
              "outlinewidth": 0,
              "ticks": ""
             }
            },
            "type": "scattercarpet"
           }
          ],
          "scattergeo": [
           {
            "marker": {
             "colorbar": {
              "outlinewidth": 0,
              "ticks": ""
             }
            },
            "type": "scattergeo"
           }
          ],
          "scattergl": [
           {
            "marker": {
             "colorbar": {
              "outlinewidth": 0,
              "ticks": ""
             }
            },
            "type": "scattergl"
           }
          ],
          "scattermap": [
           {
            "marker": {
             "colorbar": {
              "outlinewidth": 0,
              "ticks": ""
             }
            },
            "type": "scattermap"
           }
          ],
          "scattermapbox": [
           {
            "marker": {
             "colorbar": {
              "outlinewidth": 0,
              "ticks": ""
             }
            },
            "type": "scattermapbox"
           }
          ],
          "scatterpolar": [
           {
            "marker": {
             "colorbar": {
              "outlinewidth": 0,
              "ticks": ""
             }
            },
            "type": "scatterpolar"
           }
          ],
          "scatterpolargl": [
           {
            "marker": {
             "colorbar": {
              "outlinewidth": 0,
              "ticks": ""
             }
            },
            "type": "scatterpolargl"
           }
          ],
          "scatterternary": [
           {
            "marker": {
             "colorbar": {
              "outlinewidth": 0,
              "ticks": ""
             }
            },
            "type": "scatterternary"
           }
          ],
          "surface": [
           {
            "colorbar": {
             "outlinewidth": 0,
             "ticks": ""
            },
            "colorscale": [
             [
              0,
              "#0d0887"
             ],
             [
              0.1111111111111111,
              "#46039f"
             ],
             [
              0.2222222222222222,
              "#7201a8"
             ],
             [
              0.3333333333333333,
              "#9c179e"
             ],
             [
              0.4444444444444444,
              "#bd3786"
             ],
             [
              0.5555555555555556,
              "#d8576b"
             ],
             [
              0.6666666666666666,
              "#ed7953"
             ],
             [
              0.7777777777777778,
              "#fb9f3a"
             ],
             [
              0.8888888888888888,
              "#fdca26"
             ],
             [
              1,
              "#f0f921"
             ]
            ],
            "type": "surface"
           }
          ],
          "table": [
           {
            "cells": {
             "fill": {
              "color": "#EBF0F8"
             },
             "line": {
              "color": "white"
             }
            },
            "header": {
             "fill": {
              "color": "#C8D4E3"
             },
             "line": {
              "color": "white"
             }
            },
            "type": "table"
           }
          ]
         },
         "layout": {
          "annotationdefaults": {
           "arrowcolor": "#2a3f5f",
           "arrowhead": 0,
           "arrowwidth": 1
          },
          "autotypenumbers": "strict",
          "coloraxis": {
           "colorbar": {
            "outlinewidth": 0,
            "ticks": ""
           }
          },
          "colorscale": {
           "diverging": [
            [
             0,
             "#8e0152"
            ],
            [
             0.1,
             "#c51b7d"
            ],
            [
             0.2,
             "#de77ae"
            ],
            [
             0.3,
             "#f1b6da"
            ],
            [
             0.4,
             "#fde0ef"
            ],
            [
             0.5,
             "#f7f7f7"
            ],
            [
             0.6,
             "#e6f5d0"
            ],
            [
             0.7,
             "#b8e186"
            ],
            [
             0.8,
             "#7fbc41"
            ],
            [
             0.9,
             "#4d9221"
            ],
            [
             1,
             "#276419"
            ]
           ],
           "sequential": [
            [
             0,
             "#0d0887"
            ],
            [
             0.1111111111111111,
             "#46039f"
            ],
            [
             0.2222222222222222,
             "#7201a8"
            ],
            [
             0.3333333333333333,
             "#9c179e"
            ],
            [
             0.4444444444444444,
             "#bd3786"
            ],
            [
             0.5555555555555556,
             "#d8576b"
            ],
            [
             0.6666666666666666,
             "#ed7953"
            ],
            [
             0.7777777777777778,
             "#fb9f3a"
            ],
            [
             0.8888888888888888,
             "#fdca26"
            ],
            [
             1,
             "#f0f921"
            ]
           ],
           "sequentialminus": [
            [
             0,
             "#0d0887"
            ],
            [
             0.1111111111111111,
             "#46039f"
            ],
            [
             0.2222222222222222,
             "#7201a8"
            ],
            [
             0.3333333333333333,
             "#9c179e"
            ],
            [
             0.4444444444444444,
             "#bd3786"
            ],
            [
             0.5555555555555556,
             "#d8576b"
            ],
            [
             0.6666666666666666,
             "#ed7953"
            ],
            [
             0.7777777777777778,
             "#fb9f3a"
            ],
            [
             0.8888888888888888,
             "#fdca26"
            ],
            [
             1,
             "#f0f921"
            ]
           ]
          },
          "colorway": [
           "#636efa",
           "#EF553B",
           "#00cc96",
           "#ab63fa",
           "#FFA15A",
           "#19d3f3",
           "#FF6692",
           "#B6E880",
           "#FF97FF",
           "#FECB52"
          ],
          "font": {
           "color": "#2a3f5f"
          },
          "geo": {
           "bgcolor": "white",
           "lakecolor": "white",
           "landcolor": "white",
           "showlakes": true,
           "showland": true,
           "subunitcolor": "#C8D4E3"
          },
          "hoverlabel": {
           "align": "left"
          },
          "hovermode": "closest",
          "mapbox": {
           "style": "light"
          },
          "paper_bgcolor": "white",
          "plot_bgcolor": "white",
          "polar": {
           "angularaxis": {
            "gridcolor": "#EBF0F8",
            "linecolor": "#EBF0F8",
            "ticks": ""
           },
           "bgcolor": "white",
           "radialaxis": {
            "gridcolor": "#EBF0F8",
            "linecolor": "#EBF0F8",
            "ticks": ""
           }
          },
          "scene": {
           "xaxis": {
            "backgroundcolor": "white",
            "gridcolor": "#DFE8F3",
            "gridwidth": 2,
            "linecolor": "#EBF0F8",
            "showbackground": true,
            "ticks": "",
            "zerolinecolor": "#EBF0F8"
           },
           "yaxis": {
            "backgroundcolor": "white",
            "gridcolor": "#DFE8F3",
            "gridwidth": 2,
            "linecolor": "#EBF0F8",
            "showbackground": true,
            "ticks": "",
            "zerolinecolor": "#EBF0F8"
           },
           "zaxis": {
            "backgroundcolor": "white",
            "gridcolor": "#DFE8F3",
            "gridwidth": 2,
            "linecolor": "#EBF0F8",
            "showbackground": true,
            "ticks": "",
            "zerolinecolor": "#EBF0F8"
           }
          },
          "shapedefaults": {
           "line": {
            "color": "#2a3f5f"
           }
          },
          "ternary": {
           "aaxis": {
            "gridcolor": "#DFE8F3",
            "linecolor": "#A2B1C6",
            "ticks": ""
           },
           "baxis": {
            "gridcolor": "#DFE8F3",
            "linecolor": "#A2B1C6",
            "ticks": ""
           },
           "bgcolor": "white",
           "caxis": {
            "gridcolor": "#DFE8F3",
            "linecolor": "#A2B1C6",
            "ticks": ""
           }
          },
          "title": {
           "x": 0.05
          },
          "xaxis": {
           "automargin": true,
           "gridcolor": "#EBF0F8",
           "linecolor": "#EBF0F8",
           "ticks": "",
           "title": {
            "standoff": 15
           },
           "zerolinecolor": "#EBF0F8",
           "zerolinewidth": 2
          },
          "yaxis": {
           "automargin": true,
           "gridcolor": "#EBF0F8",
           "linecolor": "#EBF0F8",
           "ticks": "",
           "title": {
            "standoff": 15
           },
           "zerolinecolor": "#EBF0F8",
           "zerolinewidth": 2
          }
         }
        },
        "title": {
         "text": "Distribution of MAE in the dataset"
        },
        "width": 900,
        "xaxis": {
         "anchor": "y",
         "domain": [
          0,
          1
         ],
         "range": [
          0,
          1
         ],
         "tickfont": {
          "size": 15
         },
         "title": {
          "font": {
           "size": 15
          },
          "text": "mae"
         }
        },
        "xaxis2": {
         "anchor": "y2",
         "domain": [
          0,
          1
         ],
         "matches": "x",
         "showgrid": true,
         "showticklabels": false
        },
        "yaxis": {
         "anchor": "x",
         "domain": [
          0,
          0.7326
         ],
         "tickfont": {
          "size": 15
         },
         "title": {
          "font": {
           "size": 15
          },
          "text": "Probability Density"
         }
        },
        "yaxis2": {
         "anchor": "x2",
         "domain": [
          0.7426,
          1
         ],
         "matches": "y2",
         "showgrid": false,
         "showline": false,
         "showticklabels": false,
         "ticks": ""
        }
       }
      }
     },
     "metadata": {},
     "output_type": "display_data"
    }
   ],
   "source": [
    "fig = px.histogram(aggtest_metrics,\n",
    "                   x=\"mean_absolute_error\",\n",
    "                   color=\"Model\",\n",
    "                   pattern_shape=\"Model\",\n",
    "                   marginal=\"box\",\n",
    "                   nbins=500,\n",
    "                   barmode=\"overlay\",\n",
    "                   histnorm=\"probability density\")\n",
    "fig = format_plot(fig, xlabel=\"mae\", ylabel=\"Probability Density\")\n",
    "fig.update_layout(title=\"Distribution of MAE in the dataset\", xaxis_range=[0,1])\n",
    "fig.write_image(dst_img/\"mae_dist.png\")\n",
    "fig.show()\n"
   ]
  },
  {
   "cell_type": "code",
   "execution_count": null,
   "id": "7e0d801c",
   "metadata": {},
   "outputs": [
    {
     "data": {
      "application/vnd.plotly.v1+json": {
       "config": {
        "plotlyServerURL": "https://plot.ly"
       },
       "data": [
        {
         "bingroup": "x",
         "histnorm": "probability density",
         "hovertemplate": "Model=AutoETS<br>mean_squared_error=%{x}<br>probability density=%{y}<extra></extra>",
         "legendgroup": "AutoETS",
         "marker": {
          "color": "#636efa",
          "opacity": 0.5,
          "pattern": {
           "shape": ""
          }
         },
         "name": "AutoETS",
         "nbinsx": 500,
         "orientation": "v",
         "showlegend": true,
         "type": "histogram",
         "x": {
          "bdata": "9eXcxLHKjD+6G7/4vydiPy8WEFbQ2qs/KgRNPhg9hD/CvVafpSudP9Jb4fcyyqo/nJpjpvNhwD8vozhbM8eVPwJ9dCevwUg/9w5AcwT3oz9Yh2scYCa0P0ImKzSZ/pk/N1HwOe6ooT/OXJAZZHuDP3hzYz7/TMA/5FPUjJxhkT9PsvgrkeueP3oLOI1mBZg/YG2CwtGAoT80mtlFXHCIPy3OPStEJXc/zeJW9ZPrlz8VqXsunHiwP88DiWdvYq4/H0hGxDaOkz+Qq8/Zwy7CP1/Ctc44jps/XLZ1jjgLbT9JQ+xtz51wP+t9bK+Pbnw/o+z7uT9BdT9f1Hmtz0aNPyzHXH6GTX8/KUgTp9OCmz8AF4a+yBuOP3umLimcZYE/htDZMtfCpD/JFftt/jaUP80J2V9gnZA/jrdxIKiJaT8sI8jiJUqZP34CrAQT4rM/VUeqYUsppT+NMedaZY2pP3iwRzBiuGo/Z2QyZ+OVlT+dQ/LKdr+HP/NdtlIQp9Q/e0pnKrtJhj8uOa54AcKyP1L00WydFos/tOByhaKnhj9gsHfatc7QP/3vDv40PpU/ICIDsbZ+uj8JieBezsn+Pw2D79B0UZI/2mAkl2JRSD8cPa2HgPrsPykZdxr6jY8/GAza5KXzvT9NRe0AdMqQP+2GqPmH+oA/lY0Sjhhygj++p6OzOizXP4hpuZlePWs/SeaTycpAnj+0282zItHJPzFfHCqlsXM/RvxrgHeMmT++oeWXRLU4P0mdfJgeuZ8/xBwE/CMspj+mo1o6pRBzP2+TbJXxLGw/9eXAT3fybz+4ezEivbKmP7d2XTXtq7s/MdMG06mMej+uforvrjuLPxDn8KqeqYs/12jXFjsSqD8OymiLH9CSP1QcM9Dt/VY/Ud2+CYIHgD+o2izU3UJHP0aR2fRBvmE/6644KuLpbT/1+ewMHq6BP0zlCXGURcM/4l4YoMTNwD+bx9uzmo99P+SoJ0aMCIs/xNXQz6S2yT/M8LfsEtGFP68Q318ucaU/o7he3WFLxj+eErvjZ25KP8+4x7Rv25s/Hv6cZVNlkD8YoLSvY+CIP44Vg34Gsok/NYkKDjdLkj8z9KcHqMyrP14yH3Fc1sU/5bbLUR71wD/Y/20miAtiPliDAdcIpHk/5BmA3+ZTTD/nG9751EdIP57Sy402too/luFDBf/12D9vL+BFAeRIPwAu7bwlYWI/mL8BRzvTgz8+iYTGazeVP8188AOy5rI/SV1SXjxesT+36w0wfwydP5Azpj53w0o/VXRnC9e7nD/oB4UKtfa4P9rH+HHq1K4/m50kJMWSlD8A9jP+e/dGP4I3Ojbf0Lo/gTpXi3uzlj9B4dwVy+21P5kibfB7Hok/r663tLGphD+klY+ADJJ7P255LQWenUc/BV3n2uIBdz/gG5KjLMepP4kqz5x2rak/jiuTfyZepT/Crp24C4arP3fyKB43z7k/VGUnm0oZgT+o13YlIXjdP8Tk0eBkaGw/TX+jGsEfcz+xsQJorN5yP69ZidWFbnM/EAi2U4Te0D/qv7jyNKKpP7jVKStIZIU/ZSVn6YSpij9kNcxjq+O4P44UIjIu80s/lt+pnMP2mj8dptunI5lGP5OoerIjRbQ/od3SZjXiOT+CgNvJdM9+PwMwlfGlh3k/PMdyKmmhjj8kZK0VYVSWPzy+BWtPxFo/9QaXEf5QnD+OGqMcgACLP0f6c4iJFZY/zMdJX+BtnT8CGPdL4pB4P7w4fEbPkqI/tLuf+wObnT8QfT6KPNOdPzt5TgTv3qM/DEo9y7udmD+1skeZf+pDP2TCRWTkTcY/qx2c5ukQsT+Dvo1QvtanP/3k4MNcDpc/ZQdTP7nznT8WtTXji+a6P0SrSjMHt3A/k89sun7Ljj+DmJ1JLBSuP7k37FQ4OUg/+7aKWqJcpT+GH1aKbxWhPy66SLnSeIo/Lm/47yKsqj8G21MwkPCEPw==",
          "dtype": "f8"
         },
         "xaxis": "x",
         "yaxis": "y"
        },
        {
         "hovertemplate": "Model=AutoETS<br>mean_squared_error=%{x}<extra></extra>",
         "legendgroup": "AutoETS",
         "marker": {
          "color": "#636efa"
         },
         "name": "AutoETS",
         "notched": true,
         "showlegend": false,
         "type": "box",
         "x": {
          "bdata": "9eXcxLHKjD+6G7/4vydiPy8WEFbQ2qs/KgRNPhg9hD/CvVafpSudP9Jb4fcyyqo/nJpjpvNhwD8vozhbM8eVPwJ9dCevwUg/9w5AcwT3oz9Yh2scYCa0P0ImKzSZ/pk/N1HwOe6ooT/OXJAZZHuDP3hzYz7/TMA/5FPUjJxhkT9PsvgrkeueP3oLOI1mBZg/YG2CwtGAoT80mtlFXHCIPy3OPStEJXc/zeJW9ZPrlz8VqXsunHiwP88DiWdvYq4/H0hGxDaOkz+Qq8/Zwy7CP1/Ctc44jps/XLZ1jjgLbT9JQ+xtz51wP+t9bK+Pbnw/o+z7uT9BdT9f1Hmtz0aNPyzHXH6GTX8/KUgTp9OCmz8AF4a+yBuOP3umLimcZYE/htDZMtfCpD/JFftt/jaUP80J2V9gnZA/jrdxIKiJaT8sI8jiJUqZP34CrAQT4rM/VUeqYUsppT+NMedaZY2pP3iwRzBiuGo/Z2QyZ+OVlT+dQ/LKdr+HP/NdtlIQp9Q/e0pnKrtJhj8uOa54AcKyP1L00WydFos/tOByhaKnhj9gsHfatc7QP/3vDv40PpU/ICIDsbZ+uj8JieBezsn+Pw2D79B0UZI/2mAkl2JRSD8cPa2HgPrsPykZdxr6jY8/GAza5KXzvT9NRe0AdMqQP+2GqPmH+oA/lY0Sjhhygj++p6OzOizXP4hpuZlePWs/SeaTycpAnj+0282zItHJPzFfHCqlsXM/RvxrgHeMmT++oeWXRLU4P0mdfJgeuZ8/xBwE/CMspj+mo1o6pRBzP2+TbJXxLGw/9eXAT3fybz+4ezEivbKmP7d2XTXtq7s/MdMG06mMej+uforvrjuLPxDn8KqeqYs/12jXFjsSqD8OymiLH9CSP1QcM9Dt/VY/Ud2+CYIHgD+o2izU3UJHP0aR2fRBvmE/6644KuLpbT/1+ewMHq6BP0zlCXGURcM/4l4YoMTNwD+bx9uzmo99P+SoJ0aMCIs/xNXQz6S2yT/M8LfsEtGFP68Q318ucaU/o7he3WFLxj+eErvjZ25KP8+4x7Rv25s/Hv6cZVNlkD8YoLSvY+CIP44Vg34Gsok/NYkKDjdLkj8z9KcHqMyrP14yH3Fc1sU/5bbLUR71wD/Y/20miAtiPliDAdcIpHk/5BmA3+ZTTD/nG9751EdIP57Sy402too/luFDBf/12D9vL+BFAeRIPwAu7bwlYWI/mL8BRzvTgz8+iYTGazeVP8188AOy5rI/SV1SXjxesT+36w0wfwydP5Azpj53w0o/VXRnC9e7nD/oB4UKtfa4P9rH+HHq1K4/m50kJMWSlD8A9jP+e/dGP4I3Ojbf0Lo/gTpXi3uzlj9B4dwVy+21P5kibfB7Hok/r663tLGphD+klY+ADJJ7P255LQWenUc/BV3n2uIBdz/gG5KjLMepP4kqz5x2rak/jiuTfyZepT/Crp24C4arP3fyKB43z7k/VGUnm0oZgT+o13YlIXjdP8Tk0eBkaGw/TX+jGsEfcz+xsQJorN5yP69ZidWFbnM/EAi2U4Te0D/qv7jyNKKpP7jVKStIZIU/ZSVn6YSpij9kNcxjq+O4P44UIjIu80s/lt+pnMP2mj8dptunI5lGP5OoerIjRbQ/od3SZjXiOT+CgNvJdM9+PwMwlfGlh3k/PMdyKmmhjj8kZK0VYVSWPzy+BWtPxFo/9QaXEf5QnD+OGqMcgACLP0f6c4iJFZY/zMdJX+BtnT8CGPdL4pB4P7w4fEbPkqI/tLuf+wObnT8QfT6KPNOdPzt5TgTv3qM/DEo9y7udmD+1skeZf+pDP2TCRWTkTcY/qx2c5ukQsT+Dvo1QvtanP/3k4MNcDpc/ZQdTP7nznT8WtTXji+a6P0SrSjMHt3A/k89sun7Ljj+DmJ1JLBSuP7k37FQ4OUg/+7aKWqJcpT+GH1aKbxWhPy66SLnSeIo/Lm/47yKsqj8G21MwkPCEPw==",
          "dtype": "f8"
         },
         "xaxis": "x2",
         "yaxis": "y2"
        },
        {
         "bingroup": "x",
         "histnorm": "probability density",
         "hovertemplate": "Model=ARIMA<br>mean_squared_error=%{x}<br>probability density=%{y}<extra></extra>",
         "legendgroup": "ARIMA",
         "marker": {
          "color": "#EF553B",
          "opacity": 0.5,
          "pattern": {
           "shape": "/"
          }
         },
         "name": "ARIMA",
         "nbinsx": 500,
         "orientation": "v",
         "showlegend": true,
         "type": "histogram",
         "x": {
          "bdata": "8/FjHYZ+jj8+inzfXzJjPwLsLKGaXKw/9+O9GnuqhD9u2i+T+wShP3sFclfbu64/8o1Yra06wD944sDoWsOXP78c9ArYpU4/X5NMdmOqqj+vF07faqe0PxDw42JR7Zk/ClhKgvOxoT8rfUulcquDP0hGtXQxoMA/eepQ7xKskT9MsHSO3uifP1ROz3NUnps/iU32WgxWoj8NAztvpN6YPzkh4PuEeHY/yuMiijucmz9AUaQVopSxP09RbPF6DLE//XpgNT8NmD96J9srAN3FP7OmqYFvy5s/1PyiIkq0cz9VSpRgBKpxP5V4n6xRf4A/1CJUaQoSdT9X7ZSSwDKNP5Cbq/rg03w/Jo4CX0IDmz/4iR34umScPxwykEoZ94I/Z83+ZzxKpT8zvNIGJLOUPyw+RhZjnpA/g/kukGqBaT9SjdEyLBGYP70WzOAw+7Q/+i8Y/S8spT+PIyRPaD+pPwkLtnM30Gs/EstrUiakpz9av9cnA+6YPxhmO5bybNc//5wOFD/xhT8M9ABXZdO3P57nr1Ku6Iw/7bg2sSSuhj8bVm3TPbzXP6Ru6EpcWZU/GD/ABEYlvD8Xt8Zjlh4BQLaFRbSjo5I/3ArRkW8sUD9J8mc7cB/3P8fwbS5w4ok/wpluIJ+evj/HgCrYQuyOP3wxF55Utog/rgUFeHx1hD+DsO3/dKzePyODe61PwnU/uVofktafvT9iiMeO0eLJP7MohS+Zf3M/epZ0vSQBmj+AKmGphgFUPygp2v4JA6E/c9WDcLyLpj+sYDSAvnN2P/AN12KAqmw/QsXmvX9YdT9n7eCIsC+nP21s9M2ozsM/JszhOrS/ej85rSYVoWGLP7GaADnP6Ys/L+iU61FZsj/gC851+XaSPx4wbL8dG1c/ADVEjOgHiz/USH6ISvVLPwl8vmy9HWY/I3FfEztJbj8TP9H5m/qCP9xeca4l4cM/NF4C7micrz/itxyI1m99P8x3e8/rz4o/K3LoTCOR0D/RYmjn8KuFP2lgNBQWraU/zRdjgTn0xT9aS1Z+xNJGPxYNoG696aA/T5tIu74Lkj9oAVErZpWIP2o0FZSzfYk/9Lunx2udkj8j3AWR8HirP6ks33rsL8Y/c/hn2Hz1xT/CpLcgqSmhPiALQ6jbv3g//fAxUmoVRD8T2MRTM0xKPxYulJ4Wn4o/QU2Iet8x5j+Nd4dyzixSP8r6vIAgFGM/fl02BJuHhD9gnz6nmLKuP5gTh5RDS7I/uThYVWLLsT8J4yjrgOWcP+ut/5hNwlA/CZUvGU88nD/i4H3fRy68P9qrGfvOyqs/f2o6sExslD9Yx8o45cBKP7YzRWWBBLs/mGNzMGJdmD/C74Gzsuu0PxGqMg5QD4k/EE9LNe+ghD9lBbyUFV95PxVmZrKT0kg/md38kUtudz9JpCkG6casP6tUUAKtU6k/L6vzRGl0qT9982/FaZSrP36/fg8O+7k/MzWPGAqlgT/G9mOy9zviPxEihC8bvHA/x+cOyBVEgj/W42n+4ZZ2P+L6tAGKWnU/8hedkuKc0j/dlx7gHoypP4IfmVL3bIM/A6HSbC6CjD/XaMu/zR66P/DBnjNEZV0/dQa7FevImz9+8OIcNRVJP9RIGiZGL7Q/q6C7cq5aUz+vShwDPESAP2tfvDv4WoA/xuag1YQTmT+qxDFM5geWP7+ouPqyxFs/AtmHXYZunT/rK/rOkM6QPwL7xoUopJY/nCc2sAOSnj9CTBAxTYp5P//CLHp77KY/TyXUoqx3nT/+1EhRRuGdPxTD3lzR3aM/0XphKs0FmT+0ug7jHXNDP/pO3EZefsE/lKyRzxEwsT/V8BTdSpWoP5AFoqtL25Y/kabMb9dJnj/P7xryPOG5P8VVhpG6UnI/tFLpCVHejj+ON9PRY5a6P3vMFehCCk4/2pJ7W2B8qT9VS/AXxaahPyYqTQ54g4o/Tfz6Q0hOsD8dH56RCwKFPw==",
          "dtype": "f8"
         },
         "xaxis": "x",
         "yaxis": "y"
        },
        {
         "hovertemplate": "Model=ARIMA<br>mean_squared_error=%{x}<extra></extra>",
         "legendgroup": "ARIMA",
         "marker": {
          "color": "#EF553B"
         },
         "name": "ARIMA",
         "notched": true,
         "showlegend": false,
         "type": "box",
         "x": {
          "bdata": "8/FjHYZ+jj8+inzfXzJjPwLsLKGaXKw/9+O9GnuqhD9u2i+T+wShP3sFclfbu64/8o1Yra06wD944sDoWsOXP78c9ArYpU4/X5NMdmOqqj+vF07faqe0PxDw42JR7Zk/ClhKgvOxoT8rfUulcquDP0hGtXQxoMA/eepQ7xKskT9MsHSO3uifP1ROz3NUnps/iU32WgxWoj8NAztvpN6YPzkh4PuEeHY/yuMiijucmz9AUaQVopSxP09RbPF6DLE//XpgNT8NmD96J9srAN3FP7OmqYFvy5s/1PyiIkq0cz9VSpRgBKpxP5V4n6xRf4A/1CJUaQoSdT9X7ZSSwDKNP5Cbq/rg03w/Jo4CX0IDmz/4iR34umScPxwykEoZ94I/Z83+ZzxKpT8zvNIGJLOUPyw+RhZjnpA/g/kukGqBaT9SjdEyLBGYP70WzOAw+7Q/+i8Y/S8spT+PIyRPaD+pPwkLtnM30Gs/EstrUiakpz9av9cnA+6YPxhmO5bybNc//5wOFD/xhT8M9ABXZdO3P57nr1Ku6Iw/7bg2sSSuhj8bVm3TPbzXP6Ru6EpcWZU/GD/ABEYlvD8Xt8Zjlh4BQLaFRbSjo5I/3ArRkW8sUD9J8mc7cB/3P8fwbS5w4ok/wpluIJ+evj/HgCrYQuyOP3wxF55Utog/rgUFeHx1hD+DsO3/dKzePyODe61PwnU/uVofktafvT9iiMeO0eLJP7MohS+Zf3M/epZ0vSQBmj+AKmGphgFUPygp2v4JA6E/c9WDcLyLpj+sYDSAvnN2P/AN12KAqmw/QsXmvX9YdT9n7eCIsC+nP21s9M2ozsM/JszhOrS/ej85rSYVoWGLP7GaADnP6Ys/L+iU61FZsj/gC851+XaSPx4wbL8dG1c/ADVEjOgHiz/USH6ISvVLPwl8vmy9HWY/I3FfEztJbj8TP9H5m/qCP9xeca4l4cM/NF4C7micrz/itxyI1m99P8x3e8/rz4o/K3LoTCOR0D/RYmjn8KuFP2lgNBQWraU/zRdjgTn0xT9aS1Z+xNJGPxYNoG696aA/T5tIu74Lkj9oAVErZpWIP2o0FZSzfYk/9Lunx2udkj8j3AWR8HirP6ks33rsL8Y/c/hn2Hz1xT/CpLcgqSmhPiALQ6jbv3g//fAxUmoVRD8T2MRTM0xKPxYulJ4Wn4o/QU2Iet8x5j+Nd4dyzixSP8r6vIAgFGM/fl02BJuHhD9gnz6nmLKuP5gTh5RDS7I/uThYVWLLsT8J4yjrgOWcP+ut/5hNwlA/CZUvGU88nD/i4H3fRy68P9qrGfvOyqs/f2o6sExslD9Yx8o45cBKP7YzRWWBBLs/mGNzMGJdmD/C74Gzsuu0PxGqMg5QD4k/EE9LNe+ghD9lBbyUFV95PxVmZrKT0kg/md38kUtudz9JpCkG6casP6tUUAKtU6k/L6vzRGl0qT9982/FaZSrP36/fg8O+7k/MzWPGAqlgT/G9mOy9zviPxEihC8bvHA/x+cOyBVEgj/W42n+4ZZ2P+L6tAGKWnU/8hedkuKc0j/dlx7gHoypP4IfmVL3bIM/A6HSbC6CjD/XaMu/zR66P/DBnjNEZV0/dQa7FevImz9+8OIcNRVJP9RIGiZGL7Q/q6C7cq5aUz+vShwDPESAP2tfvDv4WoA/xuag1YQTmT+qxDFM5geWP7+ouPqyxFs/AtmHXYZunT/rK/rOkM6QPwL7xoUopJY/nCc2sAOSnj9CTBAxTYp5P//CLHp77KY/TyXUoqx3nT/+1EhRRuGdPxTD3lzR3aM/0XphKs0FmT+0ug7jHXNDP/pO3EZefsE/lKyRzxEwsT/V8BTdSpWoP5AFoqtL25Y/kabMb9dJnj/P7xryPOG5P8VVhpG6UnI/tFLpCVHejj+ON9PRY5a6P3vMFehCCk4/2pJ7W2B8qT9VS/AXxaahPyYqTQ54g4o/Tfz6Q0hOsD8dH56RCwKFPw==",
          "dtype": "f8"
         },
         "xaxis": "x2",
         "yaxis": "y2"
        }
       ],
       "layout": {
        "autosize": false,
        "barmode": "overlay",
        "height": 500,
        "legend": {
         "font": {
          "size": 15
         },
         "orientation": "h",
         "title": {},
         "tracegroupgap": 0,
         "x": 1,
         "xanchor": "right",
         "y": 0.98,
         "yanchor": "bottom"
        },
        "margin": {
         "t": 60
        },
        "template": {
         "data": {
          "bar": [
           {
            "error_x": {
             "color": "#2a3f5f"
            },
            "error_y": {
             "color": "#2a3f5f"
            },
            "marker": {
             "line": {
              "color": "white",
              "width": 0.5
             },
             "pattern": {
              "fillmode": "overlay",
              "size": 10,
              "solidity": 0.2
             }
            },
            "type": "bar"
           }
          ],
          "barpolar": [
           {
            "marker": {
             "line": {
              "color": "white",
              "width": 0.5
             },
             "pattern": {
              "fillmode": "overlay",
              "size": 10,
              "solidity": 0.2
             }
            },
            "type": "barpolar"
           }
          ],
          "carpet": [
           {
            "aaxis": {
             "endlinecolor": "#2a3f5f",
             "gridcolor": "#C8D4E3",
             "linecolor": "#C8D4E3",
             "minorgridcolor": "#C8D4E3",
             "startlinecolor": "#2a3f5f"
            },
            "baxis": {
             "endlinecolor": "#2a3f5f",
             "gridcolor": "#C8D4E3",
             "linecolor": "#C8D4E3",
             "minorgridcolor": "#C8D4E3",
             "startlinecolor": "#2a3f5f"
            },
            "type": "carpet"
           }
          ],
          "choropleth": [
           {
            "colorbar": {
             "outlinewidth": 0,
             "ticks": ""
            },
            "type": "choropleth"
           }
          ],
          "contour": [
           {
            "colorbar": {
             "outlinewidth": 0,
             "ticks": ""
            },
            "colorscale": [
             [
              0,
              "#0d0887"
             ],
             [
              0.1111111111111111,
              "#46039f"
             ],
             [
              0.2222222222222222,
              "#7201a8"
             ],
             [
              0.3333333333333333,
              "#9c179e"
             ],
             [
              0.4444444444444444,
              "#bd3786"
             ],
             [
              0.5555555555555556,
              "#d8576b"
             ],
             [
              0.6666666666666666,
              "#ed7953"
             ],
             [
              0.7777777777777778,
              "#fb9f3a"
             ],
             [
              0.8888888888888888,
              "#fdca26"
             ],
             [
              1,
              "#f0f921"
             ]
            ],
            "type": "contour"
           }
          ],
          "contourcarpet": [
           {
            "colorbar": {
             "outlinewidth": 0,
             "ticks": ""
            },
            "type": "contourcarpet"
           }
          ],
          "heatmap": [
           {
            "colorbar": {
             "outlinewidth": 0,
             "ticks": ""
            },
            "colorscale": [
             [
              0,
              "#0d0887"
             ],
             [
              0.1111111111111111,
              "#46039f"
             ],
             [
              0.2222222222222222,
              "#7201a8"
             ],
             [
              0.3333333333333333,
              "#9c179e"
             ],
             [
              0.4444444444444444,
              "#bd3786"
             ],
             [
              0.5555555555555556,
              "#d8576b"
             ],
             [
              0.6666666666666666,
              "#ed7953"
             ],
             [
              0.7777777777777778,
              "#fb9f3a"
             ],
             [
              0.8888888888888888,
              "#fdca26"
             ],
             [
              1,
              "#f0f921"
             ]
            ],
            "type": "heatmap"
           }
          ],
          "histogram": [
           {
            "marker": {
             "pattern": {
              "fillmode": "overlay",
              "size": 10,
              "solidity": 0.2
             }
            },
            "type": "histogram"
           }
          ],
          "histogram2d": [
           {
            "colorbar": {
             "outlinewidth": 0,
             "ticks": ""
            },
            "colorscale": [
             [
              0,
              "#0d0887"
             ],
             [
              0.1111111111111111,
              "#46039f"
             ],
             [
              0.2222222222222222,
              "#7201a8"
             ],
             [
              0.3333333333333333,
              "#9c179e"
             ],
             [
              0.4444444444444444,
              "#bd3786"
             ],
             [
              0.5555555555555556,
              "#d8576b"
             ],
             [
              0.6666666666666666,
              "#ed7953"
             ],
             [
              0.7777777777777778,
              "#fb9f3a"
             ],
             [
              0.8888888888888888,
              "#fdca26"
             ],
             [
              1,
              "#f0f921"
             ]
            ],
            "type": "histogram2d"
           }
          ],
          "histogram2dcontour": [
           {
            "colorbar": {
             "outlinewidth": 0,
             "ticks": ""
            },
            "colorscale": [
             [
              0,
              "#0d0887"
             ],
             [
              0.1111111111111111,
              "#46039f"
             ],
             [
              0.2222222222222222,
              "#7201a8"
             ],
             [
              0.3333333333333333,
              "#9c179e"
             ],
             [
              0.4444444444444444,
              "#bd3786"
             ],
             [
              0.5555555555555556,
              "#d8576b"
             ],
             [
              0.6666666666666666,
              "#ed7953"
             ],
             [
              0.7777777777777778,
              "#fb9f3a"
             ],
             [
              0.8888888888888888,
              "#fdca26"
             ],
             [
              1,
              "#f0f921"
             ]
            ],
            "type": "histogram2dcontour"
           }
          ],
          "mesh3d": [
           {
            "colorbar": {
             "outlinewidth": 0,
             "ticks": ""
            },
            "type": "mesh3d"
           }
          ],
          "parcoords": [
           {
            "line": {
             "colorbar": {
              "outlinewidth": 0,
              "ticks": ""
             }
            },
            "type": "parcoords"
           }
          ],
          "pie": [
           {
            "automargin": true,
            "type": "pie"
           }
          ],
          "scatter": [
           {
            "fillpattern": {
             "fillmode": "overlay",
             "size": 10,
             "solidity": 0.2
            },
            "type": "scatter"
           }
          ],
          "scatter3d": [
           {
            "line": {
             "colorbar": {
              "outlinewidth": 0,
              "ticks": ""
             }
            },
            "marker": {
             "colorbar": {
              "outlinewidth": 0,
              "ticks": ""
             }
            },
            "type": "scatter3d"
           }
          ],
          "scattercarpet": [
           {
            "marker": {
             "colorbar": {
              "outlinewidth": 0,
              "ticks": ""
             }
            },
            "type": "scattercarpet"
           }
          ],
          "scattergeo": [
           {
            "marker": {
             "colorbar": {
              "outlinewidth": 0,
              "ticks": ""
             }
            },
            "type": "scattergeo"
           }
          ],
          "scattergl": [
           {
            "marker": {
             "colorbar": {
              "outlinewidth": 0,
              "ticks": ""
             }
            },
            "type": "scattergl"
           }
          ],
          "scattermap": [
           {
            "marker": {
             "colorbar": {
              "outlinewidth": 0,
              "ticks": ""
             }
            },
            "type": "scattermap"
           }
          ],
          "scattermapbox": [
           {
            "marker": {
             "colorbar": {
              "outlinewidth": 0,
              "ticks": ""
             }
            },
            "type": "scattermapbox"
           }
          ],
          "scatterpolar": [
           {
            "marker": {
             "colorbar": {
              "outlinewidth": 0,
              "ticks": ""
             }
            },
            "type": "scatterpolar"
           }
          ],
          "scatterpolargl": [
           {
            "marker": {
             "colorbar": {
              "outlinewidth": 0,
              "ticks": ""
             }
            },
            "type": "scatterpolargl"
           }
          ],
          "scatterternary": [
           {
            "marker": {
             "colorbar": {
              "outlinewidth": 0,
              "ticks": ""
             }
            },
            "type": "scatterternary"
           }
          ],
          "surface": [
           {
            "colorbar": {
             "outlinewidth": 0,
             "ticks": ""
            },
            "colorscale": [
             [
              0,
              "#0d0887"
             ],
             [
              0.1111111111111111,
              "#46039f"
             ],
             [
              0.2222222222222222,
              "#7201a8"
             ],
             [
              0.3333333333333333,
              "#9c179e"
             ],
             [
              0.4444444444444444,
              "#bd3786"
             ],
             [
              0.5555555555555556,
              "#d8576b"
             ],
             [
              0.6666666666666666,
              "#ed7953"
             ],
             [
              0.7777777777777778,
              "#fb9f3a"
             ],
             [
              0.8888888888888888,
              "#fdca26"
             ],
             [
              1,
              "#f0f921"
             ]
            ],
            "type": "surface"
           }
          ],
          "table": [
           {
            "cells": {
             "fill": {
              "color": "#EBF0F8"
             },
             "line": {
              "color": "white"
             }
            },
            "header": {
             "fill": {
              "color": "#C8D4E3"
             },
             "line": {
              "color": "white"
             }
            },
            "type": "table"
           }
          ]
         },
         "layout": {
          "annotationdefaults": {
           "arrowcolor": "#2a3f5f",
           "arrowhead": 0,
           "arrowwidth": 1
          },
          "autotypenumbers": "strict",
          "coloraxis": {
           "colorbar": {
            "outlinewidth": 0,
            "ticks": ""
           }
          },
          "colorscale": {
           "diverging": [
            [
             0,
             "#8e0152"
            ],
            [
             0.1,
             "#c51b7d"
            ],
            [
             0.2,
             "#de77ae"
            ],
            [
             0.3,
             "#f1b6da"
            ],
            [
             0.4,
             "#fde0ef"
            ],
            [
             0.5,
             "#f7f7f7"
            ],
            [
             0.6,
             "#e6f5d0"
            ],
            [
             0.7,
             "#b8e186"
            ],
            [
             0.8,
             "#7fbc41"
            ],
            [
             0.9,
             "#4d9221"
            ],
            [
             1,
             "#276419"
            ]
           ],
           "sequential": [
            [
             0,
             "#0d0887"
            ],
            [
             0.1111111111111111,
             "#46039f"
            ],
            [
             0.2222222222222222,
             "#7201a8"
            ],
            [
             0.3333333333333333,
             "#9c179e"
            ],
            [
             0.4444444444444444,
             "#bd3786"
            ],
            [
             0.5555555555555556,
             "#d8576b"
            ],
            [
             0.6666666666666666,
             "#ed7953"
            ],
            [
             0.7777777777777778,
             "#fb9f3a"
            ],
            [
             0.8888888888888888,
             "#fdca26"
            ],
            [
             1,
             "#f0f921"
            ]
           ],
           "sequentialminus": [
            [
             0,
             "#0d0887"
            ],
            [
             0.1111111111111111,
             "#46039f"
            ],
            [
             0.2222222222222222,
             "#7201a8"
            ],
            [
             0.3333333333333333,
             "#9c179e"
            ],
            [
             0.4444444444444444,
             "#bd3786"
            ],
            [
             0.5555555555555556,
             "#d8576b"
            ],
            [
             0.6666666666666666,
             "#ed7953"
            ],
            [
             0.7777777777777778,
             "#fb9f3a"
            ],
            [
             0.8888888888888888,
             "#fdca26"
            ],
            [
             1,
             "#f0f921"
            ]
           ]
          },
          "colorway": [
           "#636efa",
           "#EF553B",
           "#00cc96",
           "#ab63fa",
           "#FFA15A",
           "#19d3f3",
           "#FF6692",
           "#B6E880",
           "#FF97FF",
           "#FECB52"
          ],
          "font": {
           "color": "#2a3f5f"
          },
          "geo": {
           "bgcolor": "white",
           "lakecolor": "white",
           "landcolor": "white",
           "showlakes": true,
           "showland": true,
           "subunitcolor": "#C8D4E3"
          },
          "hoverlabel": {
           "align": "left"
          },
          "hovermode": "closest",
          "mapbox": {
           "style": "light"
          },
          "paper_bgcolor": "white",
          "plot_bgcolor": "white",
          "polar": {
           "angularaxis": {
            "gridcolor": "#EBF0F8",
            "linecolor": "#EBF0F8",
            "ticks": ""
           },
           "bgcolor": "white",
           "radialaxis": {
            "gridcolor": "#EBF0F8",
            "linecolor": "#EBF0F8",
            "ticks": ""
           }
          },
          "scene": {
           "xaxis": {
            "backgroundcolor": "white",
            "gridcolor": "#DFE8F3",
            "gridwidth": 2,
            "linecolor": "#EBF0F8",
            "showbackground": true,
            "ticks": "",
            "zerolinecolor": "#EBF0F8"
           },
           "yaxis": {
            "backgroundcolor": "white",
            "gridcolor": "#DFE8F3",
            "gridwidth": 2,
            "linecolor": "#EBF0F8",
            "showbackground": true,
            "ticks": "",
            "zerolinecolor": "#EBF0F8"
           },
           "zaxis": {
            "backgroundcolor": "white",
            "gridcolor": "#DFE8F3",
            "gridwidth": 2,
            "linecolor": "#EBF0F8",
            "showbackground": true,
            "ticks": "",
            "zerolinecolor": "#EBF0F8"
           }
          },
          "shapedefaults": {
           "line": {
            "color": "#2a3f5f"
           }
          },
          "ternary": {
           "aaxis": {
            "gridcolor": "#DFE8F3",
            "linecolor": "#A2B1C6",
            "ticks": ""
           },
           "baxis": {
            "gridcolor": "#DFE8F3",
            "linecolor": "#A2B1C6",
            "ticks": ""
           },
           "bgcolor": "white",
           "caxis": {
            "gridcolor": "#DFE8F3",
            "linecolor": "#A2B1C6",
            "ticks": ""
           }
          },
          "title": {
           "x": 0.05
          },
          "xaxis": {
           "automargin": true,
           "gridcolor": "#EBF0F8",
           "linecolor": "#EBF0F8",
           "ticks": "",
           "title": {
            "standoff": 15
           },
           "zerolinecolor": "#EBF0F8",
           "zerolinewidth": 2
          },
          "yaxis": {
           "automargin": true,
           "gridcolor": "#EBF0F8",
           "linecolor": "#EBF0F8",
           "ticks": "",
           "title": {
            "standoff": 15
           },
           "zerolinecolor": "#EBF0F8",
           "zerolinewidth": 2
          }
         }
        },
        "title": {
         "text": "Distribution of MSE in the dataset"
        },
        "width": 900,
        "xaxis": {
         "anchor": "y",
         "domain": [
          0,
          1
         ],
         "range": [
          0,
          1.5
         ],
         "tickfont": {
          "size": 15
         },
         "title": {
          "font": {
           "size": 15
          },
          "text": "mse"
         }
        },
        "xaxis2": {
         "anchor": "y2",
         "domain": [
          0,
          1
         ],
         "matches": "x",
         "showgrid": true,
         "showticklabels": false
        },
        "yaxis": {
         "anchor": "x",
         "domain": [
          0,
          0.7326
         ],
         "tickfont": {
          "size": 15
         },
         "title": {
          "font": {
           "size": 15
          },
          "text": "Probability Density"
         }
        },
        "yaxis2": {
         "anchor": "x2",
         "domain": [
          0.7426,
          1
         ],
         "matches": "y2",
         "showgrid": false,
         "showline": false,
         "showticklabels": false,
         "ticks": ""
        }
       }
      }
     },
     "metadata": {},
     "output_type": "display_data"
    }
   ],
   "source": [
    "fig = px.histogram(aggtest_metrics,\n",
    "                   x=\"mean_squared_error\",\n",
    "                   color=\"Model\",\n",
    "                   pattern_shape=\"Model\",\n",
    "                   marginal=\"box\",\n",
    "                   nbins=500,\n",
    "                   barmode=\"overlay\",\n",
    "                   histnorm=\"probability density\")\n",
    "fig = format_plot(fig, xlabel=\"mse\", ylabel=\"Probability Density\")\n",
    "fig.update_layout(title=\"Distribution of MSE in the dataset\", xaxis_range=[0,1.5])\n",
    "fig.write_image(dst_img/\"mse_dist.png\")\n",
    "fig.show()"
   ]
  },
  {
   "cell_type": "code",
   "execution_count": null,
   "id": "f6a6777b",
   "metadata": {},
   "outputs": [
    {
     "data": {
      "application/vnd.plotly.v1+json": {
       "config": {
        "plotlyServerURL": "https://plot.ly"
       },
       "data": [
        {
         "bingroup": "x",
         "histnorm": "probability density",
         "hovertemplate": "Model=AutoETS<br>root_mean_squared_error=%{x}<br>probability density=%{y}<extra></extra>",
         "legendgroup": "AutoETS",
         "marker": {
          "color": "#636efa",
          "opacity": 0.5,
          "pattern": {
           "shape": ""
          }
         },
         "name": "AutoETS",
         "nbinsx": 500,
         "orientation": "v",
         "showlegend": true,
         "type": "histogram",
         "x": {
          "bdata": "ufIX9oBavj+RWutpcRqoP8LCGvoC280/zhaTp95yuT/tqUdXmJrFP1oC+WF9R80/vOo8znjl1j8bBmt8tKrCP1csKaJvJZw/5617OqlGyT9yS8vhmPTRP1cC7KHYZMQ/SgnXSK3Fxz8GQADX7Pe4Pwf0EHbP1tY/el23aSWtwD85fVXXCz7GP1bH7WDCmsM/zXq8op6qxz+J8Fi6Dve7P1IBfbVyPrM/aztx9jWQwz/4W0YW3jvQP6gOZC2KLs8/EqnzbEuwwT8QJBYWGR/YP5qtF5VS/8Q/RxFfZXF8rj8+Dc3PKE6wP48juIMgVLU/GsYI1/Jwsj+Q1IDAp5u+P02mFcQrYbY/MBoxsvr6xD913MdhNAq/P6iegkoymLc/xjp5D2zGyT+Z9Erb/vvBP1MalFLyTcA/SyosxTqWrD8AzZ3jkh3EP8RY3H0Q1tE/a/Uum7cFyj95195zUpjMPzpELni/Pa0/ap9OP4aVwj/Dcyw0H5G7P+GBnaeULeI/7ryIuMO0uj8MVmv0+VLRP7W8Y+ghcb0/IYR3Qcvsuj9VMJJFFWbgP2JUIPigb8I/a3T94tyW1D9DUt3t4zH2Pzq9itmxHsE/07z1MFDlmz/pRkPZqXPuP3ZWtOjJxr8/JLD4tyrk1T+V8Ex3AWTAP67jsFckT7c/NIK6TZlLuD/uKICEV0HjP5Amnvwphq0/MJEuvUkAxj9i6a+bIL7cP+HFHXBKwLE/0j07u+E3xD/18Wf3BOKTP5B2/BeBh8Y/EGL+bAOjyj8nvGG4JHexP6p7enPmBq4/rMqO8Dr5rz//rhSnY/PKPxzQiNGgCtU/8d7rvUectD8I9VEKQIW9P8PqCyuawL0/9yH5dP/Ayz9MCnKmfVnBP3bIFFYRLqM/3spC3eyltj8dj7MnbkibP28B86kD1Kc/Y+1Z03Dwrj8KFmO6Ksm3PyWNJVdZ1dg/dBEQ/lUw1z9Unf6SfL+1P6VkFuV7ab0/rOBcll2v3D/i/atEF2y6P+nS04PFMco/EzeH8sC12j/vjIbFKBWdP60RHUipHMU/aIwad1oywD/lV02h3ja8P5nB5v7JrLw/IA69+sYbwT8AUKuxa9PNP2m3mbJKb9o/PC9+5WxL1z+lRsvergcoP1qxPd0yQbQ/2RGFm6Ebnj9C6rjv1N+bPzc4vmqPPL0/K8QlNf/74z/4uL5x6zicP4lUYVltQKg/s1cJ6/cvuT/qwi7mrmzCP0lQjAbjY9E/iFScxIar0D9visdKDI/FP4RbuTPPQ50/ci4uUglxxT9lYR0SSPzTP95UfEYRac8/eQVFGqQkwj86PanyFBybP5SJtX+wttQ/SGVdy+oOwz/xsslRN7vSPworrlT/Wbw/nK1ZOMu2uT+qNr3LxwC1P9i27xdzfZs/Esmlzrcvsz8iQMWLlLjMP+v27zo+qsw/qj8bGyMmyj+pHyiJcq3NP+BO4NE5UtQ/62iRKThktz8LCOw92LblPyxZ53qDJq4/4S6OBg9+sT/gw5/pMWCxP4dSq2LwobE/VP0sgMlt4D/d2c4T9aPMP8jq4kjjKbo/pQYgMZw1vT82sAO9p/TTP+VcuRUP6J0/7GG30k3FxD/FTKC3LOSaP2CCBJxIAtI/s2xcnrJZlD9r0gQw7TO2P0j2p4v5NbQ/ebDK5clOvz/w4eHW1ObCPwrW3e3VsaQ/EahJZAZJxT90W/XZGmW9PzunghUpzMI/luCN4xCzxT84p+7lW9OzP/RehxEbYcg/8sAsw67DxT9NIYlNT9jFP3tVHdVlN8k/w1POl4rYwz/gpzpHuz6ZP9DR0MtBt9o/annArEGG0D9UFTrYnp7LPwvXjdfqNMM/WImKyjHkxT+jMYnQDb/UP44Za5ODWrA/hDt0akRkvz8+7jLFRwbPPx1Bs4Zw15s/02SLlzUlyj/qseTZlGHHP3b66mHjGr0/4aD8LAs3zT9lNuRsvuK5Pw==",
          "dtype": "f8"
         },
         "xaxis": "x",
         "yaxis": "y"
        },
        {
         "hovertemplate": "Model=AutoETS<br>root_mean_squared_error=%{x}<extra></extra>",
         "legendgroup": "AutoETS",
         "marker": {
          "color": "#636efa"
         },
         "name": "AutoETS",
         "notched": true,
         "showlegend": false,
         "type": "box",
         "x": {
          "bdata": "ufIX9oBavj+RWutpcRqoP8LCGvoC280/zhaTp95yuT/tqUdXmJrFP1oC+WF9R80/vOo8znjl1j8bBmt8tKrCP1csKaJvJZw/5617OqlGyT9yS8vhmPTRP1cC7KHYZMQ/SgnXSK3Fxz8GQADX7Pe4Pwf0EHbP1tY/el23aSWtwD85fVXXCz7GP1bH7WDCmsM/zXq8op6qxz+J8Fi6Dve7P1IBfbVyPrM/aztx9jWQwz/4W0YW3jvQP6gOZC2KLs8/EqnzbEuwwT8QJBYWGR/YP5qtF5VS/8Q/RxFfZXF8rj8+Dc3PKE6wP48juIMgVLU/GsYI1/Jwsj+Q1IDAp5u+P02mFcQrYbY/MBoxsvr6xD913MdhNAq/P6iegkoymLc/xjp5D2zGyT+Z9Erb/vvBP1MalFLyTcA/SyosxTqWrD8AzZ3jkh3EP8RY3H0Q1tE/a/Uum7cFyj95195zUpjMPzpELni/Pa0/ap9OP4aVwj/Dcyw0H5G7P+GBnaeULeI/7ryIuMO0uj8MVmv0+VLRP7W8Y+ghcb0/IYR3Qcvsuj9VMJJFFWbgP2JUIPigb8I/a3T94tyW1D9DUt3t4zH2Pzq9itmxHsE/07z1MFDlmz/pRkPZqXPuP3ZWtOjJxr8/JLD4tyrk1T+V8Ex3AWTAP67jsFckT7c/NIK6TZlLuD/uKICEV0HjP5Amnvwphq0/MJEuvUkAxj9i6a+bIL7cP+HFHXBKwLE/0j07u+E3xD/18Wf3BOKTP5B2/BeBh8Y/EGL+bAOjyj8nvGG4JHexP6p7enPmBq4/rMqO8Dr5rz//rhSnY/PKPxzQiNGgCtU/8d7rvUectD8I9VEKQIW9P8PqCyuawL0/9yH5dP/Ayz9MCnKmfVnBP3bIFFYRLqM/3spC3eyltj8dj7MnbkibP28B86kD1Kc/Y+1Z03Dwrj8KFmO6Ksm3PyWNJVdZ1dg/dBEQ/lUw1z9Unf6SfL+1P6VkFuV7ab0/rOBcll2v3D/i/atEF2y6P+nS04PFMco/EzeH8sC12j/vjIbFKBWdP60RHUipHMU/aIwad1oywD/lV02h3ja8P5nB5v7JrLw/IA69+sYbwT8AUKuxa9PNP2m3mbJKb9o/PC9+5WxL1z+lRsvergcoP1qxPd0yQbQ/2RGFm6Ebnj9C6rjv1N+bPzc4vmqPPL0/K8QlNf/74z/4uL5x6zicP4lUYVltQKg/s1cJ6/cvuT/qwi7mrmzCP0lQjAbjY9E/iFScxIar0D9visdKDI/FP4RbuTPPQ50/ci4uUglxxT9lYR0SSPzTP95UfEYRac8/eQVFGqQkwj86PanyFBybP5SJtX+wttQ/SGVdy+oOwz/xsslRN7vSPworrlT/Wbw/nK1ZOMu2uT+qNr3LxwC1P9i27xdzfZs/Esmlzrcvsz8iQMWLlLjMP+v27zo+qsw/qj8bGyMmyj+pHyiJcq3NP+BO4NE5UtQ/62iRKThktz8LCOw92LblPyxZ53qDJq4/4S6OBg9+sT/gw5/pMWCxP4dSq2LwobE/VP0sgMlt4D/d2c4T9aPMP8jq4kjjKbo/pQYgMZw1vT82sAO9p/TTP+VcuRUP6J0/7GG30k3FxD/FTKC3LOSaP2CCBJxIAtI/s2xcnrJZlD9r0gQw7TO2P0j2p4v5NbQ/ebDK5clOvz/w4eHW1ObCPwrW3e3VsaQ/EahJZAZJxT90W/XZGmW9PzunghUpzMI/luCN4xCzxT84p+7lW9OzP/RehxEbYcg/8sAsw67DxT9NIYlNT9jFP3tVHdVlN8k/w1POl4rYwz/gpzpHuz6ZP9DR0MtBt9o/annArEGG0D9UFTrYnp7LPwvXjdfqNMM/WImKyjHkxT+jMYnQDb/UP44Za5ODWrA/hDt0akRkvz8+7jLFRwbPPx1Bs4Zw15s/02SLlzUlyj/qseTZlGHHP3b66mHjGr0/4aD8LAs3zT9lNuRsvuK5Pw==",
          "dtype": "f8"
         },
         "xaxis": "x2",
         "yaxis": "y2"
        },
        {
         "bingroup": "x",
         "histnorm": "probability density",
         "hovertemplate": "Model=ARIMA<br>root_mean_squared_error=%{x}<br>probability density=%{y}<extra></extra>",
         "legendgroup": "ARIMA",
         "marker": {
          "color": "#EF553B",
          "opacity": 0.5,
          "pattern": {
           "shape": "/"
          }
         },
         "name": "ARIMA",
         "nbinsx": 500,
         "orientation": "v",
         "showlegend": true,
         "type": "histogram",
         "x": {
          "bdata": "EpKGjPA8vz+OCpGJ9sioP8ZcRyFBIM4/P7oDiEi3uT8zWyTXT1bHPzxvV+tKXM8/HW3vjvbJ1j+Lz8VEvH/DPx7U78wNUZ8/wEYYGBY2zT/2GwWBvC3SP4ueYygQXsQ/NZk3yb7Lxz+aDhOEpRa5P36V2VnOENc/hs0wGrjQwD9lxcBfb5jGP30t/st0BcU/ROwDpRk5yD8gnxK2o/LDP4Fc6Xca9rI/ShNsc6gExT+2gctyjcXQP43AEBEchNA/aYWzyfWdwz+zzoktT3PaP1H0bTqYFsU/JCH2fXvBsT92JnePvc+wP5HinT31+bY/Cbq/rGxcsj+CQbGiKZG+P2ei0Ib/ebU/x9HdSh3KxD846vE3cFDFP/qnh9iUorg/D3z62PAZyj99s52C5DLCP6g2c0FxTsA/UpfRrZ2RrD+cCwORj5/DP8g7EEx1UtI/5j6a6X4Hyj/wHe6/jWzMPwy4DZBU1a0/bZOsKECByz/qICbEzPjDP8PUZ1MoXOM/bFbdg4t/uj9DdDPwT4bTP8CuwlRLar4/xyQAF6nwuj91xz7m0HzjPxUOoZtle8I/kaHyh5E41T8Ifk5A12f3P7x9VXbuRME/guUZcSgWoD/tQNhVBjzzP227pLnAx7w/N1qAqk0i1j/yfPpQ83S/Pzg+1qT6Hrw/TfL1XjqWuT+/YB9CTSfmP/01XvCbqLI/q0DLfXTF1T8U2QPc9sfcP/QXXP6tqbE/Ng5EMNhlxD83z9BNJuShP4wAMan6VMc/bz1sADLcyj+3cQiVFvSyP+cmMP+DSa4/zpFXIwZ7sj9ucJbKLD3LP3pdgzgQLdk/II6kAg6wtD8c79XsyZm9P0zKBzYL470//F78KV4i0T9+KfoVMTDBP5cq3Ao6OqM/c7yf0yJpvT+C5wUlMOmdP8bw4Zlbmqo/BYwzrJghrz/pCRFr3KS4P95rsVjNONk/EDEQfA3Ozz/F+lsCyrO1P6Q9Q7KdSr0/R+O57u9H4D9E/HFKkVW6P/0WNWhDVso/0sV70VeB2j/0o2+5YAabP/phS9uaQ8c/P5D9SP/9wD8jooO3Nwy8P881wgCJj7w/ic/6wgxCwT8SfqPVYKbNP1+iDxRJpdo/loEn/hqC2j9pxFTYZ29HP5pjulJH5rM/y3mi799ZmT9VZQAxUQKdPy6nLe7kL70/DIEksHSm6j9udKvwiA2hP+tSBRRotag/gkyHc4yhuT897l8MkVfPP/V3GdbMG9E/W4ea6Jbf0D+j2t43j4DFPwWmoqQGYKA/5cAB3z5BxT/ERI+I9jvVP3/1Zelt0s0/L190laUTwj+WCj1oZ0KdP6Ca8AyYytQ/8cgH74i+wz/+gE9KsEvSP4Q/ojFuUbw/oNHuS1exuT8Nkwa85CW0P54nZFMIL5w/EOJ837Zcsz/kw9k/gljOP3Vk3zP0d8w/ZoWeLFSKzD/iE6Z3MLXNPya+nrx0Y9Q/PDdbsA7Dtz/52NVh2SfoP0+3q1P/XLA/jQMaPzktuD8fytar5QKzPz0r4jLoe7I/yqA0KM1B4T9yIxHEm5fMP0yLZsOs7rg/HsENoy80vj9HJKjYdnHUP5s1Hgrkr6U/viJ5vaMVxT89vmahwlScP81k42qP+NE/QV9Nie2YoT8zlQoiq9C2P+Yn0DyX4LY/tIxQNs0HxD/Iz31bWsbCP1hbNdwJFKU/Et+sFU6zxT8DERczA2bAP6f0hvV6CMM/gIQIsL4dxj/baRFiBje0P8osbeCVFcs/LqD4UK22xT+2azXNct3FP1rRpJKwNsk/8euA7lECxD+HD1XonvKYPzgnSlz2qNc/uZkaNFCV0D/J0d8jKAzMP7QL6cqZH8M/040v3pMDxj8EP5rxUFnUPzSFnw9KH7E/xL8dy9ptvz+FKcPkDaDUP5scvsQqAZ8/LxdC9cqOzD9NzmfzOMTHP0my9/+8IL0/axx/tfQm0D83iKBpiu25Pw==",
          "dtype": "f8"
         },
         "xaxis": "x",
         "yaxis": "y"
        },
        {
         "hovertemplate": "Model=ARIMA<br>root_mean_squared_error=%{x}<extra></extra>",
         "legendgroup": "ARIMA",
         "marker": {
          "color": "#EF553B"
         },
         "name": "ARIMA",
         "notched": true,
         "showlegend": false,
         "type": "box",
         "x": {
          "bdata": "EpKGjPA8vz+OCpGJ9sioP8ZcRyFBIM4/P7oDiEi3uT8zWyTXT1bHPzxvV+tKXM8/HW3vjvbJ1j+Lz8VEvH/DPx7U78wNUZ8/wEYYGBY2zT/2GwWBvC3SP4ueYygQXsQ/NZk3yb7Lxz+aDhOEpRa5P36V2VnOENc/hs0wGrjQwD9lxcBfb5jGP30t/st0BcU/ROwDpRk5yD8gnxK2o/LDP4Fc6Xca9rI/ShNsc6gExT+2gctyjcXQP43AEBEchNA/aYWzyfWdwz+zzoktT3PaP1H0bTqYFsU/JCH2fXvBsT92JnePvc+wP5HinT31+bY/Cbq/rGxcsj+CQbGiKZG+P2ei0Ib/ebU/x9HdSh3KxD846vE3cFDFP/qnh9iUorg/D3z62PAZyj99s52C5DLCP6g2c0FxTsA/UpfRrZ2RrD+cCwORj5/DP8g7EEx1UtI/5j6a6X4Hyj/wHe6/jWzMPwy4DZBU1a0/bZOsKECByz/qICbEzPjDP8PUZ1MoXOM/bFbdg4t/uj9DdDPwT4bTP8CuwlRLar4/xyQAF6nwuj91xz7m0HzjPxUOoZtle8I/kaHyh5E41T8Ifk5A12f3P7x9VXbuRME/guUZcSgWoD/tQNhVBjzzP227pLnAx7w/N1qAqk0i1j/yfPpQ83S/Pzg+1qT6Hrw/TfL1XjqWuT+/YB9CTSfmP/01XvCbqLI/q0DLfXTF1T8U2QPc9sfcP/QXXP6tqbE/Ng5EMNhlxD83z9BNJuShP4wAMan6VMc/bz1sADLcyj+3cQiVFvSyP+cmMP+DSa4/zpFXIwZ7sj9ucJbKLD3LP3pdgzgQLdk/II6kAg6wtD8c79XsyZm9P0zKBzYL470//F78KV4i0T9+KfoVMTDBP5cq3Ao6OqM/c7yf0yJpvT+C5wUlMOmdP8bw4Zlbmqo/BYwzrJghrz/pCRFr3KS4P95rsVjNONk/EDEQfA3Ozz/F+lsCyrO1P6Q9Q7KdSr0/R+O57u9H4D9E/HFKkVW6P/0WNWhDVso/0sV70VeB2j/0o2+5YAabP/phS9uaQ8c/P5D9SP/9wD8jooO3Nwy8P881wgCJj7w/ic/6wgxCwT8SfqPVYKbNP1+iDxRJpdo/loEn/hqC2j9pxFTYZ29HP5pjulJH5rM/y3mi799ZmT9VZQAxUQKdPy6nLe7kL70/DIEksHSm6j9udKvwiA2hP+tSBRRotag/gkyHc4yhuT897l8MkVfPP/V3GdbMG9E/W4ea6Jbf0D+j2t43j4DFPwWmoqQGYKA/5cAB3z5BxT/ERI+I9jvVP3/1Zelt0s0/L190laUTwj+WCj1oZ0KdP6Ca8AyYytQ/8cgH74i+wz/+gE9KsEvSP4Q/ojFuUbw/oNHuS1exuT8Nkwa85CW0P54nZFMIL5w/EOJ837Zcsz/kw9k/gljOP3Vk3zP0d8w/ZoWeLFSKzD/iE6Z3MLXNPya+nrx0Y9Q/PDdbsA7Dtz/52NVh2SfoP0+3q1P/XLA/jQMaPzktuD8fytar5QKzPz0r4jLoe7I/yqA0KM1B4T9yIxHEm5fMP0yLZsOs7rg/HsENoy80vj9HJKjYdnHUP5s1Hgrkr6U/viJ5vaMVxT89vmahwlScP81k42qP+NE/QV9Nie2YoT8zlQoiq9C2P+Yn0DyX4LY/tIxQNs0HxD/Iz31bWsbCP1hbNdwJFKU/Et+sFU6zxT8DERczA2bAP6f0hvV6CMM/gIQIsL4dxj/baRFiBje0P8osbeCVFcs/LqD4UK22xT+2azXNct3FP1rRpJKwNsk/8euA7lECxD+HD1XonvKYPzgnSlz2qNc/uZkaNFCV0D/J0d8jKAzMP7QL6cqZH8M/040v3pMDxj8EP5rxUFnUPzSFnw9KH7E/xL8dy9ptvz+FKcPkDaDUP5scvsQqAZ8/LxdC9cqOzD9NzmfzOMTHP0my9/+8IL0/axx/tfQm0D83iKBpiu25Pw==",
          "dtype": "f8"
         },
         "xaxis": "x2",
         "yaxis": "y2"
        }
       ],
       "layout": {
        "autosize": false,
        "barmode": "overlay",
        "height": 500,
        "legend": {
         "font": {
          "size": 15
         },
         "orientation": "h",
         "title": {},
         "tracegroupgap": 0,
         "x": 1,
         "xanchor": "right",
         "y": 0.98,
         "yanchor": "bottom"
        },
        "margin": {
         "t": 60
        },
        "template": {
         "data": {
          "bar": [
           {
            "error_x": {
             "color": "#2a3f5f"
            },
            "error_y": {
             "color": "#2a3f5f"
            },
            "marker": {
             "line": {
              "color": "white",
              "width": 0.5
             },
             "pattern": {
              "fillmode": "overlay",
              "size": 10,
              "solidity": 0.2
             }
            },
            "type": "bar"
           }
          ],
          "barpolar": [
           {
            "marker": {
             "line": {
              "color": "white",
              "width": 0.5
             },
             "pattern": {
              "fillmode": "overlay",
              "size": 10,
              "solidity": 0.2
             }
            },
            "type": "barpolar"
           }
          ],
          "carpet": [
           {
            "aaxis": {
             "endlinecolor": "#2a3f5f",
             "gridcolor": "#C8D4E3",
             "linecolor": "#C8D4E3",
             "minorgridcolor": "#C8D4E3",
             "startlinecolor": "#2a3f5f"
            },
            "baxis": {
             "endlinecolor": "#2a3f5f",
             "gridcolor": "#C8D4E3",
             "linecolor": "#C8D4E3",
             "minorgridcolor": "#C8D4E3",
             "startlinecolor": "#2a3f5f"
            },
            "type": "carpet"
           }
          ],
          "choropleth": [
           {
            "colorbar": {
             "outlinewidth": 0,
             "ticks": ""
            },
            "type": "choropleth"
           }
          ],
          "contour": [
           {
            "colorbar": {
             "outlinewidth": 0,
             "ticks": ""
            },
            "colorscale": [
             [
              0,
              "#0d0887"
             ],
             [
              0.1111111111111111,
              "#46039f"
             ],
             [
              0.2222222222222222,
              "#7201a8"
             ],
             [
              0.3333333333333333,
              "#9c179e"
             ],
             [
              0.4444444444444444,
              "#bd3786"
             ],
             [
              0.5555555555555556,
              "#d8576b"
             ],
             [
              0.6666666666666666,
              "#ed7953"
             ],
             [
              0.7777777777777778,
              "#fb9f3a"
             ],
             [
              0.8888888888888888,
              "#fdca26"
             ],
             [
              1,
              "#f0f921"
             ]
            ],
            "type": "contour"
           }
          ],
          "contourcarpet": [
           {
            "colorbar": {
             "outlinewidth": 0,
             "ticks": ""
            },
            "type": "contourcarpet"
           }
          ],
          "heatmap": [
           {
            "colorbar": {
             "outlinewidth": 0,
             "ticks": ""
            },
            "colorscale": [
             [
              0,
              "#0d0887"
             ],
             [
              0.1111111111111111,
              "#46039f"
             ],
             [
              0.2222222222222222,
              "#7201a8"
             ],
             [
              0.3333333333333333,
              "#9c179e"
             ],
             [
              0.4444444444444444,
              "#bd3786"
             ],
             [
              0.5555555555555556,
              "#d8576b"
             ],
             [
              0.6666666666666666,
              "#ed7953"
             ],
             [
              0.7777777777777778,
              "#fb9f3a"
             ],
             [
              0.8888888888888888,
              "#fdca26"
             ],
             [
              1,
              "#f0f921"
             ]
            ],
            "type": "heatmap"
           }
          ],
          "histogram": [
           {
            "marker": {
             "pattern": {
              "fillmode": "overlay",
              "size": 10,
              "solidity": 0.2
             }
            },
            "type": "histogram"
           }
          ],
          "histogram2d": [
           {
            "colorbar": {
             "outlinewidth": 0,
             "ticks": ""
            },
            "colorscale": [
             [
              0,
              "#0d0887"
             ],
             [
              0.1111111111111111,
              "#46039f"
             ],
             [
              0.2222222222222222,
              "#7201a8"
             ],
             [
              0.3333333333333333,
              "#9c179e"
             ],
             [
              0.4444444444444444,
              "#bd3786"
             ],
             [
              0.5555555555555556,
              "#d8576b"
             ],
             [
              0.6666666666666666,
              "#ed7953"
             ],
             [
              0.7777777777777778,
              "#fb9f3a"
             ],
             [
              0.8888888888888888,
              "#fdca26"
             ],
             [
              1,
              "#f0f921"
             ]
            ],
            "type": "histogram2d"
           }
          ],
          "histogram2dcontour": [
           {
            "colorbar": {
             "outlinewidth": 0,
             "ticks": ""
            },
            "colorscale": [
             [
              0,
              "#0d0887"
             ],
             [
              0.1111111111111111,
              "#46039f"
             ],
             [
              0.2222222222222222,
              "#7201a8"
             ],
             [
              0.3333333333333333,
              "#9c179e"
             ],
             [
              0.4444444444444444,
              "#bd3786"
             ],
             [
              0.5555555555555556,
              "#d8576b"
             ],
             [
              0.6666666666666666,
              "#ed7953"
             ],
             [
              0.7777777777777778,
              "#fb9f3a"
             ],
             [
              0.8888888888888888,
              "#fdca26"
             ],
             [
              1,
              "#f0f921"
             ]
            ],
            "type": "histogram2dcontour"
           }
          ],
          "mesh3d": [
           {
            "colorbar": {
             "outlinewidth": 0,
             "ticks": ""
            },
            "type": "mesh3d"
           }
          ],
          "parcoords": [
           {
            "line": {
             "colorbar": {
              "outlinewidth": 0,
              "ticks": ""
             }
            },
            "type": "parcoords"
           }
          ],
          "pie": [
           {
            "automargin": true,
            "type": "pie"
           }
          ],
          "scatter": [
           {
            "fillpattern": {
             "fillmode": "overlay",
             "size": 10,
             "solidity": 0.2
            },
            "type": "scatter"
           }
          ],
          "scatter3d": [
           {
            "line": {
             "colorbar": {
              "outlinewidth": 0,
              "ticks": ""
             }
            },
            "marker": {
             "colorbar": {
              "outlinewidth": 0,
              "ticks": ""
             }
            },
            "type": "scatter3d"
           }
          ],
          "scattercarpet": [
           {
            "marker": {
             "colorbar": {
              "outlinewidth": 0,
              "ticks": ""
             }
            },
            "type": "scattercarpet"
           }
          ],
          "scattergeo": [
           {
            "marker": {
             "colorbar": {
              "outlinewidth": 0,
              "ticks": ""
             }
            },
            "type": "scattergeo"
           }
          ],
          "scattergl": [
           {
            "marker": {
             "colorbar": {
              "outlinewidth": 0,
              "ticks": ""
             }
            },
            "type": "scattergl"
           }
          ],
          "scattermap": [
           {
            "marker": {
             "colorbar": {
              "outlinewidth": 0,
              "ticks": ""
             }
            },
            "type": "scattermap"
           }
          ],
          "scattermapbox": [
           {
            "marker": {
             "colorbar": {
              "outlinewidth": 0,
              "ticks": ""
             }
            },
            "type": "scattermapbox"
           }
          ],
          "scatterpolar": [
           {
            "marker": {
             "colorbar": {
              "outlinewidth": 0,
              "ticks": ""
             }
            },
            "type": "scatterpolar"
           }
          ],
          "scatterpolargl": [
           {
            "marker": {
             "colorbar": {
              "outlinewidth": 0,
              "ticks": ""
             }
            },
            "type": "scatterpolargl"
           }
          ],
          "scatterternary": [
           {
            "marker": {
             "colorbar": {
              "outlinewidth": 0,
              "ticks": ""
             }
            },
            "type": "scatterternary"
           }
          ],
          "surface": [
           {
            "colorbar": {
             "outlinewidth": 0,
             "ticks": ""
            },
            "colorscale": [
             [
              0,
              "#0d0887"
             ],
             [
              0.1111111111111111,
              "#46039f"
             ],
             [
              0.2222222222222222,
              "#7201a8"
             ],
             [
              0.3333333333333333,
              "#9c179e"
             ],
             [
              0.4444444444444444,
              "#bd3786"
             ],
             [
              0.5555555555555556,
              "#d8576b"
             ],
             [
              0.6666666666666666,
              "#ed7953"
             ],
             [
              0.7777777777777778,
              "#fb9f3a"
             ],
             [
              0.8888888888888888,
              "#fdca26"
             ],
             [
              1,
              "#f0f921"
             ]
            ],
            "type": "surface"
           }
          ],
          "table": [
           {
            "cells": {
             "fill": {
              "color": "#EBF0F8"
             },
             "line": {
              "color": "white"
             }
            },
            "header": {
             "fill": {
              "color": "#C8D4E3"
             },
             "line": {
              "color": "white"
             }
            },
            "type": "table"
           }
          ]
         },
         "layout": {
          "annotationdefaults": {
           "arrowcolor": "#2a3f5f",
           "arrowhead": 0,
           "arrowwidth": 1
          },
          "autotypenumbers": "strict",
          "coloraxis": {
           "colorbar": {
            "outlinewidth": 0,
            "ticks": ""
           }
          },
          "colorscale": {
           "diverging": [
            [
             0,
             "#8e0152"
            ],
            [
             0.1,
             "#c51b7d"
            ],
            [
             0.2,
             "#de77ae"
            ],
            [
             0.3,
             "#f1b6da"
            ],
            [
             0.4,
             "#fde0ef"
            ],
            [
             0.5,
             "#f7f7f7"
            ],
            [
             0.6,
             "#e6f5d0"
            ],
            [
             0.7,
             "#b8e186"
            ],
            [
             0.8,
             "#7fbc41"
            ],
            [
             0.9,
             "#4d9221"
            ],
            [
             1,
             "#276419"
            ]
           ],
           "sequential": [
            [
             0,
             "#0d0887"
            ],
            [
             0.1111111111111111,
             "#46039f"
            ],
            [
             0.2222222222222222,
             "#7201a8"
            ],
            [
             0.3333333333333333,
             "#9c179e"
            ],
            [
             0.4444444444444444,
             "#bd3786"
            ],
            [
             0.5555555555555556,
             "#d8576b"
            ],
            [
             0.6666666666666666,
             "#ed7953"
            ],
            [
             0.7777777777777778,
             "#fb9f3a"
            ],
            [
             0.8888888888888888,
             "#fdca26"
            ],
            [
             1,
             "#f0f921"
            ]
           ],
           "sequentialminus": [
            [
             0,
             "#0d0887"
            ],
            [
             0.1111111111111111,
             "#46039f"
            ],
            [
             0.2222222222222222,
             "#7201a8"
            ],
            [
             0.3333333333333333,
             "#9c179e"
            ],
            [
             0.4444444444444444,
             "#bd3786"
            ],
            [
             0.5555555555555556,
             "#d8576b"
            ],
            [
             0.6666666666666666,
             "#ed7953"
            ],
            [
             0.7777777777777778,
             "#fb9f3a"
            ],
            [
             0.8888888888888888,
             "#fdca26"
            ],
            [
             1,
             "#f0f921"
            ]
           ]
          },
          "colorway": [
           "#636efa",
           "#EF553B",
           "#00cc96",
           "#ab63fa",
           "#FFA15A",
           "#19d3f3",
           "#FF6692",
           "#B6E880",
           "#FF97FF",
           "#FECB52"
          ],
          "font": {
           "color": "#2a3f5f"
          },
          "geo": {
           "bgcolor": "white",
           "lakecolor": "white",
           "landcolor": "white",
           "showlakes": true,
           "showland": true,
           "subunitcolor": "#C8D4E3"
          },
          "hoverlabel": {
           "align": "left"
          },
          "hovermode": "closest",
          "mapbox": {
           "style": "light"
          },
          "paper_bgcolor": "white",
          "plot_bgcolor": "white",
          "polar": {
           "angularaxis": {
            "gridcolor": "#EBF0F8",
            "linecolor": "#EBF0F8",
            "ticks": ""
           },
           "bgcolor": "white",
           "radialaxis": {
            "gridcolor": "#EBF0F8",
            "linecolor": "#EBF0F8",
            "ticks": ""
           }
          },
          "scene": {
           "xaxis": {
            "backgroundcolor": "white",
            "gridcolor": "#DFE8F3",
            "gridwidth": 2,
            "linecolor": "#EBF0F8",
            "showbackground": true,
            "ticks": "",
            "zerolinecolor": "#EBF0F8"
           },
           "yaxis": {
            "backgroundcolor": "white",
            "gridcolor": "#DFE8F3",
            "gridwidth": 2,
            "linecolor": "#EBF0F8",
            "showbackground": true,
            "ticks": "",
            "zerolinecolor": "#EBF0F8"
           },
           "zaxis": {
            "backgroundcolor": "white",
            "gridcolor": "#DFE8F3",
            "gridwidth": 2,
            "linecolor": "#EBF0F8",
            "showbackground": true,
            "ticks": "",
            "zerolinecolor": "#EBF0F8"
           }
          },
          "shapedefaults": {
           "line": {
            "color": "#2a3f5f"
           }
          },
          "ternary": {
           "aaxis": {
            "gridcolor": "#DFE8F3",
            "linecolor": "#A2B1C6",
            "ticks": ""
           },
           "baxis": {
            "gridcolor": "#DFE8F3",
            "linecolor": "#A2B1C6",
            "ticks": ""
           },
           "bgcolor": "white",
           "caxis": {
            "gridcolor": "#DFE8F3",
            "linecolor": "#A2B1C6",
            "ticks": ""
           }
          },
          "title": {
           "x": 0.05
          },
          "xaxis": {
           "automargin": true,
           "gridcolor": "#EBF0F8",
           "linecolor": "#EBF0F8",
           "ticks": "",
           "title": {
            "standoff": 15
           },
           "zerolinecolor": "#EBF0F8",
           "zerolinewidth": 2
          },
          "yaxis": {
           "automargin": true,
           "gridcolor": "#EBF0F8",
           "linecolor": "#EBF0F8",
           "ticks": "",
           "title": {
            "standoff": 15
           },
           "zerolinecolor": "#EBF0F8",
           "zerolinewidth": 2
          }
         }
        },
        "title": {
         "text": "Distribution of RMSE in the dataset"
        },
        "width": 900,
        "xaxis": {
         "anchor": "y",
         "domain": [
          0,
          1
         ],
         "range": [
          0,
          1
         ],
         "tickfont": {
          "size": 15
         },
         "title": {
          "font": {
           "size": 15
          },
          "text": "rmse"
         }
        },
        "xaxis2": {
         "anchor": "y2",
         "domain": [
          0,
          1
         ],
         "matches": "x",
         "showgrid": true,
         "showticklabels": false
        },
        "yaxis": {
         "anchor": "x",
         "domain": [
          0,
          0.7326
         ],
         "tickfont": {
          "size": 15
         },
         "title": {
          "font": {
           "size": 15
          },
          "text": "Probability Density"
         }
        },
        "yaxis2": {
         "anchor": "x2",
         "domain": [
          0.7426,
          1
         ],
         "matches": "y2",
         "showgrid": false,
         "showline": false,
         "showticklabels": false,
         "ticks": ""
        }
       }
      }
     },
     "metadata": {},
     "output_type": "display_data"
    }
   ],
   "source": [
    "fig = px.histogram(aggtest_metrics,\n",
    "                   x=\"root_mean_squared_error\",\n",
    "                   color=\"Model\",\n",
    "                   pattern_shape=\"Model\",\n",
    "                   marginal=\"box\",\n",
    "                   nbins=500,\n",
    "                   barmode=\"overlay\",\n",
    "                   histnorm=\"probability density\")\n",
    "fig = format_plot(fig, xlabel=\"rmse\", ylabel=\"Probability Density\")\n",
    "fig.update_layout(title=\"Distribution of RMSE in the dataset\", xaxis_range=[0,1])\n",
    "fig.write_image(dst_img/\"rmse_dist.png\")\n",
    "fig.show()"
   ]
  },
  {
   "cell_type": "code",
   "execution_count": null,
   "id": "f2dc7582",
   "metadata": {},
   "outputs": [
    {
     "data": {
      "application/vnd.plotly.v1+json": {
       "config": {
        "plotlyServerURL": "https://plot.ly"
       },
       "data": [
        {
         "bingroup": "x",
         "histnorm": "probability density",
         "hovertemplate": "Model=AutoETS<br>forecast_bias=%{x}<br>probability density=%{y}<extra></extra>",
         "legendgroup": "AutoETS",
         "marker": {
          "color": "#636efa",
          "opacity": 0.5,
          "pattern": {
           "shape": ""
          }
         },
         "name": "AutoETS",
         "nbinsx": 250,
         "orientation": "v",
         "showlegend": true,
         "type": "histogram",
         "x": {
          "bdata": "YewD8XMxKkAyw/zfd2kxwH7KwPEjGifAqNr9Mkr28L9D5gdqn/02QAO5ql0C9TnA5Adl3o3jMMD2uTBCQIIwQIyLSKvHohvA2d8I+HomSMDING+ombw4QJJYnZ2DtxhAeRdr0lFm/T+CXTJtHfEKQJwnFk9t9QrAWCffQUYIDcCABr0C/t4mwLoCakfbSUDAqefMCvhpGcCGddFpRBA+wKOItUpxGSNAzY3Xi7PMLsD8oRs8Td1AQOEcnCCUrzzAyDlNsLC5UcA5cqUHXd4ewAIKsBWxYBrArWZg1CnjM0D5m8SICHcJQMgOBPBNiQtAvl2cbgsHNsAUmXC+kj0RQFEVetos8TXA4yeCMDuHE8ACUTqx4Fk4QIhKdQKYr0HAM454N/4AAkDj27IiWsf4P11qZHFOGPM/YZ4LSvt9/b/7nMujLBkwwId6mwy0/DHA7Mf11QtvMcDvtwUbLJgqwBypJX9RzSHAh5VuLyZqU0Bma6fVdT5PwJp8Ij/eqTrAxxHjoPlsNcAIfA9LxtokwP1cEPrl2kZATPp6a2yi9D8cgCHCuKlEwBy0WaaijzVAgLgNeY8cP8D41LeTOQkhwHR5iuhlcQ9AAtouodiOHcC4Ug8WU5Z1wItZrR1J+FHACGRkdBKQKEAKqFgpo51TwCz+Z4fkHzzA0sJ6nSqXEcBpzBDBxLw0wJnLRPgPMkBA27INbfJxU8BdPwsdJ+f0P/s3+XNE4QTAQHpguxZxGsDOJD0NxR8KQCSXk7gNrSxAnQGvE2TM5z81W7skJUInQI4T7ema7xbAJHPvqwFiNMCAvD7MLqosQAnfyL231RdA9jlzaojBJsBurdx+KPwbQC5NoglvuzDAIGI3p3RNAMBA/78HodMjQJQUT4NOCiPAWTdn82N+IsBYaPQ4nDoewILcEHQeFChA9N8PhGAZIUDR23aKm4AsQF7Qcic1ADTA9RVYbHuoUsAiuqMznGoPQJ2zKg37lilAZS8xCB8mRMCiNPCOV/UVQGrEBxafgfY/pwzm8CDSH0DNbzaD/YUdwJGJtLuV/URAG1rr8muHMEAQUYbakqssQOfnaBEl/RpAyigJE0PwBcDhZl25KzcxwHW7YtMbjDjAdLv02OdMNMAAAAAAAADwfxoOHlX/1STADl2D1HUrUMBJBQ/+8ZobwG7PmRRtxyTAwY0EU82iScBa3SK2MA8ewJoA6qUn0ELAWqZW5K3UHkB0WtcAdfs0QJo+n1clTUPAMmMrxOm2McC3qgaQoyglQPZLBRyAER7AfS2aEQhSOcBfjuAWJmBRwIeNB4mQt0PA8PqvTon/LkC2sh1kmqvqP0Rv4Z8KqCRAr9aeuqIvLkBKbQQ9FT4ywEqWMkkFXB5A+ynZJuj3A0CZc7VM/wI0wCQLQQwZCRzAjFYq1TJZCMC6bBLIU6sIQFTkL2OKBjFAfp43rW5aKUD5Vg+dqd34v63ahs0AZSXACFDO2yrWHkDj1Bg67OJJwL1ns+koWTJAPoUnqNjUREAHOl3Tnt9JwCmgbQZCFzBA85u/kU1jR8Ago6tJ60kgwPBWSl2UDzfAttJjB7ULBEBCJfcak2lGwIcyh3e64ilA5OvbMtKs+7/7Ka5XV5YcwIv34ic5jh9ACg3/tWkUMcC+Qqu2xBw/wCQ1uCIo8DBAC48jLrWaR0CyX+7iOMQcQBQU86pYDCfA8FT1S0QiEMC6j2PL3xg9QJME8y0MbABAhJi3zohLJcAETc3vk13UP2qiH5zUlVRAjOYTHmpWCkDN+aqAjxcOwLhEC37oriXA/ppQh0YsKsCrMadyrwAWwDh/yZ4DQ0zA6hGbAWZTDUCI88GnDwopwKDgTnoq0irAQjlZs0RfHEB9pFOUiuAvwJsAV9yZwiBAyEHWY5ucGcAysySn2pFGQHyNhdyrBBzAgfkm8xGHHUCl5mv89N4hQI16q4AR0/i/p4nsYW8KL0BTPGCt3rQhwA==",
          "dtype": "f8"
         },
         "xaxis": "x",
         "yaxis": "y"
        },
        {
         "hovertemplate": "Model=AutoETS<br>forecast_bias=%{x}<extra></extra>",
         "legendgroup": "AutoETS",
         "marker": {
          "color": "#636efa"
         },
         "name": "AutoETS",
         "notched": true,
         "showlegend": false,
         "type": "box",
         "x": {
          "bdata": "YewD8XMxKkAyw/zfd2kxwH7KwPEjGifAqNr9Mkr28L9D5gdqn/02QAO5ql0C9TnA5Adl3o3jMMD2uTBCQIIwQIyLSKvHohvA2d8I+HomSMDING+ombw4QJJYnZ2DtxhAeRdr0lFm/T+CXTJtHfEKQJwnFk9t9QrAWCffQUYIDcCABr0C/t4mwLoCakfbSUDAqefMCvhpGcCGddFpRBA+wKOItUpxGSNAzY3Xi7PMLsD8oRs8Td1AQOEcnCCUrzzAyDlNsLC5UcA5cqUHXd4ewAIKsBWxYBrArWZg1CnjM0D5m8SICHcJQMgOBPBNiQtAvl2cbgsHNsAUmXC+kj0RQFEVetos8TXA4yeCMDuHE8ACUTqx4Fk4QIhKdQKYr0HAM454N/4AAkDj27IiWsf4P11qZHFOGPM/YZ4LSvt9/b/7nMujLBkwwId6mwy0/DHA7Mf11QtvMcDvtwUbLJgqwBypJX9RzSHAh5VuLyZqU0Bma6fVdT5PwJp8Ij/eqTrAxxHjoPlsNcAIfA9LxtokwP1cEPrl2kZATPp6a2yi9D8cgCHCuKlEwBy0WaaijzVAgLgNeY8cP8D41LeTOQkhwHR5iuhlcQ9AAtouodiOHcC4Ug8WU5Z1wItZrR1J+FHACGRkdBKQKEAKqFgpo51TwCz+Z4fkHzzA0sJ6nSqXEcBpzBDBxLw0wJnLRPgPMkBA27INbfJxU8BdPwsdJ+f0P/s3+XNE4QTAQHpguxZxGsDOJD0NxR8KQCSXk7gNrSxAnQGvE2TM5z81W7skJUInQI4T7ema7xbAJHPvqwFiNMCAvD7MLqosQAnfyL231RdA9jlzaojBJsBurdx+KPwbQC5NoglvuzDAIGI3p3RNAMBA/78HodMjQJQUT4NOCiPAWTdn82N+IsBYaPQ4nDoewILcEHQeFChA9N8PhGAZIUDR23aKm4AsQF7Qcic1ADTA9RVYbHuoUsAiuqMznGoPQJ2zKg37lilAZS8xCB8mRMCiNPCOV/UVQGrEBxafgfY/pwzm8CDSH0DNbzaD/YUdwJGJtLuV/URAG1rr8muHMEAQUYbakqssQOfnaBEl/RpAyigJE0PwBcDhZl25KzcxwHW7YtMbjDjAdLv02OdMNMAAAAAAAADwfxoOHlX/1STADl2D1HUrUMBJBQ/+8ZobwG7PmRRtxyTAwY0EU82iScBa3SK2MA8ewJoA6qUn0ELAWqZW5K3UHkB0WtcAdfs0QJo+n1clTUPAMmMrxOm2McC3qgaQoyglQPZLBRyAER7AfS2aEQhSOcBfjuAWJmBRwIeNB4mQt0PA8PqvTon/LkC2sh1kmqvqP0Rv4Z8KqCRAr9aeuqIvLkBKbQQ9FT4ywEqWMkkFXB5A+ynZJuj3A0CZc7VM/wI0wCQLQQwZCRzAjFYq1TJZCMC6bBLIU6sIQFTkL2OKBjFAfp43rW5aKUD5Vg+dqd34v63ahs0AZSXACFDO2yrWHkDj1Bg67OJJwL1ns+koWTJAPoUnqNjUREAHOl3Tnt9JwCmgbQZCFzBA85u/kU1jR8Ago6tJ60kgwPBWSl2UDzfAttJjB7ULBEBCJfcak2lGwIcyh3e64ilA5OvbMtKs+7/7Ka5XV5YcwIv34ic5jh9ACg3/tWkUMcC+Qqu2xBw/wCQ1uCIo8DBAC48jLrWaR0CyX+7iOMQcQBQU86pYDCfA8FT1S0QiEMC6j2PL3xg9QJME8y0MbABAhJi3zohLJcAETc3vk13UP2qiH5zUlVRAjOYTHmpWCkDN+aqAjxcOwLhEC37oriXA/ppQh0YsKsCrMadyrwAWwDh/yZ4DQ0zA6hGbAWZTDUCI88GnDwopwKDgTnoq0irAQjlZs0RfHEB9pFOUiuAvwJsAV9yZwiBAyEHWY5ucGcAysySn2pFGQHyNhdyrBBzAgfkm8xGHHUCl5mv89N4hQI16q4AR0/i/p4nsYW8KL0BTPGCt3rQhwA==",
          "dtype": "f8"
         },
         "xaxis": "x2",
         "yaxis": "y2"
        },
        {
         "bingroup": "x",
         "histnorm": "probability density",
         "hovertemplate": "Model=ARIMA<br>forecast_bias=%{x}<br>probability density=%{y}<extra></extra>",
         "legendgroup": "ARIMA",
         "marker": {
          "color": "#EF553B",
          "opacity": 0.5,
          "pattern": {
           "shape": "/"
          }
         },
         "name": "ARIMA",
         "nbinsx": 250,
         "orientation": "v",
         "showlegend": true,
         "type": "histogram",
         "x": {
          "bdata": "CWNXEsszOEC3wLeqHws0wCMUsZnY+yTAdHqARDniH8Bo/G2SLv5MQL1gRuKX2EHAYZOWEsPLMsAWs6ilomtBQDzZCN9ZOSPAN6/JnloKVcDJPzBxZkg8QNmEHcQ5Gh5AbAJqnUZz+D+fVz3GO10gQDEiMpyFMw5AA/xqUB9gBcBMcS9+Lj41wOplzOvtoErAJxAHNuCFI0Bixcn7dYFXwAzSpDgv/PI/A7XcF3stQMDGenOUJ9xHQPYKUi8feUPACMBZE2uJWcDNA23dDJ80wLXQn0sASyHA3GgIWDKgT0DobJuzYdAlQLKfvsEqwC9AnY0XQDbSNcCYFgJi5s8AQIlFJRbDxyXAPkdt701X8T+udU3x9S5NQHh4J/Q2cEnAYuh+muwRHEC1Vtu4/MExQGitX6F9KBpASaP/A26F5D++7DMxhp8lwJQLdLdqRjfA8QHc/XeKMsAUiAt8xHAiwJhf9DJd5SvAtZuHhfseZEA+sNy4j8pgwLGUOEhKbELAcbiyNOFZNMAP/xm/b0lDwMQNq4ZryEpAf+WuWaBZ8L9yDwGtxMNSwHxwjRzPEjVAycqBytuKRcBc3aakwYRGwFCoDGnAxgLA3Kre5GPyJcDOnSPkYbJ8wFkx+5Ouf0nAJD/D03UtPEC7vPZ+QKpSwAB1S1M5bEvAuptwIS1rNkCsNh4RAU8gwFMasQPQClBArMyywPCYaMANhKBHcdIiwGV4gTMMuCNA3ymJ9pcDL8ArWxGwrxRXQPWv/lvzNzdAysq7qO7eBUDPM2OU761HQISvhZrhwSPA4qPlLP2hUMCwM5N+mV0zQMnd/hukN0bAT3EPXWOcKcDrY9T91aIQQFIbPCA8DzjAMn6fsMO0QcASUAj3wCsWQMvjFMtoNiPA7mySlnEWUsBs2qhu0O0hwF5htOSiTT5AXBNhI7tWK0AOxmcTo048QHWGUizfQDbAEKKlpx9jG0B0VlurmSseQMxOZ1a1fChAJ5ols3PdUcCSC/b+lTcMQM4Uh759QRlA4546t/BZGMABCzZBGXMXwB1nG1u8Dk1AOmzLjNOtOEColUxTSA0oQE7ZZBuo6AvAlfn3Wl/VGsBQlYsVa6EywLQxeOwxSDrAEGPQw4muRcAAAAAAAADw/7cQgqAa2QHAkdx2wO/JOcBT0tXwpAsewLVvE+yNtyHAOzRo4wHKYMBVfgNSNfUmwOIfZOrKt0XAdqriBMDBM0ASq2GcjWdXQFKxhLnNrEDAHcAZk/MFNMBMO0H30hAhQIOUESTlyCPAbZoRqPxHIMC6SvEio+9ZwMTW5tlTaDPAe9fRj9M8+7/THUaHM5kqQNB1/ExwGiJAXGnxKd74PUBVXoXmqCIowAGgzjvtPRxAOwhFBYKJzD8SJfwl7HsrwGCQE3UdxBvAbnMD70Y3FsB7wSx+7ZM8QG6XOK1ZsS1AtShpZYPDO0C0/33V6u0mQDTBdVHHDCjA4J9Q5/nrKEDlkkT0SEtQwGrAb0QArjtAs1/cNEBJVkAvxBVPi5dQwIhlh57kIT1A1MaahwCVScAXBUfYDOIdwBZT9Xyz1hXATkpl05koMEC0ctA5celIwAtyAQNUAFFAHIYkfB3MI8B3lMdqTZQbwADDvqEqAhXAincammHOXEDPznVMvqBBwHtlduJutD9A78mZ80aWX0DDGhIUNpnhv9OMmJDVKzDAr8DrfnnfJ0CSq1SU6+9LQPtEqY0vBBvAhquvt37jL8Du7RQuYbcwQAQo1Xym+ltAJMZOxx7wAUAb9JOkCzoRwKeiH6mnzCDADa60ynq7M8DiQEHpNvj9v+yLpf6ERUPAgpE6t2P8FUBbgOXLTmwuwPEOoUz07R3AXANBdvKHHEAOblHCFJoowHdE+QA3WTdA9SPyNIJlFMCUTlerdwVWQKXsixxvgCLAj4CvwwofOkAM1aZC95kzQFbmkjx4rwNANJVNkkyFQUBeRnid93wrwA==",
          "dtype": "f8"
         },
         "xaxis": "x",
         "yaxis": "y"
        },
        {
         "hovertemplate": "Model=ARIMA<br>forecast_bias=%{x}<extra></extra>",
         "legendgroup": "ARIMA",
         "marker": {
          "color": "#EF553B"
         },
         "name": "ARIMA",
         "notched": true,
         "showlegend": false,
         "type": "box",
         "x": {
          "bdata": "CWNXEsszOEC3wLeqHws0wCMUsZnY+yTAdHqARDniH8Bo/G2SLv5MQL1gRuKX2EHAYZOWEsPLMsAWs6ilomtBQDzZCN9ZOSPAN6/JnloKVcDJPzBxZkg8QNmEHcQ5Gh5AbAJqnUZz+D+fVz3GO10gQDEiMpyFMw5AA/xqUB9gBcBMcS9+Lj41wOplzOvtoErAJxAHNuCFI0Bixcn7dYFXwAzSpDgv/PI/A7XcF3stQMDGenOUJ9xHQPYKUi8feUPACMBZE2uJWcDNA23dDJ80wLXQn0sASyHA3GgIWDKgT0DobJuzYdAlQLKfvsEqwC9AnY0XQDbSNcCYFgJi5s8AQIlFJRbDxyXAPkdt701X8T+udU3x9S5NQHh4J/Q2cEnAYuh+muwRHEC1Vtu4/MExQGitX6F9KBpASaP/A26F5D++7DMxhp8lwJQLdLdqRjfA8QHc/XeKMsAUiAt8xHAiwJhf9DJd5SvAtZuHhfseZEA+sNy4j8pgwLGUOEhKbELAcbiyNOFZNMAP/xm/b0lDwMQNq4ZryEpAf+WuWaBZ8L9yDwGtxMNSwHxwjRzPEjVAycqBytuKRcBc3aakwYRGwFCoDGnAxgLA3Kre5GPyJcDOnSPkYbJ8wFkx+5Ouf0nAJD/D03UtPEC7vPZ+QKpSwAB1S1M5bEvAuptwIS1rNkCsNh4RAU8gwFMasQPQClBArMyywPCYaMANhKBHcdIiwGV4gTMMuCNA3ymJ9pcDL8ArWxGwrxRXQPWv/lvzNzdAysq7qO7eBUDPM2OU761HQISvhZrhwSPA4qPlLP2hUMCwM5N+mV0zQMnd/hukN0bAT3EPXWOcKcDrY9T91aIQQFIbPCA8DzjAMn6fsMO0QcASUAj3wCsWQMvjFMtoNiPA7mySlnEWUsBs2qhu0O0hwF5htOSiTT5AXBNhI7tWK0AOxmcTo048QHWGUizfQDbAEKKlpx9jG0B0VlurmSseQMxOZ1a1fChAJ5ols3PdUcCSC/b+lTcMQM4Uh759QRlA4546t/BZGMABCzZBGXMXwB1nG1u8Dk1AOmzLjNOtOEColUxTSA0oQE7ZZBuo6AvAlfn3Wl/VGsBQlYsVa6EywLQxeOwxSDrAEGPQw4muRcAAAAAAAADw/7cQgqAa2QHAkdx2wO/JOcBT0tXwpAsewLVvE+yNtyHAOzRo4wHKYMBVfgNSNfUmwOIfZOrKt0XAdqriBMDBM0ASq2GcjWdXQFKxhLnNrEDAHcAZk/MFNMBMO0H30hAhQIOUESTlyCPAbZoRqPxHIMC6SvEio+9ZwMTW5tlTaDPAe9fRj9M8+7/THUaHM5kqQNB1/ExwGiJAXGnxKd74PUBVXoXmqCIowAGgzjvtPRxAOwhFBYKJzD8SJfwl7HsrwGCQE3UdxBvAbnMD70Y3FsB7wSx+7ZM8QG6XOK1ZsS1AtShpZYPDO0C0/33V6u0mQDTBdVHHDCjA4J9Q5/nrKEDlkkT0SEtQwGrAb0QArjtAs1/cNEBJVkAvxBVPi5dQwIhlh57kIT1A1MaahwCVScAXBUfYDOIdwBZT9Xyz1hXATkpl05koMEC0ctA5celIwAtyAQNUAFFAHIYkfB3MI8B3lMdqTZQbwADDvqEqAhXAincammHOXEDPznVMvqBBwHtlduJutD9A78mZ80aWX0DDGhIUNpnhv9OMmJDVKzDAr8DrfnnfJ0CSq1SU6+9LQPtEqY0vBBvAhquvt37jL8Du7RQuYbcwQAQo1Xym+ltAJMZOxx7wAUAb9JOkCzoRwKeiH6mnzCDADa60ynq7M8DiQEHpNvj9v+yLpf6ERUPAgpE6t2P8FUBbgOXLTmwuwPEOoUz07R3AXANBdvKHHEAOblHCFJoowHdE+QA3WTdA9SPyNIJlFMCUTlerdwVWQKXsixxvgCLAj4CvwwofOkAM1aZC95kzQFbmkjx4rwNANJVNkkyFQUBeRnid93wrwA==",
          "dtype": "f8"
         },
         "xaxis": "x2",
         "yaxis": "y2"
        }
       ],
       "layout": {
        "autosize": false,
        "barmode": "overlay",
        "height": 500,
        "legend": {
         "font": {
          "size": 15
         },
         "orientation": "h",
         "title": {},
         "tracegroupgap": 0,
         "x": 1,
         "xanchor": "right",
         "y": 0.98,
         "yanchor": "bottom"
        },
        "margin": {
         "t": 60
        },
        "template": {
         "data": {
          "bar": [
           {
            "error_x": {
             "color": "#2a3f5f"
            },
            "error_y": {
             "color": "#2a3f5f"
            },
            "marker": {
             "line": {
              "color": "white",
              "width": 0.5
             },
             "pattern": {
              "fillmode": "overlay",
              "size": 10,
              "solidity": 0.2
             }
            },
            "type": "bar"
           }
          ],
          "barpolar": [
           {
            "marker": {
             "line": {
              "color": "white",
              "width": 0.5
             },
             "pattern": {
              "fillmode": "overlay",
              "size": 10,
              "solidity": 0.2
             }
            },
            "type": "barpolar"
           }
          ],
          "carpet": [
           {
            "aaxis": {
             "endlinecolor": "#2a3f5f",
             "gridcolor": "#C8D4E3",
             "linecolor": "#C8D4E3",
             "minorgridcolor": "#C8D4E3",
             "startlinecolor": "#2a3f5f"
            },
            "baxis": {
             "endlinecolor": "#2a3f5f",
             "gridcolor": "#C8D4E3",
             "linecolor": "#C8D4E3",
             "minorgridcolor": "#C8D4E3",
             "startlinecolor": "#2a3f5f"
            },
            "type": "carpet"
           }
          ],
          "choropleth": [
           {
            "colorbar": {
             "outlinewidth": 0,
             "ticks": ""
            },
            "type": "choropleth"
           }
          ],
          "contour": [
           {
            "colorbar": {
             "outlinewidth": 0,
             "ticks": ""
            },
            "colorscale": [
             [
              0,
              "#0d0887"
             ],
             [
              0.1111111111111111,
              "#46039f"
             ],
             [
              0.2222222222222222,
              "#7201a8"
             ],
             [
              0.3333333333333333,
              "#9c179e"
             ],
             [
              0.4444444444444444,
              "#bd3786"
             ],
             [
              0.5555555555555556,
              "#d8576b"
             ],
             [
              0.6666666666666666,
              "#ed7953"
             ],
             [
              0.7777777777777778,
              "#fb9f3a"
             ],
             [
              0.8888888888888888,
              "#fdca26"
             ],
             [
              1,
              "#f0f921"
             ]
            ],
            "type": "contour"
           }
          ],
          "contourcarpet": [
           {
            "colorbar": {
             "outlinewidth": 0,
             "ticks": ""
            },
            "type": "contourcarpet"
           }
          ],
          "heatmap": [
           {
            "colorbar": {
             "outlinewidth": 0,
             "ticks": ""
            },
            "colorscale": [
             [
              0,
              "#0d0887"
             ],
             [
              0.1111111111111111,
              "#46039f"
             ],
             [
              0.2222222222222222,
              "#7201a8"
             ],
             [
              0.3333333333333333,
              "#9c179e"
             ],
             [
              0.4444444444444444,
              "#bd3786"
             ],
             [
              0.5555555555555556,
              "#d8576b"
             ],
             [
              0.6666666666666666,
              "#ed7953"
             ],
             [
              0.7777777777777778,
              "#fb9f3a"
             ],
             [
              0.8888888888888888,
              "#fdca26"
             ],
             [
              1,
              "#f0f921"
             ]
            ],
            "type": "heatmap"
           }
          ],
          "histogram": [
           {
            "marker": {
             "pattern": {
              "fillmode": "overlay",
              "size": 10,
              "solidity": 0.2
             }
            },
            "type": "histogram"
           }
          ],
          "histogram2d": [
           {
            "colorbar": {
             "outlinewidth": 0,
             "ticks": ""
            },
            "colorscale": [
             [
              0,
              "#0d0887"
             ],
             [
              0.1111111111111111,
              "#46039f"
             ],
             [
              0.2222222222222222,
              "#7201a8"
             ],
             [
              0.3333333333333333,
              "#9c179e"
             ],
             [
              0.4444444444444444,
              "#bd3786"
             ],
             [
              0.5555555555555556,
              "#d8576b"
             ],
             [
              0.6666666666666666,
              "#ed7953"
             ],
             [
              0.7777777777777778,
              "#fb9f3a"
             ],
             [
              0.8888888888888888,
              "#fdca26"
             ],
             [
              1,
              "#f0f921"
             ]
            ],
            "type": "histogram2d"
           }
          ],
          "histogram2dcontour": [
           {
            "colorbar": {
             "outlinewidth": 0,
             "ticks": ""
            },
            "colorscale": [
             [
              0,
              "#0d0887"
             ],
             [
              0.1111111111111111,
              "#46039f"
             ],
             [
              0.2222222222222222,
              "#7201a8"
             ],
             [
              0.3333333333333333,
              "#9c179e"
             ],
             [
              0.4444444444444444,
              "#bd3786"
             ],
             [
              0.5555555555555556,
              "#d8576b"
             ],
             [
              0.6666666666666666,
              "#ed7953"
             ],
             [
              0.7777777777777778,
              "#fb9f3a"
             ],
             [
              0.8888888888888888,
              "#fdca26"
             ],
             [
              1,
              "#f0f921"
             ]
            ],
            "type": "histogram2dcontour"
           }
          ],
          "mesh3d": [
           {
            "colorbar": {
             "outlinewidth": 0,
             "ticks": ""
            },
            "type": "mesh3d"
           }
          ],
          "parcoords": [
           {
            "line": {
             "colorbar": {
              "outlinewidth": 0,
              "ticks": ""
             }
            },
            "type": "parcoords"
           }
          ],
          "pie": [
           {
            "automargin": true,
            "type": "pie"
           }
          ],
          "scatter": [
           {
            "fillpattern": {
             "fillmode": "overlay",
             "size": 10,
             "solidity": 0.2
            },
            "type": "scatter"
           }
          ],
          "scatter3d": [
           {
            "line": {
             "colorbar": {
              "outlinewidth": 0,
              "ticks": ""
             }
            },
            "marker": {
             "colorbar": {
              "outlinewidth": 0,
              "ticks": ""
             }
            },
            "type": "scatter3d"
           }
          ],
          "scattercarpet": [
           {
            "marker": {
             "colorbar": {
              "outlinewidth": 0,
              "ticks": ""
             }
            },
            "type": "scattercarpet"
           }
          ],
          "scattergeo": [
           {
            "marker": {
             "colorbar": {
              "outlinewidth": 0,
              "ticks": ""
             }
            },
            "type": "scattergeo"
           }
          ],
          "scattergl": [
           {
            "marker": {
             "colorbar": {
              "outlinewidth": 0,
              "ticks": ""
             }
            },
            "type": "scattergl"
           }
          ],
          "scattermap": [
           {
            "marker": {
             "colorbar": {
              "outlinewidth": 0,
              "ticks": ""
             }
            },
            "type": "scattermap"
           }
          ],
          "scattermapbox": [
           {
            "marker": {
             "colorbar": {
              "outlinewidth": 0,
              "ticks": ""
             }
            },
            "type": "scattermapbox"
           }
          ],
          "scatterpolar": [
           {
            "marker": {
             "colorbar": {
              "outlinewidth": 0,
              "ticks": ""
             }
            },
            "type": "scatterpolar"
           }
          ],
          "scatterpolargl": [
           {
            "marker": {
             "colorbar": {
              "outlinewidth": 0,
              "ticks": ""
             }
            },
            "type": "scatterpolargl"
           }
          ],
          "scatterternary": [
           {
            "marker": {
             "colorbar": {
              "outlinewidth": 0,
              "ticks": ""
             }
            },
            "type": "scatterternary"
           }
          ],
          "surface": [
           {
            "colorbar": {
             "outlinewidth": 0,
             "ticks": ""
            },
            "colorscale": [
             [
              0,
              "#0d0887"
             ],
             [
              0.1111111111111111,
              "#46039f"
             ],
             [
              0.2222222222222222,
              "#7201a8"
             ],
             [
              0.3333333333333333,
              "#9c179e"
             ],
             [
              0.4444444444444444,
              "#bd3786"
             ],
             [
              0.5555555555555556,
              "#d8576b"
             ],
             [
              0.6666666666666666,
              "#ed7953"
             ],
             [
              0.7777777777777778,
              "#fb9f3a"
             ],
             [
              0.8888888888888888,
              "#fdca26"
             ],
             [
              1,
              "#f0f921"
             ]
            ],
            "type": "surface"
           }
          ],
          "table": [
           {
            "cells": {
             "fill": {
              "color": "#EBF0F8"
             },
             "line": {
              "color": "white"
             }
            },
            "header": {
             "fill": {
              "color": "#C8D4E3"
             },
             "line": {
              "color": "white"
             }
            },
            "type": "table"
           }
          ]
         },
         "layout": {
          "annotationdefaults": {
           "arrowcolor": "#2a3f5f",
           "arrowhead": 0,
           "arrowwidth": 1
          },
          "autotypenumbers": "strict",
          "coloraxis": {
           "colorbar": {
            "outlinewidth": 0,
            "ticks": ""
           }
          },
          "colorscale": {
           "diverging": [
            [
             0,
             "#8e0152"
            ],
            [
             0.1,
             "#c51b7d"
            ],
            [
             0.2,
             "#de77ae"
            ],
            [
             0.3,
             "#f1b6da"
            ],
            [
             0.4,
             "#fde0ef"
            ],
            [
             0.5,
             "#f7f7f7"
            ],
            [
             0.6,
             "#e6f5d0"
            ],
            [
             0.7,
             "#b8e186"
            ],
            [
             0.8,
             "#7fbc41"
            ],
            [
             0.9,
             "#4d9221"
            ],
            [
             1,
             "#276419"
            ]
           ],
           "sequential": [
            [
             0,
             "#0d0887"
            ],
            [
             0.1111111111111111,
             "#46039f"
            ],
            [
             0.2222222222222222,
             "#7201a8"
            ],
            [
             0.3333333333333333,
             "#9c179e"
            ],
            [
             0.4444444444444444,
             "#bd3786"
            ],
            [
             0.5555555555555556,
             "#d8576b"
            ],
            [
             0.6666666666666666,
             "#ed7953"
            ],
            [
             0.7777777777777778,
             "#fb9f3a"
            ],
            [
             0.8888888888888888,
             "#fdca26"
            ],
            [
             1,
             "#f0f921"
            ]
           ],
           "sequentialminus": [
            [
             0,
             "#0d0887"
            ],
            [
             0.1111111111111111,
             "#46039f"
            ],
            [
             0.2222222222222222,
             "#7201a8"
            ],
            [
             0.3333333333333333,
             "#9c179e"
            ],
            [
             0.4444444444444444,
             "#bd3786"
            ],
            [
             0.5555555555555556,
             "#d8576b"
            ],
            [
             0.6666666666666666,
             "#ed7953"
            ],
            [
             0.7777777777777778,
             "#fb9f3a"
            ],
            [
             0.8888888888888888,
             "#fdca26"
            ],
            [
             1,
             "#f0f921"
            ]
           ]
          },
          "colorway": [
           "#636efa",
           "#EF553B",
           "#00cc96",
           "#ab63fa",
           "#FFA15A",
           "#19d3f3",
           "#FF6692",
           "#B6E880",
           "#FF97FF",
           "#FECB52"
          ],
          "font": {
           "color": "#2a3f5f"
          },
          "geo": {
           "bgcolor": "white",
           "lakecolor": "white",
           "landcolor": "white",
           "showlakes": true,
           "showland": true,
           "subunitcolor": "#C8D4E3"
          },
          "hoverlabel": {
           "align": "left"
          },
          "hovermode": "closest",
          "mapbox": {
           "style": "light"
          },
          "paper_bgcolor": "white",
          "plot_bgcolor": "white",
          "polar": {
           "angularaxis": {
            "gridcolor": "#EBF0F8",
            "linecolor": "#EBF0F8",
            "ticks": ""
           },
           "bgcolor": "white",
           "radialaxis": {
            "gridcolor": "#EBF0F8",
            "linecolor": "#EBF0F8",
            "ticks": ""
           }
          },
          "scene": {
           "xaxis": {
            "backgroundcolor": "white",
            "gridcolor": "#DFE8F3",
            "gridwidth": 2,
            "linecolor": "#EBF0F8",
            "showbackground": true,
            "ticks": "",
            "zerolinecolor": "#EBF0F8"
           },
           "yaxis": {
            "backgroundcolor": "white",
            "gridcolor": "#DFE8F3",
            "gridwidth": 2,
            "linecolor": "#EBF0F8",
            "showbackground": true,
            "ticks": "",
            "zerolinecolor": "#EBF0F8"
           },
           "zaxis": {
            "backgroundcolor": "white",
            "gridcolor": "#DFE8F3",
            "gridwidth": 2,
            "linecolor": "#EBF0F8",
            "showbackground": true,
            "ticks": "",
            "zerolinecolor": "#EBF0F8"
           }
          },
          "shapedefaults": {
           "line": {
            "color": "#2a3f5f"
           }
          },
          "ternary": {
           "aaxis": {
            "gridcolor": "#DFE8F3",
            "linecolor": "#A2B1C6",
            "ticks": ""
           },
           "baxis": {
            "gridcolor": "#DFE8F3",
            "linecolor": "#A2B1C6",
            "ticks": ""
           },
           "bgcolor": "white",
           "caxis": {
            "gridcolor": "#DFE8F3",
            "linecolor": "#A2B1C6",
            "ticks": ""
           }
          },
          "title": {
           "x": 0.05
          },
          "xaxis": {
           "automargin": true,
           "gridcolor": "#EBF0F8",
           "linecolor": "#EBF0F8",
           "ticks": "",
           "title": {
            "standoff": 15
           },
           "zerolinecolor": "#EBF0F8",
           "zerolinewidth": 2
          },
          "yaxis": {
           "automargin": true,
           "gridcolor": "#EBF0F8",
           "linecolor": "#EBF0F8",
           "ticks": "",
           "title": {
            "standoff": 15
           },
           "zerolinecolor": "#EBF0F8",
           "zerolinewidth": 2
          }
         }
        },
        "title": {
         "text": "Distribution of BIAS in the dataset"
        },
        "width": 900,
        "xaxis": {
         "anchor": "y",
         "domain": [
          0,
          1
         ],
         "range": [
          -200,
          200
         ],
         "tickfont": {
          "size": 15
         },
         "title": {
          "font": {
           "size": 15
          },
          "text": "forecast_bias"
         }
        },
        "xaxis2": {
         "anchor": "y2",
         "domain": [
          0,
          1
         ],
         "matches": "x",
         "showgrid": true,
         "showticklabels": false
        },
        "yaxis": {
         "anchor": "x",
         "domain": [
          0,
          0.7326
         ],
         "tickfont": {
          "size": 15
         },
         "title": {
          "font": {
           "size": 15
          },
          "text": "Probability Density"
         }
        },
        "yaxis2": {
         "anchor": "x2",
         "domain": [
          0.7426,
          1
         ],
         "matches": "y2",
         "showgrid": false,
         "showline": false,
         "showticklabels": false,
         "ticks": ""
        }
       }
      }
     },
     "metadata": {},
     "output_type": "display_data"
    }
   ],
   "source": [
    "fig = px.histogram(aggtest_metrics,\n",
    "                   x=\"forecast_bias\",\n",
    "                   color=\"Model\",\n",
    "                   pattern_shape=\"Model\",\n",
    "                   marginal=\"box\",\n",
    "                   nbins=250,\n",
    "                   barmode=\"overlay\",\n",
    "                   histnorm=\"probability density\")\n",
    "fig = format_plot(fig, xlabel=\"forecast_bias\", ylabel=\"Probability Density\")\n",
    "fig.update_layout(title=\"Distribution of BIAS in the dataset\", xaxis_range=[-200,200])\n",
    "fig.write_image(dst_img/\"bias_dist.png\")\n",
    "fig.show()"
   ]
  },
  {
   "cell_type": "code",
   "execution_count": 64,
   "id": "37a5cc8d",
   "metadata": {},
   "outputs": [],
   "source": [
    "display_lclid = \"MAC003069\"\n",
    "ts_baseline_test_pred_df = baseline_test_pred_df.loc[baseline_test_pred_df.LCLid==display_lclid]\n",
    "ts_aggtest_metrics = aggtest_metrics.loc[aggtest_metrics.LCLid==display_lclid]"
   ]
  },
  {
   "cell_type": "code",
   "execution_count": null,
   "id": "422f3ad8",
   "metadata": {},
   "outputs": [],
   "source": [
    "## AutoETS\n",
    "model_name = ['AutoETS']\n",
    "model_display_name = ['AutoETS']\n",
    "\n",
    "fig = plot_forecast(ts_baseline_test_pred_df, forecast_columns=model_name, forecast_display_names=model_display_name, timestamp_col ='timestamp')\n",
    "fig = format_plot(fig)\n",
    "fig.update_layout(\n",
    "    title=f\"{model_name[0]}: \"\\\n",
    "          f\"MSE: {ts_aggtest_metrics.loc[ts_aggtest_metrics.Model==model_name[0]][['mean_squared_error']].iloc[0].item():.4f} | \"\\\n",
    "          f\"RMSE: {ts_aggtest_metrics.loc[ts_aggtest_metrics.Model==model_name[0]][['root_mean_squared_error']].iloc[0].item():.4f} | \"\\\n",
    "          f\"MAE: {ts_aggtest_metrics.loc[ts_aggtest_metrics.Model==model_name[0]][['mean_absolute_error']].iloc[0].item():.4f} | \"\\\n",
    "          f\"BIAS: {ts_aggtest_metrics.loc[ts_aggtest_metrics.Model==model_name[0]][['forecast_bias']].iloc[0].item():.4f}\"\n",
    ")\n",
    "fig.update_xaxes(type=\"date\", range=[\"2014-02-01\", \"2014-02-08\"])\n",
    "fig.write_image(dst_img/\"autoets.png\")\n",
    "fig.show()"
   ]
  },
  {
   "cell_type": "code",
   "execution_count": null,
   "id": "43c415a3",
   "metadata": {},
   "outputs": [
    {
     "data": {
      "application/vnd.plotly.v1+json": {
       "config": {
        "plotlyServerURL": "https://plot.ly"
       },
       "data": [
        {
         "line": {
          "color": "rgba(27,158,119, 0.3)"
         },
         "mode": "lines",
         "name": "Actual Consumption",
         "type": "scatter",
         "x": [
          "2014-02-01T00:00:00.000000000",
          "2014-02-01T00:30:00.000000000",
          "2014-02-01T01:00:00.000000000",
          "2014-02-01T01:30:00.000000000",
          "2014-02-01T02:00:00.000000000",
          "2014-02-01T02:30:00.000000000",
          "2014-02-01T03:00:00.000000000",
          "2014-02-01T03:30:00.000000000",
          "2014-02-01T04:00:00.000000000",
          "2014-02-01T04:30:00.000000000",
          "2014-02-01T05:00:00.000000000",
          "2014-02-01T05:30:00.000000000",
          "2014-02-01T06:00:00.000000000",
          "2014-02-01T06:30:00.000000000",
          "2014-02-01T07:00:00.000000000",
          "2014-02-01T07:30:00.000000000",
          "2014-02-01T08:00:00.000000000",
          "2014-02-01T08:30:00.000000000",
          "2014-02-01T09:00:00.000000000",
          "2014-02-01T09:30:00.000000000",
          "2014-02-01T10:00:00.000000000",
          "2014-02-01T10:30:00.000000000",
          "2014-02-01T11:00:00.000000000",
          "2014-02-01T11:30:00.000000000",
          "2014-02-01T12:00:00.000000000",
          "2014-02-01T12:30:00.000000000",
          "2014-02-01T13:00:00.000000000",
          "2014-02-01T13:30:00.000000000",
          "2014-02-01T14:00:00.000000000",
          "2014-02-01T14:30:00.000000000",
          "2014-02-01T15:00:00.000000000",
          "2014-02-01T15:30:00.000000000",
          "2014-02-01T16:00:00.000000000",
          "2014-02-01T16:30:00.000000000",
          "2014-02-01T17:00:00.000000000",
          "2014-02-01T17:30:00.000000000",
          "2014-02-01T18:00:00.000000000",
          "2014-02-01T18:30:00.000000000",
          "2014-02-01T19:00:00.000000000",
          "2014-02-01T19:30:00.000000000",
          "2014-02-01T20:00:00.000000000",
          "2014-02-01T20:30:00.000000000",
          "2014-02-01T21:00:00.000000000",
          "2014-02-01T21:30:00.000000000",
          "2014-02-01T22:00:00.000000000",
          "2014-02-01T22:30:00.000000000",
          "2014-02-01T23:00:00.000000000",
          "2014-02-01T23:30:00.000000000",
          "2014-02-02T00:00:00.000000000",
          "2014-02-02T00:30:00.000000000",
          "2014-02-02T01:00:00.000000000",
          "2014-02-02T01:30:00.000000000",
          "2014-02-02T02:00:00.000000000",
          "2014-02-02T02:30:00.000000000",
          "2014-02-02T03:00:00.000000000",
          "2014-02-02T03:30:00.000000000",
          "2014-02-02T04:00:00.000000000",
          "2014-02-02T04:30:00.000000000",
          "2014-02-02T05:00:00.000000000",
          "2014-02-02T05:30:00.000000000",
          "2014-02-02T06:00:00.000000000",
          "2014-02-02T06:30:00.000000000",
          "2014-02-02T07:00:00.000000000",
          "2014-02-02T07:30:00.000000000",
          "2014-02-02T08:00:00.000000000",
          "2014-02-02T08:30:00.000000000",
          "2014-02-02T09:00:00.000000000",
          "2014-02-02T09:30:00.000000000",
          "2014-02-02T10:00:00.000000000",
          "2014-02-02T10:30:00.000000000",
          "2014-02-02T11:00:00.000000000",
          "2014-02-02T11:30:00.000000000",
          "2014-02-02T12:00:00.000000000",
          "2014-02-02T12:30:00.000000000",
          "2014-02-02T13:00:00.000000000",
          "2014-02-02T13:30:00.000000000",
          "2014-02-02T14:00:00.000000000",
          "2014-02-02T14:30:00.000000000",
          "2014-02-02T15:00:00.000000000",
          "2014-02-02T15:30:00.000000000",
          "2014-02-02T16:00:00.000000000",
          "2014-02-02T16:30:00.000000000",
          "2014-02-02T17:00:00.000000000",
          "2014-02-02T17:30:00.000000000",
          "2014-02-02T18:00:00.000000000",
          "2014-02-02T18:30:00.000000000",
          "2014-02-02T19:00:00.000000000",
          "2014-02-02T19:30:00.000000000",
          "2014-02-02T20:00:00.000000000",
          "2014-02-02T20:30:00.000000000",
          "2014-02-02T21:00:00.000000000",
          "2014-02-02T21:30:00.000000000",
          "2014-02-02T22:00:00.000000000",
          "2014-02-02T22:30:00.000000000",
          "2014-02-02T23:00:00.000000000",
          "2014-02-02T23:30:00.000000000",
          "2014-02-03T00:00:00.000000000",
          "2014-02-03T00:30:00.000000000",
          "2014-02-03T01:00:00.000000000",
          "2014-02-03T01:30:00.000000000",
          "2014-02-03T02:00:00.000000000",
          "2014-02-03T02:30:00.000000000",
          "2014-02-03T03:00:00.000000000",
          "2014-02-03T03:30:00.000000000",
          "2014-02-03T04:00:00.000000000",
          "2014-02-03T04:30:00.000000000",
          "2014-02-03T05:00:00.000000000",
          "2014-02-03T05:30:00.000000000",
          "2014-02-03T06:00:00.000000000",
          "2014-02-03T06:30:00.000000000",
          "2014-02-03T07:00:00.000000000",
          "2014-02-03T07:30:00.000000000",
          "2014-02-03T08:00:00.000000000",
          "2014-02-03T08:30:00.000000000",
          "2014-02-03T09:00:00.000000000",
          "2014-02-03T09:30:00.000000000",
          "2014-02-03T10:00:00.000000000",
          "2014-02-03T10:30:00.000000000",
          "2014-02-03T11:00:00.000000000",
          "2014-02-03T11:30:00.000000000",
          "2014-02-03T12:00:00.000000000",
          "2014-02-03T12:30:00.000000000",
          "2014-02-03T13:00:00.000000000",
          "2014-02-03T13:30:00.000000000",
          "2014-02-03T14:00:00.000000000",
          "2014-02-03T14:30:00.000000000",
          "2014-02-03T15:00:00.000000000",
          "2014-02-03T15:30:00.000000000",
          "2014-02-03T16:00:00.000000000",
          "2014-02-03T16:30:00.000000000",
          "2014-02-03T17:00:00.000000000",
          "2014-02-03T17:30:00.000000000",
          "2014-02-03T18:00:00.000000000",
          "2014-02-03T18:30:00.000000000",
          "2014-02-03T19:00:00.000000000",
          "2014-02-03T19:30:00.000000000",
          "2014-02-03T20:00:00.000000000",
          "2014-02-03T20:30:00.000000000",
          "2014-02-03T21:00:00.000000000",
          "2014-02-03T21:30:00.000000000",
          "2014-02-03T22:00:00.000000000",
          "2014-02-03T22:30:00.000000000",
          "2014-02-03T23:00:00.000000000",
          "2014-02-03T23:30:00.000000000",
          "2014-02-04T00:00:00.000000000",
          "2014-02-04T00:30:00.000000000",
          "2014-02-04T01:00:00.000000000",
          "2014-02-04T01:30:00.000000000",
          "2014-02-04T02:00:00.000000000",
          "2014-02-04T02:30:00.000000000",
          "2014-02-04T03:00:00.000000000",
          "2014-02-04T03:30:00.000000000",
          "2014-02-04T04:00:00.000000000",
          "2014-02-04T04:30:00.000000000",
          "2014-02-04T05:00:00.000000000",
          "2014-02-04T05:30:00.000000000",
          "2014-02-04T06:00:00.000000000",
          "2014-02-04T06:30:00.000000000",
          "2014-02-04T07:00:00.000000000",
          "2014-02-04T07:30:00.000000000",
          "2014-02-04T08:00:00.000000000",
          "2014-02-04T08:30:00.000000000",
          "2014-02-04T09:00:00.000000000",
          "2014-02-04T09:30:00.000000000",
          "2014-02-04T10:00:00.000000000",
          "2014-02-04T10:30:00.000000000",
          "2014-02-04T11:00:00.000000000",
          "2014-02-04T11:30:00.000000000",
          "2014-02-04T12:00:00.000000000",
          "2014-02-04T12:30:00.000000000",
          "2014-02-04T13:00:00.000000000",
          "2014-02-04T13:30:00.000000000",
          "2014-02-04T14:00:00.000000000",
          "2014-02-04T14:30:00.000000000",
          "2014-02-04T15:00:00.000000000",
          "2014-02-04T15:30:00.000000000",
          "2014-02-04T16:00:00.000000000",
          "2014-02-04T16:30:00.000000000",
          "2014-02-04T17:00:00.000000000",
          "2014-02-04T17:30:00.000000000",
          "2014-02-04T18:00:00.000000000",
          "2014-02-04T18:30:00.000000000",
          "2014-02-04T19:00:00.000000000",
          "2014-02-04T19:30:00.000000000",
          "2014-02-04T20:00:00.000000000",
          "2014-02-04T20:30:00.000000000",
          "2014-02-04T21:00:00.000000000",
          "2014-02-04T21:30:00.000000000",
          "2014-02-04T22:00:00.000000000",
          "2014-02-04T22:30:00.000000000",
          "2014-02-04T23:00:00.000000000",
          "2014-02-04T23:30:00.000000000",
          "2014-02-05T00:00:00.000000000",
          "2014-02-05T00:30:00.000000000",
          "2014-02-05T01:00:00.000000000",
          "2014-02-05T01:30:00.000000000",
          "2014-02-05T02:00:00.000000000",
          "2014-02-05T02:30:00.000000000",
          "2014-02-05T03:00:00.000000000",
          "2014-02-05T03:30:00.000000000",
          "2014-02-05T04:00:00.000000000",
          "2014-02-05T04:30:00.000000000",
          "2014-02-05T05:00:00.000000000",
          "2014-02-05T05:30:00.000000000",
          "2014-02-05T06:00:00.000000000",
          "2014-02-05T06:30:00.000000000",
          "2014-02-05T07:00:00.000000000",
          "2014-02-05T07:30:00.000000000",
          "2014-02-05T08:00:00.000000000",
          "2014-02-05T08:30:00.000000000",
          "2014-02-05T09:00:00.000000000",
          "2014-02-05T09:30:00.000000000",
          "2014-02-05T10:00:00.000000000",
          "2014-02-05T10:30:00.000000000",
          "2014-02-05T11:00:00.000000000",
          "2014-02-05T11:30:00.000000000",
          "2014-02-05T12:00:00.000000000",
          "2014-02-05T12:30:00.000000000",
          "2014-02-05T13:00:00.000000000",
          "2014-02-05T13:30:00.000000000",
          "2014-02-05T14:00:00.000000000",
          "2014-02-05T14:30:00.000000000",
          "2014-02-05T15:00:00.000000000",
          "2014-02-05T15:30:00.000000000",
          "2014-02-05T16:00:00.000000000",
          "2014-02-05T16:30:00.000000000",
          "2014-02-05T17:00:00.000000000",
          "2014-02-05T17:30:00.000000000",
          "2014-02-05T18:00:00.000000000",
          "2014-02-05T18:30:00.000000000",
          "2014-02-05T19:00:00.000000000",
          "2014-02-05T19:30:00.000000000",
          "2014-02-05T20:00:00.000000000",
          "2014-02-05T20:30:00.000000000",
          "2014-02-05T21:00:00.000000000",
          "2014-02-05T21:30:00.000000000",
          "2014-02-05T22:00:00.000000000",
          "2014-02-05T22:30:00.000000000",
          "2014-02-05T23:00:00.000000000",
          "2014-02-05T23:30:00.000000000",
          "2014-02-06T00:00:00.000000000",
          "2014-02-06T00:30:00.000000000",
          "2014-02-06T01:00:00.000000000",
          "2014-02-06T01:30:00.000000000",
          "2014-02-06T02:00:00.000000000",
          "2014-02-06T02:30:00.000000000",
          "2014-02-06T03:00:00.000000000",
          "2014-02-06T03:30:00.000000000",
          "2014-02-06T04:00:00.000000000",
          "2014-02-06T04:30:00.000000000",
          "2014-02-06T05:00:00.000000000",
          "2014-02-06T05:30:00.000000000",
          "2014-02-06T06:00:00.000000000",
          "2014-02-06T06:30:00.000000000",
          "2014-02-06T07:00:00.000000000",
          "2014-02-06T07:30:00.000000000",
          "2014-02-06T08:00:00.000000000",
          "2014-02-06T08:30:00.000000000",
          "2014-02-06T09:00:00.000000000",
          "2014-02-06T09:30:00.000000000",
          "2014-02-06T10:00:00.000000000",
          "2014-02-06T10:30:00.000000000",
          "2014-02-06T11:00:00.000000000",
          "2014-02-06T11:30:00.000000000",
          "2014-02-06T12:00:00.000000000",
          "2014-02-06T12:30:00.000000000",
          "2014-02-06T13:00:00.000000000",
          "2014-02-06T13:30:00.000000000",
          "2014-02-06T14:00:00.000000000",
          "2014-02-06T14:30:00.000000000",
          "2014-02-06T15:00:00.000000000",
          "2014-02-06T15:30:00.000000000",
          "2014-02-06T16:00:00.000000000",
          "2014-02-06T16:30:00.000000000",
          "2014-02-06T17:00:00.000000000",
          "2014-02-06T17:30:00.000000000",
          "2014-02-06T18:00:00.000000000",
          "2014-02-06T18:30:00.000000000",
          "2014-02-06T19:00:00.000000000",
          "2014-02-06T19:30:00.000000000",
          "2014-02-06T20:00:00.000000000",
          "2014-02-06T20:30:00.000000000",
          "2014-02-06T21:00:00.000000000",
          "2014-02-06T21:30:00.000000000",
          "2014-02-06T22:00:00.000000000",
          "2014-02-06T22:30:00.000000000",
          "2014-02-06T23:00:00.000000000",
          "2014-02-06T23:30:00.000000000",
          "2014-02-07T00:00:00.000000000",
          "2014-02-07T00:30:00.000000000",
          "2014-02-07T01:00:00.000000000",
          "2014-02-07T01:30:00.000000000",
          "2014-02-07T02:00:00.000000000",
          "2014-02-07T02:30:00.000000000",
          "2014-02-07T03:00:00.000000000",
          "2014-02-07T03:30:00.000000000",
          "2014-02-07T04:00:00.000000000",
          "2014-02-07T04:30:00.000000000",
          "2014-02-07T05:00:00.000000000",
          "2014-02-07T05:30:00.000000000",
          "2014-02-07T06:00:00.000000000",
          "2014-02-07T06:30:00.000000000",
          "2014-02-07T07:00:00.000000000",
          "2014-02-07T07:30:00.000000000",
          "2014-02-07T08:00:00.000000000",
          "2014-02-07T08:30:00.000000000",
          "2014-02-07T09:00:00.000000000",
          "2014-02-07T09:30:00.000000000",
          "2014-02-07T10:00:00.000000000",
          "2014-02-07T10:30:00.000000000",
          "2014-02-07T11:00:00.000000000",
          "2014-02-07T11:30:00.000000000",
          "2014-02-07T12:00:00.000000000",
          "2014-02-07T12:30:00.000000000",
          "2014-02-07T13:00:00.000000000",
          "2014-02-07T13:30:00.000000000",
          "2014-02-07T14:00:00.000000000",
          "2014-02-07T14:30:00.000000000",
          "2014-02-07T15:00:00.000000000",
          "2014-02-07T15:30:00.000000000",
          "2014-02-07T16:00:00.000000000",
          "2014-02-07T16:30:00.000000000",
          "2014-02-07T17:00:00.000000000",
          "2014-02-07T17:30:00.000000000",
          "2014-02-07T18:00:00.000000000",
          "2014-02-07T18:30:00.000000000",
          "2014-02-07T19:00:00.000000000",
          "2014-02-07T19:30:00.000000000",
          "2014-02-07T20:00:00.000000000",
          "2014-02-07T20:30:00.000000000",
          "2014-02-07T21:00:00.000000000",
          "2014-02-07T21:30:00.000000000",
          "2014-02-07T22:00:00.000000000",
          "2014-02-07T22:30:00.000000000",
          "2014-02-07T23:00:00.000000000",
          "2014-02-07T23:30:00.000000000",
          "2014-02-08T00:00:00.000000000",
          "2014-02-08T00:30:00.000000000",
          "2014-02-08T01:00:00.000000000",
          "2014-02-08T01:30:00.000000000",
          "2014-02-08T02:00:00.000000000",
          "2014-02-08T02:30:00.000000000",
          "2014-02-08T03:00:00.000000000",
          "2014-02-08T03:30:00.000000000",
          "2014-02-08T04:00:00.000000000",
          "2014-02-08T04:30:00.000000000",
          "2014-02-08T05:00:00.000000000",
          "2014-02-08T05:30:00.000000000",
          "2014-02-08T06:00:00.000000000",
          "2014-02-08T06:30:00.000000000",
          "2014-02-08T07:00:00.000000000",
          "2014-02-08T07:30:00.000000000",
          "2014-02-08T08:00:00.000000000",
          "2014-02-08T08:30:00.000000000",
          "2014-02-08T09:00:00.000000000",
          "2014-02-08T09:30:00.000000000",
          "2014-02-08T10:00:00.000000000",
          "2014-02-08T10:30:00.000000000",
          "2014-02-08T11:00:00.000000000",
          "2014-02-08T11:30:00.000000000",
          "2014-02-08T12:00:00.000000000",
          "2014-02-08T12:30:00.000000000",
          "2014-02-08T13:00:00.000000000",
          "2014-02-08T13:30:00.000000000",
          "2014-02-08T14:00:00.000000000",
          "2014-02-08T14:30:00.000000000",
          "2014-02-08T15:00:00.000000000",
          "2014-02-08T15:30:00.000000000",
          "2014-02-08T16:00:00.000000000",
          "2014-02-08T16:30:00.000000000",
          "2014-02-08T17:00:00.000000000",
          "2014-02-08T17:30:00.000000000",
          "2014-02-08T18:00:00.000000000",
          "2014-02-08T18:30:00.000000000",
          "2014-02-08T19:00:00.000000000",
          "2014-02-08T19:30:00.000000000",
          "2014-02-08T20:00:00.000000000",
          "2014-02-08T20:30:00.000000000",
          "2014-02-08T21:00:00.000000000",
          "2014-02-08T21:30:00.000000000",
          "2014-02-08T22:00:00.000000000",
          "2014-02-08T22:30:00.000000000",
          "2014-02-08T23:00:00.000000000",
          "2014-02-08T23:30:00.000000000",
          "2014-02-09T00:00:00.000000000",
          "2014-02-09T00:30:00.000000000",
          "2014-02-09T01:00:00.000000000",
          "2014-02-09T01:30:00.000000000",
          "2014-02-09T02:00:00.000000000",
          "2014-02-09T02:30:00.000000000",
          "2014-02-09T03:00:00.000000000",
          "2014-02-09T03:30:00.000000000",
          "2014-02-09T04:00:00.000000000",
          "2014-02-09T04:30:00.000000000",
          "2014-02-09T05:00:00.000000000",
          "2014-02-09T05:30:00.000000000",
          "2014-02-09T06:00:00.000000000",
          "2014-02-09T06:30:00.000000000",
          "2014-02-09T07:00:00.000000000",
          "2014-02-09T07:30:00.000000000",
          "2014-02-09T08:00:00.000000000",
          "2014-02-09T08:30:00.000000000",
          "2014-02-09T09:00:00.000000000",
          "2014-02-09T09:30:00.000000000",
          "2014-02-09T10:00:00.000000000",
          "2014-02-09T10:30:00.000000000",
          "2014-02-09T11:00:00.000000000",
          "2014-02-09T11:30:00.000000000",
          "2014-02-09T12:00:00.000000000",
          "2014-02-09T12:30:00.000000000",
          "2014-02-09T13:00:00.000000000",
          "2014-02-09T13:30:00.000000000",
          "2014-02-09T14:00:00.000000000",
          "2014-02-09T14:30:00.000000000",
          "2014-02-09T15:00:00.000000000",
          "2014-02-09T15:30:00.000000000",
          "2014-02-09T16:00:00.000000000",
          "2014-02-09T16:30:00.000000000",
          "2014-02-09T17:00:00.000000000",
          "2014-02-09T17:30:00.000000000",
          "2014-02-09T18:00:00.000000000",
          "2014-02-09T18:30:00.000000000",
          "2014-02-09T19:00:00.000000000",
          "2014-02-09T19:30:00.000000000",
          "2014-02-09T20:00:00.000000000",
          "2014-02-09T20:30:00.000000000",
          "2014-02-09T21:00:00.000000000",
          "2014-02-09T21:30:00.000000000",
          "2014-02-09T22:00:00.000000000",
          "2014-02-09T22:30:00.000000000",
          "2014-02-09T23:00:00.000000000",
          "2014-02-09T23:30:00.000000000",
          "2014-02-10T00:00:00.000000000",
          "2014-02-10T00:30:00.000000000",
          "2014-02-10T01:00:00.000000000",
          "2014-02-10T01:30:00.000000000",
          "2014-02-10T02:00:00.000000000",
          "2014-02-10T02:30:00.000000000",
          "2014-02-10T03:00:00.000000000",
          "2014-02-10T03:30:00.000000000",
          "2014-02-10T04:00:00.000000000",
          "2014-02-10T04:30:00.000000000",
          "2014-02-10T05:00:00.000000000",
          "2014-02-10T05:30:00.000000000",
          "2014-02-10T06:00:00.000000000",
          "2014-02-10T06:30:00.000000000",
          "2014-02-10T07:00:00.000000000",
          "2014-02-10T07:30:00.000000000",
          "2014-02-10T08:00:00.000000000",
          "2014-02-10T08:30:00.000000000",
          "2014-02-10T09:00:00.000000000",
          "2014-02-10T09:30:00.000000000",
          "2014-02-10T10:00:00.000000000",
          "2014-02-10T10:30:00.000000000",
          "2014-02-10T11:00:00.000000000",
          "2014-02-10T11:30:00.000000000",
          "2014-02-10T12:00:00.000000000",
          "2014-02-10T12:30:00.000000000",
          "2014-02-10T13:00:00.000000000",
          "2014-02-10T13:30:00.000000000",
          "2014-02-10T14:00:00.000000000",
          "2014-02-10T14:30:00.000000000",
          "2014-02-10T15:00:00.000000000",
          "2014-02-10T15:30:00.000000000",
          "2014-02-10T16:00:00.000000000",
          "2014-02-10T16:30:00.000000000",
          "2014-02-10T17:00:00.000000000",
          "2014-02-10T17:30:00.000000000",
          "2014-02-10T18:00:00.000000000",
          "2014-02-10T18:30:00.000000000",
          "2014-02-10T19:00:00.000000000",
          "2014-02-10T19:30:00.000000000",
          "2014-02-10T20:00:00.000000000",
          "2014-02-10T20:30:00.000000000",
          "2014-02-10T21:00:00.000000000",
          "2014-02-10T21:30:00.000000000",
          "2014-02-10T22:00:00.000000000",
          "2014-02-10T22:30:00.000000000",
          "2014-02-10T23:00:00.000000000",
          "2014-02-10T23:30:00.000000000",
          "2014-02-11T00:00:00.000000000",
          "2014-02-11T00:30:00.000000000",
          "2014-02-11T01:00:00.000000000",
          "2014-02-11T01:30:00.000000000",
          "2014-02-11T02:00:00.000000000",
          "2014-02-11T02:30:00.000000000",
          "2014-02-11T03:00:00.000000000",
          "2014-02-11T03:30:00.000000000",
          "2014-02-11T04:00:00.000000000",
          "2014-02-11T04:30:00.000000000",
          "2014-02-11T05:00:00.000000000",
          "2014-02-11T05:30:00.000000000",
          "2014-02-11T06:00:00.000000000",
          "2014-02-11T06:30:00.000000000",
          "2014-02-11T07:00:00.000000000",
          "2014-02-11T07:30:00.000000000",
          "2014-02-11T08:00:00.000000000",
          "2014-02-11T08:30:00.000000000",
          "2014-02-11T09:00:00.000000000",
          "2014-02-11T09:30:00.000000000",
          "2014-02-11T10:00:00.000000000",
          "2014-02-11T10:30:00.000000000",
          "2014-02-11T11:00:00.000000000",
          "2014-02-11T11:30:00.000000000",
          "2014-02-11T12:00:00.000000000",
          "2014-02-11T12:30:00.000000000",
          "2014-02-11T13:00:00.000000000",
          "2014-02-11T13:30:00.000000000",
          "2014-02-11T14:00:00.000000000",
          "2014-02-11T14:30:00.000000000",
          "2014-02-11T15:00:00.000000000",
          "2014-02-11T15:30:00.000000000",
          "2014-02-11T16:00:00.000000000",
          "2014-02-11T16:30:00.000000000",
          "2014-02-11T17:00:00.000000000",
          "2014-02-11T17:30:00.000000000",
          "2014-02-11T18:00:00.000000000",
          "2014-02-11T18:30:00.000000000",
          "2014-02-11T19:00:00.000000000",
          "2014-02-11T19:30:00.000000000",
          "2014-02-11T20:00:00.000000000",
          "2014-02-11T20:30:00.000000000",
          "2014-02-11T21:00:00.000000000",
          "2014-02-11T21:30:00.000000000",
          "2014-02-11T22:00:00.000000000",
          "2014-02-11T22:30:00.000000000",
          "2014-02-11T23:00:00.000000000",
          "2014-02-11T23:30:00.000000000",
          "2014-02-12T00:00:00.000000000",
          "2014-02-12T00:30:00.000000000",
          "2014-02-12T01:00:00.000000000",
          "2014-02-12T01:30:00.000000000",
          "2014-02-12T02:00:00.000000000",
          "2014-02-12T02:30:00.000000000",
          "2014-02-12T03:00:00.000000000",
          "2014-02-12T03:30:00.000000000",
          "2014-02-12T04:00:00.000000000",
          "2014-02-12T04:30:00.000000000",
          "2014-02-12T05:00:00.000000000",
          "2014-02-12T05:30:00.000000000",
          "2014-02-12T06:00:00.000000000",
          "2014-02-12T06:30:00.000000000",
          "2014-02-12T07:00:00.000000000",
          "2014-02-12T07:30:00.000000000",
          "2014-02-12T08:00:00.000000000",
          "2014-02-12T08:30:00.000000000",
          "2014-02-12T09:00:00.000000000",
          "2014-02-12T09:30:00.000000000",
          "2014-02-12T10:00:00.000000000",
          "2014-02-12T10:30:00.000000000",
          "2014-02-12T11:00:00.000000000",
          "2014-02-12T11:30:00.000000000",
          "2014-02-12T12:00:00.000000000",
          "2014-02-12T12:30:00.000000000",
          "2014-02-12T13:00:00.000000000",
          "2014-02-12T13:30:00.000000000",
          "2014-02-12T14:00:00.000000000",
          "2014-02-12T14:30:00.000000000",
          "2014-02-12T15:00:00.000000000",
          "2014-02-12T15:30:00.000000000",
          "2014-02-12T16:00:00.000000000",
          "2014-02-12T16:30:00.000000000",
          "2014-02-12T17:00:00.000000000",
          "2014-02-12T17:30:00.000000000",
          "2014-02-12T18:00:00.000000000",
          "2014-02-12T18:30:00.000000000",
          "2014-02-12T19:00:00.000000000",
          "2014-02-12T19:30:00.000000000",
          "2014-02-12T20:00:00.000000000",
          "2014-02-12T20:30:00.000000000",
          "2014-02-12T21:00:00.000000000",
          "2014-02-12T21:30:00.000000000",
          "2014-02-12T22:00:00.000000000",
          "2014-02-12T22:30:00.000000000",
          "2014-02-12T23:00:00.000000000",
          "2014-02-12T23:30:00.000000000",
          "2014-02-13T00:00:00.000000000",
          "2014-02-13T00:30:00.000000000",
          "2014-02-13T01:00:00.000000000",
          "2014-02-13T01:30:00.000000000",
          "2014-02-13T02:00:00.000000000",
          "2014-02-13T02:30:00.000000000",
          "2014-02-13T03:00:00.000000000",
          "2014-02-13T03:30:00.000000000",
          "2014-02-13T04:00:00.000000000",
          "2014-02-13T04:30:00.000000000",
          "2014-02-13T05:00:00.000000000",
          "2014-02-13T05:30:00.000000000",
          "2014-02-13T06:00:00.000000000",
          "2014-02-13T06:30:00.000000000",
          "2014-02-13T07:00:00.000000000",
          "2014-02-13T07:30:00.000000000",
          "2014-02-13T08:00:00.000000000",
          "2014-02-13T08:30:00.000000000",
          "2014-02-13T09:00:00.000000000",
          "2014-02-13T09:30:00.000000000",
          "2014-02-13T10:00:00.000000000",
          "2014-02-13T10:30:00.000000000",
          "2014-02-13T11:00:00.000000000",
          "2014-02-13T11:30:00.000000000",
          "2014-02-13T12:00:00.000000000",
          "2014-02-13T12:30:00.000000000",
          "2014-02-13T13:00:00.000000000",
          "2014-02-13T13:30:00.000000000",
          "2014-02-13T14:00:00.000000000",
          "2014-02-13T14:30:00.000000000",
          "2014-02-13T15:00:00.000000000",
          "2014-02-13T15:30:00.000000000",
          "2014-02-13T16:00:00.000000000",
          "2014-02-13T16:30:00.000000000",
          "2014-02-13T17:00:00.000000000",
          "2014-02-13T17:30:00.000000000",
          "2014-02-13T18:00:00.000000000",
          "2014-02-13T18:30:00.000000000",
          "2014-02-13T19:00:00.000000000",
          "2014-02-13T19:30:00.000000000",
          "2014-02-13T20:00:00.000000000",
          "2014-02-13T20:30:00.000000000",
          "2014-02-13T21:00:00.000000000",
          "2014-02-13T21:30:00.000000000",
          "2014-02-13T22:00:00.000000000",
          "2014-02-13T22:30:00.000000000",
          "2014-02-13T23:00:00.000000000",
          "2014-02-13T23:30:00.000000000",
          "2014-02-14T00:00:00.000000000",
          "2014-02-14T00:30:00.000000000",
          "2014-02-14T01:00:00.000000000",
          "2014-02-14T01:30:00.000000000",
          "2014-02-14T02:00:00.000000000",
          "2014-02-14T02:30:00.000000000",
          "2014-02-14T03:00:00.000000000",
          "2014-02-14T03:30:00.000000000",
          "2014-02-14T04:00:00.000000000",
          "2014-02-14T04:30:00.000000000",
          "2014-02-14T05:00:00.000000000",
          "2014-02-14T05:30:00.000000000",
          "2014-02-14T06:00:00.000000000",
          "2014-02-14T06:30:00.000000000",
          "2014-02-14T07:00:00.000000000",
          "2014-02-14T07:30:00.000000000",
          "2014-02-14T08:00:00.000000000",
          "2014-02-14T08:30:00.000000000",
          "2014-02-14T09:00:00.000000000",
          "2014-02-14T09:30:00.000000000",
          "2014-02-14T10:00:00.000000000",
          "2014-02-14T10:30:00.000000000",
          "2014-02-14T11:00:00.000000000",
          "2014-02-14T11:30:00.000000000",
          "2014-02-14T12:00:00.000000000",
          "2014-02-14T12:30:00.000000000",
          "2014-02-14T13:00:00.000000000",
          "2014-02-14T13:30:00.000000000",
          "2014-02-14T14:00:00.000000000",
          "2014-02-14T14:30:00.000000000",
          "2014-02-14T15:00:00.000000000",
          "2014-02-14T15:30:00.000000000",
          "2014-02-14T16:00:00.000000000",
          "2014-02-14T16:30:00.000000000",
          "2014-02-14T17:00:00.000000000",
          "2014-02-14T17:30:00.000000000",
          "2014-02-14T18:00:00.000000000",
          "2014-02-14T18:30:00.000000000",
          "2014-02-14T19:00:00.000000000",
          "2014-02-14T19:30:00.000000000",
          "2014-02-14T20:00:00.000000000",
          "2014-02-14T20:30:00.000000000",
          "2014-02-14T21:00:00.000000000",
          "2014-02-14T21:30:00.000000000",
          "2014-02-14T22:00:00.000000000",
          "2014-02-14T22:30:00.000000000",
          "2014-02-14T23:00:00.000000000",
          "2014-02-14T23:30:00.000000000",
          "2014-02-15T00:00:00.000000000",
          "2014-02-15T00:30:00.000000000",
          "2014-02-15T01:00:00.000000000",
          "2014-02-15T01:30:00.000000000",
          "2014-02-15T02:00:00.000000000",
          "2014-02-15T02:30:00.000000000",
          "2014-02-15T03:00:00.000000000",
          "2014-02-15T03:30:00.000000000",
          "2014-02-15T04:00:00.000000000",
          "2014-02-15T04:30:00.000000000",
          "2014-02-15T05:00:00.000000000",
          "2014-02-15T05:30:00.000000000",
          "2014-02-15T06:00:00.000000000",
          "2014-02-15T06:30:00.000000000",
          "2014-02-15T07:00:00.000000000",
          "2014-02-15T07:30:00.000000000",
          "2014-02-15T08:00:00.000000000",
          "2014-02-15T08:30:00.000000000",
          "2014-02-15T09:00:00.000000000",
          "2014-02-15T09:30:00.000000000",
          "2014-02-15T10:00:00.000000000",
          "2014-02-15T10:30:00.000000000",
          "2014-02-15T11:00:00.000000000",
          "2014-02-15T11:30:00.000000000",
          "2014-02-15T12:00:00.000000000",
          "2014-02-15T12:30:00.000000000",
          "2014-02-15T13:00:00.000000000",
          "2014-02-15T13:30:00.000000000",
          "2014-02-15T14:00:00.000000000",
          "2014-02-15T14:30:00.000000000",
          "2014-02-15T15:00:00.000000000",
          "2014-02-15T15:30:00.000000000",
          "2014-02-15T16:00:00.000000000",
          "2014-02-15T16:30:00.000000000",
          "2014-02-15T17:00:00.000000000",
          "2014-02-15T17:30:00.000000000",
          "2014-02-15T18:00:00.000000000",
          "2014-02-15T18:30:00.000000000",
          "2014-02-15T19:00:00.000000000",
          "2014-02-15T19:30:00.000000000",
          "2014-02-15T20:00:00.000000000",
          "2014-02-15T20:30:00.000000000",
          "2014-02-15T21:00:00.000000000",
          "2014-02-15T21:30:00.000000000",
          "2014-02-15T22:00:00.000000000",
          "2014-02-15T22:30:00.000000000",
          "2014-02-15T23:00:00.000000000",
          "2014-02-15T23:30:00.000000000",
          "2014-02-16T00:00:00.000000000",
          "2014-02-16T00:30:00.000000000",
          "2014-02-16T01:00:00.000000000",
          "2014-02-16T01:30:00.000000000",
          "2014-02-16T02:00:00.000000000",
          "2014-02-16T02:30:00.000000000",
          "2014-02-16T03:00:00.000000000",
          "2014-02-16T03:30:00.000000000",
          "2014-02-16T04:00:00.000000000",
          "2014-02-16T04:30:00.000000000",
          "2014-02-16T05:00:00.000000000",
          "2014-02-16T05:30:00.000000000",
          "2014-02-16T06:00:00.000000000",
          "2014-02-16T06:30:00.000000000",
          "2014-02-16T07:00:00.000000000",
          "2014-02-16T07:30:00.000000000",
          "2014-02-16T08:00:00.000000000",
          "2014-02-16T08:30:00.000000000",
          "2014-02-16T09:00:00.000000000",
          "2014-02-16T09:30:00.000000000",
          "2014-02-16T10:00:00.000000000",
          "2014-02-16T10:30:00.000000000",
          "2014-02-16T11:00:00.000000000",
          "2014-02-16T11:30:00.000000000",
          "2014-02-16T12:00:00.000000000",
          "2014-02-16T12:30:00.000000000",
          "2014-02-16T13:00:00.000000000",
          "2014-02-16T13:30:00.000000000",
          "2014-02-16T14:00:00.000000000",
          "2014-02-16T14:30:00.000000000",
          "2014-02-16T15:00:00.000000000",
          "2014-02-16T15:30:00.000000000",
          "2014-02-16T16:00:00.000000000",
          "2014-02-16T16:30:00.000000000",
          "2014-02-16T17:00:00.000000000",
          "2014-02-16T17:30:00.000000000",
          "2014-02-16T18:00:00.000000000",
          "2014-02-16T18:30:00.000000000",
          "2014-02-16T19:00:00.000000000",
          "2014-02-16T19:30:00.000000000",
          "2014-02-16T20:00:00.000000000",
          "2014-02-16T20:30:00.000000000",
          "2014-02-16T21:00:00.000000000",
          "2014-02-16T21:30:00.000000000",
          "2014-02-16T22:00:00.000000000",
          "2014-02-16T22:30:00.000000000",
          "2014-02-16T23:00:00.000000000",
          "2014-02-16T23:30:00.000000000",
          "2014-02-17T00:00:00.000000000",
          "2014-02-17T00:30:00.000000000",
          "2014-02-17T01:00:00.000000000",
          "2014-02-17T01:30:00.000000000",
          "2014-02-17T02:00:00.000000000",
          "2014-02-17T02:30:00.000000000",
          "2014-02-17T03:00:00.000000000",
          "2014-02-17T03:30:00.000000000",
          "2014-02-17T04:00:00.000000000",
          "2014-02-17T04:30:00.000000000",
          "2014-02-17T05:00:00.000000000",
          "2014-02-17T05:30:00.000000000",
          "2014-02-17T06:00:00.000000000",
          "2014-02-17T06:30:00.000000000",
          "2014-02-17T07:00:00.000000000",
          "2014-02-17T07:30:00.000000000",
          "2014-02-17T08:00:00.000000000",
          "2014-02-17T08:30:00.000000000",
          "2014-02-17T09:00:00.000000000",
          "2014-02-17T09:30:00.000000000",
          "2014-02-17T10:00:00.000000000",
          "2014-02-17T10:30:00.000000000",
          "2014-02-17T11:00:00.000000000",
          "2014-02-17T11:30:00.000000000",
          "2014-02-17T12:00:00.000000000",
          "2014-02-17T12:30:00.000000000",
          "2014-02-17T13:00:00.000000000",
          "2014-02-17T13:30:00.000000000",
          "2014-02-17T14:00:00.000000000",
          "2014-02-17T14:30:00.000000000",
          "2014-02-17T15:00:00.000000000",
          "2014-02-17T15:30:00.000000000",
          "2014-02-17T16:00:00.000000000",
          "2014-02-17T16:30:00.000000000",
          "2014-02-17T17:00:00.000000000",
          "2014-02-17T17:30:00.000000000",
          "2014-02-17T18:00:00.000000000",
          "2014-02-17T18:30:00.000000000",
          "2014-02-17T19:00:00.000000000",
          "2014-02-17T19:30:00.000000000",
          "2014-02-17T20:00:00.000000000",
          "2014-02-17T20:30:00.000000000",
          "2014-02-17T21:00:00.000000000",
          "2014-02-17T21:30:00.000000000",
          "2014-02-17T22:00:00.000000000",
          "2014-02-17T22:30:00.000000000",
          "2014-02-17T23:00:00.000000000",
          "2014-02-17T23:30:00.000000000",
          "2014-02-18T00:00:00.000000000",
          "2014-02-18T00:30:00.000000000",
          "2014-02-18T01:00:00.000000000",
          "2014-02-18T01:30:00.000000000",
          "2014-02-18T02:00:00.000000000",
          "2014-02-18T02:30:00.000000000",
          "2014-02-18T03:00:00.000000000",
          "2014-02-18T03:30:00.000000000",
          "2014-02-18T04:00:00.000000000",
          "2014-02-18T04:30:00.000000000",
          "2014-02-18T05:00:00.000000000",
          "2014-02-18T05:30:00.000000000",
          "2014-02-18T06:00:00.000000000",
          "2014-02-18T06:30:00.000000000",
          "2014-02-18T07:00:00.000000000",
          "2014-02-18T07:30:00.000000000",
          "2014-02-18T08:00:00.000000000",
          "2014-02-18T08:30:00.000000000",
          "2014-02-18T09:00:00.000000000",
          "2014-02-18T09:30:00.000000000",
          "2014-02-18T10:00:00.000000000",
          "2014-02-18T10:30:00.000000000",
          "2014-02-18T11:00:00.000000000",
          "2014-02-18T11:30:00.000000000",
          "2014-02-18T12:00:00.000000000",
          "2014-02-18T12:30:00.000000000",
          "2014-02-18T13:00:00.000000000",
          "2014-02-18T13:30:00.000000000",
          "2014-02-18T14:00:00.000000000",
          "2014-02-18T14:30:00.000000000",
          "2014-02-18T15:00:00.000000000",
          "2014-02-18T15:30:00.000000000",
          "2014-02-18T16:00:00.000000000",
          "2014-02-18T16:30:00.000000000",
          "2014-02-18T17:00:00.000000000",
          "2014-02-18T17:30:00.000000000",
          "2014-02-18T18:00:00.000000000",
          "2014-02-18T18:30:00.000000000",
          "2014-02-18T19:00:00.000000000",
          "2014-02-18T19:30:00.000000000",
          "2014-02-18T20:00:00.000000000",
          "2014-02-18T20:30:00.000000000",
          "2014-02-18T21:00:00.000000000",
          "2014-02-18T21:30:00.000000000",
          "2014-02-18T22:00:00.000000000",
          "2014-02-18T22:30:00.000000000",
          "2014-02-18T23:00:00.000000000",
          "2014-02-18T23:30:00.000000000",
          "2014-02-19T00:00:00.000000000",
          "2014-02-19T00:30:00.000000000",
          "2014-02-19T01:00:00.000000000",
          "2014-02-19T01:30:00.000000000",
          "2014-02-19T02:00:00.000000000",
          "2014-02-19T02:30:00.000000000",
          "2014-02-19T03:00:00.000000000",
          "2014-02-19T03:30:00.000000000",
          "2014-02-19T04:00:00.000000000",
          "2014-02-19T04:30:00.000000000",
          "2014-02-19T05:00:00.000000000",
          "2014-02-19T05:30:00.000000000",
          "2014-02-19T06:00:00.000000000",
          "2014-02-19T06:30:00.000000000",
          "2014-02-19T07:00:00.000000000",
          "2014-02-19T07:30:00.000000000",
          "2014-02-19T08:00:00.000000000",
          "2014-02-19T08:30:00.000000000",
          "2014-02-19T09:00:00.000000000",
          "2014-02-19T09:30:00.000000000",
          "2014-02-19T10:00:00.000000000",
          "2014-02-19T10:30:00.000000000",
          "2014-02-19T11:00:00.000000000",
          "2014-02-19T11:30:00.000000000",
          "2014-02-19T12:00:00.000000000",
          "2014-02-19T12:30:00.000000000",
          "2014-02-19T13:00:00.000000000",
          "2014-02-19T13:30:00.000000000",
          "2014-02-19T14:00:00.000000000",
          "2014-02-19T14:30:00.000000000",
          "2014-02-19T15:00:00.000000000",
          "2014-02-19T15:30:00.000000000",
          "2014-02-19T16:00:00.000000000",
          "2014-02-19T16:30:00.000000000",
          "2014-02-19T17:00:00.000000000",
          "2014-02-19T17:30:00.000000000",
          "2014-02-19T18:00:00.000000000",
          "2014-02-19T18:30:00.000000000",
          "2014-02-19T19:00:00.000000000",
          "2014-02-19T19:30:00.000000000",
          "2014-02-19T20:00:00.000000000",
          "2014-02-19T20:30:00.000000000",
          "2014-02-19T21:00:00.000000000",
          "2014-02-19T21:30:00.000000000",
          "2014-02-19T22:00:00.000000000",
          "2014-02-19T22:30:00.000000000",
          "2014-02-19T23:00:00.000000000",
          "2014-02-19T23:30:00.000000000",
          "2014-02-20T00:00:00.000000000",
          "2014-02-20T00:30:00.000000000",
          "2014-02-20T01:00:00.000000000",
          "2014-02-20T01:30:00.000000000",
          "2014-02-20T02:00:00.000000000",
          "2014-02-20T02:30:00.000000000",
          "2014-02-20T03:00:00.000000000",
          "2014-02-20T03:30:00.000000000",
          "2014-02-20T04:00:00.000000000",
          "2014-02-20T04:30:00.000000000",
          "2014-02-20T05:00:00.000000000",
          "2014-02-20T05:30:00.000000000",
          "2014-02-20T06:00:00.000000000",
          "2014-02-20T06:30:00.000000000",
          "2014-02-20T07:00:00.000000000",
          "2014-02-20T07:30:00.000000000",
          "2014-02-20T08:00:00.000000000",
          "2014-02-20T08:30:00.000000000",
          "2014-02-20T09:00:00.000000000",
          "2014-02-20T09:30:00.000000000",
          "2014-02-20T10:00:00.000000000",
          "2014-02-20T10:30:00.000000000",
          "2014-02-20T11:00:00.000000000",
          "2014-02-20T11:30:00.000000000",
          "2014-02-20T12:00:00.000000000",
          "2014-02-20T12:30:00.000000000",
          "2014-02-20T13:00:00.000000000",
          "2014-02-20T13:30:00.000000000",
          "2014-02-20T14:00:00.000000000",
          "2014-02-20T14:30:00.000000000",
          "2014-02-20T15:00:00.000000000",
          "2014-02-20T15:30:00.000000000",
          "2014-02-20T16:00:00.000000000",
          "2014-02-20T16:30:00.000000000",
          "2014-02-20T17:00:00.000000000",
          "2014-02-20T17:30:00.000000000",
          "2014-02-20T18:00:00.000000000",
          "2014-02-20T18:30:00.000000000",
          "2014-02-20T19:00:00.000000000",
          "2014-02-20T19:30:00.000000000",
          "2014-02-20T20:00:00.000000000",
          "2014-02-20T20:30:00.000000000",
          "2014-02-20T21:00:00.000000000",
          "2014-02-20T21:30:00.000000000",
          "2014-02-20T22:00:00.000000000",
          "2014-02-20T22:30:00.000000000",
          "2014-02-20T23:00:00.000000000",
          "2014-02-20T23:30:00.000000000",
          "2014-02-21T00:00:00.000000000",
          "2014-02-21T00:30:00.000000000",
          "2014-02-21T01:00:00.000000000",
          "2014-02-21T01:30:00.000000000",
          "2014-02-21T02:00:00.000000000",
          "2014-02-21T02:30:00.000000000",
          "2014-02-21T03:00:00.000000000",
          "2014-02-21T03:30:00.000000000",
          "2014-02-21T04:00:00.000000000",
          "2014-02-21T04:30:00.000000000",
          "2014-02-21T05:00:00.000000000",
          "2014-02-21T05:30:00.000000000",
          "2014-02-21T06:00:00.000000000",
          "2014-02-21T06:30:00.000000000",
          "2014-02-21T07:00:00.000000000",
          "2014-02-21T07:30:00.000000000",
          "2014-02-21T08:00:00.000000000",
          "2014-02-21T08:30:00.000000000",
          "2014-02-21T09:00:00.000000000",
          "2014-02-21T09:30:00.000000000",
          "2014-02-21T10:00:00.000000000",
          "2014-02-21T10:30:00.000000000",
          "2014-02-21T11:00:00.000000000",
          "2014-02-21T11:30:00.000000000",
          "2014-02-21T12:00:00.000000000",
          "2014-02-21T12:30:00.000000000",
          "2014-02-21T13:00:00.000000000",
          "2014-02-21T13:30:00.000000000",
          "2014-02-21T14:00:00.000000000",
          "2014-02-21T14:30:00.000000000",
          "2014-02-21T15:00:00.000000000",
          "2014-02-21T15:30:00.000000000",
          "2014-02-21T16:00:00.000000000",
          "2014-02-21T16:30:00.000000000",
          "2014-02-21T17:00:00.000000000",
          "2014-02-21T17:30:00.000000000",
          "2014-02-21T18:00:00.000000000",
          "2014-02-21T18:30:00.000000000",
          "2014-02-21T19:00:00.000000000",
          "2014-02-21T19:30:00.000000000",
          "2014-02-21T20:00:00.000000000",
          "2014-02-21T20:30:00.000000000",
          "2014-02-21T21:00:00.000000000",
          "2014-02-21T21:30:00.000000000",
          "2014-02-21T22:00:00.000000000",
          "2014-02-21T22:30:00.000000000",
          "2014-02-21T23:00:00.000000000",
          "2014-02-21T23:30:00.000000000",
          "2014-02-22T00:00:00.000000000",
          "2014-02-22T00:30:00.000000000",
          "2014-02-22T01:00:00.000000000",
          "2014-02-22T01:30:00.000000000",
          "2014-02-22T02:00:00.000000000",
          "2014-02-22T02:30:00.000000000",
          "2014-02-22T03:00:00.000000000",
          "2014-02-22T03:30:00.000000000",
          "2014-02-22T04:00:00.000000000",
          "2014-02-22T04:30:00.000000000",
          "2014-02-22T05:00:00.000000000",
          "2014-02-22T05:30:00.000000000",
          "2014-02-22T06:00:00.000000000",
          "2014-02-22T06:30:00.000000000",
          "2014-02-22T07:00:00.000000000",
          "2014-02-22T07:30:00.000000000",
          "2014-02-22T08:00:00.000000000",
          "2014-02-22T08:30:00.000000000",
          "2014-02-22T09:00:00.000000000",
          "2014-02-22T09:30:00.000000000",
          "2014-02-22T10:00:00.000000000",
          "2014-02-22T10:30:00.000000000",
          "2014-02-22T11:00:00.000000000",
          "2014-02-22T11:30:00.000000000",
          "2014-02-22T12:00:00.000000000",
          "2014-02-22T12:30:00.000000000",
          "2014-02-22T13:00:00.000000000",
          "2014-02-22T13:30:00.000000000",
          "2014-02-22T14:00:00.000000000",
          "2014-02-22T14:30:00.000000000",
          "2014-02-22T15:00:00.000000000",
          "2014-02-22T15:30:00.000000000",
          "2014-02-22T16:00:00.000000000",
          "2014-02-22T16:30:00.000000000",
          "2014-02-22T17:00:00.000000000",
          "2014-02-22T17:30:00.000000000",
          "2014-02-22T18:00:00.000000000",
          "2014-02-22T18:30:00.000000000",
          "2014-02-22T19:00:00.000000000",
          "2014-02-22T19:30:00.000000000",
          "2014-02-22T20:00:00.000000000",
          "2014-02-22T20:30:00.000000000",
          "2014-02-22T21:00:00.000000000",
          "2014-02-22T21:30:00.000000000",
          "2014-02-22T22:00:00.000000000",
          "2014-02-22T22:30:00.000000000",
          "2014-02-22T23:00:00.000000000",
          "2014-02-22T23:30:00.000000000",
          "2014-02-23T00:00:00.000000000",
          "2014-02-23T00:30:00.000000000",
          "2014-02-23T01:00:00.000000000",
          "2014-02-23T01:30:00.000000000",
          "2014-02-23T02:00:00.000000000",
          "2014-02-23T02:30:00.000000000",
          "2014-02-23T03:00:00.000000000",
          "2014-02-23T03:30:00.000000000",
          "2014-02-23T04:00:00.000000000",
          "2014-02-23T04:30:00.000000000",
          "2014-02-23T05:00:00.000000000",
          "2014-02-23T05:30:00.000000000",
          "2014-02-23T06:00:00.000000000",
          "2014-02-23T06:30:00.000000000",
          "2014-02-23T07:00:00.000000000",
          "2014-02-23T07:30:00.000000000",
          "2014-02-23T08:00:00.000000000",
          "2014-02-23T08:30:00.000000000",
          "2014-02-23T09:00:00.000000000",
          "2014-02-23T09:30:00.000000000",
          "2014-02-23T10:00:00.000000000",
          "2014-02-23T10:30:00.000000000",
          "2014-02-23T11:00:00.000000000",
          "2014-02-23T11:30:00.000000000",
          "2014-02-23T12:00:00.000000000",
          "2014-02-23T12:30:00.000000000",
          "2014-02-23T13:00:00.000000000",
          "2014-02-23T13:30:00.000000000",
          "2014-02-23T14:00:00.000000000",
          "2014-02-23T14:30:00.000000000",
          "2014-02-23T15:00:00.000000000",
          "2014-02-23T15:30:00.000000000",
          "2014-02-23T16:00:00.000000000",
          "2014-02-23T16:30:00.000000000",
          "2014-02-23T17:00:00.000000000",
          "2014-02-23T17:30:00.000000000",
          "2014-02-23T18:00:00.000000000",
          "2014-02-23T18:30:00.000000000",
          "2014-02-23T19:00:00.000000000",
          "2014-02-23T19:30:00.000000000",
          "2014-02-23T20:00:00.000000000",
          "2014-02-23T20:30:00.000000000",
          "2014-02-23T21:00:00.000000000",
          "2014-02-23T21:30:00.000000000",
          "2014-02-23T22:00:00.000000000",
          "2014-02-23T22:30:00.000000000",
          "2014-02-23T23:00:00.000000000",
          "2014-02-23T23:30:00.000000000",
          "2014-02-24T00:00:00.000000000",
          "2014-02-24T00:30:00.000000000",
          "2014-02-24T01:00:00.000000000",
          "2014-02-24T01:30:00.000000000",
          "2014-02-24T02:00:00.000000000",
          "2014-02-24T02:30:00.000000000",
          "2014-02-24T03:00:00.000000000",
          "2014-02-24T03:30:00.000000000",
          "2014-02-24T04:00:00.000000000",
          "2014-02-24T04:30:00.000000000",
          "2014-02-24T05:00:00.000000000",
          "2014-02-24T05:30:00.000000000",
          "2014-02-24T06:00:00.000000000",
          "2014-02-24T06:30:00.000000000",
          "2014-02-24T07:00:00.000000000",
          "2014-02-24T07:30:00.000000000",
          "2014-02-24T08:00:00.000000000",
          "2014-02-24T08:30:00.000000000",
          "2014-02-24T09:00:00.000000000",
          "2014-02-24T09:30:00.000000000",
          "2014-02-24T10:00:00.000000000",
          "2014-02-24T10:30:00.000000000",
          "2014-02-24T11:00:00.000000000",
          "2014-02-24T11:30:00.000000000",
          "2014-02-24T12:00:00.000000000",
          "2014-02-24T12:30:00.000000000",
          "2014-02-24T13:00:00.000000000",
          "2014-02-24T13:30:00.000000000",
          "2014-02-24T14:00:00.000000000",
          "2014-02-24T14:30:00.000000000",
          "2014-02-24T15:00:00.000000000",
          "2014-02-24T15:30:00.000000000",
          "2014-02-24T16:00:00.000000000",
          "2014-02-24T16:30:00.000000000",
          "2014-02-24T17:00:00.000000000",
          "2014-02-24T17:30:00.000000000",
          "2014-02-24T18:00:00.000000000",
          "2014-02-24T18:30:00.000000000",
          "2014-02-24T19:00:00.000000000",
          "2014-02-24T19:30:00.000000000",
          "2014-02-24T20:00:00.000000000",
          "2014-02-24T20:30:00.000000000",
          "2014-02-24T21:00:00.000000000",
          "2014-02-24T21:30:00.000000000",
          "2014-02-24T22:00:00.000000000",
          "2014-02-24T22:30:00.000000000",
          "2014-02-24T23:00:00.000000000",
          "2014-02-24T23:30:00.000000000",
          "2014-02-25T00:00:00.000000000",
          "2014-02-25T00:30:00.000000000",
          "2014-02-25T01:00:00.000000000",
          "2014-02-25T01:30:00.000000000",
          "2014-02-25T02:00:00.000000000",
          "2014-02-25T02:30:00.000000000",
          "2014-02-25T03:00:00.000000000",
          "2014-02-25T03:30:00.000000000",
          "2014-02-25T04:00:00.000000000",
          "2014-02-25T04:30:00.000000000",
          "2014-02-25T05:00:00.000000000",
          "2014-02-25T05:30:00.000000000",
          "2014-02-25T06:00:00.000000000",
          "2014-02-25T06:30:00.000000000",
          "2014-02-25T07:00:00.000000000",
          "2014-02-25T07:30:00.000000000",
          "2014-02-25T08:00:00.000000000",
          "2014-02-25T08:30:00.000000000",
          "2014-02-25T09:00:00.000000000",
          "2014-02-25T09:30:00.000000000",
          "2014-02-25T10:00:00.000000000",
          "2014-02-25T10:30:00.000000000",
          "2014-02-25T11:00:00.000000000",
          "2014-02-25T11:30:00.000000000",
          "2014-02-25T12:00:00.000000000",
          "2014-02-25T12:30:00.000000000",
          "2014-02-25T13:00:00.000000000",
          "2014-02-25T13:30:00.000000000",
          "2014-02-25T14:00:00.000000000",
          "2014-02-25T14:30:00.000000000",
          "2014-02-25T15:00:00.000000000",
          "2014-02-25T15:30:00.000000000",
          "2014-02-25T16:00:00.000000000",
          "2014-02-25T16:30:00.000000000",
          "2014-02-25T17:00:00.000000000",
          "2014-02-25T17:30:00.000000000",
          "2014-02-25T18:00:00.000000000",
          "2014-02-25T18:30:00.000000000",
          "2014-02-25T19:00:00.000000000",
          "2014-02-25T19:30:00.000000000",
          "2014-02-25T20:00:00.000000000",
          "2014-02-25T20:30:00.000000000",
          "2014-02-25T21:00:00.000000000",
          "2014-02-25T21:30:00.000000000",
          "2014-02-25T22:00:00.000000000",
          "2014-02-25T22:30:00.000000000",
          "2014-02-25T23:00:00.000000000",
          "2014-02-25T23:30:00.000000000",
          "2014-02-26T00:00:00.000000000",
          "2014-02-26T00:30:00.000000000",
          "2014-02-26T01:00:00.000000000",
          "2014-02-26T01:30:00.000000000",
          "2014-02-26T02:00:00.000000000",
          "2014-02-26T02:30:00.000000000",
          "2014-02-26T03:00:00.000000000",
          "2014-02-26T03:30:00.000000000",
          "2014-02-26T04:00:00.000000000",
          "2014-02-26T04:30:00.000000000",
          "2014-02-26T05:00:00.000000000",
          "2014-02-26T05:30:00.000000000",
          "2014-02-26T06:00:00.000000000",
          "2014-02-26T06:30:00.000000000",
          "2014-02-26T07:00:00.000000000",
          "2014-02-26T07:30:00.000000000",
          "2014-02-26T08:00:00.000000000",
          "2014-02-26T08:30:00.000000000",
          "2014-02-26T09:00:00.000000000",
          "2014-02-26T09:30:00.000000000",
          "2014-02-26T10:00:00.000000000",
          "2014-02-26T10:30:00.000000000",
          "2014-02-26T11:00:00.000000000",
          "2014-02-26T11:30:00.000000000",
          "2014-02-26T12:00:00.000000000",
          "2014-02-26T12:30:00.000000000",
          "2014-02-26T13:00:00.000000000",
          "2014-02-26T13:30:00.000000000",
          "2014-02-26T14:00:00.000000000",
          "2014-02-26T14:30:00.000000000",
          "2014-02-26T15:00:00.000000000",
          "2014-02-26T15:30:00.000000000",
          "2014-02-26T16:00:00.000000000",
          "2014-02-26T16:30:00.000000000",
          "2014-02-26T17:00:00.000000000",
          "2014-02-26T17:30:00.000000000",
          "2014-02-26T18:00:00.000000000",
          "2014-02-26T18:30:00.000000000",
          "2014-02-26T19:00:00.000000000",
          "2014-02-26T19:30:00.000000000",
          "2014-02-26T20:00:00.000000000",
          "2014-02-26T20:30:00.000000000",
          "2014-02-26T21:00:00.000000000",
          "2014-02-26T21:30:00.000000000",
          "2014-02-26T22:00:00.000000000",
          "2014-02-26T22:30:00.000000000",
          "2014-02-26T23:00:00.000000000",
          "2014-02-26T23:30:00.000000000",
          "2014-02-27T00:00:00.000000000",
          "2014-02-27T00:30:00.000000000",
          "2014-02-27T01:00:00.000000000",
          "2014-02-27T01:30:00.000000000",
          "2014-02-27T02:00:00.000000000",
          "2014-02-27T02:30:00.000000000",
          "2014-02-27T03:00:00.000000000",
          "2014-02-27T03:30:00.000000000",
          "2014-02-27T04:00:00.000000000",
          "2014-02-27T04:30:00.000000000",
          "2014-02-27T05:00:00.000000000",
          "2014-02-27T05:30:00.000000000",
          "2014-02-27T06:00:00.000000000",
          "2014-02-27T06:30:00.000000000",
          "2014-02-27T07:00:00.000000000",
          "2014-02-27T07:30:00.000000000",
          "2014-02-27T08:00:00.000000000",
          "2014-02-27T08:30:00.000000000",
          "2014-02-27T09:00:00.000000000",
          "2014-02-27T09:30:00.000000000",
          "2014-02-27T10:00:00.000000000",
          "2014-02-27T10:30:00.000000000",
          "2014-02-27T11:00:00.000000000",
          "2014-02-27T11:30:00.000000000",
          "2014-02-27T12:00:00.000000000",
          "2014-02-27T12:30:00.000000000",
          "2014-02-27T13:00:00.000000000",
          "2014-02-27T13:30:00.000000000",
          "2014-02-27T14:00:00.000000000",
          "2014-02-27T14:30:00.000000000",
          "2014-02-27T15:00:00.000000000",
          "2014-02-27T15:30:00.000000000",
          "2014-02-27T16:00:00.000000000",
          "2014-02-27T16:30:00.000000000",
          "2014-02-27T17:00:00.000000000",
          "2014-02-27T17:30:00.000000000",
          "2014-02-27T18:00:00.000000000",
          "2014-02-27T18:30:00.000000000",
          "2014-02-27T19:00:00.000000000",
          "2014-02-27T19:30:00.000000000",
          "2014-02-27T20:00:00.000000000",
          "2014-02-27T20:30:00.000000000",
          "2014-02-27T21:00:00.000000000",
          "2014-02-27T21:30:00.000000000",
          "2014-02-27T22:00:00.000000000",
          "2014-02-27T22:30:00.000000000",
          "2014-02-27T23:00:00.000000000",
          "2014-02-27T23:30:00.000000000"
         ],
         "y": {
          "bdata": "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",
          "dtype": "f8"
         }
        },
        {
         "line": {
          "color": "rgba(217,95,2, 1)",
          "dash": "dash"
         },
         "mode": "lines",
         "name": "ARIMA",
         "type": "scatter",
         "x": [
          "2014-02-01T00:00:00.000000000",
          "2014-02-01T00:30:00.000000000",
          "2014-02-01T01:00:00.000000000",
          "2014-02-01T01:30:00.000000000",
          "2014-02-01T02:00:00.000000000",
          "2014-02-01T02:30:00.000000000",
          "2014-02-01T03:00:00.000000000",
          "2014-02-01T03:30:00.000000000",
          "2014-02-01T04:00:00.000000000",
          "2014-02-01T04:30:00.000000000",
          "2014-02-01T05:00:00.000000000",
          "2014-02-01T05:30:00.000000000",
          "2014-02-01T06:00:00.000000000",
          "2014-02-01T06:30:00.000000000",
          "2014-02-01T07:00:00.000000000",
          "2014-02-01T07:30:00.000000000",
          "2014-02-01T08:00:00.000000000",
          "2014-02-01T08:30:00.000000000",
          "2014-02-01T09:00:00.000000000",
          "2014-02-01T09:30:00.000000000",
          "2014-02-01T10:00:00.000000000",
          "2014-02-01T10:30:00.000000000",
          "2014-02-01T11:00:00.000000000",
          "2014-02-01T11:30:00.000000000",
          "2014-02-01T12:00:00.000000000",
          "2014-02-01T12:30:00.000000000",
          "2014-02-01T13:00:00.000000000",
          "2014-02-01T13:30:00.000000000",
          "2014-02-01T14:00:00.000000000",
          "2014-02-01T14:30:00.000000000",
          "2014-02-01T15:00:00.000000000",
          "2014-02-01T15:30:00.000000000",
          "2014-02-01T16:00:00.000000000",
          "2014-02-01T16:30:00.000000000",
          "2014-02-01T17:00:00.000000000",
          "2014-02-01T17:30:00.000000000",
          "2014-02-01T18:00:00.000000000",
          "2014-02-01T18:30:00.000000000",
          "2014-02-01T19:00:00.000000000",
          "2014-02-01T19:30:00.000000000",
          "2014-02-01T20:00:00.000000000",
          "2014-02-01T20:30:00.000000000",
          "2014-02-01T21:00:00.000000000",
          "2014-02-01T21:30:00.000000000",
          "2014-02-01T22:00:00.000000000",
          "2014-02-01T22:30:00.000000000",
          "2014-02-01T23:00:00.000000000",
          "2014-02-01T23:30:00.000000000",
          "2014-02-02T00:00:00.000000000",
          "2014-02-02T00:30:00.000000000",
          "2014-02-02T01:00:00.000000000",
          "2014-02-02T01:30:00.000000000",
          "2014-02-02T02:00:00.000000000",
          "2014-02-02T02:30:00.000000000",
          "2014-02-02T03:00:00.000000000",
          "2014-02-02T03:30:00.000000000",
          "2014-02-02T04:00:00.000000000",
          "2014-02-02T04:30:00.000000000",
          "2014-02-02T05:00:00.000000000",
          "2014-02-02T05:30:00.000000000",
          "2014-02-02T06:00:00.000000000",
          "2014-02-02T06:30:00.000000000",
          "2014-02-02T07:00:00.000000000",
          "2014-02-02T07:30:00.000000000",
          "2014-02-02T08:00:00.000000000",
          "2014-02-02T08:30:00.000000000",
          "2014-02-02T09:00:00.000000000",
          "2014-02-02T09:30:00.000000000",
          "2014-02-02T10:00:00.000000000",
          "2014-02-02T10:30:00.000000000",
          "2014-02-02T11:00:00.000000000",
          "2014-02-02T11:30:00.000000000",
          "2014-02-02T12:00:00.000000000",
          "2014-02-02T12:30:00.000000000",
          "2014-02-02T13:00:00.000000000",
          "2014-02-02T13:30:00.000000000",
          "2014-02-02T14:00:00.000000000",
          "2014-02-02T14:30:00.000000000",
          "2014-02-02T15:00:00.000000000",
          "2014-02-02T15:30:00.000000000",
          "2014-02-02T16:00:00.000000000",
          "2014-02-02T16:30:00.000000000",
          "2014-02-02T17:00:00.000000000",
          "2014-02-02T17:30:00.000000000",
          "2014-02-02T18:00:00.000000000",
          "2014-02-02T18:30:00.000000000",
          "2014-02-02T19:00:00.000000000",
          "2014-02-02T19:30:00.000000000",
          "2014-02-02T20:00:00.000000000",
          "2014-02-02T20:30:00.000000000",
          "2014-02-02T21:00:00.000000000",
          "2014-02-02T21:30:00.000000000",
          "2014-02-02T22:00:00.000000000",
          "2014-02-02T22:30:00.000000000",
          "2014-02-02T23:00:00.000000000",
          "2014-02-02T23:30:00.000000000",
          "2014-02-03T00:00:00.000000000",
          "2014-02-03T00:30:00.000000000",
          "2014-02-03T01:00:00.000000000",
          "2014-02-03T01:30:00.000000000",
          "2014-02-03T02:00:00.000000000",
          "2014-02-03T02:30:00.000000000",
          "2014-02-03T03:00:00.000000000",
          "2014-02-03T03:30:00.000000000",
          "2014-02-03T04:00:00.000000000",
          "2014-02-03T04:30:00.000000000",
          "2014-02-03T05:00:00.000000000",
          "2014-02-03T05:30:00.000000000",
          "2014-02-03T06:00:00.000000000",
          "2014-02-03T06:30:00.000000000",
          "2014-02-03T07:00:00.000000000",
          "2014-02-03T07:30:00.000000000",
          "2014-02-03T08:00:00.000000000",
          "2014-02-03T08:30:00.000000000",
          "2014-02-03T09:00:00.000000000",
          "2014-02-03T09:30:00.000000000",
          "2014-02-03T10:00:00.000000000",
          "2014-02-03T10:30:00.000000000",
          "2014-02-03T11:00:00.000000000",
          "2014-02-03T11:30:00.000000000",
          "2014-02-03T12:00:00.000000000",
          "2014-02-03T12:30:00.000000000",
          "2014-02-03T13:00:00.000000000",
          "2014-02-03T13:30:00.000000000",
          "2014-02-03T14:00:00.000000000",
          "2014-02-03T14:30:00.000000000",
          "2014-02-03T15:00:00.000000000",
          "2014-02-03T15:30:00.000000000",
          "2014-02-03T16:00:00.000000000",
          "2014-02-03T16:30:00.000000000",
          "2014-02-03T17:00:00.000000000",
          "2014-02-03T17:30:00.000000000",
          "2014-02-03T18:00:00.000000000",
          "2014-02-03T18:30:00.000000000",
          "2014-02-03T19:00:00.000000000",
          "2014-02-03T19:30:00.000000000",
          "2014-02-03T20:00:00.000000000",
          "2014-02-03T20:30:00.000000000",
          "2014-02-03T21:00:00.000000000",
          "2014-02-03T21:30:00.000000000",
          "2014-02-03T22:00:00.000000000",
          "2014-02-03T22:30:00.000000000",
          "2014-02-03T23:00:00.000000000",
          "2014-02-03T23:30:00.000000000",
          "2014-02-04T00:00:00.000000000",
          "2014-02-04T00:30:00.000000000",
          "2014-02-04T01:00:00.000000000",
          "2014-02-04T01:30:00.000000000",
          "2014-02-04T02:00:00.000000000",
          "2014-02-04T02:30:00.000000000",
          "2014-02-04T03:00:00.000000000",
          "2014-02-04T03:30:00.000000000",
          "2014-02-04T04:00:00.000000000",
          "2014-02-04T04:30:00.000000000",
          "2014-02-04T05:00:00.000000000",
          "2014-02-04T05:30:00.000000000",
          "2014-02-04T06:00:00.000000000",
          "2014-02-04T06:30:00.000000000",
          "2014-02-04T07:00:00.000000000",
          "2014-02-04T07:30:00.000000000",
          "2014-02-04T08:00:00.000000000",
          "2014-02-04T08:30:00.000000000",
          "2014-02-04T09:00:00.000000000",
          "2014-02-04T09:30:00.000000000",
          "2014-02-04T10:00:00.000000000",
          "2014-02-04T10:30:00.000000000",
          "2014-02-04T11:00:00.000000000",
          "2014-02-04T11:30:00.000000000",
          "2014-02-04T12:00:00.000000000",
          "2014-02-04T12:30:00.000000000",
          "2014-02-04T13:00:00.000000000",
          "2014-02-04T13:30:00.000000000",
          "2014-02-04T14:00:00.000000000",
          "2014-02-04T14:30:00.000000000",
          "2014-02-04T15:00:00.000000000",
          "2014-02-04T15:30:00.000000000",
          "2014-02-04T16:00:00.000000000",
          "2014-02-04T16:30:00.000000000",
          "2014-02-04T17:00:00.000000000",
          "2014-02-04T17:30:00.000000000",
          "2014-02-04T18:00:00.000000000",
          "2014-02-04T18:30:00.000000000",
          "2014-02-04T19:00:00.000000000",
          "2014-02-04T19:30:00.000000000",
          "2014-02-04T20:00:00.000000000",
          "2014-02-04T20:30:00.000000000",
          "2014-02-04T21:00:00.000000000",
          "2014-02-04T21:30:00.000000000",
          "2014-02-04T22:00:00.000000000",
          "2014-02-04T22:30:00.000000000",
          "2014-02-04T23:00:00.000000000",
          "2014-02-04T23:30:00.000000000",
          "2014-02-05T00:00:00.000000000",
          "2014-02-05T00:30:00.000000000",
          "2014-02-05T01:00:00.000000000",
          "2014-02-05T01:30:00.000000000",
          "2014-02-05T02:00:00.000000000",
          "2014-02-05T02:30:00.000000000",
          "2014-02-05T03:00:00.000000000",
          "2014-02-05T03:30:00.000000000",
          "2014-02-05T04:00:00.000000000",
          "2014-02-05T04:30:00.000000000",
          "2014-02-05T05:00:00.000000000",
          "2014-02-05T05:30:00.000000000",
          "2014-02-05T06:00:00.000000000",
          "2014-02-05T06:30:00.000000000",
          "2014-02-05T07:00:00.000000000",
          "2014-02-05T07:30:00.000000000",
          "2014-02-05T08:00:00.000000000",
          "2014-02-05T08:30:00.000000000",
          "2014-02-05T09:00:00.000000000",
          "2014-02-05T09:30:00.000000000",
          "2014-02-05T10:00:00.000000000",
          "2014-02-05T10:30:00.000000000",
          "2014-02-05T11:00:00.000000000",
          "2014-02-05T11:30:00.000000000",
          "2014-02-05T12:00:00.000000000",
          "2014-02-05T12:30:00.000000000",
          "2014-02-05T13:00:00.000000000",
          "2014-02-05T13:30:00.000000000",
          "2014-02-05T14:00:00.000000000",
          "2014-02-05T14:30:00.000000000",
          "2014-02-05T15:00:00.000000000",
          "2014-02-05T15:30:00.000000000",
          "2014-02-05T16:00:00.000000000",
          "2014-02-05T16:30:00.000000000",
          "2014-02-05T17:00:00.000000000",
          "2014-02-05T17:30:00.000000000",
          "2014-02-05T18:00:00.000000000",
          "2014-02-05T18:30:00.000000000",
          "2014-02-05T19:00:00.000000000",
          "2014-02-05T19:30:00.000000000",
          "2014-02-05T20:00:00.000000000",
          "2014-02-05T20:30:00.000000000",
          "2014-02-05T21:00:00.000000000",
          "2014-02-05T21:30:00.000000000",
          "2014-02-05T22:00:00.000000000",
          "2014-02-05T22:30:00.000000000",
          "2014-02-05T23:00:00.000000000",
          "2014-02-05T23:30:00.000000000",
          "2014-02-06T00:00:00.000000000",
          "2014-02-06T00:30:00.000000000",
          "2014-02-06T01:00:00.000000000",
          "2014-02-06T01:30:00.000000000",
          "2014-02-06T02:00:00.000000000",
          "2014-02-06T02:30:00.000000000",
          "2014-02-06T03:00:00.000000000",
          "2014-02-06T03:30:00.000000000",
          "2014-02-06T04:00:00.000000000",
          "2014-02-06T04:30:00.000000000",
          "2014-02-06T05:00:00.000000000",
          "2014-02-06T05:30:00.000000000",
          "2014-02-06T06:00:00.000000000",
          "2014-02-06T06:30:00.000000000",
          "2014-02-06T07:00:00.000000000",
          "2014-02-06T07:30:00.000000000",
          "2014-02-06T08:00:00.000000000",
          "2014-02-06T08:30:00.000000000",
          "2014-02-06T09:00:00.000000000",
          "2014-02-06T09:30:00.000000000",
          "2014-02-06T10:00:00.000000000",
          "2014-02-06T10:30:00.000000000",
          "2014-02-06T11:00:00.000000000",
          "2014-02-06T11:30:00.000000000",
          "2014-02-06T12:00:00.000000000",
          "2014-02-06T12:30:00.000000000",
          "2014-02-06T13:00:00.000000000",
          "2014-02-06T13:30:00.000000000",
          "2014-02-06T14:00:00.000000000",
          "2014-02-06T14:30:00.000000000",
          "2014-02-06T15:00:00.000000000",
          "2014-02-06T15:30:00.000000000",
          "2014-02-06T16:00:00.000000000",
          "2014-02-06T16:30:00.000000000",
          "2014-02-06T17:00:00.000000000",
          "2014-02-06T17:30:00.000000000",
          "2014-02-06T18:00:00.000000000",
          "2014-02-06T18:30:00.000000000",
          "2014-02-06T19:00:00.000000000",
          "2014-02-06T19:30:00.000000000",
          "2014-02-06T20:00:00.000000000",
          "2014-02-06T20:30:00.000000000",
          "2014-02-06T21:00:00.000000000",
          "2014-02-06T21:30:00.000000000",
          "2014-02-06T22:00:00.000000000",
          "2014-02-06T22:30:00.000000000",
          "2014-02-06T23:00:00.000000000",
          "2014-02-06T23:30:00.000000000",
          "2014-02-07T00:00:00.000000000",
          "2014-02-07T00:30:00.000000000",
          "2014-02-07T01:00:00.000000000",
          "2014-02-07T01:30:00.000000000",
          "2014-02-07T02:00:00.000000000",
          "2014-02-07T02:30:00.000000000",
          "2014-02-07T03:00:00.000000000",
          "2014-02-07T03:30:00.000000000",
          "2014-02-07T04:00:00.000000000",
          "2014-02-07T04:30:00.000000000",
          "2014-02-07T05:00:00.000000000",
          "2014-02-07T05:30:00.000000000",
          "2014-02-07T06:00:00.000000000",
          "2014-02-07T06:30:00.000000000",
          "2014-02-07T07:00:00.000000000",
          "2014-02-07T07:30:00.000000000",
          "2014-02-07T08:00:00.000000000",
          "2014-02-07T08:30:00.000000000",
          "2014-02-07T09:00:00.000000000",
          "2014-02-07T09:30:00.000000000",
          "2014-02-07T10:00:00.000000000",
          "2014-02-07T10:30:00.000000000",
          "2014-02-07T11:00:00.000000000",
          "2014-02-07T11:30:00.000000000",
          "2014-02-07T12:00:00.000000000",
          "2014-02-07T12:30:00.000000000",
          "2014-02-07T13:00:00.000000000",
          "2014-02-07T13:30:00.000000000",
          "2014-02-07T14:00:00.000000000",
          "2014-02-07T14:30:00.000000000",
          "2014-02-07T15:00:00.000000000",
          "2014-02-07T15:30:00.000000000",
          "2014-02-07T16:00:00.000000000",
          "2014-02-07T16:30:00.000000000",
          "2014-02-07T17:00:00.000000000",
          "2014-02-07T17:30:00.000000000",
          "2014-02-07T18:00:00.000000000",
          "2014-02-07T18:30:00.000000000",
          "2014-02-07T19:00:00.000000000",
          "2014-02-07T19:30:00.000000000",
          "2014-02-07T20:00:00.000000000",
          "2014-02-07T20:30:00.000000000",
          "2014-02-07T21:00:00.000000000",
          "2014-02-07T21:30:00.000000000",
          "2014-02-07T22:00:00.000000000",
          "2014-02-07T22:30:00.000000000",
          "2014-02-07T23:00:00.000000000",
          "2014-02-07T23:30:00.000000000",
          "2014-02-08T00:00:00.000000000",
          "2014-02-08T00:30:00.000000000",
          "2014-02-08T01:00:00.000000000",
          "2014-02-08T01:30:00.000000000",
          "2014-02-08T02:00:00.000000000",
          "2014-02-08T02:30:00.000000000",
          "2014-02-08T03:00:00.000000000",
          "2014-02-08T03:30:00.000000000",
          "2014-02-08T04:00:00.000000000",
          "2014-02-08T04:30:00.000000000",
          "2014-02-08T05:00:00.000000000",
          "2014-02-08T05:30:00.000000000",
          "2014-02-08T06:00:00.000000000",
          "2014-02-08T06:30:00.000000000",
          "2014-02-08T07:00:00.000000000",
          "2014-02-08T07:30:00.000000000",
          "2014-02-08T08:00:00.000000000",
          "2014-02-08T08:30:00.000000000",
          "2014-02-08T09:00:00.000000000",
          "2014-02-08T09:30:00.000000000",
          "2014-02-08T10:00:00.000000000",
          "2014-02-08T10:30:00.000000000",
          "2014-02-08T11:00:00.000000000",
          "2014-02-08T11:30:00.000000000",
          "2014-02-08T12:00:00.000000000",
          "2014-02-08T12:30:00.000000000",
          "2014-02-08T13:00:00.000000000",
          "2014-02-08T13:30:00.000000000",
          "2014-02-08T14:00:00.000000000",
          "2014-02-08T14:30:00.000000000",
          "2014-02-08T15:00:00.000000000",
          "2014-02-08T15:30:00.000000000",
          "2014-02-08T16:00:00.000000000",
          "2014-02-08T16:30:00.000000000",
          "2014-02-08T17:00:00.000000000",
          "2014-02-08T17:30:00.000000000",
          "2014-02-08T18:00:00.000000000",
          "2014-02-08T18:30:00.000000000",
          "2014-02-08T19:00:00.000000000",
          "2014-02-08T19:30:00.000000000",
          "2014-02-08T20:00:00.000000000",
          "2014-02-08T20:30:00.000000000",
          "2014-02-08T21:00:00.000000000",
          "2014-02-08T21:30:00.000000000",
          "2014-02-08T22:00:00.000000000",
          "2014-02-08T22:30:00.000000000",
          "2014-02-08T23:00:00.000000000",
          "2014-02-08T23:30:00.000000000",
          "2014-02-09T00:00:00.000000000",
          "2014-02-09T00:30:00.000000000",
          "2014-02-09T01:00:00.000000000",
          "2014-02-09T01:30:00.000000000",
          "2014-02-09T02:00:00.000000000",
          "2014-02-09T02:30:00.000000000",
          "2014-02-09T03:00:00.000000000",
          "2014-02-09T03:30:00.000000000",
          "2014-02-09T04:00:00.000000000",
          "2014-02-09T04:30:00.000000000",
          "2014-02-09T05:00:00.000000000",
          "2014-02-09T05:30:00.000000000",
          "2014-02-09T06:00:00.000000000",
          "2014-02-09T06:30:00.000000000",
          "2014-02-09T07:00:00.000000000",
          "2014-02-09T07:30:00.000000000",
          "2014-02-09T08:00:00.000000000",
          "2014-02-09T08:30:00.000000000",
          "2014-02-09T09:00:00.000000000",
          "2014-02-09T09:30:00.000000000",
          "2014-02-09T10:00:00.000000000",
          "2014-02-09T10:30:00.000000000",
          "2014-02-09T11:00:00.000000000",
          "2014-02-09T11:30:00.000000000",
          "2014-02-09T12:00:00.000000000",
          "2014-02-09T12:30:00.000000000",
          "2014-02-09T13:00:00.000000000",
          "2014-02-09T13:30:00.000000000",
          "2014-02-09T14:00:00.000000000",
          "2014-02-09T14:30:00.000000000",
          "2014-02-09T15:00:00.000000000",
          "2014-02-09T15:30:00.000000000",
          "2014-02-09T16:00:00.000000000",
          "2014-02-09T16:30:00.000000000",
          "2014-02-09T17:00:00.000000000",
          "2014-02-09T17:30:00.000000000",
          "2014-02-09T18:00:00.000000000",
          "2014-02-09T18:30:00.000000000",
          "2014-02-09T19:00:00.000000000",
          "2014-02-09T19:30:00.000000000",
          "2014-02-09T20:00:00.000000000",
          "2014-02-09T20:30:00.000000000",
          "2014-02-09T21:00:00.000000000",
          "2014-02-09T21:30:00.000000000",
          "2014-02-09T22:00:00.000000000",
          "2014-02-09T22:30:00.000000000",
          "2014-02-09T23:00:00.000000000",
          "2014-02-09T23:30:00.000000000",
          "2014-02-10T00:00:00.000000000",
          "2014-02-10T00:30:00.000000000",
          "2014-02-10T01:00:00.000000000",
          "2014-02-10T01:30:00.000000000",
          "2014-02-10T02:00:00.000000000",
          "2014-02-10T02:30:00.000000000",
          "2014-02-10T03:00:00.000000000",
          "2014-02-10T03:30:00.000000000",
          "2014-02-10T04:00:00.000000000",
          "2014-02-10T04:30:00.000000000",
          "2014-02-10T05:00:00.000000000",
          "2014-02-10T05:30:00.000000000",
          "2014-02-10T06:00:00.000000000",
          "2014-02-10T06:30:00.000000000",
          "2014-02-10T07:00:00.000000000",
          "2014-02-10T07:30:00.000000000",
          "2014-02-10T08:00:00.000000000",
          "2014-02-10T08:30:00.000000000",
          "2014-02-10T09:00:00.000000000",
          "2014-02-10T09:30:00.000000000",
          "2014-02-10T10:00:00.000000000",
          "2014-02-10T10:30:00.000000000",
          "2014-02-10T11:00:00.000000000",
          "2014-02-10T11:30:00.000000000",
          "2014-02-10T12:00:00.000000000",
          "2014-02-10T12:30:00.000000000",
          "2014-02-10T13:00:00.000000000",
          "2014-02-10T13:30:00.000000000",
          "2014-02-10T14:00:00.000000000",
          "2014-02-10T14:30:00.000000000",
          "2014-02-10T15:00:00.000000000",
          "2014-02-10T15:30:00.000000000",
          "2014-02-10T16:00:00.000000000",
          "2014-02-10T16:30:00.000000000",
          "2014-02-10T17:00:00.000000000",
          "2014-02-10T17:30:00.000000000",
          "2014-02-10T18:00:00.000000000",
          "2014-02-10T18:30:00.000000000",
          "2014-02-10T19:00:00.000000000",
          "2014-02-10T19:30:00.000000000",
          "2014-02-10T20:00:00.000000000",
          "2014-02-10T20:30:00.000000000",
          "2014-02-10T21:00:00.000000000",
          "2014-02-10T21:30:00.000000000",
          "2014-02-10T22:00:00.000000000",
          "2014-02-10T22:30:00.000000000",
          "2014-02-10T23:00:00.000000000",
          "2014-02-10T23:30:00.000000000",
          "2014-02-11T00:00:00.000000000",
          "2014-02-11T00:30:00.000000000",
          "2014-02-11T01:00:00.000000000",
          "2014-02-11T01:30:00.000000000",
          "2014-02-11T02:00:00.000000000",
          "2014-02-11T02:30:00.000000000",
          "2014-02-11T03:00:00.000000000",
          "2014-02-11T03:30:00.000000000",
          "2014-02-11T04:00:00.000000000",
          "2014-02-11T04:30:00.000000000",
          "2014-02-11T05:00:00.000000000",
          "2014-02-11T05:30:00.000000000",
          "2014-02-11T06:00:00.000000000",
          "2014-02-11T06:30:00.000000000",
          "2014-02-11T07:00:00.000000000",
          "2014-02-11T07:30:00.000000000",
          "2014-02-11T08:00:00.000000000",
          "2014-02-11T08:30:00.000000000",
          "2014-02-11T09:00:00.000000000",
          "2014-02-11T09:30:00.000000000",
          "2014-02-11T10:00:00.000000000",
          "2014-02-11T10:30:00.000000000",
          "2014-02-11T11:00:00.000000000",
          "2014-02-11T11:30:00.000000000",
          "2014-02-11T12:00:00.000000000",
          "2014-02-11T12:30:00.000000000",
          "2014-02-11T13:00:00.000000000",
          "2014-02-11T13:30:00.000000000",
          "2014-02-11T14:00:00.000000000",
          "2014-02-11T14:30:00.000000000",
          "2014-02-11T15:00:00.000000000",
          "2014-02-11T15:30:00.000000000",
          "2014-02-11T16:00:00.000000000",
          "2014-02-11T16:30:00.000000000",
          "2014-02-11T17:00:00.000000000",
          "2014-02-11T17:30:00.000000000",
          "2014-02-11T18:00:00.000000000",
          "2014-02-11T18:30:00.000000000",
          "2014-02-11T19:00:00.000000000",
          "2014-02-11T19:30:00.000000000",
          "2014-02-11T20:00:00.000000000",
          "2014-02-11T20:30:00.000000000",
          "2014-02-11T21:00:00.000000000",
          "2014-02-11T21:30:00.000000000",
          "2014-02-11T22:00:00.000000000",
          "2014-02-11T22:30:00.000000000",
          "2014-02-11T23:00:00.000000000",
          "2014-02-11T23:30:00.000000000",
          "2014-02-12T00:00:00.000000000",
          "2014-02-12T00:30:00.000000000",
          "2014-02-12T01:00:00.000000000",
          "2014-02-12T01:30:00.000000000",
          "2014-02-12T02:00:00.000000000",
          "2014-02-12T02:30:00.000000000",
          "2014-02-12T03:00:00.000000000",
          "2014-02-12T03:30:00.000000000",
          "2014-02-12T04:00:00.000000000",
          "2014-02-12T04:30:00.000000000",
          "2014-02-12T05:00:00.000000000",
          "2014-02-12T05:30:00.000000000",
          "2014-02-12T06:00:00.000000000",
          "2014-02-12T06:30:00.000000000",
          "2014-02-12T07:00:00.000000000",
          "2014-02-12T07:30:00.000000000",
          "2014-02-12T08:00:00.000000000",
          "2014-02-12T08:30:00.000000000",
          "2014-02-12T09:00:00.000000000",
          "2014-02-12T09:30:00.000000000",
          "2014-02-12T10:00:00.000000000",
          "2014-02-12T10:30:00.000000000",
          "2014-02-12T11:00:00.000000000",
          "2014-02-12T11:30:00.000000000",
          "2014-02-12T12:00:00.000000000",
          "2014-02-12T12:30:00.000000000",
          "2014-02-12T13:00:00.000000000",
          "2014-02-12T13:30:00.000000000",
          "2014-02-12T14:00:00.000000000",
          "2014-02-12T14:30:00.000000000",
          "2014-02-12T15:00:00.000000000",
          "2014-02-12T15:30:00.000000000",
          "2014-02-12T16:00:00.000000000",
          "2014-02-12T16:30:00.000000000",
          "2014-02-12T17:00:00.000000000",
          "2014-02-12T17:30:00.000000000",
          "2014-02-12T18:00:00.000000000",
          "2014-02-12T18:30:00.000000000",
          "2014-02-12T19:00:00.000000000",
          "2014-02-12T19:30:00.000000000",
          "2014-02-12T20:00:00.000000000",
          "2014-02-12T20:30:00.000000000",
          "2014-02-12T21:00:00.000000000",
          "2014-02-12T21:30:00.000000000",
          "2014-02-12T22:00:00.000000000",
          "2014-02-12T22:30:00.000000000",
          "2014-02-12T23:00:00.000000000",
          "2014-02-12T23:30:00.000000000",
          "2014-02-13T00:00:00.000000000",
          "2014-02-13T00:30:00.000000000",
          "2014-02-13T01:00:00.000000000",
          "2014-02-13T01:30:00.000000000",
          "2014-02-13T02:00:00.000000000",
          "2014-02-13T02:30:00.000000000",
          "2014-02-13T03:00:00.000000000",
          "2014-02-13T03:30:00.000000000",
          "2014-02-13T04:00:00.000000000",
          "2014-02-13T04:30:00.000000000",
          "2014-02-13T05:00:00.000000000",
          "2014-02-13T05:30:00.000000000",
          "2014-02-13T06:00:00.000000000",
          "2014-02-13T06:30:00.000000000",
          "2014-02-13T07:00:00.000000000",
          "2014-02-13T07:30:00.000000000",
          "2014-02-13T08:00:00.000000000",
          "2014-02-13T08:30:00.000000000",
          "2014-02-13T09:00:00.000000000",
          "2014-02-13T09:30:00.000000000",
          "2014-02-13T10:00:00.000000000",
          "2014-02-13T10:30:00.000000000",
          "2014-02-13T11:00:00.000000000",
          "2014-02-13T11:30:00.000000000",
          "2014-02-13T12:00:00.000000000",
          "2014-02-13T12:30:00.000000000",
          "2014-02-13T13:00:00.000000000",
          "2014-02-13T13:30:00.000000000",
          "2014-02-13T14:00:00.000000000",
          "2014-02-13T14:30:00.000000000",
          "2014-02-13T15:00:00.000000000",
          "2014-02-13T15:30:00.000000000",
          "2014-02-13T16:00:00.000000000",
          "2014-02-13T16:30:00.000000000",
          "2014-02-13T17:00:00.000000000",
          "2014-02-13T17:30:00.000000000",
          "2014-02-13T18:00:00.000000000",
          "2014-02-13T18:30:00.000000000",
          "2014-02-13T19:00:00.000000000",
          "2014-02-13T19:30:00.000000000",
          "2014-02-13T20:00:00.000000000",
          "2014-02-13T20:30:00.000000000",
          "2014-02-13T21:00:00.000000000",
          "2014-02-13T21:30:00.000000000",
          "2014-02-13T22:00:00.000000000",
          "2014-02-13T22:30:00.000000000",
          "2014-02-13T23:00:00.000000000",
          "2014-02-13T23:30:00.000000000",
          "2014-02-14T00:00:00.000000000",
          "2014-02-14T00:30:00.000000000",
          "2014-02-14T01:00:00.000000000",
          "2014-02-14T01:30:00.000000000",
          "2014-02-14T02:00:00.000000000",
          "2014-02-14T02:30:00.000000000",
          "2014-02-14T03:00:00.000000000",
          "2014-02-14T03:30:00.000000000",
          "2014-02-14T04:00:00.000000000",
          "2014-02-14T04:30:00.000000000",
          "2014-02-14T05:00:00.000000000",
          "2014-02-14T05:30:00.000000000",
          "2014-02-14T06:00:00.000000000",
          "2014-02-14T06:30:00.000000000",
          "2014-02-14T07:00:00.000000000",
          "2014-02-14T07:30:00.000000000",
          "2014-02-14T08:00:00.000000000",
          "2014-02-14T08:30:00.000000000",
          "2014-02-14T09:00:00.000000000",
          "2014-02-14T09:30:00.000000000",
          "2014-02-14T10:00:00.000000000",
          "2014-02-14T10:30:00.000000000",
          "2014-02-14T11:00:00.000000000",
          "2014-02-14T11:30:00.000000000",
          "2014-02-14T12:00:00.000000000",
          "2014-02-14T12:30:00.000000000",
          "2014-02-14T13:00:00.000000000",
          "2014-02-14T13:30:00.000000000",
          "2014-02-14T14:00:00.000000000",
          "2014-02-14T14:30:00.000000000",
          "2014-02-14T15:00:00.000000000",
          "2014-02-14T15:30:00.000000000",
          "2014-02-14T16:00:00.000000000",
          "2014-02-14T16:30:00.000000000",
          "2014-02-14T17:00:00.000000000",
          "2014-02-14T17:30:00.000000000",
          "2014-02-14T18:00:00.000000000",
          "2014-02-14T18:30:00.000000000",
          "2014-02-14T19:00:00.000000000",
          "2014-02-14T19:30:00.000000000",
          "2014-02-14T20:00:00.000000000",
          "2014-02-14T20:30:00.000000000",
          "2014-02-14T21:00:00.000000000",
          "2014-02-14T21:30:00.000000000",
          "2014-02-14T22:00:00.000000000",
          "2014-02-14T22:30:00.000000000",
          "2014-02-14T23:00:00.000000000",
          "2014-02-14T23:30:00.000000000",
          "2014-02-15T00:00:00.000000000",
          "2014-02-15T00:30:00.000000000",
          "2014-02-15T01:00:00.000000000",
          "2014-02-15T01:30:00.000000000",
          "2014-02-15T02:00:00.000000000",
          "2014-02-15T02:30:00.000000000",
          "2014-02-15T03:00:00.000000000",
          "2014-02-15T03:30:00.000000000",
          "2014-02-15T04:00:00.000000000",
          "2014-02-15T04:30:00.000000000",
          "2014-02-15T05:00:00.000000000",
          "2014-02-15T05:30:00.000000000",
          "2014-02-15T06:00:00.000000000",
          "2014-02-15T06:30:00.000000000",
          "2014-02-15T07:00:00.000000000",
          "2014-02-15T07:30:00.000000000",
          "2014-02-15T08:00:00.000000000",
          "2014-02-15T08:30:00.000000000",
          "2014-02-15T09:00:00.000000000",
          "2014-02-15T09:30:00.000000000",
          "2014-02-15T10:00:00.000000000",
          "2014-02-15T10:30:00.000000000",
          "2014-02-15T11:00:00.000000000",
          "2014-02-15T11:30:00.000000000",
          "2014-02-15T12:00:00.000000000",
          "2014-02-15T12:30:00.000000000",
          "2014-02-15T13:00:00.000000000",
          "2014-02-15T13:30:00.000000000",
          "2014-02-15T14:00:00.000000000",
          "2014-02-15T14:30:00.000000000",
          "2014-02-15T15:00:00.000000000",
          "2014-02-15T15:30:00.000000000",
          "2014-02-15T16:00:00.000000000",
          "2014-02-15T16:30:00.000000000",
          "2014-02-15T17:00:00.000000000",
          "2014-02-15T17:30:00.000000000",
          "2014-02-15T18:00:00.000000000",
          "2014-02-15T18:30:00.000000000",
          "2014-02-15T19:00:00.000000000",
          "2014-02-15T19:30:00.000000000",
          "2014-02-15T20:00:00.000000000",
          "2014-02-15T20:30:00.000000000",
          "2014-02-15T21:00:00.000000000",
          "2014-02-15T21:30:00.000000000",
          "2014-02-15T22:00:00.000000000",
          "2014-02-15T22:30:00.000000000",
          "2014-02-15T23:00:00.000000000",
          "2014-02-15T23:30:00.000000000",
          "2014-02-16T00:00:00.000000000",
          "2014-02-16T00:30:00.000000000",
          "2014-02-16T01:00:00.000000000",
          "2014-02-16T01:30:00.000000000",
          "2014-02-16T02:00:00.000000000",
          "2014-02-16T02:30:00.000000000",
          "2014-02-16T03:00:00.000000000",
          "2014-02-16T03:30:00.000000000",
          "2014-02-16T04:00:00.000000000",
          "2014-02-16T04:30:00.000000000",
          "2014-02-16T05:00:00.000000000",
          "2014-02-16T05:30:00.000000000",
          "2014-02-16T06:00:00.000000000",
          "2014-02-16T06:30:00.000000000",
          "2014-02-16T07:00:00.000000000",
          "2014-02-16T07:30:00.000000000",
          "2014-02-16T08:00:00.000000000",
          "2014-02-16T08:30:00.000000000",
          "2014-02-16T09:00:00.000000000",
          "2014-02-16T09:30:00.000000000",
          "2014-02-16T10:00:00.000000000",
          "2014-02-16T10:30:00.000000000",
          "2014-02-16T11:00:00.000000000",
          "2014-02-16T11:30:00.000000000",
          "2014-02-16T12:00:00.000000000",
          "2014-02-16T12:30:00.000000000",
          "2014-02-16T13:00:00.000000000",
          "2014-02-16T13:30:00.000000000",
          "2014-02-16T14:00:00.000000000",
          "2014-02-16T14:30:00.000000000",
          "2014-02-16T15:00:00.000000000",
          "2014-02-16T15:30:00.000000000",
          "2014-02-16T16:00:00.000000000",
          "2014-02-16T16:30:00.000000000",
          "2014-02-16T17:00:00.000000000",
          "2014-02-16T17:30:00.000000000",
          "2014-02-16T18:00:00.000000000",
          "2014-02-16T18:30:00.000000000",
          "2014-02-16T19:00:00.000000000",
          "2014-02-16T19:30:00.000000000",
          "2014-02-16T20:00:00.000000000",
          "2014-02-16T20:30:00.000000000",
          "2014-02-16T21:00:00.000000000",
          "2014-02-16T21:30:00.000000000",
          "2014-02-16T22:00:00.000000000",
          "2014-02-16T22:30:00.000000000",
          "2014-02-16T23:00:00.000000000",
          "2014-02-16T23:30:00.000000000",
          "2014-02-17T00:00:00.000000000",
          "2014-02-17T00:30:00.000000000",
          "2014-02-17T01:00:00.000000000",
          "2014-02-17T01:30:00.000000000",
          "2014-02-17T02:00:00.000000000",
          "2014-02-17T02:30:00.000000000",
          "2014-02-17T03:00:00.000000000",
          "2014-02-17T03:30:00.000000000",
          "2014-02-17T04:00:00.000000000",
          "2014-02-17T04:30:00.000000000",
          "2014-02-17T05:00:00.000000000",
          "2014-02-17T05:30:00.000000000",
          "2014-02-17T06:00:00.000000000",
          "2014-02-17T06:30:00.000000000",
          "2014-02-17T07:00:00.000000000",
          "2014-02-17T07:30:00.000000000",
          "2014-02-17T08:00:00.000000000",
          "2014-02-17T08:30:00.000000000",
          "2014-02-17T09:00:00.000000000",
          "2014-02-17T09:30:00.000000000",
          "2014-02-17T10:00:00.000000000",
          "2014-02-17T10:30:00.000000000",
          "2014-02-17T11:00:00.000000000",
          "2014-02-17T11:30:00.000000000",
          "2014-02-17T12:00:00.000000000",
          "2014-02-17T12:30:00.000000000",
          "2014-02-17T13:00:00.000000000",
          "2014-02-17T13:30:00.000000000",
          "2014-02-17T14:00:00.000000000",
          "2014-02-17T14:30:00.000000000",
          "2014-02-17T15:00:00.000000000",
          "2014-02-17T15:30:00.000000000",
          "2014-02-17T16:00:00.000000000",
          "2014-02-17T16:30:00.000000000",
          "2014-02-17T17:00:00.000000000",
          "2014-02-17T17:30:00.000000000",
          "2014-02-17T18:00:00.000000000",
          "2014-02-17T18:30:00.000000000",
          "2014-02-17T19:00:00.000000000",
          "2014-02-17T19:30:00.000000000",
          "2014-02-17T20:00:00.000000000",
          "2014-02-17T20:30:00.000000000",
          "2014-02-17T21:00:00.000000000",
          "2014-02-17T21:30:00.000000000",
          "2014-02-17T22:00:00.000000000",
          "2014-02-17T22:30:00.000000000",
          "2014-02-17T23:00:00.000000000",
          "2014-02-17T23:30:00.000000000",
          "2014-02-18T00:00:00.000000000",
          "2014-02-18T00:30:00.000000000",
          "2014-02-18T01:00:00.000000000",
          "2014-02-18T01:30:00.000000000",
          "2014-02-18T02:00:00.000000000",
          "2014-02-18T02:30:00.000000000",
          "2014-02-18T03:00:00.000000000",
          "2014-02-18T03:30:00.000000000",
          "2014-02-18T04:00:00.000000000",
          "2014-02-18T04:30:00.000000000",
          "2014-02-18T05:00:00.000000000",
          "2014-02-18T05:30:00.000000000",
          "2014-02-18T06:00:00.000000000",
          "2014-02-18T06:30:00.000000000",
          "2014-02-18T07:00:00.000000000",
          "2014-02-18T07:30:00.000000000",
          "2014-02-18T08:00:00.000000000",
          "2014-02-18T08:30:00.000000000",
          "2014-02-18T09:00:00.000000000",
          "2014-02-18T09:30:00.000000000",
          "2014-02-18T10:00:00.000000000",
          "2014-02-18T10:30:00.000000000",
          "2014-02-18T11:00:00.000000000",
          "2014-02-18T11:30:00.000000000",
          "2014-02-18T12:00:00.000000000",
          "2014-02-18T12:30:00.000000000",
          "2014-02-18T13:00:00.000000000",
          "2014-02-18T13:30:00.000000000",
          "2014-02-18T14:00:00.000000000",
          "2014-02-18T14:30:00.000000000",
          "2014-02-18T15:00:00.000000000",
          "2014-02-18T15:30:00.000000000",
          "2014-02-18T16:00:00.000000000",
          "2014-02-18T16:30:00.000000000",
          "2014-02-18T17:00:00.000000000",
          "2014-02-18T17:30:00.000000000",
          "2014-02-18T18:00:00.000000000",
          "2014-02-18T18:30:00.000000000",
          "2014-02-18T19:00:00.000000000",
          "2014-02-18T19:30:00.000000000",
          "2014-02-18T20:00:00.000000000",
          "2014-02-18T20:30:00.000000000",
          "2014-02-18T21:00:00.000000000",
          "2014-02-18T21:30:00.000000000",
          "2014-02-18T22:00:00.000000000",
          "2014-02-18T22:30:00.000000000",
          "2014-02-18T23:00:00.000000000",
          "2014-02-18T23:30:00.000000000",
          "2014-02-19T00:00:00.000000000",
          "2014-02-19T00:30:00.000000000",
          "2014-02-19T01:00:00.000000000",
          "2014-02-19T01:30:00.000000000",
          "2014-02-19T02:00:00.000000000",
          "2014-02-19T02:30:00.000000000",
          "2014-02-19T03:00:00.000000000",
          "2014-02-19T03:30:00.000000000",
          "2014-02-19T04:00:00.000000000",
          "2014-02-19T04:30:00.000000000",
          "2014-02-19T05:00:00.000000000",
          "2014-02-19T05:30:00.000000000",
          "2014-02-19T06:00:00.000000000",
          "2014-02-19T06:30:00.000000000",
          "2014-02-19T07:00:00.000000000",
          "2014-02-19T07:30:00.000000000",
          "2014-02-19T08:00:00.000000000",
          "2014-02-19T08:30:00.000000000",
          "2014-02-19T09:00:00.000000000",
          "2014-02-19T09:30:00.000000000",
          "2014-02-19T10:00:00.000000000",
          "2014-02-19T10:30:00.000000000",
          "2014-02-19T11:00:00.000000000",
          "2014-02-19T11:30:00.000000000",
          "2014-02-19T12:00:00.000000000",
          "2014-02-19T12:30:00.000000000",
          "2014-02-19T13:00:00.000000000",
          "2014-02-19T13:30:00.000000000",
          "2014-02-19T14:00:00.000000000",
          "2014-02-19T14:30:00.000000000",
          "2014-02-19T15:00:00.000000000",
          "2014-02-19T15:30:00.000000000",
          "2014-02-19T16:00:00.000000000",
          "2014-02-19T16:30:00.000000000",
          "2014-02-19T17:00:00.000000000",
          "2014-02-19T17:30:00.000000000",
          "2014-02-19T18:00:00.000000000",
          "2014-02-19T18:30:00.000000000",
          "2014-02-19T19:00:00.000000000",
          "2014-02-19T19:30:00.000000000",
          "2014-02-19T20:00:00.000000000",
          "2014-02-19T20:30:00.000000000",
          "2014-02-19T21:00:00.000000000",
          "2014-02-19T21:30:00.000000000",
          "2014-02-19T22:00:00.000000000",
          "2014-02-19T22:30:00.000000000",
          "2014-02-19T23:00:00.000000000",
          "2014-02-19T23:30:00.000000000",
          "2014-02-20T00:00:00.000000000",
          "2014-02-20T00:30:00.000000000",
          "2014-02-20T01:00:00.000000000",
          "2014-02-20T01:30:00.000000000",
          "2014-02-20T02:00:00.000000000",
          "2014-02-20T02:30:00.000000000",
          "2014-02-20T03:00:00.000000000",
          "2014-02-20T03:30:00.000000000",
          "2014-02-20T04:00:00.000000000",
          "2014-02-20T04:30:00.000000000",
          "2014-02-20T05:00:00.000000000",
          "2014-02-20T05:30:00.000000000",
          "2014-02-20T06:00:00.000000000",
          "2014-02-20T06:30:00.000000000",
          "2014-02-20T07:00:00.000000000",
          "2014-02-20T07:30:00.000000000",
          "2014-02-20T08:00:00.000000000",
          "2014-02-20T08:30:00.000000000",
          "2014-02-20T09:00:00.000000000",
          "2014-02-20T09:30:00.000000000",
          "2014-02-20T10:00:00.000000000",
          "2014-02-20T10:30:00.000000000",
          "2014-02-20T11:00:00.000000000",
          "2014-02-20T11:30:00.000000000",
          "2014-02-20T12:00:00.000000000",
          "2014-02-20T12:30:00.000000000",
          "2014-02-20T13:00:00.000000000",
          "2014-02-20T13:30:00.000000000",
          "2014-02-20T14:00:00.000000000",
          "2014-02-20T14:30:00.000000000",
          "2014-02-20T15:00:00.000000000",
          "2014-02-20T15:30:00.000000000",
          "2014-02-20T16:00:00.000000000",
          "2014-02-20T16:30:00.000000000",
          "2014-02-20T17:00:00.000000000",
          "2014-02-20T17:30:00.000000000",
          "2014-02-20T18:00:00.000000000",
          "2014-02-20T18:30:00.000000000",
          "2014-02-20T19:00:00.000000000",
          "2014-02-20T19:30:00.000000000",
          "2014-02-20T20:00:00.000000000",
          "2014-02-20T20:30:00.000000000",
          "2014-02-20T21:00:00.000000000",
          "2014-02-20T21:30:00.000000000",
          "2014-02-20T22:00:00.000000000",
          "2014-02-20T22:30:00.000000000",
          "2014-02-20T23:00:00.000000000",
          "2014-02-20T23:30:00.000000000",
          "2014-02-21T00:00:00.000000000",
          "2014-02-21T00:30:00.000000000",
          "2014-02-21T01:00:00.000000000",
          "2014-02-21T01:30:00.000000000",
          "2014-02-21T02:00:00.000000000",
          "2014-02-21T02:30:00.000000000",
          "2014-02-21T03:00:00.000000000",
          "2014-02-21T03:30:00.000000000",
          "2014-02-21T04:00:00.000000000",
          "2014-02-21T04:30:00.000000000",
          "2014-02-21T05:00:00.000000000",
          "2014-02-21T05:30:00.000000000",
          "2014-02-21T06:00:00.000000000",
          "2014-02-21T06:30:00.000000000",
          "2014-02-21T07:00:00.000000000",
          "2014-02-21T07:30:00.000000000",
          "2014-02-21T08:00:00.000000000",
          "2014-02-21T08:30:00.000000000",
          "2014-02-21T09:00:00.000000000",
          "2014-02-21T09:30:00.000000000",
          "2014-02-21T10:00:00.000000000",
          "2014-02-21T10:30:00.000000000",
          "2014-02-21T11:00:00.000000000",
          "2014-02-21T11:30:00.000000000",
          "2014-02-21T12:00:00.000000000",
          "2014-02-21T12:30:00.000000000",
          "2014-02-21T13:00:00.000000000",
          "2014-02-21T13:30:00.000000000",
          "2014-02-21T14:00:00.000000000",
          "2014-02-21T14:30:00.000000000",
          "2014-02-21T15:00:00.000000000",
          "2014-02-21T15:30:00.000000000",
          "2014-02-21T16:00:00.000000000",
          "2014-02-21T16:30:00.000000000",
          "2014-02-21T17:00:00.000000000",
          "2014-02-21T17:30:00.000000000",
          "2014-02-21T18:00:00.000000000",
          "2014-02-21T18:30:00.000000000",
          "2014-02-21T19:00:00.000000000",
          "2014-02-21T19:30:00.000000000",
          "2014-02-21T20:00:00.000000000",
          "2014-02-21T20:30:00.000000000",
          "2014-02-21T21:00:00.000000000",
          "2014-02-21T21:30:00.000000000",
          "2014-02-21T22:00:00.000000000",
          "2014-02-21T22:30:00.000000000",
          "2014-02-21T23:00:00.000000000",
          "2014-02-21T23:30:00.000000000",
          "2014-02-22T00:00:00.000000000",
          "2014-02-22T00:30:00.000000000",
          "2014-02-22T01:00:00.000000000",
          "2014-02-22T01:30:00.000000000",
          "2014-02-22T02:00:00.000000000",
          "2014-02-22T02:30:00.000000000",
          "2014-02-22T03:00:00.000000000",
          "2014-02-22T03:30:00.000000000",
          "2014-02-22T04:00:00.000000000",
          "2014-02-22T04:30:00.000000000",
          "2014-02-22T05:00:00.000000000",
          "2014-02-22T05:30:00.000000000",
          "2014-02-22T06:00:00.000000000",
          "2014-02-22T06:30:00.000000000",
          "2014-02-22T07:00:00.000000000",
          "2014-02-22T07:30:00.000000000",
          "2014-02-22T08:00:00.000000000",
          "2014-02-22T08:30:00.000000000",
          "2014-02-22T09:00:00.000000000",
          "2014-02-22T09:30:00.000000000",
          "2014-02-22T10:00:00.000000000",
          "2014-02-22T10:30:00.000000000",
          "2014-02-22T11:00:00.000000000",
          "2014-02-22T11:30:00.000000000",
          "2014-02-22T12:00:00.000000000",
          "2014-02-22T12:30:00.000000000",
          "2014-02-22T13:00:00.000000000",
          "2014-02-22T13:30:00.000000000",
          "2014-02-22T14:00:00.000000000",
          "2014-02-22T14:30:00.000000000",
          "2014-02-22T15:00:00.000000000",
          "2014-02-22T15:30:00.000000000",
          "2014-02-22T16:00:00.000000000",
          "2014-02-22T16:30:00.000000000",
          "2014-02-22T17:00:00.000000000",
          "2014-02-22T17:30:00.000000000",
          "2014-02-22T18:00:00.000000000",
          "2014-02-22T18:30:00.000000000",
          "2014-02-22T19:00:00.000000000",
          "2014-02-22T19:30:00.000000000",
          "2014-02-22T20:00:00.000000000",
          "2014-02-22T20:30:00.000000000",
          "2014-02-22T21:00:00.000000000",
          "2014-02-22T21:30:00.000000000",
          "2014-02-22T22:00:00.000000000",
          "2014-02-22T22:30:00.000000000",
          "2014-02-22T23:00:00.000000000",
          "2014-02-22T23:30:00.000000000",
          "2014-02-23T00:00:00.000000000",
          "2014-02-23T00:30:00.000000000",
          "2014-02-23T01:00:00.000000000",
          "2014-02-23T01:30:00.000000000",
          "2014-02-23T02:00:00.000000000",
          "2014-02-23T02:30:00.000000000",
          "2014-02-23T03:00:00.000000000",
          "2014-02-23T03:30:00.000000000",
          "2014-02-23T04:00:00.000000000",
          "2014-02-23T04:30:00.000000000",
          "2014-02-23T05:00:00.000000000",
          "2014-02-23T05:30:00.000000000",
          "2014-02-23T06:00:00.000000000",
          "2014-02-23T06:30:00.000000000",
          "2014-02-23T07:00:00.000000000",
          "2014-02-23T07:30:00.000000000",
          "2014-02-23T08:00:00.000000000",
          "2014-02-23T08:30:00.000000000",
          "2014-02-23T09:00:00.000000000",
          "2014-02-23T09:30:00.000000000",
          "2014-02-23T10:00:00.000000000",
          "2014-02-23T10:30:00.000000000",
          "2014-02-23T11:00:00.000000000",
          "2014-02-23T11:30:00.000000000",
          "2014-02-23T12:00:00.000000000",
          "2014-02-23T12:30:00.000000000",
          "2014-02-23T13:00:00.000000000",
          "2014-02-23T13:30:00.000000000",
          "2014-02-23T14:00:00.000000000",
          "2014-02-23T14:30:00.000000000",
          "2014-02-23T15:00:00.000000000",
          "2014-02-23T15:30:00.000000000",
          "2014-02-23T16:00:00.000000000",
          "2014-02-23T16:30:00.000000000",
          "2014-02-23T17:00:00.000000000",
          "2014-02-23T17:30:00.000000000",
          "2014-02-23T18:00:00.000000000",
          "2014-02-23T18:30:00.000000000",
          "2014-02-23T19:00:00.000000000",
          "2014-02-23T19:30:00.000000000",
          "2014-02-23T20:00:00.000000000",
          "2014-02-23T20:30:00.000000000",
          "2014-02-23T21:00:00.000000000",
          "2014-02-23T21:30:00.000000000",
          "2014-02-23T22:00:00.000000000",
          "2014-02-23T22:30:00.000000000",
          "2014-02-23T23:00:00.000000000",
          "2014-02-23T23:30:00.000000000",
          "2014-02-24T00:00:00.000000000",
          "2014-02-24T00:30:00.000000000",
          "2014-02-24T01:00:00.000000000",
          "2014-02-24T01:30:00.000000000",
          "2014-02-24T02:00:00.000000000",
          "2014-02-24T02:30:00.000000000",
          "2014-02-24T03:00:00.000000000",
          "2014-02-24T03:30:00.000000000",
          "2014-02-24T04:00:00.000000000",
          "2014-02-24T04:30:00.000000000",
          "2014-02-24T05:00:00.000000000",
          "2014-02-24T05:30:00.000000000",
          "2014-02-24T06:00:00.000000000",
          "2014-02-24T06:30:00.000000000",
          "2014-02-24T07:00:00.000000000",
          "2014-02-24T07:30:00.000000000",
          "2014-02-24T08:00:00.000000000",
          "2014-02-24T08:30:00.000000000",
          "2014-02-24T09:00:00.000000000",
          "2014-02-24T09:30:00.000000000",
          "2014-02-24T10:00:00.000000000",
          "2014-02-24T10:30:00.000000000",
          "2014-02-24T11:00:00.000000000",
          "2014-02-24T11:30:00.000000000",
          "2014-02-24T12:00:00.000000000",
          "2014-02-24T12:30:00.000000000",
          "2014-02-24T13:00:00.000000000",
          "2014-02-24T13:30:00.000000000",
          "2014-02-24T14:00:00.000000000",
          "2014-02-24T14:30:00.000000000",
          "2014-02-24T15:00:00.000000000",
          "2014-02-24T15:30:00.000000000",
          "2014-02-24T16:00:00.000000000",
          "2014-02-24T16:30:00.000000000",
          "2014-02-24T17:00:00.000000000",
          "2014-02-24T17:30:00.000000000",
          "2014-02-24T18:00:00.000000000",
          "2014-02-24T18:30:00.000000000",
          "2014-02-24T19:00:00.000000000",
          "2014-02-24T19:30:00.000000000",
          "2014-02-24T20:00:00.000000000",
          "2014-02-24T20:30:00.000000000",
          "2014-02-24T21:00:00.000000000",
          "2014-02-24T21:30:00.000000000",
          "2014-02-24T22:00:00.000000000",
          "2014-02-24T22:30:00.000000000",
          "2014-02-24T23:00:00.000000000",
          "2014-02-24T23:30:00.000000000",
          "2014-02-25T00:00:00.000000000",
          "2014-02-25T00:30:00.000000000",
          "2014-02-25T01:00:00.000000000",
          "2014-02-25T01:30:00.000000000",
          "2014-02-25T02:00:00.000000000",
          "2014-02-25T02:30:00.000000000",
          "2014-02-25T03:00:00.000000000",
          "2014-02-25T03:30:00.000000000",
          "2014-02-25T04:00:00.000000000",
          "2014-02-25T04:30:00.000000000",
          "2014-02-25T05:00:00.000000000",
          "2014-02-25T05:30:00.000000000",
          "2014-02-25T06:00:00.000000000",
          "2014-02-25T06:30:00.000000000",
          "2014-02-25T07:00:00.000000000",
          "2014-02-25T07:30:00.000000000",
          "2014-02-25T08:00:00.000000000",
          "2014-02-25T08:30:00.000000000",
          "2014-02-25T09:00:00.000000000",
          "2014-02-25T09:30:00.000000000",
          "2014-02-25T10:00:00.000000000",
          "2014-02-25T10:30:00.000000000",
          "2014-02-25T11:00:00.000000000",
          "2014-02-25T11:30:00.000000000",
          "2014-02-25T12:00:00.000000000",
          "2014-02-25T12:30:00.000000000",
          "2014-02-25T13:00:00.000000000",
          "2014-02-25T13:30:00.000000000",
          "2014-02-25T14:00:00.000000000",
          "2014-02-25T14:30:00.000000000",
          "2014-02-25T15:00:00.000000000",
          "2014-02-25T15:30:00.000000000",
          "2014-02-25T16:00:00.000000000",
          "2014-02-25T16:30:00.000000000",
          "2014-02-25T17:00:00.000000000",
          "2014-02-25T17:30:00.000000000",
          "2014-02-25T18:00:00.000000000",
          "2014-02-25T18:30:00.000000000",
          "2014-02-25T19:00:00.000000000",
          "2014-02-25T19:30:00.000000000",
          "2014-02-25T20:00:00.000000000",
          "2014-02-25T20:30:00.000000000",
          "2014-02-25T21:00:00.000000000",
          "2014-02-25T21:30:00.000000000",
          "2014-02-25T22:00:00.000000000",
          "2014-02-25T22:30:00.000000000",
          "2014-02-25T23:00:00.000000000",
          "2014-02-25T23:30:00.000000000",
          "2014-02-26T00:00:00.000000000",
          "2014-02-26T00:30:00.000000000",
          "2014-02-26T01:00:00.000000000",
          "2014-02-26T01:30:00.000000000",
          "2014-02-26T02:00:00.000000000",
          "2014-02-26T02:30:00.000000000",
          "2014-02-26T03:00:00.000000000",
          "2014-02-26T03:30:00.000000000",
          "2014-02-26T04:00:00.000000000",
          "2014-02-26T04:30:00.000000000",
          "2014-02-26T05:00:00.000000000",
          "2014-02-26T05:30:00.000000000",
          "2014-02-26T06:00:00.000000000",
          "2014-02-26T06:30:00.000000000",
          "2014-02-26T07:00:00.000000000",
          "2014-02-26T07:30:00.000000000",
          "2014-02-26T08:00:00.000000000",
          "2014-02-26T08:30:00.000000000",
          "2014-02-26T09:00:00.000000000",
          "2014-02-26T09:30:00.000000000",
          "2014-02-26T10:00:00.000000000",
          "2014-02-26T10:30:00.000000000",
          "2014-02-26T11:00:00.000000000",
          "2014-02-26T11:30:00.000000000",
          "2014-02-26T12:00:00.000000000",
          "2014-02-26T12:30:00.000000000",
          "2014-02-26T13:00:00.000000000",
          "2014-02-26T13:30:00.000000000",
          "2014-02-26T14:00:00.000000000",
          "2014-02-26T14:30:00.000000000",
          "2014-02-26T15:00:00.000000000",
          "2014-02-26T15:30:00.000000000",
          "2014-02-26T16:00:00.000000000",
          "2014-02-26T16:30:00.000000000",
          "2014-02-26T17:00:00.000000000",
          "2014-02-26T17:30:00.000000000",
          "2014-02-26T18:00:00.000000000",
          "2014-02-26T18:30:00.000000000",
          "2014-02-26T19:00:00.000000000",
          "2014-02-26T19:30:00.000000000",
          "2014-02-26T20:00:00.000000000",
          "2014-02-26T20:30:00.000000000",
          "2014-02-26T21:00:00.000000000",
          "2014-02-26T21:30:00.000000000",
          "2014-02-26T22:00:00.000000000",
          "2014-02-26T22:30:00.000000000",
          "2014-02-26T23:00:00.000000000",
          "2014-02-26T23:30:00.000000000",
          "2014-02-27T00:00:00.000000000",
          "2014-02-27T00:30:00.000000000",
          "2014-02-27T01:00:00.000000000",
          "2014-02-27T01:30:00.000000000",
          "2014-02-27T02:00:00.000000000",
          "2014-02-27T02:30:00.000000000",
          "2014-02-27T03:00:00.000000000",
          "2014-02-27T03:30:00.000000000",
          "2014-02-27T04:00:00.000000000",
          "2014-02-27T04:30:00.000000000",
          "2014-02-27T05:00:00.000000000",
          "2014-02-27T05:30:00.000000000",
          "2014-02-27T06:00:00.000000000",
          "2014-02-27T06:30:00.000000000",
          "2014-02-27T07:00:00.000000000",
          "2014-02-27T07:30:00.000000000",
          "2014-02-27T08:00:00.000000000",
          "2014-02-27T08:30:00.000000000",
          "2014-02-27T09:00:00.000000000",
          "2014-02-27T09:30:00.000000000",
          "2014-02-27T10:00:00.000000000",
          "2014-02-27T10:30:00.000000000",
          "2014-02-27T11:00:00.000000000",
          "2014-02-27T11:30:00.000000000",
          "2014-02-27T12:00:00.000000000",
          "2014-02-27T12:30:00.000000000",
          "2014-02-27T13:00:00.000000000",
          "2014-02-27T13:30:00.000000000",
          "2014-02-27T14:00:00.000000000",
          "2014-02-27T14:30:00.000000000",
          "2014-02-27T15:00:00.000000000",
          "2014-02-27T15:30:00.000000000",
          "2014-02-27T16:00:00.000000000",
          "2014-02-27T16:30:00.000000000",
          "2014-02-27T17:00:00.000000000",
          "2014-02-27T17:30:00.000000000",
          "2014-02-27T18:00:00.000000000",
          "2014-02-27T18:30:00.000000000",
          "2014-02-27T19:00:00.000000000",
          "2014-02-27T19:30:00.000000000",
          "2014-02-27T20:00:00.000000000",
          "2014-02-27T20:30:00.000000000",
          "2014-02-27T21:00:00.000000000",
          "2014-02-27T21:30:00.000000000",
          "2014-02-27T22:00:00.000000000",
          "2014-02-27T22:30:00.000000000",
          "2014-02-27T23:00:00.000000000",
          "2014-02-27T23:30:00.000000000"
         ],
         "y": {
          "bdata": "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",
          "dtype": "f8"
         }
        }
       ],
       "layout": {
        "autosize": false,
        "height": 500,
        "legend": {
         "font": {
          "size": 15
         },
         "orientation": "h",
         "title": {},
         "x": 1,
         "xanchor": "right",
         "y": 0.98,
         "yanchor": "bottom"
        },
        "template": {
         "data": {
          "bar": [
           {
            "error_x": {
             "color": "#2a3f5f"
            },
            "error_y": {
             "color": "#2a3f5f"
            },
            "marker": {
             "line": {
              "color": "white",
              "width": 0.5
             },
             "pattern": {
              "fillmode": "overlay",
              "size": 10,
              "solidity": 0.2
             }
            },
            "type": "bar"
           }
          ],
          "barpolar": [
           {
            "marker": {
             "line": {
              "color": "white",
              "width": 0.5
             },
             "pattern": {
              "fillmode": "overlay",
              "size": 10,
              "solidity": 0.2
             }
            },
            "type": "barpolar"
           }
          ],
          "carpet": [
           {
            "aaxis": {
             "endlinecolor": "#2a3f5f",
             "gridcolor": "#C8D4E3",
             "linecolor": "#C8D4E3",
             "minorgridcolor": "#C8D4E3",
             "startlinecolor": "#2a3f5f"
            },
            "baxis": {
             "endlinecolor": "#2a3f5f",
             "gridcolor": "#C8D4E3",
             "linecolor": "#C8D4E3",
             "minorgridcolor": "#C8D4E3",
             "startlinecolor": "#2a3f5f"
            },
            "type": "carpet"
           }
          ],
          "choropleth": [
           {
            "colorbar": {
             "outlinewidth": 0,
             "ticks": ""
            },
            "type": "choropleth"
           }
          ],
          "contour": [
           {
            "colorbar": {
             "outlinewidth": 0,
             "ticks": ""
            },
            "colorscale": [
             [
              0,
              "#0d0887"
             ],
             [
              0.1111111111111111,
              "#46039f"
             ],
             [
              0.2222222222222222,
              "#7201a8"
             ],
             [
              0.3333333333333333,
              "#9c179e"
             ],
             [
              0.4444444444444444,
              "#bd3786"
             ],
             [
              0.5555555555555556,
              "#d8576b"
             ],
             [
              0.6666666666666666,
              "#ed7953"
             ],
             [
              0.7777777777777778,
              "#fb9f3a"
             ],
             [
              0.8888888888888888,
              "#fdca26"
             ],
             [
              1,
              "#f0f921"
             ]
            ],
            "type": "contour"
           }
          ],
          "contourcarpet": [
           {
            "colorbar": {
             "outlinewidth": 0,
             "ticks": ""
            },
            "type": "contourcarpet"
           }
          ],
          "heatmap": [
           {
            "colorbar": {
             "outlinewidth": 0,
             "ticks": ""
            },
            "colorscale": [
             [
              0,
              "#0d0887"
             ],
             [
              0.1111111111111111,
              "#46039f"
             ],
             [
              0.2222222222222222,
              "#7201a8"
             ],
             [
              0.3333333333333333,
              "#9c179e"
             ],
             [
              0.4444444444444444,
              "#bd3786"
             ],
             [
              0.5555555555555556,
              "#d8576b"
             ],
             [
              0.6666666666666666,
              "#ed7953"
             ],
             [
              0.7777777777777778,
              "#fb9f3a"
             ],
             [
              0.8888888888888888,
              "#fdca26"
             ],
             [
              1,
              "#f0f921"
             ]
            ],
            "type": "heatmap"
           }
          ],
          "histogram": [
           {
            "marker": {
             "pattern": {
              "fillmode": "overlay",
              "size": 10,
              "solidity": 0.2
             }
            },
            "type": "histogram"
           }
          ],
          "histogram2d": [
           {
            "colorbar": {
             "outlinewidth": 0,
             "ticks": ""
            },
            "colorscale": [
             [
              0,
              "#0d0887"
             ],
             [
              0.1111111111111111,
              "#46039f"
             ],
             [
              0.2222222222222222,
              "#7201a8"
             ],
             [
              0.3333333333333333,
              "#9c179e"
             ],
             [
              0.4444444444444444,
              "#bd3786"
             ],
             [
              0.5555555555555556,
              "#d8576b"
             ],
             [
              0.6666666666666666,
              "#ed7953"
             ],
             [
              0.7777777777777778,
              "#fb9f3a"
             ],
             [
              0.8888888888888888,
              "#fdca26"
             ],
             [
              1,
              "#f0f921"
             ]
            ],
            "type": "histogram2d"
           }
          ],
          "histogram2dcontour": [
           {
            "colorbar": {
             "outlinewidth": 0,
             "ticks": ""
            },
            "colorscale": [
             [
              0,
              "#0d0887"
             ],
             [
              0.1111111111111111,
              "#46039f"
             ],
             [
              0.2222222222222222,
              "#7201a8"
             ],
             [
              0.3333333333333333,
              "#9c179e"
             ],
             [
              0.4444444444444444,
              "#bd3786"
             ],
             [
              0.5555555555555556,
              "#d8576b"
             ],
             [
              0.6666666666666666,
              "#ed7953"
             ],
             [
              0.7777777777777778,
              "#fb9f3a"
             ],
             [
              0.8888888888888888,
              "#fdca26"
             ],
             [
              1,
              "#f0f921"
             ]
            ],
            "type": "histogram2dcontour"
           }
          ],
          "mesh3d": [
           {
            "colorbar": {
             "outlinewidth": 0,
             "ticks": ""
            },
            "type": "mesh3d"
           }
          ],
          "parcoords": [
           {
            "line": {
             "colorbar": {
              "outlinewidth": 0,
              "ticks": ""
             }
            },
            "type": "parcoords"
           }
          ],
          "pie": [
           {
            "automargin": true,
            "type": "pie"
           }
          ],
          "scatter": [
           {
            "fillpattern": {
             "fillmode": "overlay",
             "size": 10,
             "solidity": 0.2
            },
            "type": "scatter"
           }
          ],
          "scatter3d": [
           {
            "line": {
             "colorbar": {
              "outlinewidth": 0,
              "ticks": ""
             }
            },
            "marker": {
             "colorbar": {
              "outlinewidth": 0,
              "ticks": ""
             }
            },
            "type": "scatter3d"
           }
          ],
          "scattercarpet": [
           {
            "marker": {
             "colorbar": {
              "outlinewidth": 0,
              "ticks": ""
             }
            },
            "type": "scattercarpet"
           }
          ],
          "scattergeo": [
           {
            "marker": {
             "colorbar": {
              "outlinewidth": 0,
              "ticks": ""
             }
            },
            "type": "scattergeo"
           }
          ],
          "scattergl": [
           {
            "marker": {
             "colorbar": {
              "outlinewidth": 0,
              "ticks": ""
             }
            },
            "type": "scattergl"
           }
          ],
          "scattermap": [
           {
            "marker": {
             "colorbar": {
              "outlinewidth": 0,
              "ticks": ""
             }
            },
            "type": "scattermap"
           }
          ],
          "scattermapbox": [
           {
            "marker": {
             "colorbar": {
              "outlinewidth": 0,
              "ticks": ""
             }
            },
            "type": "scattermapbox"
           }
          ],
          "scatterpolar": [
           {
            "marker": {
             "colorbar": {
              "outlinewidth": 0,
              "ticks": ""
             }
            },
            "type": "scatterpolar"
           }
          ],
          "scatterpolargl": [
           {
            "marker": {
             "colorbar": {
              "outlinewidth": 0,
              "ticks": ""
             }
            },
            "type": "scatterpolargl"
           }
          ],
          "scatterternary": [
           {
            "marker": {
             "colorbar": {
              "outlinewidth": 0,
              "ticks": ""
             }
            },
            "type": "scatterternary"
           }
          ],
          "surface": [
           {
            "colorbar": {
             "outlinewidth": 0,
             "ticks": ""
            },
            "colorscale": [
             [
              0,
              "#0d0887"
             ],
             [
              0.1111111111111111,
              "#46039f"
             ],
             [
              0.2222222222222222,
              "#7201a8"
             ],
             [
              0.3333333333333333,
              "#9c179e"
             ],
             [
              0.4444444444444444,
              "#bd3786"
             ],
             [
              0.5555555555555556,
              "#d8576b"
             ],
             [
              0.6666666666666666,
              "#ed7953"
             ],
             [
              0.7777777777777778,
              "#fb9f3a"
             ],
             [
              0.8888888888888888,
              "#fdca26"
             ],
             [
              1,
              "#f0f921"
             ]
            ],
            "type": "surface"
           }
          ],
          "table": [
           {
            "cells": {
             "fill": {
              "color": "#EBF0F8"
             },
             "line": {
              "color": "white"
             }
            },
            "header": {
             "fill": {
              "color": "#C8D4E3"
             },
             "line": {
              "color": "white"
             }
            },
            "type": "table"
           }
          ]
         },
         "layout": {
          "annotationdefaults": {
           "arrowcolor": "#2a3f5f",
           "arrowhead": 0,
           "arrowwidth": 1
          },
          "autotypenumbers": "strict",
          "coloraxis": {
           "colorbar": {
            "outlinewidth": 0,
            "ticks": ""
           }
          },
          "colorscale": {
           "diverging": [
            [
             0,
             "#8e0152"
            ],
            [
             0.1,
             "#c51b7d"
            ],
            [
             0.2,
             "#de77ae"
            ],
            [
             0.3,
             "#f1b6da"
            ],
            [
             0.4,
             "#fde0ef"
            ],
            [
             0.5,
             "#f7f7f7"
            ],
            [
             0.6,
             "#e6f5d0"
            ],
            [
             0.7,
             "#b8e186"
            ],
            [
             0.8,
             "#7fbc41"
            ],
            [
             0.9,
             "#4d9221"
            ],
            [
             1,
             "#276419"
            ]
           ],
           "sequential": [
            [
             0,
             "#0d0887"
            ],
            [
             0.1111111111111111,
             "#46039f"
            ],
            [
             0.2222222222222222,
             "#7201a8"
            ],
            [
             0.3333333333333333,
             "#9c179e"
            ],
            [
             0.4444444444444444,
             "#bd3786"
            ],
            [
             0.5555555555555556,
             "#d8576b"
            ],
            [
             0.6666666666666666,
             "#ed7953"
            ],
            [
             0.7777777777777778,
             "#fb9f3a"
            ],
            [
             0.8888888888888888,
             "#fdca26"
            ],
            [
             1,
             "#f0f921"
            ]
           ],
           "sequentialminus": [
            [
             0,
             "#0d0887"
            ],
            [
             0.1111111111111111,
             "#46039f"
            ],
            [
             0.2222222222222222,
             "#7201a8"
            ],
            [
             0.3333333333333333,
             "#9c179e"
            ],
            [
             0.4444444444444444,
             "#bd3786"
            ],
            [
             0.5555555555555556,
             "#d8576b"
            ],
            [
             0.6666666666666666,
             "#ed7953"
            ],
            [
             0.7777777777777778,
             "#fb9f3a"
            ],
            [
             0.8888888888888888,
             "#fdca26"
            ],
            [
             1,
             "#f0f921"
            ]
           ]
          },
          "colorway": [
           "#636efa",
           "#EF553B",
           "#00cc96",
           "#ab63fa",
           "#FFA15A",
           "#19d3f3",
           "#FF6692",
           "#B6E880",
           "#FF97FF",
           "#FECB52"
          ],
          "font": {
           "color": "#2a3f5f"
          },
          "geo": {
           "bgcolor": "white",
           "lakecolor": "white",
           "landcolor": "white",
           "showlakes": true,
           "showland": true,
           "subunitcolor": "#C8D4E3"
          },
          "hoverlabel": {
           "align": "left"
          },
          "hovermode": "closest",
          "mapbox": {
           "style": "light"
          },
          "paper_bgcolor": "white",
          "plot_bgcolor": "white",
          "polar": {
           "angularaxis": {
            "gridcolor": "#EBF0F8",
            "linecolor": "#EBF0F8",
            "ticks": ""
           },
           "bgcolor": "white",
           "radialaxis": {
            "gridcolor": "#EBF0F8",
            "linecolor": "#EBF0F8",
            "ticks": ""
           }
          },
          "scene": {
           "xaxis": {
            "backgroundcolor": "white",
            "gridcolor": "#DFE8F3",
            "gridwidth": 2,
            "linecolor": "#EBF0F8",
            "showbackground": true,
            "ticks": "",
            "zerolinecolor": "#EBF0F8"
           },
           "yaxis": {
            "backgroundcolor": "white",
            "gridcolor": "#DFE8F3",
            "gridwidth": 2,
            "linecolor": "#EBF0F8",
            "showbackground": true,
            "ticks": "",
            "zerolinecolor": "#EBF0F8"
           },
           "zaxis": {
            "backgroundcolor": "white",
            "gridcolor": "#DFE8F3",
            "gridwidth": 2,
            "linecolor": "#EBF0F8",
            "showbackground": true,
            "ticks": "",
            "zerolinecolor": "#EBF0F8"
           }
          },
          "shapedefaults": {
           "line": {
            "color": "#2a3f5f"
           }
          },
          "ternary": {
           "aaxis": {
            "gridcolor": "#DFE8F3",
            "linecolor": "#A2B1C6",
            "ticks": ""
           },
           "baxis": {
            "gridcolor": "#DFE8F3",
            "linecolor": "#A2B1C6",
            "ticks": ""
           },
           "bgcolor": "white",
           "caxis": {
            "gridcolor": "#DFE8F3",
            "linecolor": "#A2B1C6",
            "ticks": ""
           }
          },
          "title": {
           "x": 0.05
          },
          "xaxis": {
           "automargin": true,
           "gridcolor": "#EBF0F8",
           "linecolor": "#EBF0F8",
           "ticks": "",
           "title": {
            "standoff": 15
           },
           "zerolinecolor": "#EBF0F8",
           "zerolinewidth": 2
          },
          "yaxis": {
           "automargin": true,
           "gridcolor": "#EBF0F8",
           "linecolor": "#EBF0F8",
           "ticks": "",
           "title": {
            "standoff": 15
           },
           "zerolinecolor": "#EBF0F8",
           "zerolinewidth": 2
          }
         }
        },
        "title": {
         "text": "ARIMA: MSE: 0.0149 | RMSE: 0.1220 | MAE: 0.0658 | BIAS: 24.2023"
        },
        "width": 900,
        "xaxis": {
         "range": [
          "2014-02-01",
          "2014-02-08"
         ],
         "tickfont": {
          "size": 15
         },
         "title": {
          "font": {
           "size": 15
          },
          "text": "Day"
         },
         "type": "date"
        },
        "yaxis": {
         "tickfont": {
          "size": 15
         },
         "title": {
          "font": {
           "size": 15
          },
          "text": "Value"
         }
        }
       }
      }
     },
     "metadata": {},
     "output_type": "display_data"
    }
   ],
   "source": [
    "## ARIMA\n",
    "model_name = ['ARIMA']\n",
    "model_display_name = ['ARIMA']\n",
    "\n",
    "fig = plot_forecast(ts_baseline_test_pred_df, forecast_columns=model_name, forecast_display_names=model_display_name, timestamp_col ='timestamp')\n",
    "fig = format_plot(fig)\n",
    "fig.update_layout(\n",
    "    title=f\"{model_name[0]}: \"\\\n",
    "          f\"MSE: {ts_aggtest_metrics.loc[ts_aggtest_metrics.Model==model_name[0]][['mean_squared_error']].iloc[0].item():.4f} | \"\\\n",
    "          f\"RMSE: {ts_aggtest_metrics.loc[ts_aggtest_metrics.Model==model_name[0]][['root_mean_squared_error']].iloc[0].item():.4f} | \"\\\n",
    "          f\"MAE: {ts_aggtest_metrics.loc[ts_aggtest_metrics.Model==model_name[0]][['mean_absolute_error']].iloc[0].item():.4f} | \"\\\n",
    "          f\"BIAS: {ts_aggtest_metrics.loc[ts_aggtest_metrics.Model==model_name[0]][['forecast_bias']].iloc[0].item():.4f}\"\n",
    ")\n",
    "fig.update_xaxes(type=\"date\", range=[\"2014-02-01\", \"2014-02-08\"])\n",
    "fig.write_image(dst_img/\"arima.png\")\n",
    "fig.show()"
   ]
  },
  {
   "cell_type": "code",
   "execution_count": null,
   "id": "0948a927",
   "metadata": {},
   "outputs": [],
   "source": [
    "baseline_test_pred_df.to_pickle(dst_result/\"baseline_test_prediction_df.pkl\")\n",
    "baseline_test_metrics_df.to_pickle(dst_result/\"baseline_test_metrics_df.pkl\")\n",
    "aggtest_metrics.to_pickle(dst_result/\"baseline_test_aggregate_metrics.pkl\")"
   ]
  }
 ],
 "metadata": {
  "kernelspec": {
   "display_name": ".venv",
   "language": "python",
   "name": "python3"
  },
  "language_info": {
   "codemirror_mode": {
    "name": "ipython",
    "version": 3
   },
   "file_extension": ".py",
   "mimetype": "text/x-python",
   "name": "python",
   "nbconvert_exporter": "python",
   "pygments_lexer": "ipython3",
   "version": "3.12.3"
  }
 },
 "nbformat": 4,
 "nbformat_minor": 5
}
