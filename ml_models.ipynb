{
 "cells": [
  {
   "cell_type": "code",
   "execution_count": null,
   "id": "6509b365",
   "metadata": {},
   "outputs": [
    {
     "name": "stderr",
     "output_type": "stream",
     "text": [
      "/home/hien/Work/AI/london_smart_meters/.venv/lib/python3.12/site-packages/tqdm/auto.py:21: TqdmWarning: IProgress not found. Please update jupyter and ipywidgets. See https://ipywidgets.readthedocs.io/en/stable/user_install.html\n",
      "  from .autonotebook import tqdm as notebook_tqdm\n"
     ]
    }
   ],
   "source": [
    "from lib.model_utils import FeatureConfig, ModelConfig, evaluate_model, MissingValueConfig, forecast_bias, plot_forecast\n",
    "from lib.feature_engineering_utils import LogTime\n",
    "from lib.utils import format_plot\n",
    "from sklearn.metrics import mean_absolute_error as mae\n",
    "from sklearn.metrics import root_mean_squared_error as rmse\n",
    "from sklearn.metrics import mean_squared_error as mse\n",
    "import numpy as np\n",
    "import pandas as pd\n",
    "import plotly.express as px\n",
    "import warnings\n",
    "from pathlib import Path\n",
    "from sklearn.linear_model import LassoCV\n",
    "from xgboost import XGBRFRegressor\n",
    "from lightgbm import LGBMRegressor\n",
    "from tqdm.autonotebook import tqdm\n",
    "import plotly.io as pio\n",
    "pio.templates.default = \"plotly_white\"\n",
    "np.random.seed(42)\n",
    "tqdm.pandas()"
   ]
  },
  {
   "cell_type": "code",
   "execution_count": null,
   "id": "d4210883",
   "metadata": {},
   "outputs": [
    {
     "name": "stdout",
     "output_type": "stream",
     "text": [
      "/home/hien/Work\n"
     ]
    }
   ],
   "source": [
    "%cd ../..\n",
    "project_folder = Path(\"AI/london_smart_meters\")\n",
    "source_data = project_folder/\"data\"\n",
    "preprocessed_data = project_folder/\"output\"/\"preprocessed_data\"\n",
    "dst_img = project_folder/\"output\"/\"img\"\n",
    "dst_result = project_folder/\"output\"/\"result\""
   ]
  },
  {
   "cell_type": "code",
   "execution_count": null,
   "id": "75ecefe0",
   "metadata": {},
   "outputs": [],
   "source": [
    "train_df = pd.read_parquet(preprocessed_data/\"selected_blocks_train_missing_imputed_feature_engg.parquet\")\n",
    "val_df = pd.read_parquet(preprocessed_data/\"selected_blocks_val_missing_imputed_feature_engg.parquet\")\n",
    "test_df = pd.read_parquet(preprocessed_data/\"selected_blocks_test_missing_imputed_feature_engg.parquet\")"
   ]
  },
  {
   "cell_type": "code",
   "execution_count": null,
   "id": "7cfffd44",
   "metadata": {},
   "outputs": [],
   "source": [
    "baseline_metrics_df = pd.read_pickle(dst_result/\"baseline_test_metrics_df.pkl\")\n",
    "baseline_aggregate_metrics_df = pd.read_pickle(dst_result/\"baseline_test_aggregate_metrics.pkl\")"
   ]
  },
  {
   "cell_type": "code",
   "execution_count": 5,
   "id": "b53d5e24",
   "metadata": {},
   "outputs": [
    {
     "data": {
      "text/html": [
       "<div>\n",
       "<style scoped>\n",
       "    .dataframe tbody tr th:only-of-type {\n",
       "        vertical-align: middle;\n",
       "    }\n",
       "\n",
       "    .dataframe tbody tr th {\n",
       "        vertical-align: top;\n",
       "    }\n",
       "\n",
       "    .dataframe thead th {\n",
       "        text-align: right;\n",
       "    }\n",
       "</style>\n",
       "<table border=\"1\" class=\"dataframe\">\n",
       "  <thead>\n",
       "    <tr style=\"text-align: right;\">\n",
       "      <th></th>\n",
       "      <th>Algorithm</th>\n",
       "      <th>MSE</th>\n",
       "      <th>RMSE</th>\n",
       "      <th>MAE</th>\n",
       "      <th>Forecast Bias</th>\n",
       "    </tr>\n",
       "  </thead>\n",
       "  <tbody>\n",
       "    <tr>\n",
       "      <th>0</th>\n",
       "      <td>AutoETS</td>\n",
       "      <td>0.058671</td>\n",
       "      <td>0.242221</td>\n",
       "      <td>0.119127</td>\n",
       "      <td>-10.707988</td>\n",
       "    </tr>\n",
       "    <tr>\n",
       "      <th>1</th>\n",
       "      <td>ARIMA</td>\n",
       "      <td>0.069428</td>\n",
       "      <td>0.263492</td>\n",
       "      <td>0.132783</td>\n",
       "      <td>-13.314743</td>\n",
       "    </tr>\n",
       "  </tbody>\n",
       "</table>\n",
       "</div>"
      ],
      "text/plain": [
       "  Algorithm       MSE      RMSE       MAE  Forecast Bias\n",
       "0   AutoETS  0.058671  0.242221  0.119127     -10.707988\n",
       "1     ARIMA  0.069428  0.263492  0.132783     -13.314743"
      ]
     },
     "execution_count": 5,
     "metadata": {},
     "output_type": "execute_result"
    }
   ],
   "source": [
    "baseline_metrics_df"
   ]
  },
  {
   "cell_type": "code",
   "execution_count": 6,
   "id": "9085c5b0",
   "metadata": {},
   "outputs": [
    {
     "data": {
      "text/html": [
       "<div>\n",
       "<style scoped>\n",
       "    .dataframe tbody tr th:only-of-type {\n",
       "        vertical-align: middle;\n",
       "    }\n",
       "\n",
       "    .dataframe tbody tr th {\n",
       "        vertical-align: top;\n",
       "    }\n",
       "\n",
       "    .dataframe thead th {\n",
       "        text-align: right;\n",
       "    }\n",
       "</style>\n",
       "<table border=\"1\" class=\"dataframe\">\n",
       "  <thead>\n",
       "    <tr style=\"text-align: right;\">\n",
       "      <th></th>\n",
       "      <th>mean_absolute_error</th>\n",
       "      <th>mean_squared_error</th>\n",
       "      <th>root_mean_squared_error</th>\n",
       "      <th>forecast_bias</th>\n",
       "      <th>LCLid</th>\n",
       "      <th>Time Elapsed</th>\n",
       "      <th>Model</th>\n",
       "    </tr>\n",
       "  </thead>\n",
       "  <tbody>\n",
       "    <tr>\n",
       "      <th>0</th>\n",
       "      <td>0.063103</td>\n",
       "      <td>0.014058</td>\n",
       "      <td>0.118568</td>\n",
       "      <td>13.096588</td>\n",
       "      <td>MAC003069</td>\n",
       "      <td>333.531509</td>\n",
       "      <td>AutoETS</td>\n",
       "    </tr>\n",
       "    <tr>\n",
       "      <th>1</th>\n",
       "      <td>0.031380</td>\n",
       "      <td>0.002216</td>\n",
       "      <td>0.047077</td>\n",
       "      <td>-17.411985</td>\n",
       "      <td>MAC002220</td>\n",
       "      <td>333.531509</td>\n",
       "      <td>AutoETS</td>\n",
       "    </tr>\n",
       "    <tr>\n",
       "      <th>2</th>\n",
       "      <td>0.118270</td>\n",
       "      <td>0.054404</td>\n",
       "      <td>0.233246</td>\n",
       "      <td>-11.551055</td>\n",
       "      <td>MAC004338</td>\n",
       "      <td>333.531509</td>\n",
       "      <td>AutoETS</td>\n",
       "    </tr>\n",
       "    <tr>\n",
       "      <th>3</th>\n",
       "      <td>0.049294</td>\n",
       "      <td>0.009882</td>\n",
       "      <td>0.099409</td>\n",
       "      <td>-1.060129</td>\n",
       "      <td>MAC001807</td>\n",
       "      <td>333.531509</td>\n",
       "      <td>AutoETS</td>\n",
       "    </tr>\n",
       "    <tr>\n",
       "      <th>4</th>\n",
       "      <td>0.088535</td>\n",
       "      <td>0.028487</td>\n",
       "      <td>0.168780</td>\n",
       "      <td>22.990714</td>\n",
       "      <td>MAC001985</td>\n",
       "      <td>333.531509</td>\n",
       "      <td>AutoETS</td>\n",
       "    </tr>\n",
       "    <tr>\n",
       "      <th>...</th>\n",
       "      <td>...</td>\n",
       "      <td>...</td>\n",
       "      <td>...</td>\n",
       "      <td>...</td>\n",
       "      <td>...</td>\n",
       "      <td>...</td>\n",
       "      <td>...</td>\n",
       "    </tr>\n",
       "    <tr>\n",
       "      <th>365</th>\n",
       "      <td>0.133915</td>\n",
       "      <td>0.049777</td>\n",
       "      <td>0.223108</td>\n",
       "      <td>26.121258</td>\n",
       "      <td>MAC003784</td>\n",
       "      <td>915.781631</td>\n",
       "      <td>ARIMA</td>\n",
       "    </tr>\n",
       "    <tr>\n",
       "      <th>366</th>\n",
       "      <td>0.094975</td>\n",
       "      <td>0.034475</td>\n",
       "      <td>0.185676</td>\n",
       "      <td>19.601429</td>\n",
       "      <td>MAC001453</td>\n",
       "      <td>915.781631</td>\n",
       "      <td>ARIMA</td>\n",
       "    </tr>\n",
       "    <tr>\n",
       "      <th>367</th>\n",
       "      <td>0.055108</td>\n",
       "      <td>0.012946</td>\n",
       "      <td>0.113781</td>\n",
       "      <td>2.460679</td>\n",
       "      <td>MAC000909</td>\n",
       "      <td>915.781631</td>\n",
       "      <td>ARIMA</td>\n",
       "    </tr>\n",
       "    <tr>\n",
       "      <th>368</th>\n",
       "      <td>0.174382</td>\n",
       "      <td>0.063694</td>\n",
       "      <td>0.252378</td>\n",
       "      <td>35.041399</td>\n",
       "      <td>MAC002235</td>\n",
       "      <td>915.781631</td>\n",
       "      <td>ARIMA</td>\n",
       "    </tr>\n",
       "    <tr>\n",
       "      <th>369</th>\n",
       "      <td>0.068288</td>\n",
       "      <td>0.010258</td>\n",
       "      <td>0.101281</td>\n",
       "      <td>-13.744077</td>\n",
       "      <td>MAC002745</td>\n",
       "      <td>915.781631</td>\n",
       "      <td>ARIMA</td>\n",
       "    </tr>\n",
       "  </tbody>\n",
       "</table>\n",
       "<p>370 rows × 7 columns</p>\n",
       "</div>"
      ],
      "text/plain": [
       "     mean_absolute_error  mean_squared_error  root_mean_squared_error  \\\n",
       "0               0.063103            0.014058                 0.118568   \n",
       "1               0.031380            0.002216                 0.047077   \n",
       "2               0.118270            0.054404                 0.233246   \n",
       "3               0.049294            0.009882                 0.099409   \n",
       "4               0.088535            0.028487                 0.168780   \n",
       "..                   ...                 ...                      ...   \n",
       "365             0.133915            0.049777                 0.223108   \n",
       "366             0.094975            0.034475                 0.185676   \n",
       "367             0.055108            0.012946                 0.113781   \n",
       "368             0.174382            0.063694                 0.252378   \n",
       "369             0.068288            0.010258                 0.101281   \n",
       "\n",
       "     forecast_bias      LCLid  Time Elapsed    Model  \n",
       "0        13.096588  MAC003069    333.531509  AutoETS  \n",
       "1       -17.411985  MAC002220    333.531509  AutoETS  \n",
       "2       -11.551055  MAC004338    333.531509  AutoETS  \n",
       "3        -1.060129  MAC001807    333.531509  AutoETS  \n",
       "4        22.990714  MAC001985    333.531509  AutoETS  \n",
       "..             ...        ...           ...      ...  \n",
       "365      26.121258  MAC003784    915.781631    ARIMA  \n",
       "366      19.601429  MAC001453    915.781631    ARIMA  \n",
       "367       2.460679  MAC000909    915.781631    ARIMA  \n",
       "368      35.041399  MAC002235    915.781631    ARIMA  \n",
       "369     -13.744077  MAC002745    915.781631    ARIMA  \n",
       "\n",
       "[370 rows x 7 columns]"
      ]
     },
     "execution_count": 6,
     "metadata": {},
     "output_type": "execute_result"
    }
   ],
   "source": [
    "baseline_aggregate_metrics_df"
   ]
  },
  {
   "cell_type": "code",
   "execution_count": 7,
   "id": "1588a9b7",
   "metadata": {},
   "outputs": [
    {
     "data": {
      "text/plain": [
       "185"
      ]
     },
     "execution_count": 7,
     "metadata": {},
     "output_type": "execute_result"
    }
   ],
   "source": [
    "train_df = pd.concat([train_df, val_df])\n",
    "del val_df\n",
    "len(train_df.LCLid.unique())"
   ]
  },
  {
   "cell_type": "code",
   "execution_count": 8,
   "id": "1469e8d8",
   "metadata": {},
   "outputs": [
    {
     "data": {
      "text/plain": [
       "Index(['timestamp', 'LCLid', 'frequency', 'timestamp_Week', 'series_length',\n",
       "       'stdorToU', 'Acorn', 'Acorn_grouped', 'file', 'holidays', 'visibility',\n",
       "       'windBearing', 'temperature', 'dewPoint', 'pressure',\n",
       "       'apparentTemperature', 'windSpeed', 'precipType', 'icon', 'humidity',\n",
       "       'summary', 'hour', 'weekday', 'day_hourly_profile',\n",
       "       'energy_consumption', 'energy_consumption_lag_1',\n",
       "       'energy_consumption_lag_2', 'energy_consumption_lag_3',\n",
       "       'energy_consumption_lag_4', 'energy_consumption_lag_5',\n",
       "       'energy_consumption_lag_46', 'energy_consumption_lag_47',\n",
       "       'energy_consumption_lag_48', 'energy_consumption_lag_49',\n",
       "       'energy_consumption_lag_50', 'energy_consumption_lag_334',\n",
       "       'energy_consumption_lag_335', 'energy_consumption_lag_336',\n",
       "       'energy_consumption_lag_337', 'energy_consumption_lag_338',\n",
       "       'timestamp_Month', 'timestamp_Quarter', 'timestamp_Is_quarter_end',\n",
       "       'timestamp_Is_quarter_start', 'timestamp_Is_year_end',\n",
       "       'timestamp_Is_year_start', 'timestamp_Is_month_start', 'timestamp_Day',\n",
       "       'timestamp_Dayofweek', 'timestamp_Dayofyear', 'timestamp_Hour',\n",
       "       'timestamp_Minute', 'timestamp_Elapsed'],\n",
       "      dtype='object')"
      ]
     },
     "execution_count": 8,
     "metadata": {},
     "output_type": "execute_result"
    }
   ],
   "source": [
    "train_df.columns"
   ]
  },
  {
   "cell_type": "markdown",
   "id": "2057ba62",
   "metadata": {},
   "source": [
    "# Defining Columns Data"
   ]
  },
  {
   "cell_type": "code",
   "execution_count": 9,
   "id": "52f1eedc",
   "metadata": {},
   "outputs": [],
   "source": [
    "feat_config = FeatureConfig(\n",
    "    date=\"timestamp\",\n",
    "    target=\"energy_consumption\",\n",
    "    continuous_features=[\n",
    "        \"visibility\",\n",
    "        \"windBearing\",\n",
    "        \"temperature\",\n",
    "        \"dewPoint\",\n",
    "        \"pressure\",\n",
    "        \"apparentTemperature\",\n",
    "        \"windSpeed\",\n",
    "        \"humidity\",\n",
    "        \"energy_consumption_lag_1\",\n",
    "        \"energy_consumption_lag_2\",\n",
    "        \"energy_consumption_lag_3\",\n",
    "        \"energy_consumption_lag_4\",\n",
    "        \"energy_consumption_lag_5\",\n",
    "        \"energy_consumption_lag_46\",\n",
    "        \"energy_consumption_lag_47\",\n",
    "        \"energy_consumption_lag_48\",\n",
    "        \"energy_consumption_lag_49\",\n",
    "        \"energy_consumption_lag_50\",\n",
    "        \"energy_consumption_lag_334\",\n",
    "        \"energy_consumption_lag_335\",\n",
    "        \"energy_consumption_lag_336\",\n",
    "        \"energy_consumption_lag_337\",\n",
    "        \"energy_consumption_lag_338\",\n",
    "        \"timestamp_Elapsed\",\n",
    "        \"day_hourly_profile\",\n",
    "    ],\n",
    "    categorical_features=[\n",
    "        \"holidays\",\n",
    "        \"precipType\",\n",
    "        \"icon\",\n",
    "        \"summary\",\n",
    "        \"timestamp_Month\",\n",
    "        \"timestamp_Quarter\",\n",
    "        \"timestamp_Week\",\n",
    "        \"timestamp_Day\",\n",
    "        \"timestamp_Dayofweek\",\n",
    "        \"timestamp_Dayofyear\",\n",
    "        \"timestamp_Hour\",\n",
    "        \"timestamp_Minute\",\n",
    "        \"weekday\",\n",
    "        \"hour\",\n",
    "    ],\n",
    "    boolean_features=[\n",
    "        \"timestamp_Is_quarter_end\",\n",
    "        \"timestamp_Is_quarter_start\",\n",
    "        \"timestamp_Is_year_end\",\n",
    "        \"timestamp_Is_year_start\",\n",
    "        \"timestamp_Is_month_start\",\n",
    "    ],\n",
    "    index_cols=[\"timestamp\"],\n",
    "    exogenous_features=[\n",
    "        \"holidays\",\n",
    "        \"precipType\",\n",
    "        \"icon\",\n",
    "        \"summary\",\n",
    "        \"visibility\",\n",
    "        \"windBearing\",\n",
    "        \"temperature\",\n",
    "        \"dewPoint\",\n",
    "        \"pressure\",\n",
    "        \"apparentTemperature\",\n",
    "        \"windSpeed\",\n",
    "        \"humidity\",\n",
    "    ],\n",
    ")"
   ]
  },
  {
   "cell_type": "code",
   "execution_count": 10,
   "id": "aba5ca8f",
   "metadata": {},
   "outputs": [
    {
     "data": {
      "text/plain": [
       "pressure                       3844\n",
       "energy_consumption_lag_1        185\n",
       "energy_consumption_lag_2        370\n",
       "energy_consumption_lag_3        555\n",
       "energy_consumption_lag_4        740\n",
       "energy_consumption_lag_5        925\n",
       "energy_consumption_lag_46      8510\n",
       "energy_consumption_lag_47      8695\n",
       "energy_consumption_lag_48      8880\n",
       "energy_consumption_lag_49      9065\n",
       "energy_consumption_lag_50      9250\n",
       "energy_consumption_lag_334    61790\n",
       "energy_consumption_lag_335    61975\n",
       "energy_consumption_lag_336    62160\n",
       "energy_consumption_lag_337    62345\n",
       "energy_consumption_lag_338    62530\n",
       "dtype: int64"
      ]
     },
     "execution_count": 10,
     "metadata": {},
     "output_type": "execute_result"
    }
   ],
   "source": [
    "nc  = train_df.isnull().sum()\n",
    "nc[nc>0]"
   ]
  },
  {
   "cell_type": "code",
   "execution_count": 11,
   "id": "5da0b457",
   "metadata": {},
   "outputs": [
    {
     "data": {
      "text/plain": [
       "Series([], dtype: int64)"
      ]
     },
     "execution_count": 11,
     "metadata": {},
     "output_type": "execute_result"
    }
   ],
   "source": [
    "nc = test_df.isnull().sum()\n",
    "nc[nc>0]"
   ]
  },
  {
   "cell_type": "code",
   "execution_count": 12,
   "id": "d600157a",
   "metadata": {},
   "outputs": [],
   "source": [
    "missing_value_config = MissingValueConfig(\n",
    "    bfill_columns=[\n",
    "        \"pressure\",\n",
    "        \"energy_consumption_lag_1\",\n",
    "        \"energy_consumption_lag_2\",\n",
    "        \"energy_consumption_lag_3\",\n",
    "        \"energy_consumption_lag_4\",\n",
    "        \"energy_consumption_lag_5\",\n",
    "        \"energy_consumption_lag_46\",\n",
    "        \"energy_consumption_lag_47\",\n",
    "        \"energy_consumption_lag_48\",\n",
    "        \"energy_consumption_lag_49\",\n",
    "        \"energy_consumption_lag_50\",\n",
    "        \"energy_consumption_lag_334\",\n",
    "        \"energy_consumption_lag_335\",\n",
    "        \"energy_consumption_lag_336\",\n",
    "        \"energy_consumption_lag_337\",\n",
    "        \"energy_consumption_lag_338\",\n",
    "    ],\n",
    "    ffill_columns=[],\n",
    "    zero_fill_columns=[],\n",
    ")"
   ]
  },
  {
   "cell_type": "markdown",
   "id": "d516a4a2",
   "metadata": {},
   "source": [
    "# ML Forecast"
   ]
  },
  {
   "cell_type": "markdown",
   "id": "ef2b8187",
   "metadata": {},
   "source": [
    "## Training and Evaluating Models"
   ]
  },
  {
   "cell_type": "code",
   "execution_count": 13,
   "id": "7433e6fb",
   "metadata": {},
   "outputs": [],
   "source": [
    "lcl_ids = sorted(train_df.LCLid.unique())\n",
    "models_to_run = [\n",
    "    ModelConfig(\n",
    "        model=LassoCV(), name=\"Lasso Regression\", normalize=True, fill_missing=True\n",
    "    ),\n",
    "    ModelConfig(\n",
    "        model=XGBRFRegressor(random_state=42, max_depth=4),\n",
    "        name=\"XGB Random Forest\",\n",
    "        normalize=False,\n",
    "        fill_missing=False,\n",
    "    ),\n",
    "    ModelConfig(\n",
    "        model=LGBMRegressor(random_state=42),\n",
    "        name=\"LightGBM\",\n",
    "        normalize=False,\n",
    "        fill_missing=False,\n",
    "    ),\n",
    "]"
   ]
  },
  {
   "cell_type": "code",
   "execution_count": 14,
   "id": "ed351f2c",
   "metadata": {},
   "outputs": [
    {
     "name": "stderr",
     "output_type": "stream",
     "text": [
      "  1%|          | 1/185 [00:03<10:23,  3.39s/it]"
     ]
    },
    {
     "name": "stdout",
     "output_type": "stream",
     "text": [
      "[LightGBM] [Warning] Found whitespace in feature_names, replace with underlines\n",
      "[LightGBM] [Info] Auto-choosing row-wise multi-threading, the overhead of testing was 0.002151 seconds.\n",
      "You can set `force_row_wise=true` to remove the overhead.\n",
      "And if memory is not enough, you can set `force_col_wise=true`.\n",
      "[LightGBM] [Info] Total Bins 5465\n",
      "[LightGBM] [Info] Number of data points in the train set: 36576, number of used features: 582\n",
      "[LightGBM] [Info] Start training from score 0.123976\n"
     ]
    },
    {
     "name": "stderr",
     "output_type": "stream",
     "text": [
      "  1%|          | 2/185 [00:06<09:35,  3.14s/it]"
     ]
    },
    {
     "name": "stdout",
     "output_type": "stream",
     "text": [
      "[LightGBM] [Warning] Found whitespace in feature_names, replace with underlines\n",
      "[LightGBM] [Info] Auto-choosing row-wise multi-threading, the overhead of testing was 0.002140 seconds.\n",
      "You can set `force_row_wise=true` to remove the overhead.\n",
      "And if memory is not enough, you can set `force_col_wise=true`.\n",
      "[LightGBM] [Info] Total Bins 5465\n",
      "[LightGBM] [Info] Number of data points in the train set: 36576, number of used features: 582\n",
      "[LightGBM] [Info] Start training from score 0.241508\n"
     ]
    },
    {
     "name": "stderr",
     "output_type": "stream",
     "text": [
      "  2%|▏         | 3/185 [00:09<09:36,  3.17s/it]"
     ]
    },
    {
     "name": "stdout",
     "output_type": "stream",
     "text": [
      "[LightGBM] [Warning] Found whitespace in feature_names, replace with underlines\n",
      "[LightGBM] [Info] Auto-choosing row-wise multi-threading, the overhead of testing was 0.002137 seconds.\n",
      "You can set `force_row_wise=true` to remove the overhead.\n",
      "And if memory is not enough, you can set `force_col_wise=true`.\n",
      "[LightGBM] [Info] Total Bins 5465\n",
      "[LightGBM] [Info] Number of data points in the train set: 36576, number of used features: 582\n",
      "[LightGBM] [Info] Start training from score 0.142304\n"
     ]
    },
    {
     "name": "stderr",
     "output_type": "stream",
     "text": [
      "  2%|▏         | 4/185 [00:12<09:06,  3.02s/it]"
     ]
    },
    {
     "name": "stdout",
     "output_type": "stream",
     "text": [
      "[LightGBM] [Warning] Found whitespace in feature_names, replace with underlines\n",
      "[LightGBM] [Info] Auto-choosing row-wise multi-threading, the overhead of testing was 0.002272 seconds.\n",
      "You can set `force_row_wise=true` to remove the overhead.\n",
      "And if memory is not enough, you can set `force_col_wise=true`.\n",
      "[LightGBM] [Info] Total Bins 5465\n",
      "[LightGBM] [Info] Number of data points in the train set: 36576, number of used features: 582\n",
      "[LightGBM] [Info] Start training from score 0.125183\n"
     ]
    },
    {
     "name": "stderr",
     "output_type": "stream",
     "text": [
      "  3%|▎         | 5/185 [00:15<08:41,  2.90s/it]"
     ]
    },
    {
     "name": "stdout",
     "output_type": "stream",
     "text": [
      "[LightGBM] [Warning] Found whitespace in feature_names, replace with underlines\n",
      "[LightGBM] [Info] Auto-choosing row-wise multi-threading, the overhead of testing was 0.002036 seconds.\n",
      "You can set `force_row_wise=true` to remove the overhead.\n",
      "And if memory is not enough, you can set `force_col_wise=true`.\n",
      "[LightGBM] [Info] Total Bins 5465\n",
      "[LightGBM] [Info] Number of data points in the train set: 36576, number of used features: 582\n",
      "[LightGBM] [Info] Start training from score 0.091176\n"
     ]
    },
    {
     "name": "stderr",
     "output_type": "stream",
     "text": [
      "  3%|▎         | 6/185 [00:17<08:19,  2.79s/it]"
     ]
    },
    {
     "name": "stdout",
     "output_type": "stream",
     "text": [
      "[LightGBM] [Warning] Found whitespace in feature_names, replace with underlines\n",
      "[LightGBM] [Info] Auto-choosing row-wise multi-threading, the overhead of testing was 0.002273 seconds.\n",
      "You can set `force_row_wise=true` to remove the overhead.\n",
      "And if memory is not enough, you can set `force_col_wise=true`.\n",
      "[LightGBM] [Info] Total Bins 5465\n",
      "[LightGBM] [Info] Number of data points in the train set: 36576, number of used features: 582\n",
      "[LightGBM] [Info] Start training from score 0.111390\n"
     ]
    },
    {
     "name": "stderr",
     "output_type": "stream",
     "text": [
      "  4%|▍         | 7/185 [00:20<08:15,  2.78s/it]"
     ]
    },
    {
     "name": "stdout",
     "output_type": "stream",
     "text": [
      "[LightGBM] [Warning] Found whitespace in feature_names, replace with underlines\n",
      "[LightGBM] [Info] Auto-choosing row-wise multi-threading, the overhead of testing was 0.002126 seconds.\n",
      "You can set `force_row_wise=true` to remove the overhead.\n",
      "And if memory is not enough, you can set `force_col_wise=true`.\n",
      "[LightGBM] [Info] Total Bins 5465\n",
      "[LightGBM] [Info] Number of data points in the train set: 36576, number of used features: 582\n",
      "[LightGBM] [Info] Start training from score 0.187698\n"
     ]
    },
    {
     "name": "stderr",
     "output_type": "stream",
     "text": [
      "  4%|▍         | 8/185 [00:23<08:09,  2.77s/it]"
     ]
    },
    {
     "name": "stdout",
     "output_type": "stream",
     "text": [
      "[LightGBM] [Warning] Found whitespace in feature_names, replace with underlines\n",
      "[LightGBM] [Info] Auto-choosing row-wise multi-threading, the overhead of testing was 0.001975 seconds.\n",
      "You can set `force_row_wise=true` to remove the overhead.\n",
      "And if memory is not enough, you can set `force_col_wise=true`.\n",
      "[LightGBM] [Info] Total Bins 5465\n",
      "[LightGBM] [Info] Number of data points in the train set: 36576, number of used features: 582\n",
      "[LightGBM] [Info] Start training from score 0.121169\n"
     ]
    },
    {
     "name": "stderr",
     "output_type": "stream",
     "text": [
      "  5%|▍         | 9/185 [00:25<08:05,  2.76s/it]"
     ]
    },
    {
     "name": "stdout",
     "output_type": "stream",
     "text": [
      "[LightGBM] [Warning] Found whitespace in feature_names, replace with underlines\n",
      "[LightGBM] [Info] Auto-choosing row-wise multi-threading, the overhead of testing was 0.002260 seconds.\n",
      "You can set `force_row_wise=true` to remove the overhead.\n",
      "And if memory is not enough, you can set `force_col_wise=true`.\n",
      "[LightGBM] [Info] Total Bins 5465\n",
      "[LightGBM] [Info] Number of data points in the train set: 36576, number of used features: 582\n",
      "[LightGBM] [Info] Start training from score 0.177112\n"
     ]
    },
    {
     "name": "stderr",
     "output_type": "stream",
     "text": [
      "  5%|▌         | 10/185 [00:28<08:00,  2.74s/it]"
     ]
    },
    {
     "name": "stdout",
     "output_type": "stream",
     "text": [
      "[LightGBM] [Warning] Found whitespace in feature_names, replace with underlines\n",
      "[LightGBM] [Info] Auto-choosing row-wise multi-threading, the overhead of testing was 0.002162 seconds.\n",
      "You can set `force_row_wise=true` to remove the overhead.\n",
      "And if memory is not enough, you can set `force_col_wise=true`.\n",
      "[LightGBM] [Info] Total Bins 5465\n",
      "[LightGBM] [Info] Number of data points in the train set: 36576, number of used features: 582\n",
      "[LightGBM] [Info] Start training from score 0.238831\n"
     ]
    },
    {
     "name": "stderr",
     "output_type": "stream",
     "text": [
      "  6%|▌         | 11/185 [00:31<07:52,  2.72s/it]"
     ]
    },
    {
     "name": "stdout",
     "output_type": "stream",
     "text": [
      "[LightGBM] [Warning] Found whitespace in feature_names, replace with underlines\n",
      "[LightGBM] [Info] Auto-choosing row-wise multi-threading, the overhead of testing was 0.002759 seconds.\n",
      "You can set `force_row_wise=true` to remove the overhead.\n",
      "And if memory is not enough, you can set `force_col_wise=true`.\n",
      "[LightGBM] [Info] Total Bins 5465\n",
      "[LightGBM] [Info] Number of data points in the train set: 36576, number of used features: 582\n",
      "[LightGBM] [Info] Start training from score 0.183594\n"
     ]
    },
    {
     "name": "stderr",
     "output_type": "stream",
     "text": [
      "  6%|▋         | 12/185 [00:34<07:58,  2.77s/it]"
     ]
    },
    {
     "name": "stdout",
     "output_type": "stream",
     "text": [
      "[LightGBM] [Warning] Found whitespace in feature_names, replace with underlines\n",
      "[LightGBM] [Info] Auto-choosing row-wise multi-threading, the overhead of testing was 0.002085 seconds.\n",
      "You can set `force_row_wise=true` to remove the overhead.\n",
      "And if memory is not enough, you can set `force_col_wise=true`.\n",
      "[LightGBM] [Info] Total Bins 5465\n",
      "[LightGBM] [Info] Number of data points in the train set: 36576, number of used features: 582\n",
      "[LightGBM] [Info] Start training from score 0.314808\n"
     ]
    },
    {
     "name": "stderr",
     "output_type": "stream",
     "text": [
      "  7%|▋         | 13/185 [00:36<07:51,  2.74s/it]"
     ]
    },
    {
     "name": "stdout",
     "output_type": "stream",
     "text": [
      "[LightGBM] [Warning] Found whitespace in feature_names, replace with underlines\n",
      "[LightGBM] [Info] Auto-choosing row-wise multi-threading, the overhead of testing was 0.002210 seconds.\n",
      "You can set `force_row_wise=true` to remove the overhead.\n",
      "And if memory is not enough, you can set `force_col_wise=true`.\n",
      "[LightGBM] [Info] Total Bins 5465\n",
      "[LightGBM] [Info] Number of data points in the train set: 36576, number of used features: 582\n",
      "[LightGBM] [Info] Start training from score 0.062565\n"
     ]
    },
    {
     "name": "stderr",
     "output_type": "stream",
     "text": [
      "  8%|▊         | 14/185 [00:39<07:47,  2.73s/it]"
     ]
    },
    {
     "name": "stdout",
     "output_type": "stream",
     "text": [
      "[LightGBM] [Warning] Found whitespace in feature_names, replace with underlines\n",
      "[LightGBM] [Info] Auto-choosing row-wise multi-threading, the overhead of testing was 0.002206 seconds.\n",
      "You can set `force_row_wise=true` to remove the overhead.\n",
      "And if memory is not enough, you can set `force_col_wise=true`.\n",
      "[LightGBM] [Info] Total Bins 5461\n",
      "[LightGBM] [Info] Number of data points in the train set: 33600, number of used features: 580\n",
      "[LightGBM] [Info] Start training from score 0.142091\n"
     ]
    },
    {
     "name": "stderr",
     "output_type": "stream",
     "text": [
      "  8%|▊         | 15/185 [00:42<08:13,  2.90s/it]"
     ]
    },
    {
     "name": "stdout",
     "output_type": "stream",
     "text": [
      "[LightGBM] [Warning] Found whitespace in feature_names, replace with underlines\n",
      "[LightGBM] [Info] Auto-choosing row-wise multi-threading, the overhead of testing was 0.002159 seconds.\n",
      "You can set `force_row_wise=true` to remove the overhead.\n",
      "And if memory is not enough, you can set `force_col_wise=true`.\n",
      "[LightGBM] [Info] Total Bins 5461\n",
      "[LightGBM] [Info] Number of data points in the train set: 33408, number of used features: 580\n",
      "[LightGBM] [Info] Start training from score 0.773916\n"
     ]
    },
    {
     "name": "stderr",
     "output_type": "stream",
     "text": [
      "  9%|▊         | 16/185 [00:45<08:00,  2.84s/it]"
     ]
    },
    {
     "name": "stdout",
     "output_type": "stream",
     "text": [
      "[LightGBM] [Warning] Found whitespace in feature_names, replace with underlines\n",
      "[LightGBM] [Info] Auto-choosing row-wise multi-threading, the overhead of testing was 0.002451 seconds.\n",
      "You can set `force_row_wise=true` to remove the overhead.\n",
      "And if memory is not enough, you can set `force_col_wise=true`.\n",
      "[LightGBM] [Info] Total Bins 5459\n",
      "[LightGBM] [Info] Number of data points in the train set: 31632, number of used features: 579\n",
      "[LightGBM] [Info] Start training from score 0.159130\n"
     ]
    },
    {
     "name": "stderr",
     "output_type": "stream",
     "text": [
      "  9%|▉         | 17/185 [00:47<07:30,  2.68s/it]"
     ]
    },
    {
     "name": "stdout",
     "output_type": "stream",
     "text": [
      "[LightGBM] [Warning] Found whitespace in feature_names, replace with underlines\n",
      "[LightGBM] [Info] Auto-choosing row-wise multi-threading, the overhead of testing was 0.002109 seconds.\n",
      "You can set `force_row_wise=true` to remove the overhead.\n",
      "And if memory is not enough, you can set `force_col_wise=true`.\n",
      "[LightGBM] [Info] Total Bins 5459\n",
      "[LightGBM] [Info] Number of data points in the train set: 31632, number of used features: 579\n",
      "[LightGBM] [Info] Start training from score 0.050126\n"
     ]
    },
    {
     "name": "stderr",
     "output_type": "stream",
     "text": [
      " 10%|▉         | 18/185 [00:50<07:15,  2.61s/it]"
     ]
    },
    {
     "name": "stdout",
     "output_type": "stream",
     "text": [
      "[LightGBM] [Warning] Found whitespace in feature_names, replace with underlines\n",
      "[LightGBM] [Info] Auto-choosing row-wise multi-threading, the overhead of testing was 0.002674 seconds.\n",
      "You can set `force_row_wise=true` to remove the overhead.\n",
      "And if memory is not enough, you can set `force_col_wise=true`.\n",
      "[LightGBM] [Info] Total Bins 5459\n",
      "[LightGBM] [Info] Number of data points in the train set: 31584, number of used features: 579\n",
      "[LightGBM] [Info] Start training from score 0.226788\n"
     ]
    },
    {
     "name": "stderr",
     "output_type": "stream",
     "text": [
      " 10%|█         | 19/185 [00:52<06:56,  2.51s/it]"
     ]
    },
    {
     "name": "stdout",
     "output_type": "stream",
     "text": [
      "[LightGBM] [Warning] Found whitespace in feature_names, replace with underlines\n",
      "[LightGBM] [Info] Auto-choosing row-wise multi-threading, the overhead of testing was 0.002100 seconds.\n",
      "You can set `force_row_wise=true` to remove the overhead.\n",
      "And if memory is not enough, you can set `force_col_wise=true`.\n",
      "[LightGBM] [Info] Total Bins 5459\n",
      "[LightGBM] [Info] Number of data points in the train set: 31536, number of used features: 579\n",
      "[LightGBM] [Info] Start training from score 0.114253\n"
     ]
    },
    {
     "name": "stderr",
     "output_type": "stream",
     "text": [
      " 11%|█         | 20/185 [00:55<07:00,  2.55s/it]"
     ]
    },
    {
     "name": "stdout",
     "output_type": "stream",
     "text": [
      "[LightGBM] [Warning] Found whitespace in feature_names, replace with underlines\n",
      "[LightGBM] [Info] Auto-choosing row-wise multi-threading, the overhead of testing was 0.002305 seconds.\n",
      "You can set `force_row_wise=true` to remove the overhead.\n",
      "And if memory is not enough, you can set `force_col_wise=true`.\n",
      "[LightGBM] [Info] Total Bins 5459\n",
      "[LightGBM] [Info] Number of data points in the train set: 31344, number of used features: 579\n",
      "[LightGBM] [Info] Start training from score 0.171690\n"
     ]
    },
    {
     "name": "stderr",
     "output_type": "stream",
     "text": [
      " 11%|█▏        | 21/185 [00:57<07:01,  2.57s/it]"
     ]
    },
    {
     "name": "stdout",
     "output_type": "stream",
     "text": [
      "[LightGBM] [Warning] Found whitespace in feature_names, replace with underlines\n",
      "[LightGBM] [Info] Auto-choosing row-wise multi-threading, the overhead of testing was 0.002525 seconds.\n",
      "You can set `force_row_wise=true` to remove the overhead.\n",
      "And if memory is not enough, you can set `force_col_wise=true`.\n",
      "[LightGBM] [Info] Total Bins 5459\n",
      "[LightGBM] [Info] Number of data points in the train set: 31296, number of used features: 579\n",
      "[LightGBM] [Info] Start training from score 0.265975\n"
     ]
    },
    {
     "name": "stderr",
     "output_type": "stream",
     "text": [
      " 12%|█▏        | 22/185 [01:00<06:43,  2.48s/it]"
     ]
    },
    {
     "name": "stdout",
     "output_type": "stream",
     "text": [
      "[LightGBM] [Warning] Found whitespace in feature_names, replace with underlines\n",
      "[LightGBM] [Info] Auto-choosing row-wise multi-threading, the overhead of testing was 0.003863 seconds.\n",
      "You can set `force_row_wise=true` to remove the overhead.\n",
      "And if memory is not enough, you can set `force_col_wise=true`.\n",
      "[LightGBM] [Info] Total Bins 5459\n",
      "[LightGBM] [Info] Number of data points in the train set: 31248, number of used features: 579\n",
      "[LightGBM] [Info] Start training from score 0.056068\n"
     ]
    },
    {
     "name": "stderr",
     "output_type": "stream",
     "text": [
      " 12%|█▏        | 23/185 [01:02<06:28,  2.40s/it]"
     ]
    },
    {
     "name": "stdout",
     "output_type": "stream",
     "text": [
      "[LightGBM] [Warning] Found whitespace in feature_names, replace with underlines\n",
      "[LightGBM] [Info] Auto-choosing row-wise multi-threading, the overhead of testing was 0.002111 seconds.\n",
      "You can set `force_row_wise=true` to remove the overhead.\n",
      "And if memory is not enough, you can set `force_col_wise=true`.\n",
      "[LightGBM] [Info] Total Bins 5459\n",
      "[LightGBM] [Info] Number of data points in the train set: 31248, number of used features: 579\n",
      "[LightGBM] [Info] Start training from score 0.052519\n"
     ]
    },
    {
     "name": "stderr",
     "output_type": "stream",
     "text": [
      " 13%|█▎        | 24/185 [01:04<06:25,  2.40s/it]"
     ]
    },
    {
     "name": "stdout",
     "output_type": "stream",
     "text": [
      "[LightGBM] [Warning] Found whitespace in feature_names, replace with underlines\n",
      "[LightGBM] [Info] Auto-choosing row-wise multi-threading, the overhead of testing was 0.002596 seconds.\n",
      "You can set `force_row_wise=true` to remove the overhead.\n",
      "And if memory is not enough, you can set `force_col_wise=true`.\n",
      "[LightGBM] [Info] Total Bins 5459\n",
      "[LightGBM] [Info] Number of data points in the train set: 31248, number of used features: 579\n",
      "[LightGBM] [Info] Start training from score 0.239804\n"
     ]
    },
    {
     "name": "stderr",
     "output_type": "stream",
     "text": [
      " 14%|█▎        | 25/185 [01:07<06:24,  2.40s/it]"
     ]
    },
    {
     "name": "stdout",
     "output_type": "stream",
     "text": [
      "[LightGBM] [Warning] Found whitespace in feature_names, replace with underlines\n",
      "[LightGBM] [Info] Auto-choosing row-wise multi-threading, the overhead of testing was 0.002338 seconds.\n",
      "You can set `force_row_wise=true` to remove the overhead.\n",
      "And if memory is not enough, you can set `force_col_wise=true`.\n",
      "[LightGBM] [Info] Total Bins 5459\n",
      "[LightGBM] [Info] Number of data points in the train set: 31008, number of used features: 579\n",
      "[LightGBM] [Info] Start training from score 0.093293\n"
     ]
    },
    {
     "name": "stderr",
     "output_type": "stream",
     "text": [
      " 14%|█▍        | 26/185 [01:09<06:42,  2.53s/it]"
     ]
    },
    {
     "name": "stdout",
     "output_type": "stream",
     "text": [
      "[LightGBM] [Warning] Found whitespace in feature_names, replace with underlines\n",
      "[LightGBM] [Info] Auto-choosing row-wise multi-threading, the overhead of testing was 0.002444 seconds.\n",
      "You can set `force_row_wise=true` to remove the overhead.\n",
      "And if memory is not enough, you can set `force_col_wise=true`.\n",
      "[LightGBM] [Info] Total Bins 5459\n",
      "[LightGBM] [Info] Number of data points in the train set: 30912, number of used features: 579\n",
      "[LightGBM] [Info] Start training from score 0.386017\n"
     ]
    },
    {
     "name": "stderr",
     "output_type": "stream",
     "text": [
      " 15%|█▍        | 27/185 [01:12<06:27,  2.45s/it]"
     ]
    },
    {
     "name": "stdout",
     "output_type": "stream",
     "text": [
      "[LightGBM] [Warning] Found whitespace in feature_names, replace with underlines\n",
      "[LightGBM] [Info] Auto-choosing row-wise multi-threading, the overhead of testing was 0.002422 seconds.\n",
      "You can set `force_row_wise=true` to remove the overhead.\n",
      "And if memory is not enough, you can set `force_col_wise=true`.\n",
      "[LightGBM] [Info] Total Bins 5459\n",
      "[LightGBM] [Info] Number of data points in the train set: 30912, number of used features: 579\n",
      "[LightGBM] [Info] Start training from score 0.136483\n"
     ]
    },
    {
     "name": "stderr",
     "output_type": "stream",
     "text": [
      " 15%|█▌        | 28/185 [01:14<06:19,  2.42s/it]"
     ]
    },
    {
     "name": "stdout",
     "output_type": "stream",
     "text": [
      "[LightGBM] [Warning] Found whitespace in feature_names, replace with underlines\n",
      "[LightGBM] [Info] Auto-choosing row-wise multi-threading, the overhead of testing was 0.002274 seconds.\n",
      "You can set `force_row_wise=true` to remove the overhead.\n",
      "And if memory is not enough, you can set `force_col_wise=true`.\n",
      "[LightGBM] [Info] Total Bins 5459\n",
      "[LightGBM] [Info] Number of data points in the train set: 30912, number of used features: 579\n",
      "[LightGBM] [Info] Start training from score 0.111640\n"
     ]
    },
    {
     "name": "stderr",
     "output_type": "stream",
     "text": [
      " 16%|█▌        | 29/185 [01:17<06:23,  2.46s/it]"
     ]
    },
    {
     "name": "stdout",
     "output_type": "stream",
     "text": [
      "[LightGBM] [Warning] Found whitespace in feature_names, replace with underlines\n",
      "[LightGBM] [Info] Auto-choosing row-wise multi-threading, the overhead of testing was 0.002295 seconds.\n",
      "You can set `force_row_wise=true` to remove the overhead.\n",
      "And if memory is not enough, you can set `force_col_wise=true`.\n",
      "[LightGBM] [Info] Total Bins 5459\n",
      "[LightGBM] [Info] Number of data points in the train set: 30912, number of used features: 579\n",
      "[LightGBM] [Info] Start training from score 0.144379\n"
     ]
    },
    {
     "name": "stderr",
     "output_type": "stream",
     "text": [
      " 16%|█▌        | 30/185 [01:19<06:25,  2.49s/it]"
     ]
    },
    {
     "name": "stdout",
     "output_type": "stream",
     "text": [
      "[LightGBM] [Warning] Found whitespace in feature_names, replace with underlines\n",
      "[LightGBM] [Info] Auto-choosing row-wise multi-threading, the overhead of testing was 0.002136 seconds.\n",
      "You can set `force_row_wise=true` to remove the overhead.\n",
      "And if memory is not enough, you can set `force_col_wise=true`.\n",
      "[LightGBM] [Info] Total Bins 5459\n",
      "[LightGBM] [Info] Number of data points in the train set: 30720, number of used features: 579\n",
      "[LightGBM] [Info] Start training from score 0.096968\n"
     ]
    },
    {
     "name": "stderr",
     "output_type": "stream",
     "text": [
      " 17%|█▋        | 31/185 [01:22<06:23,  2.49s/it]"
     ]
    },
    {
     "name": "stdout",
     "output_type": "stream",
     "text": [
      "[LightGBM] [Warning] Found whitespace in feature_names, replace with underlines\n",
      "[LightGBM] [Info] Auto-choosing row-wise multi-threading, the overhead of testing was 0.002067 seconds.\n",
      "You can set `force_row_wise=true` to remove the overhead.\n",
      "And if memory is not enough, you can set `force_col_wise=true`.\n",
      "[LightGBM] [Info] Total Bins 5459\n",
      "[LightGBM] [Info] Number of data points in the train set: 30720, number of used features: 579\n",
      "[LightGBM] [Info] Start training from score 0.267383\n"
     ]
    },
    {
     "name": "stderr",
     "output_type": "stream",
     "text": [
      " 17%|█▋        | 32/185 [01:24<06:16,  2.46s/it]"
     ]
    },
    {
     "name": "stdout",
     "output_type": "stream",
     "text": [
      "[LightGBM] [Warning] Found whitespace in feature_names, replace with underlines\n",
      "[LightGBM] [Info] Auto-choosing row-wise multi-threading, the overhead of testing was 0.002320 seconds.\n",
      "You can set `force_row_wise=true` to remove the overhead.\n",
      "And if memory is not enough, you can set `force_col_wise=true`.\n",
      "[LightGBM] [Info] Total Bins 5459\n",
      "[LightGBM] [Info] Number of data points in the train set: 30672, number of used features: 579\n",
      "[LightGBM] [Info] Start training from score 0.623033\n"
     ]
    },
    {
     "name": "stderr",
     "output_type": "stream",
     "text": [
      " 18%|█▊        | 33/185 [01:26<06:02,  2.38s/it]"
     ]
    },
    {
     "name": "stdout",
     "output_type": "stream",
     "text": [
      "[LightGBM] [Warning] Found whitespace in feature_names, replace with underlines\n",
      "[LightGBM] [Info] Auto-choosing row-wise multi-threading, the overhead of testing was 0.001902 seconds.\n",
      "You can set `force_row_wise=true` to remove the overhead.\n",
      "And if memory is not enough, you can set `force_col_wise=true`.\n",
      "[LightGBM] [Info] Total Bins 5459\n",
      "[LightGBM] [Info] Number of data points in the train set: 30672, number of used features: 579\n",
      "[LightGBM] [Info] Start training from score 0.082048\n"
     ]
    },
    {
     "name": "stderr",
     "output_type": "stream",
     "text": [
      " 18%|█▊        | 34/185 [01:29<05:56,  2.36s/it]"
     ]
    },
    {
     "name": "stdout",
     "output_type": "stream",
     "text": [
      "[LightGBM] [Warning] Found whitespace in feature_names, replace with underlines\n",
      "[LightGBM] [Info] Auto-choosing row-wise multi-threading, the overhead of testing was 0.001653 seconds.\n",
      "You can set `force_row_wise=true` to remove the overhead.\n",
      "And if memory is not enough, you can set `force_col_wise=true`.\n",
      "[LightGBM] [Info] Total Bins 5457\n",
      "[LightGBM] [Info] Number of data points in the train set: 30384, number of used features: 578\n",
      "[LightGBM] [Info] Start training from score 0.304167\n"
     ]
    },
    {
     "name": "stderr",
     "output_type": "stream",
     "text": [
      " 19%|█▉        | 35/185 [01:31<05:51,  2.34s/it]"
     ]
    },
    {
     "name": "stdout",
     "output_type": "stream",
     "text": [
      "[LightGBM] [Warning] Found whitespace in feature_names, replace with underlines\n",
      "[LightGBM] [Info] Auto-choosing row-wise multi-threading, the overhead of testing was 0.002018 seconds.\n",
      "You can set `force_row_wise=true` to remove the overhead.\n",
      "And if memory is not enough, you can set `force_col_wise=true`.\n",
      "[LightGBM] [Info] Total Bins 5457\n",
      "[LightGBM] [Info] Number of data points in the train set: 30336, number of used features: 578\n",
      "[LightGBM] [Info] Start training from score 0.143884\n"
     ]
    },
    {
     "name": "stderr",
     "output_type": "stream",
     "text": [
      " 19%|█▉        | 36/185 [01:33<05:48,  2.34s/it]"
     ]
    },
    {
     "name": "stdout",
     "output_type": "stream",
     "text": [
      "[LightGBM] [Warning] Found whitespace in feature_names, replace with underlines\n",
      "[LightGBM] [Info] Auto-choosing row-wise multi-threading, the overhead of testing was 0.001859 seconds.\n",
      "You can set `force_row_wise=true` to remove the overhead.\n",
      "And if memory is not enough, you can set `force_col_wise=true`.\n",
      "[LightGBM] [Info] Total Bins 5442\n",
      "[LightGBM] [Info] Number of data points in the train set: 30336, number of used features: 578\n",
      "[LightGBM] [Info] Start training from score 0.040443\n"
     ]
    },
    {
     "name": "stderr",
     "output_type": "stream",
     "text": [
      " 20%|██        | 37/185 [01:35<05:44,  2.33s/it]"
     ]
    },
    {
     "name": "stdout",
     "output_type": "stream",
     "text": [
      "[LightGBM] [Warning] Found whitespace in feature_names, replace with underlines\n",
      "[LightGBM] [Info] Auto-choosing row-wise multi-threading, the overhead of testing was 0.000758 seconds.\n",
      "You can set `force_row_wise=true` to remove the overhead.\n",
      "And if memory is not enough, you can set `force_col_wise=true`.\n",
      "[LightGBM] [Info] Total Bins 5457\n",
      "[LightGBM] [Info] Number of data points in the train set: 30096, number of used features: 578\n",
      "[LightGBM] [Info] Start training from score 0.156841\n"
     ]
    },
    {
     "name": "stderr",
     "output_type": "stream",
     "text": [
      " 21%|██        | 38/185 [01:38<05:38,  2.30s/it]"
     ]
    },
    {
     "name": "stdout",
     "output_type": "stream",
     "text": [
      "[LightGBM] [Warning] Found whitespace in feature_names, replace with underlines\n",
      "[LightGBM] [Info] Auto-choosing row-wise multi-threading, the overhead of testing was 0.000754 seconds.\n",
      "You can set `force_row_wise=true` to remove the overhead.\n",
      "And if memory is not enough, you can set `force_col_wise=true`.\n",
      "[LightGBM] [Info] Total Bins 5457\n",
      "[LightGBM] [Info] Number of data points in the train set: 30096, number of used features: 578\n",
      "[LightGBM] [Info] Start training from score 0.191859\n"
     ]
    },
    {
     "name": "stderr",
     "output_type": "stream",
     "text": [
      " 21%|██        | 39/185 [01:40<05:41,  2.34s/it]"
     ]
    },
    {
     "name": "stdout",
     "output_type": "stream",
     "text": [
      "[LightGBM] [Warning] Found whitespace in feature_names, replace with underlines\n",
      "[LightGBM] [Info] Auto-choosing row-wise multi-threading, the overhead of testing was 0.000742 seconds.\n",
      "You can set `force_row_wise=true` to remove the overhead.\n",
      "And if memory is not enough, you can set `force_col_wise=true`.\n",
      "[LightGBM] [Info] Total Bins 5457\n",
      "[LightGBM] [Info] Number of data points in the train set: 30096, number of used features: 578\n",
      "[LightGBM] [Info] Start training from score 0.210011\n"
     ]
    },
    {
     "name": "stderr",
     "output_type": "stream",
     "text": [
      " 22%|██▏       | 40/185 [01:42<05:41,  2.36s/it]"
     ]
    },
    {
     "name": "stdout",
     "output_type": "stream",
     "text": [
      "[LightGBM] [Warning] Found whitespace in feature_names, replace with underlines\n",
      "[LightGBM] [Info] Auto-choosing row-wise multi-threading, the overhead of testing was 0.000681 seconds.\n",
      "You can set `force_row_wise=true` to remove the overhead.\n",
      "And if memory is not enough, you can set `force_col_wise=true`.\n",
      "[LightGBM] [Info] Total Bins 5457\n",
      "[LightGBM] [Info] Number of data points in the train set: 30096, number of used features: 578\n",
      "[LightGBM] [Info] Start training from score 0.070294\n"
     ]
    },
    {
     "name": "stderr",
     "output_type": "stream",
     "text": [
      " 22%|██▏       | 41/185 [01:45<05:33,  2.31s/it]"
     ]
    },
    {
     "name": "stdout",
     "output_type": "stream",
     "text": [
      "[LightGBM] [Warning] Found whitespace in feature_names, replace with underlines\n",
      "[LightGBM] [Info] Auto-choosing row-wise multi-threading, the overhead of testing was 0.000754 seconds.\n",
      "You can set `force_row_wise=true` to remove the overhead.\n",
      "And if memory is not enough, you can set `force_col_wise=true`.\n",
      "[LightGBM] [Info] Total Bins 5392\n",
      "[LightGBM] [Info] Number of data points in the train set: 30096, number of used features: 578\n",
      "[LightGBM] [Info] Start training from score 0.032136\n"
     ]
    },
    {
     "name": "stderr",
     "output_type": "stream",
     "text": [
      " 23%|██▎       | 42/185 [01:47<05:27,  2.29s/it]"
     ]
    },
    {
     "name": "stdout",
     "output_type": "stream",
     "text": [
      "[LightGBM] [Warning] Found whitespace in feature_names, replace with underlines\n",
      "[LightGBM] [Info] Auto-choosing row-wise multi-threading, the overhead of testing was 0.000738 seconds.\n",
      "You can set `force_row_wise=true` to remove the overhead.\n",
      "And if memory is not enough, you can set `force_col_wise=true`.\n",
      "[LightGBM] [Info] Total Bins 5457\n",
      "[LightGBM] [Info] Number of data points in the train set: 30096, number of used features: 578\n",
      "[LightGBM] [Info] Start training from score 0.198778\n"
     ]
    },
    {
     "name": "stderr",
     "output_type": "stream",
     "text": [
      " 23%|██▎       | 43/185 [01:50<05:40,  2.40s/it]"
     ]
    },
    {
     "name": "stdout",
     "output_type": "stream",
     "text": [
      "[LightGBM] [Warning] Found whitespace in feature_names, replace with underlines\n",
      "[LightGBM] [Info] Auto-choosing row-wise multi-threading, the overhead of testing was 0.002469 seconds.\n",
      "You can set `force_row_wise=true` to remove the overhead.\n",
      "And if memory is not enough, you can set `force_col_wise=true`.\n",
      "[LightGBM] [Info] Total Bins 5457\n",
      "[LightGBM] [Info] Number of data points in the train set: 29952, number of used features: 578\n",
      "[LightGBM] [Info] Start training from score 0.215980\n"
     ]
    },
    {
     "name": "stderr",
     "output_type": "stream",
     "text": [
      " 24%|██▍       | 44/185 [01:52<05:31,  2.35s/it]"
     ]
    },
    {
     "name": "stdout",
     "output_type": "stream",
     "text": [
      "[LightGBM] [Warning] Found whitespace in feature_names, replace with underlines\n",
      "[LightGBM] [Info] Auto-choosing row-wise multi-threading, the overhead of testing was 0.002321 seconds.\n",
      "You can set `force_row_wise=true` to remove the overhead.\n",
      "And if memory is not enough, you can set `force_col_wise=true`.\n",
      "[LightGBM] [Info] Total Bins 5457\n",
      "[LightGBM] [Info] Number of data points in the train set: 29904, number of used features: 578\n",
      "[LightGBM] [Info] Start training from score 0.132984\n"
     ]
    },
    {
     "name": "stderr",
     "output_type": "stream",
     "text": [
      " 24%|██▍       | 45/185 [01:54<05:24,  2.32s/it]"
     ]
    },
    {
     "name": "stdout",
     "output_type": "stream",
     "text": [
      "[LightGBM] [Warning] Found whitespace in feature_names, replace with underlines\n",
      "[LightGBM] [Info] Auto-choosing row-wise multi-threading, the overhead of testing was 0.003040 seconds.\n",
      "You can set `force_row_wise=true` to remove the overhead.\n",
      "And if memory is not enough, you can set `force_col_wise=true`.\n",
      "[LightGBM] [Info] Total Bins 5457\n",
      "[LightGBM] [Info] Number of data points in the train set: 29760, number of used features: 578\n",
      "[LightGBM] [Info] Start training from score 0.134034\n"
     ]
    },
    {
     "name": "stderr",
     "output_type": "stream",
     "text": [
      " 25%|██▍       | 46/185 [01:56<05:17,  2.29s/it]"
     ]
    },
    {
     "name": "stdout",
     "output_type": "stream",
     "text": [
      "[LightGBM] [Warning] Found whitespace in feature_names, replace with underlines\n",
      "[LightGBM] [Info] Auto-choosing row-wise multi-threading, the overhead of testing was 0.002438 seconds.\n",
      "You can set `force_row_wise=true` to remove the overhead.\n",
      "And if memory is not enough, you can set `force_col_wise=true`.\n",
      "[LightGBM] [Info] Total Bins 5457\n",
      "[LightGBM] [Info] Number of data points in the train set: 29712, number of used features: 578\n",
      "[LightGBM] [Info] Start training from score 0.116712\n"
     ]
    },
    {
     "name": "stderr",
     "output_type": "stream",
     "text": [
      " 25%|██▌       | 47/185 [01:59<05:13,  2.27s/it]"
     ]
    },
    {
     "name": "stdout",
     "output_type": "stream",
     "text": [
      "[LightGBM] [Warning] Found whitespace in feature_names, replace with underlines\n",
      "[LightGBM] [Info] Auto-choosing row-wise multi-threading, the overhead of testing was 0.002466 seconds.\n",
      "You can set `force_row_wise=true` to remove the overhead.\n",
      "And if memory is not enough, you can set `force_col_wise=true`.\n",
      "[LightGBM] [Info] Total Bins 5457\n",
      "[LightGBM] [Info] Number of data points in the train set: 29712, number of used features: 578\n",
      "[LightGBM] [Info] Start training from score 0.221198\n"
     ]
    },
    {
     "name": "stderr",
     "output_type": "stream",
     "text": [
      " 26%|██▌       | 48/185 [02:01<05:13,  2.29s/it]"
     ]
    },
    {
     "name": "stdout",
     "output_type": "stream",
     "text": [
      "[LightGBM] [Warning] Found whitespace in feature_names, replace with underlines\n",
      "[LightGBM] [Info] Auto-choosing row-wise multi-threading, the overhead of testing was 0.002351 seconds.\n",
      "You can set `force_row_wise=true` to remove the overhead.\n",
      "And if memory is not enough, you can set `force_col_wise=true`.\n",
      "[LightGBM] [Info] Total Bins 5457\n",
      "[LightGBM] [Info] Number of data points in the train set: 29712, number of used features: 578\n",
      "[LightGBM] [Info] Start training from score 0.207921\n"
     ]
    },
    {
     "name": "stderr",
     "output_type": "stream",
     "text": [
      " 26%|██▋       | 49/185 [02:03<05:09,  2.28s/it]"
     ]
    },
    {
     "name": "stdout",
     "output_type": "stream",
     "text": [
      "[LightGBM] [Warning] Found whitespace in feature_names, replace with underlines\n",
      "[LightGBM] [Info] Auto-choosing row-wise multi-threading, the overhead of testing was 0.002157 seconds.\n",
      "You can set `force_row_wise=true` to remove the overhead.\n",
      "And if memory is not enough, you can set `force_col_wise=true`.\n",
      "[LightGBM] [Info] Total Bins 5457\n",
      "[LightGBM] [Info] Number of data points in the train set: 29568, number of used features: 578\n",
      "[LightGBM] [Info] Start training from score 0.102541\n"
     ]
    },
    {
     "name": "stderr",
     "output_type": "stream",
     "text": [
      " 27%|██▋       | 50/185 [02:05<05:10,  2.30s/it]"
     ]
    },
    {
     "name": "stdout",
     "output_type": "stream",
     "text": [
      "[LightGBM] [Warning] Found whitespace in feature_names, replace with underlines\n",
      "[LightGBM] [Info] Auto-choosing row-wise multi-threading, the overhead of testing was 0.002222 seconds.\n",
      "You can set `force_row_wise=true` to remove the overhead.\n",
      "And if memory is not enough, you can set `force_col_wise=true`.\n",
      "[LightGBM] [Info] Total Bins 5457\n",
      "[LightGBM] [Info] Number of data points in the train set: 29568, number of used features: 578\n",
      "[LightGBM] [Info] Start training from score 0.078724\n"
     ]
    },
    {
     "name": "stderr",
     "output_type": "stream",
     "text": [
      " 28%|██▊       | 51/185 [02:08<05:07,  2.30s/it]"
     ]
    },
    {
     "name": "stdout",
     "output_type": "stream",
     "text": [
      "[LightGBM] [Warning] Found whitespace in feature_names, replace with underlines\n",
      "[LightGBM] [Info] Auto-choosing row-wise multi-threading, the overhead of testing was 0.002483 seconds.\n",
      "You can set `force_row_wise=true` to remove the overhead.\n",
      "And if memory is not enough, you can set `force_col_wise=true`.\n",
      "[LightGBM] [Info] Total Bins 5457\n",
      "[LightGBM] [Info] Number of data points in the train set: 29520, number of used features: 578\n",
      "[LightGBM] [Info] Start training from score 0.185950\n"
     ]
    },
    {
     "name": "stderr",
     "output_type": "stream",
     "text": [
      " 28%|██▊       | 52/185 [02:10<05:13,  2.35s/it]"
     ]
    },
    {
     "name": "stdout",
     "output_type": "stream",
     "text": [
      "[LightGBM] [Warning] Found whitespace in feature_names, replace with underlines\n",
      "[LightGBM] [Info] Auto-choosing row-wise multi-threading, the overhead of testing was 0.002356 seconds.\n",
      "You can set `force_row_wise=true` to remove the overhead.\n",
      "And if memory is not enough, you can set `force_col_wise=true`.\n",
      "[LightGBM] [Info] Total Bins 5457\n",
      "[LightGBM] [Info] Number of data points in the train set: 29376, number of used features: 578\n",
      "[LightGBM] [Info] Start training from score 0.420954\n"
     ]
    },
    {
     "name": "stderr",
     "output_type": "stream",
     "text": [
      " 29%|██▊       | 53/185 [02:13<05:09,  2.35s/it]"
     ]
    },
    {
     "name": "stdout",
     "output_type": "stream",
     "text": [
      "[LightGBM] [Warning] Found whitespace in feature_names, replace with underlines\n",
      "[LightGBM] [Info] Auto-choosing row-wise multi-threading, the overhead of testing was 0.002409 seconds.\n",
      "You can set `force_row_wise=true` to remove the overhead.\n",
      "And if memory is not enough, you can set `force_col_wise=true`.\n",
      "[LightGBM] [Info] Total Bins 5457\n",
      "[LightGBM] [Info] Number of data points in the train set: 29232, number of used features: 578\n",
      "[LightGBM] [Info] Start training from score 0.196058\n"
     ]
    },
    {
     "name": "stderr",
     "output_type": "stream",
     "text": [
      " 29%|██▉       | 54/185 [02:15<05:04,  2.32s/it]"
     ]
    },
    {
     "name": "stdout",
     "output_type": "stream",
     "text": [
      "[LightGBM] [Warning] Found whitespace in feature_names, replace with underlines\n",
      "[LightGBM] [Info] Auto-choosing row-wise multi-threading, the overhead of testing was 0.002341 seconds.\n",
      "You can set `force_row_wise=true` to remove the overhead.\n",
      "And if memory is not enough, you can set `force_col_wise=true`.\n",
      "[LightGBM] [Info] Total Bins 5457\n",
      "[LightGBM] [Info] Number of data points in the train set: 28992, number of used features: 578\n",
      "[LightGBM] [Info] Start training from score 0.139550\n"
     ]
    },
    {
     "name": "stderr",
     "output_type": "stream",
     "text": [
      " 30%|██▉       | 55/185 [02:17<04:56,  2.28s/it]"
     ]
    },
    {
     "name": "stdout",
     "output_type": "stream",
     "text": [
      "[LightGBM] [Warning] Found whitespace in feature_names, replace with underlines\n",
      "[LightGBM] [Info] Auto-choosing row-wise multi-threading, the overhead of testing was 0.002273 seconds.\n",
      "You can set `force_row_wise=true` to remove the overhead.\n",
      "And if memory is not enough, you can set `force_col_wise=true`.\n",
      "[LightGBM] [Info] Total Bins 5457\n",
      "[LightGBM] [Info] Number of data points in the train set: 28992, number of used features: 578\n",
      "[LightGBM] [Info] Start training from score 0.101723\n"
     ]
    },
    {
     "name": "stderr",
     "output_type": "stream",
     "text": [
      " 30%|███       | 56/185 [02:19<04:55,  2.29s/it]"
     ]
    },
    {
     "name": "stdout",
     "output_type": "stream",
     "text": [
      "[LightGBM] [Warning] Found whitespace in feature_names, replace with underlines\n",
      "[LightGBM] [Info] Auto-choosing row-wise multi-threading, the overhead of testing was 0.002582 seconds.\n",
      "You can set `force_row_wise=true` to remove the overhead.\n",
      "And if memory is not enough, you can set `force_col_wise=true`.\n",
      "[LightGBM] [Info] Total Bins 5457\n",
      "[LightGBM] [Info] Number of data points in the train set: 28992, number of used features: 578\n",
      "[LightGBM] [Info] Start training from score 0.114284\n"
     ]
    },
    {
     "name": "stderr",
     "output_type": "stream",
     "text": [
      " 31%|███       | 57/185 [02:21<04:46,  2.24s/it]"
     ]
    },
    {
     "name": "stdout",
     "output_type": "stream",
     "text": [
      "[LightGBM] [Warning] Found whitespace in feature_names, replace with underlines\n",
      "[LightGBM] [Info] Auto-choosing row-wise multi-threading, the overhead of testing was 0.002359 seconds.\n",
      "You can set `force_row_wise=true` to remove the overhead.\n",
      "And if memory is not enough, you can set `force_col_wise=true`.\n",
      "[LightGBM] [Info] Total Bins 5457\n",
      "[LightGBM] [Info] Number of data points in the train set: 28944, number of used features: 578\n",
      "[LightGBM] [Info] Start training from score 0.063550\n"
     ]
    },
    {
     "name": "stderr",
     "output_type": "stream",
     "text": [
      " 31%|███▏      | 58/185 [02:24<04:49,  2.28s/it]"
     ]
    },
    {
     "name": "stdout",
     "output_type": "stream",
     "text": [
      "[LightGBM] [Warning] Found whitespace in feature_names, replace with underlines\n",
      "[LightGBM] [Info] Auto-choosing row-wise multi-threading, the overhead of testing was 0.003339 seconds.\n",
      "You can set `force_row_wise=true` to remove the overhead.\n",
      "And if memory is not enough, you can set `force_col_wise=true`.\n",
      "[LightGBM] [Info] Total Bins 5457\n",
      "[LightGBM] [Info] Number of data points in the train set: 28944, number of used features: 578\n",
      "[LightGBM] [Info] Start training from score 0.629323\n"
     ]
    },
    {
     "name": "stderr",
     "output_type": "stream",
     "text": [
      " 32%|███▏      | 59/185 [02:26<04:52,  2.32s/it]"
     ]
    },
    {
     "name": "stdout",
     "output_type": "stream",
     "text": [
      "[LightGBM] [Warning] Found whitespace in feature_names, replace with underlines\n",
      "[LightGBM] [Info] Auto-choosing row-wise multi-threading, the overhead of testing was 0.002366 seconds.\n",
      "You can set `force_row_wise=true` to remove the overhead.\n",
      "And if memory is not enough, you can set `force_col_wise=true`.\n",
      "[LightGBM] [Info] Total Bins 5457\n",
      "[LightGBM] [Info] Number of data points in the train set: 28896, number of used features: 578\n",
      "[LightGBM] [Info] Start training from score 0.089252\n"
     ]
    },
    {
     "name": "stderr",
     "output_type": "stream",
     "text": [
      " 32%|███▏      | 60/185 [02:28<04:45,  2.29s/it]"
     ]
    },
    {
     "name": "stdout",
     "output_type": "stream",
     "text": [
      "[LightGBM] [Warning] Found whitespace in feature_names, replace with underlines\n",
      "[LightGBM] [Info] Auto-choosing row-wise multi-threading, the overhead of testing was 0.002507 seconds.\n",
      "You can set `force_row_wise=true` to remove the overhead.\n",
      "And if memory is not enough, you can set `force_col_wise=true`.\n",
      "[LightGBM] [Info] Total Bins 5457\n",
      "[LightGBM] [Info] Number of data points in the train set: 28848, number of used features: 578\n",
      "[LightGBM] [Info] Start training from score 0.084472\n"
     ]
    },
    {
     "name": "stderr",
     "output_type": "stream",
     "text": [
      " 33%|███▎      | 61/185 [02:31<04:43,  2.29s/it]"
     ]
    },
    {
     "name": "stdout",
     "output_type": "stream",
     "text": [
      "[LightGBM] [Warning] Found whitespace in feature_names, replace with underlines\n",
      "[LightGBM] [Info] Auto-choosing row-wise multi-threading, the overhead of testing was 0.002361 seconds.\n",
      "You can set `force_row_wise=true` to remove the overhead.\n",
      "And if memory is not enough, you can set `force_col_wise=true`.\n",
      "[LightGBM] [Info] Total Bins 5457\n",
      "[LightGBM] [Info] Number of data points in the train set: 28848, number of used features: 578\n",
      "[LightGBM] [Info] Start training from score 0.223292\n"
     ]
    },
    {
     "name": "stderr",
     "output_type": "stream",
     "text": [
      " 34%|███▎      | 62/185 [02:34<05:10,  2.52s/it]"
     ]
    },
    {
     "name": "stdout",
     "output_type": "stream",
     "text": [
      "[LightGBM] [Warning] Found whitespace in feature_names, replace with underlines\n",
      "[LightGBM] [Info] Auto-choosing row-wise multi-threading, the overhead of testing was 0.002397 seconds.\n",
      "You can set `force_row_wise=true` to remove the overhead.\n",
      "And if memory is not enough, you can set `force_col_wise=true`.\n",
      "[LightGBM] [Info] Total Bins 5457\n",
      "[LightGBM] [Info] Number of data points in the train set: 28752, number of used features: 578\n",
      "[LightGBM] [Info] Start training from score 0.204265\n"
     ]
    },
    {
     "name": "stderr",
     "output_type": "stream",
     "text": [
      " 34%|███▍      | 63/185 [02:36<05:02,  2.48s/it]"
     ]
    },
    {
     "name": "stdout",
     "output_type": "stream",
     "text": [
      "[LightGBM] [Warning] Found whitespace in feature_names, replace with underlines\n",
      "[LightGBM] [Info] Auto-choosing row-wise multi-threading, the overhead of testing was 0.002337 seconds.\n",
      "You can set `force_row_wise=true` to remove the overhead.\n",
      "And if memory is not enough, you can set `force_col_wise=true`.\n",
      "[LightGBM] [Info] Total Bins 5457\n",
      "[LightGBM] [Info] Number of data points in the train set: 28704, number of used features: 578\n",
      "[LightGBM] [Info] Start training from score 0.191253\n"
     ]
    },
    {
     "name": "stderr",
     "output_type": "stream",
     "text": [
      " 35%|███▍      | 64/185 [02:38<04:52,  2.42s/it]"
     ]
    },
    {
     "name": "stdout",
     "output_type": "stream",
     "text": [
      "[LightGBM] [Warning] Found whitespace in feature_names, replace with underlines\n",
      "[LightGBM] [Info] Auto-choosing row-wise multi-threading, the overhead of testing was 0.000615 seconds.\n",
      "You can set `force_row_wise=true` to remove the overhead.\n",
      "And if memory is not enough, you can set `force_col_wise=true`.\n",
      "[LightGBM] [Info] Total Bins 5457\n",
      "[LightGBM] [Info] Number of data points in the train set: 28704, number of used features: 578\n",
      "[LightGBM] [Info] Start training from score 0.125138\n"
     ]
    },
    {
     "name": "stderr",
     "output_type": "stream",
     "text": [
      " 35%|███▌      | 65/185 [02:41<04:38,  2.32s/it]"
     ]
    },
    {
     "name": "stdout",
     "output_type": "stream",
     "text": [
      "[LightGBM] [Warning] Found whitespace in feature_names, replace with underlines\n",
      "[LightGBM] [Info] Auto-choosing row-wise multi-threading, the overhead of testing was 0.002625 seconds.\n",
      "You can set `force_row_wise=true` to remove the overhead.\n",
      "And if memory is not enough, you can set `force_col_wise=true`.\n",
      "[LightGBM] [Info] Total Bins 5457\n",
      "[LightGBM] [Info] Number of data points in the train set: 28512, number of used features: 578\n",
      "[LightGBM] [Info] Start training from score 0.097848\n"
     ]
    },
    {
     "name": "stderr",
     "output_type": "stream",
     "text": [
      " 36%|███▌      | 66/185 [02:43<04:32,  2.29s/it]"
     ]
    },
    {
     "name": "stdout",
     "output_type": "stream",
     "text": [
      "[LightGBM] [Warning] Found whitespace in feature_names, replace with underlines\n",
      "[LightGBM] [Info] Auto-choosing row-wise multi-threading, the overhead of testing was 0.002578 seconds.\n",
      "You can set `force_row_wise=true` to remove the overhead.\n",
      "And if memory is not enough, you can set `force_col_wise=true`.\n",
      "[LightGBM] [Info] Total Bins 5457\n",
      "[LightGBM] [Info] Number of data points in the train set: 28464, number of used features: 578\n",
      "[LightGBM] [Info] Start training from score 0.190083\n"
     ]
    },
    {
     "name": "stderr",
     "output_type": "stream",
     "text": [
      " 36%|███▌      | 67/185 [02:45<04:40,  2.38s/it]"
     ]
    },
    {
     "name": "stdout",
     "output_type": "stream",
     "text": [
      "[LightGBM] [Warning] Found whitespace in feature_names, replace with underlines\n",
      "[LightGBM] [Info] Auto-choosing row-wise multi-threading, the overhead of testing was 0.002654 seconds.\n",
      "You can set `force_row_wise=true` to remove the overhead.\n",
      "And if memory is not enough, you can set `force_col_wise=true`.\n",
      "[LightGBM] [Info] Total Bins 5457\n",
      "[LightGBM] [Info] Number of data points in the train set: 28464, number of used features: 578\n",
      "[LightGBM] [Info] Start training from score 0.612338\n"
     ]
    },
    {
     "name": "stderr",
     "output_type": "stream",
     "text": [
      " 37%|███▋      | 68/185 [02:48<04:32,  2.33s/it]"
     ]
    },
    {
     "name": "stdout",
     "output_type": "stream",
     "text": [
      "[LightGBM] [Warning] Found whitespace in feature_names, replace with underlines\n",
      "[LightGBM] [Info] Auto-choosing row-wise multi-threading, the overhead of testing was 0.002718 seconds.\n",
      "You can set `force_row_wise=true` to remove the overhead.\n",
      "And if memory is not enough, you can set `force_col_wise=true`.\n",
      "[LightGBM] [Info] Total Bins 5457\n",
      "[LightGBM] [Info] Number of data points in the train set: 28368, number of used features: 578\n",
      "[LightGBM] [Info] Start training from score 0.386556\n"
     ]
    },
    {
     "name": "stderr",
     "output_type": "stream",
     "text": [
      " 37%|███▋      | 69/185 [02:50<04:22,  2.26s/it]"
     ]
    },
    {
     "name": "stdout",
     "output_type": "stream",
     "text": [
      "[LightGBM] [Warning] Found whitespace in feature_names, replace with underlines\n",
      "[LightGBM] [Info] Auto-choosing row-wise multi-threading, the overhead of testing was 0.002738 seconds.\n",
      "You can set `force_row_wise=true` to remove the overhead.\n",
      "And if memory is not enough, you can set `force_col_wise=true`.\n",
      "[LightGBM] [Info] Total Bins 5457\n",
      "[LightGBM] [Info] Number of data points in the train set: 28368, number of used features: 578\n",
      "[LightGBM] [Info] Start training from score 0.079288\n"
     ]
    },
    {
     "name": "stderr",
     "output_type": "stream",
     "text": [
      " 38%|███▊      | 70/185 [02:52<04:25,  2.31s/it]"
     ]
    },
    {
     "name": "stdout",
     "output_type": "stream",
     "text": [
      "[LightGBM] [Warning] Found whitespace in feature_names, replace with underlines\n",
      "[LightGBM] [Info] Auto-choosing row-wise multi-threading, the overhead of testing was 0.002937 seconds.\n",
      "You can set `force_row_wise=true` to remove the overhead.\n",
      "And if memory is not enough, you can set `force_col_wise=true`.\n",
      "[LightGBM] [Info] Total Bins 5457\n",
      "[LightGBM] [Info] Number of data points in the train set: 28176, number of used features: 578\n",
      "[LightGBM] [Info] Start training from score 0.214353\n"
     ]
    },
    {
     "name": "stderr",
     "output_type": "stream",
     "text": [
      " 38%|███▊      | 71/185 [02:54<04:18,  2.27s/it]"
     ]
    },
    {
     "name": "stdout",
     "output_type": "stream",
     "text": [
      "[LightGBM] [Warning] Found whitespace in feature_names, replace with underlines\n",
      "[LightGBM] [Info] Auto-choosing row-wise multi-threading, the overhead of testing was 0.002838 seconds.\n",
      "You can set `force_row_wise=true` to remove the overhead.\n",
      "And if memory is not enough, you can set `force_col_wise=true`.\n",
      "[LightGBM] [Info] Total Bins 5457\n",
      "[LightGBM] [Info] Number of data points in the train set: 27888, number of used features: 578\n",
      "[LightGBM] [Info] Start training from score 0.098261\n"
     ]
    },
    {
     "name": "stderr",
     "output_type": "stream",
     "text": [
      " 39%|███▉      | 72/185 [02:56<04:14,  2.25s/it]"
     ]
    },
    {
     "name": "stdout",
     "output_type": "stream",
     "text": [
      "[LightGBM] [Warning] Found whitespace in feature_names, replace with underlines\n",
      "[LightGBM] [Info] Auto-choosing row-wise multi-threading, the overhead of testing was 0.001988 seconds.\n",
      "You can set `force_row_wise=true` to remove the overhead.\n",
      "And if memory is not enough, you can set `force_col_wise=true`.\n",
      "[LightGBM] [Info] Total Bins 5457\n",
      "[LightGBM] [Info] Number of data points in the train set: 27840, number of used features: 578\n",
      "[LightGBM] [Info] Start training from score 0.069325\n"
     ]
    },
    {
     "name": "stderr",
     "output_type": "stream",
     "text": [
      " 39%|███▉      | 73/185 [02:59<04:18,  2.31s/it]"
     ]
    },
    {
     "name": "stdout",
     "output_type": "stream",
     "text": [
      "[LightGBM] [Warning] Found whitespace in feature_names, replace with underlines\n",
      "[LightGBM] [Info] Auto-choosing row-wise multi-threading, the overhead of testing was 0.002193 seconds.\n",
      "You can set `force_row_wise=true` to remove the overhead.\n",
      "And if memory is not enough, you can set `force_col_wise=true`.\n",
      "[LightGBM] [Info] Total Bins 5459\n",
      "[LightGBM] [Info] Number of data points in the train set: 31200, number of used features: 579\n",
      "[LightGBM] [Info] Start training from score 0.284393\n"
     ]
    },
    {
     "name": "stderr",
     "output_type": "stream",
     "text": [
      " 40%|████      | 74/185 [03:01<04:15,  2.30s/it]"
     ]
    },
    {
     "name": "stdout",
     "output_type": "stream",
     "text": [
      "[LightGBM] [Warning] Found whitespace in feature_names, replace with underlines\n",
      "[LightGBM] [Info] Auto-choosing row-wise multi-threading, the overhead of testing was 0.002355 seconds.\n",
      "You can set `force_row_wise=true` to remove the overhead.\n",
      "And if memory is not enough, you can set `force_col_wise=true`.\n",
      "[LightGBM] [Info] Total Bins 5459\n",
      "[LightGBM] [Info] Number of data points in the train set: 31200, number of used features: 579\n",
      "[LightGBM] [Info] Start training from score 0.177287\n"
     ]
    },
    {
     "name": "stderr",
     "output_type": "stream",
     "text": [
      " 41%|████      | 75/185 [03:03<04:12,  2.30s/it]"
     ]
    },
    {
     "name": "stdout",
     "output_type": "stream",
     "text": [
      "[LightGBM] [Warning] Found whitespace in feature_names, replace with underlines\n",
      "[LightGBM] [Info] Auto-choosing row-wise multi-threading, the overhead of testing was 0.003932 seconds.\n",
      "You can set `force_row_wise=true` to remove the overhead.\n",
      "And if memory is not enough, you can set `force_col_wise=true`.\n",
      "[LightGBM] [Info] Total Bins 5459\n",
      "[LightGBM] [Info] Number of data points in the train set: 31056, number of used features: 579\n",
      "[LightGBM] [Info] Start training from score 0.122111\n"
     ]
    },
    {
     "name": "stderr",
     "output_type": "stream",
     "text": [
      " 41%|████      | 76/185 [03:06<04:24,  2.43s/it]"
     ]
    },
    {
     "name": "stdout",
     "output_type": "stream",
     "text": [
      "[LightGBM] [Warning] Found whitespace in feature_names, replace with underlines\n",
      "[LightGBM] [Info] Auto-choosing row-wise multi-threading, the overhead of testing was 0.002801 seconds.\n",
      "You can set `force_row_wise=true` to remove the overhead.\n",
      "And if memory is not enough, you can set `force_col_wise=true`.\n",
      "[LightGBM] [Info] Total Bins 5459\n",
      "[LightGBM] [Info] Number of data points in the train set: 31056, number of used features: 579\n",
      "[LightGBM] [Info] Start training from score 0.644892\n"
     ]
    },
    {
     "name": "stderr",
     "output_type": "stream",
     "text": [
      " 42%|████▏     | 77/185 [03:09<04:22,  2.43s/it]"
     ]
    },
    {
     "name": "stdout",
     "output_type": "stream",
     "text": [
      "[LightGBM] [Warning] Found whitespace in feature_names, replace with underlines\n",
      "[LightGBM] [Info] Auto-choosing row-wise multi-threading, the overhead of testing was 0.002020 seconds.\n",
      "You can set `force_row_wise=true` to remove the overhead.\n",
      "And if memory is not enough, you can set `force_col_wise=true`.\n",
      "[LightGBM] [Info] Total Bins 5459\n",
      "[LightGBM] [Info] Number of data points in the train set: 30912, number of used features: 579\n",
      "[LightGBM] [Info] Start training from score 0.086900\n"
     ]
    },
    {
     "name": "stderr",
     "output_type": "stream",
     "text": [
      " 42%|████▏     | 78/185 [03:11<04:29,  2.52s/it]"
     ]
    },
    {
     "name": "stdout",
     "output_type": "stream",
     "text": [
      "[LightGBM] [Warning] Found whitespace in feature_names, replace with underlines\n",
      "[LightGBM] [Info] Auto-choosing row-wise multi-threading, the overhead of testing was 0.002133 seconds.\n",
      "You can set `force_row_wise=true` to remove the overhead.\n",
      "And if memory is not enough, you can set `force_col_wise=true`.\n",
      "[LightGBM] [Info] Total Bins 5459\n",
      "[LightGBM] [Info] Number of data points in the train set: 30720, number of used features: 579\n",
      "[LightGBM] [Info] Start training from score 0.291193\n"
     ]
    },
    {
     "name": "stderr",
     "output_type": "stream",
     "text": [
      " 43%|████▎     | 79/185 [03:14<04:19,  2.44s/it]"
     ]
    },
    {
     "name": "stdout",
     "output_type": "stream",
     "text": [
      "[LightGBM] [Warning] Found whitespace in feature_names, replace with underlines\n",
      "[LightGBM] [Info] Auto-choosing row-wise multi-threading, the overhead of testing was 0.002154 seconds.\n",
      "You can set `force_row_wise=true` to remove the overhead.\n",
      "And if memory is not enough, you can set `force_col_wise=true`.\n",
      "[LightGBM] [Info] Total Bins 5459\n",
      "[LightGBM] [Info] Number of data points in the train set: 30768, number of used features: 579\n",
      "[LightGBM] [Info] Start training from score 0.167927\n"
     ]
    },
    {
     "name": "stderr",
     "output_type": "stream",
     "text": [
      " 43%|████▎     | 80/185 [03:16<04:15,  2.43s/it]"
     ]
    },
    {
     "name": "stdout",
     "output_type": "stream",
     "text": [
      "[LightGBM] [Warning] Found whitespace in feature_names, replace with underlines\n",
      "[LightGBM] [Info] Auto-choosing row-wise multi-threading, the overhead of testing was 0.002057 seconds.\n",
      "You can set `force_row_wise=true` to remove the overhead.\n",
      "And if memory is not enough, you can set `force_col_wise=true`.\n",
      "[LightGBM] [Info] Total Bins 5459\n",
      "[LightGBM] [Info] Number of data points in the train set: 30720, number of used features: 579\n",
      "[LightGBM] [Info] Start training from score 0.147479\n"
     ]
    },
    {
     "name": "stderr",
     "output_type": "stream",
     "text": [
      " 44%|████▍     | 81/185 [03:18<04:05,  2.36s/it]"
     ]
    },
    {
     "name": "stdout",
     "output_type": "stream",
     "text": [
      "[LightGBM] [Warning] Found whitespace in feature_names, replace with underlines\n",
      "[LightGBM] [Info] Auto-choosing row-wise multi-threading, the overhead of testing was 0.002433 seconds.\n",
      "You can set `force_row_wise=true` to remove the overhead.\n",
      "And if memory is not enough, you can set `force_col_wise=true`.\n",
      "[LightGBM] [Info] Total Bins 5457\n",
      "[LightGBM] [Info] Number of data points in the train set: 27408, number of used features: 578\n",
      "[LightGBM] [Info] Start training from score 0.286070\n"
     ]
    },
    {
     "name": "stderr",
     "output_type": "stream",
     "text": [
      " 44%|████▍     | 82/185 [03:21<03:59,  2.33s/it]"
     ]
    },
    {
     "name": "stdout",
     "output_type": "stream",
     "text": [
      "[LightGBM] [Warning] Found whitespace in feature_names, replace with underlines\n",
      "[LightGBM] [Info] Auto-choosing row-wise multi-threading, the overhead of testing was 0.003771 seconds.\n",
      "You can set `force_row_wise=true` to remove the overhead.\n",
      "And if memory is not enough, you can set `force_col_wise=true`.\n",
      "[LightGBM] [Info] Total Bins 5457\n",
      "[LightGBM] [Info] Number of data points in the train set: 27408, number of used features: 578\n",
      "[LightGBM] [Info] Start training from score 0.209199\n"
     ]
    },
    {
     "name": "stderr",
     "output_type": "stream",
     "text": [
      " 45%|████▍     | 83/185 [03:23<03:54,  2.30s/it]"
     ]
    },
    {
     "name": "stdout",
     "output_type": "stream",
     "text": [
      "[LightGBM] [Warning] Found whitespace in feature_names, replace with underlines\n",
      "[LightGBM] [Info] Auto-choosing row-wise multi-threading, the overhead of testing was 0.002395 seconds.\n",
      "You can set `force_row_wise=true` to remove the overhead.\n",
      "And if memory is not enough, you can set `force_col_wise=true`.\n",
      "[LightGBM] [Info] Total Bins 5457\n",
      "[LightGBM] [Info] Number of data points in the train set: 27408, number of used features: 578\n",
      "[LightGBM] [Info] Start training from score 0.243380\n"
     ]
    },
    {
     "name": "stderr",
     "output_type": "stream",
     "text": [
      " 45%|████▌     | 84/185 [03:25<03:50,  2.28s/it]"
     ]
    },
    {
     "name": "stdout",
     "output_type": "stream",
     "text": [
      "[LightGBM] [Warning] Found whitespace in feature_names, replace with underlines\n",
      "[LightGBM] [Info] Auto-choosing row-wise multi-threading, the overhead of testing was 0.003008 seconds.\n",
      "You can set `force_row_wise=true` to remove the overhead.\n",
      "And if memory is not enough, you can set `force_col_wise=true`.\n",
      "[LightGBM] [Info] Total Bins 5459\n",
      "[LightGBM] [Info] Number of data points in the train set: 30624, number of used features: 579\n",
      "[LightGBM] [Info] Start training from score 0.237259\n"
     ]
    },
    {
     "name": "stderr",
     "output_type": "stream",
     "text": [
      " 46%|████▌     | 85/185 [03:27<03:46,  2.27s/it]"
     ]
    },
    {
     "name": "stdout",
     "output_type": "stream",
     "text": [
      "[LightGBM] [Warning] Found whitespace in feature_names, replace with underlines\n",
      "[LightGBM] [Info] Auto-choosing row-wise multi-threading, the overhead of testing was 0.002194 seconds.\n",
      "You can set `force_row_wise=true` to remove the overhead.\n",
      "And if memory is not enough, you can set `force_col_wise=true`.\n",
      "[LightGBM] [Info] Total Bins 5459\n",
      "[LightGBM] [Info] Number of data points in the train set: 30576, number of used features: 579\n",
      "[LightGBM] [Info] Start training from score 0.176161\n"
     ]
    },
    {
     "name": "stderr",
     "output_type": "stream",
     "text": [
      " 46%|████▋     | 86/185 [03:30<03:48,  2.31s/it]"
     ]
    },
    {
     "name": "stdout",
     "output_type": "stream",
     "text": [
      "[LightGBM] [Warning] Found whitespace in feature_names, replace with underlines\n",
      "[LightGBM] [Info] Auto-choosing row-wise multi-threading, the overhead of testing was 0.001830 seconds.\n",
      "You can set `force_row_wise=true` to remove the overhead.\n",
      "And if memory is not enough, you can set `force_col_wise=true`.\n",
      "[LightGBM] [Info] Total Bins 5457\n",
      "[LightGBM] [Info] Number of data points in the train set: 30384, number of used features: 578\n",
      "[LightGBM] [Info] Start training from score 0.155300\n"
     ]
    },
    {
     "name": "stderr",
     "output_type": "stream",
     "text": [
      " 47%|████▋     | 87/185 [03:32<03:50,  2.36s/it]"
     ]
    },
    {
     "name": "stdout",
     "output_type": "stream",
     "text": [
      "[LightGBM] [Warning] Found whitespace in feature_names, replace with underlines\n",
      "[LightGBM] [Info] Auto-choosing row-wise multi-threading, the overhead of testing was 0.001800 seconds.\n",
      "You can set `force_row_wise=true` to remove the overhead.\n",
      "And if memory is not enough, you can set `force_col_wise=true`.\n",
      "[LightGBM] [Info] Total Bins 5457\n",
      "[LightGBM] [Info] Number of data points in the train set: 30384, number of used features: 578\n",
      "[LightGBM] [Info] Start training from score 0.113190\n"
     ]
    },
    {
     "name": "stderr",
     "output_type": "stream",
     "text": [
      " 48%|████▊     | 88/185 [03:34<03:45,  2.32s/it]"
     ]
    },
    {
     "name": "stdout",
     "output_type": "stream",
     "text": [
      "[LightGBM] [Warning] Found whitespace in feature_names, replace with underlines\n",
      "[LightGBM] [Info] Auto-choosing row-wise multi-threading, the overhead of testing was 0.003708 seconds.\n",
      "You can set `force_row_wise=true` to remove the overhead.\n",
      "And if memory is not enough, you can set `force_col_wise=true`.\n",
      "[LightGBM] [Info] Total Bins 5457\n",
      "[LightGBM] [Info] Number of data points in the train set: 28272, number of used features: 578\n",
      "[LightGBM] [Info] Start training from score 0.150780\n"
     ]
    },
    {
     "name": "stderr",
     "output_type": "stream",
     "text": [
      " 48%|████▊     | 89/185 [03:37<03:47,  2.37s/it]"
     ]
    },
    {
     "name": "stdout",
     "output_type": "stream",
     "text": [
      "[LightGBM] [Warning] Found whitespace in feature_names, replace with underlines\n",
      "[LightGBM] [Info] Auto-choosing row-wise multi-threading, the overhead of testing was 0.001823 seconds.\n",
      "You can set `force_row_wise=true` to remove the overhead.\n",
      "And if memory is not enough, you can set `force_col_wise=true`.\n",
      "[LightGBM] [Info] Total Bins 5457\n",
      "[LightGBM] [Info] Number of data points in the train set: 30336, number of used features: 578\n",
      "[LightGBM] [Info] Start training from score 0.125707\n"
     ]
    },
    {
     "name": "stderr",
     "output_type": "stream",
     "text": [
      " 49%|████▊     | 90/185 [03:39<03:42,  2.34s/it]"
     ]
    },
    {
     "name": "stdout",
     "output_type": "stream",
     "text": [
      "[LightGBM] [Warning] Found whitespace in feature_names, replace with underlines\n",
      "[LightGBM] [Info] Auto-choosing row-wise multi-threading, the overhead of testing was 0.001729 seconds.\n",
      "You can set `force_row_wise=true` to remove the overhead.\n",
      "And if memory is not enough, you can set `force_col_wise=true`.\n",
      "[LightGBM] [Info] Total Bins 5457\n",
      "[LightGBM] [Info] Number of data points in the train set: 30288, number of used features: 578\n",
      "[LightGBM] [Info] Start training from score 0.070403\n"
     ]
    },
    {
     "name": "stderr",
     "output_type": "stream",
     "text": [
      " 49%|████▉     | 91/185 [03:41<03:35,  2.29s/it]"
     ]
    },
    {
     "name": "stdout",
     "output_type": "stream",
     "text": [
      "[LightGBM] [Warning] Found whitespace in feature_names, replace with underlines\n",
      "[LightGBM] [Info] Auto-choosing row-wise multi-threading, the overhead of testing was 0.002057 seconds.\n",
      "You can set `force_row_wise=true` to remove the overhead.\n",
      "And if memory is not enough, you can set `force_col_wise=true`.\n",
      "[LightGBM] [Info] Total Bins 5457\n",
      "[LightGBM] [Info] Number of data points in the train set: 27744, number of used features: 578\n",
      "[LightGBM] [Info] Start training from score 0.196290\n"
     ]
    },
    {
     "name": "stderr",
     "output_type": "stream",
     "text": [
      " 50%|████▉     | 92/185 [03:43<03:30,  2.26s/it]"
     ]
    },
    {
     "name": "stdout",
     "output_type": "stream",
     "text": [
      "[LightGBM] [Warning] Found whitespace in feature_names, replace with underlines\n",
      "[LightGBM] [Info] Auto-choosing row-wise multi-threading, the overhead of testing was 0.002788 seconds.\n",
      "You can set `force_row_wise=true` to remove the overhead.\n",
      "And if memory is not enough, you can set `force_col_wise=true`.\n",
      "[LightGBM] [Info] Total Bins 5457\n",
      "[LightGBM] [Info] Number of data points in the train set: 27600, number of used features: 578\n",
      "[LightGBM] [Info] Start training from score 0.124910\n"
     ]
    },
    {
     "name": "stderr",
     "output_type": "stream",
     "text": [
      " 50%|█████     | 93/185 [03:46<03:29,  2.28s/it]"
     ]
    },
    {
     "name": "stdout",
     "output_type": "stream",
     "text": [
      "[LightGBM] [Warning] Found whitespace in feature_names, replace with underlines\n",
      "[LightGBM] [Info] Auto-choosing row-wise multi-threading, the overhead of testing was 0.002903 seconds.\n",
      "You can set `force_row_wise=true` to remove the overhead.\n",
      "And if memory is not enough, you can set `force_col_wise=true`.\n",
      "[LightGBM] [Info] Total Bins 5457\n",
      "[LightGBM] [Info] Number of data points in the train set: 27696, number of used features: 578\n",
      "[LightGBM] [Info] Start training from score 0.097735\n"
     ]
    },
    {
     "name": "stderr",
     "output_type": "stream",
     "text": [
      " 51%|█████     | 94/185 [03:48<03:26,  2.27s/it]"
     ]
    },
    {
     "name": "stdout",
     "output_type": "stream",
     "text": [
      "[LightGBM] [Warning] Found whitespace in feature_names, replace with underlines\n",
      "[LightGBM] [Info] Auto-choosing row-wise multi-threading, the overhead of testing was 0.002787 seconds.\n",
      "You can set `force_row_wise=true` to remove the overhead.\n",
      "And if memory is not enough, you can set `force_col_wise=true`.\n",
      "[LightGBM] [Info] Total Bins 5457\n",
      "[LightGBM] [Info] Number of data points in the train set: 27648, number of used features: 578\n",
      "[LightGBM] [Info] Start training from score 0.393634\n"
     ]
    },
    {
     "name": "stderr",
     "output_type": "stream",
     "text": [
      " 51%|█████▏    | 95/185 [03:50<03:29,  2.32s/it]"
     ]
    },
    {
     "name": "stdout",
     "output_type": "stream",
     "text": [
      "[LightGBM] [Warning] Found whitespace in feature_names, replace with underlines\n",
      "[LightGBM] [Info] Auto-choosing row-wise multi-threading, the overhead of testing was 0.002278 seconds.\n",
      "You can set `force_row_wise=true` to remove the overhead.\n",
      "And if memory is not enough, you can set `force_col_wise=true`.\n",
      "[LightGBM] [Info] Total Bins 5337\n",
      "[LightGBM] [Info] Number of data points in the train set: 29952, number of used features: 578\n",
      "[LightGBM] [Info] Start training from score 0.018648\n"
     ]
    },
    {
     "name": "stderr",
     "output_type": "stream",
     "text": [
      " 52%|█████▏    | 96/185 [03:53<03:25,  2.31s/it]"
     ]
    },
    {
     "name": "stdout",
     "output_type": "stream",
     "text": [
      "[LightGBM] [Warning] Found whitespace in feature_names, replace with underlines\n",
      "[LightGBM] [Info] Auto-choosing row-wise multi-threading, the overhead of testing was 0.000714 seconds.\n",
      "You can set `force_row_wise=true` to remove the overhead.\n",
      "And if memory is not enough, you can set `force_col_wise=true`.\n",
      "[LightGBM] [Info] Total Bins 5457\n",
      "[LightGBM] [Info] Number of data points in the train set: 30048, number of used features: 578\n",
      "[LightGBM] [Info] Start training from score 0.115568\n"
     ]
    },
    {
     "name": "stderr",
     "output_type": "stream",
     "text": [
      " 52%|█████▏    | 97/185 [03:55<03:23,  2.31s/it]"
     ]
    },
    {
     "name": "stdout",
     "output_type": "stream",
     "text": [
      "[LightGBM] [Warning] Found whitespace in feature_names, replace with underlines\n",
      "[LightGBM] [Info] Auto-choosing row-wise multi-threading, the overhead of testing was 0.000801 seconds.\n",
      "You can set `force_row_wise=true` to remove the overhead.\n",
      "And if memory is not enough, you can set `force_col_wise=true`.\n",
      "[LightGBM] [Info] Total Bins 5457\n",
      "[LightGBM] [Info] Number of data points in the train set: 30048, number of used features: 578\n",
      "[LightGBM] [Info] Start training from score 0.312092\n"
     ]
    },
    {
     "name": "stderr",
     "output_type": "stream",
     "text": [
      " 53%|█████▎    | 98/185 [03:57<03:23,  2.34s/it]"
     ]
    },
    {
     "name": "stdout",
     "output_type": "stream",
     "text": [
      "[LightGBM] [Warning] Found whitespace in feature_names, replace with underlines\n",
      "[LightGBM] [Info] Auto-choosing row-wise multi-threading, the overhead of testing was 0.002458 seconds.\n",
      "You can set `force_row_wise=true` to remove the overhead.\n",
      "And if memory is not enough, you can set `force_col_wise=true`.\n",
      "[LightGBM] [Info] Total Bins 5457\n",
      "[LightGBM] [Info] Number of data points in the train set: 30000, number of used features: 578\n",
      "[LightGBM] [Info] Start training from score 0.271497\n"
     ]
    },
    {
     "name": "stderr",
     "output_type": "stream",
     "text": [
      " 54%|█████▎    | 99/185 [04:00<03:20,  2.33s/it]"
     ]
    },
    {
     "name": "stdout",
     "output_type": "stream",
     "text": [
      "[LightGBM] [Warning] Found whitespace in feature_names, replace with underlines\n",
      "[LightGBM] [Info] Auto-choosing row-wise multi-threading, the overhead of testing was 0.002542 seconds.\n",
      "You can set `force_row_wise=true` to remove the overhead.\n",
      "And if memory is not enough, you can set `force_col_wise=true`.\n",
      "[LightGBM] [Info] Total Bins 5457\n",
      "[LightGBM] [Info] Number of data points in the train set: 27168, number of used features: 578\n",
      "[LightGBM] [Info] Start training from score 0.385046\n"
     ]
    },
    {
     "name": "stderr",
     "output_type": "stream",
     "text": [
      " 54%|█████▍    | 100/185 [04:02<03:11,  2.25s/it]"
     ]
    },
    {
     "name": "stdout",
     "output_type": "stream",
     "text": [
      "[LightGBM] [Warning] Found whitespace in feature_names, replace with underlines\n",
      "[LightGBM] [Info] Auto-choosing row-wise multi-threading, the overhead of testing was 0.002995 seconds.\n",
      "You can set `force_row_wise=true` to remove the overhead.\n",
      "And if memory is not enough, you can set `force_col_wise=true`.\n",
      "[LightGBM] [Info] Total Bins 5457\n",
      "[LightGBM] [Info] Number of data points in the train set: 26400, number of used features: 578\n",
      "[LightGBM] [Info] Start training from score 0.220059\n"
     ]
    },
    {
     "name": "stderr",
     "output_type": "stream",
     "text": [
      " 55%|█████▍    | 101/185 [04:04<03:03,  2.18s/it]"
     ]
    },
    {
     "name": "stdout",
     "output_type": "stream",
     "text": [
      "[LightGBM] [Warning] Found whitespace in feature_names, replace with underlines\n",
      "[LightGBM] [Info] Auto-choosing row-wise multi-threading, the overhead of testing was 0.002310 seconds.\n",
      "You can set `force_row_wise=true` to remove the overhead.\n",
      "And if memory is not enough, you can set `force_col_wise=true`.\n",
      "[LightGBM] [Info] Total Bins 5457\n",
      "[LightGBM] [Info] Number of data points in the train set: 24048, number of used features: 578\n",
      "[LightGBM] [Info] Start training from score 0.278292\n"
     ]
    },
    {
     "name": "stderr",
     "output_type": "stream",
     "text": [
      " 55%|█████▌    | 102/185 [04:07<03:18,  2.39s/it]"
     ]
    },
    {
     "name": "stdout",
     "output_type": "stream",
     "text": [
      "[LightGBM] [Warning] Found whitespace in feature_names, replace with underlines\n",
      "[LightGBM] [Info] Auto-choosing row-wise multi-threading, the overhead of testing was 0.002401 seconds.\n",
      "You can set `force_row_wise=true` to remove the overhead.\n",
      "And if memory is not enough, you can set `force_col_wise=true`.\n",
      "[LightGBM] [Info] Total Bins 5457\n",
      "[LightGBM] [Info] Number of data points in the train set: 24048, number of used features: 578\n",
      "[LightGBM] [Info] Start training from score 0.905396\n"
     ]
    },
    {
     "name": "stderr",
     "output_type": "stream",
     "text": [
      " 56%|█████▌    | 103/185 [04:09<03:15,  2.39s/it]"
     ]
    },
    {
     "name": "stdout",
     "output_type": "stream",
     "text": [
      "[LightGBM] [Warning] Found whitespace in feature_names, replace with underlines\n",
      "[LightGBM] [Info] Auto-choosing row-wise multi-threading, the overhead of testing was 0.002409 seconds.\n",
      "You can set `force_row_wise=true` to remove the overhead.\n",
      "And if memory is not enough, you can set `force_col_wise=true`.\n",
      "[LightGBM] [Info] Total Bins 5457\n",
      "[LightGBM] [Info] Number of data points in the train set: 23712, number of used features: 578\n",
      "[LightGBM] [Info] Start training from score 0.394076\n"
     ]
    },
    {
     "name": "stderr",
     "output_type": "stream",
     "text": [
      " 56%|█████▌    | 104/185 [04:11<03:08,  2.32s/it]"
     ]
    },
    {
     "name": "stdout",
     "output_type": "stream",
     "text": [
      "[LightGBM] [Warning] Found whitespace in feature_names, replace with underlines\n",
      "[LightGBM] [Info] Auto-choosing row-wise multi-threading, the overhead of testing was 0.002377 seconds.\n",
      "You can set `force_row_wise=true` to remove the overhead.\n",
      "And if memory is not enough, you can set `force_col_wise=true`.\n",
      "[LightGBM] [Info] Total Bins 5457\n",
      "[LightGBM] [Info] Number of data points in the train set: 23712, number of used features: 578\n",
      "[LightGBM] [Info] Start training from score 0.114901\n"
     ]
    },
    {
     "name": "stderr",
     "output_type": "stream",
     "text": [
      " 57%|█████▋    | 105/185 [04:13<02:57,  2.22s/it]"
     ]
    },
    {
     "name": "stdout",
     "output_type": "stream",
     "text": [
      "[LightGBM] [Warning] Found whitespace in feature_names, replace with underlines\n",
      "[LightGBM] [Info] Auto-choosing row-wise multi-threading, the overhead of testing was 0.002432 seconds.\n",
      "You can set `force_row_wise=true` to remove the overhead.\n",
      "And if memory is not enough, you can set `force_col_wise=true`.\n",
      "[LightGBM] [Info] Total Bins 5457\n",
      "[LightGBM] [Info] Number of data points in the train set: 23664, number of used features: 578\n",
      "[LightGBM] [Info] Start training from score 0.147039\n"
     ]
    },
    {
     "name": "stderr",
     "output_type": "stream",
     "text": [
      " 57%|█████▋    | 106/185 [04:15<02:54,  2.20s/it]"
     ]
    },
    {
     "name": "stdout",
     "output_type": "stream",
     "text": [
      "[LightGBM] [Warning] Found whitespace in feature_names, replace with underlines\n",
      "[LightGBM] [Info] Auto-choosing row-wise multi-threading, the overhead of testing was 0.002317 seconds.\n",
      "You can set `force_row_wise=true` to remove the overhead.\n",
      "And if memory is not enough, you can set `force_col_wise=true`.\n",
      "[LightGBM] [Info] Total Bins 5457\n",
      "[LightGBM] [Info] Number of data points in the train set: 23568, number of used features: 578\n",
      "[LightGBM] [Info] Start training from score 0.235739\n"
     ]
    },
    {
     "name": "stderr",
     "output_type": "stream",
     "text": [
      " 58%|█████▊    | 107/185 [04:17<02:47,  2.15s/it]"
     ]
    },
    {
     "name": "stdout",
     "output_type": "stream",
     "text": [
      "[LightGBM] [Warning] Found whitespace in feature_names, replace with underlines\n",
      "[LightGBM] [Info] Auto-choosing row-wise multi-threading, the overhead of testing was 0.002393 seconds.\n",
      "You can set `force_row_wise=true` to remove the overhead.\n",
      "And if memory is not enough, you can set `force_col_wise=true`.\n",
      "[LightGBM] [Info] Total Bins 5457\n",
      "[LightGBM] [Info] Number of data points in the train set: 23520, number of used features: 578\n",
      "[LightGBM] [Info] Start training from score 0.262957\n"
     ]
    },
    {
     "name": "stderr",
     "output_type": "stream",
     "text": [
      " 58%|█████▊    | 108/185 [04:20<02:46,  2.16s/it]"
     ]
    },
    {
     "name": "stdout",
     "output_type": "stream",
     "text": [
      "[LightGBM] [Warning] Found whitespace in feature_names, replace with underlines\n",
      "[LightGBM] [Info] Auto-choosing row-wise multi-threading, the overhead of testing was 0.002331 seconds.\n",
      "You can set `force_row_wise=true` to remove the overhead.\n",
      "And if memory is not enough, you can set `force_col_wise=true`.\n",
      "[LightGBM] [Info] Total Bins 5457\n",
      "[LightGBM] [Info] Number of data points in the train set: 23376, number of used features: 578\n",
      "[LightGBM] [Info] Start training from score 0.143452\n"
     ]
    },
    {
     "name": "stderr",
     "output_type": "stream",
     "text": [
      " 59%|█████▉    | 109/185 [04:23<03:06,  2.45s/it]"
     ]
    },
    {
     "name": "stdout",
     "output_type": "stream",
     "text": [
      "[LightGBM] [Warning] Found whitespace in feature_names, replace with underlines\n",
      "[LightGBM] [Info] Auto-choosing row-wise multi-threading, the overhead of testing was 0.002846 seconds.\n",
      "You can set `force_row_wise=true` to remove the overhead.\n",
      "And if memory is not enough, you can set `force_col_wise=true`.\n",
      "[LightGBM] [Info] Total Bins 5457\n",
      "[LightGBM] [Info] Number of data points in the train set: 23376, number of used features: 578\n",
      "[LightGBM] [Info] Start training from score 0.134691\n"
     ]
    },
    {
     "name": "stderr",
     "output_type": "stream",
     "text": [
      " 59%|█████▉    | 110/185 [04:25<03:01,  2.42s/it]"
     ]
    },
    {
     "name": "stdout",
     "output_type": "stream",
     "text": [
      "[LightGBM] [Warning] Found whitespace in feature_names, replace with underlines\n",
      "[LightGBM] [Info] Auto-choosing row-wise multi-threading, the overhead of testing was 0.002288 seconds.\n",
      "You can set `force_row_wise=true` to remove the overhead.\n",
      "And if memory is not enough, you can set `force_col_wise=true`.\n",
      "[LightGBM] [Info] Total Bins 5457\n",
      "[LightGBM] [Info] Number of data points in the train set: 23328, number of used features: 578\n",
      "[LightGBM] [Info] Start training from score 0.304318\n"
     ]
    },
    {
     "name": "stderr",
     "output_type": "stream",
     "text": [
      " 60%|██████    | 111/185 [04:27<02:49,  2.30s/it]"
     ]
    },
    {
     "name": "stdout",
     "output_type": "stream",
     "text": [
      "[LightGBM] [Warning] Found whitespace in feature_names, replace with underlines\n",
      "[LightGBM] [Info] Auto-choosing row-wise multi-threading, the overhead of testing was 0.002246 seconds.\n",
      "You can set `force_row_wise=true` to remove the overhead.\n",
      "And if memory is not enough, you can set `force_col_wise=true`.\n",
      "[LightGBM] [Info] Total Bins 5457\n",
      "[LightGBM] [Info] Number of data points in the train set: 23328, number of used features: 578\n",
      "[LightGBM] [Info] Start training from score 0.210629\n"
     ]
    },
    {
     "name": "stderr",
     "output_type": "stream",
     "text": [
      " 61%|██████    | 112/185 [04:29<02:40,  2.19s/it]"
     ]
    },
    {
     "name": "stdout",
     "output_type": "stream",
     "text": [
      "[LightGBM] [Warning] Found whitespace in feature_names, replace with underlines\n",
      "[LightGBM] [Info] Auto-choosing row-wise multi-threading, the overhead of testing was 0.002223 seconds.\n",
      "You can set `force_row_wise=true` to remove the overhead.\n",
      "And if memory is not enough, you can set `force_col_wise=true`.\n",
      "[LightGBM] [Info] Total Bins 5457\n",
      "[LightGBM] [Info] Number of data points in the train set: 23328, number of used features: 578\n",
      "[LightGBM] [Info] Start training from score 0.297918\n"
     ]
    },
    {
     "name": "stderr",
     "output_type": "stream",
     "text": [
      " 61%|██████    | 113/185 [04:31<02:33,  2.14s/it]"
     ]
    },
    {
     "name": "stdout",
     "output_type": "stream",
     "text": [
      "[LightGBM] [Warning] Found whitespace in feature_names, replace with underlines\n",
      "[LightGBM] [Info] Auto-choosing row-wise multi-threading, the overhead of testing was 0.001571 seconds.\n",
      "You can set `force_row_wise=true` to remove the overhead.\n",
      "And if memory is not enough, you can set `force_col_wise=true`.\n",
      "[LightGBM] [Info] Total Bins 5457\n",
      "[LightGBM] [Info] Number of data points in the train set: 19776, number of used features: 578\n",
      "[LightGBM] [Info] Start training from score 0.136912\n"
     ]
    },
    {
     "name": "stderr",
     "output_type": "stream",
     "text": [
      " 62%|██████▏   | 114/185 [04:33<02:30,  2.12s/it]"
     ]
    },
    {
     "name": "stdout",
     "output_type": "stream",
     "text": [
      "[LightGBM] [Warning] Found whitespace in feature_names, replace with underlines\n",
      "[LightGBM] [Info] Auto-choosing row-wise multi-threading, the overhead of testing was 0.002104 seconds.\n",
      "You can set `force_row_wise=true` to remove the overhead.\n",
      "And if memory is not enough, you can set `force_col_wise=true`.\n",
      "[LightGBM] [Info] Total Bins 5457\n",
      "[LightGBM] [Info] Number of data points in the train set: 23232, number of used features: 578\n",
      "[LightGBM] [Info] Start training from score 0.125026\n"
     ]
    },
    {
     "name": "stderr",
     "output_type": "stream",
     "text": [
      " 62%|██████▏   | 115/185 [04:36<02:34,  2.20s/it]"
     ]
    },
    {
     "name": "stdout",
     "output_type": "stream",
     "text": [
      "[LightGBM] [Warning] Found whitespace in feature_names, replace with underlines\n",
      "[LightGBM] [Info] Auto-choosing row-wise multi-threading, the overhead of testing was 0.002097 seconds.\n",
      "You can set `force_row_wise=true` to remove the overhead.\n",
      "And if memory is not enough, you can set `force_col_wise=true`.\n",
      "[LightGBM] [Info] Total Bins 5457\n",
      "[LightGBM] [Info] Number of data points in the train set: 23040, number of used features: 578\n",
      "[LightGBM] [Info] Start training from score 0.284703\n"
     ]
    },
    {
     "name": "stderr",
     "output_type": "stream",
     "text": [
      " 63%|██████▎   | 116/185 [04:39<02:57,  2.57s/it]"
     ]
    },
    {
     "name": "stdout",
     "output_type": "stream",
     "text": [
      "[LightGBM] [Warning] Found whitespace in feature_names, replace with underlines\n",
      "[LightGBM] [Info] Auto-choosing row-wise multi-threading, the overhead of testing was 0.003084 seconds.\n",
      "You can set `force_row_wise=true` to remove the overhead.\n",
      "And if memory is not enough, you can set `force_col_wise=true`.\n",
      "[LightGBM] [Info] Total Bins 5457\n",
      "[LightGBM] [Info] Number of data points in the train set: 23040, number of used features: 578\n",
      "[LightGBM] [Info] Start training from score 0.157163\n"
     ]
    },
    {
     "name": "stderr",
     "output_type": "stream",
     "text": [
      " 63%|██████▎   | 117/185 [04:41<02:50,  2.51s/it]"
     ]
    },
    {
     "name": "stdout",
     "output_type": "stream",
     "text": [
      "[LightGBM] [Warning] Found whitespace in feature_names, replace with underlines\n",
      "[LightGBM] [Info] Auto-choosing row-wise multi-threading, the overhead of testing was 0.002034 seconds.\n",
      "You can set `force_row_wise=true` to remove the overhead.\n",
      "And if memory is not enough, you can set `force_col_wise=true`.\n",
      "[LightGBM] [Info] Total Bins 5457\n",
      "[LightGBM] [Info] Number of data points in the train set: 23040, number of used features: 578\n",
      "[LightGBM] [Info] Start training from score 0.123974\n"
     ]
    },
    {
     "name": "stderr",
     "output_type": "stream",
     "text": [
      " 64%|██████▍   | 118/185 [04:43<02:36,  2.33s/it]"
     ]
    },
    {
     "name": "stdout",
     "output_type": "stream",
     "text": [
      "[LightGBM] [Warning] Found whitespace in feature_names, replace with underlines\n",
      "[LightGBM] [Info] Auto-choosing row-wise multi-threading, the overhead of testing was 0.002113 seconds.\n",
      "You can set `force_row_wise=true` to remove the overhead.\n",
      "And if memory is not enough, you can set `force_col_wise=true`.\n",
      "[LightGBM] [Info] Total Bins 5457\n",
      "[LightGBM] [Info] Number of data points in the train set: 22896, number of used features: 578\n",
      "[LightGBM] [Info] Start training from score 0.105949\n"
     ]
    },
    {
     "name": "stderr",
     "output_type": "stream",
     "text": [
      " 64%|██████▍   | 119/185 [04:45<02:28,  2.25s/it]"
     ]
    },
    {
     "name": "stdout",
     "output_type": "stream",
     "text": [
      "[LightGBM] [Warning] Found whitespace in feature_names, replace with underlines\n",
      "[LightGBM] [Info] Auto-choosing row-wise multi-threading, the overhead of testing was 0.002179 seconds.\n",
      "You can set `force_row_wise=true` to remove the overhead.\n",
      "And if memory is not enough, you can set `force_col_wise=true`.\n",
      "[LightGBM] [Info] Total Bins 5457\n",
      "[LightGBM] [Info] Number of data points in the train set: 22896, number of used features: 578\n",
      "[LightGBM] [Info] Start training from score 0.130801\n"
     ]
    },
    {
     "name": "stderr",
     "output_type": "stream",
     "text": [
      " 65%|██████▍   | 120/185 [04:48<02:24,  2.22s/it]"
     ]
    },
    {
     "name": "stdout",
     "output_type": "stream",
     "text": [
      "[LightGBM] [Warning] Found whitespace in feature_names, replace with underlines\n",
      "[LightGBM] [Info] Auto-choosing row-wise multi-threading, the overhead of testing was 0.003195 seconds.\n",
      "You can set `force_row_wise=true` to remove the overhead.\n",
      "And if memory is not enough, you can set `force_col_wise=true`.\n",
      "[LightGBM] [Info] Total Bins 5457\n",
      "[LightGBM] [Info] Number of data points in the train set: 22848, number of used features: 578\n",
      "[LightGBM] [Info] Start training from score 0.049284\n"
     ]
    },
    {
     "name": "stderr",
     "output_type": "stream",
     "text": [
      " 65%|██████▌   | 121/185 [04:50<02:19,  2.18s/it]"
     ]
    },
    {
     "name": "stdout",
     "output_type": "stream",
     "text": [
      "[LightGBM] [Warning] Found whitespace in feature_names, replace with underlines\n",
      "[LightGBM] [Info] Auto-choosing row-wise multi-threading, the overhead of testing was 0.002363 seconds.\n",
      "You can set `force_row_wise=true` to remove the overhead.\n",
      "And if memory is not enough, you can set `force_col_wise=true`.\n",
      "[LightGBM] [Info] Total Bins 5457\n",
      "[LightGBM] [Info] Number of data points in the train set: 22848, number of used features: 578\n",
      "[LightGBM] [Info] Start training from score 0.197117\n"
     ]
    },
    {
     "name": "stderr",
     "output_type": "stream",
     "text": [
      " 66%|██████▌   | 122/185 [04:52<02:14,  2.13s/it]"
     ]
    },
    {
     "name": "stdout",
     "output_type": "stream",
     "text": [
      "[LightGBM] [Warning] Found whitespace in feature_names, replace with underlines\n",
      "[LightGBM] [Info] Auto-choosing row-wise multi-threading, the overhead of testing was 0.002173 seconds.\n",
      "You can set `force_row_wise=true` to remove the overhead.\n",
      "And if memory is not enough, you can set `force_col_wise=true`.\n",
      "[LightGBM] [Info] Total Bins 5457\n",
      "[LightGBM] [Info] Number of data points in the train set: 22656, number of used features: 578\n",
      "[LightGBM] [Info] Start training from score 0.412058\n"
     ]
    },
    {
     "name": "stderr",
     "output_type": "stream",
     "text": [
      " 66%|██████▋   | 123/185 [04:54<02:10,  2.11s/it]"
     ]
    },
    {
     "name": "stdout",
     "output_type": "stream",
     "text": [
      "[LightGBM] [Warning] Found whitespace in feature_names, replace with underlines\n",
      "[LightGBM] [Info] Auto-choosing row-wise multi-threading, the overhead of testing was 0.002380 seconds.\n",
      "You can set `force_row_wise=true` to remove the overhead.\n",
      "And if memory is not enough, you can set `force_col_wise=true`.\n",
      "[LightGBM] [Info] Total Bins 5457\n",
      "[LightGBM] [Info] Number of data points in the train set: 22560, number of used features: 578\n",
      "[LightGBM] [Info] Start training from score 0.323478\n"
     ]
    },
    {
     "name": "stderr",
     "output_type": "stream",
     "text": [
      " 67%|██████▋   | 124/185 [04:56<02:09,  2.13s/it]"
     ]
    },
    {
     "name": "stdout",
     "output_type": "stream",
     "text": [
      "[LightGBM] [Warning] Found whitespace in feature_names, replace with underlines\n",
      "[LightGBM] [Info] Auto-choosing row-wise multi-threading, the overhead of testing was 0.002204 seconds.\n",
      "You can set `force_row_wise=true` to remove the overhead.\n",
      "And if memory is not enough, you can set `force_col_wise=true`.\n",
      "[LightGBM] [Info] Total Bins 5457\n",
      "[LightGBM] [Info] Number of data points in the train set: 22512, number of used features: 578\n",
      "[LightGBM] [Info] Start training from score 0.155467\n"
     ]
    },
    {
     "name": "stderr",
     "output_type": "stream",
     "text": [
      " 68%|██████▊   | 125/185 [04:58<02:10,  2.18s/it]"
     ]
    },
    {
     "name": "stdout",
     "output_type": "stream",
     "text": [
      "[LightGBM] [Warning] Found whitespace in feature_names, replace with underlines\n",
      "[LightGBM] [Info] Auto-choosing row-wise multi-threading, the overhead of testing was 0.002228 seconds.\n",
      "You can set `force_row_wise=true` to remove the overhead.\n",
      "And if memory is not enough, you can set `force_col_wise=true`.\n",
      "[LightGBM] [Info] Total Bins 5457\n",
      "[LightGBM] [Info] Number of data points in the train set: 22464, number of used features: 578\n",
      "[LightGBM] [Info] Start training from score 0.387564\n"
     ]
    },
    {
     "name": "stderr",
     "output_type": "stream",
     "text": [
      " 68%|██████▊   | 126/185 [05:00<02:05,  2.12s/it]"
     ]
    },
    {
     "name": "stdout",
     "output_type": "stream",
     "text": [
      "[LightGBM] [Warning] Found whitespace in feature_names, replace with underlines\n",
      "[LightGBM] [Info] Auto-choosing row-wise multi-threading, the overhead of testing was 0.002237 seconds.\n",
      "You can set `force_row_wise=true` to remove the overhead.\n",
      "And if memory is not enough, you can set `force_col_wise=true`.\n",
      "[LightGBM] [Info] Total Bins 5457\n",
      "[LightGBM] [Info] Number of data points in the train set: 22320, number of used features: 578\n",
      "[LightGBM] [Info] Start training from score 0.380910\n"
     ]
    },
    {
     "name": "stderr",
     "output_type": "stream",
     "text": [
      " 69%|██████▊   | 127/185 [05:02<01:59,  2.06s/it]"
     ]
    },
    {
     "name": "stdout",
     "output_type": "stream",
     "text": [
      "[LightGBM] [Warning] Found whitespace in feature_names, replace with underlines\n",
      "[LightGBM] [Info] Auto-choosing row-wise multi-threading, the overhead of testing was 0.002183 seconds.\n",
      "You can set `force_row_wise=true` to remove the overhead.\n",
      "And if memory is not enough, you can set `force_col_wise=true`.\n",
      "[LightGBM] [Info] Total Bins 5457\n",
      "[LightGBM] [Info] Number of data points in the train set: 22176, number of used features: 578\n",
      "[LightGBM] [Info] Start training from score 0.282762\n"
     ]
    },
    {
     "name": "stderr",
     "output_type": "stream",
     "text": [
      " 69%|██████▉   | 128/185 [05:05<02:06,  2.21s/it]"
     ]
    },
    {
     "name": "stdout",
     "output_type": "stream",
     "text": [
      "[LightGBM] [Warning] Found whitespace in feature_names, replace with underlines\n",
      "[LightGBM] [Info] Auto-choosing row-wise multi-threading, the overhead of testing was 0.002154 seconds.\n",
      "You can set `force_row_wise=true` to remove the overhead.\n",
      "And if memory is not enough, you can set `force_col_wise=true`.\n",
      "[LightGBM] [Info] Total Bins 5457\n",
      "[LightGBM] [Info] Number of data points in the train set: 22176, number of used features: 578\n",
      "[LightGBM] [Info] Start training from score 0.321720\n"
     ]
    },
    {
     "name": "stderr",
     "output_type": "stream",
     "text": [
      " 70%|██████▉   | 129/185 [05:07<02:07,  2.27s/it]"
     ]
    },
    {
     "name": "stdout",
     "output_type": "stream",
     "text": [
      "[LightGBM] [Warning] Found whitespace in feature_names, replace with underlines\n",
      "[LightGBM] [Info] Auto-choosing row-wise multi-threading, the overhead of testing was 0.002755 seconds.\n",
      "You can set `force_row_wise=true` to remove the overhead.\n",
      "And if memory is not enough, you can set `force_col_wise=true`.\n",
      "[LightGBM] [Info] Total Bins 5457\n",
      "[LightGBM] [Info] Number of data points in the train set: 27552, number of used features: 578\n",
      "[LightGBM] [Info] Start training from score 0.197102\n"
     ]
    },
    {
     "name": "stderr",
     "output_type": "stream",
     "text": [
      " 70%|███████   | 130/185 [05:09<02:07,  2.32s/it]"
     ]
    },
    {
     "name": "stdout",
     "output_type": "stream",
     "text": [
      "[LightGBM] [Warning] Found whitespace in feature_names, replace with underlines\n",
      "[LightGBM] [Info] Auto-choosing row-wise multi-threading, the overhead of testing was 0.002859 seconds.\n",
      "You can set `force_row_wise=true` to remove the overhead.\n",
      "And if memory is not enough, you can set `force_col_wise=true`.\n",
      "[LightGBM] [Info] Total Bins 5457\n",
      "[LightGBM] [Info] Number of data points in the train set: 27552, number of used features: 578\n",
      "[LightGBM] [Info] Start training from score 0.384112\n"
     ]
    },
    {
     "name": "stderr",
     "output_type": "stream",
     "text": [
      " 71%|███████   | 131/185 [05:12<02:11,  2.43s/it]"
     ]
    },
    {
     "name": "stdout",
     "output_type": "stream",
     "text": [
      "[LightGBM] [Warning] Found whitespace in feature_names, replace with underlines\n",
      "[LightGBM] [Info] Auto-choosing row-wise multi-threading, the overhead of testing was 0.004198 seconds.\n",
      "You can set `force_row_wise=true` to remove the overhead.\n",
      "And if memory is not enough, you can set `force_col_wise=true`.\n",
      "[LightGBM] [Info] Total Bins 5457\n",
      "[LightGBM] [Info] Number of data points in the train set: 27552, number of used features: 578\n",
      "[LightGBM] [Info] Start training from score 0.725584\n"
     ]
    },
    {
     "name": "stderr",
     "output_type": "stream",
     "text": [
      " 71%|███████▏  | 132/185 [05:15<02:22,  2.69s/it]"
     ]
    },
    {
     "name": "stdout",
     "output_type": "stream",
     "text": [
      "[LightGBM] [Warning] Found whitespace in feature_names, replace with underlines\n",
      "[LightGBM] [Info] Auto-choosing row-wise multi-threading, the overhead of testing was 0.002681 seconds.\n",
      "You can set `force_row_wise=true` to remove the overhead.\n",
      "And if memory is not enough, you can set `force_col_wise=true`.\n",
      "[LightGBM] [Info] Total Bins 5457\n",
      "[LightGBM] [Info] Number of data points in the train set: 27552, number of used features: 578\n",
      "[LightGBM] [Info] Start training from score 0.392091\n"
     ]
    },
    {
     "name": "stderr",
     "output_type": "stream",
     "text": [
      " 72%|███████▏  | 133/185 [05:19<02:27,  2.84s/it]"
     ]
    },
    {
     "name": "stdout",
     "output_type": "stream",
     "text": [
      "[LightGBM] [Warning] Found whitespace in feature_names, replace with underlines\n",
      "[LightGBM] [Info] Auto-choosing row-wise multi-threading, the overhead of testing was 0.006302 seconds.\n",
      "You can set `force_row_wise=true` to remove the overhead.\n",
      "And if memory is not enough, you can set `force_col_wise=true`.\n",
      "[LightGBM] [Info] Total Bins 2802\n",
      "[LightGBM] [Info] Number of data points in the train set: 29904, number of used features: 578\n",
      "[LightGBM] [Info] Start training from score 0.002641\n",
      "[LightGBM] [Warning] No further splits with positive gain, best gain: -inf\n"
     ]
    },
    {
     "name": "stderr",
     "output_type": "stream",
     "text": [
      " 72%|███████▏  | 134/185 [05:20<02:00,  2.36s/it]"
     ]
    },
    {
     "name": "stdout",
     "output_type": "stream",
     "text": [
      "[LightGBM] [Warning] Found whitespace in feature_names, replace with underlines\n",
      "[LightGBM] [Info] Auto-choosing row-wise multi-threading, the overhead of testing was 0.000775 seconds.\n",
      "You can set `force_row_wise=true` to remove the overhead.\n",
      "And if memory is not enough, you can set `force_col_wise=true`.\n",
      "[LightGBM] [Info] Total Bins 5085\n",
      "[LightGBM] [Info] Number of data points in the train set: 10128, number of used features: 392\n",
      "[LightGBM] [Info] Start training from score 0.109563\n"
     ]
    },
    {
     "name": "stderr",
     "output_type": "stream",
     "text": [
      " 73%|███████▎  | 135/185 [05:22<01:58,  2.37s/it]"
     ]
    },
    {
     "name": "stdout",
     "output_type": "stream",
     "text": [
      "[LightGBM] [Warning] Found whitespace in feature_names, replace with underlines\n",
      "[LightGBM] [Info] Auto-choosing row-wise multi-threading, the overhead of testing was 0.002946 seconds.\n",
      "You can set `force_row_wise=true` to remove the overhead.\n",
      "And if memory is not enough, you can set `force_col_wise=true`.\n",
      "[LightGBM] [Info] Total Bins 5457\n",
      "[LightGBM] [Info] Number of data points in the train set: 29856, number of used features: 578\n",
      "[LightGBM] [Info] Start training from score 0.104607\n"
     ]
    },
    {
     "name": "stderr",
     "output_type": "stream",
     "text": [
      " 74%|███████▎  | 136/185 [05:25<01:59,  2.43s/it]"
     ]
    },
    {
     "name": "stdout",
     "output_type": "stream",
     "text": [
      "[LightGBM] [Warning] Found whitespace in feature_names, replace with underlines\n",
      "[LightGBM] [Info] Auto-choosing row-wise multi-threading, the overhead of testing was 0.002329 seconds.\n",
      "You can set `force_row_wise=true` to remove the overhead.\n",
      "And if memory is not enough, you can set `force_col_wise=true`.\n",
      "[LightGBM] [Info] Total Bins 5457\n",
      "[LightGBM] [Info] Number of data points in the train set: 29856, number of used features: 578\n",
      "[LightGBM] [Info] Start training from score 0.224291\n"
     ]
    },
    {
     "name": "stderr",
     "output_type": "stream",
     "text": [
      " 74%|███████▍  | 137/185 [05:27<01:55,  2.40s/it]"
     ]
    },
    {
     "name": "stdout",
     "output_type": "stream",
     "text": [
      "[LightGBM] [Warning] Found whitespace in feature_names, replace with underlines\n",
      "[LightGBM] [Info] Auto-choosing row-wise multi-threading, the overhead of testing was 0.002418 seconds.\n",
      "You can set `force_row_wise=true` to remove the overhead.\n",
      "And if memory is not enough, you can set `force_col_wise=true`.\n",
      "[LightGBM] [Info] Total Bins 5457\n",
      "[LightGBM] [Info] Number of data points in the train set: 29760, number of used features: 578\n",
      "[LightGBM] [Info] Start training from score 0.039805\n"
     ]
    },
    {
     "name": "stderr",
     "output_type": "stream",
     "text": [
      " 75%|███████▍  | 138/185 [05:30<01:54,  2.43s/it]"
     ]
    },
    {
     "name": "stdout",
     "output_type": "stream",
     "text": [
      "[LightGBM] [Warning] Found whitespace in feature_names, replace with underlines\n",
      "[LightGBM] [Info] Auto-choosing row-wise multi-threading, the overhead of testing was 0.002329 seconds.\n",
      "You can set `force_row_wise=true` to remove the overhead.\n",
      "And if memory is not enough, you can set `force_col_wise=true`.\n",
      "[LightGBM] [Info] Total Bins 5457\n",
      "[LightGBM] [Info] Number of data points in the train set: 29760, number of used features: 578\n",
      "[LightGBM] [Info] Start training from score 0.100898\n"
     ]
    },
    {
     "name": "stderr",
     "output_type": "stream",
     "text": [
      " 75%|███████▌  | 139/185 [05:32<01:49,  2.39s/it]"
     ]
    },
    {
     "name": "stdout",
     "output_type": "stream",
     "text": [
      "[LightGBM] [Warning] Found whitespace in feature_names, replace with underlines\n",
      "[LightGBM] [Info] Auto-choosing row-wise multi-threading, the overhead of testing was 0.002415 seconds.\n",
      "You can set `force_row_wise=true` to remove the overhead.\n",
      "And if memory is not enough, you can set `force_col_wise=true`.\n",
      "[LightGBM] [Info] Total Bins 5457\n",
      "[LightGBM] [Info] Number of data points in the train set: 29616, number of used features: 578\n",
      "[LightGBM] [Info] Start training from score 0.244470\n"
     ]
    },
    {
     "name": "stderr",
     "output_type": "stream",
     "text": [
      " 76%|███████▌  | 140/185 [05:34<01:48,  2.42s/it]"
     ]
    },
    {
     "name": "stdout",
     "output_type": "stream",
     "text": [
      "[LightGBM] [Warning] Found whitespace in feature_names, replace with underlines\n",
      "[LightGBM] [Info] Auto-choosing row-wise multi-threading, the overhead of testing was 0.002332 seconds.\n",
      "You can set `force_row_wise=true` to remove the overhead.\n",
      "And if memory is not enough, you can set `force_col_wise=true`.\n",
      "[LightGBM] [Info] Total Bins 5457\n",
      "[LightGBM] [Info] Number of data points in the train set: 29568, number of used features: 578\n",
      "[LightGBM] [Info] Start training from score 0.261817\n"
     ]
    },
    {
     "name": "stderr",
     "output_type": "stream",
     "text": [
      " 76%|███████▌  | 141/185 [05:37<01:48,  2.46s/it]"
     ]
    },
    {
     "name": "stdout",
     "output_type": "stream",
     "text": [
      "[LightGBM] [Warning] Found whitespace in feature_names, replace with underlines\n",
      "[LightGBM] [Info] Auto-choosing row-wise multi-threading, the overhead of testing was 0.002247 seconds.\n",
      "You can set `force_row_wise=true` to remove the overhead.\n",
      "And if memory is not enough, you can set `force_col_wise=true`.\n",
      "[LightGBM] [Info] Total Bins 5461\n",
      "[LightGBM] [Info] Number of data points in the train set: 33024, number of used features: 580\n",
      "[LightGBM] [Info] Start training from score 0.120579\n"
     ]
    },
    {
     "name": "stderr",
     "output_type": "stream",
     "text": [
      " 77%|███████▋  | 142/185 [05:40<01:47,  2.49s/it]"
     ]
    },
    {
     "name": "stdout",
     "output_type": "stream",
     "text": [
      "[LightGBM] [Warning] Found whitespace in feature_names, replace with underlines\n",
      "[LightGBM] [Info] Auto-choosing row-wise multi-threading, the overhead of testing was 0.002329 seconds.\n",
      "You can set `force_row_wise=true` to remove the overhead.\n",
      "And if memory is not enough, you can set `force_col_wise=true`.\n",
      "[LightGBM] [Info] Total Bins 5461\n",
      "[LightGBM] [Info] Number of data points in the train set: 32976, number of used features: 580\n",
      "[LightGBM] [Info] Start training from score 0.145698\n"
     ]
    },
    {
     "name": "stderr",
     "output_type": "stream",
     "text": [
      " 77%|███████▋  | 143/185 [05:42<01:45,  2.51s/it]"
     ]
    },
    {
     "name": "stdout",
     "output_type": "stream",
     "text": [
      "[LightGBM] [Warning] Found whitespace in feature_names, replace with underlines\n",
      "[LightGBM] [Info] Auto-choosing row-wise multi-threading, the overhead of testing was 0.003312 seconds.\n",
      "You can set `force_row_wise=true` to remove the overhead.\n",
      "And if memory is not enough, you can set `force_col_wise=true`.\n",
      "[LightGBM] [Info] Total Bins 5461\n",
      "[LightGBM] [Info] Number of data points in the train set: 32784, number of used features: 580\n",
      "[LightGBM] [Info] Start training from score 0.132996\n"
     ]
    },
    {
     "name": "stderr",
     "output_type": "stream",
     "text": [
      " 78%|███████▊  | 144/185 [05:45<01:44,  2.54s/it]"
     ]
    },
    {
     "name": "stdout",
     "output_type": "stream",
     "text": [
      "[LightGBM] [Warning] Found whitespace in feature_names, replace with underlines\n",
      "[LightGBM] [Info] Auto-choosing row-wise multi-threading, the overhead of testing was 0.002323 seconds.\n",
      "You can set `force_row_wise=true` to remove the overhead.\n",
      "And if memory is not enough, you can set `force_col_wise=true`.\n",
      "[LightGBM] [Info] Total Bins 5461\n",
      "[LightGBM] [Info] Number of data points in the train set: 32784, number of used features: 580\n",
      "[LightGBM] [Info] Start training from score 0.305781\n"
     ]
    },
    {
     "name": "stderr",
     "output_type": "stream",
     "text": [
      " 78%|███████▊  | 145/185 [05:47<01:43,  2.58s/it]"
     ]
    },
    {
     "name": "stdout",
     "output_type": "stream",
     "text": [
      "[LightGBM] [Warning] Found whitespace in feature_names, replace with underlines\n",
      "[LightGBM] [Info] Auto-choosing row-wise multi-threading, the overhead of testing was 0.002101 seconds.\n",
      "You can set `force_row_wise=true` to remove the overhead.\n",
      "And if memory is not enough, you can set `force_col_wise=true`.\n",
      "[LightGBM] [Info] Total Bins 5465\n",
      "[LightGBM] [Info] Number of data points in the train set: 36576, number of used features: 582\n",
      "[LightGBM] [Info] Start training from score 0.393486\n"
     ]
    },
    {
     "name": "stderr",
     "output_type": "stream",
     "text": [
      " 79%|███████▉  | 146/185 [05:51<01:47,  2.76s/it]"
     ]
    },
    {
     "name": "stdout",
     "output_type": "stream",
     "text": [
      "[LightGBM] [Warning] Found whitespace in feature_names, replace with underlines\n",
      "[LightGBM] [Info] Auto-choosing row-wise multi-threading, the overhead of testing was 0.002626 seconds.\n",
      "You can set `force_row_wise=true` to remove the overhead.\n",
      "And if memory is not enough, you can set `force_col_wise=true`.\n",
      "[LightGBM] [Info] Total Bins 5465\n",
      "[LightGBM] [Info] Number of data points in the train set: 36576, number of used features: 582\n",
      "[LightGBM] [Info] Start training from score 0.104612\n"
     ]
    },
    {
     "name": "stderr",
     "output_type": "stream",
     "text": [
      " 79%|███████▉  | 147/185 [05:53<01:46,  2.80s/it]"
     ]
    },
    {
     "name": "stdout",
     "output_type": "stream",
     "text": [
      "[LightGBM] [Warning] Found whitespace in feature_names, replace with underlines\n",
      "[LightGBM] [Info] Auto-choosing row-wise multi-threading, the overhead of testing was 0.002268 seconds.\n",
      "You can set `force_row_wise=true` to remove the overhead.\n",
      "And if memory is not enough, you can set `force_col_wise=true`.\n",
      "[LightGBM] [Info] Total Bins 5465\n",
      "[LightGBM] [Info] Number of data points in the train set: 36576, number of used features: 582\n",
      "[LightGBM] [Info] Start training from score 0.114887\n"
     ]
    },
    {
     "name": "stderr",
     "output_type": "stream",
     "text": [
      " 80%|████████  | 148/185 [05:56<01:42,  2.78s/it]"
     ]
    },
    {
     "name": "stdout",
     "output_type": "stream",
     "text": [
      "[LightGBM] [Warning] Found whitespace in feature_names, replace with underlines\n",
      "[LightGBM] [Info] Auto-choosing row-wise multi-threading, the overhead of testing was 0.002299 seconds.\n",
      "You can set `force_row_wise=true` to remove the overhead.\n",
      "And if memory is not enough, you can set `force_col_wise=true`.\n",
      "[LightGBM] [Info] Total Bins 5465\n",
      "[LightGBM] [Info] Number of data points in the train set: 36576, number of used features: 582\n",
      "[LightGBM] [Info] Start training from score 0.362299\n"
     ]
    },
    {
     "name": "stderr",
     "output_type": "stream",
     "text": [
      " 81%|████████  | 149/185 [05:59<01:39,  2.77s/it]"
     ]
    },
    {
     "name": "stdout",
     "output_type": "stream",
     "text": [
      "[LightGBM] [Warning] Found whitespace in feature_names, replace with underlines\n",
      "[LightGBM] [Info] Auto-choosing row-wise multi-threading, the overhead of testing was 0.003104 seconds.\n",
      "You can set `force_row_wise=true` to remove the overhead.\n",
      "And if memory is not enough, you can set `force_col_wise=true`.\n",
      "[LightGBM] [Info] Total Bins 5465\n",
      "[LightGBM] [Info] Number of data points in the train set: 36576, number of used features: 582\n",
      "[LightGBM] [Info] Start training from score 0.253553\n"
     ]
    },
    {
     "name": "stderr",
     "output_type": "stream",
     "text": [
      " 81%|████████  | 150/185 [06:02<01:37,  2.79s/it]"
     ]
    },
    {
     "name": "stdout",
     "output_type": "stream",
     "text": [
      "[LightGBM] [Warning] Found whitespace in feature_names, replace with underlines\n",
      "[LightGBM] [Info] Auto-choosing row-wise multi-threading, the overhead of testing was 0.002286 seconds.\n",
      "You can set `force_row_wise=true` to remove the overhead.\n",
      "And if memory is not enough, you can set `force_col_wise=true`.\n",
      "[LightGBM] [Info] Total Bins 5465\n",
      "[LightGBM] [Info] Number of data points in the train set: 36576, number of used features: 582\n",
      "[LightGBM] [Info] Start training from score 0.267034\n"
     ]
    },
    {
     "name": "stderr",
     "output_type": "stream",
     "text": [
      " 82%|████████▏ | 151/185 [06:05<01:34,  2.78s/it]"
     ]
    },
    {
     "name": "stdout",
     "output_type": "stream",
     "text": [
      "[LightGBM] [Warning] Found whitespace in feature_names, replace with underlines\n",
      "[LightGBM] [Info] Auto-choosing row-wise multi-threading, the overhead of testing was 0.003147 seconds.\n",
      "You can set `force_row_wise=true` to remove the overhead.\n",
      "And if memory is not enough, you can set `force_col_wise=true`.\n",
      "[LightGBM] [Info] Total Bins 5465\n",
      "[LightGBM] [Info] Number of data points in the train set: 36576, number of used features: 582\n",
      "[LightGBM] [Info] Start training from score 0.067636\n"
     ]
    },
    {
     "name": "stderr",
     "output_type": "stream",
     "text": [
      " 82%|████████▏ | 152/185 [06:07<01:27,  2.65s/it]"
     ]
    },
    {
     "name": "stdout",
     "output_type": "stream",
     "text": [
      "[LightGBM] [Warning] Found whitespace in feature_names, replace with underlines\n",
      "[LightGBM] [Info] Auto-choosing row-wise multi-threading, the overhead of testing was 0.002576 seconds.\n",
      "You can set `force_row_wise=true` to remove the overhead.\n",
      "And if memory is not enough, you can set `force_col_wise=true`.\n",
      "[LightGBM] [Info] Total Bins 5457\n",
      "[LightGBM] [Info] Number of data points in the train set: 27264, number of used features: 578\n",
      "[LightGBM] [Info] Start training from score 0.109755\n"
     ]
    },
    {
     "name": "stderr",
     "output_type": "stream",
     "text": [
      " 83%|████████▎ | 153/185 [06:10<01:25,  2.66s/it]"
     ]
    },
    {
     "name": "stdout",
     "output_type": "stream",
     "text": [
      "[LightGBM] [Warning] Found whitespace in feature_names, replace with underlines\n",
      "[LightGBM] [Info] Auto-choosing row-wise multi-threading, the overhead of testing was 0.002484 seconds.\n",
      "You can set `force_row_wise=true` to remove the overhead.\n",
      "And if memory is not enough, you can set `force_col_wise=true`.\n",
      "[LightGBM] [Info] Total Bins 5457\n",
      "[LightGBM] [Info] Number of data points in the train set: 27264, number of used features: 578\n",
      "[LightGBM] [Info] Start training from score 0.421138\n"
     ]
    },
    {
     "name": "stderr",
     "output_type": "stream",
     "text": [
      " 83%|████████▎ | 154/185 [06:12<01:17,  2.52s/it]"
     ]
    },
    {
     "name": "stdout",
     "output_type": "stream",
     "text": [
      "[LightGBM] [Warning] Found whitespace in feature_names, replace with underlines\n",
      "[LightGBM] [Info] Auto-choosing row-wise multi-threading, the overhead of testing was 0.002376 seconds.\n",
      "You can set `force_row_wise=true` to remove the overhead.\n",
      "And if memory is not enough, you can set `force_col_wise=true`.\n",
      "[LightGBM] [Info] Total Bins 5457\n",
      "[LightGBM] [Info] Number of data points in the train set: 27264, number of used features: 578\n",
      "[LightGBM] [Info] Start training from score 0.075763\n"
     ]
    },
    {
     "name": "stderr",
     "output_type": "stream",
     "text": [
      " 84%|████████▍ | 155/185 [06:14<01:13,  2.46s/it]"
     ]
    },
    {
     "name": "stdout",
     "output_type": "stream",
     "text": [
      "[LightGBM] [Warning] Found whitespace in feature_names, replace with underlines\n",
      "[LightGBM] [Info] Auto-choosing row-wise multi-threading, the overhead of testing was 0.002357 seconds.\n",
      "You can set `force_row_wise=true` to remove the overhead.\n",
      "And if memory is not enough, you can set `force_col_wise=true`.\n",
      "[LightGBM] [Info] Total Bins 3067\n",
      "[LightGBM] [Info] Number of data points in the train set: 27264, number of used features: 578\n",
      "[LightGBM] [Info] Start training from score 0.003567\n"
     ]
    },
    {
     "name": "stderr",
     "output_type": "stream",
     "text": [
      " 84%|████████▍ | 156/185 [06:16<01:08,  2.37s/it]"
     ]
    },
    {
     "name": "stdout",
     "output_type": "stream",
     "text": [
      "[LightGBM] [Warning] Found whitespace in feature_names, replace with underlines\n",
      "[LightGBM] [Info] Auto-choosing row-wise multi-threading, the overhead of testing was 0.002421 seconds.\n",
      "You can set `force_row_wise=true` to remove the overhead.\n",
      "And if memory is not enough, you can set `force_col_wise=true`.\n",
      "[LightGBM] [Info] Total Bins 5457\n",
      "[LightGBM] [Info] Number of data points in the train set: 27264, number of used features: 578\n",
      "[LightGBM] [Info] Start training from score 0.268059\n"
     ]
    },
    {
     "name": "stderr",
     "output_type": "stream",
     "text": [
      " 85%|████████▍ | 157/185 [06:18<01:05,  2.33s/it]"
     ]
    },
    {
     "name": "stdout",
     "output_type": "stream",
     "text": [
      "[LightGBM] [Warning] Found whitespace in feature_names, replace with underlines\n",
      "[LightGBM] [Info] Auto-choosing row-wise multi-threading, the overhead of testing was 0.002422 seconds.\n",
      "You can set `force_row_wise=true` to remove the overhead.\n",
      "And if memory is not enough, you can set `force_col_wise=true`.\n",
      "[LightGBM] [Info] Total Bins 5457\n",
      "[LightGBM] [Info] Number of data points in the train set: 27216, number of used features: 578\n",
      "[LightGBM] [Info] Start training from score 0.211988\n"
     ]
    },
    {
     "name": "stderr",
     "output_type": "stream",
     "text": [
      " 85%|████████▌ | 158/185 [06:21<01:03,  2.35s/it]"
     ]
    },
    {
     "name": "stdout",
     "output_type": "stream",
     "text": [
      "[LightGBM] [Warning] Found whitespace in feature_names, replace with underlines\n",
      "[LightGBM] [Info] Auto-choosing row-wise multi-threading, the overhead of testing was 0.002503 seconds.\n",
      "You can set `force_row_wise=true` to remove the overhead.\n",
      "And if memory is not enough, you can set `force_col_wise=true`.\n",
      "[LightGBM] [Info] Total Bins 5461\n",
      "[LightGBM] [Info] Number of data points in the train set: 32016, number of used features: 580\n",
      "[LightGBM] [Info] Start training from score 0.093509\n"
     ]
    },
    {
     "name": "stderr",
     "output_type": "stream",
     "text": [
      " 86%|████████▌ | 159/185 [06:23<01:01,  2.37s/it]"
     ]
    },
    {
     "name": "stdout",
     "output_type": "stream",
     "text": [
      "[LightGBM] [Warning] Found whitespace in feature_names, replace with underlines\n",
      "[LightGBM] [Info] Auto-choosing row-wise multi-threading, the overhead of testing was 0.002301 seconds.\n",
      "You can set `force_row_wise=true` to remove the overhead.\n",
      "And if memory is not enough, you can set `force_col_wise=true`.\n",
      "[LightGBM] [Info] Total Bins 5461\n",
      "[LightGBM] [Info] Number of data points in the train set: 32016, number of used features: 580\n",
      "[LightGBM] [Info] Start training from score 0.101833\n"
     ]
    },
    {
     "name": "stderr",
     "output_type": "stream",
     "text": [
      " 86%|████████▋ | 160/185 [06:26<01:00,  2.41s/it]"
     ]
    },
    {
     "name": "stdout",
     "output_type": "stream",
     "text": [
      "[LightGBM] [Warning] Found whitespace in feature_names, replace with underlines\n",
      "[LightGBM] [Info] Auto-choosing row-wise multi-threading, the overhead of testing was 0.002253 seconds.\n",
      "You can set `force_row_wise=true` to remove the overhead.\n",
      "And if memory is not enough, you can set `force_col_wise=true`.\n",
      "[LightGBM] [Info] Total Bins 5461\n",
      "[LightGBM] [Info] Number of data points in the train set: 31968, number of used features: 580\n",
      "[LightGBM] [Info] Start training from score 0.144557\n"
     ]
    },
    {
     "name": "stderr",
     "output_type": "stream",
     "text": [
      " 87%|████████▋ | 161/185 [06:28<00:57,  2.39s/it]"
     ]
    },
    {
     "name": "stdout",
     "output_type": "stream",
     "text": [
      "[LightGBM] [Warning] Found whitespace in feature_names, replace with underlines\n",
      "[LightGBM] [Info] Auto-choosing row-wise multi-threading, the overhead of testing was 0.003788 seconds.\n",
      "You can set `force_row_wise=true` to remove the overhead.\n",
      "And if memory is not enough, you can set `force_col_wise=true`.\n",
      "[LightGBM] [Info] Total Bins 5461\n",
      "[LightGBM] [Info] Number of data points in the train set: 31968, number of used features: 580\n",
      "[LightGBM] [Info] Start training from score 0.106089\n"
     ]
    },
    {
     "name": "stderr",
     "output_type": "stream",
     "text": [
      " 88%|████████▊ | 162/185 [06:31<00:56,  2.47s/it]"
     ]
    },
    {
     "name": "stdout",
     "output_type": "stream",
     "text": [
      "[LightGBM] [Warning] Found whitespace in feature_names, replace with underlines\n",
      "[LightGBM] [Info] Auto-choosing row-wise multi-threading, the overhead of testing was 0.002209 seconds.\n",
      "You can set `force_row_wise=true` to remove the overhead.\n",
      "And if memory is not enough, you can set `force_col_wise=true`.\n",
      "[LightGBM] [Info] Total Bins 5465\n",
      "[LightGBM] [Info] Number of data points in the train set: 36576, number of used features: 582\n",
      "[LightGBM] [Info] Start training from score 0.099611\n"
     ]
    },
    {
     "name": "stderr",
     "output_type": "stream",
     "text": [
      " 88%|████████▊ | 163/185 [06:34<00:57,  2.61s/it]"
     ]
    },
    {
     "name": "stdout",
     "output_type": "stream",
     "text": [
      "[LightGBM] [Warning] Found whitespace in feature_names, replace with underlines\n",
      "[LightGBM] [Info] Auto-choosing row-wise multi-threading, the overhead of testing was 0.002090 seconds.\n",
      "You can set `force_row_wise=true` to remove the overhead.\n",
      "And if memory is not enough, you can set `force_col_wise=true`.\n",
      "[LightGBM] [Info] Total Bins 5463\n",
      "[LightGBM] [Info] Number of data points in the train set: 35904, number of used features: 581\n",
      "[LightGBM] [Info] Start training from score 0.328370\n"
     ]
    },
    {
     "name": "stderr",
     "output_type": "stream",
     "text": [
      " 89%|████████▊ | 164/185 [06:36<00:55,  2.62s/it]"
     ]
    },
    {
     "name": "stdout",
     "output_type": "stream",
     "text": [
      "[LightGBM] [Warning] Found whitespace in feature_names, replace with underlines\n",
      "[LightGBM] [Info] Auto-choosing row-wise multi-threading, the overhead of testing was 0.001936 seconds.\n",
      "You can set `force_row_wise=true` to remove the overhead.\n",
      "And if memory is not enough, you can set `force_col_wise=true`.\n",
      "[LightGBM] [Info] Total Bins 5463\n",
      "[LightGBM] [Info] Number of data points in the train set: 35808, number of used features: 581\n",
      "[LightGBM] [Info] Start training from score 0.445930\n"
     ]
    },
    {
     "name": "stderr",
     "output_type": "stream",
     "text": [
      " 89%|████████▉ | 165/185 [06:39<00:53,  2.67s/it]"
     ]
    },
    {
     "name": "stdout",
     "output_type": "stream",
     "text": [
      "[LightGBM] [Warning] Found whitespace in feature_names, replace with underlines\n",
      "[LightGBM] [Info] Auto-choosing row-wise multi-threading, the overhead of testing was 0.001951 seconds.\n",
      "You can set `force_row_wise=true` to remove the overhead.\n",
      "And if memory is not enough, you can set `force_col_wise=true`.\n",
      "[LightGBM] [Info] Total Bins 5463\n",
      "[LightGBM] [Info] Number of data points in the train set: 35328, number of used features: 581\n",
      "[LightGBM] [Info] Start training from score 0.181941\n"
     ]
    },
    {
     "name": "stderr",
     "output_type": "stream",
     "text": [
      " 90%|████████▉ | 166/185 [06:42<00:50,  2.65s/it]"
     ]
    },
    {
     "name": "stdout",
     "output_type": "stream",
     "text": [
      "[LightGBM] [Warning] Found whitespace in feature_names, replace with underlines\n",
      "[LightGBM] [Info] Auto-choosing row-wise multi-threading, the overhead of testing was 0.001956 seconds.\n",
      "You can set `force_row_wise=true` to remove the overhead.\n",
      "And if memory is not enough, you can set `force_col_wise=true`.\n",
      "[LightGBM] [Info] Total Bins 5463\n",
      "[LightGBM] [Info] Number of data points in the train set: 35232, number of used features: 581\n",
      "[LightGBM] [Info] Start training from score 0.311792\n"
     ]
    },
    {
     "name": "stderr",
     "output_type": "stream",
     "text": [
      " 90%|█████████ | 167/185 [06:44<00:46,  2.60s/it]"
     ]
    },
    {
     "name": "stdout",
     "output_type": "stream",
     "text": [
      "[LightGBM] [Warning] Found whitespace in feature_names, replace with underlines\n",
      "[LightGBM] [Info] Auto-choosing row-wise multi-threading, the overhead of testing was 0.001859 seconds.\n",
      "You can set `force_row_wise=true` to remove the overhead.\n",
      "And if memory is not enough, you can set `force_col_wise=true`.\n",
      "[LightGBM] [Info] Total Bins 5463\n",
      "[LightGBM] [Info] Number of data points in the train set: 35088, number of used features: 581\n",
      "[LightGBM] [Info] Start training from score 0.231734\n"
     ]
    },
    {
     "name": "stderr",
     "output_type": "stream",
     "text": [
      " 91%|█████████ | 168/185 [06:47<00:42,  2.50s/it]"
     ]
    },
    {
     "name": "stdout",
     "output_type": "stream",
     "text": [
      "[LightGBM] [Warning] Found whitespace in feature_names, replace with underlines\n",
      "[LightGBM] [Info] Auto-choosing row-wise multi-threading, the overhead of testing was 0.002158 seconds.\n",
      "You can set `force_row_wise=true` to remove the overhead.\n",
      "And if memory is not enough, you can set `force_col_wise=true`.\n",
      "[LightGBM] [Info] Total Bins 5457\n",
      "[LightGBM] [Info] Number of data points in the train set: 29376, number of used features: 578\n",
      "[LightGBM] [Info] Start training from score 0.134225\n"
     ]
    },
    {
     "name": "stderr",
     "output_type": "stream",
     "text": [
      " 91%|█████████▏| 169/185 [06:49<00:40,  2.51s/it]"
     ]
    },
    {
     "name": "stdout",
     "output_type": "stream",
     "text": [
      "[LightGBM] [Warning] Found whitespace in feature_names, replace with underlines\n",
      "[LightGBM] [Info] Auto-choosing row-wise multi-threading, the overhead of testing was 0.003474 seconds.\n",
      "You can set `force_row_wise=true` to remove the overhead.\n",
      "And if memory is not enough, you can set `force_col_wise=true`.\n",
      "[LightGBM] [Info] Total Bins 5457\n",
      "[LightGBM] [Info] Number of data points in the train set: 29328, number of used features: 578\n",
      "[LightGBM] [Info] Start training from score 0.159511\n"
     ]
    },
    {
     "name": "stderr",
     "output_type": "stream",
     "text": [
      " 92%|█████████▏| 170/185 [06:51<00:36,  2.46s/it]"
     ]
    },
    {
     "name": "stdout",
     "output_type": "stream",
     "text": [
      "[LightGBM] [Warning] Found whitespace in feature_names, replace with underlines\n",
      "[LightGBM] [Info] Auto-choosing row-wise multi-threading, the overhead of testing was 0.002310 seconds.\n",
      "You can set `force_row_wise=true` to remove the overhead.\n",
      "And if memory is not enough, you can set `force_col_wise=true`.\n",
      "[LightGBM] [Info] Total Bins 5457\n",
      "[LightGBM] [Info] Number of data points in the train set: 29328, number of used features: 578\n",
      "[LightGBM] [Info] Start training from score 0.300892\n"
     ]
    },
    {
     "name": "stderr",
     "output_type": "stream",
     "text": [
      " 92%|█████████▏| 171/185 [06:54<00:34,  2.44s/it]"
     ]
    },
    {
     "name": "stdout",
     "output_type": "stream",
     "text": [
      "[LightGBM] [Warning] Found whitespace in feature_names, replace with underlines\n",
      "[LightGBM] [Info] Auto-choosing row-wise multi-threading, the overhead of testing was 0.002455 seconds.\n",
      "You can set `force_row_wise=true` to remove the overhead.\n",
      "And if memory is not enough, you can set `force_col_wise=true`.\n",
      "[LightGBM] [Info] Total Bins 5457\n",
      "[LightGBM] [Info] Number of data points in the train set: 29328, number of used features: 578\n",
      "[LightGBM] [Info] Start training from score 0.121286\n"
     ]
    },
    {
     "name": "stderr",
     "output_type": "stream",
     "text": [
      " 93%|█████████▎| 172/185 [06:56<00:32,  2.51s/it]"
     ]
    },
    {
     "name": "stdout",
     "output_type": "stream",
     "text": [
      "[LightGBM] [Warning] Found whitespace in feature_names, replace with underlines\n",
      "[LightGBM] [Info] Auto-choosing row-wise multi-threading, the overhead of testing was 0.002386 seconds.\n",
      "You can set `force_row_wise=true` to remove the overhead.\n",
      "And if memory is not enough, you can set `force_col_wise=true`.\n",
      "[LightGBM] [Info] Total Bins 5461\n",
      "[LightGBM] [Info] Number of data points in the train set: 34992, number of used features: 580\n",
      "[LightGBM] [Info] Start training from score 0.134249\n"
     ]
    },
    {
     "name": "stderr",
     "output_type": "stream",
     "text": [
      " 94%|█████████▎| 173/185 [06:59<00:30,  2.57s/it]"
     ]
    },
    {
     "name": "stdout",
     "output_type": "stream",
     "text": [
      "[LightGBM] [Warning] Found whitespace in feature_names, replace with underlines\n",
      "[LightGBM] [Info] Auto-choosing row-wise multi-threading, the overhead of testing was 0.002031 seconds.\n",
      "You can set `force_row_wise=true` to remove the overhead.\n",
      "And if memory is not enough, you can set `force_col_wise=true`.\n",
      "[LightGBM] [Info] Total Bins 5461\n",
      "[LightGBM] [Info] Number of data points in the train set: 34896, number of used features: 580\n",
      "[LightGBM] [Info] Start training from score 0.081686\n"
     ]
    },
    {
     "name": "stderr",
     "output_type": "stream",
     "text": [
      " 94%|█████████▍| 174/185 [07:02<00:29,  2.68s/it]"
     ]
    },
    {
     "name": "stdout",
     "output_type": "stream",
     "text": [
      "[LightGBM] [Warning] Found whitespace in feature_names, replace with underlines\n",
      "[LightGBM] [Info] Auto-choosing row-wise multi-threading, the overhead of testing was 0.002120 seconds.\n",
      "You can set `force_row_wise=true` to remove the overhead.\n",
      "And if memory is not enough, you can set `force_col_wise=true`.\n",
      "[LightGBM] [Info] Total Bins 5461\n",
      "[LightGBM] [Info] Number of data points in the train set: 34896, number of used features: 580\n",
      "[LightGBM] [Info] Start training from score 0.474508\n"
     ]
    },
    {
     "name": "stderr",
     "output_type": "stream",
     "text": [
      " 95%|█████████▍| 175/185 [07:05<00:28,  2.81s/it]"
     ]
    },
    {
     "name": "stdout",
     "output_type": "stream",
     "text": [
      "[LightGBM] [Warning] Found whitespace in feature_names, replace with underlines\n",
      "[LightGBM] [Info] Auto-choosing row-wise multi-threading, the overhead of testing was 0.002149 seconds.\n",
      "You can set `force_row_wise=true` to remove the overhead.\n",
      "And if memory is not enough, you can set `force_col_wise=true`.\n",
      "[LightGBM] [Info] Total Bins 5461\n",
      "[LightGBM] [Info] Number of data points in the train set: 34464, number of used features: 580\n",
      "[LightGBM] [Info] Start training from score 0.655385\n"
     ]
    },
    {
     "name": "stderr",
     "output_type": "stream",
     "text": [
      " 95%|█████████▌| 176/185 [07:08<00:24,  2.75s/it]"
     ]
    },
    {
     "name": "stdout",
     "output_type": "stream",
     "text": [
      "[LightGBM] [Warning] Found whitespace in feature_names, replace with underlines\n",
      "[LightGBM] [Info] Auto-choosing row-wise multi-threading, the overhead of testing was 0.002168 seconds.\n",
      "You can set `force_row_wise=true` to remove the overhead.\n",
      "And if memory is not enough, you can set `force_col_wise=true`.\n",
      "[LightGBM] [Info] Total Bins 5461\n",
      "[LightGBM] [Info] Number of data points in the train set: 34416, number of used features: 580\n",
      "[LightGBM] [Info] Start training from score 0.090757\n"
     ]
    },
    {
     "name": "stderr",
     "output_type": "stream",
     "text": [
      " 96%|█████████▌| 177/185 [07:10<00:21,  2.70s/it]"
     ]
    },
    {
     "name": "stdout",
     "output_type": "stream",
     "text": [
      "[LightGBM] [Warning] Found whitespace in feature_names, replace with underlines\n",
      "[LightGBM] [Info] Auto-choosing row-wise multi-threading, the overhead of testing was 0.001940 seconds.\n",
      "You can set `force_row_wise=true` to remove the overhead.\n",
      "And if memory is not enough, you can set `force_col_wise=true`.\n",
      "[LightGBM] [Info] Total Bins 5461\n",
      "[LightGBM] [Info] Number of data points in the train set: 34128, number of used features: 580\n",
      "[LightGBM] [Info] Start training from score 0.076925\n"
     ]
    },
    {
     "name": "stderr",
     "output_type": "stream",
     "text": [
      " 96%|█████████▌| 178/185 [07:13<00:19,  2.75s/it]"
     ]
    },
    {
     "name": "stdout",
     "output_type": "stream",
     "text": [
      "[LightGBM] [Warning] Found whitespace in feature_names, replace with underlines\n",
      "[LightGBM] [Info] Auto-choosing row-wise multi-threading, the overhead of testing was 0.002215 seconds.\n",
      "You can set `force_row_wise=true` to remove the overhead.\n",
      "And if memory is not enough, you can set `force_col_wise=true`.\n",
      "[LightGBM] [Info] Total Bins 5461\n",
      "[LightGBM] [Info] Number of data points in the train set: 34080, number of used features: 580\n",
      "[LightGBM] [Info] Start training from score 0.197986\n"
     ]
    },
    {
     "name": "stderr",
     "output_type": "stream",
     "text": [
      " 97%|█████████▋| 179/185 [07:16<00:16,  2.73s/it]"
     ]
    },
    {
     "name": "stdout",
     "output_type": "stream",
     "text": [
      "[LightGBM] [Warning] Found whitespace in feature_names, replace with underlines\n",
      "[LightGBM] [Info] Auto-choosing row-wise multi-threading, the overhead of testing was 0.001954 seconds.\n",
      "You can set `force_row_wise=true` to remove the overhead.\n",
      "And if memory is not enough, you can set `force_col_wise=true`.\n",
      "[LightGBM] [Info] Total Bins 5461\n",
      "[LightGBM] [Info] Number of data points in the train set: 34032, number of used features: 580\n",
      "[LightGBM] [Info] Start training from score 0.310805\n"
     ]
    },
    {
     "name": "stderr",
     "output_type": "stream",
     "text": [
      " 97%|█████████▋| 180/185 [07:18<00:13,  2.67s/it]"
     ]
    },
    {
     "name": "stdout",
     "output_type": "stream",
     "text": [
      "[LightGBM] [Warning] Found whitespace in feature_names, replace with underlines\n",
      "[LightGBM] [Info] Auto-choosing row-wise multi-threading, the overhead of testing was 0.002050 seconds.\n",
      "You can set `force_row_wise=true` to remove the overhead.\n",
      "And if memory is not enough, you can set `force_col_wise=true`.\n",
      "[LightGBM] [Info] Total Bins 5461\n",
      "[LightGBM] [Info] Number of data points in the train set: 33984, number of used features: 580\n",
      "[LightGBM] [Info] Start training from score 0.205054\n"
     ]
    },
    {
     "name": "stderr",
     "output_type": "stream",
     "text": [
      " 98%|█████████▊| 181/185 [07:21<00:10,  2.67s/it]"
     ]
    },
    {
     "name": "stdout",
     "output_type": "stream",
     "text": [
      "[LightGBM] [Warning] Found whitespace in feature_names, replace with underlines\n",
      "[LightGBM] [Info] Auto-choosing row-wise multi-threading, the overhead of testing was 0.002624 seconds.\n",
      "You can set `force_row_wise=true` to remove the overhead.\n",
      "And if memory is not enough, you can set `force_col_wise=true`.\n",
      "[LightGBM] [Info] Total Bins 5459\n",
      "[LightGBM] [Info] Number of data points in the train set: 31536, number of used features: 579\n",
      "[LightGBM] [Info] Start training from score 0.330923\n"
     ]
    },
    {
     "name": "stderr",
     "output_type": "stream",
     "text": [
      " 98%|█████████▊| 182/185 [07:23<00:07,  2.56s/it]"
     ]
    },
    {
     "name": "stdout",
     "output_type": "stream",
     "text": [
      "[LightGBM] [Warning] Found whitespace in feature_names, replace with underlines\n",
      "[LightGBM] [Info] Auto-choosing row-wise multi-threading, the overhead of testing was 0.002477 seconds.\n",
      "You can set `force_row_wise=true` to remove the overhead.\n",
      "And if memory is not enough, you can set `force_col_wise=true`.\n",
      "[LightGBM] [Info] Total Bins 5459\n",
      "[LightGBM] [Info] Number of data points in the train set: 31440, number of used features: 579\n",
      "[LightGBM] [Info] Start training from score 0.126478\n"
     ]
    },
    {
     "name": "stderr",
     "output_type": "stream",
     "text": [
      " 99%|█████████▉| 183/185 [07:26<00:04,  2.49s/it]"
     ]
    },
    {
     "name": "stdout",
     "output_type": "stream",
     "text": [
      "[LightGBM] [Warning] Found whitespace in feature_names, replace with underlines\n",
      "[LightGBM] [Info] Auto-choosing row-wise multi-threading, the overhead of testing was 0.002490 seconds.\n",
      "You can set `force_row_wise=true` to remove the overhead.\n",
      "And if memory is not enough, you can set `force_col_wise=true`.\n",
      "[LightGBM] [Info] Total Bins 5459\n",
      "[LightGBM] [Info] Number of data points in the train set: 31392, number of used features: 579\n",
      "[LightGBM] [Info] Start training from score 0.165373\n"
     ]
    },
    {
     "name": "stderr",
     "output_type": "stream",
     "text": [
      " 99%|█████████▉| 184/185 [07:28<00:02,  2.48s/it]"
     ]
    },
    {
     "name": "stdout",
     "output_type": "stream",
     "text": [
      "[LightGBM] [Warning] Found whitespace in feature_names, replace with underlines\n",
      "[LightGBM] [Info] Auto-choosing row-wise multi-threading, the overhead of testing was 0.002374 seconds.\n",
      "You can set `force_row_wise=true` to remove the overhead.\n",
      "And if memory is not enough, you can set `force_col_wise=true`.\n",
      "[LightGBM] [Info] Total Bins 5459\n",
      "[LightGBM] [Info] Number of data points in the train set: 31392, number of used features: 579\n",
      "[LightGBM] [Info] Start training from score 0.174888\n"
     ]
    },
    {
     "name": "stderr",
     "output_type": "stream",
     "text": [
      "100%|██████████| 185/185 [07:31<00:00,  2.44s/it]"
     ]
    },
    {
     "name": "stdout",
     "output_type": "stream",
     "text": [
      "[LightGBM] [Warning] Found whitespace in feature_names, replace with underlines\n",
      "[LightGBM] [Info] Auto-choosing row-wise multi-threading, the overhead of testing was 0.002303 seconds.\n",
      "You can set `force_row_wise=true` to remove the overhead.\n",
      "And if memory is not enough, you can set `force_col_wise=true`.\n",
      "[LightGBM] [Info] Total Bins 5459\n",
      "[LightGBM] [Info] Number of data points in the train set: 31392, number of used features: 579\n",
      "[LightGBM] [Info] Start training from score 0.163139\n",
      "Time Elapsed: 7 minutes and 31 seconds\n"
     ]
    },
    {
     "name": "stderr",
     "output_type": "stream",
     "text": [
      "\n"
     ]
    }
   ],
   "source": [
    "all_preds = []\n",
    "all_metrics = []\n",
    "\n",
    "# We can parallelize this loop to run this faster\n",
    "with LogTime() as timer:\n",
    "    for lcl_id in tqdm(lcl_ids):\n",
    "        for model_config in models_to_run:\n",
    "            model_config = model_config.clone()\n",
    "            X_train, y_train, _ = feat_config.get_X_y(\n",
    "                train_df.loc[train_df.LCLid == lcl_id, :],\n",
    "                categorical=True,\n",
    "                exogenous=False,\n",
    "                test=False\n",
    "            )\n",
    "            X_test, y_test, _ = feat_config.get_X_y(\n",
    "                test_df.loc[test_df.LCLid == lcl_id, :], categorical=True, exogenous=False, test=True\n",
    "            )\n",
    "            with warnings.catch_warnings():\n",
    "                warnings.simplefilter(\"ignore\")\n",
    "                y_pred, metrics, feat_df = evaluate_model(\n",
    "                    model_config,\n",
    "                    feat_config,\n",
    "                    missing_value_config,\n",
    "                    X_train,\n",
    "                    y_train,\n",
    "                    X_test,\n",
    "                    y_test,\n",
    "                )\n",
    "            y_pred.name = \"predictions\"\n",
    "            y_pred = y_pred.to_frame()\n",
    "            y_pred[\"LCLid\"] = lcl_id\n",
    "            y_pred[\"Algorithm\"] = model_config.name\n",
    "            metrics[\"LCLid\"] = lcl_id\n",
    "            metrics[\"Algorithm\"] = model_config.name\n",
    "            y_pred[\"energy_consumption\"] = y_test.values\n",
    "            all_preds.append(y_pred)\n",
    "            all_metrics.append(metrics)"
   ]
  },
  {
   "cell_type": "markdown",
   "id": "96f7d908",
   "metadata": {},
   "source": [
    "## Results"
   ]
  },
  {
   "cell_type": "code",
   "execution_count": 15,
   "id": "8fc390c7",
   "metadata": {},
   "outputs": [
    {
     "data": {
      "text/html": [
       "<div>\n",
       "<style scoped>\n",
       "    .dataframe tbody tr th:only-of-type {\n",
       "        vertical-align: middle;\n",
       "    }\n",
       "\n",
       "    .dataframe tbody tr th {\n",
       "        vertical-align: top;\n",
       "    }\n",
       "\n",
       "    .dataframe thead th {\n",
       "        text-align: right;\n",
       "    }\n",
       "</style>\n",
       "<table border=\"1\" class=\"dataframe\">\n",
       "  <thead>\n",
       "    <tr style=\"text-align: right;\">\n",
       "      <th></th>\n",
       "      <th>predictions</th>\n",
       "      <th>LCLid</th>\n",
       "      <th>Algorithm</th>\n",
       "      <th>energy_consumption</th>\n",
       "    </tr>\n",
       "    <tr>\n",
       "      <th>timestamp</th>\n",
       "      <th></th>\n",
       "      <th></th>\n",
       "      <th></th>\n",
       "      <th></th>\n",
       "    </tr>\n",
       "  </thead>\n",
       "  <tbody>\n",
       "    <tr>\n",
       "      <th>2014-02-01 00:00:00</th>\n",
       "      <td>0.074981</td>\n",
       "      <td>MAC000061</td>\n",
       "      <td>Lasso Regression</td>\n",
       "      <td>0.066</td>\n",
       "    </tr>\n",
       "    <tr>\n",
       "      <th>2014-02-01 00:30:00</th>\n",
       "      <td>0.076384</td>\n",
       "      <td>MAC000061</td>\n",
       "      <td>Lasso Regression</td>\n",
       "      <td>0.063</td>\n",
       "    </tr>\n",
       "    <tr>\n",
       "      <th>2014-02-01 01:00:00</th>\n",
       "      <td>0.070385</td>\n",
       "      <td>MAC000061</td>\n",
       "      <td>Lasso Regression</td>\n",
       "      <td>0.040</td>\n",
       "    </tr>\n",
       "    <tr>\n",
       "      <th>2014-02-01 01:30:00</th>\n",
       "      <td>0.055555</td>\n",
       "      <td>MAC000061</td>\n",
       "      <td>Lasso Regression</td>\n",
       "      <td>0.020</td>\n",
       "    </tr>\n",
       "    <tr>\n",
       "      <th>2014-02-01 02:00:00</th>\n",
       "      <td>0.039923</td>\n",
       "      <td>MAC000061</td>\n",
       "      <td>Lasso Regression</td>\n",
       "      <td>0.018</td>\n",
       "    </tr>\n",
       "  </tbody>\n",
       "</table>\n",
       "</div>"
      ],
      "text/plain": [
       "                     predictions      LCLid         Algorithm  \\\n",
       "timestamp                                                       \n",
       "2014-02-01 00:00:00     0.074981  MAC000061  Lasso Regression   \n",
       "2014-02-01 00:30:00     0.076384  MAC000061  Lasso Regression   \n",
       "2014-02-01 01:00:00     0.070385  MAC000061  Lasso Regression   \n",
       "2014-02-01 01:30:00     0.055555  MAC000061  Lasso Regression   \n",
       "2014-02-01 02:00:00     0.039923  MAC000061  Lasso Regression   \n",
       "\n",
       "                     energy_consumption  \n",
       "timestamp                                \n",
       "2014-02-01 00:00:00               0.066  \n",
       "2014-02-01 00:30:00               0.063  \n",
       "2014-02-01 01:00:00               0.040  \n",
       "2014-02-01 01:30:00               0.020  \n",
       "2014-02-01 02:00:00               0.018  "
      ]
     },
     "execution_count": 15,
     "metadata": {},
     "output_type": "execute_result"
    }
   ],
   "source": [
    "pred_df = pd.concat(all_preds)\n",
    "pred_df.head()"
   ]
  },
  {
   "cell_type": "code",
   "execution_count": 16,
   "id": "e8cf5796",
   "metadata": {},
   "outputs": [
    {
     "data": {
      "text/html": [
       "<div>\n",
       "<style scoped>\n",
       "    .dataframe tbody tr th:only-of-type {\n",
       "        vertical-align: middle;\n",
       "    }\n",
       "\n",
       "    .dataframe tbody tr th {\n",
       "        vertical-align: top;\n",
       "    }\n",
       "\n",
       "    .dataframe thead th {\n",
       "        text-align: right;\n",
       "    }\n",
       "</style>\n",
       "<table border=\"1\" class=\"dataframe\">\n",
       "  <thead>\n",
       "    <tr style=\"text-align: right;\">\n",
       "      <th></th>\n",
       "      <th>Algorithm</th>\n",
       "      <th>MAE</th>\n",
       "      <th>MSE</th>\n",
       "      <th>RMSE</th>\n",
       "      <th>Forecast Bias</th>\n",
       "      <th>LCLid</th>\n",
       "    </tr>\n",
       "  </thead>\n",
       "  <tbody>\n",
       "    <tr>\n",
       "      <th>0</th>\n",
       "      <td>Lasso Regression</td>\n",
       "      <td>0.037804</td>\n",
       "      <td>0.003162</td>\n",
       "      <td>0.056235</td>\n",
       "      <td>-1.858942</td>\n",
       "      <td>MAC000061</td>\n",
       "    </tr>\n",
       "    <tr>\n",
       "      <th>1</th>\n",
       "      <td>XGB Random Forest</td>\n",
       "      <td>0.035485</td>\n",
       "      <td>0.003077</td>\n",
       "      <td>0.055474</td>\n",
       "      <td>-1.611098</td>\n",
       "      <td>MAC000061</td>\n",
       "    </tr>\n",
       "    <tr>\n",
       "      <th>2</th>\n",
       "      <td>LightGBM</td>\n",
       "      <td>0.034493</td>\n",
       "      <td>0.002963</td>\n",
       "      <td>0.054432</td>\n",
       "      <td>0.506766</td>\n",
       "      <td>MAC000061</td>\n",
       "    </tr>\n",
       "    <tr>\n",
       "      <th>3</th>\n",
       "      <td>Lasso Regression</td>\n",
       "      <td>0.073742</td>\n",
       "      <td>0.025421</td>\n",
       "      <td>0.159440</td>\n",
       "      <td>-1.785068</td>\n",
       "      <td>MAC000062</td>\n",
       "    </tr>\n",
       "    <tr>\n",
       "      <th>4</th>\n",
       "      <td>XGB Random Forest</td>\n",
       "      <td>0.067799</td>\n",
       "      <td>0.025043</td>\n",
       "      <td>0.158251</td>\n",
       "      <td>3.581974</td>\n",
       "      <td>MAC000062</td>\n",
       "    </tr>\n",
       "  </tbody>\n",
       "</table>\n",
       "</div>"
      ],
      "text/plain": [
       "           Algorithm       MAE       MSE      RMSE  Forecast Bias      LCLid\n",
       "0   Lasso Regression  0.037804  0.003162  0.056235      -1.858942  MAC000061\n",
       "1  XGB Random Forest  0.035485  0.003077  0.055474      -1.611098  MAC000061\n",
       "2           LightGBM  0.034493  0.002963  0.054432       0.506766  MAC000061\n",
       "3   Lasso Regression  0.073742  0.025421  0.159440      -1.785068  MAC000062\n",
       "4  XGB Random Forest  0.067799  0.025043  0.158251       3.581974  MAC000062"
      ]
     },
     "execution_count": 16,
     "metadata": {},
     "output_type": "execute_result"
    }
   ],
   "source": [
    "metrics_df = pd.DataFrame(all_metrics)\n",
    "metrics_df.head()"
   ]
  },
  {
   "cell_type": "code",
   "execution_count": 17,
   "id": "9aaa813f",
   "metadata": {},
   "outputs": [
    {
     "data": {
      "text/html": [
       "<div>\n",
       "<style scoped>\n",
       "    .dataframe tbody tr th:only-of-type {\n",
       "        vertical-align: middle;\n",
       "    }\n",
       "\n",
       "    .dataframe tbody tr th {\n",
       "        vertical-align: top;\n",
       "    }\n",
       "\n",
       "    .dataframe thead th {\n",
       "        text-align: right;\n",
       "    }\n",
       "</style>\n",
       "<table border=\"1\" class=\"dataframe\">\n",
       "  <thead>\n",
       "    <tr style=\"text-align: right;\">\n",
       "      <th></th>\n",
       "      <th>feature</th>\n",
       "      <th>importance</th>\n",
       "    </tr>\n",
       "  </thead>\n",
       "  <tbody>\n",
       "    <tr>\n",
       "      <th>74</th>\n",
       "      <td>energy_consumption_lag_1</td>\n",
       "      <td>419</td>\n",
       "    </tr>\n",
       "    <tr>\n",
       "      <th>23</th>\n",
       "      <td>energy_consumption_lag_2</td>\n",
       "      <td>252</td>\n",
       "    </tr>\n",
       "    <tr>\n",
       "      <th>75</th>\n",
       "      <td>energy_consumption_lag_334</td>\n",
       "      <td>169</td>\n",
       "    </tr>\n",
       "    <tr>\n",
       "      <th>12</th>\n",
       "      <td>day_hourly_profile</td>\n",
       "      <td>148</td>\n",
       "    </tr>\n",
       "    <tr>\n",
       "      <th>3</th>\n",
       "      <td>energy_consumption_lag_337</td>\n",
       "      <td>140</td>\n",
       "    </tr>\n",
       "    <tr>\n",
       "      <th>...</th>\n",
       "      <td>...</td>\n",
       "      <td>...</td>\n",
       "    </tr>\n",
       "    <tr>\n",
       "      <th>209</th>\n",
       "      <td>timestamp_Dayofyear_71</td>\n",
       "      <td>0</td>\n",
       "    </tr>\n",
       "    <tr>\n",
       "      <th>206</th>\n",
       "      <td>timestamp_Dayofyear_240</td>\n",
       "      <td>0</td>\n",
       "    </tr>\n",
       "    <tr>\n",
       "      <th>204</th>\n",
       "      <td>timestamp_Dayofyear_117</td>\n",
       "      <td>0</td>\n",
       "    </tr>\n",
       "    <tr>\n",
       "      <th>203</th>\n",
       "      <td>timestamp_Dayofyear_131</td>\n",
       "      <td>0</td>\n",
       "    </tr>\n",
       "    <tr>\n",
       "      <th>224</th>\n",
       "      <td>timestamp_Dayofyear_47</td>\n",
       "      <td>0</td>\n",
       "    </tr>\n",
       "  </tbody>\n",
       "</table>\n",
       "<p>582 rows × 2 columns</p>\n",
       "</div>"
      ],
      "text/plain": [
       "                        feature  importance\n",
       "74     energy_consumption_lag_1         419\n",
       "23     energy_consumption_lag_2         252\n",
       "75   energy_consumption_lag_334         169\n",
       "12           day_hourly_profile         148\n",
       "3    energy_consumption_lag_337         140\n",
       "..                          ...         ...\n",
       "209      timestamp_Dayofyear_71           0\n",
       "206     timestamp_Dayofyear_240           0\n",
       "204     timestamp_Dayofyear_117           0\n",
       "203     timestamp_Dayofyear_131           0\n",
       "224      timestamp_Dayofyear_47           0\n",
       "\n",
       "[582 rows x 2 columns]"
      ]
     },
     "execution_count": 17,
     "metadata": {},
     "output_type": "execute_result"
    }
   ],
   "source": [
    "feat_df"
   ]
  },
  {
   "cell_type": "code",
   "execution_count": null,
   "id": "9a82d0c5",
   "metadata": {},
   "outputs": [
    {
     "data": {
      "application/vnd.plotly.v1+json": {
       "config": {
        "plotlyServerURL": "https://plot.ly"
       },
       "data": [
        {
         "hovertemplate": "feature=%{x}<br>importance=%{y}<extra></extra>",
         "legendgroup": "",
         "marker": {
          "color": "#636efa",
          "pattern": {
           "shape": ""
          }
         },
         "name": "",
         "orientation": "v",
         "showlegend": false,
         "textposition": "auto",
         "type": "bar",
         "x": [
          "energy_consumption_lag_1",
          "energy_consumption_lag_2",
          "energy_consumption_lag_334",
          "day_hourly_profile",
          "energy_consumption_lag_337",
          "timestamp_Elapsed",
          "energy_consumption_lag_46",
          "energy_consumption_lag_5",
          "energy_consumption_lag_338",
          "energy_consumption_lag_3",
          "energy_consumption_lag_47",
          "energy_consumption_lag_335",
          "energy_consumption_lag_4",
          "energy_consumption_lag_336",
          "energy_consumption_lag_48"
         ],
         "xaxis": "x",
         "y": {
          "bdata": "owEAAPwAAACpAAAAlAAAAIwAAACGAAAAhAAAAH8AAAB8AAAAcgAAAG8AAABqAAAAZwAAAGUAAABfAAAA",
          "dtype": "i4"
         },
         "yaxis": "y"
        }
       ],
       "layout": {
        "autosize": false,
        "barmode": "relative",
        "height": 500,
        "legend": {
         "font": {
          "size": 12
         },
         "orientation": "h",
         "title": {},
         "tracegroupgap": 0,
         "x": 1,
         "xanchor": "right",
         "y": 0.98,
         "yanchor": "bottom"
        },
        "margin": {
         "t": 60
        },
        "template": {
         "data": {
          "bar": [
           {
            "error_x": {
             "color": "#2a3f5f"
            },
            "error_y": {
             "color": "#2a3f5f"
            },
            "marker": {
             "line": {
              "color": "white",
              "width": 0.5
             },
             "pattern": {
              "fillmode": "overlay",
              "size": 10,
              "solidity": 0.2
             }
            },
            "type": "bar"
           }
          ],
          "barpolar": [
           {
            "marker": {
             "line": {
              "color": "white",
              "width": 0.5
             },
             "pattern": {
              "fillmode": "overlay",
              "size": 10,
              "solidity": 0.2
             }
            },
            "type": "barpolar"
           }
          ],
          "carpet": [
           {
            "aaxis": {
             "endlinecolor": "#2a3f5f",
             "gridcolor": "#C8D4E3",
             "linecolor": "#C8D4E3",
             "minorgridcolor": "#C8D4E3",
             "startlinecolor": "#2a3f5f"
            },
            "baxis": {
             "endlinecolor": "#2a3f5f",
             "gridcolor": "#C8D4E3",
             "linecolor": "#C8D4E3",
             "minorgridcolor": "#C8D4E3",
             "startlinecolor": "#2a3f5f"
            },
            "type": "carpet"
           }
          ],
          "choropleth": [
           {
            "colorbar": {
             "outlinewidth": 0,
             "ticks": ""
            },
            "type": "choropleth"
           }
          ],
          "contour": [
           {
            "colorbar": {
             "outlinewidth": 0,
             "ticks": ""
            },
            "colorscale": [
             [
              0,
              "#0d0887"
             ],
             [
              0.1111111111111111,
              "#46039f"
             ],
             [
              0.2222222222222222,
              "#7201a8"
             ],
             [
              0.3333333333333333,
              "#9c179e"
             ],
             [
              0.4444444444444444,
              "#bd3786"
             ],
             [
              0.5555555555555556,
              "#d8576b"
             ],
             [
              0.6666666666666666,
              "#ed7953"
             ],
             [
              0.7777777777777778,
              "#fb9f3a"
             ],
             [
              0.8888888888888888,
              "#fdca26"
             ],
             [
              1,
              "#f0f921"
             ]
            ],
            "type": "contour"
           }
          ],
          "contourcarpet": [
           {
            "colorbar": {
             "outlinewidth": 0,
             "ticks": ""
            },
            "type": "contourcarpet"
           }
          ],
          "heatmap": [
           {
            "colorbar": {
             "outlinewidth": 0,
             "ticks": ""
            },
            "colorscale": [
             [
              0,
              "#0d0887"
             ],
             [
              0.1111111111111111,
              "#46039f"
             ],
             [
              0.2222222222222222,
              "#7201a8"
             ],
             [
              0.3333333333333333,
              "#9c179e"
             ],
             [
              0.4444444444444444,
              "#bd3786"
             ],
             [
              0.5555555555555556,
              "#d8576b"
             ],
             [
              0.6666666666666666,
              "#ed7953"
             ],
             [
              0.7777777777777778,
              "#fb9f3a"
             ],
             [
              0.8888888888888888,
              "#fdca26"
             ],
             [
              1,
              "#f0f921"
             ]
            ],
            "type": "heatmap"
           }
          ],
          "histogram": [
           {
            "marker": {
             "pattern": {
              "fillmode": "overlay",
              "size": 10,
              "solidity": 0.2
             }
            },
            "type": "histogram"
           }
          ],
          "histogram2d": [
           {
            "colorbar": {
             "outlinewidth": 0,
             "ticks": ""
            },
            "colorscale": [
             [
              0,
              "#0d0887"
             ],
             [
              0.1111111111111111,
              "#46039f"
             ],
             [
              0.2222222222222222,
              "#7201a8"
             ],
             [
              0.3333333333333333,
              "#9c179e"
             ],
             [
              0.4444444444444444,
              "#bd3786"
             ],
             [
              0.5555555555555556,
              "#d8576b"
             ],
             [
              0.6666666666666666,
              "#ed7953"
             ],
             [
              0.7777777777777778,
              "#fb9f3a"
             ],
             [
              0.8888888888888888,
              "#fdca26"
             ],
             [
              1,
              "#f0f921"
             ]
            ],
            "type": "histogram2d"
           }
          ],
          "histogram2dcontour": [
           {
            "colorbar": {
             "outlinewidth": 0,
             "ticks": ""
            },
            "colorscale": [
             [
              0,
              "#0d0887"
             ],
             [
              0.1111111111111111,
              "#46039f"
             ],
             [
              0.2222222222222222,
              "#7201a8"
             ],
             [
              0.3333333333333333,
              "#9c179e"
             ],
             [
              0.4444444444444444,
              "#bd3786"
             ],
             [
              0.5555555555555556,
              "#d8576b"
             ],
             [
              0.6666666666666666,
              "#ed7953"
             ],
             [
              0.7777777777777778,
              "#fb9f3a"
             ],
             [
              0.8888888888888888,
              "#fdca26"
             ],
             [
              1,
              "#f0f921"
             ]
            ],
            "type": "histogram2dcontour"
           }
          ],
          "mesh3d": [
           {
            "colorbar": {
             "outlinewidth": 0,
             "ticks": ""
            },
            "type": "mesh3d"
           }
          ],
          "parcoords": [
           {
            "line": {
             "colorbar": {
              "outlinewidth": 0,
              "ticks": ""
             }
            },
            "type": "parcoords"
           }
          ],
          "pie": [
           {
            "automargin": true,
            "type": "pie"
           }
          ],
          "scatter": [
           {
            "fillpattern": {
             "fillmode": "overlay",
             "size": 10,
             "solidity": 0.2
            },
            "type": "scatter"
           }
          ],
          "scatter3d": [
           {
            "line": {
             "colorbar": {
              "outlinewidth": 0,
              "ticks": ""
             }
            },
            "marker": {
             "colorbar": {
              "outlinewidth": 0,
              "ticks": ""
             }
            },
            "type": "scatter3d"
           }
          ],
          "scattercarpet": [
           {
            "marker": {
             "colorbar": {
              "outlinewidth": 0,
              "ticks": ""
             }
            },
            "type": "scattercarpet"
           }
          ],
          "scattergeo": [
           {
            "marker": {
             "colorbar": {
              "outlinewidth": 0,
              "ticks": ""
             }
            },
            "type": "scattergeo"
           }
          ],
          "scattergl": [
           {
            "marker": {
             "colorbar": {
              "outlinewidth": 0,
              "ticks": ""
             }
            },
            "type": "scattergl"
           }
          ],
          "scattermap": [
           {
            "marker": {
             "colorbar": {
              "outlinewidth": 0,
              "ticks": ""
             }
            },
            "type": "scattermap"
           }
          ],
          "scattermapbox": [
           {
            "marker": {
             "colorbar": {
              "outlinewidth": 0,
              "ticks": ""
             }
            },
            "type": "scattermapbox"
           }
          ],
          "scatterpolar": [
           {
            "marker": {
             "colorbar": {
              "outlinewidth": 0,
              "ticks": ""
             }
            },
            "type": "scatterpolar"
           }
          ],
          "scatterpolargl": [
           {
            "marker": {
             "colorbar": {
              "outlinewidth": 0,
              "ticks": ""
             }
            },
            "type": "scatterpolargl"
           }
          ],
          "scatterternary": [
           {
            "marker": {
             "colorbar": {
              "outlinewidth": 0,
              "ticks": ""
             }
            },
            "type": "scatterternary"
           }
          ],
          "surface": [
           {
            "colorbar": {
             "outlinewidth": 0,
             "ticks": ""
            },
            "colorscale": [
             [
              0,
              "#0d0887"
             ],
             [
              0.1111111111111111,
              "#46039f"
             ],
             [
              0.2222222222222222,
              "#7201a8"
             ],
             [
              0.3333333333333333,
              "#9c179e"
             ],
             [
              0.4444444444444444,
              "#bd3786"
             ],
             [
              0.5555555555555556,
              "#d8576b"
             ],
             [
              0.6666666666666666,
              "#ed7953"
             ],
             [
              0.7777777777777778,
              "#fb9f3a"
             ],
             [
              0.8888888888888888,
              "#fdca26"
             ],
             [
              1,
              "#f0f921"
             ]
            ],
            "type": "surface"
           }
          ],
          "table": [
           {
            "cells": {
             "fill": {
              "color": "#EBF0F8"
             },
             "line": {
              "color": "white"
             }
            },
            "header": {
             "fill": {
              "color": "#C8D4E3"
             },
             "line": {
              "color": "white"
             }
            },
            "type": "table"
           }
          ]
         },
         "layout": {
          "annotationdefaults": {
           "arrowcolor": "#2a3f5f",
           "arrowhead": 0,
           "arrowwidth": 1
          },
          "autotypenumbers": "strict",
          "coloraxis": {
           "colorbar": {
            "outlinewidth": 0,
            "ticks": ""
           }
          },
          "colorscale": {
           "diverging": [
            [
             0,
             "#8e0152"
            ],
            [
             0.1,
             "#c51b7d"
            ],
            [
             0.2,
             "#de77ae"
            ],
            [
             0.3,
             "#f1b6da"
            ],
            [
             0.4,
             "#fde0ef"
            ],
            [
             0.5,
             "#f7f7f7"
            ],
            [
             0.6,
             "#e6f5d0"
            ],
            [
             0.7,
             "#b8e186"
            ],
            [
             0.8,
             "#7fbc41"
            ],
            [
             0.9,
             "#4d9221"
            ],
            [
             1,
             "#276419"
            ]
           ],
           "sequential": [
            [
             0,
             "#0d0887"
            ],
            [
             0.1111111111111111,
             "#46039f"
            ],
            [
             0.2222222222222222,
             "#7201a8"
            ],
            [
             0.3333333333333333,
             "#9c179e"
            ],
            [
             0.4444444444444444,
             "#bd3786"
            ],
            [
             0.5555555555555556,
             "#d8576b"
            ],
            [
             0.6666666666666666,
             "#ed7953"
            ],
            [
             0.7777777777777778,
             "#fb9f3a"
            ],
            [
             0.8888888888888888,
             "#fdca26"
            ],
            [
             1,
             "#f0f921"
            ]
           ],
           "sequentialminus": [
            [
             0,
             "#0d0887"
            ],
            [
             0.1111111111111111,
             "#46039f"
            ],
            [
             0.2222222222222222,
             "#7201a8"
            ],
            [
             0.3333333333333333,
             "#9c179e"
            ],
            [
             0.4444444444444444,
             "#bd3786"
            ],
            [
             0.5555555555555556,
             "#d8576b"
            ],
            [
             0.6666666666666666,
             "#ed7953"
            ],
            [
             0.7777777777777778,
             "#fb9f3a"
            ],
            [
             0.8888888888888888,
             "#fdca26"
            ],
            [
             1,
             "#f0f921"
            ]
           ]
          },
          "colorway": [
           "#636efa",
           "#EF553B",
           "#00cc96",
           "#ab63fa",
           "#FFA15A",
           "#19d3f3",
           "#FF6692",
           "#B6E880",
           "#FF97FF",
           "#FECB52"
          ],
          "font": {
           "color": "#2a3f5f"
          },
          "geo": {
           "bgcolor": "white",
           "lakecolor": "white",
           "landcolor": "white",
           "showlakes": true,
           "showland": true,
           "subunitcolor": "#C8D4E3"
          },
          "hoverlabel": {
           "align": "left"
          },
          "hovermode": "closest",
          "mapbox": {
           "style": "light"
          },
          "paper_bgcolor": "white",
          "plot_bgcolor": "white",
          "polar": {
           "angularaxis": {
            "gridcolor": "#EBF0F8",
            "linecolor": "#EBF0F8",
            "ticks": ""
           },
           "bgcolor": "white",
           "radialaxis": {
            "gridcolor": "#EBF0F8",
            "linecolor": "#EBF0F8",
            "ticks": ""
           }
          },
          "scene": {
           "xaxis": {
            "backgroundcolor": "white",
            "gridcolor": "#DFE8F3",
            "gridwidth": 2,
            "linecolor": "#EBF0F8",
            "showbackground": true,
            "ticks": "",
            "zerolinecolor": "#EBF0F8"
           },
           "yaxis": {
            "backgroundcolor": "white",
            "gridcolor": "#DFE8F3",
            "gridwidth": 2,
            "linecolor": "#EBF0F8",
            "showbackground": true,
            "ticks": "",
            "zerolinecolor": "#EBF0F8"
           },
           "zaxis": {
            "backgroundcolor": "white",
            "gridcolor": "#DFE8F3",
            "gridwidth": 2,
            "linecolor": "#EBF0F8",
            "showbackground": true,
            "ticks": "",
            "zerolinecolor": "#EBF0F8"
           }
          },
          "shapedefaults": {
           "line": {
            "color": "#2a3f5f"
           }
          },
          "ternary": {
           "aaxis": {
            "gridcolor": "#DFE8F3",
            "linecolor": "#A2B1C6",
            "ticks": ""
           },
           "baxis": {
            "gridcolor": "#DFE8F3",
            "linecolor": "#A2B1C6",
            "ticks": ""
           },
           "bgcolor": "white",
           "caxis": {
            "gridcolor": "#DFE8F3",
            "linecolor": "#A2B1C6",
            "ticks": ""
           }
          },
          "title": {
           "x": 0.05
          },
          "xaxis": {
           "automargin": true,
           "gridcolor": "#EBF0F8",
           "linecolor": "#EBF0F8",
           "ticks": "",
           "title": {
            "standoff": 15
           },
           "zerolinecolor": "#EBF0F8",
           "zerolinewidth": 2
          },
          "yaxis": {
           "automargin": true,
           "gridcolor": "#EBF0F8",
           "linecolor": "#EBF0F8",
           "ticks": "",
           "title": {
            "standoff": 15
           },
           "zerolinecolor": "#EBF0F8",
           "zerolinewidth": 2
          }
         }
        },
        "title": {
         "text": "LightGBM - Feature Importance"
        },
        "width": 900,
        "xaxis": {
         "anchor": "y",
         "domain": [
          0,
          1
         ],
         "tickfont": {
          "size": 12
         },
         "title": {
          "font": {
           "size": 12
          },
          "text": "Features"
         }
        },
        "yaxis": {
         "anchor": "x",
         "domain": [
          0,
          1
         ],
         "tickfont": {
          "size": 12
         },
         "title": {
          "font": {
           "size": 12
          },
          "text": "Importance"
         }
        }
       }
      }
     },
     "metadata": {},
     "output_type": "display_data"
    }
   ],
   "source": [
    "fig = px.bar(feat_df.head(15), x=\"feature\", y=\"importance\")\n",
    "format_plot(fig, xlabel=\"Features\", ylabel=\"Importance\", font_size=12)\n",
    "fig.update_layout(title= \"LightGBM - Feature Importance\")\n",
    "fig.write_image(dst_img/\"lightgbm_reg_fimp.png\")\n",
    "fig.show()"
   ]
  },
  {
   "cell_type": "markdown",
   "id": "aa7ace79",
   "metadata": {},
   "source": [
    "### Lasso"
   ]
  },
  {
   "cell_type": "code",
   "execution_count": 19,
   "id": "626396f1",
   "metadata": {},
   "outputs": [
    {
     "data": {
      "text/plain": [
       "{'Algorithm': 'Lasso Regression',\n",
       " 'MSE': 0.02582521488483684,\n",
       " 'RMSE': 0.16070225538192312,\n",
       " 'MAE': 0.07751618648925726,\n",
       " 'Forecast Bias': -1.3277794994791883}"
      ]
     },
     "execution_count": 19,
     "metadata": {},
     "output_type": "execute_result"
    }
   ],
   "source": [
    "lasso_test_metric_df = pred_df[pred_df.Algorithm =='Lasso Regression']\n",
    "overall_metrics_test_lasso = {\n",
    "    \"Algorithm\": \"Lasso Regression\",\n",
    "    \"MSE\": mse(lasso_test_metric_df.energy_consumption.values, lasso_test_metric_df.predictions.values),\n",
    "    \"RMSE\": rmse(lasso_test_metric_df.energy_consumption.values, lasso_test_metric_df.predictions.values),\n",
    "    \"MAE\": mae(lasso_test_metric_df.energy_consumption.values, lasso_test_metric_df.predictions.values),\n",
    "    \"Forecast Bias\": forecast_bias(lasso_test_metric_df.energy_consumption.values, lasso_test_metric_df.predictions.values)\n",
    "}\n",
    "overall_metrics_test_lasso"
   ]
  },
  {
   "cell_type": "markdown",
   "id": "9d0b53cd",
   "metadata": {},
   "source": [
    "### XGB Random Forest"
   ]
  },
  {
   "cell_type": "code",
   "execution_count": 20,
   "id": "04c1eb32",
   "metadata": {},
   "outputs": [
    {
     "data": {
      "text/plain": [
       "{'Algorithm': 'XGB Random Forest',\n",
       " 'MSE': 0.02922888373748025,\n",
       " 'RMSE': 0.1709645686611125,\n",
       " 'MAE': 0.07685168621481299,\n",
       " 'Forecast Bias': 0.42328869670574504}"
      ]
     },
     "execution_count": 20,
     "metadata": {},
     "output_type": "execute_result"
    }
   ],
   "source": [
    "xgb_test_metric_df = pred_df[pred_df.Algorithm =='XGB Random Forest']\n",
    "overall_metrics_test_xgb = {\n",
    "    \"Algorithm\": \"XGB Random Forest\",\n",
    "    \"MSE\": mse(xgb_test_metric_df.energy_consumption.values, xgb_test_metric_df.predictions.values),\n",
    "    \"RMSE\": rmse(xgb_test_metric_df.energy_consumption.values, xgb_test_metric_df.predictions.values),\n",
    "    \"MAE\": mae(xgb_test_metric_df.energy_consumption.values, xgb_test_metric_df.predictions.values),\n",
    "    \"Forecast Bias\": forecast_bias(xgb_test_metric_df.energy_consumption.values, xgb_test_metric_df.predictions.values)\n",
    "}\n",
    "overall_metrics_test_xgb"
   ]
  },
  {
   "cell_type": "markdown",
   "id": "7f77bdc0",
   "metadata": {},
   "source": [
    "### LightGBM"
   ]
  },
  {
   "cell_type": "code",
   "execution_count": 21,
   "id": "5d2c3db2",
   "metadata": {},
   "outputs": [
    {
     "data": {
      "text/plain": [
       "{'Algorithm': 'LightGBM',\n",
       " 'MSE': 0.026510407439444827,\n",
       " 'RMSE': 0.1628201690192122,\n",
       " 'MAE': 0.07344330876212404,\n",
       " 'Forecast Bias': -1.753861233021375}"
      ]
     },
     "execution_count": 21,
     "metadata": {},
     "output_type": "execute_result"
    }
   ],
   "source": [
    "gbm_test_metric_df = pred_df[pred_df.Algorithm =='LightGBM']\n",
    "overall_metrics_test_gbm = {\n",
    "    \"Algorithm\": \"LightGBM\",\n",
    "    \"MSE\": mse(gbm_test_metric_df.energy_consumption.values, gbm_test_metric_df.predictions.values),\n",
    "    \"RMSE\": rmse(gbm_test_metric_df.energy_consumption.values, gbm_test_metric_df.predictions.values),\n",
    "    \"MAE\": mae(gbm_test_metric_df.energy_consumption.values, gbm_test_metric_df.predictions.values),\n",
    "    \"Forecast Bias\": forecast_bias(gbm_test_metric_df.energy_consumption.values, gbm_test_metric_df.predictions.values)\n",
    "}\n",
    "overall_metrics_test_gbm"
   ]
  },
  {
   "cell_type": "code",
   "execution_count": 22,
   "id": "37ea0580",
   "metadata": {},
   "outputs": [],
   "source": [
    "ml_test_metrics_df = pd.DataFrame([overall_metrics_test_lasso, overall_metrics_test_xgb, overall_metrics_test_gbm])"
   ]
  },
  {
   "cell_type": "code",
   "execution_count": 23,
   "id": "bc9b7841",
   "metadata": {},
   "outputs": [
    {
     "data": {
      "text/html": [
       "<div>\n",
       "<style scoped>\n",
       "    .dataframe tbody tr th:only-of-type {\n",
       "        vertical-align: middle;\n",
       "    }\n",
       "\n",
       "    .dataframe tbody tr th {\n",
       "        vertical-align: top;\n",
       "    }\n",
       "\n",
       "    .dataframe thead th {\n",
       "        text-align: right;\n",
       "    }\n",
       "</style>\n",
       "<table border=\"1\" class=\"dataframe\">\n",
       "  <thead>\n",
       "    <tr style=\"text-align: right;\">\n",
       "      <th></th>\n",
       "      <th>Algorithm</th>\n",
       "      <th>MSE</th>\n",
       "      <th>RMSE</th>\n",
       "      <th>MAE</th>\n",
       "      <th>Forecast Bias</th>\n",
       "    </tr>\n",
       "  </thead>\n",
       "  <tbody>\n",
       "    <tr>\n",
       "      <th>0</th>\n",
       "      <td>AutoETS</td>\n",
       "      <td>0.058671</td>\n",
       "      <td>0.242221</td>\n",
       "      <td>0.119127</td>\n",
       "      <td>-10.707988</td>\n",
       "    </tr>\n",
       "    <tr>\n",
       "      <th>1</th>\n",
       "      <td>ARIMA</td>\n",
       "      <td>0.069428</td>\n",
       "      <td>0.263492</td>\n",
       "      <td>0.132783</td>\n",
       "      <td>-13.314743</td>\n",
       "    </tr>\n",
       "    <tr>\n",
       "      <th>0</th>\n",
       "      <td>Lasso Regression</td>\n",
       "      <td>0.025825</td>\n",
       "      <td>0.160702</td>\n",
       "      <td>0.077516</td>\n",
       "      <td>-1.327779</td>\n",
       "    </tr>\n",
       "    <tr>\n",
       "      <th>1</th>\n",
       "      <td>XGB Random Forest</td>\n",
       "      <td>0.029229</td>\n",
       "      <td>0.170965</td>\n",
       "      <td>0.076852</td>\n",
       "      <td>0.423289</td>\n",
       "    </tr>\n",
       "    <tr>\n",
       "      <th>2</th>\n",
       "      <td>LightGBM</td>\n",
       "      <td>0.026510</td>\n",
       "      <td>0.162820</td>\n",
       "      <td>0.073443</td>\n",
       "      <td>-1.753861</td>\n",
       "    </tr>\n",
       "  </tbody>\n",
       "</table>\n",
       "</div>"
      ],
      "text/plain": [
       "           Algorithm       MSE      RMSE       MAE  Forecast Bias\n",
       "0            AutoETS  0.058671  0.242221  0.119127     -10.707988\n",
       "1              ARIMA  0.069428  0.263492  0.132783     -13.314743\n",
       "0   Lasso Regression  0.025825  0.160702  0.077516      -1.327779\n",
       "1  XGB Random Forest  0.029229  0.170965  0.076852       0.423289\n",
       "2           LightGBM  0.026510  0.162820  0.073443      -1.753861"
      ]
     },
     "execution_count": 23,
     "metadata": {},
     "output_type": "execute_result"
    }
   ],
   "source": [
    "summary_metrics_df = pd.concat([baseline_metrics_df, ml_test_metrics_df])\n",
    "summary_metrics_df"
   ]
  },
  {
   "cell_type": "markdown",
   "id": "aee85e65",
   "metadata": {},
   "source": [
    "## Visualization"
   ]
  },
  {
   "cell_type": "code",
   "execution_count": null,
   "id": "0c73015b",
   "metadata": {},
   "outputs": [
    {
     "data": {
      "application/vnd.plotly.v1+json": {
       "config": {
        "plotlyServerURL": "https://plot.ly"
       },
       "data": [
        {
         "bingroup": "x",
         "histnorm": "probability density",
         "hovertemplate": "Algorithm=Lasso Regression<br>MAE=%{x}<br>probability density=%{y}<extra></extra>",
         "legendgroup": "Lasso Regression",
         "marker": {
          "color": "#636efa",
          "opacity": 0.5,
          "pattern": {
           "shape": ""
          }
         },
         "name": "Lasso Regression",
         "nbinsx": 500,
         "orientation": "v",
         "showlegend": true,
         "type": "histogram",
         "x": {
          "bdata": "+j0TJARboz/UXUiQx+CyP6AVcq1V1ZE/gwg84EvTwD8zhzmANTqlPwDPaOmutqo/I/aEKoougz+yuLXZTyGpP7GWYJgf2LY/OpyxesWIxT8Y9htgYRuyP5jbRg9bGsE/xEVB0bYinj8Z/qMypAakPxuivsd0e9E/sREY1/DXrT9I3PyER+mgPy/BsE6zbsY/6GEh/SResT9qG/caiWyjPxlxRl8MVb0/NwpR3l1Dlz86ihnfjnygP7RoWWnEGrw/PhwvZm1dqD8KI66U4jfAP5YRei9mqao/FSQd9ZcGsD+JdMMGblqxP/t4DwXgrZk/rNMl1PmJuD8DN62aj3nDP/OpuzEPkpY/tivKr7UZoj91ATzAgVGQP5WNSW5TGJA/yZppxBI+rD+Y100TvYSzP1NhLA1UfIM/um6iXFjrmz83OsGPUEWNP/6fDRnV6IE/HN9cDFrVuT+MtMYGAv6xPyXIj/0Ic7Q/tb557tQBsj9JTVddyXqvP/VJL1pnlLg/fZxkVtgmvj+FOOkbllGcP1/J5tkZu7k/x/Bt3nbkuz9PJ8hyEQKwPwbVjgKVFK4/bh6WRKSepz/sa6Z55F2oPwg1T3B6IqY/1+siZG3dxj9PB+1Si9elP2gcCN3wl68/hy93D8JsuD9ElOk1rPF0PxaxzQItHLs/Jgjqgrmgsz8V0Qkb0n2hP5FIxQ72W7Q/k5yOplYLsz8xLjMwrpHBP6Tu0GFKbKA/iU8vkl2TpD/q7A22K7iYP/0sENpnwKA/I3s0yNl8vj+QwOTWTme7P0l0wYDPTak//f335Y1Vzj+ap9Iau/uVP8zYp+kxr68/+ONNagUVpT+7eamCRhOnP9xHAYfJNrY/L2gkcS5ksD9ppyxf43ayP9/0/pXoR8c/ECHDSN1wsD8sk7wLQxCqP5syr+W+VKE/b0ZmaOyZrj/yhujuzASsP1fKDdzDeqM/wix3W7NthT86PzIKbTWyP9yTHSyqr6I/piBGodcqvT8AwUUcwzuGP93tOE3LWa0/JAEyAHOAuT/EcG1IDdyyP3XPwvs8LLo/OD1ZonKWxT+Cwbt60JGxPyV77S0zSYY/YvX1tJbouz/sy+TFgymwP7/kGOqqfbA/C+kF87mBsj/nLTPmZj+9P7G+9NhFlqw/3f9eIXGXoz9YnS0PWBe4P6n7DyyHaLs/YhGLF4gquD/XnCjXYpmtPzwFo2akYKQ/ZTCnRAWywT/aklBsquyqP4lEN7xFUaM/eLQgLRJ5qT++kFpO3pepP1/O9QDdc5I/uT5Dw4gfsD/q+x2FvjXDP/g88+EBSsQ//LMm3AwbqT/IWvBknqO2P35wD5PQJ8g/YmzD4CFeuT9typmxbciyP76ErMnYFLw/YMz4QbkjwD8NXgsN2PXNPxKhySGZ5sE/IFudE4HYDj/XFyFRKz+fP+BAGzGXkqI/wKC6BogDwj/tRFbE21d7Pyu1tREBsrA/YgJAX5YUvj+xVyeDOxGcP+oOyBpPPZ0/HIb5eSNzuD/N8pZ82SazPw6TMGd0kMk/T+9pRTb6xT8J21+pcKqpP8Rv0ZEfu6A/gXOwJTvPxz/xl0d6eyupP4vtlAOGask/1axSe/qeoT+C1IHGlVKuP6gnXuQIE4g/SSdafHZ5nD9gnzpTFKOBP8DkhACJ28M/BYqJYA4Utj89bLTuNmmxP7S09xqDRaw/Hj7OZiratz9ocFbrrXeqP90qtuwIW64/YlpeTr0Uvj9rkynIHDjMP1iEe1d2pKo/Yiy7GGFdzD/kUC37D6q1PyQRFrhr4KY/+IOZbHBxsT+kT9p9ZcrAP8QhdhIVgKE/2WmpHxfzpD/nV4BQalKrP0mm8BbLb84/LVzrZGZFxz+Ik4ySN8CePxV4EgB+a6A/Yt88xxJkuT/3m6LWtju9PxnmfFuTiKw/51q7T/cNwD8bddo9Xc2vP+uX+0N8E6g/DXJM6U5dwz+97I4TqvOyPw==",
          "dtype": "f8"
         },
         "xaxis": "x",
         "yaxis": "y"
        },
        {
         "hovertemplate": "Algorithm=Lasso Regression<br>MAE=%{x}<extra></extra>",
         "legendgroup": "Lasso Regression",
         "marker": {
          "color": "#636efa"
         },
         "name": "Lasso Regression",
         "notched": true,
         "showlegend": false,
         "type": "box",
         "x": {
          "bdata": "+j0TJARboz/UXUiQx+CyP6AVcq1V1ZE/gwg84EvTwD8zhzmANTqlPwDPaOmutqo/I/aEKoougz+yuLXZTyGpP7GWYJgf2LY/OpyxesWIxT8Y9htgYRuyP5jbRg9bGsE/xEVB0bYinj8Z/qMypAakPxuivsd0e9E/sREY1/DXrT9I3PyER+mgPy/BsE6zbsY/6GEh/SResT9qG/caiWyjPxlxRl8MVb0/NwpR3l1Dlz86ihnfjnygP7RoWWnEGrw/PhwvZm1dqD8KI66U4jfAP5YRei9mqao/FSQd9ZcGsD+JdMMGblqxP/t4DwXgrZk/rNMl1PmJuD8DN62aj3nDP/OpuzEPkpY/tivKr7UZoj91ATzAgVGQP5WNSW5TGJA/yZppxBI+rD+Y100TvYSzP1NhLA1UfIM/um6iXFjrmz83OsGPUEWNP/6fDRnV6IE/HN9cDFrVuT+MtMYGAv6xPyXIj/0Ic7Q/tb557tQBsj9JTVddyXqvP/VJL1pnlLg/fZxkVtgmvj+FOOkbllGcP1/J5tkZu7k/x/Bt3nbkuz9PJ8hyEQKwPwbVjgKVFK4/bh6WRKSepz/sa6Z55F2oPwg1T3B6IqY/1+siZG3dxj9PB+1Si9elP2gcCN3wl68/hy93D8JsuD9ElOk1rPF0PxaxzQItHLs/Jgjqgrmgsz8V0Qkb0n2hP5FIxQ72W7Q/k5yOplYLsz8xLjMwrpHBP6Tu0GFKbKA/iU8vkl2TpD/q7A22K7iYP/0sENpnwKA/I3s0yNl8vj+QwOTWTme7P0l0wYDPTak//f335Y1Vzj+ap9Iau/uVP8zYp+kxr68/+ONNagUVpT+7eamCRhOnP9xHAYfJNrY/L2gkcS5ksD9ppyxf43ayP9/0/pXoR8c/ECHDSN1wsD8sk7wLQxCqP5syr+W+VKE/b0ZmaOyZrj/yhujuzASsP1fKDdzDeqM/wix3W7NthT86PzIKbTWyP9yTHSyqr6I/piBGodcqvT8AwUUcwzuGP93tOE3LWa0/JAEyAHOAuT/EcG1IDdyyP3XPwvs8LLo/OD1ZonKWxT+Cwbt60JGxPyV77S0zSYY/YvX1tJbouz/sy+TFgymwP7/kGOqqfbA/C+kF87mBsj/nLTPmZj+9P7G+9NhFlqw/3f9eIXGXoz9YnS0PWBe4P6n7DyyHaLs/YhGLF4gquD/XnCjXYpmtPzwFo2akYKQ/ZTCnRAWywT/aklBsquyqP4lEN7xFUaM/eLQgLRJ5qT++kFpO3pepP1/O9QDdc5I/uT5Dw4gfsD/q+x2FvjXDP/g88+EBSsQ//LMm3AwbqT/IWvBknqO2P35wD5PQJ8g/YmzD4CFeuT9typmxbciyP76ErMnYFLw/YMz4QbkjwD8NXgsN2PXNPxKhySGZ5sE/IFudE4HYDj/XFyFRKz+fP+BAGzGXkqI/wKC6BogDwj/tRFbE21d7Pyu1tREBsrA/YgJAX5YUvj+xVyeDOxGcP+oOyBpPPZ0/HIb5eSNzuD/N8pZ82SazPw6TMGd0kMk/T+9pRTb6xT8J21+pcKqpP8Rv0ZEfu6A/gXOwJTvPxz/xl0d6eyupP4vtlAOGask/1axSe/qeoT+C1IHGlVKuP6gnXuQIE4g/SSdafHZ5nD9gnzpTFKOBP8DkhACJ28M/BYqJYA4Utj89bLTuNmmxP7S09xqDRaw/Hj7OZiratz9ocFbrrXeqP90qtuwIW64/YlpeTr0Uvj9rkynIHDjMP1iEe1d2pKo/Yiy7GGFdzD/kUC37D6q1PyQRFrhr4KY/+IOZbHBxsT+kT9p9ZcrAP8QhdhIVgKE/2WmpHxfzpD/nV4BQalKrP0mm8BbLb84/LVzrZGZFxz+Ik4ySN8CePxV4EgB+a6A/Yt88xxJkuT/3m6LWtju9PxnmfFuTiKw/51q7T/cNwD8bddo9Xc2vP+uX+0N8E6g/DXJM6U5dwz+97I4TqvOyPw==",
          "dtype": "f8"
         },
         "xaxis": "x2",
         "yaxis": "y2"
        },
        {
         "bingroup": "x",
         "histnorm": "probability density",
         "hovertemplate": "Algorithm=XGB Random Forest<br>MAE=%{x}<br>probability density=%{y}<extra></extra>",
         "legendgroup": "XGB Random Forest",
         "marker": {
          "color": "#EF553B",
          "opacity": 0.5,
          "pattern": {
           "shape": "/"
          }
         },
         "name": "XGB Random Forest",
         "nbinsx": 500,
         "orientation": "v",
         "showlegend": true,
         "type": "histogram",
         "x": {
          "bdata": "6JXzCxcroj/ejdg2SVuxP3CKUQv5pIU/UX2GIPG9wD8/Ppk8JbSkP6PN59ox4ak/PxXt8hrxhz+jhr8PBvKoPwtD7kSuPbY/N7UWIypUxT8FPtdvbRazPwm3AOD8CME/Rz4lfWsVnj+rMtytBTSkP5lIqEoZIOA/ftInEKymqz/CvStjBMSgP1TDAgYghMY/ewrf2bsasD803xleV4OjP+05sEHDLL0/g7+SRGhdlT9iK6tk0YGgP/NBsuAu1Lo/anCqZbLDpj8hMpGyXmXAP1xXxU9SXao/m2IDU6nqrT8g76zrpqixPySwAuFbAJk/OyTDQncAuT83jf1VWEjDPw63mPTPKpU/vA9QCTNimz81i9fhsHiSP29X9g32X44/gDd5nUL7qj/wMa3qiWiyP2SKY6PVv5M/YuFm47CFmj9YaKV+rACJP2TGU+a4pY0/EhiXSaYztj8IOIkJPpuwPxXULLeYSbQ/BVV6yFn4sT+G/Z/+ZHGwP9I/hWcPebc/FRxpeGfRuj8hrKCxBZibPxnXu+EryLg/SUpNBtOKvD8dhmmTqAewPw2X0uaVtK8/prpS6ONOpT/zPaYNpfypP9JIwHle0qM/jX6ha11Lxz8Tb/OaywqjPzT1FiaCXa4/r1aBFA7btz+sq7cY4GV+P0dNlkgHIb0/4vj2+rxdsj8PA2OUAEehP8XPuOIeFbQ/Ym3T+9/ftT+QpPt/cB3BPw7NGhwKCKA/sS+qKcaEoz+ed9mL2uKZPwnQezAozqA/k9SxdRLvvT+h0F9/B0i5P0b5sc+JYqg/JHGHbV85zT9RT3vOctmSP7D7ix+vIrA/6vPVKjY/pT+jCwRsCjiiP6SpUThKY7g/E4HsgSTLrT/q7H44ePayP0K0+BfLY8U/8LnewVW1sD/0XyG4lVaoP/CnxuBkbKA/+xo6FQiZrT9qvikNsCOoP+QQ9K7G8qI/9bCB16/skj9slmK8riCwP8XHb3Xn/6E/rzmoBkyPvD9awuJYkbOFP5jhm6pJTqs/+jDr0i1ZuT+AwIQJWke0P8rfMqEcqbg/h9Y01Z7Nwj/a/CVlz4exP+Tpl6FeF5s/Yp6o/6civT9vE/U8hjSwP0qLJ3iJKK0/P6Jr67EXsz/BhJqZyCC+PyMh+xRNKKw/mfLZIKyLoj9Rscf+Izu4PyvvUtdYG7k/XMTSkKohtz8oM1+xIoasP4C4O3bWJqY/hO8LaIbuwD9P9QLdhb+pP1hEdRLz3KE/Iad08A4uqD+bAIgWTruoP9pk1yUu1JE/cr4T/rf5rz9GDLwC44nCP/KCGexygsM/0bXNrLExqD8hq3LbX223P8RAgiMBrcc/A7NaezgnuT8LxJm9HZGyPzFZo3FiAbs/CeNWGwhnwD9+48yrTI/OP7e6MQDfx8A/QnsJbc459z7tMioXCRqbP761nJouCqI/GuvFuSaXwT/Vf0ANQ46CP5lNzyKT86c/rmrm5wDcvT/wFovhI5ieP/DaIWGv85w/BtuYW39jtj83u1+Fm7uzP5tUyHq2U8Q/a4UNp8Vsxj/GgvwxJsenP0PmkJxxFKA/3rL6I32pxz82DoaitFyuP1wCEhQfisg/P2XMWA+UoD/yn/IUETuwP3DiNQLsyZU/ddPpAHPHmj962qPpiTFzP3ZHca164cM/f9hdIkMDtT/lSPGBG+ewPyHNS/I+qKo/2k0dG6QEtz9VZ5xXCnmpP2v/MkgOGrA/ofUMYIYCvD+AoLKCKe7NP/P/ibqP8ao/XCbw5GK1zD9NjF+p2YC0Pzb5K6fgIaI/KeWyjBKgsD8AE2hJZKm/P10VP/88f6E/zbq0IJOxpT+pb5G13XOnP9azN1YNc9A/noTQlSdixz/74mthz/GeP4YHyAbzcZ8/AJp4ufUBtj92TMEoI5a2P2+ewCxvEao/NidTjUX8vz/9aSDktRCvP1SinLWUOqY/XVdqqtMDwj/HSSSPwjKtPw==",
          "dtype": "f8"
         },
         "xaxis": "x",
         "yaxis": "y"
        },
        {
         "hovertemplate": "Algorithm=XGB Random Forest<br>MAE=%{x}<extra></extra>",
         "legendgroup": "XGB Random Forest",
         "marker": {
          "color": "#EF553B"
         },
         "name": "XGB Random Forest",
         "notched": true,
         "showlegend": false,
         "type": "box",
         "x": {
          "bdata": "6JXzCxcroj/ejdg2SVuxP3CKUQv5pIU/UX2GIPG9wD8/Ppk8JbSkP6PN59ox4ak/PxXt8hrxhz+jhr8PBvKoPwtD7kSuPbY/N7UWIypUxT8FPtdvbRazPwm3AOD8CME/Rz4lfWsVnj+rMtytBTSkP5lIqEoZIOA/ftInEKymqz/CvStjBMSgP1TDAgYghMY/ewrf2bsasD803xleV4OjP+05sEHDLL0/g7+SRGhdlT9iK6tk0YGgP/NBsuAu1Lo/anCqZbLDpj8hMpGyXmXAP1xXxU9SXao/m2IDU6nqrT8g76zrpqixPySwAuFbAJk/OyTDQncAuT83jf1VWEjDPw63mPTPKpU/vA9QCTNimz81i9fhsHiSP29X9g32X44/gDd5nUL7qj/wMa3qiWiyP2SKY6PVv5M/YuFm47CFmj9YaKV+rACJP2TGU+a4pY0/EhiXSaYztj8IOIkJPpuwPxXULLeYSbQ/BVV6yFn4sT+G/Z/+ZHGwP9I/hWcPebc/FRxpeGfRuj8hrKCxBZibPxnXu+EryLg/SUpNBtOKvD8dhmmTqAewPw2X0uaVtK8/prpS6ONOpT/zPaYNpfypP9JIwHle0qM/jX6ha11Lxz8Tb/OaywqjPzT1FiaCXa4/r1aBFA7btz+sq7cY4GV+P0dNlkgHIb0/4vj2+rxdsj8PA2OUAEehP8XPuOIeFbQ/Ym3T+9/ftT+QpPt/cB3BPw7NGhwKCKA/sS+qKcaEoz+ed9mL2uKZPwnQezAozqA/k9SxdRLvvT+h0F9/B0i5P0b5sc+JYqg/JHGHbV85zT9RT3vOctmSP7D7ix+vIrA/6vPVKjY/pT+jCwRsCjiiP6SpUThKY7g/E4HsgSTLrT/q7H44ePayP0K0+BfLY8U/8LnewVW1sD/0XyG4lVaoP/CnxuBkbKA/+xo6FQiZrT9qvikNsCOoP+QQ9K7G8qI/9bCB16/skj9slmK8riCwP8XHb3Xn/6E/rzmoBkyPvD9awuJYkbOFP5jhm6pJTqs/+jDr0i1ZuT+AwIQJWke0P8rfMqEcqbg/h9Y01Z7Nwj/a/CVlz4exP+Tpl6FeF5s/Yp6o/6civT9vE/U8hjSwP0qLJ3iJKK0/P6Jr67EXsz/BhJqZyCC+PyMh+xRNKKw/mfLZIKyLoj9Rscf+Izu4PyvvUtdYG7k/XMTSkKohtz8oM1+xIoasP4C4O3bWJqY/hO8LaIbuwD9P9QLdhb+pP1hEdRLz3KE/Iad08A4uqD+bAIgWTruoP9pk1yUu1JE/cr4T/rf5rz9GDLwC44nCP/KCGexygsM/0bXNrLExqD8hq3LbX223P8RAgiMBrcc/A7NaezgnuT8LxJm9HZGyPzFZo3FiAbs/CeNWGwhnwD9+48yrTI/OP7e6MQDfx8A/QnsJbc459z7tMioXCRqbP761nJouCqI/GuvFuSaXwT/Vf0ANQ46CP5lNzyKT86c/rmrm5wDcvT/wFovhI5ieP/DaIWGv85w/BtuYW39jtj83u1+Fm7uzP5tUyHq2U8Q/a4UNp8Vsxj/GgvwxJsenP0PmkJxxFKA/3rL6I32pxz82DoaitFyuP1wCEhQfisg/P2XMWA+UoD/yn/IUETuwP3DiNQLsyZU/ddPpAHPHmj962qPpiTFzP3ZHca164cM/f9hdIkMDtT/lSPGBG+ewPyHNS/I+qKo/2k0dG6QEtz9VZ5xXCnmpP2v/MkgOGrA/ofUMYIYCvD+AoLKCKe7NP/P/ibqP8ao/XCbw5GK1zD9NjF+p2YC0Pzb5K6fgIaI/KeWyjBKgsD8AE2hJZKm/P10VP/88f6E/zbq0IJOxpT+pb5G13XOnP9azN1YNc9A/noTQlSdixz/74mthz/GeP4YHyAbzcZ8/AJp4ufUBtj92TMEoI5a2P2+ewCxvEao/NidTjUX8vz/9aSDktRCvP1SinLWUOqY/XVdqqtMDwj/HSSSPwjKtPw==",
          "dtype": "f8"
         },
         "xaxis": "x2",
         "yaxis": "y2"
        },
        {
         "bingroup": "x",
         "histnorm": "probability density",
         "hovertemplate": "Algorithm=LightGBM<br>MAE=%{x}<br>probability density=%{y}<extra></extra>",
         "legendgroup": "LightGBM",
         "marker": {
          "color": "#00cc96",
          "opacity": 0.5,
          "pattern": {
           "shape": "\\"
          }
         },
         "name": "LightGBM",
         "nbinsx": 500,
         "orientation": "v",
         "showlegend": true,
         "type": "histogram",
         "x": {
          "bdata": "Bvx21gapoT+AFqLm342zP7dAL6dWgoM/JlGOuhVDvD93OVf4UGqiP2Uqk7nkFao/nSNlMZ/NgD+GZDIj+lOnP7GkOqFHjbU/DzPAakEgwz8S5KPKKmSxP2uRMvBUuL8/hv9rogd6mz+qeOEyROCiP+/lmCpkgd0/q7omJANWqz+rOf4YLmefP35BU4FQ2cU/P3bqaL77rz8YnI+wJvCgP4uAvZsCkrw/OWHPgeVglD+BySzzzy+gPytsYKGcFLk/R41Uhhp4pz8T9ZDvQc6+P30nM0XRn6g/9/j7yCgIrj9JC5GmsH6vP8Sx9zJvB5k/MXGHGXcvuD+vxfdDxmfDP2RysIGggZI/q6DCm4Maij9SbOBHrbaOPw2uzbP03Ig/V5mDm5itqD91cCRi4NSxP0LJB1rs03w/1sLlwcIVmD+Idyd1976DP/u3GJ0RjZI/yE3BTVT1sz+hlfYEPYywPwbEuS1sULM/X6zHFMLfsD+s0wK59T+uPx5GT4N897c/ABuKXSGWuj8gqfliCe2ZPwZRSeaxurs/exZv/x4fvT9tAkR9COutP1WI40fseKs/HDPRdj+Roj9Gj7+m3UeoP/nEPcVlnKM/86hsibTTxj8vBJ5ta+igPz9f3MvCpK0/TMZjKk9atj+g2oJVj2puP8ku702C4c8/B2CFJAe1sT8VlkF+VmaeP1wNIc6PULM/7feWZioesj/zjDPHBIfBPyl5acZPBKE/mQz0j6ONoz+81dXojKiYPwaNnaybAqA//aPxJjftvT+C14KpBWi4P+wyKCVYdKc/jSV+ztYeyj+Jkx71kj2SPyZz1iYyq6s/pFOPQR+PpD/IuW7EbRWgP4BFeS13ybU/Cw9b4p8vpz8xR6yBBxiyP7fHDu7tlsU/o10ChmBJrj8w/wAqWU+lP/h+qMHhQ6A/c/C/19v8qz9HiZNT4MWmPwL4u/0/f6I/GxJDaX7agD9cX61bExuwP4gy1h+EgKA/t12uoHXmvD86ocrR/sqDP378SrNNwqo/Y2pARO8NuD/6z0xsQ26yP2uNdXCCb7c/tzoV16lxwz8vFWuiOsKwP1O83kiQkZQ/PC5t0KKAuj8DCdlu0HiuP2sf7mFkka0/cmO8dNpAtT/gVuogXa+8P/rRYCITTK0/zd1GRrQjoj/ILSEmo3m3P7dho4t+a7c/HhhByI90uD97i4maQ+mtP61sUoeDF6I/egQaOisMwT9c++uz5mioPyDssljlvKA/m9r3Xa5bqD/k5y78snKqP4IMYRk5+o4/NnkplR91rT8GsnToKOrBP40CZ5HurcM/Ag5hyaABpz+JSa3ivDq1P2gSOt49+8Y/d+SLhnQUuT8zB8JxEFuxPzbvQvALDbo/oeWcpTaCwD9Pzu/d0A/MP8kpiGf4cL0/64+smekWBD/RYYwNXzSaP+8ja/eFsKI/JAydlaQVwj8pXOVupEh/PyJit62OVac/rJIi+KALvj+/XbEZAZWOP35JEvDdypk/AXRkP7fHtD/0+GMxdzCxP+gXf4pl88E/coJm05vyxT+31hkcp0anP5yTPZDzfZ4/hpStkcVPwD+KUtUUO2KoP7FBHw2HuMc/eBy5U4jfnD9HPPwunlGyP2r2BNGzmo8/Sso/6tE8mz8m0wHsPUR3P34ojpAeGsM/T6WjzXYBtD+AT1skACewP3ftXQ/j+Ko/eWpVZNxRtz8pl02Dl6KpP5EOAfYDmqw/TzOyaY96uz8weQkRopPIPwRB/d8/aag/Dl2ONedqyz+xswkfTmayPwXtZ2lD4Zs/3e5VB9cvrz824koORE2/P/M345QE5p8/DKeGu30fpD/nTXV4O0WmP0ZUAdsEac4/zQUIMhj8xT8FwjEhufWaPz59xWRiIaA/PmIXpDk0sj8cnfZcnAa2P7e0a/s8v6s/K3uladqwvj+CubArA1WtP+yN926+JKY/GMshTCPewj/B5cYRnzuuPw==",
          "dtype": "f8"
         },
         "xaxis": "x",
         "yaxis": "y"
        },
        {
         "hovertemplate": "Algorithm=LightGBM<br>MAE=%{x}<extra></extra>",
         "legendgroup": "LightGBM",
         "marker": {
          "color": "#00cc96"
         },
         "name": "LightGBM",
         "notched": true,
         "showlegend": false,
         "type": "box",
         "x": {
          "bdata": "Bvx21gapoT+AFqLm342zP7dAL6dWgoM/JlGOuhVDvD93OVf4UGqiP2Uqk7nkFao/nSNlMZ/NgD+GZDIj+lOnP7GkOqFHjbU/DzPAakEgwz8S5KPKKmSxP2uRMvBUuL8/hv9rogd6mz+qeOEyROCiP+/lmCpkgd0/q7omJANWqz+rOf4YLmefP35BU4FQ2cU/P3bqaL77rz8YnI+wJvCgP4uAvZsCkrw/OWHPgeVglD+BySzzzy+gPytsYKGcFLk/R41Uhhp4pz8T9ZDvQc6+P30nM0XRn6g/9/j7yCgIrj9JC5GmsH6vP8Sx9zJvB5k/MXGHGXcvuD+vxfdDxmfDP2RysIGggZI/q6DCm4Maij9SbOBHrbaOPw2uzbP03Ig/V5mDm5itqD91cCRi4NSxP0LJB1rs03w/1sLlwcIVmD+Idyd1976DP/u3GJ0RjZI/yE3BTVT1sz+hlfYEPYywPwbEuS1sULM/X6zHFMLfsD+s0wK59T+uPx5GT4N897c/ABuKXSGWuj8gqfliCe2ZPwZRSeaxurs/exZv/x4fvT9tAkR9COutP1WI40fseKs/HDPRdj+Roj9Gj7+m3UeoP/nEPcVlnKM/86hsibTTxj8vBJ5ta+igPz9f3MvCpK0/TMZjKk9atj+g2oJVj2puP8ku702C4c8/B2CFJAe1sT8VlkF+VmaeP1wNIc6PULM/7feWZioesj/zjDPHBIfBPyl5acZPBKE/mQz0j6ONoz+81dXojKiYPwaNnaybAqA//aPxJjftvT+C14KpBWi4P+wyKCVYdKc/jSV+ztYeyj+Jkx71kj2SPyZz1iYyq6s/pFOPQR+PpD/IuW7EbRWgP4BFeS13ybU/Cw9b4p8vpz8xR6yBBxiyP7fHDu7tlsU/o10ChmBJrj8w/wAqWU+lP/h+qMHhQ6A/c/C/19v8qz9HiZNT4MWmPwL4u/0/f6I/GxJDaX7agD9cX61bExuwP4gy1h+EgKA/t12uoHXmvD86ocrR/sqDP378SrNNwqo/Y2pARO8NuD/6z0xsQ26yP2uNdXCCb7c/tzoV16lxwz8vFWuiOsKwP1O83kiQkZQ/PC5t0KKAuj8DCdlu0HiuP2sf7mFkka0/cmO8dNpAtT/gVuogXa+8P/rRYCITTK0/zd1GRrQjoj/ILSEmo3m3P7dho4t+a7c/HhhByI90uD97i4maQ+mtP61sUoeDF6I/egQaOisMwT9c++uz5mioPyDssljlvKA/m9r3Xa5bqD/k5y78snKqP4IMYRk5+o4/NnkplR91rT8GsnToKOrBP40CZ5HurcM/Ag5hyaABpz+JSa3ivDq1P2gSOt49+8Y/d+SLhnQUuT8zB8JxEFuxPzbvQvALDbo/oeWcpTaCwD9Pzu/d0A/MP8kpiGf4cL0/64+smekWBD/RYYwNXzSaP+8ja/eFsKI/JAydlaQVwj8pXOVupEh/PyJit62OVac/rJIi+KALvj+/XbEZAZWOP35JEvDdypk/AXRkP7fHtD/0+GMxdzCxP+gXf4pl88E/coJm05vyxT+31hkcp0anP5yTPZDzfZ4/hpStkcVPwD+KUtUUO2KoP7FBHw2HuMc/eBy5U4jfnD9HPPwunlGyP2r2BNGzmo8/Sso/6tE8mz8m0wHsPUR3P34ojpAeGsM/T6WjzXYBtD+AT1skACewP3ftXQ/j+Ko/eWpVZNxRtz8pl02Dl6KpP5EOAfYDmqw/TzOyaY96uz8weQkRopPIPwRB/d8/aag/Dl2ONedqyz+xswkfTmayPwXtZ2lD4Zs/3e5VB9cvrz824koORE2/P/M345QE5p8/DKeGu30fpD/nTXV4O0WmP0ZUAdsEac4/zQUIMhj8xT8FwjEhufWaPz59xWRiIaA/PmIXpDk0sj8cnfZcnAa2P7e0a/s8v6s/K3uladqwvj+CubArA1WtP+yN926+JKY/GMshTCPewj/B5cYRnzuuPw==",
          "dtype": "f8"
         },
         "xaxis": "x2",
         "yaxis": "y2"
        }
       ],
       "layout": {
        "autosize": false,
        "barmode": "overlay",
        "height": 500,
        "legend": {
         "font": {
          "size": 15
         },
         "orientation": "h",
         "title": {},
         "tracegroupgap": 0,
         "x": 1,
         "xanchor": "right",
         "y": 0.98,
         "yanchor": "bottom"
        },
        "margin": {
         "t": 60
        },
        "template": {
         "data": {
          "bar": [
           {
            "error_x": {
             "color": "#2a3f5f"
            },
            "error_y": {
             "color": "#2a3f5f"
            },
            "marker": {
             "line": {
              "color": "white",
              "width": 0.5
             },
             "pattern": {
              "fillmode": "overlay",
              "size": 10,
              "solidity": 0.2
             }
            },
            "type": "bar"
           }
          ],
          "barpolar": [
           {
            "marker": {
             "line": {
              "color": "white",
              "width": 0.5
             },
             "pattern": {
              "fillmode": "overlay",
              "size": 10,
              "solidity": 0.2
             }
            },
            "type": "barpolar"
           }
          ],
          "carpet": [
           {
            "aaxis": {
             "endlinecolor": "#2a3f5f",
             "gridcolor": "#C8D4E3",
             "linecolor": "#C8D4E3",
             "minorgridcolor": "#C8D4E3",
             "startlinecolor": "#2a3f5f"
            },
            "baxis": {
             "endlinecolor": "#2a3f5f",
             "gridcolor": "#C8D4E3",
             "linecolor": "#C8D4E3",
             "minorgridcolor": "#C8D4E3",
             "startlinecolor": "#2a3f5f"
            },
            "type": "carpet"
           }
          ],
          "choropleth": [
           {
            "colorbar": {
             "outlinewidth": 0,
             "ticks": ""
            },
            "type": "choropleth"
           }
          ],
          "contour": [
           {
            "colorbar": {
             "outlinewidth": 0,
             "ticks": ""
            },
            "colorscale": [
             [
              0,
              "#0d0887"
             ],
             [
              0.1111111111111111,
              "#46039f"
             ],
             [
              0.2222222222222222,
              "#7201a8"
             ],
             [
              0.3333333333333333,
              "#9c179e"
             ],
             [
              0.4444444444444444,
              "#bd3786"
             ],
             [
              0.5555555555555556,
              "#d8576b"
             ],
             [
              0.6666666666666666,
              "#ed7953"
             ],
             [
              0.7777777777777778,
              "#fb9f3a"
             ],
             [
              0.8888888888888888,
              "#fdca26"
             ],
             [
              1,
              "#f0f921"
             ]
            ],
            "type": "contour"
           }
          ],
          "contourcarpet": [
           {
            "colorbar": {
             "outlinewidth": 0,
             "ticks": ""
            },
            "type": "contourcarpet"
           }
          ],
          "heatmap": [
           {
            "colorbar": {
             "outlinewidth": 0,
             "ticks": ""
            },
            "colorscale": [
             [
              0,
              "#0d0887"
             ],
             [
              0.1111111111111111,
              "#46039f"
             ],
             [
              0.2222222222222222,
              "#7201a8"
             ],
             [
              0.3333333333333333,
              "#9c179e"
             ],
             [
              0.4444444444444444,
              "#bd3786"
             ],
             [
              0.5555555555555556,
              "#d8576b"
             ],
             [
              0.6666666666666666,
              "#ed7953"
             ],
             [
              0.7777777777777778,
              "#fb9f3a"
             ],
             [
              0.8888888888888888,
              "#fdca26"
             ],
             [
              1,
              "#f0f921"
             ]
            ],
            "type": "heatmap"
           }
          ],
          "histogram": [
           {
            "marker": {
             "pattern": {
              "fillmode": "overlay",
              "size": 10,
              "solidity": 0.2
             }
            },
            "type": "histogram"
           }
          ],
          "histogram2d": [
           {
            "colorbar": {
             "outlinewidth": 0,
             "ticks": ""
            },
            "colorscale": [
             [
              0,
              "#0d0887"
             ],
             [
              0.1111111111111111,
              "#46039f"
             ],
             [
              0.2222222222222222,
              "#7201a8"
             ],
             [
              0.3333333333333333,
              "#9c179e"
             ],
             [
              0.4444444444444444,
              "#bd3786"
             ],
             [
              0.5555555555555556,
              "#d8576b"
             ],
             [
              0.6666666666666666,
              "#ed7953"
             ],
             [
              0.7777777777777778,
              "#fb9f3a"
             ],
             [
              0.8888888888888888,
              "#fdca26"
             ],
             [
              1,
              "#f0f921"
             ]
            ],
            "type": "histogram2d"
           }
          ],
          "histogram2dcontour": [
           {
            "colorbar": {
             "outlinewidth": 0,
             "ticks": ""
            },
            "colorscale": [
             [
              0,
              "#0d0887"
             ],
             [
              0.1111111111111111,
              "#46039f"
             ],
             [
              0.2222222222222222,
              "#7201a8"
             ],
             [
              0.3333333333333333,
              "#9c179e"
             ],
             [
              0.4444444444444444,
              "#bd3786"
             ],
             [
              0.5555555555555556,
              "#d8576b"
             ],
             [
              0.6666666666666666,
              "#ed7953"
             ],
             [
              0.7777777777777778,
              "#fb9f3a"
             ],
             [
              0.8888888888888888,
              "#fdca26"
             ],
             [
              1,
              "#f0f921"
             ]
            ],
            "type": "histogram2dcontour"
           }
          ],
          "mesh3d": [
           {
            "colorbar": {
             "outlinewidth": 0,
             "ticks": ""
            },
            "type": "mesh3d"
           }
          ],
          "parcoords": [
           {
            "line": {
             "colorbar": {
              "outlinewidth": 0,
              "ticks": ""
             }
            },
            "type": "parcoords"
           }
          ],
          "pie": [
           {
            "automargin": true,
            "type": "pie"
           }
          ],
          "scatter": [
           {
            "fillpattern": {
             "fillmode": "overlay",
             "size": 10,
             "solidity": 0.2
            },
            "type": "scatter"
           }
          ],
          "scatter3d": [
           {
            "line": {
             "colorbar": {
              "outlinewidth": 0,
              "ticks": ""
             }
            },
            "marker": {
             "colorbar": {
              "outlinewidth": 0,
              "ticks": ""
             }
            },
            "type": "scatter3d"
           }
          ],
          "scattercarpet": [
           {
            "marker": {
             "colorbar": {
              "outlinewidth": 0,
              "ticks": ""
             }
            },
            "type": "scattercarpet"
           }
          ],
          "scattergeo": [
           {
            "marker": {
             "colorbar": {
              "outlinewidth": 0,
              "ticks": ""
             }
            },
            "type": "scattergeo"
           }
          ],
          "scattergl": [
           {
            "marker": {
             "colorbar": {
              "outlinewidth": 0,
              "ticks": ""
             }
            },
            "type": "scattergl"
           }
          ],
          "scattermap": [
           {
            "marker": {
             "colorbar": {
              "outlinewidth": 0,
              "ticks": ""
             }
            },
            "type": "scattermap"
           }
          ],
          "scattermapbox": [
           {
            "marker": {
             "colorbar": {
              "outlinewidth": 0,
              "ticks": ""
             }
            },
            "type": "scattermapbox"
           }
          ],
          "scatterpolar": [
           {
            "marker": {
             "colorbar": {
              "outlinewidth": 0,
              "ticks": ""
             }
            },
            "type": "scatterpolar"
           }
          ],
          "scatterpolargl": [
           {
            "marker": {
             "colorbar": {
              "outlinewidth": 0,
              "ticks": ""
             }
            },
            "type": "scatterpolargl"
           }
          ],
          "scatterternary": [
           {
            "marker": {
             "colorbar": {
              "outlinewidth": 0,
              "ticks": ""
             }
            },
            "type": "scatterternary"
           }
          ],
          "surface": [
           {
            "colorbar": {
             "outlinewidth": 0,
             "ticks": ""
            },
            "colorscale": [
             [
              0,
              "#0d0887"
             ],
             [
              0.1111111111111111,
              "#46039f"
             ],
             [
              0.2222222222222222,
              "#7201a8"
             ],
             [
              0.3333333333333333,
              "#9c179e"
             ],
             [
              0.4444444444444444,
              "#bd3786"
             ],
             [
              0.5555555555555556,
              "#d8576b"
             ],
             [
              0.6666666666666666,
              "#ed7953"
             ],
             [
              0.7777777777777778,
              "#fb9f3a"
             ],
             [
              0.8888888888888888,
              "#fdca26"
             ],
             [
              1,
              "#f0f921"
             ]
            ],
            "type": "surface"
           }
          ],
          "table": [
           {
            "cells": {
             "fill": {
              "color": "#EBF0F8"
             },
             "line": {
              "color": "white"
             }
            },
            "header": {
             "fill": {
              "color": "#C8D4E3"
             },
             "line": {
              "color": "white"
             }
            },
            "type": "table"
           }
          ]
         },
         "layout": {
          "annotationdefaults": {
           "arrowcolor": "#2a3f5f",
           "arrowhead": 0,
           "arrowwidth": 1
          },
          "autotypenumbers": "strict",
          "coloraxis": {
           "colorbar": {
            "outlinewidth": 0,
            "ticks": ""
           }
          },
          "colorscale": {
           "diverging": [
            [
             0,
             "#8e0152"
            ],
            [
             0.1,
             "#c51b7d"
            ],
            [
             0.2,
             "#de77ae"
            ],
            [
             0.3,
             "#f1b6da"
            ],
            [
             0.4,
             "#fde0ef"
            ],
            [
             0.5,
             "#f7f7f7"
            ],
            [
             0.6,
             "#e6f5d0"
            ],
            [
             0.7,
             "#b8e186"
            ],
            [
             0.8,
             "#7fbc41"
            ],
            [
             0.9,
             "#4d9221"
            ],
            [
             1,
             "#276419"
            ]
           ],
           "sequential": [
            [
             0,
             "#0d0887"
            ],
            [
             0.1111111111111111,
             "#46039f"
            ],
            [
             0.2222222222222222,
             "#7201a8"
            ],
            [
             0.3333333333333333,
             "#9c179e"
            ],
            [
             0.4444444444444444,
             "#bd3786"
            ],
            [
             0.5555555555555556,
             "#d8576b"
            ],
            [
             0.6666666666666666,
             "#ed7953"
            ],
            [
             0.7777777777777778,
             "#fb9f3a"
            ],
            [
             0.8888888888888888,
             "#fdca26"
            ],
            [
             1,
             "#f0f921"
            ]
           ],
           "sequentialminus": [
            [
             0,
             "#0d0887"
            ],
            [
             0.1111111111111111,
             "#46039f"
            ],
            [
             0.2222222222222222,
             "#7201a8"
            ],
            [
             0.3333333333333333,
             "#9c179e"
            ],
            [
             0.4444444444444444,
             "#bd3786"
            ],
            [
             0.5555555555555556,
             "#d8576b"
            ],
            [
             0.6666666666666666,
             "#ed7953"
            ],
            [
             0.7777777777777778,
             "#fb9f3a"
            ],
            [
             0.8888888888888888,
             "#fdca26"
            ],
            [
             1,
             "#f0f921"
            ]
           ]
          },
          "colorway": [
           "#636efa",
           "#EF553B",
           "#00cc96",
           "#ab63fa",
           "#FFA15A",
           "#19d3f3",
           "#FF6692",
           "#B6E880",
           "#FF97FF",
           "#FECB52"
          ],
          "font": {
           "color": "#2a3f5f"
          },
          "geo": {
           "bgcolor": "white",
           "lakecolor": "white",
           "landcolor": "white",
           "showlakes": true,
           "showland": true,
           "subunitcolor": "#C8D4E3"
          },
          "hoverlabel": {
           "align": "left"
          },
          "hovermode": "closest",
          "mapbox": {
           "style": "light"
          },
          "paper_bgcolor": "white",
          "plot_bgcolor": "white",
          "polar": {
           "angularaxis": {
            "gridcolor": "#EBF0F8",
            "linecolor": "#EBF0F8",
            "ticks": ""
           },
           "bgcolor": "white",
           "radialaxis": {
            "gridcolor": "#EBF0F8",
            "linecolor": "#EBF0F8",
            "ticks": ""
           }
          },
          "scene": {
           "xaxis": {
            "backgroundcolor": "white",
            "gridcolor": "#DFE8F3",
            "gridwidth": 2,
            "linecolor": "#EBF0F8",
            "showbackground": true,
            "ticks": "",
            "zerolinecolor": "#EBF0F8"
           },
           "yaxis": {
            "backgroundcolor": "white",
            "gridcolor": "#DFE8F3",
            "gridwidth": 2,
            "linecolor": "#EBF0F8",
            "showbackground": true,
            "ticks": "",
            "zerolinecolor": "#EBF0F8"
           },
           "zaxis": {
            "backgroundcolor": "white",
            "gridcolor": "#DFE8F3",
            "gridwidth": 2,
            "linecolor": "#EBF0F8",
            "showbackground": true,
            "ticks": "",
            "zerolinecolor": "#EBF0F8"
           }
          },
          "shapedefaults": {
           "line": {
            "color": "#2a3f5f"
           }
          },
          "ternary": {
           "aaxis": {
            "gridcolor": "#DFE8F3",
            "linecolor": "#A2B1C6",
            "ticks": ""
           },
           "baxis": {
            "gridcolor": "#DFE8F3",
            "linecolor": "#A2B1C6",
            "ticks": ""
           },
           "bgcolor": "white",
           "caxis": {
            "gridcolor": "#DFE8F3",
            "linecolor": "#A2B1C6",
            "ticks": ""
           }
          },
          "title": {
           "x": 0.05
          },
          "xaxis": {
           "automargin": true,
           "gridcolor": "#EBF0F8",
           "linecolor": "#EBF0F8",
           "ticks": "",
           "title": {
            "standoff": 15
           },
           "zerolinecolor": "#EBF0F8",
           "zerolinewidth": 2
          },
          "yaxis": {
           "automargin": true,
           "gridcolor": "#EBF0F8",
           "linecolor": "#EBF0F8",
           "ticks": "",
           "title": {
            "standoff": 15
           },
           "zerolinecolor": "#EBF0F8",
           "zerolinewidth": 2
          }
         }
        },
        "title": {
         "text": "Distribution of MAE in the dataset"
        },
        "width": 900,
        "xaxis": {
         "anchor": "y",
         "domain": [
          0,
          1
         ],
         "range": [
          0,
          1
         ],
         "tickfont": {
          "size": 15
         },
         "title": {
          "font": {
           "size": 15
          },
          "text": "mae"
         }
        },
        "xaxis2": {
         "anchor": "y2",
         "domain": [
          0,
          1
         ],
         "matches": "x",
         "showgrid": true,
         "showticklabels": false
        },
        "yaxis": {
         "anchor": "x",
         "domain": [
          0,
          0.7326
         ],
         "tickfont": {
          "size": 15
         },
         "title": {
          "font": {
           "size": 15
          },
          "text": "Probability Density"
         }
        },
        "yaxis2": {
         "anchor": "x2",
         "domain": [
          0.7426,
          1
         ],
         "matches": "y2",
         "showgrid": false,
         "showline": false,
         "showticklabels": false,
         "ticks": ""
        }
       }
      }
     },
     "metadata": {},
     "output_type": "display_data"
    }
   ],
   "source": [
    "fig = px.histogram(metrics_df,\n",
    "                   x=\"MAE\",\n",
    "                   color=metrics_df[\"Algorithm\"],\n",
    "                   pattern_shape=metrics_df[\"Algorithm\"],\n",
    "                   marginal=\"box\",\n",
    "                   nbins=500,\n",
    "                   barmode=\"overlay\",\n",
    "                   histnorm=\"probability density\")\n",
    "fig = format_plot(fig, xlabel=\"mae\", ylabel=\"Probability Density\")\n",
    "fig.update_layout(title=\"Distribution of MAE in the dataset\", xaxis_range=[0,1])\n",
    "fig.write_image(dst_img/\"ml_mae_dist.png\")\n",
    "fig.show()"
   ]
  },
  {
   "cell_type": "code",
   "execution_count": null,
   "id": "5dce3acd",
   "metadata": {},
   "outputs": [
    {
     "data": {
      "application/vnd.plotly.v1+json": {
       "config": {
        "plotlyServerURL": "https://plot.ly"
       },
       "data": [
        {
         "bingroup": "x",
         "histnorm": "probability density",
         "hovertemplate": "Algorithm=Lasso Regression<br>MSE=%{x}<br>probability density=%{y}<extra></extra>",
         "legendgroup": "Lasso Regression",
         "marker": {
          "color": "#636efa",
          "opacity": 0.5,
          "pattern": {
           "shape": ""
          }
         },
         "name": "Lasso Regression",
         "nbinsx": 500,
         "orientation": "v",
         "showlegend": true,
         "type": "histogram",
         "x": {
          "bdata": "yjmx4/vnaT8LBhQjBwiaP5x5gAA0IlA/RmdhRW4Znj8zCginqad+PxhUG+TJ838/PwmATB60Iz+cRjuOiSt6P9rPrYSoSpg/r2GGq0ejtT9aLw6XMFmIPwjx8jUkAKo/sXEkj469Wj/64kNB9GpuP77V8CwkycU/beD5+jEKgj/vGTV8VbpwP74Wop0oc7Q/iaJ8MAhxjD/4L+FTkkJuP+TbUvz49pw/wVAJXlOYaj+cwi5GXVxxP01krVZAh58/J+5AnfsrhD+NT+74tuKjPxGkKOMVZIY/eEAf48FnjD8YUhNWKSqQPzlUXB7a6ls/0qp1kEv4mj/97MaDwxmtP+WoHw46YEo/ZcP/Qxi6WT8A66p0l6k4Pzn1nbVXnEo/I0/Nfb0zhD/+7WNWCV6RP7+jsmVeLiM/4LsAQNkQXz+bLWS9eJc/P/DaXhhM+SI/a4IBxtoVoT+MHAkEO4yWP7+00LKmZJg/Te5KsfF2lT9c2Rdld1aHP7+NTAS24Zo/6He8aQe3rT/9LAVaWVFoPxEO6STxW6I/FuKHcl11nz/KrrjbvzqJPyqx2zgrx4U/hFXLFe9SeD9UIbXShfqEPzM7LhJrHnw/5D4mU3lUtj/wtejHbhdyP8apiB986JE/pFBviNuClD/q6/E5w2YJP6/z5SxOyKI/E+iDI20DlD+Vath0fqNtP1yJJ1v8QpI/HITQpu8LiT9H/S0dmJGoP+QKm9qHync/y5oURmb2gD8LdBwogGxbP8h3azWHWXM/sEhTlwCOoz+AGaYtcpGkP2ARLXp99Xo/tCPp21KVvT8o8kHDaMpTP9p8qeRTk4I//yxjlI2bdj93pk8VRRp3P5PP/TQcT5g/iBeaAU3/ij92vIv04vuVP4a+Mmvl/LU/x4N+TpySiT/3Ft46mvd+P7q3q8Q+xm0/XI6DbIC6hz8XuCBHLAV5P0IgbjXlU20/qTIUwETVKz+sOyMqqS+mP8rXiE6JtWw/nNsXuK+SoT9YbEyKb5EzP4nb5zIGL4k/dYiJtXZnmj8IFfBXDXaRPxNilytkn54/Qhy6uC6Hsz/ccmf9dwqTP8rAjTrEXC0/wWy7ogrVnj8ZozPJvfuIP7CbNnHgJYg/syJ4N+yFkz/tTeTyiUOgP1QwnHVbc4o/o6mbTgBsfz8R20urRUCTP11aFzJCk58/myNC6iAVmT97z2z8rD6TPz84KFqkXXQ/Bvde2xVmrz+PcjqWw7WEPx7O/yHSu24/1Y10Bt66hD/Xqwrz1bODPyYAfcNjXEQ/iKBqHnFziT/NUzUVTY6pPwIJQuUfE7A/b+G68M/TgD+h19GLetqZP6gEkEjvBrc/gvbdXg5woz/M2J3tVcyMP+WPxjLNU6I/LvNXy3dlpj8IXRNteBG/P7YBTJNB96s/tIGal1wyLz519OXsok9nP+NzcvSFrnc/hTqIBq1WuD/Nx9ey428tP02Z7iACM4c/LJLNs9iQoT/zXGoBqR1QP20IA11hy2Y/b2Q75HQwpD/zKLn+B2qOPwYwCRUhxsI/XVma4JYIsj8WOpFqedKFPymdaLan328/iOnOjZd3vT8gC4Tr/1d1PxrfbCLlwMg/izdRExmBaj+3wDMQdE+GP/q7KY+opzE/BbRKDJRxYT+VL9B5FbEwP+L6GMOH1LA/8TXl6KP9kz+uSNppyB+WP5UfQdXgWYI/jbtS9z6KkD8dqMGqS6qFP9CdL5VKxIQ/hKNGbWFToT8kKTH4P4nBP7fKAT0LrXg/Q3zXPkOrwD+C0MTwCPaTPyhH+j5Almk/Z07vE5yQmD82dkrs0EKoPxOgz/CyWXI/Tz0vSXczdz/S4XGFEAOBP/M2kl9shb4/wx//JFUXsT8kn5hgQMZkP+rJ1O55RYw/aEGC+3HRoj83WkSkMPqfP9EVwOW+844/0cfegdgnpT9rDoQHeI6JP9gnDGFL+3c/L4IPijnavD9gB3XmZe+TPw==",
          "dtype": "f8"
         },
         "xaxis": "x",
         "yaxis": "y"
        },
        {
         "hovertemplate": "Algorithm=Lasso Regression<br>MSE=%{x}<extra></extra>",
         "legendgroup": "Lasso Regression",
         "marker": {
          "color": "#636efa"
         },
         "name": "Lasso Regression",
         "notched": true,
         "showlegend": false,
         "type": "box",
         "x": {
          "bdata": "yjmx4/vnaT8LBhQjBwiaP5x5gAA0IlA/RmdhRW4Znj8zCginqad+PxhUG+TJ838/PwmATB60Iz+cRjuOiSt6P9rPrYSoSpg/r2GGq0ejtT9aLw6XMFmIPwjx8jUkAKo/sXEkj469Wj/64kNB9GpuP77V8CwkycU/beD5+jEKgj/vGTV8VbpwP74Wop0oc7Q/iaJ8MAhxjD/4L+FTkkJuP+TbUvz49pw/wVAJXlOYaj+cwi5GXVxxP01krVZAh58/J+5AnfsrhD+NT+74tuKjPxGkKOMVZIY/eEAf48FnjD8YUhNWKSqQPzlUXB7a6ls/0qp1kEv4mj/97MaDwxmtP+WoHw46YEo/ZcP/Qxi6WT8A66p0l6k4Pzn1nbVXnEo/I0/Nfb0zhD/+7WNWCV6RP7+jsmVeLiM/4LsAQNkQXz+bLWS9eJc/P/DaXhhM+SI/a4IBxtoVoT+MHAkEO4yWP7+00LKmZJg/Te5KsfF2lT9c2Rdld1aHP7+NTAS24Zo/6He8aQe3rT/9LAVaWVFoPxEO6STxW6I/FuKHcl11nz/KrrjbvzqJPyqx2zgrx4U/hFXLFe9SeD9UIbXShfqEPzM7LhJrHnw/5D4mU3lUtj/wtejHbhdyP8apiB986JE/pFBviNuClD/q6/E5w2YJP6/z5SxOyKI/E+iDI20DlD+Vath0fqNtP1yJJ1v8QpI/HITQpu8LiT9H/S0dmJGoP+QKm9qHync/y5oURmb2gD8LdBwogGxbP8h3azWHWXM/sEhTlwCOoz+AGaYtcpGkP2ARLXp99Xo/tCPp21KVvT8o8kHDaMpTP9p8qeRTk4I//yxjlI2bdj93pk8VRRp3P5PP/TQcT5g/iBeaAU3/ij92vIv04vuVP4a+Mmvl/LU/x4N+TpySiT/3Ft46mvd+P7q3q8Q+xm0/XI6DbIC6hz8XuCBHLAV5P0IgbjXlU20/qTIUwETVKz+sOyMqqS+mP8rXiE6JtWw/nNsXuK+SoT9YbEyKb5EzP4nb5zIGL4k/dYiJtXZnmj8IFfBXDXaRPxNilytkn54/Qhy6uC6Hsz/ccmf9dwqTP8rAjTrEXC0/wWy7ogrVnj8ZozPJvfuIP7CbNnHgJYg/syJ4N+yFkz/tTeTyiUOgP1QwnHVbc4o/o6mbTgBsfz8R20urRUCTP11aFzJCk58/myNC6iAVmT97z2z8rD6TPz84KFqkXXQ/Bvde2xVmrz+PcjqWw7WEPx7O/yHSu24/1Y10Bt66hD/Xqwrz1bODPyYAfcNjXEQ/iKBqHnFziT/NUzUVTY6pPwIJQuUfE7A/b+G68M/TgD+h19GLetqZP6gEkEjvBrc/gvbdXg5woz/M2J3tVcyMP+WPxjLNU6I/LvNXy3dlpj8IXRNteBG/P7YBTJNB96s/tIGal1wyLz519OXsok9nP+NzcvSFrnc/hTqIBq1WuD/Nx9ey428tP02Z7iACM4c/LJLNs9iQoT/zXGoBqR1QP20IA11hy2Y/b2Q75HQwpD/zKLn+B2qOPwYwCRUhxsI/XVma4JYIsj8WOpFqedKFPymdaLan328/iOnOjZd3vT8gC4Tr/1d1PxrfbCLlwMg/izdRExmBaj+3wDMQdE+GP/q7KY+opzE/BbRKDJRxYT+VL9B5FbEwP+L6GMOH1LA/8TXl6KP9kz+uSNppyB+WP5UfQdXgWYI/jbtS9z6KkD8dqMGqS6qFP9CdL5VKxIQ/hKNGbWFToT8kKTH4P4nBP7fKAT0LrXg/Q3zXPkOrwD+C0MTwCPaTPyhH+j5Almk/Z07vE5yQmD82dkrs0EKoPxOgz/CyWXI/Tz0vSXczdz/S4XGFEAOBP/M2kl9shb4/wx//JFUXsT8kn5hgQMZkP+rJ1O55RYw/aEGC+3HRoj83WkSkMPqfP9EVwOW+844/0cfegdgnpT9rDoQHeI6JP9gnDGFL+3c/L4IPijnavD9gB3XmZe+TPw==",
          "dtype": "f8"
         },
         "xaxis": "x2",
         "yaxis": "y2"
        },
        {
         "bingroup": "x",
         "histnorm": "probability density",
         "hovertemplate": "Algorithm=XGB Random Forest<br>MSE=%{x}<br>probability density=%{y}<extra></extra>",
         "legendgroup": "XGB Random Forest",
         "marker": {
          "color": "#EF553B",
          "opacity": 0.5,
          "pattern": {
           "shape": "/"
          }
         },
         "name": "XGB Random Forest",
         "nbinsx": 500,
         "orientation": "v",
         "showlegend": true,
         "type": "histogram",
         "x": {
          "bdata": "zJTc7JU1aT8WMC6e9aSZP0wDcVxC2Uk/4I71hiSLnj+Cc/LX3c5+P6FVY7pnO38/GTXl0gXVMj9Y2BznNzN6P39eOkMP6Zc/r2lBKxHBtj8dOxh30fmIP/AhSPhxQqo/VbKV326WWj+vGUrUCRVwP9AV5iiCT+c/+E01uy98gj+8XbJojHNwPyR1qsnIAbU/ABJvrHNgjT86iGZnt9ZvP7efkQOIl50/fZE+NMOqaD+3sGVTR/ZwP7s94JcenaA/IwC5HiWigj/vES0N4eijP3dZ2erTJ4U/SeFumdOHiz9Jm8cdYhqRP/fussD3Ilw/daTnJuApnD+huPSqKjatPwkxbnNhVEc/G/mwBvfCXD9rZczOlh5DP1wHDy1hu0g/vhLgUlXMgz874PZzYf2RPxW5t1dEUUM/DbfXQ0XJXz9c0Hi6ODs6P01mO88hhDU/31RjA0Q+nj9jAYQpiDuWP/UXB736dJk/P6qcdUH8lD/qhDV4oiWIPw4X/DsJppo/gxO1wpWhrj+gvqgIQTlpP/O0QDre+6I/pYobGnk/oT/SJkSnE6iJPyeM6cbOg4Y/Qdcn69cJdD9q2vY9dl2EPyvp/RRRK3g/ZETrBtVKtz+PwJyMVQlxP1RU3kvHAJI/FQUXUQzRkz9GaHHc7l8aPxGTtf9gSKQ/3gKZXIZnlD8G0SJqk/puP2AYR6LHnpI/rgmJ8HrjjD+6NE7d7PenP7WsnisrOHg/9qDWdRyBgD82WHukGN5bP/vJNOMSSnM/8XWEdz3Boz9/BX2KHBGlP742nIb6pnk/5zPkosVWvz8OIFZawBtTPyNSlXYemoI/mBFT+tzCdj/+EidRPJFzPxlPvMGabZk/XJb5C9/biD/sCat5BFSVP+oUVR4DvrU/Yud1MFa8iz/kc9L9Mfp+P0YWhfbLlms/kcwXCp9AiD+eF4VZZat2Pyb4Rf8tqm0/6p3vpvL0QT/vqEMw29mjP5uE9vaQ2ms/VSapDr4Yoj9pYlI28N8xP03ecRIRN4g/MVI/y9U6mz/XgpZiKwiUP9Hi0WxzN54/ugFcY8iysj+VnA647maTPyLt96+dtlM/nMWYLGmwnz+I/oK28eiJP9l6O2cupIU/3NGFyWbkkz9aMq34+ZygP/2GRgTH8Yk/6sQr2L65fz+6pqRFpWyUP/DM2zSdtZw/aPiNuFRNmT/JNnY9KjOSPygd/lEIynU/kDaijY8ksD+obaH/RvKDP1Vh62wbY2w/oyzFk5zNgz/ooBcY8KaCPwmoVMSbP0Q/kTk06PneiT/tsjr9/teqPw3dZXr/gLA/qsDr+f9NgD/n8Nf0v6SZP8E5skfcqrY/cFtgsclAoz8sdsWqQBqMPza9K1jkKqE/VjMCDTTMpz9EIDqNbWvAPzNUyvtoMqw/RQRNg6YKBT4ua32+EIllP8Qx2U/UGHc/OVbFuGZruD/4xhm4drMzPzqbHxlDh4Q/KAM2NZARoj+TDwgCvfJTP3vczQ4hrmY/c87ejZntoj9O1DGFqCKQP55VxBqo+78/LC71R1Dlsj/wY3c2rw2EP2IGP8lnn20/HLqtIjavwD9e/U2YMeuIP97jLB+/MMg/ENXc7w6naD8GN+k96BGLP1hJRSwkA0o/BRfc0b0xYT/tMKx41+4pP8G7bIWjdrA/xuBAPpoOkz80Lpd62g2WP2u7Sj5BE4I/+soV3586kT/A4+UjvleEP5NuFQULzIY/chUR55rSoT+zQROm/hTDP441BxfVpno/BjHohMT1wj+xM6a+dh6TPwI/uiOXUF4/KQakUXRIlj/nWBl2qTuoPypW0aP3TnI/bVlqKP73dj9PWxMkPbd/P214KvwV6MI/U980dudGsj+hq+qvZkNkP7ofL7ySG40/m30sCR/4mj+hN5itR/+aP8x3HizB54s/TbURoPK9pT+ou9NYVTGJP+DxU6LqWnc/t8IUHyrYvD8vHvQuMRSSPw==",
          "dtype": "f8"
         },
         "xaxis": "x",
         "yaxis": "y"
        },
        {
         "hovertemplate": "Algorithm=XGB Random Forest<br>MSE=%{x}<extra></extra>",
         "legendgroup": "XGB Random Forest",
         "marker": {
          "color": "#EF553B"
         },
         "name": "XGB Random Forest",
         "notched": true,
         "showlegend": false,
         "type": "box",
         "x": {
          "bdata": "zJTc7JU1aT8WMC6e9aSZP0wDcVxC2Uk/4I71hiSLnj+Cc/LX3c5+P6FVY7pnO38/GTXl0gXVMj9Y2BznNzN6P39eOkMP6Zc/r2lBKxHBtj8dOxh30fmIP/AhSPhxQqo/VbKV326WWj+vGUrUCRVwP9AV5iiCT+c/+E01uy98gj+8XbJojHNwPyR1qsnIAbU/ABJvrHNgjT86iGZnt9ZvP7efkQOIl50/fZE+NMOqaD+3sGVTR/ZwP7s94JcenaA/IwC5HiWigj/vES0N4eijP3dZ2erTJ4U/SeFumdOHiz9Jm8cdYhqRP/fussD3Ilw/daTnJuApnD+huPSqKjatPwkxbnNhVEc/G/mwBvfCXD9rZczOlh5DP1wHDy1hu0g/vhLgUlXMgz874PZzYf2RPxW5t1dEUUM/DbfXQ0XJXz9c0Hi6ODs6P01mO88hhDU/31RjA0Q+nj9jAYQpiDuWP/UXB736dJk/P6qcdUH8lD/qhDV4oiWIPw4X/DsJppo/gxO1wpWhrj+gvqgIQTlpP/O0QDre+6I/pYobGnk/oT/SJkSnE6iJPyeM6cbOg4Y/Qdcn69cJdD9q2vY9dl2EPyvp/RRRK3g/ZETrBtVKtz+PwJyMVQlxP1RU3kvHAJI/FQUXUQzRkz9GaHHc7l8aPxGTtf9gSKQ/3gKZXIZnlD8G0SJqk/puP2AYR6LHnpI/rgmJ8HrjjD+6NE7d7PenP7WsnisrOHg/9qDWdRyBgD82WHukGN5bP/vJNOMSSnM/8XWEdz3Boz9/BX2KHBGlP742nIb6pnk/5zPkosVWvz8OIFZawBtTPyNSlXYemoI/mBFT+tzCdj/+EidRPJFzPxlPvMGabZk/XJb5C9/biD/sCat5BFSVP+oUVR4DvrU/Yud1MFa8iz/kc9L9Mfp+P0YWhfbLlms/kcwXCp9AiD+eF4VZZat2Pyb4Rf8tqm0/6p3vpvL0QT/vqEMw29mjP5uE9vaQ2ms/VSapDr4Yoj9pYlI28N8xP03ecRIRN4g/MVI/y9U6mz/XgpZiKwiUP9Hi0WxzN54/ugFcY8iysj+VnA647maTPyLt96+dtlM/nMWYLGmwnz+I/oK28eiJP9l6O2cupIU/3NGFyWbkkz9aMq34+ZygP/2GRgTH8Yk/6sQr2L65fz+6pqRFpWyUP/DM2zSdtZw/aPiNuFRNmT/JNnY9KjOSPygd/lEIynU/kDaijY8ksD+obaH/RvKDP1Vh62wbY2w/oyzFk5zNgz/ooBcY8KaCPwmoVMSbP0Q/kTk06PneiT/tsjr9/teqPw3dZXr/gLA/qsDr+f9NgD/n8Nf0v6SZP8E5skfcqrY/cFtgsclAoz8sdsWqQBqMPza9K1jkKqE/VjMCDTTMpz9EIDqNbWvAPzNUyvtoMqw/RQRNg6YKBT4ua32+EIllP8Qx2U/UGHc/OVbFuGZruD/4xhm4drMzPzqbHxlDh4Q/KAM2NZARoj+TDwgCvfJTP3vczQ4hrmY/c87ejZntoj9O1DGFqCKQP55VxBqo+78/LC71R1Dlsj/wY3c2rw2EP2IGP8lnn20/HLqtIjavwD9e/U2YMeuIP97jLB+/MMg/ENXc7w6naD8GN+k96BGLP1hJRSwkA0o/BRfc0b0xYT/tMKx41+4pP8G7bIWjdrA/xuBAPpoOkz80Lpd62g2WP2u7Sj5BE4I/+soV3586kT/A4+UjvleEP5NuFQULzIY/chUR55rSoT+zQROm/hTDP441BxfVpno/BjHohMT1wj+xM6a+dh6TPwI/uiOXUF4/KQakUXRIlj/nWBl2qTuoPypW0aP3TnI/bVlqKP73dj9PWxMkPbd/P214KvwV6MI/U980dudGsj+hq+qvZkNkP7ofL7ySG40/m30sCR/4mj+hN5itR/+aP8x3HizB54s/TbURoPK9pT+ou9NYVTGJP+DxU6LqWnc/t8IUHyrYvD8vHvQuMRSSPw==",
          "dtype": "f8"
         },
         "xaxis": "x2",
         "yaxis": "y2"
        },
        {
         "bingroup": "x",
         "histnorm": "probability density",
         "hovertemplate": "Algorithm=LightGBM<br>MSE=%{x}<br>probability density=%{y}<extra></extra>",
         "legendgroup": "LightGBM",
         "marker": {
          "color": "#00cc96",
          "opacity": 0.5,
          "pattern": {
           "shape": "\\"
          }
         },
         "name": "LightGBM",
         "nbinsx": 500,
         "orientation": "v",
         "showlegend": true,
         "type": "histogram",
         "x": {
          "bdata": "a3/0JIBFaD8HgS/C59CYP7yRKwF+wEo/qI7u8kQ1mT/ajf9PFaZ8P8FD+lHLr38/R7gXLePxIT/CcM7Ajy54P1XkKDgIS5Y/tLdH8VWwsj8x67ZaBb2HPz9aKD661qc/TRPUSj+XVz/q3mifdthsP2DETp7EduM/M9uNOpH7gD88ofaBIz1uP/8nxA3RnrM/lgITCXCdiz+DGywMgXdpP4NjSJXMLJw/31MLNVA5Zj+Wi4imjtdvP0SCS0cBAp0/psrmkzlSgz94GDO0+VqiP2K/Pn/6uYM/EEF0Mv+Iij+u7vFtGkyOP7lMU3FNKV0/90LgY8dwnD9tB+bj3cCsPxC+fEWa5kI/rhjsFwGcNj94f9PefOU+P/MGAVuhYEQ/ZbGKWrcdgz+Qxxk3INSRPybyy8N3DBg/eE+B1s5iXD8QkGzQ99YyP8b5D7k83lE/vuwWUNE3mD9gE0tZqDmWP+eQiKUyGpc/CW+/T2N2lD8i90leiLCHPwKoGwX3Q5o/+0Y7L78jrD98fUWEaR5nP6gwgiAOxKI/HO/1B+r9nz8+mVGVgX2HP0NOn0PG7oI/SZm98AELcz/jtbHsW5CDPym2oPEtXHY/+jUIDNbNtT8mlrA0G5xsP1NnFf4qQZE/ZpZ8JTVikT/SpsvoAXsGP77AmqU+ULs/Qahx045mkz9Cut08V4hoP/s33l5GV5E/SJk/8aqsiD+qpEa3UlmoP9oVYu62rng/8/RoUIBtfz9HYeKR2wNaP7QeCY5Dt3Q/N65EZ8wYoz+OFLBOvECjPyiFwyWae3g/k7nYQM+BuD9v+Hn8FrlTPyQlHLHQqn4/Pme7CbXJdT+uvw990vJxP8RnGZmiiJU/GwUtxx05hj+U7TZYJBOUP9Q0bheFqbQ/RBWd2TGChz9NAIY318N3P/PkrKZEPGo/OehhYUo2hT8bTxngcjV1P/BOo3P+j2o/8qznd4vFHz94godIQEWjPy/1r29lZGk/czzj0IhJoj8rgFOTb74tP9wBFB9cAoc/5CvDk3GimD/5s+lUHfCQP3Xbvj4pxZs/cEazYxrrsT/nim8skwSTP3shYhlke1I/37dAsPdmnD9xSEk3RHiHP1r0y8FKb4U/N1lH6UARlT+o9yNXRaKgP6tabBYcy4o/aWGvhwIGgD9DjM2w36mSP4IGzqfMqpg/OgNGy2xSmT9BXNkLZUSSP2kXLMGbHHQ/MUaSnyA6rz8lwmU5r5qBPzaySMT0HGk/2kUTbAeQgj+8Lz9xL0SDP67dp1cejj8/yxaatBgDhz8b2pJXK/mnP6bVjHDb8q8/RAZ6ISgufj99vtq5m8iXP2oycmy4GLY/g7OqRU3doT/R6McdU0+JP91w4Ss4958/VV6u5WT7pj9l03KmuNq8P1WvCUMV7qE/jcr6tu+jdT5lQacP6EBkP2FKv/EkuHg/q4KbL21EuD/Jkz0PlPQyP9CwZfEudIA/gtFkQRnooD9NHd5B7GI9P8IGR4s38WI/M/uLam2UoD/l4/CR/TCJP4jtwDDW/LY/sZWY2J0jsj+RbaTw5OeCPwAZ2l8ziG8/8EmcWajEtT+z1uB8mnGFP6shsJsjF8c/2YLcMBE9ZT/tI2eTHOaJP3JOdwAzRj8/Z5rwwhAhYT+kmkPIueUvP2yk7AajCrA/asi82wylkT8w6pad4DKVP+eMWYZxBII/ZM3WJBCBkD/V8+fRK9yDP8LM4zn3nYM/hel+JxBsoD9v4G4Bxgi8P7WitvbGQXc/M7KYEXLNwT85ubaSdteLP1VUbMeKwV8/AvVa4V+UlT8ClaFCL3OnPxwfnTSr43A/U2lm0dujdj9dbIiuVr59P673kErCT78/JRF79owDsD+Fv0ZbwddhPybo7N0Qj4w/lUrpAngplD/9Ve3rOJOZP+QbBSw7UYw/iHme7KtIpD/kYHFbpcqGP4PcdXhv7HY/ZaOF1ekBvD8fpyt8kT2RPw==",
          "dtype": "f8"
         },
         "xaxis": "x",
         "yaxis": "y"
        },
        {
         "hovertemplate": "Algorithm=LightGBM<br>MSE=%{x}<extra></extra>",
         "legendgroup": "LightGBM",
         "marker": {
          "color": "#00cc96"
         },
         "name": "LightGBM",
         "notched": true,
         "showlegend": false,
         "type": "box",
         "x": {
          "bdata": "a3/0JIBFaD8HgS/C59CYP7yRKwF+wEo/qI7u8kQ1mT/ajf9PFaZ8P8FD+lHLr38/R7gXLePxIT/CcM7Ajy54P1XkKDgIS5Y/tLdH8VWwsj8x67ZaBb2HPz9aKD661qc/TRPUSj+XVz/q3mifdthsP2DETp7EduM/M9uNOpH7gD88ofaBIz1uP/8nxA3RnrM/lgITCXCdiz+DGywMgXdpP4NjSJXMLJw/31MLNVA5Zj+Wi4imjtdvP0SCS0cBAp0/psrmkzlSgz94GDO0+VqiP2K/Pn/6uYM/EEF0Mv+Iij+u7vFtGkyOP7lMU3FNKV0/90LgY8dwnD9tB+bj3cCsPxC+fEWa5kI/rhjsFwGcNj94f9PefOU+P/MGAVuhYEQ/ZbGKWrcdgz+Qxxk3INSRPybyy8N3DBg/eE+B1s5iXD8QkGzQ99YyP8b5D7k83lE/vuwWUNE3mD9gE0tZqDmWP+eQiKUyGpc/CW+/T2N2lD8i90leiLCHPwKoGwX3Q5o/+0Y7L78jrD98fUWEaR5nP6gwgiAOxKI/HO/1B+r9nz8+mVGVgX2HP0NOn0PG7oI/SZm98AELcz/jtbHsW5CDPym2oPEtXHY/+jUIDNbNtT8mlrA0G5xsP1NnFf4qQZE/ZpZ8JTVikT/SpsvoAXsGP77AmqU+ULs/Qahx045mkz9Cut08V4hoP/s33l5GV5E/SJk/8aqsiD+qpEa3UlmoP9oVYu62rng/8/RoUIBtfz9HYeKR2wNaP7QeCY5Dt3Q/N65EZ8wYoz+OFLBOvECjPyiFwyWae3g/k7nYQM+BuD9v+Hn8FrlTPyQlHLHQqn4/Pme7CbXJdT+uvw990vJxP8RnGZmiiJU/GwUtxx05hj+U7TZYJBOUP9Q0bheFqbQ/RBWd2TGChz9NAIY318N3P/PkrKZEPGo/OehhYUo2hT8bTxngcjV1P/BOo3P+j2o/8qznd4vFHz94godIQEWjPy/1r29lZGk/czzj0IhJoj8rgFOTb74tP9wBFB9cAoc/5CvDk3GimD/5s+lUHfCQP3Xbvj4pxZs/cEazYxrrsT/nim8skwSTP3shYhlke1I/37dAsPdmnD9xSEk3RHiHP1r0y8FKb4U/N1lH6UARlT+o9yNXRaKgP6tabBYcy4o/aWGvhwIGgD9DjM2w36mSP4IGzqfMqpg/OgNGy2xSmT9BXNkLZUSSP2kXLMGbHHQ/MUaSnyA6rz8lwmU5r5qBPzaySMT0HGk/2kUTbAeQgj+8Lz9xL0SDP67dp1cejj8/yxaatBgDhz8b2pJXK/mnP6bVjHDb8q8/RAZ6ISgufj99vtq5m8iXP2oycmy4GLY/g7OqRU3doT/R6McdU0+JP91w4Ss4958/VV6u5WT7pj9l03KmuNq8P1WvCUMV7qE/jcr6tu+jdT5lQacP6EBkP2FKv/EkuHg/q4KbL21EuD/Jkz0PlPQyP9CwZfEudIA/gtFkQRnooD9NHd5B7GI9P8IGR4s38WI/M/uLam2UoD/l4/CR/TCJP4jtwDDW/LY/sZWY2J0jsj+RbaTw5OeCPwAZ2l8ziG8/8EmcWajEtT+z1uB8mnGFP6shsJsjF8c/2YLcMBE9ZT/tI2eTHOaJP3JOdwAzRj8/Z5rwwhAhYT+kmkPIueUvP2yk7AajCrA/asi82wylkT8w6pad4DKVP+eMWYZxBII/ZM3WJBCBkD/V8+fRK9yDP8LM4zn3nYM/hel+JxBsoD9v4G4Bxgi8P7WitvbGQXc/M7KYEXLNwT85ubaSdteLP1VUbMeKwV8/AvVa4V+UlT8ClaFCL3OnPxwfnTSr43A/U2lm0dujdj9dbIiuVr59P673kErCT78/JRF79owDsD+Fv0ZbwddhPybo7N0Qj4w/lUrpAngplD/9Ve3rOJOZP+QbBSw7UYw/iHme7KtIpD/kYHFbpcqGP4PcdXhv7HY/ZaOF1ekBvD8fpyt8kT2RPw==",
          "dtype": "f8"
         },
         "xaxis": "x2",
         "yaxis": "y2"
        }
       ],
       "layout": {
        "autosize": false,
        "barmode": "overlay",
        "height": 500,
        "legend": {
         "font": {
          "size": 15
         },
         "orientation": "h",
         "title": {},
         "tracegroupgap": 0,
         "x": 1,
         "xanchor": "right",
         "y": 0.98,
         "yanchor": "bottom"
        },
        "margin": {
         "t": 60
        },
        "template": {
         "data": {
          "bar": [
           {
            "error_x": {
             "color": "#2a3f5f"
            },
            "error_y": {
             "color": "#2a3f5f"
            },
            "marker": {
             "line": {
              "color": "white",
              "width": 0.5
             },
             "pattern": {
              "fillmode": "overlay",
              "size": 10,
              "solidity": 0.2
             }
            },
            "type": "bar"
           }
          ],
          "barpolar": [
           {
            "marker": {
             "line": {
              "color": "white",
              "width": 0.5
             },
             "pattern": {
              "fillmode": "overlay",
              "size": 10,
              "solidity": 0.2
             }
            },
            "type": "barpolar"
           }
          ],
          "carpet": [
           {
            "aaxis": {
             "endlinecolor": "#2a3f5f",
             "gridcolor": "#C8D4E3",
             "linecolor": "#C8D4E3",
             "minorgridcolor": "#C8D4E3",
             "startlinecolor": "#2a3f5f"
            },
            "baxis": {
             "endlinecolor": "#2a3f5f",
             "gridcolor": "#C8D4E3",
             "linecolor": "#C8D4E3",
             "minorgridcolor": "#C8D4E3",
             "startlinecolor": "#2a3f5f"
            },
            "type": "carpet"
           }
          ],
          "choropleth": [
           {
            "colorbar": {
             "outlinewidth": 0,
             "ticks": ""
            },
            "type": "choropleth"
           }
          ],
          "contour": [
           {
            "colorbar": {
             "outlinewidth": 0,
             "ticks": ""
            },
            "colorscale": [
             [
              0,
              "#0d0887"
             ],
             [
              0.1111111111111111,
              "#46039f"
             ],
             [
              0.2222222222222222,
              "#7201a8"
             ],
             [
              0.3333333333333333,
              "#9c179e"
             ],
             [
              0.4444444444444444,
              "#bd3786"
             ],
             [
              0.5555555555555556,
              "#d8576b"
             ],
             [
              0.6666666666666666,
              "#ed7953"
             ],
             [
              0.7777777777777778,
              "#fb9f3a"
             ],
             [
              0.8888888888888888,
              "#fdca26"
             ],
             [
              1,
              "#f0f921"
             ]
            ],
            "type": "contour"
           }
          ],
          "contourcarpet": [
           {
            "colorbar": {
             "outlinewidth": 0,
             "ticks": ""
            },
            "type": "contourcarpet"
           }
          ],
          "heatmap": [
           {
            "colorbar": {
             "outlinewidth": 0,
             "ticks": ""
            },
            "colorscale": [
             [
              0,
              "#0d0887"
             ],
             [
              0.1111111111111111,
              "#46039f"
             ],
             [
              0.2222222222222222,
              "#7201a8"
             ],
             [
              0.3333333333333333,
              "#9c179e"
             ],
             [
              0.4444444444444444,
              "#bd3786"
             ],
             [
              0.5555555555555556,
              "#d8576b"
             ],
             [
              0.6666666666666666,
              "#ed7953"
             ],
             [
              0.7777777777777778,
              "#fb9f3a"
             ],
             [
              0.8888888888888888,
              "#fdca26"
             ],
             [
              1,
              "#f0f921"
             ]
            ],
            "type": "heatmap"
           }
          ],
          "histogram": [
           {
            "marker": {
             "pattern": {
              "fillmode": "overlay",
              "size": 10,
              "solidity": 0.2
             }
            },
            "type": "histogram"
           }
          ],
          "histogram2d": [
           {
            "colorbar": {
             "outlinewidth": 0,
             "ticks": ""
            },
            "colorscale": [
             [
              0,
              "#0d0887"
             ],
             [
              0.1111111111111111,
              "#46039f"
             ],
             [
              0.2222222222222222,
              "#7201a8"
             ],
             [
              0.3333333333333333,
              "#9c179e"
             ],
             [
              0.4444444444444444,
              "#bd3786"
             ],
             [
              0.5555555555555556,
              "#d8576b"
             ],
             [
              0.6666666666666666,
              "#ed7953"
             ],
             [
              0.7777777777777778,
              "#fb9f3a"
             ],
             [
              0.8888888888888888,
              "#fdca26"
             ],
             [
              1,
              "#f0f921"
             ]
            ],
            "type": "histogram2d"
           }
          ],
          "histogram2dcontour": [
           {
            "colorbar": {
             "outlinewidth": 0,
             "ticks": ""
            },
            "colorscale": [
             [
              0,
              "#0d0887"
             ],
             [
              0.1111111111111111,
              "#46039f"
             ],
             [
              0.2222222222222222,
              "#7201a8"
             ],
             [
              0.3333333333333333,
              "#9c179e"
             ],
             [
              0.4444444444444444,
              "#bd3786"
             ],
             [
              0.5555555555555556,
              "#d8576b"
             ],
             [
              0.6666666666666666,
              "#ed7953"
             ],
             [
              0.7777777777777778,
              "#fb9f3a"
             ],
             [
              0.8888888888888888,
              "#fdca26"
             ],
             [
              1,
              "#f0f921"
             ]
            ],
            "type": "histogram2dcontour"
           }
          ],
          "mesh3d": [
           {
            "colorbar": {
             "outlinewidth": 0,
             "ticks": ""
            },
            "type": "mesh3d"
           }
          ],
          "parcoords": [
           {
            "line": {
             "colorbar": {
              "outlinewidth": 0,
              "ticks": ""
             }
            },
            "type": "parcoords"
           }
          ],
          "pie": [
           {
            "automargin": true,
            "type": "pie"
           }
          ],
          "scatter": [
           {
            "fillpattern": {
             "fillmode": "overlay",
             "size": 10,
             "solidity": 0.2
            },
            "type": "scatter"
           }
          ],
          "scatter3d": [
           {
            "line": {
             "colorbar": {
              "outlinewidth": 0,
              "ticks": ""
             }
            },
            "marker": {
             "colorbar": {
              "outlinewidth": 0,
              "ticks": ""
             }
            },
            "type": "scatter3d"
           }
          ],
          "scattercarpet": [
           {
            "marker": {
             "colorbar": {
              "outlinewidth": 0,
              "ticks": ""
             }
            },
            "type": "scattercarpet"
           }
          ],
          "scattergeo": [
           {
            "marker": {
             "colorbar": {
              "outlinewidth": 0,
              "ticks": ""
             }
            },
            "type": "scattergeo"
           }
          ],
          "scattergl": [
           {
            "marker": {
             "colorbar": {
              "outlinewidth": 0,
              "ticks": ""
             }
            },
            "type": "scattergl"
           }
          ],
          "scattermap": [
           {
            "marker": {
             "colorbar": {
              "outlinewidth": 0,
              "ticks": ""
             }
            },
            "type": "scattermap"
           }
          ],
          "scattermapbox": [
           {
            "marker": {
             "colorbar": {
              "outlinewidth": 0,
              "ticks": ""
             }
            },
            "type": "scattermapbox"
           }
          ],
          "scatterpolar": [
           {
            "marker": {
             "colorbar": {
              "outlinewidth": 0,
              "ticks": ""
             }
            },
            "type": "scatterpolar"
           }
          ],
          "scatterpolargl": [
           {
            "marker": {
             "colorbar": {
              "outlinewidth": 0,
              "ticks": ""
             }
            },
            "type": "scatterpolargl"
           }
          ],
          "scatterternary": [
           {
            "marker": {
             "colorbar": {
              "outlinewidth": 0,
              "ticks": ""
             }
            },
            "type": "scatterternary"
           }
          ],
          "surface": [
           {
            "colorbar": {
             "outlinewidth": 0,
             "ticks": ""
            },
            "colorscale": [
             [
              0,
              "#0d0887"
             ],
             [
              0.1111111111111111,
              "#46039f"
             ],
             [
              0.2222222222222222,
              "#7201a8"
             ],
             [
              0.3333333333333333,
              "#9c179e"
             ],
             [
              0.4444444444444444,
              "#bd3786"
             ],
             [
              0.5555555555555556,
              "#d8576b"
             ],
             [
              0.6666666666666666,
              "#ed7953"
             ],
             [
              0.7777777777777778,
              "#fb9f3a"
             ],
             [
              0.8888888888888888,
              "#fdca26"
             ],
             [
              1,
              "#f0f921"
             ]
            ],
            "type": "surface"
           }
          ],
          "table": [
           {
            "cells": {
             "fill": {
              "color": "#EBF0F8"
             },
             "line": {
              "color": "white"
             }
            },
            "header": {
             "fill": {
              "color": "#C8D4E3"
             },
             "line": {
              "color": "white"
             }
            },
            "type": "table"
           }
          ]
         },
         "layout": {
          "annotationdefaults": {
           "arrowcolor": "#2a3f5f",
           "arrowhead": 0,
           "arrowwidth": 1
          },
          "autotypenumbers": "strict",
          "coloraxis": {
           "colorbar": {
            "outlinewidth": 0,
            "ticks": ""
           }
          },
          "colorscale": {
           "diverging": [
            [
             0,
             "#8e0152"
            ],
            [
             0.1,
             "#c51b7d"
            ],
            [
             0.2,
             "#de77ae"
            ],
            [
             0.3,
             "#f1b6da"
            ],
            [
             0.4,
             "#fde0ef"
            ],
            [
             0.5,
             "#f7f7f7"
            ],
            [
             0.6,
             "#e6f5d0"
            ],
            [
             0.7,
             "#b8e186"
            ],
            [
             0.8,
             "#7fbc41"
            ],
            [
             0.9,
             "#4d9221"
            ],
            [
             1,
             "#276419"
            ]
           ],
           "sequential": [
            [
             0,
             "#0d0887"
            ],
            [
             0.1111111111111111,
             "#46039f"
            ],
            [
             0.2222222222222222,
             "#7201a8"
            ],
            [
             0.3333333333333333,
             "#9c179e"
            ],
            [
             0.4444444444444444,
             "#bd3786"
            ],
            [
             0.5555555555555556,
             "#d8576b"
            ],
            [
             0.6666666666666666,
             "#ed7953"
            ],
            [
             0.7777777777777778,
             "#fb9f3a"
            ],
            [
             0.8888888888888888,
             "#fdca26"
            ],
            [
             1,
             "#f0f921"
            ]
           ],
           "sequentialminus": [
            [
             0,
             "#0d0887"
            ],
            [
             0.1111111111111111,
             "#46039f"
            ],
            [
             0.2222222222222222,
             "#7201a8"
            ],
            [
             0.3333333333333333,
             "#9c179e"
            ],
            [
             0.4444444444444444,
             "#bd3786"
            ],
            [
             0.5555555555555556,
             "#d8576b"
            ],
            [
             0.6666666666666666,
             "#ed7953"
            ],
            [
             0.7777777777777778,
             "#fb9f3a"
            ],
            [
             0.8888888888888888,
             "#fdca26"
            ],
            [
             1,
             "#f0f921"
            ]
           ]
          },
          "colorway": [
           "#636efa",
           "#EF553B",
           "#00cc96",
           "#ab63fa",
           "#FFA15A",
           "#19d3f3",
           "#FF6692",
           "#B6E880",
           "#FF97FF",
           "#FECB52"
          ],
          "font": {
           "color": "#2a3f5f"
          },
          "geo": {
           "bgcolor": "white",
           "lakecolor": "white",
           "landcolor": "white",
           "showlakes": true,
           "showland": true,
           "subunitcolor": "#C8D4E3"
          },
          "hoverlabel": {
           "align": "left"
          },
          "hovermode": "closest",
          "mapbox": {
           "style": "light"
          },
          "paper_bgcolor": "white",
          "plot_bgcolor": "white",
          "polar": {
           "angularaxis": {
            "gridcolor": "#EBF0F8",
            "linecolor": "#EBF0F8",
            "ticks": ""
           },
           "bgcolor": "white",
           "radialaxis": {
            "gridcolor": "#EBF0F8",
            "linecolor": "#EBF0F8",
            "ticks": ""
           }
          },
          "scene": {
           "xaxis": {
            "backgroundcolor": "white",
            "gridcolor": "#DFE8F3",
            "gridwidth": 2,
            "linecolor": "#EBF0F8",
            "showbackground": true,
            "ticks": "",
            "zerolinecolor": "#EBF0F8"
           },
           "yaxis": {
            "backgroundcolor": "white",
            "gridcolor": "#DFE8F3",
            "gridwidth": 2,
            "linecolor": "#EBF0F8",
            "showbackground": true,
            "ticks": "",
            "zerolinecolor": "#EBF0F8"
           },
           "zaxis": {
            "backgroundcolor": "white",
            "gridcolor": "#DFE8F3",
            "gridwidth": 2,
            "linecolor": "#EBF0F8",
            "showbackground": true,
            "ticks": "",
            "zerolinecolor": "#EBF0F8"
           }
          },
          "shapedefaults": {
           "line": {
            "color": "#2a3f5f"
           }
          },
          "ternary": {
           "aaxis": {
            "gridcolor": "#DFE8F3",
            "linecolor": "#A2B1C6",
            "ticks": ""
           },
           "baxis": {
            "gridcolor": "#DFE8F3",
            "linecolor": "#A2B1C6",
            "ticks": ""
           },
           "bgcolor": "white",
           "caxis": {
            "gridcolor": "#DFE8F3",
            "linecolor": "#A2B1C6",
            "ticks": ""
           }
          },
          "title": {
           "x": 0.05
          },
          "xaxis": {
           "automargin": true,
           "gridcolor": "#EBF0F8",
           "linecolor": "#EBF0F8",
           "ticks": "",
           "title": {
            "standoff": 15
           },
           "zerolinecolor": "#EBF0F8",
           "zerolinewidth": 2
          },
          "yaxis": {
           "automargin": true,
           "gridcolor": "#EBF0F8",
           "linecolor": "#EBF0F8",
           "ticks": "",
           "title": {
            "standoff": 15
           },
           "zerolinecolor": "#EBF0F8",
           "zerolinewidth": 2
          }
         }
        },
        "title": {
         "text": "Distribution of MSE in the dataset"
        },
        "width": 900,
        "xaxis": {
         "anchor": "y",
         "domain": [
          0,
          1
         ],
         "range": [
          0,
          1
         ],
         "tickfont": {
          "size": 15
         },
         "title": {
          "font": {
           "size": 15
          },
          "text": "mse"
         }
        },
        "xaxis2": {
         "anchor": "y2",
         "domain": [
          0,
          1
         ],
         "matches": "x",
         "showgrid": true,
         "showticklabels": false
        },
        "yaxis": {
         "anchor": "x",
         "domain": [
          0,
          0.7326
         ],
         "tickfont": {
          "size": 15
         },
         "title": {
          "font": {
           "size": 15
          },
          "text": "Probability Density"
         }
        },
        "yaxis2": {
         "anchor": "x2",
         "domain": [
          0.7426,
          1
         ],
         "matches": "y2",
         "showgrid": false,
         "showline": false,
         "showticklabels": false,
         "ticks": ""
        }
       }
      }
     },
     "metadata": {},
     "output_type": "display_data"
    }
   ],
   "source": [
    "fig = px.histogram(metrics_df,\n",
    "                   x=\"MSE\",\n",
    "                   color=metrics_df[\"Algorithm\"],\n",
    "                   pattern_shape=metrics_df[\"Algorithm\"],\n",
    "                   marginal=\"box\",\n",
    "                   nbins=500,\n",
    "                   barmode=\"overlay\",\n",
    "                   histnorm=\"probability density\")\n",
    "fig = format_plot(fig, xlabel=\"mse\", ylabel=\"Probability Density\")\n",
    "fig.update_layout(title=\"Distribution of MSE in the dataset\", xaxis_range=[0,1])\n",
    "fig.write_image(dst_img/\"ml_mse_dist.png\")\n",
    "fig.show()"
   ]
  },
  {
   "cell_type": "code",
   "execution_count": null,
   "id": "556bd9b8",
   "metadata": {},
   "outputs": [
    {
     "data": {
      "application/vnd.plotly.v1+json": {
       "config": {
        "plotlyServerURL": "https://plot.ly"
       },
       "data": [
        {
         "bingroup": "x",
         "histnorm": "probability density",
         "hovertemplate": "Algorithm=Lasso Regression<br>RMSE=%{x}<br>probability density=%{y}<extra></extra>",
         "legendgroup": "Lasso Regression",
         "marker": {
          "color": "#636efa",
          "opacity": 0.5,
          "pattern": {
           "shape": ""
          }
         },
         "name": "Lasso Regression",
         "nbinsx": 500,
         "orientation": "v",
         "showlegend": true,
         "type": "histogram",
         "x": {
          "bdata": "XUK909XKrD/jbjI4i2jEPz+pQuYQEaA/rZlDEvXxxT9m2rT5kSW2PwR95L1MnLY/3FLfeSwciT/m53XkcXa0P8s3uSvxtsM/5yANJEmb0j8PwhvQyem7P3Y+ZVo/2Mw/zD4vbzmvpD+oK6zo6DKvP9fBFhxJZ9o/aTaKBssGuD9Sc2Z9IVywP8tskW2uFtI/lwbxnBgrvj/KENtSLB6vPyEGyxcOh8U/FUbSpC8srT+ybivToKqwP+yJzufEdcY/a94BNRpouT/fTcrkyznJP+WDQR6JxLo/zB7B+ywmvj9VBAraBhXAP9rPo+V/IqU/OC81x+TFxD9kReFbEoTOPwImqb9aDZ0//ggsj+dJpD+JA522Ud2TP7d+o5BjLp0/7RRHW/xsuT883h1HbqvAP3hGs2dgxog/wEqWkHBLpj+4ShQzi3uWP/+qoFUCpIg/Py7tOt5hxz9gmeGfaf7CP11Lg456wcM/rTWMWi+Iwj+2IpJG6lO7PxfD9mQwvcQ/2UMoDhnWzj8DxGjkSuWrP9Ox3u39PMg/B5TJDWVvxj9t/MFk7mm8P/AvIhcXZro/P7krlEy6sz+pA3Cg5ei5P+2Vn8j7NbU/cMpKGd/m0j+mJBcRfwOxPwqum19d7cA/+YK3iJ4dwj93cEJarIJ8P5OhPc8dhMg/0BiAz//kwT9McS+M9MuuP/sKOnLtF8E/ek2du4VPvD8t0xn6CwrMP0ahb7StgrM/ObnpIk5Mtz+0jliZdfKkPx7VCE9nmLE/hfOTH9cDyT/Is+JIsKfJP//GPDTQxLQ/1er7D5fB1T+DcvoJcMuhP33KNxpyYbg/CQ2zrNwEsz+RiSXk3zmzP1LbCZC/uMM/cFLernNkvT8ydEQ/O8HCP2Os3X2pwdI/+6edQj2bvD8r67aYX0K2P3LaKzn93a4/A9EKuT2Ouz/uEqmaEQK0Py9a+ep9oq4/+1ZwDQrYjT/M3ySoIKXKPz8agsZXT64/LcNg1q+2xz+Y1T5iwLGRP2SU+F5TY7w/VXtsQNKNxD9LzJPR8LbAP4xQ+eGUIsY/0w6vCR2t0T8mPBg1UHTBP261y64fp44/vI5wSvA1xj9vNP0tXUa8P+qfsIxQzLs/nohQEYuswT/K5fdALtDGP5kBYAHiF70/QuxDBg5stj8MPc/j54zBP5lfyV4LesY/UJSGyHEIxD80lbuVLYzBPxl/KMsnDbI/lNrHgq2yzz/fu1W8TL65P9/VlDhGXK8/EFRxhHjBuT8+Qu1f/hu5P4I58QmEhpk/Uz+xDcmJvD/cxdEb1JjMP9bp1BiNCdA/Q94NP4E0tz+bOE16qFbEP1NU2pXSMdM/cOFPVKjwyD/fcodsXlu+P4vCHbGdN8g/aDbjpVzFyj/Cb0muqUvWP+o88DY96s0/mzN1AYeYDz+hKvZH6k+rPxPXymUud7M/qVMl/NC70z90NfxeGbGOP4SUk8QfP7s/RjRmAHK1xz/32ZinzQ6gPzDzzbsAAqs/8/TsS+tqyT/HNfC9bzK/P5645zCygtg/zxng4IL80D+qT+hW8Gy6P3pr8cLP768/cn+GjKW21T/1JurNznqyP1jWMsr8JNw/sTcojm8frT9sfCwkMbi6P1aT3i+ezpA/3wRkl06gpz+pdq7nmleQP1Rfod3raNA/OtdVa2niwT/D5K7YhNDCPy6JPSWhO7g/iECIo4xEwD99BdxWkVS6P4DYQ5VSx7k/7Q5lbNKLxz9Pil4IUbDXP/Lqrpa13rM/CDWxy3oY1z903AIvAt/BP8YPjm9Gnaw/nlsykD/Twz8H5UC889zLP/8mSHaLIrE/Wad/+lhEsz9kks4i/1S3PxHx+UIwGdY/3Aa+7VyJ0D8b/ckAisipP2QGjh/2E74/2lieHhSKyD8AhE9ykJ7GP6lznqfBeL8/YvF4jtMEyj8J9hYj7Ji8P6ydGzOilrM/Q7FAi1x81T+aFLJcCdzBPw==",
          "dtype": "f8"
         },
         "xaxis": "x",
         "yaxis": "y"
        },
        {
         "hovertemplate": "Algorithm=Lasso Regression<br>RMSE=%{x}<extra></extra>",
         "legendgroup": "Lasso Regression",
         "marker": {
          "color": "#636efa"
         },
         "name": "Lasso Regression",
         "notched": true,
         "showlegend": false,
         "type": "box",
         "x": {
          "bdata": "XUK909XKrD/jbjI4i2jEPz+pQuYQEaA/rZlDEvXxxT9m2rT5kSW2PwR95L1MnLY/3FLfeSwciT/m53XkcXa0P8s3uSvxtsM/5yANJEmb0j8PwhvQyem7P3Y+ZVo/2Mw/zD4vbzmvpD+oK6zo6DKvP9fBFhxJZ9o/aTaKBssGuD9Sc2Z9IVywP8tskW2uFtI/lwbxnBgrvj/KENtSLB6vPyEGyxcOh8U/FUbSpC8srT+ybivToKqwP+yJzufEdcY/a94BNRpouT/fTcrkyznJP+WDQR6JxLo/zB7B+ywmvj9VBAraBhXAP9rPo+V/IqU/OC81x+TFxD9kReFbEoTOPwImqb9aDZ0//ggsj+dJpD+JA522Ud2TP7d+o5BjLp0/7RRHW/xsuT883h1HbqvAP3hGs2dgxog/wEqWkHBLpj+4ShQzi3uWP/+qoFUCpIg/Py7tOt5hxz9gmeGfaf7CP11Lg456wcM/rTWMWi+Iwj+2IpJG6lO7PxfD9mQwvcQ/2UMoDhnWzj8DxGjkSuWrP9Ox3u39PMg/B5TJDWVvxj9t/MFk7mm8P/AvIhcXZro/P7krlEy6sz+pA3Cg5ei5P+2Vn8j7NbU/cMpKGd/m0j+mJBcRfwOxPwqum19d7cA/+YK3iJ4dwj93cEJarIJ8P5OhPc8dhMg/0BiAz//kwT9McS+M9MuuP/sKOnLtF8E/ek2du4VPvD8t0xn6CwrMP0ahb7StgrM/ObnpIk5Mtz+0jliZdfKkPx7VCE9nmLE/hfOTH9cDyT/Is+JIsKfJP//GPDTQxLQ/1er7D5fB1T+DcvoJcMuhP33KNxpyYbg/CQ2zrNwEsz+RiSXk3zmzP1LbCZC/uMM/cFLernNkvT8ydEQ/O8HCP2Os3X2pwdI/+6edQj2bvD8r67aYX0K2P3LaKzn93a4/A9EKuT2Ouz/uEqmaEQK0Py9a+ep9oq4/+1ZwDQrYjT/M3ySoIKXKPz8agsZXT64/LcNg1q+2xz+Y1T5iwLGRP2SU+F5TY7w/VXtsQNKNxD9LzJPR8LbAP4xQ+eGUIsY/0w6vCR2t0T8mPBg1UHTBP261y64fp44/vI5wSvA1xj9vNP0tXUa8P+qfsIxQzLs/nohQEYuswT/K5fdALtDGP5kBYAHiF70/QuxDBg5stj8MPc/j54zBP5lfyV4LesY/UJSGyHEIxD80lbuVLYzBPxl/KMsnDbI/lNrHgq2yzz/fu1W8TL65P9/VlDhGXK8/EFRxhHjBuT8+Qu1f/hu5P4I58QmEhpk/Uz+xDcmJvD/cxdEb1JjMP9bp1BiNCdA/Q94NP4E0tz+bOE16qFbEP1NU2pXSMdM/cOFPVKjwyD/fcodsXlu+P4vCHbGdN8g/aDbjpVzFyj/Cb0muqUvWP+o88DY96s0/mzN1AYeYDz+hKvZH6k+rPxPXymUud7M/qVMl/NC70z90NfxeGbGOP4SUk8QfP7s/RjRmAHK1xz/32ZinzQ6gPzDzzbsAAqs/8/TsS+tqyT/HNfC9bzK/P5645zCygtg/zxng4IL80D+qT+hW8Gy6P3pr8cLP768/cn+GjKW21T/1JurNznqyP1jWMsr8JNw/sTcojm8frT9sfCwkMbi6P1aT3i+ezpA/3wRkl06gpz+pdq7nmleQP1Rfod3raNA/OtdVa2niwT/D5K7YhNDCPy6JPSWhO7g/iECIo4xEwD99BdxWkVS6P4DYQ5VSx7k/7Q5lbNKLxz9Pil4IUbDXP/Lqrpa13rM/CDWxy3oY1z903AIvAt/BP8YPjm9Gnaw/nlsykD/Twz8H5UC889zLP/8mSHaLIrE/Wad/+lhEsz9kks4i/1S3PxHx+UIwGdY/3Aa+7VyJ0D8b/ckAisipP2QGjh/2E74/2lieHhSKyD8AhE9ykJ7GP6lznqfBeL8/YvF4jtMEyj8J9hYj7Ji8P6ydGzOilrM/Q7FAi1x81T+aFLJcCdzBPw==",
          "dtype": "f8"
         },
         "xaxis": "x2",
         "yaxis": "y2"
        },
        {
         "bingroup": "x",
         "histnorm": "probability density",
         "hovertemplate": "Algorithm=XGB Random Forest<br>RMSE=%{x}<br>probability density=%{y}<extra></extra>",
         "legendgroup": "XGB Random Forest",
         "marker": {
          "color": "#EF553B",
          "opacity": 0.5,
          "pattern": {
           "shape": "/"
          }
         },
         "name": "XGB Random Forest",
         "nbinsx": 500,
         "orientation": "v",
         "showlegend": true,
         "type": "histogram",
         "x": {
          "bdata": "qW/z2gVnrD9d75hhkEHEP++bJ+ylwpw/9IWyNkIbxj8cmIbMtjO2PzJMC52wWrY/i/UA3L9bkT84okhtcnm0P7dFFU0uj8M/S7p3up0U0z/8ujyRRkW8PzrNBkXv/Mw/4mNaLhKgpD/3xC53gQqwPxH1FBbXT+s/Ee7ClD1SuD+6GpVXXzmwP3JAoRBWVdI/wvGnEwypvj8q7w4HVeuvPyXca9xmwsU/Uo8262QYrD9NO7qKV3mwP+X6eW2sDsc/N5WkgClruD9yabuFtD3JP7bi57vQBLo/v30RTGiuvT8nv6mt1orAP9cg1f2yN6U/Qlt2mU06xT/aM4we85LOP2BY56GxUps/lA6CsrFzpT9RHMZ6LbyYP8IldOzZIZw/6038u5UruT+ImQ2oOvfAP5O1/Nzf3Jg/mFhqjjyNpj/3WsO6knyUPwdlauffjZI/mtONil7/xT/Kz4qxTdzCP5g9BHSULsQ/TFYHT+xSwj/8QgrhLMy7P42N6ZkepsQ/tUMZsOBOzz9wxF/PFmmsP+nPCqCtpcg/0LXsfkd+xz8l8l1gPKe8P2qDc49417o/bmctAt7nsT8tBHwUMIe5P7Bwyjk1qrM/TkeKRApO0z8z88XhlYKwP5SJ2r7U+MA/0aid3GvOwT/0pBGw44qEP70gT9/1eck/AoemgogRwj/M1r9lOnyvPywpt/+tQsE/77WS1I5nvj/0YtAN0bHLP05+kv5ur7M/3uGrsDT7tj80LExJqx2lP+CcGhlfkbE/WEfkh4ckyT+gC8Xe1PbJPyzetYNcQrQ//0ejs3lk1j8ga91EOnyhPzZwbKXmZbg/9sUIgF4Vsz+0BHI5qbGxPw4bc9unK8Q/WSIEmU40vD9i5SxmFXnCPw+i+fnDptI/G0mBN6nKvT9mLSsiTkO2P5cDlBN5tq0/2iSLDbHbuz/hlv5+hQuzP9i7I49tz64/BWm8oqD4lz9BZRzgLDTJP7YS1gPh2q0/I602DXkQyD/cQrPbUumQP10xVbMz1rs/zGX2LnXfxD9pv+WHHufBP/RqT+/j/MU/PD6i6vBL0T/swUZyfp7BP96bmcqHwqE/fwXEOmmExj+g61ttXsu8PwG4MuzZULo/puHcrRvXwT8MvMEDkw7HPx1SbIhG0Lw/ef/s/rmHtj9HfVnJzBPCPx7+uoW2bsU/HhlY6dYexD+SnxNThBDBP2h/lSTrq7I/g+dNYT0S0D+t/wXsqEO5Px1xIBy1I64/Dnwrv2UsuT+w6MtCTW64P8N25DJzdJk/OwPq8tPFvD9LBSuHBk/NP+gFOr7/P9A/Ap0cToPXtj9rSRgwe0HEP0YB6OpLC9M/a/wNw0LSyD8p9uch7/y9P52FBgo/cMc/iUWiEYOYyz/4VBYSF+zWPwHoivzPCc4/hRobTNny+T44xgM5WECqP5f0fG9GObM/mBEwHzbE0z+1sKk7HMGRP1W3aJFVobk/R24Cn7ILyD/rGjVWiN2hPyuJa+6m8Ko/IAsXtWicyD8jklDqShHAP2Ht3TsVn9Y/974iSUBj0T9srbFg/lS5P8N09LDUya4/BP4v8zYb1z/v1lh6/jy8P5iWXn+R0ts/ZH98z0gWrD9gETbZkm69P0N5FErp2Zw/WwstkOt0pz/59ocopc6MP1rO2VzlOtA/NGiRJDV2wT9itdGk48jCPxuti7zSDLg/w6R+72aawD9HgL0vmoO5P4txJD1lArs/SMQ3banhxz/Tsfjr97XYP/TEIpRtprQ/qBmDgbeh2D/I2sPtd33BP4e4jZYHBqY/Q6SjGsjhwj/DB5W919jLP5+KCBCIHbE/iHwjU5crsz/jXWQf1oa2P7IwAcPSmNg/ErYB0cIZ0T/W1jFf1XapP90k5TcFhb4/1TwlodPFxD8S07o7lcjEP7hlnpHx4b0/XJuYxH9gyj+UCPOFoGS8P4VybnizVLM/RIjkJph71T9cUL/p+AHBPw==",
          "dtype": "f8"
         },
         "xaxis": "x",
         "yaxis": "y"
        },
        {
         "hovertemplate": "Algorithm=XGB Random Forest<br>RMSE=%{x}<extra></extra>",
         "legendgroup": "XGB Random Forest",
         "marker": {
          "color": "#EF553B"
         },
         "name": "XGB Random Forest",
         "notched": true,
         "showlegend": false,
         "type": "box",
         "x": {
          "bdata": "qW/z2gVnrD9d75hhkEHEP++bJ+ylwpw/9IWyNkIbxj8cmIbMtjO2PzJMC52wWrY/i/UA3L9bkT84okhtcnm0P7dFFU0uj8M/S7p3up0U0z/8ujyRRkW8PzrNBkXv/Mw/4mNaLhKgpD/3xC53gQqwPxH1FBbXT+s/Ee7ClD1SuD+6GpVXXzmwP3JAoRBWVdI/wvGnEwypvj8q7w4HVeuvPyXca9xmwsU/Uo8262QYrD9NO7qKV3mwP+X6eW2sDsc/N5WkgClruD9yabuFtD3JP7bi57vQBLo/v30RTGiuvT8nv6mt1orAP9cg1f2yN6U/Qlt2mU06xT/aM4we85LOP2BY56GxUps/lA6CsrFzpT9RHMZ6LbyYP8IldOzZIZw/6038u5UruT+ImQ2oOvfAP5O1/Nzf3Jg/mFhqjjyNpj/3WsO6knyUPwdlauffjZI/mtONil7/xT/Kz4qxTdzCP5g9BHSULsQ/TFYHT+xSwj/8QgrhLMy7P42N6ZkepsQ/tUMZsOBOzz9wxF/PFmmsP+nPCqCtpcg/0LXsfkd+xz8l8l1gPKe8P2qDc49417o/bmctAt7nsT8tBHwUMIe5P7Bwyjk1qrM/TkeKRApO0z8z88XhlYKwP5SJ2r7U+MA/0aid3GvOwT/0pBGw44qEP70gT9/1eck/AoemgogRwj/M1r9lOnyvPywpt/+tQsE/77WS1I5nvj/0YtAN0bHLP05+kv5ur7M/3uGrsDT7tj80LExJqx2lP+CcGhlfkbE/WEfkh4ckyT+gC8Xe1PbJPyzetYNcQrQ//0ejs3lk1j8ga91EOnyhPzZwbKXmZbg/9sUIgF4Vsz+0BHI5qbGxPw4bc9unK8Q/WSIEmU40vD9i5SxmFXnCPw+i+fnDptI/G0mBN6nKvT9mLSsiTkO2P5cDlBN5tq0/2iSLDbHbuz/hlv5+hQuzP9i7I49tz64/BWm8oqD4lz9BZRzgLDTJP7YS1gPh2q0/I602DXkQyD/cQrPbUumQP10xVbMz1rs/zGX2LnXfxD9pv+WHHufBP/RqT+/j/MU/PD6i6vBL0T/swUZyfp7BP96bmcqHwqE/fwXEOmmExj+g61ttXsu8PwG4MuzZULo/puHcrRvXwT8MvMEDkw7HPx1SbIhG0Lw/ef/s/rmHtj9HfVnJzBPCPx7+uoW2bsU/HhlY6dYexD+SnxNThBDBP2h/lSTrq7I/g+dNYT0S0D+t/wXsqEO5Px1xIBy1I64/Dnwrv2UsuT+w6MtCTW64P8N25DJzdJk/OwPq8tPFvD9LBSuHBk/NP+gFOr7/P9A/Ap0cToPXtj9rSRgwe0HEP0YB6OpLC9M/a/wNw0LSyD8p9uch7/y9P52FBgo/cMc/iUWiEYOYyz/4VBYSF+zWPwHoivzPCc4/hRobTNny+T44xgM5WECqP5f0fG9GObM/mBEwHzbE0z+1sKk7HMGRP1W3aJFVobk/R24Cn7ILyD/rGjVWiN2hPyuJa+6m8Ko/IAsXtWicyD8jklDqShHAP2Ht3TsVn9Y/974iSUBj0T9srbFg/lS5P8N09LDUya4/BP4v8zYb1z/v1lh6/jy8P5iWXn+R0ts/ZH98z0gWrD9gETbZkm69P0N5FErp2Zw/WwstkOt0pz/59ocopc6MP1rO2VzlOtA/NGiRJDV2wT9itdGk48jCPxuti7zSDLg/w6R+72aawD9HgL0vmoO5P4txJD1lArs/SMQ3banhxz/Tsfjr97XYP/TEIpRtprQ/qBmDgbeh2D/I2sPtd33BP4e4jZYHBqY/Q6SjGsjhwj/DB5W919jLP5+KCBCIHbE/iHwjU5crsz/jXWQf1oa2P7IwAcPSmNg/ErYB0cIZ0T/W1jFf1XapP90k5TcFhb4/1TwlodPFxD8S07o7lcjEP7hlnpHx4b0/XJuYxH9gyj+UCPOFoGS8P4VybnizVLM/RIjkJph71T9cUL/p+AHBPw==",
          "dtype": "f8"
         },
         "xaxis": "x2",
         "yaxis": "y2"
        },
        {
         "bingroup": "x",
         "histnorm": "probability density",
         "hovertemplate": "Algorithm=LightGBM<br>RMSE=%{x}<br>probability density=%{y}<extra></extra>",
         "legendgroup": "LightGBM",
         "marker": {
          "color": "#00cc96",
          "opacity": 0.5,
          "pattern": {
           "shape": "\\"
          }
         },
         "name": "LightGBM",
         "nbinsx": 500,
         "orientation": "v",
         "showlegend": true,
         "type": "histogram",
         "x": {
          "bdata": "tN72UX7eqz8i6FaZIO3DPyewt/YuQp0/QdPgeUMVxD8aGIms6Wi1P76BRCUxhLY/nkaTmpX2hz8sdMQch6uzP/2xjKnf4sI/eDUxI89K0T+MYaQotI+7PwY1Xnycnss/PXcJI5ttoz8Ae+gewmGuP9Srbkf29Og/LmmVaNpPtz+1uxgTYRuvP9rUyBnMt9E/LHrNVAy6vT/GPBQAEIysP/oU6qBnO8U/3aU/2+uqqj9yWZnrwOuvP1CS1kEni8U/8I0VrH3duD85mQKVWjzIP+fGCh7oH7k/18VrLsYjvT+AbDyTEiO/P2cXHxO6maU/eDhHb/VUxT95rVNYUlXOP+U+gb7bl5g/VSYyQw0Fkz93t/z42zuWP0LBgGAsiZk/JIdF7py7uD+PBzRsu+PAP5CmTnOknYM/HLrUfbdPpT8Z75hYpVyRPwKNWdSE6KA/TkrseUqvwz/nHg4ogtvCP7TGOzjYOcM/5gsJ/hsYwj+SS5RHc4i7Py3J3n78f8Q/raKff/8Bzj9xkDHYBDOrP7XWbo5Xgcg/ZHMSmuGfxj+RRLswvGq7PyCOKjEsnbg/v4oGb490sT+wa9T6WAW5P79gErUh6rI/bo0iRoyt0j9fFUE/6EGuPzQOdcWNncA/Itg7nW6twD+OvPQjOdJ6Pw7jljuo59Q/m3i251KewT/JAwG7wwSsP/wREz8vqMA/0sYAqXoZvD85mblf3enLPxuVJcZh37M/7PRBB5dstj+iJAqs6GakPx/1RWu0NLI/jHqXS264yD9Oji4iOtLIP15TgpvDyrM/xK75xEXN0z92Yi8HpcOhPyUcZXi1JrY/qtuWdcersj/kmYVfP/KwP9Syc9nQj8I/C6qMmc2quj+sy2IQBezBPxqYjFapLtI/zEm2gXhtuz8oFLNE73+zP6K7xUGG+aw/oofzAbQNuj/VImCm02uyP2D6mnedJ60/GpfbKuqLhj8gaewdI9XIPyVSgVpYgaw/jk+ENNQwyD8JKdqs8NmOP7d35F1/Irs/DAO8j3Dawz/p0U75WHbAP1YA6r42FMU/rg2nGpru0D8lKBxznHHBP0ehezM/MqE/Nx8WKkdRxT/gFi85rWe7P9VzcxaeMLo/dMx74BRcwj9/pmxCPxLHP/mI8cT8R70/uWoY6N2ktj8YWxmQ0UfBPzWCEjvO3cM/5izSUN0gxD8wa+89lhjBPxhO8lM+8LE/EYcbfnWczz/IRD+2FLy3PzRG748iWaw/yPux0EdfuD/Q9dNPc9S4P1eC3fM2eJY/CCDUj+4iuz+EUekJibLLP4geZwtt+c8/XS+s/4H5tT8EhAbm44HDP1X+39eDzdI/ESvQ/dLoxz/aO1sQgnW8P4Q4u3WDncY/EcUBlGMeyz8DJBzfi3zVP8ymRzIL9Mc/U03yY5GbMj/ls7kNRHWpP2c8QDUt47M/Ldtgo2m00z/45PvRRGqRPwzancYy8rY/Ngq02XlCxz+bPnu2Bq+VP89QrZjCnqg/3p9miaMIxz/S+QkPb2S8P5NvFbOcLdM/6nV4uDgJ0T+66bjbspi4P8y/Izbhw68/J5MndJ2p0j9YeReNBzK6P70QMD29Lts/QHLIDt0Rqj81nLRzy8m8PzvzzC6NXpY/nnAU2Ihppz8uPq8w2vKPP/SxeKFQBdA/LR2aUmDNwD+S5te+tWrCP72rySr2Arg/l/Ge8gdAwD8m2LQMpTW5Pxt7uesKDrk/kM2kkIjsxj86iWhQ0C3VP+kl40lJSrM/SogyQDTe1z+DM0E8N9m9P+Jmbop+iqY/bFWmat+Uwj9aU8+EtWTLP2Aw3ohLcLA/3LXct1oIsz+c8hbAptC1P1BOzCb4YdY/mIkJYsYB0D+IsjCCHOWnPxLpkikCO74/6c5uqPn1wT/CC6HajTrEP3lLnD02Gr4/K2ld7SR6yT8BgfFZkQG7P+r1CwXEJrM/wkx4yjgr1T/NZWP+0ZvAPw==",
          "dtype": "f8"
         },
         "xaxis": "x",
         "yaxis": "y"
        },
        {
         "hovertemplate": "Algorithm=LightGBM<br>RMSE=%{x}<extra></extra>",
         "legendgroup": "LightGBM",
         "marker": {
          "color": "#00cc96"
         },
         "name": "LightGBM",
         "notched": true,
         "showlegend": false,
         "type": "box",
         "x": {
          "bdata": "tN72UX7eqz8i6FaZIO3DPyewt/YuQp0/QdPgeUMVxD8aGIms6Wi1P76BRCUxhLY/nkaTmpX2hz8sdMQch6uzP/2xjKnf4sI/eDUxI89K0T+MYaQotI+7PwY1Xnycnss/PXcJI5ttoz8Ae+gewmGuP9Srbkf29Og/LmmVaNpPtz+1uxgTYRuvP9rUyBnMt9E/LHrNVAy6vT/GPBQAEIysP/oU6qBnO8U/3aU/2+uqqj9yWZnrwOuvP1CS1kEni8U/8I0VrH3duD85mQKVWjzIP+fGCh7oH7k/18VrLsYjvT+AbDyTEiO/P2cXHxO6maU/eDhHb/VUxT95rVNYUlXOP+U+gb7bl5g/VSYyQw0Fkz93t/z42zuWP0LBgGAsiZk/JIdF7py7uD+PBzRsu+PAP5CmTnOknYM/HLrUfbdPpT8Z75hYpVyRPwKNWdSE6KA/TkrseUqvwz/nHg4ogtvCP7TGOzjYOcM/5gsJ/hsYwj+SS5RHc4i7Py3J3n78f8Q/raKff/8Bzj9xkDHYBDOrP7XWbo5Xgcg/ZHMSmuGfxj+RRLswvGq7PyCOKjEsnbg/v4oGb490sT+wa9T6WAW5P79gErUh6rI/bo0iRoyt0j9fFUE/6EGuPzQOdcWNncA/Itg7nW6twD+OvPQjOdJ6Pw7jljuo59Q/m3i251KewT/JAwG7wwSsP/wREz8vqMA/0sYAqXoZvD85mblf3enLPxuVJcZh37M/7PRBB5dstj+iJAqs6GakPx/1RWu0NLI/jHqXS264yD9Oji4iOtLIP15TgpvDyrM/xK75xEXN0z92Yi8HpcOhPyUcZXi1JrY/qtuWdcersj/kmYVfP/KwP9Syc9nQj8I/C6qMmc2quj+sy2IQBezBPxqYjFapLtI/zEm2gXhtuz8oFLNE73+zP6K7xUGG+aw/oofzAbQNuj/VImCm02uyP2D6mnedJ60/GpfbKuqLhj8gaewdI9XIPyVSgVpYgaw/jk+ENNQwyD8JKdqs8NmOP7d35F1/Irs/DAO8j3Dawz/p0U75WHbAP1YA6r42FMU/rg2nGpru0D8lKBxznHHBP0ehezM/MqE/Nx8WKkdRxT/gFi85rWe7P9VzcxaeMLo/dMx74BRcwj9/pmxCPxLHP/mI8cT8R70/uWoY6N2ktj8YWxmQ0UfBPzWCEjvO3cM/5izSUN0gxD8wa+89lhjBPxhO8lM+8LE/EYcbfnWczz/IRD+2FLy3PzRG748iWaw/yPux0EdfuD/Q9dNPc9S4P1eC3fM2eJY/CCDUj+4iuz+EUekJibLLP4geZwtt+c8/XS+s/4H5tT8EhAbm44HDP1X+39eDzdI/ESvQ/dLoxz/aO1sQgnW8P4Q4u3WDncY/EcUBlGMeyz8DJBzfi3zVP8ymRzIL9Mc/U03yY5GbMj/ls7kNRHWpP2c8QDUt47M/Ldtgo2m00z/45PvRRGqRPwzancYy8rY/Ngq02XlCxz+bPnu2Bq+VP89QrZjCnqg/3p9miaMIxz/S+QkPb2S8P5NvFbOcLdM/6nV4uDgJ0T+66bjbspi4P8y/Izbhw68/J5MndJ2p0j9YeReNBzK6P70QMD29Lts/QHLIDt0Rqj81nLRzy8m8PzvzzC6NXpY/nnAU2Ihppz8uPq8w2vKPP/SxeKFQBdA/LR2aUmDNwD+S5te+tWrCP72rySr2Arg/l/Ge8gdAwD8m2LQMpTW5Pxt7uesKDrk/kM2kkIjsxj86iWhQ0C3VP+kl40lJSrM/SogyQDTe1z+DM0E8N9m9P+Jmbop+iqY/bFWmat+Uwj9aU8+EtWTLP2Aw3ohLcLA/3LXct1oIsz+c8hbAptC1P1BOzCb4YdY/mIkJYsYB0D+IsjCCHOWnPxLpkikCO74/6c5uqPn1wT/CC6HajTrEP3lLnD02Gr4/K2ld7SR6yT8BgfFZkQG7P+r1CwXEJrM/wkx4yjgr1T/NZWP+0ZvAPw==",
          "dtype": "f8"
         },
         "xaxis": "x2",
         "yaxis": "y2"
        }
       ],
       "layout": {
        "autosize": false,
        "barmode": "overlay",
        "height": 500,
        "legend": {
         "font": {
          "size": 15
         },
         "orientation": "h",
         "title": {},
         "tracegroupgap": 0,
         "x": 1,
         "xanchor": "right",
         "y": 0.98,
         "yanchor": "bottom"
        },
        "margin": {
         "t": 60
        },
        "template": {
         "data": {
          "bar": [
           {
            "error_x": {
             "color": "#2a3f5f"
            },
            "error_y": {
             "color": "#2a3f5f"
            },
            "marker": {
             "line": {
              "color": "white",
              "width": 0.5
             },
             "pattern": {
              "fillmode": "overlay",
              "size": 10,
              "solidity": 0.2
             }
            },
            "type": "bar"
           }
          ],
          "barpolar": [
           {
            "marker": {
             "line": {
              "color": "white",
              "width": 0.5
             },
             "pattern": {
              "fillmode": "overlay",
              "size": 10,
              "solidity": 0.2
             }
            },
            "type": "barpolar"
           }
          ],
          "carpet": [
           {
            "aaxis": {
             "endlinecolor": "#2a3f5f",
             "gridcolor": "#C8D4E3",
             "linecolor": "#C8D4E3",
             "minorgridcolor": "#C8D4E3",
             "startlinecolor": "#2a3f5f"
            },
            "baxis": {
             "endlinecolor": "#2a3f5f",
             "gridcolor": "#C8D4E3",
             "linecolor": "#C8D4E3",
             "minorgridcolor": "#C8D4E3",
             "startlinecolor": "#2a3f5f"
            },
            "type": "carpet"
           }
          ],
          "choropleth": [
           {
            "colorbar": {
             "outlinewidth": 0,
             "ticks": ""
            },
            "type": "choropleth"
           }
          ],
          "contour": [
           {
            "colorbar": {
             "outlinewidth": 0,
             "ticks": ""
            },
            "colorscale": [
             [
              0,
              "#0d0887"
             ],
             [
              0.1111111111111111,
              "#46039f"
             ],
             [
              0.2222222222222222,
              "#7201a8"
             ],
             [
              0.3333333333333333,
              "#9c179e"
             ],
             [
              0.4444444444444444,
              "#bd3786"
             ],
             [
              0.5555555555555556,
              "#d8576b"
             ],
             [
              0.6666666666666666,
              "#ed7953"
             ],
             [
              0.7777777777777778,
              "#fb9f3a"
             ],
             [
              0.8888888888888888,
              "#fdca26"
             ],
             [
              1,
              "#f0f921"
             ]
            ],
            "type": "contour"
           }
          ],
          "contourcarpet": [
           {
            "colorbar": {
             "outlinewidth": 0,
             "ticks": ""
            },
            "type": "contourcarpet"
           }
          ],
          "heatmap": [
           {
            "colorbar": {
             "outlinewidth": 0,
             "ticks": ""
            },
            "colorscale": [
             [
              0,
              "#0d0887"
             ],
             [
              0.1111111111111111,
              "#46039f"
             ],
             [
              0.2222222222222222,
              "#7201a8"
             ],
             [
              0.3333333333333333,
              "#9c179e"
             ],
             [
              0.4444444444444444,
              "#bd3786"
             ],
             [
              0.5555555555555556,
              "#d8576b"
             ],
             [
              0.6666666666666666,
              "#ed7953"
             ],
             [
              0.7777777777777778,
              "#fb9f3a"
             ],
             [
              0.8888888888888888,
              "#fdca26"
             ],
             [
              1,
              "#f0f921"
             ]
            ],
            "type": "heatmap"
           }
          ],
          "histogram": [
           {
            "marker": {
             "pattern": {
              "fillmode": "overlay",
              "size": 10,
              "solidity": 0.2
             }
            },
            "type": "histogram"
           }
          ],
          "histogram2d": [
           {
            "colorbar": {
             "outlinewidth": 0,
             "ticks": ""
            },
            "colorscale": [
             [
              0,
              "#0d0887"
             ],
             [
              0.1111111111111111,
              "#46039f"
             ],
             [
              0.2222222222222222,
              "#7201a8"
             ],
             [
              0.3333333333333333,
              "#9c179e"
             ],
             [
              0.4444444444444444,
              "#bd3786"
             ],
             [
              0.5555555555555556,
              "#d8576b"
             ],
             [
              0.6666666666666666,
              "#ed7953"
             ],
             [
              0.7777777777777778,
              "#fb9f3a"
             ],
             [
              0.8888888888888888,
              "#fdca26"
             ],
             [
              1,
              "#f0f921"
             ]
            ],
            "type": "histogram2d"
           }
          ],
          "histogram2dcontour": [
           {
            "colorbar": {
             "outlinewidth": 0,
             "ticks": ""
            },
            "colorscale": [
             [
              0,
              "#0d0887"
             ],
             [
              0.1111111111111111,
              "#46039f"
             ],
             [
              0.2222222222222222,
              "#7201a8"
             ],
             [
              0.3333333333333333,
              "#9c179e"
             ],
             [
              0.4444444444444444,
              "#bd3786"
             ],
             [
              0.5555555555555556,
              "#d8576b"
             ],
             [
              0.6666666666666666,
              "#ed7953"
             ],
             [
              0.7777777777777778,
              "#fb9f3a"
             ],
             [
              0.8888888888888888,
              "#fdca26"
             ],
             [
              1,
              "#f0f921"
             ]
            ],
            "type": "histogram2dcontour"
           }
          ],
          "mesh3d": [
           {
            "colorbar": {
             "outlinewidth": 0,
             "ticks": ""
            },
            "type": "mesh3d"
           }
          ],
          "parcoords": [
           {
            "line": {
             "colorbar": {
              "outlinewidth": 0,
              "ticks": ""
             }
            },
            "type": "parcoords"
           }
          ],
          "pie": [
           {
            "automargin": true,
            "type": "pie"
           }
          ],
          "scatter": [
           {
            "fillpattern": {
             "fillmode": "overlay",
             "size": 10,
             "solidity": 0.2
            },
            "type": "scatter"
           }
          ],
          "scatter3d": [
           {
            "line": {
             "colorbar": {
              "outlinewidth": 0,
              "ticks": ""
             }
            },
            "marker": {
             "colorbar": {
              "outlinewidth": 0,
              "ticks": ""
             }
            },
            "type": "scatter3d"
           }
          ],
          "scattercarpet": [
           {
            "marker": {
             "colorbar": {
              "outlinewidth": 0,
              "ticks": ""
             }
            },
            "type": "scattercarpet"
           }
          ],
          "scattergeo": [
           {
            "marker": {
             "colorbar": {
              "outlinewidth": 0,
              "ticks": ""
             }
            },
            "type": "scattergeo"
           }
          ],
          "scattergl": [
           {
            "marker": {
             "colorbar": {
              "outlinewidth": 0,
              "ticks": ""
             }
            },
            "type": "scattergl"
           }
          ],
          "scattermap": [
           {
            "marker": {
             "colorbar": {
              "outlinewidth": 0,
              "ticks": ""
             }
            },
            "type": "scattermap"
           }
          ],
          "scattermapbox": [
           {
            "marker": {
             "colorbar": {
              "outlinewidth": 0,
              "ticks": ""
             }
            },
            "type": "scattermapbox"
           }
          ],
          "scatterpolar": [
           {
            "marker": {
             "colorbar": {
              "outlinewidth": 0,
              "ticks": ""
             }
            },
            "type": "scatterpolar"
           }
          ],
          "scatterpolargl": [
           {
            "marker": {
             "colorbar": {
              "outlinewidth": 0,
              "ticks": ""
             }
            },
            "type": "scatterpolargl"
           }
          ],
          "scatterternary": [
           {
            "marker": {
             "colorbar": {
              "outlinewidth": 0,
              "ticks": ""
             }
            },
            "type": "scatterternary"
           }
          ],
          "surface": [
           {
            "colorbar": {
             "outlinewidth": 0,
             "ticks": ""
            },
            "colorscale": [
             [
              0,
              "#0d0887"
             ],
             [
              0.1111111111111111,
              "#46039f"
             ],
             [
              0.2222222222222222,
              "#7201a8"
             ],
             [
              0.3333333333333333,
              "#9c179e"
             ],
             [
              0.4444444444444444,
              "#bd3786"
             ],
             [
              0.5555555555555556,
              "#d8576b"
             ],
             [
              0.6666666666666666,
              "#ed7953"
             ],
             [
              0.7777777777777778,
              "#fb9f3a"
             ],
             [
              0.8888888888888888,
              "#fdca26"
             ],
             [
              1,
              "#f0f921"
             ]
            ],
            "type": "surface"
           }
          ],
          "table": [
           {
            "cells": {
             "fill": {
              "color": "#EBF0F8"
             },
             "line": {
              "color": "white"
             }
            },
            "header": {
             "fill": {
              "color": "#C8D4E3"
             },
             "line": {
              "color": "white"
             }
            },
            "type": "table"
           }
          ]
         },
         "layout": {
          "annotationdefaults": {
           "arrowcolor": "#2a3f5f",
           "arrowhead": 0,
           "arrowwidth": 1
          },
          "autotypenumbers": "strict",
          "coloraxis": {
           "colorbar": {
            "outlinewidth": 0,
            "ticks": ""
           }
          },
          "colorscale": {
           "diverging": [
            [
             0,
             "#8e0152"
            ],
            [
             0.1,
             "#c51b7d"
            ],
            [
             0.2,
             "#de77ae"
            ],
            [
             0.3,
             "#f1b6da"
            ],
            [
             0.4,
             "#fde0ef"
            ],
            [
             0.5,
             "#f7f7f7"
            ],
            [
             0.6,
             "#e6f5d0"
            ],
            [
             0.7,
             "#b8e186"
            ],
            [
             0.8,
             "#7fbc41"
            ],
            [
             0.9,
             "#4d9221"
            ],
            [
             1,
             "#276419"
            ]
           ],
           "sequential": [
            [
             0,
             "#0d0887"
            ],
            [
             0.1111111111111111,
             "#46039f"
            ],
            [
             0.2222222222222222,
             "#7201a8"
            ],
            [
             0.3333333333333333,
             "#9c179e"
            ],
            [
             0.4444444444444444,
             "#bd3786"
            ],
            [
             0.5555555555555556,
             "#d8576b"
            ],
            [
             0.6666666666666666,
             "#ed7953"
            ],
            [
             0.7777777777777778,
             "#fb9f3a"
            ],
            [
             0.8888888888888888,
             "#fdca26"
            ],
            [
             1,
             "#f0f921"
            ]
           ],
           "sequentialminus": [
            [
             0,
             "#0d0887"
            ],
            [
             0.1111111111111111,
             "#46039f"
            ],
            [
             0.2222222222222222,
             "#7201a8"
            ],
            [
             0.3333333333333333,
             "#9c179e"
            ],
            [
             0.4444444444444444,
             "#bd3786"
            ],
            [
             0.5555555555555556,
             "#d8576b"
            ],
            [
             0.6666666666666666,
             "#ed7953"
            ],
            [
             0.7777777777777778,
             "#fb9f3a"
            ],
            [
             0.8888888888888888,
             "#fdca26"
            ],
            [
             1,
             "#f0f921"
            ]
           ]
          },
          "colorway": [
           "#636efa",
           "#EF553B",
           "#00cc96",
           "#ab63fa",
           "#FFA15A",
           "#19d3f3",
           "#FF6692",
           "#B6E880",
           "#FF97FF",
           "#FECB52"
          ],
          "font": {
           "color": "#2a3f5f"
          },
          "geo": {
           "bgcolor": "white",
           "lakecolor": "white",
           "landcolor": "white",
           "showlakes": true,
           "showland": true,
           "subunitcolor": "#C8D4E3"
          },
          "hoverlabel": {
           "align": "left"
          },
          "hovermode": "closest",
          "mapbox": {
           "style": "light"
          },
          "paper_bgcolor": "white",
          "plot_bgcolor": "white",
          "polar": {
           "angularaxis": {
            "gridcolor": "#EBF0F8",
            "linecolor": "#EBF0F8",
            "ticks": ""
           },
           "bgcolor": "white",
           "radialaxis": {
            "gridcolor": "#EBF0F8",
            "linecolor": "#EBF0F8",
            "ticks": ""
           }
          },
          "scene": {
           "xaxis": {
            "backgroundcolor": "white",
            "gridcolor": "#DFE8F3",
            "gridwidth": 2,
            "linecolor": "#EBF0F8",
            "showbackground": true,
            "ticks": "",
            "zerolinecolor": "#EBF0F8"
           },
           "yaxis": {
            "backgroundcolor": "white",
            "gridcolor": "#DFE8F3",
            "gridwidth": 2,
            "linecolor": "#EBF0F8",
            "showbackground": true,
            "ticks": "",
            "zerolinecolor": "#EBF0F8"
           },
           "zaxis": {
            "backgroundcolor": "white",
            "gridcolor": "#DFE8F3",
            "gridwidth": 2,
            "linecolor": "#EBF0F8",
            "showbackground": true,
            "ticks": "",
            "zerolinecolor": "#EBF0F8"
           }
          },
          "shapedefaults": {
           "line": {
            "color": "#2a3f5f"
           }
          },
          "ternary": {
           "aaxis": {
            "gridcolor": "#DFE8F3",
            "linecolor": "#A2B1C6",
            "ticks": ""
           },
           "baxis": {
            "gridcolor": "#DFE8F3",
            "linecolor": "#A2B1C6",
            "ticks": ""
           },
           "bgcolor": "white",
           "caxis": {
            "gridcolor": "#DFE8F3",
            "linecolor": "#A2B1C6",
            "ticks": ""
           }
          },
          "title": {
           "x": 0.05
          },
          "xaxis": {
           "automargin": true,
           "gridcolor": "#EBF0F8",
           "linecolor": "#EBF0F8",
           "ticks": "",
           "title": {
            "standoff": 15
           },
           "zerolinecolor": "#EBF0F8",
           "zerolinewidth": 2
          },
          "yaxis": {
           "automargin": true,
           "gridcolor": "#EBF0F8",
           "linecolor": "#EBF0F8",
           "ticks": "",
           "title": {
            "standoff": 15
           },
           "zerolinecolor": "#EBF0F8",
           "zerolinewidth": 2
          }
         }
        },
        "title": {
         "text": "Distribution of RMSE in the dataset"
        },
        "width": 900,
        "xaxis": {
         "anchor": "y",
         "domain": [
          0,
          1
         ],
         "range": [
          0,
          1
         ],
         "tickfont": {
          "size": 15
         },
         "title": {
          "font": {
           "size": 15
          },
          "text": "rmse"
         }
        },
        "xaxis2": {
         "anchor": "y2",
         "domain": [
          0,
          1
         ],
         "matches": "x",
         "showgrid": true,
         "showticklabels": false
        },
        "yaxis": {
         "anchor": "x",
         "domain": [
          0,
          0.7326
         ],
         "tickfont": {
          "size": 15
         },
         "title": {
          "font": {
           "size": 15
          },
          "text": "Probability Density"
         }
        },
        "yaxis2": {
         "anchor": "x2",
         "domain": [
          0.7426,
          1
         ],
         "matches": "y2",
         "showgrid": false,
         "showline": false,
         "showticklabels": false,
         "ticks": ""
        }
       }
      }
     },
     "metadata": {},
     "output_type": "display_data"
    }
   ],
   "source": [
    "fig = px.histogram(metrics_df,\n",
    "                   x=\"RMSE\",\n",
    "                   color=metrics_df[\"Algorithm\"],\n",
    "                   pattern_shape=metrics_df[\"Algorithm\"],\n",
    "                   marginal=\"box\",\n",
    "                   nbins=500,\n",
    "                   barmode=\"overlay\",\n",
    "                   histnorm=\"probability density\")\n",
    "fig = format_plot(fig, xlabel=\"rmse\", ylabel=\"Probability Density\")\n",
    "fig.update_layout(title=\"Distribution of RMSE in the dataset\", xaxis_range=[0,1])\n",
    "fig.write_image(dst_img/\"ml_rmse_dist.png\")\n",
    "fig.show()"
   ]
  },
  {
   "cell_type": "code",
   "execution_count": null,
   "id": "856b20aa",
   "metadata": {},
   "outputs": [
    {
     "data": {
      "application/vnd.plotly.v1+json": {
       "config": {
        "plotlyServerURL": "https://plot.ly"
       },
       "data": [
        {
         "bingroup": "x",
         "histnorm": "probability density",
         "hovertemplate": "Algorithm=Lasso Regression<br>Forecast Bias=%{x}<br>probability density=%{y}<extra></extra>",
         "legendgroup": "Lasso Regression",
         "marker": {
          "color": "#636efa",
          "opacity": 0.5,
          "pattern": {
           "shape": ""
          }
         },
         "name": "Lasso Regression",
         "nbinsx": 500,
         "orientation": "v",
         "showlegend": true,
         "type": "histogram",
         "x": {
          "bdata": "qopgtDm+/b/p7TJ9o4/8vz6msZdLqirABNbLS0jNGEACvqIdO4wgQEfmnZ7axA/AC3MqkKWyA0B8sRZINDEHwCsN2j+baAPARFdDIYM2B0A7l5Zcx3/0vxg1tl3UewTAP9HKRsOlC8DOo8x7YM/4v6mkvZN2j9I/ekET096A3L+oyHGiqV38vxeMZSsCEvu/z2QNjwJi5L821ubOhfb/v/0m5+Hx0xLAiGolYvMWC8ACfVTeoagcQBzrfJbPAsW/wIm2DcRfAMCM08kWsCT4vxtN0thbqvY/7ILj7ohF+z/tFEHVTvoEQLw5cqBSCfs/gYVTNlUI4D+OJoxG+XECwH31fu7sENm/cSEd1WkHL0Bm55fSOjvyv21kmiQDzNe/ZA4HP3jmGcDeklVvTQUdwBOwCjsvFuC/6w3hLu3E9z/64To2RZLlv4+gbQnvndI/tKVE+L5u+78X6cSIw6kgwIY0fX591BRAuCPKH+IYCsBnCfLQvb0JwGRng+r/r7m/UkrqnYfhJ0AzmRAaDiXDPwICF9ZrPua/XP7wv2k1+b9zEPnLkncVwBFkjFvVgArAUEL563YDDsCa9bDmdiwCQGzXmefhugzAN8L3lJn/8r/2zWWbY4/6vyilElzDLQJAeRrr7rfwAcBKVAmeoPvcv5KTivV+6CjASCtmrYLfCcDc3bXdmZ3kv/2zEPs8bfO/dh7I4dyLGsBmyTq+S60SQJ5+zLjhFgNAI8nG46TC5T8mAsQzBG4EwCIwGchUpSvAbxeaH8nG+7/05O0wvIYUwHjC+i6A9+8/tlw7WRnKD8Blt5Icts7WP63b/iF01AHAh4UgaO4v9b+FRLa2OqU8wIjmnzgEw/u/gU4H0B+zNcAdPCxCL1XdPw1D5GkJYPO/j8gOvZsY+j+bcqqlY1TnP4T9N18xjA/AYrgWZ3/8A8AJKMfqKx8BwBvDXORhOx3A+i9P5Cpq1L+RcAtJYfDVvyzKrHzf9Jk/A6AiICfLGsCy3QR5gm3dv3JjcbJAahtAfIwvhYkJ3D8rJJwJ/kT7v70Tl78Q4PK/6uGNvIt+zT/OUsda3Aj7PwO/S7rKpgPAbJKNwGiKkj+JbyguMZHhPxq/w8OA9RfAwdYha3T16L/OzNW2RuH6P0GlXH5QKRBA731h40A1C0A6x86PYDLzP3HlQxEdUfa/1u2yNsxfIsB0gXW5Fwvtv32vgE8U0hPA/+/Idf17E8CmnMUdATgMQPvwf2KtuuQ/ioSwfkExFkCC1YWnmrjUPwpLLHJfGLK/OpgHbUiqAsAYCrDjEn79v5FgbrJLp9G/3QZg25XD+b+hYnJmR9rxPwQ9xh2PnfK/02nfFgvWn78jNMIPt1HdP0aGZPs2a92/63f4Zvgl8z/MLJBnnwMUwOTo2WyVGOe/AAAAAAAA8P+2AYyObpkXwP8zgpbGt+u/TfUMeLGO5b9qd6OR5gUkwNgtU2MV2ALAHxEIY0bCC8DB8C834LQRQA/dkMCVR94/t3iehk+2/r93ht/jv+YKwJITEXHNreu/oDlS0MhG/z+1y+NKbZEQwBZLEVrgAiHAXWzrQgsRF8CJHgvj6rghwFU+Dkh1LQBA+mCrK7vtDcCSdrrLkrW+vyoKKf1RuPc/Q1109A17AcAEZqRtX6r+P8wg3gu0bRpAcWFTTJpG97/Fw+hvNc8mQPoJuDjrrP+/9m4LhBnnAMAu6FqTRpQGQDD+tjNjk/g/zprUsncQF8B1NlsptALAP/Hbd5n1McY/Eic6rPWh17+uecdSN+kCwL7HGBSiBDPA4xvowAEn9b/WMYuKIsEfwOHtSPVh1BrAipEE6wsrAcCO3ssjZfcHQLihISEJBALAQVRd41KsGMDHDQMbGhnUvwxP/21qbAnAFqNCy/W+078ULFztwFoowGz87kacRQrACtycY+NX4z+2YFJW9Rj4v6IJ2DWa/A/A34ljkWu8B8CcwMJFWZAewA==",
          "dtype": "f8"
         },
         "xaxis": "x",
         "yaxis": "y"
        },
        {
         "hovertemplate": "Algorithm=Lasso Regression<br>Forecast Bias=%{x}<extra></extra>",
         "legendgroup": "Lasso Regression",
         "marker": {
          "color": "#636efa"
         },
         "name": "Lasso Regression",
         "notched": true,
         "showlegend": false,
         "type": "box",
         "x": {
          "bdata": "qopgtDm+/b/p7TJ9o4/8vz6msZdLqirABNbLS0jNGEACvqIdO4wgQEfmnZ7axA/AC3MqkKWyA0B8sRZINDEHwCsN2j+baAPARFdDIYM2B0A7l5Zcx3/0vxg1tl3UewTAP9HKRsOlC8DOo8x7YM/4v6mkvZN2j9I/ekET096A3L+oyHGiqV38vxeMZSsCEvu/z2QNjwJi5L821ubOhfb/v/0m5+Hx0xLAiGolYvMWC8ACfVTeoagcQBzrfJbPAsW/wIm2DcRfAMCM08kWsCT4vxtN0thbqvY/7ILj7ohF+z/tFEHVTvoEQLw5cqBSCfs/gYVTNlUI4D+OJoxG+XECwH31fu7sENm/cSEd1WkHL0Bm55fSOjvyv21kmiQDzNe/ZA4HP3jmGcDeklVvTQUdwBOwCjsvFuC/6w3hLu3E9z/64To2RZLlv4+gbQnvndI/tKVE+L5u+78X6cSIw6kgwIY0fX591BRAuCPKH+IYCsBnCfLQvb0JwGRng+r/r7m/UkrqnYfhJ0AzmRAaDiXDPwICF9ZrPua/XP7wv2k1+b9zEPnLkncVwBFkjFvVgArAUEL563YDDsCa9bDmdiwCQGzXmefhugzAN8L3lJn/8r/2zWWbY4/6vyilElzDLQJAeRrr7rfwAcBKVAmeoPvcv5KTivV+6CjASCtmrYLfCcDc3bXdmZ3kv/2zEPs8bfO/dh7I4dyLGsBmyTq+S60SQJ5+zLjhFgNAI8nG46TC5T8mAsQzBG4EwCIwGchUpSvAbxeaH8nG+7/05O0wvIYUwHjC+i6A9+8/tlw7WRnKD8Blt5Icts7WP63b/iF01AHAh4UgaO4v9b+FRLa2OqU8wIjmnzgEw/u/gU4H0B+zNcAdPCxCL1XdPw1D5GkJYPO/j8gOvZsY+j+bcqqlY1TnP4T9N18xjA/AYrgWZ3/8A8AJKMfqKx8BwBvDXORhOx3A+i9P5Cpq1L+RcAtJYfDVvyzKrHzf9Jk/A6AiICfLGsCy3QR5gm3dv3JjcbJAahtAfIwvhYkJ3D8rJJwJ/kT7v70Tl78Q4PK/6uGNvIt+zT/OUsda3Aj7PwO/S7rKpgPAbJKNwGiKkj+JbyguMZHhPxq/w8OA9RfAwdYha3T16L/OzNW2RuH6P0GlXH5QKRBA731h40A1C0A6x86PYDLzP3HlQxEdUfa/1u2yNsxfIsB0gXW5Fwvtv32vgE8U0hPA/+/Idf17E8CmnMUdATgMQPvwf2KtuuQ/ioSwfkExFkCC1YWnmrjUPwpLLHJfGLK/OpgHbUiqAsAYCrDjEn79v5FgbrJLp9G/3QZg25XD+b+hYnJmR9rxPwQ9xh2PnfK/02nfFgvWn78jNMIPt1HdP0aGZPs2a92/63f4Zvgl8z/MLJBnnwMUwOTo2WyVGOe/AAAAAAAA8P+2AYyObpkXwP8zgpbGt+u/TfUMeLGO5b9qd6OR5gUkwNgtU2MV2ALAHxEIY0bCC8DB8C834LQRQA/dkMCVR94/t3iehk+2/r93ht/jv+YKwJITEXHNreu/oDlS0MhG/z+1y+NKbZEQwBZLEVrgAiHAXWzrQgsRF8CJHgvj6rghwFU+Dkh1LQBA+mCrK7vtDcCSdrrLkrW+vyoKKf1RuPc/Q1109A17AcAEZqRtX6r+P8wg3gu0bRpAcWFTTJpG97/Fw+hvNc8mQPoJuDjrrP+/9m4LhBnnAMAu6FqTRpQGQDD+tjNjk/g/zprUsncQF8B1NlsptALAP/Hbd5n1McY/Eic6rPWh17+uecdSN+kCwL7HGBSiBDPA4xvowAEn9b/WMYuKIsEfwOHtSPVh1BrAipEE6wsrAcCO3ssjZfcHQLihISEJBALAQVRd41KsGMDHDQMbGhnUvwxP/21qbAnAFqNCy/W+078ULFztwFoowGz87kacRQrACtycY+NX4z+2YFJW9Rj4v6IJ2DWa/A/A34ljkWu8B8CcwMJFWZAewA==",
          "dtype": "f8"
         },
         "xaxis": "x2",
         "yaxis": "y2"
        },
        {
         "bingroup": "x",
         "histnorm": "probability density",
         "hovertemplate": "Algorithm=XGB Random Forest<br>Forecast Bias=%{x}<br>probability density=%{y}<extra></extra>",
         "legendgroup": "XGB Random Forest",
         "marker": {
          "color": "#EF553B",
          "opacity": 0.5,
          "pattern": {
           "shape": "/"
          }
         },
         "name": "XGB Random Forest",
         "nbinsx": 500,
         "orientation": "v",
         "showlegend": true,
         "type": "histogram",
         "x": {
          "bdata": "kItzNw7H+b/OBqsY4qcMQA84nepFAxvAsFQS8dq5K0BIqGPQ02wRQBKWzn4y1CDAhw6aynpoB0DU+njg4FKqv4lHU5LLO+y/l3f0JbhCIUCxYXy6hMscwAK5TB4vCey/iTM+AuODAMCoAZN6GYQLwJpCcC+/WDVAJqjTb3DbGECTn0rXjgDvP9b88lOX8f4/ZVv3FUYmAkAHrZyNFqkCwC5oUI+hCgTAARqNIfPx678bYvX+nrPlP3MaigdzwRBAGz7wX2Mi+L80L3OaUGzWvwKSDhspEfC/QP/DXiOZEkCFuTx6pL0AQE6FDhQ2YAFA8A6XL1OXA0CTob5XylXhv2Q8rLPMlCLAHHhFK/aOJ8BAjc765dEGQIFfnJnLZwxAYFuDcrdsMMB+zPeuGgP3v5fE45XUGfo/OdaNnDFuEECWMgAybwv0vzY+ohbp/Pm/7SLnJNaC9T8QAuxYqZsEwGM45409mxdAHtD5Hhp7BsCzQmZOWAscwIOb945ZKAZAkqqxH5v8OUB9IuvFe8j8PynE2byJpxVAw5p9pxT/8b8oTje5EWwhwPEAE5VaiRjAH/wtqWTZEsDuB6pEovscwKUld+/5ow3ApQmxnmCD6b9jwKqxjy0BwI1R1WVGLxJADr4IfRLvAkDy/XKpd4+rPwR+KT46vDLArVHoBsBU+D+hnRepg9wJQPXL6yR7qtM/UQJBby68JsA00HWxYaXxP1o0gxBt1hBAzW5JqE4aiL9YVOSIyXL7vw/9k4tIrDLAxu3Bb+As3T9cn1f+B3QSQEfWaKGHgwNAJbzzTo+x+b8KET8odRm3v1ntFCYDORPAxYbWKQkwz7845mDrTPYzwDnx4j+iUAzAVaLiGVt8N8CtrV57/hcAwLPEC1Vdnsm/6Lo6/jrZBEAbTppFucj5P1vu8bhTo86/aYKlX+tL+z9pUfuRFijwP7VkaqTU9RLA8t/wplZGAMAVKBRm09f3P68p19MBUu0/BNLZ4Yc/C8CAc8S54Q8DQJLQRHniTApAG8WOttUz0r/GsRlb0OcFwKdTo7mxu/g/TNBNMSflHUDw8aiML9X6P2VcwiGWHxvAq4w+5CfGBMBDEe25BMbuP53lG9TapeO/E3U5ojPZBMAKk+3LHPL6v8CVGViawglAmCIwi6GZBUB8BC9qbOz4P9BDmwX2ZMs/CAiWe8fDD8Ct1Yybaeenv75FdWk6AjDAS+SrLt1iBEDwZAT8Wl7zP9Y3UwTFUKe/yiviBn2iCEDbPxpnemLfPwJwLEg3fiFAt1Cix5sN+b/xQHQwr83WPxrLbSkdhdm/Dk3+qSaB/r/XLh+aOFsLwIrXgJt/zdG/kGtjTWVT7j8mBdaz6m/SvxoIN6qnCPE/DETSObln8j8Z3tk83+8cwEYcWMWcFNI/AAAAAAAA8P+7op+v39sUwHbM9Yykpam/CBbKc3mMAEDmi0gWqtgywCSaRWtE+u0/V7eaxj8K+j8MskMq6OYmwH2k1fW4nRLAnlFYCCEABkC4tZE4vn30v3u35rlFh/k/jg8fCIZhAkA29VPx+U+lv7Uf1hrEuCTATsh2FxOD/T8MafaJ4ik8wEgzKN1E8QxA7AU0LV+y2b+4DBZY1IUmQMzxQvtw+hnA6jFDPXnn2z/alxCAQ4jJv0PNLk/MqAlAYb//6JPy6T/BOkEkNU8gQDUtSPrCagNA1QbmywG4HUDTPiyhemTfP6qQ09oVkvI/O+sYYVRn8D/IlVmfZ8kWQIZeg2QP4fs/xVU6+MYh/j+J8HyREyEGQEApMQN+hTvAsuaDEeGlij94UnxBPg32vxrdd61FWiLAkxp1+y5lE8DQq7JiXa4NQFijf6vKNwRAos3Sj2HXEMCbBCYiyHETwN7uE9anuQfAprP2VQc65D99mFxEr6rUv17eihd+ffK/MTLSSeA12L+tUgReI24FwC4ozbZc6fQ/r4GO7YLRGkDJkxI7FDIQQA==",
          "dtype": "f8"
         },
         "xaxis": "x",
         "yaxis": "y"
        },
        {
         "hovertemplate": "Algorithm=XGB Random Forest<br>Forecast Bias=%{x}<extra></extra>",
         "legendgroup": "XGB Random Forest",
         "marker": {
          "color": "#EF553B"
         },
         "name": "XGB Random Forest",
         "notched": true,
         "showlegend": false,
         "type": "box",
         "x": {
          "bdata": "kItzNw7H+b/OBqsY4qcMQA84nepFAxvAsFQS8dq5K0BIqGPQ02wRQBKWzn4y1CDAhw6aynpoB0DU+njg4FKqv4lHU5LLO+y/l3f0JbhCIUCxYXy6hMscwAK5TB4vCey/iTM+AuODAMCoAZN6GYQLwJpCcC+/WDVAJqjTb3DbGECTn0rXjgDvP9b88lOX8f4/ZVv3FUYmAkAHrZyNFqkCwC5oUI+hCgTAARqNIfPx678bYvX+nrPlP3MaigdzwRBAGz7wX2Mi+L80L3OaUGzWvwKSDhspEfC/QP/DXiOZEkCFuTx6pL0AQE6FDhQ2YAFA8A6XL1OXA0CTob5XylXhv2Q8rLPMlCLAHHhFK/aOJ8BAjc765dEGQIFfnJnLZwxAYFuDcrdsMMB+zPeuGgP3v5fE45XUGfo/OdaNnDFuEECWMgAybwv0vzY+ohbp/Pm/7SLnJNaC9T8QAuxYqZsEwGM45409mxdAHtD5Hhp7BsCzQmZOWAscwIOb945ZKAZAkqqxH5v8OUB9IuvFe8j8PynE2byJpxVAw5p9pxT/8b8oTje5EWwhwPEAE5VaiRjAH/wtqWTZEsDuB6pEovscwKUld+/5ow3ApQmxnmCD6b9jwKqxjy0BwI1R1WVGLxJADr4IfRLvAkDy/XKpd4+rPwR+KT46vDLArVHoBsBU+D+hnRepg9wJQPXL6yR7qtM/UQJBby68JsA00HWxYaXxP1o0gxBt1hBAzW5JqE4aiL9YVOSIyXL7vw/9k4tIrDLAxu3Bb+As3T9cn1f+B3QSQEfWaKGHgwNAJbzzTo+x+b8KET8odRm3v1ntFCYDORPAxYbWKQkwz7845mDrTPYzwDnx4j+iUAzAVaLiGVt8N8CtrV57/hcAwLPEC1Vdnsm/6Lo6/jrZBEAbTppFucj5P1vu8bhTo86/aYKlX+tL+z9pUfuRFijwP7VkaqTU9RLA8t/wplZGAMAVKBRm09f3P68p19MBUu0/BNLZ4Yc/C8CAc8S54Q8DQJLQRHniTApAG8WOttUz0r/GsRlb0OcFwKdTo7mxu/g/TNBNMSflHUDw8aiML9X6P2VcwiGWHxvAq4w+5CfGBMBDEe25BMbuP53lG9TapeO/E3U5ojPZBMAKk+3LHPL6v8CVGViawglAmCIwi6GZBUB8BC9qbOz4P9BDmwX2ZMs/CAiWe8fDD8Ct1Yybaeenv75FdWk6AjDAS+SrLt1iBEDwZAT8Wl7zP9Y3UwTFUKe/yiviBn2iCEDbPxpnemLfPwJwLEg3fiFAt1Cix5sN+b/xQHQwr83WPxrLbSkdhdm/Dk3+qSaB/r/XLh+aOFsLwIrXgJt/zdG/kGtjTWVT7j8mBdaz6m/SvxoIN6qnCPE/DETSObln8j8Z3tk83+8cwEYcWMWcFNI/AAAAAAAA8P+7op+v39sUwHbM9Yykpam/CBbKc3mMAEDmi0gWqtgywCSaRWtE+u0/V7eaxj8K+j8MskMq6OYmwH2k1fW4nRLAnlFYCCEABkC4tZE4vn30v3u35rlFh/k/jg8fCIZhAkA29VPx+U+lv7Uf1hrEuCTATsh2FxOD/T8MafaJ4ik8wEgzKN1E8QxA7AU0LV+y2b+4DBZY1IUmQMzxQvtw+hnA6jFDPXnn2z/alxCAQ4jJv0PNLk/MqAlAYb//6JPy6T/BOkEkNU8gQDUtSPrCagNA1QbmywG4HUDTPiyhemTfP6qQ09oVkvI/O+sYYVRn8D/IlVmfZ8kWQIZeg2QP4fs/xVU6+MYh/j+J8HyREyEGQEApMQN+hTvAsuaDEeGlij94UnxBPg32vxrdd61FWiLAkxp1+y5lE8DQq7JiXa4NQFijf6vKNwRAos3Sj2HXEMCbBCYiyHETwN7uE9anuQfAprP2VQc65D99mFxEr6rUv17eihd+ffK/MTLSSeA12L+tUgReI24FwC4ozbZc6fQ/r4GO7YLRGkDJkxI7FDIQQA==",
          "dtype": "f8"
         },
         "xaxis": "x2",
         "yaxis": "y2"
        },
        {
         "bingroup": "x",
         "histnorm": "probability density",
         "hovertemplate": "Algorithm=LightGBM<br>Forecast Bias=%{x}<br>probability density=%{y}<extra></extra>",
         "legendgroup": "LightGBM",
         "marker": {
          "color": "#00cc96",
          "opacity": 0.5,
          "pattern": {
           "shape": "\\"
          }
         },
         "name": "LightGBM",
         "nbinsx": 500,
         "orientation": "v",
         "showlegend": true,
         "type": "histogram",
         "x": {
          "bdata": "USe20Ww34D+P4L4jrxoQwDDCJxo+ZxPA4P9rwFTzF0C/CYoEGJYJQEEQV+60SB/AzEV5PI4a8r+ps1LFdrkUwBBXSKxlDPW/xdAhxIayEUDbAQmCKYrhv9NxwMlCGei/msi9SaoRCMAewN3CCXUJwC6ZsOucVylAImgnDgcI5D+IaIjWLrEQwBRQJ58ugQzAkcy7fO918z/+h6lgQzv7v3nklm7vHRfA2LYoupPD5r/ry6VcPqrhP8D2YnglQvw/SYqypjSiG8DXSNzA/hjTvymMILWUluy/wo5GrwHSEEB8btJhzFL5PynPdNqiWeO/JD1vv3wUE0BibkHjwcIKwDPKKLzSVuE/6uCDAkJ6EcDbyHWCJeIOwIywqLtN3vo/g+9td3W0CcAm4xyiMM7vv6ni4llwDfe/SNaFNOHLAUCZ6//k8pbzP+wtvgkWcxfATnd0EsnWFsBIQ5wDHesOwBsrv5JRsg5AOkVo23hW/j+ubiSjsAUFwPoZJRxuvuW/kY7jqXeVHEDZhrprHNIKwCADXl+m2xPAT6rSTFciEsAICfgr7PkSwHQHYmVBGgzAq5ESw3XUpr8nXgRnQzsLwO1JxMk7ziHAHEo0GCvtCMD5O269HU7wv444CXcpn/I/+ABqrMtQDsAeJB7MAgnfv79b9rBPHljAWRnhgsto+z+9qz4JBRHrv9q0T++JtPW/IjBdNcWOG8DcW3bAlWPzv7TprVyzSeG/iY7DGwAYAcBJonFNgzwWwBumVqIUGRnAxMbC0GZS8b9EHkUkjdbvv2n1dDFlJPc//qhUiIyBCsAHqvHJI4cBwCwTXbkRivU/c+aZUBZI/7+4n0kB63EmwFuPBVisxAbAEiJXIwaUFcCLrPGDzybhv3umPYQvICHA9Z2ZpKav4j/iImh5+gmrP1TIUivw4RDAZGr5gV9W/b92dUs3yuHkv9tccdmtLCrA5ND9UPYb9L8dtbtskYUKQNV1iS1abQBAAAHp6jDDHMDRY/wHhLYGwLiuNVkqoAhA5pU9fxU/4L8A1POL+KDyv7LCH2br6wJAvu9VTfSiBcAY8B/AHeL8P2Xzl3AnaRfApFtPnMhk8T8PfPWLsJnxP3P84qpjqhDAXnWD4MtWIcBsigA2iDgUQHrBwjCDth1AfRWyIu6+D0DTpcM4iKnmv6QkUyNX5AHAVqLCbGYuIsB7yLWCc3QVwDbqBUz84eK/tB0L0saGAMDvQvIFDt7zPzLKe6aEBs2/QhnUEBltmz+3RbGpuRgSwDpgWVPuzuG/MQrwfGLlCMAd5SMg2ysIwGI+n7fQrAzATl8y3c8n/78GIFixfELwP7xBcgwAxca/Xqg0WoaXBMBNoI07L+P3P6vVUS3gHvo/zYEqL7ipA8B8tw/9n7EOwP7cjlQbvPe/AAAAAAAA8P/ThvpKwWzzvzYD8DXVXRLA+n0Zl6FO+b9qvOWRFc0nwKnmYkrBK9y/7hDqMyJgBcCiuUFL0hMQwPhrGn0qhPW/fmo7q4tO8z+gmeY3J8WuP4LPvZwRJes/+c1ZpNd3/D8dmhjGCXoBwDn9K+P1ayTA52j4257F9b/LN1VYQe8rwF5hMaTg7vo/ovE0SCgZ/79nH69amO4dwPrJ0+NophPA2AKxgytpDMC4/QIMLU8UwPz09nEbLBlAQkvHB9qMx79KLtiUda4aQJ5uVhJloQbAW2iXCs4O7j/h/blY7V4QwHA4E8I+S/Y/iuvm1sN1AsDWy3CiN/nkv2fDv3AV6/k/iSpIi6GVBEBRPX11H0j/vwQdfbnIbDjAP4vfzkV+AUB+2ISy+CoRwF2CS438HRPAIAgv7xlR8b+G68daIx4DQIqLy9iTcRTAdS4c2AmWF8DGr5ZDyfH9v/pBeZNQcP2/UJnoTPwcxL9Lyfm5OmgAwLYsEDpgahXAtVtGJItlyz/y67GZIZTkv2eVWzIxcsS/L72D6TxKAsANb0GYRzEfwA==",
          "dtype": "f8"
         },
         "xaxis": "x",
         "yaxis": "y"
        },
        {
         "hovertemplate": "Algorithm=LightGBM<br>Forecast Bias=%{x}<extra></extra>",
         "legendgroup": "LightGBM",
         "marker": {
          "color": "#00cc96"
         },
         "name": "LightGBM",
         "notched": true,
         "showlegend": false,
         "type": "box",
         "x": {
          "bdata": "USe20Ww34D+P4L4jrxoQwDDCJxo+ZxPA4P9rwFTzF0C/CYoEGJYJQEEQV+60SB/AzEV5PI4a8r+ps1LFdrkUwBBXSKxlDPW/xdAhxIayEUDbAQmCKYrhv9NxwMlCGei/msi9SaoRCMAewN3CCXUJwC6ZsOucVylAImgnDgcI5D+IaIjWLrEQwBRQJ58ugQzAkcy7fO918z/+h6lgQzv7v3nklm7vHRfA2LYoupPD5r/ry6VcPqrhP8D2YnglQvw/SYqypjSiG8DXSNzA/hjTvymMILWUluy/wo5GrwHSEEB8btJhzFL5PynPdNqiWeO/JD1vv3wUE0BibkHjwcIKwDPKKLzSVuE/6uCDAkJ6EcDbyHWCJeIOwIywqLtN3vo/g+9td3W0CcAm4xyiMM7vv6ni4llwDfe/SNaFNOHLAUCZ6//k8pbzP+wtvgkWcxfATnd0EsnWFsBIQ5wDHesOwBsrv5JRsg5AOkVo23hW/j+ubiSjsAUFwPoZJRxuvuW/kY7jqXeVHEDZhrprHNIKwCADXl+m2xPAT6rSTFciEsAICfgr7PkSwHQHYmVBGgzAq5ESw3XUpr8nXgRnQzsLwO1JxMk7ziHAHEo0GCvtCMD5O269HU7wv444CXcpn/I/+ABqrMtQDsAeJB7MAgnfv79b9rBPHljAWRnhgsto+z+9qz4JBRHrv9q0T++JtPW/IjBdNcWOG8DcW3bAlWPzv7TprVyzSeG/iY7DGwAYAcBJonFNgzwWwBumVqIUGRnAxMbC0GZS8b9EHkUkjdbvv2n1dDFlJPc//qhUiIyBCsAHqvHJI4cBwCwTXbkRivU/c+aZUBZI/7+4n0kB63EmwFuPBVisxAbAEiJXIwaUFcCLrPGDzybhv3umPYQvICHA9Z2ZpKav4j/iImh5+gmrP1TIUivw4RDAZGr5gV9W/b92dUs3yuHkv9tccdmtLCrA5ND9UPYb9L8dtbtskYUKQNV1iS1abQBAAAHp6jDDHMDRY/wHhLYGwLiuNVkqoAhA5pU9fxU/4L8A1POL+KDyv7LCH2br6wJAvu9VTfSiBcAY8B/AHeL8P2Xzl3AnaRfApFtPnMhk8T8PfPWLsJnxP3P84qpjqhDAXnWD4MtWIcBsigA2iDgUQHrBwjCDth1AfRWyIu6+D0DTpcM4iKnmv6QkUyNX5AHAVqLCbGYuIsB7yLWCc3QVwDbqBUz84eK/tB0L0saGAMDvQvIFDt7zPzLKe6aEBs2/QhnUEBltmz+3RbGpuRgSwDpgWVPuzuG/MQrwfGLlCMAd5SMg2ysIwGI+n7fQrAzATl8y3c8n/78GIFixfELwP7xBcgwAxca/Xqg0WoaXBMBNoI07L+P3P6vVUS3gHvo/zYEqL7ipA8B8tw/9n7EOwP7cjlQbvPe/AAAAAAAA8P/ThvpKwWzzvzYD8DXVXRLA+n0Zl6FO+b9qvOWRFc0nwKnmYkrBK9y/7hDqMyJgBcCiuUFL0hMQwPhrGn0qhPW/fmo7q4tO8z+gmeY3J8WuP4LPvZwRJes/+c1ZpNd3/D8dmhjGCXoBwDn9K+P1ayTA52j4257F9b/LN1VYQe8rwF5hMaTg7vo/ovE0SCgZ/79nH69amO4dwPrJ0+NophPA2AKxgytpDMC4/QIMLU8UwPz09nEbLBlAQkvHB9qMx79KLtiUda4aQJ5uVhJloQbAW2iXCs4O7j/h/blY7V4QwHA4E8I+S/Y/iuvm1sN1AsDWy3CiN/nkv2fDv3AV6/k/iSpIi6GVBEBRPX11H0j/vwQdfbnIbDjAP4vfzkV+AUB+2ISy+CoRwF2CS438HRPAIAgv7xlR8b+G68daIx4DQIqLy9iTcRTAdS4c2AmWF8DGr5ZDyfH9v/pBeZNQcP2/UJnoTPwcxL9Lyfm5OmgAwLYsEDpgahXAtVtGJItlyz/y67GZIZTkv2eVWzIxcsS/L72D6TxKAsANb0GYRzEfwA==",
          "dtype": "f8"
         },
         "xaxis": "x2",
         "yaxis": "y2"
        }
       ],
       "layout": {
        "autosize": false,
        "barmode": "overlay",
        "height": 500,
        "legend": {
         "font": {
          "size": 15
         },
         "orientation": "h",
         "title": {},
         "tracegroupgap": 0,
         "x": 1,
         "xanchor": "right",
         "y": 0.98,
         "yanchor": "bottom"
        },
        "margin": {
         "t": 60
        },
        "template": {
         "data": {
          "bar": [
           {
            "error_x": {
             "color": "#2a3f5f"
            },
            "error_y": {
             "color": "#2a3f5f"
            },
            "marker": {
             "line": {
              "color": "white",
              "width": 0.5
             },
             "pattern": {
              "fillmode": "overlay",
              "size": 10,
              "solidity": 0.2
             }
            },
            "type": "bar"
           }
          ],
          "barpolar": [
           {
            "marker": {
             "line": {
              "color": "white",
              "width": 0.5
             },
             "pattern": {
              "fillmode": "overlay",
              "size": 10,
              "solidity": 0.2
             }
            },
            "type": "barpolar"
           }
          ],
          "carpet": [
           {
            "aaxis": {
             "endlinecolor": "#2a3f5f",
             "gridcolor": "#C8D4E3",
             "linecolor": "#C8D4E3",
             "minorgridcolor": "#C8D4E3",
             "startlinecolor": "#2a3f5f"
            },
            "baxis": {
             "endlinecolor": "#2a3f5f",
             "gridcolor": "#C8D4E3",
             "linecolor": "#C8D4E3",
             "minorgridcolor": "#C8D4E3",
             "startlinecolor": "#2a3f5f"
            },
            "type": "carpet"
           }
          ],
          "choropleth": [
           {
            "colorbar": {
             "outlinewidth": 0,
             "ticks": ""
            },
            "type": "choropleth"
           }
          ],
          "contour": [
           {
            "colorbar": {
             "outlinewidth": 0,
             "ticks": ""
            },
            "colorscale": [
             [
              0,
              "#0d0887"
             ],
             [
              0.1111111111111111,
              "#46039f"
             ],
             [
              0.2222222222222222,
              "#7201a8"
             ],
             [
              0.3333333333333333,
              "#9c179e"
             ],
             [
              0.4444444444444444,
              "#bd3786"
             ],
             [
              0.5555555555555556,
              "#d8576b"
             ],
             [
              0.6666666666666666,
              "#ed7953"
             ],
             [
              0.7777777777777778,
              "#fb9f3a"
             ],
             [
              0.8888888888888888,
              "#fdca26"
             ],
             [
              1,
              "#f0f921"
             ]
            ],
            "type": "contour"
           }
          ],
          "contourcarpet": [
           {
            "colorbar": {
             "outlinewidth": 0,
             "ticks": ""
            },
            "type": "contourcarpet"
           }
          ],
          "heatmap": [
           {
            "colorbar": {
             "outlinewidth": 0,
             "ticks": ""
            },
            "colorscale": [
             [
              0,
              "#0d0887"
             ],
             [
              0.1111111111111111,
              "#46039f"
             ],
             [
              0.2222222222222222,
              "#7201a8"
             ],
             [
              0.3333333333333333,
              "#9c179e"
             ],
             [
              0.4444444444444444,
              "#bd3786"
             ],
             [
              0.5555555555555556,
              "#d8576b"
             ],
             [
              0.6666666666666666,
              "#ed7953"
             ],
             [
              0.7777777777777778,
              "#fb9f3a"
             ],
             [
              0.8888888888888888,
              "#fdca26"
             ],
             [
              1,
              "#f0f921"
             ]
            ],
            "type": "heatmap"
           }
          ],
          "histogram": [
           {
            "marker": {
             "pattern": {
              "fillmode": "overlay",
              "size": 10,
              "solidity": 0.2
             }
            },
            "type": "histogram"
           }
          ],
          "histogram2d": [
           {
            "colorbar": {
             "outlinewidth": 0,
             "ticks": ""
            },
            "colorscale": [
             [
              0,
              "#0d0887"
             ],
             [
              0.1111111111111111,
              "#46039f"
             ],
             [
              0.2222222222222222,
              "#7201a8"
             ],
             [
              0.3333333333333333,
              "#9c179e"
             ],
             [
              0.4444444444444444,
              "#bd3786"
             ],
             [
              0.5555555555555556,
              "#d8576b"
             ],
             [
              0.6666666666666666,
              "#ed7953"
             ],
             [
              0.7777777777777778,
              "#fb9f3a"
             ],
             [
              0.8888888888888888,
              "#fdca26"
             ],
             [
              1,
              "#f0f921"
             ]
            ],
            "type": "histogram2d"
           }
          ],
          "histogram2dcontour": [
           {
            "colorbar": {
             "outlinewidth": 0,
             "ticks": ""
            },
            "colorscale": [
             [
              0,
              "#0d0887"
             ],
             [
              0.1111111111111111,
              "#46039f"
             ],
             [
              0.2222222222222222,
              "#7201a8"
             ],
             [
              0.3333333333333333,
              "#9c179e"
             ],
             [
              0.4444444444444444,
              "#bd3786"
             ],
             [
              0.5555555555555556,
              "#d8576b"
             ],
             [
              0.6666666666666666,
              "#ed7953"
             ],
             [
              0.7777777777777778,
              "#fb9f3a"
             ],
             [
              0.8888888888888888,
              "#fdca26"
             ],
             [
              1,
              "#f0f921"
             ]
            ],
            "type": "histogram2dcontour"
           }
          ],
          "mesh3d": [
           {
            "colorbar": {
             "outlinewidth": 0,
             "ticks": ""
            },
            "type": "mesh3d"
           }
          ],
          "parcoords": [
           {
            "line": {
             "colorbar": {
              "outlinewidth": 0,
              "ticks": ""
             }
            },
            "type": "parcoords"
           }
          ],
          "pie": [
           {
            "automargin": true,
            "type": "pie"
           }
          ],
          "scatter": [
           {
            "fillpattern": {
             "fillmode": "overlay",
             "size": 10,
             "solidity": 0.2
            },
            "type": "scatter"
           }
          ],
          "scatter3d": [
           {
            "line": {
             "colorbar": {
              "outlinewidth": 0,
              "ticks": ""
             }
            },
            "marker": {
             "colorbar": {
              "outlinewidth": 0,
              "ticks": ""
             }
            },
            "type": "scatter3d"
           }
          ],
          "scattercarpet": [
           {
            "marker": {
             "colorbar": {
              "outlinewidth": 0,
              "ticks": ""
             }
            },
            "type": "scattercarpet"
           }
          ],
          "scattergeo": [
           {
            "marker": {
             "colorbar": {
              "outlinewidth": 0,
              "ticks": ""
             }
            },
            "type": "scattergeo"
           }
          ],
          "scattergl": [
           {
            "marker": {
             "colorbar": {
              "outlinewidth": 0,
              "ticks": ""
             }
            },
            "type": "scattergl"
           }
          ],
          "scattermap": [
           {
            "marker": {
             "colorbar": {
              "outlinewidth": 0,
              "ticks": ""
             }
            },
            "type": "scattermap"
           }
          ],
          "scattermapbox": [
           {
            "marker": {
             "colorbar": {
              "outlinewidth": 0,
              "ticks": ""
             }
            },
            "type": "scattermapbox"
           }
          ],
          "scatterpolar": [
           {
            "marker": {
             "colorbar": {
              "outlinewidth": 0,
              "ticks": ""
             }
            },
            "type": "scatterpolar"
           }
          ],
          "scatterpolargl": [
           {
            "marker": {
             "colorbar": {
              "outlinewidth": 0,
              "ticks": ""
             }
            },
            "type": "scatterpolargl"
           }
          ],
          "scatterternary": [
           {
            "marker": {
             "colorbar": {
              "outlinewidth": 0,
              "ticks": ""
             }
            },
            "type": "scatterternary"
           }
          ],
          "surface": [
           {
            "colorbar": {
             "outlinewidth": 0,
             "ticks": ""
            },
            "colorscale": [
             [
              0,
              "#0d0887"
             ],
             [
              0.1111111111111111,
              "#46039f"
             ],
             [
              0.2222222222222222,
              "#7201a8"
             ],
             [
              0.3333333333333333,
              "#9c179e"
             ],
             [
              0.4444444444444444,
              "#bd3786"
             ],
             [
              0.5555555555555556,
              "#d8576b"
             ],
             [
              0.6666666666666666,
              "#ed7953"
             ],
             [
              0.7777777777777778,
              "#fb9f3a"
             ],
             [
              0.8888888888888888,
              "#fdca26"
             ],
             [
              1,
              "#f0f921"
             ]
            ],
            "type": "surface"
           }
          ],
          "table": [
           {
            "cells": {
             "fill": {
              "color": "#EBF0F8"
             },
             "line": {
              "color": "white"
             }
            },
            "header": {
             "fill": {
              "color": "#C8D4E3"
             },
             "line": {
              "color": "white"
             }
            },
            "type": "table"
           }
          ]
         },
         "layout": {
          "annotationdefaults": {
           "arrowcolor": "#2a3f5f",
           "arrowhead": 0,
           "arrowwidth": 1
          },
          "autotypenumbers": "strict",
          "coloraxis": {
           "colorbar": {
            "outlinewidth": 0,
            "ticks": ""
           }
          },
          "colorscale": {
           "diverging": [
            [
             0,
             "#8e0152"
            ],
            [
             0.1,
             "#c51b7d"
            ],
            [
             0.2,
             "#de77ae"
            ],
            [
             0.3,
             "#f1b6da"
            ],
            [
             0.4,
             "#fde0ef"
            ],
            [
             0.5,
             "#f7f7f7"
            ],
            [
             0.6,
             "#e6f5d0"
            ],
            [
             0.7,
             "#b8e186"
            ],
            [
             0.8,
             "#7fbc41"
            ],
            [
             0.9,
             "#4d9221"
            ],
            [
             1,
             "#276419"
            ]
           ],
           "sequential": [
            [
             0,
             "#0d0887"
            ],
            [
             0.1111111111111111,
             "#46039f"
            ],
            [
             0.2222222222222222,
             "#7201a8"
            ],
            [
             0.3333333333333333,
             "#9c179e"
            ],
            [
             0.4444444444444444,
             "#bd3786"
            ],
            [
             0.5555555555555556,
             "#d8576b"
            ],
            [
             0.6666666666666666,
             "#ed7953"
            ],
            [
             0.7777777777777778,
             "#fb9f3a"
            ],
            [
             0.8888888888888888,
             "#fdca26"
            ],
            [
             1,
             "#f0f921"
            ]
           ],
           "sequentialminus": [
            [
             0,
             "#0d0887"
            ],
            [
             0.1111111111111111,
             "#46039f"
            ],
            [
             0.2222222222222222,
             "#7201a8"
            ],
            [
             0.3333333333333333,
             "#9c179e"
            ],
            [
             0.4444444444444444,
             "#bd3786"
            ],
            [
             0.5555555555555556,
             "#d8576b"
            ],
            [
             0.6666666666666666,
             "#ed7953"
            ],
            [
             0.7777777777777778,
             "#fb9f3a"
            ],
            [
             0.8888888888888888,
             "#fdca26"
            ],
            [
             1,
             "#f0f921"
            ]
           ]
          },
          "colorway": [
           "#636efa",
           "#EF553B",
           "#00cc96",
           "#ab63fa",
           "#FFA15A",
           "#19d3f3",
           "#FF6692",
           "#B6E880",
           "#FF97FF",
           "#FECB52"
          ],
          "font": {
           "color": "#2a3f5f"
          },
          "geo": {
           "bgcolor": "white",
           "lakecolor": "white",
           "landcolor": "white",
           "showlakes": true,
           "showland": true,
           "subunitcolor": "#C8D4E3"
          },
          "hoverlabel": {
           "align": "left"
          },
          "hovermode": "closest",
          "mapbox": {
           "style": "light"
          },
          "paper_bgcolor": "white",
          "plot_bgcolor": "white",
          "polar": {
           "angularaxis": {
            "gridcolor": "#EBF0F8",
            "linecolor": "#EBF0F8",
            "ticks": ""
           },
           "bgcolor": "white",
           "radialaxis": {
            "gridcolor": "#EBF0F8",
            "linecolor": "#EBF0F8",
            "ticks": ""
           }
          },
          "scene": {
           "xaxis": {
            "backgroundcolor": "white",
            "gridcolor": "#DFE8F3",
            "gridwidth": 2,
            "linecolor": "#EBF0F8",
            "showbackground": true,
            "ticks": "",
            "zerolinecolor": "#EBF0F8"
           },
           "yaxis": {
            "backgroundcolor": "white",
            "gridcolor": "#DFE8F3",
            "gridwidth": 2,
            "linecolor": "#EBF0F8",
            "showbackground": true,
            "ticks": "",
            "zerolinecolor": "#EBF0F8"
           },
           "zaxis": {
            "backgroundcolor": "white",
            "gridcolor": "#DFE8F3",
            "gridwidth": 2,
            "linecolor": "#EBF0F8",
            "showbackground": true,
            "ticks": "",
            "zerolinecolor": "#EBF0F8"
           }
          },
          "shapedefaults": {
           "line": {
            "color": "#2a3f5f"
           }
          },
          "ternary": {
           "aaxis": {
            "gridcolor": "#DFE8F3",
            "linecolor": "#A2B1C6",
            "ticks": ""
           },
           "baxis": {
            "gridcolor": "#DFE8F3",
            "linecolor": "#A2B1C6",
            "ticks": ""
           },
           "bgcolor": "white",
           "caxis": {
            "gridcolor": "#DFE8F3",
            "linecolor": "#A2B1C6",
            "ticks": ""
           }
          },
          "title": {
           "x": 0.05
          },
          "xaxis": {
           "automargin": true,
           "gridcolor": "#EBF0F8",
           "linecolor": "#EBF0F8",
           "ticks": "",
           "title": {
            "standoff": 15
           },
           "zerolinecolor": "#EBF0F8",
           "zerolinewidth": 2
          },
          "yaxis": {
           "automargin": true,
           "gridcolor": "#EBF0F8",
           "linecolor": "#EBF0F8",
           "ticks": "",
           "title": {
            "standoff": 15
           },
           "zerolinecolor": "#EBF0F8",
           "zerolinewidth": 2
          }
         }
        },
        "title": {
         "text": "Distribution of Forecast Bias in the dataset"
        },
        "width": 900,
        "xaxis": {
         "anchor": "y",
         "domain": [
          0,
          1
         ],
         "range": [
          -15,
          25
         ],
         "tickfont": {
          "size": 15
         },
         "title": {
          "font": {
           "size": 15
          },
          "text": "forecast bias"
         }
        },
        "xaxis2": {
         "anchor": "y2",
         "domain": [
          0,
          1
         ],
         "matches": "x",
         "showgrid": true,
         "showticklabels": false
        },
        "yaxis": {
         "anchor": "x",
         "domain": [
          0,
          0.7326
         ],
         "tickfont": {
          "size": 15
         },
         "title": {
          "font": {
           "size": 15
          },
          "text": "Probability Density"
         }
        },
        "yaxis2": {
         "anchor": "x2",
         "domain": [
          0.7426,
          1
         ],
         "matches": "y2",
         "showgrid": false,
         "showline": false,
         "showticklabels": false,
         "ticks": ""
        }
       }
      }
     },
     "metadata": {},
     "output_type": "display_data"
    }
   ],
   "source": [
    "fig = px.histogram(metrics_df,\n",
    "                   x=\"Forecast Bias\",\n",
    "                   color=metrics_df[\"Algorithm\"],\n",
    "                   pattern_shape=metrics_df[\"Algorithm\"],\n",
    "                   marginal=\"box\",\n",
    "                   nbins=500,\n",
    "                   barmode=\"overlay\",\n",
    "                   histnorm=\"probability density\")\n",
    "fig = format_plot(fig, xlabel=\"forecast bias\", ylabel=\"Probability Density\")\n",
    "fig.update_layout(title=\"Distribution of Forecast Bias in the dataset\", xaxis_range=[-15,25])\n",
    "fig.write_image(dst_img/\"ml_bias_dist.png\")\n",
    "fig.show()"
   ]
  },
  {
   "cell_type": "code",
   "execution_count": 28,
   "id": "aa9a1ea6",
   "metadata": {},
   "outputs": [],
   "source": [
    "display_lclid = \"MAC003069\"\n",
    "ts_baseline_test_pred_df = pred_df.loc[pred_df.LCLid==display_lclid]\n",
    "ts_baseline_test_pred_df = ts_baseline_test_pred_df.reset_index()\n",
    "ts_aggtest_metrics = metrics_df.loc[metrics_df.LCLid==display_lclid]"
   ]
  },
  {
   "cell_type": "code",
   "execution_count": 39,
   "id": "d7050416",
   "metadata": {},
   "outputs": [],
   "source": [
    "lasso_data = ts_baseline_test_pred_df[ts_baseline_test_pred_df['Algorithm'] == 'Lasso Regression'].copy()\n",
    "xgb_data = ts_baseline_test_pred_df[ts_baseline_test_pred_df['Algorithm'] == 'XGB Random Forest'].copy()"
   ]
  },
  {
   "cell_type": "code",
   "execution_count": null,
   "id": "b823e017",
   "metadata": {},
   "outputs": [
    {
     "data": {
      "application/vnd.plotly.v1+json": {
       "config": {
        "plotlyServerURL": "https://plot.ly"
       },
       "data": [
        {
         "line": {
          "color": "rgba(27,158,119, 0.3)"
         },
         "mode": "lines",
         "name": "Actual Consumption",
         "type": "scatter",
         "x": [
          "2014-02-01T00:00:00.000000000",
          "2014-02-01T00:30:00.000000000",
          "2014-02-01T01:00:00.000000000",
          "2014-02-01T01:30:00.000000000",
          "2014-02-01T02:00:00.000000000",
          "2014-02-01T02:30:00.000000000",
          "2014-02-01T03:00:00.000000000",
          "2014-02-01T03:30:00.000000000",
          "2014-02-01T04:00:00.000000000",
          "2014-02-01T04:30:00.000000000",
          "2014-02-01T05:00:00.000000000",
          "2014-02-01T05:30:00.000000000",
          "2014-02-01T06:00:00.000000000",
          "2014-02-01T06:30:00.000000000",
          "2014-02-01T07:00:00.000000000",
          "2014-02-01T07:30:00.000000000",
          "2014-02-01T08:00:00.000000000",
          "2014-02-01T08:30:00.000000000",
          "2014-02-01T09:00:00.000000000",
          "2014-02-01T09:30:00.000000000",
          "2014-02-01T10:00:00.000000000",
          "2014-02-01T10:30:00.000000000",
          "2014-02-01T11:00:00.000000000",
          "2014-02-01T11:30:00.000000000",
          "2014-02-01T12:00:00.000000000",
          "2014-02-01T12:30:00.000000000",
          "2014-02-01T13:00:00.000000000",
          "2014-02-01T13:30:00.000000000",
          "2014-02-01T14:00:00.000000000",
          "2014-02-01T14:30:00.000000000",
          "2014-02-01T15:00:00.000000000",
          "2014-02-01T15:30:00.000000000",
          "2014-02-01T16:00:00.000000000",
          "2014-02-01T16:30:00.000000000",
          "2014-02-01T17:00:00.000000000",
          "2014-02-01T17:30:00.000000000",
          "2014-02-01T18:00:00.000000000",
          "2014-02-01T18:30:00.000000000",
          "2014-02-01T19:00:00.000000000",
          "2014-02-01T19:30:00.000000000",
          "2014-02-01T20:00:00.000000000",
          "2014-02-01T20:30:00.000000000",
          "2014-02-01T21:00:00.000000000",
          "2014-02-01T21:30:00.000000000",
          "2014-02-01T22:00:00.000000000",
          "2014-02-01T22:30:00.000000000",
          "2014-02-01T23:00:00.000000000",
          "2014-02-01T23:30:00.000000000",
          "2014-02-02T00:00:00.000000000",
          "2014-02-02T00:30:00.000000000",
          "2014-02-02T01:00:00.000000000",
          "2014-02-02T01:30:00.000000000",
          "2014-02-02T02:00:00.000000000",
          "2014-02-02T02:30:00.000000000",
          "2014-02-02T03:00:00.000000000",
          "2014-02-02T03:30:00.000000000",
          "2014-02-02T04:00:00.000000000",
          "2014-02-02T04:30:00.000000000",
          "2014-02-02T05:00:00.000000000",
          "2014-02-02T05:30:00.000000000",
          "2014-02-02T06:00:00.000000000",
          "2014-02-02T06:30:00.000000000",
          "2014-02-02T07:00:00.000000000",
          "2014-02-02T07:30:00.000000000",
          "2014-02-02T08:00:00.000000000",
          "2014-02-02T08:30:00.000000000",
          "2014-02-02T09:00:00.000000000",
          "2014-02-02T09:30:00.000000000",
          "2014-02-02T10:00:00.000000000",
          "2014-02-02T10:30:00.000000000",
          "2014-02-02T11:00:00.000000000",
          "2014-02-02T11:30:00.000000000",
          "2014-02-02T12:00:00.000000000",
          "2014-02-02T12:30:00.000000000",
          "2014-02-02T13:00:00.000000000",
          "2014-02-02T13:30:00.000000000",
          "2014-02-02T14:00:00.000000000",
          "2014-02-02T14:30:00.000000000",
          "2014-02-02T15:00:00.000000000",
          "2014-02-02T15:30:00.000000000",
          "2014-02-02T16:00:00.000000000",
          "2014-02-02T16:30:00.000000000",
          "2014-02-02T17:00:00.000000000",
          "2014-02-02T17:30:00.000000000",
          "2014-02-02T18:00:00.000000000",
          "2014-02-02T18:30:00.000000000",
          "2014-02-02T19:00:00.000000000",
          "2014-02-02T19:30:00.000000000",
          "2014-02-02T20:00:00.000000000",
          "2014-02-02T20:30:00.000000000",
          "2014-02-02T21:00:00.000000000",
          "2014-02-02T21:30:00.000000000",
          "2014-02-02T22:00:00.000000000",
          "2014-02-02T22:30:00.000000000",
          "2014-02-02T23:00:00.000000000",
          "2014-02-02T23:30:00.000000000",
          "2014-02-03T00:00:00.000000000",
          "2014-02-03T00:30:00.000000000",
          "2014-02-03T01:00:00.000000000",
          "2014-02-03T01:30:00.000000000",
          "2014-02-03T02:00:00.000000000",
          "2014-02-03T02:30:00.000000000",
          "2014-02-03T03:00:00.000000000",
          "2014-02-03T03:30:00.000000000",
          "2014-02-03T04:00:00.000000000",
          "2014-02-03T04:30:00.000000000",
          "2014-02-03T05:00:00.000000000",
          "2014-02-03T05:30:00.000000000",
          "2014-02-03T06:00:00.000000000",
          "2014-02-03T06:30:00.000000000",
          "2014-02-03T07:00:00.000000000",
          "2014-02-03T07:30:00.000000000",
          "2014-02-03T08:00:00.000000000",
          "2014-02-03T08:30:00.000000000",
          "2014-02-03T09:00:00.000000000",
          "2014-02-03T09:30:00.000000000",
          "2014-02-03T10:00:00.000000000",
          "2014-02-03T10:30:00.000000000",
          "2014-02-03T11:00:00.000000000",
          "2014-02-03T11:30:00.000000000",
          "2014-02-03T12:00:00.000000000",
          "2014-02-03T12:30:00.000000000",
          "2014-02-03T13:00:00.000000000",
          "2014-02-03T13:30:00.000000000",
          "2014-02-03T14:00:00.000000000",
          "2014-02-03T14:30:00.000000000",
          "2014-02-03T15:00:00.000000000",
          "2014-02-03T15:30:00.000000000",
          "2014-02-03T16:00:00.000000000",
          "2014-02-03T16:30:00.000000000",
          "2014-02-03T17:00:00.000000000",
          "2014-02-03T17:30:00.000000000",
          "2014-02-03T18:00:00.000000000",
          "2014-02-03T18:30:00.000000000",
          "2014-02-03T19:00:00.000000000",
          "2014-02-03T19:30:00.000000000",
          "2014-02-03T20:00:00.000000000",
          "2014-02-03T20:30:00.000000000",
          "2014-02-03T21:00:00.000000000",
          "2014-02-03T21:30:00.000000000",
          "2014-02-03T22:00:00.000000000",
          "2014-02-03T22:30:00.000000000",
          "2014-02-03T23:00:00.000000000",
          "2014-02-03T23:30:00.000000000",
          "2014-02-04T00:00:00.000000000",
          "2014-02-04T00:30:00.000000000",
          "2014-02-04T01:00:00.000000000",
          "2014-02-04T01:30:00.000000000",
          "2014-02-04T02:00:00.000000000",
          "2014-02-04T02:30:00.000000000",
          "2014-02-04T03:00:00.000000000",
          "2014-02-04T03:30:00.000000000",
          "2014-02-04T04:00:00.000000000",
          "2014-02-04T04:30:00.000000000",
          "2014-02-04T05:00:00.000000000",
          "2014-02-04T05:30:00.000000000",
          "2014-02-04T06:00:00.000000000",
          "2014-02-04T06:30:00.000000000",
          "2014-02-04T07:00:00.000000000",
          "2014-02-04T07:30:00.000000000",
          "2014-02-04T08:00:00.000000000",
          "2014-02-04T08:30:00.000000000",
          "2014-02-04T09:00:00.000000000",
          "2014-02-04T09:30:00.000000000",
          "2014-02-04T10:00:00.000000000",
          "2014-02-04T10:30:00.000000000",
          "2014-02-04T11:00:00.000000000",
          "2014-02-04T11:30:00.000000000",
          "2014-02-04T12:00:00.000000000",
          "2014-02-04T12:30:00.000000000",
          "2014-02-04T13:00:00.000000000",
          "2014-02-04T13:30:00.000000000",
          "2014-02-04T14:00:00.000000000",
          "2014-02-04T14:30:00.000000000",
          "2014-02-04T15:00:00.000000000",
          "2014-02-04T15:30:00.000000000",
          "2014-02-04T16:00:00.000000000",
          "2014-02-04T16:30:00.000000000",
          "2014-02-04T17:00:00.000000000",
          "2014-02-04T17:30:00.000000000",
          "2014-02-04T18:00:00.000000000",
          "2014-02-04T18:30:00.000000000",
          "2014-02-04T19:00:00.000000000",
          "2014-02-04T19:30:00.000000000",
          "2014-02-04T20:00:00.000000000",
          "2014-02-04T20:30:00.000000000",
          "2014-02-04T21:00:00.000000000",
          "2014-02-04T21:30:00.000000000",
          "2014-02-04T22:00:00.000000000",
          "2014-02-04T22:30:00.000000000",
          "2014-02-04T23:00:00.000000000",
          "2014-02-04T23:30:00.000000000",
          "2014-02-05T00:00:00.000000000",
          "2014-02-05T00:30:00.000000000",
          "2014-02-05T01:00:00.000000000",
          "2014-02-05T01:30:00.000000000",
          "2014-02-05T02:00:00.000000000",
          "2014-02-05T02:30:00.000000000",
          "2014-02-05T03:00:00.000000000",
          "2014-02-05T03:30:00.000000000",
          "2014-02-05T04:00:00.000000000",
          "2014-02-05T04:30:00.000000000",
          "2014-02-05T05:00:00.000000000",
          "2014-02-05T05:30:00.000000000",
          "2014-02-05T06:00:00.000000000",
          "2014-02-05T06:30:00.000000000",
          "2014-02-05T07:00:00.000000000",
          "2014-02-05T07:30:00.000000000",
          "2014-02-05T08:00:00.000000000",
          "2014-02-05T08:30:00.000000000",
          "2014-02-05T09:00:00.000000000",
          "2014-02-05T09:30:00.000000000",
          "2014-02-05T10:00:00.000000000",
          "2014-02-05T10:30:00.000000000",
          "2014-02-05T11:00:00.000000000",
          "2014-02-05T11:30:00.000000000",
          "2014-02-05T12:00:00.000000000",
          "2014-02-05T12:30:00.000000000",
          "2014-02-05T13:00:00.000000000",
          "2014-02-05T13:30:00.000000000",
          "2014-02-05T14:00:00.000000000",
          "2014-02-05T14:30:00.000000000",
          "2014-02-05T15:00:00.000000000",
          "2014-02-05T15:30:00.000000000",
          "2014-02-05T16:00:00.000000000",
          "2014-02-05T16:30:00.000000000",
          "2014-02-05T17:00:00.000000000",
          "2014-02-05T17:30:00.000000000",
          "2014-02-05T18:00:00.000000000",
          "2014-02-05T18:30:00.000000000",
          "2014-02-05T19:00:00.000000000",
          "2014-02-05T19:30:00.000000000",
          "2014-02-05T20:00:00.000000000",
          "2014-02-05T20:30:00.000000000",
          "2014-02-05T21:00:00.000000000",
          "2014-02-05T21:30:00.000000000",
          "2014-02-05T22:00:00.000000000",
          "2014-02-05T22:30:00.000000000",
          "2014-02-05T23:00:00.000000000",
          "2014-02-05T23:30:00.000000000",
          "2014-02-06T00:00:00.000000000",
          "2014-02-06T00:30:00.000000000",
          "2014-02-06T01:00:00.000000000",
          "2014-02-06T01:30:00.000000000",
          "2014-02-06T02:00:00.000000000",
          "2014-02-06T02:30:00.000000000",
          "2014-02-06T03:00:00.000000000",
          "2014-02-06T03:30:00.000000000",
          "2014-02-06T04:00:00.000000000",
          "2014-02-06T04:30:00.000000000",
          "2014-02-06T05:00:00.000000000",
          "2014-02-06T05:30:00.000000000",
          "2014-02-06T06:00:00.000000000",
          "2014-02-06T06:30:00.000000000",
          "2014-02-06T07:00:00.000000000",
          "2014-02-06T07:30:00.000000000",
          "2014-02-06T08:00:00.000000000",
          "2014-02-06T08:30:00.000000000",
          "2014-02-06T09:00:00.000000000",
          "2014-02-06T09:30:00.000000000",
          "2014-02-06T10:00:00.000000000",
          "2014-02-06T10:30:00.000000000",
          "2014-02-06T11:00:00.000000000",
          "2014-02-06T11:30:00.000000000",
          "2014-02-06T12:00:00.000000000",
          "2014-02-06T12:30:00.000000000",
          "2014-02-06T13:00:00.000000000",
          "2014-02-06T13:30:00.000000000",
          "2014-02-06T14:00:00.000000000",
          "2014-02-06T14:30:00.000000000",
          "2014-02-06T15:00:00.000000000",
          "2014-02-06T15:30:00.000000000",
          "2014-02-06T16:00:00.000000000",
          "2014-02-06T16:30:00.000000000",
          "2014-02-06T17:00:00.000000000",
          "2014-02-06T17:30:00.000000000",
          "2014-02-06T18:00:00.000000000",
          "2014-02-06T18:30:00.000000000",
          "2014-02-06T19:00:00.000000000",
          "2014-02-06T19:30:00.000000000",
          "2014-02-06T20:00:00.000000000",
          "2014-02-06T20:30:00.000000000",
          "2014-02-06T21:00:00.000000000",
          "2014-02-06T21:30:00.000000000",
          "2014-02-06T22:00:00.000000000",
          "2014-02-06T22:30:00.000000000",
          "2014-02-06T23:00:00.000000000",
          "2014-02-06T23:30:00.000000000",
          "2014-02-07T00:00:00.000000000",
          "2014-02-07T00:30:00.000000000",
          "2014-02-07T01:00:00.000000000",
          "2014-02-07T01:30:00.000000000",
          "2014-02-07T02:00:00.000000000",
          "2014-02-07T02:30:00.000000000",
          "2014-02-07T03:00:00.000000000",
          "2014-02-07T03:30:00.000000000",
          "2014-02-07T04:00:00.000000000",
          "2014-02-07T04:30:00.000000000",
          "2014-02-07T05:00:00.000000000",
          "2014-02-07T05:30:00.000000000",
          "2014-02-07T06:00:00.000000000",
          "2014-02-07T06:30:00.000000000",
          "2014-02-07T07:00:00.000000000",
          "2014-02-07T07:30:00.000000000",
          "2014-02-07T08:00:00.000000000",
          "2014-02-07T08:30:00.000000000",
          "2014-02-07T09:00:00.000000000",
          "2014-02-07T09:30:00.000000000",
          "2014-02-07T10:00:00.000000000",
          "2014-02-07T10:30:00.000000000",
          "2014-02-07T11:00:00.000000000",
          "2014-02-07T11:30:00.000000000",
          "2014-02-07T12:00:00.000000000",
          "2014-02-07T12:30:00.000000000",
          "2014-02-07T13:00:00.000000000",
          "2014-02-07T13:30:00.000000000",
          "2014-02-07T14:00:00.000000000",
          "2014-02-07T14:30:00.000000000",
          "2014-02-07T15:00:00.000000000",
          "2014-02-07T15:30:00.000000000",
          "2014-02-07T16:00:00.000000000",
          "2014-02-07T16:30:00.000000000",
          "2014-02-07T17:00:00.000000000",
          "2014-02-07T17:30:00.000000000",
          "2014-02-07T18:00:00.000000000",
          "2014-02-07T18:30:00.000000000",
          "2014-02-07T19:00:00.000000000",
          "2014-02-07T19:30:00.000000000",
          "2014-02-07T20:00:00.000000000",
          "2014-02-07T20:30:00.000000000",
          "2014-02-07T21:00:00.000000000",
          "2014-02-07T21:30:00.000000000",
          "2014-02-07T22:00:00.000000000",
          "2014-02-07T22:30:00.000000000",
          "2014-02-07T23:00:00.000000000",
          "2014-02-07T23:30:00.000000000",
          "2014-02-08T00:00:00.000000000",
          "2014-02-08T00:30:00.000000000",
          "2014-02-08T01:00:00.000000000",
          "2014-02-08T01:30:00.000000000",
          "2014-02-08T02:00:00.000000000",
          "2014-02-08T02:30:00.000000000",
          "2014-02-08T03:00:00.000000000",
          "2014-02-08T03:30:00.000000000",
          "2014-02-08T04:00:00.000000000",
          "2014-02-08T04:30:00.000000000",
          "2014-02-08T05:00:00.000000000",
          "2014-02-08T05:30:00.000000000",
          "2014-02-08T06:00:00.000000000",
          "2014-02-08T06:30:00.000000000",
          "2014-02-08T07:00:00.000000000",
          "2014-02-08T07:30:00.000000000",
          "2014-02-08T08:00:00.000000000",
          "2014-02-08T08:30:00.000000000",
          "2014-02-08T09:00:00.000000000",
          "2014-02-08T09:30:00.000000000",
          "2014-02-08T10:00:00.000000000",
          "2014-02-08T10:30:00.000000000",
          "2014-02-08T11:00:00.000000000",
          "2014-02-08T11:30:00.000000000",
          "2014-02-08T12:00:00.000000000",
          "2014-02-08T12:30:00.000000000",
          "2014-02-08T13:00:00.000000000",
          "2014-02-08T13:30:00.000000000",
          "2014-02-08T14:00:00.000000000",
          "2014-02-08T14:30:00.000000000",
          "2014-02-08T15:00:00.000000000",
          "2014-02-08T15:30:00.000000000",
          "2014-02-08T16:00:00.000000000",
          "2014-02-08T16:30:00.000000000",
          "2014-02-08T17:00:00.000000000",
          "2014-02-08T17:30:00.000000000",
          "2014-02-08T18:00:00.000000000",
          "2014-02-08T18:30:00.000000000",
          "2014-02-08T19:00:00.000000000",
          "2014-02-08T19:30:00.000000000",
          "2014-02-08T20:00:00.000000000",
          "2014-02-08T20:30:00.000000000",
          "2014-02-08T21:00:00.000000000",
          "2014-02-08T21:30:00.000000000",
          "2014-02-08T22:00:00.000000000",
          "2014-02-08T22:30:00.000000000",
          "2014-02-08T23:00:00.000000000",
          "2014-02-08T23:30:00.000000000",
          "2014-02-09T00:00:00.000000000",
          "2014-02-09T00:30:00.000000000",
          "2014-02-09T01:00:00.000000000",
          "2014-02-09T01:30:00.000000000",
          "2014-02-09T02:00:00.000000000",
          "2014-02-09T02:30:00.000000000",
          "2014-02-09T03:00:00.000000000",
          "2014-02-09T03:30:00.000000000",
          "2014-02-09T04:00:00.000000000",
          "2014-02-09T04:30:00.000000000",
          "2014-02-09T05:00:00.000000000",
          "2014-02-09T05:30:00.000000000",
          "2014-02-09T06:00:00.000000000",
          "2014-02-09T06:30:00.000000000",
          "2014-02-09T07:00:00.000000000",
          "2014-02-09T07:30:00.000000000",
          "2014-02-09T08:00:00.000000000",
          "2014-02-09T08:30:00.000000000",
          "2014-02-09T09:00:00.000000000",
          "2014-02-09T09:30:00.000000000",
          "2014-02-09T10:00:00.000000000",
          "2014-02-09T10:30:00.000000000",
          "2014-02-09T11:00:00.000000000",
          "2014-02-09T11:30:00.000000000",
          "2014-02-09T12:00:00.000000000",
          "2014-02-09T12:30:00.000000000",
          "2014-02-09T13:00:00.000000000",
          "2014-02-09T13:30:00.000000000",
          "2014-02-09T14:00:00.000000000",
          "2014-02-09T14:30:00.000000000",
          "2014-02-09T15:00:00.000000000",
          "2014-02-09T15:30:00.000000000",
          "2014-02-09T16:00:00.000000000",
          "2014-02-09T16:30:00.000000000",
          "2014-02-09T17:00:00.000000000",
          "2014-02-09T17:30:00.000000000",
          "2014-02-09T18:00:00.000000000",
          "2014-02-09T18:30:00.000000000",
          "2014-02-09T19:00:00.000000000",
          "2014-02-09T19:30:00.000000000",
          "2014-02-09T20:00:00.000000000",
          "2014-02-09T20:30:00.000000000",
          "2014-02-09T21:00:00.000000000",
          "2014-02-09T21:30:00.000000000",
          "2014-02-09T22:00:00.000000000",
          "2014-02-09T22:30:00.000000000",
          "2014-02-09T23:00:00.000000000",
          "2014-02-09T23:30:00.000000000",
          "2014-02-10T00:00:00.000000000",
          "2014-02-10T00:30:00.000000000",
          "2014-02-10T01:00:00.000000000",
          "2014-02-10T01:30:00.000000000",
          "2014-02-10T02:00:00.000000000",
          "2014-02-10T02:30:00.000000000",
          "2014-02-10T03:00:00.000000000",
          "2014-02-10T03:30:00.000000000",
          "2014-02-10T04:00:00.000000000",
          "2014-02-10T04:30:00.000000000",
          "2014-02-10T05:00:00.000000000",
          "2014-02-10T05:30:00.000000000",
          "2014-02-10T06:00:00.000000000",
          "2014-02-10T06:30:00.000000000",
          "2014-02-10T07:00:00.000000000",
          "2014-02-10T07:30:00.000000000",
          "2014-02-10T08:00:00.000000000",
          "2014-02-10T08:30:00.000000000",
          "2014-02-10T09:00:00.000000000",
          "2014-02-10T09:30:00.000000000",
          "2014-02-10T10:00:00.000000000",
          "2014-02-10T10:30:00.000000000",
          "2014-02-10T11:00:00.000000000",
          "2014-02-10T11:30:00.000000000",
          "2014-02-10T12:00:00.000000000",
          "2014-02-10T12:30:00.000000000",
          "2014-02-10T13:00:00.000000000",
          "2014-02-10T13:30:00.000000000",
          "2014-02-10T14:00:00.000000000",
          "2014-02-10T14:30:00.000000000",
          "2014-02-10T15:00:00.000000000",
          "2014-02-10T15:30:00.000000000",
          "2014-02-10T16:00:00.000000000",
          "2014-02-10T16:30:00.000000000",
          "2014-02-10T17:00:00.000000000",
          "2014-02-10T17:30:00.000000000",
          "2014-02-10T18:00:00.000000000",
          "2014-02-10T18:30:00.000000000",
          "2014-02-10T19:00:00.000000000",
          "2014-02-10T19:30:00.000000000",
          "2014-02-10T20:00:00.000000000",
          "2014-02-10T20:30:00.000000000",
          "2014-02-10T21:00:00.000000000",
          "2014-02-10T21:30:00.000000000",
          "2014-02-10T22:00:00.000000000",
          "2014-02-10T22:30:00.000000000",
          "2014-02-10T23:00:00.000000000",
          "2014-02-10T23:30:00.000000000",
          "2014-02-11T00:00:00.000000000",
          "2014-02-11T00:30:00.000000000",
          "2014-02-11T01:00:00.000000000",
          "2014-02-11T01:30:00.000000000",
          "2014-02-11T02:00:00.000000000",
          "2014-02-11T02:30:00.000000000",
          "2014-02-11T03:00:00.000000000",
          "2014-02-11T03:30:00.000000000",
          "2014-02-11T04:00:00.000000000",
          "2014-02-11T04:30:00.000000000",
          "2014-02-11T05:00:00.000000000",
          "2014-02-11T05:30:00.000000000",
          "2014-02-11T06:00:00.000000000",
          "2014-02-11T06:30:00.000000000",
          "2014-02-11T07:00:00.000000000",
          "2014-02-11T07:30:00.000000000",
          "2014-02-11T08:00:00.000000000",
          "2014-02-11T08:30:00.000000000",
          "2014-02-11T09:00:00.000000000",
          "2014-02-11T09:30:00.000000000",
          "2014-02-11T10:00:00.000000000",
          "2014-02-11T10:30:00.000000000",
          "2014-02-11T11:00:00.000000000",
          "2014-02-11T11:30:00.000000000",
          "2014-02-11T12:00:00.000000000",
          "2014-02-11T12:30:00.000000000",
          "2014-02-11T13:00:00.000000000",
          "2014-02-11T13:30:00.000000000",
          "2014-02-11T14:00:00.000000000",
          "2014-02-11T14:30:00.000000000",
          "2014-02-11T15:00:00.000000000",
          "2014-02-11T15:30:00.000000000",
          "2014-02-11T16:00:00.000000000",
          "2014-02-11T16:30:00.000000000",
          "2014-02-11T17:00:00.000000000",
          "2014-02-11T17:30:00.000000000",
          "2014-02-11T18:00:00.000000000",
          "2014-02-11T18:30:00.000000000",
          "2014-02-11T19:00:00.000000000",
          "2014-02-11T19:30:00.000000000",
          "2014-02-11T20:00:00.000000000",
          "2014-02-11T20:30:00.000000000",
          "2014-02-11T21:00:00.000000000",
          "2014-02-11T21:30:00.000000000",
          "2014-02-11T22:00:00.000000000",
          "2014-02-11T22:30:00.000000000",
          "2014-02-11T23:00:00.000000000",
          "2014-02-11T23:30:00.000000000",
          "2014-02-12T00:00:00.000000000",
          "2014-02-12T00:30:00.000000000",
          "2014-02-12T01:00:00.000000000",
          "2014-02-12T01:30:00.000000000",
          "2014-02-12T02:00:00.000000000",
          "2014-02-12T02:30:00.000000000",
          "2014-02-12T03:00:00.000000000",
          "2014-02-12T03:30:00.000000000",
          "2014-02-12T04:00:00.000000000",
          "2014-02-12T04:30:00.000000000",
          "2014-02-12T05:00:00.000000000",
          "2014-02-12T05:30:00.000000000",
          "2014-02-12T06:00:00.000000000",
          "2014-02-12T06:30:00.000000000",
          "2014-02-12T07:00:00.000000000",
          "2014-02-12T07:30:00.000000000",
          "2014-02-12T08:00:00.000000000",
          "2014-02-12T08:30:00.000000000",
          "2014-02-12T09:00:00.000000000",
          "2014-02-12T09:30:00.000000000",
          "2014-02-12T10:00:00.000000000",
          "2014-02-12T10:30:00.000000000",
          "2014-02-12T11:00:00.000000000",
          "2014-02-12T11:30:00.000000000",
          "2014-02-12T12:00:00.000000000",
          "2014-02-12T12:30:00.000000000",
          "2014-02-12T13:00:00.000000000",
          "2014-02-12T13:30:00.000000000",
          "2014-02-12T14:00:00.000000000",
          "2014-02-12T14:30:00.000000000",
          "2014-02-12T15:00:00.000000000",
          "2014-02-12T15:30:00.000000000",
          "2014-02-12T16:00:00.000000000",
          "2014-02-12T16:30:00.000000000",
          "2014-02-12T17:00:00.000000000",
          "2014-02-12T17:30:00.000000000",
          "2014-02-12T18:00:00.000000000",
          "2014-02-12T18:30:00.000000000",
          "2014-02-12T19:00:00.000000000",
          "2014-02-12T19:30:00.000000000",
          "2014-02-12T20:00:00.000000000",
          "2014-02-12T20:30:00.000000000",
          "2014-02-12T21:00:00.000000000",
          "2014-02-12T21:30:00.000000000",
          "2014-02-12T22:00:00.000000000",
          "2014-02-12T22:30:00.000000000",
          "2014-02-12T23:00:00.000000000",
          "2014-02-12T23:30:00.000000000",
          "2014-02-13T00:00:00.000000000",
          "2014-02-13T00:30:00.000000000",
          "2014-02-13T01:00:00.000000000",
          "2014-02-13T01:30:00.000000000",
          "2014-02-13T02:00:00.000000000",
          "2014-02-13T02:30:00.000000000",
          "2014-02-13T03:00:00.000000000",
          "2014-02-13T03:30:00.000000000",
          "2014-02-13T04:00:00.000000000",
          "2014-02-13T04:30:00.000000000",
          "2014-02-13T05:00:00.000000000",
          "2014-02-13T05:30:00.000000000",
          "2014-02-13T06:00:00.000000000",
          "2014-02-13T06:30:00.000000000",
          "2014-02-13T07:00:00.000000000",
          "2014-02-13T07:30:00.000000000",
          "2014-02-13T08:00:00.000000000",
          "2014-02-13T08:30:00.000000000",
          "2014-02-13T09:00:00.000000000",
          "2014-02-13T09:30:00.000000000",
          "2014-02-13T10:00:00.000000000",
          "2014-02-13T10:30:00.000000000",
          "2014-02-13T11:00:00.000000000",
          "2014-02-13T11:30:00.000000000",
          "2014-02-13T12:00:00.000000000",
          "2014-02-13T12:30:00.000000000",
          "2014-02-13T13:00:00.000000000",
          "2014-02-13T13:30:00.000000000",
          "2014-02-13T14:00:00.000000000",
          "2014-02-13T14:30:00.000000000",
          "2014-02-13T15:00:00.000000000",
          "2014-02-13T15:30:00.000000000",
          "2014-02-13T16:00:00.000000000",
          "2014-02-13T16:30:00.000000000",
          "2014-02-13T17:00:00.000000000",
          "2014-02-13T17:30:00.000000000",
          "2014-02-13T18:00:00.000000000",
          "2014-02-13T18:30:00.000000000",
          "2014-02-13T19:00:00.000000000",
          "2014-02-13T19:30:00.000000000",
          "2014-02-13T20:00:00.000000000",
          "2014-02-13T20:30:00.000000000",
          "2014-02-13T21:00:00.000000000",
          "2014-02-13T21:30:00.000000000",
          "2014-02-13T22:00:00.000000000",
          "2014-02-13T22:30:00.000000000",
          "2014-02-13T23:00:00.000000000",
          "2014-02-13T23:30:00.000000000",
          "2014-02-14T00:00:00.000000000",
          "2014-02-14T00:30:00.000000000",
          "2014-02-14T01:00:00.000000000",
          "2014-02-14T01:30:00.000000000",
          "2014-02-14T02:00:00.000000000",
          "2014-02-14T02:30:00.000000000",
          "2014-02-14T03:00:00.000000000",
          "2014-02-14T03:30:00.000000000",
          "2014-02-14T04:00:00.000000000",
          "2014-02-14T04:30:00.000000000",
          "2014-02-14T05:00:00.000000000",
          "2014-02-14T05:30:00.000000000",
          "2014-02-14T06:00:00.000000000",
          "2014-02-14T06:30:00.000000000",
          "2014-02-14T07:00:00.000000000",
          "2014-02-14T07:30:00.000000000",
          "2014-02-14T08:00:00.000000000",
          "2014-02-14T08:30:00.000000000",
          "2014-02-14T09:00:00.000000000",
          "2014-02-14T09:30:00.000000000",
          "2014-02-14T10:00:00.000000000",
          "2014-02-14T10:30:00.000000000",
          "2014-02-14T11:00:00.000000000",
          "2014-02-14T11:30:00.000000000",
          "2014-02-14T12:00:00.000000000",
          "2014-02-14T12:30:00.000000000",
          "2014-02-14T13:00:00.000000000",
          "2014-02-14T13:30:00.000000000",
          "2014-02-14T14:00:00.000000000",
          "2014-02-14T14:30:00.000000000",
          "2014-02-14T15:00:00.000000000",
          "2014-02-14T15:30:00.000000000",
          "2014-02-14T16:00:00.000000000",
          "2014-02-14T16:30:00.000000000",
          "2014-02-14T17:00:00.000000000",
          "2014-02-14T17:30:00.000000000",
          "2014-02-14T18:00:00.000000000",
          "2014-02-14T18:30:00.000000000",
          "2014-02-14T19:00:00.000000000",
          "2014-02-14T19:30:00.000000000",
          "2014-02-14T20:00:00.000000000",
          "2014-02-14T20:30:00.000000000",
          "2014-02-14T21:00:00.000000000",
          "2014-02-14T21:30:00.000000000",
          "2014-02-14T22:00:00.000000000",
          "2014-02-14T22:30:00.000000000",
          "2014-02-14T23:00:00.000000000",
          "2014-02-14T23:30:00.000000000",
          "2014-02-15T00:00:00.000000000",
          "2014-02-15T00:30:00.000000000",
          "2014-02-15T01:00:00.000000000",
          "2014-02-15T01:30:00.000000000",
          "2014-02-15T02:00:00.000000000",
          "2014-02-15T02:30:00.000000000",
          "2014-02-15T03:00:00.000000000",
          "2014-02-15T03:30:00.000000000",
          "2014-02-15T04:00:00.000000000",
          "2014-02-15T04:30:00.000000000",
          "2014-02-15T05:00:00.000000000",
          "2014-02-15T05:30:00.000000000",
          "2014-02-15T06:00:00.000000000",
          "2014-02-15T06:30:00.000000000",
          "2014-02-15T07:00:00.000000000",
          "2014-02-15T07:30:00.000000000",
          "2014-02-15T08:00:00.000000000",
          "2014-02-15T08:30:00.000000000",
          "2014-02-15T09:00:00.000000000",
          "2014-02-15T09:30:00.000000000",
          "2014-02-15T10:00:00.000000000",
          "2014-02-15T10:30:00.000000000",
          "2014-02-15T11:00:00.000000000",
          "2014-02-15T11:30:00.000000000",
          "2014-02-15T12:00:00.000000000",
          "2014-02-15T12:30:00.000000000",
          "2014-02-15T13:00:00.000000000",
          "2014-02-15T13:30:00.000000000",
          "2014-02-15T14:00:00.000000000",
          "2014-02-15T14:30:00.000000000",
          "2014-02-15T15:00:00.000000000",
          "2014-02-15T15:30:00.000000000",
          "2014-02-15T16:00:00.000000000",
          "2014-02-15T16:30:00.000000000",
          "2014-02-15T17:00:00.000000000",
          "2014-02-15T17:30:00.000000000",
          "2014-02-15T18:00:00.000000000",
          "2014-02-15T18:30:00.000000000",
          "2014-02-15T19:00:00.000000000",
          "2014-02-15T19:30:00.000000000",
          "2014-02-15T20:00:00.000000000",
          "2014-02-15T20:30:00.000000000",
          "2014-02-15T21:00:00.000000000",
          "2014-02-15T21:30:00.000000000",
          "2014-02-15T22:00:00.000000000",
          "2014-02-15T22:30:00.000000000",
          "2014-02-15T23:00:00.000000000",
          "2014-02-15T23:30:00.000000000",
          "2014-02-16T00:00:00.000000000",
          "2014-02-16T00:30:00.000000000",
          "2014-02-16T01:00:00.000000000",
          "2014-02-16T01:30:00.000000000",
          "2014-02-16T02:00:00.000000000",
          "2014-02-16T02:30:00.000000000",
          "2014-02-16T03:00:00.000000000",
          "2014-02-16T03:30:00.000000000",
          "2014-02-16T04:00:00.000000000",
          "2014-02-16T04:30:00.000000000",
          "2014-02-16T05:00:00.000000000",
          "2014-02-16T05:30:00.000000000",
          "2014-02-16T06:00:00.000000000",
          "2014-02-16T06:30:00.000000000",
          "2014-02-16T07:00:00.000000000",
          "2014-02-16T07:30:00.000000000",
          "2014-02-16T08:00:00.000000000",
          "2014-02-16T08:30:00.000000000",
          "2014-02-16T09:00:00.000000000",
          "2014-02-16T09:30:00.000000000",
          "2014-02-16T10:00:00.000000000",
          "2014-02-16T10:30:00.000000000",
          "2014-02-16T11:00:00.000000000",
          "2014-02-16T11:30:00.000000000",
          "2014-02-16T12:00:00.000000000",
          "2014-02-16T12:30:00.000000000",
          "2014-02-16T13:00:00.000000000",
          "2014-02-16T13:30:00.000000000",
          "2014-02-16T14:00:00.000000000",
          "2014-02-16T14:30:00.000000000",
          "2014-02-16T15:00:00.000000000",
          "2014-02-16T15:30:00.000000000",
          "2014-02-16T16:00:00.000000000",
          "2014-02-16T16:30:00.000000000",
          "2014-02-16T17:00:00.000000000",
          "2014-02-16T17:30:00.000000000",
          "2014-02-16T18:00:00.000000000",
          "2014-02-16T18:30:00.000000000",
          "2014-02-16T19:00:00.000000000",
          "2014-02-16T19:30:00.000000000",
          "2014-02-16T20:00:00.000000000",
          "2014-02-16T20:30:00.000000000",
          "2014-02-16T21:00:00.000000000",
          "2014-02-16T21:30:00.000000000",
          "2014-02-16T22:00:00.000000000",
          "2014-02-16T22:30:00.000000000",
          "2014-02-16T23:00:00.000000000",
          "2014-02-16T23:30:00.000000000",
          "2014-02-17T00:00:00.000000000",
          "2014-02-17T00:30:00.000000000",
          "2014-02-17T01:00:00.000000000",
          "2014-02-17T01:30:00.000000000",
          "2014-02-17T02:00:00.000000000",
          "2014-02-17T02:30:00.000000000",
          "2014-02-17T03:00:00.000000000",
          "2014-02-17T03:30:00.000000000",
          "2014-02-17T04:00:00.000000000",
          "2014-02-17T04:30:00.000000000",
          "2014-02-17T05:00:00.000000000",
          "2014-02-17T05:30:00.000000000",
          "2014-02-17T06:00:00.000000000",
          "2014-02-17T06:30:00.000000000",
          "2014-02-17T07:00:00.000000000",
          "2014-02-17T07:30:00.000000000",
          "2014-02-17T08:00:00.000000000",
          "2014-02-17T08:30:00.000000000",
          "2014-02-17T09:00:00.000000000",
          "2014-02-17T09:30:00.000000000",
          "2014-02-17T10:00:00.000000000",
          "2014-02-17T10:30:00.000000000",
          "2014-02-17T11:00:00.000000000",
          "2014-02-17T11:30:00.000000000",
          "2014-02-17T12:00:00.000000000",
          "2014-02-17T12:30:00.000000000",
          "2014-02-17T13:00:00.000000000",
          "2014-02-17T13:30:00.000000000",
          "2014-02-17T14:00:00.000000000",
          "2014-02-17T14:30:00.000000000",
          "2014-02-17T15:00:00.000000000",
          "2014-02-17T15:30:00.000000000",
          "2014-02-17T16:00:00.000000000",
          "2014-02-17T16:30:00.000000000",
          "2014-02-17T17:00:00.000000000",
          "2014-02-17T17:30:00.000000000",
          "2014-02-17T18:00:00.000000000",
          "2014-02-17T18:30:00.000000000",
          "2014-02-17T19:00:00.000000000",
          "2014-02-17T19:30:00.000000000",
          "2014-02-17T20:00:00.000000000",
          "2014-02-17T20:30:00.000000000",
          "2014-02-17T21:00:00.000000000",
          "2014-02-17T21:30:00.000000000",
          "2014-02-17T22:00:00.000000000",
          "2014-02-17T22:30:00.000000000",
          "2014-02-17T23:00:00.000000000",
          "2014-02-17T23:30:00.000000000",
          "2014-02-18T00:00:00.000000000",
          "2014-02-18T00:30:00.000000000",
          "2014-02-18T01:00:00.000000000",
          "2014-02-18T01:30:00.000000000",
          "2014-02-18T02:00:00.000000000",
          "2014-02-18T02:30:00.000000000",
          "2014-02-18T03:00:00.000000000",
          "2014-02-18T03:30:00.000000000",
          "2014-02-18T04:00:00.000000000",
          "2014-02-18T04:30:00.000000000",
          "2014-02-18T05:00:00.000000000",
          "2014-02-18T05:30:00.000000000",
          "2014-02-18T06:00:00.000000000",
          "2014-02-18T06:30:00.000000000",
          "2014-02-18T07:00:00.000000000",
          "2014-02-18T07:30:00.000000000",
          "2014-02-18T08:00:00.000000000",
          "2014-02-18T08:30:00.000000000",
          "2014-02-18T09:00:00.000000000",
          "2014-02-18T09:30:00.000000000",
          "2014-02-18T10:00:00.000000000",
          "2014-02-18T10:30:00.000000000",
          "2014-02-18T11:00:00.000000000",
          "2014-02-18T11:30:00.000000000",
          "2014-02-18T12:00:00.000000000",
          "2014-02-18T12:30:00.000000000",
          "2014-02-18T13:00:00.000000000",
          "2014-02-18T13:30:00.000000000",
          "2014-02-18T14:00:00.000000000",
          "2014-02-18T14:30:00.000000000",
          "2014-02-18T15:00:00.000000000",
          "2014-02-18T15:30:00.000000000",
          "2014-02-18T16:00:00.000000000",
          "2014-02-18T16:30:00.000000000",
          "2014-02-18T17:00:00.000000000",
          "2014-02-18T17:30:00.000000000",
          "2014-02-18T18:00:00.000000000",
          "2014-02-18T18:30:00.000000000",
          "2014-02-18T19:00:00.000000000",
          "2014-02-18T19:30:00.000000000",
          "2014-02-18T20:00:00.000000000",
          "2014-02-18T20:30:00.000000000",
          "2014-02-18T21:00:00.000000000",
          "2014-02-18T21:30:00.000000000",
          "2014-02-18T22:00:00.000000000",
          "2014-02-18T22:30:00.000000000",
          "2014-02-18T23:00:00.000000000",
          "2014-02-18T23:30:00.000000000",
          "2014-02-19T00:00:00.000000000",
          "2014-02-19T00:30:00.000000000",
          "2014-02-19T01:00:00.000000000",
          "2014-02-19T01:30:00.000000000",
          "2014-02-19T02:00:00.000000000",
          "2014-02-19T02:30:00.000000000",
          "2014-02-19T03:00:00.000000000",
          "2014-02-19T03:30:00.000000000",
          "2014-02-19T04:00:00.000000000",
          "2014-02-19T04:30:00.000000000",
          "2014-02-19T05:00:00.000000000",
          "2014-02-19T05:30:00.000000000",
          "2014-02-19T06:00:00.000000000",
          "2014-02-19T06:30:00.000000000",
          "2014-02-19T07:00:00.000000000",
          "2014-02-19T07:30:00.000000000",
          "2014-02-19T08:00:00.000000000",
          "2014-02-19T08:30:00.000000000",
          "2014-02-19T09:00:00.000000000",
          "2014-02-19T09:30:00.000000000",
          "2014-02-19T10:00:00.000000000",
          "2014-02-19T10:30:00.000000000",
          "2014-02-19T11:00:00.000000000",
          "2014-02-19T11:30:00.000000000",
          "2014-02-19T12:00:00.000000000",
          "2014-02-19T12:30:00.000000000",
          "2014-02-19T13:00:00.000000000",
          "2014-02-19T13:30:00.000000000",
          "2014-02-19T14:00:00.000000000",
          "2014-02-19T14:30:00.000000000",
          "2014-02-19T15:00:00.000000000",
          "2014-02-19T15:30:00.000000000",
          "2014-02-19T16:00:00.000000000",
          "2014-02-19T16:30:00.000000000",
          "2014-02-19T17:00:00.000000000",
          "2014-02-19T17:30:00.000000000",
          "2014-02-19T18:00:00.000000000",
          "2014-02-19T18:30:00.000000000",
          "2014-02-19T19:00:00.000000000",
          "2014-02-19T19:30:00.000000000",
          "2014-02-19T20:00:00.000000000",
          "2014-02-19T20:30:00.000000000",
          "2014-02-19T21:00:00.000000000",
          "2014-02-19T21:30:00.000000000",
          "2014-02-19T22:00:00.000000000",
          "2014-02-19T22:30:00.000000000",
          "2014-02-19T23:00:00.000000000",
          "2014-02-19T23:30:00.000000000",
          "2014-02-20T00:00:00.000000000",
          "2014-02-20T00:30:00.000000000",
          "2014-02-20T01:00:00.000000000",
          "2014-02-20T01:30:00.000000000",
          "2014-02-20T02:00:00.000000000",
          "2014-02-20T02:30:00.000000000",
          "2014-02-20T03:00:00.000000000",
          "2014-02-20T03:30:00.000000000",
          "2014-02-20T04:00:00.000000000",
          "2014-02-20T04:30:00.000000000",
          "2014-02-20T05:00:00.000000000",
          "2014-02-20T05:30:00.000000000",
          "2014-02-20T06:00:00.000000000",
          "2014-02-20T06:30:00.000000000",
          "2014-02-20T07:00:00.000000000",
          "2014-02-20T07:30:00.000000000",
          "2014-02-20T08:00:00.000000000",
          "2014-02-20T08:30:00.000000000",
          "2014-02-20T09:00:00.000000000",
          "2014-02-20T09:30:00.000000000",
          "2014-02-20T10:00:00.000000000",
          "2014-02-20T10:30:00.000000000",
          "2014-02-20T11:00:00.000000000",
          "2014-02-20T11:30:00.000000000",
          "2014-02-20T12:00:00.000000000",
          "2014-02-20T12:30:00.000000000",
          "2014-02-20T13:00:00.000000000",
          "2014-02-20T13:30:00.000000000",
          "2014-02-20T14:00:00.000000000",
          "2014-02-20T14:30:00.000000000",
          "2014-02-20T15:00:00.000000000",
          "2014-02-20T15:30:00.000000000",
          "2014-02-20T16:00:00.000000000",
          "2014-02-20T16:30:00.000000000",
          "2014-02-20T17:00:00.000000000",
          "2014-02-20T17:30:00.000000000",
          "2014-02-20T18:00:00.000000000",
          "2014-02-20T18:30:00.000000000",
          "2014-02-20T19:00:00.000000000",
          "2014-02-20T19:30:00.000000000",
          "2014-02-20T20:00:00.000000000",
          "2014-02-20T20:30:00.000000000",
          "2014-02-20T21:00:00.000000000",
          "2014-02-20T21:30:00.000000000",
          "2014-02-20T22:00:00.000000000",
          "2014-02-20T22:30:00.000000000",
          "2014-02-20T23:00:00.000000000",
          "2014-02-20T23:30:00.000000000",
          "2014-02-21T00:00:00.000000000",
          "2014-02-21T00:30:00.000000000",
          "2014-02-21T01:00:00.000000000",
          "2014-02-21T01:30:00.000000000",
          "2014-02-21T02:00:00.000000000",
          "2014-02-21T02:30:00.000000000",
          "2014-02-21T03:00:00.000000000",
          "2014-02-21T03:30:00.000000000",
          "2014-02-21T04:00:00.000000000",
          "2014-02-21T04:30:00.000000000",
          "2014-02-21T05:00:00.000000000",
          "2014-02-21T05:30:00.000000000",
          "2014-02-21T06:00:00.000000000",
          "2014-02-21T06:30:00.000000000",
          "2014-02-21T07:00:00.000000000",
          "2014-02-21T07:30:00.000000000",
          "2014-02-21T08:00:00.000000000",
          "2014-02-21T08:30:00.000000000",
          "2014-02-21T09:00:00.000000000",
          "2014-02-21T09:30:00.000000000",
          "2014-02-21T10:00:00.000000000",
          "2014-02-21T10:30:00.000000000",
          "2014-02-21T11:00:00.000000000",
          "2014-02-21T11:30:00.000000000",
          "2014-02-21T12:00:00.000000000",
          "2014-02-21T12:30:00.000000000",
          "2014-02-21T13:00:00.000000000",
          "2014-02-21T13:30:00.000000000",
          "2014-02-21T14:00:00.000000000",
          "2014-02-21T14:30:00.000000000",
          "2014-02-21T15:00:00.000000000",
          "2014-02-21T15:30:00.000000000",
          "2014-02-21T16:00:00.000000000",
          "2014-02-21T16:30:00.000000000",
          "2014-02-21T17:00:00.000000000",
          "2014-02-21T17:30:00.000000000",
          "2014-02-21T18:00:00.000000000",
          "2014-02-21T18:30:00.000000000",
          "2014-02-21T19:00:00.000000000",
          "2014-02-21T19:30:00.000000000",
          "2014-02-21T20:00:00.000000000",
          "2014-02-21T20:30:00.000000000",
          "2014-02-21T21:00:00.000000000",
          "2014-02-21T21:30:00.000000000",
          "2014-02-21T22:00:00.000000000",
          "2014-02-21T22:30:00.000000000",
          "2014-02-21T23:00:00.000000000",
          "2014-02-21T23:30:00.000000000",
          "2014-02-22T00:00:00.000000000",
          "2014-02-22T00:30:00.000000000",
          "2014-02-22T01:00:00.000000000",
          "2014-02-22T01:30:00.000000000",
          "2014-02-22T02:00:00.000000000",
          "2014-02-22T02:30:00.000000000",
          "2014-02-22T03:00:00.000000000",
          "2014-02-22T03:30:00.000000000",
          "2014-02-22T04:00:00.000000000",
          "2014-02-22T04:30:00.000000000",
          "2014-02-22T05:00:00.000000000",
          "2014-02-22T05:30:00.000000000",
          "2014-02-22T06:00:00.000000000",
          "2014-02-22T06:30:00.000000000",
          "2014-02-22T07:00:00.000000000",
          "2014-02-22T07:30:00.000000000",
          "2014-02-22T08:00:00.000000000",
          "2014-02-22T08:30:00.000000000",
          "2014-02-22T09:00:00.000000000",
          "2014-02-22T09:30:00.000000000",
          "2014-02-22T10:00:00.000000000",
          "2014-02-22T10:30:00.000000000",
          "2014-02-22T11:00:00.000000000",
          "2014-02-22T11:30:00.000000000",
          "2014-02-22T12:00:00.000000000",
          "2014-02-22T12:30:00.000000000",
          "2014-02-22T13:00:00.000000000",
          "2014-02-22T13:30:00.000000000",
          "2014-02-22T14:00:00.000000000",
          "2014-02-22T14:30:00.000000000",
          "2014-02-22T15:00:00.000000000",
          "2014-02-22T15:30:00.000000000",
          "2014-02-22T16:00:00.000000000",
          "2014-02-22T16:30:00.000000000",
          "2014-02-22T17:00:00.000000000",
          "2014-02-22T17:30:00.000000000",
          "2014-02-22T18:00:00.000000000",
          "2014-02-22T18:30:00.000000000",
          "2014-02-22T19:00:00.000000000",
          "2014-02-22T19:30:00.000000000",
          "2014-02-22T20:00:00.000000000",
          "2014-02-22T20:30:00.000000000",
          "2014-02-22T21:00:00.000000000",
          "2014-02-22T21:30:00.000000000",
          "2014-02-22T22:00:00.000000000",
          "2014-02-22T22:30:00.000000000",
          "2014-02-22T23:00:00.000000000",
          "2014-02-22T23:30:00.000000000",
          "2014-02-23T00:00:00.000000000",
          "2014-02-23T00:30:00.000000000",
          "2014-02-23T01:00:00.000000000",
          "2014-02-23T01:30:00.000000000",
          "2014-02-23T02:00:00.000000000",
          "2014-02-23T02:30:00.000000000",
          "2014-02-23T03:00:00.000000000",
          "2014-02-23T03:30:00.000000000",
          "2014-02-23T04:00:00.000000000",
          "2014-02-23T04:30:00.000000000",
          "2014-02-23T05:00:00.000000000",
          "2014-02-23T05:30:00.000000000",
          "2014-02-23T06:00:00.000000000",
          "2014-02-23T06:30:00.000000000",
          "2014-02-23T07:00:00.000000000",
          "2014-02-23T07:30:00.000000000",
          "2014-02-23T08:00:00.000000000",
          "2014-02-23T08:30:00.000000000",
          "2014-02-23T09:00:00.000000000",
          "2014-02-23T09:30:00.000000000",
          "2014-02-23T10:00:00.000000000",
          "2014-02-23T10:30:00.000000000",
          "2014-02-23T11:00:00.000000000",
          "2014-02-23T11:30:00.000000000",
          "2014-02-23T12:00:00.000000000",
          "2014-02-23T12:30:00.000000000",
          "2014-02-23T13:00:00.000000000",
          "2014-02-23T13:30:00.000000000",
          "2014-02-23T14:00:00.000000000",
          "2014-02-23T14:30:00.000000000",
          "2014-02-23T15:00:00.000000000",
          "2014-02-23T15:30:00.000000000",
          "2014-02-23T16:00:00.000000000",
          "2014-02-23T16:30:00.000000000",
          "2014-02-23T17:00:00.000000000",
          "2014-02-23T17:30:00.000000000",
          "2014-02-23T18:00:00.000000000",
          "2014-02-23T18:30:00.000000000",
          "2014-02-23T19:00:00.000000000",
          "2014-02-23T19:30:00.000000000",
          "2014-02-23T20:00:00.000000000",
          "2014-02-23T20:30:00.000000000",
          "2014-02-23T21:00:00.000000000",
          "2014-02-23T21:30:00.000000000",
          "2014-02-23T22:00:00.000000000",
          "2014-02-23T22:30:00.000000000",
          "2014-02-23T23:00:00.000000000",
          "2014-02-23T23:30:00.000000000",
          "2014-02-24T00:00:00.000000000",
          "2014-02-24T00:30:00.000000000",
          "2014-02-24T01:00:00.000000000",
          "2014-02-24T01:30:00.000000000",
          "2014-02-24T02:00:00.000000000",
          "2014-02-24T02:30:00.000000000",
          "2014-02-24T03:00:00.000000000",
          "2014-02-24T03:30:00.000000000",
          "2014-02-24T04:00:00.000000000",
          "2014-02-24T04:30:00.000000000",
          "2014-02-24T05:00:00.000000000",
          "2014-02-24T05:30:00.000000000",
          "2014-02-24T06:00:00.000000000",
          "2014-02-24T06:30:00.000000000",
          "2014-02-24T07:00:00.000000000",
          "2014-02-24T07:30:00.000000000",
          "2014-02-24T08:00:00.000000000",
          "2014-02-24T08:30:00.000000000",
          "2014-02-24T09:00:00.000000000",
          "2014-02-24T09:30:00.000000000",
          "2014-02-24T10:00:00.000000000",
          "2014-02-24T10:30:00.000000000",
          "2014-02-24T11:00:00.000000000",
          "2014-02-24T11:30:00.000000000",
          "2014-02-24T12:00:00.000000000",
          "2014-02-24T12:30:00.000000000",
          "2014-02-24T13:00:00.000000000",
          "2014-02-24T13:30:00.000000000",
          "2014-02-24T14:00:00.000000000",
          "2014-02-24T14:30:00.000000000",
          "2014-02-24T15:00:00.000000000",
          "2014-02-24T15:30:00.000000000",
          "2014-02-24T16:00:00.000000000",
          "2014-02-24T16:30:00.000000000",
          "2014-02-24T17:00:00.000000000",
          "2014-02-24T17:30:00.000000000",
          "2014-02-24T18:00:00.000000000",
          "2014-02-24T18:30:00.000000000",
          "2014-02-24T19:00:00.000000000",
          "2014-02-24T19:30:00.000000000",
          "2014-02-24T20:00:00.000000000",
          "2014-02-24T20:30:00.000000000",
          "2014-02-24T21:00:00.000000000",
          "2014-02-24T21:30:00.000000000",
          "2014-02-24T22:00:00.000000000",
          "2014-02-24T22:30:00.000000000",
          "2014-02-24T23:00:00.000000000",
          "2014-02-24T23:30:00.000000000",
          "2014-02-25T00:00:00.000000000",
          "2014-02-25T00:30:00.000000000",
          "2014-02-25T01:00:00.000000000",
          "2014-02-25T01:30:00.000000000",
          "2014-02-25T02:00:00.000000000",
          "2014-02-25T02:30:00.000000000",
          "2014-02-25T03:00:00.000000000",
          "2014-02-25T03:30:00.000000000",
          "2014-02-25T04:00:00.000000000",
          "2014-02-25T04:30:00.000000000",
          "2014-02-25T05:00:00.000000000",
          "2014-02-25T05:30:00.000000000",
          "2014-02-25T06:00:00.000000000",
          "2014-02-25T06:30:00.000000000",
          "2014-02-25T07:00:00.000000000",
          "2014-02-25T07:30:00.000000000",
          "2014-02-25T08:00:00.000000000",
          "2014-02-25T08:30:00.000000000",
          "2014-02-25T09:00:00.000000000",
          "2014-02-25T09:30:00.000000000",
          "2014-02-25T10:00:00.000000000",
          "2014-02-25T10:30:00.000000000",
          "2014-02-25T11:00:00.000000000",
          "2014-02-25T11:30:00.000000000",
          "2014-02-25T12:00:00.000000000",
          "2014-02-25T12:30:00.000000000",
          "2014-02-25T13:00:00.000000000",
          "2014-02-25T13:30:00.000000000",
          "2014-02-25T14:00:00.000000000",
          "2014-02-25T14:30:00.000000000",
          "2014-02-25T15:00:00.000000000",
          "2014-02-25T15:30:00.000000000",
          "2014-02-25T16:00:00.000000000",
          "2014-02-25T16:30:00.000000000",
          "2014-02-25T17:00:00.000000000",
          "2014-02-25T17:30:00.000000000",
          "2014-02-25T18:00:00.000000000",
          "2014-02-25T18:30:00.000000000",
          "2014-02-25T19:00:00.000000000",
          "2014-02-25T19:30:00.000000000",
          "2014-02-25T20:00:00.000000000",
          "2014-02-25T20:30:00.000000000",
          "2014-02-25T21:00:00.000000000",
          "2014-02-25T21:30:00.000000000",
          "2014-02-25T22:00:00.000000000",
          "2014-02-25T22:30:00.000000000",
          "2014-02-25T23:00:00.000000000",
          "2014-02-25T23:30:00.000000000",
          "2014-02-26T00:00:00.000000000",
          "2014-02-26T00:30:00.000000000",
          "2014-02-26T01:00:00.000000000",
          "2014-02-26T01:30:00.000000000",
          "2014-02-26T02:00:00.000000000",
          "2014-02-26T02:30:00.000000000",
          "2014-02-26T03:00:00.000000000",
          "2014-02-26T03:30:00.000000000",
          "2014-02-26T04:00:00.000000000",
          "2014-02-26T04:30:00.000000000",
          "2014-02-26T05:00:00.000000000",
          "2014-02-26T05:30:00.000000000",
          "2014-02-26T06:00:00.000000000",
          "2014-02-26T06:30:00.000000000",
          "2014-02-26T07:00:00.000000000",
          "2014-02-26T07:30:00.000000000",
          "2014-02-26T08:00:00.000000000",
          "2014-02-26T08:30:00.000000000",
          "2014-02-26T09:00:00.000000000",
          "2014-02-26T09:30:00.000000000",
          "2014-02-26T10:00:00.000000000",
          "2014-02-26T10:30:00.000000000",
          "2014-02-26T11:00:00.000000000",
          "2014-02-26T11:30:00.000000000",
          "2014-02-26T12:00:00.000000000",
          "2014-02-26T12:30:00.000000000",
          "2014-02-26T13:00:00.000000000",
          "2014-02-26T13:30:00.000000000",
          "2014-02-26T14:00:00.000000000",
          "2014-02-26T14:30:00.000000000",
          "2014-02-26T15:00:00.000000000",
          "2014-02-26T15:30:00.000000000",
          "2014-02-26T16:00:00.000000000",
          "2014-02-26T16:30:00.000000000",
          "2014-02-26T17:00:00.000000000",
          "2014-02-26T17:30:00.000000000",
          "2014-02-26T18:00:00.000000000",
          "2014-02-26T18:30:00.000000000",
          "2014-02-26T19:00:00.000000000",
          "2014-02-26T19:30:00.000000000",
          "2014-02-26T20:00:00.000000000",
          "2014-02-26T20:30:00.000000000",
          "2014-02-26T21:00:00.000000000",
          "2014-02-26T21:30:00.000000000",
          "2014-02-26T22:00:00.000000000",
          "2014-02-26T22:30:00.000000000",
          "2014-02-26T23:00:00.000000000",
          "2014-02-26T23:30:00.000000000",
          "2014-02-27T00:00:00.000000000",
          "2014-02-27T00:30:00.000000000",
          "2014-02-27T01:00:00.000000000",
          "2014-02-27T01:30:00.000000000",
          "2014-02-27T02:00:00.000000000",
          "2014-02-27T02:30:00.000000000",
          "2014-02-27T03:00:00.000000000",
          "2014-02-27T03:30:00.000000000",
          "2014-02-27T04:00:00.000000000",
          "2014-02-27T04:30:00.000000000",
          "2014-02-27T05:00:00.000000000",
          "2014-02-27T05:30:00.000000000",
          "2014-02-27T06:00:00.000000000",
          "2014-02-27T06:30:00.000000000",
          "2014-02-27T07:00:00.000000000",
          "2014-02-27T07:30:00.000000000",
          "2014-02-27T08:00:00.000000000",
          "2014-02-27T08:30:00.000000000",
          "2014-02-27T09:00:00.000000000",
          "2014-02-27T09:30:00.000000000",
          "2014-02-27T10:00:00.000000000",
          "2014-02-27T10:30:00.000000000",
          "2014-02-27T11:00:00.000000000",
          "2014-02-27T11:30:00.000000000",
          "2014-02-27T12:00:00.000000000",
          "2014-02-27T12:30:00.000000000",
          "2014-02-27T13:00:00.000000000",
          "2014-02-27T13:30:00.000000000",
          "2014-02-27T14:00:00.000000000",
          "2014-02-27T14:30:00.000000000",
          "2014-02-27T15:00:00.000000000",
          "2014-02-27T15:30:00.000000000",
          "2014-02-27T16:00:00.000000000",
          "2014-02-27T16:30:00.000000000",
          "2014-02-27T17:00:00.000000000",
          "2014-02-27T17:30:00.000000000",
          "2014-02-27T18:00:00.000000000",
          "2014-02-27T18:30:00.000000000",
          "2014-02-27T19:00:00.000000000",
          "2014-02-27T19:30:00.000000000",
          "2014-02-27T20:00:00.000000000",
          "2014-02-27T20:30:00.000000000",
          "2014-02-27T21:00:00.000000000",
          "2014-02-27T21:30:00.000000000",
          "2014-02-27T22:00:00.000000000",
          "2014-02-27T22:30:00.000000000",
          "2014-02-27T23:00:00.000000000",
          "2014-02-27T23:30:00.000000000"
         ],
         "y": {
          "bdata": "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",
          "dtype": "f8"
         }
        },
        {
         "line": {
          "color": "rgba(217,95,2, 1)",
          "dash": "dash"
         },
         "mode": "lines",
         "name": "Lasso Regression",
         "type": "scatter",
         "x": [
          "2014-02-01T00:00:00.000000000",
          "2014-02-01T00:30:00.000000000",
          "2014-02-01T01:00:00.000000000",
          "2014-02-01T01:30:00.000000000",
          "2014-02-01T02:00:00.000000000",
          "2014-02-01T02:30:00.000000000",
          "2014-02-01T03:00:00.000000000",
          "2014-02-01T03:30:00.000000000",
          "2014-02-01T04:00:00.000000000",
          "2014-02-01T04:30:00.000000000",
          "2014-02-01T05:00:00.000000000",
          "2014-02-01T05:30:00.000000000",
          "2014-02-01T06:00:00.000000000",
          "2014-02-01T06:30:00.000000000",
          "2014-02-01T07:00:00.000000000",
          "2014-02-01T07:30:00.000000000",
          "2014-02-01T08:00:00.000000000",
          "2014-02-01T08:30:00.000000000",
          "2014-02-01T09:00:00.000000000",
          "2014-02-01T09:30:00.000000000",
          "2014-02-01T10:00:00.000000000",
          "2014-02-01T10:30:00.000000000",
          "2014-02-01T11:00:00.000000000",
          "2014-02-01T11:30:00.000000000",
          "2014-02-01T12:00:00.000000000",
          "2014-02-01T12:30:00.000000000",
          "2014-02-01T13:00:00.000000000",
          "2014-02-01T13:30:00.000000000",
          "2014-02-01T14:00:00.000000000",
          "2014-02-01T14:30:00.000000000",
          "2014-02-01T15:00:00.000000000",
          "2014-02-01T15:30:00.000000000",
          "2014-02-01T16:00:00.000000000",
          "2014-02-01T16:30:00.000000000",
          "2014-02-01T17:00:00.000000000",
          "2014-02-01T17:30:00.000000000",
          "2014-02-01T18:00:00.000000000",
          "2014-02-01T18:30:00.000000000",
          "2014-02-01T19:00:00.000000000",
          "2014-02-01T19:30:00.000000000",
          "2014-02-01T20:00:00.000000000",
          "2014-02-01T20:30:00.000000000",
          "2014-02-01T21:00:00.000000000",
          "2014-02-01T21:30:00.000000000",
          "2014-02-01T22:00:00.000000000",
          "2014-02-01T22:30:00.000000000",
          "2014-02-01T23:00:00.000000000",
          "2014-02-01T23:30:00.000000000",
          "2014-02-02T00:00:00.000000000",
          "2014-02-02T00:30:00.000000000",
          "2014-02-02T01:00:00.000000000",
          "2014-02-02T01:30:00.000000000",
          "2014-02-02T02:00:00.000000000",
          "2014-02-02T02:30:00.000000000",
          "2014-02-02T03:00:00.000000000",
          "2014-02-02T03:30:00.000000000",
          "2014-02-02T04:00:00.000000000",
          "2014-02-02T04:30:00.000000000",
          "2014-02-02T05:00:00.000000000",
          "2014-02-02T05:30:00.000000000",
          "2014-02-02T06:00:00.000000000",
          "2014-02-02T06:30:00.000000000",
          "2014-02-02T07:00:00.000000000",
          "2014-02-02T07:30:00.000000000",
          "2014-02-02T08:00:00.000000000",
          "2014-02-02T08:30:00.000000000",
          "2014-02-02T09:00:00.000000000",
          "2014-02-02T09:30:00.000000000",
          "2014-02-02T10:00:00.000000000",
          "2014-02-02T10:30:00.000000000",
          "2014-02-02T11:00:00.000000000",
          "2014-02-02T11:30:00.000000000",
          "2014-02-02T12:00:00.000000000",
          "2014-02-02T12:30:00.000000000",
          "2014-02-02T13:00:00.000000000",
          "2014-02-02T13:30:00.000000000",
          "2014-02-02T14:00:00.000000000",
          "2014-02-02T14:30:00.000000000",
          "2014-02-02T15:00:00.000000000",
          "2014-02-02T15:30:00.000000000",
          "2014-02-02T16:00:00.000000000",
          "2014-02-02T16:30:00.000000000",
          "2014-02-02T17:00:00.000000000",
          "2014-02-02T17:30:00.000000000",
          "2014-02-02T18:00:00.000000000",
          "2014-02-02T18:30:00.000000000",
          "2014-02-02T19:00:00.000000000",
          "2014-02-02T19:30:00.000000000",
          "2014-02-02T20:00:00.000000000",
          "2014-02-02T20:30:00.000000000",
          "2014-02-02T21:00:00.000000000",
          "2014-02-02T21:30:00.000000000",
          "2014-02-02T22:00:00.000000000",
          "2014-02-02T22:30:00.000000000",
          "2014-02-02T23:00:00.000000000",
          "2014-02-02T23:30:00.000000000",
          "2014-02-03T00:00:00.000000000",
          "2014-02-03T00:30:00.000000000",
          "2014-02-03T01:00:00.000000000",
          "2014-02-03T01:30:00.000000000",
          "2014-02-03T02:00:00.000000000",
          "2014-02-03T02:30:00.000000000",
          "2014-02-03T03:00:00.000000000",
          "2014-02-03T03:30:00.000000000",
          "2014-02-03T04:00:00.000000000",
          "2014-02-03T04:30:00.000000000",
          "2014-02-03T05:00:00.000000000",
          "2014-02-03T05:30:00.000000000",
          "2014-02-03T06:00:00.000000000",
          "2014-02-03T06:30:00.000000000",
          "2014-02-03T07:00:00.000000000",
          "2014-02-03T07:30:00.000000000",
          "2014-02-03T08:00:00.000000000",
          "2014-02-03T08:30:00.000000000",
          "2014-02-03T09:00:00.000000000",
          "2014-02-03T09:30:00.000000000",
          "2014-02-03T10:00:00.000000000",
          "2014-02-03T10:30:00.000000000",
          "2014-02-03T11:00:00.000000000",
          "2014-02-03T11:30:00.000000000",
          "2014-02-03T12:00:00.000000000",
          "2014-02-03T12:30:00.000000000",
          "2014-02-03T13:00:00.000000000",
          "2014-02-03T13:30:00.000000000",
          "2014-02-03T14:00:00.000000000",
          "2014-02-03T14:30:00.000000000",
          "2014-02-03T15:00:00.000000000",
          "2014-02-03T15:30:00.000000000",
          "2014-02-03T16:00:00.000000000",
          "2014-02-03T16:30:00.000000000",
          "2014-02-03T17:00:00.000000000",
          "2014-02-03T17:30:00.000000000",
          "2014-02-03T18:00:00.000000000",
          "2014-02-03T18:30:00.000000000",
          "2014-02-03T19:00:00.000000000",
          "2014-02-03T19:30:00.000000000",
          "2014-02-03T20:00:00.000000000",
          "2014-02-03T20:30:00.000000000",
          "2014-02-03T21:00:00.000000000",
          "2014-02-03T21:30:00.000000000",
          "2014-02-03T22:00:00.000000000",
          "2014-02-03T22:30:00.000000000",
          "2014-02-03T23:00:00.000000000",
          "2014-02-03T23:30:00.000000000",
          "2014-02-04T00:00:00.000000000",
          "2014-02-04T00:30:00.000000000",
          "2014-02-04T01:00:00.000000000",
          "2014-02-04T01:30:00.000000000",
          "2014-02-04T02:00:00.000000000",
          "2014-02-04T02:30:00.000000000",
          "2014-02-04T03:00:00.000000000",
          "2014-02-04T03:30:00.000000000",
          "2014-02-04T04:00:00.000000000",
          "2014-02-04T04:30:00.000000000",
          "2014-02-04T05:00:00.000000000",
          "2014-02-04T05:30:00.000000000",
          "2014-02-04T06:00:00.000000000",
          "2014-02-04T06:30:00.000000000",
          "2014-02-04T07:00:00.000000000",
          "2014-02-04T07:30:00.000000000",
          "2014-02-04T08:00:00.000000000",
          "2014-02-04T08:30:00.000000000",
          "2014-02-04T09:00:00.000000000",
          "2014-02-04T09:30:00.000000000",
          "2014-02-04T10:00:00.000000000",
          "2014-02-04T10:30:00.000000000",
          "2014-02-04T11:00:00.000000000",
          "2014-02-04T11:30:00.000000000",
          "2014-02-04T12:00:00.000000000",
          "2014-02-04T12:30:00.000000000",
          "2014-02-04T13:00:00.000000000",
          "2014-02-04T13:30:00.000000000",
          "2014-02-04T14:00:00.000000000",
          "2014-02-04T14:30:00.000000000",
          "2014-02-04T15:00:00.000000000",
          "2014-02-04T15:30:00.000000000",
          "2014-02-04T16:00:00.000000000",
          "2014-02-04T16:30:00.000000000",
          "2014-02-04T17:00:00.000000000",
          "2014-02-04T17:30:00.000000000",
          "2014-02-04T18:00:00.000000000",
          "2014-02-04T18:30:00.000000000",
          "2014-02-04T19:00:00.000000000",
          "2014-02-04T19:30:00.000000000",
          "2014-02-04T20:00:00.000000000",
          "2014-02-04T20:30:00.000000000",
          "2014-02-04T21:00:00.000000000",
          "2014-02-04T21:30:00.000000000",
          "2014-02-04T22:00:00.000000000",
          "2014-02-04T22:30:00.000000000",
          "2014-02-04T23:00:00.000000000",
          "2014-02-04T23:30:00.000000000",
          "2014-02-05T00:00:00.000000000",
          "2014-02-05T00:30:00.000000000",
          "2014-02-05T01:00:00.000000000",
          "2014-02-05T01:30:00.000000000",
          "2014-02-05T02:00:00.000000000",
          "2014-02-05T02:30:00.000000000",
          "2014-02-05T03:00:00.000000000",
          "2014-02-05T03:30:00.000000000",
          "2014-02-05T04:00:00.000000000",
          "2014-02-05T04:30:00.000000000",
          "2014-02-05T05:00:00.000000000",
          "2014-02-05T05:30:00.000000000",
          "2014-02-05T06:00:00.000000000",
          "2014-02-05T06:30:00.000000000",
          "2014-02-05T07:00:00.000000000",
          "2014-02-05T07:30:00.000000000",
          "2014-02-05T08:00:00.000000000",
          "2014-02-05T08:30:00.000000000",
          "2014-02-05T09:00:00.000000000",
          "2014-02-05T09:30:00.000000000",
          "2014-02-05T10:00:00.000000000",
          "2014-02-05T10:30:00.000000000",
          "2014-02-05T11:00:00.000000000",
          "2014-02-05T11:30:00.000000000",
          "2014-02-05T12:00:00.000000000",
          "2014-02-05T12:30:00.000000000",
          "2014-02-05T13:00:00.000000000",
          "2014-02-05T13:30:00.000000000",
          "2014-02-05T14:00:00.000000000",
          "2014-02-05T14:30:00.000000000",
          "2014-02-05T15:00:00.000000000",
          "2014-02-05T15:30:00.000000000",
          "2014-02-05T16:00:00.000000000",
          "2014-02-05T16:30:00.000000000",
          "2014-02-05T17:00:00.000000000",
          "2014-02-05T17:30:00.000000000",
          "2014-02-05T18:00:00.000000000",
          "2014-02-05T18:30:00.000000000",
          "2014-02-05T19:00:00.000000000",
          "2014-02-05T19:30:00.000000000",
          "2014-02-05T20:00:00.000000000",
          "2014-02-05T20:30:00.000000000",
          "2014-02-05T21:00:00.000000000",
          "2014-02-05T21:30:00.000000000",
          "2014-02-05T22:00:00.000000000",
          "2014-02-05T22:30:00.000000000",
          "2014-02-05T23:00:00.000000000",
          "2014-02-05T23:30:00.000000000",
          "2014-02-06T00:00:00.000000000",
          "2014-02-06T00:30:00.000000000",
          "2014-02-06T01:00:00.000000000",
          "2014-02-06T01:30:00.000000000",
          "2014-02-06T02:00:00.000000000",
          "2014-02-06T02:30:00.000000000",
          "2014-02-06T03:00:00.000000000",
          "2014-02-06T03:30:00.000000000",
          "2014-02-06T04:00:00.000000000",
          "2014-02-06T04:30:00.000000000",
          "2014-02-06T05:00:00.000000000",
          "2014-02-06T05:30:00.000000000",
          "2014-02-06T06:00:00.000000000",
          "2014-02-06T06:30:00.000000000",
          "2014-02-06T07:00:00.000000000",
          "2014-02-06T07:30:00.000000000",
          "2014-02-06T08:00:00.000000000",
          "2014-02-06T08:30:00.000000000",
          "2014-02-06T09:00:00.000000000",
          "2014-02-06T09:30:00.000000000",
          "2014-02-06T10:00:00.000000000",
          "2014-02-06T10:30:00.000000000",
          "2014-02-06T11:00:00.000000000",
          "2014-02-06T11:30:00.000000000",
          "2014-02-06T12:00:00.000000000",
          "2014-02-06T12:30:00.000000000",
          "2014-02-06T13:00:00.000000000",
          "2014-02-06T13:30:00.000000000",
          "2014-02-06T14:00:00.000000000",
          "2014-02-06T14:30:00.000000000",
          "2014-02-06T15:00:00.000000000",
          "2014-02-06T15:30:00.000000000",
          "2014-02-06T16:00:00.000000000",
          "2014-02-06T16:30:00.000000000",
          "2014-02-06T17:00:00.000000000",
          "2014-02-06T17:30:00.000000000",
          "2014-02-06T18:00:00.000000000",
          "2014-02-06T18:30:00.000000000",
          "2014-02-06T19:00:00.000000000",
          "2014-02-06T19:30:00.000000000",
          "2014-02-06T20:00:00.000000000",
          "2014-02-06T20:30:00.000000000",
          "2014-02-06T21:00:00.000000000",
          "2014-02-06T21:30:00.000000000",
          "2014-02-06T22:00:00.000000000",
          "2014-02-06T22:30:00.000000000",
          "2014-02-06T23:00:00.000000000",
          "2014-02-06T23:30:00.000000000",
          "2014-02-07T00:00:00.000000000",
          "2014-02-07T00:30:00.000000000",
          "2014-02-07T01:00:00.000000000",
          "2014-02-07T01:30:00.000000000",
          "2014-02-07T02:00:00.000000000",
          "2014-02-07T02:30:00.000000000",
          "2014-02-07T03:00:00.000000000",
          "2014-02-07T03:30:00.000000000",
          "2014-02-07T04:00:00.000000000",
          "2014-02-07T04:30:00.000000000",
          "2014-02-07T05:00:00.000000000",
          "2014-02-07T05:30:00.000000000",
          "2014-02-07T06:00:00.000000000",
          "2014-02-07T06:30:00.000000000",
          "2014-02-07T07:00:00.000000000",
          "2014-02-07T07:30:00.000000000",
          "2014-02-07T08:00:00.000000000",
          "2014-02-07T08:30:00.000000000",
          "2014-02-07T09:00:00.000000000",
          "2014-02-07T09:30:00.000000000",
          "2014-02-07T10:00:00.000000000",
          "2014-02-07T10:30:00.000000000",
          "2014-02-07T11:00:00.000000000",
          "2014-02-07T11:30:00.000000000",
          "2014-02-07T12:00:00.000000000",
          "2014-02-07T12:30:00.000000000",
          "2014-02-07T13:00:00.000000000",
          "2014-02-07T13:30:00.000000000",
          "2014-02-07T14:00:00.000000000",
          "2014-02-07T14:30:00.000000000",
          "2014-02-07T15:00:00.000000000",
          "2014-02-07T15:30:00.000000000",
          "2014-02-07T16:00:00.000000000",
          "2014-02-07T16:30:00.000000000",
          "2014-02-07T17:00:00.000000000",
          "2014-02-07T17:30:00.000000000",
          "2014-02-07T18:00:00.000000000",
          "2014-02-07T18:30:00.000000000",
          "2014-02-07T19:00:00.000000000",
          "2014-02-07T19:30:00.000000000",
          "2014-02-07T20:00:00.000000000",
          "2014-02-07T20:30:00.000000000",
          "2014-02-07T21:00:00.000000000",
          "2014-02-07T21:30:00.000000000",
          "2014-02-07T22:00:00.000000000",
          "2014-02-07T22:30:00.000000000",
          "2014-02-07T23:00:00.000000000",
          "2014-02-07T23:30:00.000000000",
          "2014-02-08T00:00:00.000000000",
          "2014-02-08T00:30:00.000000000",
          "2014-02-08T01:00:00.000000000",
          "2014-02-08T01:30:00.000000000",
          "2014-02-08T02:00:00.000000000",
          "2014-02-08T02:30:00.000000000",
          "2014-02-08T03:00:00.000000000",
          "2014-02-08T03:30:00.000000000",
          "2014-02-08T04:00:00.000000000",
          "2014-02-08T04:30:00.000000000",
          "2014-02-08T05:00:00.000000000",
          "2014-02-08T05:30:00.000000000",
          "2014-02-08T06:00:00.000000000",
          "2014-02-08T06:30:00.000000000",
          "2014-02-08T07:00:00.000000000",
          "2014-02-08T07:30:00.000000000",
          "2014-02-08T08:00:00.000000000",
          "2014-02-08T08:30:00.000000000",
          "2014-02-08T09:00:00.000000000",
          "2014-02-08T09:30:00.000000000",
          "2014-02-08T10:00:00.000000000",
          "2014-02-08T10:30:00.000000000",
          "2014-02-08T11:00:00.000000000",
          "2014-02-08T11:30:00.000000000",
          "2014-02-08T12:00:00.000000000",
          "2014-02-08T12:30:00.000000000",
          "2014-02-08T13:00:00.000000000",
          "2014-02-08T13:30:00.000000000",
          "2014-02-08T14:00:00.000000000",
          "2014-02-08T14:30:00.000000000",
          "2014-02-08T15:00:00.000000000",
          "2014-02-08T15:30:00.000000000",
          "2014-02-08T16:00:00.000000000",
          "2014-02-08T16:30:00.000000000",
          "2014-02-08T17:00:00.000000000",
          "2014-02-08T17:30:00.000000000",
          "2014-02-08T18:00:00.000000000",
          "2014-02-08T18:30:00.000000000",
          "2014-02-08T19:00:00.000000000",
          "2014-02-08T19:30:00.000000000",
          "2014-02-08T20:00:00.000000000",
          "2014-02-08T20:30:00.000000000",
          "2014-02-08T21:00:00.000000000",
          "2014-02-08T21:30:00.000000000",
          "2014-02-08T22:00:00.000000000",
          "2014-02-08T22:30:00.000000000",
          "2014-02-08T23:00:00.000000000",
          "2014-02-08T23:30:00.000000000",
          "2014-02-09T00:00:00.000000000",
          "2014-02-09T00:30:00.000000000",
          "2014-02-09T01:00:00.000000000",
          "2014-02-09T01:30:00.000000000",
          "2014-02-09T02:00:00.000000000",
          "2014-02-09T02:30:00.000000000",
          "2014-02-09T03:00:00.000000000",
          "2014-02-09T03:30:00.000000000",
          "2014-02-09T04:00:00.000000000",
          "2014-02-09T04:30:00.000000000",
          "2014-02-09T05:00:00.000000000",
          "2014-02-09T05:30:00.000000000",
          "2014-02-09T06:00:00.000000000",
          "2014-02-09T06:30:00.000000000",
          "2014-02-09T07:00:00.000000000",
          "2014-02-09T07:30:00.000000000",
          "2014-02-09T08:00:00.000000000",
          "2014-02-09T08:30:00.000000000",
          "2014-02-09T09:00:00.000000000",
          "2014-02-09T09:30:00.000000000",
          "2014-02-09T10:00:00.000000000",
          "2014-02-09T10:30:00.000000000",
          "2014-02-09T11:00:00.000000000",
          "2014-02-09T11:30:00.000000000",
          "2014-02-09T12:00:00.000000000",
          "2014-02-09T12:30:00.000000000",
          "2014-02-09T13:00:00.000000000",
          "2014-02-09T13:30:00.000000000",
          "2014-02-09T14:00:00.000000000",
          "2014-02-09T14:30:00.000000000",
          "2014-02-09T15:00:00.000000000",
          "2014-02-09T15:30:00.000000000",
          "2014-02-09T16:00:00.000000000",
          "2014-02-09T16:30:00.000000000",
          "2014-02-09T17:00:00.000000000",
          "2014-02-09T17:30:00.000000000",
          "2014-02-09T18:00:00.000000000",
          "2014-02-09T18:30:00.000000000",
          "2014-02-09T19:00:00.000000000",
          "2014-02-09T19:30:00.000000000",
          "2014-02-09T20:00:00.000000000",
          "2014-02-09T20:30:00.000000000",
          "2014-02-09T21:00:00.000000000",
          "2014-02-09T21:30:00.000000000",
          "2014-02-09T22:00:00.000000000",
          "2014-02-09T22:30:00.000000000",
          "2014-02-09T23:00:00.000000000",
          "2014-02-09T23:30:00.000000000",
          "2014-02-10T00:00:00.000000000",
          "2014-02-10T00:30:00.000000000",
          "2014-02-10T01:00:00.000000000",
          "2014-02-10T01:30:00.000000000",
          "2014-02-10T02:00:00.000000000",
          "2014-02-10T02:30:00.000000000",
          "2014-02-10T03:00:00.000000000",
          "2014-02-10T03:30:00.000000000",
          "2014-02-10T04:00:00.000000000",
          "2014-02-10T04:30:00.000000000",
          "2014-02-10T05:00:00.000000000",
          "2014-02-10T05:30:00.000000000",
          "2014-02-10T06:00:00.000000000",
          "2014-02-10T06:30:00.000000000",
          "2014-02-10T07:00:00.000000000",
          "2014-02-10T07:30:00.000000000",
          "2014-02-10T08:00:00.000000000",
          "2014-02-10T08:30:00.000000000",
          "2014-02-10T09:00:00.000000000",
          "2014-02-10T09:30:00.000000000",
          "2014-02-10T10:00:00.000000000",
          "2014-02-10T10:30:00.000000000",
          "2014-02-10T11:00:00.000000000",
          "2014-02-10T11:30:00.000000000",
          "2014-02-10T12:00:00.000000000",
          "2014-02-10T12:30:00.000000000",
          "2014-02-10T13:00:00.000000000",
          "2014-02-10T13:30:00.000000000",
          "2014-02-10T14:00:00.000000000",
          "2014-02-10T14:30:00.000000000",
          "2014-02-10T15:00:00.000000000",
          "2014-02-10T15:30:00.000000000",
          "2014-02-10T16:00:00.000000000",
          "2014-02-10T16:30:00.000000000",
          "2014-02-10T17:00:00.000000000",
          "2014-02-10T17:30:00.000000000",
          "2014-02-10T18:00:00.000000000",
          "2014-02-10T18:30:00.000000000",
          "2014-02-10T19:00:00.000000000",
          "2014-02-10T19:30:00.000000000",
          "2014-02-10T20:00:00.000000000",
          "2014-02-10T20:30:00.000000000",
          "2014-02-10T21:00:00.000000000",
          "2014-02-10T21:30:00.000000000",
          "2014-02-10T22:00:00.000000000",
          "2014-02-10T22:30:00.000000000",
          "2014-02-10T23:00:00.000000000",
          "2014-02-10T23:30:00.000000000",
          "2014-02-11T00:00:00.000000000",
          "2014-02-11T00:30:00.000000000",
          "2014-02-11T01:00:00.000000000",
          "2014-02-11T01:30:00.000000000",
          "2014-02-11T02:00:00.000000000",
          "2014-02-11T02:30:00.000000000",
          "2014-02-11T03:00:00.000000000",
          "2014-02-11T03:30:00.000000000",
          "2014-02-11T04:00:00.000000000",
          "2014-02-11T04:30:00.000000000",
          "2014-02-11T05:00:00.000000000",
          "2014-02-11T05:30:00.000000000",
          "2014-02-11T06:00:00.000000000",
          "2014-02-11T06:30:00.000000000",
          "2014-02-11T07:00:00.000000000",
          "2014-02-11T07:30:00.000000000",
          "2014-02-11T08:00:00.000000000",
          "2014-02-11T08:30:00.000000000",
          "2014-02-11T09:00:00.000000000",
          "2014-02-11T09:30:00.000000000",
          "2014-02-11T10:00:00.000000000",
          "2014-02-11T10:30:00.000000000",
          "2014-02-11T11:00:00.000000000",
          "2014-02-11T11:30:00.000000000",
          "2014-02-11T12:00:00.000000000",
          "2014-02-11T12:30:00.000000000",
          "2014-02-11T13:00:00.000000000",
          "2014-02-11T13:30:00.000000000",
          "2014-02-11T14:00:00.000000000",
          "2014-02-11T14:30:00.000000000",
          "2014-02-11T15:00:00.000000000",
          "2014-02-11T15:30:00.000000000",
          "2014-02-11T16:00:00.000000000",
          "2014-02-11T16:30:00.000000000",
          "2014-02-11T17:00:00.000000000",
          "2014-02-11T17:30:00.000000000",
          "2014-02-11T18:00:00.000000000",
          "2014-02-11T18:30:00.000000000",
          "2014-02-11T19:00:00.000000000",
          "2014-02-11T19:30:00.000000000",
          "2014-02-11T20:00:00.000000000",
          "2014-02-11T20:30:00.000000000",
          "2014-02-11T21:00:00.000000000",
          "2014-02-11T21:30:00.000000000",
          "2014-02-11T22:00:00.000000000",
          "2014-02-11T22:30:00.000000000",
          "2014-02-11T23:00:00.000000000",
          "2014-02-11T23:30:00.000000000",
          "2014-02-12T00:00:00.000000000",
          "2014-02-12T00:30:00.000000000",
          "2014-02-12T01:00:00.000000000",
          "2014-02-12T01:30:00.000000000",
          "2014-02-12T02:00:00.000000000",
          "2014-02-12T02:30:00.000000000",
          "2014-02-12T03:00:00.000000000",
          "2014-02-12T03:30:00.000000000",
          "2014-02-12T04:00:00.000000000",
          "2014-02-12T04:30:00.000000000",
          "2014-02-12T05:00:00.000000000",
          "2014-02-12T05:30:00.000000000",
          "2014-02-12T06:00:00.000000000",
          "2014-02-12T06:30:00.000000000",
          "2014-02-12T07:00:00.000000000",
          "2014-02-12T07:30:00.000000000",
          "2014-02-12T08:00:00.000000000",
          "2014-02-12T08:30:00.000000000",
          "2014-02-12T09:00:00.000000000",
          "2014-02-12T09:30:00.000000000",
          "2014-02-12T10:00:00.000000000",
          "2014-02-12T10:30:00.000000000",
          "2014-02-12T11:00:00.000000000",
          "2014-02-12T11:30:00.000000000",
          "2014-02-12T12:00:00.000000000",
          "2014-02-12T12:30:00.000000000",
          "2014-02-12T13:00:00.000000000",
          "2014-02-12T13:30:00.000000000",
          "2014-02-12T14:00:00.000000000",
          "2014-02-12T14:30:00.000000000",
          "2014-02-12T15:00:00.000000000",
          "2014-02-12T15:30:00.000000000",
          "2014-02-12T16:00:00.000000000",
          "2014-02-12T16:30:00.000000000",
          "2014-02-12T17:00:00.000000000",
          "2014-02-12T17:30:00.000000000",
          "2014-02-12T18:00:00.000000000",
          "2014-02-12T18:30:00.000000000",
          "2014-02-12T19:00:00.000000000",
          "2014-02-12T19:30:00.000000000",
          "2014-02-12T20:00:00.000000000",
          "2014-02-12T20:30:00.000000000",
          "2014-02-12T21:00:00.000000000",
          "2014-02-12T21:30:00.000000000",
          "2014-02-12T22:00:00.000000000",
          "2014-02-12T22:30:00.000000000",
          "2014-02-12T23:00:00.000000000",
          "2014-02-12T23:30:00.000000000",
          "2014-02-13T00:00:00.000000000",
          "2014-02-13T00:30:00.000000000",
          "2014-02-13T01:00:00.000000000",
          "2014-02-13T01:30:00.000000000",
          "2014-02-13T02:00:00.000000000",
          "2014-02-13T02:30:00.000000000",
          "2014-02-13T03:00:00.000000000",
          "2014-02-13T03:30:00.000000000",
          "2014-02-13T04:00:00.000000000",
          "2014-02-13T04:30:00.000000000",
          "2014-02-13T05:00:00.000000000",
          "2014-02-13T05:30:00.000000000",
          "2014-02-13T06:00:00.000000000",
          "2014-02-13T06:30:00.000000000",
          "2014-02-13T07:00:00.000000000",
          "2014-02-13T07:30:00.000000000",
          "2014-02-13T08:00:00.000000000",
          "2014-02-13T08:30:00.000000000",
          "2014-02-13T09:00:00.000000000",
          "2014-02-13T09:30:00.000000000",
          "2014-02-13T10:00:00.000000000",
          "2014-02-13T10:30:00.000000000",
          "2014-02-13T11:00:00.000000000",
          "2014-02-13T11:30:00.000000000",
          "2014-02-13T12:00:00.000000000",
          "2014-02-13T12:30:00.000000000",
          "2014-02-13T13:00:00.000000000",
          "2014-02-13T13:30:00.000000000",
          "2014-02-13T14:00:00.000000000",
          "2014-02-13T14:30:00.000000000",
          "2014-02-13T15:00:00.000000000",
          "2014-02-13T15:30:00.000000000",
          "2014-02-13T16:00:00.000000000",
          "2014-02-13T16:30:00.000000000",
          "2014-02-13T17:00:00.000000000",
          "2014-02-13T17:30:00.000000000",
          "2014-02-13T18:00:00.000000000",
          "2014-02-13T18:30:00.000000000",
          "2014-02-13T19:00:00.000000000",
          "2014-02-13T19:30:00.000000000",
          "2014-02-13T20:00:00.000000000",
          "2014-02-13T20:30:00.000000000",
          "2014-02-13T21:00:00.000000000",
          "2014-02-13T21:30:00.000000000",
          "2014-02-13T22:00:00.000000000",
          "2014-02-13T22:30:00.000000000",
          "2014-02-13T23:00:00.000000000",
          "2014-02-13T23:30:00.000000000",
          "2014-02-14T00:00:00.000000000",
          "2014-02-14T00:30:00.000000000",
          "2014-02-14T01:00:00.000000000",
          "2014-02-14T01:30:00.000000000",
          "2014-02-14T02:00:00.000000000",
          "2014-02-14T02:30:00.000000000",
          "2014-02-14T03:00:00.000000000",
          "2014-02-14T03:30:00.000000000",
          "2014-02-14T04:00:00.000000000",
          "2014-02-14T04:30:00.000000000",
          "2014-02-14T05:00:00.000000000",
          "2014-02-14T05:30:00.000000000",
          "2014-02-14T06:00:00.000000000",
          "2014-02-14T06:30:00.000000000",
          "2014-02-14T07:00:00.000000000",
          "2014-02-14T07:30:00.000000000",
          "2014-02-14T08:00:00.000000000",
          "2014-02-14T08:30:00.000000000",
          "2014-02-14T09:00:00.000000000",
          "2014-02-14T09:30:00.000000000",
          "2014-02-14T10:00:00.000000000",
          "2014-02-14T10:30:00.000000000",
          "2014-02-14T11:00:00.000000000",
          "2014-02-14T11:30:00.000000000",
          "2014-02-14T12:00:00.000000000",
          "2014-02-14T12:30:00.000000000",
          "2014-02-14T13:00:00.000000000",
          "2014-02-14T13:30:00.000000000",
          "2014-02-14T14:00:00.000000000",
          "2014-02-14T14:30:00.000000000",
          "2014-02-14T15:00:00.000000000",
          "2014-02-14T15:30:00.000000000",
          "2014-02-14T16:00:00.000000000",
          "2014-02-14T16:30:00.000000000",
          "2014-02-14T17:00:00.000000000",
          "2014-02-14T17:30:00.000000000",
          "2014-02-14T18:00:00.000000000",
          "2014-02-14T18:30:00.000000000",
          "2014-02-14T19:00:00.000000000",
          "2014-02-14T19:30:00.000000000",
          "2014-02-14T20:00:00.000000000",
          "2014-02-14T20:30:00.000000000",
          "2014-02-14T21:00:00.000000000",
          "2014-02-14T21:30:00.000000000",
          "2014-02-14T22:00:00.000000000",
          "2014-02-14T22:30:00.000000000",
          "2014-02-14T23:00:00.000000000",
          "2014-02-14T23:30:00.000000000",
          "2014-02-15T00:00:00.000000000",
          "2014-02-15T00:30:00.000000000",
          "2014-02-15T01:00:00.000000000",
          "2014-02-15T01:30:00.000000000",
          "2014-02-15T02:00:00.000000000",
          "2014-02-15T02:30:00.000000000",
          "2014-02-15T03:00:00.000000000",
          "2014-02-15T03:30:00.000000000",
          "2014-02-15T04:00:00.000000000",
          "2014-02-15T04:30:00.000000000",
          "2014-02-15T05:00:00.000000000",
          "2014-02-15T05:30:00.000000000",
          "2014-02-15T06:00:00.000000000",
          "2014-02-15T06:30:00.000000000",
          "2014-02-15T07:00:00.000000000",
          "2014-02-15T07:30:00.000000000",
          "2014-02-15T08:00:00.000000000",
          "2014-02-15T08:30:00.000000000",
          "2014-02-15T09:00:00.000000000",
          "2014-02-15T09:30:00.000000000",
          "2014-02-15T10:00:00.000000000",
          "2014-02-15T10:30:00.000000000",
          "2014-02-15T11:00:00.000000000",
          "2014-02-15T11:30:00.000000000",
          "2014-02-15T12:00:00.000000000",
          "2014-02-15T12:30:00.000000000",
          "2014-02-15T13:00:00.000000000",
          "2014-02-15T13:30:00.000000000",
          "2014-02-15T14:00:00.000000000",
          "2014-02-15T14:30:00.000000000",
          "2014-02-15T15:00:00.000000000",
          "2014-02-15T15:30:00.000000000",
          "2014-02-15T16:00:00.000000000",
          "2014-02-15T16:30:00.000000000",
          "2014-02-15T17:00:00.000000000",
          "2014-02-15T17:30:00.000000000",
          "2014-02-15T18:00:00.000000000",
          "2014-02-15T18:30:00.000000000",
          "2014-02-15T19:00:00.000000000",
          "2014-02-15T19:30:00.000000000",
          "2014-02-15T20:00:00.000000000",
          "2014-02-15T20:30:00.000000000",
          "2014-02-15T21:00:00.000000000",
          "2014-02-15T21:30:00.000000000",
          "2014-02-15T22:00:00.000000000",
          "2014-02-15T22:30:00.000000000",
          "2014-02-15T23:00:00.000000000",
          "2014-02-15T23:30:00.000000000",
          "2014-02-16T00:00:00.000000000",
          "2014-02-16T00:30:00.000000000",
          "2014-02-16T01:00:00.000000000",
          "2014-02-16T01:30:00.000000000",
          "2014-02-16T02:00:00.000000000",
          "2014-02-16T02:30:00.000000000",
          "2014-02-16T03:00:00.000000000",
          "2014-02-16T03:30:00.000000000",
          "2014-02-16T04:00:00.000000000",
          "2014-02-16T04:30:00.000000000",
          "2014-02-16T05:00:00.000000000",
          "2014-02-16T05:30:00.000000000",
          "2014-02-16T06:00:00.000000000",
          "2014-02-16T06:30:00.000000000",
          "2014-02-16T07:00:00.000000000",
          "2014-02-16T07:30:00.000000000",
          "2014-02-16T08:00:00.000000000",
          "2014-02-16T08:30:00.000000000",
          "2014-02-16T09:00:00.000000000",
          "2014-02-16T09:30:00.000000000",
          "2014-02-16T10:00:00.000000000",
          "2014-02-16T10:30:00.000000000",
          "2014-02-16T11:00:00.000000000",
          "2014-02-16T11:30:00.000000000",
          "2014-02-16T12:00:00.000000000",
          "2014-02-16T12:30:00.000000000",
          "2014-02-16T13:00:00.000000000",
          "2014-02-16T13:30:00.000000000",
          "2014-02-16T14:00:00.000000000",
          "2014-02-16T14:30:00.000000000",
          "2014-02-16T15:00:00.000000000",
          "2014-02-16T15:30:00.000000000",
          "2014-02-16T16:00:00.000000000",
          "2014-02-16T16:30:00.000000000",
          "2014-02-16T17:00:00.000000000",
          "2014-02-16T17:30:00.000000000",
          "2014-02-16T18:00:00.000000000",
          "2014-02-16T18:30:00.000000000",
          "2014-02-16T19:00:00.000000000",
          "2014-02-16T19:30:00.000000000",
          "2014-02-16T20:00:00.000000000",
          "2014-02-16T20:30:00.000000000",
          "2014-02-16T21:00:00.000000000",
          "2014-02-16T21:30:00.000000000",
          "2014-02-16T22:00:00.000000000",
          "2014-02-16T22:30:00.000000000",
          "2014-02-16T23:00:00.000000000",
          "2014-02-16T23:30:00.000000000",
          "2014-02-17T00:00:00.000000000",
          "2014-02-17T00:30:00.000000000",
          "2014-02-17T01:00:00.000000000",
          "2014-02-17T01:30:00.000000000",
          "2014-02-17T02:00:00.000000000",
          "2014-02-17T02:30:00.000000000",
          "2014-02-17T03:00:00.000000000",
          "2014-02-17T03:30:00.000000000",
          "2014-02-17T04:00:00.000000000",
          "2014-02-17T04:30:00.000000000",
          "2014-02-17T05:00:00.000000000",
          "2014-02-17T05:30:00.000000000",
          "2014-02-17T06:00:00.000000000",
          "2014-02-17T06:30:00.000000000",
          "2014-02-17T07:00:00.000000000",
          "2014-02-17T07:30:00.000000000",
          "2014-02-17T08:00:00.000000000",
          "2014-02-17T08:30:00.000000000",
          "2014-02-17T09:00:00.000000000",
          "2014-02-17T09:30:00.000000000",
          "2014-02-17T10:00:00.000000000",
          "2014-02-17T10:30:00.000000000",
          "2014-02-17T11:00:00.000000000",
          "2014-02-17T11:30:00.000000000",
          "2014-02-17T12:00:00.000000000",
          "2014-02-17T12:30:00.000000000",
          "2014-02-17T13:00:00.000000000",
          "2014-02-17T13:30:00.000000000",
          "2014-02-17T14:00:00.000000000",
          "2014-02-17T14:30:00.000000000",
          "2014-02-17T15:00:00.000000000",
          "2014-02-17T15:30:00.000000000",
          "2014-02-17T16:00:00.000000000",
          "2014-02-17T16:30:00.000000000",
          "2014-02-17T17:00:00.000000000",
          "2014-02-17T17:30:00.000000000",
          "2014-02-17T18:00:00.000000000",
          "2014-02-17T18:30:00.000000000",
          "2014-02-17T19:00:00.000000000",
          "2014-02-17T19:30:00.000000000",
          "2014-02-17T20:00:00.000000000",
          "2014-02-17T20:30:00.000000000",
          "2014-02-17T21:00:00.000000000",
          "2014-02-17T21:30:00.000000000",
          "2014-02-17T22:00:00.000000000",
          "2014-02-17T22:30:00.000000000",
          "2014-02-17T23:00:00.000000000",
          "2014-02-17T23:30:00.000000000",
          "2014-02-18T00:00:00.000000000",
          "2014-02-18T00:30:00.000000000",
          "2014-02-18T01:00:00.000000000",
          "2014-02-18T01:30:00.000000000",
          "2014-02-18T02:00:00.000000000",
          "2014-02-18T02:30:00.000000000",
          "2014-02-18T03:00:00.000000000",
          "2014-02-18T03:30:00.000000000",
          "2014-02-18T04:00:00.000000000",
          "2014-02-18T04:30:00.000000000",
          "2014-02-18T05:00:00.000000000",
          "2014-02-18T05:30:00.000000000",
          "2014-02-18T06:00:00.000000000",
          "2014-02-18T06:30:00.000000000",
          "2014-02-18T07:00:00.000000000",
          "2014-02-18T07:30:00.000000000",
          "2014-02-18T08:00:00.000000000",
          "2014-02-18T08:30:00.000000000",
          "2014-02-18T09:00:00.000000000",
          "2014-02-18T09:30:00.000000000",
          "2014-02-18T10:00:00.000000000",
          "2014-02-18T10:30:00.000000000",
          "2014-02-18T11:00:00.000000000",
          "2014-02-18T11:30:00.000000000",
          "2014-02-18T12:00:00.000000000",
          "2014-02-18T12:30:00.000000000",
          "2014-02-18T13:00:00.000000000",
          "2014-02-18T13:30:00.000000000",
          "2014-02-18T14:00:00.000000000",
          "2014-02-18T14:30:00.000000000",
          "2014-02-18T15:00:00.000000000",
          "2014-02-18T15:30:00.000000000",
          "2014-02-18T16:00:00.000000000",
          "2014-02-18T16:30:00.000000000",
          "2014-02-18T17:00:00.000000000",
          "2014-02-18T17:30:00.000000000",
          "2014-02-18T18:00:00.000000000",
          "2014-02-18T18:30:00.000000000",
          "2014-02-18T19:00:00.000000000",
          "2014-02-18T19:30:00.000000000",
          "2014-02-18T20:00:00.000000000",
          "2014-02-18T20:30:00.000000000",
          "2014-02-18T21:00:00.000000000",
          "2014-02-18T21:30:00.000000000",
          "2014-02-18T22:00:00.000000000",
          "2014-02-18T22:30:00.000000000",
          "2014-02-18T23:00:00.000000000",
          "2014-02-18T23:30:00.000000000",
          "2014-02-19T00:00:00.000000000",
          "2014-02-19T00:30:00.000000000",
          "2014-02-19T01:00:00.000000000",
          "2014-02-19T01:30:00.000000000",
          "2014-02-19T02:00:00.000000000",
          "2014-02-19T02:30:00.000000000",
          "2014-02-19T03:00:00.000000000",
          "2014-02-19T03:30:00.000000000",
          "2014-02-19T04:00:00.000000000",
          "2014-02-19T04:30:00.000000000",
          "2014-02-19T05:00:00.000000000",
          "2014-02-19T05:30:00.000000000",
          "2014-02-19T06:00:00.000000000",
          "2014-02-19T06:30:00.000000000",
          "2014-02-19T07:00:00.000000000",
          "2014-02-19T07:30:00.000000000",
          "2014-02-19T08:00:00.000000000",
          "2014-02-19T08:30:00.000000000",
          "2014-02-19T09:00:00.000000000",
          "2014-02-19T09:30:00.000000000",
          "2014-02-19T10:00:00.000000000",
          "2014-02-19T10:30:00.000000000",
          "2014-02-19T11:00:00.000000000",
          "2014-02-19T11:30:00.000000000",
          "2014-02-19T12:00:00.000000000",
          "2014-02-19T12:30:00.000000000",
          "2014-02-19T13:00:00.000000000",
          "2014-02-19T13:30:00.000000000",
          "2014-02-19T14:00:00.000000000",
          "2014-02-19T14:30:00.000000000",
          "2014-02-19T15:00:00.000000000",
          "2014-02-19T15:30:00.000000000",
          "2014-02-19T16:00:00.000000000",
          "2014-02-19T16:30:00.000000000",
          "2014-02-19T17:00:00.000000000",
          "2014-02-19T17:30:00.000000000",
          "2014-02-19T18:00:00.000000000",
          "2014-02-19T18:30:00.000000000",
          "2014-02-19T19:00:00.000000000",
          "2014-02-19T19:30:00.000000000",
          "2014-02-19T20:00:00.000000000",
          "2014-02-19T20:30:00.000000000",
          "2014-02-19T21:00:00.000000000",
          "2014-02-19T21:30:00.000000000",
          "2014-02-19T22:00:00.000000000",
          "2014-02-19T22:30:00.000000000",
          "2014-02-19T23:00:00.000000000",
          "2014-02-19T23:30:00.000000000",
          "2014-02-20T00:00:00.000000000",
          "2014-02-20T00:30:00.000000000",
          "2014-02-20T01:00:00.000000000",
          "2014-02-20T01:30:00.000000000",
          "2014-02-20T02:00:00.000000000",
          "2014-02-20T02:30:00.000000000",
          "2014-02-20T03:00:00.000000000",
          "2014-02-20T03:30:00.000000000",
          "2014-02-20T04:00:00.000000000",
          "2014-02-20T04:30:00.000000000",
          "2014-02-20T05:00:00.000000000",
          "2014-02-20T05:30:00.000000000",
          "2014-02-20T06:00:00.000000000",
          "2014-02-20T06:30:00.000000000",
          "2014-02-20T07:00:00.000000000",
          "2014-02-20T07:30:00.000000000",
          "2014-02-20T08:00:00.000000000",
          "2014-02-20T08:30:00.000000000",
          "2014-02-20T09:00:00.000000000",
          "2014-02-20T09:30:00.000000000",
          "2014-02-20T10:00:00.000000000",
          "2014-02-20T10:30:00.000000000",
          "2014-02-20T11:00:00.000000000",
          "2014-02-20T11:30:00.000000000",
          "2014-02-20T12:00:00.000000000",
          "2014-02-20T12:30:00.000000000",
          "2014-02-20T13:00:00.000000000",
          "2014-02-20T13:30:00.000000000",
          "2014-02-20T14:00:00.000000000",
          "2014-02-20T14:30:00.000000000",
          "2014-02-20T15:00:00.000000000",
          "2014-02-20T15:30:00.000000000",
          "2014-02-20T16:00:00.000000000",
          "2014-02-20T16:30:00.000000000",
          "2014-02-20T17:00:00.000000000",
          "2014-02-20T17:30:00.000000000",
          "2014-02-20T18:00:00.000000000",
          "2014-02-20T18:30:00.000000000",
          "2014-02-20T19:00:00.000000000",
          "2014-02-20T19:30:00.000000000",
          "2014-02-20T20:00:00.000000000",
          "2014-02-20T20:30:00.000000000",
          "2014-02-20T21:00:00.000000000",
          "2014-02-20T21:30:00.000000000",
          "2014-02-20T22:00:00.000000000",
          "2014-02-20T22:30:00.000000000",
          "2014-02-20T23:00:00.000000000",
          "2014-02-20T23:30:00.000000000",
          "2014-02-21T00:00:00.000000000",
          "2014-02-21T00:30:00.000000000",
          "2014-02-21T01:00:00.000000000",
          "2014-02-21T01:30:00.000000000",
          "2014-02-21T02:00:00.000000000",
          "2014-02-21T02:30:00.000000000",
          "2014-02-21T03:00:00.000000000",
          "2014-02-21T03:30:00.000000000",
          "2014-02-21T04:00:00.000000000",
          "2014-02-21T04:30:00.000000000",
          "2014-02-21T05:00:00.000000000",
          "2014-02-21T05:30:00.000000000",
          "2014-02-21T06:00:00.000000000",
          "2014-02-21T06:30:00.000000000",
          "2014-02-21T07:00:00.000000000",
          "2014-02-21T07:30:00.000000000",
          "2014-02-21T08:00:00.000000000",
          "2014-02-21T08:30:00.000000000",
          "2014-02-21T09:00:00.000000000",
          "2014-02-21T09:30:00.000000000",
          "2014-02-21T10:00:00.000000000",
          "2014-02-21T10:30:00.000000000",
          "2014-02-21T11:00:00.000000000",
          "2014-02-21T11:30:00.000000000",
          "2014-02-21T12:00:00.000000000",
          "2014-02-21T12:30:00.000000000",
          "2014-02-21T13:00:00.000000000",
          "2014-02-21T13:30:00.000000000",
          "2014-02-21T14:00:00.000000000",
          "2014-02-21T14:30:00.000000000",
          "2014-02-21T15:00:00.000000000",
          "2014-02-21T15:30:00.000000000",
          "2014-02-21T16:00:00.000000000",
          "2014-02-21T16:30:00.000000000",
          "2014-02-21T17:00:00.000000000",
          "2014-02-21T17:30:00.000000000",
          "2014-02-21T18:00:00.000000000",
          "2014-02-21T18:30:00.000000000",
          "2014-02-21T19:00:00.000000000",
          "2014-02-21T19:30:00.000000000",
          "2014-02-21T20:00:00.000000000",
          "2014-02-21T20:30:00.000000000",
          "2014-02-21T21:00:00.000000000",
          "2014-02-21T21:30:00.000000000",
          "2014-02-21T22:00:00.000000000",
          "2014-02-21T22:30:00.000000000",
          "2014-02-21T23:00:00.000000000",
          "2014-02-21T23:30:00.000000000",
          "2014-02-22T00:00:00.000000000",
          "2014-02-22T00:30:00.000000000",
          "2014-02-22T01:00:00.000000000",
          "2014-02-22T01:30:00.000000000",
          "2014-02-22T02:00:00.000000000",
          "2014-02-22T02:30:00.000000000",
          "2014-02-22T03:00:00.000000000",
          "2014-02-22T03:30:00.000000000",
          "2014-02-22T04:00:00.000000000",
          "2014-02-22T04:30:00.000000000",
          "2014-02-22T05:00:00.000000000",
          "2014-02-22T05:30:00.000000000",
          "2014-02-22T06:00:00.000000000",
          "2014-02-22T06:30:00.000000000",
          "2014-02-22T07:00:00.000000000",
          "2014-02-22T07:30:00.000000000",
          "2014-02-22T08:00:00.000000000",
          "2014-02-22T08:30:00.000000000",
          "2014-02-22T09:00:00.000000000",
          "2014-02-22T09:30:00.000000000",
          "2014-02-22T10:00:00.000000000",
          "2014-02-22T10:30:00.000000000",
          "2014-02-22T11:00:00.000000000",
          "2014-02-22T11:30:00.000000000",
          "2014-02-22T12:00:00.000000000",
          "2014-02-22T12:30:00.000000000",
          "2014-02-22T13:00:00.000000000",
          "2014-02-22T13:30:00.000000000",
          "2014-02-22T14:00:00.000000000",
          "2014-02-22T14:30:00.000000000",
          "2014-02-22T15:00:00.000000000",
          "2014-02-22T15:30:00.000000000",
          "2014-02-22T16:00:00.000000000",
          "2014-02-22T16:30:00.000000000",
          "2014-02-22T17:00:00.000000000",
          "2014-02-22T17:30:00.000000000",
          "2014-02-22T18:00:00.000000000",
          "2014-02-22T18:30:00.000000000",
          "2014-02-22T19:00:00.000000000",
          "2014-02-22T19:30:00.000000000",
          "2014-02-22T20:00:00.000000000",
          "2014-02-22T20:30:00.000000000",
          "2014-02-22T21:00:00.000000000",
          "2014-02-22T21:30:00.000000000",
          "2014-02-22T22:00:00.000000000",
          "2014-02-22T22:30:00.000000000",
          "2014-02-22T23:00:00.000000000",
          "2014-02-22T23:30:00.000000000",
          "2014-02-23T00:00:00.000000000",
          "2014-02-23T00:30:00.000000000",
          "2014-02-23T01:00:00.000000000",
          "2014-02-23T01:30:00.000000000",
          "2014-02-23T02:00:00.000000000",
          "2014-02-23T02:30:00.000000000",
          "2014-02-23T03:00:00.000000000",
          "2014-02-23T03:30:00.000000000",
          "2014-02-23T04:00:00.000000000",
          "2014-02-23T04:30:00.000000000",
          "2014-02-23T05:00:00.000000000",
          "2014-02-23T05:30:00.000000000",
          "2014-02-23T06:00:00.000000000",
          "2014-02-23T06:30:00.000000000",
          "2014-02-23T07:00:00.000000000",
          "2014-02-23T07:30:00.000000000",
          "2014-02-23T08:00:00.000000000",
          "2014-02-23T08:30:00.000000000",
          "2014-02-23T09:00:00.000000000",
          "2014-02-23T09:30:00.000000000",
          "2014-02-23T10:00:00.000000000",
          "2014-02-23T10:30:00.000000000",
          "2014-02-23T11:00:00.000000000",
          "2014-02-23T11:30:00.000000000",
          "2014-02-23T12:00:00.000000000",
          "2014-02-23T12:30:00.000000000",
          "2014-02-23T13:00:00.000000000",
          "2014-02-23T13:30:00.000000000",
          "2014-02-23T14:00:00.000000000",
          "2014-02-23T14:30:00.000000000",
          "2014-02-23T15:00:00.000000000",
          "2014-02-23T15:30:00.000000000",
          "2014-02-23T16:00:00.000000000",
          "2014-02-23T16:30:00.000000000",
          "2014-02-23T17:00:00.000000000",
          "2014-02-23T17:30:00.000000000",
          "2014-02-23T18:00:00.000000000",
          "2014-02-23T18:30:00.000000000",
          "2014-02-23T19:00:00.000000000",
          "2014-02-23T19:30:00.000000000",
          "2014-02-23T20:00:00.000000000",
          "2014-02-23T20:30:00.000000000",
          "2014-02-23T21:00:00.000000000",
          "2014-02-23T21:30:00.000000000",
          "2014-02-23T22:00:00.000000000",
          "2014-02-23T22:30:00.000000000",
          "2014-02-23T23:00:00.000000000",
          "2014-02-23T23:30:00.000000000",
          "2014-02-24T00:00:00.000000000",
          "2014-02-24T00:30:00.000000000",
          "2014-02-24T01:00:00.000000000",
          "2014-02-24T01:30:00.000000000",
          "2014-02-24T02:00:00.000000000",
          "2014-02-24T02:30:00.000000000",
          "2014-02-24T03:00:00.000000000",
          "2014-02-24T03:30:00.000000000",
          "2014-02-24T04:00:00.000000000",
          "2014-02-24T04:30:00.000000000",
          "2014-02-24T05:00:00.000000000",
          "2014-02-24T05:30:00.000000000",
          "2014-02-24T06:00:00.000000000",
          "2014-02-24T06:30:00.000000000",
          "2014-02-24T07:00:00.000000000",
          "2014-02-24T07:30:00.000000000",
          "2014-02-24T08:00:00.000000000",
          "2014-02-24T08:30:00.000000000",
          "2014-02-24T09:00:00.000000000",
          "2014-02-24T09:30:00.000000000",
          "2014-02-24T10:00:00.000000000",
          "2014-02-24T10:30:00.000000000",
          "2014-02-24T11:00:00.000000000",
          "2014-02-24T11:30:00.000000000",
          "2014-02-24T12:00:00.000000000",
          "2014-02-24T12:30:00.000000000",
          "2014-02-24T13:00:00.000000000",
          "2014-02-24T13:30:00.000000000",
          "2014-02-24T14:00:00.000000000",
          "2014-02-24T14:30:00.000000000",
          "2014-02-24T15:00:00.000000000",
          "2014-02-24T15:30:00.000000000",
          "2014-02-24T16:00:00.000000000",
          "2014-02-24T16:30:00.000000000",
          "2014-02-24T17:00:00.000000000",
          "2014-02-24T17:30:00.000000000",
          "2014-02-24T18:00:00.000000000",
          "2014-02-24T18:30:00.000000000",
          "2014-02-24T19:00:00.000000000",
          "2014-02-24T19:30:00.000000000",
          "2014-02-24T20:00:00.000000000",
          "2014-02-24T20:30:00.000000000",
          "2014-02-24T21:00:00.000000000",
          "2014-02-24T21:30:00.000000000",
          "2014-02-24T22:00:00.000000000",
          "2014-02-24T22:30:00.000000000",
          "2014-02-24T23:00:00.000000000",
          "2014-02-24T23:30:00.000000000",
          "2014-02-25T00:00:00.000000000",
          "2014-02-25T00:30:00.000000000",
          "2014-02-25T01:00:00.000000000",
          "2014-02-25T01:30:00.000000000",
          "2014-02-25T02:00:00.000000000",
          "2014-02-25T02:30:00.000000000",
          "2014-02-25T03:00:00.000000000",
          "2014-02-25T03:30:00.000000000",
          "2014-02-25T04:00:00.000000000",
          "2014-02-25T04:30:00.000000000",
          "2014-02-25T05:00:00.000000000",
          "2014-02-25T05:30:00.000000000",
          "2014-02-25T06:00:00.000000000",
          "2014-02-25T06:30:00.000000000",
          "2014-02-25T07:00:00.000000000",
          "2014-02-25T07:30:00.000000000",
          "2014-02-25T08:00:00.000000000",
          "2014-02-25T08:30:00.000000000",
          "2014-02-25T09:00:00.000000000",
          "2014-02-25T09:30:00.000000000",
          "2014-02-25T10:00:00.000000000",
          "2014-02-25T10:30:00.000000000",
          "2014-02-25T11:00:00.000000000",
          "2014-02-25T11:30:00.000000000",
          "2014-02-25T12:00:00.000000000",
          "2014-02-25T12:30:00.000000000",
          "2014-02-25T13:00:00.000000000",
          "2014-02-25T13:30:00.000000000",
          "2014-02-25T14:00:00.000000000",
          "2014-02-25T14:30:00.000000000",
          "2014-02-25T15:00:00.000000000",
          "2014-02-25T15:30:00.000000000",
          "2014-02-25T16:00:00.000000000",
          "2014-02-25T16:30:00.000000000",
          "2014-02-25T17:00:00.000000000",
          "2014-02-25T17:30:00.000000000",
          "2014-02-25T18:00:00.000000000",
          "2014-02-25T18:30:00.000000000",
          "2014-02-25T19:00:00.000000000",
          "2014-02-25T19:30:00.000000000",
          "2014-02-25T20:00:00.000000000",
          "2014-02-25T20:30:00.000000000",
          "2014-02-25T21:00:00.000000000",
          "2014-02-25T21:30:00.000000000",
          "2014-02-25T22:00:00.000000000",
          "2014-02-25T22:30:00.000000000",
          "2014-02-25T23:00:00.000000000",
          "2014-02-25T23:30:00.000000000",
          "2014-02-26T00:00:00.000000000",
          "2014-02-26T00:30:00.000000000",
          "2014-02-26T01:00:00.000000000",
          "2014-02-26T01:30:00.000000000",
          "2014-02-26T02:00:00.000000000",
          "2014-02-26T02:30:00.000000000",
          "2014-02-26T03:00:00.000000000",
          "2014-02-26T03:30:00.000000000",
          "2014-02-26T04:00:00.000000000",
          "2014-02-26T04:30:00.000000000",
          "2014-02-26T05:00:00.000000000",
          "2014-02-26T05:30:00.000000000",
          "2014-02-26T06:00:00.000000000",
          "2014-02-26T06:30:00.000000000",
          "2014-02-26T07:00:00.000000000",
          "2014-02-26T07:30:00.000000000",
          "2014-02-26T08:00:00.000000000",
          "2014-02-26T08:30:00.000000000",
          "2014-02-26T09:00:00.000000000",
          "2014-02-26T09:30:00.000000000",
          "2014-02-26T10:00:00.000000000",
          "2014-02-26T10:30:00.000000000",
          "2014-02-26T11:00:00.000000000",
          "2014-02-26T11:30:00.000000000",
          "2014-02-26T12:00:00.000000000",
          "2014-02-26T12:30:00.000000000",
          "2014-02-26T13:00:00.000000000",
          "2014-02-26T13:30:00.000000000",
          "2014-02-26T14:00:00.000000000",
          "2014-02-26T14:30:00.000000000",
          "2014-02-26T15:00:00.000000000",
          "2014-02-26T15:30:00.000000000",
          "2014-02-26T16:00:00.000000000",
          "2014-02-26T16:30:00.000000000",
          "2014-02-26T17:00:00.000000000",
          "2014-02-26T17:30:00.000000000",
          "2014-02-26T18:00:00.000000000",
          "2014-02-26T18:30:00.000000000",
          "2014-02-26T19:00:00.000000000",
          "2014-02-26T19:30:00.000000000",
          "2014-02-26T20:00:00.000000000",
          "2014-02-26T20:30:00.000000000",
          "2014-02-26T21:00:00.000000000",
          "2014-02-26T21:30:00.000000000",
          "2014-02-26T22:00:00.000000000",
          "2014-02-26T22:30:00.000000000",
          "2014-02-26T23:00:00.000000000",
          "2014-02-26T23:30:00.000000000",
          "2014-02-27T00:00:00.000000000",
          "2014-02-27T00:30:00.000000000",
          "2014-02-27T01:00:00.000000000",
          "2014-02-27T01:30:00.000000000",
          "2014-02-27T02:00:00.000000000",
          "2014-02-27T02:30:00.000000000",
          "2014-02-27T03:00:00.000000000",
          "2014-02-27T03:30:00.000000000",
          "2014-02-27T04:00:00.000000000",
          "2014-02-27T04:30:00.000000000",
          "2014-02-27T05:00:00.000000000",
          "2014-02-27T05:30:00.000000000",
          "2014-02-27T06:00:00.000000000",
          "2014-02-27T06:30:00.000000000",
          "2014-02-27T07:00:00.000000000",
          "2014-02-27T07:30:00.000000000",
          "2014-02-27T08:00:00.000000000",
          "2014-02-27T08:30:00.000000000",
          "2014-02-27T09:00:00.000000000",
          "2014-02-27T09:30:00.000000000",
          "2014-02-27T10:00:00.000000000",
          "2014-02-27T10:30:00.000000000",
          "2014-02-27T11:00:00.000000000",
          "2014-02-27T11:30:00.000000000",
          "2014-02-27T12:00:00.000000000",
          "2014-02-27T12:30:00.000000000",
          "2014-02-27T13:00:00.000000000",
          "2014-02-27T13:30:00.000000000",
          "2014-02-27T14:00:00.000000000",
          "2014-02-27T14:30:00.000000000",
          "2014-02-27T15:00:00.000000000",
          "2014-02-27T15:30:00.000000000",
          "2014-02-27T16:00:00.000000000",
          "2014-02-27T16:30:00.000000000",
          "2014-02-27T17:00:00.000000000",
          "2014-02-27T17:30:00.000000000",
          "2014-02-27T18:00:00.000000000",
          "2014-02-27T18:30:00.000000000",
          "2014-02-27T19:00:00.000000000",
          "2014-02-27T19:30:00.000000000",
          "2014-02-27T20:00:00.000000000",
          "2014-02-27T20:30:00.000000000",
          "2014-02-27T21:00:00.000000000",
          "2014-02-27T21:30:00.000000000",
          "2014-02-27T22:00:00.000000000",
          "2014-02-27T22:30:00.000000000",
          "2014-02-27T23:00:00.000000000",
          "2014-02-27T23:30:00.000000000"
         ],
         "y": {
          "bdata": "40ThM0BTvD/PzImJil63PyzNs77HIbg/zA9/TvlVrz8GEXulu7qvP1Z/fxgS36g//IvU4Vgirj+W6t6m9XqmP2Zioha8I6w/yCOY0OtHpj+cHitLwgeoP7B0jMTx2aE/GsCm08Msqz/g0CbSw5KkP3CSSPYrmrA/VcQ0qqvjqD+xuMGLXrO0P27hNeyUeLY/2zPX91FTwz9kUjl5wm/AP9bK7woX/L8/AVtvsX/cuz95hrVHM+fPP6S0Q+lpdr0/nOPZNWtYwT+J0kdQfTu7P2eZyMI+pLc/+ssGTp/tqj9Az9/XdfSxPxgEm1WFGrA/xKmLT3MWtz8k2yjaQc+2PwF2QzHiX8E/ig5lqEVRuT9sMBGWBZbBPxRtgzAo07w/emXO/pO5vz/SLdw9iZG0P2XTgt/t5LQ/gXAFQc3lrz8ggg0CBXWzP2ipPXAMnqw/IskJH0MUtD94oeAo1S6yP+jbXVevPrw/LN/Qc8CRvT8jdKm9aDfCP+A88lutebw/Ckq+UH2DvT8zjQlu4GGxPz9ITKxnCK0/JIirlUKFnz/MKqaS9nuqP5CL4Ku5AZ8/5KzXb9B/qD+I6L+jyy2fPwA0jbZ6yKY/AMvT57wBnz9A2/3rUzejP3RX9rUYS50/8owh5WoxpT+4bA/o8UCiP+wiVKJHJKY/dEfP0HILpT/eYYC8l3OrP6qMu8n/s6w/9Ya5rOI4tD+RM8y1wS+5PzWiM4yFL8s/UJVY1egG0T+3m7sRSvK/P29XEeRhzL0/UDpzcV3WtT/s/K8Lb423PzauoBu7uLA/x7JfFfyctj/tZP26IbepP8BsYFXodrI/eVm4nYegrz9CSrIvUDK0P6hDqx+Fxa8/9u629/uRsz92h4UTogi1PxDAxf6aZbc/clf6ukHesT+IXi559aOzP41fYBdBrq0/NCWHkGgbsD+NJFruv4OtP38FCYKE760/AP2LtswhsD91fc+gipuwP6wxRzkMmbM/FYp9Lj26vj9TXsKtP823Pz7ofSsjXrs/ci5OWuG5vT/nvk/GNsK1P6MvFD5lvq0/3suyLL8dqj8wJ+/oeiytP4hQ9EQhc6c/5XxV3ECGqz/U7VIeQVKnP5aIVXY9Sqw//DaDgFjypj9dUHEGcw+rP8SHrFnugaQ/YKLlcrOZrj9h36nVa/yoPxIujpcqcLM/nDBEAqT5sz8ijWDfHrPBP7PpnITG6rk/cn250Am5xj9fshDaqGfCP4Y4VaT2PsE/JoTBwtYmwT96w37zAFu/PzQX6O8/fL0/q/tB0uEGuz8f9/bO2hq9PyYvgqlUv8Q/Na//y7TVwD8zcFtTdhTCP2x/xxrIxb8/6O4Gjjg8wD8GiIBOsmK/P4r6JNl3WMM/cg13i7Omvj/1VsImLGrEPygqe9Gh0cQ/0uqhPJ1exj8suatv7uvFP+2b5PBYBMg/PvyOI+jdwT8QbdetzPzBPw7/TBDnscE/7ICC45Z3xD+e09rZV4rDPw50hw7x+8Y/Wl+2WS8/wT8wVn4VpNHEP/htqdGIpL4/H/yKo/dluj83IP8f/iSzPyys0lkksKo/P6tB1zpsqD/+ln3nG2apP2foycsyNag/o0GDdIdLqD9AQ8Oi1DypP1TFZGsdGqc/QYjDqDmSqT+g5mzPrTalP8zoswl1Xag/1TnUrj/xpz/RUIzsxASuP3JFmlZBGrE/nTmx3Waptz+2q5ntun7HP8ZiXKt2usY/BdDTlZA34z/8RufFKRnMP3LusYZpAcw/sVXKgs6Xzz9qbghgZpHZPxabk1XfZMY/agRdTC+Iwj9iYNXFUFDXPxn/G57fxcc/C//V0qpKyD9Gy1R8QGTYP+3TTA057MM/WzTgFSjRxD9YfM9ZbTjFP9M1KpycgNY/gAUQ6pyhwj8+2L9MOyTEPzEUUmNInsQ/MglehD552D+C0nWCsO3cP42H148pbMk/spH5Efq8yj/9i+63J87JP7c74gZpscY/SHqRPVkGxz96e6qEmJnFP7uVbTwlHcI/9ZaBJeKiwz8A7x+X5wbAP5tONnV3E8A/UuWcmbwvuD8kSCVEItK4P62/mHfVZKw/lyitwkwMrD9tmO0i822qP7LBHcDS86U/BzdGIf9yqj9697jh+vCjP8ZYobnS+6s/kr/FPVJGoj+wzzW505GqP4T/8QcRh6A/erjJET6orT+stKfMLxKlP2qWl/lMSLQ/WD8t0g2QtD/yUJXMQejDP6kqwJu72sQ/dlBgxWSg3z/Ah7gZHQjNP5ixTizuMdM/OtEMHjXE1T9alta5dxHFP/TuivEBEsU/zd1K8eo04D/ckVEHEbvRPx94IJBMnc8/eTOClCWnwj/+6c5WEfPAP1CF5jVbDbo/AnypRWFswD/6sBtY8lS8P0Dso0J2/bw/xpyedQuetT/bHpm47tLDP8VCpAG+u84/mM6ZFDna2D+kqNNGksvFPxSI36tpRMc//kxjTd12xj84JwPWlvvFP8KNi+1Hl8U/eJE+5sjNwj9TGGbakL7CPwKZwVMMr8E/QlsQ13wZxT8VXuGbWFjCPxD5R6mt6MI/p6l8Hv2Tuj8qpNTmm2O2P6c99VR0Gao/+pv3gy+8sD9nvCtnrkCqP5v2zsVXeq8/yJzwzQmUqj9u/D4AO0euPzpJH/wFQag/PBqifPswqT+IDNnyGYOoP7CISDKh5aY/SyRfwg1krT8zxcn5pJepP7kQHC5MZ7M/PNXlI8Q5tD/GJRXXgNrGP7ed16EEZcQ/t51vWomXyz+gdz7CdvrGP83hYj88AsU/oC/A6W2xxz/4G0thMOXQP17/YMpuK8U/+nIBZaa6wz82GodbusK5Pzhcjxm0H7s/+xXBY7tRuz+JvrY3E8C1P40Hm/aA/7U/9p/2PtsLtT8irF+uRx+5Pyra2VY90rI/+9qasjbnuD/QNBiDud29P6WQ3waPr8A/5x5hUHH7uj+BMcUr6KjCP8hloYZMKME/95pGly04wj9aFOdhS4/FP0U07y+H8MI/P8k5uzZNwD9ga+9JZ7m/P2hVCj2lZMM/8OvxbIwmwT/WQ2mDgDrBP6eskN9BHrw/Y4DEvDYvuz/QYykitB6yP2VCEc40kqw/eIWi9687pT+Mxs1SOHiqP761BnBryKY/ekGR+Fncpz+xMnehLlGoP7qFG0NPX6U/j+6N/F+Iqj/UedMcXsChP8eSRihs0ao/tJnjhkmEpT8nbmsrqH6xP3UB0L5fzaw/LJPFu21Ytz890G/UeqzAP2kvDWK/P8E/QhxvHvqAvj/F8Nmse6zDP6o+Qr70AsI/heZo1nBVwT/bb4GYGJ2+P6GUN0VRVro/5ABHewenvT+7hcqKUzi7P5Dtm5OHBMQ/9jWCHYECtj+f9SXp+Cy6PzrrjoLWRbY/YPecFGr7uj+jBwOsKyC1P2NOE+rA6Lo/UgTOx4jKtT+4lHbbU73AP3ofXa2YrsE/zhiZJt4JvT/8bwLCd5PJPxiRQtP1pMg/M0Z//S5Myj+0bssMHK7EPw/vyrJ1OMM/2qfK76+3wD8ArwWtOBDBPza1B4KXvcA/SIR82o30wz9y2qfqoD/CP5r3tWJu0L4/k2zK0ECusD/UoSRStb+zP1v+nvdq46k/aJOhmVScuD/TerRnmvy1P5gstpduVrk/seGMfwMLrD9Wn+joSqmwP2dFppQ4Iao/lx/zUoGCqz+Y2NB471KkPxr6/P473KQ/MIx2h7/Lpz9kHiMVVkKlP/lm/KTswK8/M2jFbCCXqj9Mw3MIg/+yP4TsjXm02Ks/TFGentPOuD9BIwJ2SsfRP4KpbEzpaNI/yDLVI27m0D8kfDfqQhHZP02/hKkYycU/SYC62X3PxT8XE5zTiCe+PwruRN5Ft8Q/2PhHDxVduj8gRsACNp65P3bxNw8sisE/0u9PH993wD9Tw6MKddK9P65OElzR7ro/3hSzhwW8vD/QPAebpIe8P7zOSPqXRcE/DDS4/YRluz/x6pKq1D3BP7NABydKHLw/GsslfXr53T8Qaix1ZXPAPxodUO0hMcM/xBLMLrPawj++SEg0nlPBP1sw5Jb1asI/IARFBL5RwT8l2TayIyvCP5VHZyH8Urw/SvjAwkHYuj+IF5NIHSi2P1e8C/f4cbw/JRc4SRjjqz911Ri/WU+xP3jvOwUb0qU/vglLm2FRrT/UxbSjHi2lP6CIx2sDAqs/1tB9Ik3EpT/WYG81pvanP4yY7EMnTaU/r5FmHh66qD+LCtOZBMaoP2tS5bftDKk/OWw4Z9fYqz/RMDTlj32rP0kvUAV22bU/1U8NGhODvT/fWpbBq4bEP6cCyBLmvcE/IPzvDQUAwj8UsgnBswbTPztZKtNjxsE/tup07qXLwD8JvcV0fEjAP1C1lSm73bY/RnGtpfXJtj9owD6MH4iyP7RPeJ8K1bM/LAEZUtKPsT+0qdWWa8GxP3oMY7lqkLM/yHZtzABHsj8eGckltxS5P+D80ygsVrY/sTlRRxehtz/on1cOCm68P65LSqGCSbs/XC+0Ifzisj9inskn3kqyPzD/0twDrbA/uBBEJP/Ptj9rlSTgQ2azPyd901Wdz7g/R2qoEPaXvz9DKbIEuQzBP3/6YOSsbL0/b7rgNTKfvj/nzm1LOaO4P5PeXdIVdrA/6mf8mXTRqj/r5/kfFCGwPyCQHI0YAak/WB/PqGSlrz++e1upoTymP3r9DvQjFbA/uECRSAizpj//z+58+9urP1ViDQoFHak/yjrkT1nQqz+o3suNDwqwP+0dSCpA4q8/BggzD71Xtz89PxyYrXO2P5uRVcaUC7s/FpjpC/EV0D/cncV2EOLKP0TzLaNWr8E/QnyMnu4ywT+pnET2kuK6P6omWqmJKsA/NHo2xLaFvD+i21zKC2y9P3YZydoZur8/BoyfnJH8vz9MPn+gRaK+P6K/+ItO/7s/IQSXK0cNvD9470tuVT28PzcRocRmNrw/2CZxE7lguz8ISJH52ZrAP2d+8YozTcA/c6Ixi1dBvj8ax2B49Za9PwZ/7jEFgcs/RDc7FGnnxD/uB/V2KOfEP5qWa7XnRsU/qsSij+5gxD8I3CBmHuvEP31ohTCl/8I/DlUPaQfaxz/WfzHEoC+7P5W6IaWzR8I/qWMwAAeTuD9QSTI288a7P2SjEyn1DKU/XlbUrPe9sD+o+eYifR+lP+wE2XPCAK8/siFONFZFoz8t7uwTlMCuP7K6nOiZL6M/XKDvg25Brj+o8zN4heahP54xJdGgQqs/sLClVL5epT/I/+5sJPSvP/oMnC25g7A/rKTVVd0nuT+vB8EklojKP4h15eMLYMk/IIoRw1I3wD8qNYcQuxK5PzixnyOjM8Q/2OpAtrR0xT+J9fpiC8q9PxMudJ6Kzss/22DF9OIbyD8mG3f240rEP8mlRKtBMs4/Og7APXeGxD8e+jB/N9+7PxjA2O9dk7o/LSPfcqPjvT/z0jgAe1/AP6ERoFG0Xrg/3pYr3eSDuD8qhMnDedTCPxZUw3X378c/1Ka3X/GlwT9Nb44okqW7P4gCH9zaFLQ/WYj535HstT/i5mt4veS0PzmMa2mCKbY/b8tn4utntT+rPfos2+u2P6apPa3gjbQ/cwG63flpuT98mOueKkS1P4eSbUFE+dM/0DJkftL9tT8E2IAdK2S2P2zRaN/5O6s/QSv6wMbIrD9sSx1n8HOmP/Tr1c21vKc/SHrjOHzFpT9XYdnJvDWoP2Q77sdQeaU/MlGNPahgpz+4yApnyMukP8SMqQ6fLqY/5X+/yObypz+UQUalug2qPwJU5ADlRbE/9qFtONextj++c2ZNeWXGP89OvjuV1sM/yPA1F+nSwD+ce0lL2wbNP8iF53qSh8M/xo+n+kKTwz8ZEwsmd+7GP+Il4VHqf8U//aHd03oiwz+LGnStW128P49ezCcXCr8/93crEMq1uT/exbBuWsO9PzaGR3vi4bk/fwsmkRl/vT/whiKLyAy5Pzz4Gghqebw/zElYeEzxuT/bDU0TQ3DEP29QbpsLFsE/9+0cS8ADwj/SYFxlpILcP9y3X9Wqf9g/ju23QnMIzT+WJIbE+gDMPwDsMnwM380/uVrPlpK74D+TBPaWuYLRP8oWK8A3F8g/tsnDl0v/yz/kXrS0kEzGP74T0s5Ct8I/1DDwigKduj8N/1GCoie4P2PtaeFgYbQ/aGNunDh5qT9LG7zDnWywP6pRL/o5RKY/H5b/mtEHrT/o8UB22yGnP96z55OelKs/G5sf0nb8pz/SZBCg6UmpP/Yb0qoFLqc/OnqEh71sqz/X47zpphWtP7sfWqpm/LM/P8hUOmEiuD8PyvUzo1rBP6m2Xce3F8I/NRsapj6B1j+M6gXQyJrTP6fysCWRu8U/VoZTX8L3xT+m+m+xmmLDPw5Dp9akzNg/JLaNkHh5xD9qeDCggYzUPzVlk8tVhsE/C9fMepmqzj9+pLeuqtjYP+i0kzisYtU/zPxJjf2wxT+IWHonMwnFP5LkhQxXT8M/NJZuNnrnwD91eIDUDMnCP8T2vC/CT8Y/kIMrTfTayD+EYlYqa1PHPzLS/sbGAsM/wH2xYG9wvz9kn0gKd9DEPyBV2tKPj8E/WCVCCNTVwT/qkBL77SW5P8SIVEO8H8A/HvAMQOQFvz+el1e41KrEP6g9OcnkVdE/M58ZYeCrwT/XNt3FORC8P4jIePPRWbM/5myELTGHqT9uzOogx1iwP6zjB4TyiKM/3EVaZUXLrT8UFW1+WUCiP5CDx1kCM60/LhUl626Uoj9zwFqyHaSrP3jOHTGSWaE/6SER7tXVrj++Av2ShyWmP8J1PS3XDLU/AGLeCWiFtD9VlGDnLw/EPzFnIvpGD8A/LvIZcmzvvz/MUDVzNW+4P/PcEuSgvdY/EBmLde1Y2D8QPzaxc1nLP1zFTRqNHco/P84rQj5DxD8OJmYSZenOPyaWK8gSaeE/IK8FAnbt0D+UGlEDieXHP73vKNj/DsE/WSF9EJopwT97E0C8Sr+6P8qTqgs5zr4/ItrroLCGuj+SL3f/JLjBP1yPd8MbxsA/Yup3Ma6Fwz8K+9cDJXfCPwCbXH+33tM/7376krE+0j+E3X5g+uHEP7/aGmj+KsM/sM1kJPMvxj9zlb0eKKXCP7Ua8+OojMU/K9rIHnyIxT+7NqMyf2PCP/GNPQbH0sA/jQeIbIUruz+UvAHRVWW1P9o1NwpaYrE/kEtzc2aZrD92e9lMbpiuPxYFwzRZr6U/FiNVTG09qz8844iD+zGnPz/eYQBp4qo/DL1dy3pgpj8drhIsKs2oP8zss4IM76Q/EutNC1Ocqj9+bZiNYuemP0wmaRSZH68/ZX7MvHuPrD8IB6WnmzyxP71C04g4MbU/d3bfKTl0wz/Y9xHDovrGPwqA66sdk9Q/ejG8+TIFwz+pUpLmcuO/P/enRLZvktE/sFzC+B+MzT8aGusPvhXGPxpjLs4yHsA/KhvexzLLsz+TU9XEiou3P+KYt7z1esY/t62rAkRiuj8p1nLQHQG7Pwxx6oza0dQ/hOolo9FJwj+AMdeChZvCPyPoe9Ay6MA/iRapp/ApwT/iI95yEVrGP/rkyL0t0sM/j6uNKfNxwT//PwiEE/i5P/qW0UAplcM/4hKbNdyz0D/0uc9YknjCPygUZ1gtQMM/8ff4K1ugwz9W2q5B1CbBPwdDACl87r0/l0FueQ4Ctz8RMnp6QNS4P05yW1SyoLA/fr7wi5izqj9cD6dHvumhPyhqHs4P3qk/+JOYN/KboD8k0oG4kwSnP8LXP5r7D6A/gHcVHLkapT/Ezs5bAOSeP2oG3URTaaI/DkHU2+KQoT/SR5UHMzKjP57LZKgBuKQ/dPh6WxWEpD+LJcxBkGCrP2wCMLrhYas/w0lOI4m9uT9i1oE2w0S6P6JN1pLWesY/iJxThZZByD/+AuFe2+zDP+SZyyQddrs/2KQ+c15ivT8APZrmbKWwPyQpAJ8TCLI/562uRl/Rrz8ce7j/WESzP3+2ApWkTqs/3JSTtJo4tj+kGRA6FsKwP2wnqsEcOrQ/cKFNWjszpD/psWgnxF22P6D1VNNOTLE/GB1Xm5g9tD/T4MHDAzyvP4anDXTcy7I/FxFnDYmHrj8qkU9VRYu0P7m0Xs17y68/PsHUKd0Qsj+1KXwz0fCsP7NlI8W3jbQ/7PFKgVXItj+WjOW8ggq+P0vV1GHc3Lk/8q56b1ohuT+ICgO0GmSyP44/2Tsd9ao/0xIz+6hhqj+ar21dfwOqP70Afh5SRqs/qVN7nb8jqD/qaHzl+n+qP9IQrN9+iKc/uj1nIfUZrD+k2mehtjelP4fFLMOBlKs/9OvYSYS2pj/GpwD2gdOvP6csCQK39Ks/rMbMCedptT96blXzYwjBPwo4oMKvzsE/Gwidb+kRvT9cZPmTp0HGP4JMzdBe6r0/Pn8VUX3nvz91x/VCOxS3P7ydZo6zmrs/FiLqoZMdsz8guTWCTAi3P8jC0+HSwLA/aCmmcXTHuz9+29xEJCW5P3vI88jbmbw/8TxXLNmUuD+5BRzBSxO9P3fHVVpfkbk/oTh+0oBavT/hevBG6Ay+P2FhuG7h478/9/2MqWZ1wj9H5k6HfcHGP+ZbOkistcY/gKguCCKLxT9MeVMsLKnCP7EQ+vnXFcQ/rDyVnM5mwj9CpmuVi0vDP8TYcLao98M/h7iFKGHLxD9m/Jxca9/BP/hCgjLtX8A/r/1jC7r+uj/mHeWjj/qwP/Nc+QyD66s/ikARqjr6pj+ytTYhDKCsP1LWO9Jo06Q/mE5zU/mLrT8KYx+7szqkP32hmtLAUK0/UpcwXPXeoz8YPa5bcv6rP5qfhGVRDaM/m13RBq4nrz/kuZwMkM2oP0L9/eu9tLQ/+fssaeLBtT99Gk67gv7AP8AOAES/7bw/4iWOA9jouj9bbsj/TSTBP2kenOMpb78/QHsYLG8gwT8KDUDhiGm/Pwd4PIWdYsA/52H5PvrovT9KRNZm4JO/P05w/wfCu7o/7DZkh6xuwj+KbIPtVNq5P+MDb4jfrr0/9ychxwPLuj9uVgd5rhK+Pzbrn9Omb7g/v6+bFLN7vD8TODMxoEK8P3yxGqadscA/8krNWDT6uj8zbDaorE3EP/DQONe14s8/OQqNlXUIxT/hpQzyDRvCPz6TG6yqCMQ/wWVAyBf5wz+Bw0be81rDPxhMpicfsME/gUH4O+54xz/Us7jfKnzDPyrgnWAI4MA/hmOxm7gttD/SvvUxIdmwPxo9gWVkRaU/VKgmEafEqj8ChRxeW46lP2NnrmtuDqk/sCBB9Lphpj9rg8EeMhioP6Y42acRp6c/FiywCj/5pj/kPVv5RRanP1RdOdv5vaQ/B2QdSsdQqj/1sfeOv+GoP6j8gcZnobI/rBobUNM3tT+l3tfi7JzAP90Iv2GiMb4/yP9BnhPHvD+qxOF+mtS7Px/OGlAt3rs/S8eQJUcnuj8YU4j23g3IP1WjPhBTm8U/uaYTMtB3xD8EQrHXm+LRPzRiEDyEJ8Q/SadM7JfHvz+kycRp/zW8P1UFOSqoTbw/9HKqmsxCtz8ee6c07ZK4P1uf8ASKALc/g1Zj85JFuT91ySnSCCG7P+KLD2ocAMU/Kk+m9jFTxT+ip7oIfzfHP96NQ9UFlcA/V4Ges5KgwT+wJx4R24DHPwIs/fm0WtA/fc+nUZmewz+kZnCyhF7CP1uHfkZF4ME/ygIeuhHMxD9v2IErZNS+P4d0tGWYT8A/l48xhKZMtz9Cgh/QNyS4P3KU01JfUKU/YgWYHcApsD/KoypB5WClP1Djbdmi0a4/XLSVIHddpD+kSvLiI8CuP2TBTlL+X6Q/c6rKZMP5rT/uVXuHm8CjP8PVSsiwAqw/UEmMyqaWpz/9vHbX7ziwP3LW6hkAN7I/ZGMOFVaTuT+klJ35cJbFPwhpEMHQ9s0/DH/+kUNj2T/43laq8H3CP8y8aA2Fw8g/9hvt7TiA3D8bgoqy/EvLPwlzYtSJfsg/2PjPmLXzyz8s+dY1R6TYP733JBrU38s/rKqSN48pzD+VrmcTIk3EP1h1byF5970/gzFYlKTruj9PJgv/Zna4P/pUgNCvXrs/Ij/x8fImuj8HPfh+qke/P9onNvcmcsk/cAmiaZTN1z+s0k9Qs1PSPwEGjFzghs8/wi5b0MsiyT9GqLkP2N/GP/QBTPYK/8I/G4YVXAHBwz8/m8IzEyDEP8GxyIfV78I/K638GEtVyj+0lkNIUR/BP2AuLihhLMQ/7yaj2hrFtT/6TDJYnba3PwPTrcORfqo/I9zkbyFArj8TJ5n0ce2nPzGmRnKk9q0/aFoyulKIpT/nsjMrgamtP1oB2JzyqqI/5+AjJNeNrD+QWrIEacWfPzaQjm/WLqs/fBmmU1v8oj8oHhCZE3uvP72baahD4a4/qCrnrDvpuT+8sEv0cmjEP+XHAKlsacA/hH1speO3wj+qXogfqKDMPx40p/0t9cQ/gHdpyFaXxz9aIv1BovrSPxg2Xlc+F8o/VPmNgNVbyz+UrotYuL3TP2S556Jdbdc/t1wrGXqpvj80Astl4Kq/P0SCBKaRoL8/1yQ6MPbNuj/e1KtvgHC3PwFmnwoX4Lg/qiRKASOFuT+eR8VSwYTCP5wDMKCLTMI/hngKLuGd1T8ur1UNe1bcP2tWNaAQCMY/GKl2FaYKvD8YUVq8bom+P7yhBruvG7g//doTIYFruD94E00hxxm3P9HOie9XLbc/Zo7V6+LVuj+mxCQE2va+P6DKRkRSGcE/NrZZXU81uD8/kQnj1162P3A9ZQ767LA/NroCHeE/rz/mXTTBQEimP93pGsuXoK0/oIL24Dzdoz/pKqgO7BitP55yLKO6aKE/Oe00yuZPrD8EmkONEmufP/kwj2HWzKo/CJg98BwaoT9mAcnGfLCtP6pJ0r3R3ag/J4NsiPwUsz/2pom/q/esP3GieRzCjLQ/ISd1xxoYuT9yofSBKnHBPwZ4xvNlYMc/CvSgIKor1D+0GWNqUNHFP78aj+0ntsY/tgDykvUKxD+Qd0UJr7fCP8aykeAIe7w/gEPJslBTwD9cBD4BC1XJP+Xtmp/vhcQ/1Nf56IacxD9/ge2XxzrDP8oQF2VVHMA/my9TJcXBuT8aqg4Vieu/P8EZAsXq+MQ/bsWeK2nxwz9AlFsN7JzBPzJACyTuq7Q/kuz6xATZtT+TCngZVTi8P2sb0etfDLo/AeAMSPEvtD/ej8cn9/OyP+ygJiq8c7k/tfN0Xkdwtz8e+KysdIPDPy9SQKHjtbs/FIwmcj12uj+ue1dMZYPCP6zWQmA92ME/gJXfCfi5vz83mhmWWnLAPyR9+RBAWbw/sZr5g0Yeuz+Rj2laz8q3PxZl5XnkVLY/joN1g7OLtD/U0lHEALuyPzrEdAUDIbM/OltZ3Ueesz8pQK7j+ny1P32ReSwQDbc/Xk6Kdb91uT8OwBAjEfm6P0od+aj/fcA/olMWmnFhxT8N1JcMjgHLPxD3mooHwMk/1m2G3xFGyD+YZt3r4V7GP0SZid0cMcg/kh/lCT7txj+I2qE/EFXHPz9IknVkRcg/XG0pcJzsyD+nA7S9V33IP4jNmNTgUsc/MFdTTUrQxj9kk0fHaO3FP9h9v0SPL8Y/GGquX7spxj/ymbwfljXJP4rcWI6gpsw/0v539z4eyz+g1f+JBULOPywdJ69Fi80/B5Ndv9Ayzj/p7xT6Vy/OP6ybvT9RXM0/m82hZe/5zT9K5WSx40nLP/yi6nvJZs0/CBzehIzEyj8Jh0Pv+W7IP0vtHPDIocM/ndLdCdYoxD842yNKHka9P4gI9DDtGrQ/ZBuP+emrsD8ml47kD9+wP7CMBeGwhKs/OdSsqBOPrz8i5XOcn92oP3ZWSWwuObA/ljtg3Esopz+A1bJ2uWiwPzpfx9Q8+6U/OgscnJBzsz+Pr30+9cKsP5JjFjbM8rU/sNM4NoFCtT8/cDfGBG7DPzpAE5B42r0/2/IePFpXwz/pyp5ze+HCPxAcrzMB4MQ/Rvk3DPAIyj9gXOeXMgjDP1ee1oTzr8Y/5/fzFRKsyj9qxgEW89rGPwIjRM5Cjb8/wibEusfSwj/H5n6B8E2+P5TsyTHVN8A/rELk1rcovD8ujuf5+bbAP2ZNDtrgYb0/YImDMp7nvz+K6mlMpejBP+aqO7Pna8Q/2Z178uB3wz/L8NHFqMTJP8TtZK2y1Mw/DcY9A8z7wz9iMLBIi6jGP4ZpH/HKbsQ//LH51Ru/xT/c07Ej7pDEP7CcX7Ub88Q/7tTDIVKQxj+pYdjdmv/HP4S6iQiJGc0/URsEltU4vD/PxJe2O8G5P/6UwoNnPKw/jl1r2/CFsj/aMlMvwnOnP7TN3u1GF7E/Dp4Fc9mxpT8R+Stzxb+sPwSOrYh70Kc/RUVg/9zLqj8SFh8L/2+oP1x+WYjJsqg/j6+ZVlbNqz8snK52qnesP4V3MUbvvbM/+iWiGiQDtz/TjEKk7znBPxIzx2cJesY/icJx3Mfwwj+KD3aj8yXCP2xeKQIYOL8/UYlrqyftuT/D4Lq3xsG5P8xBq9m2EbY/nkXvRb9mtT9egyrWAG6xP1w9qSS+FbU/Z4GgwEWZwD9/9mIa/Jy/P/vpAFW+ILw/Bx+z2VYSwT+jaLZwuZO9P4W2bAEL/L4/xHXQ+PVMuz/U5bN3PKDAP4JWGkl4br8/GPZBzBT4wj+WgDIdDL3GPw5ZMUe7B8s/QyhHDNE9xD/kVz450unIP4JQ1zlCysI/wojFjfLpwz+Cka6pQ83DP4y42tp44cM/LBCLW02syD9ly383NUq8Pz7xpQh1OME/pK/8yCB3tD8OWs04loC6P66WEwXqzKo/fupMlgUwsT9MiMavXhWkP+RW8f5MQbA/7t1lC5qooj9CUFtg8NuvP4beN8LhvaI/IHt9sNl2rj8AIyMle4ShP43+po0cCKw//H6ZAu3VpD8AGAuuzbavP9zHj/gZGrE/26r9gT5suz/v0EEmIETDP1k9D5afy70/bM/XVB73vz/Ar4XCc+6/P78S5bUQDMA/U0PXUwwYwD8mctCZwqLAPx7CZzsDhb0/b+wuSKIWxz+VFo2aK8e7PwFwGO9RT7s/w9JdFevPvD9QBXDPfHO3PxA8jtxM67s/zMRqZ7QJtj+z290WZhW7PzgoOUBRarY/hk1Lg6nwuj8MpYgQsx+6PwdY+vB/PcA/B/EugaawvD+4efAZU+PYP0TES37xv+E/fiov7+i+2T94NdAQe8fRPyAt5Xuv088/fwU6kSf2yz9mZfTA92DHPz7xXiuRPNo/en2C3zW20D8eowsDMwLXPxbiGnFxdsU/XwiXAbQixD/rM/Ul8TO7P1C+TX0Q1bQ/XnbuCe4PqD/JrKxwBWSwP/pRS/MBU6U/d9730yU/sD88/IAUl9CkP17TuSqaOa8/FFLBLmZApD96WQWcSLutPyS+YZFtAKM/E2OQnXslsD/hr+0pIXioP8sgFj6X8LY/OTVz60XNuD+5+csgkCvGP3v2zCXAccE/gtfBVnaezj+M00sajg/VP5Rpf81yNM8/cGl/DEVm2T9KE4gTYenEP7ZGLbgdBM0/79lfAf3pwz9pcej3z1XBP9xK4oOgesE/6NrnaLDYvD+0loxaL93dP5hWsFiwyLw/OHYxs2BXwj//04qQhpW7Pw3LMMYpVcA/44OJ1RxnuD8NAeQSbmvEPzEkN8NUlMY/4GQTostLyj9snAzseEvSPx0axO6MLcw/gcsaXtVYwj8cfV2dakXFPw44OtpoqsQ/CFHR5KC1xj+Akbk5WobFPzs8TWN2O8c/FM3CDx9Dxj+aomy20i/AP4YGk7Zud8A/",
          "dtype": "f8"
         }
        }
       ],
       "layout": {
        "autosize": false,
        "height": 500,
        "legend": {
         "font": {
          "size": 15
         },
         "orientation": "h",
         "title": {},
         "x": 1,
         "xanchor": "right",
         "y": 0.98,
         "yanchor": "bottom"
        },
        "template": {
         "data": {
          "bar": [
           {
            "error_x": {
             "color": "#2a3f5f"
            },
            "error_y": {
             "color": "#2a3f5f"
            },
            "marker": {
             "line": {
              "color": "white",
              "width": 0.5
             },
             "pattern": {
              "fillmode": "overlay",
              "size": 10,
              "solidity": 0.2
             }
            },
            "type": "bar"
           }
          ],
          "barpolar": [
           {
            "marker": {
             "line": {
              "color": "white",
              "width": 0.5
             },
             "pattern": {
              "fillmode": "overlay",
              "size": 10,
              "solidity": 0.2
             }
            },
            "type": "barpolar"
           }
          ],
          "carpet": [
           {
            "aaxis": {
             "endlinecolor": "#2a3f5f",
             "gridcolor": "#C8D4E3",
             "linecolor": "#C8D4E3",
             "minorgridcolor": "#C8D4E3",
             "startlinecolor": "#2a3f5f"
            },
            "baxis": {
             "endlinecolor": "#2a3f5f",
             "gridcolor": "#C8D4E3",
             "linecolor": "#C8D4E3",
             "minorgridcolor": "#C8D4E3",
             "startlinecolor": "#2a3f5f"
            },
            "type": "carpet"
           }
          ],
          "choropleth": [
           {
            "colorbar": {
             "outlinewidth": 0,
             "ticks": ""
            },
            "type": "choropleth"
           }
          ],
          "contour": [
           {
            "colorbar": {
             "outlinewidth": 0,
             "ticks": ""
            },
            "colorscale": [
             [
              0,
              "#0d0887"
             ],
             [
              0.1111111111111111,
              "#46039f"
             ],
             [
              0.2222222222222222,
              "#7201a8"
             ],
             [
              0.3333333333333333,
              "#9c179e"
             ],
             [
              0.4444444444444444,
              "#bd3786"
             ],
             [
              0.5555555555555556,
              "#d8576b"
             ],
             [
              0.6666666666666666,
              "#ed7953"
             ],
             [
              0.7777777777777778,
              "#fb9f3a"
             ],
             [
              0.8888888888888888,
              "#fdca26"
             ],
             [
              1,
              "#f0f921"
             ]
            ],
            "type": "contour"
           }
          ],
          "contourcarpet": [
           {
            "colorbar": {
             "outlinewidth": 0,
             "ticks": ""
            },
            "type": "contourcarpet"
           }
          ],
          "heatmap": [
           {
            "colorbar": {
             "outlinewidth": 0,
             "ticks": ""
            },
            "colorscale": [
             [
              0,
              "#0d0887"
             ],
             [
              0.1111111111111111,
              "#46039f"
             ],
             [
              0.2222222222222222,
              "#7201a8"
             ],
             [
              0.3333333333333333,
              "#9c179e"
             ],
             [
              0.4444444444444444,
              "#bd3786"
             ],
             [
              0.5555555555555556,
              "#d8576b"
             ],
             [
              0.6666666666666666,
              "#ed7953"
             ],
             [
              0.7777777777777778,
              "#fb9f3a"
             ],
             [
              0.8888888888888888,
              "#fdca26"
             ],
             [
              1,
              "#f0f921"
             ]
            ],
            "type": "heatmap"
           }
          ],
          "histogram": [
           {
            "marker": {
             "pattern": {
              "fillmode": "overlay",
              "size": 10,
              "solidity": 0.2
             }
            },
            "type": "histogram"
           }
          ],
          "histogram2d": [
           {
            "colorbar": {
             "outlinewidth": 0,
             "ticks": ""
            },
            "colorscale": [
             [
              0,
              "#0d0887"
             ],
             [
              0.1111111111111111,
              "#46039f"
             ],
             [
              0.2222222222222222,
              "#7201a8"
             ],
             [
              0.3333333333333333,
              "#9c179e"
             ],
             [
              0.4444444444444444,
              "#bd3786"
             ],
             [
              0.5555555555555556,
              "#d8576b"
             ],
             [
              0.6666666666666666,
              "#ed7953"
             ],
             [
              0.7777777777777778,
              "#fb9f3a"
             ],
             [
              0.8888888888888888,
              "#fdca26"
             ],
             [
              1,
              "#f0f921"
             ]
            ],
            "type": "histogram2d"
           }
          ],
          "histogram2dcontour": [
           {
            "colorbar": {
             "outlinewidth": 0,
             "ticks": ""
            },
            "colorscale": [
             [
              0,
              "#0d0887"
             ],
             [
              0.1111111111111111,
              "#46039f"
             ],
             [
              0.2222222222222222,
              "#7201a8"
             ],
             [
              0.3333333333333333,
              "#9c179e"
             ],
             [
              0.4444444444444444,
              "#bd3786"
             ],
             [
              0.5555555555555556,
              "#d8576b"
             ],
             [
              0.6666666666666666,
              "#ed7953"
             ],
             [
              0.7777777777777778,
              "#fb9f3a"
             ],
             [
              0.8888888888888888,
              "#fdca26"
             ],
             [
              1,
              "#f0f921"
             ]
            ],
            "type": "histogram2dcontour"
           }
          ],
          "mesh3d": [
           {
            "colorbar": {
             "outlinewidth": 0,
             "ticks": ""
            },
            "type": "mesh3d"
           }
          ],
          "parcoords": [
           {
            "line": {
             "colorbar": {
              "outlinewidth": 0,
              "ticks": ""
             }
            },
            "type": "parcoords"
           }
          ],
          "pie": [
           {
            "automargin": true,
            "type": "pie"
           }
          ],
          "scatter": [
           {
            "fillpattern": {
             "fillmode": "overlay",
             "size": 10,
             "solidity": 0.2
            },
            "type": "scatter"
           }
          ],
          "scatter3d": [
           {
            "line": {
             "colorbar": {
              "outlinewidth": 0,
              "ticks": ""
             }
            },
            "marker": {
             "colorbar": {
              "outlinewidth": 0,
              "ticks": ""
             }
            },
            "type": "scatter3d"
           }
          ],
          "scattercarpet": [
           {
            "marker": {
             "colorbar": {
              "outlinewidth": 0,
              "ticks": ""
             }
            },
            "type": "scattercarpet"
           }
          ],
          "scattergeo": [
           {
            "marker": {
             "colorbar": {
              "outlinewidth": 0,
              "ticks": ""
             }
            },
            "type": "scattergeo"
           }
          ],
          "scattergl": [
           {
            "marker": {
             "colorbar": {
              "outlinewidth": 0,
              "ticks": ""
             }
            },
            "type": "scattergl"
           }
          ],
          "scattermap": [
           {
            "marker": {
             "colorbar": {
              "outlinewidth": 0,
              "ticks": ""
             }
            },
            "type": "scattermap"
           }
          ],
          "scattermapbox": [
           {
            "marker": {
             "colorbar": {
              "outlinewidth": 0,
              "ticks": ""
             }
            },
            "type": "scattermapbox"
           }
          ],
          "scatterpolar": [
           {
            "marker": {
             "colorbar": {
              "outlinewidth": 0,
              "ticks": ""
             }
            },
            "type": "scatterpolar"
           }
          ],
          "scatterpolargl": [
           {
            "marker": {
             "colorbar": {
              "outlinewidth": 0,
              "ticks": ""
             }
            },
            "type": "scatterpolargl"
           }
          ],
          "scatterternary": [
           {
            "marker": {
             "colorbar": {
              "outlinewidth": 0,
              "ticks": ""
             }
            },
            "type": "scatterternary"
           }
          ],
          "surface": [
           {
            "colorbar": {
             "outlinewidth": 0,
             "ticks": ""
            },
            "colorscale": [
             [
              0,
              "#0d0887"
             ],
             [
              0.1111111111111111,
              "#46039f"
             ],
             [
              0.2222222222222222,
              "#7201a8"
             ],
             [
              0.3333333333333333,
              "#9c179e"
             ],
             [
              0.4444444444444444,
              "#bd3786"
             ],
             [
              0.5555555555555556,
              "#d8576b"
             ],
             [
              0.6666666666666666,
              "#ed7953"
             ],
             [
              0.7777777777777778,
              "#fb9f3a"
             ],
             [
              0.8888888888888888,
              "#fdca26"
             ],
             [
              1,
              "#f0f921"
             ]
            ],
            "type": "surface"
           }
          ],
          "table": [
           {
            "cells": {
             "fill": {
              "color": "#EBF0F8"
             },
             "line": {
              "color": "white"
             }
            },
            "header": {
             "fill": {
              "color": "#C8D4E3"
             },
             "line": {
              "color": "white"
             }
            },
            "type": "table"
           }
          ]
         },
         "layout": {
          "annotationdefaults": {
           "arrowcolor": "#2a3f5f",
           "arrowhead": 0,
           "arrowwidth": 1
          },
          "autotypenumbers": "strict",
          "coloraxis": {
           "colorbar": {
            "outlinewidth": 0,
            "ticks": ""
           }
          },
          "colorscale": {
           "diverging": [
            [
             0,
             "#8e0152"
            ],
            [
             0.1,
             "#c51b7d"
            ],
            [
             0.2,
             "#de77ae"
            ],
            [
             0.3,
             "#f1b6da"
            ],
            [
             0.4,
             "#fde0ef"
            ],
            [
             0.5,
             "#f7f7f7"
            ],
            [
             0.6,
             "#e6f5d0"
            ],
            [
             0.7,
             "#b8e186"
            ],
            [
             0.8,
             "#7fbc41"
            ],
            [
             0.9,
             "#4d9221"
            ],
            [
             1,
             "#276419"
            ]
           ],
           "sequential": [
            [
             0,
             "#0d0887"
            ],
            [
             0.1111111111111111,
             "#46039f"
            ],
            [
             0.2222222222222222,
             "#7201a8"
            ],
            [
             0.3333333333333333,
             "#9c179e"
            ],
            [
             0.4444444444444444,
             "#bd3786"
            ],
            [
             0.5555555555555556,
             "#d8576b"
            ],
            [
             0.6666666666666666,
             "#ed7953"
            ],
            [
             0.7777777777777778,
             "#fb9f3a"
            ],
            [
             0.8888888888888888,
             "#fdca26"
            ],
            [
             1,
             "#f0f921"
            ]
           ],
           "sequentialminus": [
            [
             0,
             "#0d0887"
            ],
            [
             0.1111111111111111,
             "#46039f"
            ],
            [
             0.2222222222222222,
             "#7201a8"
            ],
            [
             0.3333333333333333,
             "#9c179e"
            ],
            [
             0.4444444444444444,
             "#bd3786"
            ],
            [
             0.5555555555555556,
             "#d8576b"
            ],
            [
             0.6666666666666666,
             "#ed7953"
            ],
            [
             0.7777777777777778,
             "#fb9f3a"
            ],
            [
             0.8888888888888888,
             "#fdca26"
            ],
            [
             1,
             "#f0f921"
            ]
           ]
          },
          "colorway": [
           "#636efa",
           "#EF553B",
           "#00cc96",
           "#ab63fa",
           "#FFA15A",
           "#19d3f3",
           "#FF6692",
           "#B6E880",
           "#FF97FF",
           "#FECB52"
          ],
          "font": {
           "color": "#2a3f5f"
          },
          "geo": {
           "bgcolor": "white",
           "lakecolor": "white",
           "landcolor": "white",
           "showlakes": true,
           "showland": true,
           "subunitcolor": "#C8D4E3"
          },
          "hoverlabel": {
           "align": "left"
          },
          "hovermode": "closest",
          "mapbox": {
           "style": "light"
          },
          "paper_bgcolor": "white",
          "plot_bgcolor": "white",
          "polar": {
           "angularaxis": {
            "gridcolor": "#EBF0F8",
            "linecolor": "#EBF0F8",
            "ticks": ""
           },
           "bgcolor": "white",
           "radialaxis": {
            "gridcolor": "#EBF0F8",
            "linecolor": "#EBF0F8",
            "ticks": ""
           }
          },
          "scene": {
           "xaxis": {
            "backgroundcolor": "white",
            "gridcolor": "#DFE8F3",
            "gridwidth": 2,
            "linecolor": "#EBF0F8",
            "showbackground": true,
            "ticks": "",
            "zerolinecolor": "#EBF0F8"
           },
           "yaxis": {
            "backgroundcolor": "white",
            "gridcolor": "#DFE8F3",
            "gridwidth": 2,
            "linecolor": "#EBF0F8",
            "showbackground": true,
            "ticks": "",
            "zerolinecolor": "#EBF0F8"
           },
           "zaxis": {
            "backgroundcolor": "white",
            "gridcolor": "#DFE8F3",
            "gridwidth": 2,
            "linecolor": "#EBF0F8",
            "showbackground": true,
            "ticks": "",
            "zerolinecolor": "#EBF0F8"
           }
          },
          "shapedefaults": {
           "line": {
            "color": "#2a3f5f"
           }
          },
          "ternary": {
           "aaxis": {
            "gridcolor": "#DFE8F3",
            "linecolor": "#A2B1C6",
            "ticks": ""
           },
           "baxis": {
            "gridcolor": "#DFE8F3",
            "linecolor": "#A2B1C6",
            "ticks": ""
           },
           "bgcolor": "white",
           "caxis": {
            "gridcolor": "#DFE8F3",
            "linecolor": "#A2B1C6",
            "ticks": ""
           }
          },
          "title": {
           "x": 0.05
          },
          "xaxis": {
           "automargin": true,
           "gridcolor": "#EBF0F8",
           "linecolor": "#EBF0F8",
           "ticks": "",
           "title": {
            "standoff": 15
           },
           "zerolinecolor": "#EBF0F8",
           "zerolinewidth": 2
          },
          "yaxis": {
           "automargin": true,
           "gridcolor": "#EBF0F8",
           "linecolor": "#EBF0F8",
           "ticks": "",
           "title": {
            "standoff": 15
           },
           "zerolinecolor": "#EBF0F8",
           "zerolinewidth": 2
          }
         }
        },
        "title": {
         "text": "Lasso Regression: MSE: 0.0123 | RMSE: 0.1109 | MAE: 0.0573 | BIAS: 6.8538"
        },
        "width": 900,
        "xaxis": {
         "range": [
          "2014-02-01",
          "2014-02-08"
         ],
         "tickfont": {
          "size": 15
         },
         "title": {
          "font": {
           "size": 15
          },
          "text": "Day"
         },
         "type": "date"
        },
        "yaxis": {
         "tickfont": {
          "size": 15
         },
         "title": {
          "font": {
           "size": 15
          },
          "text": "Value"
         }
        }
       }
      }
     },
     "metadata": {},
     "output_type": "display_data"
    }
   ],
   "source": [
    "## Lasso\n",
    "model_name = ['Lasso Regression']\n",
    "model_display_name = ['Lasso Regression']\n",
    "\n",
    "fig = plot_forecast(lasso_data,\n",
    "                    forecast_columns=['predictions'],\n",
    "                    forecast_display_names=model_display_name, timestamp_col ='timestamp',\n",
    "                    target_col_name=\"energy_consumption\")\n",
    "fig = format_plot(fig)\n",
    "fig.update_layout(\n",
    "    title=f\"{model_name[0]}: \"\\\n",
    "          f\"MSE: {ts_aggtest_metrics.loc[ts_aggtest_metrics.Algorithm==model_name[0]][['MSE']].iloc[0].item():.4f} | \"\\\n",
    "          f\"RMSE: {ts_aggtest_metrics.loc[ts_aggtest_metrics.Algorithm==model_name[0]][['RMSE']].iloc[0].item():.4f} | \"\\\n",
    "          f\"MAE: {ts_aggtest_metrics.loc[ts_aggtest_metrics.Algorithm==model_name[0]][['MAE']].iloc[0].item():.4f} | \"\\\n",
    "          f\"BIAS: {ts_aggtest_metrics.loc[ts_aggtest_metrics.Algorithm==model_name[0]][['Forecast Bias']].iloc[0].item():.4f}\"\n",
    ")\n",
    "fig.update_xaxes(type=\"date\", range=[\"2014-02-01\", \"2014-02-08\"])\n",
    "fig.write_image(dst_img/\"lasso.png\")\n",
    "fig.show()"
   ]
  },
  {
   "cell_type": "code",
   "execution_count": null,
   "id": "64abfac6",
   "metadata": {},
   "outputs": [
    {
     "data": {
      "application/vnd.plotly.v1+json": {
       "config": {
        "plotlyServerURL": "https://plot.ly"
       },
       "data": [
        {
         "line": {
          "color": "rgba(27,158,119, 0.3)"
         },
         "mode": "lines",
         "name": "Actual Consumption",
         "type": "scatter",
         "x": [
          "2014-02-01T00:00:00.000000000",
          "2014-02-01T00:30:00.000000000",
          "2014-02-01T01:00:00.000000000",
          "2014-02-01T01:30:00.000000000",
          "2014-02-01T02:00:00.000000000",
          "2014-02-01T02:30:00.000000000",
          "2014-02-01T03:00:00.000000000",
          "2014-02-01T03:30:00.000000000",
          "2014-02-01T04:00:00.000000000",
          "2014-02-01T04:30:00.000000000",
          "2014-02-01T05:00:00.000000000",
          "2014-02-01T05:30:00.000000000",
          "2014-02-01T06:00:00.000000000",
          "2014-02-01T06:30:00.000000000",
          "2014-02-01T07:00:00.000000000",
          "2014-02-01T07:30:00.000000000",
          "2014-02-01T08:00:00.000000000",
          "2014-02-01T08:30:00.000000000",
          "2014-02-01T09:00:00.000000000",
          "2014-02-01T09:30:00.000000000",
          "2014-02-01T10:00:00.000000000",
          "2014-02-01T10:30:00.000000000",
          "2014-02-01T11:00:00.000000000",
          "2014-02-01T11:30:00.000000000",
          "2014-02-01T12:00:00.000000000",
          "2014-02-01T12:30:00.000000000",
          "2014-02-01T13:00:00.000000000",
          "2014-02-01T13:30:00.000000000",
          "2014-02-01T14:00:00.000000000",
          "2014-02-01T14:30:00.000000000",
          "2014-02-01T15:00:00.000000000",
          "2014-02-01T15:30:00.000000000",
          "2014-02-01T16:00:00.000000000",
          "2014-02-01T16:30:00.000000000",
          "2014-02-01T17:00:00.000000000",
          "2014-02-01T17:30:00.000000000",
          "2014-02-01T18:00:00.000000000",
          "2014-02-01T18:30:00.000000000",
          "2014-02-01T19:00:00.000000000",
          "2014-02-01T19:30:00.000000000",
          "2014-02-01T20:00:00.000000000",
          "2014-02-01T20:30:00.000000000",
          "2014-02-01T21:00:00.000000000",
          "2014-02-01T21:30:00.000000000",
          "2014-02-01T22:00:00.000000000",
          "2014-02-01T22:30:00.000000000",
          "2014-02-01T23:00:00.000000000",
          "2014-02-01T23:30:00.000000000",
          "2014-02-02T00:00:00.000000000",
          "2014-02-02T00:30:00.000000000",
          "2014-02-02T01:00:00.000000000",
          "2014-02-02T01:30:00.000000000",
          "2014-02-02T02:00:00.000000000",
          "2014-02-02T02:30:00.000000000",
          "2014-02-02T03:00:00.000000000",
          "2014-02-02T03:30:00.000000000",
          "2014-02-02T04:00:00.000000000",
          "2014-02-02T04:30:00.000000000",
          "2014-02-02T05:00:00.000000000",
          "2014-02-02T05:30:00.000000000",
          "2014-02-02T06:00:00.000000000",
          "2014-02-02T06:30:00.000000000",
          "2014-02-02T07:00:00.000000000",
          "2014-02-02T07:30:00.000000000",
          "2014-02-02T08:00:00.000000000",
          "2014-02-02T08:30:00.000000000",
          "2014-02-02T09:00:00.000000000",
          "2014-02-02T09:30:00.000000000",
          "2014-02-02T10:00:00.000000000",
          "2014-02-02T10:30:00.000000000",
          "2014-02-02T11:00:00.000000000",
          "2014-02-02T11:30:00.000000000",
          "2014-02-02T12:00:00.000000000",
          "2014-02-02T12:30:00.000000000",
          "2014-02-02T13:00:00.000000000",
          "2014-02-02T13:30:00.000000000",
          "2014-02-02T14:00:00.000000000",
          "2014-02-02T14:30:00.000000000",
          "2014-02-02T15:00:00.000000000",
          "2014-02-02T15:30:00.000000000",
          "2014-02-02T16:00:00.000000000",
          "2014-02-02T16:30:00.000000000",
          "2014-02-02T17:00:00.000000000",
          "2014-02-02T17:30:00.000000000",
          "2014-02-02T18:00:00.000000000",
          "2014-02-02T18:30:00.000000000",
          "2014-02-02T19:00:00.000000000",
          "2014-02-02T19:30:00.000000000",
          "2014-02-02T20:00:00.000000000",
          "2014-02-02T20:30:00.000000000",
          "2014-02-02T21:00:00.000000000",
          "2014-02-02T21:30:00.000000000",
          "2014-02-02T22:00:00.000000000",
          "2014-02-02T22:30:00.000000000",
          "2014-02-02T23:00:00.000000000",
          "2014-02-02T23:30:00.000000000",
          "2014-02-03T00:00:00.000000000",
          "2014-02-03T00:30:00.000000000",
          "2014-02-03T01:00:00.000000000",
          "2014-02-03T01:30:00.000000000",
          "2014-02-03T02:00:00.000000000",
          "2014-02-03T02:30:00.000000000",
          "2014-02-03T03:00:00.000000000",
          "2014-02-03T03:30:00.000000000",
          "2014-02-03T04:00:00.000000000",
          "2014-02-03T04:30:00.000000000",
          "2014-02-03T05:00:00.000000000",
          "2014-02-03T05:30:00.000000000",
          "2014-02-03T06:00:00.000000000",
          "2014-02-03T06:30:00.000000000",
          "2014-02-03T07:00:00.000000000",
          "2014-02-03T07:30:00.000000000",
          "2014-02-03T08:00:00.000000000",
          "2014-02-03T08:30:00.000000000",
          "2014-02-03T09:00:00.000000000",
          "2014-02-03T09:30:00.000000000",
          "2014-02-03T10:00:00.000000000",
          "2014-02-03T10:30:00.000000000",
          "2014-02-03T11:00:00.000000000",
          "2014-02-03T11:30:00.000000000",
          "2014-02-03T12:00:00.000000000",
          "2014-02-03T12:30:00.000000000",
          "2014-02-03T13:00:00.000000000",
          "2014-02-03T13:30:00.000000000",
          "2014-02-03T14:00:00.000000000",
          "2014-02-03T14:30:00.000000000",
          "2014-02-03T15:00:00.000000000",
          "2014-02-03T15:30:00.000000000",
          "2014-02-03T16:00:00.000000000",
          "2014-02-03T16:30:00.000000000",
          "2014-02-03T17:00:00.000000000",
          "2014-02-03T17:30:00.000000000",
          "2014-02-03T18:00:00.000000000",
          "2014-02-03T18:30:00.000000000",
          "2014-02-03T19:00:00.000000000",
          "2014-02-03T19:30:00.000000000",
          "2014-02-03T20:00:00.000000000",
          "2014-02-03T20:30:00.000000000",
          "2014-02-03T21:00:00.000000000",
          "2014-02-03T21:30:00.000000000",
          "2014-02-03T22:00:00.000000000",
          "2014-02-03T22:30:00.000000000",
          "2014-02-03T23:00:00.000000000",
          "2014-02-03T23:30:00.000000000",
          "2014-02-04T00:00:00.000000000",
          "2014-02-04T00:30:00.000000000",
          "2014-02-04T01:00:00.000000000",
          "2014-02-04T01:30:00.000000000",
          "2014-02-04T02:00:00.000000000",
          "2014-02-04T02:30:00.000000000",
          "2014-02-04T03:00:00.000000000",
          "2014-02-04T03:30:00.000000000",
          "2014-02-04T04:00:00.000000000",
          "2014-02-04T04:30:00.000000000",
          "2014-02-04T05:00:00.000000000",
          "2014-02-04T05:30:00.000000000",
          "2014-02-04T06:00:00.000000000",
          "2014-02-04T06:30:00.000000000",
          "2014-02-04T07:00:00.000000000",
          "2014-02-04T07:30:00.000000000",
          "2014-02-04T08:00:00.000000000",
          "2014-02-04T08:30:00.000000000",
          "2014-02-04T09:00:00.000000000",
          "2014-02-04T09:30:00.000000000",
          "2014-02-04T10:00:00.000000000",
          "2014-02-04T10:30:00.000000000",
          "2014-02-04T11:00:00.000000000",
          "2014-02-04T11:30:00.000000000",
          "2014-02-04T12:00:00.000000000",
          "2014-02-04T12:30:00.000000000",
          "2014-02-04T13:00:00.000000000",
          "2014-02-04T13:30:00.000000000",
          "2014-02-04T14:00:00.000000000",
          "2014-02-04T14:30:00.000000000",
          "2014-02-04T15:00:00.000000000",
          "2014-02-04T15:30:00.000000000",
          "2014-02-04T16:00:00.000000000",
          "2014-02-04T16:30:00.000000000",
          "2014-02-04T17:00:00.000000000",
          "2014-02-04T17:30:00.000000000",
          "2014-02-04T18:00:00.000000000",
          "2014-02-04T18:30:00.000000000",
          "2014-02-04T19:00:00.000000000",
          "2014-02-04T19:30:00.000000000",
          "2014-02-04T20:00:00.000000000",
          "2014-02-04T20:30:00.000000000",
          "2014-02-04T21:00:00.000000000",
          "2014-02-04T21:30:00.000000000",
          "2014-02-04T22:00:00.000000000",
          "2014-02-04T22:30:00.000000000",
          "2014-02-04T23:00:00.000000000",
          "2014-02-04T23:30:00.000000000",
          "2014-02-05T00:00:00.000000000",
          "2014-02-05T00:30:00.000000000",
          "2014-02-05T01:00:00.000000000",
          "2014-02-05T01:30:00.000000000",
          "2014-02-05T02:00:00.000000000",
          "2014-02-05T02:30:00.000000000",
          "2014-02-05T03:00:00.000000000",
          "2014-02-05T03:30:00.000000000",
          "2014-02-05T04:00:00.000000000",
          "2014-02-05T04:30:00.000000000",
          "2014-02-05T05:00:00.000000000",
          "2014-02-05T05:30:00.000000000",
          "2014-02-05T06:00:00.000000000",
          "2014-02-05T06:30:00.000000000",
          "2014-02-05T07:00:00.000000000",
          "2014-02-05T07:30:00.000000000",
          "2014-02-05T08:00:00.000000000",
          "2014-02-05T08:30:00.000000000",
          "2014-02-05T09:00:00.000000000",
          "2014-02-05T09:30:00.000000000",
          "2014-02-05T10:00:00.000000000",
          "2014-02-05T10:30:00.000000000",
          "2014-02-05T11:00:00.000000000",
          "2014-02-05T11:30:00.000000000",
          "2014-02-05T12:00:00.000000000",
          "2014-02-05T12:30:00.000000000",
          "2014-02-05T13:00:00.000000000",
          "2014-02-05T13:30:00.000000000",
          "2014-02-05T14:00:00.000000000",
          "2014-02-05T14:30:00.000000000",
          "2014-02-05T15:00:00.000000000",
          "2014-02-05T15:30:00.000000000",
          "2014-02-05T16:00:00.000000000",
          "2014-02-05T16:30:00.000000000",
          "2014-02-05T17:00:00.000000000",
          "2014-02-05T17:30:00.000000000",
          "2014-02-05T18:00:00.000000000",
          "2014-02-05T18:30:00.000000000",
          "2014-02-05T19:00:00.000000000",
          "2014-02-05T19:30:00.000000000",
          "2014-02-05T20:00:00.000000000",
          "2014-02-05T20:30:00.000000000",
          "2014-02-05T21:00:00.000000000",
          "2014-02-05T21:30:00.000000000",
          "2014-02-05T22:00:00.000000000",
          "2014-02-05T22:30:00.000000000",
          "2014-02-05T23:00:00.000000000",
          "2014-02-05T23:30:00.000000000",
          "2014-02-06T00:00:00.000000000",
          "2014-02-06T00:30:00.000000000",
          "2014-02-06T01:00:00.000000000",
          "2014-02-06T01:30:00.000000000",
          "2014-02-06T02:00:00.000000000",
          "2014-02-06T02:30:00.000000000",
          "2014-02-06T03:00:00.000000000",
          "2014-02-06T03:30:00.000000000",
          "2014-02-06T04:00:00.000000000",
          "2014-02-06T04:30:00.000000000",
          "2014-02-06T05:00:00.000000000",
          "2014-02-06T05:30:00.000000000",
          "2014-02-06T06:00:00.000000000",
          "2014-02-06T06:30:00.000000000",
          "2014-02-06T07:00:00.000000000",
          "2014-02-06T07:30:00.000000000",
          "2014-02-06T08:00:00.000000000",
          "2014-02-06T08:30:00.000000000",
          "2014-02-06T09:00:00.000000000",
          "2014-02-06T09:30:00.000000000",
          "2014-02-06T10:00:00.000000000",
          "2014-02-06T10:30:00.000000000",
          "2014-02-06T11:00:00.000000000",
          "2014-02-06T11:30:00.000000000",
          "2014-02-06T12:00:00.000000000",
          "2014-02-06T12:30:00.000000000",
          "2014-02-06T13:00:00.000000000",
          "2014-02-06T13:30:00.000000000",
          "2014-02-06T14:00:00.000000000",
          "2014-02-06T14:30:00.000000000",
          "2014-02-06T15:00:00.000000000",
          "2014-02-06T15:30:00.000000000",
          "2014-02-06T16:00:00.000000000",
          "2014-02-06T16:30:00.000000000",
          "2014-02-06T17:00:00.000000000",
          "2014-02-06T17:30:00.000000000",
          "2014-02-06T18:00:00.000000000",
          "2014-02-06T18:30:00.000000000",
          "2014-02-06T19:00:00.000000000",
          "2014-02-06T19:30:00.000000000",
          "2014-02-06T20:00:00.000000000",
          "2014-02-06T20:30:00.000000000",
          "2014-02-06T21:00:00.000000000",
          "2014-02-06T21:30:00.000000000",
          "2014-02-06T22:00:00.000000000",
          "2014-02-06T22:30:00.000000000",
          "2014-02-06T23:00:00.000000000",
          "2014-02-06T23:30:00.000000000",
          "2014-02-07T00:00:00.000000000",
          "2014-02-07T00:30:00.000000000",
          "2014-02-07T01:00:00.000000000",
          "2014-02-07T01:30:00.000000000",
          "2014-02-07T02:00:00.000000000",
          "2014-02-07T02:30:00.000000000",
          "2014-02-07T03:00:00.000000000",
          "2014-02-07T03:30:00.000000000",
          "2014-02-07T04:00:00.000000000",
          "2014-02-07T04:30:00.000000000",
          "2014-02-07T05:00:00.000000000",
          "2014-02-07T05:30:00.000000000",
          "2014-02-07T06:00:00.000000000",
          "2014-02-07T06:30:00.000000000",
          "2014-02-07T07:00:00.000000000",
          "2014-02-07T07:30:00.000000000",
          "2014-02-07T08:00:00.000000000",
          "2014-02-07T08:30:00.000000000",
          "2014-02-07T09:00:00.000000000",
          "2014-02-07T09:30:00.000000000",
          "2014-02-07T10:00:00.000000000",
          "2014-02-07T10:30:00.000000000",
          "2014-02-07T11:00:00.000000000",
          "2014-02-07T11:30:00.000000000",
          "2014-02-07T12:00:00.000000000",
          "2014-02-07T12:30:00.000000000",
          "2014-02-07T13:00:00.000000000",
          "2014-02-07T13:30:00.000000000",
          "2014-02-07T14:00:00.000000000",
          "2014-02-07T14:30:00.000000000",
          "2014-02-07T15:00:00.000000000",
          "2014-02-07T15:30:00.000000000",
          "2014-02-07T16:00:00.000000000",
          "2014-02-07T16:30:00.000000000",
          "2014-02-07T17:00:00.000000000",
          "2014-02-07T17:30:00.000000000",
          "2014-02-07T18:00:00.000000000",
          "2014-02-07T18:30:00.000000000",
          "2014-02-07T19:00:00.000000000",
          "2014-02-07T19:30:00.000000000",
          "2014-02-07T20:00:00.000000000",
          "2014-02-07T20:30:00.000000000",
          "2014-02-07T21:00:00.000000000",
          "2014-02-07T21:30:00.000000000",
          "2014-02-07T22:00:00.000000000",
          "2014-02-07T22:30:00.000000000",
          "2014-02-07T23:00:00.000000000",
          "2014-02-07T23:30:00.000000000",
          "2014-02-08T00:00:00.000000000",
          "2014-02-08T00:30:00.000000000",
          "2014-02-08T01:00:00.000000000",
          "2014-02-08T01:30:00.000000000",
          "2014-02-08T02:00:00.000000000",
          "2014-02-08T02:30:00.000000000",
          "2014-02-08T03:00:00.000000000",
          "2014-02-08T03:30:00.000000000",
          "2014-02-08T04:00:00.000000000",
          "2014-02-08T04:30:00.000000000",
          "2014-02-08T05:00:00.000000000",
          "2014-02-08T05:30:00.000000000",
          "2014-02-08T06:00:00.000000000",
          "2014-02-08T06:30:00.000000000",
          "2014-02-08T07:00:00.000000000",
          "2014-02-08T07:30:00.000000000",
          "2014-02-08T08:00:00.000000000",
          "2014-02-08T08:30:00.000000000",
          "2014-02-08T09:00:00.000000000",
          "2014-02-08T09:30:00.000000000",
          "2014-02-08T10:00:00.000000000",
          "2014-02-08T10:30:00.000000000",
          "2014-02-08T11:00:00.000000000",
          "2014-02-08T11:30:00.000000000",
          "2014-02-08T12:00:00.000000000",
          "2014-02-08T12:30:00.000000000",
          "2014-02-08T13:00:00.000000000",
          "2014-02-08T13:30:00.000000000",
          "2014-02-08T14:00:00.000000000",
          "2014-02-08T14:30:00.000000000",
          "2014-02-08T15:00:00.000000000",
          "2014-02-08T15:30:00.000000000",
          "2014-02-08T16:00:00.000000000",
          "2014-02-08T16:30:00.000000000",
          "2014-02-08T17:00:00.000000000",
          "2014-02-08T17:30:00.000000000",
          "2014-02-08T18:00:00.000000000",
          "2014-02-08T18:30:00.000000000",
          "2014-02-08T19:00:00.000000000",
          "2014-02-08T19:30:00.000000000",
          "2014-02-08T20:00:00.000000000",
          "2014-02-08T20:30:00.000000000",
          "2014-02-08T21:00:00.000000000",
          "2014-02-08T21:30:00.000000000",
          "2014-02-08T22:00:00.000000000",
          "2014-02-08T22:30:00.000000000",
          "2014-02-08T23:00:00.000000000",
          "2014-02-08T23:30:00.000000000",
          "2014-02-09T00:00:00.000000000",
          "2014-02-09T00:30:00.000000000",
          "2014-02-09T01:00:00.000000000",
          "2014-02-09T01:30:00.000000000",
          "2014-02-09T02:00:00.000000000",
          "2014-02-09T02:30:00.000000000",
          "2014-02-09T03:00:00.000000000",
          "2014-02-09T03:30:00.000000000",
          "2014-02-09T04:00:00.000000000",
          "2014-02-09T04:30:00.000000000",
          "2014-02-09T05:00:00.000000000",
          "2014-02-09T05:30:00.000000000",
          "2014-02-09T06:00:00.000000000",
          "2014-02-09T06:30:00.000000000",
          "2014-02-09T07:00:00.000000000",
          "2014-02-09T07:30:00.000000000",
          "2014-02-09T08:00:00.000000000",
          "2014-02-09T08:30:00.000000000",
          "2014-02-09T09:00:00.000000000",
          "2014-02-09T09:30:00.000000000",
          "2014-02-09T10:00:00.000000000",
          "2014-02-09T10:30:00.000000000",
          "2014-02-09T11:00:00.000000000",
          "2014-02-09T11:30:00.000000000",
          "2014-02-09T12:00:00.000000000",
          "2014-02-09T12:30:00.000000000",
          "2014-02-09T13:00:00.000000000",
          "2014-02-09T13:30:00.000000000",
          "2014-02-09T14:00:00.000000000",
          "2014-02-09T14:30:00.000000000",
          "2014-02-09T15:00:00.000000000",
          "2014-02-09T15:30:00.000000000",
          "2014-02-09T16:00:00.000000000",
          "2014-02-09T16:30:00.000000000",
          "2014-02-09T17:00:00.000000000",
          "2014-02-09T17:30:00.000000000",
          "2014-02-09T18:00:00.000000000",
          "2014-02-09T18:30:00.000000000",
          "2014-02-09T19:00:00.000000000",
          "2014-02-09T19:30:00.000000000",
          "2014-02-09T20:00:00.000000000",
          "2014-02-09T20:30:00.000000000",
          "2014-02-09T21:00:00.000000000",
          "2014-02-09T21:30:00.000000000",
          "2014-02-09T22:00:00.000000000",
          "2014-02-09T22:30:00.000000000",
          "2014-02-09T23:00:00.000000000",
          "2014-02-09T23:30:00.000000000",
          "2014-02-10T00:00:00.000000000",
          "2014-02-10T00:30:00.000000000",
          "2014-02-10T01:00:00.000000000",
          "2014-02-10T01:30:00.000000000",
          "2014-02-10T02:00:00.000000000",
          "2014-02-10T02:30:00.000000000",
          "2014-02-10T03:00:00.000000000",
          "2014-02-10T03:30:00.000000000",
          "2014-02-10T04:00:00.000000000",
          "2014-02-10T04:30:00.000000000",
          "2014-02-10T05:00:00.000000000",
          "2014-02-10T05:30:00.000000000",
          "2014-02-10T06:00:00.000000000",
          "2014-02-10T06:30:00.000000000",
          "2014-02-10T07:00:00.000000000",
          "2014-02-10T07:30:00.000000000",
          "2014-02-10T08:00:00.000000000",
          "2014-02-10T08:30:00.000000000",
          "2014-02-10T09:00:00.000000000",
          "2014-02-10T09:30:00.000000000",
          "2014-02-10T10:00:00.000000000",
          "2014-02-10T10:30:00.000000000",
          "2014-02-10T11:00:00.000000000",
          "2014-02-10T11:30:00.000000000",
          "2014-02-10T12:00:00.000000000",
          "2014-02-10T12:30:00.000000000",
          "2014-02-10T13:00:00.000000000",
          "2014-02-10T13:30:00.000000000",
          "2014-02-10T14:00:00.000000000",
          "2014-02-10T14:30:00.000000000",
          "2014-02-10T15:00:00.000000000",
          "2014-02-10T15:30:00.000000000",
          "2014-02-10T16:00:00.000000000",
          "2014-02-10T16:30:00.000000000",
          "2014-02-10T17:00:00.000000000",
          "2014-02-10T17:30:00.000000000",
          "2014-02-10T18:00:00.000000000",
          "2014-02-10T18:30:00.000000000",
          "2014-02-10T19:00:00.000000000",
          "2014-02-10T19:30:00.000000000",
          "2014-02-10T20:00:00.000000000",
          "2014-02-10T20:30:00.000000000",
          "2014-02-10T21:00:00.000000000",
          "2014-02-10T21:30:00.000000000",
          "2014-02-10T22:00:00.000000000",
          "2014-02-10T22:30:00.000000000",
          "2014-02-10T23:00:00.000000000",
          "2014-02-10T23:30:00.000000000",
          "2014-02-11T00:00:00.000000000",
          "2014-02-11T00:30:00.000000000",
          "2014-02-11T01:00:00.000000000",
          "2014-02-11T01:30:00.000000000",
          "2014-02-11T02:00:00.000000000",
          "2014-02-11T02:30:00.000000000",
          "2014-02-11T03:00:00.000000000",
          "2014-02-11T03:30:00.000000000",
          "2014-02-11T04:00:00.000000000",
          "2014-02-11T04:30:00.000000000",
          "2014-02-11T05:00:00.000000000",
          "2014-02-11T05:30:00.000000000",
          "2014-02-11T06:00:00.000000000",
          "2014-02-11T06:30:00.000000000",
          "2014-02-11T07:00:00.000000000",
          "2014-02-11T07:30:00.000000000",
          "2014-02-11T08:00:00.000000000",
          "2014-02-11T08:30:00.000000000",
          "2014-02-11T09:00:00.000000000",
          "2014-02-11T09:30:00.000000000",
          "2014-02-11T10:00:00.000000000",
          "2014-02-11T10:30:00.000000000",
          "2014-02-11T11:00:00.000000000",
          "2014-02-11T11:30:00.000000000",
          "2014-02-11T12:00:00.000000000",
          "2014-02-11T12:30:00.000000000",
          "2014-02-11T13:00:00.000000000",
          "2014-02-11T13:30:00.000000000",
          "2014-02-11T14:00:00.000000000",
          "2014-02-11T14:30:00.000000000",
          "2014-02-11T15:00:00.000000000",
          "2014-02-11T15:30:00.000000000",
          "2014-02-11T16:00:00.000000000",
          "2014-02-11T16:30:00.000000000",
          "2014-02-11T17:00:00.000000000",
          "2014-02-11T17:30:00.000000000",
          "2014-02-11T18:00:00.000000000",
          "2014-02-11T18:30:00.000000000",
          "2014-02-11T19:00:00.000000000",
          "2014-02-11T19:30:00.000000000",
          "2014-02-11T20:00:00.000000000",
          "2014-02-11T20:30:00.000000000",
          "2014-02-11T21:00:00.000000000",
          "2014-02-11T21:30:00.000000000",
          "2014-02-11T22:00:00.000000000",
          "2014-02-11T22:30:00.000000000",
          "2014-02-11T23:00:00.000000000",
          "2014-02-11T23:30:00.000000000",
          "2014-02-12T00:00:00.000000000",
          "2014-02-12T00:30:00.000000000",
          "2014-02-12T01:00:00.000000000",
          "2014-02-12T01:30:00.000000000",
          "2014-02-12T02:00:00.000000000",
          "2014-02-12T02:30:00.000000000",
          "2014-02-12T03:00:00.000000000",
          "2014-02-12T03:30:00.000000000",
          "2014-02-12T04:00:00.000000000",
          "2014-02-12T04:30:00.000000000",
          "2014-02-12T05:00:00.000000000",
          "2014-02-12T05:30:00.000000000",
          "2014-02-12T06:00:00.000000000",
          "2014-02-12T06:30:00.000000000",
          "2014-02-12T07:00:00.000000000",
          "2014-02-12T07:30:00.000000000",
          "2014-02-12T08:00:00.000000000",
          "2014-02-12T08:30:00.000000000",
          "2014-02-12T09:00:00.000000000",
          "2014-02-12T09:30:00.000000000",
          "2014-02-12T10:00:00.000000000",
          "2014-02-12T10:30:00.000000000",
          "2014-02-12T11:00:00.000000000",
          "2014-02-12T11:30:00.000000000",
          "2014-02-12T12:00:00.000000000",
          "2014-02-12T12:30:00.000000000",
          "2014-02-12T13:00:00.000000000",
          "2014-02-12T13:30:00.000000000",
          "2014-02-12T14:00:00.000000000",
          "2014-02-12T14:30:00.000000000",
          "2014-02-12T15:00:00.000000000",
          "2014-02-12T15:30:00.000000000",
          "2014-02-12T16:00:00.000000000",
          "2014-02-12T16:30:00.000000000",
          "2014-02-12T17:00:00.000000000",
          "2014-02-12T17:30:00.000000000",
          "2014-02-12T18:00:00.000000000",
          "2014-02-12T18:30:00.000000000",
          "2014-02-12T19:00:00.000000000",
          "2014-02-12T19:30:00.000000000",
          "2014-02-12T20:00:00.000000000",
          "2014-02-12T20:30:00.000000000",
          "2014-02-12T21:00:00.000000000",
          "2014-02-12T21:30:00.000000000",
          "2014-02-12T22:00:00.000000000",
          "2014-02-12T22:30:00.000000000",
          "2014-02-12T23:00:00.000000000",
          "2014-02-12T23:30:00.000000000",
          "2014-02-13T00:00:00.000000000",
          "2014-02-13T00:30:00.000000000",
          "2014-02-13T01:00:00.000000000",
          "2014-02-13T01:30:00.000000000",
          "2014-02-13T02:00:00.000000000",
          "2014-02-13T02:30:00.000000000",
          "2014-02-13T03:00:00.000000000",
          "2014-02-13T03:30:00.000000000",
          "2014-02-13T04:00:00.000000000",
          "2014-02-13T04:30:00.000000000",
          "2014-02-13T05:00:00.000000000",
          "2014-02-13T05:30:00.000000000",
          "2014-02-13T06:00:00.000000000",
          "2014-02-13T06:30:00.000000000",
          "2014-02-13T07:00:00.000000000",
          "2014-02-13T07:30:00.000000000",
          "2014-02-13T08:00:00.000000000",
          "2014-02-13T08:30:00.000000000",
          "2014-02-13T09:00:00.000000000",
          "2014-02-13T09:30:00.000000000",
          "2014-02-13T10:00:00.000000000",
          "2014-02-13T10:30:00.000000000",
          "2014-02-13T11:00:00.000000000",
          "2014-02-13T11:30:00.000000000",
          "2014-02-13T12:00:00.000000000",
          "2014-02-13T12:30:00.000000000",
          "2014-02-13T13:00:00.000000000",
          "2014-02-13T13:30:00.000000000",
          "2014-02-13T14:00:00.000000000",
          "2014-02-13T14:30:00.000000000",
          "2014-02-13T15:00:00.000000000",
          "2014-02-13T15:30:00.000000000",
          "2014-02-13T16:00:00.000000000",
          "2014-02-13T16:30:00.000000000",
          "2014-02-13T17:00:00.000000000",
          "2014-02-13T17:30:00.000000000",
          "2014-02-13T18:00:00.000000000",
          "2014-02-13T18:30:00.000000000",
          "2014-02-13T19:00:00.000000000",
          "2014-02-13T19:30:00.000000000",
          "2014-02-13T20:00:00.000000000",
          "2014-02-13T20:30:00.000000000",
          "2014-02-13T21:00:00.000000000",
          "2014-02-13T21:30:00.000000000",
          "2014-02-13T22:00:00.000000000",
          "2014-02-13T22:30:00.000000000",
          "2014-02-13T23:00:00.000000000",
          "2014-02-13T23:30:00.000000000",
          "2014-02-14T00:00:00.000000000",
          "2014-02-14T00:30:00.000000000",
          "2014-02-14T01:00:00.000000000",
          "2014-02-14T01:30:00.000000000",
          "2014-02-14T02:00:00.000000000",
          "2014-02-14T02:30:00.000000000",
          "2014-02-14T03:00:00.000000000",
          "2014-02-14T03:30:00.000000000",
          "2014-02-14T04:00:00.000000000",
          "2014-02-14T04:30:00.000000000",
          "2014-02-14T05:00:00.000000000",
          "2014-02-14T05:30:00.000000000",
          "2014-02-14T06:00:00.000000000",
          "2014-02-14T06:30:00.000000000",
          "2014-02-14T07:00:00.000000000",
          "2014-02-14T07:30:00.000000000",
          "2014-02-14T08:00:00.000000000",
          "2014-02-14T08:30:00.000000000",
          "2014-02-14T09:00:00.000000000",
          "2014-02-14T09:30:00.000000000",
          "2014-02-14T10:00:00.000000000",
          "2014-02-14T10:30:00.000000000",
          "2014-02-14T11:00:00.000000000",
          "2014-02-14T11:30:00.000000000",
          "2014-02-14T12:00:00.000000000",
          "2014-02-14T12:30:00.000000000",
          "2014-02-14T13:00:00.000000000",
          "2014-02-14T13:30:00.000000000",
          "2014-02-14T14:00:00.000000000",
          "2014-02-14T14:30:00.000000000",
          "2014-02-14T15:00:00.000000000",
          "2014-02-14T15:30:00.000000000",
          "2014-02-14T16:00:00.000000000",
          "2014-02-14T16:30:00.000000000",
          "2014-02-14T17:00:00.000000000",
          "2014-02-14T17:30:00.000000000",
          "2014-02-14T18:00:00.000000000",
          "2014-02-14T18:30:00.000000000",
          "2014-02-14T19:00:00.000000000",
          "2014-02-14T19:30:00.000000000",
          "2014-02-14T20:00:00.000000000",
          "2014-02-14T20:30:00.000000000",
          "2014-02-14T21:00:00.000000000",
          "2014-02-14T21:30:00.000000000",
          "2014-02-14T22:00:00.000000000",
          "2014-02-14T22:30:00.000000000",
          "2014-02-14T23:00:00.000000000",
          "2014-02-14T23:30:00.000000000",
          "2014-02-15T00:00:00.000000000",
          "2014-02-15T00:30:00.000000000",
          "2014-02-15T01:00:00.000000000",
          "2014-02-15T01:30:00.000000000",
          "2014-02-15T02:00:00.000000000",
          "2014-02-15T02:30:00.000000000",
          "2014-02-15T03:00:00.000000000",
          "2014-02-15T03:30:00.000000000",
          "2014-02-15T04:00:00.000000000",
          "2014-02-15T04:30:00.000000000",
          "2014-02-15T05:00:00.000000000",
          "2014-02-15T05:30:00.000000000",
          "2014-02-15T06:00:00.000000000",
          "2014-02-15T06:30:00.000000000",
          "2014-02-15T07:00:00.000000000",
          "2014-02-15T07:30:00.000000000",
          "2014-02-15T08:00:00.000000000",
          "2014-02-15T08:30:00.000000000",
          "2014-02-15T09:00:00.000000000",
          "2014-02-15T09:30:00.000000000",
          "2014-02-15T10:00:00.000000000",
          "2014-02-15T10:30:00.000000000",
          "2014-02-15T11:00:00.000000000",
          "2014-02-15T11:30:00.000000000",
          "2014-02-15T12:00:00.000000000",
          "2014-02-15T12:30:00.000000000",
          "2014-02-15T13:00:00.000000000",
          "2014-02-15T13:30:00.000000000",
          "2014-02-15T14:00:00.000000000",
          "2014-02-15T14:30:00.000000000",
          "2014-02-15T15:00:00.000000000",
          "2014-02-15T15:30:00.000000000",
          "2014-02-15T16:00:00.000000000",
          "2014-02-15T16:30:00.000000000",
          "2014-02-15T17:00:00.000000000",
          "2014-02-15T17:30:00.000000000",
          "2014-02-15T18:00:00.000000000",
          "2014-02-15T18:30:00.000000000",
          "2014-02-15T19:00:00.000000000",
          "2014-02-15T19:30:00.000000000",
          "2014-02-15T20:00:00.000000000",
          "2014-02-15T20:30:00.000000000",
          "2014-02-15T21:00:00.000000000",
          "2014-02-15T21:30:00.000000000",
          "2014-02-15T22:00:00.000000000",
          "2014-02-15T22:30:00.000000000",
          "2014-02-15T23:00:00.000000000",
          "2014-02-15T23:30:00.000000000",
          "2014-02-16T00:00:00.000000000",
          "2014-02-16T00:30:00.000000000",
          "2014-02-16T01:00:00.000000000",
          "2014-02-16T01:30:00.000000000",
          "2014-02-16T02:00:00.000000000",
          "2014-02-16T02:30:00.000000000",
          "2014-02-16T03:00:00.000000000",
          "2014-02-16T03:30:00.000000000",
          "2014-02-16T04:00:00.000000000",
          "2014-02-16T04:30:00.000000000",
          "2014-02-16T05:00:00.000000000",
          "2014-02-16T05:30:00.000000000",
          "2014-02-16T06:00:00.000000000",
          "2014-02-16T06:30:00.000000000",
          "2014-02-16T07:00:00.000000000",
          "2014-02-16T07:30:00.000000000",
          "2014-02-16T08:00:00.000000000",
          "2014-02-16T08:30:00.000000000",
          "2014-02-16T09:00:00.000000000",
          "2014-02-16T09:30:00.000000000",
          "2014-02-16T10:00:00.000000000",
          "2014-02-16T10:30:00.000000000",
          "2014-02-16T11:00:00.000000000",
          "2014-02-16T11:30:00.000000000",
          "2014-02-16T12:00:00.000000000",
          "2014-02-16T12:30:00.000000000",
          "2014-02-16T13:00:00.000000000",
          "2014-02-16T13:30:00.000000000",
          "2014-02-16T14:00:00.000000000",
          "2014-02-16T14:30:00.000000000",
          "2014-02-16T15:00:00.000000000",
          "2014-02-16T15:30:00.000000000",
          "2014-02-16T16:00:00.000000000",
          "2014-02-16T16:30:00.000000000",
          "2014-02-16T17:00:00.000000000",
          "2014-02-16T17:30:00.000000000",
          "2014-02-16T18:00:00.000000000",
          "2014-02-16T18:30:00.000000000",
          "2014-02-16T19:00:00.000000000",
          "2014-02-16T19:30:00.000000000",
          "2014-02-16T20:00:00.000000000",
          "2014-02-16T20:30:00.000000000",
          "2014-02-16T21:00:00.000000000",
          "2014-02-16T21:30:00.000000000",
          "2014-02-16T22:00:00.000000000",
          "2014-02-16T22:30:00.000000000",
          "2014-02-16T23:00:00.000000000",
          "2014-02-16T23:30:00.000000000",
          "2014-02-17T00:00:00.000000000",
          "2014-02-17T00:30:00.000000000",
          "2014-02-17T01:00:00.000000000",
          "2014-02-17T01:30:00.000000000",
          "2014-02-17T02:00:00.000000000",
          "2014-02-17T02:30:00.000000000",
          "2014-02-17T03:00:00.000000000",
          "2014-02-17T03:30:00.000000000",
          "2014-02-17T04:00:00.000000000",
          "2014-02-17T04:30:00.000000000",
          "2014-02-17T05:00:00.000000000",
          "2014-02-17T05:30:00.000000000",
          "2014-02-17T06:00:00.000000000",
          "2014-02-17T06:30:00.000000000",
          "2014-02-17T07:00:00.000000000",
          "2014-02-17T07:30:00.000000000",
          "2014-02-17T08:00:00.000000000",
          "2014-02-17T08:30:00.000000000",
          "2014-02-17T09:00:00.000000000",
          "2014-02-17T09:30:00.000000000",
          "2014-02-17T10:00:00.000000000",
          "2014-02-17T10:30:00.000000000",
          "2014-02-17T11:00:00.000000000",
          "2014-02-17T11:30:00.000000000",
          "2014-02-17T12:00:00.000000000",
          "2014-02-17T12:30:00.000000000",
          "2014-02-17T13:00:00.000000000",
          "2014-02-17T13:30:00.000000000",
          "2014-02-17T14:00:00.000000000",
          "2014-02-17T14:30:00.000000000",
          "2014-02-17T15:00:00.000000000",
          "2014-02-17T15:30:00.000000000",
          "2014-02-17T16:00:00.000000000",
          "2014-02-17T16:30:00.000000000",
          "2014-02-17T17:00:00.000000000",
          "2014-02-17T17:30:00.000000000",
          "2014-02-17T18:00:00.000000000",
          "2014-02-17T18:30:00.000000000",
          "2014-02-17T19:00:00.000000000",
          "2014-02-17T19:30:00.000000000",
          "2014-02-17T20:00:00.000000000",
          "2014-02-17T20:30:00.000000000",
          "2014-02-17T21:00:00.000000000",
          "2014-02-17T21:30:00.000000000",
          "2014-02-17T22:00:00.000000000",
          "2014-02-17T22:30:00.000000000",
          "2014-02-17T23:00:00.000000000",
          "2014-02-17T23:30:00.000000000",
          "2014-02-18T00:00:00.000000000",
          "2014-02-18T00:30:00.000000000",
          "2014-02-18T01:00:00.000000000",
          "2014-02-18T01:30:00.000000000",
          "2014-02-18T02:00:00.000000000",
          "2014-02-18T02:30:00.000000000",
          "2014-02-18T03:00:00.000000000",
          "2014-02-18T03:30:00.000000000",
          "2014-02-18T04:00:00.000000000",
          "2014-02-18T04:30:00.000000000",
          "2014-02-18T05:00:00.000000000",
          "2014-02-18T05:30:00.000000000",
          "2014-02-18T06:00:00.000000000",
          "2014-02-18T06:30:00.000000000",
          "2014-02-18T07:00:00.000000000",
          "2014-02-18T07:30:00.000000000",
          "2014-02-18T08:00:00.000000000",
          "2014-02-18T08:30:00.000000000",
          "2014-02-18T09:00:00.000000000",
          "2014-02-18T09:30:00.000000000",
          "2014-02-18T10:00:00.000000000",
          "2014-02-18T10:30:00.000000000",
          "2014-02-18T11:00:00.000000000",
          "2014-02-18T11:30:00.000000000",
          "2014-02-18T12:00:00.000000000",
          "2014-02-18T12:30:00.000000000",
          "2014-02-18T13:00:00.000000000",
          "2014-02-18T13:30:00.000000000",
          "2014-02-18T14:00:00.000000000",
          "2014-02-18T14:30:00.000000000",
          "2014-02-18T15:00:00.000000000",
          "2014-02-18T15:30:00.000000000",
          "2014-02-18T16:00:00.000000000",
          "2014-02-18T16:30:00.000000000",
          "2014-02-18T17:00:00.000000000",
          "2014-02-18T17:30:00.000000000",
          "2014-02-18T18:00:00.000000000",
          "2014-02-18T18:30:00.000000000",
          "2014-02-18T19:00:00.000000000",
          "2014-02-18T19:30:00.000000000",
          "2014-02-18T20:00:00.000000000",
          "2014-02-18T20:30:00.000000000",
          "2014-02-18T21:00:00.000000000",
          "2014-02-18T21:30:00.000000000",
          "2014-02-18T22:00:00.000000000",
          "2014-02-18T22:30:00.000000000",
          "2014-02-18T23:00:00.000000000",
          "2014-02-18T23:30:00.000000000",
          "2014-02-19T00:00:00.000000000",
          "2014-02-19T00:30:00.000000000",
          "2014-02-19T01:00:00.000000000",
          "2014-02-19T01:30:00.000000000",
          "2014-02-19T02:00:00.000000000",
          "2014-02-19T02:30:00.000000000",
          "2014-02-19T03:00:00.000000000",
          "2014-02-19T03:30:00.000000000",
          "2014-02-19T04:00:00.000000000",
          "2014-02-19T04:30:00.000000000",
          "2014-02-19T05:00:00.000000000",
          "2014-02-19T05:30:00.000000000",
          "2014-02-19T06:00:00.000000000",
          "2014-02-19T06:30:00.000000000",
          "2014-02-19T07:00:00.000000000",
          "2014-02-19T07:30:00.000000000",
          "2014-02-19T08:00:00.000000000",
          "2014-02-19T08:30:00.000000000",
          "2014-02-19T09:00:00.000000000",
          "2014-02-19T09:30:00.000000000",
          "2014-02-19T10:00:00.000000000",
          "2014-02-19T10:30:00.000000000",
          "2014-02-19T11:00:00.000000000",
          "2014-02-19T11:30:00.000000000",
          "2014-02-19T12:00:00.000000000",
          "2014-02-19T12:30:00.000000000",
          "2014-02-19T13:00:00.000000000",
          "2014-02-19T13:30:00.000000000",
          "2014-02-19T14:00:00.000000000",
          "2014-02-19T14:30:00.000000000",
          "2014-02-19T15:00:00.000000000",
          "2014-02-19T15:30:00.000000000",
          "2014-02-19T16:00:00.000000000",
          "2014-02-19T16:30:00.000000000",
          "2014-02-19T17:00:00.000000000",
          "2014-02-19T17:30:00.000000000",
          "2014-02-19T18:00:00.000000000",
          "2014-02-19T18:30:00.000000000",
          "2014-02-19T19:00:00.000000000",
          "2014-02-19T19:30:00.000000000",
          "2014-02-19T20:00:00.000000000",
          "2014-02-19T20:30:00.000000000",
          "2014-02-19T21:00:00.000000000",
          "2014-02-19T21:30:00.000000000",
          "2014-02-19T22:00:00.000000000",
          "2014-02-19T22:30:00.000000000",
          "2014-02-19T23:00:00.000000000",
          "2014-02-19T23:30:00.000000000",
          "2014-02-20T00:00:00.000000000",
          "2014-02-20T00:30:00.000000000",
          "2014-02-20T01:00:00.000000000",
          "2014-02-20T01:30:00.000000000",
          "2014-02-20T02:00:00.000000000",
          "2014-02-20T02:30:00.000000000",
          "2014-02-20T03:00:00.000000000",
          "2014-02-20T03:30:00.000000000",
          "2014-02-20T04:00:00.000000000",
          "2014-02-20T04:30:00.000000000",
          "2014-02-20T05:00:00.000000000",
          "2014-02-20T05:30:00.000000000",
          "2014-02-20T06:00:00.000000000",
          "2014-02-20T06:30:00.000000000",
          "2014-02-20T07:00:00.000000000",
          "2014-02-20T07:30:00.000000000",
          "2014-02-20T08:00:00.000000000",
          "2014-02-20T08:30:00.000000000",
          "2014-02-20T09:00:00.000000000",
          "2014-02-20T09:30:00.000000000",
          "2014-02-20T10:00:00.000000000",
          "2014-02-20T10:30:00.000000000",
          "2014-02-20T11:00:00.000000000",
          "2014-02-20T11:30:00.000000000",
          "2014-02-20T12:00:00.000000000",
          "2014-02-20T12:30:00.000000000",
          "2014-02-20T13:00:00.000000000",
          "2014-02-20T13:30:00.000000000",
          "2014-02-20T14:00:00.000000000",
          "2014-02-20T14:30:00.000000000",
          "2014-02-20T15:00:00.000000000",
          "2014-02-20T15:30:00.000000000",
          "2014-02-20T16:00:00.000000000",
          "2014-02-20T16:30:00.000000000",
          "2014-02-20T17:00:00.000000000",
          "2014-02-20T17:30:00.000000000",
          "2014-02-20T18:00:00.000000000",
          "2014-02-20T18:30:00.000000000",
          "2014-02-20T19:00:00.000000000",
          "2014-02-20T19:30:00.000000000",
          "2014-02-20T20:00:00.000000000",
          "2014-02-20T20:30:00.000000000",
          "2014-02-20T21:00:00.000000000",
          "2014-02-20T21:30:00.000000000",
          "2014-02-20T22:00:00.000000000",
          "2014-02-20T22:30:00.000000000",
          "2014-02-20T23:00:00.000000000",
          "2014-02-20T23:30:00.000000000",
          "2014-02-21T00:00:00.000000000",
          "2014-02-21T00:30:00.000000000",
          "2014-02-21T01:00:00.000000000",
          "2014-02-21T01:30:00.000000000",
          "2014-02-21T02:00:00.000000000",
          "2014-02-21T02:30:00.000000000",
          "2014-02-21T03:00:00.000000000",
          "2014-02-21T03:30:00.000000000",
          "2014-02-21T04:00:00.000000000",
          "2014-02-21T04:30:00.000000000",
          "2014-02-21T05:00:00.000000000",
          "2014-02-21T05:30:00.000000000",
          "2014-02-21T06:00:00.000000000",
          "2014-02-21T06:30:00.000000000",
          "2014-02-21T07:00:00.000000000",
          "2014-02-21T07:30:00.000000000",
          "2014-02-21T08:00:00.000000000",
          "2014-02-21T08:30:00.000000000",
          "2014-02-21T09:00:00.000000000",
          "2014-02-21T09:30:00.000000000",
          "2014-02-21T10:00:00.000000000",
          "2014-02-21T10:30:00.000000000",
          "2014-02-21T11:00:00.000000000",
          "2014-02-21T11:30:00.000000000",
          "2014-02-21T12:00:00.000000000",
          "2014-02-21T12:30:00.000000000",
          "2014-02-21T13:00:00.000000000",
          "2014-02-21T13:30:00.000000000",
          "2014-02-21T14:00:00.000000000",
          "2014-02-21T14:30:00.000000000",
          "2014-02-21T15:00:00.000000000",
          "2014-02-21T15:30:00.000000000",
          "2014-02-21T16:00:00.000000000",
          "2014-02-21T16:30:00.000000000",
          "2014-02-21T17:00:00.000000000",
          "2014-02-21T17:30:00.000000000",
          "2014-02-21T18:00:00.000000000",
          "2014-02-21T18:30:00.000000000",
          "2014-02-21T19:00:00.000000000",
          "2014-02-21T19:30:00.000000000",
          "2014-02-21T20:00:00.000000000",
          "2014-02-21T20:30:00.000000000",
          "2014-02-21T21:00:00.000000000",
          "2014-02-21T21:30:00.000000000",
          "2014-02-21T22:00:00.000000000",
          "2014-02-21T22:30:00.000000000",
          "2014-02-21T23:00:00.000000000",
          "2014-02-21T23:30:00.000000000",
          "2014-02-22T00:00:00.000000000",
          "2014-02-22T00:30:00.000000000",
          "2014-02-22T01:00:00.000000000",
          "2014-02-22T01:30:00.000000000",
          "2014-02-22T02:00:00.000000000",
          "2014-02-22T02:30:00.000000000",
          "2014-02-22T03:00:00.000000000",
          "2014-02-22T03:30:00.000000000",
          "2014-02-22T04:00:00.000000000",
          "2014-02-22T04:30:00.000000000",
          "2014-02-22T05:00:00.000000000",
          "2014-02-22T05:30:00.000000000",
          "2014-02-22T06:00:00.000000000",
          "2014-02-22T06:30:00.000000000",
          "2014-02-22T07:00:00.000000000",
          "2014-02-22T07:30:00.000000000",
          "2014-02-22T08:00:00.000000000",
          "2014-02-22T08:30:00.000000000",
          "2014-02-22T09:00:00.000000000",
          "2014-02-22T09:30:00.000000000",
          "2014-02-22T10:00:00.000000000",
          "2014-02-22T10:30:00.000000000",
          "2014-02-22T11:00:00.000000000",
          "2014-02-22T11:30:00.000000000",
          "2014-02-22T12:00:00.000000000",
          "2014-02-22T12:30:00.000000000",
          "2014-02-22T13:00:00.000000000",
          "2014-02-22T13:30:00.000000000",
          "2014-02-22T14:00:00.000000000",
          "2014-02-22T14:30:00.000000000",
          "2014-02-22T15:00:00.000000000",
          "2014-02-22T15:30:00.000000000",
          "2014-02-22T16:00:00.000000000",
          "2014-02-22T16:30:00.000000000",
          "2014-02-22T17:00:00.000000000",
          "2014-02-22T17:30:00.000000000",
          "2014-02-22T18:00:00.000000000",
          "2014-02-22T18:30:00.000000000",
          "2014-02-22T19:00:00.000000000",
          "2014-02-22T19:30:00.000000000",
          "2014-02-22T20:00:00.000000000",
          "2014-02-22T20:30:00.000000000",
          "2014-02-22T21:00:00.000000000",
          "2014-02-22T21:30:00.000000000",
          "2014-02-22T22:00:00.000000000",
          "2014-02-22T22:30:00.000000000",
          "2014-02-22T23:00:00.000000000",
          "2014-02-22T23:30:00.000000000",
          "2014-02-23T00:00:00.000000000",
          "2014-02-23T00:30:00.000000000",
          "2014-02-23T01:00:00.000000000",
          "2014-02-23T01:30:00.000000000",
          "2014-02-23T02:00:00.000000000",
          "2014-02-23T02:30:00.000000000",
          "2014-02-23T03:00:00.000000000",
          "2014-02-23T03:30:00.000000000",
          "2014-02-23T04:00:00.000000000",
          "2014-02-23T04:30:00.000000000",
          "2014-02-23T05:00:00.000000000",
          "2014-02-23T05:30:00.000000000",
          "2014-02-23T06:00:00.000000000",
          "2014-02-23T06:30:00.000000000",
          "2014-02-23T07:00:00.000000000",
          "2014-02-23T07:30:00.000000000",
          "2014-02-23T08:00:00.000000000",
          "2014-02-23T08:30:00.000000000",
          "2014-02-23T09:00:00.000000000",
          "2014-02-23T09:30:00.000000000",
          "2014-02-23T10:00:00.000000000",
          "2014-02-23T10:30:00.000000000",
          "2014-02-23T11:00:00.000000000",
          "2014-02-23T11:30:00.000000000",
          "2014-02-23T12:00:00.000000000",
          "2014-02-23T12:30:00.000000000",
          "2014-02-23T13:00:00.000000000",
          "2014-02-23T13:30:00.000000000",
          "2014-02-23T14:00:00.000000000",
          "2014-02-23T14:30:00.000000000",
          "2014-02-23T15:00:00.000000000",
          "2014-02-23T15:30:00.000000000",
          "2014-02-23T16:00:00.000000000",
          "2014-02-23T16:30:00.000000000",
          "2014-02-23T17:00:00.000000000",
          "2014-02-23T17:30:00.000000000",
          "2014-02-23T18:00:00.000000000",
          "2014-02-23T18:30:00.000000000",
          "2014-02-23T19:00:00.000000000",
          "2014-02-23T19:30:00.000000000",
          "2014-02-23T20:00:00.000000000",
          "2014-02-23T20:30:00.000000000",
          "2014-02-23T21:00:00.000000000",
          "2014-02-23T21:30:00.000000000",
          "2014-02-23T22:00:00.000000000",
          "2014-02-23T22:30:00.000000000",
          "2014-02-23T23:00:00.000000000",
          "2014-02-23T23:30:00.000000000",
          "2014-02-24T00:00:00.000000000",
          "2014-02-24T00:30:00.000000000",
          "2014-02-24T01:00:00.000000000",
          "2014-02-24T01:30:00.000000000",
          "2014-02-24T02:00:00.000000000",
          "2014-02-24T02:30:00.000000000",
          "2014-02-24T03:00:00.000000000",
          "2014-02-24T03:30:00.000000000",
          "2014-02-24T04:00:00.000000000",
          "2014-02-24T04:30:00.000000000",
          "2014-02-24T05:00:00.000000000",
          "2014-02-24T05:30:00.000000000",
          "2014-02-24T06:00:00.000000000",
          "2014-02-24T06:30:00.000000000",
          "2014-02-24T07:00:00.000000000",
          "2014-02-24T07:30:00.000000000",
          "2014-02-24T08:00:00.000000000",
          "2014-02-24T08:30:00.000000000",
          "2014-02-24T09:00:00.000000000",
          "2014-02-24T09:30:00.000000000",
          "2014-02-24T10:00:00.000000000",
          "2014-02-24T10:30:00.000000000",
          "2014-02-24T11:00:00.000000000",
          "2014-02-24T11:30:00.000000000",
          "2014-02-24T12:00:00.000000000",
          "2014-02-24T12:30:00.000000000",
          "2014-02-24T13:00:00.000000000",
          "2014-02-24T13:30:00.000000000",
          "2014-02-24T14:00:00.000000000",
          "2014-02-24T14:30:00.000000000",
          "2014-02-24T15:00:00.000000000",
          "2014-02-24T15:30:00.000000000",
          "2014-02-24T16:00:00.000000000",
          "2014-02-24T16:30:00.000000000",
          "2014-02-24T17:00:00.000000000",
          "2014-02-24T17:30:00.000000000",
          "2014-02-24T18:00:00.000000000",
          "2014-02-24T18:30:00.000000000",
          "2014-02-24T19:00:00.000000000",
          "2014-02-24T19:30:00.000000000",
          "2014-02-24T20:00:00.000000000",
          "2014-02-24T20:30:00.000000000",
          "2014-02-24T21:00:00.000000000",
          "2014-02-24T21:30:00.000000000",
          "2014-02-24T22:00:00.000000000",
          "2014-02-24T22:30:00.000000000",
          "2014-02-24T23:00:00.000000000",
          "2014-02-24T23:30:00.000000000",
          "2014-02-25T00:00:00.000000000",
          "2014-02-25T00:30:00.000000000",
          "2014-02-25T01:00:00.000000000",
          "2014-02-25T01:30:00.000000000",
          "2014-02-25T02:00:00.000000000",
          "2014-02-25T02:30:00.000000000",
          "2014-02-25T03:00:00.000000000",
          "2014-02-25T03:30:00.000000000",
          "2014-02-25T04:00:00.000000000",
          "2014-02-25T04:30:00.000000000",
          "2014-02-25T05:00:00.000000000",
          "2014-02-25T05:30:00.000000000",
          "2014-02-25T06:00:00.000000000",
          "2014-02-25T06:30:00.000000000",
          "2014-02-25T07:00:00.000000000",
          "2014-02-25T07:30:00.000000000",
          "2014-02-25T08:00:00.000000000",
          "2014-02-25T08:30:00.000000000",
          "2014-02-25T09:00:00.000000000",
          "2014-02-25T09:30:00.000000000",
          "2014-02-25T10:00:00.000000000",
          "2014-02-25T10:30:00.000000000",
          "2014-02-25T11:00:00.000000000",
          "2014-02-25T11:30:00.000000000",
          "2014-02-25T12:00:00.000000000",
          "2014-02-25T12:30:00.000000000",
          "2014-02-25T13:00:00.000000000",
          "2014-02-25T13:30:00.000000000",
          "2014-02-25T14:00:00.000000000",
          "2014-02-25T14:30:00.000000000",
          "2014-02-25T15:00:00.000000000",
          "2014-02-25T15:30:00.000000000",
          "2014-02-25T16:00:00.000000000",
          "2014-02-25T16:30:00.000000000",
          "2014-02-25T17:00:00.000000000",
          "2014-02-25T17:30:00.000000000",
          "2014-02-25T18:00:00.000000000",
          "2014-02-25T18:30:00.000000000",
          "2014-02-25T19:00:00.000000000",
          "2014-02-25T19:30:00.000000000",
          "2014-02-25T20:00:00.000000000",
          "2014-02-25T20:30:00.000000000",
          "2014-02-25T21:00:00.000000000",
          "2014-02-25T21:30:00.000000000",
          "2014-02-25T22:00:00.000000000",
          "2014-02-25T22:30:00.000000000",
          "2014-02-25T23:00:00.000000000",
          "2014-02-25T23:30:00.000000000",
          "2014-02-26T00:00:00.000000000",
          "2014-02-26T00:30:00.000000000",
          "2014-02-26T01:00:00.000000000",
          "2014-02-26T01:30:00.000000000",
          "2014-02-26T02:00:00.000000000",
          "2014-02-26T02:30:00.000000000",
          "2014-02-26T03:00:00.000000000",
          "2014-02-26T03:30:00.000000000",
          "2014-02-26T04:00:00.000000000",
          "2014-02-26T04:30:00.000000000",
          "2014-02-26T05:00:00.000000000",
          "2014-02-26T05:30:00.000000000",
          "2014-02-26T06:00:00.000000000",
          "2014-02-26T06:30:00.000000000",
          "2014-02-26T07:00:00.000000000",
          "2014-02-26T07:30:00.000000000",
          "2014-02-26T08:00:00.000000000",
          "2014-02-26T08:30:00.000000000",
          "2014-02-26T09:00:00.000000000",
          "2014-02-26T09:30:00.000000000",
          "2014-02-26T10:00:00.000000000",
          "2014-02-26T10:30:00.000000000",
          "2014-02-26T11:00:00.000000000",
          "2014-02-26T11:30:00.000000000",
          "2014-02-26T12:00:00.000000000",
          "2014-02-26T12:30:00.000000000",
          "2014-02-26T13:00:00.000000000",
          "2014-02-26T13:30:00.000000000",
          "2014-02-26T14:00:00.000000000",
          "2014-02-26T14:30:00.000000000",
          "2014-02-26T15:00:00.000000000",
          "2014-02-26T15:30:00.000000000",
          "2014-02-26T16:00:00.000000000",
          "2014-02-26T16:30:00.000000000",
          "2014-02-26T17:00:00.000000000",
          "2014-02-26T17:30:00.000000000",
          "2014-02-26T18:00:00.000000000",
          "2014-02-26T18:30:00.000000000",
          "2014-02-26T19:00:00.000000000",
          "2014-02-26T19:30:00.000000000",
          "2014-02-26T20:00:00.000000000",
          "2014-02-26T20:30:00.000000000",
          "2014-02-26T21:00:00.000000000",
          "2014-02-26T21:30:00.000000000",
          "2014-02-26T22:00:00.000000000",
          "2014-02-26T22:30:00.000000000",
          "2014-02-26T23:00:00.000000000",
          "2014-02-26T23:30:00.000000000",
          "2014-02-27T00:00:00.000000000",
          "2014-02-27T00:30:00.000000000",
          "2014-02-27T01:00:00.000000000",
          "2014-02-27T01:30:00.000000000",
          "2014-02-27T02:00:00.000000000",
          "2014-02-27T02:30:00.000000000",
          "2014-02-27T03:00:00.000000000",
          "2014-02-27T03:30:00.000000000",
          "2014-02-27T04:00:00.000000000",
          "2014-02-27T04:30:00.000000000",
          "2014-02-27T05:00:00.000000000",
          "2014-02-27T05:30:00.000000000",
          "2014-02-27T06:00:00.000000000",
          "2014-02-27T06:30:00.000000000",
          "2014-02-27T07:00:00.000000000",
          "2014-02-27T07:30:00.000000000",
          "2014-02-27T08:00:00.000000000",
          "2014-02-27T08:30:00.000000000",
          "2014-02-27T09:00:00.000000000",
          "2014-02-27T09:30:00.000000000",
          "2014-02-27T10:00:00.000000000",
          "2014-02-27T10:30:00.000000000",
          "2014-02-27T11:00:00.000000000",
          "2014-02-27T11:30:00.000000000",
          "2014-02-27T12:00:00.000000000",
          "2014-02-27T12:30:00.000000000",
          "2014-02-27T13:00:00.000000000",
          "2014-02-27T13:30:00.000000000",
          "2014-02-27T14:00:00.000000000",
          "2014-02-27T14:30:00.000000000",
          "2014-02-27T15:00:00.000000000",
          "2014-02-27T15:30:00.000000000",
          "2014-02-27T16:00:00.000000000",
          "2014-02-27T16:30:00.000000000",
          "2014-02-27T17:00:00.000000000",
          "2014-02-27T17:30:00.000000000",
          "2014-02-27T18:00:00.000000000",
          "2014-02-27T18:30:00.000000000",
          "2014-02-27T19:00:00.000000000",
          "2014-02-27T19:30:00.000000000",
          "2014-02-27T20:00:00.000000000",
          "2014-02-27T20:30:00.000000000",
          "2014-02-27T21:00:00.000000000",
          "2014-02-27T21:30:00.000000000",
          "2014-02-27T22:00:00.000000000",
          "2014-02-27T22:30:00.000000000",
          "2014-02-27T23:00:00.000000000",
          "2014-02-27T23:30:00.000000000"
         ],
         "y": {
          "bdata": "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",
          "dtype": "f8"
         }
        },
        {
         "line": {
          "color": "rgba(217,95,2, 1)",
          "dash": "dash"
         },
         "mode": "lines",
         "name": "XGB Random Forest",
         "type": "scatter",
         "x": [
          "2014-02-01T00:00:00.000000000",
          "2014-02-01T00:30:00.000000000",
          "2014-02-01T01:00:00.000000000",
          "2014-02-01T01:30:00.000000000",
          "2014-02-01T02:00:00.000000000",
          "2014-02-01T02:30:00.000000000",
          "2014-02-01T03:00:00.000000000",
          "2014-02-01T03:30:00.000000000",
          "2014-02-01T04:00:00.000000000",
          "2014-02-01T04:30:00.000000000",
          "2014-02-01T05:00:00.000000000",
          "2014-02-01T05:30:00.000000000",
          "2014-02-01T06:00:00.000000000",
          "2014-02-01T06:30:00.000000000",
          "2014-02-01T07:00:00.000000000",
          "2014-02-01T07:30:00.000000000",
          "2014-02-01T08:00:00.000000000",
          "2014-02-01T08:30:00.000000000",
          "2014-02-01T09:00:00.000000000",
          "2014-02-01T09:30:00.000000000",
          "2014-02-01T10:00:00.000000000",
          "2014-02-01T10:30:00.000000000",
          "2014-02-01T11:00:00.000000000",
          "2014-02-01T11:30:00.000000000",
          "2014-02-01T12:00:00.000000000",
          "2014-02-01T12:30:00.000000000",
          "2014-02-01T13:00:00.000000000",
          "2014-02-01T13:30:00.000000000",
          "2014-02-01T14:00:00.000000000",
          "2014-02-01T14:30:00.000000000",
          "2014-02-01T15:00:00.000000000",
          "2014-02-01T15:30:00.000000000",
          "2014-02-01T16:00:00.000000000",
          "2014-02-01T16:30:00.000000000",
          "2014-02-01T17:00:00.000000000",
          "2014-02-01T17:30:00.000000000",
          "2014-02-01T18:00:00.000000000",
          "2014-02-01T18:30:00.000000000",
          "2014-02-01T19:00:00.000000000",
          "2014-02-01T19:30:00.000000000",
          "2014-02-01T20:00:00.000000000",
          "2014-02-01T20:30:00.000000000",
          "2014-02-01T21:00:00.000000000",
          "2014-02-01T21:30:00.000000000",
          "2014-02-01T22:00:00.000000000",
          "2014-02-01T22:30:00.000000000",
          "2014-02-01T23:00:00.000000000",
          "2014-02-01T23:30:00.000000000",
          "2014-02-02T00:00:00.000000000",
          "2014-02-02T00:30:00.000000000",
          "2014-02-02T01:00:00.000000000",
          "2014-02-02T01:30:00.000000000",
          "2014-02-02T02:00:00.000000000",
          "2014-02-02T02:30:00.000000000",
          "2014-02-02T03:00:00.000000000",
          "2014-02-02T03:30:00.000000000",
          "2014-02-02T04:00:00.000000000",
          "2014-02-02T04:30:00.000000000",
          "2014-02-02T05:00:00.000000000",
          "2014-02-02T05:30:00.000000000",
          "2014-02-02T06:00:00.000000000",
          "2014-02-02T06:30:00.000000000",
          "2014-02-02T07:00:00.000000000",
          "2014-02-02T07:30:00.000000000",
          "2014-02-02T08:00:00.000000000",
          "2014-02-02T08:30:00.000000000",
          "2014-02-02T09:00:00.000000000",
          "2014-02-02T09:30:00.000000000",
          "2014-02-02T10:00:00.000000000",
          "2014-02-02T10:30:00.000000000",
          "2014-02-02T11:00:00.000000000",
          "2014-02-02T11:30:00.000000000",
          "2014-02-02T12:00:00.000000000",
          "2014-02-02T12:30:00.000000000",
          "2014-02-02T13:00:00.000000000",
          "2014-02-02T13:30:00.000000000",
          "2014-02-02T14:00:00.000000000",
          "2014-02-02T14:30:00.000000000",
          "2014-02-02T15:00:00.000000000",
          "2014-02-02T15:30:00.000000000",
          "2014-02-02T16:00:00.000000000",
          "2014-02-02T16:30:00.000000000",
          "2014-02-02T17:00:00.000000000",
          "2014-02-02T17:30:00.000000000",
          "2014-02-02T18:00:00.000000000",
          "2014-02-02T18:30:00.000000000",
          "2014-02-02T19:00:00.000000000",
          "2014-02-02T19:30:00.000000000",
          "2014-02-02T20:00:00.000000000",
          "2014-02-02T20:30:00.000000000",
          "2014-02-02T21:00:00.000000000",
          "2014-02-02T21:30:00.000000000",
          "2014-02-02T22:00:00.000000000",
          "2014-02-02T22:30:00.000000000",
          "2014-02-02T23:00:00.000000000",
          "2014-02-02T23:30:00.000000000",
          "2014-02-03T00:00:00.000000000",
          "2014-02-03T00:30:00.000000000",
          "2014-02-03T01:00:00.000000000",
          "2014-02-03T01:30:00.000000000",
          "2014-02-03T02:00:00.000000000",
          "2014-02-03T02:30:00.000000000",
          "2014-02-03T03:00:00.000000000",
          "2014-02-03T03:30:00.000000000",
          "2014-02-03T04:00:00.000000000",
          "2014-02-03T04:30:00.000000000",
          "2014-02-03T05:00:00.000000000",
          "2014-02-03T05:30:00.000000000",
          "2014-02-03T06:00:00.000000000",
          "2014-02-03T06:30:00.000000000",
          "2014-02-03T07:00:00.000000000",
          "2014-02-03T07:30:00.000000000",
          "2014-02-03T08:00:00.000000000",
          "2014-02-03T08:30:00.000000000",
          "2014-02-03T09:00:00.000000000",
          "2014-02-03T09:30:00.000000000",
          "2014-02-03T10:00:00.000000000",
          "2014-02-03T10:30:00.000000000",
          "2014-02-03T11:00:00.000000000",
          "2014-02-03T11:30:00.000000000",
          "2014-02-03T12:00:00.000000000",
          "2014-02-03T12:30:00.000000000",
          "2014-02-03T13:00:00.000000000",
          "2014-02-03T13:30:00.000000000",
          "2014-02-03T14:00:00.000000000",
          "2014-02-03T14:30:00.000000000",
          "2014-02-03T15:00:00.000000000",
          "2014-02-03T15:30:00.000000000",
          "2014-02-03T16:00:00.000000000",
          "2014-02-03T16:30:00.000000000",
          "2014-02-03T17:00:00.000000000",
          "2014-02-03T17:30:00.000000000",
          "2014-02-03T18:00:00.000000000",
          "2014-02-03T18:30:00.000000000",
          "2014-02-03T19:00:00.000000000",
          "2014-02-03T19:30:00.000000000",
          "2014-02-03T20:00:00.000000000",
          "2014-02-03T20:30:00.000000000",
          "2014-02-03T21:00:00.000000000",
          "2014-02-03T21:30:00.000000000",
          "2014-02-03T22:00:00.000000000",
          "2014-02-03T22:30:00.000000000",
          "2014-02-03T23:00:00.000000000",
          "2014-02-03T23:30:00.000000000",
          "2014-02-04T00:00:00.000000000",
          "2014-02-04T00:30:00.000000000",
          "2014-02-04T01:00:00.000000000",
          "2014-02-04T01:30:00.000000000",
          "2014-02-04T02:00:00.000000000",
          "2014-02-04T02:30:00.000000000",
          "2014-02-04T03:00:00.000000000",
          "2014-02-04T03:30:00.000000000",
          "2014-02-04T04:00:00.000000000",
          "2014-02-04T04:30:00.000000000",
          "2014-02-04T05:00:00.000000000",
          "2014-02-04T05:30:00.000000000",
          "2014-02-04T06:00:00.000000000",
          "2014-02-04T06:30:00.000000000",
          "2014-02-04T07:00:00.000000000",
          "2014-02-04T07:30:00.000000000",
          "2014-02-04T08:00:00.000000000",
          "2014-02-04T08:30:00.000000000",
          "2014-02-04T09:00:00.000000000",
          "2014-02-04T09:30:00.000000000",
          "2014-02-04T10:00:00.000000000",
          "2014-02-04T10:30:00.000000000",
          "2014-02-04T11:00:00.000000000",
          "2014-02-04T11:30:00.000000000",
          "2014-02-04T12:00:00.000000000",
          "2014-02-04T12:30:00.000000000",
          "2014-02-04T13:00:00.000000000",
          "2014-02-04T13:30:00.000000000",
          "2014-02-04T14:00:00.000000000",
          "2014-02-04T14:30:00.000000000",
          "2014-02-04T15:00:00.000000000",
          "2014-02-04T15:30:00.000000000",
          "2014-02-04T16:00:00.000000000",
          "2014-02-04T16:30:00.000000000",
          "2014-02-04T17:00:00.000000000",
          "2014-02-04T17:30:00.000000000",
          "2014-02-04T18:00:00.000000000",
          "2014-02-04T18:30:00.000000000",
          "2014-02-04T19:00:00.000000000",
          "2014-02-04T19:30:00.000000000",
          "2014-02-04T20:00:00.000000000",
          "2014-02-04T20:30:00.000000000",
          "2014-02-04T21:00:00.000000000",
          "2014-02-04T21:30:00.000000000",
          "2014-02-04T22:00:00.000000000",
          "2014-02-04T22:30:00.000000000",
          "2014-02-04T23:00:00.000000000",
          "2014-02-04T23:30:00.000000000",
          "2014-02-05T00:00:00.000000000",
          "2014-02-05T00:30:00.000000000",
          "2014-02-05T01:00:00.000000000",
          "2014-02-05T01:30:00.000000000",
          "2014-02-05T02:00:00.000000000",
          "2014-02-05T02:30:00.000000000",
          "2014-02-05T03:00:00.000000000",
          "2014-02-05T03:30:00.000000000",
          "2014-02-05T04:00:00.000000000",
          "2014-02-05T04:30:00.000000000",
          "2014-02-05T05:00:00.000000000",
          "2014-02-05T05:30:00.000000000",
          "2014-02-05T06:00:00.000000000",
          "2014-02-05T06:30:00.000000000",
          "2014-02-05T07:00:00.000000000",
          "2014-02-05T07:30:00.000000000",
          "2014-02-05T08:00:00.000000000",
          "2014-02-05T08:30:00.000000000",
          "2014-02-05T09:00:00.000000000",
          "2014-02-05T09:30:00.000000000",
          "2014-02-05T10:00:00.000000000",
          "2014-02-05T10:30:00.000000000",
          "2014-02-05T11:00:00.000000000",
          "2014-02-05T11:30:00.000000000",
          "2014-02-05T12:00:00.000000000",
          "2014-02-05T12:30:00.000000000",
          "2014-02-05T13:00:00.000000000",
          "2014-02-05T13:30:00.000000000",
          "2014-02-05T14:00:00.000000000",
          "2014-02-05T14:30:00.000000000",
          "2014-02-05T15:00:00.000000000",
          "2014-02-05T15:30:00.000000000",
          "2014-02-05T16:00:00.000000000",
          "2014-02-05T16:30:00.000000000",
          "2014-02-05T17:00:00.000000000",
          "2014-02-05T17:30:00.000000000",
          "2014-02-05T18:00:00.000000000",
          "2014-02-05T18:30:00.000000000",
          "2014-02-05T19:00:00.000000000",
          "2014-02-05T19:30:00.000000000",
          "2014-02-05T20:00:00.000000000",
          "2014-02-05T20:30:00.000000000",
          "2014-02-05T21:00:00.000000000",
          "2014-02-05T21:30:00.000000000",
          "2014-02-05T22:00:00.000000000",
          "2014-02-05T22:30:00.000000000",
          "2014-02-05T23:00:00.000000000",
          "2014-02-05T23:30:00.000000000",
          "2014-02-06T00:00:00.000000000",
          "2014-02-06T00:30:00.000000000",
          "2014-02-06T01:00:00.000000000",
          "2014-02-06T01:30:00.000000000",
          "2014-02-06T02:00:00.000000000",
          "2014-02-06T02:30:00.000000000",
          "2014-02-06T03:00:00.000000000",
          "2014-02-06T03:30:00.000000000",
          "2014-02-06T04:00:00.000000000",
          "2014-02-06T04:30:00.000000000",
          "2014-02-06T05:00:00.000000000",
          "2014-02-06T05:30:00.000000000",
          "2014-02-06T06:00:00.000000000",
          "2014-02-06T06:30:00.000000000",
          "2014-02-06T07:00:00.000000000",
          "2014-02-06T07:30:00.000000000",
          "2014-02-06T08:00:00.000000000",
          "2014-02-06T08:30:00.000000000",
          "2014-02-06T09:00:00.000000000",
          "2014-02-06T09:30:00.000000000",
          "2014-02-06T10:00:00.000000000",
          "2014-02-06T10:30:00.000000000",
          "2014-02-06T11:00:00.000000000",
          "2014-02-06T11:30:00.000000000",
          "2014-02-06T12:00:00.000000000",
          "2014-02-06T12:30:00.000000000",
          "2014-02-06T13:00:00.000000000",
          "2014-02-06T13:30:00.000000000",
          "2014-02-06T14:00:00.000000000",
          "2014-02-06T14:30:00.000000000",
          "2014-02-06T15:00:00.000000000",
          "2014-02-06T15:30:00.000000000",
          "2014-02-06T16:00:00.000000000",
          "2014-02-06T16:30:00.000000000",
          "2014-02-06T17:00:00.000000000",
          "2014-02-06T17:30:00.000000000",
          "2014-02-06T18:00:00.000000000",
          "2014-02-06T18:30:00.000000000",
          "2014-02-06T19:00:00.000000000",
          "2014-02-06T19:30:00.000000000",
          "2014-02-06T20:00:00.000000000",
          "2014-02-06T20:30:00.000000000",
          "2014-02-06T21:00:00.000000000",
          "2014-02-06T21:30:00.000000000",
          "2014-02-06T22:00:00.000000000",
          "2014-02-06T22:30:00.000000000",
          "2014-02-06T23:00:00.000000000",
          "2014-02-06T23:30:00.000000000",
          "2014-02-07T00:00:00.000000000",
          "2014-02-07T00:30:00.000000000",
          "2014-02-07T01:00:00.000000000",
          "2014-02-07T01:30:00.000000000",
          "2014-02-07T02:00:00.000000000",
          "2014-02-07T02:30:00.000000000",
          "2014-02-07T03:00:00.000000000",
          "2014-02-07T03:30:00.000000000",
          "2014-02-07T04:00:00.000000000",
          "2014-02-07T04:30:00.000000000",
          "2014-02-07T05:00:00.000000000",
          "2014-02-07T05:30:00.000000000",
          "2014-02-07T06:00:00.000000000",
          "2014-02-07T06:30:00.000000000",
          "2014-02-07T07:00:00.000000000",
          "2014-02-07T07:30:00.000000000",
          "2014-02-07T08:00:00.000000000",
          "2014-02-07T08:30:00.000000000",
          "2014-02-07T09:00:00.000000000",
          "2014-02-07T09:30:00.000000000",
          "2014-02-07T10:00:00.000000000",
          "2014-02-07T10:30:00.000000000",
          "2014-02-07T11:00:00.000000000",
          "2014-02-07T11:30:00.000000000",
          "2014-02-07T12:00:00.000000000",
          "2014-02-07T12:30:00.000000000",
          "2014-02-07T13:00:00.000000000",
          "2014-02-07T13:30:00.000000000",
          "2014-02-07T14:00:00.000000000",
          "2014-02-07T14:30:00.000000000",
          "2014-02-07T15:00:00.000000000",
          "2014-02-07T15:30:00.000000000",
          "2014-02-07T16:00:00.000000000",
          "2014-02-07T16:30:00.000000000",
          "2014-02-07T17:00:00.000000000",
          "2014-02-07T17:30:00.000000000",
          "2014-02-07T18:00:00.000000000",
          "2014-02-07T18:30:00.000000000",
          "2014-02-07T19:00:00.000000000",
          "2014-02-07T19:30:00.000000000",
          "2014-02-07T20:00:00.000000000",
          "2014-02-07T20:30:00.000000000",
          "2014-02-07T21:00:00.000000000",
          "2014-02-07T21:30:00.000000000",
          "2014-02-07T22:00:00.000000000",
          "2014-02-07T22:30:00.000000000",
          "2014-02-07T23:00:00.000000000",
          "2014-02-07T23:30:00.000000000",
          "2014-02-08T00:00:00.000000000",
          "2014-02-08T00:30:00.000000000",
          "2014-02-08T01:00:00.000000000",
          "2014-02-08T01:30:00.000000000",
          "2014-02-08T02:00:00.000000000",
          "2014-02-08T02:30:00.000000000",
          "2014-02-08T03:00:00.000000000",
          "2014-02-08T03:30:00.000000000",
          "2014-02-08T04:00:00.000000000",
          "2014-02-08T04:30:00.000000000",
          "2014-02-08T05:00:00.000000000",
          "2014-02-08T05:30:00.000000000",
          "2014-02-08T06:00:00.000000000",
          "2014-02-08T06:30:00.000000000",
          "2014-02-08T07:00:00.000000000",
          "2014-02-08T07:30:00.000000000",
          "2014-02-08T08:00:00.000000000",
          "2014-02-08T08:30:00.000000000",
          "2014-02-08T09:00:00.000000000",
          "2014-02-08T09:30:00.000000000",
          "2014-02-08T10:00:00.000000000",
          "2014-02-08T10:30:00.000000000",
          "2014-02-08T11:00:00.000000000",
          "2014-02-08T11:30:00.000000000",
          "2014-02-08T12:00:00.000000000",
          "2014-02-08T12:30:00.000000000",
          "2014-02-08T13:00:00.000000000",
          "2014-02-08T13:30:00.000000000",
          "2014-02-08T14:00:00.000000000",
          "2014-02-08T14:30:00.000000000",
          "2014-02-08T15:00:00.000000000",
          "2014-02-08T15:30:00.000000000",
          "2014-02-08T16:00:00.000000000",
          "2014-02-08T16:30:00.000000000",
          "2014-02-08T17:00:00.000000000",
          "2014-02-08T17:30:00.000000000",
          "2014-02-08T18:00:00.000000000",
          "2014-02-08T18:30:00.000000000",
          "2014-02-08T19:00:00.000000000",
          "2014-02-08T19:30:00.000000000",
          "2014-02-08T20:00:00.000000000",
          "2014-02-08T20:30:00.000000000",
          "2014-02-08T21:00:00.000000000",
          "2014-02-08T21:30:00.000000000",
          "2014-02-08T22:00:00.000000000",
          "2014-02-08T22:30:00.000000000",
          "2014-02-08T23:00:00.000000000",
          "2014-02-08T23:30:00.000000000",
          "2014-02-09T00:00:00.000000000",
          "2014-02-09T00:30:00.000000000",
          "2014-02-09T01:00:00.000000000",
          "2014-02-09T01:30:00.000000000",
          "2014-02-09T02:00:00.000000000",
          "2014-02-09T02:30:00.000000000",
          "2014-02-09T03:00:00.000000000",
          "2014-02-09T03:30:00.000000000",
          "2014-02-09T04:00:00.000000000",
          "2014-02-09T04:30:00.000000000",
          "2014-02-09T05:00:00.000000000",
          "2014-02-09T05:30:00.000000000",
          "2014-02-09T06:00:00.000000000",
          "2014-02-09T06:30:00.000000000",
          "2014-02-09T07:00:00.000000000",
          "2014-02-09T07:30:00.000000000",
          "2014-02-09T08:00:00.000000000",
          "2014-02-09T08:30:00.000000000",
          "2014-02-09T09:00:00.000000000",
          "2014-02-09T09:30:00.000000000",
          "2014-02-09T10:00:00.000000000",
          "2014-02-09T10:30:00.000000000",
          "2014-02-09T11:00:00.000000000",
          "2014-02-09T11:30:00.000000000",
          "2014-02-09T12:00:00.000000000",
          "2014-02-09T12:30:00.000000000",
          "2014-02-09T13:00:00.000000000",
          "2014-02-09T13:30:00.000000000",
          "2014-02-09T14:00:00.000000000",
          "2014-02-09T14:30:00.000000000",
          "2014-02-09T15:00:00.000000000",
          "2014-02-09T15:30:00.000000000",
          "2014-02-09T16:00:00.000000000",
          "2014-02-09T16:30:00.000000000",
          "2014-02-09T17:00:00.000000000",
          "2014-02-09T17:30:00.000000000",
          "2014-02-09T18:00:00.000000000",
          "2014-02-09T18:30:00.000000000",
          "2014-02-09T19:00:00.000000000",
          "2014-02-09T19:30:00.000000000",
          "2014-02-09T20:00:00.000000000",
          "2014-02-09T20:30:00.000000000",
          "2014-02-09T21:00:00.000000000",
          "2014-02-09T21:30:00.000000000",
          "2014-02-09T22:00:00.000000000",
          "2014-02-09T22:30:00.000000000",
          "2014-02-09T23:00:00.000000000",
          "2014-02-09T23:30:00.000000000",
          "2014-02-10T00:00:00.000000000",
          "2014-02-10T00:30:00.000000000",
          "2014-02-10T01:00:00.000000000",
          "2014-02-10T01:30:00.000000000",
          "2014-02-10T02:00:00.000000000",
          "2014-02-10T02:30:00.000000000",
          "2014-02-10T03:00:00.000000000",
          "2014-02-10T03:30:00.000000000",
          "2014-02-10T04:00:00.000000000",
          "2014-02-10T04:30:00.000000000",
          "2014-02-10T05:00:00.000000000",
          "2014-02-10T05:30:00.000000000",
          "2014-02-10T06:00:00.000000000",
          "2014-02-10T06:30:00.000000000",
          "2014-02-10T07:00:00.000000000",
          "2014-02-10T07:30:00.000000000",
          "2014-02-10T08:00:00.000000000",
          "2014-02-10T08:30:00.000000000",
          "2014-02-10T09:00:00.000000000",
          "2014-02-10T09:30:00.000000000",
          "2014-02-10T10:00:00.000000000",
          "2014-02-10T10:30:00.000000000",
          "2014-02-10T11:00:00.000000000",
          "2014-02-10T11:30:00.000000000",
          "2014-02-10T12:00:00.000000000",
          "2014-02-10T12:30:00.000000000",
          "2014-02-10T13:00:00.000000000",
          "2014-02-10T13:30:00.000000000",
          "2014-02-10T14:00:00.000000000",
          "2014-02-10T14:30:00.000000000",
          "2014-02-10T15:00:00.000000000",
          "2014-02-10T15:30:00.000000000",
          "2014-02-10T16:00:00.000000000",
          "2014-02-10T16:30:00.000000000",
          "2014-02-10T17:00:00.000000000",
          "2014-02-10T17:30:00.000000000",
          "2014-02-10T18:00:00.000000000",
          "2014-02-10T18:30:00.000000000",
          "2014-02-10T19:00:00.000000000",
          "2014-02-10T19:30:00.000000000",
          "2014-02-10T20:00:00.000000000",
          "2014-02-10T20:30:00.000000000",
          "2014-02-10T21:00:00.000000000",
          "2014-02-10T21:30:00.000000000",
          "2014-02-10T22:00:00.000000000",
          "2014-02-10T22:30:00.000000000",
          "2014-02-10T23:00:00.000000000",
          "2014-02-10T23:30:00.000000000",
          "2014-02-11T00:00:00.000000000",
          "2014-02-11T00:30:00.000000000",
          "2014-02-11T01:00:00.000000000",
          "2014-02-11T01:30:00.000000000",
          "2014-02-11T02:00:00.000000000",
          "2014-02-11T02:30:00.000000000",
          "2014-02-11T03:00:00.000000000",
          "2014-02-11T03:30:00.000000000",
          "2014-02-11T04:00:00.000000000",
          "2014-02-11T04:30:00.000000000",
          "2014-02-11T05:00:00.000000000",
          "2014-02-11T05:30:00.000000000",
          "2014-02-11T06:00:00.000000000",
          "2014-02-11T06:30:00.000000000",
          "2014-02-11T07:00:00.000000000",
          "2014-02-11T07:30:00.000000000",
          "2014-02-11T08:00:00.000000000",
          "2014-02-11T08:30:00.000000000",
          "2014-02-11T09:00:00.000000000",
          "2014-02-11T09:30:00.000000000",
          "2014-02-11T10:00:00.000000000",
          "2014-02-11T10:30:00.000000000",
          "2014-02-11T11:00:00.000000000",
          "2014-02-11T11:30:00.000000000",
          "2014-02-11T12:00:00.000000000",
          "2014-02-11T12:30:00.000000000",
          "2014-02-11T13:00:00.000000000",
          "2014-02-11T13:30:00.000000000",
          "2014-02-11T14:00:00.000000000",
          "2014-02-11T14:30:00.000000000",
          "2014-02-11T15:00:00.000000000",
          "2014-02-11T15:30:00.000000000",
          "2014-02-11T16:00:00.000000000",
          "2014-02-11T16:30:00.000000000",
          "2014-02-11T17:00:00.000000000",
          "2014-02-11T17:30:00.000000000",
          "2014-02-11T18:00:00.000000000",
          "2014-02-11T18:30:00.000000000",
          "2014-02-11T19:00:00.000000000",
          "2014-02-11T19:30:00.000000000",
          "2014-02-11T20:00:00.000000000",
          "2014-02-11T20:30:00.000000000",
          "2014-02-11T21:00:00.000000000",
          "2014-02-11T21:30:00.000000000",
          "2014-02-11T22:00:00.000000000",
          "2014-02-11T22:30:00.000000000",
          "2014-02-11T23:00:00.000000000",
          "2014-02-11T23:30:00.000000000",
          "2014-02-12T00:00:00.000000000",
          "2014-02-12T00:30:00.000000000",
          "2014-02-12T01:00:00.000000000",
          "2014-02-12T01:30:00.000000000",
          "2014-02-12T02:00:00.000000000",
          "2014-02-12T02:30:00.000000000",
          "2014-02-12T03:00:00.000000000",
          "2014-02-12T03:30:00.000000000",
          "2014-02-12T04:00:00.000000000",
          "2014-02-12T04:30:00.000000000",
          "2014-02-12T05:00:00.000000000",
          "2014-02-12T05:30:00.000000000",
          "2014-02-12T06:00:00.000000000",
          "2014-02-12T06:30:00.000000000",
          "2014-02-12T07:00:00.000000000",
          "2014-02-12T07:30:00.000000000",
          "2014-02-12T08:00:00.000000000",
          "2014-02-12T08:30:00.000000000",
          "2014-02-12T09:00:00.000000000",
          "2014-02-12T09:30:00.000000000",
          "2014-02-12T10:00:00.000000000",
          "2014-02-12T10:30:00.000000000",
          "2014-02-12T11:00:00.000000000",
          "2014-02-12T11:30:00.000000000",
          "2014-02-12T12:00:00.000000000",
          "2014-02-12T12:30:00.000000000",
          "2014-02-12T13:00:00.000000000",
          "2014-02-12T13:30:00.000000000",
          "2014-02-12T14:00:00.000000000",
          "2014-02-12T14:30:00.000000000",
          "2014-02-12T15:00:00.000000000",
          "2014-02-12T15:30:00.000000000",
          "2014-02-12T16:00:00.000000000",
          "2014-02-12T16:30:00.000000000",
          "2014-02-12T17:00:00.000000000",
          "2014-02-12T17:30:00.000000000",
          "2014-02-12T18:00:00.000000000",
          "2014-02-12T18:30:00.000000000",
          "2014-02-12T19:00:00.000000000",
          "2014-02-12T19:30:00.000000000",
          "2014-02-12T20:00:00.000000000",
          "2014-02-12T20:30:00.000000000",
          "2014-02-12T21:00:00.000000000",
          "2014-02-12T21:30:00.000000000",
          "2014-02-12T22:00:00.000000000",
          "2014-02-12T22:30:00.000000000",
          "2014-02-12T23:00:00.000000000",
          "2014-02-12T23:30:00.000000000",
          "2014-02-13T00:00:00.000000000",
          "2014-02-13T00:30:00.000000000",
          "2014-02-13T01:00:00.000000000",
          "2014-02-13T01:30:00.000000000",
          "2014-02-13T02:00:00.000000000",
          "2014-02-13T02:30:00.000000000",
          "2014-02-13T03:00:00.000000000",
          "2014-02-13T03:30:00.000000000",
          "2014-02-13T04:00:00.000000000",
          "2014-02-13T04:30:00.000000000",
          "2014-02-13T05:00:00.000000000",
          "2014-02-13T05:30:00.000000000",
          "2014-02-13T06:00:00.000000000",
          "2014-02-13T06:30:00.000000000",
          "2014-02-13T07:00:00.000000000",
          "2014-02-13T07:30:00.000000000",
          "2014-02-13T08:00:00.000000000",
          "2014-02-13T08:30:00.000000000",
          "2014-02-13T09:00:00.000000000",
          "2014-02-13T09:30:00.000000000",
          "2014-02-13T10:00:00.000000000",
          "2014-02-13T10:30:00.000000000",
          "2014-02-13T11:00:00.000000000",
          "2014-02-13T11:30:00.000000000",
          "2014-02-13T12:00:00.000000000",
          "2014-02-13T12:30:00.000000000",
          "2014-02-13T13:00:00.000000000",
          "2014-02-13T13:30:00.000000000",
          "2014-02-13T14:00:00.000000000",
          "2014-02-13T14:30:00.000000000",
          "2014-02-13T15:00:00.000000000",
          "2014-02-13T15:30:00.000000000",
          "2014-02-13T16:00:00.000000000",
          "2014-02-13T16:30:00.000000000",
          "2014-02-13T17:00:00.000000000",
          "2014-02-13T17:30:00.000000000",
          "2014-02-13T18:00:00.000000000",
          "2014-02-13T18:30:00.000000000",
          "2014-02-13T19:00:00.000000000",
          "2014-02-13T19:30:00.000000000",
          "2014-02-13T20:00:00.000000000",
          "2014-02-13T20:30:00.000000000",
          "2014-02-13T21:00:00.000000000",
          "2014-02-13T21:30:00.000000000",
          "2014-02-13T22:00:00.000000000",
          "2014-02-13T22:30:00.000000000",
          "2014-02-13T23:00:00.000000000",
          "2014-02-13T23:30:00.000000000",
          "2014-02-14T00:00:00.000000000",
          "2014-02-14T00:30:00.000000000",
          "2014-02-14T01:00:00.000000000",
          "2014-02-14T01:30:00.000000000",
          "2014-02-14T02:00:00.000000000",
          "2014-02-14T02:30:00.000000000",
          "2014-02-14T03:00:00.000000000",
          "2014-02-14T03:30:00.000000000",
          "2014-02-14T04:00:00.000000000",
          "2014-02-14T04:30:00.000000000",
          "2014-02-14T05:00:00.000000000",
          "2014-02-14T05:30:00.000000000",
          "2014-02-14T06:00:00.000000000",
          "2014-02-14T06:30:00.000000000",
          "2014-02-14T07:00:00.000000000",
          "2014-02-14T07:30:00.000000000",
          "2014-02-14T08:00:00.000000000",
          "2014-02-14T08:30:00.000000000",
          "2014-02-14T09:00:00.000000000",
          "2014-02-14T09:30:00.000000000",
          "2014-02-14T10:00:00.000000000",
          "2014-02-14T10:30:00.000000000",
          "2014-02-14T11:00:00.000000000",
          "2014-02-14T11:30:00.000000000",
          "2014-02-14T12:00:00.000000000",
          "2014-02-14T12:30:00.000000000",
          "2014-02-14T13:00:00.000000000",
          "2014-02-14T13:30:00.000000000",
          "2014-02-14T14:00:00.000000000",
          "2014-02-14T14:30:00.000000000",
          "2014-02-14T15:00:00.000000000",
          "2014-02-14T15:30:00.000000000",
          "2014-02-14T16:00:00.000000000",
          "2014-02-14T16:30:00.000000000",
          "2014-02-14T17:00:00.000000000",
          "2014-02-14T17:30:00.000000000",
          "2014-02-14T18:00:00.000000000",
          "2014-02-14T18:30:00.000000000",
          "2014-02-14T19:00:00.000000000",
          "2014-02-14T19:30:00.000000000",
          "2014-02-14T20:00:00.000000000",
          "2014-02-14T20:30:00.000000000",
          "2014-02-14T21:00:00.000000000",
          "2014-02-14T21:30:00.000000000",
          "2014-02-14T22:00:00.000000000",
          "2014-02-14T22:30:00.000000000",
          "2014-02-14T23:00:00.000000000",
          "2014-02-14T23:30:00.000000000",
          "2014-02-15T00:00:00.000000000",
          "2014-02-15T00:30:00.000000000",
          "2014-02-15T01:00:00.000000000",
          "2014-02-15T01:30:00.000000000",
          "2014-02-15T02:00:00.000000000",
          "2014-02-15T02:30:00.000000000",
          "2014-02-15T03:00:00.000000000",
          "2014-02-15T03:30:00.000000000",
          "2014-02-15T04:00:00.000000000",
          "2014-02-15T04:30:00.000000000",
          "2014-02-15T05:00:00.000000000",
          "2014-02-15T05:30:00.000000000",
          "2014-02-15T06:00:00.000000000",
          "2014-02-15T06:30:00.000000000",
          "2014-02-15T07:00:00.000000000",
          "2014-02-15T07:30:00.000000000",
          "2014-02-15T08:00:00.000000000",
          "2014-02-15T08:30:00.000000000",
          "2014-02-15T09:00:00.000000000",
          "2014-02-15T09:30:00.000000000",
          "2014-02-15T10:00:00.000000000",
          "2014-02-15T10:30:00.000000000",
          "2014-02-15T11:00:00.000000000",
          "2014-02-15T11:30:00.000000000",
          "2014-02-15T12:00:00.000000000",
          "2014-02-15T12:30:00.000000000",
          "2014-02-15T13:00:00.000000000",
          "2014-02-15T13:30:00.000000000",
          "2014-02-15T14:00:00.000000000",
          "2014-02-15T14:30:00.000000000",
          "2014-02-15T15:00:00.000000000",
          "2014-02-15T15:30:00.000000000",
          "2014-02-15T16:00:00.000000000",
          "2014-02-15T16:30:00.000000000",
          "2014-02-15T17:00:00.000000000",
          "2014-02-15T17:30:00.000000000",
          "2014-02-15T18:00:00.000000000",
          "2014-02-15T18:30:00.000000000",
          "2014-02-15T19:00:00.000000000",
          "2014-02-15T19:30:00.000000000",
          "2014-02-15T20:00:00.000000000",
          "2014-02-15T20:30:00.000000000",
          "2014-02-15T21:00:00.000000000",
          "2014-02-15T21:30:00.000000000",
          "2014-02-15T22:00:00.000000000",
          "2014-02-15T22:30:00.000000000",
          "2014-02-15T23:00:00.000000000",
          "2014-02-15T23:30:00.000000000",
          "2014-02-16T00:00:00.000000000",
          "2014-02-16T00:30:00.000000000",
          "2014-02-16T01:00:00.000000000",
          "2014-02-16T01:30:00.000000000",
          "2014-02-16T02:00:00.000000000",
          "2014-02-16T02:30:00.000000000",
          "2014-02-16T03:00:00.000000000",
          "2014-02-16T03:30:00.000000000",
          "2014-02-16T04:00:00.000000000",
          "2014-02-16T04:30:00.000000000",
          "2014-02-16T05:00:00.000000000",
          "2014-02-16T05:30:00.000000000",
          "2014-02-16T06:00:00.000000000",
          "2014-02-16T06:30:00.000000000",
          "2014-02-16T07:00:00.000000000",
          "2014-02-16T07:30:00.000000000",
          "2014-02-16T08:00:00.000000000",
          "2014-02-16T08:30:00.000000000",
          "2014-02-16T09:00:00.000000000",
          "2014-02-16T09:30:00.000000000",
          "2014-02-16T10:00:00.000000000",
          "2014-02-16T10:30:00.000000000",
          "2014-02-16T11:00:00.000000000",
          "2014-02-16T11:30:00.000000000",
          "2014-02-16T12:00:00.000000000",
          "2014-02-16T12:30:00.000000000",
          "2014-02-16T13:00:00.000000000",
          "2014-02-16T13:30:00.000000000",
          "2014-02-16T14:00:00.000000000",
          "2014-02-16T14:30:00.000000000",
          "2014-02-16T15:00:00.000000000",
          "2014-02-16T15:30:00.000000000",
          "2014-02-16T16:00:00.000000000",
          "2014-02-16T16:30:00.000000000",
          "2014-02-16T17:00:00.000000000",
          "2014-02-16T17:30:00.000000000",
          "2014-02-16T18:00:00.000000000",
          "2014-02-16T18:30:00.000000000",
          "2014-02-16T19:00:00.000000000",
          "2014-02-16T19:30:00.000000000",
          "2014-02-16T20:00:00.000000000",
          "2014-02-16T20:30:00.000000000",
          "2014-02-16T21:00:00.000000000",
          "2014-02-16T21:30:00.000000000",
          "2014-02-16T22:00:00.000000000",
          "2014-02-16T22:30:00.000000000",
          "2014-02-16T23:00:00.000000000",
          "2014-02-16T23:30:00.000000000",
          "2014-02-17T00:00:00.000000000",
          "2014-02-17T00:30:00.000000000",
          "2014-02-17T01:00:00.000000000",
          "2014-02-17T01:30:00.000000000",
          "2014-02-17T02:00:00.000000000",
          "2014-02-17T02:30:00.000000000",
          "2014-02-17T03:00:00.000000000",
          "2014-02-17T03:30:00.000000000",
          "2014-02-17T04:00:00.000000000",
          "2014-02-17T04:30:00.000000000",
          "2014-02-17T05:00:00.000000000",
          "2014-02-17T05:30:00.000000000",
          "2014-02-17T06:00:00.000000000",
          "2014-02-17T06:30:00.000000000",
          "2014-02-17T07:00:00.000000000",
          "2014-02-17T07:30:00.000000000",
          "2014-02-17T08:00:00.000000000",
          "2014-02-17T08:30:00.000000000",
          "2014-02-17T09:00:00.000000000",
          "2014-02-17T09:30:00.000000000",
          "2014-02-17T10:00:00.000000000",
          "2014-02-17T10:30:00.000000000",
          "2014-02-17T11:00:00.000000000",
          "2014-02-17T11:30:00.000000000",
          "2014-02-17T12:00:00.000000000",
          "2014-02-17T12:30:00.000000000",
          "2014-02-17T13:00:00.000000000",
          "2014-02-17T13:30:00.000000000",
          "2014-02-17T14:00:00.000000000",
          "2014-02-17T14:30:00.000000000",
          "2014-02-17T15:00:00.000000000",
          "2014-02-17T15:30:00.000000000",
          "2014-02-17T16:00:00.000000000",
          "2014-02-17T16:30:00.000000000",
          "2014-02-17T17:00:00.000000000",
          "2014-02-17T17:30:00.000000000",
          "2014-02-17T18:00:00.000000000",
          "2014-02-17T18:30:00.000000000",
          "2014-02-17T19:00:00.000000000",
          "2014-02-17T19:30:00.000000000",
          "2014-02-17T20:00:00.000000000",
          "2014-02-17T20:30:00.000000000",
          "2014-02-17T21:00:00.000000000",
          "2014-02-17T21:30:00.000000000",
          "2014-02-17T22:00:00.000000000",
          "2014-02-17T22:30:00.000000000",
          "2014-02-17T23:00:00.000000000",
          "2014-02-17T23:30:00.000000000",
          "2014-02-18T00:00:00.000000000",
          "2014-02-18T00:30:00.000000000",
          "2014-02-18T01:00:00.000000000",
          "2014-02-18T01:30:00.000000000",
          "2014-02-18T02:00:00.000000000",
          "2014-02-18T02:30:00.000000000",
          "2014-02-18T03:00:00.000000000",
          "2014-02-18T03:30:00.000000000",
          "2014-02-18T04:00:00.000000000",
          "2014-02-18T04:30:00.000000000",
          "2014-02-18T05:00:00.000000000",
          "2014-02-18T05:30:00.000000000",
          "2014-02-18T06:00:00.000000000",
          "2014-02-18T06:30:00.000000000",
          "2014-02-18T07:00:00.000000000",
          "2014-02-18T07:30:00.000000000",
          "2014-02-18T08:00:00.000000000",
          "2014-02-18T08:30:00.000000000",
          "2014-02-18T09:00:00.000000000",
          "2014-02-18T09:30:00.000000000",
          "2014-02-18T10:00:00.000000000",
          "2014-02-18T10:30:00.000000000",
          "2014-02-18T11:00:00.000000000",
          "2014-02-18T11:30:00.000000000",
          "2014-02-18T12:00:00.000000000",
          "2014-02-18T12:30:00.000000000",
          "2014-02-18T13:00:00.000000000",
          "2014-02-18T13:30:00.000000000",
          "2014-02-18T14:00:00.000000000",
          "2014-02-18T14:30:00.000000000",
          "2014-02-18T15:00:00.000000000",
          "2014-02-18T15:30:00.000000000",
          "2014-02-18T16:00:00.000000000",
          "2014-02-18T16:30:00.000000000",
          "2014-02-18T17:00:00.000000000",
          "2014-02-18T17:30:00.000000000",
          "2014-02-18T18:00:00.000000000",
          "2014-02-18T18:30:00.000000000",
          "2014-02-18T19:00:00.000000000",
          "2014-02-18T19:30:00.000000000",
          "2014-02-18T20:00:00.000000000",
          "2014-02-18T20:30:00.000000000",
          "2014-02-18T21:00:00.000000000",
          "2014-02-18T21:30:00.000000000",
          "2014-02-18T22:00:00.000000000",
          "2014-02-18T22:30:00.000000000",
          "2014-02-18T23:00:00.000000000",
          "2014-02-18T23:30:00.000000000",
          "2014-02-19T00:00:00.000000000",
          "2014-02-19T00:30:00.000000000",
          "2014-02-19T01:00:00.000000000",
          "2014-02-19T01:30:00.000000000",
          "2014-02-19T02:00:00.000000000",
          "2014-02-19T02:30:00.000000000",
          "2014-02-19T03:00:00.000000000",
          "2014-02-19T03:30:00.000000000",
          "2014-02-19T04:00:00.000000000",
          "2014-02-19T04:30:00.000000000",
          "2014-02-19T05:00:00.000000000",
          "2014-02-19T05:30:00.000000000",
          "2014-02-19T06:00:00.000000000",
          "2014-02-19T06:30:00.000000000",
          "2014-02-19T07:00:00.000000000",
          "2014-02-19T07:30:00.000000000",
          "2014-02-19T08:00:00.000000000",
          "2014-02-19T08:30:00.000000000",
          "2014-02-19T09:00:00.000000000",
          "2014-02-19T09:30:00.000000000",
          "2014-02-19T10:00:00.000000000",
          "2014-02-19T10:30:00.000000000",
          "2014-02-19T11:00:00.000000000",
          "2014-02-19T11:30:00.000000000",
          "2014-02-19T12:00:00.000000000",
          "2014-02-19T12:30:00.000000000",
          "2014-02-19T13:00:00.000000000",
          "2014-02-19T13:30:00.000000000",
          "2014-02-19T14:00:00.000000000",
          "2014-02-19T14:30:00.000000000",
          "2014-02-19T15:00:00.000000000",
          "2014-02-19T15:30:00.000000000",
          "2014-02-19T16:00:00.000000000",
          "2014-02-19T16:30:00.000000000",
          "2014-02-19T17:00:00.000000000",
          "2014-02-19T17:30:00.000000000",
          "2014-02-19T18:00:00.000000000",
          "2014-02-19T18:30:00.000000000",
          "2014-02-19T19:00:00.000000000",
          "2014-02-19T19:30:00.000000000",
          "2014-02-19T20:00:00.000000000",
          "2014-02-19T20:30:00.000000000",
          "2014-02-19T21:00:00.000000000",
          "2014-02-19T21:30:00.000000000",
          "2014-02-19T22:00:00.000000000",
          "2014-02-19T22:30:00.000000000",
          "2014-02-19T23:00:00.000000000",
          "2014-02-19T23:30:00.000000000",
          "2014-02-20T00:00:00.000000000",
          "2014-02-20T00:30:00.000000000",
          "2014-02-20T01:00:00.000000000",
          "2014-02-20T01:30:00.000000000",
          "2014-02-20T02:00:00.000000000",
          "2014-02-20T02:30:00.000000000",
          "2014-02-20T03:00:00.000000000",
          "2014-02-20T03:30:00.000000000",
          "2014-02-20T04:00:00.000000000",
          "2014-02-20T04:30:00.000000000",
          "2014-02-20T05:00:00.000000000",
          "2014-02-20T05:30:00.000000000",
          "2014-02-20T06:00:00.000000000",
          "2014-02-20T06:30:00.000000000",
          "2014-02-20T07:00:00.000000000",
          "2014-02-20T07:30:00.000000000",
          "2014-02-20T08:00:00.000000000",
          "2014-02-20T08:30:00.000000000",
          "2014-02-20T09:00:00.000000000",
          "2014-02-20T09:30:00.000000000",
          "2014-02-20T10:00:00.000000000",
          "2014-02-20T10:30:00.000000000",
          "2014-02-20T11:00:00.000000000",
          "2014-02-20T11:30:00.000000000",
          "2014-02-20T12:00:00.000000000",
          "2014-02-20T12:30:00.000000000",
          "2014-02-20T13:00:00.000000000",
          "2014-02-20T13:30:00.000000000",
          "2014-02-20T14:00:00.000000000",
          "2014-02-20T14:30:00.000000000",
          "2014-02-20T15:00:00.000000000",
          "2014-02-20T15:30:00.000000000",
          "2014-02-20T16:00:00.000000000",
          "2014-02-20T16:30:00.000000000",
          "2014-02-20T17:00:00.000000000",
          "2014-02-20T17:30:00.000000000",
          "2014-02-20T18:00:00.000000000",
          "2014-02-20T18:30:00.000000000",
          "2014-02-20T19:00:00.000000000",
          "2014-02-20T19:30:00.000000000",
          "2014-02-20T20:00:00.000000000",
          "2014-02-20T20:30:00.000000000",
          "2014-02-20T21:00:00.000000000",
          "2014-02-20T21:30:00.000000000",
          "2014-02-20T22:00:00.000000000",
          "2014-02-20T22:30:00.000000000",
          "2014-02-20T23:00:00.000000000",
          "2014-02-20T23:30:00.000000000",
          "2014-02-21T00:00:00.000000000",
          "2014-02-21T00:30:00.000000000",
          "2014-02-21T01:00:00.000000000",
          "2014-02-21T01:30:00.000000000",
          "2014-02-21T02:00:00.000000000",
          "2014-02-21T02:30:00.000000000",
          "2014-02-21T03:00:00.000000000",
          "2014-02-21T03:30:00.000000000",
          "2014-02-21T04:00:00.000000000",
          "2014-02-21T04:30:00.000000000",
          "2014-02-21T05:00:00.000000000",
          "2014-02-21T05:30:00.000000000",
          "2014-02-21T06:00:00.000000000",
          "2014-02-21T06:30:00.000000000",
          "2014-02-21T07:00:00.000000000",
          "2014-02-21T07:30:00.000000000",
          "2014-02-21T08:00:00.000000000",
          "2014-02-21T08:30:00.000000000",
          "2014-02-21T09:00:00.000000000",
          "2014-02-21T09:30:00.000000000",
          "2014-02-21T10:00:00.000000000",
          "2014-02-21T10:30:00.000000000",
          "2014-02-21T11:00:00.000000000",
          "2014-02-21T11:30:00.000000000",
          "2014-02-21T12:00:00.000000000",
          "2014-02-21T12:30:00.000000000",
          "2014-02-21T13:00:00.000000000",
          "2014-02-21T13:30:00.000000000",
          "2014-02-21T14:00:00.000000000",
          "2014-02-21T14:30:00.000000000",
          "2014-02-21T15:00:00.000000000",
          "2014-02-21T15:30:00.000000000",
          "2014-02-21T16:00:00.000000000",
          "2014-02-21T16:30:00.000000000",
          "2014-02-21T17:00:00.000000000",
          "2014-02-21T17:30:00.000000000",
          "2014-02-21T18:00:00.000000000",
          "2014-02-21T18:30:00.000000000",
          "2014-02-21T19:00:00.000000000",
          "2014-02-21T19:30:00.000000000",
          "2014-02-21T20:00:00.000000000",
          "2014-02-21T20:30:00.000000000",
          "2014-02-21T21:00:00.000000000",
          "2014-02-21T21:30:00.000000000",
          "2014-02-21T22:00:00.000000000",
          "2014-02-21T22:30:00.000000000",
          "2014-02-21T23:00:00.000000000",
          "2014-02-21T23:30:00.000000000",
          "2014-02-22T00:00:00.000000000",
          "2014-02-22T00:30:00.000000000",
          "2014-02-22T01:00:00.000000000",
          "2014-02-22T01:30:00.000000000",
          "2014-02-22T02:00:00.000000000",
          "2014-02-22T02:30:00.000000000",
          "2014-02-22T03:00:00.000000000",
          "2014-02-22T03:30:00.000000000",
          "2014-02-22T04:00:00.000000000",
          "2014-02-22T04:30:00.000000000",
          "2014-02-22T05:00:00.000000000",
          "2014-02-22T05:30:00.000000000",
          "2014-02-22T06:00:00.000000000",
          "2014-02-22T06:30:00.000000000",
          "2014-02-22T07:00:00.000000000",
          "2014-02-22T07:30:00.000000000",
          "2014-02-22T08:00:00.000000000",
          "2014-02-22T08:30:00.000000000",
          "2014-02-22T09:00:00.000000000",
          "2014-02-22T09:30:00.000000000",
          "2014-02-22T10:00:00.000000000",
          "2014-02-22T10:30:00.000000000",
          "2014-02-22T11:00:00.000000000",
          "2014-02-22T11:30:00.000000000",
          "2014-02-22T12:00:00.000000000",
          "2014-02-22T12:30:00.000000000",
          "2014-02-22T13:00:00.000000000",
          "2014-02-22T13:30:00.000000000",
          "2014-02-22T14:00:00.000000000",
          "2014-02-22T14:30:00.000000000",
          "2014-02-22T15:00:00.000000000",
          "2014-02-22T15:30:00.000000000",
          "2014-02-22T16:00:00.000000000",
          "2014-02-22T16:30:00.000000000",
          "2014-02-22T17:00:00.000000000",
          "2014-02-22T17:30:00.000000000",
          "2014-02-22T18:00:00.000000000",
          "2014-02-22T18:30:00.000000000",
          "2014-02-22T19:00:00.000000000",
          "2014-02-22T19:30:00.000000000",
          "2014-02-22T20:00:00.000000000",
          "2014-02-22T20:30:00.000000000",
          "2014-02-22T21:00:00.000000000",
          "2014-02-22T21:30:00.000000000",
          "2014-02-22T22:00:00.000000000",
          "2014-02-22T22:30:00.000000000",
          "2014-02-22T23:00:00.000000000",
          "2014-02-22T23:30:00.000000000",
          "2014-02-23T00:00:00.000000000",
          "2014-02-23T00:30:00.000000000",
          "2014-02-23T01:00:00.000000000",
          "2014-02-23T01:30:00.000000000",
          "2014-02-23T02:00:00.000000000",
          "2014-02-23T02:30:00.000000000",
          "2014-02-23T03:00:00.000000000",
          "2014-02-23T03:30:00.000000000",
          "2014-02-23T04:00:00.000000000",
          "2014-02-23T04:30:00.000000000",
          "2014-02-23T05:00:00.000000000",
          "2014-02-23T05:30:00.000000000",
          "2014-02-23T06:00:00.000000000",
          "2014-02-23T06:30:00.000000000",
          "2014-02-23T07:00:00.000000000",
          "2014-02-23T07:30:00.000000000",
          "2014-02-23T08:00:00.000000000",
          "2014-02-23T08:30:00.000000000",
          "2014-02-23T09:00:00.000000000",
          "2014-02-23T09:30:00.000000000",
          "2014-02-23T10:00:00.000000000",
          "2014-02-23T10:30:00.000000000",
          "2014-02-23T11:00:00.000000000",
          "2014-02-23T11:30:00.000000000",
          "2014-02-23T12:00:00.000000000",
          "2014-02-23T12:30:00.000000000",
          "2014-02-23T13:00:00.000000000",
          "2014-02-23T13:30:00.000000000",
          "2014-02-23T14:00:00.000000000",
          "2014-02-23T14:30:00.000000000",
          "2014-02-23T15:00:00.000000000",
          "2014-02-23T15:30:00.000000000",
          "2014-02-23T16:00:00.000000000",
          "2014-02-23T16:30:00.000000000",
          "2014-02-23T17:00:00.000000000",
          "2014-02-23T17:30:00.000000000",
          "2014-02-23T18:00:00.000000000",
          "2014-02-23T18:30:00.000000000",
          "2014-02-23T19:00:00.000000000",
          "2014-02-23T19:30:00.000000000",
          "2014-02-23T20:00:00.000000000",
          "2014-02-23T20:30:00.000000000",
          "2014-02-23T21:00:00.000000000",
          "2014-02-23T21:30:00.000000000",
          "2014-02-23T22:00:00.000000000",
          "2014-02-23T22:30:00.000000000",
          "2014-02-23T23:00:00.000000000",
          "2014-02-23T23:30:00.000000000",
          "2014-02-24T00:00:00.000000000",
          "2014-02-24T00:30:00.000000000",
          "2014-02-24T01:00:00.000000000",
          "2014-02-24T01:30:00.000000000",
          "2014-02-24T02:00:00.000000000",
          "2014-02-24T02:30:00.000000000",
          "2014-02-24T03:00:00.000000000",
          "2014-02-24T03:30:00.000000000",
          "2014-02-24T04:00:00.000000000",
          "2014-02-24T04:30:00.000000000",
          "2014-02-24T05:00:00.000000000",
          "2014-02-24T05:30:00.000000000",
          "2014-02-24T06:00:00.000000000",
          "2014-02-24T06:30:00.000000000",
          "2014-02-24T07:00:00.000000000",
          "2014-02-24T07:30:00.000000000",
          "2014-02-24T08:00:00.000000000",
          "2014-02-24T08:30:00.000000000",
          "2014-02-24T09:00:00.000000000",
          "2014-02-24T09:30:00.000000000",
          "2014-02-24T10:00:00.000000000",
          "2014-02-24T10:30:00.000000000",
          "2014-02-24T11:00:00.000000000",
          "2014-02-24T11:30:00.000000000",
          "2014-02-24T12:00:00.000000000",
          "2014-02-24T12:30:00.000000000",
          "2014-02-24T13:00:00.000000000",
          "2014-02-24T13:30:00.000000000",
          "2014-02-24T14:00:00.000000000",
          "2014-02-24T14:30:00.000000000",
          "2014-02-24T15:00:00.000000000",
          "2014-02-24T15:30:00.000000000",
          "2014-02-24T16:00:00.000000000",
          "2014-02-24T16:30:00.000000000",
          "2014-02-24T17:00:00.000000000",
          "2014-02-24T17:30:00.000000000",
          "2014-02-24T18:00:00.000000000",
          "2014-02-24T18:30:00.000000000",
          "2014-02-24T19:00:00.000000000",
          "2014-02-24T19:30:00.000000000",
          "2014-02-24T20:00:00.000000000",
          "2014-02-24T20:30:00.000000000",
          "2014-02-24T21:00:00.000000000",
          "2014-02-24T21:30:00.000000000",
          "2014-02-24T22:00:00.000000000",
          "2014-02-24T22:30:00.000000000",
          "2014-02-24T23:00:00.000000000",
          "2014-02-24T23:30:00.000000000",
          "2014-02-25T00:00:00.000000000",
          "2014-02-25T00:30:00.000000000",
          "2014-02-25T01:00:00.000000000",
          "2014-02-25T01:30:00.000000000",
          "2014-02-25T02:00:00.000000000",
          "2014-02-25T02:30:00.000000000",
          "2014-02-25T03:00:00.000000000",
          "2014-02-25T03:30:00.000000000",
          "2014-02-25T04:00:00.000000000",
          "2014-02-25T04:30:00.000000000",
          "2014-02-25T05:00:00.000000000",
          "2014-02-25T05:30:00.000000000",
          "2014-02-25T06:00:00.000000000",
          "2014-02-25T06:30:00.000000000",
          "2014-02-25T07:00:00.000000000",
          "2014-02-25T07:30:00.000000000",
          "2014-02-25T08:00:00.000000000",
          "2014-02-25T08:30:00.000000000",
          "2014-02-25T09:00:00.000000000",
          "2014-02-25T09:30:00.000000000",
          "2014-02-25T10:00:00.000000000",
          "2014-02-25T10:30:00.000000000",
          "2014-02-25T11:00:00.000000000",
          "2014-02-25T11:30:00.000000000",
          "2014-02-25T12:00:00.000000000",
          "2014-02-25T12:30:00.000000000",
          "2014-02-25T13:00:00.000000000",
          "2014-02-25T13:30:00.000000000",
          "2014-02-25T14:00:00.000000000",
          "2014-02-25T14:30:00.000000000",
          "2014-02-25T15:00:00.000000000",
          "2014-02-25T15:30:00.000000000",
          "2014-02-25T16:00:00.000000000",
          "2014-02-25T16:30:00.000000000",
          "2014-02-25T17:00:00.000000000",
          "2014-02-25T17:30:00.000000000",
          "2014-02-25T18:00:00.000000000",
          "2014-02-25T18:30:00.000000000",
          "2014-02-25T19:00:00.000000000",
          "2014-02-25T19:30:00.000000000",
          "2014-02-25T20:00:00.000000000",
          "2014-02-25T20:30:00.000000000",
          "2014-02-25T21:00:00.000000000",
          "2014-02-25T21:30:00.000000000",
          "2014-02-25T22:00:00.000000000",
          "2014-02-25T22:30:00.000000000",
          "2014-02-25T23:00:00.000000000",
          "2014-02-25T23:30:00.000000000",
          "2014-02-26T00:00:00.000000000",
          "2014-02-26T00:30:00.000000000",
          "2014-02-26T01:00:00.000000000",
          "2014-02-26T01:30:00.000000000",
          "2014-02-26T02:00:00.000000000",
          "2014-02-26T02:30:00.000000000",
          "2014-02-26T03:00:00.000000000",
          "2014-02-26T03:30:00.000000000",
          "2014-02-26T04:00:00.000000000",
          "2014-02-26T04:30:00.000000000",
          "2014-02-26T05:00:00.000000000",
          "2014-02-26T05:30:00.000000000",
          "2014-02-26T06:00:00.000000000",
          "2014-02-26T06:30:00.000000000",
          "2014-02-26T07:00:00.000000000",
          "2014-02-26T07:30:00.000000000",
          "2014-02-26T08:00:00.000000000",
          "2014-02-26T08:30:00.000000000",
          "2014-02-26T09:00:00.000000000",
          "2014-02-26T09:30:00.000000000",
          "2014-02-26T10:00:00.000000000",
          "2014-02-26T10:30:00.000000000",
          "2014-02-26T11:00:00.000000000",
          "2014-02-26T11:30:00.000000000",
          "2014-02-26T12:00:00.000000000",
          "2014-02-26T12:30:00.000000000",
          "2014-02-26T13:00:00.000000000",
          "2014-02-26T13:30:00.000000000",
          "2014-02-26T14:00:00.000000000",
          "2014-02-26T14:30:00.000000000",
          "2014-02-26T15:00:00.000000000",
          "2014-02-26T15:30:00.000000000",
          "2014-02-26T16:00:00.000000000",
          "2014-02-26T16:30:00.000000000",
          "2014-02-26T17:00:00.000000000",
          "2014-02-26T17:30:00.000000000",
          "2014-02-26T18:00:00.000000000",
          "2014-02-26T18:30:00.000000000",
          "2014-02-26T19:00:00.000000000",
          "2014-02-26T19:30:00.000000000",
          "2014-02-26T20:00:00.000000000",
          "2014-02-26T20:30:00.000000000",
          "2014-02-26T21:00:00.000000000",
          "2014-02-26T21:30:00.000000000",
          "2014-02-26T22:00:00.000000000",
          "2014-02-26T22:30:00.000000000",
          "2014-02-26T23:00:00.000000000",
          "2014-02-26T23:30:00.000000000",
          "2014-02-27T00:00:00.000000000",
          "2014-02-27T00:30:00.000000000",
          "2014-02-27T01:00:00.000000000",
          "2014-02-27T01:30:00.000000000",
          "2014-02-27T02:00:00.000000000",
          "2014-02-27T02:30:00.000000000",
          "2014-02-27T03:00:00.000000000",
          "2014-02-27T03:30:00.000000000",
          "2014-02-27T04:00:00.000000000",
          "2014-02-27T04:30:00.000000000",
          "2014-02-27T05:00:00.000000000",
          "2014-02-27T05:30:00.000000000",
          "2014-02-27T06:00:00.000000000",
          "2014-02-27T06:30:00.000000000",
          "2014-02-27T07:00:00.000000000",
          "2014-02-27T07:30:00.000000000",
          "2014-02-27T08:00:00.000000000",
          "2014-02-27T08:30:00.000000000",
          "2014-02-27T09:00:00.000000000",
          "2014-02-27T09:30:00.000000000",
          "2014-02-27T10:00:00.000000000",
          "2014-02-27T10:30:00.000000000",
          "2014-02-27T11:00:00.000000000",
          "2014-02-27T11:30:00.000000000",
          "2014-02-27T12:00:00.000000000",
          "2014-02-27T12:30:00.000000000",
          "2014-02-27T13:00:00.000000000",
          "2014-02-27T13:30:00.000000000",
          "2014-02-27T14:00:00.000000000",
          "2014-02-27T14:30:00.000000000",
          "2014-02-27T15:00:00.000000000",
          "2014-02-27T15:30:00.000000000",
          "2014-02-27T16:00:00.000000000",
          "2014-02-27T16:30:00.000000000",
          "2014-02-27T17:00:00.000000000",
          "2014-02-27T17:30:00.000000000",
          "2014-02-27T18:00:00.000000000",
          "2014-02-27T18:30:00.000000000",
          "2014-02-27T19:00:00.000000000",
          "2014-02-27T19:30:00.000000000",
          "2014-02-27T20:00:00.000000000",
          "2014-02-27T20:30:00.000000000",
          "2014-02-27T21:00:00.000000000",
          "2014-02-27T21:30:00.000000000",
          "2014-02-27T22:00:00.000000000",
          "2014-02-27T22:30:00.000000000",
          "2014-02-27T23:00:00.000000000",
          "2014-02-27T23:30:00.000000000"
         ],
         "y": {
          "bdata": "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",
          "dtype": "f8"
         }
        }
       ],
       "layout": {
        "autosize": false,
        "height": 500,
        "legend": {
         "font": {
          "size": 15
         },
         "orientation": "h",
         "title": {},
         "x": 1,
         "xanchor": "right",
         "y": 0.98,
         "yanchor": "bottom"
        },
        "template": {
         "data": {
          "bar": [
           {
            "error_x": {
             "color": "#2a3f5f"
            },
            "error_y": {
             "color": "#2a3f5f"
            },
            "marker": {
             "line": {
              "color": "white",
              "width": 0.5
             },
             "pattern": {
              "fillmode": "overlay",
              "size": 10,
              "solidity": 0.2
             }
            },
            "type": "bar"
           }
          ],
          "barpolar": [
           {
            "marker": {
             "line": {
              "color": "white",
              "width": 0.5
             },
             "pattern": {
              "fillmode": "overlay",
              "size": 10,
              "solidity": 0.2
             }
            },
            "type": "barpolar"
           }
          ],
          "carpet": [
           {
            "aaxis": {
             "endlinecolor": "#2a3f5f",
             "gridcolor": "#C8D4E3",
             "linecolor": "#C8D4E3",
             "minorgridcolor": "#C8D4E3",
             "startlinecolor": "#2a3f5f"
            },
            "baxis": {
             "endlinecolor": "#2a3f5f",
             "gridcolor": "#C8D4E3",
             "linecolor": "#C8D4E3",
             "minorgridcolor": "#C8D4E3",
             "startlinecolor": "#2a3f5f"
            },
            "type": "carpet"
           }
          ],
          "choropleth": [
           {
            "colorbar": {
             "outlinewidth": 0,
             "ticks": ""
            },
            "type": "choropleth"
           }
          ],
          "contour": [
           {
            "colorbar": {
             "outlinewidth": 0,
             "ticks": ""
            },
            "colorscale": [
             [
              0,
              "#0d0887"
             ],
             [
              0.1111111111111111,
              "#46039f"
             ],
             [
              0.2222222222222222,
              "#7201a8"
             ],
             [
              0.3333333333333333,
              "#9c179e"
             ],
             [
              0.4444444444444444,
              "#bd3786"
             ],
             [
              0.5555555555555556,
              "#d8576b"
             ],
             [
              0.6666666666666666,
              "#ed7953"
             ],
             [
              0.7777777777777778,
              "#fb9f3a"
             ],
             [
              0.8888888888888888,
              "#fdca26"
             ],
             [
              1,
              "#f0f921"
             ]
            ],
            "type": "contour"
           }
          ],
          "contourcarpet": [
           {
            "colorbar": {
             "outlinewidth": 0,
             "ticks": ""
            },
            "type": "contourcarpet"
           }
          ],
          "heatmap": [
           {
            "colorbar": {
             "outlinewidth": 0,
             "ticks": ""
            },
            "colorscale": [
             [
              0,
              "#0d0887"
             ],
             [
              0.1111111111111111,
              "#46039f"
             ],
             [
              0.2222222222222222,
              "#7201a8"
             ],
             [
              0.3333333333333333,
              "#9c179e"
             ],
             [
              0.4444444444444444,
              "#bd3786"
             ],
             [
              0.5555555555555556,
              "#d8576b"
             ],
             [
              0.6666666666666666,
              "#ed7953"
             ],
             [
              0.7777777777777778,
              "#fb9f3a"
             ],
             [
              0.8888888888888888,
              "#fdca26"
             ],
             [
              1,
              "#f0f921"
             ]
            ],
            "type": "heatmap"
           }
          ],
          "histogram": [
           {
            "marker": {
             "pattern": {
              "fillmode": "overlay",
              "size": 10,
              "solidity": 0.2
             }
            },
            "type": "histogram"
           }
          ],
          "histogram2d": [
           {
            "colorbar": {
             "outlinewidth": 0,
             "ticks": ""
            },
            "colorscale": [
             [
              0,
              "#0d0887"
             ],
             [
              0.1111111111111111,
              "#46039f"
             ],
             [
              0.2222222222222222,
              "#7201a8"
             ],
             [
              0.3333333333333333,
              "#9c179e"
             ],
             [
              0.4444444444444444,
              "#bd3786"
             ],
             [
              0.5555555555555556,
              "#d8576b"
             ],
             [
              0.6666666666666666,
              "#ed7953"
             ],
             [
              0.7777777777777778,
              "#fb9f3a"
             ],
             [
              0.8888888888888888,
              "#fdca26"
             ],
             [
              1,
              "#f0f921"
             ]
            ],
            "type": "histogram2d"
           }
          ],
          "histogram2dcontour": [
           {
            "colorbar": {
             "outlinewidth": 0,
             "ticks": ""
            },
            "colorscale": [
             [
              0,
              "#0d0887"
             ],
             [
              0.1111111111111111,
              "#46039f"
             ],
             [
              0.2222222222222222,
              "#7201a8"
             ],
             [
              0.3333333333333333,
              "#9c179e"
             ],
             [
              0.4444444444444444,
              "#bd3786"
             ],
             [
              0.5555555555555556,
              "#d8576b"
             ],
             [
              0.6666666666666666,
              "#ed7953"
             ],
             [
              0.7777777777777778,
              "#fb9f3a"
             ],
             [
              0.8888888888888888,
              "#fdca26"
             ],
             [
              1,
              "#f0f921"
             ]
            ],
            "type": "histogram2dcontour"
           }
          ],
          "mesh3d": [
           {
            "colorbar": {
             "outlinewidth": 0,
             "ticks": ""
            },
            "type": "mesh3d"
           }
          ],
          "parcoords": [
           {
            "line": {
             "colorbar": {
              "outlinewidth": 0,
              "ticks": ""
             }
            },
            "type": "parcoords"
           }
          ],
          "pie": [
           {
            "automargin": true,
            "type": "pie"
           }
          ],
          "scatter": [
           {
            "fillpattern": {
             "fillmode": "overlay",
             "size": 10,
             "solidity": 0.2
            },
            "type": "scatter"
           }
          ],
          "scatter3d": [
           {
            "line": {
             "colorbar": {
              "outlinewidth": 0,
              "ticks": ""
             }
            },
            "marker": {
             "colorbar": {
              "outlinewidth": 0,
              "ticks": ""
             }
            },
            "type": "scatter3d"
           }
          ],
          "scattercarpet": [
           {
            "marker": {
             "colorbar": {
              "outlinewidth": 0,
              "ticks": ""
             }
            },
            "type": "scattercarpet"
           }
          ],
          "scattergeo": [
           {
            "marker": {
             "colorbar": {
              "outlinewidth": 0,
              "ticks": ""
             }
            },
            "type": "scattergeo"
           }
          ],
          "scattergl": [
           {
            "marker": {
             "colorbar": {
              "outlinewidth": 0,
              "ticks": ""
             }
            },
            "type": "scattergl"
           }
          ],
          "scattermap": [
           {
            "marker": {
             "colorbar": {
              "outlinewidth": 0,
              "ticks": ""
             }
            },
            "type": "scattermap"
           }
          ],
          "scattermapbox": [
           {
            "marker": {
             "colorbar": {
              "outlinewidth": 0,
              "ticks": ""
             }
            },
            "type": "scattermapbox"
           }
          ],
          "scatterpolar": [
           {
            "marker": {
             "colorbar": {
              "outlinewidth": 0,
              "ticks": ""
             }
            },
            "type": "scatterpolar"
           }
          ],
          "scatterpolargl": [
           {
            "marker": {
             "colorbar": {
              "outlinewidth": 0,
              "ticks": ""
             }
            },
            "type": "scatterpolargl"
           }
          ],
          "scatterternary": [
           {
            "marker": {
             "colorbar": {
              "outlinewidth": 0,
              "ticks": ""
             }
            },
            "type": "scatterternary"
           }
          ],
          "surface": [
           {
            "colorbar": {
             "outlinewidth": 0,
             "ticks": ""
            },
            "colorscale": [
             [
              0,
              "#0d0887"
             ],
             [
              0.1111111111111111,
              "#46039f"
             ],
             [
              0.2222222222222222,
              "#7201a8"
             ],
             [
              0.3333333333333333,
              "#9c179e"
             ],
             [
              0.4444444444444444,
              "#bd3786"
             ],
             [
              0.5555555555555556,
              "#d8576b"
             ],
             [
              0.6666666666666666,
              "#ed7953"
             ],
             [
              0.7777777777777778,
              "#fb9f3a"
             ],
             [
              0.8888888888888888,
              "#fdca26"
             ],
             [
              1,
              "#f0f921"
             ]
            ],
            "type": "surface"
           }
          ],
          "table": [
           {
            "cells": {
             "fill": {
              "color": "#EBF0F8"
             },
             "line": {
              "color": "white"
             }
            },
            "header": {
             "fill": {
              "color": "#C8D4E3"
             },
             "line": {
              "color": "white"
             }
            },
            "type": "table"
           }
          ]
         },
         "layout": {
          "annotationdefaults": {
           "arrowcolor": "#2a3f5f",
           "arrowhead": 0,
           "arrowwidth": 1
          },
          "autotypenumbers": "strict",
          "coloraxis": {
           "colorbar": {
            "outlinewidth": 0,
            "ticks": ""
           }
          },
          "colorscale": {
           "diverging": [
            [
             0,
             "#8e0152"
            ],
            [
             0.1,
             "#c51b7d"
            ],
            [
             0.2,
             "#de77ae"
            ],
            [
             0.3,
             "#f1b6da"
            ],
            [
             0.4,
             "#fde0ef"
            ],
            [
             0.5,
             "#f7f7f7"
            ],
            [
             0.6,
             "#e6f5d0"
            ],
            [
             0.7,
             "#b8e186"
            ],
            [
             0.8,
             "#7fbc41"
            ],
            [
             0.9,
             "#4d9221"
            ],
            [
             1,
             "#276419"
            ]
           ],
           "sequential": [
            [
             0,
             "#0d0887"
            ],
            [
             0.1111111111111111,
             "#46039f"
            ],
            [
             0.2222222222222222,
             "#7201a8"
            ],
            [
             0.3333333333333333,
             "#9c179e"
            ],
            [
             0.4444444444444444,
             "#bd3786"
            ],
            [
             0.5555555555555556,
             "#d8576b"
            ],
            [
             0.6666666666666666,
             "#ed7953"
            ],
            [
             0.7777777777777778,
             "#fb9f3a"
            ],
            [
             0.8888888888888888,
             "#fdca26"
            ],
            [
             1,
             "#f0f921"
            ]
           ],
           "sequentialminus": [
            [
             0,
             "#0d0887"
            ],
            [
             0.1111111111111111,
             "#46039f"
            ],
            [
             0.2222222222222222,
             "#7201a8"
            ],
            [
             0.3333333333333333,
             "#9c179e"
            ],
            [
             0.4444444444444444,
             "#bd3786"
            ],
            [
             0.5555555555555556,
             "#d8576b"
            ],
            [
             0.6666666666666666,
             "#ed7953"
            ],
            [
             0.7777777777777778,
             "#fb9f3a"
            ],
            [
             0.8888888888888888,
             "#fdca26"
            ],
            [
             1,
             "#f0f921"
            ]
           ]
          },
          "colorway": [
           "#636efa",
           "#EF553B",
           "#00cc96",
           "#ab63fa",
           "#FFA15A",
           "#19d3f3",
           "#FF6692",
           "#B6E880",
           "#FF97FF",
           "#FECB52"
          ],
          "font": {
           "color": "#2a3f5f"
          },
          "geo": {
           "bgcolor": "white",
           "lakecolor": "white",
           "landcolor": "white",
           "showlakes": true,
           "showland": true,
           "subunitcolor": "#C8D4E3"
          },
          "hoverlabel": {
           "align": "left"
          },
          "hovermode": "closest",
          "mapbox": {
           "style": "light"
          },
          "paper_bgcolor": "white",
          "plot_bgcolor": "white",
          "polar": {
           "angularaxis": {
            "gridcolor": "#EBF0F8",
            "linecolor": "#EBF0F8",
            "ticks": ""
           },
           "bgcolor": "white",
           "radialaxis": {
            "gridcolor": "#EBF0F8",
            "linecolor": "#EBF0F8",
            "ticks": ""
           }
          },
          "scene": {
           "xaxis": {
            "backgroundcolor": "white",
            "gridcolor": "#DFE8F3",
            "gridwidth": 2,
            "linecolor": "#EBF0F8",
            "showbackground": true,
            "ticks": "",
            "zerolinecolor": "#EBF0F8"
           },
           "yaxis": {
            "backgroundcolor": "white",
            "gridcolor": "#DFE8F3",
            "gridwidth": 2,
            "linecolor": "#EBF0F8",
            "showbackground": true,
            "ticks": "",
            "zerolinecolor": "#EBF0F8"
           },
           "zaxis": {
            "backgroundcolor": "white",
            "gridcolor": "#DFE8F3",
            "gridwidth": 2,
            "linecolor": "#EBF0F8",
            "showbackground": true,
            "ticks": "",
            "zerolinecolor": "#EBF0F8"
           }
          },
          "shapedefaults": {
           "line": {
            "color": "#2a3f5f"
           }
          },
          "ternary": {
           "aaxis": {
            "gridcolor": "#DFE8F3",
            "linecolor": "#A2B1C6",
            "ticks": ""
           },
           "baxis": {
            "gridcolor": "#DFE8F3",
            "linecolor": "#A2B1C6",
            "ticks": ""
           },
           "bgcolor": "white",
           "caxis": {
            "gridcolor": "#DFE8F3",
            "linecolor": "#A2B1C6",
            "ticks": ""
           }
          },
          "title": {
           "x": 0.05
          },
          "xaxis": {
           "automargin": true,
           "gridcolor": "#EBF0F8",
           "linecolor": "#EBF0F8",
           "ticks": "",
           "title": {
            "standoff": 15
           },
           "zerolinecolor": "#EBF0F8",
           "zerolinewidth": 2
          },
          "yaxis": {
           "automargin": true,
           "gridcolor": "#EBF0F8",
           "linecolor": "#EBF0F8",
           "ticks": "",
           "title": {
            "standoff": 15
           },
           "zerolinecolor": "#EBF0F8",
           "zerolinewidth": 2
          }
         }
        },
        "title": {
         "text": "XGB Random Forest: MSE: 0.0118 | RMSE: 0.1087 | MAE: 0.0533 | BIAS: 3.2875"
        },
        "width": 900,
        "xaxis": {
         "range": [
          "2014-02-01",
          "2014-02-08"
         ],
         "tickfont": {
          "size": 15
         },
         "title": {
          "font": {
           "size": 15
          },
          "text": "Day"
         },
         "type": "date"
        },
        "yaxis": {
         "tickfont": {
          "size": 15
         },
         "title": {
          "font": {
           "size": 15
          },
          "text": "Value"
         }
        }
       }
      }
     },
     "metadata": {},
     "output_type": "display_data"
    }
   ],
   "source": [
    "## XGB Random Forest\n",
    "model_name = ['XGB Random Forest']\n",
    "model_display_name = ['XGB Random Forest']\n",
    "\n",
    "fig = plot_forecast(xgb_data,\n",
    "                    forecast_columns=['predictions'],\n",
    "                    forecast_display_names=model_display_name, timestamp_col ='timestamp',\n",
    "                    target_col_name=\"energy_consumption\")\n",
    "fig = format_plot(fig)\n",
    "fig.update_layout(\n",
    "    title=f\"{model_name[0]}: \"\\\n",
    "          f\"MSE: {ts_aggtest_metrics.loc[ts_aggtest_metrics.Algorithm==model_name[0]][['MSE']].iloc[0].item():.4f} | \"\\\n",
    "          f\"RMSE: {ts_aggtest_metrics.loc[ts_aggtest_metrics.Algorithm==model_name[0]][['RMSE']].iloc[0].item():.4f} | \"\\\n",
    "          f\"MAE: {ts_aggtest_metrics.loc[ts_aggtest_metrics.Algorithm==model_name[0]][['MAE']].iloc[0].item():.4f} | \"\\\n",
    "          f\"BIAS: {ts_aggtest_metrics.loc[ts_aggtest_metrics.Algorithm==model_name[0]][['Forecast Bias']].iloc[0].item():.4f}\"\n",
    ")\n",
    "fig.update_xaxes(type=\"date\", range=[\"2014-02-01\", \"2014-02-08\"])\n",
    "fig.write_image(dst_img/\"xgb.png\")\n",
    "fig.show()"
   ]
  },
  {
   "cell_type": "code",
   "execution_count": null,
   "id": "cabf5e0e",
   "metadata": {},
   "outputs": [],
   "source": [
    "pred_df.to_pickle(dst_result/\"ml_test_prediction_df.pkl\")\n",
    "summary_metrics_df.to_pickle(dst_result/\"ml_test_metrics_df.pkl\")\n",
    "metrics_df.to_pickle(dst_result/\"ml_test_aggregate_metrics.pkl\")"
   ]
  }
 ],
 "metadata": {
  "kernelspec": {
   "display_name": ".venv",
   "language": "python",
   "name": "python3"
  },
  "language_info": {
   "codemirror_mode": {
    "name": "ipython",
    "version": 3
   },
   "file_extension": ".py",
   "mimetype": "text/x-python",
   "name": "python",
   "nbconvert_exporter": "python",
   "pygments_lexer": "ipython3",
   "version": "3.12.3"
  }
 },
 "nbformat": 4,
 "nbformat_minor": 5
}
