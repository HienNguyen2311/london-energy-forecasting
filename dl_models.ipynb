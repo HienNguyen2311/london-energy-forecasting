{
 "cells": [
  {
   "cell_type": "code",
   "execution_count": 1,
   "id": "71fb9c9a",
   "metadata": {},
   "outputs": [
    {
     "name": "stderr",
     "output_type": "stream",
     "text": [
      "/home/hien/Work/AI/london_smart_meters/.venv/lib/python3.12/site-packages/tqdm/auto.py:21: TqdmWarning: IProgress not found. Please update jupyter and ipywidgets. See https://ipywidgets.readthedocs.io/en/stable/user_install.html\n",
      "  from .autonotebook import tqdm as notebook_tqdm\n"
     ]
    }
   ],
   "source": [
    "from lib.model_utils import preprocess_features, train_and_evaluate_model, plot_forecast, forecast_bias\n",
    "from lib.utils import format_plot\n",
    "from sklearn.metrics import mean_absolute_error as mae\n",
    "from sklearn.metrics import root_mean_squared_error as rmse\n",
    "from sklearn.metrics import mean_squared_error as mse\n",
    "import pandas as pd\n",
    "import plotly.express as px\n",
    "from pathlib import Path\n",
    "from darts.timeseries import TimeSeries\n",
    "from darts.dataprocessing.transformers import Scaler\n",
    "from darts.models import RNNModel, TFTModel, NBEATSModel, TSMixerModel\n",
    "import torch"
   ]
  },
  {
   "cell_type": "code",
   "execution_count": 2,
   "id": "250b19a4",
   "metadata": {},
   "outputs": [
    {
     "name": "stdout",
     "output_type": "stream",
     "text": [
      "/home/hien/Work\n"
     ]
    }
   ],
   "source": [
    "%cd ../..\n",
    "project_folder = Path(\"AI/london_smart_meters\")\n",
    "source_data = project_folder/\"data\"\n",
    "preprocessed_data = project_folder/\"output\"/\"preprocessed_data\"\n",
    "dst_img = project_folder/\"output\"/\"img\"\n",
    "dst_result = project_folder/\"output\"/\"result\""
   ]
  },
  {
   "cell_type": "code",
   "execution_count": 3,
   "id": "67f07ab7",
   "metadata": {},
   "outputs": [],
   "source": [
    "train_df = pd.read_parquet(preprocessed_data/\"selected_blocks_train_missing_imputed_feature_engg.parquet\")\n",
    "val_df = pd.read_parquet(preprocessed_data/\"selected_blocks_val_missing_imputed_feature_engg.parquet\")\n",
    "test_df = pd.read_parquet(preprocessed_data/\"selected_blocks_test_missing_imputed_feature_engg.parquet\")"
   ]
  },
  {
   "cell_type": "code",
   "execution_count": 4,
   "id": "f7883e2f",
   "metadata": {},
   "outputs": [],
   "source": [
    "train_df = pd.concat([train_df, val_df])\n",
    "del val_df"
   ]
  },
  {
   "cell_type": "code",
   "execution_count": 5,
   "id": "5f774151",
   "metadata": {},
   "outputs": [
    {
     "data": {
      "text/html": [
       "<div>\n",
       "<style scoped>\n",
       "    .dataframe tbody tr th:only-of-type {\n",
       "        vertical-align: middle;\n",
       "    }\n",
       "\n",
       "    .dataframe tbody tr th {\n",
       "        vertical-align: top;\n",
       "    }\n",
       "\n",
       "    .dataframe thead th {\n",
       "        text-align: right;\n",
       "    }\n",
       "</style>\n",
       "<table border=\"1\" class=\"dataframe\">\n",
       "  <thead>\n",
       "    <tr style=\"text-align: right;\">\n",
       "      <th></th>\n",
       "      <th>timestamp</th>\n",
       "      <th>LCLid</th>\n",
       "      <th>frequency</th>\n",
       "      <th>timestamp_Week</th>\n",
       "      <th>series_length</th>\n",
       "      <th>stdorToU</th>\n",
       "      <th>Acorn</th>\n",
       "      <th>Acorn_grouped</th>\n",
       "      <th>file</th>\n",
       "      <th>holidays</th>\n",
       "      <th>...</th>\n",
       "      <th>timestamp_Is_quarter_start</th>\n",
       "      <th>timestamp_Is_year_end</th>\n",
       "      <th>timestamp_Is_year_start</th>\n",
       "      <th>timestamp_Is_month_start</th>\n",
       "      <th>timestamp_Day</th>\n",
       "      <th>timestamp_Dayofweek</th>\n",
       "      <th>timestamp_Dayofyear</th>\n",
       "      <th>timestamp_Hour</th>\n",
       "      <th>timestamp_Minute</th>\n",
       "      <th>timestamp_Elapsed</th>\n",
       "    </tr>\n",
       "  </thead>\n",
       "  <tbody>\n",
       "    <tr>\n",
       "      <th>4437792</th>\n",
       "      <td>2012-01-01 00:00:00</td>\n",
       "      <td>MAC000061</td>\n",
       "      <td>30min</td>\n",
       "      <td>52</td>\n",
       "      <td>37872</td>\n",
       "      <td>Std</td>\n",
       "      <td>ACORN-Q</td>\n",
       "      <td>Adversity</td>\n",
       "      <td>block_96</td>\n",
       "      <td>NO_HOLIDAY</td>\n",
       "      <td>...</td>\n",
       "      <td>1</td>\n",
       "      <td>0</td>\n",
       "      <td>1</td>\n",
       "      <td>1</td>\n",
       "      <td>1</td>\n",
       "      <td>6</td>\n",
       "      <td>1</td>\n",
       "      <td>0</td>\n",
       "      <td>0</td>\n",
       "      <td>1325376000</td>\n",
       "    </tr>\n",
       "    <tr>\n",
       "      <th>4437793</th>\n",
       "      <td>2012-01-01 00:30:00</td>\n",
       "      <td>MAC000061</td>\n",
       "      <td>30min</td>\n",
       "      <td>52</td>\n",
       "      <td>37872</td>\n",
       "      <td>Std</td>\n",
       "      <td>ACORN-Q</td>\n",
       "      <td>Adversity</td>\n",
       "      <td>block_96</td>\n",
       "      <td>NO_HOLIDAY</td>\n",
       "      <td>...</td>\n",
       "      <td>1</td>\n",
       "      <td>0</td>\n",
       "      <td>1</td>\n",
       "      <td>1</td>\n",
       "      <td>1</td>\n",
       "      <td>6</td>\n",
       "      <td>1</td>\n",
       "      <td>0</td>\n",
       "      <td>30</td>\n",
       "      <td>1325377800</td>\n",
       "    </tr>\n",
       "    <tr>\n",
       "      <th>4437794</th>\n",
       "      <td>2012-01-01 01:00:00</td>\n",
       "      <td>MAC000061</td>\n",
       "      <td>30min</td>\n",
       "      <td>52</td>\n",
       "      <td>37872</td>\n",
       "      <td>Std</td>\n",
       "      <td>ACORN-Q</td>\n",
       "      <td>Adversity</td>\n",
       "      <td>block_96</td>\n",
       "      <td>NO_HOLIDAY</td>\n",
       "      <td>...</td>\n",
       "      <td>1</td>\n",
       "      <td>0</td>\n",
       "      <td>1</td>\n",
       "      <td>1</td>\n",
       "      <td>1</td>\n",
       "      <td>6</td>\n",
       "      <td>1</td>\n",
       "      <td>1</td>\n",
       "      <td>0</td>\n",
       "      <td>1325379600</td>\n",
       "    </tr>\n",
       "    <tr>\n",
       "      <th>4437795</th>\n",
       "      <td>2012-01-01 01:30:00</td>\n",
       "      <td>MAC000061</td>\n",
       "      <td>30min</td>\n",
       "      <td>52</td>\n",
       "      <td>37872</td>\n",
       "      <td>Std</td>\n",
       "      <td>ACORN-Q</td>\n",
       "      <td>Adversity</td>\n",
       "      <td>block_96</td>\n",
       "      <td>NO_HOLIDAY</td>\n",
       "      <td>...</td>\n",
       "      <td>1</td>\n",
       "      <td>0</td>\n",
       "      <td>1</td>\n",
       "      <td>1</td>\n",
       "      <td>1</td>\n",
       "      <td>6</td>\n",
       "      <td>1</td>\n",
       "      <td>1</td>\n",
       "      <td>30</td>\n",
       "      <td>1325381400</td>\n",
       "    </tr>\n",
       "    <tr>\n",
       "      <th>4437796</th>\n",
       "      <td>2012-01-01 02:00:00</td>\n",
       "      <td>MAC000061</td>\n",
       "      <td>30min</td>\n",
       "      <td>52</td>\n",
       "      <td>37872</td>\n",
       "      <td>Std</td>\n",
       "      <td>ACORN-Q</td>\n",
       "      <td>Adversity</td>\n",
       "      <td>block_96</td>\n",
       "      <td>NO_HOLIDAY</td>\n",
       "      <td>...</td>\n",
       "      <td>1</td>\n",
       "      <td>0</td>\n",
       "      <td>1</td>\n",
       "      <td>1</td>\n",
       "      <td>1</td>\n",
       "      <td>6</td>\n",
       "      <td>1</td>\n",
       "      <td>2</td>\n",
       "      <td>0</td>\n",
       "      <td>1325383200</td>\n",
       "    </tr>\n",
       "    <tr>\n",
       "      <th>...</th>\n",
       "      <td>...</td>\n",
       "      <td>...</td>\n",
       "      <td>...</td>\n",
       "      <td>...</td>\n",
       "      <td>...</td>\n",
       "      <td>...</td>\n",
       "      <td>...</td>\n",
       "      <td>...</td>\n",
       "      <td>...</td>\n",
       "      <td>...</td>\n",
       "      <td>...</td>\n",
       "      <td>...</td>\n",
       "      <td>...</td>\n",
       "      <td>...</td>\n",
       "      <td>...</td>\n",
       "      <td>...</td>\n",
       "      <td>...</td>\n",
       "      <td>...</td>\n",
       "      <td>...</td>\n",
       "      <td>...</td>\n",
       "      <td>...</td>\n",
       "    </tr>\n",
       "    <tr>\n",
       "      <th>25291</th>\n",
       "      <td>2014-01-31 21:30:00</td>\n",
       "      <td>MAC005529</td>\n",
       "      <td>30min</td>\n",
       "      <td>5</td>\n",
       "      <td>32688</td>\n",
       "      <td>ToU</td>\n",
       "      <td>ACORN-L</td>\n",
       "      <td>Adversity</td>\n",
       "      <td>block_82</td>\n",
       "      <td>NO_HOLIDAY</td>\n",
       "      <td>...</td>\n",
       "      <td>0</td>\n",
       "      <td>0</td>\n",
       "      <td>0</td>\n",
       "      <td>0</td>\n",
       "      <td>31</td>\n",
       "      <td>4</td>\n",
       "      <td>31</td>\n",
       "      <td>21</td>\n",
       "      <td>30</td>\n",
       "      <td>1391203800</td>\n",
       "    </tr>\n",
       "    <tr>\n",
       "      <th>25292</th>\n",
       "      <td>2014-01-31 22:00:00</td>\n",
       "      <td>MAC005529</td>\n",
       "      <td>30min</td>\n",
       "      <td>5</td>\n",
       "      <td>32688</td>\n",
       "      <td>ToU</td>\n",
       "      <td>ACORN-L</td>\n",
       "      <td>Adversity</td>\n",
       "      <td>block_82</td>\n",
       "      <td>NO_HOLIDAY</td>\n",
       "      <td>...</td>\n",
       "      <td>0</td>\n",
       "      <td>0</td>\n",
       "      <td>0</td>\n",
       "      <td>0</td>\n",
       "      <td>31</td>\n",
       "      <td>4</td>\n",
       "      <td>31</td>\n",
       "      <td>22</td>\n",
       "      <td>0</td>\n",
       "      <td>1391205600</td>\n",
       "    </tr>\n",
       "    <tr>\n",
       "      <th>25293</th>\n",
       "      <td>2014-01-31 22:30:00</td>\n",
       "      <td>MAC005529</td>\n",
       "      <td>30min</td>\n",
       "      <td>5</td>\n",
       "      <td>32688</td>\n",
       "      <td>ToU</td>\n",
       "      <td>ACORN-L</td>\n",
       "      <td>Adversity</td>\n",
       "      <td>block_82</td>\n",
       "      <td>NO_HOLIDAY</td>\n",
       "      <td>...</td>\n",
       "      <td>0</td>\n",
       "      <td>0</td>\n",
       "      <td>0</td>\n",
       "      <td>0</td>\n",
       "      <td>31</td>\n",
       "      <td>4</td>\n",
       "      <td>31</td>\n",
       "      <td>22</td>\n",
       "      <td>30</td>\n",
       "      <td>1391207400</td>\n",
       "    </tr>\n",
       "    <tr>\n",
       "      <th>25294</th>\n",
       "      <td>2014-01-31 23:00:00</td>\n",
       "      <td>MAC005529</td>\n",
       "      <td>30min</td>\n",
       "      <td>5</td>\n",
       "      <td>32688</td>\n",
       "      <td>ToU</td>\n",
       "      <td>ACORN-L</td>\n",
       "      <td>Adversity</td>\n",
       "      <td>block_82</td>\n",
       "      <td>NO_HOLIDAY</td>\n",
       "      <td>...</td>\n",
       "      <td>0</td>\n",
       "      <td>0</td>\n",
       "      <td>0</td>\n",
       "      <td>0</td>\n",
       "      <td>31</td>\n",
       "      <td>4</td>\n",
       "      <td>31</td>\n",
       "      <td>23</td>\n",
       "      <td>0</td>\n",
       "      <td>1391209200</td>\n",
       "    </tr>\n",
       "    <tr>\n",
       "      <th>25295</th>\n",
       "      <td>2014-01-31 23:30:00</td>\n",
       "      <td>MAC005529</td>\n",
       "      <td>30min</td>\n",
       "      <td>5</td>\n",
       "      <td>32688</td>\n",
       "      <td>ToU</td>\n",
       "      <td>ACORN-L</td>\n",
       "      <td>Adversity</td>\n",
       "      <td>block_82</td>\n",
       "      <td>NO_HOLIDAY</td>\n",
       "      <td>...</td>\n",
       "      <td>0</td>\n",
       "      <td>0</td>\n",
       "      <td>0</td>\n",
       "      <td>0</td>\n",
       "      <td>31</td>\n",
       "      <td>4</td>\n",
       "      <td>31</td>\n",
       "      <td>23</td>\n",
       "      <td>30</td>\n",
       "      <td>1391211000</td>\n",
       "    </tr>\n",
       "  </tbody>\n",
       "</table>\n",
       "<p>5518656 rows × 53 columns</p>\n",
       "</div>"
      ],
      "text/plain": [
       "                  timestamp      LCLid frequency  timestamp_Week  \\\n",
       "4437792 2012-01-01 00:00:00  MAC000061     30min              52   \n",
       "4437793 2012-01-01 00:30:00  MAC000061     30min              52   \n",
       "4437794 2012-01-01 01:00:00  MAC000061     30min              52   \n",
       "4437795 2012-01-01 01:30:00  MAC000061     30min              52   \n",
       "4437796 2012-01-01 02:00:00  MAC000061     30min              52   \n",
       "...                     ...        ...       ...             ...   \n",
       "25291   2014-01-31 21:30:00  MAC005529     30min               5   \n",
       "25292   2014-01-31 22:00:00  MAC005529     30min               5   \n",
       "25293   2014-01-31 22:30:00  MAC005529     30min               5   \n",
       "25294   2014-01-31 23:00:00  MAC005529     30min               5   \n",
       "25295   2014-01-31 23:30:00  MAC005529     30min               5   \n",
       "\n",
       "         series_length stdorToU    Acorn Acorn_grouped      file    holidays  \\\n",
       "4437792          37872      Std  ACORN-Q     Adversity  block_96  NO_HOLIDAY   \n",
       "4437793          37872      Std  ACORN-Q     Adversity  block_96  NO_HOLIDAY   \n",
       "4437794          37872      Std  ACORN-Q     Adversity  block_96  NO_HOLIDAY   \n",
       "4437795          37872      Std  ACORN-Q     Adversity  block_96  NO_HOLIDAY   \n",
       "4437796          37872      Std  ACORN-Q     Adversity  block_96  NO_HOLIDAY   \n",
       "...                ...      ...      ...           ...       ...         ...   \n",
       "25291            32688      ToU  ACORN-L     Adversity  block_82  NO_HOLIDAY   \n",
       "25292            32688      ToU  ACORN-L     Adversity  block_82  NO_HOLIDAY   \n",
       "25293            32688      ToU  ACORN-L     Adversity  block_82  NO_HOLIDAY   \n",
       "25294            32688      ToU  ACORN-L     Adversity  block_82  NO_HOLIDAY   \n",
       "25295            32688      ToU  ACORN-L     Adversity  block_82  NO_HOLIDAY   \n",
       "\n",
       "         ...  timestamp_Is_quarter_start  timestamp_Is_year_end  \\\n",
       "4437792  ...                           1                      0   \n",
       "4437793  ...                           1                      0   \n",
       "4437794  ...                           1                      0   \n",
       "4437795  ...                           1                      0   \n",
       "4437796  ...                           1                      0   \n",
       "...      ...                         ...                    ...   \n",
       "25291    ...                           0                      0   \n",
       "25292    ...                           0                      0   \n",
       "25293    ...                           0                      0   \n",
       "25294    ...                           0                      0   \n",
       "25295    ...                           0                      0   \n",
       "\n",
       "         timestamp_Is_year_start  timestamp_Is_month_start  timestamp_Day  \\\n",
       "4437792                        1                         1              1   \n",
       "4437793                        1                         1              1   \n",
       "4437794                        1                         1              1   \n",
       "4437795                        1                         1              1   \n",
       "4437796                        1                         1              1   \n",
       "...                          ...                       ...            ...   \n",
       "25291                          0                         0             31   \n",
       "25292                          0                         0             31   \n",
       "25293                          0                         0             31   \n",
       "25294                          0                         0             31   \n",
       "25295                          0                         0             31   \n",
       "\n",
       "         timestamp_Dayofweek  timestamp_Dayofyear timestamp_Hour  \\\n",
       "4437792                    6                    1              0   \n",
       "4437793                    6                    1              0   \n",
       "4437794                    6                    1              1   \n",
       "4437795                    6                    1              1   \n",
       "4437796                    6                    1              2   \n",
       "...                      ...                  ...            ...   \n",
       "25291                      4                   31             21   \n",
       "25292                      4                   31             22   \n",
       "25293                      4                   31             22   \n",
       "25294                      4                   31             23   \n",
       "25295                      4                   31             23   \n",
       "\n",
       "        timestamp_Minute  timestamp_Elapsed  \n",
       "4437792                0         1325376000  \n",
       "4437793               30         1325377800  \n",
       "4437794                0         1325379600  \n",
       "4437795               30         1325381400  \n",
       "4437796                0         1325383200  \n",
       "...                  ...                ...  \n",
       "25291                 30         1391203800  \n",
       "25292                  0         1391205600  \n",
       "25293                 30         1391207400  \n",
       "25294                  0         1391209200  \n",
       "25295                 30         1391211000  \n",
       "\n",
       "[5518656 rows x 53 columns]"
      ]
     },
     "execution_count": 5,
     "metadata": {},
     "output_type": "execute_result"
    }
   ],
   "source": [
    "train_df"
   ]
  },
  {
   "cell_type": "code",
   "execution_count": 6,
   "id": "1b8e12ce",
   "metadata": {},
   "outputs": [],
   "source": [
    "target=[\"energy_consumption\"]\n",
    "continuous_features=[\n",
    "    \"visibility\",\n",
    "    \"windBearing\",\n",
    "    \"temperature\",\n",
    "    \"dewPoint\",\n",
    "    \"pressure\",\n",
    "    \"apparentTemperature\",\n",
    "    \"windSpeed\",\n",
    "    \"humidity\",\n",
    "    \"energy_consumption_lag_1\",\n",
    "    \"energy_consumption_lag_2\",\n",
    "    \"energy_consumption_lag_3\",\n",
    "    \"energy_consumption_lag_4\",\n",
    "    \"energy_consumption_lag_5\",\n",
    "    \"energy_consumption_lag_46\",\n",
    "    \"energy_consumption_lag_47\",\n",
    "    \"energy_consumption_lag_48\",\n",
    "    \"energy_consumption_lag_49\",\n",
    "    \"energy_consumption_lag_50\",\n",
    "    \"energy_consumption_lag_334\",\n",
    "    \"energy_consumption_lag_335\",\n",
    "    \"energy_consumption_lag_336\",\n",
    "    \"energy_consumption_lag_337\",\n",
    "    \"energy_consumption_lag_338\",\n",
    "    \"timestamp_Elapsed\",\n",
    "    \"day_hourly_profile\",\n",
    "]\n",
    "categorical_features=[\n",
    "    \"stdorToU\",\n",
    "    \"Acorn\",\n",
    "    \"Acorn_grouped\",\n",
    "    \"holidays\",\n",
    "    \"precipType\",\n",
    "    \"icon\",\n",
    "    \"summary\",\n",
    "    \"timestamp_Month\",\n",
    "    \"timestamp_Quarter\",\n",
    "    \"timestamp_Week\",\n",
    "    \"timestamp_Day\",\n",
    "    \"timestamp_Dayofweek\",\n",
    "    \"timestamp_Dayofyear\",\n",
    "    \"timestamp_Hour\",\n",
    "    \"timestamp_Minute\",\n",
    "    \"weekday\",\n",
    "    \"hour\",\n",
    "]\n",
    "boolean_features=[\n",
    "    \"timestamp_Is_quarter_end\",\n",
    "    \"timestamp_Is_quarter_start\",\n",
    "    \"timestamp_Is_year_end\",\n",
    "    \"timestamp_Is_year_start\",\n",
    "    \"timestamp_Is_month_start\",\n",
    "]"
   ]
  },
  {
   "cell_type": "markdown",
   "id": "d2dd0008",
   "metadata": {},
   "source": [
    "# Data Preprocessing"
   ]
  },
  {
   "cell_type": "markdown",
   "id": "929a6929",
   "metadata": {},
   "source": [
    "## Train"
   ]
  },
  {
   "cell_type": "code",
   "execution_count": 7,
   "id": "e4de521c",
   "metadata": {},
   "outputs": [],
   "source": [
    "train_df_ts = train_df.copy()\n",
    "train_df_ts[\"timestamp\"] = pd.to_datetime(train_df_ts[\"timestamp\"], yearfirst=True)\n",
    "train_df_ts = train_df_ts.set_index(['timestamp', 'LCLid'])\n",
    "lcl_ids = sorted(train_df.LCLid.unique())\n",
    "for lcl_id in lcl_ids:\n",
    "    lcl_id_data = train_df_ts.xs(lcl_id, level='LCLid')\n",
    "    lcl_id_data = lcl_id_data.asfreq('30min')\n",
    "train_df_ts = train_df_ts.drop(['frequency', 'file'], axis=1)"
   ]
  },
  {
   "cell_type": "code",
   "execution_count": 8,
   "id": "899da19f",
   "metadata": {},
   "outputs": [],
   "source": [
    "bfill_columns=[\n",
    "    \"pressure\",\n",
    "    \"energy_consumption_lag_1\",\n",
    "    \"energy_consumption_lag_2\",\n",
    "    \"energy_consumption_lag_3\",\n",
    "    \"energy_consumption_lag_4\",\n",
    "    \"energy_consumption_lag_5\",\n",
    "    \"energy_consumption_lag_46\",\n",
    "    \"energy_consumption_lag_47\",\n",
    "    \"energy_consumption_lag_48\",\n",
    "    \"energy_consumption_lag_49\",\n",
    "    \"energy_consumption_lag_50\",\n",
    "    \"energy_consumption_lag_334\",\n",
    "    \"energy_consumption_lag_335\",\n",
    "    \"energy_consumption_lag_336\",\n",
    "    \"energy_consumption_lag_337\",\n",
    "    \"energy_consumption_lag_338\",\n",
    "]\n",
    "n_hashed_features = 32\n",
    "hashed_features_list_train = []"
   ]
  },
  {
   "cell_type": "code",
   "execution_count": 9,
   "id": "0a06779f",
   "metadata": {},
   "outputs": [
    {
     "name": "stdout",
     "output_type": "stream",
     "text": [
      "Handling missing values...\n"
     ]
    },
    {
     "name": "stderr",
     "output_type": "stream",
     "text": [
      "/home/hien/Work/AI/london_smart_meters/lib/model_utils.py:651: FutureWarning: DataFrame.fillna with 'method' is deprecated and will raise in a future version. Use obj.ffill() or obj.bfill() instead.\n",
      "  df[bfill_cols] = df[bfill_cols].fillna(method=\"bfill\")\n"
     ]
    },
    {
     "name": "stdout",
     "output_type": "stream",
     "text": [
      "Encoding categorical features...\n",
      "Normalizing features...\n"
     ]
    }
   ],
   "source": [
    "processed_train = preprocess_features(train_df_ts, continuous_features, categorical_features, boolean_features,\n",
    "                                      n_hashed_features, hashed_features_list_train, bfill_columns)"
   ]
  },
  {
   "cell_type": "markdown",
   "id": "0a7c50ba",
   "metadata": {},
   "source": [
    "## Test"
   ]
  },
  {
   "cell_type": "code",
   "execution_count": 10,
   "id": "c67eeeb2",
   "metadata": {},
   "outputs": [],
   "source": [
    "test_df_ts = test_df.copy()\n",
    "test_df_ts[\"timestamp\"] = pd.to_datetime(test_df_ts[\"timestamp\"], yearfirst=True)\n",
    "test_df_ts = test_df_ts.set_index(['timestamp', 'LCLid'])\n",
    "lcl_ids = sorted(test_df.LCLid.unique())\n",
    "for lcl_id in lcl_ids:\n",
    "    lcl_id_data = test_df_ts.xs(lcl_id, level='LCLid')\n",
    "    lcl_id_data = lcl_id_data.asfreq('30min')\n",
    "test_df_ts = test_df_ts.drop(['frequency', 'file'], axis=1)"
   ]
  },
  {
   "cell_type": "code",
   "execution_count": 11,
   "id": "734bc463",
   "metadata": {},
   "outputs": [
    {
     "name": "stdout",
     "output_type": "stream",
     "text": [
      "Handling missing values...\n",
      "Encoding categorical features...\n"
     ]
    },
    {
     "name": "stderr",
     "output_type": "stream",
     "text": [
      "/home/hien/Work/AI/london_smart_meters/lib/model_utils.py:651: FutureWarning: DataFrame.fillna with 'method' is deprecated and will raise in a future version. Use obj.ffill() or obj.bfill() instead.\n",
      "  df[bfill_cols] = df[bfill_cols].fillna(method=\"bfill\")\n"
     ]
    },
    {
     "name": "stdout",
     "output_type": "stream",
     "text": [
      "Normalizing features...\n"
     ]
    }
   ],
   "source": [
    "hashed_features_list_test = []\n",
    "processed_test = preprocess_features(test_df_ts, continuous_features, categorical_features, boolean_features,\n",
    "                                      n_hashed_features, hashed_features_list_test, bfill_columns)"
   ]
  },
  {
   "cell_type": "markdown",
   "id": "e7e48fbc",
   "metadata": {},
   "source": [
    "# Models Training"
   ]
  },
  {
   "cell_type": "code",
   "execution_count": 12,
   "id": "f5931d08",
   "metadata": {},
   "outputs": [],
   "source": [
    "# Model configurations\n",
    "lstm_config = {\n",
    "    'name': 'LSTM',\n",
    "    'class': RNNModel,\n",
    "    'params': {\n",
    "        'model': \"LSTM\",\n",
    "        'input_chunk_length': 96,\n",
    "        'output_chunk_length': 48,\n",
    "        'training_length': 144,\n",
    "        'hidden_dim': 128,\n",
    "        'n_rnn_layers': 3,\n",
    "        'dropout': 0.2,\n",
    "        'batch_size': 32,\n",
    "        'n_epochs': 2,\n",
    "        'optimizer_kwargs': {'lr': 0.0001},\n",
    "        'pl_trainer_kwargs': {\n",
    "            'accelerator': \"gpu\" if torch.cuda.is_available() else \"cpu\",\n",
    "            'devices': 1\n",
    "        }\n",
    "    }\n",
    "}\n",
    "tft_config = {\n",
    "    'name': 'TFT',\n",
    "    'class': TFTModel,\n",
    "    'params': {\n",
    "        'input_chunk_length': 96,\n",
    "        'output_chunk_length': 48,\n",
    "        'hidden_size': 64,\n",
    "        'lstm_layers': 2,\n",
    "        'num_attention_heads': 4,\n",
    "        'dropout': 0.2,\n",
    "        'batch_size': 32,\n",
    "        'n_epochs': 5,\n",
    "        'pl_trainer_kwargs': {\n",
    "            'accelerator': \"gpu\" if torch.cuda.is_available() else \"cpu\",\n",
    "            'devices': 1\n",
    "        }\n",
    "    }\n",
    "}\n",
    "nbeats_config = {\n",
    "    'name': 'N-BEATS',\n",
    "    'class': NBEATSModel,\n",
    "    'params': {\n",
    "        'input_chunk_length': 96,\n",
    "        'output_chunk_length': 48,\n",
    "        'generic_architecture': True,\n",
    "        'num_stacks': 4,\n",
    "        'num_blocks': 3,\n",
    "        'num_layers': 4,\n",
    "        'layer_widths': 128,\n",
    "        'n_epochs': 5,\n",
    "        'batch_size': 32,\n",
    "        'pl_trainer_kwargs': {\n",
    "            'accelerator': \"gpu\" if torch.cuda.is_available() else \"cpu\",\n",
    "            'devices': 1\n",
    "        }\n",
    "    }\n",
    "}\n",
    "tsmixer_config = {\n",
    "    'name': 'TSMixer',\n",
    "    'class': TSMixerModel,\n",
    "    'params': {\n",
    "        'input_chunk_length': 96,\n",
    "        'output_chunk_length': 48,\n",
    "        'hidden_size': 64,\n",
    "        'ff_size': 64,\n",
    "        'num_blocks': 2,\n",
    "        'activation': 'ReLU',\n",
    "        'dropout': 0.2,\n",
    "        'norm_type': 'LayerNorm',\n",
    "        'normalize_before': False,\n",
    "        'use_static_covariates': True,\n",
    "        'n_epochs': 2,\n",
    "        'batch_size': 32,\n",
    "        'pl_trainer_kwargs': {\n",
    "            'accelerator': \"gpu\" if torch.cuda.is_available() else \"cpu\",\n",
    "            'devices': 1\n",
    "        }\n",
    "    }\n",
    "}"
   ]
  },
  {
   "cell_type": "code",
   "execution_count": 13,
   "id": "3e934486",
   "metadata": {},
   "outputs": [
    {
     "name": "stdout",
     "output_type": "stream",
     "text": [
      "Training on 185 households\n"
     ]
    }
   ],
   "source": [
    "# 1. Get unique household IDs\n",
    "household_ids = processed_train.index.get_level_values('LCLid').unique()\n",
    "print(f\"Training on {len(household_ids)} households\")\n",
    "# 2. Initialize Scalers\n",
    "target_scaler = Scaler()\n",
    "covariates_scaler = Scaler()\n",
    "# 3. Create empty lists to store series\n",
    "train_series_list = []\n",
    "train_covariates_list = []\n",
    "test_series_list = []\n",
    "test_covariates_list = []\n",
    "all_predictions = []\n",
    "all_metrics = []\n",
    "ouput_predictions_tsmixer = dst_result/'tsmixer_test_predictions.parquet'\n",
    "output_metrics_tsmixer = dst_result/'tsmixer_test_metrics.parquet'\n",
    "ouput_predictions_lstm = dst_result/'lstm_test_predictions.parquet'\n",
    "output_metrics_lstm = dst_result/'lstm_test_metrics.parquet'"
   ]
  },
  {
   "cell_type": "code",
   "execution_count": 14,
   "id": "1950526c",
   "metadata": {},
   "outputs": [],
   "source": [
    "# 4. Process each household\n",
    "for i, household_id in enumerate(household_ids[:50]):\n",
    "\n",
    "    try:\n",
    "        # Extract household data\n",
    "        train_household = processed_train.xs(household_id, level=\"LCLid\")\n",
    "        test_household = processed_test.xs(household_id, level=\"LCLid\")\n",
    "\n",
    "        # Ensure target column is first\n",
    "        if 'energy_consumption' not in train_household.columns:\n",
    "            print(f\"Skipping household {household_id}: missing target column\")\n",
    "            continue\n",
    "\n",
    "        # Move target column to first position\n",
    "        cols = ['energy_consumption'] + [col for col in train_household.columns if col != 'energy_consumption']\n",
    "        train_household = train_household[cols]\n",
    "        test_household = test_household[cols]\n",
    "\n",
    "        # For each household:\n",
    "        test_start = test_household.index.min()\n",
    "        overlap_start = test_start - pd.Timedelta(days=2)  # 48 hours before test start\n",
    "\n",
    "        # Get overlap data from training set\n",
    "        overlap_data = train_household.loc[train_household.index >= overlap_start]\n",
    "\n",
    "        # Combine overlap with test data\n",
    "        combined_test = pd.concat([overlap_data, test_household])\n",
    "\n",
    "        # Convert to TimeSeries\n",
    "        series_train = TimeSeries.from_dataframe(\n",
    "            train_household,\n",
    "            value_cols=\"energy_consumption\",\n",
    "            fill_missing_dates=True,\n",
    "            freq=\"30min\"\n",
    "        )\n",
    "\n",
    "        covariates_train = TimeSeries.from_dataframe(\n",
    "            train_household.drop(\"energy_consumption\", axis=1),\n",
    "            fill_missing_dates=True,\n",
    "            freq=\"30min\"\n",
    "        )\n",
    "\n",
    "        series_test = TimeSeries.from_dataframe(\n",
    "            test_household,\n",
    "            value_cols=\"energy_consumption\",\n",
    "            fill_missing_dates=True,\n",
    "            freq=\"30min\"\n",
    "        )\n",
    "\n",
    "        covariates_test = TimeSeries.from_dataframe(\n",
    "            combined_test.drop(\"energy_consumption\", axis=1),\n",
    "            fill_missing_dates=True,\n",
    "            freq=\"30min\"\n",
    "        )\n",
    "\n",
    "        # Scale series\n",
    "        series_train_scaled = target_scaler.fit_transform(series_train)\n",
    "        series_test_scaled = target_scaler.transform(series_test)\n",
    "\n",
    "        # Scale covariates\n",
    "        covariates_train_scaled = covariates_scaler.fit_transform(covariates_train)\n",
    "        covariates_test_scaled = covariates_scaler.transform(covariates_test)\n",
    "\n",
    "        # Add to lists\n",
    "        train_series_list.append(series_train_scaled)\n",
    "        train_covariates_list.append(covariates_train_scaled)\n",
    "        test_series_list.append(series_test_scaled)\n",
    "        test_covariates_list.append(covariates_test_scaled)\n",
    "\n",
    "    except Exception as e:\n",
    "        print(f\"Error processing household {household_id}: {e}\")\n",
    "        continue"
   ]
  },
  {
   "cell_type": "code",
   "execution_count": 15,
   "id": "fcbcd406",
   "metadata": {},
   "outputs": [
    {
     "name": "stderr",
     "output_type": "stream",
     "text": [
      "ignoring user defined `output_chunk_length`. RNNModel uses a fixed `output_chunk_length=1`.\n",
      "GPU available: True (cuda), used: True\n",
      "TPU available: False, using: 0 TPU cores\n",
      "HPU available: False, using: 0 HPUs\n",
      "You are using a CUDA device ('NVIDIA GeForce RTX 3090 Ti') that has Tensor Cores. To properly utilize them, you should set `torch.set_float32_matmul_precision('medium' | 'high')` which will trade-off precision for performance. For more details, read https://pytorch.org/docs/stable/generated/torch.set_float32_matmul_precision.html#torch.set_float32_matmul_precision\n",
      "LOCAL_RANK: 0 - CUDA_VISIBLE_DEVICES: [0]\n",
      "\n",
      "  | Name            | Type             | Params | Mode \n",
      "-------------------------------------------------------------\n",
      "0 | criterion       | MSELoss          | 0      | train\n",
      "1 | train_criterion | MSELoss          | 0      | train\n",
      "2 | val_criterion   | MSELoss          | 0      | train\n",
      "3 | train_metrics   | MetricCollection | 0      | train\n",
      "4 | val_metrics     | MetricCollection | 0      | train\n",
      "5 | rnn             | LSTM             | 625 K  | train\n",
      "6 | V               | Linear           | 129    | train\n",
      "-------------------------------------------------------------\n",
      "625 K     Trainable params\n",
      "0         Non-trainable params\n",
      "625 K     Total params\n",
      "2.503     Total estimated model params size (MB)\n",
      "7         Modules in train mode\n",
      "0         Modules in eval mode\n"
     ]
    },
    {
     "name": "stdout",
     "output_type": "stream",
     "text": [
      "Training LSTM model...\n",
      "Epoch 1: 100%|██████████| 56925/56925 [1:05:10<00:00, 14.56it/s, train_loss=0.00253]"
     ]
    },
    {
     "name": "stderr",
     "output_type": "stream",
     "text": [
      "`Trainer.fit` stopped: `max_epochs=2` reached.\n"
     ]
    },
    {
     "name": "stdout",
     "output_type": "stream",
     "text": [
      "Epoch 1: 100%|██████████| 56925/56925 [1:05:10<00:00, 14.56it/s, train_loss=0.00253]"
     ]
    },
    {
     "name": "stderr",
     "output_type": "stream",
     "text": [
      "GPU available: True (cuda), used: True\n",
      "TPU available: False, using: 0 TPU cores\n",
      "HPU available: False, using: 0 HPUs\n",
      "LOCAL_RANK: 0 - CUDA_VISIBLE_DEVICES: [0]\n"
     ]
    },
    {
     "name": "stdout",
     "output_type": "stream",
     "text": [
      "\n",
      "Predicting DataLoader 0: 100%|██████████| 1/1 [00:00<00:00,  8.85it/s]"
     ]
    },
    {
     "name": "stderr",
     "output_type": "stream",
     "text": [
      "GPU available: True (cuda), used: True\n",
      "TPU available: False, using: 0 TPU cores\n",
      "HPU available: False, using: 0 HPUs\n",
      "LOCAL_RANK: 0 - CUDA_VISIBLE_DEVICES: [0]\n"
     ]
    },
    {
     "name": "stdout",
     "output_type": "stream",
     "text": [
      "\n",
      "Predicting DataLoader 0: 100%|██████████| 1/1 [00:00<00:00,  9.62it/s]"
     ]
    },
    {
     "name": "stderr",
     "output_type": "stream",
     "text": [
      "GPU available: True (cuda), used: True\n",
      "TPU available: False, using: 0 TPU cores\n",
      "HPU available: False, using: 0 HPUs\n",
      "LOCAL_RANK: 0 - CUDA_VISIBLE_DEVICES: [0]\n"
     ]
    },
    {
     "name": "stdout",
     "output_type": "stream",
     "text": [
      "\n",
      "Predicting DataLoader 0: 100%|██████████| 1/1 [00:00<00:00,  9.20it/s]"
     ]
    },
    {
     "name": "stderr",
     "output_type": "stream",
     "text": [
      "GPU available: True (cuda), used: True\n",
      "TPU available: False, using: 0 TPU cores\n",
      "HPU available: False, using: 0 HPUs\n",
      "LOCAL_RANK: 0 - CUDA_VISIBLE_DEVICES: [0]\n"
     ]
    },
    {
     "name": "stdout",
     "output_type": "stream",
     "text": [
      "\n",
      "Predicting DataLoader 0: 100%|██████████| 1/1 [00:00<00:00,  9.30it/s]"
     ]
    },
    {
     "name": "stderr",
     "output_type": "stream",
     "text": [
      "GPU available: True (cuda), used: True\n",
      "TPU available: False, using: 0 TPU cores\n",
      "HPU available: False, using: 0 HPUs\n",
      "LOCAL_RANK: 0 - CUDA_VISIBLE_DEVICES: [0]\n"
     ]
    },
    {
     "name": "stdout",
     "output_type": "stream",
     "text": [
      "\n",
      "Predicting DataLoader 0: 100%|██████████| 1/1 [00:00<00:00,  9.32it/s]"
     ]
    },
    {
     "name": "stderr",
     "output_type": "stream",
     "text": [
      "GPU available: True (cuda), used: True\n",
      "TPU available: False, using: 0 TPU cores\n",
      "HPU available: False, using: 0 HPUs\n",
      "LOCAL_RANK: 0 - CUDA_VISIBLE_DEVICES: [0]\n"
     ]
    },
    {
     "name": "stdout",
     "output_type": "stream",
     "text": [
      "\n",
      "Predicting DataLoader 0: 100%|██████████| 1/1 [00:00<00:00,  9.31it/s]"
     ]
    },
    {
     "name": "stderr",
     "output_type": "stream",
     "text": [
      "GPU available: True (cuda), used: True\n",
      "TPU available: False, using: 0 TPU cores\n",
      "HPU available: False, using: 0 HPUs\n",
      "LOCAL_RANK: 0 - CUDA_VISIBLE_DEVICES: [0]\n"
     ]
    },
    {
     "name": "stdout",
     "output_type": "stream",
     "text": [
      "\n",
      "Predicting DataLoader 0: 100%|██████████| 1/1 [00:00<00:00,  9.13it/s]"
     ]
    },
    {
     "name": "stderr",
     "output_type": "stream",
     "text": [
      "GPU available: True (cuda), used: True\n",
      "TPU available: False, using: 0 TPU cores\n",
      "HPU available: False, using: 0 HPUs\n",
      "LOCAL_RANK: 0 - CUDA_VISIBLE_DEVICES: [0]\n"
     ]
    },
    {
     "name": "stdout",
     "output_type": "stream",
     "text": [
      "\n",
      "Predicting DataLoader 0: 100%|██████████| 1/1 [00:00<00:00,  9.31it/s]"
     ]
    },
    {
     "name": "stderr",
     "output_type": "stream",
     "text": [
      "GPU available: True (cuda), used: True\n",
      "TPU available: False, using: 0 TPU cores\n",
      "HPU available: False, using: 0 HPUs\n",
      "LOCAL_RANK: 0 - CUDA_VISIBLE_DEVICES: [0]\n"
     ]
    },
    {
     "name": "stdout",
     "output_type": "stream",
     "text": [
      "\n",
      "Predicting DataLoader 0: 100%|██████████| 1/1 [00:00<00:00,  9.33it/s]"
     ]
    },
    {
     "name": "stderr",
     "output_type": "stream",
     "text": [
      "GPU available: True (cuda), used: True\n",
      "TPU available: False, using: 0 TPU cores\n",
      "HPU available: False, using: 0 HPUs\n",
      "LOCAL_RANK: 0 - CUDA_VISIBLE_DEVICES: [0]\n"
     ]
    },
    {
     "name": "stdout",
     "output_type": "stream",
     "text": [
      "\n",
      "Predicting DataLoader 0: 100%|██████████| 1/1 [00:00<00:00,  9.32it/s]"
     ]
    },
    {
     "name": "stderr",
     "output_type": "stream",
     "text": [
      "GPU available: True (cuda), used: True\n",
      "TPU available: False, using: 0 TPU cores\n",
      "HPU available: False, using: 0 HPUs\n",
      "LOCAL_RANK: 0 - CUDA_VISIBLE_DEVICES: [0]\n"
     ]
    },
    {
     "name": "stdout",
     "output_type": "stream",
     "text": [
      "\n",
      "Predicting DataLoader 0: 100%|██████████| 1/1 [00:00<00:00,  9.22it/s]"
     ]
    },
    {
     "name": "stderr",
     "output_type": "stream",
     "text": [
      "GPU available: True (cuda), used: True\n",
      "TPU available: False, using: 0 TPU cores\n",
      "HPU available: False, using: 0 HPUs\n",
      "LOCAL_RANK: 0 - CUDA_VISIBLE_DEVICES: [0]\n"
     ]
    },
    {
     "name": "stdout",
     "output_type": "stream",
     "text": [
      "\n",
      "Predicting DataLoader 0: 100%|██████████| 1/1 [00:00<00:00,  9.31it/s]"
     ]
    },
    {
     "name": "stderr",
     "output_type": "stream",
     "text": [
      "GPU available: True (cuda), used: True\n",
      "TPU available: False, using: 0 TPU cores\n",
      "HPU available: False, using: 0 HPUs\n",
      "LOCAL_RANK: 0 - CUDA_VISIBLE_DEVICES: [0]\n"
     ]
    },
    {
     "name": "stdout",
     "output_type": "stream",
     "text": [
      "\n",
      "Predicting DataLoader 0: 100%|██████████| 1/1 [00:00<00:00,  9.33it/s]"
     ]
    },
    {
     "name": "stderr",
     "output_type": "stream",
     "text": [
      "GPU available: True (cuda), used: True\n",
      "TPU available: False, using: 0 TPU cores\n",
      "HPU available: False, using: 0 HPUs\n",
      "LOCAL_RANK: 0 - CUDA_VISIBLE_DEVICES: [0]\n"
     ]
    },
    {
     "name": "stdout",
     "output_type": "stream",
     "text": [
      "\n",
      "Predicting DataLoader 0: 100%|██████████| 1/1 [00:00<00:00,  9.19it/s]"
     ]
    },
    {
     "name": "stderr",
     "output_type": "stream",
     "text": [
      "GPU available: True (cuda), used: True\n",
      "TPU available: False, using: 0 TPU cores\n",
      "HPU available: False, using: 0 HPUs\n",
      "LOCAL_RANK: 0 - CUDA_VISIBLE_DEVICES: [0]\n"
     ]
    },
    {
     "name": "stdout",
     "output_type": "stream",
     "text": [
      "\n",
      "Predicting DataLoader 0: 100%|██████████| 1/1 [00:00<00:00,  9.16it/s]"
     ]
    },
    {
     "name": "stderr",
     "output_type": "stream",
     "text": [
      "GPU available: True (cuda), used: True\n",
      "TPU available: False, using: 0 TPU cores\n",
      "HPU available: False, using: 0 HPUs\n",
      "LOCAL_RANK: 0 - CUDA_VISIBLE_DEVICES: [0]\n"
     ]
    },
    {
     "name": "stdout",
     "output_type": "stream",
     "text": [
      "\n",
      "Predicting DataLoader 0: 100%|██████████| 1/1 [00:00<00:00,  9.45it/s]"
     ]
    },
    {
     "name": "stderr",
     "output_type": "stream",
     "text": [
      "GPU available: True (cuda), used: True\n",
      "TPU available: False, using: 0 TPU cores\n",
      "HPU available: False, using: 0 HPUs\n",
      "LOCAL_RANK: 0 - CUDA_VISIBLE_DEVICES: [0]\n"
     ]
    },
    {
     "name": "stdout",
     "output_type": "stream",
     "text": [
      "\n",
      "Predicting DataLoader 0: 100%|██████████| 1/1 [00:00<00:00,  9.29it/s]"
     ]
    },
    {
     "name": "stderr",
     "output_type": "stream",
     "text": [
      "GPU available: True (cuda), used: True\n",
      "TPU available: False, using: 0 TPU cores\n",
      "HPU available: False, using: 0 HPUs\n",
      "LOCAL_RANK: 0 - CUDA_VISIBLE_DEVICES: [0]\n"
     ]
    },
    {
     "name": "stdout",
     "output_type": "stream",
     "text": [
      "\n",
      "Predicting DataLoader 0: 100%|██████████| 1/1 [00:00<00:00,  9.12it/s]"
     ]
    },
    {
     "name": "stderr",
     "output_type": "stream",
     "text": [
      "GPU available: True (cuda), used: True\n",
      "TPU available: False, using: 0 TPU cores\n",
      "HPU available: False, using: 0 HPUs\n",
      "LOCAL_RANK: 0 - CUDA_VISIBLE_DEVICES: [0]\n"
     ]
    },
    {
     "name": "stdout",
     "output_type": "stream",
     "text": [
      "\n",
      "Predicting DataLoader 0: 100%|██████████| 1/1 [00:00<00:00,  9.21it/s]"
     ]
    },
    {
     "name": "stderr",
     "output_type": "stream",
     "text": [
      "GPU available: True (cuda), used: True\n",
      "TPU available: False, using: 0 TPU cores\n",
      "HPU available: False, using: 0 HPUs\n",
      "LOCAL_RANK: 0 - CUDA_VISIBLE_DEVICES: [0]\n"
     ]
    },
    {
     "name": "stdout",
     "output_type": "stream",
     "text": [
      "\n",
      "Predicting DataLoader 0: 100%|██████████| 1/1 [00:00<00:00,  9.40it/s]"
     ]
    },
    {
     "name": "stderr",
     "output_type": "stream",
     "text": [
      "GPU available: True (cuda), used: True\n",
      "TPU available: False, using: 0 TPU cores\n",
      "HPU available: False, using: 0 HPUs\n",
      "LOCAL_RANK: 0 - CUDA_VISIBLE_DEVICES: [0]\n"
     ]
    },
    {
     "name": "stdout",
     "output_type": "stream",
     "text": [
      "\n",
      "Predicting DataLoader 0: 100%|██████████| 1/1 [00:00<00:00,  9.55it/s]"
     ]
    },
    {
     "name": "stderr",
     "output_type": "stream",
     "text": [
      "GPU available: True (cuda), used: True\n",
      "TPU available: False, using: 0 TPU cores\n",
      "HPU available: False, using: 0 HPUs\n",
      "LOCAL_RANK: 0 - CUDA_VISIBLE_DEVICES: [0]\n"
     ]
    },
    {
     "name": "stdout",
     "output_type": "stream",
     "text": [
      "\n",
      "Predicting DataLoader 0: 100%|██████████| 1/1 [00:00<00:00,  9.23it/s]"
     ]
    },
    {
     "name": "stderr",
     "output_type": "stream",
     "text": [
      "GPU available: True (cuda), used: True\n",
      "TPU available: False, using: 0 TPU cores\n",
      "HPU available: False, using: 0 HPUs\n",
      "LOCAL_RANK: 0 - CUDA_VISIBLE_DEVICES: [0]\n"
     ]
    },
    {
     "name": "stdout",
     "output_type": "stream",
     "text": [
      "\n",
      "Predicting DataLoader 0: 100%|██████████| 1/1 [00:00<00:00,  9.13it/s]"
     ]
    },
    {
     "name": "stderr",
     "output_type": "stream",
     "text": [
      "GPU available: True (cuda), used: True\n",
      "TPU available: False, using: 0 TPU cores\n",
      "HPU available: False, using: 0 HPUs\n",
      "LOCAL_RANK: 0 - CUDA_VISIBLE_DEVICES: [0]\n"
     ]
    },
    {
     "name": "stdout",
     "output_type": "stream",
     "text": [
      "\n",
      "Predicting DataLoader 0: 100%|██████████| 1/1 [00:00<00:00,  9.25it/s]"
     ]
    },
    {
     "name": "stderr",
     "output_type": "stream",
     "text": [
      "GPU available: True (cuda), used: True\n",
      "TPU available: False, using: 0 TPU cores\n",
      "HPU available: False, using: 0 HPUs\n",
      "LOCAL_RANK: 0 - CUDA_VISIBLE_DEVICES: [0]\n"
     ]
    },
    {
     "name": "stdout",
     "output_type": "stream",
     "text": [
      "\n",
      "Predicting DataLoader 0: 100%|██████████| 1/1 [00:00<00:00,  9.23it/s]"
     ]
    },
    {
     "name": "stderr",
     "output_type": "stream",
     "text": [
      "GPU available: True (cuda), used: True\n",
      "TPU available: False, using: 0 TPU cores\n",
      "HPU available: False, using: 0 HPUs\n",
      "LOCAL_RANK: 0 - CUDA_VISIBLE_DEVICES: [0]\n"
     ]
    },
    {
     "name": "stdout",
     "output_type": "stream",
     "text": [
      "\n",
      "Predicting DataLoader 0: 100%|██████████| 1/1 [00:00<00:00,  9.23it/s]"
     ]
    },
    {
     "name": "stderr",
     "output_type": "stream",
     "text": [
      "GPU available: True (cuda), used: True\n",
      "TPU available: False, using: 0 TPU cores\n",
      "HPU available: False, using: 0 HPUs\n",
      "LOCAL_RANK: 0 - CUDA_VISIBLE_DEVICES: [0]\n"
     ]
    },
    {
     "name": "stdout",
     "output_type": "stream",
     "text": [
      "\n",
      "Predicting DataLoader 0: 100%|██████████| 1/1 [00:00<00:00,  8.84it/s]"
     ]
    },
    {
     "name": "stderr",
     "output_type": "stream",
     "text": [
      "GPU available: True (cuda), used: True\n",
      "TPU available: False, using: 0 TPU cores\n",
      "HPU available: False, using: 0 HPUs\n",
      "LOCAL_RANK: 0 - CUDA_VISIBLE_DEVICES: [0]\n"
     ]
    },
    {
     "name": "stdout",
     "output_type": "stream",
     "text": [
      "\n",
      "Predicting DataLoader 0: 100%|██████████| 1/1 [00:00<00:00,  8.94it/s]"
     ]
    },
    {
     "name": "stderr",
     "output_type": "stream",
     "text": [
      "GPU available: True (cuda), used: True\n",
      "TPU available: False, using: 0 TPU cores\n",
      "HPU available: False, using: 0 HPUs\n",
      "LOCAL_RANK: 0 - CUDA_VISIBLE_DEVICES: [0]\n"
     ]
    },
    {
     "name": "stdout",
     "output_type": "stream",
     "text": [
      "\n",
      "Predicting DataLoader 0: 100%|██████████| 1/1 [00:00<00:00,  9.28it/s]"
     ]
    },
    {
     "name": "stderr",
     "output_type": "stream",
     "text": [
      "GPU available: True (cuda), used: True\n",
      "TPU available: False, using: 0 TPU cores\n",
      "HPU available: False, using: 0 HPUs\n",
      "LOCAL_RANK: 0 - CUDA_VISIBLE_DEVICES: [0]\n"
     ]
    },
    {
     "name": "stdout",
     "output_type": "stream",
     "text": [
      "\n",
      "Predicting DataLoader 0: 100%|██████████| 1/1 [00:00<00:00,  9.39it/s]"
     ]
    },
    {
     "name": "stderr",
     "output_type": "stream",
     "text": [
      "GPU available: True (cuda), used: True\n",
      "TPU available: False, using: 0 TPU cores\n",
      "HPU available: False, using: 0 HPUs\n",
      "LOCAL_RANK: 0 - CUDA_VISIBLE_DEVICES: [0]\n"
     ]
    },
    {
     "name": "stdout",
     "output_type": "stream",
     "text": [
      "\n",
      "Predicting DataLoader 0: 100%|██████████| 1/1 [00:00<00:00,  9.32it/s]"
     ]
    },
    {
     "name": "stderr",
     "output_type": "stream",
     "text": [
      "GPU available: True (cuda), used: True\n",
      "TPU available: False, using: 0 TPU cores\n",
      "HPU available: False, using: 0 HPUs\n",
      "LOCAL_RANK: 0 - CUDA_VISIBLE_DEVICES: [0]\n"
     ]
    },
    {
     "name": "stdout",
     "output_type": "stream",
     "text": [
      "\n",
      "Predicting DataLoader 0: 100%|██████████| 1/1 [00:00<00:00,  9.20it/s]"
     ]
    },
    {
     "name": "stderr",
     "output_type": "stream",
     "text": [
      "GPU available: True (cuda), used: True\n",
      "TPU available: False, using: 0 TPU cores\n",
      "HPU available: False, using: 0 HPUs\n",
      "LOCAL_RANK: 0 - CUDA_VISIBLE_DEVICES: [0]\n"
     ]
    },
    {
     "name": "stdout",
     "output_type": "stream",
     "text": [
      "\n",
      "Predicting DataLoader 0: 100%|██████████| 1/1 [00:00<00:00,  9.13it/s]"
     ]
    },
    {
     "name": "stderr",
     "output_type": "stream",
     "text": [
      "GPU available: True (cuda), used: True\n",
      "TPU available: False, using: 0 TPU cores\n",
      "HPU available: False, using: 0 HPUs\n",
      "LOCAL_RANK: 0 - CUDA_VISIBLE_DEVICES: [0]\n"
     ]
    },
    {
     "name": "stdout",
     "output_type": "stream",
     "text": [
      "\n",
      "Predicting DataLoader 0: 100%|██████████| 1/1 [00:00<00:00,  9.38it/s]"
     ]
    },
    {
     "name": "stderr",
     "output_type": "stream",
     "text": [
      "GPU available: True (cuda), used: True\n",
      "TPU available: False, using: 0 TPU cores\n",
      "HPU available: False, using: 0 HPUs\n",
      "LOCAL_RANK: 0 - CUDA_VISIBLE_DEVICES: [0]\n"
     ]
    },
    {
     "name": "stdout",
     "output_type": "stream",
     "text": [
      "\n",
      "Predicting DataLoader 0: 100%|██████████| 1/1 [00:00<00:00,  9.46it/s]"
     ]
    },
    {
     "name": "stderr",
     "output_type": "stream",
     "text": [
      "GPU available: True (cuda), used: True\n",
      "TPU available: False, using: 0 TPU cores\n",
      "HPU available: False, using: 0 HPUs\n",
      "LOCAL_RANK: 0 - CUDA_VISIBLE_DEVICES: [0]\n"
     ]
    },
    {
     "name": "stdout",
     "output_type": "stream",
     "text": [
      "\n",
      "Predicting DataLoader 0: 100%|██████████| 1/1 [00:00<00:00,  9.33it/s]"
     ]
    },
    {
     "name": "stderr",
     "output_type": "stream",
     "text": [
      "GPU available: True (cuda), used: True\n",
      "TPU available: False, using: 0 TPU cores\n",
      "HPU available: False, using: 0 HPUs\n",
      "LOCAL_RANK: 0 - CUDA_VISIBLE_DEVICES: [0]\n"
     ]
    },
    {
     "name": "stdout",
     "output_type": "stream",
     "text": [
      "\n",
      "Predicting DataLoader 0: 100%|██████████| 1/1 [00:00<00:00,  9.10it/s]"
     ]
    },
    {
     "name": "stderr",
     "output_type": "stream",
     "text": [
      "GPU available: True (cuda), used: True\n",
      "TPU available: False, using: 0 TPU cores\n",
      "HPU available: False, using: 0 HPUs\n",
      "LOCAL_RANK: 0 - CUDA_VISIBLE_DEVICES: [0]\n"
     ]
    },
    {
     "name": "stdout",
     "output_type": "stream",
     "text": [
      "\n",
      "Predicting DataLoader 0: 100%|██████████| 1/1 [00:00<00:00,  9.22it/s]"
     ]
    },
    {
     "name": "stderr",
     "output_type": "stream",
     "text": [
      "GPU available: True (cuda), used: True\n",
      "TPU available: False, using: 0 TPU cores\n",
      "HPU available: False, using: 0 HPUs\n",
      "LOCAL_RANK: 0 - CUDA_VISIBLE_DEVICES: [0]\n"
     ]
    },
    {
     "name": "stdout",
     "output_type": "stream",
     "text": [
      "\n",
      "Predicting DataLoader 0: 100%|██████████| 1/1 [00:00<00:00,  9.29it/s]"
     ]
    },
    {
     "name": "stderr",
     "output_type": "stream",
     "text": [
      "GPU available: True (cuda), used: True\n",
      "TPU available: False, using: 0 TPU cores\n",
      "HPU available: False, using: 0 HPUs\n",
      "LOCAL_RANK: 0 - CUDA_VISIBLE_DEVICES: [0]\n"
     ]
    },
    {
     "name": "stdout",
     "output_type": "stream",
     "text": [
      "\n",
      "Predicting DataLoader 0: 100%|██████████| 1/1 [00:00<00:00,  9.20it/s]"
     ]
    },
    {
     "name": "stderr",
     "output_type": "stream",
     "text": [
      "GPU available: True (cuda), used: True\n",
      "TPU available: False, using: 0 TPU cores\n",
      "HPU available: False, using: 0 HPUs\n",
      "LOCAL_RANK: 0 - CUDA_VISIBLE_DEVICES: [0]\n"
     ]
    },
    {
     "name": "stdout",
     "output_type": "stream",
     "text": [
      "\n",
      "Predicting DataLoader 0: 100%|██████████| 1/1 [00:00<00:00,  9.17it/s]"
     ]
    },
    {
     "name": "stderr",
     "output_type": "stream",
     "text": [
      "GPU available: True (cuda), used: True\n",
      "TPU available: False, using: 0 TPU cores\n",
      "HPU available: False, using: 0 HPUs\n",
      "LOCAL_RANK: 0 - CUDA_VISIBLE_DEVICES: [0]\n"
     ]
    },
    {
     "name": "stdout",
     "output_type": "stream",
     "text": [
      "\n",
      "Predicting DataLoader 0: 100%|██████████| 1/1 [00:00<00:00,  9.45it/s]"
     ]
    },
    {
     "name": "stderr",
     "output_type": "stream",
     "text": [
      "GPU available: True (cuda), used: True\n",
      "TPU available: False, using: 0 TPU cores\n",
      "HPU available: False, using: 0 HPUs\n",
      "LOCAL_RANK: 0 - CUDA_VISIBLE_DEVICES: [0]\n"
     ]
    },
    {
     "name": "stdout",
     "output_type": "stream",
     "text": [
      "\n",
      "Predicting DataLoader 0: 100%|██████████| 1/1 [00:00<00:00,  9.36it/s]"
     ]
    },
    {
     "name": "stderr",
     "output_type": "stream",
     "text": [
      "GPU available: True (cuda), used: True\n",
      "TPU available: False, using: 0 TPU cores\n",
      "HPU available: False, using: 0 HPUs\n",
      "LOCAL_RANK: 0 - CUDA_VISIBLE_DEVICES: [0]\n"
     ]
    },
    {
     "name": "stdout",
     "output_type": "stream",
     "text": [
      "\n",
      "Predicting DataLoader 0: 100%|██████████| 1/1 [00:00<00:00,  9.19it/s]"
     ]
    },
    {
     "name": "stderr",
     "output_type": "stream",
     "text": [
      "GPU available: True (cuda), used: True\n",
      "TPU available: False, using: 0 TPU cores\n",
      "HPU available: False, using: 0 HPUs\n",
      "LOCAL_RANK: 0 - CUDA_VISIBLE_DEVICES: [0]\n"
     ]
    },
    {
     "name": "stdout",
     "output_type": "stream",
     "text": [
      "\n",
      "Predicting DataLoader 0: 100%|██████████| 1/1 [00:00<00:00,  9.12it/s]"
     ]
    },
    {
     "name": "stderr",
     "output_type": "stream",
     "text": [
      "GPU available: True (cuda), used: True\n",
      "TPU available: False, using: 0 TPU cores\n",
      "HPU available: False, using: 0 HPUs\n",
      "LOCAL_RANK: 0 - CUDA_VISIBLE_DEVICES: [0]\n"
     ]
    },
    {
     "name": "stdout",
     "output_type": "stream",
     "text": [
      "\n",
      "Predicting DataLoader 0: 100%|██████████| 1/1 [00:00<00:00,  9.27it/s]"
     ]
    },
    {
     "name": "stderr",
     "output_type": "stream",
     "text": [
      "GPU available: True (cuda), used: True\n",
      "TPU available: False, using: 0 TPU cores\n",
      "HPU available: False, using: 0 HPUs\n",
      "LOCAL_RANK: 0 - CUDA_VISIBLE_DEVICES: [0]\n"
     ]
    },
    {
     "name": "stdout",
     "output_type": "stream",
     "text": [
      "\n",
      "Predicting DataLoader 0: 100%|██████████| 1/1 [00:00<00:00,  9.22it/s]"
     ]
    },
    {
     "name": "stderr",
     "output_type": "stream",
     "text": [
      "GPU available: True (cuda), used: True\n",
      "TPU available: False, using: 0 TPU cores\n",
      "HPU available: False, using: 0 HPUs\n",
      "LOCAL_RANK: 0 - CUDA_VISIBLE_DEVICES: [0]\n"
     ]
    },
    {
     "name": "stdout",
     "output_type": "stream",
     "text": [
      "\n",
      "Predicting DataLoader 0: 100%|██████████| 1/1 [00:00<00:00,  9.34it/s]"
     ]
    },
    {
     "name": "stderr",
     "output_type": "stream",
     "text": [
      "GPU available: True (cuda), used: True\n",
      "TPU available: False, using: 0 TPU cores\n",
      "HPU available: False, using: 0 HPUs\n",
      "LOCAL_RANK: 0 - CUDA_VISIBLE_DEVICES: [0]\n"
     ]
    },
    {
     "name": "stdout",
     "output_type": "stream",
     "text": [
      "\n",
      "Predicting DataLoader 0: 100%|██████████| 1/1 [00:00<00:00,  9.36it/s]"
     ]
    },
    {
     "name": "stderr",
     "output_type": "stream",
     "text": [
      "GPU available: True (cuda), used: True\n",
      "TPU available: False, using: 0 TPU cores\n",
      "HPU available: False, using: 0 HPUs\n",
      "LOCAL_RANK: 0 - CUDA_VISIBLE_DEVICES: [0]\n"
     ]
    },
    {
     "name": "stdout",
     "output_type": "stream",
     "text": [
      "\n",
      "Predicting DataLoader 0: 100%|██████████| 1/1 [00:00<00:00,  9.25it/s]\n",
      "\n",
      "Saving final results...\n"
     ]
    }
   ],
   "source": [
    "lstm_predictions, lstm_metrics = train_and_evaluate_model(\n",
    "    lstm_config, train_series_list, train_covariates_list,\n",
    "    test_series_list, test_covariates_list, household_ids,\n",
    "    target_scaler, ouput_predictions_lstm, output_metrics_lstm\n",
    ")"
   ]
  },
  {
   "cell_type": "code",
   "execution_count": 15,
   "id": "95f26322",
   "metadata": {},
   "outputs": [
    {
     "name": "stderr",
     "output_type": "stream",
     "text": [
      "GPU available: True (cuda), used: True\n",
      "TPU available: False, using: 0 TPU cores\n",
      "HPU available: False, using: 0 HPUs\n",
      "You are using a CUDA device ('NVIDIA GeForce RTX 3090 Ti') that has Tensor Cores. To properly utilize them, you should set `torch.set_float32_matmul_precision('medium' | 'high')` which will trade-off precision for performance. For more details, read https://pytorch.org/docs/stable/generated/torch.set_float32_matmul_precision.html#torch.set_float32_matmul_precision\n",
      "LOCAL_RANK: 0 - CUDA_VISIBLE_DEVICES: [0]\n",
      "\n",
      "  | Name                  | Type             | Params | Mode \n",
      "-------------------------------------------------------------------\n",
      "0 | criterion             | MSELoss          | 0      | train\n",
      "1 | train_criterion       | MSELoss          | 0      | train\n",
      "2 | val_criterion         | MSELoss          | 0      | train\n",
      "3 | train_metrics         | MetricCollection | 0      | train\n",
      "4 | val_metrics           | MetricCollection | 0      | train\n",
      "5 | fc_hist               | Linear           | 4.7 K  | train\n",
      "6 | feature_mixing_hist   | _FeatureMixing   | 84.2 K | train\n",
      "7 | feature_mixing_future | _FeatureMixing   | 84.0 K | train\n",
      "8 | conditional_mixer     | ModuleList       | 64.4 K | train\n",
      "9 | fc_out                | Linear           | 65     | train\n",
      "-------------------------------------------------------------------\n",
      "237 K     Trainable params\n",
      "0         Non-trainable params\n",
      "237 K     Total params\n",
      "0.949     Total estimated model params size (MB)\n",
      "53        Modules in train mode\n",
      "0         Modules in eval mode\n"
     ]
    },
    {
     "name": "stdout",
     "output_type": "stream",
     "text": [
      "Training TSMixer model...\n",
      "Epoch 1: 100%|██████████| 56927/56927 [14:20<00:00, 66.16it/s, train_loss=4.97e-5] "
     ]
    },
    {
     "name": "stderr",
     "output_type": "stream",
     "text": [
      "`Trainer.fit` stopped: `max_epochs=2` reached.\n"
     ]
    },
    {
     "name": "stdout",
     "output_type": "stream",
     "text": [
      "Epoch 1: 100%|██████████| 56927/56927 [14:20<00:00, 66.16it/s, train_loss=4.97e-5]\n"
     ]
    },
    {
     "name": "stderr",
     "output_type": "stream",
     "text": [
      "GPU available: True (cuda), used: True\n",
      "TPU available: False, using: 0 TPU cores\n",
      "HPU available: False, using: 0 HPUs\n",
      "LOCAL_RANK: 0 - CUDA_VISIBLE_DEVICES: [0]\n"
     ]
    },
    {
     "name": "stdout",
     "output_type": "stream",
     "text": [
      "Predicting DataLoader 0: 100%|██████████| 1/1 [00:00<00:00, 41.63it/s]"
     ]
    },
    {
     "name": "stderr",
     "output_type": "stream",
     "text": [
      "GPU available: True (cuda), used: True\n",
      "TPU available: False, using: 0 TPU cores\n",
      "HPU available: False, using: 0 HPUs\n",
      "LOCAL_RANK: 0 - CUDA_VISIBLE_DEVICES: [0]\n"
     ]
    },
    {
     "name": "stdout",
     "output_type": "stream",
     "text": [
      "\n",
      "Predicting DataLoader 0: 100%|██████████| 1/1 [00:00<00:00, 48.33it/s]\n"
     ]
    },
    {
     "name": "stderr",
     "output_type": "stream",
     "text": [
      "GPU available: True (cuda), used: True\n",
      "TPU available: False, using: 0 TPU cores\n",
      "HPU available: False, using: 0 HPUs\n",
      "LOCAL_RANK: 0 - CUDA_VISIBLE_DEVICES: [0]\n"
     ]
    },
    {
     "name": "stdout",
     "output_type": "stream",
     "text": [
      "Predicting DataLoader 0: 100%|██████████| 1/1 [00:00<00:00, 48.74it/s]"
     ]
    },
    {
     "name": "stderr",
     "output_type": "stream",
     "text": [
      "GPU available: True (cuda), used: True\n",
      "TPU available: False, using: 0 TPU cores\n",
      "HPU available: False, using: 0 HPUs\n",
      "LOCAL_RANK: 0 - CUDA_VISIBLE_DEVICES: [0]\n"
     ]
    },
    {
     "name": "stdout",
     "output_type": "stream",
     "text": [
      "\n",
      "Predicting DataLoader 0: 100%|██████████| 1/1 [00:00<00:00, 47.64it/s]\n"
     ]
    },
    {
     "name": "stderr",
     "output_type": "stream",
     "text": [
      "GPU available: True (cuda), used: True\n",
      "TPU available: False, using: 0 TPU cores\n",
      "HPU available: False, using: 0 HPUs\n",
      "LOCAL_RANK: 0 - CUDA_VISIBLE_DEVICES: [0]\n"
     ]
    },
    {
     "name": "stdout",
     "output_type": "stream",
     "text": [
      "Predicting DataLoader 0: 100%|██████████| 1/1 [00:00<00:00, 48.43it/s]"
     ]
    },
    {
     "name": "stderr",
     "output_type": "stream",
     "text": [
      "GPU available: True (cuda), used: True\n",
      "TPU available: False, using: 0 TPU cores\n",
      "HPU available: False, using: 0 HPUs\n",
      "LOCAL_RANK: 0 - CUDA_VISIBLE_DEVICES: [0]\n"
     ]
    },
    {
     "name": "stdout",
     "output_type": "stream",
     "text": [
      "\n",
      "Predicting DataLoader 0: 100%|██████████| 1/1 [00:00<00:00, 48.78it/s]"
     ]
    },
    {
     "name": "stderr",
     "output_type": "stream",
     "text": [
      "GPU available: True (cuda), used: True\n",
      "TPU available: False, using: 0 TPU cores\n",
      "HPU available: False, using: 0 HPUs\n",
      "LOCAL_RANK: 0 - CUDA_VISIBLE_DEVICES: [0]\n"
     ]
    },
    {
     "name": "stdout",
     "output_type": "stream",
     "text": [
      "\n",
      "Predicting DataLoader 0: 100%|██████████| 1/1 [00:00<00:00, 47.15it/s]\n"
     ]
    },
    {
     "name": "stderr",
     "output_type": "stream",
     "text": [
      "GPU available: True (cuda), used: True\n",
      "TPU available: False, using: 0 TPU cores\n",
      "HPU available: False, using: 0 HPUs\n",
      "LOCAL_RANK: 0 - CUDA_VISIBLE_DEVICES: [0]\n"
     ]
    },
    {
     "name": "stdout",
     "output_type": "stream",
     "text": [
      "Predicting DataLoader 0: 100%|██████████| 1/1 [00:00<00:00, 48.59it/s]\n"
     ]
    },
    {
     "name": "stderr",
     "output_type": "stream",
     "text": [
      "GPU available: True (cuda), used: True\n",
      "TPU available: False, using: 0 TPU cores\n",
      "HPU available: False, using: 0 HPUs\n",
      "LOCAL_RANK: 0 - CUDA_VISIBLE_DEVICES: [0]\n"
     ]
    },
    {
     "name": "stdout",
     "output_type": "stream",
     "text": [
      "Predicting DataLoader 0: 100%|██████████| 1/1 [00:00<00:00, 49.13it/s]\n"
     ]
    },
    {
     "name": "stderr",
     "output_type": "stream",
     "text": [
      "GPU available: True (cuda), used: True\n",
      "TPU available: False, using: 0 TPU cores\n",
      "HPU available: False, using: 0 HPUs\n",
      "LOCAL_RANK: 0 - CUDA_VISIBLE_DEVICES: [0]\n"
     ]
    },
    {
     "name": "stdout",
     "output_type": "stream",
     "text": [
      "Predicting DataLoader 0: 100%|██████████| 1/1 [00:00<00:00, 47.80it/s]\n"
     ]
    },
    {
     "name": "stderr",
     "output_type": "stream",
     "text": [
      "GPU available: True (cuda), used: True\n",
      "TPU available: False, using: 0 TPU cores\n",
      "HPU available: False, using: 0 HPUs\n",
      "LOCAL_RANK: 0 - CUDA_VISIBLE_DEVICES: [0]\n"
     ]
    },
    {
     "name": "stdout",
     "output_type": "stream",
     "text": [
      "Predicting DataLoader 0: 100%|██████████| 1/1 [00:00<00:00, 48.59it/s]\n"
     ]
    },
    {
     "name": "stderr",
     "output_type": "stream",
     "text": [
      "GPU available: True (cuda), used: True\n",
      "TPU available: False, using: 0 TPU cores\n",
      "HPU available: False, using: 0 HPUs\n",
      "LOCAL_RANK: 0 - CUDA_VISIBLE_DEVICES: [0]\n"
     ]
    },
    {
     "name": "stdout",
     "output_type": "stream",
     "text": [
      "Predicting DataLoader 0: 100%|██████████| 1/1 [00:00<00:00, 48.67it/s]\n"
     ]
    },
    {
     "name": "stderr",
     "output_type": "stream",
     "text": [
      "GPU available: True (cuda), used: True\n",
      "TPU available: False, using: 0 TPU cores\n",
      "HPU available: False, using: 0 HPUs\n",
      "LOCAL_RANK: 0 - CUDA_VISIBLE_DEVICES: [0]\n"
     ]
    },
    {
     "name": "stdout",
     "output_type": "stream",
     "text": [
      "Predicting DataLoader 0: 100%|██████████| 1/1 [00:00<00:00, 49.04it/s]\n"
     ]
    },
    {
     "name": "stderr",
     "output_type": "stream",
     "text": [
      "GPU available: True (cuda), used: True\n",
      "TPU available: False, using: 0 TPU cores\n",
      "HPU available: False, using: 0 HPUs\n",
      "LOCAL_RANK: 0 - CUDA_VISIBLE_DEVICES: [0]\n"
     ]
    },
    {
     "name": "stdout",
     "output_type": "stream",
     "text": [
      "Predicting DataLoader 0: 100%|██████████| 1/1 [00:00<00:00, 49.31it/s]"
     ]
    },
    {
     "name": "stderr",
     "output_type": "stream",
     "text": [
      "GPU available: True (cuda), used: True\n"
     ]
    },
    {
     "name": "stdout",
     "output_type": "stream",
     "text": [
      "\n"
     ]
    },
    {
     "name": "stderr",
     "output_type": "stream",
     "text": [
      "TPU available: False, using: 0 TPU cores\n",
      "HPU available: False, using: 0 HPUs\n",
      "LOCAL_RANK: 0 - CUDA_VISIBLE_DEVICES: [0]\n"
     ]
    },
    {
     "name": "stdout",
     "output_type": "stream",
     "text": [
      "Predicting DataLoader 0: 100%|██████████| 1/1 [00:00<00:00, 48.93it/s]\n"
     ]
    },
    {
     "name": "stderr",
     "output_type": "stream",
     "text": [
      "GPU available: True (cuda), used: True\n",
      "TPU available: False, using: 0 TPU cores\n",
      "HPU available: False, using: 0 HPUs\n",
      "LOCAL_RANK: 0 - CUDA_VISIBLE_DEVICES: [0]\n"
     ]
    },
    {
     "name": "stdout",
     "output_type": "stream",
     "text": [
      "Predicting DataLoader 0: 100%|██████████| 1/1 [00:00<00:00, 48.12it/s]\n"
     ]
    },
    {
     "name": "stderr",
     "output_type": "stream",
     "text": [
      "GPU available: True (cuda), used: True\n",
      "TPU available: False, using: 0 TPU cores\n",
      "HPU available: False, using: 0 HPUs\n",
      "LOCAL_RANK: 0 - CUDA_VISIBLE_DEVICES: [0]\n"
     ]
    },
    {
     "name": "stdout",
     "output_type": "stream",
     "text": [
      "Predicting DataLoader 0: 100%|██████████| 1/1 [00:00<00:00, 48.70it/s]"
     ]
    },
    {
     "name": "stderr",
     "output_type": "stream",
     "text": [
      "GPU available: True (cuda), used: True\n",
      "TPU available: False, using: 0 TPU cores\n"
     ]
    },
    {
     "name": "stdout",
     "output_type": "stream",
     "text": [
      "\n"
     ]
    },
    {
     "name": "stderr",
     "output_type": "stream",
     "text": [
      "HPU available: False, using: 0 HPUs\n",
      "LOCAL_RANK: 0 - CUDA_VISIBLE_DEVICES: [0]\n"
     ]
    },
    {
     "name": "stdout",
     "output_type": "stream",
     "text": [
      "Predicting DataLoader 0: 100%|██████████| 1/1 [00:00<00:00, 49.18it/s]"
     ]
    },
    {
     "name": "stderr",
     "output_type": "stream",
     "text": [
      "GPU available: True (cuda), used: True\n",
      "TPU available: False, using: 0 TPU cores\n",
      "HPU available: False, using: 0 HPUs\n",
      "LOCAL_RANK: 0 - CUDA_VISIBLE_DEVICES: [0]\n"
     ]
    },
    {
     "name": "stdout",
     "output_type": "stream",
     "text": [
      "\n",
      "Predicting DataLoader 0: 100%|██████████| 1/1 [00:00<00:00, 49.36it/s]"
     ]
    },
    {
     "name": "stderr",
     "output_type": "stream",
     "text": [
      "GPU available: True (cuda), used: True\n",
      "TPU available: False, using: 0 TPU cores\n",
      "HPU available: False, using: 0 HPUs\n",
      "LOCAL_RANK: 0 - CUDA_VISIBLE_DEVICES: [0]\n"
     ]
    },
    {
     "name": "stdout",
     "output_type": "stream",
     "text": [
      "\n",
      "Predicting DataLoader 0: 100%|██████████| 1/1 [00:00<00:00, 48.69it/s]"
     ]
    },
    {
     "name": "stderr",
     "output_type": "stream",
     "text": [
      "GPU available: True (cuda), used: True\n",
      "TPU available: False, using: 0 TPU cores\n",
      "HPU available: False, using: 0 HPUs\n",
      "LOCAL_RANK: 0 - CUDA_VISIBLE_DEVICES: [0]\n"
     ]
    },
    {
     "name": "stdout",
     "output_type": "stream",
     "text": [
      "\n",
      "Predicting DataLoader 0: 100%|██████████| 1/1 [00:00<00:00, 49.13it/s]"
     ]
    },
    {
     "name": "stderr",
     "output_type": "stream",
     "text": [
      "GPU available: True (cuda), used: True\n",
      "TPU available: False, using: 0 TPU cores\n",
      "HPU available: False, using: 0 HPUs\n",
      "LOCAL_RANK: 0 - CUDA_VISIBLE_DEVICES: [0]\n"
     ]
    },
    {
     "name": "stdout",
     "output_type": "stream",
     "text": [
      "\n",
      "Predicting DataLoader 0: 100%|██████████| 1/1 [00:00<00:00, 49.07it/s]"
     ]
    },
    {
     "name": "stderr",
     "output_type": "stream",
     "text": [
      "GPU available: True (cuda), used: True\n",
      "TPU available: False, using: 0 TPU cores\n",
      "HPU available: False, using: 0 HPUs\n"
     ]
    },
    {
     "name": "stdout",
     "output_type": "stream",
     "text": [
      "\n"
     ]
    },
    {
     "name": "stderr",
     "output_type": "stream",
     "text": [
      "LOCAL_RANK: 0 - CUDA_VISIBLE_DEVICES: [0]\n"
     ]
    },
    {
     "name": "stdout",
     "output_type": "stream",
     "text": [
      "Predicting DataLoader 0: 100%|██████████| 1/1 [00:00<00:00, 47.44it/s]"
     ]
    },
    {
     "name": "stderr",
     "output_type": "stream",
     "text": [
      "GPU available: True (cuda), used: True\n"
     ]
    },
    {
     "name": "stdout",
     "output_type": "stream",
     "text": [
      "\n"
     ]
    },
    {
     "name": "stderr",
     "output_type": "stream",
     "text": [
      "TPU available: False, using: 0 TPU cores\n",
      "HPU available: False, using: 0 HPUs\n",
      "LOCAL_RANK: 0 - CUDA_VISIBLE_DEVICES: [0]\n"
     ]
    },
    {
     "name": "stdout",
     "output_type": "stream",
     "text": [
      "Predicting DataLoader 0: 100%|██████████| 1/1 [00:00<00:00, 48.67it/s]\n"
     ]
    },
    {
     "name": "stderr",
     "output_type": "stream",
     "text": [
      "GPU available: True (cuda), used: True\n",
      "TPU available: False, using: 0 TPU cores\n",
      "HPU available: False, using: 0 HPUs\n",
      "LOCAL_RANK: 0 - CUDA_VISIBLE_DEVICES: [0]\n"
     ]
    },
    {
     "name": "stdout",
     "output_type": "stream",
     "text": [
      "Predicting DataLoader 0: 100%|██████████| 1/1 [00:00<00:00, 48.84it/s]\n"
     ]
    },
    {
     "name": "stderr",
     "output_type": "stream",
     "text": [
      "GPU available: True (cuda), used: True\n",
      "TPU available: False, using: 0 TPU cores\n",
      "HPU available: False, using: 0 HPUs\n",
      "LOCAL_RANK: 0 - CUDA_VISIBLE_DEVICES: [0]\n"
     ]
    },
    {
     "name": "stdout",
     "output_type": "stream",
     "text": [
      "Predicting DataLoader 0: 100%|██████████| 1/1 [00:00<00:00, 49.31it/s]\n"
     ]
    },
    {
     "name": "stderr",
     "output_type": "stream",
     "text": [
      "GPU available: True (cuda), used: True\n",
      "TPU available: False, using: 0 TPU cores\n",
      "HPU available: False, using: 0 HPUs\n",
      "LOCAL_RANK: 0 - CUDA_VISIBLE_DEVICES: [0]\n"
     ]
    },
    {
     "name": "stdout",
     "output_type": "stream",
     "text": [
      "Predicting DataLoader 0: 100%|██████████| 1/1 [00:00<00:00, 49.02it/s]\n"
     ]
    },
    {
     "name": "stderr",
     "output_type": "stream",
     "text": [
      "GPU available: True (cuda), used: True\n",
      "TPU available: False, using: 0 TPU cores\n",
      "HPU available: False, using: 0 HPUs\n",
      "LOCAL_RANK: 0 - CUDA_VISIBLE_DEVICES: [0]\n"
     ]
    },
    {
     "name": "stdout",
     "output_type": "stream",
     "text": [
      "Predicting DataLoader 0: 100%|██████████| 1/1 [00:00<00:00, 47.94it/s]"
     ]
    },
    {
     "name": "stderr",
     "output_type": "stream",
     "text": [
      "GPU available: True (cuda), used: True\n"
     ]
    },
    {
     "name": "stdout",
     "output_type": "stream",
     "text": [
      "\n"
     ]
    },
    {
     "name": "stderr",
     "output_type": "stream",
     "text": [
      "TPU available: False, using: 0 TPU cores\n",
      "HPU available: False, using: 0 HPUs\n",
      "LOCAL_RANK: 0 - CUDA_VISIBLE_DEVICES: [0]\n"
     ]
    },
    {
     "name": "stdout",
     "output_type": "stream",
     "text": [
      "Predicting DataLoader 0: 100%|██████████| 1/1 [00:00<00:00, 47.53it/s]\n"
     ]
    },
    {
     "name": "stderr",
     "output_type": "stream",
     "text": [
      "GPU available: True (cuda), used: True\n",
      "TPU available: False, using: 0 TPU cores\n",
      "HPU available: False, using: 0 HPUs\n",
      "LOCAL_RANK: 0 - CUDA_VISIBLE_DEVICES: [0]\n"
     ]
    },
    {
     "name": "stdout",
     "output_type": "stream",
     "text": [
      "Predicting DataLoader 0: 100%|██████████| 1/1 [00:00<00:00, 49.12it/s]"
     ]
    },
    {
     "name": "stderr",
     "output_type": "stream",
     "text": [
      "GPU available: True (cuda), used: True\n"
     ]
    },
    {
     "name": "stdout",
     "output_type": "stream",
     "text": [
      "\n"
     ]
    },
    {
     "name": "stderr",
     "output_type": "stream",
     "text": [
      "TPU available: False, using: 0 TPU cores\n",
      "HPU available: False, using: 0 HPUs\n",
      "LOCAL_RANK: 0 - CUDA_VISIBLE_DEVICES: [0]\n"
     ]
    },
    {
     "name": "stdout",
     "output_type": "stream",
     "text": [
      "Predicting DataLoader 0: 100%|██████████| 1/1 [00:00<00:00, 49.37it/s]"
     ]
    },
    {
     "name": "stderr",
     "output_type": "stream",
     "text": [
      "GPU available: True (cuda), used: True\n"
     ]
    },
    {
     "name": "stdout",
     "output_type": "stream",
     "text": [
      "\n"
     ]
    },
    {
     "name": "stderr",
     "output_type": "stream",
     "text": [
      "TPU available: False, using: 0 TPU cores\n",
      "HPU available: False, using: 0 HPUs\n",
      "LOCAL_RANK: 0 - CUDA_VISIBLE_DEVICES: [0]\n"
     ]
    },
    {
     "name": "stdout",
     "output_type": "stream",
     "text": [
      "Predicting DataLoader 0: 100%|██████████| 1/1 [00:00<00:00, 49.03it/s]"
     ]
    },
    {
     "name": "stderr",
     "output_type": "stream",
     "text": [
      "GPU available: True (cuda), used: True\n"
     ]
    },
    {
     "name": "stdout",
     "output_type": "stream",
     "text": [
      "\n"
     ]
    },
    {
     "name": "stderr",
     "output_type": "stream",
     "text": [
      "TPU available: False, using: 0 TPU cores\n",
      "HPU available: False, using: 0 HPUs\n",
      "LOCAL_RANK: 0 - CUDA_VISIBLE_DEVICES: [0]\n"
     ]
    },
    {
     "name": "stdout",
     "output_type": "stream",
     "text": [
      "Predicting DataLoader 0: 100%|██████████| 1/1 [00:00<00:00, 48.73it/s]\n"
     ]
    },
    {
     "name": "stderr",
     "output_type": "stream",
     "text": [
      "GPU available: True (cuda), used: True\n",
      "TPU available: False, using: 0 TPU cores\n",
      "HPU available: False, using: 0 HPUs\n",
      "LOCAL_RANK: 0 - CUDA_VISIBLE_DEVICES: [0]\n"
     ]
    },
    {
     "name": "stdout",
     "output_type": "stream",
     "text": [
      "Predicting DataLoader 0: 100%|██████████| 1/1 [00:00<00:00, 48.09it/s]\n"
     ]
    },
    {
     "name": "stderr",
     "output_type": "stream",
     "text": [
      "GPU available: True (cuda), used: True\n",
      "TPU available: False, using: 0 TPU cores\n",
      "HPU available: False, using: 0 HPUs\n",
      "LOCAL_RANK: 0 - CUDA_VISIBLE_DEVICES: [0]\n"
     ]
    },
    {
     "name": "stdout",
     "output_type": "stream",
     "text": [
      "Predicting DataLoader 0: 100%|██████████| 1/1 [00:00<00:00, 48.18it/s]\n"
     ]
    },
    {
     "name": "stderr",
     "output_type": "stream",
     "text": [
      "GPU available: True (cuda), used: True\n",
      "TPU available: False, using: 0 TPU cores\n",
      "HPU available: False, using: 0 HPUs\n",
      "LOCAL_RANK: 0 - CUDA_VISIBLE_DEVICES: [0]\n"
     ]
    },
    {
     "name": "stdout",
     "output_type": "stream",
     "text": [
      "Predicting DataLoader 0: 100%|██████████| 1/1 [00:00<00:00, 49.07it/s]"
     ]
    },
    {
     "name": "stderr",
     "output_type": "stream",
     "text": [
      "GPU available: True (cuda), used: True\n",
      "TPU available: False, using: 0 TPU cores\n",
      "HPU available: False, using: 0 HPUs\n",
      "LOCAL_RANK: 0 - CUDA_VISIBLE_DEVICES: [0]\n"
     ]
    },
    {
     "name": "stdout",
     "output_type": "stream",
     "text": [
      "\n",
      "Predicting DataLoader 0: 100%|██████████| 1/1 [00:00<00:00, 49.46it/s]"
     ]
    },
    {
     "name": "stderr",
     "output_type": "stream",
     "text": [
      "GPU available: True (cuda), used: True\n",
      "TPU available: False, using: 0 TPU cores\n",
      "HPU available: False, using: 0 HPUs\n"
     ]
    },
    {
     "name": "stdout",
     "output_type": "stream",
     "text": [
      "\n"
     ]
    },
    {
     "name": "stderr",
     "output_type": "stream",
     "text": [
      "LOCAL_RANK: 0 - CUDA_VISIBLE_DEVICES: [0]\n"
     ]
    },
    {
     "name": "stdout",
     "output_type": "stream",
     "text": [
      "Predicting DataLoader 0: 100%|██████████| 1/1 [00:00<00:00, 46.29it/s]\n"
     ]
    },
    {
     "name": "stderr",
     "output_type": "stream",
     "text": [
      "GPU available: True (cuda), used: True\n",
      "TPU available: False, using: 0 TPU cores\n",
      "HPU available: False, using: 0 HPUs\n",
      "LOCAL_RANK: 0 - CUDA_VISIBLE_DEVICES: [0]\n"
     ]
    },
    {
     "name": "stdout",
     "output_type": "stream",
     "text": [
      "Predicting DataLoader 0: 100%|██████████| 1/1 [00:00<00:00, 47.89it/s]\n"
     ]
    },
    {
     "name": "stderr",
     "output_type": "stream",
     "text": [
      "GPU available: True (cuda), used: True\n",
      "TPU available: False, using: 0 TPU cores\n",
      "HPU available: False, using: 0 HPUs\n",
      "LOCAL_RANK: 0 - CUDA_VISIBLE_DEVICES: [0]\n"
     ]
    },
    {
     "name": "stdout",
     "output_type": "stream",
     "text": [
      "Predicting DataLoader 0: 100%|██████████| 1/1 [00:00<00:00, 47.31it/s]\n"
     ]
    },
    {
     "name": "stderr",
     "output_type": "stream",
     "text": [
      "GPU available: True (cuda), used: True\n",
      "TPU available: False, using: 0 TPU cores\n",
      "HPU available: False, using: 0 HPUs\n",
      "LOCAL_RANK: 0 - CUDA_VISIBLE_DEVICES: [0]\n"
     ]
    },
    {
     "name": "stdout",
     "output_type": "stream",
     "text": [
      "Predicting DataLoader 0: 100%|██████████| 1/1 [00:00<00:00, 48.76it/s]\n"
     ]
    },
    {
     "name": "stderr",
     "output_type": "stream",
     "text": [
      "GPU available: True (cuda), used: True\n",
      "TPU available: False, using: 0 TPU cores\n",
      "HPU available: False, using: 0 HPUs\n",
      "LOCAL_RANK: 0 - CUDA_VISIBLE_DEVICES: [0]\n"
     ]
    },
    {
     "name": "stdout",
     "output_type": "stream",
     "text": [
      "Predicting DataLoader 0: 100%|██████████| 1/1 [00:00<00:00, 48.62it/s]\n"
     ]
    },
    {
     "name": "stderr",
     "output_type": "stream",
     "text": [
      "GPU available: True (cuda), used: True\n",
      "TPU available: False, using: 0 TPU cores\n",
      "HPU available: False, using: 0 HPUs\n",
      "LOCAL_RANK: 0 - CUDA_VISIBLE_DEVICES: [0]\n"
     ]
    },
    {
     "name": "stdout",
     "output_type": "stream",
     "text": [
      "Predicting DataLoader 0: 100%|██████████| 1/1 [00:00<00:00, 47.59it/s]\n"
     ]
    },
    {
     "name": "stderr",
     "output_type": "stream",
     "text": [
      "GPU available: True (cuda), used: True\n",
      "TPU available: False, using: 0 TPU cores\n",
      "HPU available: False, using: 0 HPUs\n",
      "LOCAL_RANK: 0 - CUDA_VISIBLE_DEVICES: [0]\n"
     ]
    },
    {
     "name": "stdout",
     "output_type": "stream",
     "text": [
      "Predicting DataLoader 0: 100%|██████████| 1/1 [00:00<00:00, 48.53it/s]\n"
     ]
    },
    {
     "name": "stderr",
     "output_type": "stream",
     "text": [
      "GPU available: True (cuda), used: True\n",
      "TPU available: False, using: 0 TPU cores\n",
      "HPU available: False, using: 0 HPUs\n",
      "LOCAL_RANK: 0 - CUDA_VISIBLE_DEVICES: [0]\n"
     ]
    },
    {
     "name": "stdout",
     "output_type": "stream",
     "text": [
      "Predicting DataLoader 0: 100%|██████████| 1/1 [00:00<00:00, 49.07it/s]\n"
     ]
    },
    {
     "name": "stderr",
     "output_type": "stream",
     "text": [
      "GPU available: True (cuda), used: True\n",
      "TPU available: False, using: 0 TPU cores\n",
      "HPU available: False, using: 0 HPUs\n",
      "LOCAL_RANK: 0 - CUDA_VISIBLE_DEVICES: [0]\n"
     ]
    },
    {
     "name": "stdout",
     "output_type": "stream",
     "text": [
      "Predicting DataLoader 0: 100%|██████████| 1/1 [00:00<00:00, 48.80it/s]\n"
     ]
    },
    {
     "name": "stderr",
     "output_type": "stream",
     "text": [
      "GPU available: True (cuda), used: True\n",
      "TPU available: False, using: 0 TPU cores\n",
      "HPU available: False, using: 0 HPUs\n",
      "LOCAL_RANK: 0 - CUDA_VISIBLE_DEVICES: [0]\n"
     ]
    },
    {
     "name": "stdout",
     "output_type": "stream",
     "text": [
      "Predicting DataLoader 0: 100%|██████████| 1/1 [00:00<00:00, 48.87it/s]"
     ]
    },
    {
     "name": "stderr",
     "output_type": "stream",
     "text": [
      "GPU available: True (cuda), used: True\n"
     ]
    },
    {
     "name": "stdout",
     "output_type": "stream",
     "text": [
      "\n"
     ]
    },
    {
     "name": "stderr",
     "output_type": "stream",
     "text": [
      "TPU available: False, using: 0 TPU cores\n",
      "HPU available: False, using: 0 HPUs\n",
      "LOCAL_RANK: 0 - CUDA_VISIBLE_DEVICES: [0]\n"
     ]
    },
    {
     "name": "stdout",
     "output_type": "stream",
     "text": [
      "Predicting DataLoader 0: 100%|██████████| 1/1 [00:00<00:00, 48.05it/s]\n"
     ]
    },
    {
     "name": "stderr",
     "output_type": "stream",
     "text": [
      "GPU available: True (cuda), used: True\n",
      "TPU available: False, using: 0 TPU cores\n",
      "HPU available: False, using: 0 HPUs\n",
      "LOCAL_RANK: 0 - CUDA_VISIBLE_DEVICES: [0]\n"
     ]
    },
    {
     "name": "stdout",
     "output_type": "stream",
     "text": [
      "Predicting DataLoader 0: 100%|██████████| 1/1 [00:00<00:00, 47.12it/s]\n"
     ]
    },
    {
     "name": "stderr",
     "output_type": "stream",
     "text": [
      "GPU available: True (cuda), used: True\n",
      "TPU available: False, using: 0 TPU cores\n",
      "HPU available: False, using: 0 HPUs\n",
      "LOCAL_RANK: 0 - CUDA_VISIBLE_DEVICES: [0]\n"
     ]
    },
    {
     "name": "stdout",
     "output_type": "stream",
     "text": [
      "Predicting DataLoader 0: 100%|██████████| 1/1 [00:00<00:00, 49.01it/s]\n",
      "\n",
      "Saving final results...\n"
     ]
    }
   ],
   "source": [
    "tsmixer_predictions, tsmixer_metrics = train_and_evaluate_model(\n",
    "    tsmixer_config, train_series_list, train_covariates_list,\n",
    "    test_series_list, test_covariates_list, household_ids,\n",
    "    target_scaler, ouput_predictions_tsmixer, output_metrics_tsmixer\n",
    ")"
   ]
  },
  {
   "cell_type": "code",
   "execution_count": 16,
   "id": "b8a1e2e7",
   "metadata": {},
   "outputs": [],
   "source": [
    "for model_name in ['lstm', 'tsmixer']:\n",
    "    preds = pd.read_pickle(dst_result/f'{model_name}_test_predictions.parquet')\n",
    "    metrics = pd.read_pickle(dst_result/f'{model_name}_test_metrics.parquet')\n",
    "    all_predictions.append(preds)\n",
    "    all_metrics.append(metrics)\n",
    "\n",
    "combined_predictions = pd.concat(all_predictions)\n",
    "combined_metrics = pd.concat(all_metrics)"
   ]
  },
  {
   "cell_type": "code",
   "execution_count": 17,
   "id": "b3e28dde",
   "metadata": {},
   "outputs": [
    {
     "data": {
      "text/html": [
       "<div>\n",
       "<style scoped>\n",
       "    .dataframe tbody tr th:only-of-type {\n",
       "        vertical-align: middle;\n",
       "    }\n",
       "\n",
       "    .dataframe tbody tr th {\n",
       "        vertical-align: top;\n",
       "    }\n",
       "\n",
       "    .dataframe thead th {\n",
       "        text-align: right;\n",
       "    }\n",
       "</style>\n",
       "<table border=\"1\" class=\"dataframe\">\n",
       "  <thead>\n",
       "    <tr style=\"text-align: right;\">\n",
       "      <th></th>\n",
       "      <th>timestamp</th>\n",
       "      <th>actual</th>\n",
       "      <th>predicted</th>\n",
       "      <th>household_id</th>\n",
       "      <th>model</th>\n",
       "    </tr>\n",
       "  </thead>\n",
       "  <tbody>\n",
       "    <tr>\n",
       "      <th>0</th>\n",
       "      <td>2014-02-01 00:00:00</td>\n",
       "      <td>0.083302</td>\n",
       "      <td>0.061061</td>\n",
       "      <td>MAC000061</td>\n",
       "      <td>LSTM</td>\n",
       "    </tr>\n",
       "    <tr>\n",
       "      <th>1</th>\n",
       "      <td>2014-02-01 00:30:00</td>\n",
       "      <td>0.079516</td>\n",
       "      <td>0.050288</td>\n",
       "      <td>MAC000061</td>\n",
       "      <td>LSTM</td>\n",
       "    </tr>\n",
       "    <tr>\n",
       "      <th>2</th>\n",
       "      <td>2014-02-01 01:00:00</td>\n",
       "      <td>0.050486</td>\n",
       "      <td>0.055608</td>\n",
       "      <td>MAC000061</td>\n",
       "      <td>LSTM</td>\n",
       "    </tr>\n",
       "    <tr>\n",
       "      <th>3</th>\n",
       "      <td>2014-02-01 01:30:00</td>\n",
       "      <td>0.025243</td>\n",
       "      <td>0.048165</td>\n",
       "      <td>MAC000061</td>\n",
       "      <td>LSTM</td>\n",
       "    </tr>\n",
       "    <tr>\n",
       "      <th>4</th>\n",
       "      <td>2014-02-01 02:00:00</td>\n",
       "      <td>0.022719</td>\n",
       "      <td>0.042933</td>\n",
       "      <td>MAC000061</td>\n",
       "      <td>LSTM</td>\n",
       "    </tr>\n",
       "    <tr>\n",
       "      <th>...</th>\n",
       "      <td>...</td>\n",
       "      <td>...</td>\n",
       "      <td>...</td>\n",
       "      <td>...</td>\n",
       "      <td>...</td>\n",
       "    </tr>\n",
       "    <tr>\n",
       "      <th>64795</th>\n",
       "      <td>2014-02-27 21:30:00</td>\n",
       "      <td>0.127000</td>\n",
       "      <td>0.112165</td>\n",
       "      <td>MAC001600</td>\n",
       "      <td>TSMixer</td>\n",
       "    </tr>\n",
       "    <tr>\n",
       "      <th>64796</th>\n",
       "      <td>2014-02-27 22:00:00</td>\n",
       "      <td>0.113000</td>\n",
       "      <td>0.099044</td>\n",
       "      <td>MAC001600</td>\n",
       "      <td>TSMixer</td>\n",
       "    </tr>\n",
       "    <tr>\n",
       "      <th>64797</th>\n",
       "      <td>2014-02-27 22:30:00</td>\n",
       "      <td>0.129000</td>\n",
       "      <td>0.116393</td>\n",
       "      <td>MAC001600</td>\n",
       "      <td>TSMixer</td>\n",
       "    </tr>\n",
       "    <tr>\n",
       "      <th>64798</th>\n",
       "      <td>2014-02-27 23:00:00</td>\n",
       "      <td>0.085000</td>\n",
       "      <td>0.075096</td>\n",
       "      <td>MAC001600</td>\n",
       "      <td>TSMixer</td>\n",
       "    </tr>\n",
       "    <tr>\n",
       "      <th>64799</th>\n",
       "      <td>2014-02-27 23:30:00</td>\n",
       "      <td>0.029000</td>\n",
       "      <td>0.082638</td>\n",
       "      <td>MAC001600</td>\n",
       "      <td>TSMixer</td>\n",
       "    </tr>\n",
       "  </tbody>\n",
       "</table>\n",
       "<p>129600 rows × 5 columns</p>\n",
       "</div>"
      ],
      "text/plain": [
       "                timestamp    actual  predicted household_id    model\n",
       "0     2014-02-01 00:00:00  0.083302   0.061061    MAC000061     LSTM\n",
       "1     2014-02-01 00:30:00  0.079516   0.050288    MAC000061     LSTM\n",
       "2     2014-02-01 01:00:00  0.050486   0.055608    MAC000061     LSTM\n",
       "3     2014-02-01 01:30:00  0.025243   0.048165    MAC000061     LSTM\n",
       "4     2014-02-01 02:00:00  0.022719   0.042933    MAC000061     LSTM\n",
       "...                   ...       ...        ...          ...      ...\n",
       "64795 2014-02-27 21:30:00  0.127000   0.112165    MAC001600  TSMixer\n",
       "64796 2014-02-27 22:00:00  0.113000   0.099044    MAC001600  TSMixer\n",
       "64797 2014-02-27 22:30:00  0.129000   0.116393    MAC001600  TSMixer\n",
       "64798 2014-02-27 23:00:00  0.085000   0.075096    MAC001600  TSMixer\n",
       "64799 2014-02-27 23:30:00  0.029000   0.082638    MAC001600  TSMixer\n",
       "\n",
       "[129600 rows x 5 columns]"
      ]
     },
     "execution_count": 17,
     "metadata": {},
     "output_type": "execute_result"
    }
   ],
   "source": [
    "combined_predictions"
   ]
  },
  {
   "cell_type": "code",
   "execution_count": 18,
   "id": "8f6c1bdc",
   "metadata": {},
   "outputs": [
    {
     "data": {
      "text/html": [
       "<div>\n",
       "<style scoped>\n",
       "    .dataframe tbody tr th:only-of-type {\n",
       "        vertical-align: middle;\n",
       "    }\n",
       "\n",
       "    .dataframe tbody tr th {\n",
       "        vertical-align: top;\n",
       "    }\n",
       "\n",
       "    .dataframe thead th {\n",
       "        text-align: right;\n",
       "    }\n",
       "</style>\n",
       "<table border=\"1\" class=\"dataframe\">\n",
       "  <thead>\n",
       "    <tr style=\"text-align: right;\">\n",
       "      <th></th>\n",
       "      <th>household_id</th>\n",
       "      <th>MSE</th>\n",
       "      <th>RMSE</th>\n",
       "      <th>MAE</th>\n",
       "      <th>Forecast Bias</th>\n",
       "      <th>algorithm</th>\n",
       "    </tr>\n",
       "  </thead>\n",
       "  <tbody>\n",
       "    <tr>\n",
       "      <th>0</th>\n",
       "      <td>MAC000061</td>\n",
       "      <td>0.006567</td>\n",
       "      <td>0.081040</td>\n",
       "      <td>0.054934</td>\n",
       "      <td>-0.602739</td>\n",
       "      <td>LSTM</td>\n",
       "    </tr>\n",
       "    <tr>\n",
       "      <th>1</th>\n",
       "      <td>MAC000062</td>\n",
       "      <td>0.007258</td>\n",
       "      <td>0.085196</td>\n",
       "      <td>0.038170</td>\n",
       "      <td>3.851821</td>\n",
       "      <td>LSTM</td>\n",
       "    </tr>\n",
       "    <tr>\n",
       "      <th>2</th>\n",
       "      <td>MAC000066</td>\n",
       "      <td>0.000518</td>\n",
       "      <td>0.022760</td>\n",
       "      <td>0.007899</td>\n",
       "      <td>19.028925</td>\n",
       "      <td>LSTM</td>\n",
       "    </tr>\n",
       "    <tr>\n",
       "      <th>3</th>\n",
       "      <td>MAC000086</td>\n",
       "      <td>0.017575</td>\n",
       "      <td>0.132572</td>\n",
       "      <td>0.096092</td>\n",
       "      <td>9.811599</td>\n",
       "      <td>LSTM</td>\n",
       "    </tr>\n",
       "    <tr>\n",
       "      <th>4</th>\n",
       "      <td>MAC000099</td>\n",
       "      <td>0.005212</td>\n",
       "      <td>0.072196</td>\n",
       "      <td>0.036839</td>\n",
       "      <td>1.596187</td>\n",
       "      <td>LSTM</td>\n",
       "    </tr>\n",
       "    <tr>\n",
       "      <th>...</th>\n",
       "      <td>...</td>\n",
       "      <td>...</td>\n",
       "      <td>...</td>\n",
       "      <td>...</td>\n",
       "      <td>...</td>\n",
       "      <td>...</td>\n",
       "    </tr>\n",
       "    <tr>\n",
       "      <th>45</th>\n",
       "      <td>MAC001475</td>\n",
       "      <td>0.000670</td>\n",
       "      <td>0.025880</td>\n",
       "      <td>0.013008</td>\n",
       "      <td>13.375408</td>\n",
       "      <td>TSMixer</td>\n",
       "    </tr>\n",
       "    <tr>\n",
       "      <th>46</th>\n",
       "      <td>MAC001511</td>\n",
       "      <td>0.000512</td>\n",
       "      <td>0.022635</td>\n",
       "      <td>0.017416</td>\n",
       "      <td>12.327882</td>\n",
       "      <td>TSMixer</td>\n",
       "    </tr>\n",
       "    <tr>\n",
       "      <th>47</th>\n",
       "      <td>MAC001536</td>\n",
       "      <td>0.000685</td>\n",
       "      <td>0.026180</td>\n",
       "      <td>0.018377</td>\n",
       "      <td>11.295628</td>\n",
       "      <td>TSMixer</td>\n",
       "    </tr>\n",
       "    <tr>\n",
       "      <th>48</th>\n",
       "      <td>MAC001589</td>\n",
       "      <td>0.001144</td>\n",
       "      <td>0.033823</td>\n",
       "      <td>0.014081</td>\n",
       "      <td>14.382056</td>\n",
       "      <td>TSMixer</td>\n",
       "    </tr>\n",
       "    <tr>\n",
       "      <th>49</th>\n",
       "      <td>MAC001600</td>\n",
       "      <td>0.000238</td>\n",
       "      <td>0.015415</td>\n",
       "      <td>0.012935</td>\n",
       "      <td>13.417365</td>\n",
       "      <td>TSMixer</td>\n",
       "    </tr>\n",
       "  </tbody>\n",
       "</table>\n",
       "<p>100 rows × 6 columns</p>\n",
       "</div>"
      ],
      "text/plain": [
       "   household_id       MSE      RMSE       MAE  Forecast Bias algorithm\n",
       "0     MAC000061  0.006567  0.081040  0.054934      -0.602739      LSTM\n",
       "1     MAC000062  0.007258  0.085196  0.038170       3.851821      LSTM\n",
       "2     MAC000066  0.000518  0.022760  0.007899      19.028925      LSTM\n",
       "3     MAC000086  0.017575  0.132572  0.096092       9.811599      LSTM\n",
       "4     MAC000099  0.005212  0.072196  0.036839       1.596187      LSTM\n",
       "..          ...       ...       ...       ...            ...       ...\n",
       "45    MAC001475  0.000670  0.025880  0.013008      13.375408   TSMixer\n",
       "46    MAC001511  0.000512  0.022635  0.017416      12.327882   TSMixer\n",
       "47    MAC001536  0.000685  0.026180  0.018377      11.295628   TSMixer\n",
       "48    MAC001589  0.001144  0.033823  0.014081      14.382056   TSMixer\n",
       "49    MAC001600  0.000238  0.015415  0.012935      13.417365   TSMixer\n",
       "\n",
       "[100 rows x 6 columns]"
      ]
     },
     "execution_count": 18,
     "metadata": {},
     "output_type": "execute_result"
    }
   ],
   "source": [
    "combined_metrics"
   ]
  },
  {
   "cell_type": "code",
   "execution_count": 19,
   "id": "95f0a593",
   "metadata": {},
   "outputs": [
    {
     "data": {
      "text/plain": [
       "{'Algorithm': 'LSTM',\n",
       " 'MSE': 0.010781797581043013,\n",
       " 'RMSE': 0.10383543509343529,\n",
       " 'MAE': 0.05251460939054514,\n",
       " 'Forecast Bias': 5.513296344216006}"
      ]
     },
     "execution_count": 19,
     "metadata": {},
     "output_type": "execute_result"
    }
   ],
   "source": [
    "lstm_test_metric_df = combined_predictions[combined_predictions.model =='LSTM']\n",
    "overall_metrics_test_lstm = {\n",
    "    \"Algorithm\": \"LSTM\",\n",
    "    \"MSE\": mse(lstm_test_metric_df.actual.values, lstm_test_metric_df.predicted.values),\n",
    "    \"RMSE\": rmse(lstm_test_metric_df.actual.values, lstm_test_metric_df.predicted.values),\n",
    "    \"MAE\": mae(lstm_test_metric_df.actual.values, lstm_test_metric_df.predicted.values),\n",
    "    \"Forecast Bias\": forecast_bias(lstm_test_metric_df.actual.values, lstm_test_metric_df.predicted.values)\n",
    "}\n",
    "overall_metrics_test_lstm"
   ]
  },
  {
   "cell_type": "code",
   "execution_count": 20,
   "id": "f5f8783c",
   "metadata": {},
   "outputs": [
    {
     "data": {
      "text/plain": [
       "{'Algorithm': 'TSMixer',\n",
       " 'MSE': 0.0006218184046040514,\n",
       " 'RMSE': 0.024936286904911314,\n",
       " 'MAE': 0.0167511985896388,\n",
       " 'Forecast Bias': 12.436330941461476}"
      ]
     },
     "execution_count": 20,
     "metadata": {},
     "output_type": "execute_result"
    }
   ],
   "source": [
    "tsmixer_test_metric_df = combined_predictions[combined_predictions.model =='TSMixer']\n",
    "overall_metrics_test_tsmixer = {\n",
    "    \"Algorithm\": \"TSMixer\",\n",
    "    \"MSE\": mse(tsmixer_test_metric_df.actual.values, tsmixer_test_metric_df.predicted.values),\n",
    "    \"RMSE\": rmse(tsmixer_test_metric_df.actual.values, tsmixer_test_metric_df.predicted.values),\n",
    "    \"MAE\": mae(tsmixer_test_metric_df.actual.values, tsmixer_test_metric_df.predicted.values),\n",
    "    \"Forecast Bias\": forecast_bias(tsmixer_test_metric_df.actual.values, tsmixer_test_metric_df.predicted.values)\n",
    "}\n",
    "overall_metrics_test_tsmixer"
   ]
  },
  {
   "cell_type": "markdown",
   "id": "25b06c95",
   "metadata": {},
   "source": [
    "## Visualization"
   ]
  },
  {
   "cell_type": "code",
   "execution_count": null,
   "id": "1ba04e0a",
   "metadata": {},
   "outputs": [
    {
     "data": {
      "application/vnd.plotly.v1+json": {
       "config": {
        "plotlyServerURL": "https://plot.ly"
       },
       "data": [
        {
         "bingroup": "x",
         "histnorm": "probability density",
         "hovertemplate": "algorithm=LSTM<br>MAE=%{x}<br>probability density=%{y}<extra></extra>",
         "legendgroup": "LSTM",
         "marker": {
          "color": "#636efa",
          "opacity": 0.5,
          "pattern": {
           "shape": ""
          }
         },
         "name": "LSTM",
         "nbinsx": 500,
         "orientation": "v",
         "showlegend": true,
         "type": "histogram",
         "x": {
          "bdata": "5OfkpU4grD+5fZ3mFIujP6jLNfY5LYA/conKc3yZuD+Q/A0uiNyiP4PHLhIpE6U/wX+VUXtpjz+sd+aq2EeyP+N6J0XEWrM/mBvDJn2Wrz+CRrYGMXKpPxORFbynSqY/LCdG3RgMpT/4Hl+3DWeoP9Hk1OpfZcI/fj3lezv/sT879mXEMr20PwIYAB618bQ/Il3/YZHyqD+3rWdrjp2pP4kIUpXQM7Y/3mHYvUdJkz8jJxCeTaijP68bT1dmV7c/t7ghTX+PpT/gtcn/x+C3P5iXzdXp3qg/NuOPWAZ7qz9Pw5cE6qumP7j9pCgolaA/fLU7nav3sD+TiFLClI2xPyshhBqqzpg/QSPFX2Gsfz+Qq+Y5eYCHPz8HRKs3wKo/zjW6OurfqD9l0lp966CqP1tuXC7mgYU/vL9OFgn8tD+Czeq23XekP1pMJ3LWXIg/6q/Lhgymrz/qsbu32BaeP/8IU+svK7A/oGcZ2BV8qT+T9X2FaKusP3W2aOY0arQ/ZT6Dr/Rxsz+F99rYPe6cPw==",
          "dtype": "f8"
         },
         "xaxis": "x",
         "yaxis": "y"
        },
        {
         "hovertemplate": "algorithm=LSTM<br>MAE=%{x}<extra></extra>",
         "legendgroup": "LSTM",
         "marker": {
          "color": "#636efa"
         },
         "name": "LSTM",
         "notched": true,
         "showlegend": false,
         "type": "box",
         "x": {
          "bdata": "5OfkpU4grD+5fZ3mFIujP6jLNfY5LYA/conKc3yZuD+Q/A0uiNyiP4PHLhIpE6U/wX+VUXtpjz+sd+aq2EeyP+N6J0XEWrM/mBvDJn2Wrz+CRrYGMXKpPxORFbynSqY/LCdG3RgMpT/4Hl+3DWeoP9Hk1OpfZcI/fj3lezv/sT879mXEMr20PwIYAB618bQ/Il3/YZHyqD+3rWdrjp2pP4kIUpXQM7Y/3mHYvUdJkz8jJxCeTaijP68bT1dmV7c/t7ghTX+PpT/gtcn/x+C3P5iXzdXp3qg/NuOPWAZ7qz9Pw5cE6qumP7j9pCgolaA/fLU7nav3sD+TiFLClI2xPyshhBqqzpg/QSPFX2Gsfz+Qq+Y5eYCHPz8HRKs3wKo/zjW6OurfqD9l0lp966CqP1tuXC7mgYU/vL9OFgn8tD+Czeq23XekP1pMJ3LWXIg/6q/Lhgymrz/qsbu32BaeP/8IU+svK7A/oGcZ2BV8qT+T9X2FaKusP3W2aOY0arQ/ZT6Dr/Rxsz+F99rYPe6cPw==",
          "dtype": "f8"
         },
         "xaxis": "x2",
         "yaxis": "y2"
        },
        {
         "bingroup": "x",
         "histnorm": "probability density",
         "hovertemplate": "algorithm=TSMixer<br>MAE=%{x}<br>probability density=%{y}<extra></extra>",
         "legendgroup": "TSMixer",
         "marker": {
          "color": "#EF553B",
          "opacity": 0.5,
          "pattern": {
           "shape": "/"
          }
         },
         "name": "TSMixer",
         "nbinsx": 500,
         "orientation": "v",
         "showlegend": true,
         "type": "histogram",
         "x": {
          "bdata": "8ChoQGOjlD/iVPrQavaLPyPeuFJnpoQ/WL8g8ufMlD+GMsXehQqLP/B2X4VGEIo/XSLjELqikj9KdHQJsOqUPyzgjyqbJJM/8cvlkAskkD/XTNHjbkWOP+EWK3eCzYc/0cfng+Jqjz8xlpqXeQOUP7Ej3AJP4qM/Qedp9g89mT9JIvRYLAGdP+jUYfeOKZE/oOfKZ5R+jD+gUdjumRWWP699+j36KZU/hRna3+ghhD/X4plP6waLP6u9BjhnpZc/tpmijRbLiD+zSUs7v6uaP8LmiJ3Oy40/3SZf5aKOjj+IYaqWbgaLP6kip2HrQJA/KfCC4sgekz9Yt3zJrFOVPwWlA3pUHoo/X9wC96nlgT9ru7aDOMaIP2KlenPLHZ4/+3xCChVYij+szc7+J8SNP2iWEvoY+4c/uheorGuhnT9NGQxV6dGWP0KiaQzoO4k/kQ+8anrXkD+6XO72PymCPzOvBLJHVZE/GT46iUgeiz8bPNlKIC2SP4dQ/5lS7pM/my4NboxHkD+RkqZqsA6LPw==",
          "dtype": "f8"
         },
         "xaxis": "x",
         "yaxis": "y"
        },
        {
         "hovertemplate": "algorithm=TSMixer<br>MAE=%{x}<extra></extra>",
         "legendgroup": "TSMixer",
         "marker": {
          "color": "#EF553B"
         },
         "name": "TSMixer",
         "notched": true,
         "showlegend": false,
         "type": "box",
         "x": {
          "bdata": "8ChoQGOjlD/iVPrQavaLPyPeuFJnpoQ/WL8g8ufMlD+GMsXehQqLP/B2X4VGEIo/XSLjELqikj9KdHQJsOqUPyzgjyqbJJM/8cvlkAskkD/XTNHjbkWOP+EWK3eCzYc/0cfng+Jqjz8xlpqXeQOUP7Ej3AJP4qM/Qedp9g89mT9JIvRYLAGdP+jUYfeOKZE/oOfKZ5R+jD+gUdjumRWWP699+j36KZU/hRna3+ghhD/X4plP6waLP6u9BjhnpZc/tpmijRbLiD+zSUs7v6uaP8LmiJ3Oy40/3SZf5aKOjj+IYaqWbgaLP6kip2HrQJA/KfCC4sgekz9Yt3zJrFOVPwWlA3pUHoo/X9wC96nlgT9ru7aDOMaIP2KlenPLHZ4/+3xCChVYij+szc7+J8SNP2iWEvoY+4c/uheorGuhnT9NGQxV6dGWP0KiaQzoO4k/kQ+8anrXkD+6XO72PymCPzOvBLJHVZE/GT46iUgeiz8bPNlKIC2SP4dQ/5lS7pM/my4NboxHkD+RkqZqsA6LPw==",
          "dtype": "f8"
         },
         "xaxis": "x2",
         "yaxis": "y2"
        }
       ],
       "layout": {
        "autosize": false,
        "barmode": "overlay",
        "height": 500,
        "legend": {
         "font": {
          "size": 15
         },
         "orientation": "h",
         "title": {},
         "tracegroupgap": 0,
         "x": 1,
         "xanchor": "right",
         "y": 0.98,
         "yanchor": "bottom"
        },
        "margin": {
         "t": 60
        },
        "template": {
         "data": {
          "bar": [
           {
            "error_x": {
             "color": "#2a3f5f"
            },
            "error_y": {
             "color": "#2a3f5f"
            },
            "marker": {
             "line": {
              "color": "#E5ECF6",
              "width": 0.5
             },
             "pattern": {
              "fillmode": "overlay",
              "size": 10,
              "solidity": 0.2
             }
            },
            "type": "bar"
           }
          ],
          "barpolar": [
           {
            "marker": {
             "line": {
              "color": "#E5ECF6",
              "width": 0.5
             },
             "pattern": {
              "fillmode": "overlay",
              "size": 10,
              "solidity": 0.2
             }
            },
            "type": "barpolar"
           }
          ],
          "carpet": [
           {
            "aaxis": {
             "endlinecolor": "#2a3f5f",
             "gridcolor": "white",
             "linecolor": "white",
             "minorgridcolor": "white",
             "startlinecolor": "#2a3f5f"
            },
            "baxis": {
             "endlinecolor": "#2a3f5f",
             "gridcolor": "white",
             "linecolor": "white",
             "minorgridcolor": "white",
             "startlinecolor": "#2a3f5f"
            },
            "type": "carpet"
           }
          ],
          "choropleth": [
           {
            "colorbar": {
             "outlinewidth": 0,
             "ticks": ""
            },
            "type": "choropleth"
           }
          ],
          "contour": [
           {
            "colorbar": {
             "outlinewidth": 0,
             "ticks": ""
            },
            "colorscale": [
             [
              0,
              "#0d0887"
             ],
             [
              0.1111111111111111,
              "#46039f"
             ],
             [
              0.2222222222222222,
              "#7201a8"
             ],
             [
              0.3333333333333333,
              "#9c179e"
             ],
             [
              0.4444444444444444,
              "#bd3786"
             ],
             [
              0.5555555555555556,
              "#d8576b"
             ],
             [
              0.6666666666666666,
              "#ed7953"
             ],
             [
              0.7777777777777778,
              "#fb9f3a"
             ],
             [
              0.8888888888888888,
              "#fdca26"
             ],
             [
              1,
              "#f0f921"
             ]
            ],
            "type": "contour"
           }
          ],
          "contourcarpet": [
           {
            "colorbar": {
             "outlinewidth": 0,
             "ticks": ""
            },
            "type": "contourcarpet"
           }
          ],
          "heatmap": [
           {
            "colorbar": {
             "outlinewidth": 0,
             "ticks": ""
            },
            "colorscale": [
             [
              0,
              "#0d0887"
             ],
             [
              0.1111111111111111,
              "#46039f"
             ],
             [
              0.2222222222222222,
              "#7201a8"
             ],
             [
              0.3333333333333333,
              "#9c179e"
             ],
             [
              0.4444444444444444,
              "#bd3786"
             ],
             [
              0.5555555555555556,
              "#d8576b"
             ],
             [
              0.6666666666666666,
              "#ed7953"
             ],
             [
              0.7777777777777778,
              "#fb9f3a"
             ],
             [
              0.8888888888888888,
              "#fdca26"
             ],
             [
              1,
              "#f0f921"
             ]
            ],
            "type": "heatmap"
           }
          ],
          "histogram": [
           {
            "marker": {
             "pattern": {
              "fillmode": "overlay",
              "size": 10,
              "solidity": 0.2
             }
            },
            "type": "histogram"
           }
          ],
          "histogram2d": [
           {
            "colorbar": {
             "outlinewidth": 0,
             "ticks": ""
            },
            "colorscale": [
             [
              0,
              "#0d0887"
             ],
             [
              0.1111111111111111,
              "#46039f"
             ],
             [
              0.2222222222222222,
              "#7201a8"
             ],
             [
              0.3333333333333333,
              "#9c179e"
             ],
             [
              0.4444444444444444,
              "#bd3786"
             ],
             [
              0.5555555555555556,
              "#d8576b"
             ],
             [
              0.6666666666666666,
              "#ed7953"
             ],
             [
              0.7777777777777778,
              "#fb9f3a"
             ],
             [
              0.8888888888888888,
              "#fdca26"
             ],
             [
              1,
              "#f0f921"
             ]
            ],
            "type": "histogram2d"
           }
          ],
          "histogram2dcontour": [
           {
            "colorbar": {
             "outlinewidth": 0,
             "ticks": ""
            },
            "colorscale": [
             [
              0,
              "#0d0887"
             ],
             [
              0.1111111111111111,
              "#46039f"
             ],
             [
              0.2222222222222222,
              "#7201a8"
             ],
             [
              0.3333333333333333,
              "#9c179e"
             ],
             [
              0.4444444444444444,
              "#bd3786"
             ],
             [
              0.5555555555555556,
              "#d8576b"
             ],
             [
              0.6666666666666666,
              "#ed7953"
             ],
             [
              0.7777777777777778,
              "#fb9f3a"
             ],
             [
              0.8888888888888888,
              "#fdca26"
             ],
             [
              1,
              "#f0f921"
             ]
            ],
            "type": "histogram2dcontour"
           }
          ],
          "mesh3d": [
           {
            "colorbar": {
             "outlinewidth": 0,
             "ticks": ""
            },
            "type": "mesh3d"
           }
          ],
          "parcoords": [
           {
            "line": {
             "colorbar": {
              "outlinewidth": 0,
              "ticks": ""
             }
            },
            "type": "parcoords"
           }
          ],
          "pie": [
           {
            "automargin": true,
            "type": "pie"
           }
          ],
          "scatter": [
           {
            "fillpattern": {
             "fillmode": "overlay",
             "size": 10,
             "solidity": 0.2
            },
            "type": "scatter"
           }
          ],
          "scatter3d": [
           {
            "line": {
             "colorbar": {
              "outlinewidth": 0,
              "ticks": ""
             }
            },
            "marker": {
             "colorbar": {
              "outlinewidth": 0,
              "ticks": ""
             }
            },
            "type": "scatter3d"
           }
          ],
          "scattercarpet": [
           {
            "marker": {
             "colorbar": {
              "outlinewidth": 0,
              "ticks": ""
             }
            },
            "type": "scattercarpet"
           }
          ],
          "scattergeo": [
           {
            "marker": {
             "colorbar": {
              "outlinewidth": 0,
              "ticks": ""
             }
            },
            "type": "scattergeo"
           }
          ],
          "scattergl": [
           {
            "marker": {
             "colorbar": {
              "outlinewidth": 0,
              "ticks": ""
             }
            },
            "type": "scattergl"
           }
          ],
          "scattermap": [
           {
            "marker": {
             "colorbar": {
              "outlinewidth": 0,
              "ticks": ""
             }
            },
            "type": "scattermap"
           }
          ],
          "scattermapbox": [
           {
            "marker": {
             "colorbar": {
              "outlinewidth": 0,
              "ticks": ""
             }
            },
            "type": "scattermapbox"
           }
          ],
          "scatterpolar": [
           {
            "marker": {
             "colorbar": {
              "outlinewidth": 0,
              "ticks": ""
             }
            },
            "type": "scatterpolar"
           }
          ],
          "scatterpolargl": [
           {
            "marker": {
             "colorbar": {
              "outlinewidth": 0,
              "ticks": ""
             }
            },
            "type": "scatterpolargl"
           }
          ],
          "scatterternary": [
           {
            "marker": {
             "colorbar": {
              "outlinewidth": 0,
              "ticks": ""
             }
            },
            "type": "scatterternary"
           }
          ],
          "surface": [
           {
            "colorbar": {
             "outlinewidth": 0,
             "ticks": ""
            },
            "colorscale": [
             [
              0,
              "#0d0887"
             ],
             [
              0.1111111111111111,
              "#46039f"
             ],
             [
              0.2222222222222222,
              "#7201a8"
             ],
             [
              0.3333333333333333,
              "#9c179e"
             ],
             [
              0.4444444444444444,
              "#bd3786"
             ],
             [
              0.5555555555555556,
              "#d8576b"
             ],
             [
              0.6666666666666666,
              "#ed7953"
             ],
             [
              0.7777777777777778,
              "#fb9f3a"
             ],
             [
              0.8888888888888888,
              "#fdca26"
             ],
             [
              1,
              "#f0f921"
             ]
            ],
            "type": "surface"
           }
          ],
          "table": [
           {
            "cells": {
             "fill": {
              "color": "#EBF0F8"
             },
             "line": {
              "color": "white"
             }
            },
            "header": {
             "fill": {
              "color": "#C8D4E3"
             },
             "line": {
              "color": "white"
             }
            },
            "type": "table"
           }
          ]
         },
         "layout": {
          "annotationdefaults": {
           "arrowcolor": "#2a3f5f",
           "arrowhead": 0,
           "arrowwidth": 1
          },
          "autotypenumbers": "strict",
          "coloraxis": {
           "colorbar": {
            "outlinewidth": 0,
            "ticks": ""
           }
          },
          "colorscale": {
           "diverging": [
            [
             0,
             "#8e0152"
            ],
            [
             0.1,
             "#c51b7d"
            ],
            [
             0.2,
             "#de77ae"
            ],
            [
             0.3,
             "#f1b6da"
            ],
            [
             0.4,
             "#fde0ef"
            ],
            [
             0.5,
             "#f7f7f7"
            ],
            [
             0.6,
             "#e6f5d0"
            ],
            [
             0.7,
             "#b8e186"
            ],
            [
             0.8,
             "#7fbc41"
            ],
            [
             0.9,
             "#4d9221"
            ],
            [
             1,
             "#276419"
            ]
           ],
           "sequential": [
            [
             0,
             "#0d0887"
            ],
            [
             0.1111111111111111,
             "#46039f"
            ],
            [
             0.2222222222222222,
             "#7201a8"
            ],
            [
             0.3333333333333333,
             "#9c179e"
            ],
            [
             0.4444444444444444,
             "#bd3786"
            ],
            [
             0.5555555555555556,
             "#d8576b"
            ],
            [
             0.6666666666666666,
             "#ed7953"
            ],
            [
             0.7777777777777778,
             "#fb9f3a"
            ],
            [
             0.8888888888888888,
             "#fdca26"
            ],
            [
             1,
             "#f0f921"
            ]
           ],
           "sequentialminus": [
            [
             0,
             "#0d0887"
            ],
            [
             0.1111111111111111,
             "#46039f"
            ],
            [
             0.2222222222222222,
             "#7201a8"
            ],
            [
             0.3333333333333333,
             "#9c179e"
            ],
            [
             0.4444444444444444,
             "#bd3786"
            ],
            [
             0.5555555555555556,
             "#d8576b"
            ],
            [
             0.6666666666666666,
             "#ed7953"
            ],
            [
             0.7777777777777778,
             "#fb9f3a"
            ],
            [
             0.8888888888888888,
             "#fdca26"
            ],
            [
             1,
             "#f0f921"
            ]
           ]
          },
          "colorway": [
           "#636efa",
           "#EF553B",
           "#00cc96",
           "#ab63fa",
           "#FFA15A",
           "#19d3f3",
           "#FF6692",
           "#B6E880",
           "#FF97FF",
           "#FECB52"
          ],
          "font": {
           "color": "#2a3f5f"
          },
          "geo": {
           "bgcolor": "white",
           "lakecolor": "white",
           "landcolor": "#E5ECF6",
           "showlakes": true,
           "showland": true,
           "subunitcolor": "white"
          },
          "hoverlabel": {
           "align": "left"
          },
          "hovermode": "closest",
          "mapbox": {
           "style": "light"
          },
          "paper_bgcolor": "white",
          "plot_bgcolor": "#E5ECF6",
          "polar": {
           "angularaxis": {
            "gridcolor": "white",
            "linecolor": "white",
            "ticks": ""
           },
           "bgcolor": "#E5ECF6",
           "radialaxis": {
            "gridcolor": "white",
            "linecolor": "white",
            "ticks": ""
           }
          },
          "scene": {
           "xaxis": {
            "backgroundcolor": "#E5ECF6",
            "gridcolor": "white",
            "gridwidth": 2,
            "linecolor": "white",
            "showbackground": true,
            "ticks": "",
            "zerolinecolor": "white"
           },
           "yaxis": {
            "backgroundcolor": "#E5ECF6",
            "gridcolor": "white",
            "gridwidth": 2,
            "linecolor": "white",
            "showbackground": true,
            "ticks": "",
            "zerolinecolor": "white"
           },
           "zaxis": {
            "backgroundcolor": "#E5ECF6",
            "gridcolor": "white",
            "gridwidth": 2,
            "linecolor": "white",
            "showbackground": true,
            "ticks": "",
            "zerolinecolor": "white"
           }
          },
          "shapedefaults": {
           "line": {
            "color": "#2a3f5f"
           }
          },
          "ternary": {
           "aaxis": {
            "gridcolor": "white",
            "linecolor": "white",
            "ticks": ""
           },
           "baxis": {
            "gridcolor": "white",
            "linecolor": "white",
            "ticks": ""
           },
           "bgcolor": "#E5ECF6",
           "caxis": {
            "gridcolor": "white",
            "linecolor": "white",
            "ticks": ""
           }
          },
          "title": {
           "x": 0.05
          },
          "xaxis": {
           "automargin": true,
           "gridcolor": "white",
           "linecolor": "white",
           "ticks": "",
           "title": {
            "standoff": 15
           },
           "zerolinecolor": "white",
           "zerolinewidth": 2
          },
          "yaxis": {
           "automargin": true,
           "gridcolor": "white",
           "linecolor": "white",
           "ticks": "",
           "title": {
            "standoff": 15
           },
           "zerolinecolor": "white",
           "zerolinewidth": 2
          }
         }
        },
        "title": {
         "text": "Distribution of MAE in the dataset"
        },
        "width": 900,
        "xaxis": {
         "anchor": "y",
         "domain": [
          0,
          1
         ],
         "range": [
          0,
          1
         ],
         "tickfont": {
          "size": 15
         },
         "title": {
          "font": {
           "size": 15
          },
          "text": "mae"
         }
        },
        "xaxis2": {
         "anchor": "y2",
         "domain": [
          0,
          1
         ],
         "matches": "x",
         "showgrid": true,
         "showticklabels": false
        },
        "yaxis": {
         "anchor": "x",
         "domain": [
          0,
          0.7326
         ],
         "tickfont": {
          "size": 15
         },
         "title": {
          "font": {
           "size": 15
          },
          "text": "Probability Density"
         }
        },
        "yaxis2": {
         "anchor": "x2",
         "domain": [
          0.7426,
          1
         ],
         "matches": "y2",
         "showgrid": false,
         "showline": false,
         "showticklabels": false,
         "ticks": ""
        }
       }
      }
     },
     "metadata": {},
     "output_type": "display_data"
    }
   ],
   "source": [
    "fig = px.histogram(combined_metrics,\n",
    "                   x=\"MAE\",\n",
    "                   color=combined_metrics[\"algorithm\"],\n",
    "                   pattern_shape=combined_metrics[\"algorithm\"],\n",
    "                   marginal=\"box\",\n",
    "                   nbins=500,\n",
    "                   barmode=\"overlay\",\n",
    "                   histnorm=\"probability density\")\n",
    "fig = format_plot(fig, xlabel=\"mae\", ylabel=\"Probability Density\")\n",
    "fig.update_layout(title=\"Distribution of MAE in the dataset\", xaxis_range=[0,1])\n",
    "fig.write_image(dst_img/\"dl_mae_dist.png\")\n",
    "fig.show()"
   ]
  },
  {
   "cell_type": "code",
   "execution_count": null,
   "id": "45e1f00c",
   "metadata": {},
   "outputs": [
    {
     "data": {
      "application/vnd.plotly.v1+json": {
       "config": {
        "plotlyServerURL": "https://plot.ly"
       },
       "data": [
        {
         "bingroup": "x",
         "histnorm": "probability density",
         "hovertemplate": "algorithm=LSTM<br>MSE=%{x}<br>probability density=%{y}<extra></extra>",
         "legendgroup": "LSTM",
         "marker": {
          "color": "#636efa",
          "opacity": 0.5,
          "pattern": {
           "shape": ""
          }
         },
         "name": "LSTM",
         "nbinsx": 500,
         "orientation": "v",
         "showlegend": true,
         "type": "histogram",
         "x": {
          "bdata": "hl0abnXmej+j6V8y8rp9PwHCyYla+UA/PRcGKUn/kT/ve/TVY1l1P7Nh3wfE2HQ/qGiPfjpeOj8s7GY3XCuNPyhx1EwhyJE/kmr5OulsiD/aUvuc5nZ6Pz+CypyZ7nY/Kf4UMtLgaj8TZla6dt93P81kCWO/2as/mP5HU12xjj/+bhEmF7+eP0M/flUCYpM/pogzJK+vgD949mjg8aB8P2aRKiL8bZM/HD51Bjq9Xz9TI2AjlnR2P0jjB2VIXZc/mSCrDS1OgD9Y6YcO8h+XP8LLczpTb4U/fV4iK8TDhj8I17M13fx8P/WEENWD9mU/fvGeYHszjT9cuCRUZymHP1yoFfzoiFA/GJSDV/bXFj/nHNIQ4WstP5ByPpNRUoQ/UtaEvqP9gT/U1iPH/wiFP8pBY9X5+ig/s9QxVQzSkz+cmDR9L+hxPwBwfKckuS8/SeiXHsODjz9HG8LmIGNvP45zX1WyjZA/7dwUvWq+ij8WRSu183SFP5EAjT4fBpQ/9SgO+nhCmj8GYWczDvhoPw==",
          "dtype": "f8"
         },
         "xaxis": "x",
         "yaxis": "y"
        },
        {
         "hovertemplate": "algorithm=LSTM<br>MSE=%{x}<extra></extra>",
         "legendgroup": "LSTM",
         "marker": {
          "color": "#636efa"
         },
         "name": "LSTM",
         "notched": true,
         "showlegend": false,
         "type": "box",
         "x": {
          "bdata": "hl0abnXmej+j6V8y8rp9PwHCyYla+UA/PRcGKUn/kT/ve/TVY1l1P7Nh3wfE2HQ/qGiPfjpeOj8s7GY3XCuNPyhx1EwhyJE/kmr5OulsiD/aUvuc5nZ6Pz+CypyZ7nY/Kf4UMtLgaj8TZla6dt93P81kCWO/2as/mP5HU12xjj/+bhEmF7+eP0M/flUCYpM/pogzJK+vgD949mjg8aB8P2aRKiL8bZM/HD51Bjq9Xz9TI2AjlnR2P0jjB2VIXZc/mSCrDS1OgD9Y6YcO8h+XP8LLczpTb4U/fV4iK8TDhj8I17M13fx8P/WEENWD9mU/fvGeYHszjT9cuCRUZymHP1yoFfzoiFA/GJSDV/bXFj/nHNIQ4WstP5ByPpNRUoQ/UtaEvqP9gT/U1iPH/wiFP8pBY9X5+ig/s9QxVQzSkz+cmDR9L+hxPwBwfKckuS8/SeiXHsODjz9HG8LmIGNvP45zX1WyjZA/7dwUvWq+ij8WRSu183SFP5EAjT4fBpQ/9SgO+nhCmj8GYWczDvhoPw==",
          "dtype": "f8"
         },
         "xaxis": "x2",
         "yaxis": "y2"
        },
        {
         "bingroup": "x",
         "histnorm": "probability density",
         "hovertemplate": "algorithm=TSMixer<br>MSE=%{x}<br>probability density=%{y}<extra></extra>",
         "legendgroup": "TSMixer",
         "marker": {
          "color": "#EF553B",
          "opacity": 0.5,
          "pattern": {
           "shape": "/"
          }
         },
         "name": "TSMixer",
         "nbinsx": 500,
         "orientation": "v",
         "showlegend": true,
         "type": "histogram",
         "x": {
          "bdata": "ka6jF5+8Sj/qcjm0daI9P9JLzUmE/yM/FnkoCaN5UT8F5aw67NRLP67clyIkdTg/i869slGfOT8xpwpkxf5TPwgzwwxLHlE/GC8Kr1UBSj+dP+4FRtVCP5NZiYB1SDc/hmsVC8Z5Nz8XWuhkbTxGP+giY01wRnA/AuzbyLBeVT/3ltwyrLlmP/aeBiBJGFY/UlRLOlhiQD/lQmQLAE9KP++Noaup01E/2lBshhXlJD+bj2h8yLA6PznkwyEOgVw/swtmrC2UOT8Ttk4TmfZeP4Ac1Q/8dkI/llB1zqpaRz/qYPE9t2lBP+vcGynDKTc/cPUzJ/zuTj8RjbpPa1hNP47+r17n+yo/lnNdJ955Fz/q2u0lT2UmP00dGc5LfFY/wYOWLAXjPj9BtAZKFx9BPxvkVh7cByU/KEZ+OClwVj9kb5qa2VJGPxxQunI0Syc/K91z1b6XSj+jCDHM1v8tP79zRy5LV0w/6h+LseANTT+E2a9g479GP64akEUoZ1A/18uspIyyWT8Z3Zh6DIgyPw==",
          "dtype": "f8"
         },
         "xaxis": "x",
         "yaxis": "y"
        },
        {
         "hovertemplate": "algorithm=TSMixer<br>MSE=%{x}<extra></extra>",
         "legendgroup": "TSMixer",
         "marker": {
          "color": "#EF553B"
         },
         "name": "TSMixer",
         "notched": true,
         "showlegend": false,
         "type": "box",
         "x": {
          "bdata": "ka6jF5+8Sj/qcjm0daI9P9JLzUmE/yM/FnkoCaN5UT8F5aw67NRLP67clyIkdTg/i869slGfOT8xpwpkxf5TPwgzwwxLHlE/GC8Kr1UBSj+dP+4FRtVCP5NZiYB1SDc/hmsVC8Z5Nz8XWuhkbTxGP+giY01wRnA/AuzbyLBeVT/3ltwyrLlmP/aeBiBJGFY/UlRLOlhiQD/lQmQLAE9KP++Noaup01E/2lBshhXlJD+bj2h8yLA6PznkwyEOgVw/swtmrC2UOT8Ttk4TmfZeP4Ac1Q/8dkI/llB1zqpaRz/qYPE9t2lBP+vcGynDKTc/cPUzJ/zuTj8RjbpPa1hNP47+r17n+yo/lnNdJ955Fz/q2u0lT2UmP00dGc5LfFY/wYOWLAXjPj9BtAZKFx9BPxvkVh7cByU/KEZ+OClwVj9kb5qa2VJGPxxQunI0Syc/K91z1b6XSj+jCDHM1v8tP79zRy5LV0w/6h+LseANTT+E2a9g479GP64akEUoZ1A/18uspIyyWT8Z3Zh6DIgyPw==",
          "dtype": "f8"
         },
         "xaxis": "x2",
         "yaxis": "y2"
        }
       ],
       "layout": {
        "autosize": false,
        "barmode": "overlay",
        "height": 500,
        "legend": {
         "font": {
          "size": 15
         },
         "orientation": "h",
         "title": {},
         "tracegroupgap": 0,
         "x": 1,
         "xanchor": "right",
         "y": 0.98,
         "yanchor": "bottom"
        },
        "margin": {
         "t": 60
        },
        "template": {
         "data": {
          "bar": [
           {
            "error_x": {
             "color": "#2a3f5f"
            },
            "error_y": {
             "color": "#2a3f5f"
            },
            "marker": {
             "line": {
              "color": "#E5ECF6",
              "width": 0.5
             },
             "pattern": {
              "fillmode": "overlay",
              "size": 10,
              "solidity": 0.2
             }
            },
            "type": "bar"
           }
          ],
          "barpolar": [
           {
            "marker": {
             "line": {
              "color": "#E5ECF6",
              "width": 0.5
             },
             "pattern": {
              "fillmode": "overlay",
              "size": 10,
              "solidity": 0.2
             }
            },
            "type": "barpolar"
           }
          ],
          "carpet": [
           {
            "aaxis": {
             "endlinecolor": "#2a3f5f",
             "gridcolor": "white",
             "linecolor": "white",
             "minorgridcolor": "white",
             "startlinecolor": "#2a3f5f"
            },
            "baxis": {
             "endlinecolor": "#2a3f5f",
             "gridcolor": "white",
             "linecolor": "white",
             "minorgridcolor": "white",
             "startlinecolor": "#2a3f5f"
            },
            "type": "carpet"
           }
          ],
          "choropleth": [
           {
            "colorbar": {
             "outlinewidth": 0,
             "ticks": ""
            },
            "type": "choropleth"
           }
          ],
          "contour": [
           {
            "colorbar": {
             "outlinewidth": 0,
             "ticks": ""
            },
            "colorscale": [
             [
              0,
              "#0d0887"
             ],
             [
              0.1111111111111111,
              "#46039f"
             ],
             [
              0.2222222222222222,
              "#7201a8"
             ],
             [
              0.3333333333333333,
              "#9c179e"
             ],
             [
              0.4444444444444444,
              "#bd3786"
             ],
             [
              0.5555555555555556,
              "#d8576b"
             ],
             [
              0.6666666666666666,
              "#ed7953"
             ],
             [
              0.7777777777777778,
              "#fb9f3a"
             ],
             [
              0.8888888888888888,
              "#fdca26"
             ],
             [
              1,
              "#f0f921"
             ]
            ],
            "type": "contour"
           }
          ],
          "contourcarpet": [
           {
            "colorbar": {
             "outlinewidth": 0,
             "ticks": ""
            },
            "type": "contourcarpet"
           }
          ],
          "heatmap": [
           {
            "colorbar": {
             "outlinewidth": 0,
             "ticks": ""
            },
            "colorscale": [
             [
              0,
              "#0d0887"
             ],
             [
              0.1111111111111111,
              "#46039f"
             ],
             [
              0.2222222222222222,
              "#7201a8"
             ],
             [
              0.3333333333333333,
              "#9c179e"
             ],
             [
              0.4444444444444444,
              "#bd3786"
             ],
             [
              0.5555555555555556,
              "#d8576b"
             ],
             [
              0.6666666666666666,
              "#ed7953"
             ],
             [
              0.7777777777777778,
              "#fb9f3a"
             ],
             [
              0.8888888888888888,
              "#fdca26"
             ],
             [
              1,
              "#f0f921"
             ]
            ],
            "type": "heatmap"
           }
          ],
          "histogram": [
           {
            "marker": {
             "pattern": {
              "fillmode": "overlay",
              "size": 10,
              "solidity": 0.2
             }
            },
            "type": "histogram"
           }
          ],
          "histogram2d": [
           {
            "colorbar": {
             "outlinewidth": 0,
             "ticks": ""
            },
            "colorscale": [
             [
              0,
              "#0d0887"
             ],
             [
              0.1111111111111111,
              "#46039f"
             ],
             [
              0.2222222222222222,
              "#7201a8"
             ],
             [
              0.3333333333333333,
              "#9c179e"
             ],
             [
              0.4444444444444444,
              "#bd3786"
             ],
             [
              0.5555555555555556,
              "#d8576b"
             ],
             [
              0.6666666666666666,
              "#ed7953"
             ],
             [
              0.7777777777777778,
              "#fb9f3a"
             ],
             [
              0.8888888888888888,
              "#fdca26"
             ],
             [
              1,
              "#f0f921"
             ]
            ],
            "type": "histogram2d"
           }
          ],
          "histogram2dcontour": [
           {
            "colorbar": {
             "outlinewidth": 0,
             "ticks": ""
            },
            "colorscale": [
             [
              0,
              "#0d0887"
             ],
             [
              0.1111111111111111,
              "#46039f"
             ],
             [
              0.2222222222222222,
              "#7201a8"
             ],
             [
              0.3333333333333333,
              "#9c179e"
             ],
             [
              0.4444444444444444,
              "#bd3786"
             ],
             [
              0.5555555555555556,
              "#d8576b"
             ],
             [
              0.6666666666666666,
              "#ed7953"
             ],
             [
              0.7777777777777778,
              "#fb9f3a"
             ],
             [
              0.8888888888888888,
              "#fdca26"
             ],
             [
              1,
              "#f0f921"
             ]
            ],
            "type": "histogram2dcontour"
           }
          ],
          "mesh3d": [
           {
            "colorbar": {
             "outlinewidth": 0,
             "ticks": ""
            },
            "type": "mesh3d"
           }
          ],
          "parcoords": [
           {
            "line": {
             "colorbar": {
              "outlinewidth": 0,
              "ticks": ""
             }
            },
            "type": "parcoords"
           }
          ],
          "pie": [
           {
            "automargin": true,
            "type": "pie"
           }
          ],
          "scatter": [
           {
            "fillpattern": {
             "fillmode": "overlay",
             "size": 10,
             "solidity": 0.2
            },
            "type": "scatter"
           }
          ],
          "scatter3d": [
           {
            "line": {
             "colorbar": {
              "outlinewidth": 0,
              "ticks": ""
             }
            },
            "marker": {
             "colorbar": {
              "outlinewidth": 0,
              "ticks": ""
             }
            },
            "type": "scatter3d"
           }
          ],
          "scattercarpet": [
           {
            "marker": {
             "colorbar": {
              "outlinewidth": 0,
              "ticks": ""
             }
            },
            "type": "scattercarpet"
           }
          ],
          "scattergeo": [
           {
            "marker": {
             "colorbar": {
              "outlinewidth": 0,
              "ticks": ""
             }
            },
            "type": "scattergeo"
           }
          ],
          "scattergl": [
           {
            "marker": {
             "colorbar": {
              "outlinewidth": 0,
              "ticks": ""
             }
            },
            "type": "scattergl"
           }
          ],
          "scattermap": [
           {
            "marker": {
             "colorbar": {
              "outlinewidth": 0,
              "ticks": ""
             }
            },
            "type": "scattermap"
           }
          ],
          "scattermapbox": [
           {
            "marker": {
             "colorbar": {
              "outlinewidth": 0,
              "ticks": ""
             }
            },
            "type": "scattermapbox"
           }
          ],
          "scatterpolar": [
           {
            "marker": {
             "colorbar": {
              "outlinewidth": 0,
              "ticks": ""
             }
            },
            "type": "scatterpolar"
           }
          ],
          "scatterpolargl": [
           {
            "marker": {
             "colorbar": {
              "outlinewidth": 0,
              "ticks": ""
             }
            },
            "type": "scatterpolargl"
           }
          ],
          "scatterternary": [
           {
            "marker": {
             "colorbar": {
              "outlinewidth": 0,
              "ticks": ""
             }
            },
            "type": "scatterternary"
           }
          ],
          "surface": [
           {
            "colorbar": {
             "outlinewidth": 0,
             "ticks": ""
            },
            "colorscale": [
             [
              0,
              "#0d0887"
             ],
             [
              0.1111111111111111,
              "#46039f"
             ],
             [
              0.2222222222222222,
              "#7201a8"
             ],
             [
              0.3333333333333333,
              "#9c179e"
             ],
             [
              0.4444444444444444,
              "#bd3786"
             ],
             [
              0.5555555555555556,
              "#d8576b"
             ],
             [
              0.6666666666666666,
              "#ed7953"
             ],
             [
              0.7777777777777778,
              "#fb9f3a"
             ],
             [
              0.8888888888888888,
              "#fdca26"
             ],
             [
              1,
              "#f0f921"
             ]
            ],
            "type": "surface"
           }
          ],
          "table": [
           {
            "cells": {
             "fill": {
              "color": "#EBF0F8"
             },
             "line": {
              "color": "white"
             }
            },
            "header": {
             "fill": {
              "color": "#C8D4E3"
             },
             "line": {
              "color": "white"
             }
            },
            "type": "table"
           }
          ]
         },
         "layout": {
          "annotationdefaults": {
           "arrowcolor": "#2a3f5f",
           "arrowhead": 0,
           "arrowwidth": 1
          },
          "autotypenumbers": "strict",
          "coloraxis": {
           "colorbar": {
            "outlinewidth": 0,
            "ticks": ""
           }
          },
          "colorscale": {
           "diverging": [
            [
             0,
             "#8e0152"
            ],
            [
             0.1,
             "#c51b7d"
            ],
            [
             0.2,
             "#de77ae"
            ],
            [
             0.3,
             "#f1b6da"
            ],
            [
             0.4,
             "#fde0ef"
            ],
            [
             0.5,
             "#f7f7f7"
            ],
            [
             0.6,
             "#e6f5d0"
            ],
            [
             0.7,
             "#b8e186"
            ],
            [
             0.8,
             "#7fbc41"
            ],
            [
             0.9,
             "#4d9221"
            ],
            [
             1,
             "#276419"
            ]
           ],
           "sequential": [
            [
             0,
             "#0d0887"
            ],
            [
             0.1111111111111111,
             "#46039f"
            ],
            [
             0.2222222222222222,
             "#7201a8"
            ],
            [
             0.3333333333333333,
             "#9c179e"
            ],
            [
             0.4444444444444444,
             "#bd3786"
            ],
            [
             0.5555555555555556,
             "#d8576b"
            ],
            [
             0.6666666666666666,
             "#ed7953"
            ],
            [
             0.7777777777777778,
             "#fb9f3a"
            ],
            [
             0.8888888888888888,
             "#fdca26"
            ],
            [
             1,
             "#f0f921"
            ]
           ],
           "sequentialminus": [
            [
             0,
             "#0d0887"
            ],
            [
             0.1111111111111111,
             "#46039f"
            ],
            [
             0.2222222222222222,
             "#7201a8"
            ],
            [
             0.3333333333333333,
             "#9c179e"
            ],
            [
             0.4444444444444444,
             "#bd3786"
            ],
            [
             0.5555555555555556,
             "#d8576b"
            ],
            [
             0.6666666666666666,
             "#ed7953"
            ],
            [
             0.7777777777777778,
             "#fb9f3a"
            ],
            [
             0.8888888888888888,
             "#fdca26"
            ],
            [
             1,
             "#f0f921"
            ]
           ]
          },
          "colorway": [
           "#636efa",
           "#EF553B",
           "#00cc96",
           "#ab63fa",
           "#FFA15A",
           "#19d3f3",
           "#FF6692",
           "#B6E880",
           "#FF97FF",
           "#FECB52"
          ],
          "font": {
           "color": "#2a3f5f"
          },
          "geo": {
           "bgcolor": "white",
           "lakecolor": "white",
           "landcolor": "#E5ECF6",
           "showlakes": true,
           "showland": true,
           "subunitcolor": "white"
          },
          "hoverlabel": {
           "align": "left"
          },
          "hovermode": "closest",
          "mapbox": {
           "style": "light"
          },
          "paper_bgcolor": "white",
          "plot_bgcolor": "#E5ECF6",
          "polar": {
           "angularaxis": {
            "gridcolor": "white",
            "linecolor": "white",
            "ticks": ""
           },
           "bgcolor": "#E5ECF6",
           "radialaxis": {
            "gridcolor": "white",
            "linecolor": "white",
            "ticks": ""
           }
          },
          "scene": {
           "xaxis": {
            "backgroundcolor": "#E5ECF6",
            "gridcolor": "white",
            "gridwidth": 2,
            "linecolor": "white",
            "showbackground": true,
            "ticks": "",
            "zerolinecolor": "white"
           },
           "yaxis": {
            "backgroundcolor": "#E5ECF6",
            "gridcolor": "white",
            "gridwidth": 2,
            "linecolor": "white",
            "showbackground": true,
            "ticks": "",
            "zerolinecolor": "white"
           },
           "zaxis": {
            "backgroundcolor": "#E5ECF6",
            "gridcolor": "white",
            "gridwidth": 2,
            "linecolor": "white",
            "showbackground": true,
            "ticks": "",
            "zerolinecolor": "white"
           }
          },
          "shapedefaults": {
           "line": {
            "color": "#2a3f5f"
           }
          },
          "ternary": {
           "aaxis": {
            "gridcolor": "white",
            "linecolor": "white",
            "ticks": ""
           },
           "baxis": {
            "gridcolor": "white",
            "linecolor": "white",
            "ticks": ""
           },
           "bgcolor": "#E5ECF6",
           "caxis": {
            "gridcolor": "white",
            "linecolor": "white",
            "ticks": ""
           }
          },
          "title": {
           "x": 0.05
          },
          "xaxis": {
           "automargin": true,
           "gridcolor": "white",
           "linecolor": "white",
           "ticks": "",
           "title": {
            "standoff": 15
           },
           "zerolinecolor": "white",
           "zerolinewidth": 2
          },
          "yaxis": {
           "automargin": true,
           "gridcolor": "white",
           "linecolor": "white",
           "ticks": "",
           "title": {
            "standoff": 15
           },
           "zerolinecolor": "white",
           "zerolinewidth": 2
          }
         }
        },
        "title": {
         "text": "Distribution of MSE in the dataset"
        },
        "width": 900,
        "xaxis": {
         "anchor": "y",
         "domain": [
          0,
          1
         ],
         "range": [
          0,
          1
         ],
         "tickfont": {
          "size": 15
         },
         "title": {
          "font": {
           "size": 15
          },
          "text": "mse"
         }
        },
        "xaxis2": {
         "anchor": "y2",
         "domain": [
          0,
          1
         ],
         "matches": "x",
         "showgrid": true,
         "showticklabels": false
        },
        "yaxis": {
         "anchor": "x",
         "domain": [
          0,
          0.7326
         ],
         "tickfont": {
          "size": 15
         },
         "title": {
          "font": {
           "size": 15
          },
          "text": "Probability Density"
         }
        },
        "yaxis2": {
         "anchor": "x2",
         "domain": [
          0.7426,
          1
         ],
         "matches": "y2",
         "showgrid": false,
         "showline": false,
         "showticklabels": false,
         "ticks": ""
        }
       }
      }
     },
     "metadata": {},
     "output_type": "display_data"
    }
   ],
   "source": [
    "fig = px.histogram(combined_metrics,\n",
    "                   x=\"MSE\",\n",
    "                   color=combined_metrics[\"algorithm\"],\n",
    "                   pattern_shape=combined_metrics[\"algorithm\"],\n",
    "                   marginal=\"box\",\n",
    "                   nbins=500,\n",
    "                   barmode=\"overlay\",\n",
    "                   histnorm=\"probability density\")\n",
    "fig = format_plot(fig, xlabel=\"mse\", ylabel=\"Probability Density\")\n",
    "fig.update_layout(title=\"Distribution of MSE in the dataset\", xaxis_range=[0,1])\n",
    "fig.write_image(dst_img/\"dl_mse_dist.png\")\n",
    "fig.show()"
   ]
  },
  {
   "cell_type": "code",
   "execution_count": null,
   "id": "3391f79b",
   "metadata": {},
   "outputs": [
    {
     "data": {
      "application/vnd.plotly.v1+json": {
       "config": {
        "plotlyServerURL": "https://plot.ly"
       },
       "data": [
        {
         "bingroup": "x",
         "histnorm": "probability density",
         "hovertemplate": "algorithm=LSTM<br>RMSE=%{x}<br>probability density=%{y}<extra></extra>",
         "legendgroup": "LSTM",
         "marker": {
          "color": "#636efa",
          "opacity": 0.5,
          "pattern": {
           "shape": ""
          }
         },
         "name": "LSTM",
         "nbinsx": 500,
         "orientation": "v",
         "showlegend": true,
         "type": "histogram",
         "x": {
          "bdata": "wmWcJwW/tD9Sf305aM+1P36rFmpVTpc/llz/miD4wD9U33zfaHuyP0SO9SVnQ7I//rl9vTmKlD9aiznbSo2+Pz1UjOEL3sA/vKaobhX1uz+zea2H05O0P1fP9nmrJ7M/INN0dtdTrT9KjUQnQYuzP8r+q7Fw2s0/5WB8EfBWvz9nYQrRBi7GP/7NGQZCnME/L60HvYobtz8KOcIP/ma1P3b1fOixocE/bK7WZvaIpj8cl66YcfSyP6rFHyOuVcM/zkpC4aLXtj/CBbNUPDzDP442VEOjMLo/tyjlnH39uj+L/oB2Pom1P5hmibi5gqo/JNEHaouRvj8XJ6RNezm7P5QwCnPkQ6A/an3GwzQegz8ywZAaAq+OP6ffAi8zgLk/3jx4HG3+tz/ynh+e1PG5P4tfwUruRYw//ynq4N7OwT9Ho5knOe2wP8YLOaF+3I8/J1MZzqTBvz9ybT1kL7GvPyNevPY+RsA/ctBeawxBvT8u3kUOEzS6PxtYl0o05sE/85SbZWd/xD+yDBQnR0SsPw==",
          "dtype": "f8"
         },
         "xaxis": "x",
         "yaxis": "y"
        },
        {
         "hovertemplate": "algorithm=LSTM<br>RMSE=%{x}<extra></extra>",
         "legendgroup": "LSTM",
         "marker": {
          "color": "#636efa"
         },
         "name": "LSTM",
         "notched": true,
         "showlegend": false,
         "type": "box",
         "x": {
          "bdata": "wmWcJwW/tD9Sf305aM+1P36rFmpVTpc/llz/miD4wD9U33zfaHuyP0SO9SVnQ7I//rl9vTmKlD9aiznbSo2+Pz1UjOEL3sA/vKaobhX1uz+zea2H05O0P1fP9nmrJ7M/INN0dtdTrT9KjUQnQYuzP8r+q7Fw2s0/5WB8EfBWvz9nYQrRBi7GP/7NGQZCnME/L60HvYobtz8KOcIP/ma1P3b1fOixocE/bK7WZvaIpj8cl66YcfSyP6rFHyOuVcM/zkpC4aLXtj/CBbNUPDzDP442VEOjMLo/tyjlnH39uj+L/oB2Pom1P5hmibi5gqo/JNEHaouRvj8XJ6RNezm7P5QwCnPkQ6A/an3GwzQegz8ywZAaAq+OP6ffAi8zgLk/3jx4HG3+tz/ynh+e1PG5P4tfwUruRYw//ynq4N7OwT9Ho5knOe2wP8YLOaF+3I8/J1MZzqTBvz9ybT1kL7GvPyNevPY+RsA/ctBeawxBvT8u3kUOEzS6PxtYl0o05sE/85SbZWd/xD+yDBQnR0SsPw==",
          "dtype": "f8"
         },
         "xaxis": "x2",
         "yaxis": "y2"
        },
        {
         "bingroup": "x",
         "histnorm": "probability density",
         "hovertemplate": "algorithm=TSMixer<br>RMSE=%{x}<br>probability density=%{y}<extra></extra>",
         "legendgroup": "TSMixer",
         "marker": {
          "color": "#EF553B",
          "opacity": 0.5,
          "pattern": {
           "shape": "/"
          }
         },
         "name": "TSMixer",
         "nbinsx": 500,
         "orientation": "v",
         "showlegend": true,
         "type": "histogram",
         "x": {
          "bdata": "fbH4ARFAnT/p2QEVa8aVPyZqY/wJTIk/Ajya9ae4oD9pe/6X2tedP1U38+AmyJM/8Z5L/lU/lD/cGd7m6uKhPzVTH6G6jKA/6qsmyujYnD+2mRL+koyYP4+aaHsOTZM/aO/nZnRhkz+kZdkVyqyaP/B75bcRI7A/tw2xFrR9oj8WiswmgfeqPzFHAn1UzaI/SMR3Fr/llj/HkAh13AOdP6D2TkWD46A/C5dCD6XbiT+86TcZSKqUP7SamjIPW6U/H/LtpO46lD8FnAwsA0KmP2pteUnRTpg/vZpGzV9Wmz/wpcnj+pqXP/ANZBpRQJM/bsXa9VV2nz9IpCKv2qSeP5a9GTuaYo0/tSO0Wn5hgz+DIOpaRMWKP3svZVCy96I/UDa0qfg6lj9KnSNdL2iXP/xeGL4g8Yk/xyi1WZPyoj/jIbXBObqaPydjD49RTYs/dLNrLd4rnT+gmGpqyfuOP5zbp/1uHZ4/cVXmUdZ9nj9B8RT7MPuaP+cCxwdCM6A/W8Wmr+1GpD8I4ISsITiRPw==",
          "dtype": "f8"
         },
         "xaxis": "x",
         "yaxis": "y"
        },
        {
         "hovertemplate": "algorithm=TSMixer<br>RMSE=%{x}<extra></extra>",
         "legendgroup": "TSMixer",
         "marker": {
          "color": "#EF553B"
         },
         "name": "TSMixer",
         "notched": true,
         "showlegend": false,
         "type": "box",
         "x": {
          "bdata": "fbH4ARFAnT/p2QEVa8aVPyZqY/wJTIk/Ajya9ae4oD9pe/6X2tedP1U38+AmyJM/8Z5L/lU/lD/cGd7m6uKhPzVTH6G6jKA/6qsmyujYnD+2mRL+koyYP4+aaHsOTZM/aO/nZnRhkz+kZdkVyqyaP/B75bcRI7A/tw2xFrR9oj8WiswmgfeqPzFHAn1UzaI/SMR3Fr/llj/HkAh13AOdP6D2TkWD46A/C5dCD6XbiT+86TcZSKqUP7SamjIPW6U/H/LtpO46lD8FnAwsA0KmP2pteUnRTpg/vZpGzV9Wmz/wpcnj+pqXP/ANZBpRQJM/bsXa9VV2nz9IpCKv2qSeP5a9GTuaYo0/tSO0Wn5hgz+DIOpaRMWKP3svZVCy96I/UDa0qfg6lj9KnSNdL2iXP/xeGL4g8Yk/xyi1WZPyoj/jIbXBObqaPydjD49RTYs/dLNrLd4rnT+gmGpqyfuOP5zbp/1uHZ4/cVXmUdZ9nj9B8RT7MPuaP+cCxwdCM6A/W8Wmr+1GpD8I4ISsITiRPw==",
          "dtype": "f8"
         },
         "xaxis": "x2",
         "yaxis": "y2"
        }
       ],
       "layout": {
        "autosize": false,
        "barmode": "overlay",
        "height": 500,
        "legend": {
         "font": {
          "size": 15
         },
         "orientation": "h",
         "title": {},
         "tracegroupgap": 0,
         "x": 1,
         "xanchor": "right",
         "y": 0.98,
         "yanchor": "bottom"
        },
        "margin": {
         "t": 60
        },
        "template": {
         "data": {
          "bar": [
           {
            "error_x": {
             "color": "#2a3f5f"
            },
            "error_y": {
             "color": "#2a3f5f"
            },
            "marker": {
             "line": {
              "color": "#E5ECF6",
              "width": 0.5
             },
             "pattern": {
              "fillmode": "overlay",
              "size": 10,
              "solidity": 0.2
             }
            },
            "type": "bar"
           }
          ],
          "barpolar": [
           {
            "marker": {
             "line": {
              "color": "#E5ECF6",
              "width": 0.5
             },
             "pattern": {
              "fillmode": "overlay",
              "size": 10,
              "solidity": 0.2
             }
            },
            "type": "barpolar"
           }
          ],
          "carpet": [
           {
            "aaxis": {
             "endlinecolor": "#2a3f5f",
             "gridcolor": "white",
             "linecolor": "white",
             "minorgridcolor": "white",
             "startlinecolor": "#2a3f5f"
            },
            "baxis": {
             "endlinecolor": "#2a3f5f",
             "gridcolor": "white",
             "linecolor": "white",
             "minorgridcolor": "white",
             "startlinecolor": "#2a3f5f"
            },
            "type": "carpet"
           }
          ],
          "choropleth": [
           {
            "colorbar": {
             "outlinewidth": 0,
             "ticks": ""
            },
            "type": "choropleth"
           }
          ],
          "contour": [
           {
            "colorbar": {
             "outlinewidth": 0,
             "ticks": ""
            },
            "colorscale": [
             [
              0,
              "#0d0887"
             ],
             [
              0.1111111111111111,
              "#46039f"
             ],
             [
              0.2222222222222222,
              "#7201a8"
             ],
             [
              0.3333333333333333,
              "#9c179e"
             ],
             [
              0.4444444444444444,
              "#bd3786"
             ],
             [
              0.5555555555555556,
              "#d8576b"
             ],
             [
              0.6666666666666666,
              "#ed7953"
             ],
             [
              0.7777777777777778,
              "#fb9f3a"
             ],
             [
              0.8888888888888888,
              "#fdca26"
             ],
             [
              1,
              "#f0f921"
             ]
            ],
            "type": "contour"
           }
          ],
          "contourcarpet": [
           {
            "colorbar": {
             "outlinewidth": 0,
             "ticks": ""
            },
            "type": "contourcarpet"
           }
          ],
          "heatmap": [
           {
            "colorbar": {
             "outlinewidth": 0,
             "ticks": ""
            },
            "colorscale": [
             [
              0,
              "#0d0887"
             ],
             [
              0.1111111111111111,
              "#46039f"
             ],
             [
              0.2222222222222222,
              "#7201a8"
             ],
             [
              0.3333333333333333,
              "#9c179e"
             ],
             [
              0.4444444444444444,
              "#bd3786"
             ],
             [
              0.5555555555555556,
              "#d8576b"
             ],
             [
              0.6666666666666666,
              "#ed7953"
             ],
             [
              0.7777777777777778,
              "#fb9f3a"
             ],
             [
              0.8888888888888888,
              "#fdca26"
             ],
             [
              1,
              "#f0f921"
             ]
            ],
            "type": "heatmap"
           }
          ],
          "histogram": [
           {
            "marker": {
             "pattern": {
              "fillmode": "overlay",
              "size": 10,
              "solidity": 0.2
             }
            },
            "type": "histogram"
           }
          ],
          "histogram2d": [
           {
            "colorbar": {
             "outlinewidth": 0,
             "ticks": ""
            },
            "colorscale": [
             [
              0,
              "#0d0887"
             ],
             [
              0.1111111111111111,
              "#46039f"
             ],
             [
              0.2222222222222222,
              "#7201a8"
             ],
             [
              0.3333333333333333,
              "#9c179e"
             ],
             [
              0.4444444444444444,
              "#bd3786"
             ],
             [
              0.5555555555555556,
              "#d8576b"
             ],
             [
              0.6666666666666666,
              "#ed7953"
             ],
             [
              0.7777777777777778,
              "#fb9f3a"
             ],
             [
              0.8888888888888888,
              "#fdca26"
             ],
             [
              1,
              "#f0f921"
             ]
            ],
            "type": "histogram2d"
           }
          ],
          "histogram2dcontour": [
           {
            "colorbar": {
             "outlinewidth": 0,
             "ticks": ""
            },
            "colorscale": [
             [
              0,
              "#0d0887"
             ],
             [
              0.1111111111111111,
              "#46039f"
             ],
             [
              0.2222222222222222,
              "#7201a8"
             ],
             [
              0.3333333333333333,
              "#9c179e"
             ],
             [
              0.4444444444444444,
              "#bd3786"
             ],
             [
              0.5555555555555556,
              "#d8576b"
             ],
             [
              0.6666666666666666,
              "#ed7953"
             ],
             [
              0.7777777777777778,
              "#fb9f3a"
             ],
             [
              0.8888888888888888,
              "#fdca26"
             ],
             [
              1,
              "#f0f921"
             ]
            ],
            "type": "histogram2dcontour"
           }
          ],
          "mesh3d": [
           {
            "colorbar": {
             "outlinewidth": 0,
             "ticks": ""
            },
            "type": "mesh3d"
           }
          ],
          "parcoords": [
           {
            "line": {
             "colorbar": {
              "outlinewidth": 0,
              "ticks": ""
             }
            },
            "type": "parcoords"
           }
          ],
          "pie": [
           {
            "automargin": true,
            "type": "pie"
           }
          ],
          "scatter": [
           {
            "fillpattern": {
             "fillmode": "overlay",
             "size": 10,
             "solidity": 0.2
            },
            "type": "scatter"
           }
          ],
          "scatter3d": [
           {
            "line": {
             "colorbar": {
              "outlinewidth": 0,
              "ticks": ""
             }
            },
            "marker": {
             "colorbar": {
              "outlinewidth": 0,
              "ticks": ""
             }
            },
            "type": "scatter3d"
           }
          ],
          "scattercarpet": [
           {
            "marker": {
             "colorbar": {
              "outlinewidth": 0,
              "ticks": ""
             }
            },
            "type": "scattercarpet"
           }
          ],
          "scattergeo": [
           {
            "marker": {
             "colorbar": {
              "outlinewidth": 0,
              "ticks": ""
             }
            },
            "type": "scattergeo"
           }
          ],
          "scattergl": [
           {
            "marker": {
             "colorbar": {
              "outlinewidth": 0,
              "ticks": ""
             }
            },
            "type": "scattergl"
           }
          ],
          "scattermap": [
           {
            "marker": {
             "colorbar": {
              "outlinewidth": 0,
              "ticks": ""
             }
            },
            "type": "scattermap"
           }
          ],
          "scattermapbox": [
           {
            "marker": {
             "colorbar": {
              "outlinewidth": 0,
              "ticks": ""
             }
            },
            "type": "scattermapbox"
           }
          ],
          "scatterpolar": [
           {
            "marker": {
             "colorbar": {
              "outlinewidth": 0,
              "ticks": ""
             }
            },
            "type": "scatterpolar"
           }
          ],
          "scatterpolargl": [
           {
            "marker": {
             "colorbar": {
              "outlinewidth": 0,
              "ticks": ""
             }
            },
            "type": "scatterpolargl"
           }
          ],
          "scatterternary": [
           {
            "marker": {
             "colorbar": {
              "outlinewidth": 0,
              "ticks": ""
             }
            },
            "type": "scatterternary"
           }
          ],
          "surface": [
           {
            "colorbar": {
             "outlinewidth": 0,
             "ticks": ""
            },
            "colorscale": [
             [
              0,
              "#0d0887"
             ],
             [
              0.1111111111111111,
              "#46039f"
             ],
             [
              0.2222222222222222,
              "#7201a8"
             ],
             [
              0.3333333333333333,
              "#9c179e"
             ],
             [
              0.4444444444444444,
              "#bd3786"
             ],
             [
              0.5555555555555556,
              "#d8576b"
             ],
             [
              0.6666666666666666,
              "#ed7953"
             ],
             [
              0.7777777777777778,
              "#fb9f3a"
             ],
             [
              0.8888888888888888,
              "#fdca26"
             ],
             [
              1,
              "#f0f921"
             ]
            ],
            "type": "surface"
           }
          ],
          "table": [
           {
            "cells": {
             "fill": {
              "color": "#EBF0F8"
             },
             "line": {
              "color": "white"
             }
            },
            "header": {
             "fill": {
              "color": "#C8D4E3"
             },
             "line": {
              "color": "white"
             }
            },
            "type": "table"
           }
          ]
         },
         "layout": {
          "annotationdefaults": {
           "arrowcolor": "#2a3f5f",
           "arrowhead": 0,
           "arrowwidth": 1
          },
          "autotypenumbers": "strict",
          "coloraxis": {
           "colorbar": {
            "outlinewidth": 0,
            "ticks": ""
           }
          },
          "colorscale": {
           "diverging": [
            [
             0,
             "#8e0152"
            ],
            [
             0.1,
             "#c51b7d"
            ],
            [
             0.2,
             "#de77ae"
            ],
            [
             0.3,
             "#f1b6da"
            ],
            [
             0.4,
             "#fde0ef"
            ],
            [
             0.5,
             "#f7f7f7"
            ],
            [
             0.6,
             "#e6f5d0"
            ],
            [
             0.7,
             "#b8e186"
            ],
            [
             0.8,
             "#7fbc41"
            ],
            [
             0.9,
             "#4d9221"
            ],
            [
             1,
             "#276419"
            ]
           ],
           "sequential": [
            [
             0,
             "#0d0887"
            ],
            [
             0.1111111111111111,
             "#46039f"
            ],
            [
             0.2222222222222222,
             "#7201a8"
            ],
            [
             0.3333333333333333,
             "#9c179e"
            ],
            [
             0.4444444444444444,
             "#bd3786"
            ],
            [
             0.5555555555555556,
             "#d8576b"
            ],
            [
             0.6666666666666666,
             "#ed7953"
            ],
            [
             0.7777777777777778,
             "#fb9f3a"
            ],
            [
             0.8888888888888888,
             "#fdca26"
            ],
            [
             1,
             "#f0f921"
            ]
           ],
           "sequentialminus": [
            [
             0,
             "#0d0887"
            ],
            [
             0.1111111111111111,
             "#46039f"
            ],
            [
             0.2222222222222222,
             "#7201a8"
            ],
            [
             0.3333333333333333,
             "#9c179e"
            ],
            [
             0.4444444444444444,
             "#bd3786"
            ],
            [
             0.5555555555555556,
             "#d8576b"
            ],
            [
             0.6666666666666666,
             "#ed7953"
            ],
            [
             0.7777777777777778,
             "#fb9f3a"
            ],
            [
             0.8888888888888888,
             "#fdca26"
            ],
            [
             1,
             "#f0f921"
            ]
           ]
          },
          "colorway": [
           "#636efa",
           "#EF553B",
           "#00cc96",
           "#ab63fa",
           "#FFA15A",
           "#19d3f3",
           "#FF6692",
           "#B6E880",
           "#FF97FF",
           "#FECB52"
          ],
          "font": {
           "color": "#2a3f5f"
          },
          "geo": {
           "bgcolor": "white",
           "lakecolor": "white",
           "landcolor": "#E5ECF6",
           "showlakes": true,
           "showland": true,
           "subunitcolor": "white"
          },
          "hoverlabel": {
           "align": "left"
          },
          "hovermode": "closest",
          "mapbox": {
           "style": "light"
          },
          "paper_bgcolor": "white",
          "plot_bgcolor": "#E5ECF6",
          "polar": {
           "angularaxis": {
            "gridcolor": "white",
            "linecolor": "white",
            "ticks": ""
           },
           "bgcolor": "#E5ECF6",
           "radialaxis": {
            "gridcolor": "white",
            "linecolor": "white",
            "ticks": ""
           }
          },
          "scene": {
           "xaxis": {
            "backgroundcolor": "#E5ECF6",
            "gridcolor": "white",
            "gridwidth": 2,
            "linecolor": "white",
            "showbackground": true,
            "ticks": "",
            "zerolinecolor": "white"
           },
           "yaxis": {
            "backgroundcolor": "#E5ECF6",
            "gridcolor": "white",
            "gridwidth": 2,
            "linecolor": "white",
            "showbackground": true,
            "ticks": "",
            "zerolinecolor": "white"
           },
           "zaxis": {
            "backgroundcolor": "#E5ECF6",
            "gridcolor": "white",
            "gridwidth": 2,
            "linecolor": "white",
            "showbackground": true,
            "ticks": "",
            "zerolinecolor": "white"
           }
          },
          "shapedefaults": {
           "line": {
            "color": "#2a3f5f"
           }
          },
          "ternary": {
           "aaxis": {
            "gridcolor": "white",
            "linecolor": "white",
            "ticks": ""
           },
           "baxis": {
            "gridcolor": "white",
            "linecolor": "white",
            "ticks": ""
           },
           "bgcolor": "#E5ECF6",
           "caxis": {
            "gridcolor": "white",
            "linecolor": "white",
            "ticks": ""
           }
          },
          "title": {
           "x": 0.05
          },
          "xaxis": {
           "automargin": true,
           "gridcolor": "white",
           "linecolor": "white",
           "ticks": "",
           "title": {
            "standoff": 15
           },
           "zerolinecolor": "white",
           "zerolinewidth": 2
          },
          "yaxis": {
           "automargin": true,
           "gridcolor": "white",
           "linecolor": "white",
           "ticks": "",
           "title": {
            "standoff": 15
           },
           "zerolinecolor": "white",
           "zerolinewidth": 2
          }
         }
        },
        "title": {
         "text": "Distribution of RMSE in the dataset"
        },
        "width": 900,
        "xaxis": {
         "anchor": "y",
         "domain": [
          0,
          1
         ],
         "range": [
          0,
          1
         ],
         "tickfont": {
          "size": 15
         },
         "title": {
          "font": {
           "size": 15
          },
          "text": "rmse"
         }
        },
        "xaxis2": {
         "anchor": "y2",
         "domain": [
          0,
          1
         ],
         "matches": "x",
         "showgrid": true,
         "showticklabels": false
        },
        "yaxis": {
         "anchor": "x",
         "domain": [
          0,
          0.7326
         ],
         "tickfont": {
          "size": 15
         },
         "title": {
          "font": {
           "size": 15
          },
          "text": "Probability Density"
         }
        },
        "yaxis2": {
         "anchor": "x2",
         "domain": [
          0.7426,
          1
         ],
         "matches": "y2",
         "showgrid": false,
         "showline": false,
         "showticklabels": false,
         "ticks": ""
        }
       }
      }
     },
     "metadata": {},
     "output_type": "display_data"
    }
   ],
   "source": [
    "fig = px.histogram(combined_metrics,\n",
    "                   x=\"RMSE\",\n",
    "                   color=combined_metrics[\"algorithm\"],\n",
    "                   pattern_shape=combined_metrics[\"algorithm\"],\n",
    "                   marginal=\"box\",\n",
    "                   nbins=500,\n",
    "                   barmode=\"overlay\",\n",
    "                   histnorm=\"probability density\")\n",
    "fig = format_plot(fig, xlabel=\"rmse\", ylabel=\"Probability Density\")\n",
    "fig.update_layout(title=\"Distribution of RMSE in the dataset\", xaxis_range=[0,1])\n",
    "fig.write_image(dst_img/\"dl_rmse_dist.png\")\n",
    "fig.show()"
   ]
  },
  {
   "cell_type": "code",
   "execution_count": null,
   "id": "cbe8d7cf",
   "metadata": {},
   "outputs": [
    {
     "data": {
      "application/vnd.plotly.v1+json": {
       "config": {
        "plotlyServerURL": "https://plot.ly"
       },
       "data": [
        {
         "bingroup": "x",
         "histnorm": "probability density",
         "hovertemplate": "algorithm=LSTM<br>Forecast Bias=%{x}<br>probability density=%{y}<extra></extra>",
         "legendgroup": "LSTM",
         "marker": {
          "color": "#636efa",
          "opacity": 0.5,
          "pattern": {
           "shape": ""
          }
         },
         "name": "LSTM",
         "nbinsx": 500,
         "orientation": "v",
         "showlegend": true,
         "type": "histogram",
         "x": {
          "bdata": "cpbXC6RJ478FWyufh9AOQLBz5qJnBzNAW5BM3omfI0Akn5o3+4n5P07boZBgPgbA6aoB0RyTFkDWjynt9WkgwHDQ7rnsv+G/aCR97IOZJECRCb7gdroeQAaRgyPDowhA3oKzjzBkBkDFigOfR0j8P7flzEc4hjFAedRXcmGwHUBES/5OxZMpQMvhTs5L1vE/RspBQ9PhFEAoNgXceNgYQEERPqFxUwVA3e0nunAt8r9+rcwNxEDKP6muSMUl2xFAFRXVGthM57+ADu/47HzfP06JNMQXXBlAK23G6GGG9T+RfjvtxBoAQP6k5W+vqCNAp3cfg37iHUB42C1lA2UQQHmTNrQwvxVAVVor2oKnCMB45UZ9QRofQGopU2OEAyRAVZGBtNljC8AHoppD6KQjQH+qT1ucRxtAocLp9gafI0C/Q+xiHjYkQJiX4p10ISBAplJFPoMX1b+hUSVrBLAiwFWWvQQadSNAQeBv4OE9FEDYm0XUobEXQJfB4e1/DR1Ave4gyoLKGUCUJbCtBdQgQA==",
          "dtype": "f8"
         },
         "xaxis": "x",
         "yaxis": "y"
        },
        {
         "hovertemplate": "algorithm=LSTM<br>Forecast Bias=%{x}<extra></extra>",
         "legendgroup": "LSTM",
         "marker": {
          "color": "#636efa"
         },
         "name": "LSTM",
         "notched": true,
         "showlegend": false,
         "type": "box",
         "x": {
          "bdata": "cpbXC6RJ478FWyufh9AOQLBz5qJnBzNAW5BM3omfI0Akn5o3+4n5P07boZBgPgbA6aoB0RyTFkDWjynt9WkgwHDQ7rnsv+G/aCR97IOZJECRCb7gdroeQAaRgyPDowhA3oKzjzBkBkDFigOfR0j8P7flzEc4hjFAedRXcmGwHUBES/5OxZMpQMvhTs5L1vE/RspBQ9PhFEAoNgXceNgYQEERPqFxUwVA3e0nunAt8r9+rcwNxEDKP6muSMUl2xFAFRXVGthM57+ADu/47HzfP06JNMQXXBlAK23G6GGG9T+RfjvtxBoAQP6k5W+vqCNAp3cfg37iHUB42C1lA2UQQHmTNrQwvxVAVVor2oKnCMB45UZ9QRofQGopU2OEAyRAVZGBtNljC8AHoppD6KQjQH+qT1ucRxtAocLp9gafI0C/Q+xiHjYkQJiX4p10ISBAplJFPoMX1b+hUSVrBLAiwFWWvQQadSNAQeBv4OE9FEDYm0XUobEXQJfB4e1/DR1Ave4gyoLKGUCUJbCtBdQgQA==",
          "dtype": "f8"
         },
         "xaxis": "x2",
         "yaxis": "y2"
        },
        {
         "bingroup": "x",
         "histnorm": "probability density",
         "hovertemplate": "algorithm=TSMixer<br>Forecast Bias=%{x}<br>probability density=%{y}<extra></extra>",
         "legendgroup": "TSMixer",
         "marker": {
          "color": "#EF553B",
          "opacity": 0.5,
          "pattern": {
           "shape": "/"
          }
         },
         "name": "TSMixer",
         "nbinsx": 500,
         "orientation": "v",
         "showlegend": true,
         "type": "histogram",
         "x": {
          "bdata": "KzaBydy6KEBCU0tAsEUqQMEJohnMS0RA4OY1l77qKEAUE8NiWlMwQKiNMAQ8sTBAe/RlQF1DI0ByDN5Ce7MqQMfHVPJb9ChAeehHVVXgKEBoDALiE60rQDx3//NBiSxAA1djeDnbMUAh7MG/4BIoQE2Tt0ulohhAwUmLUfcbJUC/YVJM7LUyQFd4lJYqOipApMLRRVRQKUBkh0iPIEYoQICinc5cECVARajq+fTON0DiFcDv7zMzQKlO41qbfyVAZANNBw/QMUAIxOu83PAiQA+QrqCWMyxAjuDDY3nKK0AoRA6rrK4rQPF3XxMFnihA2jUZmvncI0CAc7yJ0hUhQHLS5xQPJy5AeoWKwDgNLUBE7G2UBzMlQBm6SQaB6TFAQZvg0JwQMUBWwFRi/x8pQL5n34E57CVAHxcf/eNEMEDHjGx5KRg/QMpYppd9lSVAsotziyxGJ0CpX/y4rRExQNAhoYzEqShAeN2atpfILEDr0UHhZaEpQPsgS6yUCChAd3AAwcdrLkALwloTgfssQA==",
          "dtype": "f8"
         },
         "xaxis": "x",
         "yaxis": "y"
        },
        {
         "hovertemplate": "algorithm=TSMixer<br>Forecast Bias=%{x}<extra></extra>",
         "legendgroup": "TSMixer",
         "marker": {
          "color": "#EF553B"
         },
         "name": "TSMixer",
         "notched": true,
         "showlegend": false,
         "type": "box",
         "x": {
          "bdata": "KzaBydy6KEBCU0tAsEUqQMEJohnMS0RA4OY1l77qKEAUE8NiWlMwQKiNMAQ8sTBAe/RlQF1DI0ByDN5Ce7MqQMfHVPJb9ChAeehHVVXgKEBoDALiE60rQDx3//NBiSxAA1djeDnbMUAh7MG/4BIoQE2Tt0ulohhAwUmLUfcbJUC/YVJM7LUyQFd4lJYqOipApMLRRVRQKUBkh0iPIEYoQICinc5cECVARajq+fTON0DiFcDv7zMzQKlO41qbfyVAZANNBw/QMUAIxOu83PAiQA+QrqCWMyxAjuDDY3nKK0AoRA6rrK4rQPF3XxMFnihA2jUZmvncI0CAc7yJ0hUhQHLS5xQPJy5AeoWKwDgNLUBE7G2UBzMlQBm6SQaB6TFAQZvg0JwQMUBWwFRi/x8pQL5n34E57CVAHxcf/eNEMEDHjGx5KRg/QMpYppd9lSVAsotziyxGJ0CpX/y4rRExQNAhoYzEqShAeN2atpfILEDr0UHhZaEpQPsgS6yUCChAd3AAwcdrLkALwloTgfssQA==",
          "dtype": "f8"
         },
         "xaxis": "x2",
         "yaxis": "y2"
        }
       ],
       "layout": {
        "autosize": false,
        "barmode": "overlay",
        "height": 500,
        "legend": {
         "font": {
          "size": 15
         },
         "orientation": "h",
         "title": {},
         "tracegroupgap": 0,
         "x": 1,
         "xanchor": "right",
         "y": 0.98,
         "yanchor": "bottom"
        },
        "margin": {
         "t": 60
        },
        "template": {
         "data": {
          "bar": [
           {
            "error_x": {
             "color": "#2a3f5f"
            },
            "error_y": {
             "color": "#2a3f5f"
            },
            "marker": {
             "line": {
              "color": "#E5ECF6",
              "width": 0.5
             },
             "pattern": {
              "fillmode": "overlay",
              "size": 10,
              "solidity": 0.2
             }
            },
            "type": "bar"
           }
          ],
          "barpolar": [
           {
            "marker": {
             "line": {
              "color": "#E5ECF6",
              "width": 0.5
             },
             "pattern": {
              "fillmode": "overlay",
              "size": 10,
              "solidity": 0.2
             }
            },
            "type": "barpolar"
           }
          ],
          "carpet": [
           {
            "aaxis": {
             "endlinecolor": "#2a3f5f",
             "gridcolor": "white",
             "linecolor": "white",
             "minorgridcolor": "white",
             "startlinecolor": "#2a3f5f"
            },
            "baxis": {
             "endlinecolor": "#2a3f5f",
             "gridcolor": "white",
             "linecolor": "white",
             "minorgridcolor": "white",
             "startlinecolor": "#2a3f5f"
            },
            "type": "carpet"
           }
          ],
          "choropleth": [
           {
            "colorbar": {
             "outlinewidth": 0,
             "ticks": ""
            },
            "type": "choropleth"
           }
          ],
          "contour": [
           {
            "colorbar": {
             "outlinewidth": 0,
             "ticks": ""
            },
            "colorscale": [
             [
              0,
              "#0d0887"
             ],
             [
              0.1111111111111111,
              "#46039f"
             ],
             [
              0.2222222222222222,
              "#7201a8"
             ],
             [
              0.3333333333333333,
              "#9c179e"
             ],
             [
              0.4444444444444444,
              "#bd3786"
             ],
             [
              0.5555555555555556,
              "#d8576b"
             ],
             [
              0.6666666666666666,
              "#ed7953"
             ],
             [
              0.7777777777777778,
              "#fb9f3a"
             ],
             [
              0.8888888888888888,
              "#fdca26"
             ],
             [
              1,
              "#f0f921"
             ]
            ],
            "type": "contour"
           }
          ],
          "contourcarpet": [
           {
            "colorbar": {
             "outlinewidth": 0,
             "ticks": ""
            },
            "type": "contourcarpet"
           }
          ],
          "heatmap": [
           {
            "colorbar": {
             "outlinewidth": 0,
             "ticks": ""
            },
            "colorscale": [
             [
              0,
              "#0d0887"
             ],
             [
              0.1111111111111111,
              "#46039f"
             ],
             [
              0.2222222222222222,
              "#7201a8"
             ],
             [
              0.3333333333333333,
              "#9c179e"
             ],
             [
              0.4444444444444444,
              "#bd3786"
             ],
             [
              0.5555555555555556,
              "#d8576b"
             ],
             [
              0.6666666666666666,
              "#ed7953"
             ],
             [
              0.7777777777777778,
              "#fb9f3a"
             ],
             [
              0.8888888888888888,
              "#fdca26"
             ],
             [
              1,
              "#f0f921"
             ]
            ],
            "type": "heatmap"
           }
          ],
          "histogram": [
           {
            "marker": {
             "pattern": {
              "fillmode": "overlay",
              "size": 10,
              "solidity": 0.2
             }
            },
            "type": "histogram"
           }
          ],
          "histogram2d": [
           {
            "colorbar": {
             "outlinewidth": 0,
             "ticks": ""
            },
            "colorscale": [
             [
              0,
              "#0d0887"
             ],
             [
              0.1111111111111111,
              "#46039f"
             ],
             [
              0.2222222222222222,
              "#7201a8"
             ],
             [
              0.3333333333333333,
              "#9c179e"
             ],
             [
              0.4444444444444444,
              "#bd3786"
             ],
             [
              0.5555555555555556,
              "#d8576b"
             ],
             [
              0.6666666666666666,
              "#ed7953"
             ],
             [
              0.7777777777777778,
              "#fb9f3a"
             ],
             [
              0.8888888888888888,
              "#fdca26"
             ],
             [
              1,
              "#f0f921"
             ]
            ],
            "type": "histogram2d"
           }
          ],
          "histogram2dcontour": [
           {
            "colorbar": {
             "outlinewidth": 0,
             "ticks": ""
            },
            "colorscale": [
             [
              0,
              "#0d0887"
             ],
             [
              0.1111111111111111,
              "#46039f"
             ],
             [
              0.2222222222222222,
              "#7201a8"
             ],
             [
              0.3333333333333333,
              "#9c179e"
             ],
             [
              0.4444444444444444,
              "#bd3786"
             ],
             [
              0.5555555555555556,
              "#d8576b"
             ],
             [
              0.6666666666666666,
              "#ed7953"
             ],
             [
              0.7777777777777778,
              "#fb9f3a"
             ],
             [
              0.8888888888888888,
              "#fdca26"
             ],
             [
              1,
              "#f0f921"
             ]
            ],
            "type": "histogram2dcontour"
           }
          ],
          "mesh3d": [
           {
            "colorbar": {
             "outlinewidth": 0,
             "ticks": ""
            },
            "type": "mesh3d"
           }
          ],
          "parcoords": [
           {
            "line": {
             "colorbar": {
              "outlinewidth": 0,
              "ticks": ""
             }
            },
            "type": "parcoords"
           }
          ],
          "pie": [
           {
            "automargin": true,
            "type": "pie"
           }
          ],
          "scatter": [
           {
            "fillpattern": {
             "fillmode": "overlay",
             "size": 10,
             "solidity": 0.2
            },
            "type": "scatter"
           }
          ],
          "scatter3d": [
           {
            "line": {
             "colorbar": {
              "outlinewidth": 0,
              "ticks": ""
             }
            },
            "marker": {
             "colorbar": {
              "outlinewidth": 0,
              "ticks": ""
             }
            },
            "type": "scatter3d"
           }
          ],
          "scattercarpet": [
           {
            "marker": {
             "colorbar": {
              "outlinewidth": 0,
              "ticks": ""
             }
            },
            "type": "scattercarpet"
           }
          ],
          "scattergeo": [
           {
            "marker": {
             "colorbar": {
              "outlinewidth": 0,
              "ticks": ""
             }
            },
            "type": "scattergeo"
           }
          ],
          "scattergl": [
           {
            "marker": {
             "colorbar": {
              "outlinewidth": 0,
              "ticks": ""
             }
            },
            "type": "scattergl"
           }
          ],
          "scattermap": [
           {
            "marker": {
             "colorbar": {
              "outlinewidth": 0,
              "ticks": ""
             }
            },
            "type": "scattermap"
           }
          ],
          "scattermapbox": [
           {
            "marker": {
             "colorbar": {
              "outlinewidth": 0,
              "ticks": ""
             }
            },
            "type": "scattermapbox"
           }
          ],
          "scatterpolar": [
           {
            "marker": {
             "colorbar": {
              "outlinewidth": 0,
              "ticks": ""
             }
            },
            "type": "scatterpolar"
           }
          ],
          "scatterpolargl": [
           {
            "marker": {
             "colorbar": {
              "outlinewidth": 0,
              "ticks": ""
             }
            },
            "type": "scatterpolargl"
           }
          ],
          "scatterternary": [
           {
            "marker": {
             "colorbar": {
              "outlinewidth": 0,
              "ticks": ""
             }
            },
            "type": "scatterternary"
           }
          ],
          "surface": [
           {
            "colorbar": {
             "outlinewidth": 0,
             "ticks": ""
            },
            "colorscale": [
             [
              0,
              "#0d0887"
             ],
             [
              0.1111111111111111,
              "#46039f"
             ],
             [
              0.2222222222222222,
              "#7201a8"
             ],
             [
              0.3333333333333333,
              "#9c179e"
             ],
             [
              0.4444444444444444,
              "#bd3786"
             ],
             [
              0.5555555555555556,
              "#d8576b"
             ],
             [
              0.6666666666666666,
              "#ed7953"
             ],
             [
              0.7777777777777778,
              "#fb9f3a"
             ],
             [
              0.8888888888888888,
              "#fdca26"
             ],
             [
              1,
              "#f0f921"
             ]
            ],
            "type": "surface"
           }
          ],
          "table": [
           {
            "cells": {
             "fill": {
              "color": "#EBF0F8"
             },
             "line": {
              "color": "white"
             }
            },
            "header": {
             "fill": {
              "color": "#C8D4E3"
             },
             "line": {
              "color": "white"
             }
            },
            "type": "table"
           }
          ]
         },
         "layout": {
          "annotationdefaults": {
           "arrowcolor": "#2a3f5f",
           "arrowhead": 0,
           "arrowwidth": 1
          },
          "autotypenumbers": "strict",
          "coloraxis": {
           "colorbar": {
            "outlinewidth": 0,
            "ticks": ""
           }
          },
          "colorscale": {
           "diverging": [
            [
             0,
             "#8e0152"
            ],
            [
             0.1,
             "#c51b7d"
            ],
            [
             0.2,
             "#de77ae"
            ],
            [
             0.3,
             "#f1b6da"
            ],
            [
             0.4,
             "#fde0ef"
            ],
            [
             0.5,
             "#f7f7f7"
            ],
            [
             0.6,
             "#e6f5d0"
            ],
            [
             0.7,
             "#b8e186"
            ],
            [
             0.8,
             "#7fbc41"
            ],
            [
             0.9,
             "#4d9221"
            ],
            [
             1,
             "#276419"
            ]
           ],
           "sequential": [
            [
             0,
             "#0d0887"
            ],
            [
             0.1111111111111111,
             "#46039f"
            ],
            [
             0.2222222222222222,
             "#7201a8"
            ],
            [
             0.3333333333333333,
             "#9c179e"
            ],
            [
             0.4444444444444444,
             "#bd3786"
            ],
            [
             0.5555555555555556,
             "#d8576b"
            ],
            [
             0.6666666666666666,
             "#ed7953"
            ],
            [
             0.7777777777777778,
             "#fb9f3a"
            ],
            [
             0.8888888888888888,
             "#fdca26"
            ],
            [
             1,
             "#f0f921"
            ]
           ],
           "sequentialminus": [
            [
             0,
             "#0d0887"
            ],
            [
             0.1111111111111111,
             "#46039f"
            ],
            [
             0.2222222222222222,
             "#7201a8"
            ],
            [
             0.3333333333333333,
             "#9c179e"
            ],
            [
             0.4444444444444444,
             "#bd3786"
            ],
            [
             0.5555555555555556,
             "#d8576b"
            ],
            [
             0.6666666666666666,
             "#ed7953"
            ],
            [
             0.7777777777777778,
             "#fb9f3a"
            ],
            [
             0.8888888888888888,
             "#fdca26"
            ],
            [
             1,
             "#f0f921"
            ]
           ]
          },
          "colorway": [
           "#636efa",
           "#EF553B",
           "#00cc96",
           "#ab63fa",
           "#FFA15A",
           "#19d3f3",
           "#FF6692",
           "#B6E880",
           "#FF97FF",
           "#FECB52"
          ],
          "font": {
           "color": "#2a3f5f"
          },
          "geo": {
           "bgcolor": "white",
           "lakecolor": "white",
           "landcolor": "#E5ECF6",
           "showlakes": true,
           "showland": true,
           "subunitcolor": "white"
          },
          "hoverlabel": {
           "align": "left"
          },
          "hovermode": "closest",
          "mapbox": {
           "style": "light"
          },
          "paper_bgcolor": "white",
          "plot_bgcolor": "#E5ECF6",
          "polar": {
           "angularaxis": {
            "gridcolor": "white",
            "linecolor": "white",
            "ticks": ""
           },
           "bgcolor": "#E5ECF6",
           "radialaxis": {
            "gridcolor": "white",
            "linecolor": "white",
            "ticks": ""
           }
          },
          "scene": {
           "xaxis": {
            "backgroundcolor": "#E5ECF6",
            "gridcolor": "white",
            "gridwidth": 2,
            "linecolor": "white",
            "showbackground": true,
            "ticks": "",
            "zerolinecolor": "white"
           },
           "yaxis": {
            "backgroundcolor": "#E5ECF6",
            "gridcolor": "white",
            "gridwidth": 2,
            "linecolor": "white",
            "showbackground": true,
            "ticks": "",
            "zerolinecolor": "white"
           },
           "zaxis": {
            "backgroundcolor": "#E5ECF6",
            "gridcolor": "white",
            "gridwidth": 2,
            "linecolor": "white",
            "showbackground": true,
            "ticks": "",
            "zerolinecolor": "white"
           }
          },
          "shapedefaults": {
           "line": {
            "color": "#2a3f5f"
           }
          },
          "ternary": {
           "aaxis": {
            "gridcolor": "white",
            "linecolor": "white",
            "ticks": ""
           },
           "baxis": {
            "gridcolor": "white",
            "linecolor": "white",
            "ticks": ""
           },
           "bgcolor": "#E5ECF6",
           "caxis": {
            "gridcolor": "white",
            "linecolor": "white",
            "ticks": ""
           }
          },
          "title": {
           "x": 0.05
          },
          "xaxis": {
           "automargin": true,
           "gridcolor": "white",
           "linecolor": "white",
           "ticks": "",
           "title": {
            "standoff": 15
           },
           "zerolinecolor": "white",
           "zerolinewidth": 2
          },
          "yaxis": {
           "automargin": true,
           "gridcolor": "white",
           "linecolor": "white",
           "ticks": "",
           "title": {
            "standoff": 15
           },
           "zerolinecolor": "white",
           "zerolinewidth": 2
          }
         }
        },
        "title": {
         "text": "Distribution of Forecast Bias in the dataset"
        },
        "width": 900,
        "xaxis": {
         "anchor": "y",
         "domain": [
          0,
          1
         ],
         "range": [
          -10,
          20
         ],
         "tickfont": {
          "size": 15
         },
         "title": {
          "font": {
           "size": 15
          },
          "text": "forecast bias"
         }
        },
        "xaxis2": {
         "anchor": "y2",
         "domain": [
          0,
          1
         ],
         "matches": "x",
         "showgrid": true,
         "showticklabels": false
        },
        "yaxis": {
         "anchor": "x",
         "domain": [
          0,
          0.7326
         ],
         "tickfont": {
          "size": 15
         },
         "title": {
          "font": {
           "size": 15
          },
          "text": "Probability Density"
         }
        },
        "yaxis2": {
         "anchor": "x2",
         "domain": [
          0.7426,
          1
         ],
         "matches": "y2",
         "showgrid": false,
         "showline": false,
         "showticklabels": false,
         "ticks": ""
        }
       }
      }
     },
     "metadata": {},
     "output_type": "display_data"
    }
   ],
   "source": [
    "fig = px.histogram(combined_metrics,\n",
    "                   x=\"Forecast Bias\",\n",
    "                   color=combined_metrics[\"algorithm\"],\n",
    "                   pattern_shape=combined_metrics[\"algorithm\"],\n",
    "                   marginal=\"box\",\n",
    "                   nbins=500,\n",
    "                   barmode=\"overlay\",\n",
    "                   histnorm=\"probability density\")\n",
    "fig = format_plot(fig, xlabel=\"forecast bias\", ylabel=\"Probability Density\")\n",
    "fig.update_layout(title=\"Distribution of Forecast Bias in the dataset\", xaxis_range=[-10,20])\n",
    "fig.write_image(dst_img/\"dl_bias_dist.png\")\n",
    "fig.show()"
   ]
  },
  {
   "cell_type": "code",
   "execution_count": 22,
   "id": "b73db78c",
   "metadata": {},
   "outputs": [],
   "source": [
    "display_lclid = \"MAC000061\"\n",
    "ts_baseline_test_pred_df = combined_predictions.loc[combined_predictions.household_id==display_lclid]\n",
    "ts_aggtest_metrics = combined_metrics.loc[combined_metrics.household_id==display_lclid]"
   ]
  },
  {
   "cell_type": "code",
   "execution_count": 23,
   "id": "622bd3aa",
   "metadata": {},
   "outputs": [],
   "source": [
    "lstm_data = ts_baseline_test_pred_df[ts_baseline_test_pred_df['model'] == 'LSTM'].copy()\n",
    "tsmixer_data = ts_baseline_test_pred_df[ts_baseline_test_pred_df['model'] == 'TSMixer'].copy()"
   ]
  },
  {
   "cell_type": "code",
   "execution_count": null,
   "id": "d31e88d9",
   "metadata": {},
   "outputs": [
    {
     "data": {
      "application/vnd.plotly.v1+json": {
       "config": {
        "plotlyServerURL": "https://plot.ly"
       },
       "data": [
        {
         "line": {
          "color": "rgba(27,158,119, 0.3)"
         },
         "mode": "lines",
         "name": "Actual Consumption",
         "type": "scatter",
         "x": [
          "2014-02-01T00:00:00.000000000",
          "2014-02-01T00:30:00.000000000",
          "2014-02-01T01:00:00.000000000",
          "2014-02-01T01:30:00.000000000",
          "2014-02-01T02:00:00.000000000",
          "2014-02-01T02:30:00.000000000",
          "2014-02-01T03:00:00.000000000",
          "2014-02-01T03:30:00.000000000",
          "2014-02-01T04:00:00.000000000",
          "2014-02-01T04:30:00.000000000",
          "2014-02-01T05:00:00.000000000",
          "2014-02-01T05:30:00.000000000",
          "2014-02-01T06:00:00.000000000",
          "2014-02-01T06:30:00.000000000",
          "2014-02-01T07:00:00.000000000",
          "2014-02-01T07:30:00.000000000",
          "2014-02-01T08:00:00.000000000",
          "2014-02-01T08:30:00.000000000",
          "2014-02-01T09:00:00.000000000",
          "2014-02-01T09:30:00.000000000",
          "2014-02-01T10:00:00.000000000",
          "2014-02-01T10:30:00.000000000",
          "2014-02-01T11:00:00.000000000",
          "2014-02-01T11:30:00.000000000",
          "2014-02-01T12:00:00.000000000",
          "2014-02-01T12:30:00.000000000",
          "2014-02-01T13:00:00.000000000",
          "2014-02-01T13:30:00.000000000",
          "2014-02-01T14:00:00.000000000",
          "2014-02-01T14:30:00.000000000",
          "2014-02-01T15:00:00.000000000",
          "2014-02-01T15:30:00.000000000",
          "2014-02-01T16:00:00.000000000",
          "2014-02-01T16:30:00.000000000",
          "2014-02-01T17:00:00.000000000",
          "2014-02-01T17:30:00.000000000",
          "2014-02-01T18:00:00.000000000",
          "2014-02-01T18:30:00.000000000",
          "2014-02-01T19:00:00.000000000",
          "2014-02-01T19:30:00.000000000",
          "2014-02-01T20:00:00.000000000",
          "2014-02-01T20:30:00.000000000",
          "2014-02-01T21:00:00.000000000",
          "2014-02-01T21:30:00.000000000",
          "2014-02-01T22:00:00.000000000",
          "2014-02-01T22:30:00.000000000",
          "2014-02-01T23:00:00.000000000",
          "2014-02-01T23:30:00.000000000",
          "2014-02-02T00:00:00.000000000",
          "2014-02-02T00:30:00.000000000",
          "2014-02-02T01:00:00.000000000",
          "2014-02-02T01:30:00.000000000",
          "2014-02-02T02:00:00.000000000",
          "2014-02-02T02:30:00.000000000",
          "2014-02-02T03:00:00.000000000",
          "2014-02-02T03:30:00.000000000",
          "2014-02-02T04:00:00.000000000",
          "2014-02-02T04:30:00.000000000",
          "2014-02-02T05:00:00.000000000",
          "2014-02-02T05:30:00.000000000",
          "2014-02-02T06:00:00.000000000",
          "2014-02-02T06:30:00.000000000",
          "2014-02-02T07:00:00.000000000",
          "2014-02-02T07:30:00.000000000",
          "2014-02-02T08:00:00.000000000",
          "2014-02-02T08:30:00.000000000",
          "2014-02-02T09:00:00.000000000",
          "2014-02-02T09:30:00.000000000",
          "2014-02-02T10:00:00.000000000",
          "2014-02-02T10:30:00.000000000",
          "2014-02-02T11:00:00.000000000",
          "2014-02-02T11:30:00.000000000",
          "2014-02-02T12:00:00.000000000",
          "2014-02-02T12:30:00.000000000",
          "2014-02-02T13:00:00.000000000",
          "2014-02-02T13:30:00.000000000",
          "2014-02-02T14:00:00.000000000",
          "2014-02-02T14:30:00.000000000",
          "2014-02-02T15:00:00.000000000",
          "2014-02-02T15:30:00.000000000",
          "2014-02-02T16:00:00.000000000",
          "2014-02-02T16:30:00.000000000",
          "2014-02-02T17:00:00.000000000",
          "2014-02-02T17:30:00.000000000",
          "2014-02-02T18:00:00.000000000",
          "2014-02-02T18:30:00.000000000",
          "2014-02-02T19:00:00.000000000",
          "2014-02-02T19:30:00.000000000",
          "2014-02-02T20:00:00.000000000",
          "2014-02-02T20:30:00.000000000",
          "2014-02-02T21:00:00.000000000",
          "2014-02-02T21:30:00.000000000",
          "2014-02-02T22:00:00.000000000",
          "2014-02-02T22:30:00.000000000",
          "2014-02-02T23:00:00.000000000",
          "2014-02-02T23:30:00.000000000",
          "2014-02-03T00:00:00.000000000",
          "2014-02-03T00:30:00.000000000",
          "2014-02-03T01:00:00.000000000",
          "2014-02-03T01:30:00.000000000",
          "2014-02-03T02:00:00.000000000",
          "2014-02-03T02:30:00.000000000",
          "2014-02-03T03:00:00.000000000",
          "2014-02-03T03:30:00.000000000",
          "2014-02-03T04:00:00.000000000",
          "2014-02-03T04:30:00.000000000",
          "2014-02-03T05:00:00.000000000",
          "2014-02-03T05:30:00.000000000",
          "2014-02-03T06:00:00.000000000",
          "2014-02-03T06:30:00.000000000",
          "2014-02-03T07:00:00.000000000",
          "2014-02-03T07:30:00.000000000",
          "2014-02-03T08:00:00.000000000",
          "2014-02-03T08:30:00.000000000",
          "2014-02-03T09:00:00.000000000",
          "2014-02-03T09:30:00.000000000",
          "2014-02-03T10:00:00.000000000",
          "2014-02-03T10:30:00.000000000",
          "2014-02-03T11:00:00.000000000",
          "2014-02-03T11:30:00.000000000",
          "2014-02-03T12:00:00.000000000",
          "2014-02-03T12:30:00.000000000",
          "2014-02-03T13:00:00.000000000",
          "2014-02-03T13:30:00.000000000",
          "2014-02-03T14:00:00.000000000",
          "2014-02-03T14:30:00.000000000",
          "2014-02-03T15:00:00.000000000",
          "2014-02-03T15:30:00.000000000",
          "2014-02-03T16:00:00.000000000",
          "2014-02-03T16:30:00.000000000",
          "2014-02-03T17:00:00.000000000",
          "2014-02-03T17:30:00.000000000",
          "2014-02-03T18:00:00.000000000",
          "2014-02-03T18:30:00.000000000",
          "2014-02-03T19:00:00.000000000",
          "2014-02-03T19:30:00.000000000",
          "2014-02-03T20:00:00.000000000",
          "2014-02-03T20:30:00.000000000",
          "2014-02-03T21:00:00.000000000",
          "2014-02-03T21:30:00.000000000",
          "2014-02-03T22:00:00.000000000",
          "2014-02-03T22:30:00.000000000",
          "2014-02-03T23:00:00.000000000",
          "2014-02-03T23:30:00.000000000",
          "2014-02-04T00:00:00.000000000",
          "2014-02-04T00:30:00.000000000",
          "2014-02-04T01:00:00.000000000",
          "2014-02-04T01:30:00.000000000",
          "2014-02-04T02:00:00.000000000",
          "2014-02-04T02:30:00.000000000",
          "2014-02-04T03:00:00.000000000",
          "2014-02-04T03:30:00.000000000",
          "2014-02-04T04:00:00.000000000",
          "2014-02-04T04:30:00.000000000",
          "2014-02-04T05:00:00.000000000",
          "2014-02-04T05:30:00.000000000",
          "2014-02-04T06:00:00.000000000",
          "2014-02-04T06:30:00.000000000",
          "2014-02-04T07:00:00.000000000",
          "2014-02-04T07:30:00.000000000",
          "2014-02-04T08:00:00.000000000",
          "2014-02-04T08:30:00.000000000",
          "2014-02-04T09:00:00.000000000",
          "2014-02-04T09:30:00.000000000",
          "2014-02-04T10:00:00.000000000",
          "2014-02-04T10:30:00.000000000",
          "2014-02-04T11:00:00.000000000",
          "2014-02-04T11:30:00.000000000",
          "2014-02-04T12:00:00.000000000",
          "2014-02-04T12:30:00.000000000",
          "2014-02-04T13:00:00.000000000",
          "2014-02-04T13:30:00.000000000",
          "2014-02-04T14:00:00.000000000",
          "2014-02-04T14:30:00.000000000",
          "2014-02-04T15:00:00.000000000",
          "2014-02-04T15:30:00.000000000",
          "2014-02-04T16:00:00.000000000",
          "2014-02-04T16:30:00.000000000",
          "2014-02-04T17:00:00.000000000",
          "2014-02-04T17:30:00.000000000",
          "2014-02-04T18:00:00.000000000",
          "2014-02-04T18:30:00.000000000",
          "2014-02-04T19:00:00.000000000",
          "2014-02-04T19:30:00.000000000",
          "2014-02-04T20:00:00.000000000",
          "2014-02-04T20:30:00.000000000",
          "2014-02-04T21:00:00.000000000",
          "2014-02-04T21:30:00.000000000",
          "2014-02-04T22:00:00.000000000",
          "2014-02-04T22:30:00.000000000",
          "2014-02-04T23:00:00.000000000",
          "2014-02-04T23:30:00.000000000",
          "2014-02-05T00:00:00.000000000",
          "2014-02-05T00:30:00.000000000",
          "2014-02-05T01:00:00.000000000",
          "2014-02-05T01:30:00.000000000",
          "2014-02-05T02:00:00.000000000",
          "2014-02-05T02:30:00.000000000",
          "2014-02-05T03:00:00.000000000",
          "2014-02-05T03:30:00.000000000",
          "2014-02-05T04:00:00.000000000",
          "2014-02-05T04:30:00.000000000",
          "2014-02-05T05:00:00.000000000",
          "2014-02-05T05:30:00.000000000",
          "2014-02-05T06:00:00.000000000",
          "2014-02-05T06:30:00.000000000",
          "2014-02-05T07:00:00.000000000",
          "2014-02-05T07:30:00.000000000",
          "2014-02-05T08:00:00.000000000",
          "2014-02-05T08:30:00.000000000",
          "2014-02-05T09:00:00.000000000",
          "2014-02-05T09:30:00.000000000",
          "2014-02-05T10:00:00.000000000",
          "2014-02-05T10:30:00.000000000",
          "2014-02-05T11:00:00.000000000",
          "2014-02-05T11:30:00.000000000",
          "2014-02-05T12:00:00.000000000",
          "2014-02-05T12:30:00.000000000",
          "2014-02-05T13:00:00.000000000",
          "2014-02-05T13:30:00.000000000",
          "2014-02-05T14:00:00.000000000",
          "2014-02-05T14:30:00.000000000",
          "2014-02-05T15:00:00.000000000",
          "2014-02-05T15:30:00.000000000",
          "2014-02-05T16:00:00.000000000",
          "2014-02-05T16:30:00.000000000",
          "2014-02-05T17:00:00.000000000",
          "2014-02-05T17:30:00.000000000",
          "2014-02-05T18:00:00.000000000",
          "2014-02-05T18:30:00.000000000",
          "2014-02-05T19:00:00.000000000",
          "2014-02-05T19:30:00.000000000",
          "2014-02-05T20:00:00.000000000",
          "2014-02-05T20:30:00.000000000",
          "2014-02-05T21:00:00.000000000",
          "2014-02-05T21:30:00.000000000",
          "2014-02-05T22:00:00.000000000",
          "2014-02-05T22:30:00.000000000",
          "2014-02-05T23:00:00.000000000",
          "2014-02-05T23:30:00.000000000",
          "2014-02-06T00:00:00.000000000",
          "2014-02-06T00:30:00.000000000",
          "2014-02-06T01:00:00.000000000",
          "2014-02-06T01:30:00.000000000",
          "2014-02-06T02:00:00.000000000",
          "2014-02-06T02:30:00.000000000",
          "2014-02-06T03:00:00.000000000",
          "2014-02-06T03:30:00.000000000",
          "2014-02-06T04:00:00.000000000",
          "2014-02-06T04:30:00.000000000",
          "2014-02-06T05:00:00.000000000",
          "2014-02-06T05:30:00.000000000",
          "2014-02-06T06:00:00.000000000",
          "2014-02-06T06:30:00.000000000",
          "2014-02-06T07:00:00.000000000",
          "2014-02-06T07:30:00.000000000",
          "2014-02-06T08:00:00.000000000",
          "2014-02-06T08:30:00.000000000",
          "2014-02-06T09:00:00.000000000",
          "2014-02-06T09:30:00.000000000",
          "2014-02-06T10:00:00.000000000",
          "2014-02-06T10:30:00.000000000",
          "2014-02-06T11:00:00.000000000",
          "2014-02-06T11:30:00.000000000",
          "2014-02-06T12:00:00.000000000",
          "2014-02-06T12:30:00.000000000",
          "2014-02-06T13:00:00.000000000",
          "2014-02-06T13:30:00.000000000",
          "2014-02-06T14:00:00.000000000",
          "2014-02-06T14:30:00.000000000",
          "2014-02-06T15:00:00.000000000",
          "2014-02-06T15:30:00.000000000",
          "2014-02-06T16:00:00.000000000",
          "2014-02-06T16:30:00.000000000",
          "2014-02-06T17:00:00.000000000",
          "2014-02-06T17:30:00.000000000",
          "2014-02-06T18:00:00.000000000",
          "2014-02-06T18:30:00.000000000",
          "2014-02-06T19:00:00.000000000",
          "2014-02-06T19:30:00.000000000",
          "2014-02-06T20:00:00.000000000",
          "2014-02-06T20:30:00.000000000",
          "2014-02-06T21:00:00.000000000",
          "2014-02-06T21:30:00.000000000",
          "2014-02-06T22:00:00.000000000",
          "2014-02-06T22:30:00.000000000",
          "2014-02-06T23:00:00.000000000",
          "2014-02-06T23:30:00.000000000",
          "2014-02-07T00:00:00.000000000",
          "2014-02-07T00:30:00.000000000",
          "2014-02-07T01:00:00.000000000",
          "2014-02-07T01:30:00.000000000",
          "2014-02-07T02:00:00.000000000",
          "2014-02-07T02:30:00.000000000",
          "2014-02-07T03:00:00.000000000",
          "2014-02-07T03:30:00.000000000",
          "2014-02-07T04:00:00.000000000",
          "2014-02-07T04:30:00.000000000",
          "2014-02-07T05:00:00.000000000",
          "2014-02-07T05:30:00.000000000",
          "2014-02-07T06:00:00.000000000",
          "2014-02-07T06:30:00.000000000",
          "2014-02-07T07:00:00.000000000",
          "2014-02-07T07:30:00.000000000",
          "2014-02-07T08:00:00.000000000",
          "2014-02-07T08:30:00.000000000",
          "2014-02-07T09:00:00.000000000",
          "2014-02-07T09:30:00.000000000",
          "2014-02-07T10:00:00.000000000",
          "2014-02-07T10:30:00.000000000",
          "2014-02-07T11:00:00.000000000",
          "2014-02-07T11:30:00.000000000",
          "2014-02-07T12:00:00.000000000",
          "2014-02-07T12:30:00.000000000",
          "2014-02-07T13:00:00.000000000",
          "2014-02-07T13:30:00.000000000",
          "2014-02-07T14:00:00.000000000",
          "2014-02-07T14:30:00.000000000",
          "2014-02-07T15:00:00.000000000",
          "2014-02-07T15:30:00.000000000",
          "2014-02-07T16:00:00.000000000",
          "2014-02-07T16:30:00.000000000",
          "2014-02-07T17:00:00.000000000",
          "2014-02-07T17:30:00.000000000",
          "2014-02-07T18:00:00.000000000",
          "2014-02-07T18:30:00.000000000",
          "2014-02-07T19:00:00.000000000",
          "2014-02-07T19:30:00.000000000",
          "2014-02-07T20:00:00.000000000",
          "2014-02-07T20:30:00.000000000",
          "2014-02-07T21:00:00.000000000",
          "2014-02-07T21:30:00.000000000",
          "2014-02-07T22:00:00.000000000",
          "2014-02-07T22:30:00.000000000",
          "2014-02-07T23:00:00.000000000",
          "2014-02-07T23:30:00.000000000",
          "2014-02-08T00:00:00.000000000",
          "2014-02-08T00:30:00.000000000",
          "2014-02-08T01:00:00.000000000",
          "2014-02-08T01:30:00.000000000",
          "2014-02-08T02:00:00.000000000",
          "2014-02-08T02:30:00.000000000",
          "2014-02-08T03:00:00.000000000",
          "2014-02-08T03:30:00.000000000",
          "2014-02-08T04:00:00.000000000",
          "2014-02-08T04:30:00.000000000",
          "2014-02-08T05:00:00.000000000",
          "2014-02-08T05:30:00.000000000",
          "2014-02-08T06:00:00.000000000",
          "2014-02-08T06:30:00.000000000",
          "2014-02-08T07:00:00.000000000",
          "2014-02-08T07:30:00.000000000",
          "2014-02-08T08:00:00.000000000",
          "2014-02-08T08:30:00.000000000",
          "2014-02-08T09:00:00.000000000",
          "2014-02-08T09:30:00.000000000",
          "2014-02-08T10:00:00.000000000",
          "2014-02-08T10:30:00.000000000",
          "2014-02-08T11:00:00.000000000",
          "2014-02-08T11:30:00.000000000",
          "2014-02-08T12:00:00.000000000",
          "2014-02-08T12:30:00.000000000",
          "2014-02-08T13:00:00.000000000",
          "2014-02-08T13:30:00.000000000",
          "2014-02-08T14:00:00.000000000",
          "2014-02-08T14:30:00.000000000",
          "2014-02-08T15:00:00.000000000",
          "2014-02-08T15:30:00.000000000",
          "2014-02-08T16:00:00.000000000",
          "2014-02-08T16:30:00.000000000",
          "2014-02-08T17:00:00.000000000",
          "2014-02-08T17:30:00.000000000",
          "2014-02-08T18:00:00.000000000",
          "2014-02-08T18:30:00.000000000",
          "2014-02-08T19:00:00.000000000",
          "2014-02-08T19:30:00.000000000",
          "2014-02-08T20:00:00.000000000",
          "2014-02-08T20:30:00.000000000",
          "2014-02-08T21:00:00.000000000",
          "2014-02-08T21:30:00.000000000",
          "2014-02-08T22:00:00.000000000",
          "2014-02-08T22:30:00.000000000",
          "2014-02-08T23:00:00.000000000",
          "2014-02-08T23:30:00.000000000",
          "2014-02-09T00:00:00.000000000",
          "2014-02-09T00:30:00.000000000",
          "2014-02-09T01:00:00.000000000",
          "2014-02-09T01:30:00.000000000",
          "2014-02-09T02:00:00.000000000",
          "2014-02-09T02:30:00.000000000",
          "2014-02-09T03:00:00.000000000",
          "2014-02-09T03:30:00.000000000",
          "2014-02-09T04:00:00.000000000",
          "2014-02-09T04:30:00.000000000",
          "2014-02-09T05:00:00.000000000",
          "2014-02-09T05:30:00.000000000",
          "2014-02-09T06:00:00.000000000",
          "2014-02-09T06:30:00.000000000",
          "2014-02-09T07:00:00.000000000",
          "2014-02-09T07:30:00.000000000",
          "2014-02-09T08:00:00.000000000",
          "2014-02-09T08:30:00.000000000",
          "2014-02-09T09:00:00.000000000",
          "2014-02-09T09:30:00.000000000",
          "2014-02-09T10:00:00.000000000",
          "2014-02-09T10:30:00.000000000",
          "2014-02-09T11:00:00.000000000",
          "2014-02-09T11:30:00.000000000",
          "2014-02-09T12:00:00.000000000",
          "2014-02-09T12:30:00.000000000",
          "2014-02-09T13:00:00.000000000",
          "2014-02-09T13:30:00.000000000",
          "2014-02-09T14:00:00.000000000",
          "2014-02-09T14:30:00.000000000",
          "2014-02-09T15:00:00.000000000",
          "2014-02-09T15:30:00.000000000",
          "2014-02-09T16:00:00.000000000",
          "2014-02-09T16:30:00.000000000",
          "2014-02-09T17:00:00.000000000",
          "2014-02-09T17:30:00.000000000",
          "2014-02-09T18:00:00.000000000",
          "2014-02-09T18:30:00.000000000",
          "2014-02-09T19:00:00.000000000",
          "2014-02-09T19:30:00.000000000",
          "2014-02-09T20:00:00.000000000",
          "2014-02-09T20:30:00.000000000",
          "2014-02-09T21:00:00.000000000",
          "2014-02-09T21:30:00.000000000",
          "2014-02-09T22:00:00.000000000",
          "2014-02-09T22:30:00.000000000",
          "2014-02-09T23:00:00.000000000",
          "2014-02-09T23:30:00.000000000",
          "2014-02-10T00:00:00.000000000",
          "2014-02-10T00:30:00.000000000",
          "2014-02-10T01:00:00.000000000",
          "2014-02-10T01:30:00.000000000",
          "2014-02-10T02:00:00.000000000",
          "2014-02-10T02:30:00.000000000",
          "2014-02-10T03:00:00.000000000",
          "2014-02-10T03:30:00.000000000",
          "2014-02-10T04:00:00.000000000",
          "2014-02-10T04:30:00.000000000",
          "2014-02-10T05:00:00.000000000",
          "2014-02-10T05:30:00.000000000",
          "2014-02-10T06:00:00.000000000",
          "2014-02-10T06:30:00.000000000",
          "2014-02-10T07:00:00.000000000",
          "2014-02-10T07:30:00.000000000",
          "2014-02-10T08:00:00.000000000",
          "2014-02-10T08:30:00.000000000",
          "2014-02-10T09:00:00.000000000",
          "2014-02-10T09:30:00.000000000",
          "2014-02-10T10:00:00.000000000",
          "2014-02-10T10:30:00.000000000",
          "2014-02-10T11:00:00.000000000",
          "2014-02-10T11:30:00.000000000",
          "2014-02-10T12:00:00.000000000",
          "2014-02-10T12:30:00.000000000",
          "2014-02-10T13:00:00.000000000",
          "2014-02-10T13:30:00.000000000",
          "2014-02-10T14:00:00.000000000",
          "2014-02-10T14:30:00.000000000",
          "2014-02-10T15:00:00.000000000",
          "2014-02-10T15:30:00.000000000",
          "2014-02-10T16:00:00.000000000",
          "2014-02-10T16:30:00.000000000",
          "2014-02-10T17:00:00.000000000",
          "2014-02-10T17:30:00.000000000",
          "2014-02-10T18:00:00.000000000",
          "2014-02-10T18:30:00.000000000",
          "2014-02-10T19:00:00.000000000",
          "2014-02-10T19:30:00.000000000",
          "2014-02-10T20:00:00.000000000",
          "2014-02-10T20:30:00.000000000",
          "2014-02-10T21:00:00.000000000",
          "2014-02-10T21:30:00.000000000",
          "2014-02-10T22:00:00.000000000",
          "2014-02-10T22:30:00.000000000",
          "2014-02-10T23:00:00.000000000",
          "2014-02-10T23:30:00.000000000",
          "2014-02-11T00:00:00.000000000",
          "2014-02-11T00:30:00.000000000",
          "2014-02-11T01:00:00.000000000",
          "2014-02-11T01:30:00.000000000",
          "2014-02-11T02:00:00.000000000",
          "2014-02-11T02:30:00.000000000",
          "2014-02-11T03:00:00.000000000",
          "2014-02-11T03:30:00.000000000",
          "2014-02-11T04:00:00.000000000",
          "2014-02-11T04:30:00.000000000",
          "2014-02-11T05:00:00.000000000",
          "2014-02-11T05:30:00.000000000",
          "2014-02-11T06:00:00.000000000",
          "2014-02-11T06:30:00.000000000",
          "2014-02-11T07:00:00.000000000",
          "2014-02-11T07:30:00.000000000",
          "2014-02-11T08:00:00.000000000",
          "2014-02-11T08:30:00.000000000",
          "2014-02-11T09:00:00.000000000",
          "2014-02-11T09:30:00.000000000",
          "2014-02-11T10:00:00.000000000",
          "2014-02-11T10:30:00.000000000",
          "2014-02-11T11:00:00.000000000",
          "2014-02-11T11:30:00.000000000",
          "2014-02-11T12:00:00.000000000",
          "2014-02-11T12:30:00.000000000",
          "2014-02-11T13:00:00.000000000",
          "2014-02-11T13:30:00.000000000",
          "2014-02-11T14:00:00.000000000",
          "2014-02-11T14:30:00.000000000",
          "2014-02-11T15:00:00.000000000",
          "2014-02-11T15:30:00.000000000",
          "2014-02-11T16:00:00.000000000",
          "2014-02-11T16:30:00.000000000",
          "2014-02-11T17:00:00.000000000",
          "2014-02-11T17:30:00.000000000",
          "2014-02-11T18:00:00.000000000",
          "2014-02-11T18:30:00.000000000",
          "2014-02-11T19:00:00.000000000",
          "2014-02-11T19:30:00.000000000",
          "2014-02-11T20:00:00.000000000",
          "2014-02-11T20:30:00.000000000",
          "2014-02-11T21:00:00.000000000",
          "2014-02-11T21:30:00.000000000",
          "2014-02-11T22:00:00.000000000",
          "2014-02-11T22:30:00.000000000",
          "2014-02-11T23:00:00.000000000",
          "2014-02-11T23:30:00.000000000",
          "2014-02-12T00:00:00.000000000",
          "2014-02-12T00:30:00.000000000",
          "2014-02-12T01:00:00.000000000",
          "2014-02-12T01:30:00.000000000",
          "2014-02-12T02:00:00.000000000",
          "2014-02-12T02:30:00.000000000",
          "2014-02-12T03:00:00.000000000",
          "2014-02-12T03:30:00.000000000",
          "2014-02-12T04:00:00.000000000",
          "2014-02-12T04:30:00.000000000",
          "2014-02-12T05:00:00.000000000",
          "2014-02-12T05:30:00.000000000",
          "2014-02-12T06:00:00.000000000",
          "2014-02-12T06:30:00.000000000",
          "2014-02-12T07:00:00.000000000",
          "2014-02-12T07:30:00.000000000",
          "2014-02-12T08:00:00.000000000",
          "2014-02-12T08:30:00.000000000",
          "2014-02-12T09:00:00.000000000",
          "2014-02-12T09:30:00.000000000",
          "2014-02-12T10:00:00.000000000",
          "2014-02-12T10:30:00.000000000",
          "2014-02-12T11:00:00.000000000",
          "2014-02-12T11:30:00.000000000",
          "2014-02-12T12:00:00.000000000",
          "2014-02-12T12:30:00.000000000",
          "2014-02-12T13:00:00.000000000",
          "2014-02-12T13:30:00.000000000",
          "2014-02-12T14:00:00.000000000",
          "2014-02-12T14:30:00.000000000",
          "2014-02-12T15:00:00.000000000",
          "2014-02-12T15:30:00.000000000",
          "2014-02-12T16:00:00.000000000",
          "2014-02-12T16:30:00.000000000",
          "2014-02-12T17:00:00.000000000",
          "2014-02-12T17:30:00.000000000",
          "2014-02-12T18:00:00.000000000",
          "2014-02-12T18:30:00.000000000",
          "2014-02-12T19:00:00.000000000",
          "2014-02-12T19:30:00.000000000",
          "2014-02-12T20:00:00.000000000",
          "2014-02-12T20:30:00.000000000",
          "2014-02-12T21:00:00.000000000",
          "2014-02-12T21:30:00.000000000",
          "2014-02-12T22:00:00.000000000",
          "2014-02-12T22:30:00.000000000",
          "2014-02-12T23:00:00.000000000",
          "2014-02-12T23:30:00.000000000",
          "2014-02-13T00:00:00.000000000",
          "2014-02-13T00:30:00.000000000",
          "2014-02-13T01:00:00.000000000",
          "2014-02-13T01:30:00.000000000",
          "2014-02-13T02:00:00.000000000",
          "2014-02-13T02:30:00.000000000",
          "2014-02-13T03:00:00.000000000",
          "2014-02-13T03:30:00.000000000",
          "2014-02-13T04:00:00.000000000",
          "2014-02-13T04:30:00.000000000",
          "2014-02-13T05:00:00.000000000",
          "2014-02-13T05:30:00.000000000",
          "2014-02-13T06:00:00.000000000",
          "2014-02-13T06:30:00.000000000",
          "2014-02-13T07:00:00.000000000",
          "2014-02-13T07:30:00.000000000",
          "2014-02-13T08:00:00.000000000",
          "2014-02-13T08:30:00.000000000",
          "2014-02-13T09:00:00.000000000",
          "2014-02-13T09:30:00.000000000",
          "2014-02-13T10:00:00.000000000",
          "2014-02-13T10:30:00.000000000",
          "2014-02-13T11:00:00.000000000",
          "2014-02-13T11:30:00.000000000",
          "2014-02-13T12:00:00.000000000",
          "2014-02-13T12:30:00.000000000",
          "2014-02-13T13:00:00.000000000",
          "2014-02-13T13:30:00.000000000",
          "2014-02-13T14:00:00.000000000",
          "2014-02-13T14:30:00.000000000",
          "2014-02-13T15:00:00.000000000",
          "2014-02-13T15:30:00.000000000",
          "2014-02-13T16:00:00.000000000",
          "2014-02-13T16:30:00.000000000",
          "2014-02-13T17:00:00.000000000",
          "2014-02-13T17:30:00.000000000",
          "2014-02-13T18:00:00.000000000",
          "2014-02-13T18:30:00.000000000",
          "2014-02-13T19:00:00.000000000",
          "2014-02-13T19:30:00.000000000",
          "2014-02-13T20:00:00.000000000",
          "2014-02-13T20:30:00.000000000",
          "2014-02-13T21:00:00.000000000",
          "2014-02-13T21:30:00.000000000",
          "2014-02-13T22:00:00.000000000",
          "2014-02-13T22:30:00.000000000",
          "2014-02-13T23:00:00.000000000",
          "2014-02-13T23:30:00.000000000",
          "2014-02-14T00:00:00.000000000",
          "2014-02-14T00:30:00.000000000",
          "2014-02-14T01:00:00.000000000",
          "2014-02-14T01:30:00.000000000",
          "2014-02-14T02:00:00.000000000",
          "2014-02-14T02:30:00.000000000",
          "2014-02-14T03:00:00.000000000",
          "2014-02-14T03:30:00.000000000",
          "2014-02-14T04:00:00.000000000",
          "2014-02-14T04:30:00.000000000",
          "2014-02-14T05:00:00.000000000",
          "2014-02-14T05:30:00.000000000",
          "2014-02-14T06:00:00.000000000",
          "2014-02-14T06:30:00.000000000",
          "2014-02-14T07:00:00.000000000",
          "2014-02-14T07:30:00.000000000",
          "2014-02-14T08:00:00.000000000",
          "2014-02-14T08:30:00.000000000",
          "2014-02-14T09:00:00.000000000",
          "2014-02-14T09:30:00.000000000",
          "2014-02-14T10:00:00.000000000",
          "2014-02-14T10:30:00.000000000",
          "2014-02-14T11:00:00.000000000",
          "2014-02-14T11:30:00.000000000",
          "2014-02-14T12:00:00.000000000",
          "2014-02-14T12:30:00.000000000",
          "2014-02-14T13:00:00.000000000",
          "2014-02-14T13:30:00.000000000",
          "2014-02-14T14:00:00.000000000",
          "2014-02-14T14:30:00.000000000",
          "2014-02-14T15:00:00.000000000",
          "2014-02-14T15:30:00.000000000",
          "2014-02-14T16:00:00.000000000",
          "2014-02-14T16:30:00.000000000",
          "2014-02-14T17:00:00.000000000",
          "2014-02-14T17:30:00.000000000",
          "2014-02-14T18:00:00.000000000",
          "2014-02-14T18:30:00.000000000",
          "2014-02-14T19:00:00.000000000",
          "2014-02-14T19:30:00.000000000",
          "2014-02-14T20:00:00.000000000",
          "2014-02-14T20:30:00.000000000",
          "2014-02-14T21:00:00.000000000",
          "2014-02-14T21:30:00.000000000",
          "2014-02-14T22:00:00.000000000",
          "2014-02-14T22:30:00.000000000",
          "2014-02-14T23:00:00.000000000",
          "2014-02-14T23:30:00.000000000",
          "2014-02-15T00:00:00.000000000",
          "2014-02-15T00:30:00.000000000",
          "2014-02-15T01:00:00.000000000",
          "2014-02-15T01:30:00.000000000",
          "2014-02-15T02:00:00.000000000",
          "2014-02-15T02:30:00.000000000",
          "2014-02-15T03:00:00.000000000",
          "2014-02-15T03:30:00.000000000",
          "2014-02-15T04:00:00.000000000",
          "2014-02-15T04:30:00.000000000",
          "2014-02-15T05:00:00.000000000",
          "2014-02-15T05:30:00.000000000",
          "2014-02-15T06:00:00.000000000",
          "2014-02-15T06:30:00.000000000",
          "2014-02-15T07:00:00.000000000",
          "2014-02-15T07:30:00.000000000",
          "2014-02-15T08:00:00.000000000",
          "2014-02-15T08:30:00.000000000",
          "2014-02-15T09:00:00.000000000",
          "2014-02-15T09:30:00.000000000",
          "2014-02-15T10:00:00.000000000",
          "2014-02-15T10:30:00.000000000",
          "2014-02-15T11:00:00.000000000",
          "2014-02-15T11:30:00.000000000",
          "2014-02-15T12:00:00.000000000",
          "2014-02-15T12:30:00.000000000",
          "2014-02-15T13:00:00.000000000",
          "2014-02-15T13:30:00.000000000",
          "2014-02-15T14:00:00.000000000",
          "2014-02-15T14:30:00.000000000",
          "2014-02-15T15:00:00.000000000",
          "2014-02-15T15:30:00.000000000",
          "2014-02-15T16:00:00.000000000",
          "2014-02-15T16:30:00.000000000",
          "2014-02-15T17:00:00.000000000",
          "2014-02-15T17:30:00.000000000",
          "2014-02-15T18:00:00.000000000",
          "2014-02-15T18:30:00.000000000",
          "2014-02-15T19:00:00.000000000",
          "2014-02-15T19:30:00.000000000",
          "2014-02-15T20:00:00.000000000",
          "2014-02-15T20:30:00.000000000",
          "2014-02-15T21:00:00.000000000",
          "2014-02-15T21:30:00.000000000",
          "2014-02-15T22:00:00.000000000",
          "2014-02-15T22:30:00.000000000",
          "2014-02-15T23:00:00.000000000",
          "2014-02-15T23:30:00.000000000",
          "2014-02-16T00:00:00.000000000",
          "2014-02-16T00:30:00.000000000",
          "2014-02-16T01:00:00.000000000",
          "2014-02-16T01:30:00.000000000",
          "2014-02-16T02:00:00.000000000",
          "2014-02-16T02:30:00.000000000",
          "2014-02-16T03:00:00.000000000",
          "2014-02-16T03:30:00.000000000",
          "2014-02-16T04:00:00.000000000",
          "2014-02-16T04:30:00.000000000",
          "2014-02-16T05:00:00.000000000",
          "2014-02-16T05:30:00.000000000",
          "2014-02-16T06:00:00.000000000",
          "2014-02-16T06:30:00.000000000",
          "2014-02-16T07:00:00.000000000",
          "2014-02-16T07:30:00.000000000",
          "2014-02-16T08:00:00.000000000",
          "2014-02-16T08:30:00.000000000",
          "2014-02-16T09:00:00.000000000",
          "2014-02-16T09:30:00.000000000",
          "2014-02-16T10:00:00.000000000",
          "2014-02-16T10:30:00.000000000",
          "2014-02-16T11:00:00.000000000",
          "2014-02-16T11:30:00.000000000",
          "2014-02-16T12:00:00.000000000",
          "2014-02-16T12:30:00.000000000",
          "2014-02-16T13:00:00.000000000",
          "2014-02-16T13:30:00.000000000",
          "2014-02-16T14:00:00.000000000",
          "2014-02-16T14:30:00.000000000",
          "2014-02-16T15:00:00.000000000",
          "2014-02-16T15:30:00.000000000",
          "2014-02-16T16:00:00.000000000",
          "2014-02-16T16:30:00.000000000",
          "2014-02-16T17:00:00.000000000",
          "2014-02-16T17:30:00.000000000",
          "2014-02-16T18:00:00.000000000",
          "2014-02-16T18:30:00.000000000",
          "2014-02-16T19:00:00.000000000",
          "2014-02-16T19:30:00.000000000",
          "2014-02-16T20:00:00.000000000",
          "2014-02-16T20:30:00.000000000",
          "2014-02-16T21:00:00.000000000",
          "2014-02-16T21:30:00.000000000",
          "2014-02-16T22:00:00.000000000",
          "2014-02-16T22:30:00.000000000",
          "2014-02-16T23:00:00.000000000",
          "2014-02-16T23:30:00.000000000",
          "2014-02-17T00:00:00.000000000",
          "2014-02-17T00:30:00.000000000",
          "2014-02-17T01:00:00.000000000",
          "2014-02-17T01:30:00.000000000",
          "2014-02-17T02:00:00.000000000",
          "2014-02-17T02:30:00.000000000",
          "2014-02-17T03:00:00.000000000",
          "2014-02-17T03:30:00.000000000",
          "2014-02-17T04:00:00.000000000",
          "2014-02-17T04:30:00.000000000",
          "2014-02-17T05:00:00.000000000",
          "2014-02-17T05:30:00.000000000",
          "2014-02-17T06:00:00.000000000",
          "2014-02-17T06:30:00.000000000",
          "2014-02-17T07:00:00.000000000",
          "2014-02-17T07:30:00.000000000",
          "2014-02-17T08:00:00.000000000",
          "2014-02-17T08:30:00.000000000",
          "2014-02-17T09:00:00.000000000",
          "2014-02-17T09:30:00.000000000",
          "2014-02-17T10:00:00.000000000",
          "2014-02-17T10:30:00.000000000",
          "2014-02-17T11:00:00.000000000",
          "2014-02-17T11:30:00.000000000",
          "2014-02-17T12:00:00.000000000",
          "2014-02-17T12:30:00.000000000",
          "2014-02-17T13:00:00.000000000",
          "2014-02-17T13:30:00.000000000",
          "2014-02-17T14:00:00.000000000",
          "2014-02-17T14:30:00.000000000",
          "2014-02-17T15:00:00.000000000",
          "2014-02-17T15:30:00.000000000",
          "2014-02-17T16:00:00.000000000",
          "2014-02-17T16:30:00.000000000",
          "2014-02-17T17:00:00.000000000",
          "2014-02-17T17:30:00.000000000",
          "2014-02-17T18:00:00.000000000",
          "2014-02-17T18:30:00.000000000",
          "2014-02-17T19:00:00.000000000",
          "2014-02-17T19:30:00.000000000",
          "2014-02-17T20:00:00.000000000",
          "2014-02-17T20:30:00.000000000",
          "2014-02-17T21:00:00.000000000",
          "2014-02-17T21:30:00.000000000",
          "2014-02-17T22:00:00.000000000",
          "2014-02-17T22:30:00.000000000",
          "2014-02-17T23:00:00.000000000",
          "2014-02-17T23:30:00.000000000",
          "2014-02-18T00:00:00.000000000",
          "2014-02-18T00:30:00.000000000",
          "2014-02-18T01:00:00.000000000",
          "2014-02-18T01:30:00.000000000",
          "2014-02-18T02:00:00.000000000",
          "2014-02-18T02:30:00.000000000",
          "2014-02-18T03:00:00.000000000",
          "2014-02-18T03:30:00.000000000",
          "2014-02-18T04:00:00.000000000",
          "2014-02-18T04:30:00.000000000",
          "2014-02-18T05:00:00.000000000",
          "2014-02-18T05:30:00.000000000",
          "2014-02-18T06:00:00.000000000",
          "2014-02-18T06:30:00.000000000",
          "2014-02-18T07:00:00.000000000",
          "2014-02-18T07:30:00.000000000",
          "2014-02-18T08:00:00.000000000",
          "2014-02-18T08:30:00.000000000",
          "2014-02-18T09:00:00.000000000",
          "2014-02-18T09:30:00.000000000",
          "2014-02-18T10:00:00.000000000",
          "2014-02-18T10:30:00.000000000",
          "2014-02-18T11:00:00.000000000",
          "2014-02-18T11:30:00.000000000",
          "2014-02-18T12:00:00.000000000",
          "2014-02-18T12:30:00.000000000",
          "2014-02-18T13:00:00.000000000",
          "2014-02-18T13:30:00.000000000",
          "2014-02-18T14:00:00.000000000",
          "2014-02-18T14:30:00.000000000",
          "2014-02-18T15:00:00.000000000",
          "2014-02-18T15:30:00.000000000",
          "2014-02-18T16:00:00.000000000",
          "2014-02-18T16:30:00.000000000",
          "2014-02-18T17:00:00.000000000",
          "2014-02-18T17:30:00.000000000",
          "2014-02-18T18:00:00.000000000",
          "2014-02-18T18:30:00.000000000",
          "2014-02-18T19:00:00.000000000",
          "2014-02-18T19:30:00.000000000",
          "2014-02-18T20:00:00.000000000",
          "2014-02-18T20:30:00.000000000",
          "2014-02-18T21:00:00.000000000",
          "2014-02-18T21:30:00.000000000",
          "2014-02-18T22:00:00.000000000",
          "2014-02-18T22:30:00.000000000",
          "2014-02-18T23:00:00.000000000",
          "2014-02-18T23:30:00.000000000",
          "2014-02-19T00:00:00.000000000",
          "2014-02-19T00:30:00.000000000",
          "2014-02-19T01:00:00.000000000",
          "2014-02-19T01:30:00.000000000",
          "2014-02-19T02:00:00.000000000",
          "2014-02-19T02:30:00.000000000",
          "2014-02-19T03:00:00.000000000",
          "2014-02-19T03:30:00.000000000",
          "2014-02-19T04:00:00.000000000",
          "2014-02-19T04:30:00.000000000",
          "2014-02-19T05:00:00.000000000",
          "2014-02-19T05:30:00.000000000",
          "2014-02-19T06:00:00.000000000",
          "2014-02-19T06:30:00.000000000",
          "2014-02-19T07:00:00.000000000",
          "2014-02-19T07:30:00.000000000",
          "2014-02-19T08:00:00.000000000",
          "2014-02-19T08:30:00.000000000",
          "2014-02-19T09:00:00.000000000",
          "2014-02-19T09:30:00.000000000",
          "2014-02-19T10:00:00.000000000",
          "2014-02-19T10:30:00.000000000",
          "2014-02-19T11:00:00.000000000",
          "2014-02-19T11:30:00.000000000",
          "2014-02-19T12:00:00.000000000",
          "2014-02-19T12:30:00.000000000",
          "2014-02-19T13:00:00.000000000",
          "2014-02-19T13:30:00.000000000",
          "2014-02-19T14:00:00.000000000",
          "2014-02-19T14:30:00.000000000",
          "2014-02-19T15:00:00.000000000",
          "2014-02-19T15:30:00.000000000",
          "2014-02-19T16:00:00.000000000",
          "2014-02-19T16:30:00.000000000",
          "2014-02-19T17:00:00.000000000",
          "2014-02-19T17:30:00.000000000",
          "2014-02-19T18:00:00.000000000",
          "2014-02-19T18:30:00.000000000",
          "2014-02-19T19:00:00.000000000",
          "2014-02-19T19:30:00.000000000",
          "2014-02-19T20:00:00.000000000",
          "2014-02-19T20:30:00.000000000",
          "2014-02-19T21:00:00.000000000",
          "2014-02-19T21:30:00.000000000",
          "2014-02-19T22:00:00.000000000",
          "2014-02-19T22:30:00.000000000",
          "2014-02-19T23:00:00.000000000",
          "2014-02-19T23:30:00.000000000",
          "2014-02-20T00:00:00.000000000",
          "2014-02-20T00:30:00.000000000",
          "2014-02-20T01:00:00.000000000",
          "2014-02-20T01:30:00.000000000",
          "2014-02-20T02:00:00.000000000",
          "2014-02-20T02:30:00.000000000",
          "2014-02-20T03:00:00.000000000",
          "2014-02-20T03:30:00.000000000",
          "2014-02-20T04:00:00.000000000",
          "2014-02-20T04:30:00.000000000",
          "2014-02-20T05:00:00.000000000",
          "2014-02-20T05:30:00.000000000",
          "2014-02-20T06:00:00.000000000",
          "2014-02-20T06:30:00.000000000",
          "2014-02-20T07:00:00.000000000",
          "2014-02-20T07:30:00.000000000",
          "2014-02-20T08:00:00.000000000",
          "2014-02-20T08:30:00.000000000",
          "2014-02-20T09:00:00.000000000",
          "2014-02-20T09:30:00.000000000",
          "2014-02-20T10:00:00.000000000",
          "2014-02-20T10:30:00.000000000",
          "2014-02-20T11:00:00.000000000",
          "2014-02-20T11:30:00.000000000",
          "2014-02-20T12:00:00.000000000",
          "2014-02-20T12:30:00.000000000",
          "2014-02-20T13:00:00.000000000",
          "2014-02-20T13:30:00.000000000",
          "2014-02-20T14:00:00.000000000",
          "2014-02-20T14:30:00.000000000",
          "2014-02-20T15:00:00.000000000",
          "2014-02-20T15:30:00.000000000",
          "2014-02-20T16:00:00.000000000",
          "2014-02-20T16:30:00.000000000",
          "2014-02-20T17:00:00.000000000",
          "2014-02-20T17:30:00.000000000",
          "2014-02-20T18:00:00.000000000",
          "2014-02-20T18:30:00.000000000",
          "2014-02-20T19:00:00.000000000",
          "2014-02-20T19:30:00.000000000",
          "2014-02-20T20:00:00.000000000",
          "2014-02-20T20:30:00.000000000",
          "2014-02-20T21:00:00.000000000",
          "2014-02-20T21:30:00.000000000",
          "2014-02-20T22:00:00.000000000",
          "2014-02-20T22:30:00.000000000",
          "2014-02-20T23:00:00.000000000",
          "2014-02-20T23:30:00.000000000",
          "2014-02-21T00:00:00.000000000",
          "2014-02-21T00:30:00.000000000",
          "2014-02-21T01:00:00.000000000",
          "2014-02-21T01:30:00.000000000",
          "2014-02-21T02:00:00.000000000",
          "2014-02-21T02:30:00.000000000",
          "2014-02-21T03:00:00.000000000",
          "2014-02-21T03:30:00.000000000",
          "2014-02-21T04:00:00.000000000",
          "2014-02-21T04:30:00.000000000",
          "2014-02-21T05:00:00.000000000",
          "2014-02-21T05:30:00.000000000",
          "2014-02-21T06:00:00.000000000",
          "2014-02-21T06:30:00.000000000",
          "2014-02-21T07:00:00.000000000",
          "2014-02-21T07:30:00.000000000",
          "2014-02-21T08:00:00.000000000",
          "2014-02-21T08:30:00.000000000",
          "2014-02-21T09:00:00.000000000",
          "2014-02-21T09:30:00.000000000",
          "2014-02-21T10:00:00.000000000",
          "2014-02-21T10:30:00.000000000",
          "2014-02-21T11:00:00.000000000",
          "2014-02-21T11:30:00.000000000",
          "2014-02-21T12:00:00.000000000",
          "2014-02-21T12:30:00.000000000",
          "2014-02-21T13:00:00.000000000",
          "2014-02-21T13:30:00.000000000",
          "2014-02-21T14:00:00.000000000",
          "2014-02-21T14:30:00.000000000",
          "2014-02-21T15:00:00.000000000",
          "2014-02-21T15:30:00.000000000",
          "2014-02-21T16:00:00.000000000",
          "2014-02-21T16:30:00.000000000",
          "2014-02-21T17:00:00.000000000",
          "2014-02-21T17:30:00.000000000",
          "2014-02-21T18:00:00.000000000",
          "2014-02-21T18:30:00.000000000",
          "2014-02-21T19:00:00.000000000",
          "2014-02-21T19:30:00.000000000",
          "2014-02-21T20:00:00.000000000",
          "2014-02-21T20:30:00.000000000",
          "2014-02-21T21:00:00.000000000",
          "2014-02-21T21:30:00.000000000",
          "2014-02-21T22:00:00.000000000",
          "2014-02-21T22:30:00.000000000",
          "2014-02-21T23:00:00.000000000",
          "2014-02-21T23:30:00.000000000",
          "2014-02-22T00:00:00.000000000",
          "2014-02-22T00:30:00.000000000",
          "2014-02-22T01:00:00.000000000",
          "2014-02-22T01:30:00.000000000",
          "2014-02-22T02:00:00.000000000",
          "2014-02-22T02:30:00.000000000",
          "2014-02-22T03:00:00.000000000",
          "2014-02-22T03:30:00.000000000",
          "2014-02-22T04:00:00.000000000",
          "2014-02-22T04:30:00.000000000",
          "2014-02-22T05:00:00.000000000",
          "2014-02-22T05:30:00.000000000",
          "2014-02-22T06:00:00.000000000",
          "2014-02-22T06:30:00.000000000",
          "2014-02-22T07:00:00.000000000",
          "2014-02-22T07:30:00.000000000",
          "2014-02-22T08:00:00.000000000",
          "2014-02-22T08:30:00.000000000",
          "2014-02-22T09:00:00.000000000",
          "2014-02-22T09:30:00.000000000",
          "2014-02-22T10:00:00.000000000",
          "2014-02-22T10:30:00.000000000",
          "2014-02-22T11:00:00.000000000",
          "2014-02-22T11:30:00.000000000",
          "2014-02-22T12:00:00.000000000",
          "2014-02-22T12:30:00.000000000",
          "2014-02-22T13:00:00.000000000",
          "2014-02-22T13:30:00.000000000",
          "2014-02-22T14:00:00.000000000",
          "2014-02-22T14:30:00.000000000",
          "2014-02-22T15:00:00.000000000",
          "2014-02-22T15:30:00.000000000",
          "2014-02-22T16:00:00.000000000",
          "2014-02-22T16:30:00.000000000",
          "2014-02-22T17:00:00.000000000",
          "2014-02-22T17:30:00.000000000",
          "2014-02-22T18:00:00.000000000",
          "2014-02-22T18:30:00.000000000",
          "2014-02-22T19:00:00.000000000",
          "2014-02-22T19:30:00.000000000",
          "2014-02-22T20:00:00.000000000",
          "2014-02-22T20:30:00.000000000",
          "2014-02-22T21:00:00.000000000",
          "2014-02-22T21:30:00.000000000",
          "2014-02-22T22:00:00.000000000",
          "2014-02-22T22:30:00.000000000",
          "2014-02-22T23:00:00.000000000",
          "2014-02-22T23:30:00.000000000",
          "2014-02-23T00:00:00.000000000",
          "2014-02-23T00:30:00.000000000",
          "2014-02-23T01:00:00.000000000",
          "2014-02-23T01:30:00.000000000",
          "2014-02-23T02:00:00.000000000",
          "2014-02-23T02:30:00.000000000",
          "2014-02-23T03:00:00.000000000",
          "2014-02-23T03:30:00.000000000",
          "2014-02-23T04:00:00.000000000",
          "2014-02-23T04:30:00.000000000",
          "2014-02-23T05:00:00.000000000",
          "2014-02-23T05:30:00.000000000",
          "2014-02-23T06:00:00.000000000",
          "2014-02-23T06:30:00.000000000",
          "2014-02-23T07:00:00.000000000",
          "2014-02-23T07:30:00.000000000",
          "2014-02-23T08:00:00.000000000",
          "2014-02-23T08:30:00.000000000",
          "2014-02-23T09:00:00.000000000",
          "2014-02-23T09:30:00.000000000",
          "2014-02-23T10:00:00.000000000",
          "2014-02-23T10:30:00.000000000",
          "2014-02-23T11:00:00.000000000",
          "2014-02-23T11:30:00.000000000",
          "2014-02-23T12:00:00.000000000",
          "2014-02-23T12:30:00.000000000",
          "2014-02-23T13:00:00.000000000",
          "2014-02-23T13:30:00.000000000",
          "2014-02-23T14:00:00.000000000",
          "2014-02-23T14:30:00.000000000",
          "2014-02-23T15:00:00.000000000",
          "2014-02-23T15:30:00.000000000",
          "2014-02-23T16:00:00.000000000",
          "2014-02-23T16:30:00.000000000",
          "2014-02-23T17:00:00.000000000",
          "2014-02-23T17:30:00.000000000",
          "2014-02-23T18:00:00.000000000",
          "2014-02-23T18:30:00.000000000",
          "2014-02-23T19:00:00.000000000",
          "2014-02-23T19:30:00.000000000",
          "2014-02-23T20:00:00.000000000",
          "2014-02-23T20:30:00.000000000",
          "2014-02-23T21:00:00.000000000",
          "2014-02-23T21:30:00.000000000",
          "2014-02-23T22:00:00.000000000",
          "2014-02-23T22:30:00.000000000",
          "2014-02-23T23:00:00.000000000",
          "2014-02-23T23:30:00.000000000",
          "2014-02-24T00:00:00.000000000",
          "2014-02-24T00:30:00.000000000",
          "2014-02-24T01:00:00.000000000",
          "2014-02-24T01:30:00.000000000",
          "2014-02-24T02:00:00.000000000",
          "2014-02-24T02:30:00.000000000",
          "2014-02-24T03:00:00.000000000",
          "2014-02-24T03:30:00.000000000",
          "2014-02-24T04:00:00.000000000",
          "2014-02-24T04:30:00.000000000",
          "2014-02-24T05:00:00.000000000",
          "2014-02-24T05:30:00.000000000",
          "2014-02-24T06:00:00.000000000",
          "2014-02-24T06:30:00.000000000",
          "2014-02-24T07:00:00.000000000",
          "2014-02-24T07:30:00.000000000",
          "2014-02-24T08:00:00.000000000",
          "2014-02-24T08:30:00.000000000",
          "2014-02-24T09:00:00.000000000",
          "2014-02-24T09:30:00.000000000",
          "2014-02-24T10:00:00.000000000",
          "2014-02-24T10:30:00.000000000",
          "2014-02-24T11:00:00.000000000",
          "2014-02-24T11:30:00.000000000",
          "2014-02-24T12:00:00.000000000",
          "2014-02-24T12:30:00.000000000",
          "2014-02-24T13:00:00.000000000",
          "2014-02-24T13:30:00.000000000",
          "2014-02-24T14:00:00.000000000",
          "2014-02-24T14:30:00.000000000",
          "2014-02-24T15:00:00.000000000",
          "2014-02-24T15:30:00.000000000",
          "2014-02-24T16:00:00.000000000",
          "2014-02-24T16:30:00.000000000",
          "2014-02-24T17:00:00.000000000",
          "2014-02-24T17:30:00.000000000",
          "2014-02-24T18:00:00.000000000",
          "2014-02-24T18:30:00.000000000",
          "2014-02-24T19:00:00.000000000",
          "2014-02-24T19:30:00.000000000",
          "2014-02-24T20:00:00.000000000",
          "2014-02-24T20:30:00.000000000",
          "2014-02-24T21:00:00.000000000",
          "2014-02-24T21:30:00.000000000",
          "2014-02-24T22:00:00.000000000",
          "2014-02-24T22:30:00.000000000",
          "2014-02-24T23:00:00.000000000",
          "2014-02-24T23:30:00.000000000",
          "2014-02-25T00:00:00.000000000",
          "2014-02-25T00:30:00.000000000",
          "2014-02-25T01:00:00.000000000",
          "2014-02-25T01:30:00.000000000",
          "2014-02-25T02:00:00.000000000",
          "2014-02-25T02:30:00.000000000",
          "2014-02-25T03:00:00.000000000",
          "2014-02-25T03:30:00.000000000",
          "2014-02-25T04:00:00.000000000",
          "2014-02-25T04:30:00.000000000",
          "2014-02-25T05:00:00.000000000",
          "2014-02-25T05:30:00.000000000",
          "2014-02-25T06:00:00.000000000",
          "2014-02-25T06:30:00.000000000",
          "2014-02-25T07:00:00.000000000",
          "2014-02-25T07:30:00.000000000",
          "2014-02-25T08:00:00.000000000",
          "2014-02-25T08:30:00.000000000",
          "2014-02-25T09:00:00.000000000",
          "2014-02-25T09:30:00.000000000",
          "2014-02-25T10:00:00.000000000",
          "2014-02-25T10:30:00.000000000",
          "2014-02-25T11:00:00.000000000",
          "2014-02-25T11:30:00.000000000",
          "2014-02-25T12:00:00.000000000",
          "2014-02-25T12:30:00.000000000",
          "2014-02-25T13:00:00.000000000",
          "2014-02-25T13:30:00.000000000",
          "2014-02-25T14:00:00.000000000",
          "2014-02-25T14:30:00.000000000",
          "2014-02-25T15:00:00.000000000",
          "2014-02-25T15:30:00.000000000",
          "2014-02-25T16:00:00.000000000",
          "2014-02-25T16:30:00.000000000",
          "2014-02-25T17:00:00.000000000",
          "2014-02-25T17:30:00.000000000",
          "2014-02-25T18:00:00.000000000",
          "2014-02-25T18:30:00.000000000",
          "2014-02-25T19:00:00.000000000",
          "2014-02-25T19:30:00.000000000",
          "2014-02-25T20:00:00.000000000",
          "2014-02-25T20:30:00.000000000",
          "2014-02-25T21:00:00.000000000",
          "2014-02-25T21:30:00.000000000",
          "2014-02-25T22:00:00.000000000",
          "2014-02-25T22:30:00.000000000",
          "2014-02-25T23:00:00.000000000",
          "2014-02-25T23:30:00.000000000",
          "2014-02-26T00:00:00.000000000",
          "2014-02-26T00:30:00.000000000",
          "2014-02-26T01:00:00.000000000",
          "2014-02-26T01:30:00.000000000",
          "2014-02-26T02:00:00.000000000",
          "2014-02-26T02:30:00.000000000",
          "2014-02-26T03:00:00.000000000",
          "2014-02-26T03:30:00.000000000",
          "2014-02-26T04:00:00.000000000",
          "2014-02-26T04:30:00.000000000",
          "2014-02-26T05:00:00.000000000",
          "2014-02-26T05:30:00.000000000",
          "2014-02-26T06:00:00.000000000",
          "2014-02-26T06:30:00.000000000",
          "2014-02-26T07:00:00.000000000",
          "2014-02-26T07:30:00.000000000",
          "2014-02-26T08:00:00.000000000",
          "2014-02-26T08:30:00.000000000",
          "2014-02-26T09:00:00.000000000",
          "2014-02-26T09:30:00.000000000",
          "2014-02-26T10:00:00.000000000",
          "2014-02-26T10:30:00.000000000",
          "2014-02-26T11:00:00.000000000",
          "2014-02-26T11:30:00.000000000",
          "2014-02-26T12:00:00.000000000",
          "2014-02-26T12:30:00.000000000",
          "2014-02-26T13:00:00.000000000",
          "2014-02-26T13:30:00.000000000",
          "2014-02-26T14:00:00.000000000",
          "2014-02-26T14:30:00.000000000",
          "2014-02-26T15:00:00.000000000",
          "2014-02-26T15:30:00.000000000",
          "2014-02-26T16:00:00.000000000",
          "2014-02-26T16:30:00.000000000",
          "2014-02-26T17:00:00.000000000",
          "2014-02-26T17:30:00.000000000",
          "2014-02-26T18:00:00.000000000",
          "2014-02-26T18:30:00.000000000",
          "2014-02-26T19:00:00.000000000",
          "2014-02-26T19:30:00.000000000",
          "2014-02-26T20:00:00.000000000",
          "2014-02-26T20:30:00.000000000",
          "2014-02-26T21:00:00.000000000",
          "2014-02-26T21:30:00.000000000",
          "2014-02-26T22:00:00.000000000",
          "2014-02-26T22:30:00.000000000",
          "2014-02-26T23:00:00.000000000",
          "2014-02-26T23:30:00.000000000",
          "2014-02-27T00:00:00.000000000",
          "2014-02-27T00:30:00.000000000",
          "2014-02-27T01:00:00.000000000",
          "2014-02-27T01:30:00.000000000",
          "2014-02-27T02:00:00.000000000",
          "2014-02-27T02:30:00.000000000",
          "2014-02-27T03:00:00.000000000",
          "2014-02-27T03:30:00.000000000",
          "2014-02-27T04:00:00.000000000",
          "2014-02-27T04:30:00.000000000",
          "2014-02-27T05:00:00.000000000",
          "2014-02-27T05:30:00.000000000",
          "2014-02-27T06:00:00.000000000",
          "2014-02-27T06:30:00.000000000",
          "2014-02-27T07:00:00.000000000",
          "2014-02-27T07:30:00.000000000",
          "2014-02-27T08:00:00.000000000",
          "2014-02-27T08:30:00.000000000",
          "2014-02-27T09:00:00.000000000",
          "2014-02-27T09:30:00.000000000",
          "2014-02-27T10:00:00.000000000",
          "2014-02-27T10:30:00.000000000",
          "2014-02-27T11:00:00.000000000",
          "2014-02-27T11:30:00.000000000",
          "2014-02-27T12:00:00.000000000",
          "2014-02-27T12:30:00.000000000",
          "2014-02-27T13:00:00.000000000",
          "2014-02-27T13:30:00.000000000",
          "2014-02-27T14:00:00.000000000",
          "2014-02-27T14:30:00.000000000",
          "2014-02-27T15:00:00.000000000",
          "2014-02-27T15:30:00.000000000",
          "2014-02-27T16:00:00.000000000",
          "2014-02-27T16:30:00.000000000",
          "2014-02-27T17:00:00.000000000",
          "2014-02-27T17:30:00.000000000",
          "2014-02-27T18:00:00.000000000",
          "2014-02-27T18:30:00.000000000",
          "2014-02-27T19:00:00.000000000",
          "2014-02-27T19:30:00.000000000",
          "2014-02-27T20:00:00.000000000",
          "2014-02-27T20:30:00.000000000",
          "2014-02-27T21:00:00.000000000",
          "2014-02-27T21:30:00.000000000",
          "2014-02-27T22:00:00.000000000",
          "2014-02-27T22:30:00.000000000",
          "2014-02-27T23:00:00.000000000",
          "2014-02-27T23:30:00.000000000"
         ],
         "y": {
          "bdata": "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",
          "dtype": "f8"
         }
        },
        {
         "line": {
          "color": "rgba(217,95,2, 1)",
          "dash": "dash"
         },
         "mode": "lines",
         "name": "LSTM",
         "type": "scatter",
         "x": [
          "2014-02-01T00:00:00.000000000",
          "2014-02-01T00:30:00.000000000",
          "2014-02-01T01:00:00.000000000",
          "2014-02-01T01:30:00.000000000",
          "2014-02-01T02:00:00.000000000",
          "2014-02-01T02:30:00.000000000",
          "2014-02-01T03:00:00.000000000",
          "2014-02-01T03:30:00.000000000",
          "2014-02-01T04:00:00.000000000",
          "2014-02-01T04:30:00.000000000",
          "2014-02-01T05:00:00.000000000",
          "2014-02-01T05:30:00.000000000",
          "2014-02-01T06:00:00.000000000",
          "2014-02-01T06:30:00.000000000",
          "2014-02-01T07:00:00.000000000",
          "2014-02-01T07:30:00.000000000",
          "2014-02-01T08:00:00.000000000",
          "2014-02-01T08:30:00.000000000",
          "2014-02-01T09:00:00.000000000",
          "2014-02-01T09:30:00.000000000",
          "2014-02-01T10:00:00.000000000",
          "2014-02-01T10:30:00.000000000",
          "2014-02-01T11:00:00.000000000",
          "2014-02-01T11:30:00.000000000",
          "2014-02-01T12:00:00.000000000",
          "2014-02-01T12:30:00.000000000",
          "2014-02-01T13:00:00.000000000",
          "2014-02-01T13:30:00.000000000",
          "2014-02-01T14:00:00.000000000",
          "2014-02-01T14:30:00.000000000",
          "2014-02-01T15:00:00.000000000",
          "2014-02-01T15:30:00.000000000",
          "2014-02-01T16:00:00.000000000",
          "2014-02-01T16:30:00.000000000",
          "2014-02-01T17:00:00.000000000",
          "2014-02-01T17:30:00.000000000",
          "2014-02-01T18:00:00.000000000",
          "2014-02-01T18:30:00.000000000",
          "2014-02-01T19:00:00.000000000",
          "2014-02-01T19:30:00.000000000",
          "2014-02-01T20:00:00.000000000",
          "2014-02-01T20:30:00.000000000",
          "2014-02-01T21:00:00.000000000",
          "2014-02-01T21:30:00.000000000",
          "2014-02-01T22:00:00.000000000",
          "2014-02-01T22:30:00.000000000",
          "2014-02-01T23:00:00.000000000",
          "2014-02-01T23:30:00.000000000",
          "2014-02-02T00:00:00.000000000",
          "2014-02-02T00:30:00.000000000",
          "2014-02-02T01:00:00.000000000",
          "2014-02-02T01:30:00.000000000",
          "2014-02-02T02:00:00.000000000",
          "2014-02-02T02:30:00.000000000",
          "2014-02-02T03:00:00.000000000",
          "2014-02-02T03:30:00.000000000",
          "2014-02-02T04:00:00.000000000",
          "2014-02-02T04:30:00.000000000",
          "2014-02-02T05:00:00.000000000",
          "2014-02-02T05:30:00.000000000",
          "2014-02-02T06:00:00.000000000",
          "2014-02-02T06:30:00.000000000",
          "2014-02-02T07:00:00.000000000",
          "2014-02-02T07:30:00.000000000",
          "2014-02-02T08:00:00.000000000",
          "2014-02-02T08:30:00.000000000",
          "2014-02-02T09:00:00.000000000",
          "2014-02-02T09:30:00.000000000",
          "2014-02-02T10:00:00.000000000",
          "2014-02-02T10:30:00.000000000",
          "2014-02-02T11:00:00.000000000",
          "2014-02-02T11:30:00.000000000",
          "2014-02-02T12:00:00.000000000",
          "2014-02-02T12:30:00.000000000",
          "2014-02-02T13:00:00.000000000",
          "2014-02-02T13:30:00.000000000",
          "2014-02-02T14:00:00.000000000",
          "2014-02-02T14:30:00.000000000",
          "2014-02-02T15:00:00.000000000",
          "2014-02-02T15:30:00.000000000",
          "2014-02-02T16:00:00.000000000",
          "2014-02-02T16:30:00.000000000",
          "2014-02-02T17:00:00.000000000",
          "2014-02-02T17:30:00.000000000",
          "2014-02-02T18:00:00.000000000",
          "2014-02-02T18:30:00.000000000",
          "2014-02-02T19:00:00.000000000",
          "2014-02-02T19:30:00.000000000",
          "2014-02-02T20:00:00.000000000",
          "2014-02-02T20:30:00.000000000",
          "2014-02-02T21:00:00.000000000",
          "2014-02-02T21:30:00.000000000",
          "2014-02-02T22:00:00.000000000",
          "2014-02-02T22:30:00.000000000",
          "2014-02-02T23:00:00.000000000",
          "2014-02-02T23:30:00.000000000",
          "2014-02-03T00:00:00.000000000",
          "2014-02-03T00:30:00.000000000",
          "2014-02-03T01:00:00.000000000",
          "2014-02-03T01:30:00.000000000",
          "2014-02-03T02:00:00.000000000",
          "2014-02-03T02:30:00.000000000",
          "2014-02-03T03:00:00.000000000",
          "2014-02-03T03:30:00.000000000",
          "2014-02-03T04:00:00.000000000",
          "2014-02-03T04:30:00.000000000",
          "2014-02-03T05:00:00.000000000",
          "2014-02-03T05:30:00.000000000",
          "2014-02-03T06:00:00.000000000",
          "2014-02-03T06:30:00.000000000",
          "2014-02-03T07:00:00.000000000",
          "2014-02-03T07:30:00.000000000",
          "2014-02-03T08:00:00.000000000",
          "2014-02-03T08:30:00.000000000",
          "2014-02-03T09:00:00.000000000",
          "2014-02-03T09:30:00.000000000",
          "2014-02-03T10:00:00.000000000",
          "2014-02-03T10:30:00.000000000",
          "2014-02-03T11:00:00.000000000",
          "2014-02-03T11:30:00.000000000",
          "2014-02-03T12:00:00.000000000",
          "2014-02-03T12:30:00.000000000",
          "2014-02-03T13:00:00.000000000",
          "2014-02-03T13:30:00.000000000",
          "2014-02-03T14:00:00.000000000",
          "2014-02-03T14:30:00.000000000",
          "2014-02-03T15:00:00.000000000",
          "2014-02-03T15:30:00.000000000",
          "2014-02-03T16:00:00.000000000",
          "2014-02-03T16:30:00.000000000",
          "2014-02-03T17:00:00.000000000",
          "2014-02-03T17:30:00.000000000",
          "2014-02-03T18:00:00.000000000",
          "2014-02-03T18:30:00.000000000",
          "2014-02-03T19:00:00.000000000",
          "2014-02-03T19:30:00.000000000",
          "2014-02-03T20:00:00.000000000",
          "2014-02-03T20:30:00.000000000",
          "2014-02-03T21:00:00.000000000",
          "2014-02-03T21:30:00.000000000",
          "2014-02-03T22:00:00.000000000",
          "2014-02-03T22:30:00.000000000",
          "2014-02-03T23:00:00.000000000",
          "2014-02-03T23:30:00.000000000",
          "2014-02-04T00:00:00.000000000",
          "2014-02-04T00:30:00.000000000",
          "2014-02-04T01:00:00.000000000",
          "2014-02-04T01:30:00.000000000",
          "2014-02-04T02:00:00.000000000",
          "2014-02-04T02:30:00.000000000",
          "2014-02-04T03:00:00.000000000",
          "2014-02-04T03:30:00.000000000",
          "2014-02-04T04:00:00.000000000",
          "2014-02-04T04:30:00.000000000",
          "2014-02-04T05:00:00.000000000",
          "2014-02-04T05:30:00.000000000",
          "2014-02-04T06:00:00.000000000",
          "2014-02-04T06:30:00.000000000",
          "2014-02-04T07:00:00.000000000",
          "2014-02-04T07:30:00.000000000",
          "2014-02-04T08:00:00.000000000",
          "2014-02-04T08:30:00.000000000",
          "2014-02-04T09:00:00.000000000",
          "2014-02-04T09:30:00.000000000",
          "2014-02-04T10:00:00.000000000",
          "2014-02-04T10:30:00.000000000",
          "2014-02-04T11:00:00.000000000",
          "2014-02-04T11:30:00.000000000",
          "2014-02-04T12:00:00.000000000",
          "2014-02-04T12:30:00.000000000",
          "2014-02-04T13:00:00.000000000",
          "2014-02-04T13:30:00.000000000",
          "2014-02-04T14:00:00.000000000",
          "2014-02-04T14:30:00.000000000",
          "2014-02-04T15:00:00.000000000",
          "2014-02-04T15:30:00.000000000",
          "2014-02-04T16:00:00.000000000",
          "2014-02-04T16:30:00.000000000",
          "2014-02-04T17:00:00.000000000",
          "2014-02-04T17:30:00.000000000",
          "2014-02-04T18:00:00.000000000",
          "2014-02-04T18:30:00.000000000",
          "2014-02-04T19:00:00.000000000",
          "2014-02-04T19:30:00.000000000",
          "2014-02-04T20:00:00.000000000",
          "2014-02-04T20:30:00.000000000",
          "2014-02-04T21:00:00.000000000",
          "2014-02-04T21:30:00.000000000",
          "2014-02-04T22:00:00.000000000",
          "2014-02-04T22:30:00.000000000",
          "2014-02-04T23:00:00.000000000",
          "2014-02-04T23:30:00.000000000",
          "2014-02-05T00:00:00.000000000",
          "2014-02-05T00:30:00.000000000",
          "2014-02-05T01:00:00.000000000",
          "2014-02-05T01:30:00.000000000",
          "2014-02-05T02:00:00.000000000",
          "2014-02-05T02:30:00.000000000",
          "2014-02-05T03:00:00.000000000",
          "2014-02-05T03:30:00.000000000",
          "2014-02-05T04:00:00.000000000",
          "2014-02-05T04:30:00.000000000",
          "2014-02-05T05:00:00.000000000",
          "2014-02-05T05:30:00.000000000",
          "2014-02-05T06:00:00.000000000",
          "2014-02-05T06:30:00.000000000",
          "2014-02-05T07:00:00.000000000",
          "2014-02-05T07:30:00.000000000",
          "2014-02-05T08:00:00.000000000",
          "2014-02-05T08:30:00.000000000",
          "2014-02-05T09:00:00.000000000",
          "2014-02-05T09:30:00.000000000",
          "2014-02-05T10:00:00.000000000",
          "2014-02-05T10:30:00.000000000",
          "2014-02-05T11:00:00.000000000",
          "2014-02-05T11:30:00.000000000",
          "2014-02-05T12:00:00.000000000",
          "2014-02-05T12:30:00.000000000",
          "2014-02-05T13:00:00.000000000",
          "2014-02-05T13:30:00.000000000",
          "2014-02-05T14:00:00.000000000",
          "2014-02-05T14:30:00.000000000",
          "2014-02-05T15:00:00.000000000",
          "2014-02-05T15:30:00.000000000",
          "2014-02-05T16:00:00.000000000",
          "2014-02-05T16:30:00.000000000",
          "2014-02-05T17:00:00.000000000",
          "2014-02-05T17:30:00.000000000",
          "2014-02-05T18:00:00.000000000",
          "2014-02-05T18:30:00.000000000",
          "2014-02-05T19:00:00.000000000",
          "2014-02-05T19:30:00.000000000",
          "2014-02-05T20:00:00.000000000",
          "2014-02-05T20:30:00.000000000",
          "2014-02-05T21:00:00.000000000",
          "2014-02-05T21:30:00.000000000",
          "2014-02-05T22:00:00.000000000",
          "2014-02-05T22:30:00.000000000",
          "2014-02-05T23:00:00.000000000",
          "2014-02-05T23:30:00.000000000",
          "2014-02-06T00:00:00.000000000",
          "2014-02-06T00:30:00.000000000",
          "2014-02-06T01:00:00.000000000",
          "2014-02-06T01:30:00.000000000",
          "2014-02-06T02:00:00.000000000",
          "2014-02-06T02:30:00.000000000",
          "2014-02-06T03:00:00.000000000",
          "2014-02-06T03:30:00.000000000",
          "2014-02-06T04:00:00.000000000",
          "2014-02-06T04:30:00.000000000",
          "2014-02-06T05:00:00.000000000",
          "2014-02-06T05:30:00.000000000",
          "2014-02-06T06:00:00.000000000",
          "2014-02-06T06:30:00.000000000",
          "2014-02-06T07:00:00.000000000",
          "2014-02-06T07:30:00.000000000",
          "2014-02-06T08:00:00.000000000",
          "2014-02-06T08:30:00.000000000",
          "2014-02-06T09:00:00.000000000",
          "2014-02-06T09:30:00.000000000",
          "2014-02-06T10:00:00.000000000",
          "2014-02-06T10:30:00.000000000",
          "2014-02-06T11:00:00.000000000",
          "2014-02-06T11:30:00.000000000",
          "2014-02-06T12:00:00.000000000",
          "2014-02-06T12:30:00.000000000",
          "2014-02-06T13:00:00.000000000",
          "2014-02-06T13:30:00.000000000",
          "2014-02-06T14:00:00.000000000",
          "2014-02-06T14:30:00.000000000",
          "2014-02-06T15:00:00.000000000",
          "2014-02-06T15:30:00.000000000",
          "2014-02-06T16:00:00.000000000",
          "2014-02-06T16:30:00.000000000",
          "2014-02-06T17:00:00.000000000",
          "2014-02-06T17:30:00.000000000",
          "2014-02-06T18:00:00.000000000",
          "2014-02-06T18:30:00.000000000",
          "2014-02-06T19:00:00.000000000",
          "2014-02-06T19:30:00.000000000",
          "2014-02-06T20:00:00.000000000",
          "2014-02-06T20:30:00.000000000",
          "2014-02-06T21:00:00.000000000",
          "2014-02-06T21:30:00.000000000",
          "2014-02-06T22:00:00.000000000",
          "2014-02-06T22:30:00.000000000",
          "2014-02-06T23:00:00.000000000",
          "2014-02-06T23:30:00.000000000",
          "2014-02-07T00:00:00.000000000",
          "2014-02-07T00:30:00.000000000",
          "2014-02-07T01:00:00.000000000",
          "2014-02-07T01:30:00.000000000",
          "2014-02-07T02:00:00.000000000",
          "2014-02-07T02:30:00.000000000",
          "2014-02-07T03:00:00.000000000",
          "2014-02-07T03:30:00.000000000",
          "2014-02-07T04:00:00.000000000",
          "2014-02-07T04:30:00.000000000",
          "2014-02-07T05:00:00.000000000",
          "2014-02-07T05:30:00.000000000",
          "2014-02-07T06:00:00.000000000",
          "2014-02-07T06:30:00.000000000",
          "2014-02-07T07:00:00.000000000",
          "2014-02-07T07:30:00.000000000",
          "2014-02-07T08:00:00.000000000",
          "2014-02-07T08:30:00.000000000",
          "2014-02-07T09:00:00.000000000",
          "2014-02-07T09:30:00.000000000",
          "2014-02-07T10:00:00.000000000",
          "2014-02-07T10:30:00.000000000",
          "2014-02-07T11:00:00.000000000",
          "2014-02-07T11:30:00.000000000",
          "2014-02-07T12:00:00.000000000",
          "2014-02-07T12:30:00.000000000",
          "2014-02-07T13:00:00.000000000",
          "2014-02-07T13:30:00.000000000",
          "2014-02-07T14:00:00.000000000",
          "2014-02-07T14:30:00.000000000",
          "2014-02-07T15:00:00.000000000",
          "2014-02-07T15:30:00.000000000",
          "2014-02-07T16:00:00.000000000",
          "2014-02-07T16:30:00.000000000",
          "2014-02-07T17:00:00.000000000",
          "2014-02-07T17:30:00.000000000",
          "2014-02-07T18:00:00.000000000",
          "2014-02-07T18:30:00.000000000",
          "2014-02-07T19:00:00.000000000",
          "2014-02-07T19:30:00.000000000",
          "2014-02-07T20:00:00.000000000",
          "2014-02-07T20:30:00.000000000",
          "2014-02-07T21:00:00.000000000",
          "2014-02-07T21:30:00.000000000",
          "2014-02-07T22:00:00.000000000",
          "2014-02-07T22:30:00.000000000",
          "2014-02-07T23:00:00.000000000",
          "2014-02-07T23:30:00.000000000",
          "2014-02-08T00:00:00.000000000",
          "2014-02-08T00:30:00.000000000",
          "2014-02-08T01:00:00.000000000",
          "2014-02-08T01:30:00.000000000",
          "2014-02-08T02:00:00.000000000",
          "2014-02-08T02:30:00.000000000",
          "2014-02-08T03:00:00.000000000",
          "2014-02-08T03:30:00.000000000",
          "2014-02-08T04:00:00.000000000",
          "2014-02-08T04:30:00.000000000",
          "2014-02-08T05:00:00.000000000",
          "2014-02-08T05:30:00.000000000",
          "2014-02-08T06:00:00.000000000",
          "2014-02-08T06:30:00.000000000",
          "2014-02-08T07:00:00.000000000",
          "2014-02-08T07:30:00.000000000",
          "2014-02-08T08:00:00.000000000",
          "2014-02-08T08:30:00.000000000",
          "2014-02-08T09:00:00.000000000",
          "2014-02-08T09:30:00.000000000",
          "2014-02-08T10:00:00.000000000",
          "2014-02-08T10:30:00.000000000",
          "2014-02-08T11:00:00.000000000",
          "2014-02-08T11:30:00.000000000",
          "2014-02-08T12:00:00.000000000",
          "2014-02-08T12:30:00.000000000",
          "2014-02-08T13:00:00.000000000",
          "2014-02-08T13:30:00.000000000",
          "2014-02-08T14:00:00.000000000",
          "2014-02-08T14:30:00.000000000",
          "2014-02-08T15:00:00.000000000",
          "2014-02-08T15:30:00.000000000",
          "2014-02-08T16:00:00.000000000",
          "2014-02-08T16:30:00.000000000",
          "2014-02-08T17:00:00.000000000",
          "2014-02-08T17:30:00.000000000",
          "2014-02-08T18:00:00.000000000",
          "2014-02-08T18:30:00.000000000",
          "2014-02-08T19:00:00.000000000",
          "2014-02-08T19:30:00.000000000",
          "2014-02-08T20:00:00.000000000",
          "2014-02-08T20:30:00.000000000",
          "2014-02-08T21:00:00.000000000",
          "2014-02-08T21:30:00.000000000",
          "2014-02-08T22:00:00.000000000",
          "2014-02-08T22:30:00.000000000",
          "2014-02-08T23:00:00.000000000",
          "2014-02-08T23:30:00.000000000",
          "2014-02-09T00:00:00.000000000",
          "2014-02-09T00:30:00.000000000",
          "2014-02-09T01:00:00.000000000",
          "2014-02-09T01:30:00.000000000",
          "2014-02-09T02:00:00.000000000",
          "2014-02-09T02:30:00.000000000",
          "2014-02-09T03:00:00.000000000",
          "2014-02-09T03:30:00.000000000",
          "2014-02-09T04:00:00.000000000",
          "2014-02-09T04:30:00.000000000",
          "2014-02-09T05:00:00.000000000",
          "2014-02-09T05:30:00.000000000",
          "2014-02-09T06:00:00.000000000",
          "2014-02-09T06:30:00.000000000",
          "2014-02-09T07:00:00.000000000",
          "2014-02-09T07:30:00.000000000",
          "2014-02-09T08:00:00.000000000",
          "2014-02-09T08:30:00.000000000",
          "2014-02-09T09:00:00.000000000",
          "2014-02-09T09:30:00.000000000",
          "2014-02-09T10:00:00.000000000",
          "2014-02-09T10:30:00.000000000",
          "2014-02-09T11:00:00.000000000",
          "2014-02-09T11:30:00.000000000",
          "2014-02-09T12:00:00.000000000",
          "2014-02-09T12:30:00.000000000",
          "2014-02-09T13:00:00.000000000",
          "2014-02-09T13:30:00.000000000",
          "2014-02-09T14:00:00.000000000",
          "2014-02-09T14:30:00.000000000",
          "2014-02-09T15:00:00.000000000",
          "2014-02-09T15:30:00.000000000",
          "2014-02-09T16:00:00.000000000",
          "2014-02-09T16:30:00.000000000",
          "2014-02-09T17:00:00.000000000",
          "2014-02-09T17:30:00.000000000",
          "2014-02-09T18:00:00.000000000",
          "2014-02-09T18:30:00.000000000",
          "2014-02-09T19:00:00.000000000",
          "2014-02-09T19:30:00.000000000",
          "2014-02-09T20:00:00.000000000",
          "2014-02-09T20:30:00.000000000",
          "2014-02-09T21:00:00.000000000",
          "2014-02-09T21:30:00.000000000",
          "2014-02-09T22:00:00.000000000",
          "2014-02-09T22:30:00.000000000",
          "2014-02-09T23:00:00.000000000",
          "2014-02-09T23:30:00.000000000",
          "2014-02-10T00:00:00.000000000",
          "2014-02-10T00:30:00.000000000",
          "2014-02-10T01:00:00.000000000",
          "2014-02-10T01:30:00.000000000",
          "2014-02-10T02:00:00.000000000",
          "2014-02-10T02:30:00.000000000",
          "2014-02-10T03:00:00.000000000",
          "2014-02-10T03:30:00.000000000",
          "2014-02-10T04:00:00.000000000",
          "2014-02-10T04:30:00.000000000",
          "2014-02-10T05:00:00.000000000",
          "2014-02-10T05:30:00.000000000",
          "2014-02-10T06:00:00.000000000",
          "2014-02-10T06:30:00.000000000",
          "2014-02-10T07:00:00.000000000",
          "2014-02-10T07:30:00.000000000",
          "2014-02-10T08:00:00.000000000",
          "2014-02-10T08:30:00.000000000",
          "2014-02-10T09:00:00.000000000",
          "2014-02-10T09:30:00.000000000",
          "2014-02-10T10:00:00.000000000",
          "2014-02-10T10:30:00.000000000",
          "2014-02-10T11:00:00.000000000",
          "2014-02-10T11:30:00.000000000",
          "2014-02-10T12:00:00.000000000",
          "2014-02-10T12:30:00.000000000",
          "2014-02-10T13:00:00.000000000",
          "2014-02-10T13:30:00.000000000",
          "2014-02-10T14:00:00.000000000",
          "2014-02-10T14:30:00.000000000",
          "2014-02-10T15:00:00.000000000",
          "2014-02-10T15:30:00.000000000",
          "2014-02-10T16:00:00.000000000",
          "2014-02-10T16:30:00.000000000",
          "2014-02-10T17:00:00.000000000",
          "2014-02-10T17:30:00.000000000",
          "2014-02-10T18:00:00.000000000",
          "2014-02-10T18:30:00.000000000",
          "2014-02-10T19:00:00.000000000",
          "2014-02-10T19:30:00.000000000",
          "2014-02-10T20:00:00.000000000",
          "2014-02-10T20:30:00.000000000",
          "2014-02-10T21:00:00.000000000",
          "2014-02-10T21:30:00.000000000",
          "2014-02-10T22:00:00.000000000",
          "2014-02-10T22:30:00.000000000",
          "2014-02-10T23:00:00.000000000",
          "2014-02-10T23:30:00.000000000",
          "2014-02-11T00:00:00.000000000",
          "2014-02-11T00:30:00.000000000",
          "2014-02-11T01:00:00.000000000",
          "2014-02-11T01:30:00.000000000",
          "2014-02-11T02:00:00.000000000",
          "2014-02-11T02:30:00.000000000",
          "2014-02-11T03:00:00.000000000",
          "2014-02-11T03:30:00.000000000",
          "2014-02-11T04:00:00.000000000",
          "2014-02-11T04:30:00.000000000",
          "2014-02-11T05:00:00.000000000",
          "2014-02-11T05:30:00.000000000",
          "2014-02-11T06:00:00.000000000",
          "2014-02-11T06:30:00.000000000",
          "2014-02-11T07:00:00.000000000",
          "2014-02-11T07:30:00.000000000",
          "2014-02-11T08:00:00.000000000",
          "2014-02-11T08:30:00.000000000",
          "2014-02-11T09:00:00.000000000",
          "2014-02-11T09:30:00.000000000",
          "2014-02-11T10:00:00.000000000",
          "2014-02-11T10:30:00.000000000",
          "2014-02-11T11:00:00.000000000",
          "2014-02-11T11:30:00.000000000",
          "2014-02-11T12:00:00.000000000",
          "2014-02-11T12:30:00.000000000",
          "2014-02-11T13:00:00.000000000",
          "2014-02-11T13:30:00.000000000",
          "2014-02-11T14:00:00.000000000",
          "2014-02-11T14:30:00.000000000",
          "2014-02-11T15:00:00.000000000",
          "2014-02-11T15:30:00.000000000",
          "2014-02-11T16:00:00.000000000",
          "2014-02-11T16:30:00.000000000",
          "2014-02-11T17:00:00.000000000",
          "2014-02-11T17:30:00.000000000",
          "2014-02-11T18:00:00.000000000",
          "2014-02-11T18:30:00.000000000",
          "2014-02-11T19:00:00.000000000",
          "2014-02-11T19:30:00.000000000",
          "2014-02-11T20:00:00.000000000",
          "2014-02-11T20:30:00.000000000",
          "2014-02-11T21:00:00.000000000",
          "2014-02-11T21:30:00.000000000",
          "2014-02-11T22:00:00.000000000",
          "2014-02-11T22:30:00.000000000",
          "2014-02-11T23:00:00.000000000",
          "2014-02-11T23:30:00.000000000",
          "2014-02-12T00:00:00.000000000",
          "2014-02-12T00:30:00.000000000",
          "2014-02-12T01:00:00.000000000",
          "2014-02-12T01:30:00.000000000",
          "2014-02-12T02:00:00.000000000",
          "2014-02-12T02:30:00.000000000",
          "2014-02-12T03:00:00.000000000",
          "2014-02-12T03:30:00.000000000",
          "2014-02-12T04:00:00.000000000",
          "2014-02-12T04:30:00.000000000",
          "2014-02-12T05:00:00.000000000",
          "2014-02-12T05:30:00.000000000",
          "2014-02-12T06:00:00.000000000",
          "2014-02-12T06:30:00.000000000",
          "2014-02-12T07:00:00.000000000",
          "2014-02-12T07:30:00.000000000",
          "2014-02-12T08:00:00.000000000",
          "2014-02-12T08:30:00.000000000",
          "2014-02-12T09:00:00.000000000",
          "2014-02-12T09:30:00.000000000",
          "2014-02-12T10:00:00.000000000",
          "2014-02-12T10:30:00.000000000",
          "2014-02-12T11:00:00.000000000",
          "2014-02-12T11:30:00.000000000",
          "2014-02-12T12:00:00.000000000",
          "2014-02-12T12:30:00.000000000",
          "2014-02-12T13:00:00.000000000",
          "2014-02-12T13:30:00.000000000",
          "2014-02-12T14:00:00.000000000",
          "2014-02-12T14:30:00.000000000",
          "2014-02-12T15:00:00.000000000",
          "2014-02-12T15:30:00.000000000",
          "2014-02-12T16:00:00.000000000",
          "2014-02-12T16:30:00.000000000",
          "2014-02-12T17:00:00.000000000",
          "2014-02-12T17:30:00.000000000",
          "2014-02-12T18:00:00.000000000",
          "2014-02-12T18:30:00.000000000",
          "2014-02-12T19:00:00.000000000",
          "2014-02-12T19:30:00.000000000",
          "2014-02-12T20:00:00.000000000",
          "2014-02-12T20:30:00.000000000",
          "2014-02-12T21:00:00.000000000",
          "2014-02-12T21:30:00.000000000",
          "2014-02-12T22:00:00.000000000",
          "2014-02-12T22:30:00.000000000",
          "2014-02-12T23:00:00.000000000",
          "2014-02-12T23:30:00.000000000",
          "2014-02-13T00:00:00.000000000",
          "2014-02-13T00:30:00.000000000",
          "2014-02-13T01:00:00.000000000",
          "2014-02-13T01:30:00.000000000",
          "2014-02-13T02:00:00.000000000",
          "2014-02-13T02:30:00.000000000",
          "2014-02-13T03:00:00.000000000",
          "2014-02-13T03:30:00.000000000",
          "2014-02-13T04:00:00.000000000",
          "2014-02-13T04:30:00.000000000",
          "2014-02-13T05:00:00.000000000",
          "2014-02-13T05:30:00.000000000",
          "2014-02-13T06:00:00.000000000",
          "2014-02-13T06:30:00.000000000",
          "2014-02-13T07:00:00.000000000",
          "2014-02-13T07:30:00.000000000",
          "2014-02-13T08:00:00.000000000",
          "2014-02-13T08:30:00.000000000",
          "2014-02-13T09:00:00.000000000",
          "2014-02-13T09:30:00.000000000",
          "2014-02-13T10:00:00.000000000",
          "2014-02-13T10:30:00.000000000",
          "2014-02-13T11:00:00.000000000",
          "2014-02-13T11:30:00.000000000",
          "2014-02-13T12:00:00.000000000",
          "2014-02-13T12:30:00.000000000",
          "2014-02-13T13:00:00.000000000",
          "2014-02-13T13:30:00.000000000",
          "2014-02-13T14:00:00.000000000",
          "2014-02-13T14:30:00.000000000",
          "2014-02-13T15:00:00.000000000",
          "2014-02-13T15:30:00.000000000",
          "2014-02-13T16:00:00.000000000",
          "2014-02-13T16:30:00.000000000",
          "2014-02-13T17:00:00.000000000",
          "2014-02-13T17:30:00.000000000",
          "2014-02-13T18:00:00.000000000",
          "2014-02-13T18:30:00.000000000",
          "2014-02-13T19:00:00.000000000",
          "2014-02-13T19:30:00.000000000",
          "2014-02-13T20:00:00.000000000",
          "2014-02-13T20:30:00.000000000",
          "2014-02-13T21:00:00.000000000",
          "2014-02-13T21:30:00.000000000",
          "2014-02-13T22:00:00.000000000",
          "2014-02-13T22:30:00.000000000",
          "2014-02-13T23:00:00.000000000",
          "2014-02-13T23:30:00.000000000",
          "2014-02-14T00:00:00.000000000",
          "2014-02-14T00:30:00.000000000",
          "2014-02-14T01:00:00.000000000",
          "2014-02-14T01:30:00.000000000",
          "2014-02-14T02:00:00.000000000",
          "2014-02-14T02:30:00.000000000",
          "2014-02-14T03:00:00.000000000",
          "2014-02-14T03:30:00.000000000",
          "2014-02-14T04:00:00.000000000",
          "2014-02-14T04:30:00.000000000",
          "2014-02-14T05:00:00.000000000",
          "2014-02-14T05:30:00.000000000",
          "2014-02-14T06:00:00.000000000",
          "2014-02-14T06:30:00.000000000",
          "2014-02-14T07:00:00.000000000",
          "2014-02-14T07:30:00.000000000",
          "2014-02-14T08:00:00.000000000",
          "2014-02-14T08:30:00.000000000",
          "2014-02-14T09:00:00.000000000",
          "2014-02-14T09:30:00.000000000",
          "2014-02-14T10:00:00.000000000",
          "2014-02-14T10:30:00.000000000",
          "2014-02-14T11:00:00.000000000",
          "2014-02-14T11:30:00.000000000",
          "2014-02-14T12:00:00.000000000",
          "2014-02-14T12:30:00.000000000",
          "2014-02-14T13:00:00.000000000",
          "2014-02-14T13:30:00.000000000",
          "2014-02-14T14:00:00.000000000",
          "2014-02-14T14:30:00.000000000",
          "2014-02-14T15:00:00.000000000",
          "2014-02-14T15:30:00.000000000",
          "2014-02-14T16:00:00.000000000",
          "2014-02-14T16:30:00.000000000",
          "2014-02-14T17:00:00.000000000",
          "2014-02-14T17:30:00.000000000",
          "2014-02-14T18:00:00.000000000",
          "2014-02-14T18:30:00.000000000",
          "2014-02-14T19:00:00.000000000",
          "2014-02-14T19:30:00.000000000",
          "2014-02-14T20:00:00.000000000",
          "2014-02-14T20:30:00.000000000",
          "2014-02-14T21:00:00.000000000",
          "2014-02-14T21:30:00.000000000",
          "2014-02-14T22:00:00.000000000",
          "2014-02-14T22:30:00.000000000",
          "2014-02-14T23:00:00.000000000",
          "2014-02-14T23:30:00.000000000",
          "2014-02-15T00:00:00.000000000",
          "2014-02-15T00:30:00.000000000",
          "2014-02-15T01:00:00.000000000",
          "2014-02-15T01:30:00.000000000",
          "2014-02-15T02:00:00.000000000",
          "2014-02-15T02:30:00.000000000",
          "2014-02-15T03:00:00.000000000",
          "2014-02-15T03:30:00.000000000",
          "2014-02-15T04:00:00.000000000",
          "2014-02-15T04:30:00.000000000",
          "2014-02-15T05:00:00.000000000",
          "2014-02-15T05:30:00.000000000",
          "2014-02-15T06:00:00.000000000",
          "2014-02-15T06:30:00.000000000",
          "2014-02-15T07:00:00.000000000",
          "2014-02-15T07:30:00.000000000",
          "2014-02-15T08:00:00.000000000",
          "2014-02-15T08:30:00.000000000",
          "2014-02-15T09:00:00.000000000",
          "2014-02-15T09:30:00.000000000",
          "2014-02-15T10:00:00.000000000",
          "2014-02-15T10:30:00.000000000",
          "2014-02-15T11:00:00.000000000",
          "2014-02-15T11:30:00.000000000",
          "2014-02-15T12:00:00.000000000",
          "2014-02-15T12:30:00.000000000",
          "2014-02-15T13:00:00.000000000",
          "2014-02-15T13:30:00.000000000",
          "2014-02-15T14:00:00.000000000",
          "2014-02-15T14:30:00.000000000",
          "2014-02-15T15:00:00.000000000",
          "2014-02-15T15:30:00.000000000",
          "2014-02-15T16:00:00.000000000",
          "2014-02-15T16:30:00.000000000",
          "2014-02-15T17:00:00.000000000",
          "2014-02-15T17:30:00.000000000",
          "2014-02-15T18:00:00.000000000",
          "2014-02-15T18:30:00.000000000",
          "2014-02-15T19:00:00.000000000",
          "2014-02-15T19:30:00.000000000",
          "2014-02-15T20:00:00.000000000",
          "2014-02-15T20:30:00.000000000",
          "2014-02-15T21:00:00.000000000",
          "2014-02-15T21:30:00.000000000",
          "2014-02-15T22:00:00.000000000",
          "2014-02-15T22:30:00.000000000",
          "2014-02-15T23:00:00.000000000",
          "2014-02-15T23:30:00.000000000",
          "2014-02-16T00:00:00.000000000",
          "2014-02-16T00:30:00.000000000",
          "2014-02-16T01:00:00.000000000",
          "2014-02-16T01:30:00.000000000",
          "2014-02-16T02:00:00.000000000",
          "2014-02-16T02:30:00.000000000",
          "2014-02-16T03:00:00.000000000",
          "2014-02-16T03:30:00.000000000",
          "2014-02-16T04:00:00.000000000",
          "2014-02-16T04:30:00.000000000",
          "2014-02-16T05:00:00.000000000",
          "2014-02-16T05:30:00.000000000",
          "2014-02-16T06:00:00.000000000",
          "2014-02-16T06:30:00.000000000",
          "2014-02-16T07:00:00.000000000",
          "2014-02-16T07:30:00.000000000",
          "2014-02-16T08:00:00.000000000",
          "2014-02-16T08:30:00.000000000",
          "2014-02-16T09:00:00.000000000",
          "2014-02-16T09:30:00.000000000",
          "2014-02-16T10:00:00.000000000",
          "2014-02-16T10:30:00.000000000",
          "2014-02-16T11:00:00.000000000",
          "2014-02-16T11:30:00.000000000",
          "2014-02-16T12:00:00.000000000",
          "2014-02-16T12:30:00.000000000",
          "2014-02-16T13:00:00.000000000",
          "2014-02-16T13:30:00.000000000",
          "2014-02-16T14:00:00.000000000",
          "2014-02-16T14:30:00.000000000",
          "2014-02-16T15:00:00.000000000",
          "2014-02-16T15:30:00.000000000",
          "2014-02-16T16:00:00.000000000",
          "2014-02-16T16:30:00.000000000",
          "2014-02-16T17:00:00.000000000",
          "2014-02-16T17:30:00.000000000",
          "2014-02-16T18:00:00.000000000",
          "2014-02-16T18:30:00.000000000",
          "2014-02-16T19:00:00.000000000",
          "2014-02-16T19:30:00.000000000",
          "2014-02-16T20:00:00.000000000",
          "2014-02-16T20:30:00.000000000",
          "2014-02-16T21:00:00.000000000",
          "2014-02-16T21:30:00.000000000",
          "2014-02-16T22:00:00.000000000",
          "2014-02-16T22:30:00.000000000",
          "2014-02-16T23:00:00.000000000",
          "2014-02-16T23:30:00.000000000",
          "2014-02-17T00:00:00.000000000",
          "2014-02-17T00:30:00.000000000",
          "2014-02-17T01:00:00.000000000",
          "2014-02-17T01:30:00.000000000",
          "2014-02-17T02:00:00.000000000",
          "2014-02-17T02:30:00.000000000",
          "2014-02-17T03:00:00.000000000",
          "2014-02-17T03:30:00.000000000",
          "2014-02-17T04:00:00.000000000",
          "2014-02-17T04:30:00.000000000",
          "2014-02-17T05:00:00.000000000",
          "2014-02-17T05:30:00.000000000",
          "2014-02-17T06:00:00.000000000",
          "2014-02-17T06:30:00.000000000",
          "2014-02-17T07:00:00.000000000",
          "2014-02-17T07:30:00.000000000",
          "2014-02-17T08:00:00.000000000",
          "2014-02-17T08:30:00.000000000",
          "2014-02-17T09:00:00.000000000",
          "2014-02-17T09:30:00.000000000",
          "2014-02-17T10:00:00.000000000",
          "2014-02-17T10:30:00.000000000",
          "2014-02-17T11:00:00.000000000",
          "2014-02-17T11:30:00.000000000",
          "2014-02-17T12:00:00.000000000",
          "2014-02-17T12:30:00.000000000",
          "2014-02-17T13:00:00.000000000",
          "2014-02-17T13:30:00.000000000",
          "2014-02-17T14:00:00.000000000",
          "2014-02-17T14:30:00.000000000",
          "2014-02-17T15:00:00.000000000",
          "2014-02-17T15:30:00.000000000",
          "2014-02-17T16:00:00.000000000",
          "2014-02-17T16:30:00.000000000",
          "2014-02-17T17:00:00.000000000",
          "2014-02-17T17:30:00.000000000",
          "2014-02-17T18:00:00.000000000",
          "2014-02-17T18:30:00.000000000",
          "2014-02-17T19:00:00.000000000",
          "2014-02-17T19:30:00.000000000",
          "2014-02-17T20:00:00.000000000",
          "2014-02-17T20:30:00.000000000",
          "2014-02-17T21:00:00.000000000",
          "2014-02-17T21:30:00.000000000",
          "2014-02-17T22:00:00.000000000",
          "2014-02-17T22:30:00.000000000",
          "2014-02-17T23:00:00.000000000",
          "2014-02-17T23:30:00.000000000",
          "2014-02-18T00:00:00.000000000",
          "2014-02-18T00:30:00.000000000",
          "2014-02-18T01:00:00.000000000",
          "2014-02-18T01:30:00.000000000",
          "2014-02-18T02:00:00.000000000",
          "2014-02-18T02:30:00.000000000",
          "2014-02-18T03:00:00.000000000",
          "2014-02-18T03:30:00.000000000",
          "2014-02-18T04:00:00.000000000",
          "2014-02-18T04:30:00.000000000",
          "2014-02-18T05:00:00.000000000",
          "2014-02-18T05:30:00.000000000",
          "2014-02-18T06:00:00.000000000",
          "2014-02-18T06:30:00.000000000",
          "2014-02-18T07:00:00.000000000",
          "2014-02-18T07:30:00.000000000",
          "2014-02-18T08:00:00.000000000",
          "2014-02-18T08:30:00.000000000",
          "2014-02-18T09:00:00.000000000",
          "2014-02-18T09:30:00.000000000",
          "2014-02-18T10:00:00.000000000",
          "2014-02-18T10:30:00.000000000",
          "2014-02-18T11:00:00.000000000",
          "2014-02-18T11:30:00.000000000",
          "2014-02-18T12:00:00.000000000",
          "2014-02-18T12:30:00.000000000",
          "2014-02-18T13:00:00.000000000",
          "2014-02-18T13:30:00.000000000",
          "2014-02-18T14:00:00.000000000",
          "2014-02-18T14:30:00.000000000",
          "2014-02-18T15:00:00.000000000",
          "2014-02-18T15:30:00.000000000",
          "2014-02-18T16:00:00.000000000",
          "2014-02-18T16:30:00.000000000",
          "2014-02-18T17:00:00.000000000",
          "2014-02-18T17:30:00.000000000",
          "2014-02-18T18:00:00.000000000",
          "2014-02-18T18:30:00.000000000",
          "2014-02-18T19:00:00.000000000",
          "2014-02-18T19:30:00.000000000",
          "2014-02-18T20:00:00.000000000",
          "2014-02-18T20:30:00.000000000",
          "2014-02-18T21:00:00.000000000",
          "2014-02-18T21:30:00.000000000",
          "2014-02-18T22:00:00.000000000",
          "2014-02-18T22:30:00.000000000",
          "2014-02-18T23:00:00.000000000",
          "2014-02-18T23:30:00.000000000",
          "2014-02-19T00:00:00.000000000",
          "2014-02-19T00:30:00.000000000",
          "2014-02-19T01:00:00.000000000",
          "2014-02-19T01:30:00.000000000",
          "2014-02-19T02:00:00.000000000",
          "2014-02-19T02:30:00.000000000",
          "2014-02-19T03:00:00.000000000",
          "2014-02-19T03:30:00.000000000",
          "2014-02-19T04:00:00.000000000",
          "2014-02-19T04:30:00.000000000",
          "2014-02-19T05:00:00.000000000",
          "2014-02-19T05:30:00.000000000",
          "2014-02-19T06:00:00.000000000",
          "2014-02-19T06:30:00.000000000",
          "2014-02-19T07:00:00.000000000",
          "2014-02-19T07:30:00.000000000",
          "2014-02-19T08:00:00.000000000",
          "2014-02-19T08:30:00.000000000",
          "2014-02-19T09:00:00.000000000",
          "2014-02-19T09:30:00.000000000",
          "2014-02-19T10:00:00.000000000",
          "2014-02-19T10:30:00.000000000",
          "2014-02-19T11:00:00.000000000",
          "2014-02-19T11:30:00.000000000",
          "2014-02-19T12:00:00.000000000",
          "2014-02-19T12:30:00.000000000",
          "2014-02-19T13:00:00.000000000",
          "2014-02-19T13:30:00.000000000",
          "2014-02-19T14:00:00.000000000",
          "2014-02-19T14:30:00.000000000",
          "2014-02-19T15:00:00.000000000",
          "2014-02-19T15:30:00.000000000",
          "2014-02-19T16:00:00.000000000",
          "2014-02-19T16:30:00.000000000",
          "2014-02-19T17:00:00.000000000",
          "2014-02-19T17:30:00.000000000",
          "2014-02-19T18:00:00.000000000",
          "2014-02-19T18:30:00.000000000",
          "2014-02-19T19:00:00.000000000",
          "2014-02-19T19:30:00.000000000",
          "2014-02-19T20:00:00.000000000",
          "2014-02-19T20:30:00.000000000",
          "2014-02-19T21:00:00.000000000",
          "2014-02-19T21:30:00.000000000",
          "2014-02-19T22:00:00.000000000",
          "2014-02-19T22:30:00.000000000",
          "2014-02-19T23:00:00.000000000",
          "2014-02-19T23:30:00.000000000",
          "2014-02-20T00:00:00.000000000",
          "2014-02-20T00:30:00.000000000",
          "2014-02-20T01:00:00.000000000",
          "2014-02-20T01:30:00.000000000",
          "2014-02-20T02:00:00.000000000",
          "2014-02-20T02:30:00.000000000",
          "2014-02-20T03:00:00.000000000",
          "2014-02-20T03:30:00.000000000",
          "2014-02-20T04:00:00.000000000",
          "2014-02-20T04:30:00.000000000",
          "2014-02-20T05:00:00.000000000",
          "2014-02-20T05:30:00.000000000",
          "2014-02-20T06:00:00.000000000",
          "2014-02-20T06:30:00.000000000",
          "2014-02-20T07:00:00.000000000",
          "2014-02-20T07:30:00.000000000",
          "2014-02-20T08:00:00.000000000",
          "2014-02-20T08:30:00.000000000",
          "2014-02-20T09:00:00.000000000",
          "2014-02-20T09:30:00.000000000",
          "2014-02-20T10:00:00.000000000",
          "2014-02-20T10:30:00.000000000",
          "2014-02-20T11:00:00.000000000",
          "2014-02-20T11:30:00.000000000",
          "2014-02-20T12:00:00.000000000",
          "2014-02-20T12:30:00.000000000",
          "2014-02-20T13:00:00.000000000",
          "2014-02-20T13:30:00.000000000",
          "2014-02-20T14:00:00.000000000",
          "2014-02-20T14:30:00.000000000",
          "2014-02-20T15:00:00.000000000",
          "2014-02-20T15:30:00.000000000",
          "2014-02-20T16:00:00.000000000",
          "2014-02-20T16:30:00.000000000",
          "2014-02-20T17:00:00.000000000",
          "2014-02-20T17:30:00.000000000",
          "2014-02-20T18:00:00.000000000",
          "2014-02-20T18:30:00.000000000",
          "2014-02-20T19:00:00.000000000",
          "2014-02-20T19:30:00.000000000",
          "2014-02-20T20:00:00.000000000",
          "2014-02-20T20:30:00.000000000",
          "2014-02-20T21:00:00.000000000",
          "2014-02-20T21:30:00.000000000",
          "2014-02-20T22:00:00.000000000",
          "2014-02-20T22:30:00.000000000",
          "2014-02-20T23:00:00.000000000",
          "2014-02-20T23:30:00.000000000",
          "2014-02-21T00:00:00.000000000",
          "2014-02-21T00:30:00.000000000",
          "2014-02-21T01:00:00.000000000",
          "2014-02-21T01:30:00.000000000",
          "2014-02-21T02:00:00.000000000",
          "2014-02-21T02:30:00.000000000",
          "2014-02-21T03:00:00.000000000",
          "2014-02-21T03:30:00.000000000",
          "2014-02-21T04:00:00.000000000",
          "2014-02-21T04:30:00.000000000",
          "2014-02-21T05:00:00.000000000",
          "2014-02-21T05:30:00.000000000",
          "2014-02-21T06:00:00.000000000",
          "2014-02-21T06:30:00.000000000",
          "2014-02-21T07:00:00.000000000",
          "2014-02-21T07:30:00.000000000",
          "2014-02-21T08:00:00.000000000",
          "2014-02-21T08:30:00.000000000",
          "2014-02-21T09:00:00.000000000",
          "2014-02-21T09:30:00.000000000",
          "2014-02-21T10:00:00.000000000",
          "2014-02-21T10:30:00.000000000",
          "2014-02-21T11:00:00.000000000",
          "2014-02-21T11:30:00.000000000",
          "2014-02-21T12:00:00.000000000",
          "2014-02-21T12:30:00.000000000",
          "2014-02-21T13:00:00.000000000",
          "2014-02-21T13:30:00.000000000",
          "2014-02-21T14:00:00.000000000",
          "2014-02-21T14:30:00.000000000",
          "2014-02-21T15:00:00.000000000",
          "2014-02-21T15:30:00.000000000",
          "2014-02-21T16:00:00.000000000",
          "2014-02-21T16:30:00.000000000",
          "2014-02-21T17:00:00.000000000",
          "2014-02-21T17:30:00.000000000",
          "2014-02-21T18:00:00.000000000",
          "2014-02-21T18:30:00.000000000",
          "2014-02-21T19:00:00.000000000",
          "2014-02-21T19:30:00.000000000",
          "2014-02-21T20:00:00.000000000",
          "2014-02-21T20:30:00.000000000",
          "2014-02-21T21:00:00.000000000",
          "2014-02-21T21:30:00.000000000",
          "2014-02-21T22:00:00.000000000",
          "2014-02-21T22:30:00.000000000",
          "2014-02-21T23:00:00.000000000",
          "2014-02-21T23:30:00.000000000",
          "2014-02-22T00:00:00.000000000",
          "2014-02-22T00:30:00.000000000",
          "2014-02-22T01:00:00.000000000",
          "2014-02-22T01:30:00.000000000",
          "2014-02-22T02:00:00.000000000",
          "2014-02-22T02:30:00.000000000",
          "2014-02-22T03:00:00.000000000",
          "2014-02-22T03:30:00.000000000",
          "2014-02-22T04:00:00.000000000",
          "2014-02-22T04:30:00.000000000",
          "2014-02-22T05:00:00.000000000",
          "2014-02-22T05:30:00.000000000",
          "2014-02-22T06:00:00.000000000",
          "2014-02-22T06:30:00.000000000",
          "2014-02-22T07:00:00.000000000",
          "2014-02-22T07:30:00.000000000",
          "2014-02-22T08:00:00.000000000",
          "2014-02-22T08:30:00.000000000",
          "2014-02-22T09:00:00.000000000",
          "2014-02-22T09:30:00.000000000",
          "2014-02-22T10:00:00.000000000",
          "2014-02-22T10:30:00.000000000",
          "2014-02-22T11:00:00.000000000",
          "2014-02-22T11:30:00.000000000",
          "2014-02-22T12:00:00.000000000",
          "2014-02-22T12:30:00.000000000",
          "2014-02-22T13:00:00.000000000",
          "2014-02-22T13:30:00.000000000",
          "2014-02-22T14:00:00.000000000",
          "2014-02-22T14:30:00.000000000",
          "2014-02-22T15:00:00.000000000",
          "2014-02-22T15:30:00.000000000",
          "2014-02-22T16:00:00.000000000",
          "2014-02-22T16:30:00.000000000",
          "2014-02-22T17:00:00.000000000",
          "2014-02-22T17:30:00.000000000",
          "2014-02-22T18:00:00.000000000",
          "2014-02-22T18:30:00.000000000",
          "2014-02-22T19:00:00.000000000",
          "2014-02-22T19:30:00.000000000",
          "2014-02-22T20:00:00.000000000",
          "2014-02-22T20:30:00.000000000",
          "2014-02-22T21:00:00.000000000",
          "2014-02-22T21:30:00.000000000",
          "2014-02-22T22:00:00.000000000",
          "2014-02-22T22:30:00.000000000",
          "2014-02-22T23:00:00.000000000",
          "2014-02-22T23:30:00.000000000",
          "2014-02-23T00:00:00.000000000",
          "2014-02-23T00:30:00.000000000",
          "2014-02-23T01:00:00.000000000",
          "2014-02-23T01:30:00.000000000",
          "2014-02-23T02:00:00.000000000",
          "2014-02-23T02:30:00.000000000",
          "2014-02-23T03:00:00.000000000",
          "2014-02-23T03:30:00.000000000",
          "2014-02-23T04:00:00.000000000",
          "2014-02-23T04:30:00.000000000",
          "2014-02-23T05:00:00.000000000",
          "2014-02-23T05:30:00.000000000",
          "2014-02-23T06:00:00.000000000",
          "2014-02-23T06:30:00.000000000",
          "2014-02-23T07:00:00.000000000",
          "2014-02-23T07:30:00.000000000",
          "2014-02-23T08:00:00.000000000",
          "2014-02-23T08:30:00.000000000",
          "2014-02-23T09:00:00.000000000",
          "2014-02-23T09:30:00.000000000",
          "2014-02-23T10:00:00.000000000",
          "2014-02-23T10:30:00.000000000",
          "2014-02-23T11:00:00.000000000",
          "2014-02-23T11:30:00.000000000",
          "2014-02-23T12:00:00.000000000",
          "2014-02-23T12:30:00.000000000",
          "2014-02-23T13:00:00.000000000",
          "2014-02-23T13:30:00.000000000",
          "2014-02-23T14:00:00.000000000",
          "2014-02-23T14:30:00.000000000",
          "2014-02-23T15:00:00.000000000",
          "2014-02-23T15:30:00.000000000",
          "2014-02-23T16:00:00.000000000",
          "2014-02-23T16:30:00.000000000",
          "2014-02-23T17:00:00.000000000",
          "2014-02-23T17:30:00.000000000",
          "2014-02-23T18:00:00.000000000",
          "2014-02-23T18:30:00.000000000",
          "2014-02-23T19:00:00.000000000",
          "2014-02-23T19:30:00.000000000",
          "2014-02-23T20:00:00.000000000",
          "2014-02-23T20:30:00.000000000",
          "2014-02-23T21:00:00.000000000",
          "2014-02-23T21:30:00.000000000",
          "2014-02-23T22:00:00.000000000",
          "2014-02-23T22:30:00.000000000",
          "2014-02-23T23:00:00.000000000",
          "2014-02-23T23:30:00.000000000",
          "2014-02-24T00:00:00.000000000",
          "2014-02-24T00:30:00.000000000",
          "2014-02-24T01:00:00.000000000",
          "2014-02-24T01:30:00.000000000",
          "2014-02-24T02:00:00.000000000",
          "2014-02-24T02:30:00.000000000",
          "2014-02-24T03:00:00.000000000",
          "2014-02-24T03:30:00.000000000",
          "2014-02-24T04:00:00.000000000",
          "2014-02-24T04:30:00.000000000",
          "2014-02-24T05:00:00.000000000",
          "2014-02-24T05:30:00.000000000",
          "2014-02-24T06:00:00.000000000",
          "2014-02-24T06:30:00.000000000",
          "2014-02-24T07:00:00.000000000",
          "2014-02-24T07:30:00.000000000",
          "2014-02-24T08:00:00.000000000",
          "2014-02-24T08:30:00.000000000",
          "2014-02-24T09:00:00.000000000",
          "2014-02-24T09:30:00.000000000",
          "2014-02-24T10:00:00.000000000",
          "2014-02-24T10:30:00.000000000",
          "2014-02-24T11:00:00.000000000",
          "2014-02-24T11:30:00.000000000",
          "2014-02-24T12:00:00.000000000",
          "2014-02-24T12:30:00.000000000",
          "2014-02-24T13:00:00.000000000",
          "2014-02-24T13:30:00.000000000",
          "2014-02-24T14:00:00.000000000",
          "2014-02-24T14:30:00.000000000",
          "2014-02-24T15:00:00.000000000",
          "2014-02-24T15:30:00.000000000",
          "2014-02-24T16:00:00.000000000",
          "2014-02-24T16:30:00.000000000",
          "2014-02-24T17:00:00.000000000",
          "2014-02-24T17:30:00.000000000",
          "2014-02-24T18:00:00.000000000",
          "2014-02-24T18:30:00.000000000",
          "2014-02-24T19:00:00.000000000",
          "2014-02-24T19:30:00.000000000",
          "2014-02-24T20:00:00.000000000",
          "2014-02-24T20:30:00.000000000",
          "2014-02-24T21:00:00.000000000",
          "2014-02-24T21:30:00.000000000",
          "2014-02-24T22:00:00.000000000",
          "2014-02-24T22:30:00.000000000",
          "2014-02-24T23:00:00.000000000",
          "2014-02-24T23:30:00.000000000",
          "2014-02-25T00:00:00.000000000",
          "2014-02-25T00:30:00.000000000",
          "2014-02-25T01:00:00.000000000",
          "2014-02-25T01:30:00.000000000",
          "2014-02-25T02:00:00.000000000",
          "2014-02-25T02:30:00.000000000",
          "2014-02-25T03:00:00.000000000",
          "2014-02-25T03:30:00.000000000",
          "2014-02-25T04:00:00.000000000",
          "2014-02-25T04:30:00.000000000",
          "2014-02-25T05:00:00.000000000",
          "2014-02-25T05:30:00.000000000",
          "2014-02-25T06:00:00.000000000",
          "2014-02-25T06:30:00.000000000",
          "2014-02-25T07:00:00.000000000",
          "2014-02-25T07:30:00.000000000",
          "2014-02-25T08:00:00.000000000",
          "2014-02-25T08:30:00.000000000",
          "2014-02-25T09:00:00.000000000",
          "2014-02-25T09:30:00.000000000",
          "2014-02-25T10:00:00.000000000",
          "2014-02-25T10:30:00.000000000",
          "2014-02-25T11:00:00.000000000",
          "2014-02-25T11:30:00.000000000",
          "2014-02-25T12:00:00.000000000",
          "2014-02-25T12:30:00.000000000",
          "2014-02-25T13:00:00.000000000",
          "2014-02-25T13:30:00.000000000",
          "2014-02-25T14:00:00.000000000",
          "2014-02-25T14:30:00.000000000",
          "2014-02-25T15:00:00.000000000",
          "2014-02-25T15:30:00.000000000",
          "2014-02-25T16:00:00.000000000",
          "2014-02-25T16:30:00.000000000",
          "2014-02-25T17:00:00.000000000",
          "2014-02-25T17:30:00.000000000",
          "2014-02-25T18:00:00.000000000",
          "2014-02-25T18:30:00.000000000",
          "2014-02-25T19:00:00.000000000",
          "2014-02-25T19:30:00.000000000",
          "2014-02-25T20:00:00.000000000",
          "2014-02-25T20:30:00.000000000",
          "2014-02-25T21:00:00.000000000",
          "2014-02-25T21:30:00.000000000",
          "2014-02-25T22:00:00.000000000",
          "2014-02-25T22:30:00.000000000",
          "2014-02-25T23:00:00.000000000",
          "2014-02-25T23:30:00.000000000",
          "2014-02-26T00:00:00.000000000",
          "2014-02-26T00:30:00.000000000",
          "2014-02-26T01:00:00.000000000",
          "2014-02-26T01:30:00.000000000",
          "2014-02-26T02:00:00.000000000",
          "2014-02-26T02:30:00.000000000",
          "2014-02-26T03:00:00.000000000",
          "2014-02-26T03:30:00.000000000",
          "2014-02-26T04:00:00.000000000",
          "2014-02-26T04:30:00.000000000",
          "2014-02-26T05:00:00.000000000",
          "2014-02-26T05:30:00.000000000",
          "2014-02-26T06:00:00.000000000",
          "2014-02-26T06:30:00.000000000",
          "2014-02-26T07:00:00.000000000",
          "2014-02-26T07:30:00.000000000",
          "2014-02-26T08:00:00.000000000",
          "2014-02-26T08:30:00.000000000",
          "2014-02-26T09:00:00.000000000",
          "2014-02-26T09:30:00.000000000",
          "2014-02-26T10:00:00.000000000",
          "2014-02-26T10:30:00.000000000",
          "2014-02-26T11:00:00.000000000",
          "2014-02-26T11:30:00.000000000",
          "2014-02-26T12:00:00.000000000",
          "2014-02-26T12:30:00.000000000",
          "2014-02-26T13:00:00.000000000",
          "2014-02-26T13:30:00.000000000",
          "2014-02-26T14:00:00.000000000",
          "2014-02-26T14:30:00.000000000",
          "2014-02-26T15:00:00.000000000",
          "2014-02-26T15:30:00.000000000",
          "2014-02-26T16:00:00.000000000",
          "2014-02-26T16:30:00.000000000",
          "2014-02-26T17:00:00.000000000",
          "2014-02-26T17:30:00.000000000",
          "2014-02-26T18:00:00.000000000",
          "2014-02-26T18:30:00.000000000",
          "2014-02-26T19:00:00.000000000",
          "2014-02-26T19:30:00.000000000",
          "2014-02-26T20:00:00.000000000",
          "2014-02-26T20:30:00.000000000",
          "2014-02-26T21:00:00.000000000",
          "2014-02-26T21:30:00.000000000",
          "2014-02-26T22:00:00.000000000",
          "2014-02-26T22:30:00.000000000",
          "2014-02-26T23:00:00.000000000",
          "2014-02-26T23:30:00.000000000",
          "2014-02-27T00:00:00.000000000",
          "2014-02-27T00:30:00.000000000",
          "2014-02-27T01:00:00.000000000",
          "2014-02-27T01:30:00.000000000",
          "2014-02-27T02:00:00.000000000",
          "2014-02-27T02:30:00.000000000",
          "2014-02-27T03:00:00.000000000",
          "2014-02-27T03:30:00.000000000",
          "2014-02-27T04:00:00.000000000",
          "2014-02-27T04:30:00.000000000",
          "2014-02-27T05:00:00.000000000",
          "2014-02-27T05:30:00.000000000",
          "2014-02-27T06:00:00.000000000",
          "2014-02-27T06:30:00.000000000",
          "2014-02-27T07:00:00.000000000",
          "2014-02-27T07:30:00.000000000",
          "2014-02-27T08:00:00.000000000",
          "2014-02-27T08:30:00.000000000",
          "2014-02-27T09:00:00.000000000",
          "2014-02-27T09:30:00.000000000",
          "2014-02-27T10:00:00.000000000",
          "2014-02-27T10:30:00.000000000",
          "2014-02-27T11:00:00.000000000",
          "2014-02-27T11:30:00.000000000",
          "2014-02-27T12:00:00.000000000",
          "2014-02-27T12:30:00.000000000",
          "2014-02-27T13:00:00.000000000",
          "2014-02-27T13:30:00.000000000",
          "2014-02-27T14:00:00.000000000",
          "2014-02-27T14:30:00.000000000",
          "2014-02-27T15:00:00.000000000",
          "2014-02-27T15:30:00.000000000",
          "2014-02-27T16:00:00.000000000",
          "2014-02-27T16:30:00.000000000",
          "2014-02-27T17:00:00.000000000",
          "2014-02-27T17:30:00.000000000",
          "2014-02-27T18:00:00.000000000",
          "2014-02-27T18:30:00.000000000",
          "2014-02-27T19:00:00.000000000",
          "2014-02-27T19:30:00.000000000",
          "2014-02-27T20:00:00.000000000",
          "2014-02-27T20:30:00.000000000",
          "2014-02-27T21:00:00.000000000",
          "2014-02-27T21:30:00.000000000",
          "2014-02-27T22:00:00.000000000",
          "2014-02-27T22:30:00.000000000",
          "2014-02-27T23:00:00.000000000",
          "2014-02-27T23:30:00.000000000"
         ],
         "y": {
          "bdata": "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",
          "dtype": "f8"
         }
        }
       ],
       "layout": {
        "autosize": false,
        "height": 500,
        "legend": {
         "font": {
          "size": 15
         },
         "orientation": "h",
         "title": {},
         "x": 1,
         "xanchor": "right",
         "y": 0.98,
         "yanchor": "bottom"
        },
        "template": {
         "data": {
          "bar": [
           {
            "error_x": {
             "color": "#2a3f5f"
            },
            "error_y": {
             "color": "#2a3f5f"
            },
            "marker": {
             "line": {
              "color": "#E5ECF6",
              "width": 0.5
             },
             "pattern": {
              "fillmode": "overlay",
              "size": 10,
              "solidity": 0.2
             }
            },
            "type": "bar"
           }
          ],
          "barpolar": [
           {
            "marker": {
             "line": {
              "color": "#E5ECF6",
              "width": 0.5
             },
             "pattern": {
              "fillmode": "overlay",
              "size": 10,
              "solidity": 0.2
             }
            },
            "type": "barpolar"
           }
          ],
          "carpet": [
           {
            "aaxis": {
             "endlinecolor": "#2a3f5f",
             "gridcolor": "white",
             "linecolor": "white",
             "minorgridcolor": "white",
             "startlinecolor": "#2a3f5f"
            },
            "baxis": {
             "endlinecolor": "#2a3f5f",
             "gridcolor": "white",
             "linecolor": "white",
             "minorgridcolor": "white",
             "startlinecolor": "#2a3f5f"
            },
            "type": "carpet"
           }
          ],
          "choropleth": [
           {
            "colorbar": {
             "outlinewidth": 0,
             "ticks": ""
            },
            "type": "choropleth"
           }
          ],
          "contour": [
           {
            "colorbar": {
             "outlinewidth": 0,
             "ticks": ""
            },
            "colorscale": [
             [
              0,
              "#0d0887"
             ],
             [
              0.1111111111111111,
              "#46039f"
             ],
             [
              0.2222222222222222,
              "#7201a8"
             ],
             [
              0.3333333333333333,
              "#9c179e"
             ],
             [
              0.4444444444444444,
              "#bd3786"
             ],
             [
              0.5555555555555556,
              "#d8576b"
             ],
             [
              0.6666666666666666,
              "#ed7953"
             ],
             [
              0.7777777777777778,
              "#fb9f3a"
             ],
             [
              0.8888888888888888,
              "#fdca26"
             ],
             [
              1,
              "#f0f921"
             ]
            ],
            "type": "contour"
           }
          ],
          "contourcarpet": [
           {
            "colorbar": {
             "outlinewidth": 0,
             "ticks": ""
            },
            "type": "contourcarpet"
           }
          ],
          "heatmap": [
           {
            "colorbar": {
             "outlinewidth": 0,
             "ticks": ""
            },
            "colorscale": [
             [
              0,
              "#0d0887"
             ],
             [
              0.1111111111111111,
              "#46039f"
             ],
             [
              0.2222222222222222,
              "#7201a8"
             ],
             [
              0.3333333333333333,
              "#9c179e"
             ],
             [
              0.4444444444444444,
              "#bd3786"
             ],
             [
              0.5555555555555556,
              "#d8576b"
             ],
             [
              0.6666666666666666,
              "#ed7953"
             ],
             [
              0.7777777777777778,
              "#fb9f3a"
             ],
             [
              0.8888888888888888,
              "#fdca26"
             ],
             [
              1,
              "#f0f921"
             ]
            ],
            "type": "heatmap"
           }
          ],
          "histogram": [
           {
            "marker": {
             "pattern": {
              "fillmode": "overlay",
              "size": 10,
              "solidity": 0.2
             }
            },
            "type": "histogram"
           }
          ],
          "histogram2d": [
           {
            "colorbar": {
             "outlinewidth": 0,
             "ticks": ""
            },
            "colorscale": [
             [
              0,
              "#0d0887"
             ],
             [
              0.1111111111111111,
              "#46039f"
             ],
             [
              0.2222222222222222,
              "#7201a8"
             ],
             [
              0.3333333333333333,
              "#9c179e"
             ],
             [
              0.4444444444444444,
              "#bd3786"
             ],
             [
              0.5555555555555556,
              "#d8576b"
             ],
             [
              0.6666666666666666,
              "#ed7953"
             ],
             [
              0.7777777777777778,
              "#fb9f3a"
             ],
             [
              0.8888888888888888,
              "#fdca26"
             ],
             [
              1,
              "#f0f921"
             ]
            ],
            "type": "histogram2d"
           }
          ],
          "histogram2dcontour": [
           {
            "colorbar": {
             "outlinewidth": 0,
             "ticks": ""
            },
            "colorscale": [
             [
              0,
              "#0d0887"
             ],
             [
              0.1111111111111111,
              "#46039f"
             ],
             [
              0.2222222222222222,
              "#7201a8"
             ],
             [
              0.3333333333333333,
              "#9c179e"
             ],
             [
              0.4444444444444444,
              "#bd3786"
             ],
             [
              0.5555555555555556,
              "#d8576b"
             ],
             [
              0.6666666666666666,
              "#ed7953"
             ],
             [
              0.7777777777777778,
              "#fb9f3a"
             ],
             [
              0.8888888888888888,
              "#fdca26"
             ],
             [
              1,
              "#f0f921"
             ]
            ],
            "type": "histogram2dcontour"
           }
          ],
          "mesh3d": [
           {
            "colorbar": {
             "outlinewidth": 0,
             "ticks": ""
            },
            "type": "mesh3d"
           }
          ],
          "parcoords": [
           {
            "line": {
             "colorbar": {
              "outlinewidth": 0,
              "ticks": ""
             }
            },
            "type": "parcoords"
           }
          ],
          "pie": [
           {
            "automargin": true,
            "type": "pie"
           }
          ],
          "scatter": [
           {
            "fillpattern": {
             "fillmode": "overlay",
             "size": 10,
             "solidity": 0.2
            },
            "type": "scatter"
           }
          ],
          "scatter3d": [
           {
            "line": {
             "colorbar": {
              "outlinewidth": 0,
              "ticks": ""
             }
            },
            "marker": {
             "colorbar": {
              "outlinewidth": 0,
              "ticks": ""
             }
            },
            "type": "scatter3d"
           }
          ],
          "scattercarpet": [
           {
            "marker": {
             "colorbar": {
              "outlinewidth": 0,
              "ticks": ""
             }
            },
            "type": "scattercarpet"
           }
          ],
          "scattergeo": [
           {
            "marker": {
             "colorbar": {
              "outlinewidth": 0,
              "ticks": ""
             }
            },
            "type": "scattergeo"
           }
          ],
          "scattergl": [
           {
            "marker": {
             "colorbar": {
              "outlinewidth": 0,
              "ticks": ""
             }
            },
            "type": "scattergl"
           }
          ],
          "scattermap": [
           {
            "marker": {
             "colorbar": {
              "outlinewidth": 0,
              "ticks": ""
             }
            },
            "type": "scattermap"
           }
          ],
          "scattermapbox": [
           {
            "marker": {
             "colorbar": {
              "outlinewidth": 0,
              "ticks": ""
             }
            },
            "type": "scattermapbox"
           }
          ],
          "scatterpolar": [
           {
            "marker": {
             "colorbar": {
              "outlinewidth": 0,
              "ticks": ""
             }
            },
            "type": "scatterpolar"
           }
          ],
          "scatterpolargl": [
           {
            "marker": {
             "colorbar": {
              "outlinewidth": 0,
              "ticks": ""
             }
            },
            "type": "scatterpolargl"
           }
          ],
          "scatterternary": [
           {
            "marker": {
             "colorbar": {
              "outlinewidth": 0,
              "ticks": ""
             }
            },
            "type": "scatterternary"
           }
          ],
          "surface": [
           {
            "colorbar": {
             "outlinewidth": 0,
             "ticks": ""
            },
            "colorscale": [
             [
              0,
              "#0d0887"
             ],
             [
              0.1111111111111111,
              "#46039f"
             ],
             [
              0.2222222222222222,
              "#7201a8"
             ],
             [
              0.3333333333333333,
              "#9c179e"
             ],
             [
              0.4444444444444444,
              "#bd3786"
             ],
             [
              0.5555555555555556,
              "#d8576b"
             ],
             [
              0.6666666666666666,
              "#ed7953"
             ],
             [
              0.7777777777777778,
              "#fb9f3a"
             ],
             [
              0.8888888888888888,
              "#fdca26"
             ],
             [
              1,
              "#f0f921"
             ]
            ],
            "type": "surface"
           }
          ],
          "table": [
           {
            "cells": {
             "fill": {
              "color": "#EBF0F8"
             },
             "line": {
              "color": "white"
             }
            },
            "header": {
             "fill": {
              "color": "#C8D4E3"
             },
             "line": {
              "color": "white"
             }
            },
            "type": "table"
           }
          ]
         },
         "layout": {
          "annotationdefaults": {
           "arrowcolor": "#2a3f5f",
           "arrowhead": 0,
           "arrowwidth": 1
          },
          "autotypenumbers": "strict",
          "coloraxis": {
           "colorbar": {
            "outlinewidth": 0,
            "ticks": ""
           }
          },
          "colorscale": {
           "diverging": [
            [
             0,
             "#8e0152"
            ],
            [
             0.1,
             "#c51b7d"
            ],
            [
             0.2,
             "#de77ae"
            ],
            [
             0.3,
             "#f1b6da"
            ],
            [
             0.4,
             "#fde0ef"
            ],
            [
             0.5,
             "#f7f7f7"
            ],
            [
             0.6,
             "#e6f5d0"
            ],
            [
             0.7,
             "#b8e186"
            ],
            [
             0.8,
             "#7fbc41"
            ],
            [
             0.9,
             "#4d9221"
            ],
            [
             1,
             "#276419"
            ]
           ],
           "sequential": [
            [
             0,
             "#0d0887"
            ],
            [
             0.1111111111111111,
             "#46039f"
            ],
            [
             0.2222222222222222,
             "#7201a8"
            ],
            [
             0.3333333333333333,
             "#9c179e"
            ],
            [
             0.4444444444444444,
             "#bd3786"
            ],
            [
             0.5555555555555556,
             "#d8576b"
            ],
            [
             0.6666666666666666,
             "#ed7953"
            ],
            [
             0.7777777777777778,
             "#fb9f3a"
            ],
            [
             0.8888888888888888,
             "#fdca26"
            ],
            [
             1,
             "#f0f921"
            ]
           ],
           "sequentialminus": [
            [
             0,
             "#0d0887"
            ],
            [
             0.1111111111111111,
             "#46039f"
            ],
            [
             0.2222222222222222,
             "#7201a8"
            ],
            [
             0.3333333333333333,
             "#9c179e"
            ],
            [
             0.4444444444444444,
             "#bd3786"
            ],
            [
             0.5555555555555556,
             "#d8576b"
            ],
            [
             0.6666666666666666,
             "#ed7953"
            ],
            [
             0.7777777777777778,
             "#fb9f3a"
            ],
            [
             0.8888888888888888,
             "#fdca26"
            ],
            [
             1,
             "#f0f921"
            ]
           ]
          },
          "colorway": [
           "#636efa",
           "#EF553B",
           "#00cc96",
           "#ab63fa",
           "#FFA15A",
           "#19d3f3",
           "#FF6692",
           "#B6E880",
           "#FF97FF",
           "#FECB52"
          ],
          "font": {
           "color": "#2a3f5f"
          },
          "geo": {
           "bgcolor": "white",
           "lakecolor": "white",
           "landcolor": "#E5ECF6",
           "showlakes": true,
           "showland": true,
           "subunitcolor": "white"
          },
          "hoverlabel": {
           "align": "left"
          },
          "hovermode": "closest",
          "mapbox": {
           "style": "light"
          },
          "paper_bgcolor": "white",
          "plot_bgcolor": "#E5ECF6",
          "polar": {
           "angularaxis": {
            "gridcolor": "white",
            "linecolor": "white",
            "ticks": ""
           },
           "bgcolor": "#E5ECF6",
           "radialaxis": {
            "gridcolor": "white",
            "linecolor": "white",
            "ticks": ""
           }
          },
          "scene": {
           "xaxis": {
            "backgroundcolor": "#E5ECF6",
            "gridcolor": "white",
            "gridwidth": 2,
            "linecolor": "white",
            "showbackground": true,
            "ticks": "",
            "zerolinecolor": "white"
           },
           "yaxis": {
            "backgroundcolor": "#E5ECF6",
            "gridcolor": "white",
            "gridwidth": 2,
            "linecolor": "white",
            "showbackground": true,
            "ticks": "",
            "zerolinecolor": "white"
           },
           "zaxis": {
            "backgroundcolor": "#E5ECF6",
            "gridcolor": "white",
            "gridwidth": 2,
            "linecolor": "white",
            "showbackground": true,
            "ticks": "",
            "zerolinecolor": "white"
           }
          },
          "shapedefaults": {
           "line": {
            "color": "#2a3f5f"
           }
          },
          "ternary": {
           "aaxis": {
            "gridcolor": "white",
            "linecolor": "white",
            "ticks": ""
           },
           "baxis": {
            "gridcolor": "white",
            "linecolor": "white",
            "ticks": ""
           },
           "bgcolor": "#E5ECF6",
           "caxis": {
            "gridcolor": "white",
            "linecolor": "white",
            "ticks": ""
           }
          },
          "title": {
           "x": 0.05
          },
          "xaxis": {
           "automargin": true,
           "gridcolor": "white",
           "linecolor": "white",
           "ticks": "",
           "title": {
            "standoff": 15
           },
           "zerolinecolor": "white",
           "zerolinewidth": 2
          },
          "yaxis": {
           "automargin": true,
           "gridcolor": "white",
           "linecolor": "white",
           "ticks": "",
           "title": {
            "standoff": 15
           },
           "zerolinecolor": "white",
           "zerolinewidth": 2
          }
         }
        },
        "title": {
         "text": "LSTM: MSE: 0.0066 | RMSE: 0.0810 | MAE: 0.0549 | BIAS: -0.6027"
        },
        "width": 900,
        "xaxis": {
         "range": [
          "2014-02-01",
          "2014-02-08"
         ],
         "tickfont": {
          "size": 15
         },
         "title": {
          "font": {
           "size": 15
          },
          "text": "Day"
         },
         "type": "date"
        },
        "yaxis": {
         "tickfont": {
          "size": 15
         },
         "title": {
          "font": {
           "size": 15
          },
          "text": "Value"
         }
        }
       }
      }
     },
     "metadata": {},
     "output_type": "display_data"
    }
   ],
   "source": [
    "## Lasso\n",
    "model_name = ['LSTM']\n",
    "model_display_name = ['LSTM']\n",
    "\n",
    "fig = plot_forecast(lstm_data,\n",
    "                    forecast_columns=['predicted'],\n",
    "                    forecast_display_names=model_display_name, timestamp_col ='timestamp',\n",
    "                    target_col_name=\"actual\")\n",
    "fig = format_plot(fig)\n",
    "fig.update_layout(\n",
    "    title=f\"{model_name[0]}: \"\\\n",
    "          f\"MSE: {ts_aggtest_metrics.loc[ts_aggtest_metrics.algorithm==model_name[0]][['MSE']].iloc[0].item():.4f} | \"\\\n",
    "          f\"RMSE: {ts_aggtest_metrics.loc[ts_aggtest_metrics.algorithm==model_name[0]][['RMSE']].iloc[0].item():.4f} | \"\\\n",
    "          f\"MAE: {ts_aggtest_metrics.loc[ts_aggtest_metrics.algorithm==model_name[0]][['MAE']].iloc[0].item():.4f} | \"\\\n",
    "          f\"BIAS: {ts_aggtest_metrics.loc[ts_aggtest_metrics.algorithm==model_name[0]][['Forecast Bias']].iloc[0].item():.4f}\"\n",
    ")\n",
    "fig.update_xaxes(type=\"date\", range=[\"2014-02-01\", \"2014-02-08\"])\n",
    "fig.write_image(dst_img/\"lstm.png\")\n",
    "fig.show()"
   ]
  },
  {
   "cell_type": "code",
   "execution_count": 24,
   "id": "6946311c",
   "metadata": {},
   "outputs": [
    {
     "data": {
      "application/vnd.plotly.v1+json": {
       "config": {
        "plotlyServerURL": "https://plot.ly"
       },
       "data": [
        {
         "line": {
          "color": "rgba(27,158,119, 0.3)"
         },
         "mode": "lines",
         "name": "Actual Consumption",
         "type": "scatter",
         "x": [
          "2014-02-01T00:00:00.000000000",
          "2014-02-01T00:30:00.000000000",
          "2014-02-01T01:00:00.000000000",
          "2014-02-01T01:30:00.000000000",
          "2014-02-01T02:00:00.000000000",
          "2014-02-01T02:30:00.000000000",
          "2014-02-01T03:00:00.000000000",
          "2014-02-01T03:30:00.000000000",
          "2014-02-01T04:00:00.000000000",
          "2014-02-01T04:30:00.000000000",
          "2014-02-01T05:00:00.000000000",
          "2014-02-01T05:30:00.000000000",
          "2014-02-01T06:00:00.000000000",
          "2014-02-01T06:30:00.000000000",
          "2014-02-01T07:00:00.000000000",
          "2014-02-01T07:30:00.000000000",
          "2014-02-01T08:00:00.000000000",
          "2014-02-01T08:30:00.000000000",
          "2014-02-01T09:00:00.000000000",
          "2014-02-01T09:30:00.000000000",
          "2014-02-01T10:00:00.000000000",
          "2014-02-01T10:30:00.000000000",
          "2014-02-01T11:00:00.000000000",
          "2014-02-01T11:30:00.000000000",
          "2014-02-01T12:00:00.000000000",
          "2014-02-01T12:30:00.000000000",
          "2014-02-01T13:00:00.000000000",
          "2014-02-01T13:30:00.000000000",
          "2014-02-01T14:00:00.000000000",
          "2014-02-01T14:30:00.000000000",
          "2014-02-01T15:00:00.000000000",
          "2014-02-01T15:30:00.000000000",
          "2014-02-01T16:00:00.000000000",
          "2014-02-01T16:30:00.000000000",
          "2014-02-01T17:00:00.000000000",
          "2014-02-01T17:30:00.000000000",
          "2014-02-01T18:00:00.000000000",
          "2014-02-01T18:30:00.000000000",
          "2014-02-01T19:00:00.000000000",
          "2014-02-01T19:30:00.000000000",
          "2014-02-01T20:00:00.000000000",
          "2014-02-01T20:30:00.000000000",
          "2014-02-01T21:00:00.000000000",
          "2014-02-01T21:30:00.000000000",
          "2014-02-01T22:00:00.000000000",
          "2014-02-01T22:30:00.000000000",
          "2014-02-01T23:00:00.000000000",
          "2014-02-01T23:30:00.000000000",
          "2014-02-02T00:00:00.000000000",
          "2014-02-02T00:30:00.000000000",
          "2014-02-02T01:00:00.000000000",
          "2014-02-02T01:30:00.000000000",
          "2014-02-02T02:00:00.000000000",
          "2014-02-02T02:30:00.000000000",
          "2014-02-02T03:00:00.000000000",
          "2014-02-02T03:30:00.000000000",
          "2014-02-02T04:00:00.000000000",
          "2014-02-02T04:30:00.000000000",
          "2014-02-02T05:00:00.000000000",
          "2014-02-02T05:30:00.000000000",
          "2014-02-02T06:00:00.000000000",
          "2014-02-02T06:30:00.000000000",
          "2014-02-02T07:00:00.000000000",
          "2014-02-02T07:30:00.000000000",
          "2014-02-02T08:00:00.000000000",
          "2014-02-02T08:30:00.000000000",
          "2014-02-02T09:00:00.000000000",
          "2014-02-02T09:30:00.000000000",
          "2014-02-02T10:00:00.000000000",
          "2014-02-02T10:30:00.000000000",
          "2014-02-02T11:00:00.000000000",
          "2014-02-02T11:30:00.000000000",
          "2014-02-02T12:00:00.000000000",
          "2014-02-02T12:30:00.000000000",
          "2014-02-02T13:00:00.000000000",
          "2014-02-02T13:30:00.000000000",
          "2014-02-02T14:00:00.000000000",
          "2014-02-02T14:30:00.000000000",
          "2014-02-02T15:00:00.000000000",
          "2014-02-02T15:30:00.000000000",
          "2014-02-02T16:00:00.000000000",
          "2014-02-02T16:30:00.000000000",
          "2014-02-02T17:00:00.000000000",
          "2014-02-02T17:30:00.000000000",
          "2014-02-02T18:00:00.000000000",
          "2014-02-02T18:30:00.000000000",
          "2014-02-02T19:00:00.000000000",
          "2014-02-02T19:30:00.000000000",
          "2014-02-02T20:00:00.000000000",
          "2014-02-02T20:30:00.000000000",
          "2014-02-02T21:00:00.000000000",
          "2014-02-02T21:30:00.000000000",
          "2014-02-02T22:00:00.000000000",
          "2014-02-02T22:30:00.000000000",
          "2014-02-02T23:00:00.000000000",
          "2014-02-02T23:30:00.000000000",
          "2014-02-03T00:00:00.000000000",
          "2014-02-03T00:30:00.000000000",
          "2014-02-03T01:00:00.000000000",
          "2014-02-03T01:30:00.000000000",
          "2014-02-03T02:00:00.000000000",
          "2014-02-03T02:30:00.000000000",
          "2014-02-03T03:00:00.000000000",
          "2014-02-03T03:30:00.000000000",
          "2014-02-03T04:00:00.000000000",
          "2014-02-03T04:30:00.000000000",
          "2014-02-03T05:00:00.000000000",
          "2014-02-03T05:30:00.000000000",
          "2014-02-03T06:00:00.000000000",
          "2014-02-03T06:30:00.000000000",
          "2014-02-03T07:00:00.000000000",
          "2014-02-03T07:30:00.000000000",
          "2014-02-03T08:00:00.000000000",
          "2014-02-03T08:30:00.000000000",
          "2014-02-03T09:00:00.000000000",
          "2014-02-03T09:30:00.000000000",
          "2014-02-03T10:00:00.000000000",
          "2014-02-03T10:30:00.000000000",
          "2014-02-03T11:00:00.000000000",
          "2014-02-03T11:30:00.000000000",
          "2014-02-03T12:00:00.000000000",
          "2014-02-03T12:30:00.000000000",
          "2014-02-03T13:00:00.000000000",
          "2014-02-03T13:30:00.000000000",
          "2014-02-03T14:00:00.000000000",
          "2014-02-03T14:30:00.000000000",
          "2014-02-03T15:00:00.000000000",
          "2014-02-03T15:30:00.000000000",
          "2014-02-03T16:00:00.000000000",
          "2014-02-03T16:30:00.000000000",
          "2014-02-03T17:00:00.000000000",
          "2014-02-03T17:30:00.000000000",
          "2014-02-03T18:00:00.000000000",
          "2014-02-03T18:30:00.000000000",
          "2014-02-03T19:00:00.000000000",
          "2014-02-03T19:30:00.000000000",
          "2014-02-03T20:00:00.000000000",
          "2014-02-03T20:30:00.000000000",
          "2014-02-03T21:00:00.000000000",
          "2014-02-03T21:30:00.000000000",
          "2014-02-03T22:00:00.000000000",
          "2014-02-03T22:30:00.000000000",
          "2014-02-03T23:00:00.000000000",
          "2014-02-03T23:30:00.000000000",
          "2014-02-04T00:00:00.000000000",
          "2014-02-04T00:30:00.000000000",
          "2014-02-04T01:00:00.000000000",
          "2014-02-04T01:30:00.000000000",
          "2014-02-04T02:00:00.000000000",
          "2014-02-04T02:30:00.000000000",
          "2014-02-04T03:00:00.000000000",
          "2014-02-04T03:30:00.000000000",
          "2014-02-04T04:00:00.000000000",
          "2014-02-04T04:30:00.000000000",
          "2014-02-04T05:00:00.000000000",
          "2014-02-04T05:30:00.000000000",
          "2014-02-04T06:00:00.000000000",
          "2014-02-04T06:30:00.000000000",
          "2014-02-04T07:00:00.000000000",
          "2014-02-04T07:30:00.000000000",
          "2014-02-04T08:00:00.000000000",
          "2014-02-04T08:30:00.000000000",
          "2014-02-04T09:00:00.000000000",
          "2014-02-04T09:30:00.000000000",
          "2014-02-04T10:00:00.000000000",
          "2014-02-04T10:30:00.000000000",
          "2014-02-04T11:00:00.000000000",
          "2014-02-04T11:30:00.000000000",
          "2014-02-04T12:00:00.000000000",
          "2014-02-04T12:30:00.000000000",
          "2014-02-04T13:00:00.000000000",
          "2014-02-04T13:30:00.000000000",
          "2014-02-04T14:00:00.000000000",
          "2014-02-04T14:30:00.000000000",
          "2014-02-04T15:00:00.000000000",
          "2014-02-04T15:30:00.000000000",
          "2014-02-04T16:00:00.000000000",
          "2014-02-04T16:30:00.000000000",
          "2014-02-04T17:00:00.000000000",
          "2014-02-04T17:30:00.000000000",
          "2014-02-04T18:00:00.000000000",
          "2014-02-04T18:30:00.000000000",
          "2014-02-04T19:00:00.000000000",
          "2014-02-04T19:30:00.000000000",
          "2014-02-04T20:00:00.000000000",
          "2014-02-04T20:30:00.000000000",
          "2014-02-04T21:00:00.000000000",
          "2014-02-04T21:30:00.000000000",
          "2014-02-04T22:00:00.000000000",
          "2014-02-04T22:30:00.000000000",
          "2014-02-04T23:00:00.000000000",
          "2014-02-04T23:30:00.000000000",
          "2014-02-05T00:00:00.000000000",
          "2014-02-05T00:30:00.000000000",
          "2014-02-05T01:00:00.000000000",
          "2014-02-05T01:30:00.000000000",
          "2014-02-05T02:00:00.000000000",
          "2014-02-05T02:30:00.000000000",
          "2014-02-05T03:00:00.000000000",
          "2014-02-05T03:30:00.000000000",
          "2014-02-05T04:00:00.000000000",
          "2014-02-05T04:30:00.000000000",
          "2014-02-05T05:00:00.000000000",
          "2014-02-05T05:30:00.000000000",
          "2014-02-05T06:00:00.000000000",
          "2014-02-05T06:30:00.000000000",
          "2014-02-05T07:00:00.000000000",
          "2014-02-05T07:30:00.000000000",
          "2014-02-05T08:00:00.000000000",
          "2014-02-05T08:30:00.000000000",
          "2014-02-05T09:00:00.000000000",
          "2014-02-05T09:30:00.000000000",
          "2014-02-05T10:00:00.000000000",
          "2014-02-05T10:30:00.000000000",
          "2014-02-05T11:00:00.000000000",
          "2014-02-05T11:30:00.000000000",
          "2014-02-05T12:00:00.000000000",
          "2014-02-05T12:30:00.000000000",
          "2014-02-05T13:00:00.000000000",
          "2014-02-05T13:30:00.000000000",
          "2014-02-05T14:00:00.000000000",
          "2014-02-05T14:30:00.000000000",
          "2014-02-05T15:00:00.000000000",
          "2014-02-05T15:30:00.000000000",
          "2014-02-05T16:00:00.000000000",
          "2014-02-05T16:30:00.000000000",
          "2014-02-05T17:00:00.000000000",
          "2014-02-05T17:30:00.000000000",
          "2014-02-05T18:00:00.000000000",
          "2014-02-05T18:30:00.000000000",
          "2014-02-05T19:00:00.000000000",
          "2014-02-05T19:30:00.000000000",
          "2014-02-05T20:00:00.000000000",
          "2014-02-05T20:30:00.000000000",
          "2014-02-05T21:00:00.000000000",
          "2014-02-05T21:30:00.000000000",
          "2014-02-05T22:00:00.000000000",
          "2014-02-05T22:30:00.000000000",
          "2014-02-05T23:00:00.000000000",
          "2014-02-05T23:30:00.000000000",
          "2014-02-06T00:00:00.000000000",
          "2014-02-06T00:30:00.000000000",
          "2014-02-06T01:00:00.000000000",
          "2014-02-06T01:30:00.000000000",
          "2014-02-06T02:00:00.000000000",
          "2014-02-06T02:30:00.000000000",
          "2014-02-06T03:00:00.000000000",
          "2014-02-06T03:30:00.000000000",
          "2014-02-06T04:00:00.000000000",
          "2014-02-06T04:30:00.000000000",
          "2014-02-06T05:00:00.000000000",
          "2014-02-06T05:30:00.000000000",
          "2014-02-06T06:00:00.000000000",
          "2014-02-06T06:30:00.000000000",
          "2014-02-06T07:00:00.000000000",
          "2014-02-06T07:30:00.000000000",
          "2014-02-06T08:00:00.000000000",
          "2014-02-06T08:30:00.000000000",
          "2014-02-06T09:00:00.000000000",
          "2014-02-06T09:30:00.000000000",
          "2014-02-06T10:00:00.000000000",
          "2014-02-06T10:30:00.000000000",
          "2014-02-06T11:00:00.000000000",
          "2014-02-06T11:30:00.000000000",
          "2014-02-06T12:00:00.000000000",
          "2014-02-06T12:30:00.000000000",
          "2014-02-06T13:00:00.000000000",
          "2014-02-06T13:30:00.000000000",
          "2014-02-06T14:00:00.000000000",
          "2014-02-06T14:30:00.000000000",
          "2014-02-06T15:00:00.000000000",
          "2014-02-06T15:30:00.000000000",
          "2014-02-06T16:00:00.000000000",
          "2014-02-06T16:30:00.000000000",
          "2014-02-06T17:00:00.000000000",
          "2014-02-06T17:30:00.000000000",
          "2014-02-06T18:00:00.000000000",
          "2014-02-06T18:30:00.000000000",
          "2014-02-06T19:00:00.000000000",
          "2014-02-06T19:30:00.000000000",
          "2014-02-06T20:00:00.000000000",
          "2014-02-06T20:30:00.000000000",
          "2014-02-06T21:00:00.000000000",
          "2014-02-06T21:30:00.000000000",
          "2014-02-06T22:00:00.000000000",
          "2014-02-06T22:30:00.000000000",
          "2014-02-06T23:00:00.000000000",
          "2014-02-06T23:30:00.000000000",
          "2014-02-07T00:00:00.000000000",
          "2014-02-07T00:30:00.000000000",
          "2014-02-07T01:00:00.000000000",
          "2014-02-07T01:30:00.000000000",
          "2014-02-07T02:00:00.000000000",
          "2014-02-07T02:30:00.000000000",
          "2014-02-07T03:00:00.000000000",
          "2014-02-07T03:30:00.000000000",
          "2014-02-07T04:00:00.000000000",
          "2014-02-07T04:30:00.000000000",
          "2014-02-07T05:00:00.000000000",
          "2014-02-07T05:30:00.000000000",
          "2014-02-07T06:00:00.000000000",
          "2014-02-07T06:30:00.000000000",
          "2014-02-07T07:00:00.000000000",
          "2014-02-07T07:30:00.000000000",
          "2014-02-07T08:00:00.000000000",
          "2014-02-07T08:30:00.000000000",
          "2014-02-07T09:00:00.000000000",
          "2014-02-07T09:30:00.000000000",
          "2014-02-07T10:00:00.000000000",
          "2014-02-07T10:30:00.000000000",
          "2014-02-07T11:00:00.000000000",
          "2014-02-07T11:30:00.000000000",
          "2014-02-07T12:00:00.000000000",
          "2014-02-07T12:30:00.000000000",
          "2014-02-07T13:00:00.000000000",
          "2014-02-07T13:30:00.000000000",
          "2014-02-07T14:00:00.000000000",
          "2014-02-07T14:30:00.000000000",
          "2014-02-07T15:00:00.000000000",
          "2014-02-07T15:30:00.000000000",
          "2014-02-07T16:00:00.000000000",
          "2014-02-07T16:30:00.000000000",
          "2014-02-07T17:00:00.000000000",
          "2014-02-07T17:30:00.000000000",
          "2014-02-07T18:00:00.000000000",
          "2014-02-07T18:30:00.000000000",
          "2014-02-07T19:00:00.000000000",
          "2014-02-07T19:30:00.000000000",
          "2014-02-07T20:00:00.000000000",
          "2014-02-07T20:30:00.000000000",
          "2014-02-07T21:00:00.000000000",
          "2014-02-07T21:30:00.000000000",
          "2014-02-07T22:00:00.000000000",
          "2014-02-07T22:30:00.000000000",
          "2014-02-07T23:00:00.000000000",
          "2014-02-07T23:30:00.000000000",
          "2014-02-08T00:00:00.000000000",
          "2014-02-08T00:30:00.000000000",
          "2014-02-08T01:00:00.000000000",
          "2014-02-08T01:30:00.000000000",
          "2014-02-08T02:00:00.000000000",
          "2014-02-08T02:30:00.000000000",
          "2014-02-08T03:00:00.000000000",
          "2014-02-08T03:30:00.000000000",
          "2014-02-08T04:00:00.000000000",
          "2014-02-08T04:30:00.000000000",
          "2014-02-08T05:00:00.000000000",
          "2014-02-08T05:30:00.000000000",
          "2014-02-08T06:00:00.000000000",
          "2014-02-08T06:30:00.000000000",
          "2014-02-08T07:00:00.000000000",
          "2014-02-08T07:30:00.000000000",
          "2014-02-08T08:00:00.000000000",
          "2014-02-08T08:30:00.000000000",
          "2014-02-08T09:00:00.000000000",
          "2014-02-08T09:30:00.000000000",
          "2014-02-08T10:00:00.000000000",
          "2014-02-08T10:30:00.000000000",
          "2014-02-08T11:00:00.000000000",
          "2014-02-08T11:30:00.000000000",
          "2014-02-08T12:00:00.000000000",
          "2014-02-08T12:30:00.000000000",
          "2014-02-08T13:00:00.000000000",
          "2014-02-08T13:30:00.000000000",
          "2014-02-08T14:00:00.000000000",
          "2014-02-08T14:30:00.000000000",
          "2014-02-08T15:00:00.000000000",
          "2014-02-08T15:30:00.000000000",
          "2014-02-08T16:00:00.000000000",
          "2014-02-08T16:30:00.000000000",
          "2014-02-08T17:00:00.000000000",
          "2014-02-08T17:30:00.000000000",
          "2014-02-08T18:00:00.000000000",
          "2014-02-08T18:30:00.000000000",
          "2014-02-08T19:00:00.000000000",
          "2014-02-08T19:30:00.000000000",
          "2014-02-08T20:00:00.000000000",
          "2014-02-08T20:30:00.000000000",
          "2014-02-08T21:00:00.000000000",
          "2014-02-08T21:30:00.000000000",
          "2014-02-08T22:00:00.000000000",
          "2014-02-08T22:30:00.000000000",
          "2014-02-08T23:00:00.000000000",
          "2014-02-08T23:30:00.000000000",
          "2014-02-09T00:00:00.000000000",
          "2014-02-09T00:30:00.000000000",
          "2014-02-09T01:00:00.000000000",
          "2014-02-09T01:30:00.000000000",
          "2014-02-09T02:00:00.000000000",
          "2014-02-09T02:30:00.000000000",
          "2014-02-09T03:00:00.000000000",
          "2014-02-09T03:30:00.000000000",
          "2014-02-09T04:00:00.000000000",
          "2014-02-09T04:30:00.000000000",
          "2014-02-09T05:00:00.000000000",
          "2014-02-09T05:30:00.000000000",
          "2014-02-09T06:00:00.000000000",
          "2014-02-09T06:30:00.000000000",
          "2014-02-09T07:00:00.000000000",
          "2014-02-09T07:30:00.000000000",
          "2014-02-09T08:00:00.000000000",
          "2014-02-09T08:30:00.000000000",
          "2014-02-09T09:00:00.000000000",
          "2014-02-09T09:30:00.000000000",
          "2014-02-09T10:00:00.000000000",
          "2014-02-09T10:30:00.000000000",
          "2014-02-09T11:00:00.000000000",
          "2014-02-09T11:30:00.000000000",
          "2014-02-09T12:00:00.000000000",
          "2014-02-09T12:30:00.000000000",
          "2014-02-09T13:00:00.000000000",
          "2014-02-09T13:30:00.000000000",
          "2014-02-09T14:00:00.000000000",
          "2014-02-09T14:30:00.000000000",
          "2014-02-09T15:00:00.000000000",
          "2014-02-09T15:30:00.000000000",
          "2014-02-09T16:00:00.000000000",
          "2014-02-09T16:30:00.000000000",
          "2014-02-09T17:00:00.000000000",
          "2014-02-09T17:30:00.000000000",
          "2014-02-09T18:00:00.000000000",
          "2014-02-09T18:30:00.000000000",
          "2014-02-09T19:00:00.000000000",
          "2014-02-09T19:30:00.000000000",
          "2014-02-09T20:00:00.000000000",
          "2014-02-09T20:30:00.000000000",
          "2014-02-09T21:00:00.000000000",
          "2014-02-09T21:30:00.000000000",
          "2014-02-09T22:00:00.000000000",
          "2014-02-09T22:30:00.000000000",
          "2014-02-09T23:00:00.000000000",
          "2014-02-09T23:30:00.000000000",
          "2014-02-10T00:00:00.000000000",
          "2014-02-10T00:30:00.000000000",
          "2014-02-10T01:00:00.000000000",
          "2014-02-10T01:30:00.000000000",
          "2014-02-10T02:00:00.000000000",
          "2014-02-10T02:30:00.000000000",
          "2014-02-10T03:00:00.000000000",
          "2014-02-10T03:30:00.000000000",
          "2014-02-10T04:00:00.000000000",
          "2014-02-10T04:30:00.000000000",
          "2014-02-10T05:00:00.000000000",
          "2014-02-10T05:30:00.000000000",
          "2014-02-10T06:00:00.000000000",
          "2014-02-10T06:30:00.000000000",
          "2014-02-10T07:00:00.000000000",
          "2014-02-10T07:30:00.000000000",
          "2014-02-10T08:00:00.000000000",
          "2014-02-10T08:30:00.000000000",
          "2014-02-10T09:00:00.000000000",
          "2014-02-10T09:30:00.000000000",
          "2014-02-10T10:00:00.000000000",
          "2014-02-10T10:30:00.000000000",
          "2014-02-10T11:00:00.000000000",
          "2014-02-10T11:30:00.000000000",
          "2014-02-10T12:00:00.000000000",
          "2014-02-10T12:30:00.000000000",
          "2014-02-10T13:00:00.000000000",
          "2014-02-10T13:30:00.000000000",
          "2014-02-10T14:00:00.000000000",
          "2014-02-10T14:30:00.000000000",
          "2014-02-10T15:00:00.000000000",
          "2014-02-10T15:30:00.000000000",
          "2014-02-10T16:00:00.000000000",
          "2014-02-10T16:30:00.000000000",
          "2014-02-10T17:00:00.000000000",
          "2014-02-10T17:30:00.000000000",
          "2014-02-10T18:00:00.000000000",
          "2014-02-10T18:30:00.000000000",
          "2014-02-10T19:00:00.000000000",
          "2014-02-10T19:30:00.000000000",
          "2014-02-10T20:00:00.000000000",
          "2014-02-10T20:30:00.000000000",
          "2014-02-10T21:00:00.000000000",
          "2014-02-10T21:30:00.000000000",
          "2014-02-10T22:00:00.000000000",
          "2014-02-10T22:30:00.000000000",
          "2014-02-10T23:00:00.000000000",
          "2014-02-10T23:30:00.000000000",
          "2014-02-11T00:00:00.000000000",
          "2014-02-11T00:30:00.000000000",
          "2014-02-11T01:00:00.000000000",
          "2014-02-11T01:30:00.000000000",
          "2014-02-11T02:00:00.000000000",
          "2014-02-11T02:30:00.000000000",
          "2014-02-11T03:00:00.000000000",
          "2014-02-11T03:30:00.000000000",
          "2014-02-11T04:00:00.000000000",
          "2014-02-11T04:30:00.000000000",
          "2014-02-11T05:00:00.000000000",
          "2014-02-11T05:30:00.000000000",
          "2014-02-11T06:00:00.000000000",
          "2014-02-11T06:30:00.000000000",
          "2014-02-11T07:00:00.000000000",
          "2014-02-11T07:30:00.000000000",
          "2014-02-11T08:00:00.000000000",
          "2014-02-11T08:30:00.000000000",
          "2014-02-11T09:00:00.000000000",
          "2014-02-11T09:30:00.000000000",
          "2014-02-11T10:00:00.000000000",
          "2014-02-11T10:30:00.000000000",
          "2014-02-11T11:00:00.000000000",
          "2014-02-11T11:30:00.000000000",
          "2014-02-11T12:00:00.000000000",
          "2014-02-11T12:30:00.000000000",
          "2014-02-11T13:00:00.000000000",
          "2014-02-11T13:30:00.000000000",
          "2014-02-11T14:00:00.000000000",
          "2014-02-11T14:30:00.000000000",
          "2014-02-11T15:00:00.000000000",
          "2014-02-11T15:30:00.000000000",
          "2014-02-11T16:00:00.000000000",
          "2014-02-11T16:30:00.000000000",
          "2014-02-11T17:00:00.000000000",
          "2014-02-11T17:30:00.000000000",
          "2014-02-11T18:00:00.000000000",
          "2014-02-11T18:30:00.000000000",
          "2014-02-11T19:00:00.000000000",
          "2014-02-11T19:30:00.000000000",
          "2014-02-11T20:00:00.000000000",
          "2014-02-11T20:30:00.000000000",
          "2014-02-11T21:00:00.000000000",
          "2014-02-11T21:30:00.000000000",
          "2014-02-11T22:00:00.000000000",
          "2014-02-11T22:30:00.000000000",
          "2014-02-11T23:00:00.000000000",
          "2014-02-11T23:30:00.000000000",
          "2014-02-12T00:00:00.000000000",
          "2014-02-12T00:30:00.000000000",
          "2014-02-12T01:00:00.000000000",
          "2014-02-12T01:30:00.000000000",
          "2014-02-12T02:00:00.000000000",
          "2014-02-12T02:30:00.000000000",
          "2014-02-12T03:00:00.000000000",
          "2014-02-12T03:30:00.000000000",
          "2014-02-12T04:00:00.000000000",
          "2014-02-12T04:30:00.000000000",
          "2014-02-12T05:00:00.000000000",
          "2014-02-12T05:30:00.000000000",
          "2014-02-12T06:00:00.000000000",
          "2014-02-12T06:30:00.000000000",
          "2014-02-12T07:00:00.000000000",
          "2014-02-12T07:30:00.000000000",
          "2014-02-12T08:00:00.000000000",
          "2014-02-12T08:30:00.000000000",
          "2014-02-12T09:00:00.000000000",
          "2014-02-12T09:30:00.000000000",
          "2014-02-12T10:00:00.000000000",
          "2014-02-12T10:30:00.000000000",
          "2014-02-12T11:00:00.000000000",
          "2014-02-12T11:30:00.000000000",
          "2014-02-12T12:00:00.000000000",
          "2014-02-12T12:30:00.000000000",
          "2014-02-12T13:00:00.000000000",
          "2014-02-12T13:30:00.000000000",
          "2014-02-12T14:00:00.000000000",
          "2014-02-12T14:30:00.000000000",
          "2014-02-12T15:00:00.000000000",
          "2014-02-12T15:30:00.000000000",
          "2014-02-12T16:00:00.000000000",
          "2014-02-12T16:30:00.000000000",
          "2014-02-12T17:00:00.000000000",
          "2014-02-12T17:30:00.000000000",
          "2014-02-12T18:00:00.000000000",
          "2014-02-12T18:30:00.000000000",
          "2014-02-12T19:00:00.000000000",
          "2014-02-12T19:30:00.000000000",
          "2014-02-12T20:00:00.000000000",
          "2014-02-12T20:30:00.000000000",
          "2014-02-12T21:00:00.000000000",
          "2014-02-12T21:30:00.000000000",
          "2014-02-12T22:00:00.000000000",
          "2014-02-12T22:30:00.000000000",
          "2014-02-12T23:00:00.000000000",
          "2014-02-12T23:30:00.000000000",
          "2014-02-13T00:00:00.000000000",
          "2014-02-13T00:30:00.000000000",
          "2014-02-13T01:00:00.000000000",
          "2014-02-13T01:30:00.000000000",
          "2014-02-13T02:00:00.000000000",
          "2014-02-13T02:30:00.000000000",
          "2014-02-13T03:00:00.000000000",
          "2014-02-13T03:30:00.000000000",
          "2014-02-13T04:00:00.000000000",
          "2014-02-13T04:30:00.000000000",
          "2014-02-13T05:00:00.000000000",
          "2014-02-13T05:30:00.000000000",
          "2014-02-13T06:00:00.000000000",
          "2014-02-13T06:30:00.000000000",
          "2014-02-13T07:00:00.000000000",
          "2014-02-13T07:30:00.000000000",
          "2014-02-13T08:00:00.000000000",
          "2014-02-13T08:30:00.000000000",
          "2014-02-13T09:00:00.000000000",
          "2014-02-13T09:30:00.000000000",
          "2014-02-13T10:00:00.000000000",
          "2014-02-13T10:30:00.000000000",
          "2014-02-13T11:00:00.000000000",
          "2014-02-13T11:30:00.000000000",
          "2014-02-13T12:00:00.000000000",
          "2014-02-13T12:30:00.000000000",
          "2014-02-13T13:00:00.000000000",
          "2014-02-13T13:30:00.000000000",
          "2014-02-13T14:00:00.000000000",
          "2014-02-13T14:30:00.000000000",
          "2014-02-13T15:00:00.000000000",
          "2014-02-13T15:30:00.000000000",
          "2014-02-13T16:00:00.000000000",
          "2014-02-13T16:30:00.000000000",
          "2014-02-13T17:00:00.000000000",
          "2014-02-13T17:30:00.000000000",
          "2014-02-13T18:00:00.000000000",
          "2014-02-13T18:30:00.000000000",
          "2014-02-13T19:00:00.000000000",
          "2014-02-13T19:30:00.000000000",
          "2014-02-13T20:00:00.000000000",
          "2014-02-13T20:30:00.000000000",
          "2014-02-13T21:00:00.000000000",
          "2014-02-13T21:30:00.000000000",
          "2014-02-13T22:00:00.000000000",
          "2014-02-13T22:30:00.000000000",
          "2014-02-13T23:00:00.000000000",
          "2014-02-13T23:30:00.000000000",
          "2014-02-14T00:00:00.000000000",
          "2014-02-14T00:30:00.000000000",
          "2014-02-14T01:00:00.000000000",
          "2014-02-14T01:30:00.000000000",
          "2014-02-14T02:00:00.000000000",
          "2014-02-14T02:30:00.000000000",
          "2014-02-14T03:00:00.000000000",
          "2014-02-14T03:30:00.000000000",
          "2014-02-14T04:00:00.000000000",
          "2014-02-14T04:30:00.000000000",
          "2014-02-14T05:00:00.000000000",
          "2014-02-14T05:30:00.000000000",
          "2014-02-14T06:00:00.000000000",
          "2014-02-14T06:30:00.000000000",
          "2014-02-14T07:00:00.000000000",
          "2014-02-14T07:30:00.000000000",
          "2014-02-14T08:00:00.000000000",
          "2014-02-14T08:30:00.000000000",
          "2014-02-14T09:00:00.000000000",
          "2014-02-14T09:30:00.000000000",
          "2014-02-14T10:00:00.000000000",
          "2014-02-14T10:30:00.000000000",
          "2014-02-14T11:00:00.000000000",
          "2014-02-14T11:30:00.000000000",
          "2014-02-14T12:00:00.000000000",
          "2014-02-14T12:30:00.000000000",
          "2014-02-14T13:00:00.000000000",
          "2014-02-14T13:30:00.000000000",
          "2014-02-14T14:00:00.000000000",
          "2014-02-14T14:30:00.000000000",
          "2014-02-14T15:00:00.000000000",
          "2014-02-14T15:30:00.000000000",
          "2014-02-14T16:00:00.000000000",
          "2014-02-14T16:30:00.000000000",
          "2014-02-14T17:00:00.000000000",
          "2014-02-14T17:30:00.000000000",
          "2014-02-14T18:00:00.000000000",
          "2014-02-14T18:30:00.000000000",
          "2014-02-14T19:00:00.000000000",
          "2014-02-14T19:30:00.000000000",
          "2014-02-14T20:00:00.000000000",
          "2014-02-14T20:30:00.000000000",
          "2014-02-14T21:00:00.000000000",
          "2014-02-14T21:30:00.000000000",
          "2014-02-14T22:00:00.000000000",
          "2014-02-14T22:30:00.000000000",
          "2014-02-14T23:00:00.000000000",
          "2014-02-14T23:30:00.000000000",
          "2014-02-15T00:00:00.000000000",
          "2014-02-15T00:30:00.000000000",
          "2014-02-15T01:00:00.000000000",
          "2014-02-15T01:30:00.000000000",
          "2014-02-15T02:00:00.000000000",
          "2014-02-15T02:30:00.000000000",
          "2014-02-15T03:00:00.000000000",
          "2014-02-15T03:30:00.000000000",
          "2014-02-15T04:00:00.000000000",
          "2014-02-15T04:30:00.000000000",
          "2014-02-15T05:00:00.000000000",
          "2014-02-15T05:30:00.000000000",
          "2014-02-15T06:00:00.000000000",
          "2014-02-15T06:30:00.000000000",
          "2014-02-15T07:00:00.000000000",
          "2014-02-15T07:30:00.000000000",
          "2014-02-15T08:00:00.000000000",
          "2014-02-15T08:30:00.000000000",
          "2014-02-15T09:00:00.000000000",
          "2014-02-15T09:30:00.000000000",
          "2014-02-15T10:00:00.000000000",
          "2014-02-15T10:30:00.000000000",
          "2014-02-15T11:00:00.000000000",
          "2014-02-15T11:30:00.000000000",
          "2014-02-15T12:00:00.000000000",
          "2014-02-15T12:30:00.000000000",
          "2014-02-15T13:00:00.000000000",
          "2014-02-15T13:30:00.000000000",
          "2014-02-15T14:00:00.000000000",
          "2014-02-15T14:30:00.000000000",
          "2014-02-15T15:00:00.000000000",
          "2014-02-15T15:30:00.000000000",
          "2014-02-15T16:00:00.000000000",
          "2014-02-15T16:30:00.000000000",
          "2014-02-15T17:00:00.000000000",
          "2014-02-15T17:30:00.000000000",
          "2014-02-15T18:00:00.000000000",
          "2014-02-15T18:30:00.000000000",
          "2014-02-15T19:00:00.000000000",
          "2014-02-15T19:30:00.000000000",
          "2014-02-15T20:00:00.000000000",
          "2014-02-15T20:30:00.000000000",
          "2014-02-15T21:00:00.000000000",
          "2014-02-15T21:30:00.000000000",
          "2014-02-15T22:00:00.000000000",
          "2014-02-15T22:30:00.000000000",
          "2014-02-15T23:00:00.000000000",
          "2014-02-15T23:30:00.000000000",
          "2014-02-16T00:00:00.000000000",
          "2014-02-16T00:30:00.000000000",
          "2014-02-16T01:00:00.000000000",
          "2014-02-16T01:30:00.000000000",
          "2014-02-16T02:00:00.000000000",
          "2014-02-16T02:30:00.000000000",
          "2014-02-16T03:00:00.000000000",
          "2014-02-16T03:30:00.000000000",
          "2014-02-16T04:00:00.000000000",
          "2014-02-16T04:30:00.000000000",
          "2014-02-16T05:00:00.000000000",
          "2014-02-16T05:30:00.000000000",
          "2014-02-16T06:00:00.000000000",
          "2014-02-16T06:30:00.000000000",
          "2014-02-16T07:00:00.000000000",
          "2014-02-16T07:30:00.000000000",
          "2014-02-16T08:00:00.000000000",
          "2014-02-16T08:30:00.000000000",
          "2014-02-16T09:00:00.000000000",
          "2014-02-16T09:30:00.000000000",
          "2014-02-16T10:00:00.000000000",
          "2014-02-16T10:30:00.000000000",
          "2014-02-16T11:00:00.000000000",
          "2014-02-16T11:30:00.000000000",
          "2014-02-16T12:00:00.000000000",
          "2014-02-16T12:30:00.000000000",
          "2014-02-16T13:00:00.000000000",
          "2014-02-16T13:30:00.000000000",
          "2014-02-16T14:00:00.000000000",
          "2014-02-16T14:30:00.000000000",
          "2014-02-16T15:00:00.000000000",
          "2014-02-16T15:30:00.000000000",
          "2014-02-16T16:00:00.000000000",
          "2014-02-16T16:30:00.000000000",
          "2014-02-16T17:00:00.000000000",
          "2014-02-16T17:30:00.000000000",
          "2014-02-16T18:00:00.000000000",
          "2014-02-16T18:30:00.000000000",
          "2014-02-16T19:00:00.000000000",
          "2014-02-16T19:30:00.000000000",
          "2014-02-16T20:00:00.000000000",
          "2014-02-16T20:30:00.000000000",
          "2014-02-16T21:00:00.000000000",
          "2014-02-16T21:30:00.000000000",
          "2014-02-16T22:00:00.000000000",
          "2014-02-16T22:30:00.000000000",
          "2014-02-16T23:00:00.000000000",
          "2014-02-16T23:30:00.000000000",
          "2014-02-17T00:00:00.000000000",
          "2014-02-17T00:30:00.000000000",
          "2014-02-17T01:00:00.000000000",
          "2014-02-17T01:30:00.000000000",
          "2014-02-17T02:00:00.000000000",
          "2014-02-17T02:30:00.000000000",
          "2014-02-17T03:00:00.000000000",
          "2014-02-17T03:30:00.000000000",
          "2014-02-17T04:00:00.000000000",
          "2014-02-17T04:30:00.000000000",
          "2014-02-17T05:00:00.000000000",
          "2014-02-17T05:30:00.000000000",
          "2014-02-17T06:00:00.000000000",
          "2014-02-17T06:30:00.000000000",
          "2014-02-17T07:00:00.000000000",
          "2014-02-17T07:30:00.000000000",
          "2014-02-17T08:00:00.000000000",
          "2014-02-17T08:30:00.000000000",
          "2014-02-17T09:00:00.000000000",
          "2014-02-17T09:30:00.000000000",
          "2014-02-17T10:00:00.000000000",
          "2014-02-17T10:30:00.000000000",
          "2014-02-17T11:00:00.000000000",
          "2014-02-17T11:30:00.000000000",
          "2014-02-17T12:00:00.000000000",
          "2014-02-17T12:30:00.000000000",
          "2014-02-17T13:00:00.000000000",
          "2014-02-17T13:30:00.000000000",
          "2014-02-17T14:00:00.000000000",
          "2014-02-17T14:30:00.000000000",
          "2014-02-17T15:00:00.000000000",
          "2014-02-17T15:30:00.000000000",
          "2014-02-17T16:00:00.000000000",
          "2014-02-17T16:30:00.000000000",
          "2014-02-17T17:00:00.000000000",
          "2014-02-17T17:30:00.000000000",
          "2014-02-17T18:00:00.000000000",
          "2014-02-17T18:30:00.000000000",
          "2014-02-17T19:00:00.000000000",
          "2014-02-17T19:30:00.000000000",
          "2014-02-17T20:00:00.000000000",
          "2014-02-17T20:30:00.000000000",
          "2014-02-17T21:00:00.000000000",
          "2014-02-17T21:30:00.000000000",
          "2014-02-17T22:00:00.000000000",
          "2014-02-17T22:30:00.000000000",
          "2014-02-17T23:00:00.000000000",
          "2014-02-17T23:30:00.000000000",
          "2014-02-18T00:00:00.000000000",
          "2014-02-18T00:30:00.000000000",
          "2014-02-18T01:00:00.000000000",
          "2014-02-18T01:30:00.000000000",
          "2014-02-18T02:00:00.000000000",
          "2014-02-18T02:30:00.000000000",
          "2014-02-18T03:00:00.000000000",
          "2014-02-18T03:30:00.000000000",
          "2014-02-18T04:00:00.000000000",
          "2014-02-18T04:30:00.000000000",
          "2014-02-18T05:00:00.000000000",
          "2014-02-18T05:30:00.000000000",
          "2014-02-18T06:00:00.000000000",
          "2014-02-18T06:30:00.000000000",
          "2014-02-18T07:00:00.000000000",
          "2014-02-18T07:30:00.000000000",
          "2014-02-18T08:00:00.000000000",
          "2014-02-18T08:30:00.000000000",
          "2014-02-18T09:00:00.000000000",
          "2014-02-18T09:30:00.000000000",
          "2014-02-18T10:00:00.000000000",
          "2014-02-18T10:30:00.000000000",
          "2014-02-18T11:00:00.000000000",
          "2014-02-18T11:30:00.000000000",
          "2014-02-18T12:00:00.000000000",
          "2014-02-18T12:30:00.000000000",
          "2014-02-18T13:00:00.000000000",
          "2014-02-18T13:30:00.000000000",
          "2014-02-18T14:00:00.000000000",
          "2014-02-18T14:30:00.000000000",
          "2014-02-18T15:00:00.000000000",
          "2014-02-18T15:30:00.000000000",
          "2014-02-18T16:00:00.000000000",
          "2014-02-18T16:30:00.000000000",
          "2014-02-18T17:00:00.000000000",
          "2014-02-18T17:30:00.000000000",
          "2014-02-18T18:00:00.000000000",
          "2014-02-18T18:30:00.000000000",
          "2014-02-18T19:00:00.000000000",
          "2014-02-18T19:30:00.000000000",
          "2014-02-18T20:00:00.000000000",
          "2014-02-18T20:30:00.000000000",
          "2014-02-18T21:00:00.000000000",
          "2014-02-18T21:30:00.000000000",
          "2014-02-18T22:00:00.000000000",
          "2014-02-18T22:30:00.000000000",
          "2014-02-18T23:00:00.000000000",
          "2014-02-18T23:30:00.000000000",
          "2014-02-19T00:00:00.000000000",
          "2014-02-19T00:30:00.000000000",
          "2014-02-19T01:00:00.000000000",
          "2014-02-19T01:30:00.000000000",
          "2014-02-19T02:00:00.000000000",
          "2014-02-19T02:30:00.000000000",
          "2014-02-19T03:00:00.000000000",
          "2014-02-19T03:30:00.000000000",
          "2014-02-19T04:00:00.000000000",
          "2014-02-19T04:30:00.000000000",
          "2014-02-19T05:00:00.000000000",
          "2014-02-19T05:30:00.000000000",
          "2014-02-19T06:00:00.000000000",
          "2014-02-19T06:30:00.000000000",
          "2014-02-19T07:00:00.000000000",
          "2014-02-19T07:30:00.000000000",
          "2014-02-19T08:00:00.000000000",
          "2014-02-19T08:30:00.000000000",
          "2014-02-19T09:00:00.000000000",
          "2014-02-19T09:30:00.000000000",
          "2014-02-19T10:00:00.000000000",
          "2014-02-19T10:30:00.000000000",
          "2014-02-19T11:00:00.000000000",
          "2014-02-19T11:30:00.000000000",
          "2014-02-19T12:00:00.000000000",
          "2014-02-19T12:30:00.000000000",
          "2014-02-19T13:00:00.000000000",
          "2014-02-19T13:30:00.000000000",
          "2014-02-19T14:00:00.000000000",
          "2014-02-19T14:30:00.000000000",
          "2014-02-19T15:00:00.000000000",
          "2014-02-19T15:30:00.000000000",
          "2014-02-19T16:00:00.000000000",
          "2014-02-19T16:30:00.000000000",
          "2014-02-19T17:00:00.000000000",
          "2014-02-19T17:30:00.000000000",
          "2014-02-19T18:00:00.000000000",
          "2014-02-19T18:30:00.000000000",
          "2014-02-19T19:00:00.000000000",
          "2014-02-19T19:30:00.000000000",
          "2014-02-19T20:00:00.000000000",
          "2014-02-19T20:30:00.000000000",
          "2014-02-19T21:00:00.000000000",
          "2014-02-19T21:30:00.000000000",
          "2014-02-19T22:00:00.000000000",
          "2014-02-19T22:30:00.000000000",
          "2014-02-19T23:00:00.000000000",
          "2014-02-19T23:30:00.000000000",
          "2014-02-20T00:00:00.000000000",
          "2014-02-20T00:30:00.000000000",
          "2014-02-20T01:00:00.000000000",
          "2014-02-20T01:30:00.000000000",
          "2014-02-20T02:00:00.000000000",
          "2014-02-20T02:30:00.000000000",
          "2014-02-20T03:00:00.000000000",
          "2014-02-20T03:30:00.000000000",
          "2014-02-20T04:00:00.000000000",
          "2014-02-20T04:30:00.000000000",
          "2014-02-20T05:00:00.000000000",
          "2014-02-20T05:30:00.000000000",
          "2014-02-20T06:00:00.000000000",
          "2014-02-20T06:30:00.000000000",
          "2014-02-20T07:00:00.000000000",
          "2014-02-20T07:30:00.000000000",
          "2014-02-20T08:00:00.000000000",
          "2014-02-20T08:30:00.000000000",
          "2014-02-20T09:00:00.000000000",
          "2014-02-20T09:30:00.000000000",
          "2014-02-20T10:00:00.000000000",
          "2014-02-20T10:30:00.000000000",
          "2014-02-20T11:00:00.000000000",
          "2014-02-20T11:30:00.000000000",
          "2014-02-20T12:00:00.000000000",
          "2014-02-20T12:30:00.000000000",
          "2014-02-20T13:00:00.000000000",
          "2014-02-20T13:30:00.000000000",
          "2014-02-20T14:00:00.000000000",
          "2014-02-20T14:30:00.000000000",
          "2014-02-20T15:00:00.000000000",
          "2014-02-20T15:30:00.000000000",
          "2014-02-20T16:00:00.000000000",
          "2014-02-20T16:30:00.000000000",
          "2014-02-20T17:00:00.000000000",
          "2014-02-20T17:30:00.000000000",
          "2014-02-20T18:00:00.000000000",
          "2014-02-20T18:30:00.000000000",
          "2014-02-20T19:00:00.000000000",
          "2014-02-20T19:30:00.000000000",
          "2014-02-20T20:00:00.000000000",
          "2014-02-20T20:30:00.000000000",
          "2014-02-20T21:00:00.000000000",
          "2014-02-20T21:30:00.000000000",
          "2014-02-20T22:00:00.000000000",
          "2014-02-20T22:30:00.000000000",
          "2014-02-20T23:00:00.000000000",
          "2014-02-20T23:30:00.000000000",
          "2014-02-21T00:00:00.000000000",
          "2014-02-21T00:30:00.000000000",
          "2014-02-21T01:00:00.000000000",
          "2014-02-21T01:30:00.000000000",
          "2014-02-21T02:00:00.000000000",
          "2014-02-21T02:30:00.000000000",
          "2014-02-21T03:00:00.000000000",
          "2014-02-21T03:30:00.000000000",
          "2014-02-21T04:00:00.000000000",
          "2014-02-21T04:30:00.000000000",
          "2014-02-21T05:00:00.000000000",
          "2014-02-21T05:30:00.000000000",
          "2014-02-21T06:00:00.000000000",
          "2014-02-21T06:30:00.000000000",
          "2014-02-21T07:00:00.000000000",
          "2014-02-21T07:30:00.000000000",
          "2014-02-21T08:00:00.000000000",
          "2014-02-21T08:30:00.000000000",
          "2014-02-21T09:00:00.000000000",
          "2014-02-21T09:30:00.000000000",
          "2014-02-21T10:00:00.000000000",
          "2014-02-21T10:30:00.000000000",
          "2014-02-21T11:00:00.000000000",
          "2014-02-21T11:30:00.000000000",
          "2014-02-21T12:00:00.000000000",
          "2014-02-21T12:30:00.000000000",
          "2014-02-21T13:00:00.000000000",
          "2014-02-21T13:30:00.000000000",
          "2014-02-21T14:00:00.000000000",
          "2014-02-21T14:30:00.000000000",
          "2014-02-21T15:00:00.000000000",
          "2014-02-21T15:30:00.000000000",
          "2014-02-21T16:00:00.000000000",
          "2014-02-21T16:30:00.000000000",
          "2014-02-21T17:00:00.000000000",
          "2014-02-21T17:30:00.000000000",
          "2014-02-21T18:00:00.000000000",
          "2014-02-21T18:30:00.000000000",
          "2014-02-21T19:00:00.000000000",
          "2014-02-21T19:30:00.000000000",
          "2014-02-21T20:00:00.000000000",
          "2014-02-21T20:30:00.000000000",
          "2014-02-21T21:00:00.000000000",
          "2014-02-21T21:30:00.000000000",
          "2014-02-21T22:00:00.000000000",
          "2014-02-21T22:30:00.000000000",
          "2014-02-21T23:00:00.000000000",
          "2014-02-21T23:30:00.000000000",
          "2014-02-22T00:00:00.000000000",
          "2014-02-22T00:30:00.000000000",
          "2014-02-22T01:00:00.000000000",
          "2014-02-22T01:30:00.000000000",
          "2014-02-22T02:00:00.000000000",
          "2014-02-22T02:30:00.000000000",
          "2014-02-22T03:00:00.000000000",
          "2014-02-22T03:30:00.000000000",
          "2014-02-22T04:00:00.000000000",
          "2014-02-22T04:30:00.000000000",
          "2014-02-22T05:00:00.000000000",
          "2014-02-22T05:30:00.000000000",
          "2014-02-22T06:00:00.000000000",
          "2014-02-22T06:30:00.000000000",
          "2014-02-22T07:00:00.000000000",
          "2014-02-22T07:30:00.000000000",
          "2014-02-22T08:00:00.000000000",
          "2014-02-22T08:30:00.000000000",
          "2014-02-22T09:00:00.000000000",
          "2014-02-22T09:30:00.000000000",
          "2014-02-22T10:00:00.000000000",
          "2014-02-22T10:30:00.000000000",
          "2014-02-22T11:00:00.000000000",
          "2014-02-22T11:30:00.000000000",
          "2014-02-22T12:00:00.000000000",
          "2014-02-22T12:30:00.000000000",
          "2014-02-22T13:00:00.000000000",
          "2014-02-22T13:30:00.000000000",
          "2014-02-22T14:00:00.000000000",
          "2014-02-22T14:30:00.000000000",
          "2014-02-22T15:00:00.000000000",
          "2014-02-22T15:30:00.000000000",
          "2014-02-22T16:00:00.000000000",
          "2014-02-22T16:30:00.000000000",
          "2014-02-22T17:00:00.000000000",
          "2014-02-22T17:30:00.000000000",
          "2014-02-22T18:00:00.000000000",
          "2014-02-22T18:30:00.000000000",
          "2014-02-22T19:00:00.000000000",
          "2014-02-22T19:30:00.000000000",
          "2014-02-22T20:00:00.000000000",
          "2014-02-22T20:30:00.000000000",
          "2014-02-22T21:00:00.000000000",
          "2014-02-22T21:30:00.000000000",
          "2014-02-22T22:00:00.000000000",
          "2014-02-22T22:30:00.000000000",
          "2014-02-22T23:00:00.000000000",
          "2014-02-22T23:30:00.000000000",
          "2014-02-23T00:00:00.000000000",
          "2014-02-23T00:30:00.000000000",
          "2014-02-23T01:00:00.000000000",
          "2014-02-23T01:30:00.000000000",
          "2014-02-23T02:00:00.000000000",
          "2014-02-23T02:30:00.000000000",
          "2014-02-23T03:00:00.000000000",
          "2014-02-23T03:30:00.000000000",
          "2014-02-23T04:00:00.000000000",
          "2014-02-23T04:30:00.000000000",
          "2014-02-23T05:00:00.000000000",
          "2014-02-23T05:30:00.000000000",
          "2014-02-23T06:00:00.000000000",
          "2014-02-23T06:30:00.000000000",
          "2014-02-23T07:00:00.000000000",
          "2014-02-23T07:30:00.000000000",
          "2014-02-23T08:00:00.000000000",
          "2014-02-23T08:30:00.000000000",
          "2014-02-23T09:00:00.000000000",
          "2014-02-23T09:30:00.000000000",
          "2014-02-23T10:00:00.000000000",
          "2014-02-23T10:30:00.000000000",
          "2014-02-23T11:00:00.000000000",
          "2014-02-23T11:30:00.000000000",
          "2014-02-23T12:00:00.000000000",
          "2014-02-23T12:30:00.000000000",
          "2014-02-23T13:00:00.000000000",
          "2014-02-23T13:30:00.000000000",
          "2014-02-23T14:00:00.000000000",
          "2014-02-23T14:30:00.000000000",
          "2014-02-23T15:00:00.000000000",
          "2014-02-23T15:30:00.000000000",
          "2014-02-23T16:00:00.000000000",
          "2014-02-23T16:30:00.000000000",
          "2014-02-23T17:00:00.000000000",
          "2014-02-23T17:30:00.000000000",
          "2014-02-23T18:00:00.000000000",
          "2014-02-23T18:30:00.000000000",
          "2014-02-23T19:00:00.000000000",
          "2014-02-23T19:30:00.000000000",
          "2014-02-23T20:00:00.000000000",
          "2014-02-23T20:30:00.000000000",
          "2014-02-23T21:00:00.000000000",
          "2014-02-23T21:30:00.000000000",
          "2014-02-23T22:00:00.000000000",
          "2014-02-23T22:30:00.000000000",
          "2014-02-23T23:00:00.000000000",
          "2014-02-23T23:30:00.000000000",
          "2014-02-24T00:00:00.000000000",
          "2014-02-24T00:30:00.000000000",
          "2014-02-24T01:00:00.000000000",
          "2014-02-24T01:30:00.000000000",
          "2014-02-24T02:00:00.000000000",
          "2014-02-24T02:30:00.000000000",
          "2014-02-24T03:00:00.000000000",
          "2014-02-24T03:30:00.000000000",
          "2014-02-24T04:00:00.000000000",
          "2014-02-24T04:30:00.000000000",
          "2014-02-24T05:00:00.000000000",
          "2014-02-24T05:30:00.000000000",
          "2014-02-24T06:00:00.000000000",
          "2014-02-24T06:30:00.000000000",
          "2014-02-24T07:00:00.000000000",
          "2014-02-24T07:30:00.000000000",
          "2014-02-24T08:00:00.000000000",
          "2014-02-24T08:30:00.000000000",
          "2014-02-24T09:00:00.000000000",
          "2014-02-24T09:30:00.000000000",
          "2014-02-24T10:00:00.000000000",
          "2014-02-24T10:30:00.000000000",
          "2014-02-24T11:00:00.000000000",
          "2014-02-24T11:30:00.000000000",
          "2014-02-24T12:00:00.000000000",
          "2014-02-24T12:30:00.000000000",
          "2014-02-24T13:00:00.000000000",
          "2014-02-24T13:30:00.000000000",
          "2014-02-24T14:00:00.000000000",
          "2014-02-24T14:30:00.000000000",
          "2014-02-24T15:00:00.000000000",
          "2014-02-24T15:30:00.000000000",
          "2014-02-24T16:00:00.000000000",
          "2014-02-24T16:30:00.000000000",
          "2014-02-24T17:00:00.000000000",
          "2014-02-24T17:30:00.000000000",
          "2014-02-24T18:00:00.000000000",
          "2014-02-24T18:30:00.000000000",
          "2014-02-24T19:00:00.000000000",
          "2014-02-24T19:30:00.000000000",
          "2014-02-24T20:00:00.000000000",
          "2014-02-24T20:30:00.000000000",
          "2014-02-24T21:00:00.000000000",
          "2014-02-24T21:30:00.000000000",
          "2014-02-24T22:00:00.000000000",
          "2014-02-24T22:30:00.000000000",
          "2014-02-24T23:00:00.000000000",
          "2014-02-24T23:30:00.000000000",
          "2014-02-25T00:00:00.000000000",
          "2014-02-25T00:30:00.000000000",
          "2014-02-25T01:00:00.000000000",
          "2014-02-25T01:30:00.000000000",
          "2014-02-25T02:00:00.000000000",
          "2014-02-25T02:30:00.000000000",
          "2014-02-25T03:00:00.000000000",
          "2014-02-25T03:30:00.000000000",
          "2014-02-25T04:00:00.000000000",
          "2014-02-25T04:30:00.000000000",
          "2014-02-25T05:00:00.000000000",
          "2014-02-25T05:30:00.000000000",
          "2014-02-25T06:00:00.000000000",
          "2014-02-25T06:30:00.000000000",
          "2014-02-25T07:00:00.000000000",
          "2014-02-25T07:30:00.000000000",
          "2014-02-25T08:00:00.000000000",
          "2014-02-25T08:30:00.000000000",
          "2014-02-25T09:00:00.000000000",
          "2014-02-25T09:30:00.000000000",
          "2014-02-25T10:00:00.000000000",
          "2014-02-25T10:30:00.000000000",
          "2014-02-25T11:00:00.000000000",
          "2014-02-25T11:30:00.000000000",
          "2014-02-25T12:00:00.000000000",
          "2014-02-25T12:30:00.000000000",
          "2014-02-25T13:00:00.000000000",
          "2014-02-25T13:30:00.000000000",
          "2014-02-25T14:00:00.000000000",
          "2014-02-25T14:30:00.000000000",
          "2014-02-25T15:00:00.000000000",
          "2014-02-25T15:30:00.000000000",
          "2014-02-25T16:00:00.000000000",
          "2014-02-25T16:30:00.000000000",
          "2014-02-25T17:00:00.000000000",
          "2014-02-25T17:30:00.000000000",
          "2014-02-25T18:00:00.000000000",
          "2014-02-25T18:30:00.000000000",
          "2014-02-25T19:00:00.000000000",
          "2014-02-25T19:30:00.000000000",
          "2014-02-25T20:00:00.000000000",
          "2014-02-25T20:30:00.000000000",
          "2014-02-25T21:00:00.000000000",
          "2014-02-25T21:30:00.000000000",
          "2014-02-25T22:00:00.000000000",
          "2014-02-25T22:30:00.000000000",
          "2014-02-25T23:00:00.000000000",
          "2014-02-25T23:30:00.000000000",
          "2014-02-26T00:00:00.000000000",
          "2014-02-26T00:30:00.000000000",
          "2014-02-26T01:00:00.000000000",
          "2014-02-26T01:30:00.000000000",
          "2014-02-26T02:00:00.000000000",
          "2014-02-26T02:30:00.000000000",
          "2014-02-26T03:00:00.000000000",
          "2014-02-26T03:30:00.000000000",
          "2014-02-26T04:00:00.000000000",
          "2014-02-26T04:30:00.000000000",
          "2014-02-26T05:00:00.000000000",
          "2014-02-26T05:30:00.000000000",
          "2014-02-26T06:00:00.000000000",
          "2014-02-26T06:30:00.000000000",
          "2014-02-26T07:00:00.000000000",
          "2014-02-26T07:30:00.000000000",
          "2014-02-26T08:00:00.000000000",
          "2014-02-26T08:30:00.000000000",
          "2014-02-26T09:00:00.000000000",
          "2014-02-26T09:30:00.000000000",
          "2014-02-26T10:00:00.000000000",
          "2014-02-26T10:30:00.000000000",
          "2014-02-26T11:00:00.000000000",
          "2014-02-26T11:30:00.000000000",
          "2014-02-26T12:00:00.000000000",
          "2014-02-26T12:30:00.000000000",
          "2014-02-26T13:00:00.000000000",
          "2014-02-26T13:30:00.000000000",
          "2014-02-26T14:00:00.000000000",
          "2014-02-26T14:30:00.000000000",
          "2014-02-26T15:00:00.000000000",
          "2014-02-26T15:30:00.000000000",
          "2014-02-26T16:00:00.000000000",
          "2014-02-26T16:30:00.000000000",
          "2014-02-26T17:00:00.000000000",
          "2014-02-26T17:30:00.000000000",
          "2014-02-26T18:00:00.000000000",
          "2014-02-26T18:30:00.000000000",
          "2014-02-26T19:00:00.000000000",
          "2014-02-26T19:30:00.000000000",
          "2014-02-26T20:00:00.000000000",
          "2014-02-26T20:30:00.000000000",
          "2014-02-26T21:00:00.000000000",
          "2014-02-26T21:30:00.000000000",
          "2014-02-26T22:00:00.000000000",
          "2014-02-26T22:30:00.000000000",
          "2014-02-26T23:00:00.000000000",
          "2014-02-26T23:30:00.000000000",
          "2014-02-27T00:00:00.000000000",
          "2014-02-27T00:30:00.000000000",
          "2014-02-27T01:00:00.000000000",
          "2014-02-27T01:30:00.000000000",
          "2014-02-27T02:00:00.000000000",
          "2014-02-27T02:30:00.000000000",
          "2014-02-27T03:00:00.000000000",
          "2014-02-27T03:30:00.000000000",
          "2014-02-27T04:00:00.000000000",
          "2014-02-27T04:30:00.000000000",
          "2014-02-27T05:00:00.000000000",
          "2014-02-27T05:30:00.000000000",
          "2014-02-27T06:00:00.000000000",
          "2014-02-27T06:30:00.000000000",
          "2014-02-27T07:00:00.000000000",
          "2014-02-27T07:30:00.000000000",
          "2014-02-27T08:00:00.000000000",
          "2014-02-27T08:30:00.000000000",
          "2014-02-27T09:00:00.000000000",
          "2014-02-27T09:30:00.000000000",
          "2014-02-27T10:00:00.000000000",
          "2014-02-27T10:30:00.000000000",
          "2014-02-27T11:00:00.000000000",
          "2014-02-27T11:30:00.000000000",
          "2014-02-27T12:00:00.000000000",
          "2014-02-27T12:30:00.000000000",
          "2014-02-27T13:00:00.000000000",
          "2014-02-27T13:30:00.000000000",
          "2014-02-27T14:00:00.000000000",
          "2014-02-27T14:30:00.000000000",
          "2014-02-27T15:00:00.000000000",
          "2014-02-27T15:30:00.000000000",
          "2014-02-27T16:00:00.000000000",
          "2014-02-27T16:30:00.000000000",
          "2014-02-27T17:00:00.000000000",
          "2014-02-27T17:30:00.000000000",
          "2014-02-27T18:00:00.000000000",
          "2014-02-27T18:30:00.000000000",
          "2014-02-27T19:00:00.000000000",
          "2014-02-27T19:30:00.000000000",
          "2014-02-27T20:00:00.000000000",
          "2014-02-27T20:30:00.000000000",
          "2014-02-27T21:00:00.000000000",
          "2014-02-27T21:30:00.000000000",
          "2014-02-27T22:00:00.000000000",
          "2014-02-27T22:30:00.000000000",
          "2014-02-27T23:00:00.000000000",
          "2014-02-27T23:30:00.000000000"
         ],
         "y": {
          "bdata": "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",
          "dtype": "f8"
         }
        },
        {
         "line": {
          "color": "rgba(217,95,2, 1)",
          "dash": "dash"
         },
         "mode": "lines",
         "name": "TSMixer",
         "type": "scatter",
         "x": [
          "2014-02-01T00:00:00.000000000",
          "2014-02-01T00:30:00.000000000",
          "2014-02-01T01:00:00.000000000",
          "2014-02-01T01:30:00.000000000",
          "2014-02-01T02:00:00.000000000",
          "2014-02-01T02:30:00.000000000",
          "2014-02-01T03:00:00.000000000",
          "2014-02-01T03:30:00.000000000",
          "2014-02-01T04:00:00.000000000",
          "2014-02-01T04:30:00.000000000",
          "2014-02-01T05:00:00.000000000",
          "2014-02-01T05:30:00.000000000",
          "2014-02-01T06:00:00.000000000",
          "2014-02-01T06:30:00.000000000",
          "2014-02-01T07:00:00.000000000",
          "2014-02-01T07:30:00.000000000",
          "2014-02-01T08:00:00.000000000",
          "2014-02-01T08:30:00.000000000",
          "2014-02-01T09:00:00.000000000",
          "2014-02-01T09:30:00.000000000",
          "2014-02-01T10:00:00.000000000",
          "2014-02-01T10:30:00.000000000",
          "2014-02-01T11:00:00.000000000",
          "2014-02-01T11:30:00.000000000",
          "2014-02-01T12:00:00.000000000",
          "2014-02-01T12:30:00.000000000",
          "2014-02-01T13:00:00.000000000",
          "2014-02-01T13:30:00.000000000",
          "2014-02-01T14:00:00.000000000",
          "2014-02-01T14:30:00.000000000",
          "2014-02-01T15:00:00.000000000",
          "2014-02-01T15:30:00.000000000",
          "2014-02-01T16:00:00.000000000",
          "2014-02-01T16:30:00.000000000",
          "2014-02-01T17:00:00.000000000",
          "2014-02-01T17:30:00.000000000",
          "2014-02-01T18:00:00.000000000",
          "2014-02-01T18:30:00.000000000",
          "2014-02-01T19:00:00.000000000",
          "2014-02-01T19:30:00.000000000",
          "2014-02-01T20:00:00.000000000",
          "2014-02-01T20:30:00.000000000",
          "2014-02-01T21:00:00.000000000",
          "2014-02-01T21:30:00.000000000",
          "2014-02-01T22:00:00.000000000",
          "2014-02-01T22:30:00.000000000",
          "2014-02-01T23:00:00.000000000",
          "2014-02-01T23:30:00.000000000",
          "2014-02-02T00:00:00.000000000",
          "2014-02-02T00:30:00.000000000",
          "2014-02-02T01:00:00.000000000",
          "2014-02-02T01:30:00.000000000",
          "2014-02-02T02:00:00.000000000",
          "2014-02-02T02:30:00.000000000",
          "2014-02-02T03:00:00.000000000",
          "2014-02-02T03:30:00.000000000",
          "2014-02-02T04:00:00.000000000",
          "2014-02-02T04:30:00.000000000",
          "2014-02-02T05:00:00.000000000",
          "2014-02-02T05:30:00.000000000",
          "2014-02-02T06:00:00.000000000",
          "2014-02-02T06:30:00.000000000",
          "2014-02-02T07:00:00.000000000",
          "2014-02-02T07:30:00.000000000",
          "2014-02-02T08:00:00.000000000",
          "2014-02-02T08:30:00.000000000",
          "2014-02-02T09:00:00.000000000",
          "2014-02-02T09:30:00.000000000",
          "2014-02-02T10:00:00.000000000",
          "2014-02-02T10:30:00.000000000",
          "2014-02-02T11:00:00.000000000",
          "2014-02-02T11:30:00.000000000",
          "2014-02-02T12:00:00.000000000",
          "2014-02-02T12:30:00.000000000",
          "2014-02-02T13:00:00.000000000",
          "2014-02-02T13:30:00.000000000",
          "2014-02-02T14:00:00.000000000",
          "2014-02-02T14:30:00.000000000",
          "2014-02-02T15:00:00.000000000",
          "2014-02-02T15:30:00.000000000",
          "2014-02-02T16:00:00.000000000",
          "2014-02-02T16:30:00.000000000",
          "2014-02-02T17:00:00.000000000",
          "2014-02-02T17:30:00.000000000",
          "2014-02-02T18:00:00.000000000",
          "2014-02-02T18:30:00.000000000",
          "2014-02-02T19:00:00.000000000",
          "2014-02-02T19:30:00.000000000",
          "2014-02-02T20:00:00.000000000",
          "2014-02-02T20:30:00.000000000",
          "2014-02-02T21:00:00.000000000",
          "2014-02-02T21:30:00.000000000",
          "2014-02-02T22:00:00.000000000",
          "2014-02-02T22:30:00.000000000",
          "2014-02-02T23:00:00.000000000",
          "2014-02-02T23:30:00.000000000",
          "2014-02-03T00:00:00.000000000",
          "2014-02-03T00:30:00.000000000",
          "2014-02-03T01:00:00.000000000",
          "2014-02-03T01:30:00.000000000",
          "2014-02-03T02:00:00.000000000",
          "2014-02-03T02:30:00.000000000",
          "2014-02-03T03:00:00.000000000",
          "2014-02-03T03:30:00.000000000",
          "2014-02-03T04:00:00.000000000",
          "2014-02-03T04:30:00.000000000",
          "2014-02-03T05:00:00.000000000",
          "2014-02-03T05:30:00.000000000",
          "2014-02-03T06:00:00.000000000",
          "2014-02-03T06:30:00.000000000",
          "2014-02-03T07:00:00.000000000",
          "2014-02-03T07:30:00.000000000",
          "2014-02-03T08:00:00.000000000",
          "2014-02-03T08:30:00.000000000",
          "2014-02-03T09:00:00.000000000",
          "2014-02-03T09:30:00.000000000",
          "2014-02-03T10:00:00.000000000",
          "2014-02-03T10:30:00.000000000",
          "2014-02-03T11:00:00.000000000",
          "2014-02-03T11:30:00.000000000",
          "2014-02-03T12:00:00.000000000",
          "2014-02-03T12:30:00.000000000",
          "2014-02-03T13:00:00.000000000",
          "2014-02-03T13:30:00.000000000",
          "2014-02-03T14:00:00.000000000",
          "2014-02-03T14:30:00.000000000",
          "2014-02-03T15:00:00.000000000",
          "2014-02-03T15:30:00.000000000",
          "2014-02-03T16:00:00.000000000",
          "2014-02-03T16:30:00.000000000",
          "2014-02-03T17:00:00.000000000",
          "2014-02-03T17:30:00.000000000",
          "2014-02-03T18:00:00.000000000",
          "2014-02-03T18:30:00.000000000",
          "2014-02-03T19:00:00.000000000",
          "2014-02-03T19:30:00.000000000",
          "2014-02-03T20:00:00.000000000",
          "2014-02-03T20:30:00.000000000",
          "2014-02-03T21:00:00.000000000",
          "2014-02-03T21:30:00.000000000",
          "2014-02-03T22:00:00.000000000",
          "2014-02-03T22:30:00.000000000",
          "2014-02-03T23:00:00.000000000",
          "2014-02-03T23:30:00.000000000",
          "2014-02-04T00:00:00.000000000",
          "2014-02-04T00:30:00.000000000",
          "2014-02-04T01:00:00.000000000",
          "2014-02-04T01:30:00.000000000",
          "2014-02-04T02:00:00.000000000",
          "2014-02-04T02:30:00.000000000",
          "2014-02-04T03:00:00.000000000",
          "2014-02-04T03:30:00.000000000",
          "2014-02-04T04:00:00.000000000",
          "2014-02-04T04:30:00.000000000",
          "2014-02-04T05:00:00.000000000",
          "2014-02-04T05:30:00.000000000",
          "2014-02-04T06:00:00.000000000",
          "2014-02-04T06:30:00.000000000",
          "2014-02-04T07:00:00.000000000",
          "2014-02-04T07:30:00.000000000",
          "2014-02-04T08:00:00.000000000",
          "2014-02-04T08:30:00.000000000",
          "2014-02-04T09:00:00.000000000",
          "2014-02-04T09:30:00.000000000",
          "2014-02-04T10:00:00.000000000",
          "2014-02-04T10:30:00.000000000",
          "2014-02-04T11:00:00.000000000",
          "2014-02-04T11:30:00.000000000",
          "2014-02-04T12:00:00.000000000",
          "2014-02-04T12:30:00.000000000",
          "2014-02-04T13:00:00.000000000",
          "2014-02-04T13:30:00.000000000",
          "2014-02-04T14:00:00.000000000",
          "2014-02-04T14:30:00.000000000",
          "2014-02-04T15:00:00.000000000",
          "2014-02-04T15:30:00.000000000",
          "2014-02-04T16:00:00.000000000",
          "2014-02-04T16:30:00.000000000",
          "2014-02-04T17:00:00.000000000",
          "2014-02-04T17:30:00.000000000",
          "2014-02-04T18:00:00.000000000",
          "2014-02-04T18:30:00.000000000",
          "2014-02-04T19:00:00.000000000",
          "2014-02-04T19:30:00.000000000",
          "2014-02-04T20:00:00.000000000",
          "2014-02-04T20:30:00.000000000",
          "2014-02-04T21:00:00.000000000",
          "2014-02-04T21:30:00.000000000",
          "2014-02-04T22:00:00.000000000",
          "2014-02-04T22:30:00.000000000",
          "2014-02-04T23:00:00.000000000",
          "2014-02-04T23:30:00.000000000",
          "2014-02-05T00:00:00.000000000",
          "2014-02-05T00:30:00.000000000",
          "2014-02-05T01:00:00.000000000",
          "2014-02-05T01:30:00.000000000",
          "2014-02-05T02:00:00.000000000",
          "2014-02-05T02:30:00.000000000",
          "2014-02-05T03:00:00.000000000",
          "2014-02-05T03:30:00.000000000",
          "2014-02-05T04:00:00.000000000",
          "2014-02-05T04:30:00.000000000",
          "2014-02-05T05:00:00.000000000",
          "2014-02-05T05:30:00.000000000",
          "2014-02-05T06:00:00.000000000",
          "2014-02-05T06:30:00.000000000",
          "2014-02-05T07:00:00.000000000",
          "2014-02-05T07:30:00.000000000",
          "2014-02-05T08:00:00.000000000",
          "2014-02-05T08:30:00.000000000",
          "2014-02-05T09:00:00.000000000",
          "2014-02-05T09:30:00.000000000",
          "2014-02-05T10:00:00.000000000",
          "2014-02-05T10:30:00.000000000",
          "2014-02-05T11:00:00.000000000",
          "2014-02-05T11:30:00.000000000",
          "2014-02-05T12:00:00.000000000",
          "2014-02-05T12:30:00.000000000",
          "2014-02-05T13:00:00.000000000",
          "2014-02-05T13:30:00.000000000",
          "2014-02-05T14:00:00.000000000",
          "2014-02-05T14:30:00.000000000",
          "2014-02-05T15:00:00.000000000",
          "2014-02-05T15:30:00.000000000",
          "2014-02-05T16:00:00.000000000",
          "2014-02-05T16:30:00.000000000",
          "2014-02-05T17:00:00.000000000",
          "2014-02-05T17:30:00.000000000",
          "2014-02-05T18:00:00.000000000",
          "2014-02-05T18:30:00.000000000",
          "2014-02-05T19:00:00.000000000",
          "2014-02-05T19:30:00.000000000",
          "2014-02-05T20:00:00.000000000",
          "2014-02-05T20:30:00.000000000",
          "2014-02-05T21:00:00.000000000",
          "2014-02-05T21:30:00.000000000",
          "2014-02-05T22:00:00.000000000",
          "2014-02-05T22:30:00.000000000",
          "2014-02-05T23:00:00.000000000",
          "2014-02-05T23:30:00.000000000",
          "2014-02-06T00:00:00.000000000",
          "2014-02-06T00:30:00.000000000",
          "2014-02-06T01:00:00.000000000",
          "2014-02-06T01:30:00.000000000",
          "2014-02-06T02:00:00.000000000",
          "2014-02-06T02:30:00.000000000",
          "2014-02-06T03:00:00.000000000",
          "2014-02-06T03:30:00.000000000",
          "2014-02-06T04:00:00.000000000",
          "2014-02-06T04:30:00.000000000",
          "2014-02-06T05:00:00.000000000",
          "2014-02-06T05:30:00.000000000",
          "2014-02-06T06:00:00.000000000",
          "2014-02-06T06:30:00.000000000",
          "2014-02-06T07:00:00.000000000",
          "2014-02-06T07:30:00.000000000",
          "2014-02-06T08:00:00.000000000",
          "2014-02-06T08:30:00.000000000",
          "2014-02-06T09:00:00.000000000",
          "2014-02-06T09:30:00.000000000",
          "2014-02-06T10:00:00.000000000",
          "2014-02-06T10:30:00.000000000",
          "2014-02-06T11:00:00.000000000",
          "2014-02-06T11:30:00.000000000",
          "2014-02-06T12:00:00.000000000",
          "2014-02-06T12:30:00.000000000",
          "2014-02-06T13:00:00.000000000",
          "2014-02-06T13:30:00.000000000",
          "2014-02-06T14:00:00.000000000",
          "2014-02-06T14:30:00.000000000",
          "2014-02-06T15:00:00.000000000",
          "2014-02-06T15:30:00.000000000",
          "2014-02-06T16:00:00.000000000",
          "2014-02-06T16:30:00.000000000",
          "2014-02-06T17:00:00.000000000",
          "2014-02-06T17:30:00.000000000",
          "2014-02-06T18:00:00.000000000",
          "2014-02-06T18:30:00.000000000",
          "2014-02-06T19:00:00.000000000",
          "2014-02-06T19:30:00.000000000",
          "2014-02-06T20:00:00.000000000",
          "2014-02-06T20:30:00.000000000",
          "2014-02-06T21:00:00.000000000",
          "2014-02-06T21:30:00.000000000",
          "2014-02-06T22:00:00.000000000",
          "2014-02-06T22:30:00.000000000",
          "2014-02-06T23:00:00.000000000",
          "2014-02-06T23:30:00.000000000",
          "2014-02-07T00:00:00.000000000",
          "2014-02-07T00:30:00.000000000",
          "2014-02-07T01:00:00.000000000",
          "2014-02-07T01:30:00.000000000",
          "2014-02-07T02:00:00.000000000",
          "2014-02-07T02:30:00.000000000",
          "2014-02-07T03:00:00.000000000",
          "2014-02-07T03:30:00.000000000",
          "2014-02-07T04:00:00.000000000",
          "2014-02-07T04:30:00.000000000",
          "2014-02-07T05:00:00.000000000",
          "2014-02-07T05:30:00.000000000",
          "2014-02-07T06:00:00.000000000",
          "2014-02-07T06:30:00.000000000",
          "2014-02-07T07:00:00.000000000",
          "2014-02-07T07:30:00.000000000",
          "2014-02-07T08:00:00.000000000",
          "2014-02-07T08:30:00.000000000",
          "2014-02-07T09:00:00.000000000",
          "2014-02-07T09:30:00.000000000",
          "2014-02-07T10:00:00.000000000",
          "2014-02-07T10:30:00.000000000",
          "2014-02-07T11:00:00.000000000",
          "2014-02-07T11:30:00.000000000",
          "2014-02-07T12:00:00.000000000",
          "2014-02-07T12:30:00.000000000",
          "2014-02-07T13:00:00.000000000",
          "2014-02-07T13:30:00.000000000",
          "2014-02-07T14:00:00.000000000",
          "2014-02-07T14:30:00.000000000",
          "2014-02-07T15:00:00.000000000",
          "2014-02-07T15:30:00.000000000",
          "2014-02-07T16:00:00.000000000",
          "2014-02-07T16:30:00.000000000",
          "2014-02-07T17:00:00.000000000",
          "2014-02-07T17:30:00.000000000",
          "2014-02-07T18:00:00.000000000",
          "2014-02-07T18:30:00.000000000",
          "2014-02-07T19:00:00.000000000",
          "2014-02-07T19:30:00.000000000",
          "2014-02-07T20:00:00.000000000",
          "2014-02-07T20:30:00.000000000",
          "2014-02-07T21:00:00.000000000",
          "2014-02-07T21:30:00.000000000",
          "2014-02-07T22:00:00.000000000",
          "2014-02-07T22:30:00.000000000",
          "2014-02-07T23:00:00.000000000",
          "2014-02-07T23:30:00.000000000",
          "2014-02-08T00:00:00.000000000",
          "2014-02-08T00:30:00.000000000",
          "2014-02-08T01:00:00.000000000",
          "2014-02-08T01:30:00.000000000",
          "2014-02-08T02:00:00.000000000",
          "2014-02-08T02:30:00.000000000",
          "2014-02-08T03:00:00.000000000",
          "2014-02-08T03:30:00.000000000",
          "2014-02-08T04:00:00.000000000",
          "2014-02-08T04:30:00.000000000",
          "2014-02-08T05:00:00.000000000",
          "2014-02-08T05:30:00.000000000",
          "2014-02-08T06:00:00.000000000",
          "2014-02-08T06:30:00.000000000",
          "2014-02-08T07:00:00.000000000",
          "2014-02-08T07:30:00.000000000",
          "2014-02-08T08:00:00.000000000",
          "2014-02-08T08:30:00.000000000",
          "2014-02-08T09:00:00.000000000",
          "2014-02-08T09:30:00.000000000",
          "2014-02-08T10:00:00.000000000",
          "2014-02-08T10:30:00.000000000",
          "2014-02-08T11:00:00.000000000",
          "2014-02-08T11:30:00.000000000",
          "2014-02-08T12:00:00.000000000",
          "2014-02-08T12:30:00.000000000",
          "2014-02-08T13:00:00.000000000",
          "2014-02-08T13:30:00.000000000",
          "2014-02-08T14:00:00.000000000",
          "2014-02-08T14:30:00.000000000",
          "2014-02-08T15:00:00.000000000",
          "2014-02-08T15:30:00.000000000",
          "2014-02-08T16:00:00.000000000",
          "2014-02-08T16:30:00.000000000",
          "2014-02-08T17:00:00.000000000",
          "2014-02-08T17:30:00.000000000",
          "2014-02-08T18:00:00.000000000",
          "2014-02-08T18:30:00.000000000",
          "2014-02-08T19:00:00.000000000",
          "2014-02-08T19:30:00.000000000",
          "2014-02-08T20:00:00.000000000",
          "2014-02-08T20:30:00.000000000",
          "2014-02-08T21:00:00.000000000",
          "2014-02-08T21:30:00.000000000",
          "2014-02-08T22:00:00.000000000",
          "2014-02-08T22:30:00.000000000",
          "2014-02-08T23:00:00.000000000",
          "2014-02-08T23:30:00.000000000",
          "2014-02-09T00:00:00.000000000",
          "2014-02-09T00:30:00.000000000",
          "2014-02-09T01:00:00.000000000",
          "2014-02-09T01:30:00.000000000",
          "2014-02-09T02:00:00.000000000",
          "2014-02-09T02:30:00.000000000",
          "2014-02-09T03:00:00.000000000",
          "2014-02-09T03:30:00.000000000",
          "2014-02-09T04:00:00.000000000",
          "2014-02-09T04:30:00.000000000",
          "2014-02-09T05:00:00.000000000",
          "2014-02-09T05:30:00.000000000",
          "2014-02-09T06:00:00.000000000",
          "2014-02-09T06:30:00.000000000",
          "2014-02-09T07:00:00.000000000",
          "2014-02-09T07:30:00.000000000",
          "2014-02-09T08:00:00.000000000",
          "2014-02-09T08:30:00.000000000",
          "2014-02-09T09:00:00.000000000",
          "2014-02-09T09:30:00.000000000",
          "2014-02-09T10:00:00.000000000",
          "2014-02-09T10:30:00.000000000",
          "2014-02-09T11:00:00.000000000",
          "2014-02-09T11:30:00.000000000",
          "2014-02-09T12:00:00.000000000",
          "2014-02-09T12:30:00.000000000",
          "2014-02-09T13:00:00.000000000",
          "2014-02-09T13:30:00.000000000",
          "2014-02-09T14:00:00.000000000",
          "2014-02-09T14:30:00.000000000",
          "2014-02-09T15:00:00.000000000",
          "2014-02-09T15:30:00.000000000",
          "2014-02-09T16:00:00.000000000",
          "2014-02-09T16:30:00.000000000",
          "2014-02-09T17:00:00.000000000",
          "2014-02-09T17:30:00.000000000",
          "2014-02-09T18:00:00.000000000",
          "2014-02-09T18:30:00.000000000",
          "2014-02-09T19:00:00.000000000",
          "2014-02-09T19:30:00.000000000",
          "2014-02-09T20:00:00.000000000",
          "2014-02-09T20:30:00.000000000",
          "2014-02-09T21:00:00.000000000",
          "2014-02-09T21:30:00.000000000",
          "2014-02-09T22:00:00.000000000",
          "2014-02-09T22:30:00.000000000",
          "2014-02-09T23:00:00.000000000",
          "2014-02-09T23:30:00.000000000",
          "2014-02-10T00:00:00.000000000",
          "2014-02-10T00:30:00.000000000",
          "2014-02-10T01:00:00.000000000",
          "2014-02-10T01:30:00.000000000",
          "2014-02-10T02:00:00.000000000",
          "2014-02-10T02:30:00.000000000",
          "2014-02-10T03:00:00.000000000",
          "2014-02-10T03:30:00.000000000",
          "2014-02-10T04:00:00.000000000",
          "2014-02-10T04:30:00.000000000",
          "2014-02-10T05:00:00.000000000",
          "2014-02-10T05:30:00.000000000",
          "2014-02-10T06:00:00.000000000",
          "2014-02-10T06:30:00.000000000",
          "2014-02-10T07:00:00.000000000",
          "2014-02-10T07:30:00.000000000",
          "2014-02-10T08:00:00.000000000",
          "2014-02-10T08:30:00.000000000",
          "2014-02-10T09:00:00.000000000",
          "2014-02-10T09:30:00.000000000",
          "2014-02-10T10:00:00.000000000",
          "2014-02-10T10:30:00.000000000",
          "2014-02-10T11:00:00.000000000",
          "2014-02-10T11:30:00.000000000",
          "2014-02-10T12:00:00.000000000",
          "2014-02-10T12:30:00.000000000",
          "2014-02-10T13:00:00.000000000",
          "2014-02-10T13:30:00.000000000",
          "2014-02-10T14:00:00.000000000",
          "2014-02-10T14:30:00.000000000",
          "2014-02-10T15:00:00.000000000",
          "2014-02-10T15:30:00.000000000",
          "2014-02-10T16:00:00.000000000",
          "2014-02-10T16:30:00.000000000",
          "2014-02-10T17:00:00.000000000",
          "2014-02-10T17:30:00.000000000",
          "2014-02-10T18:00:00.000000000",
          "2014-02-10T18:30:00.000000000",
          "2014-02-10T19:00:00.000000000",
          "2014-02-10T19:30:00.000000000",
          "2014-02-10T20:00:00.000000000",
          "2014-02-10T20:30:00.000000000",
          "2014-02-10T21:00:00.000000000",
          "2014-02-10T21:30:00.000000000",
          "2014-02-10T22:00:00.000000000",
          "2014-02-10T22:30:00.000000000",
          "2014-02-10T23:00:00.000000000",
          "2014-02-10T23:30:00.000000000",
          "2014-02-11T00:00:00.000000000",
          "2014-02-11T00:30:00.000000000",
          "2014-02-11T01:00:00.000000000",
          "2014-02-11T01:30:00.000000000",
          "2014-02-11T02:00:00.000000000",
          "2014-02-11T02:30:00.000000000",
          "2014-02-11T03:00:00.000000000",
          "2014-02-11T03:30:00.000000000",
          "2014-02-11T04:00:00.000000000",
          "2014-02-11T04:30:00.000000000",
          "2014-02-11T05:00:00.000000000",
          "2014-02-11T05:30:00.000000000",
          "2014-02-11T06:00:00.000000000",
          "2014-02-11T06:30:00.000000000",
          "2014-02-11T07:00:00.000000000",
          "2014-02-11T07:30:00.000000000",
          "2014-02-11T08:00:00.000000000",
          "2014-02-11T08:30:00.000000000",
          "2014-02-11T09:00:00.000000000",
          "2014-02-11T09:30:00.000000000",
          "2014-02-11T10:00:00.000000000",
          "2014-02-11T10:30:00.000000000",
          "2014-02-11T11:00:00.000000000",
          "2014-02-11T11:30:00.000000000",
          "2014-02-11T12:00:00.000000000",
          "2014-02-11T12:30:00.000000000",
          "2014-02-11T13:00:00.000000000",
          "2014-02-11T13:30:00.000000000",
          "2014-02-11T14:00:00.000000000",
          "2014-02-11T14:30:00.000000000",
          "2014-02-11T15:00:00.000000000",
          "2014-02-11T15:30:00.000000000",
          "2014-02-11T16:00:00.000000000",
          "2014-02-11T16:30:00.000000000",
          "2014-02-11T17:00:00.000000000",
          "2014-02-11T17:30:00.000000000",
          "2014-02-11T18:00:00.000000000",
          "2014-02-11T18:30:00.000000000",
          "2014-02-11T19:00:00.000000000",
          "2014-02-11T19:30:00.000000000",
          "2014-02-11T20:00:00.000000000",
          "2014-02-11T20:30:00.000000000",
          "2014-02-11T21:00:00.000000000",
          "2014-02-11T21:30:00.000000000",
          "2014-02-11T22:00:00.000000000",
          "2014-02-11T22:30:00.000000000",
          "2014-02-11T23:00:00.000000000",
          "2014-02-11T23:30:00.000000000",
          "2014-02-12T00:00:00.000000000",
          "2014-02-12T00:30:00.000000000",
          "2014-02-12T01:00:00.000000000",
          "2014-02-12T01:30:00.000000000",
          "2014-02-12T02:00:00.000000000",
          "2014-02-12T02:30:00.000000000",
          "2014-02-12T03:00:00.000000000",
          "2014-02-12T03:30:00.000000000",
          "2014-02-12T04:00:00.000000000",
          "2014-02-12T04:30:00.000000000",
          "2014-02-12T05:00:00.000000000",
          "2014-02-12T05:30:00.000000000",
          "2014-02-12T06:00:00.000000000",
          "2014-02-12T06:30:00.000000000",
          "2014-02-12T07:00:00.000000000",
          "2014-02-12T07:30:00.000000000",
          "2014-02-12T08:00:00.000000000",
          "2014-02-12T08:30:00.000000000",
          "2014-02-12T09:00:00.000000000",
          "2014-02-12T09:30:00.000000000",
          "2014-02-12T10:00:00.000000000",
          "2014-02-12T10:30:00.000000000",
          "2014-02-12T11:00:00.000000000",
          "2014-02-12T11:30:00.000000000",
          "2014-02-12T12:00:00.000000000",
          "2014-02-12T12:30:00.000000000",
          "2014-02-12T13:00:00.000000000",
          "2014-02-12T13:30:00.000000000",
          "2014-02-12T14:00:00.000000000",
          "2014-02-12T14:30:00.000000000",
          "2014-02-12T15:00:00.000000000",
          "2014-02-12T15:30:00.000000000",
          "2014-02-12T16:00:00.000000000",
          "2014-02-12T16:30:00.000000000",
          "2014-02-12T17:00:00.000000000",
          "2014-02-12T17:30:00.000000000",
          "2014-02-12T18:00:00.000000000",
          "2014-02-12T18:30:00.000000000",
          "2014-02-12T19:00:00.000000000",
          "2014-02-12T19:30:00.000000000",
          "2014-02-12T20:00:00.000000000",
          "2014-02-12T20:30:00.000000000",
          "2014-02-12T21:00:00.000000000",
          "2014-02-12T21:30:00.000000000",
          "2014-02-12T22:00:00.000000000",
          "2014-02-12T22:30:00.000000000",
          "2014-02-12T23:00:00.000000000",
          "2014-02-12T23:30:00.000000000",
          "2014-02-13T00:00:00.000000000",
          "2014-02-13T00:30:00.000000000",
          "2014-02-13T01:00:00.000000000",
          "2014-02-13T01:30:00.000000000",
          "2014-02-13T02:00:00.000000000",
          "2014-02-13T02:30:00.000000000",
          "2014-02-13T03:00:00.000000000",
          "2014-02-13T03:30:00.000000000",
          "2014-02-13T04:00:00.000000000",
          "2014-02-13T04:30:00.000000000",
          "2014-02-13T05:00:00.000000000",
          "2014-02-13T05:30:00.000000000",
          "2014-02-13T06:00:00.000000000",
          "2014-02-13T06:30:00.000000000",
          "2014-02-13T07:00:00.000000000",
          "2014-02-13T07:30:00.000000000",
          "2014-02-13T08:00:00.000000000",
          "2014-02-13T08:30:00.000000000",
          "2014-02-13T09:00:00.000000000",
          "2014-02-13T09:30:00.000000000",
          "2014-02-13T10:00:00.000000000",
          "2014-02-13T10:30:00.000000000",
          "2014-02-13T11:00:00.000000000",
          "2014-02-13T11:30:00.000000000",
          "2014-02-13T12:00:00.000000000",
          "2014-02-13T12:30:00.000000000",
          "2014-02-13T13:00:00.000000000",
          "2014-02-13T13:30:00.000000000",
          "2014-02-13T14:00:00.000000000",
          "2014-02-13T14:30:00.000000000",
          "2014-02-13T15:00:00.000000000",
          "2014-02-13T15:30:00.000000000",
          "2014-02-13T16:00:00.000000000",
          "2014-02-13T16:30:00.000000000",
          "2014-02-13T17:00:00.000000000",
          "2014-02-13T17:30:00.000000000",
          "2014-02-13T18:00:00.000000000",
          "2014-02-13T18:30:00.000000000",
          "2014-02-13T19:00:00.000000000",
          "2014-02-13T19:30:00.000000000",
          "2014-02-13T20:00:00.000000000",
          "2014-02-13T20:30:00.000000000",
          "2014-02-13T21:00:00.000000000",
          "2014-02-13T21:30:00.000000000",
          "2014-02-13T22:00:00.000000000",
          "2014-02-13T22:30:00.000000000",
          "2014-02-13T23:00:00.000000000",
          "2014-02-13T23:30:00.000000000",
          "2014-02-14T00:00:00.000000000",
          "2014-02-14T00:30:00.000000000",
          "2014-02-14T01:00:00.000000000",
          "2014-02-14T01:30:00.000000000",
          "2014-02-14T02:00:00.000000000",
          "2014-02-14T02:30:00.000000000",
          "2014-02-14T03:00:00.000000000",
          "2014-02-14T03:30:00.000000000",
          "2014-02-14T04:00:00.000000000",
          "2014-02-14T04:30:00.000000000",
          "2014-02-14T05:00:00.000000000",
          "2014-02-14T05:30:00.000000000",
          "2014-02-14T06:00:00.000000000",
          "2014-02-14T06:30:00.000000000",
          "2014-02-14T07:00:00.000000000",
          "2014-02-14T07:30:00.000000000",
          "2014-02-14T08:00:00.000000000",
          "2014-02-14T08:30:00.000000000",
          "2014-02-14T09:00:00.000000000",
          "2014-02-14T09:30:00.000000000",
          "2014-02-14T10:00:00.000000000",
          "2014-02-14T10:30:00.000000000",
          "2014-02-14T11:00:00.000000000",
          "2014-02-14T11:30:00.000000000",
          "2014-02-14T12:00:00.000000000",
          "2014-02-14T12:30:00.000000000",
          "2014-02-14T13:00:00.000000000",
          "2014-02-14T13:30:00.000000000",
          "2014-02-14T14:00:00.000000000",
          "2014-02-14T14:30:00.000000000",
          "2014-02-14T15:00:00.000000000",
          "2014-02-14T15:30:00.000000000",
          "2014-02-14T16:00:00.000000000",
          "2014-02-14T16:30:00.000000000",
          "2014-02-14T17:00:00.000000000",
          "2014-02-14T17:30:00.000000000",
          "2014-02-14T18:00:00.000000000",
          "2014-02-14T18:30:00.000000000",
          "2014-02-14T19:00:00.000000000",
          "2014-02-14T19:30:00.000000000",
          "2014-02-14T20:00:00.000000000",
          "2014-02-14T20:30:00.000000000",
          "2014-02-14T21:00:00.000000000",
          "2014-02-14T21:30:00.000000000",
          "2014-02-14T22:00:00.000000000",
          "2014-02-14T22:30:00.000000000",
          "2014-02-14T23:00:00.000000000",
          "2014-02-14T23:30:00.000000000",
          "2014-02-15T00:00:00.000000000",
          "2014-02-15T00:30:00.000000000",
          "2014-02-15T01:00:00.000000000",
          "2014-02-15T01:30:00.000000000",
          "2014-02-15T02:00:00.000000000",
          "2014-02-15T02:30:00.000000000",
          "2014-02-15T03:00:00.000000000",
          "2014-02-15T03:30:00.000000000",
          "2014-02-15T04:00:00.000000000",
          "2014-02-15T04:30:00.000000000",
          "2014-02-15T05:00:00.000000000",
          "2014-02-15T05:30:00.000000000",
          "2014-02-15T06:00:00.000000000",
          "2014-02-15T06:30:00.000000000",
          "2014-02-15T07:00:00.000000000",
          "2014-02-15T07:30:00.000000000",
          "2014-02-15T08:00:00.000000000",
          "2014-02-15T08:30:00.000000000",
          "2014-02-15T09:00:00.000000000",
          "2014-02-15T09:30:00.000000000",
          "2014-02-15T10:00:00.000000000",
          "2014-02-15T10:30:00.000000000",
          "2014-02-15T11:00:00.000000000",
          "2014-02-15T11:30:00.000000000",
          "2014-02-15T12:00:00.000000000",
          "2014-02-15T12:30:00.000000000",
          "2014-02-15T13:00:00.000000000",
          "2014-02-15T13:30:00.000000000",
          "2014-02-15T14:00:00.000000000",
          "2014-02-15T14:30:00.000000000",
          "2014-02-15T15:00:00.000000000",
          "2014-02-15T15:30:00.000000000",
          "2014-02-15T16:00:00.000000000",
          "2014-02-15T16:30:00.000000000",
          "2014-02-15T17:00:00.000000000",
          "2014-02-15T17:30:00.000000000",
          "2014-02-15T18:00:00.000000000",
          "2014-02-15T18:30:00.000000000",
          "2014-02-15T19:00:00.000000000",
          "2014-02-15T19:30:00.000000000",
          "2014-02-15T20:00:00.000000000",
          "2014-02-15T20:30:00.000000000",
          "2014-02-15T21:00:00.000000000",
          "2014-02-15T21:30:00.000000000",
          "2014-02-15T22:00:00.000000000",
          "2014-02-15T22:30:00.000000000",
          "2014-02-15T23:00:00.000000000",
          "2014-02-15T23:30:00.000000000",
          "2014-02-16T00:00:00.000000000",
          "2014-02-16T00:30:00.000000000",
          "2014-02-16T01:00:00.000000000",
          "2014-02-16T01:30:00.000000000",
          "2014-02-16T02:00:00.000000000",
          "2014-02-16T02:30:00.000000000",
          "2014-02-16T03:00:00.000000000",
          "2014-02-16T03:30:00.000000000",
          "2014-02-16T04:00:00.000000000",
          "2014-02-16T04:30:00.000000000",
          "2014-02-16T05:00:00.000000000",
          "2014-02-16T05:30:00.000000000",
          "2014-02-16T06:00:00.000000000",
          "2014-02-16T06:30:00.000000000",
          "2014-02-16T07:00:00.000000000",
          "2014-02-16T07:30:00.000000000",
          "2014-02-16T08:00:00.000000000",
          "2014-02-16T08:30:00.000000000",
          "2014-02-16T09:00:00.000000000",
          "2014-02-16T09:30:00.000000000",
          "2014-02-16T10:00:00.000000000",
          "2014-02-16T10:30:00.000000000",
          "2014-02-16T11:00:00.000000000",
          "2014-02-16T11:30:00.000000000",
          "2014-02-16T12:00:00.000000000",
          "2014-02-16T12:30:00.000000000",
          "2014-02-16T13:00:00.000000000",
          "2014-02-16T13:30:00.000000000",
          "2014-02-16T14:00:00.000000000",
          "2014-02-16T14:30:00.000000000",
          "2014-02-16T15:00:00.000000000",
          "2014-02-16T15:30:00.000000000",
          "2014-02-16T16:00:00.000000000",
          "2014-02-16T16:30:00.000000000",
          "2014-02-16T17:00:00.000000000",
          "2014-02-16T17:30:00.000000000",
          "2014-02-16T18:00:00.000000000",
          "2014-02-16T18:30:00.000000000",
          "2014-02-16T19:00:00.000000000",
          "2014-02-16T19:30:00.000000000",
          "2014-02-16T20:00:00.000000000",
          "2014-02-16T20:30:00.000000000",
          "2014-02-16T21:00:00.000000000",
          "2014-02-16T21:30:00.000000000",
          "2014-02-16T22:00:00.000000000",
          "2014-02-16T22:30:00.000000000",
          "2014-02-16T23:00:00.000000000",
          "2014-02-16T23:30:00.000000000",
          "2014-02-17T00:00:00.000000000",
          "2014-02-17T00:30:00.000000000",
          "2014-02-17T01:00:00.000000000",
          "2014-02-17T01:30:00.000000000",
          "2014-02-17T02:00:00.000000000",
          "2014-02-17T02:30:00.000000000",
          "2014-02-17T03:00:00.000000000",
          "2014-02-17T03:30:00.000000000",
          "2014-02-17T04:00:00.000000000",
          "2014-02-17T04:30:00.000000000",
          "2014-02-17T05:00:00.000000000",
          "2014-02-17T05:30:00.000000000",
          "2014-02-17T06:00:00.000000000",
          "2014-02-17T06:30:00.000000000",
          "2014-02-17T07:00:00.000000000",
          "2014-02-17T07:30:00.000000000",
          "2014-02-17T08:00:00.000000000",
          "2014-02-17T08:30:00.000000000",
          "2014-02-17T09:00:00.000000000",
          "2014-02-17T09:30:00.000000000",
          "2014-02-17T10:00:00.000000000",
          "2014-02-17T10:30:00.000000000",
          "2014-02-17T11:00:00.000000000",
          "2014-02-17T11:30:00.000000000",
          "2014-02-17T12:00:00.000000000",
          "2014-02-17T12:30:00.000000000",
          "2014-02-17T13:00:00.000000000",
          "2014-02-17T13:30:00.000000000",
          "2014-02-17T14:00:00.000000000",
          "2014-02-17T14:30:00.000000000",
          "2014-02-17T15:00:00.000000000",
          "2014-02-17T15:30:00.000000000",
          "2014-02-17T16:00:00.000000000",
          "2014-02-17T16:30:00.000000000",
          "2014-02-17T17:00:00.000000000",
          "2014-02-17T17:30:00.000000000",
          "2014-02-17T18:00:00.000000000",
          "2014-02-17T18:30:00.000000000",
          "2014-02-17T19:00:00.000000000",
          "2014-02-17T19:30:00.000000000",
          "2014-02-17T20:00:00.000000000",
          "2014-02-17T20:30:00.000000000",
          "2014-02-17T21:00:00.000000000",
          "2014-02-17T21:30:00.000000000",
          "2014-02-17T22:00:00.000000000",
          "2014-02-17T22:30:00.000000000",
          "2014-02-17T23:00:00.000000000",
          "2014-02-17T23:30:00.000000000",
          "2014-02-18T00:00:00.000000000",
          "2014-02-18T00:30:00.000000000",
          "2014-02-18T01:00:00.000000000",
          "2014-02-18T01:30:00.000000000",
          "2014-02-18T02:00:00.000000000",
          "2014-02-18T02:30:00.000000000",
          "2014-02-18T03:00:00.000000000",
          "2014-02-18T03:30:00.000000000",
          "2014-02-18T04:00:00.000000000",
          "2014-02-18T04:30:00.000000000",
          "2014-02-18T05:00:00.000000000",
          "2014-02-18T05:30:00.000000000",
          "2014-02-18T06:00:00.000000000",
          "2014-02-18T06:30:00.000000000",
          "2014-02-18T07:00:00.000000000",
          "2014-02-18T07:30:00.000000000",
          "2014-02-18T08:00:00.000000000",
          "2014-02-18T08:30:00.000000000",
          "2014-02-18T09:00:00.000000000",
          "2014-02-18T09:30:00.000000000",
          "2014-02-18T10:00:00.000000000",
          "2014-02-18T10:30:00.000000000",
          "2014-02-18T11:00:00.000000000",
          "2014-02-18T11:30:00.000000000",
          "2014-02-18T12:00:00.000000000",
          "2014-02-18T12:30:00.000000000",
          "2014-02-18T13:00:00.000000000",
          "2014-02-18T13:30:00.000000000",
          "2014-02-18T14:00:00.000000000",
          "2014-02-18T14:30:00.000000000",
          "2014-02-18T15:00:00.000000000",
          "2014-02-18T15:30:00.000000000",
          "2014-02-18T16:00:00.000000000",
          "2014-02-18T16:30:00.000000000",
          "2014-02-18T17:00:00.000000000",
          "2014-02-18T17:30:00.000000000",
          "2014-02-18T18:00:00.000000000",
          "2014-02-18T18:30:00.000000000",
          "2014-02-18T19:00:00.000000000",
          "2014-02-18T19:30:00.000000000",
          "2014-02-18T20:00:00.000000000",
          "2014-02-18T20:30:00.000000000",
          "2014-02-18T21:00:00.000000000",
          "2014-02-18T21:30:00.000000000",
          "2014-02-18T22:00:00.000000000",
          "2014-02-18T22:30:00.000000000",
          "2014-02-18T23:00:00.000000000",
          "2014-02-18T23:30:00.000000000",
          "2014-02-19T00:00:00.000000000",
          "2014-02-19T00:30:00.000000000",
          "2014-02-19T01:00:00.000000000",
          "2014-02-19T01:30:00.000000000",
          "2014-02-19T02:00:00.000000000",
          "2014-02-19T02:30:00.000000000",
          "2014-02-19T03:00:00.000000000",
          "2014-02-19T03:30:00.000000000",
          "2014-02-19T04:00:00.000000000",
          "2014-02-19T04:30:00.000000000",
          "2014-02-19T05:00:00.000000000",
          "2014-02-19T05:30:00.000000000",
          "2014-02-19T06:00:00.000000000",
          "2014-02-19T06:30:00.000000000",
          "2014-02-19T07:00:00.000000000",
          "2014-02-19T07:30:00.000000000",
          "2014-02-19T08:00:00.000000000",
          "2014-02-19T08:30:00.000000000",
          "2014-02-19T09:00:00.000000000",
          "2014-02-19T09:30:00.000000000",
          "2014-02-19T10:00:00.000000000",
          "2014-02-19T10:30:00.000000000",
          "2014-02-19T11:00:00.000000000",
          "2014-02-19T11:30:00.000000000",
          "2014-02-19T12:00:00.000000000",
          "2014-02-19T12:30:00.000000000",
          "2014-02-19T13:00:00.000000000",
          "2014-02-19T13:30:00.000000000",
          "2014-02-19T14:00:00.000000000",
          "2014-02-19T14:30:00.000000000",
          "2014-02-19T15:00:00.000000000",
          "2014-02-19T15:30:00.000000000",
          "2014-02-19T16:00:00.000000000",
          "2014-02-19T16:30:00.000000000",
          "2014-02-19T17:00:00.000000000",
          "2014-02-19T17:30:00.000000000",
          "2014-02-19T18:00:00.000000000",
          "2014-02-19T18:30:00.000000000",
          "2014-02-19T19:00:00.000000000",
          "2014-02-19T19:30:00.000000000",
          "2014-02-19T20:00:00.000000000",
          "2014-02-19T20:30:00.000000000",
          "2014-02-19T21:00:00.000000000",
          "2014-02-19T21:30:00.000000000",
          "2014-02-19T22:00:00.000000000",
          "2014-02-19T22:30:00.000000000",
          "2014-02-19T23:00:00.000000000",
          "2014-02-19T23:30:00.000000000",
          "2014-02-20T00:00:00.000000000",
          "2014-02-20T00:30:00.000000000",
          "2014-02-20T01:00:00.000000000",
          "2014-02-20T01:30:00.000000000",
          "2014-02-20T02:00:00.000000000",
          "2014-02-20T02:30:00.000000000",
          "2014-02-20T03:00:00.000000000",
          "2014-02-20T03:30:00.000000000",
          "2014-02-20T04:00:00.000000000",
          "2014-02-20T04:30:00.000000000",
          "2014-02-20T05:00:00.000000000",
          "2014-02-20T05:30:00.000000000",
          "2014-02-20T06:00:00.000000000",
          "2014-02-20T06:30:00.000000000",
          "2014-02-20T07:00:00.000000000",
          "2014-02-20T07:30:00.000000000",
          "2014-02-20T08:00:00.000000000",
          "2014-02-20T08:30:00.000000000",
          "2014-02-20T09:00:00.000000000",
          "2014-02-20T09:30:00.000000000",
          "2014-02-20T10:00:00.000000000",
          "2014-02-20T10:30:00.000000000",
          "2014-02-20T11:00:00.000000000",
          "2014-02-20T11:30:00.000000000",
          "2014-02-20T12:00:00.000000000",
          "2014-02-20T12:30:00.000000000",
          "2014-02-20T13:00:00.000000000",
          "2014-02-20T13:30:00.000000000",
          "2014-02-20T14:00:00.000000000",
          "2014-02-20T14:30:00.000000000",
          "2014-02-20T15:00:00.000000000",
          "2014-02-20T15:30:00.000000000",
          "2014-02-20T16:00:00.000000000",
          "2014-02-20T16:30:00.000000000",
          "2014-02-20T17:00:00.000000000",
          "2014-02-20T17:30:00.000000000",
          "2014-02-20T18:00:00.000000000",
          "2014-02-20T18:30:00.000000000",
          "2014-02-20T19:00:00.000000000",
          "2014-02-20T19:30:00.000000000",
          "2014-02-20T20:00:00.000000000",
          "2014-02-20T20:30:00.000000000",
          "2014-02-20T21:00:00.000000000",
          "2014-02-20T21:30:00.000000000",
          "2014-02-20T22:00:00.000000000",
          "2014-02-20T22:30:00.000000000",
          "2014-02-20T23:00:00.000000000",
          "2014-02-20T23:30:00.000000000",
          "2014-02-21T00:00:00.000000000",
          "2014-02-21T00:30:00.000000000",
          "2014-02-21T01:00:00.000000000",
          "2014-02-21T01:30:00.000000000",
          "2014-02-21T02:00:00.000000000",
          "2014-02-21T02:30:00.000000000",
          "2014-02-21T03:00:00.000000000",
          "2014-02-21T03:30:00.000000000",
          "2014-02-21T04:00:00.000000000",
          "2014-02-21T04:30:00.000000000",
          "2014-02-21T05:00:00.000000000",
          "2014-02-21T05:30:00.000000000",
          "2014-02-21T06:00:00.000000000",
          "2014-02-21T06:30:00.000000000",
          "2014-02-21T07:00:00.000000000",
          "2014-02-21T07:30:00.000000000",
          "2014-02-21T08:00:00.000000000",
          "2014-02-21T08:30:00.000000000",
          "2014-02-21T09:00:00.000000000",
          "2014-02-21T09:30:00.000000000",
          "2014-02-21T10:00:00.000000000",
          "2014-02-21T10:30:00.000000000",
          "2014-02-21T11:00:00.000000000",
          "2014-02-21T11:30:00.000000000",
          "2014-02-21T12:00:00.000000000",
          "2014-02-21T12:30:00.000000000",
          "2014-02-21T13:00:00.000000000",
          "2014-02-21T13:30:00.000000000",
          "2014-02-21T14:00:00.000000000",
          "2014-02-21T14:30:00.000000000",
          "2014-02-21T15:00:00.000000000",
          "2014-02-21T15:30:00.000000000",
          "2014-02-21T16:00:00.000000000",
          "2014-02-21T16:30:00.000000000",
          "2014-02-21T17:00:00.000000000",
          "2014-02-21T17:30:00.000000000",
          "2014-02-21T18:00:00.000000000",
          "2014-02-21T18:30:00.000000000",
          "2014-02-21T19:00:00.000000000",
          "2014-02-21T19:30:00.000000000",
          "2014-02-21T20:00:00.000000000",
          "2014-02-21T20:30:00.000000000",
          "2014-02-21T21:00:00.000000000",
          "2014-02-21T21:30:00.000000000",
          "2014-02-21T22:00:00.000000000",
          "2014-02-21T22:30:00.000000000",
          "2014-02-21T23:00:00.000000000",
          "2014-02-21T23:30:00.000000000",
          "2014-02-22T00:00:00.000000000",
          "2014-02-22T00:30:00.000000000",
          "2014-02-22T01:00:00.000000000",
          "2014-02-22T01:30:00.000000000",
          "2014-02-22T02:00:00.000000000",
          "2014-02-22T02:30:00.000000000",
          "2014-02-22T03:00:00.000000000",
          "2014-02-22T03:30:00.000000000",
          "2014-02-22T04:00:00.000000000",
          "2014-02-22T04:30:00.000000000",
          "2014-02-22T05:00:00.000000000",
          "2014-02-22T05:30:00.000000000",
          "2014-02-22T06:00:00.000000000",
          "2014-02-22T06:30:00.000000000",
          "2014-02-22T07:00:00.000000000",
          "2014-02-22T07:30:00.000000000",
          "2014-02-22T08:00:00.000000000",
          "2014-02-22T08:30:00.000000000",
          "2014-02-22T09:00:00.000000000",
          "2014-02-22T09:30:00.000000000",
          "2014-02-22T10:00:00.000000000",
          "2014-02-22T10:30:00.000000000",
          "2014-02-22T11:00:00.000000000",
          "2014-02-22T11:30:00.000000000",
          "2014-02-22T12:00:00.000000000",
          "2014-02-22T12:30:00.000000000",
          "2014-02-22T13:00:00.000000000",
          "2014-02-22T13:30:00.000000000",
          "2014-02-22T14:00:00.000000000",
          "2014-02-22T14:30:00.000000000",
          "2014-02-22T15:00:00.000000000",
          "2014-02-22T15:30:00.000000000",
          "2014-02-22T16:00:00.000000000",
          "2014-02-22T16:30:00.000000000",
          "2014-02-22T17:00:00.000000000",
          "2014-02-22T17:30:00.000000000",
          "2014-02-22T18:00:00.000000000",
          "2014-02-22T18:30:00.000000000",
          "2014-02-22T19:00:00.000000000",
          "2014-02-22T19:30:00.000000000",
          "2014-02-22T20:00:00.000000000",
          "2014-02-22T20:30:00.000000000",
          "2014-02-22T21:00:00.000000000",
          "2014-02-22T21:30:00.000000000",
          "2014-02-22T22:00:00.000000000",
          "2014-02-22T22:30:00.000000000",
          "2014-02-22T23:00:00.000000000",
          "2014-02-22T23:30:00.000000000",
          "2014-02-23T00:00:00.000000000",
          "2014-02-23T00:30:00.000000000",
          "2014-02-23T01:00:00.000000000",
          "2014-02-23T01:30:00.000000000",
          "2014-02-23T02:00:00.000000000",
          "2014-02-23T02:30:00.000000000",
          "2014-02-23T03:00:00.000000000",
          "2014-02-23T03:30:00.000000000",
          "2014-02-23T04:00:00.000000000",
          "2014-02-23T04:30:00.000000000",
          "2014-02-23T05:00:00.000000000",
          "2014-02-23T05:30:00.000000000",
          "2014-02-23T06:00:00.000000000",
          "2014-02-23T06:30:00.000000000",
          "2014-02-23T07:00:00.000000000",
          "2014-02-23T07:30:00.000000000",
          "2014-02-23T08:00:00.000000000",
          "2014-02-23T08:30:00.000000000",
          "2014-02-23T09:00:00.000000000",
          "2014-02-23T09:30:00.000000000",
          "2014-02-23T10:00:00.000000000",
          "2014-02-23T10:30:00.000000000",
          "2014-02-23T11:00:00.000000000",
          "2014-02-23T11:30:00.000000000",
          "2014-02-23T12:00:00.000000000",
          "2014-02-23T12:30:00.000000000",
          "2014-02-23T13:00:00.000000000",
          "2014-02-23T13:30:00.000000000",
          "2014-02-23T14:00:00.000000000",
          "2014-02-23T14:30:00.000000000",
          "2014-02-23T15:00:00.000000000",
          "2014-02-23T15:30:00.000000000",
          "2014-02-23T16:00:00.000000000",
          "2014-02-23T16:30:00.000000000",
          "2014-02-23T17:00:00.000000000",
          "2014-02-23T17:30:00.000000000",
          "2014-02-23T18:00:00.000000000",
          "2014-02-23T18:30:00.000000000",
          "2014-02-23T19:00:00.000000000",
          "2014-02-23T19:30:00.000000000",
          "2014-02-23T20:00:00.000000000",
          "2014-02-23T20:30:00.000000000",
          "2014-02-23T21:00:00.000000000",
          "2014-02-23T21:30:00.000000000",
          "2014-02-23T22:00:00.000000000",
          "2014-02-23T22:30:00.000000000",
          "2014-02-23T23:00:00.000000000",
          "2014-02-23T23:30:00.000000000",
          "2014-02-24T00:00:00.000000000",
          "2014-02-24T00:30:00.000000000",
          "2014-02-24T01:00:00.000000000",
          "2014-02-24T01:30:00.000000000",
          "2014-02-24T02:00:00.000000000",
          "2014-02-24T02:30:00.000000000",
          "2014-02-24T03:00:00.000000000",
          "2014-02-24T03:30:00.000000000",
          "2014-02-24T04:00:00.000000000",
          "2014-02-24T04:30:00.000000000",
          "2014-02-24T05:00:00.000000000",
          "2014-02-24T05:30:00.000000000",
          "2014-02-24T06:00:00.000000000",
          "2014-02-24T06:30:00.000000000",
          "2014-02-24T07:00:00.000000000",
          "2014-02-24T07:30:00.000000000",
          "2014-02-24T08:00:00.000000000",
          "2014-02-24T08:30:00.000000000",
          "2014-02-24T09:00:00.000000000",
          "2014-02-24T09:30:00.000000000",
          "2014-02-24T10:00:00.000000000",
          "2014-02-24T10:30:00.000000000",
          "2014-02-24T11:00:00.000000000",
          "2014-02-24T11:30:00.000000000",
          "2014-02-24T12:00:00.000000000",
          "2014-02-24T12:30:00.000000000",
          "2014-02-24T13:00:00.000000000",
          "2014-02-24T13:30:00.000000000",
          "2014-02-24T14:00:00.000000000",
          "2014-02-24T14:30:00.000000000",
          "2014-02-24T15:00:00.000000000",
          "2014-02-24T15:30:00.000000000",
          "2014-02-24T16:00:00.000000000",
          "2014-02-24T16:30:00.000000000",
          "2014-02-24T17:00:00.000000000",
          "2014-02-24T17:30:00.000000000",
          "2014-02-24T18:00:00.000000000",
          "2014-02-24T18:30:00.000000000",
          "2014-02-24T19:00:00.000000000",
          "2014-02-24T19:30:00.000000000",
          "2014-02-24T20:00:00.000000000",
          "2014-02-24T20:30:00.000000000",
          "2014-02-24T21:00:00.000000000",
          "2014-02-24T21:30:00.000000000",
          "2014-02-24T22:00:00.000000000",
          "2014-02-24T22:30:00.000000000",
          "2014-02-24T23:00:00.000000000",
          "2014-02-24T23:30:00.000000000",
          "2014-02-25T00:00:00.000000000",
          "2014-02-25T00:30:00.000000000",
          "2014-02-25T01:00:00.000000000",
          "2014-02-25T01:30:00.000000000",
          "2014-02-25T02:00:00.000000000",
          "2014-02-25T02:30:00.000000000",
          "2014-02-25T03:00:00.000000000",
          "2014-02-25T03:30:00.000000000",
          "2014-02-25T04:00:00.000000000",
          "2014-02-25T04:30:00.000000000",
          "2014-02-25T05:00:00.000000000",
          "2014-02-25T05:30:00.000000000",
          "2014-02-25T06:00:00.000000000",
          "2014-02-25T06:30:00.000000000",
          "2014-02-25T07:00:00.000000000",
          "2014-02-25T07:30:00.000000000",
          "2014-02-25T08:00:00.000000000",
          "2014-02-25T08:30:00.000000000",
          "2014-02-25T09:00:00.000000000",
          "2014-02-25T09:30:00.000000000",
          "2014-02-25T10:00:00.000000000",
          "2014-02-25T10:30:00.000000000",
          "2014-02-25T11:00:00.000000000",
          "2014-02-25T11:30:00.000000000",
          "2014-02-25T12:00:00.000000000",
          "2014-02-25T12:30:00.000000000",
          "2014-02-25T13:00:00.000000000",
          "2014-02-25T13:30:00.000000000",
          "2014-02-25T14:00:00.000000000",
          "2014-02-25T14:30:00.000000000",
          "2014-02-25T15:00:00.000000000",
          "2014-02-25T15:30:00.000000000",
          "2014-02-25T16:00:00.000000000",
          "2014-02-25T16:30:00.000000000",
          "2014-02-25T17:00:00.000000000",
          "2014-02-25T17:30:00.000000000",
          "2014-02-25T18:00:00.000000000",
          "2014-02-25T18:30:00.000000000",
          "2014-02-25T19:00:00.000000000",
          "2014-02-25T19:30:00.000000000",
          "2014-02-25T20:00:00.000000000",
          "2014-02-25T20:30:00.000000000",
          "2014-02-25T21:00:00.000000000",
          "2014-02-25T21:30:00.000000000",
          "2014-02-25T22:00:00.000000000",
          "2014-02-25T22:30:00.000000000",
          "2014-02-25T23:00:00.000000000",
          "2014-02-25T23:30:00.000000000",
          "2014-02-26T00:00:00.000000000",
          "2014-02-26T00:30:00.000000000",
          "2014-02-26T01:00:00.000000000",
          "2014-02-26T01:30:00.000000000",
          "2014-02-26T02:00:00.000000000",
          "2014-02-26T02:30:00.000000000",
          "2014-02-26T03:00:00.000000000",
          "2014-02-26T03:30:00.000000000",
          "2014-02-26T04:00:00.000000000",
          "2014-02-26T04:30:00.000000000",
          "2014-02-26T05:00:00.000000000",
          "2014-02-26T05:30:00.000000000",
          "2014-02-26T06:00:00.000000000",
          "2014-02-26T06:30:00.000000000",
          "2014-02-26T07:00:00.000000000",
          "2014-02-26T07:30:00.000000000",
          "2014-02-26T08:00:00.000000000",
          "2014-02-26T08:30:00.000000000",
          "2014-02-26T09:00:00.000000000",
          "2014-02-26T09:30:00.000000000",
          "2014-02-26T10:00:00.000000000",
          "2014-02-26T10:30:00.000000000",
          "2014-02-26T11:00:00.000000000",
          "2014-02-26T11:30:00.000000000",
          "2014-02-26T12:00:00.000000000",
          "2014-02-26T12:30:00.000000000",
          "2014-02-26T13:00:00.000000000",
          "2014-02-26T13:30:00.000000000",
          "2014-02-26T14:00:00.000000000",
          "2014-02-26T14:30:00.000000000",
          "2014-02-26T15:00:00.000000000",
          "2014-02-26T15:30:00.000000000",
          "2014-02-26T16:00:00.000000000",
          "2014-02-26T16:30:00.000000000",
          "2014-02-26T17:00:00.000000000",
          "2014-02-26T17:30:00.000000000",
          "2014-02-26T18:00:00.000000000",
          "2014-02-26T18:30:00.000000000",
          "2014-02-26T19:00:00.000000000",
          "2014-02-26T19:30:00.000000000",
          "2014-02-26T20:00:00.000000000",
          "2014-02-26T20:30:00.000000000",
          "2014-02-26T21:00:00.000000000",
          "2014-02-26T21:30:00.000000000",
          "2014-02-26T22:00:00.000000000",
          "2014-02-26T22:30:00.000000000",
          "2014-02-26T23:00:00.000000000",
          "2014-02-26T23:30:00.000000000",
          "2014-02-27T00:00:00.000000000",
          "2014-02-27T00:30:00.000000000",
          "2014-02-27T01:00:00.000000000",
          "2014-02-27T01:30:00.000000000",
          "2014-02-27T02:00:00.000000000",
          "2014-02-27T02:30:00.000000000",
          "2014-02-27T03:00:00.000000000",
          "2014-02-27T03:30:00.000000000",
          "2014-02-27T04:00:00.000000000",
          "2014-02-27T04:30:00.000000000",
          "2014-02-27T05:00:00.000000000",
          "2014-02-27T05:30:00.000000000",
          "2014-02-27T06:00:00.000000000",
          "2014-02-27T06:30:00.000000000",
          "2014-02-27T07:00:00.000000000",
          "2014-02-27T07:30:00.000000000",
          "2014-02-27T08:00:00.000000000",
          "2014-02-27T08:30:00.000000000",
          "2014-02-27T09:00:00.000000000",
          "2014-02-27T09:30:00.000000000",
          "2014-02-27T10:00:00.000000000",
          "2014-02-27T10:30:00.000000000",
          "2014-02-27T11:00:00.000000000",
          "2014-02-27T11:30:00.000000000",
          "2014-02-27T12:00:00.000000000",
          "2014-02-27T12:30:00.000000000",
          "2014-02-27T13:00:00.000000000",
          "2014-02-27T13:30:00.000000000",
          "2014-02-27T14:00:00.000000000",
          "2014-02-27T14:30:00.000000000",
          "2014-02-27T15:00:00.000000000",
          "2014-02-27T15:30:00.000000000",
          "2014-02-27T16:00:00.000000000",
          "2014-02-27T16:30:00.000000000",
          "2014-02-27T17:00:00.000000000",
          "2014-02-27T17:30:00.000000000",
          "2014-02-27T18:00:00.000000000",
          "2014-02-27T18:30:00.000000000",
          "2014-02-27T19:00:00.000000000",
          "2014-02-27T19:30:00.000000000",
          "2014-02-27T20:00:00.000000000",
          "2014-02-27T20:30:00.000000000",
          "2014-02-27T21:00:00.000000000",
          "2014-02-27T21:30:00.000000000",
          "2014-02-27T22:00:00.000000000",
          "2014-02-27T22:30:00.000000000",
          "2014-02-27T23:00:00.000000000",
          "2014-02-27T23:30:00.000000000"
         ],
         "y": {
          "bdata": "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",
          "dtype": "f8"
         }
        }
       ],
       "layout": {
        "autosize": false,
        "height": 500,
        "legend": {
         "font": {
          "size": 15
         },
         "orientation": "h",
         "title": {},
         "x": 1,
         "xanchor": "right",
         "y": 0.98,
         "yanchor": "bottom"
        },
        "template": {
         "data": {
          "bar": [
           {
            "error_x": {
             "color": "#2a3f5f"
            },
            "error_y": {
             "color": "#2a3f5f"
            },
            "marker": {
             "line": {
              "color": "#E5ECF6",
              "width": 0.5
             },
             "pattern": {
              "fillmode": "overlay",
              "size": 10,
              "solidity": 0.2
             }
            },
            "type": "bar"
           }
          ],
          "barpolar": [
           {
            "marker": {
             "line": {
              "color": "#E5ECF6",
              "width": 0.5
             },
             "pattern": {
              "fillmode": "overlay",
              "size": 10,
              "solidity": 0.2
             }
            },
            "type": "barpolar"
           }
          ],
          "carpet": [
           {
            "aaxis": {
             "endlinecolor": "#2a3f5f",
             "gridcolor": "white",
             "linecolor": "white",
             "minorgridcolor": "white",
             "startlinecolor": "#2a3f5f"
            },
            "baxis": {
             "endlinecolor": "#2a3f5f",
             "gridcolor": "white",
             "linecolor": "white",
             "minorgridcolor": "white",
             "startlinecolor": "#2a3f5f"
            },
            "type": "carpet"
           }
          ],
          "choropleth": [
           {
            "colorbar": {
             "outlinewidth": 0,
             "ticks": ""
            },
            "type": "choropleth"
           }
          ],
          "contour": [
           {
            "colorbar": {
             "outlinewidth": 0,
             "ticks": ""
            },
            "colorscale": [
             [
              0,
              "#0d0887"
             ],
             [
              0.1111111111111111,
              "#46039f"
             ],
             [
              0.2222222222222222,
              "#7201a8"
             ],
             [
              0.3333333333333333,
              "#9c179e"
             ],
             [
              0.4444444444444444,
              "#bd3786"
             ],
             [
              0.5555555555555556,
              "#d8576b"
             ],
             [
              0.6666666666666666,
              "#ed7953"
             ],
             [
              0.7777777777777778,
              "#fb9f3a"
             ],
             [
              0.8888888888888888,
              "#fdca26"
             ],
             [
              1,
              "#f0f921"
             ]
            ],
            "type": "contour"
           }
          ],
          "contourcarpet": [
           {
            "colorbar": {
             "outlinewidth": 0,
             "ticks": ""
            },
            "type": "contourcarpet"
           }
          ],
          "heatmap": [
           {
            "colorbar": {
             "outlinewidth": 0,
             "ticks": ""
            },
            "colorscale": [
             [
              0,
              "#0d0887"
             ],
             [
              0.1111111111111111,
              "#46039f"
             ],
             [
              0.2222222222222222,
              "#7201a8"
             ],
             [
              0.3333333333333333,
              "#9c179e"
             ],
             [
              0.4444444444444444,
              "#bd3786"
             ],
             [
              0.5555555555555556,
              "#d8576b"
             ],
             [
              0.6666666666666666,
              "#ed7953"
             ],
             [
              0.7777777777777778,
              "#fb9f3a"
             ],
             [
              0.8888888888888888,
              "#fdca26"
             ],
             [
              1,
              "#f0f921"
             ]
            ],
            "type": "heatmap"
           }
          ],
          "histogram": [
           {
            "marker": {
             "pattern": {
              "fillmode": "overlay",
              "size": 10,
              "solidity": 0.2
             }
            },
            "type": "histogram"
           }
          ],
          "histogram2d": [
           {
            "colorbar": {
             "outlinewidth": 0,
             "ticks": ""
            },
            "colorscale": [
             [
              0,
              "#0d0887"
             ],
             [
              0.1111111111111111,
              "#46039f"
             ],
             [
              0.2222222222222222,
              "#7201a8"
             ],
             [
              0.3333333333333333,
              "#9c179e"
             ],
             [
              0.4444444444444444,
              "#bd3786"
             ],
             [
              0.5555555555555556,
              "#d8576b"
             ],
             [
              0.6666666666666666,
              "#ed7953"
             ],
             [
              0.7777777777777778,
              "#fb9f3a"
             ],
             [
              0.8888888888888888,
              "#fdca26"
             ],
             [
              1,
              "#f0f921"
             ]
            ],
            "type": "histogram2d"
           }
          ],
          "histogram2dcontour": [
           {
            "colorbar": {
             "outlinewidth": 0,
             "ticks": ""
            },
            "colorscale": [
             [
              0,
              "#0d0887"
             ],
             [
              0.1111111111111111,
              "#46039f"
             ],
             [
              0.2222222222222222,
              "#7201a8"
             ],
             [
              0.3333333333333333,
              "#9c179e"
             ],
             [
              0.4444444444444444,
              "#bd3786"
             ],
             [
              0.5555555555555556,
              "#d8576b"
             ],
             [
              0.6666666666666666,
              "#ed7953"
             ],
             [
              0.7777777777777778,
              "#fb9f3a"
             ],
             [
              0.8888888888888888,
              "#fdca26"
             ],
             [
              1,
              "#f0f921"
             ]
            ],
            "type": "histogram2dcontour"
           }
          ],
          "mesh3d": [
           {
            "colorbar": {
             "outlinewidth": 0,
             "ticks": ""
            },
            "type": "mesh3d"
           }
          ],
          "parcoords": [
           {
            "line": {
             "colorbar": {
              "outlinewidth": 0,
              "ticks": ""
             }
            },
            "type": "parcoords"
           }
          ],
          "pie": [
           {
            "automargin": true,
            "type": "pie"
           }
          ],
          "scatter": [
           {
            "fillpattern": {
             "fillmode": "overlay",
             "size": 10,
             "solidity": 0.2
            },
            "type": "scatter"
           }
          ],
          "scatter3d": [
           {
            "line": {
             "colorbar": {
              "outlinewidth": 0,
              "ticks": ""
             }
            },
            "marker": {
             "colorbar": {
              "outlinewidth": 0,
              "ticks": ""
             }
            },
            "type": "scatter3d"
           }
          ],
          "scattercarpet": [
           {
            "marker": {
             "colorbar": {
              "outlinewidth": 0,
              "ticks": ""
             }
            },
            "type": "scattercarpet"
           }
          ],
          "scattergeo": [
           {
            "marker": {
             "colorbar": {
              "outlinewidth": 0,
              "ticks": ""
             }
            },
            "type": "scattergeo"
           }
          ],
          "scattergl": [
           {
            "marker": {
             "colorbar": {
              "outlinewidth": 0,
              "ticks": ""
             }
            },
            "type": "scattergl"
           }
          ],
          "scattermap": [
           {
            "marker": {
             "colorbar": {
              "outlinewidth": 0,
              "ticks": ""
             }
            },
            "type": "scattermap"
           }
          ],
          "scattermapbox": [
           {
            "marker": {
             "colorbar": {
              "outlinewidth": 0,
              "ticks": ""
             }
            },
            "type": "scattermapbox"
           }
          ],
          "scatterpolar": [
           {
            "marker": {
             "colorbar": {
              "outlinewidth": 0,
              "ticks": ""
             }
            },
            "type": "scatterpolar"
           }
          ],
          "scatterpolargl": [
           {
            "marker": {
             "colorbar": {
              "outlinewidth": 0,
              "ticks": ""
             }
            },
            "type": "scatterpolargl"
           }
          ],
          "scatterternary": [
           {
            "marker": {
             "colorbar": {
              "outlinewidth": 0,
              "ticks": ""
             }
            },
            "type": "scatterternary"
           }
          ],
          "surface": [
           {
            "colorbar": {
             "outlinewidth": 0,
             "ticks": ""
            },
            "colorscale": [
             [
              0,
              "#0d0887"
             ],
             [
              0.1111111111111111,
              "#46039f"
             ],
             [
              0.2222222222222222,
              "#7201a8"
             ],
             [
              0.3333333333333333,
              "#9c179e"
             ],
             [
              0.4444444444444444,
              "#bd3786"
             ],
             [
              0.5555555555555556,
              "#d8576b"
             ],
             [
              0.6666666666666666,
              "#ed7953"
             ],
             [
              0.7777777777777778,
              "#fb9f3a"
             ],
             [
              0.8888888888888888,
              "#fdca26"
             ],
             [
              1,
              "#f0f921"
             ]
            ],
            "type": "surface"
           }
          ],
          "table": [
           {
            "cells": {
             "fill": {
              "color": "#EBF0F8"
             },
             "line": {
              "color": "white"
             }
            },
            "header": {
             "fill": {
              "color": "#C8D4E3"
             },
             "line": {
              "color": "white"
             }
            },
            "type": "table"
           }
          ]
         },
         "layout": {
          "annotationdefaults": {
           "arrowcolor": "#2a3f5f",
           "arrowhead": 0,
           "arrowwidth": 1
          },
          "autotypenumbers": "strict",
          "coloraxis": {
           "colorbar": {
            "outlinewidth": 0,
            "ticks": ""
           }
          },
          "colorscale": {
           "diverging": [
            [
             0,
             "#8e0152"
            ],
            [
             0.1,
             "#c51b7d"
            ],
            [
             0.2,
             "#de77ae"
            ],
            [
             0.3,
             "#f1b6da"
            ],
            [
             0.4,
             "#fde0ef"
            ],
            [
             0.5,
             "#f7f7f7"
            ],
            [
             0.6,
             "#e6f5d0"
            ],
            [
             0.7,
             "#b8e186"
            ],
            [
             0.8,
             "#7fbc41"
            ],
            [
             0.9,
             "#4d9221"
            ],
            [
             1,
             "#276419"
            ]
           ],
           "sequential": [
            [
             0,
             "#0d0887"
            ],
            [
             0.1111111111111111,
             "#46039f"
            ],
            [
             0.2222222222222222,
             "#7201a8"
            ],
            [
             0.3333333333333333,
             "#9c179e"
            ],
            [
             0.4444444444444444,
             "#bd3786"
            ],
            [
             0.5555555555555556,
             "#d8576b"
            ],
            [
             0.6666666666666666,
             "#ed7953"
            ],
            [
             0.7777777777777778,
             "#fb9f3a"
            ],
            [
             0.8888888888888888,
             "#fdca26"
            ],
            [
             1,
             "#f0f921"
            ]
           ],
           "sequentialminus": [
            [
             0,
             "#0d0887"
            ],
            [
             0.1111111111111111,
             "#46039f"
            ],
            [
             0.2222222222222222,
             "#7201a8"
            ],
            [
             0.3333333333333333,
             "#9c179e"
            ],
            [
             0.4444444444444444,
             "#bd3786"
            ],
            [
             0.5555555555555556,
             "#d8576b"
            ],
            [
             0.6666666666666666,
             "#ed7953"
            ],
            [
             0.7777777777777778,
             "#fb9f3a"
            ],
            [
             0.8888888888888888,
             "#fdca26"
            ],
            [
             1,
             "#f0f921"
            ]
           ]
          },
          "colorway": [
           "#636efa",
           "#EF553B",
           "#00cc96",
           "#ab63fa",
           "#FFA15A",
           "#19d3f3",
           "#FF6692",
           "#B6E880",
           "#FF97FF",
           "#FECB52"
          ],
          "font": {
           "color": "#2a3f5f"
          },
          "geo": {
           "bgcolor": "white",
           "lakecolor": "white",
           "landcolor": "#E5ECF6",
           "showlakes": true,
           "showland": true,
           "subunitcolor": "white"
          },
          "hoverlabel": {
           "align": "left"
          },
          "hovermode": "closest",
          "mapbox": {
           "style": "light"
          },
          "paper_bgcolor": "white",
          "plot_bgcolor": "#E5ECF6",
          "polar": {
           "angularaxis": {
            "gridcolor": "white",
            "linecolor": "white",
            "ticks": ""
           },
           "bgcolor": "#E5ECF6",
           "radialaxis": {
            "gridcolor": "white",
            "linecolor": "white",
            "ticks": ""
           }
          },
          "scene": {
           "xaxis": {
            "backgroundcolor": "#E5ECF6",
            "gridcolor": "white",
            "gridwidth": 2,
            "linecolor": "white",
            "showbackground": true,
            "ticks": "",
            "zerolinecolor": "white"
           },
           "yaxis": {
            "backgroundcolor": "#E5ECF6",
            "gridcolor": "white",
            "gridwidth": 2,
            "linecolor": "white",
            "showbackground": true,
            "ticks": "",
            "zerolinecolor": "white"
           },
           "zaxis": {
            "backgroundcolor": "#E5ECF6",
            "gridcolor": "white",
            "gridwidth": 2,
            "linecolor": "white",
            "showbackground": true,
            "ticks": "",
            "zerolinecolor": "white"
           }
          },
          "shapedefaults": {
           "line": {
            "color": "#2a3f5f"
           }
          },
          "ternary": {
           "aaxis": {
            "gridcolor": "white",
            "linecolor": "white",
            "ticks": ""
           },
           "baxis": {
            "gridcolor": "white",
            "linecolor": "white",
            "ticks": ""
           },
           "bgcolor": "#E5ECF6",
           "caxis": {
            "gridcolor": "white",
            "linecolor": "white",
            "ticks": ""
           }
          },
          "title": {
           "x": 0.05
          },
          "xaxis": {
           "automargin": true,
           "gridcolor": "white",
           "linecolor": "white",
           "ticks": "",
           "title": {
            "standoff": 15
           },
           "zerolinecolor": "white",
           "zerolinewidth": 2
          },
          "yaxis": {
           "automargin": true,
           "gridcolor": "white",
           "linecolor": "white",
           "ticks": "",
           "title": {
            "standoff": 15
           },
           "zerolinecolor": "white",
           "zerolinewidth": 2
          }
         }
        },
        "title": {
         "text": "TSMixer: MSE: 0.0007 | RMSE: 0.0267 | MAE: 0.0209 | BIAS: 12.6678"
        },
        "width": 900,
        "xaxis": {
         "range": [
          "2014-02-01",
          "2014-02-08"
         ],
         "tickfont": {
          "size": 15
         },
         "title": {
          "font": {
           "size": 15
          },
          "text": "Day"
         },
         "type": "date"
        },
        "yaxis": {
         "tickfont": {
          "size": 15
         },
         "title": {
          "font": {
           "size": 15
          },
          "text": "Value"
         }
        }
       }
      }
     },
     "metadata": {},
     "output_type": "display_data"
    }
   ],
   "source": [
    "## Lasso\n",
    "model_name = ['TSMixer']\n",
    "model_display_name = ['TSMixer']\n",
    "\n",
    "fig = plot_forecast(tsmixer_data,\n",
    "                    forecast_columns=['predicted'],\n",
    "                    forecast_display_names=model_display_name, timestamp_col ='timestamp',\n",
    "                    target_col_name=\"actual\")\n",
    "fig = format_plot(fig)\n",
    "fig.update_layout(\n",
    "    title=f\"{model_name[0]}: \"\\\n",
    "          f\"MSE: {ts_aggtest_metrics.loc[ts_aggtest_metrics.algorithm==model_name[0]][['MSE']].iloc[0].item():.4f} | \"\\\n",
    "          f\"RMSE: {ts_aggtest_metrics.loc[ts_aggtest_metrics.algorithm==model_name[0]][['RMSE']].iloc[0].item():.4f} | \"\\\n",
    "          f\"MAE: {ts_aggtest_metrics.loc[ts_aggtest_metrics.algorithm==model_name[0]][['MAE']].iloc[0].item():.4f} | \"\\\n",
    "          f\"BIAS: {ts_aggtest_metrics.loc[ts_aggtest_metrics.algorithm==model_name[0]][['Forecast Bias']].iloc[0].item():.4f}\"\n",
    ")\n",
    "fig.update_xaxes(type=\"date\", range=[\"2014-02-01\", \"2014-02-08\"])\n",
    "fig.write_image(dst_img/\"tsmixer.png\")\n",
    "fig.show()"
   ]
  }
 ],
 "metadata": {
  "kernelspec": {
   "display_name": ".venv",
   "language": "python",
   "name": "python3"
  },
  "language_info": {
   "codemirror_mode": {
    "name": "ipython",
    "version": 3
   },
   "file_extension": ".py",
   "mimetype": "text/x-python",
   "name": "python",
   "nbconvert_exporter": "python",
   "pygments_lexer": "ipython3",
   "version": "3.12.3"
  }
 },
 "nbformat": 4,
 "nbformat_minor": 5
}
